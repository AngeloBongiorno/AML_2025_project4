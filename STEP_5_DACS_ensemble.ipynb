{
  "cells": [
    {
      "cell_type": "markdown",
      "metadata": {
        "id": "view-in-github",
        "colab_type": "text"
      },
      "source": [
        "<a href=\"https://colab.research.google.com/github/AngeloBongiorno/AML_2025_project4/blob/vito/STEP_5_DACS_ensemble.ipynb\" target=\"_parent\"><img src=\"https://colab.research.google.com/assets/colab-badge.svg\" alt=\"Open In Colab\"/></a>"
      ]
    },
    {
      "cell_type": "markdown",
      "metadata": {
        "id": "K7QJviwzoN5m"
      },
      "source": [
        "## Install Dependencies"
      ]
    },
    {
      "cell_type": "markdown",
      "metadata": {
        "id": "rHpwU5g8s-Pt"
      },
      "source": [
        "## Upload .zip files"
      ]
    },
    {
      "cell_type": "markdown",
      "metadata": {
        "id": "O2_aVBiH46K3"
      },
      "source": [
        "For this step you must have the zip files in your Drive into a folder called `AML_project`"
      ]
    },
    {
      "cell_type": "code",
      "execution_count": 1,
      "metadata": {
        "colab": {
          "base_uri": "https://localhost:8080/"
        },
        "collapsed": true,
        "id": "xxVbeep6Rlnb",
        "outputId": "23d7d257-9719-45cb-f47a-2054c98812a4"
      },
      "outputs": [
        {
          "output_type": "stream",
          "name": "stdout",
          "text": [
            "Collecting torchmetrics\n",
            "  Downloading torchmetrics-1.7.1-py3-none-any.whl.metadata (21 kB)\n",
            "Requirement already satisfied: numpy>1.20.0 in /usr/local/lib/python3.11/dist-packages (from torchmetrics) (2.0.2)\n",
            "Requirement already satisfied: packaging>17.1 in /usr/local/lib/python3.11/dist-packages (from torchmetrics) (24.2)\n",
            "Requirement already satisfied: torch>=2.0.0 in /usr/local/lib/python3.11/dist-packages (from torchmetrics) (2.6.0+cu124)\n",
            "Collecting lightning-utilities>=0.8.0 (from torchmetrics)\n",
            "  Downloading lightning_utilities-0.14.3-py3-none-any.whl.metadata (5.6 kB)\n",
            "Requirement already satisfied: setuptools in /usr/local/lib/python3.11/dist-packages (from lightning-utilities>=0.8.0->torchmetrics) (75.2.0)\n",
            "Requirement already satisfied: typing_extensions in /usr/local/lib/python3.11/dist-packages (from lightning-utilities>=0.8.0->torchmetrics) (4.13.2)\n",
            "Requirement already satisfied: filelock in /usr/local/lib/python3.11/dist-packages (from torch>=2.0.0->torchmetrics) (3.18.0)\n",
            "Requirement already satisfied: networkx in /usr/local/lib/python3.11/dist-packages (from torch>=2.0.0->torchmetrics) (3.4.2)\n",
            "Requirement already satisfied: jinja2 in /usr/local/lib/python3.11/dist-packages (from torch>=2.0.0->torchmetrics) (3.1.6)\n",
            "Requirement already satisfied: fsspec in /usr/local/lib/python3.11/dist-packages (from torch>=2.0.0->torchmetrics) (2025.3.2)\n",
            "Collecting nvidia-cuda-nvrtc-cu12==12.4.127 (from torch>=2.0.0->torchmetrics)\n",
            "  Downloading nvidia_cuda_nvrtc_cu12-12.4.127-py3-none-manylinux2014_x86_64.whl.metadata (1.5 kB)\n",
            "Collecting nvidia-cuda-runtime-cu12==12.4.127 (from torch>=2.0.0->torchmetrics)\n",
            "  Downloading nvidia_cuda_runtime_cu12-12.4.127-py3-none-manylinux2014_x86_64.whl.metadata (1.5 kB)\n",
            "Collecting nvidia-cuda-cupti-cu12==12.4.127 (from torch>=2.0.0->torchmetrics)\n",
            "  Downloading nvidia_cuda_cupti_cu12-12.4.127-py3-none-manylinux2014_x86_64.whl.metadata (1.6 kB)\n",
            "Collecting nvidia-cudnn-cu12==9.1.0.70 (from torch>=2.0.0->torchmetrics)\n",
            "  Downloading nvidia_cudnn_cu12-9.1.0.70-py3-none-manylinux2014_x86_64.whl.metadata (1.6 kB)\n",
            "Collecting nvidia-cublas-cu12==12.4.5.8 (from torch>=2.0.0->torchmetrics)\n",
            "  Downloading nvidia_cublas_cu12-12.4.5.8-py3-none-manylinux2014_x86_64.whl.metadata (1.5 kB)\n",
            "Collecting nvidia-cufft-cu12==11.2.1.3 (from torch>=2.0.0->torchmetrics)\n",
            "  Downloading nvidia_cufft_cu12-11.2.1.3-py3-none-manylinux2014_x86_64.whl.metadata (1.5 kB)\n",
            "Collecting nvidia-curand-cu12==10.3.5.147 (from torch>=2.0.0->torchmetrics)\n",
            "  Downloading nvidia_curand_cu12-10.3.5.147-py3-none-manylinux2014_x86_64.whl.metadata (1.5 kB)\n",
            "Collecting nvidia-cusolver-cu12==11.6.1.9 (from torch>=2.0.0->torchmetrics)\n",
            "  Downloading nvidia_cusolver_cu12-11.6.1.9-py3-none-manylinux2014_x86_64.whl.metadata (1.6 kB)\n",
            "Collecting nvidia-cusparse-cu12==12.3.1.170 (from torch>=2.0.0->torchmetrics)\n",
            "  Downloading nvidia_cusparse_cu12-12.3.1.170-py3-none-manylinux2014_x86_64.whl.metadata (1.6 kB)\n",
            "Requirement already satisfied: nvidia-cusparselt-cu12==0.6.2 in /usr/local/lib/python3.11/dist-packages (from torch>=2.0.0->torchmetrics) (0.6.2)\n",
            "Requirement already satisfied: nvidia-nccl-cu12==2.21.5 in /usr/local/lib/python3.11/dist-packages (from torch>=2.0.0->torchmetrics) (2.21.5)\n",
            "Requirement already satisfied: nvidia-nvtx-cu12==12.4.127 in /usr/local/lib/python3.11/dist-packages (from torch>=2.0.0->torchmetrics) (12.4.127)\n",
            "Collecting nvidia-nvjitlink-cu12==12.4.127 (from torch>=2.0.0->torchmetrics)\n",
            "  Downloading nvidia_nvjitlink_cu12-12.4.127-py3-none-manylinux2014_x86_64.whl.metadata (1.5 kB)\n",
            "Requirement already satisfied: triton==3.2.0 in /usr/local/lib/python3.11/dist-packages (from torch>=2.0.0->torchmetrics) (3.2.0)\n",
            "Requirement already satisfied: sympy==1.13.1 in /usr/local/lib/python3.11/dist-packages (from torch>=2.0.0->torchmetrics) (1.13.1)\n",
            "Requirement already satisfied: mpmath<1.4,>=1.1.0 in /usr/local/lib/python3.11/dist-packages (from sympy==1.13.1->torch>=2.0.0->torchmetrics) (1.3.0)\n",
            "Requirement already satisfied: MarkupSafe>=2.0 in /usr/local/lib/python3.11/dist-packages (from jinja2->torch>=2.0.0->torchmetrics) (3.0.2)\n",
            "Downloading torchmetrics-1.7.1-py3-none-any.whl (961 kB)\n",
            "\u001b[2K   \u001b[90m━━━━━━━━━━━━━━━━━━━━━━━━━━━━━━━━━━━━━━━━\u001b[0m \u001b[32m961.5/961.5 kB\u001b[0m \u001b[31m48.1 MB/s\u001b[0m eta \u001b[36m0:00:00\u001b[0m\n",
            "\u001b[?25hDownloading lightning_utilities-0.14.3-py3-none-any.whl (28 kB)\n",
            "Downloading nvidia_cublas_cu12-12.4.5.8-py3-none-manylinux2014_x86_64.whl (363.4 MB)\n",
            "\u001b[2K   \u001b[90m━━━━━━━━━━━━━━━━━━━━━━━━━━━━━━━━━━━━━━━━\u001b[0m \u001b[32m363.4/363.4 MB\u001b[0m \u001b[31m3.4 MB/s\u001b[0m eta \u001b[36m0:00:00\u001b[0m\n",
            "\u001b[?25hDownloading nvidia_cuda_cupti_cu12-12.4.127-py3-none-manylinux2014_x86_64.whl (13.8 MB)\n",
            "\u001b[2K   \u001b[90m━━━━━━━━━━━━━━━━━━━━━━━━━━━━━━━━━━━━━━━━\u001b[0m \u001b[32m13.8/13.8 MB\u001b[0m \u001b[31m93.4 MB/s\u001b[0m eta \u001b[36m0:00:00\u001b[0m\n",
            "\u001b[?25hDownloading nvidia_cuda_nvrtc_cu12-12.4.127-py3-none-manylinux2014_x86_64.whl (24.6 MB)\n",
            "\u001b[2K   \u001b[90m━━━━━━━━━━━━━━━━━━━━━━━━━━━━━━━━━━━━━━━━\u001b[0m \u001b[32m24.6/24.6 MB\u001b[0m \u001b[31m84.8 MB/s\u001b[0m eta \u001b[36m0:00:00\u001b[0m\n",
            "\u001b[?25hDownloading nvidia_cuda_runtime_cu12-12.4.127-py3-none-manylinux2014_x86_64.whl (883 kB)\n",
            "\u001b[2K   \u001b[90m━━━━━━━━━━━━━━━━━━━━━━━━━━━━━━━━━━━━━━━━\u001b[0m \u001b[32m883.7/883.7 kB\u001b[0m \u001b[31m44.1 MB/s\u001b[0m eta \u001b[36m0:00:00\u001b[0m\n",
            "\u001b[?25hDownloading nvidia_cudnn_cu12-9.1.0.70-py3-none-manylinux2014_x86_64.whl (664.8 MB)\n",
            "\u001b[2K   \u001b[90m━━━━━━━━━━━━━━━━━━━━━━━━━━━━━━━━━━━━━━━━\u001b[0m \u001b[32m664.8/664.8 MB\u001b[0m \u001b[31m2.0 MB/s\u001b[0m eta \u001b[36m0:00:00\u001b[0m\n",
            "\u001b[?25hDownloading nvidia_cufft_cu12-11.2.1.3-py3-none-manylinux2014_x86_64.whl (211.5 MB)\n",
            "\u001b[2K   \u001b[90m━━━━━━━━━━━━━━━━━━━━━━━━━━━━━━━━━━━━━━━━\u001b[0m \u001b[32m211.5/211.5 MB\u001b[0m \u001b[31m4.8 MB/s\u001b[0m eta \u001b[36m0:00:00\u001b[0m\n",
            "\u001b[?25hDownloading nvidia_curand_cu12-10.3.5.147-py3-none-manylinux2014_x86_64.whl (56.3 MB)\n",
            "\u001b[2K   \u001b[90m━━━━━━━━━━━━━━━━━━━━━━━━━━━━━━━━━━━━━━━━\u001b[0m \u001b[32m56.3/56.3 MB\u001b[0m \u001b[31m43.5 MB/s\u001b[0m eta \u001b[36m0:00:00\u001b[0m\n",
            "\u001b[?25hDownloading nvidia_cusolver_cu12-11.6.1.9-py3-none-manylinux2014_x86_64.whl (127.9 MB)\n",
            "\u001b[2K   \u001b[90m━━━━━━━━━━━━━━━━━━━━━━━━━━━━━━━━━━━━━━━━\u001b[0m \u001b[32m127.9/127.9 MB\u001b[0m \u001b[31m20.0 MB/s\u001b[0m eta \u001b[36m0:00:00\u001b[0m\n",
            "\u001b[?25hDownloading nvidia_cusparse_cu12-12.3.1.170-py3-none-manylinux2014_x86_64.whl (207.5 MB)\n",
            "\u001b[2K   \u001b[90m━━━━━━━━━━━━━━━━━━━━━━━━━━━━━━━━━━━━━━━━\u001b[0m \u001b[32m207.5/207.5 MB\u001b[0m \u001b[31m4.8 MB/s\u001b[0m eta \u001b[36m0:00:00\u001b[0m\n",
            "\u001b[?25hDownloading nvidia_nvjitlink_cu12-12.4.127-py3-none-manylinux2014_x86_64.whl (21.1 MB)\n",
            "\u001b[2K   \u001b[90m━━━━━━━━━━━━━━━━━━━━━━━━━━━━━━━━━━━━━━━━\u001b[0m \u001b[32m21.1/21.1 MB\u001b[0m \u001b[31m101.9 MB/s\u001b[0m eta \u001b[36m0:00:00\u001b[0m\n",
            "\u001b[?25hInstalling collected packages: nvidia-nvjitlink-cu12, nvidia-curand-cu12, nvidia-cufft-cu12, nvidia-cuda-runtime-cu12, nvidia-cuda-nvrtc-cu12, nvidia-cuda-cupti-cu12, nvidia-cublas-cu12, lightning-utilities, nvidia-cusparse-cu12, nvidia-cudnn-cu12, nvidia-cusolver-cu12, torchmetrics\n",
            "  Attempting uninstall: nvidia-nvjitlink-cu12\n",
            "    Found existing installation: nvidia-nvjitlink-cu12 12.5.82\n",
            "    Uninstalling nvidia-nvjitlink-cu12-12.5.82:\n",
            "      Successfully uninstalled nvidia-nvjitlink-cu12-12.5.82\n",
            "  Attempting uninstall: nvidia-curand-cu12\n",
            "    Found existing installation: nvidia-curand-cu12 10.3.6.82\n",
            "    Uninstalling nvidia-curand-cu12-10.3.6.82:\n",
            "      Successfully uninstalled nvidia-curand-cu12-10.3.6.82\n",
            "  Attempting uninstall: nvidia-cufft-cu12\n",
            "    Found existing installation: nvidia-cufft-cu12 11.2.3.61\n",
            "    Uninstalling nvidia-cufft-cu12-11.2.3.61:\n",
            "      Successfully uninstalled nvidia-cufft-cu12-11.2.3.61\n",
            "  Attempting uninstall: nvidia-cuda-runtime-cu12\n",
            "    Found existing installation: nvidia-cuda-runtime-cu12 12.5.82\n",
            "    Uninstalling nvidia-cuda-runtime-cu12-12.5.82:\n",
            "      Successfully uninstalled nvidia-cuda-runtime-cu12-12.5.82\n",
            "  Attempting uninstall: nvidia-cuda-nvrtc-cu12\n",
            "    Found existing installation: nvidia-cuda-nvrtc-cu12 12.5.82\n",
            "    Uninstalling nvidia-cuda-nvrtc-cu12-12.5.82:\n",
            "      Successfully uninstalled nvidia-cuda-nvrtc-cu12-12.5.82\n",
            "  Attempting uninstall: nvidia-cuda-cupti-cu12\n",
            "    Found existing installation: nvidia-cuda-cupti-cu12 12.5.82\n",
            "    Uninstalling nvidia-cuda-cupti-cu12-12.5.82:\n",
            "      Successfully uninstalled nvidia-cuda-cupti-cu12-12.5.82\n",
            "  Attempting uninstall: nvidia-cublas-cu12\n",
            "    Found existing installation: nvidia-cublas-cu12 12.5.3.2\n",
            "    Uninstalling nvidia-cublas-cu12-12.5.3.2:\n",
            "      Successfully uninstalled nvidia-cublas-cu12-12.5.3.2\n",
            "  Attempting uninstall: nvidia-cusparse-cu12\n",
            "    Found existing installation: nvidia-cusparse-cu12 12.5.1.3\n",
            "    Uninstalling nvidia-cusparse-cu12-12.5.1.3:\n",
            "      Successfully uninstalled nvidia-cusparse-cu12-12.5.1.3\n",
            "  Attempting uninstall: nvidia-cudnn-cu12\n",
            "    Found existing installation: nvidia-cudnn-cu12 9.3.0.75\n",
            "    Uninstalling nvidia-cudnn-cu12-9.3.0.75:\n",
            "      Successfully uninstalled nvidia-cudnn-cu12-9.3.0.75\n",
            "  Attempting uninstall: nvidia-cusolver-cu12\n",
            "    Found existing installation: nvidia-cusolver-cu12 11.6.3.83\n",
            "    Uninstalling nvidia-cusolver-cu12-11.6.3.83:\n",
            "      Successfully uninstalled nvidia-cusolver-cu12-11.6.3.83\n",
            "Successfully installed lightning-utilities-0.14.3 nvidia-cublas-cu12-12.4.5.8 nvidia-cuda-cupti-cu12-12.4.127 nvidia-cuda-nvrtc-cu12-12.4.127 nvidia-cuda-runtime-cu12-12.4.127 nvidia-cudnn-cu12-9.1.0.70 nvidia-cufft-cu12-11.2.1.3 nvidia-curand-cu12-10.3.5.147 nvidia-cusolver-cu12-11.6.1.9 nvidia-cusparse-cu12-12.3.1.170 nvidia-nvjitlink-cu12-12.4.127 torchmetrics-1.7.1\n",
            "Collecting fvcore\n",
            "  Downloading fvcore-0.1.5.post20221221.tar.gz (50 kB)\n",
            "\u001b[2K     \u001b[90m━━━━━━━━━━━━━━━━━━━━━━━━━━━━━━━━━━━━━━━━\u001b[0m \u001b[32m50.2/50.2 kB\u001b[0m \u001b[31m4.9 MB/s\u001b[0m eta \u001b[36m0:00:00\u001b[0m\n",
            "\u001b[?25h  Preparing metadata (setup.py) ... \u001b[?25l\u001b[?25hdone\n",
            "Requirement already satisfied: numpy in /usr/local/lib/python3.11/dist-packages (from fvcore) (2.0.2)\n",
            "Collecting yacs>=0.1.6 (from fvcore)\n",
            "  Downloading yacs-0.1.8-py3-none-any.whl.metadata (639 bytes)\n",
            "Requirement already satisfied: pyyaml>=5.1 in /usr/local/lib/python3.11/dist-packages (from fvcore) (6.0.2)\n",
            "Requirement already satisfied: tqdm in /usr/local/lib/python3.11/dist-packages (from fvcore) (4.67.1)\n",
            "Requirement already satisfied: termcolor>=1.1 in /usr/local/lib/python3.11/dist-packages (from fvcore) (3.1.0)\n",
            "Requirement already satisfied: Pillow in /usr/local/lib/python3.11/dist-packages (from fvcore) (11.2.1)\n",
            "Requirement already satisfied: tabulate in /usr/local/lib/python3.11/dist-packages (from fvcore) (0.9.0)\n",
            "Collecting iopath>=0.1.7 (from fvcore)\n",
            "  Downloading iopath-0.1.10.tar.gz (42 kB)\n",
            "\u001b[2K     \u001b[90m━━━━━━━━━━━━━━━━━━━━━━━━━━━━━━━━━━━━━━━━\u001b[0m \u001b[32m42.2/42.2 kB\u001b[0m \u001b[31m2.6 MB/s\u001b[0m eta \u001b[36m0:00:00\u001b[0m\n",
            "\u001b[?25h  Preparing metadata (setup.py) ... \u001b[?25l\u001b[?25hdone\n",
            "Requirement already satisfied: typing_extensions in /usr/local/lib/python3.11/dist-packages (from iopath>=0.1.7->fvcore) (4.13.2)\n",
            "Collecting portalocker (from iopath>=0.1.7->fvcore)\n",
            "  Downloading portalocker-3.1.1-py3-none-any.whl.metadata (8.6 kB)\n",
            "Downloading yacs-0.1.8-py3-none-any.whl (14 kB)\n",
            "Downloading portalocker-3.1.1-py3-none-any.whl (19 kB)\n",
            "Building wheels for collected packages: fvcore, iopath\n",
            "  Building wheel for fvcore (setup.py) ... \u001b[?25l\u001b[?25hdone\n",
            "  Created wheel for fvcore: filename=fvcore-0.1.5.post20221221-py3-none-any.whl size=61397 sha256=e95d484bfa906bc0d3ddcc8e8ae616ff36442ac2867616b8774cf092ea2d12e3\n",
            "  Stored in directory: /root/.cache/pip/wheels/65/71/95/3b8fde5c65c6e4a806e0867c1651dcc71a1cb2f3430e8f355f\n",
            "  Building wheel for iopath (setup.py) ... \u001b[?25l\u001b[?25hdone\n",
            "  Created wheel for iopath: filename=iopath-0.1.10-py3-none-any.whl size=31527 sha256=baf14a38e076560e521e00931d82a58f9bd453b554054bdb06d2bfb7b88a7ff8\n",
            "  Stored in directory: /root/.cache/pip/wheels/ba/5e/16/6117f8fe7e9c0c161a795e10d94645ebcf301ccbd01f66d8ec\n",
            "Successfully built fvcore iopath\n",
            "Installing collected packages: yacs, portalocker, iopath, fvcore\n",
            "Successfully installed fvcore-0.1.5.post20221221 iopath-0.1.10 portalocker-3.1.1 yacs-0.1.8\n"
          ]
        }
      ],
      "source": [
        "!pip install torchmetrics\n",
        "!pip install fvcore"
      ]
    },
    {
      "cell_type": "code",
      "execution_count": 2,
      "metadata": {
        "id": "z2LFD5EkeGs3",
        "colab": {
          "base_uri": "https://localhost:8080/"
        },
        "outputId": "6d490123-6d13-489d-eee3-b8f6b23aca32"
      },
      "outputs": [
        {
          "output_type": "stream",
          "name": "stdout",
          "text": [
            "Cloning into 'AML_2025_project4'...\n",
            "remote: Enumerating objects: 124, done.\u001b[K\n",
            "remote: Counting objects: 100% (36/36), done.\u001b[K\n",
            "remote: Compressing objects: 100% (30/30), done.\u001b[K\n",
            "remote: Total 124 (delta 18), reused 6 (delta 6), pack-reused 88 (from 1)\u001b[K\n",
            "Receiving objects: 100% (124/124), 21.14 MiB | 17.78 MiB/s, done.\n",
            "Resolving deltas: 100% (45/45), done.\n",
            "Mounted at /content/drive\n"
          ]
        }
      ],
      "source": [
        "from google.colab import drive\n",
        "import os\n",
        "\n",
        "!git clone -b angelo_albumentations --single-branch https://github.com/AngeloBongiorno/AML_2025_project4.git\n",
        "\n",
        "!cp AML_2025_project4/utils.py .\n",
        "\n",
        "drive.mount('/content/drive')"
      ]
    },
    {
      "cell_type": "code",
      "execution_count": 3,
      "metadata": {
        "id": "CvdkrFwFI0Qs",
        "colab": {
          "base_uri": "https://localhost:8080/"
        },
        "outputId": "b364cf6f-5687-45ac-d53c-4a0d1dbd1757"
      },
      "outputs": [
        {
          "output_type": "execute_result",
          "data": {
            "text/plain": [
              "<module 'utils' from '/content/utils.py'>"
            ]
          },
          "metadata": {},
          "execution_count": 3
        }
      ],
      "source": [
        "import importlib\n",
        "import utils  # Replace with the actual module name\n",
        "\n",
        "importlib.reload(utils)"
      ]
    },
    {
      "cell_type": "code",
      "execution_count": 4,
      "metadata": {
        "id": "laEb8KOytCpo",
        "colab": {
          "base_uri": "https://localhost:8080/"
        },
        "outputId": "5001d46e-f6de-4d30-aa9d-099cbe5c2dfa"
      },
      "outputs": [
        {
          "output_type": "stream",
          "name": "stdout",
          "text": [
            "Extracting training...\n",
            "training extracted!\n",
            "Extracting validation...\n",
            "validation extracted!\n",
            "Extraction check completed!\n",
            "{'training_urban': '/content/dataset/Train/Urban', 'training_rural': '/content/dataset/Train/Rural', 'validation_urban': '/content/dataset/Val/Urban', 'validation_rural': '/content/dataset/Val/Rural'}\n"
          ]
        }
      ],
      "source": [
        "import tqdm\n",
        "\n",
        "from utils import get_loveDA\n",
        "\n",
        "paths = get_loveDA(verbose=True)\n",
        "print(paths)\n",
        "\n",
        "TRAINING_PATH_URBAN = paths[\"training_urban\"]\n",
        "TRAINING_PATH_RURAL = paths[\"training_rural\"]\n",
        "VAL_PATH_URBAN = paths[\"validation_urban\"]\n",
        "VAL_PATH_RURAL = paths[\"validation_rural\"]"
      ]
    },
    {
      "cell_type": "code",
      "source": [
        "SEM_CLASSES = [\n",
        "    'background',\n",
        "    'building',\n",
        "    'road',\n",
        "    'water',\n",
        "    'barren',\n",
        "    'forest',\n",
        "    'agriculture'\n",
        "]\n",
        "\n",
        "NUM_CLASSES = len(SEM_CLASSES)\n",
        "\n",
        "sem_class_to_idx = {cls: idx for (idx, cls) in enumerate(SEM_CLASSES)}\n",
        "\n",
        "IGNORE_INDEX = -1\n",
        "\n",
        "RESIZE = 512\n",
        "\n",
        "BATCH_SIZE = 16\n",
        "\n",
        "EPOCHS = 20\n",
        "\n",
        "SEED = 42\n",
        "\n",
        "STEP_SIZE = 21\n",
        "\n",
        "GAMMA = 0.5\n",
        "\n",
        "LR = 0.000329658544839708\n",
        "#LR = 0.00098\n",
        "\n",
        "P = 0.5 # probabilità augmentation\n",
        "\n",
        "ALPHA_TEACHER = 0.99\n",
        "\n",
        "THRESHOLD = 0.9\n",
        "\n",
        "MOMENTUM = 0.85\n",
        "\n",
        "LOSS_TYPE = \"ce\" # \"ohem\", \"ce\"\n",
        "\n",
        "TYPE_WEIGHT = \"inverse\" # median-frequency | inverse | log\n",
        "\n",
        "PIXEL_WEIGHT = \"threshold_uniform\" # \"threshold_uniform\", \"threshold\"\n",
        "\n",
        "SHOW_IMG = False\n"
      ],
      "metadata": {
        "id": "VJdiPeF5idkI"
      },
      "execution_count": 5,
      "outputs": []
    },
    {
      "cell_type": "markdown",
      "source": [
        "# Define and instantiate"
      ],
      "metadata": {
        "id": "dAYUGwGYiFGi"
      }
    },
    {
      "cell_type": "markdown",
      "metadata": {
        "id": "UrjECeMs7Sc5"
      },
      "source": [
        "### Define PIDnet"
      ]
    },
    {
      "cell_type": "code",
      "execution_count": 6,
      "metadata": {
        "id": "QWTXrB6FZo_G"
      },
      "outputs": [],
      "source": [
        "import torch\n",
        "import torch.nn as nn\n",
        "import torch.nn.functional as F\n",
        "\n",
        "BatchNorm2d = nn.BatchNorm2d\n",
        "bn_mom = 0.1\n",
        "algc = False\n",
        "\n",
        "class BasicBlock(nn.Module):\n",
        "    expansion = 1\n",
        "\n",
        "    def __init__(self, inplanes, planes, stride=1, downsample=None, no_relu=False):\n",
        "        super(BasicBlock, self).__init__()\n",
        "        self.conv1 = nn.Conv2d(inplanes, planes, kernel_size=3, stride=stride,\n",
        "                               padding=1, bias=False)\n",
        "        self.bn1 = BatchNorm2d(planes, momentum=bn_mom)\n",
        "        self.relu = nn.ReLU(inplace=True)\n",
        "        self.conv2 = nn.Conv2d(planes, planes, kernel_size=3,\n",
        "                               padding=1, bias=False)\n",
        "        self.bn2 = BatchNorm2d(planes, momentum=bn_mom)\n",
        "        self.downsample = downsample\n",
        "        self.stride = stride\n",
        "        self.no_relu = no_relu\n",
        "\n",
        "    def forward(self, x):\n",
        "        residual = x\n",
        "\n",
        "        out = self.conv1(x)\n",
        "        out = self.bn1(out)\n",
        "        out = self.relu(out)\n",
        "\n",
        "        out = self.conv2(out)\n",
        "        out = self.bn2(out)\n",
        "\n",
        "        if self.downsample is not None:\n",
        "            residual = self.downsample(x)\n",
        "\n",
        "        out += residual\n",
        "\n",
        "        if self.no_relu:\n",
        "            return out\n",
        "        else:\n",
        "            return self.relu(out)\n",
        "\n",
        "class Bottleneck(nn.Module):\n",
        "    expansion = 2\n",
        "\n",
        "    def __init__(self, inplanes, planes, stride=1, downsample=None, no_relu=True):\n",
        "        super(Bottleneck, self).__init__()\n",
        "        self.conv1 = nn.Conv2d(inplanes, planes, kernel_size=1, bias=False)\n",
        "        self.bn1 = BatchNorm2d(planes, momentum=bn_mom)\n",
        "        self.conv2 = nn.Conv2d(planes, planes, kernel_size=3, stride=stride,\n",
        "                               padding=1, bias=False)\n",
        "        self.bn2 = BatchNorm2d(planes, momentum=bn_mom)\n",
        "        self.conv3 = nn.Conv2d(planes, planes * self.expansion, kernel_size=1,\n",
        "                               bias=False)\n",
        "        self.bn3 = BatchNorm2d(planes * self.expansion, momentum=bn_mom)\n",
        "        self.relu = nn.ReLU(inplace=True)\n",
        "        self.downsample = downsample\n",
        "        self.stride = stride\n",
        "        self.no_relu = no_relu\n",
        "\n",
        "    def forward(self, x):\n",
        "        residual = x\n",
        "\n",
        "        out = self.conv1(x)\n",
        "        out = self.bn1(out)\n",
        "        out = self.relu(out)\n",
        "\n",
        "        out = self.conv2(out)\n",
        "        out = self.bn2(out)\n",
        "        out = self.relu(out)\n",
        "\n",
        "        out = self.conv3(out)\n",
        "        out = self.bn3(out)\n",
        "\n",
        "        if self.downsample is not None:\n",
        "            residual = self.downsample(x)\n",
        "\n",
        "        out += residual\n",
        "        if self.no_relu:\n",
        "            return out\n",
        "        else:\n",
        "            return self.relu(out)\n",
        "\n",
        "class segmenthead(nn.Module):\n",
        "\n",
        "    def __init__(self, inplanes, interplanes, outplanes, scale_factor=None):\n",
        "        super(segmenthead, self).__init__()\n",
        "        self.bn1 = BatchNorm2d(inplanes, momentum=bn_mom)\n",
        "        self.conv1 = nn.Conv2d(inplanes, interplanes, kernel_size=3, padding=1, bias=False)\n",
        "        self.bn2 = BatchNorm2d(interplanes, momentum=bn_mom)\n",
        "        self.relu = nn.ReLU(inplace=True)\n",
        "        self.conv2 = nn.Conv2d(interplanes, outplanes, kernel_size=1, padding=0, bias=True)\n",
        "        self.scale_factor = scale_factor\n",
        "\n",
        "    def forward(self, x):\n",
        "\n",
        "        x = self.conv1(self.relu(self.bn1(x)))\n",
        "        out = self.conv2(self.relu(self.bn2(x)))\n",
        "\n",
        "        if self.scale_factor is not None:\n",
        "            height = x.shape[-2] * self.scale_factor\n",
        "            width = x.shape[-1] * self.scale_factor\n",
        "            out = F.interpolate(out,\n",
        "                        size=[height, width],\n",
        "                        mode='bilinear', align_corners=algc)\n",
        "\n",
        "        return out\n",
        "\n",
        "class DAPPM(nn.Module):\n",
        "    def __init__(self, inplanes, branch_planes, outplanes, BatchNorm=nn.BatchNorm2d):\n",
        "        super(DAPPM, self).__init__()\n",
        "        bn_mom = 0.1\n",
        "        self.scale1 = nn.Sequential(nn.AvgPool2d(kernel_size=5, stride=2, padding=2),\n",
        "                                    BatchNorm(inplanes, momentum=bn_mom),\n",
        "                                    nn.ReLU(inplace=True),\n",
        "                                    nn.Conv2d(inplanes, branch_planes, kernel_size=1, bias=False),\n",
        "                                    )\n",
        "        self.scale2 = nn.Sequential(nn.AvgPool2d(kernel_size=9, stride=4, padding=4),\n",
        "                                    BatchNorm(inplanes, momentum=bn_mom),\n",
        "                                    nn.ReLU(inplace=True),\n",
        "                                    nn.Conv2d(inplanes, branch_planes, kernel_size=1, bias=False),\n",
        "                                    )\n",
        "        self.scale3 = nn.Sequential(nn.AvgPool2d(kernel_size=17, stride=8, padding=8),\n",
        "                                    BatchNorm(inplanes, momentum=bn_mom),\n",
        "                                    nn.ReLU(inplace=True),\n",
        "                                    nn.Conv2d(inplanes, branch_planes, kernel_size=1, bias=False),\n",
        "                                    )\n",
        "        self.scale4 = nn.Sequential(nn.AdaptiveAvgPool2d((1, 1)),\n",
        "                                    BatchNorm(inplanes, momentum=bn_mom),\n",
        "                                    nn.ReLU(inplace=True),\n",
        "                                    nn.Conv2d(inplanes, branch_planes, kernel_size=1, bias=False),\n",
        "                                    )\n",
        "        self.scale0 = nn.Sequential(\n",
        "                                    BatchNorm(inplanes, momentum=bn_mom),\n",
        "                                    nn.ReLU(inplace=True),\n",
        "                                    nn.Conv2d(inplanes, branch_planes, kernel_size=1, bias=False),\n",
        "                                    )\n",
        "        self.process1 = nn.Sequential(\n",
        "                                    BatchNorm(branch_planes, momentum=bn_mom),\n",
        "                                    nn.ReLU(inplace=True),\n",
        "                                    nn.Conv2d(branch_planes, branch_planes, kernel_size=3, padding=1, bias=False),\n",
        "                                    )\n",
        "        self.process2 = nn.Sequential(\n",
        "                                    BatchNorm(branch_planes, momentum=bn_mom),\n",
        "                                    nn.ReLU(inplace=True),\n",
        "                                    nn.Conv2d(branch_planes, branch_planes, kernel_size=3, padding=1, bias=False),\n",
        "                                    )\n",
        "        self.process3 = nn.Sequential(\n",
        "                                    BatchNorm(branch_planes, momentum=bn_mom),\n",
        "                                    nn.ReLU(inplace=True),\n",
        "                                    nn.Conv2d(branch_planes, branch_planes, kernel_size=3, padding=1, bias=False),\n",
        "                                    )\n",
        "        self.process4 = nn.Sequential(\n",
        "                                    BatchNorm(branch_planes, momentum=bn_mom),\n",
        "                                    nn.ReLU(inplace=True),\n",
        "                                    nn.Conv2d(branch_planes, branch_planes, kernel_size=3, padding=1, bias=False),\n",
        "                                    )\n",
        "        self.compression = nn.Sequential(\n",
        "                                    BatchNorm(branch_planes * 5, momentum=bn_mom),\n",
        "                                    nn.ReLU(inplace=True),\n",
        "                                    nn.Conv2d(branch_planes * 5, outplanes, kernel_size=1, bias=False),\n",
        "                                    )\n",
        "        self.shortcut = nn.Sequential(\n",
        "                                    BatchNorm(inplanes, momentum=bn_mom),\n",
        "                                    nn.ReLU(inplace=True),\n",
        "                                    nn.Conv2d(inplanes, outplanes, kernel_size=1, bias=False),\n",
        "                                    )\n",
        "\n",
        "    def forward(self, x):\n",
        "        width = x.shape[-1]\n",
        "        height = x.shape[-2]\n",
        "        x_list = []\n",
        "\n",
        "        x_list.append(self.scale0(x))\n",
        "        x_list.append(self.process1((F.interpolate(self.scale1(x),\n",
        "                        size=[height, width],\n",
        "                        mode='bilinear', align_corners=algc)+x_list[0])))\n",
        "        x_list.append((self.process2((F.interpolate(self.scale2(x),\n",
        "                        size=[height, width],\n",
        "                        mode='bilinear', align_corners=algc)+x_list[1]))))\n",
        "        x_list.append(self.process3((F.interpolate(self.scale3(x),\n",
        "                        size=[height, width],\n",
        "                        mode='bilinear', align_corners=algc)+x_list[2])))\n",
        "        x_list.append(self.process4((F.interpolate(self.scale4(x),\n",
        "                        size=[height, width],\n",
        "                        mode='bilinear', align_corners=algc)+x_list[3])))\n",
        "\n",
        "        out = self.compression(torch.cat(x_list, 1)) + self.shortcut(x)\n",
        "        return out\n",
        "\n",
        "class PAPPM(nn.Module):\n",
        "    def __init__(self, inplanes, branch_planes, outplanes, BatchNorm=nn.BatchNorm2d):\n",
        "        super(PAPPM, self).__init__()\n",
        "        bn_mom = 0.1\n",
        "        self.scale1 = nn.Sequential(nn.AvgPool2d(kernel_size=5, stride=2, padding=2),\n",
        "                                    BatchNorm(inplanes, momentum=bn_mom),\n",
        "                                    nn.ReLU(inplace=True),\n",
        "                                    nn.Conv2d(inplanes, branch_planes, kernel_size=1, bias=False),\n",
        "                                    )\n",
        "        self.scale2 = nn.Sequential(nn.AvgPool2d(kernel_size=9, stride=4, padding=4),\n",
        "                                    BatchNorm(inplanes, momentum=bn_mom),\n",
        "                                    nn.ReLU(inplace=True),\n",
        "                                    nn.Conv2d(inplanes, branch_planes, kernel_size=1, bias=False),\n",
        "                                    )\n",
        "        self.scale3 = nn.Sequential(nn.AvgPool2d(kernel_size=17, stride=8, padding=8),\n",
        "                                    BatchNorm(inplanes, momentum=bn_mom),\n",
        "                                    nn.ReLU(inplace=True),\n",
        "                                    nn.Conv2d(inplanes, branch_planes, kernel_size=1, bias=False),\n",
        "                                    )\n",
        "        self.scale4 = nn.Sequential(nn.AdaptiveAvgPool2d((1, 1)),\n",
        "                                    BatchNorm(inplanes, momentum=bn_mom),\n",
        "                                    nn.ReLU(inplace=True),\n",
        "                                    nn.Conv2d(inplanes, branch_planes, kernel_size=1, bias=False),\n",
        "                                    )\n",
        "\n",
        "        self.scale0 = nn.Sequential(\n",
        "                                    BatchNorm(inplanes, momentum=bn_mom),\n",
        "                                    nn.ReLU(inplace=True),\n",
        "                                    nn.Conv2d(inplanes, branch_planes, kernel_size=1, bias=False),\n",
        "                                    )\n",
        "\n",
        "        self.scale_process = nn.Sequential(\n",
        "                                    BatchNorm(branch_planes*4, momentum=bn_mom),\n",
        "                                    nn.ReLU(inplace=True),\n",
        "                                    nn.Conv2d(branch_planes*4, branch_planes*4, kernel_size=3, padding=1, groups=4, bias=False),\n",
        "                                    )\n",
        "\n",
        "\n",
        "        self.compression = nn.Sequential(\n",
        "                                    BatchNorm(branch_planes * 5, momentum=bn_mom),\n",
        "                                    nn.ReLU(inplace=True),\n",
        "                                    nn.Conv2d(branch_planes * 5, outplanes, kernel_size=1, bias=False),\n",
        "                                    )\n",
        "\n",
        "        self.shortcut = nn.Sequential(\n",
        "                                    BatchNorm(inplanes, momentum=bn_mom),\n",
        "                                    nn.ReLU(inplace=True),\n",
        "                                    nn.Conv2d(inplanes, outplanes, kernel_size=1, bias=False),\n",
        "                                    )\n",
        "\n",
        "\n",
        "    def forward(self, x):\n",
        "        width = x.shape[-1]\n",
        "        height = x.shape[-2]\n",
        "        scale_list = []\n",
        "\n",
        "        x_ = self.scale0(x)\n",
        "        scale_list.append(F.interpolate(self.scale1(x), size=[height, width],\n",
        "                        mode='bilinear', align_corners=algc)+x_)\n",
        "        scale_list.append(F.interpolate(self.scale2(x), size=[height, width],\n",
        "                        mode='bilinear', align_corners=algc)+x_)\n",
        "        scale_list.append(F.interpolate(self.scale3(x), size=[height, width],\n",
        "                        mode='bilinear', align_corners=algc)+x_)\n",
        "        scale_list.append(F.interpolate(self.scale4(x), size=[height, width],\n",
        "                        mode='bilinear', align_corners=algc)+x_)\n",
        "\n",
        "        scale_out = self.scale_process(torch.cat(scale_list, 1))\n",
        "\n",
        "        out = self.compression(torch.cat([x_,scale_out], 1)) + self.shortcut(x)\n",
        "        return out\n",
        "\n",
        "\n",
        "class PagFM(nn.Module):\n",
        "    def __init__(self, in_channels, mid_channels, after_relu=False, with_channel=False, BatchNorm=nn.BatchNorm2d):\n",
        "        super(PagFM, self).__init__()\n",
        "        self.with_channel = with_channel\n",
        "        self.after_relu = after_relu\n",
        "        self.f_x = nn.Sequential(\n",
        "                                nn.Conv2d(in_channels, mid_channels,\n",
        "                                          kernel_size=1, bias=False),\n",
        "                                BatchNorm(mid_channels)\n",
        "                                )\n",
        "        self.f_y = nn.Sequential(\n",
        "                                nn.Conv2d(in_channels, mid_channels,\n",
        "                                          kernel_size=1, bias=False),\n",
        "                                BatchNorm(mid_channels)\n",
        "                                )\n",
        "        if with_channel:\n",
        "            self.up = nn.Sequential(\n",
        "                                    nn.Conv2d(mid_channels, in_channels,\n",
        "                                              kernel_size=1, bias=False),\n",
        "                                    BatchNorm(in_channels)\n",
        "                                   )\n",
        "        if after_relu:\n",
        "            self.relu = nn.ReLU(inplace=True)\n",
        "\n",
        "    def forward(self, x, y):\n",
        "        input_size = x.size()\n",
        "        if self.after_relu:\n",
        "            y = self.relu(y)\n",
        "            x = self.relu(x)\n",
        "\n",
        "        y_q = self.f_y(y)\n",
        "        y_q = F.interpolate(y_q, size=[input_size[2], input_size[3]],\n",
        "                            mode='bilinear', align_corners=False)\n",
        "        x_k = self.f_x(x)\n",
        "\n",
        "        if self.with_channel:\n",
        "            sim_map = torch.sigmoid(self.up(x_k * y_q))\n",
        "        else:\n",
        "            sim_map = torch.sigmoid(torch.sum(x_k * y_q, dim=1).unsqueeze(1))\n",
        "\n",
        "        y = F.interpolate(y, size=[input_size[2], input_size[3]],\n",
        "                            mode='bilinear', align_corners=False)\n",
        "        x = (1-sim_map)*x + sim_map*y\n",
        "\n",
        "        return x\n",
        "\n",
        "class Light_Bag(nn.Module):\n",
        "    def __init__(self, in_channels, out_channels, BatchNorm=nn.BatchNorm2d):\n",
        "        super(Light_Bag, self).__init__()\n",
        "        self.conv_p = nn.Sequential(\n",
        "                                nn.Conv2d(in_channels, out_channels,\n",
        "                                          kernel_size=1, bias=False),\n",
        "                                BatchNorm(out_channels)\n",
        "                                )\n",
        "        self.conv_i = nn.Sequential(\n",
        "                                nn.Conv2d(in_channels, out_channels,\n",
        "                                          kernel_size=1, bias=False),\n",
        "                                BatchNorm(out_channels)\n",
        "                                )\n",
        "\n",
        "    def forward(self, p, i, d):\n",
        "        edge_att = torch.sigmoid(d)\n",
        "\n",
        "        p_add = self.conv_p((1-edge_att)*i + p)\n",
        "        i_add = self.conv_i(i + edge_att*p)\n",
        "\n",
        "        return p_add + i_add\n",
        "\n",
        "\n",
        "class DDFMv2(nn.Module):\n",
        "    def __init__(self, in_channels, out_channels, BatchNorm=nn.BatchNorm2d):\n",
        "        super(DDFMv2, self).__init__()\n",
        "        self.conv_p = nn.Sequential(\n",
        "                                BatchNorm(in_channels),\n",
        "                                nn.ReLU(inplace=True),\n",
        "                                nn.Conv2d(in_channels, out_channels,\n",
        "                                          kernel_size=1, bias=False),\n",
        "                                BatchNorm(out_channels)\n",
        "                                )\n",
        "        self.conv_i = nn.Sequential(\n",
        "                                BatchNorm(in_channels),\n",
        "                                nn.ReLU(inplace=True),\n",
        "                                nn.Conv2d(in_channels, out_channels,\n",
        "                                          kernel_size=1, bias=False),\n",
        "                                BatchNorm(out_channels)\n",
        "                                )\n",
        "\n",
        "    def forward(self, p, i, d):\n",
        "        edge_att = torch.sigmoid(d)\n",
        "\n",
        "        p_add = self.conv_p((1-edge_att)*i + p)\n",
        "        i_add = self.conv_i(i + edge_att*p)\n",
        "\n",
        "        return p_add + i_add\n",
        "\n",
        "class Bag(nn.Module):\n",
        "    def __init__(self, in_channels, out_channels, BatchNorm=nn.BatchNorm2d):\n",
        "        super(Bag, self).__init__()\n",
        "\n",
        "        self.conv = nn.Sequential(\n",
        "                                BatchNorm(in_channels),\n",
        "                                nn.ReLU(inplace=True),\n",
        "                                nn.Conv2d(in_channels, out_channels,\n",
        "                                          kernel_size=3, padding=1, bias=False)\n",
        "                                )\n",
        "\n",
        "\n",
        "    def forward(self, p, i, d):\n",
        "        edge_att = torch.sigmoid(d)\n",
        "        return self.conv(edge_att*p + (1-edge_att)*i)"
      ]
    },
    {
      "cell_type": "code",
      "execution_count": 7,
      "metadata": {
        "id": "vjCDANDmZZw3"
      },
      "outputs": [],
      "source": [
        "import torch\n",
        "import torch.nn as nn\n",
        "import torch.nn.functional as F\n",
        "import time\n",
        "import logging\n",
        "\n",
        "BatchNorm2d = nn.BatchNorm2d\n",
        "bn_mom = 0.1\n",
        "algc = False\n",
        "\n",
        "\n",
        "\n",
        "class PIDNet(nn.Module):\n",
        "\n",
        "    def __init__(self, m=2, n=3, num_classes=19, planes=64, ppm_planes=96, head_planes=128, augment=True):\n",
        "        super(PIDNet, self).__init__()\n",
        "        self.augment = augment\n",
        "\n",
        "        # I Branch\n",
        "        self.conv1 =  nn.Sequential(\n",
        "                          nn.Conv2d(3,planes,kernel_size=3, stride=2, padding=1),\n",
        "                          BatchNorm2d(planes, momentum=bn_mom),\n",
        "                          nn.ReLU(inplace=True),\n",
        "                          nn.Conv2d(planes,planes,kernel_size=3, stride=2, padding=1),\n",
        "                          BatchNorm2d(planes, momentum=bn_mom),\n",
        "                          nn.ReLU(inplace=True),\n",
        "                      )\n",
        "\n",
        "        self.relu = nn.ReLU(inplace=True)\n",
        "        self.layer1 = self._make_layer(BasicBlock, planes, planes, m)\n",
        "        self.layer2 = self._make_layer(BasicBlock, planes, planes * 2, m, stride=2)\n",
        "        self.layer3 = self._make_layer(BasicBlock, planes * 2, planes * 4, n, stride=2)\n",
        "        self.layer4 = self._make_layer(BasicBlock, planes * 4, planes * 8, n, stride=2)\n",
        "        self.layer5 =  self._make_layer(Bottleneck, planes * 8, planes * 8, 2, stride=2)\n",
        "\n",
        "        # P Branch\n",
        "        self.compression3 = nn.Sequential(\n",
        "                                          nn.Conv2d(planes * 4, planes * 2, kernel_size=1, bias=False),\n",
        "                                          BatchNorm2d(planes * 2, momentum=bn_mom),\n",
        "                                          )\n",
        "\n",
        "        self.compression4 = nn.Sequential(\n",
        "                                          nn.Conv2d(planes * 8, planes * 2, kernel_size=1, bias=False),\n",
        "                                          BatchNorm2d(planes * 2, momentum=bn_mom),\n",
        "                                          )\n",
        "        self.pag3 = PagFM(planes * 2, planes)\n",
        "        self.pag4 = PagFM(planes * 2, planes)\n",
        "\n",
        "        self.layer3_ = self._make_layer(BasicBlock, planes * 2, planes * 2, m)\n",
        "        self.layer4_ = self._make_layer(BasicBlock, planes * 2, planes * 2, m)\n",
        "        self.layer5_ = self._make_layer(Bottleneck, planes * 2, planes * 2, 1)\n",
        "\n",
        "        # D Branch\n",
        "        if m == 2:\n",
        "            self.layer3_d = self._make_single_layer(BasicBlock, planes * 2, planes)\n",
        "            self.layer4_d = self._make_layer(Bottleneck, planes, planes, 1)\n",
        "            self.diff3 = nn.Sequential(\n",
        "                                        nn.Conv2d(planes * 4, planes, kernel_size=3, padding=1, bias=False),\n",
        "                                        BatchNorm2d(planes, momentum=bn_mom),\n",
        "                                        )\n",
        "            self.diff4 = nn.Sequential(\n",
        "                                     nn.Conv2d(planes * 8, planes * 2, kernel_size=3, padding=1, bias=False),\n",
        "                                     BatchNorm2d(planes * 2, momentum=bn_mom),\n",
        "                                     )\n",
        "            self.spp = PAPPM(planes * 16, ppm_planes, planes * 4)\n",
        "            self.dfm = Light_Bag(planes * 4, planes * 4)\n",
        "        else:\n",
        "            self.layer3_d = self._make_single_layer(BasicBlock, planes * 2, planes * 2)\n",
        "            self.layer4_d = self._make_single_layer(BasicBlock, planes * 2, planes * 2)\n",
        "            self.diff3 = nn.Sequential(\n",
        "                                        nn.Conv2d(planes * 4, planes * 2, kernel_size=3, padding=1, bias=False),\n",
        "                                        BatchNorm2d(planes * 2, momentum=bn_mom),\n",
        "                                        )\n",
        "            self.diff4 = nn.Sequential(\n",
        "                                     nn.Conv2d(planes * 8, planes * 2, kernel_size=3, padding=1, bias=False),\n",
        "                                     BatchNorm2d(planes * 2, momentum=bn_mom),\n",
        "                                     )\n",
        "            self.spp = DAPPM(planes * 16, ppm_planes, planes * 4)\n",
        "            self.dfm = Bag(planes * 4, planes * 4)\n",
        "\n",
        "        self.layer5_d = self._make_layer(Bottleneck, planes * 2, planes * 2, 1)\n",
        "\n",
        "        # Prediction Head\n",
        "        if self.augment:\n",
        "            self.seghead_p = segmenthead(planes * 2, head_planes, num_classes)\n",
        "            self.seghead_d = segmenthead(planes * 2, planes, 1)\n",
        "\n",
        "        self.final_layer = segmenthead(planes * 4, head_planes, num_classes)\n",
        "\n",
        "\n",
        "        for m in self.modules():\n",
        "            if isinstance(m, nn.Conv2d):\n",
        "                nn.init.kaiming_normal_(m.weight, mode='fan_out', nonlinearity='relu')\n",
        "            elif isinstance(m, BatchNorm2d):\n",
        "                nn.init.constant_(m.weight, 1)\n",
        "                nn.init.constant_(m.bias, 0)\n",
        "\n",
        "\n",
        "    def _make_layer(self, block, inplanes, planes, blocks, stride=1):\n",
        "        downsample = None\n",
        "        if stride != 1 or inplanes != planes * block.expansion:\n",
        "            downsample = nn.Sequential(\n",
        "                nn.Conv2d(inplanes, planes * block.expansion,\n",
        "                          kernel_size=1, stride=stride, bias=False),\n",
        "                nn.BatchNorm2d(planes * block.expansion, momentum=bn_mom),\n",
        "            )\n",
        "\n",
        "        layers = []\n",
        "        layers.append(block(inplanes, planes, stride, downsample))\n",
        "        inplanes = planes * block.expansion\n",
        "        for i in range(1, blocks):\n",
        "            if i == (blocks-1):\n",
        "                layers.append(block(inplanes, planes, stride=1, no_relu=True))\n",
        "            else:\n",
        "                layers.append(block(inplanes, planes, stride=1, no_relu=False))\n",
        "\n",
        "        return nn.Sequential(*layers)\n",
        "\n",
        "    def _make_single_layer(self, block, inplanes, planes, stride=1):\n",
        "        downsample = None\n",
        "        if stride != 1 or inplanes != planes * block.expansion:\n",
        "            downsample = nn.Sequential(\n",
        "                nn.Conv2d(inplanes, planes * block.expansion,\n",
        "                          kernel_size=1, stride=stride, bias=False),\n",
        "                nn.BatchNorm2d(planes * block.expansion, momentum=bn_mom),\n",
        "            )\n",
        "\n",
        "        layer = block(inplanes, planes, stride, downsample, no_relu=True)\n",
        "\n",
        "        return layer\n",
        "\n",
        "    def forward(self, x):\n",
        "\n",
        "        width_output = x.shape[-1] // 8\n",
        "        height_output = x.shape[-2] // 8\n",
        "\n",
        "        x = self.conv1(x)\n",
        "        x = self.layer1(x)\n",
        "        x = self.relu(self.layer2(self.relu(x)))\n",
        "        x_ = self.layer3_(x)\n",
        "        x_d = self.layer3_d(x)\n",
        "\n",
        "        x = self.relu(self.layer3(x))\n",
        "        x_ = self.pag3(x_, self.compression3(x))\n",
        "        x_d = x_d + F.interpolate(\n",
        "                        self.diff3(x),\n",
        "                        size=[height_output, width_output],\n",
        "                        mode='bilinear', align_corners=algc)\n",
        "        if self.augment:\n",
        "            temp_p = x_\n",
        "\n",
        "        x = self.relu(self.layer4(x))\n",
        "        x_ = self.layer4_(self.relu(x_))\n",
        "        x_d = self.layer4_d(self.relu(x_d))\n",
        "\n",
        "        x_ = self.pag4(x_, self.compression4(x))\n",
        "        x_d = x_d + F.interpolate(\n",
        "                        self.diff4(x),\n",
        "                        size=[height_output, width_output],\n",
        "                        mode='bilinear', align_corners=algc)\n",
        "        if self.augment:\n",
        "            temp_d = x_d\n",
        "\n",
        "        x_ = self.layer5_(self.relu(x_))\n",
        "        x_d = self.layer5_d(self.relu(x_d))\n",
        "        x = F.interpolate(\n",
        "                        self.spp(self.layer5(x)),\n",
        "                        size=[height_output, width_output],\n",
        "                        mode='bilinear', align_corners=algc)\n",
        "\n",
        "        x_ = self.final_layer(self.dfm(x_, x, x_d))\n",
        "\n",
        "        if self.augment:\n",
        "            x_extra_p = self.seghead_p(temp_p)\n",
        "            x_extra_d = self.seghead_d(temp_d)\n",
        "            return [x_extra_p, x_, x_extra_d]\n",
        "        else:\n",
        "            return x_\n",
        "\n",
        "def get_seg_model(cfg, imgnet_pretrained):\n",
        "\n",
        "    if 's' in cfg.MODEL.NAME:\n",
        "        model = PIDNet(m=2, n=3, num_classes=cfg.DATASET.NUM_CLASSES, planes=32, ppm_planes=96, head_planes=128, augment=True)\n",
        "    elif 'm' in cfg.MODEL.NAME:\n",
        "        model = PIDNet(m=2, n=3, num_classes=cfg.DATASET.NUM_CLASSES, planes=64, ppm_planes=96, head_planes=128, augment=True)\n",
        "    else:\n",
        "        model = PIDNet(m=3, n=4, num_classes=cfg.DATASET.NUM_CLASSES, planes=64, ppm_planes=112, head_planes=256, augment=True)\n",
        "\n",
        "    if imgnet_pretrained:\n",
        "        pretrained_state = torch.load(cfg.MODEL.PRETRAINED, map_location='cpu')['state_dict']\n",
        "        model_dict = model.state_dict()\n",
        "        pretrained_state = {k: v for k, v in pretrained_state.items() if (k in model_dict and v.shape == model_dict[k].shape)}\n",
        "        model_dict.update(pretrained_state)\n",
        "        msg = 'Loaded {} parameters!'.format(len(pretrained_state))\n",
        "        logging.info('Attention!!!')\n",
        "        logging.info(msg)\n",
        "        logging.info('Over!!!')\n",
        "        model.load_state_dict(model_dict, strict = False)\n",
        "    else:\n",
        "        pretrained_dict = torch.load(cfg.MODEL.PRETRAINED, map_location='cpu')\n",
        "        if 'state_dict' in pretrained_dict:\n",
        "            pretrained_dict = pretrained_dict['state_dict']\n",
        "        model_dict = model.state_dict()\n",
        "        pretrained_dict = {k[6:]: v for k, v in pretrained_dict.items() if (k[6:] in model_dict and v.shape == model_dict[k[6:]].shape)}\n",
        "        msg = 'Loaded {} parameters!'.format(len(pretrained_dict))\n",
        "        logging.info('Attention!!!')\n",
        "        logging.info(msg)\n",
        "        logging.info('Over!!!')\n",
        "        model_dict.update(pretrained_dict)\n",
        "        model.load_state_dict(model_dict, strict = False)\n",
        "\n",
        "    return model\n",
        "\n",
        "def get_pred_model(name, num_classes):\n",
        "\n",
        "    if 's' in name:\n",
        "        model = PIDNet(m=2, n=3, num_classes=num_classes, planes=32, ppm_planes=96, head_planes=128, augment=False)\n",
        "    elif 'm' in name:\n",
        "        model = PIDNet(m=2, n=3, num_classes=num_classes, planes=64, ppm_planes=96, head_planes=128, augment=False)\n",
        "    else:\n",
        "        model = PIDNet(m=3, n=4, num_classes=num_classes, planes=64, ppm_planes=112, head_planes=256, augment=False)\n",
        "\n",
        "    return model"
      ]
    },
    {
      "cell_type": "markdown",
      "metadata": {
        "id": "dw9SYUCgi6us"
      },
      "source": [
        "# Dataset & dataloader"
      ]
    },
    {
      "cell_type": "markdown",
      "source": [
        "## Dataset definition"
      ],
      "metadata": {
        "id": "wrMzI_LbjhP_"
      }
    },
    {
      "cell_type": "code",
      "execution_count": 8,
      "metadata": {
        "id": "T6kSW8hGjAo9",
        "colab": {
          "base_uri": "https://localhost:8080/"
        },
        "outputId": "7f8650b1-89fe-43fc-e26b-750c62e33d3f"
      },
      "outputs": [
        {
          "output_type": "stream",
          "name": "stderr",
          "text": [
            "/usr/local/lib/python3.11/dist-packages/albumentations/__init__.py:28: UserWarning: A new version of Albumentations is available: '2.0.7' (you have '2.0.6'). Upgrade using: pip install -U albumentations. To disable automatic update checks, set the environment variable NO_ALBUMENTATIONS_UPDATE to 1.\n",
            "  check_for_updates()\n"
          ]
        }
      ],
      "source": [
        "import os\n",
        "import torch\n",
        "from torch.utils.data import Dataset, DataLoader\n",
        "from torchvision import transforms\n",
        "from PIL import Image\n",
        "import numpy as np\n",
        "import cv2\n",
        "from albumentations.pytorch import ToTensorV2\n",
        "\n",
        "class SegmentationDataset(Dataset):\n",
        "    def __init__(self, image_dir, mask_dir, transform, target=False):\n",
        "        self.image_dir = image_dir\n",
        "        self.mask_dir = mask_dir\n",
        "        self.transform = transform\n",
        "        self.image_filenames = sorted(os.listdir(image_dir))\n",
        "        self.mask_filenames = sorted(os.listdir(mask_dir))\n",
        "        self.target = target\n",
        "\n",
        "    def __len__(self):\n",
        "        return len(self.image_filenames)\n",
        "\n",
        "    def __getitem__(self, idx):\n",
        "        img_path = os.path.join(self.image_dir, self.image_filenames[idx])\n",
        "        mask_path = os.path.join(self.mask_dir, self.mask_filenames[idx])\n",
        "\n",
        "        # Read an image with OpenCV\n",
        "        image = cv2.imread(img_path)\n",
        "        mask = cv2.imread(mask_path)\n",
        "\n",
        "        # By default OpenCV uses BGR color space for color images,\n",
        "        # so we need to convert the image to RGB color space.\n",
        "        image = cv2.cvtColor(image, cv2.COLOR_BGR2RGB)\n",
        "        mask = cv2.cvtColor(mask, cv2.COLOR_BGR2GRAY)\n",
        "\n",
        "        if self.transform:\n",
        "            transformed = self.transform(image=image, mask=mask)\n",
        "            image = transformed[\"image\"]\n",
        "            mask = transformed[\"mask\"]\n",
        "\n",
        "        mask_np = np.array(mask)\n",
        "\n",
        "        edge = cv2.Canny(mask_np, 0.1, 0.2)\n",
        "\n",
        "        kernel = np.ones((3, 3), np.uint8)  # Kernel for dilation\n",
        "\n",
        "        edge = edge[6:-6, 6:-6]\n",
        "        edge = np.pad(edge, ((6,6),(6,6)), mode='constant')\n",
        "        boundaries = cv2.dilate(edge, kernel, iterations=1)  # Dilate edges\n",
        "        boundaries = (boundaries > 50) * 1.0 # boundaries matrix is float with 1.0 or 0.0\n",
        "\n",
        "        mask = torch.as_tensor(np.array(mask), dtype=torch.int64) - 1\n",
        "\n",
        "        boundaries_tensor = torch.as_tensor(boundaries, dtype=torch.float32)\n",
        "\n",
        "        # if the dataset is a target dataset, does not return the mask\n",
        "        if self.target == True:\n",
        "          return image, boundaries_tensor\n",
        "        return image, mask, boundaries_tensor"
      ]
    },
    {
      "cell_type": "code",
      "source": [
        "# Define transformations for images & masks\n",
        "import albumentations as A\n",
        "from albumentations.pytorch import ToTensorV2\n",
        "from torchvision.transforms import v2 as T\n",
        "import cv2\n",
        "\n",
        "resize_transform = A.Compose([\n",
        "    A.Resize(height=RESIZE, width=RESIZE, p=1),\n",
        "    A.ToFloat(),\n",
        "    ToTensorV2()\n",
        "])\n",
        "\n",
        "# the best augmentation from previous step is chosen\n",
        "augment = A.HueSaturationValue(\n",
        "    hue_shift_limit=20,\n",
        "    sat_shift_limit=30,\n",
        "    val_shift_limit=20,\n",
        "    p=P)"
      ],
      "metadata": {
        "id": "cOr2yJ_6kvA4"
      },
      "execution_count": 9,
      "outputs": []
    },
    {
      "cell_type": "code",
      "source": [
        "def extract_boundary_mask(mask):\n",
        "    if isinstance(mask, torch.Tensor):\n",
        "        mask_np = mask.squeeze().cpu().numpy()  # Assicura che sia [H, W]\n",
        "    else:\n",
        "        mask_np = np.array(mask)\n",
        "\n",
        "    mask_np = mask_np.astype(np.uint8)\n",
        "\n",
        "    edge = cv2.Canny(mask_np, 0.1, 0.2)\n",
        "\n",
        "    kernel = np.ones((3, 3), np.uint8)\n",
        "    edge = edge[6:-6, 6:-6]\n",
        "    edge = np.pad(edge, ((6,6),(6,6)), mode='constant')\n",
        "    boundaries = cv2.dilate(edge, kernel, iterations=1)\n",
        "    boundaries = (boundaries > 50).astype(np.float32)\n",
        "\n",
        "    boundaries_tensor = torch.from_numpy(boundaries).unsqueeze(0)  # shape: [1, H, W]\n",
        "    return boundaries_tensor\n"
      ],
      "metadata": {
        "id": "fbbVpaD-McpG"
      },
      "execution_count": 10,
      "outputs": []
    },
    {
      "cell_type": "markdown",
      "source": [
        "## Dataset instantiation"
      ],
      "metadata": {
        "id": "aRC4KXtmj3Pi"
      }
    },
    {
      "cell_type": "code",
      "source": [
        "# Create dataset objects\n",
        "\n",
        "# TRAINING DATASETS\n",
        "source_dataset = SegmentationDataset(TRAINING_PATH_URBAN + \"/images_png\", TRAINING_PATH_URBAN + \"/masks_png\",\n",
        "                                    transform=resize_transform)\n",
        "\n",
        "\n",
        "target_dataset = SegmentationDataset(TRAINING_PATH_RURAL + \"/images_png\", TRAINING_PATH_RURAL + \"/masks_png\",\n",
        "                                    transform=resize_transform, target=True)\n",
        "\n",
        "# EVALUATION DATASET\n",
        "\n",
        "val_dataset = SegmentationDataset(VAL_PATH_RURAL + \"/images_png\", VAL_PATH_RURAL + \"/masks_png\",\n",
        "                                    transform=resize_transform)"
      ],
      "metadata": {
        "id": "Zk4ZifehjuyZ"
      },
      "execution_count": 11,
      "outputs": []
    },
    {
      "cell_type": "code",
      "source": [
        "import torch\n",
        "import numpy as np\n",
        "from tqdm import tqdm\n",
        "from torch.utils.data import DataLoader\n",
        "\n",
        "# Supponiamo tu abbia un DataLoader con le etichette GT (y) nei batch\n",
        "class_counts = torch.zeros(NUM_CLASSES)\n",
        "\n",
        "for (images, labels, _) in tqdm(DataLoader(source_dataset, batch_size=BATCH_SIZE)):\n",
        "    for c in range(NUM_CLASSES):\n",
        "        class_counts[c] += torch.sum(labels == c)\n",
        "\n",
        "# Converti in numpy\n",
        "class_counts = class_counts.numpy()\n",
        "total_pixels = np.sum(class_counts)\n",
        "frequencies = class_counts / total_pixels\n",
        "\n",
        "if TYPE_WEIGHT == \"inverse\":\n",
        "  #Inverse frequency\n",
        "  class_weights = 1.0 / (frequencies + 1e-8)\n",
        "elif TYPE_WEIGHT == \"median-frequency\":\n",
        "  #Median frequency balancing\n",
        "  median = np.median(frequencies)\n",
        "  class_weights = median / (frequencies + 1e-8)\n",
        "elif TYPE_WEIGHT == \"log\":\n",
        "  #Log smoothing\n",
        "  class_weights = 1.0 / np.log(1.02 + frequencies)\n",
        "\n",
        "print(class_weights)\n",
        "\n",
        "# class_weights = [0.16340506, 0.37345123, 0.85315025, 2.1215937,  1.0464315,  0.9999999, 4.2676406]\n",
        "# [0.16340506 0.37345123 0.85315025 2.1215937  1.0464315  0.9999999 4.2676406]"
      ],
      "metadata": {
        "colab": {
          "base_uri": "https://localhost:8080/"
        },
        "id": "z-PvK8l4668q",
        "outputId": "49d98cdd-796a-4d31-d5e2-55235c89d6cd"
      },
      "execution_count": 12,
      "outputs": [
        {
          "output_type": "stream",
          "name": "stderr",
          "text": [
            "100%|██████████| 73/73 [01:02<00:00,  1.17it/s]"
          ]
        },
        {
          "output_type": "stream",
          "name": "stdout",
          "text": [
            "[ 2.063954  4.717028 10.776062 26.797655 13.217381 12.630906 53.904175]\n"
          ]
        },
        {
          "output_type": "stream",
          "name": "stderr",
          "text": [
            "\n"
          ]
        }
      ]
    },
    {
      "cell_type": "markdown",
      "source": [
        "## Loader instantiation"
      ],
      "metadata": {
        "id": "lyTIKtzjj7i0"
      }
    },
    {
      "cell_type": "code",
      "source": [
        "# Create DataLoaders\n",
        "\n",
        "# TRAINING DATALOADERS\n",
        "source_loader = DataLoader(source_dataset, batch_size=BATCH_SIZE, shuffle=True, num_workers=4)\n",
        "target_loader = DataLoader(target_dataset, batch_size=BATCH_SIZE, shuffle=True, num_workers=4)\n",
        "\n",
        "# EVALUATION DATALOADERS\n",
        "\n",
        "val_loader = DataLoader(val_dataset, batch_size=BATCH_SIZE, shuffle=False, num_workers=4)\n",
        "\n",
        "# enumerate dataloaders\n",
        "source_loader_iter = enumerate(source_loader)\n",
        "target_loader_iter = enumerate(target_loader)\n"
      ],
      "metadata": {
        "id": "vhsQeNzTj_mk"
      },
      "execution_count": 13,
      "outputs": []
    },
    {
      "cell_type": "markdown",
      "metadata": {
        "id": "O4pcqQXrMzza"
      },
      "source": [
        "### Instantiate model"
      ]
    },
    {
      "cell_type": "code",
      "execution_count": 14,
      "metadata": {
        "id": "hZNWIM0DbnJv",
        "colab": {
          "base_uri": "https://localhost:8080/"
        },
        "outputId": "036a182a-e699-43fe-c0f8-3e45c6f8b2ca"
      },
      "outputs": [
        {
          "output_type": "stream",
          "name": "stderr",
          "text": [
            "Downloading...\n",
            "From: https://drive.google.com/uc?id=1hIBp_8maRr60-B3PF0NVtaA6TYBvO4y-\n",
            "To: /content/PIDNet_S_ImageNet.pth.tar\n",
            "100%|██████████| 38.1M/38.1M [00:00<00:00, 47.4MB/s]\n"
          ]
        },
        {
          "output_type": "stream",
          "name": "stdout",
          "text": [
            "imagenet-pretrained pidnet weights downloaded\n"
          ]
        }
      ],
      "source": [
        "import gdown\n",
        "\n",
        "if (os.path.exists(\"./PIDNet_S_ImageNet.pth.tar\") == False):\n",
        "  url = \"https://drive.google.com/uc?id=1hIBp_8maRr60-B3PF0NVtaA6TYBvO4y-\"\n",
        "  output = \"./\"\n",
        "  gdown.download(url, output, quiet=False)\n",
        "\n",
        "  print(\"imagenet-pretrained pidnet weights downloaded\")\n",
        "\n",
        "\n",
        "class Config:\n",
        "  class MODEL:\n",
        "      NAME = 'pidnet_s'\n",
        "      PRETRAINED = 'PIDNet_S_ImageNet.pth.tar'\n",
        "  class DATASET:\n",
        "      NUM_CLASSES = NUM_CLASSES\n",
        "\n",
        "cfg = Config()\n",
        "\n",
        "model = get_seg_model(cfg, imgnet_pretrained=True)"
      ]
    },
    {
      "cell_type": "markdown",
      "metadata": {
        "id": "MSQUcy7_t2of"
      },
      "source": [
        "# Training Phase"
      ]
    },
    {
      "cell_type": "markdown",
      "source": [
        "## Define loss functions"
      ],
      "metadata": {
        "id": "p_wwWFwFkIoR"
      }
    },
    {
      "cell_type": "code",
      "source": [
        "import torch\n",
        "import torch.nn as nn\n",
        "import torch.nn.functional as F\n",
        "\n",
        "# Extra Semantic Loss (Classica CrossEntropy Loss)\n",
        "class CrossEntropyLoss(nn.Module):\n",
        "    def __init__(self, num_outputs, weight=None, balance_weights=[0.4, 1.0], sb_weights=1.0):\n",
        "        super(CrossEntropyLoss, self).__init__()\n",
        "        self.loss = nn.CrossEntropyLoss(weight=weight, ignore_index=IGNORE_INDEX)\n",
        "        self.num_outputs = num_outputs\n",
        "        self.balance_weights = balance_weights\n",
        "        self.sb_weights = sb_weights\n",
        "\n",
        "    def _forward(self, pred, target):\n",
        "        return self.loss(pred, target)\n",
        "\n",
        "    def forward(self, score, target):\n",
        "        if self.num_outputs == 1:\n",
        "            score = [score]\n",
        "\n",
        "        if len(self.balance_weights) == len(score):\n",
        "            return sum([w * self._forward(x, target) for (w, x) in zip(self.balance_weights, score)])\n",
        "        elif len(score) == 1:\n",
        "            return self.sb_weights * self._forward(score[0], target)\n",
        "        else:\n",
        "            raise ValueError(\"lengths of prediction and target are not identical!\")\n",
        "\n",
        "class OhemCrossEntropy(nn.Module):\n",
        "    def __init__(self, thres=0.7, min_kept=26_000, balance_weights=[0.4, 1.0], sb_weights=1.0, weight=None):\n",
        "        super(OhemCrossEntropy, self).__init__()\n",
        "        self.thresh = thres\n",
        "        self.min_kept = max(1, min_kept)\n",
        "        self.ignore_label = IGNORE_INDEX\n",
        "        self.balance_weights = balance_weights\n",
        "        self.sb_weights = sb_weights\n",
        "        self.criterion = nn.CrossEntropyLoss(\n",
        "            weight=weight,\n",
        "            ignore_index=self.ignore_label,\n",
        "            reduction='none'\n",
        "        )\n",
        "\n",
        "    def _ce_forward(self, score, target):\n",
        "        loss = self.criterion(score, target)\n",
        "        return loss\n",
        "\n",
        "    def _ohem_forward(self, score, target, **kwargs):\n",
        "        pred = F.softmax(score, dim=1)\n",
        "        pixel_losses = self.criterion(score, target).contiguous().view(-1)\n",
        "        mask = target.contiguous().view(-1) != self.ignore_label\n",
        "\n",
        "        tmp_target = target.clone()\n",
        "        tmp_target[tmp_target == self.ignore_label] = 0\n",
        "        pred = pred.gather(1, tmp_target.unsqueeze(1))\n",
        "        pred, ind = pred.contiguous().view(-1,)[mask].contiguous().sort()\n",
        "        min_value = pred[min(self.min_kept, pred.numel() - 1)]\n",
        "        threshold = max(min_value, self.thresh)\n",
        "\n",
        "        pixel_losses = pixel_losses[mask][ind]\n",
        "        pixel_losses = pixel_losses[pred < threshold]\n",
        "        return pixel_losses.mean()\n",
        "\n",
        "    def forward(self, score, target):\n",
        "        if not (isinstance(score, list) or isinstance(score, tuple)):\n",
        "            score = [score]\n",
        "\n",
        "        if len(self.balance_weights) == len(score):\n",
        "            functions = [self._ce_forward] * \\\n",
        "                (len(self.balance_weights) - 1) + [self._ohem_forward]\n",
        "            return sum([\n",
        "                w * func(x, target)\n",
        "                for (w, x, func) in zip(self.balance_weights, score, functions)\n",
        "            ])\n",
        "\n",
        "        elif len(score) == 1:\n",
        "            return self.sb_weights * self._ohem_forward(score[0], target)\n",
        "\n",
        "        else:\n",
        "            raise ValueError(\"lengths of prediction and target are not identical!\")\n",
        "\n",
        "\n",
        "# Weighted Binary Cross Entropy per i bordi\n",
        "def weighted_bce(bd_pre, target):\n",
        "    n, c, h, w = bd_pre.size()\n",
        "    log_p = bd_pre.permute(0,2,3,1).contiguous().view(1, -1)\n",
        "    target_t = target.view(1, -1)\n",
        "\n",
        "    pos_index = (target_t == 1)\n",
        "    neg_index = (target_t == 0)\n",
        "\n",
        "    weight = torch.zeros_like(log_p)\n",
        "    pos_num = pos_index.sum()\n",
        "    neg_num = neg_index.sum()\n",
        "    sum_num = pos_num + neg_num\n",
        "    weight[pos_index] = neg_num * 1.0 / sum_num\n",
        "    weight[neg_index] = pos_num * 1.0 / sum_num\n",
        "\n",
        "    loss = F.binary_cross_entropy_with_logits(log_p, target_t, weight, reduction='mean')\n",
        "\n",
        "    return loss\n",
        "\n",
        "class BondaryLoss(nn.Module):\n",
        "    def __init__(self, coeff_bce = 20.0):\n",
        "        super(BondaryLoss, self).__init__()\n",
        "        self.coeff_bce = coeff_bce\n",
        "\n",
        "    def forward(self, bd_pre, bd_gt):\n",
        "        bce_loss = self.coeff_bce * weighted_bce(bd_pre, bd_gt)\n",
        "        loss = bce_loss\n",
        "\n",
        "        return loss\n",
        "\n",
        "# PIDNet Loss Totale\n",
        "class PIDNetLoss(nn.Module):\n",
        "    def __init__(self, lambda_0=0.4, lambda_1=20, lambda_2=1, lambda_3=1, threshold=0.8, class_weights=None):\n",
        "        super(PIDNetLoss, self).__init__()\n",
        "        self.class_weights = class_weights\n",
        "        if self.class_weights is not None:\n",
        "            self.class_weights = torch.tensor(class_weights).cuda()\n",
        "        if LOSS_TYPE == \"ohem\":\n",
        "          self.sem_loss = OhemCrossEntropy(balance_weights=[lambda_0, lambda_2], sb_weights=lambda_3, weight = self.class_weights)\n",
        "        else:\n",
        "          self.sem_loss = CrossEntropyLoss(num_outputs=2, balance_weights=[lambda_0, lambda_2], sb_weights=lambda_3, weight = self.class_weights)\n",
        "        self.bd_loss = BondaryLoss(coeff_bce=lambda_1)\n",
        "        self.threshold = threshold\n",
        "\n",
        "    def forward(self, pred_p, pred_main, target, boundary_head, boundary_mask):\n",
        "        \"\"\"\n",
        "        pred_p: output branch P (B, C, H, W)\n",
        "        pred_main: output principale (B, C, H, W)\n",
        "        target: ground truth segmentazione (B, H, W)\n",
        "        boundary_head: predizione dei bordi (B, 1, H, W)\n",
        "        boundary_mask: ground truth dei bordi (B, 1, H, W)\n",
        "        \"\"\"\n",
        "\n",
        "        loss_s = self.sem_loss([pred_p, pred_main], target) # l_0 e l_2\n",
        "        loss_b = self.bd_loss(boundary_head, boundary_mask.unsqueeze(1)) # l_1\n",
        "\n",
        "        # l_3\n",
        "        filler = torch.ones_like(target) * IGNORE_INDEX\n",
        "        bd_label = torch.where(F.sigmoid(boundary_head[:,0,:,:])>self.threshold, target, filler)\n",
        "        loss_sb = self.sem_loss([pred_main], bd_label)\n",
        "\n",
        "\n",
        "        loss = loss_s + loss_b + loss_sb\n",
        "\n",
        "\n",
        "        return loss"
      ],
      "metadata": {
        "id": "7uJvTyhWp2Ky"
      },
      "execution_count": 15,
      "outputs": []
    },
    {
      "cell_type": "code",
      "source": [
        "class CrossEntropyLoss2dPixelWiseWeighted(nn.Module):\n",
        "    def __init__(self, weight=None, ignore_index=250, reduction='none'):\n",
        "        super(CrossEntropyLoss2dPixelWiseWeighted, self).__init__()\n",
        "        self.CE =  nn.CrossEntropyLoss(weight=weight, ignore_index=ignore_index, reduction=reduction)\n",
        "\n",
        "    def forward(self, output, target, pixelWiseWeight):\n",
        "        loss = self.CE(output, target)\n",
        "        loss = torch.mean(loss * pixelWiseWeight)\n",
        "        return loss"
      ],
      "metadata": {
        "id": "_saxZ8fwHpYd"
      },
      "execution_count": 16,
      "outputs": []
    },
    {
      "cell_type": "markdown",
      "source": [
        "## Upscaling function"
      ],
      "metadata": {
        "id": "tTTJR3Ly3T_F"
      }
    },
    {
      "cell_type": "code",
      "source": [
        "import torch.nn.functional as F\n",
        "\n",
        "def Upscaling(outputs, boundary_mask, model):\n",
        "    \"\"\"Upscale trough bilinear interpolation -> riporto le dimensioni dell'output a quelli originali\n",
        "    Quindi passiamo da 64 x 64 della rete a 512 x 512\"\"\"\n",
        "\n",
        "    h, w = boundary_mask.size(1), boundary_mask.size(2)\n",
        "    ph, pw = outputs[0].size(2), outputs[0].size(3)\n",
        "    if ph != h or pw != w:\n",
        "        for i in range(len(outputs)):\n",
        "            outputs[i] = F.interpolate(outputs[i], size=(h, w), mode='bilinear', align_corners=True)\n",
        "    if model.augment:\n",
        "        pred_p, pred_main, boundary_head = outputs  # P, I, D branches\n",
        "    else:\n",
        "        pred_p = None\n",
        "        pred_main = outputs\n",
        "        boundary_head = None  # Nessuna branch D se augment=False\n",
        "\n",
        "    return pred_p, pred_main, boundary_head"
      ],
      "metadata": {
        "id": "6A2YoQKT3Tu8"
      },
      "execution_count": 17,
      "outputs": []
    },
    {
      "cell_type": "markdown",
      "source": [
        "## Instantiate discriminator, optimizers and schedulers"
      ],
      "metadata": {
        "id": "B8_NYLc0kqRn"
      }
    },
    {
      "cell_type": "code",
      "execution_count": 18,
      "metadata": {
        "id": "bAbmz5Cz4I4H",
        "colab": {
          "base_uri": "https://localhost:8080/"
        },
        "outputId": "777a9a0d-ea3d-437f-d8bd-344c4e6ccf92"
      },
      "outputs": [
        {
          "output_type": "stream",
          "name": "stdout",
          "text": [
            "cuda\n",
            "86\n",
            "73\n"
          ]
        }
      ],
      "source": [
        "from torch.optim.lr_scheduler import LambdaLR, SequentialLR, StepLR\n",
        "\n",
        "device = torch.device(\"cuda\" if torch.cuda.is_available() else \"cpu\")\n",
        "\n",
        "optimizer = torch.optim.SGD(model.parameters(), lr=LR, momentum=MOMENTUM)\n",
        "\n",
        "scheduler = torch.optim.lr_scheduler.ReduceLROnPlateau(optimizer, mode='max', factor=GAMMA, patience=3, threshold=0.01)\n",
        "\n",
        "if TYPE_WEIGHT == \"median-frequency\" or TYPE_WEIGHT == \"inverse\" or TYPE_WEIGHT == \"log\":\n",
        "  loss_fn = PIDNetLoss(threshold=0.8, class_weights=class_weights)\n",
        "  mix_loss = CrossEntropyLoss2dPixelWiseWeighted(ignore_index = IGNORE_INDEX, weight = torch.tensor(class_weights).cuda())\n",
        "else:\n",
        "  loss_fn = PIDNetLoss(threshold=0.8, class_weights=None)\n",
        "  mix_loss = CrossEntropyLoss2dPixelWiseWeighted(ignore_index = IGNORE_INDEX, weight = None)\n",
        "\n",
        "print(device)\n",
        "\n",
        "print(len(target_loader))\n",
        "print(len(source_loader))"
      ]
    },
    {
      "cell_type": "markdown",
      "source": [
        "# Definition ema model"
      ],
      "metadata": {
        "id": "PBJn-0ZMR-WO"
      }
    },
    {
      "cell_type": "code",
      "source": [
        "def create_ema_model(model):\n",
        "    \"\"\"Returns a new model that is used to generate pseudo-labels\"\"\"\n",
        "\n",
        "    ema_model = get_seg_model(cfg, imgnet_pretrained=True)\n",
        "\n",
        "    for param in ema_model.parameters():\n",
        "        param.detach_()\n",
        "    mp = list(model.parameters())\n",
        "    mcp = list(ema_model.parameters())\n",
        "    n = len(mp)\n",
        "    for i in range(0, n):\n",
        "        mcp[i].data[:] = mp[i].data[:].clone()\n",
        "\n",
        "    return ema_model\n",
        "\n",
        "\n",
        "def update_ema_variables(ema_model, model, alpha_teacher, iteration):\n",
        "    # Use the \"true\" average until the exponential average is more correct\n",
        "    alpha_teacher = min(1 - 1 / (iteration + 1), alpha_teacher)\n",
        "\n",
        "    for ema_param, param in zip(ema_model.parameters(), model.parameters()):\n",
        "        #ema_param.data.mul_(alpha).add_(1 - alpha, param.data)\n",
        "        ema_param.data[:] = alpha_teacher * ema_param[:].data[:] + (1 - alpha_teacher) * param[:].data[:]\n",
        "    return ema_model"
      ],
      "metadata": {
        "id": "kxmHtcIQR3N0"
      },
      "execution_count": 19,
      "outputs": []
    },
    {
      "cell_type": "code",
      "source": [
        "def generate_class_mask(pred, classes):\n",
        "    pred, classes = torch.broadcast_tensors(pred.unsqueeze(0), classes.unsqueeze(1).unsqueeze(2))\n",
        "    N = pred.eq(classes).sum(0)\n",
        "    return N"
      ],
      "metadata": {
        "id": "E0WePh8KaIUS"
      },
      "execution_count": 20,
      "outputs": []
    },
    {
      "cell_type": "code",
      "source": [
        "def oneMix(mask, data = None, target = None):\n",
        "    #Mix\n",
        "    if not (data is None):\n",
        "        stackedMask0, _ = torch.broadcast_tensors(mask[0], data[0])\n",
        "        data = (stackedMask0*data[0]+(1-stackedMask0)*data[1]).unsqueeze(0)\n",
        "    if not (target is None):\n",
        "        stackedMask0, _ = torch.broadcast_tensors(mask[0], target[0])\n",
        "        target = (stackedMask0*target[0]+(1-stackedMask0)*target[1]).unsqueeze(0)\n",
        "    return data, target"
      ],
      "metadata": {
        "id": "kZ1q-SXrczgq"
      },
      "execution_count": 21,
      "outputs": []
    },
    {
      "cell_type": "code",
      "source": [
        "def strong_transform(target, masks_mix, aug = None, data = None):\n",
        "    data, target = oneMix(masks_mix, data, target)\n",
        "\n",
        "    if data is not None:\n",
        "      data_np = data.squeeze(0).cpu().numpy()\n",
        "    target_np = target.squeeze(0).cpu().numpy()\n",
        "\n",
        "    if data is not None:\n",
        "      data_np = np.transpose(data_np, (1, 2, 0))\n",
        "    target_np = np.transpose(target_np, (1, 2, 0))\n",
        "\n",
        "    if data is not None:\n",
        "      augmented = aug(image=data_np, mask=target_np)\n",
        "\n",
        "      data = augmented['image']\n",
        "      target = augmented['mask']\n",
        "\n",
        "      data = torch.from_numpy(data).permute(2, 0, 1).unsqueeze(0)  # (1, C, H, W)\n",
        "      target = torch.from_numpy(target).squeeze(-1).unsqueeze(0)  # (1, H, W)\n",
        "    else:\n",
        "      target = torch.from_numpy(target_np).squeeze(-1).unsqueeze(0)  # (1, H, W)\n",
        "      return None, target\n",
        "\n",
        "    return data, target"
      ],
      "metadata": {
        "id": "KiJJDkIFcOpf"
      },
      "execution_count": 22,
      "outputs": []
    },
    {
      "cell_type": "markdown",
      "source": [
        "## Train"
      ],
      "metadata": {
        "id": "jOCaZndAkPy-"
      }
    },
    {
      "cell_type": "code",
      "execution_count": 24,
      "metadata": {
        "id": "kjNWfPicTLQ3",
        "colab": {
          "base_uri": "https://localhost:8080/"
        },
        "outputId": "9f11e3f8-e90b-4ef1-a6a6-b4144833cfb2"
      },
      "outputs": [
        {
          "output_type": "stream",
          "name": "stdout",
          "text": [
            "[0.000329658544839708]\n"
          ]
        },
        {
          "output_type": "stream",
          "name": "stderr",
          "text": [
            "Epoch 1 [Training]: 100%|██████████| 73/73 [00:46<00:00,  1.57it/s, Loss_seg=24.8035]"
          ]
        },
        {
          "output_type": "stream",
          "name": "stdout",
          "text": [
            "\n",
            "Epoch 1/20 Summary\n",
            "  → Segmentation Source Loss (RAW) : 1.5502\n"
          ]
        },
        {
          "output_type": "stream",
          "name": "stderr",
          "text": [
            "\n",
            "Epoch 1 [Validation]: 100%|██████████| 62/62 [00:14<00:00,  4.34it/s, Val_Loss=7.7934, mIoU=0.1468]\n"
          ]
        },
        {
          "output_type": "stream",
          "name": "stdout",
          "text": [
            "Modello con miou migliore salvato: /content/drive/MyDrive/AML_project/checkpoints/best_model_PIDNET_5_DACS_without_0_class.pth\n",
            "\n",
            "→ Validation Loss: 0.4871\n",
            "→ Overall mIoU: 0.1468\n",
            "  → background IoU: 0.0896\n",
            "  → building IoU: 0.1718\n",
            "  → road IoU: 0.1509\n",
            "  → water IoU: 0.1622\n",
            "  → barren IoU: 0.0786\n",
            "  → forest IoU: 0.0399\n",
            "  → agriculture IoU: 0.3348\n",
            "[0.000329658544839708]\n"
          ]
        },
        {
          "output_type": "stream",
          "name": "stderr",
          "text": [
            "Epoch 2 [Training]: 100%|██████████| 73/73 [00:44<00:00,  1.63it/s, Loss_seg=14.2616]"
          ]
        },
        {
          "output_type": "stream",
          "name": "stdout",
          "text": [
            "\n",
            "Epoch 2/20 Summary\n",
            "  → Segmentation Source Loss (RAW) : 0.8914\n"
          ]
        },
        {
          "output_type": "stream",
          "name": "stderr",
          "text": [
            "\n",
            "Epoch 2 [Validation]: 100%|██████████| 62/62 [00:14<00:00,  4.31it/s, Val_Loss=6.5848, mIoU=0.1662]\n"
          ]
        },
        {
          "output_type": "stream",
          "name": "stdout",
          "text": [
            "Modello con miou migliore salvato: /content/drive/MyDrive/AML_project/checkpoints/best_model_PIDNET_5_DACS_without_0_class.pth\n",
            "\n",
            "→ Validation Loss: 0.4116\n",
            "→ Overall mIoU: 0.1662\n",
            "  → background IoU: 0.0262\n",
            "  → building IoU: 0.2160\n",
            "  → road IoU: 0.1847\n",
            "  → water IoU: 0.1846\n",
            "  → barren IoU: 0.1134\n",
            "  → forest IoU: 0.0456\n",
            "  → agriculture IoU: 0.3928\n",
            "[0.000329658544839708]\n"
          ]
        },
        {
          "output_type": "stream",
          "name": "stderr",
          "text": [
            "Epoch 3 [Training]: 100%|██████████| 73/73 [00:45<00:00,  1.61it/s, Loss_seg=11.5562]"
          ]
        },
        {
          "output_type": "stream",
          "name": "stdout",
          "text": [
            "\n",
            "Epoch 3/20 Summary\n",
            "  → Segmentation Source Loss (RAW) : 0.7223\n"
          ]
        },
        {
          "output_type": "stream",
          "name": "stderr",
          "text": [
            "\n",
            "Epoch 3 [Validation]: 100%|██████████| 62/62 [00:14<00:00,  4.32it/s, Val_Loss=5.3845, mIoU=0.1866]\n"
          ]
        },
        {
          "output_type": "stream",
          "name": "stdout",
          "text": [
            "Modello con miou migliore salvato: /content/drive/MyDrive/AML_project/checkpoints/best_model_PIDNET_5_DACS_without_0_class.pth\n",
            "\n",
            "→ Validation Loss: 0.3365\n",
            "→ Overall mIoU: 0.1866\n",
            "  → background IoU: 0.0589\n",
            "  → building IoU: 0.2082\n",
            "  → road IoU: 0.1922\n",
            "  → water IoU: 0.2246\n",
            "  → barren IoU: 0.1067\n",
            "  → forest IoU: 0.0618\n",
            "  → agriculture IoU: 0.4540\n",
            "[0.000329658544839708]\n"
          ]
        },
        {
          "output_type": "stream",
          "name": "stderr",
          "text": [
            "Epoch 4 [Training]: 100%|██████████| 73/73 [00:44<00:00,  1.63it/s, Loss_seg=10.5875]"
          ]
        },
        {
          "output_type": "stream",
          "name": "stdout",
          "text": [
            "\n",
            "Epoch 4/20 Summary\n",
            "  → Segmentation Source Loss (RAW) : 0.6617\n"
          ]
        },
        {
          "output_type": "stream",
          "name": "stderr",
          "text": [
            "\n",
            "Epoch 4 [Validation]: 100%|██████████| 62/62 [00:14<00:00,  4.32it/s, Val_Loss=5.1928, mIoU=0.1966]\n"
          ]
        },
        {
          "output_type": "stream",
          "name": "stdout",
          "text": [
            "Modello con miou migliore salvato: /content/drive/MyDrive/AML_project/checkpoints/best_model_PIDNET_5_DACS_without_0_class.pth\n",
            "\n",
            "→ Validation Loss: 0.3245\n",
            "→ Overall mIoU: 0.1966\n",
            "  → background IoU: 0.0203\n",
            "  → building IoU: 0.2874\n",
            "  → road IoU: 0.2384\n",
            "  → water IoU: 0.2457\n",
            "  → barren IoU: 0.0892\n",
            "  → forest IoU: 0.0533\n",
            "  → agriculture IoU: 0.4419\n",
            "[0.000329658544839708]\n"
          ]
        },
        {
          "output_type": "stream",
          "name": "stderr",
          "text": [
            "Epoch 5 [Training]: 100%|██████████| 73/73 [00:45<00:00,  1.61it/s, Loss_seg=9.6117]"
          ]
        },
        {
          "output_type": "stream",
          "name": "stdout",
          "text": [
            "\n",
            "Epoch 5/20 Summary\n",
            "  → Segmentation Source Loss (RAW) : 0.6007\n"
          ]
        },
        {
          "output_type": "stream",
          "name": "stderr",
          "text": [
            "\n",
            "Epoch 5 [Validation]: 100%|██████████| 62/62 [00:14<00:00,  4.31it/s, Val_Loss=5.9891, mIoU=0.1978]\n"
          ]
        },
        {
          "output_type": "stream",
          "name": "stdout",
          "text": [
            "Modello con miou migliore salvato: /content/drive/MyDrive/AML_project/checkpoints/best_model_PIDNET_5_DACS_without_0_class.pth\n",
            "\n",
            "→ Validation Loss: 0.3743\n",
            "→ Overall mIoU: 0.1978\n",
            "  → background IoU: 0.0249\n",
            "  → building IoU: 0.2889\n",
            "  → road IoU: 0.2367\n",
            "  → water IoU: 0.2268\n",
            "  → barren IoU: 0.1122\n",
            "  → forest IoU: 0.0580\n",
            "  → agriculture IoU: 0.4374\n",
            "[0.000329658544839708]\n"
          ]
        },
        {
          "output_type": "stream",
          "name": "stderr",
          "text": [
            "Epoch 6 [Training]: 100%|██████████| 73/73 [00:45<00:00,  1.62it/s, Loss_seg=8.7458]"
          ]
        },
        {
          "output_type": "stream",
          "name": "stdout",
          "text": [
            "\n",
            "Epoch 6/20 Summary\n",
            "  → Segmentation Source Loss (RAW) : 0.5466\n"
          ]
        },
        {
          "output_type": "stream",
          "name": "stderr",
          "text": [
            "\n",
            "Epoch 6 [Validation]: 100%|██████████| 62/62 [00:14<00:00,  4.32it/s, Val_Loss=5.9442, mIoU=0.2029]\n"
          ]
        },
        {
          "output_type": "stream",
          "name": "stdout",
          "text": [
            "Modello con miou migliore salvato: /content/drive/MyDrive/AML_project/checkpoints/best_model_PIDNET_5_DACS_without_0_class.pth\n",
            "\n",
            "→ Validation Loss: 0.3715\n",
            "→ Overall mIoU: 0.2029\n",
            "  → background IoU: 0.0256\n",
            "  → building IoU: 0.2868\n",
            "  → road IoU: 0.2463\n",
            "  → water IoU: 0.2330\n",
            "  → barren IoU: 0.1245\n",
            "  → forest IoU: 0.0478\n",
            "  → agriculture IoU: 0.4565\n",
            "[0.000329658544839708]\n"
          ]
        },
        {
          "output_type": "stream",
          "name": "stderr",
          "text": [
            "Epoch 7 [Training]: 100%|██████████| 73/73 [00:45<00:00,  1.62it/s, Loss_seg=8.3766]"
          ]
        },
        {
          "output_type": "stream",
          "name": "stdout",
          "text": [
            "\n",
            "Epoch 7/20 Summary\n",
            "  → Segmentation Source Loss (RAW) : 0.5235\n"
          ]
        },
        {
          "output_type": "stream",
          "name": "stderr",
          "text": [
            "\n",
            "Epoch 7 [Validation]: 100%|██████████| 62/62 [00:14<00:00,  4.32it/s, Val_Loss=5.5129, mIoU=0.2218]\n"
          ]
        },
        {
          "output_type": "stream",
          "name": "stdout",
          "text": [
            "Modello con miou migliore salvato: /content/drive/MyDrive/AML_project/checkpoints/best_model_PIDNET_5_DACS_without_0_class.pth\n",
            "\n",
            "→ Validation Loss: 0.3446\n",
            "→ Overall mIoU: 0.2218\n",
            "  → background IoU: 0.0657\n",
            "  → building IoU: 0.2760\n",
            "  → road IoU: 0.2432\n",
            "  → water IoU: 0.3053\n",
            "  → barren IoU: 0.1366\n",
            "  → forest IoU: 0.0596\n",
            "  → agriculture IoU: 0.4661\n",
            "[0.000329658544839708]\n"
          ]
        },
        {
          "output_type": "stream",
          "name": "stderr",
          "text": [
            "Epoch 8 [Training]: 100%|██████████| 73/73 [00:45<00:00,  1.61it/s, Loss_seg=8.2190]"
          ]
        },
        {
          "output_type": "stream",
          "name": "stdout",
          "text": [
            "\n",
            "Epoch 8/20 Summary\n",
            "  → Segmentation Source Loss (RAW) : 0.5137\n"
          ]
        },
        {
          "output_type": "stream",
          "name": "stderr",
          "text": [
            "\n",
            "Epoch 8 [Validation]: 100%|██████████| 62/62 [00:14<00:00,  4.31it/s, Val_Loss=5.3494, mIoU=0.2273]\n"
          ]
        },
        {
          "output_type": "stream",
          "name": "stdout",
          "text": [
            "Modello con miou migliore salvato: /content/drive/MyDrive/AML_project/checkpoints/best_model_PIDNET_5_DACS_without_0_class.pth\n",
            "\n",
            "→ Validation Loss: 0.3343\n",
            "→ Overall mIoU: 0.2273\n",
            "  → background IoU: 0.0266\n",
            "  → building IoU: 0.2965\n",
            "  → road IoU: 0.2667\n",
            "  → water IoU: 0.3398\n",
            "  → barren IoU: 0.1402\n",
            "  → forest IoU: 0.0654\n",
            "  → agriculture IoU: 0.4562\n",
            "[0.000329658544839708]\n"
          ]
        },
        {
          "output_type": "stream",
          "name": "stderr",
          "text": [
            "Epoch 9 [Training]: 100%|██████████| 73/73 [00:45<00:00,  1.61it/s, Loss_seg=8.3659]"
          ]
        },
        {
          "output_type": "stream",
          "name": "stdout",
          "text": [
            "\n",
            "Epoch 9/20 Summary\n",
            "  → Segmentation Source Loss (RAW) : 0.5229\n"
          ]
        },
        {
          "output_type": "stream",
          "name": "stderr",
          "text": [
            "\n",
            "Epoch 9 [Validation]: 100%|██████████| 62/62 [00:14<00:00,  4.33it/s, Val_Loss=5.3841, mIoU=0.2246]"
          ]
        },
        {
          "output_type": "stream",
          "name": "stdout",
          "text": [
            "\n",
            "→ Validation Loss: 0.3365\n",
            "→ Overall mIoU: 0.2246\n",
            "  → background IoU: 0.0226\n",
            "  → building IoU: 0.2705\n",
            "  → road IoU: 0.2532\n",
            "  → water IoU: 0.3627\n",
            "  → barren IoU: 0.1313\n",
            "  → forest IoU: 0.0679\n",
            "  → agriculture IoU: 0.4638\n",
            "[0.000329658544839708]\n"
          ]
        },
        {
          "output_type": "stream",
          "name": "stderr",
          "text": [
            "\n",
            "Epoch 10 [Training]: 100%|██████████| 73/73 [00:45<00:00,  1.61it/s, Loss_seg=7.8743]"
          ]
        },
        {
          "output_type": "stream",
          "name": "stdout",
          "text": [
            "\n",
            "Epoch 10/20 Summary\n",
            "  → Segmentation Source Loss (RAW) : 0.4921\n"
          ]
        },
        {
          "output_type": "stream",
          "name": "stderr",
          "text": [
            "\n",
            "Epoch 10 [Validation]: 100%|██████████| 62/62 [00:14<00:00,  4.31it/s, Val_Loss=4.8505, mIoU=0.2294]\n"
          ]
        },
        {
          "output_type": "stream",
          "name": "stdout",
          "text": [
            "Modello con miou migliore salvato: /content/drive/MyDrive/AML_project/checkpoints/best_model_PIDNET_5_DACS_without_0_class.pth\n",
            "\n",
            "→ Validation Loss: 0.3032\n",
            "→ Overall mIoU: 0.2294\n",
            "  → background IoU: 0.0236\n",
            "  → building IoU: 0.3170\n",
            "  → road IoU: 0.2536\n",
            "  → water IoU: 0.3508\n",
            "  → barren IoU: 0.1209\n",
            "  → forest IoU: 0.0739\n",
            "  → agriculture IoU: 0.4662\n",
            "[0.000329658544839708]\n"
          ]
        },
        {
          "output_type": "stream",
          "name": "stderr",
          "text": [
            "Epoch 11 [Training]: 100%|██████████| 73/73 [00:44<00:00,  1.63it/s, Loss_seg=7.9385]"
          ]
        },
        {
          "output_type": "stream",
          "name": "stdout",
          "text": [
            "\n",
            "Epoch 11/20 Summary\n",
            "  → Segmentation Source Loss (RAW) : 0.4962\n"
          ]
        },
        {
          "output_type": "stream",
          "name": "stderr",
          "text": [
            "\n",
            "Epoch 11 [Validation]: 100%|██████████| 62/62 [00:14<00:00,  4.34it/s, Val_Loss=5.1191, mIoU=0.2369]\n"
          ]
        },
        {
          "output_type": "stream",
          "name": "stdout",
          "text": [
            "Modello con miou migliore salvato: /content/drive/MyDrive/AML_project/checkpoints/best_model_PIDNET_5_DACS_without_0_class.pth\n",
            "\n",
            "→ Validation Loss: 0.3199\n",
            "→ Overall mIoU: 0.2369\n",
            "  → background IoU: 0.0247\n",
            "  → building IoU: 0.3067\n",
            "  → road IoU: 0.2606\n",
            "  → water IoU: 0.3847\n",
            "  → barren IoU: 0.1440\n",
            "  → forest IoU: 0.0715\n",
            "  → agriculture IoU: 0.4658\n",
            "[0.000329658544839708]\n"
          ]
        },
        {
          "output_type": "stream",
          "name": "stderr",
          "text": [
            "Epoch 12 [Training]: 100%|██████████| 73/73 [00:45<00:00,  1.62it/s, Loss_seg=7.9274]"
          ]
        },
        {
          "output_type": "stream",
          "name": "stdout",
          "text": [
            "\n",
            "Epoch 12/20 Summary\n",
            "  → Segmentation Source Loss (RAW) : 0.4955\n"
          ]
        },
        {
          "output_type": "stream",
          "name": "stderr",
          "text": [
            "\n",
            "Epoch 12 [Validation]: 100%|██████████| 62/62 [00:14<00:00,  4.33it/s, Val_Loss=4.7840, mIoU=0.2253]"
          ]
        },
        {
          "output_type": "stream",
          "name": "stdout",
          "text": [
            "\n",
            "→ Validation Loss: 0.2990\n",
            "→ Overall mIoU: 0.2253\n",
            "  → background IoU: 0.0183\n",
            "  → building IoU: 0.3246\n",
            "  → road IoU: 0.2528\n",
            "  → water IoU: 0.3419\n",
            "  → barren IoU: 0.1044\n",
            "  → forest IoU: 0.0748\n",
            "  → agriculture IoU: 0.4601\n",
            "[0.000329658544839708]\n"
          ]
        },
        {
          "output_type": "stream",
          "name": "stderr",
          "text": [
            "\n",
            "Epoch 13 [Training]: 100%|██████████| 73/73 [00:45<00:00,  1.62it/s, Loss_seg=7.9083]"
          ]
        },
        {
          "output_type": "stream",
          "name": "stdout",
          "text": [
            "\n",
            "Epoch 13/20 Summary\n",
            "  → Segmentation Source Loss (RAW) : 0.4943\n"
          ]
        },
        {
          "output_type": "stream",
          "name": "stderr",
          "text": [
            "\n",
            "Epoch 13 [Validation]: 100%|██████████| 62/62 [00:14<00:00,  4.34it/s, Val_Loss=5.0499, mIoU=0.2271]"
          ]
        },
        {
          "output_type": "stream",
          "name": "stdout",
          "text": [
            "\n",
            "→ Validation Loss: 0.3156\n",
            "→ Overall mIoU: 0.2271\n",
            "  → background IoU: 0.0127\n",
            "  → building IoU: 0.2938\n",
            "  → road IoU: 0.2551\n",
            "  → water IoU: 0.3731\n",
            "  → barren IoU: 0.1083\n",
            "  → forest IoU: 0.0777\n",
            "  → agriculture IoU: 0.4686\n",
            "[0.000329658544839708]\n"
          ]
        },
        {
          "output_type": "stream",
          "name": "stderr",
          "text": [
            "\n",
            "Epoch 14 [Training]: 100%|██████████| 73/73 [00:44<00:00,  1.63it/s, Loss_seg=8.0516]"
          ]
        },
        {
          "output_type": "stream",
          "name": "stdout",
          "text": [
            "\n",
            "Epoch 14/20 Summary\n",
            "  → Segmentation Source Loss (RAW) : 0.5032\n"
          ]
        },
        {
          "output_type": "stream",
          "name": "stderr",
          "text": [
            "\n",
            "Epoch 14 [Validation]: 100%|██████████| 62/62 [00:14<00:00,  4.32it/s, Val_Loss=4.7494, mIoU=0.2400]\n"
          ]
        },
        {
          "output_type": "stream",
          "name": "stdout",
          "text": [
            "Modello con miou migliore salvato: /content/drive/MyDrive/AML_project/checkpoints/best_model_PIDNET_5_DACS_without_0_class.pth\n",
            "\n",
            "→ Validation Loss: 0.2968\n",
            "→ Overall mIoU: 0.2400\n",
            "  → background IoU: 0.0081\n",
            "  → building IoU: 0.3425\n",
            "  → road IoU: 0.2842\n",
            "  → water IoU: 0.3445\n",
            "  → barren IoU: 0.1504\n",
            "  → forest IoU: 0.0715\n",
            "  → agriculture IoU: 0.4789\n",
            "[0.000329658544839708]\n"
          ]
        },
        {
          "output_type": "stream",
          "name": "stderr",
          "text": [
            "Epoch 15 [Training]: 100%|██████████| 73/73 [00:45<00:00,  1.62it/s, Loss_seg=7.9369]"
          ]
        },
        {
          "output_type": "stream",
          "name": "stdout",
          "text": [
            "\n",
            "Epoch 15/20 Summary\n",
            "  → Segmentation Source Loss (RAW) : 0.4961\n"
          ]
        },
        {
          "output_type": "stream",
          "name": "stderr",
          "text": [
            "\n",
            "Epoch 15 [Validation]: 100%|██████████| 62/62 [00:14<00:00,  4.34it/s, Val_Loss=5.1627, mIoU=0.2300]"
          ]
        },
        {
          "output_type": "stream",
          "name": "stdout",
          "text": [
            "\n",
            "→ Validation Loss: 0.3227\n",
            "→ Overall mIoU: 0.2300\n",
            "  → background IoU: 0.0084\n",
            "  → building IoU: 0.3489\n",
            "  → road IoU: 0.2704\n",
            "  → water IoU: 0.3075\n",
            "  → barren IoU: 0.1454\n",
            "  → forest IoU: 0.0522\n",
            "  → agriculture IoU: 0.4773\n",
            "[0.000329658544839708]\n"
          ]
        },
        {
          "output_type": "stream",
          "name": "stderr",
          "text": [
            "\n",
            "Epoch 16 [Training]: 100%|██████████| 73/73 [00:45<00:00,  1.62it/s, Loss_seg=8.1262]"
          ]
        },
        {
          "output_type": "stream",
          "name": "stdout",
          "text": [
            "\n",
            "Epoch 16/20 Summary\n",
            "  → Segmentation Source Loss (RAW) : 0.5079\n"
          ]
        },
        {
          "output_type": "stream",
          "name": "stderr",
          "text": [
            "\n",
            "Epoch 16 [Validation]: 100%|██████████| 62/62 [00:14<00:00,  4.35it/s, Val_Loss=5.2902, mIoU=0.2215]"
          ]
        },
        {
          "output_type": "stream",
          "name": "stdout",
          "text": [
            "\n",
            "→ Validation Loss: 0.3306\n",
            "→ Overall mIoU: 0.2215\n",
            "  → background IoU: 0.0049\n",
            "  → building IoU: 0.3304\n",
            "  → road IoU: 0.2870\n",
            "  → water IoU: 0.2697\n",
            "  → barren IoU: 0.1521\n",
            "  → forest IoU: 0.0386\n",
            "  → agriculture IoU: 0.4676\n",
            "[0.000329658544839708]\n"
          ]
        },
        {
          "output_type": "stream",
          "name": "stderr",
          "text": [
            "\n",
            "Epoch 17 [Training]: 100%|██████████| 73/73 [00:45<00:00,  1.62it/s, Loss_seg=8.1514]"
          ]
        },
        {
          "output_type": "stream",
          "name": "stdout",
          "text": [
            "\n",
            "Epoch 17/20 Summary\n",
            "  → Segmentation Source Loss (RAW) : 0.5095\n"
          ]
        },
        {
          "output_type": "stream",
          "name": "stderr",
          "text": [
            "\n",
            "Epoch 17 [Validation]: 100%|██████████| 62/62 [00:14<00:00,  4.33it/s, Val_Loss=4.6114, mIoU=0.2299]"
          ]
        },
        {
          "output_type": "stream",
          "name": "stdout",
          "text": [
            "\n",
            "→ Validation Loss: 0.2882\n",
            "→ Overall mIoU: 0.2299\n",
            "  → background IoU: 0.0055\n",
            "  → building IoU: 0.3350\n",
            "  → road IoU: 0.2940\n",
            "  → water IoU: 0.2945\n",
            "  → barren IoU: 0.1713\n",
            "  → forest IoU: 0.0306\n",
            "  → agriculture IoU: 0.4779\n",
            "[0.000329658544839708]\n"
          ]
        },
        {
          "output_type": "stream",
          "name": "stderr",
          "text": [
            "\n",
            "Epoch 18 [Training]: 100%|██████████| 73/73 [00:45<00:00,  1.62it/s, Loss_seg=8.4366]"
          ]
        },
        {
          "output_type": "stream",
          "name": "stdout",
          "text": [
            "\n",
            "Epoch 18/20 Summary\n",
            "  → Segmentation Source Loss (RAW) : 0.5273\n"
          ]
        },
        {
          "output_type": "stream",
          "name": "stderr",
          "text": [
            "\n",
            "Epoch 18 [Validation]: 100%|██████████| 62/62 [00:14<00:00,  4.35it/s, Val_Loss=4.7883, mIoU=0.2244]"
          ]
        },
        {
          "output_type": "stream",
          "name": "stdout",
          "text": [
            "\n",
            "→ Validation Loss: 0.2993\n",
            "→ Overall mIoU: 0.2244\n",
            "  → background IoU: 0.0096\n",
            "  → building IoU: 0.3525\n",
            "  → road IoU: 0.2993\n",
            "  → water IoU: 0.2623\n",
            "  → barren IoU: 0.1584\n",
            "  → forest IoU: 0.0321\n",
            "  → agriculture IoU: 0.4566\n",
            "[0.000164829272419854]\n"
          ]
        },
        {
          "output_type": "stream",
          "name": "stderr",
          "text": [
            "\n",
            "Epoch 19 [Training]: 100%|██████████| 73/73 [00:45<00:00,  1.62it/s, Loss_seg=8.3993]"
          ]
        },
        {
          "output_type": "stream",
          "name": "stdout",
          "text": [
            "\n",
            "Epoch 19/20 Summary\n",
            "  → Segmentation Source Loss (RAW) : 0.5250\n"
          ]
        },
        {
          "output_type": "stream",
          "name": "stderr",
          "text": [
            "\n",
            "Epoch 19 [Validation]: 100%|██████████| 62/62 [00:14<00:00,  4.33it/s, Val_Loss=4.7559, mIoU=0.2239]"
          ]
        },
        {
          "output_type": "stream",
          "name": "stdout",
          "text": [
            "\n",
            "→ Validation Loss: 0.2972\n",
            "→ Overall mIoU: 0.2239\n",
            "  → background IoU: 0.0051\n",
            "  → building IoU: 0.3765\n",
            "  → road IoU: 0.2925\n",
            "  → water IoU: 0.2679\n",
            "  → barren IoU: 0.1365\n",
            "  → forest IoU: 0.0330\n",
            "  → agriculture IoU: 0.4562\n",
            "[0.000164829272419854]\n"
          ]
        },
        {
          "output_type": "stream",
          "name": "stderr",
          "text": [
            "\n",
            "Epoch 20 [Training]: 100%|██████████| 73/73 [00:44<00:00,  1.63it/s, Loss_seg=8.3656]"
          ]
        },
        {
          "output_type": "stream",
          "name": "stdout",
          "text": [
            "\n",
            "Epoch 20/20 Summary\n",
            "  → Segmentation Source Loss (RAW) : 0.5228\n"
          ]
        },
        {
          "output_type": "stream",
          "name": "stderr",
          "text": [
            "\n",
            "Epoch 20 [Validation]: 100%|██████████| 62/62 [00:14<00:00,  4.33it/s, Val_Loss=4.8541, mIoU=0.2207]\n"
          ]
        },
        {
          "output_type": "stream",
          "name": "stdout",
          "text": [
            "\n",
            "→ Validation Loss: 0.3034\n",
            "→ Overall mIoU: 0.2207\n",
            "  → background IoU: 0.0028\n",
            "  → building IoU: 0.3628\n",
            "  → road IoU: 0.2941\n",
            "  → water IoU: 0.2644\n",
            "  → barren IoU: 0.1394\n",
            "  → forest IoU: 0.0233\n",
            "  → agriculture IoU: 0.4581\n",
            "[0.000329658544839708]\n"
          ]
        },
        {
          "output_type": "stream",
          "name": "stderr",
          "text": [
            "Epoch 1 [Training]: 100%|██████████| 73/73 [00:45<00:00,  1.61it/s, Loss_seg=22.5990]"
          ]
        },
        {
          "output_type": "stream",
          "name": "stdout",
          "text": [
            "\n",
            "Epoch 1/20 Summary\n",
            "  → Segmentation Source Loss (RAW) : 1.4124\n"
          ]
        },
        {
          "output_type": "stream",
          "name": "stderr",
          "text": [
            "\n",
            "Epoch 1 [Validation]: 100%|██████████| 62/62 [00:14<00:00,  4.32it/s, Val_Loss=10.9239, mIoU=0.1157]\n"
          ]
        },
        {
          "output_type": "stream",
          "name": "stdout",
          "text": [
            "Modello con miou migliore salvato: /content/drive/MyDrive/AML_project/checkpoints/best_model_PIDNET_5_DACS_without_1_class.pth\n",
            "\n",
            "→ Validation Loss: 0.6827\n",
            "→ Overall mIoU: 0.1157\n",
            "  → background IoU: 0.0549\n",
            "  → building IoU: 0.0611\n",
            "  → road IoU: 0.1430\n",
            "  → water IoU: 0.2147\n",
            "  → barren IoU: 0.0295\n",
            "  → forest IoU: 0.0525\n",
            "  → agriculture IoU: 0.2544\n",
            "[0.000329658544839708]\n"
          ]
        },
        {
          "output_type": "stream",
          "name": "stderr",
          "text": [
            "Epoch 2 [Training]: 100%|██████████| 73/73 [00:45<00:00,  1.60it/s, Loss_seg=13.2385]"
          ]
        },
        {
          "output_type": "stream",
          "name": "stdout",
          "text": [
            "\n",
            "Epoch 2/20 Summary\n",
            "  → Segmentation Source Loss (RAW) : 0.8274\n"
          ]
        },
        {
          "output_type": "stream",
          "name": "stderr",
          "text": [
            "\n",
            "Epoch 2 [Validation]: 100%|██████████| 62/62 [00:14<00:00,  4.32it/s, Val_Loss=8.2953, mIoU=0.1584]\n"
          ]
        },
        {
          "output_type": "stream",
          "name": "stdout",
          "text": [
            "Modello con miou migliore salvato: /content/drive/MyDrive/AML_project/checkpoints/best_model_PIDNET_5_DACS_without_1_class.pth\n",
            "\n",
            "→ Validation Loss: 0.5185\n",
            "→ Overall mIoU: 0.1584\n",
            "  → background IoU: 0.2024\n",
            "  → building IoU: 0.0770\n",
            "  → road IoU: 0.1638\n",
            "  → water IoU: 0.2618\n",
            "  → barren IoU: 0.0385\n",
            "  → forest IoU: 0.0715\n",
            "  → agriculture IoU: 0.2935\n",
            "[0.000329658544839708]\n"
          ]
        },
        {
          "output_type": "stream",
          "name": "stderr",
          "text": [
            "Epoch 3 [Training]: 100%|██████████| 73/73 [00:45<00:00,  1.60it/s, Loss_seg=10.7168]"
          ]
        },
        {
          "output_type": "stream",
          "name": "stdout",
          "text": [
            "\n",
            "Epoch 3/20 Summary\n",
            "  → Segmentation Source Loss (RAW) : 0.6698\n"
          ]
        },
        {
          "output_type": "stream",
          "name": "stderr",
          "text": [
            "\n",
            "Epoch 3 [Validation]: 100%|██████████| 62/62 [00:14<00:00,  4.31it/s, Val_Loss=7.6908, mIoU=0.1619]\n"
          ]
        },
        {
          "output_type": "stream",
          "name": "stdout",
          "text": [
            "Modello con miou migliore salvato: /content/drive/MyDrive/AML_project/checkpoints/best_model_PIDNET_5_DACS_without_1_class.pth\n",
            "\n",
            "→ Validation Loss: 0.4807\n",
            "→ Overall mIoU: 0.1619\n",
            "  → background IoU: 0.0469\n",
            "  → building IoU: 0.1245\n",
            "  → road IoU: 0.1839\n",
            "  → water IoU: 0.3232\n",
            "  → barren IoU: 0.0305\n",
            "  → forest IoU: 0.0601\n",
            "  → agriculture IoU: 0.3642\n",
            "[0.000329658544839708]\n"
          ]
        },
        {
          "output_type": "stream",
          "name": "stderr",
          "text": [
            "Epoch 4 [Training]: 100%|██████████| 73/73 [00:45<00:00,  1.60it/s, Loss_seg=9.6091]"
          ]
        },
        {
          "output_type": "stream",
          "name": "stdout",
          "text": [
            "\n",
            "Epoch 4/20 Summary\n",
            "  → Segmentation Source Loss (RAW) : 0.6006\n"
          ]
        },
        {
          "output_type": "stream",
          "name": "stderr",
          "text": [
            "\n",
            "Epoch 4 [Validation]: 100%|██████████| 62/62 [00:14<00:00,  4.32it/s, Val_Loss=6.4357, mIoU=0.1900]\n"
          ]
        },
        {
          "output_type": "stream",
          "name": "stdout",
          "text": [
            "Modello con miou migliore salvato: /content/drive/MyDrive/AML_project/checkpoints/best_model_PIDNET_5_DACS_without_1_class.pth\n",
            "\n",
            "→ Validation Loss: 0.4022\n",
            "→ Overall mIoU: 0.1900\n",
            "  → background IoU: 0.1501\n",
            "  → building IoU: 0.1277\n",
            "  → road IoU: 0.1815\n",
            "  → water IoU: 0.3189\n",
            "  → barren IoU: 0.0456\n",
            "  → forest IoU: 0.0943\n",
            "  → agriculture IoU: 0.4121\n",
            "[0.000329658544839708]\n"
          ]
        },
        {
          "output_type": "stream",
          "name": "stderr",
          "text": [
            "Epoch 5 [Training]: 100%|██████████| 73/73 [00:45<00:00,  1.61it/s, Loss_seg=8.9101]"
          ]
        },
        {
          "output_type": "stream",
          "name": "stdout",
          "text": [
            "\n",
            "Epoch 5/20 Summary\n",
            "  → Segmentation Source Loss (RAW) : 0.5569\n"
          ]
        },
        {
          "output_type": "stream",
          "name": "stderr",
          "text": [
            "\n",
            "Epoch 5 [Validation]: 100%|██████████| 62/62 [00:14<00:00,  4.33it/s, Val_Loss=6.1457, mIoU=0.1965]\n"
          ]
        },
        {
          "output_type": "stream",
          "name": "stdout",
          "text": [
            "Modello con miou migliore salvato: /content/drive/MyDrive/AML_project/checkpoints/best_model_PIDNET_5_DACS_without_1_class.pth\n",
            "\n",
            "→ Validation Loss: 0.3841\n",
            "→ Overall mIoU: 0.1965\n",
            "  → background IoU: 0.0892\n",
            "  → building IoU: 0.1506\n",
            "  → road IoU: 0.2164\n",
            "  → water IoU: 0.3442\n",
            "  → barren IoU: 0.0456\n",
            "  → forest IoU: 0.0886\n",
            "  → agriculture IoU: 0.4408\n",
            "[0.000329658544839708]\n"
          ]
        },
        {
          "output_type": "stream",
          "name": "stderr",
          "text": [
            "Epoch 6 [Training]: 100%|██████████| 73/73 [00:45<00:00,  1.61it/s, Loss_seg=8.4222]"
          ]
        },
        {
          "output_type": "stream",
          "name": "stdout",
          "text": [
            "\n",
            "Epoch 6/20 Summary\n",
            "  → Segmentation Source Loss (RAW) : 0.5264\n"
          ]
        },
        {
          "output_type": "stream",
          "name": "stderr",
          "text": [
            "\n",
            "Epoch 6 [Validation]: 100%|██████████| 62/62 [00:14<00:00,  4.33it/s, Val_Loss=6.3406, mIoU=0.2110]\n"
          ]
        },
        {
          "output_type": "stream",
          "name": "stdout",
          "text": [
            "Modello con miou migliore salvato: /content/drive/MyDrive/AML_project/checkpoints/best_model_PIDNET_5_DACS_without_1_class.pth\n",
            "\n",
            "→ Validation Loss: 0.3963\n",
            "→ Overall mIoU: 0.2110\n",
            "  → background IoU: 0.1626\n",
            "  → building IoU: 0.1638\n",
            "  → road IoU: 0.1961\n",
            "  → water IoU: 0.3845\n",
            "  → barren IoU: 0.0484\n",
            "  → forest IoU: 0.1070\n",
            "  → agriculture IoU: 0.4145\n",
            "[0.000329658544839708]\n"
          ]
        },
        {
          "output_type": "stream",
          "name": "stderr",
          "text": [
            "Epoch 7 [Training]: 100%|██████████| 73/73 [00:45<00:00,  1.60it/s, Loss_seg=8.1867]"
          ]
        },
        {
          "output_type": "stream",
          "name": "stdout",
          "text": [
            "\n",
            "Epoch 7/20 Summary\n",
            "  → Segmentation Source Loss (RAW) : 0.5117\n"
          ]
        },
        {
          "output_type": "stream",
          "name": "stderr",
          "text": [
            "\n",
            "Epoch 7 [Validation]: 100%|██████████| 62/62 [00:14<00:00,  4.31it/s, Val_Loss=6.7372, mIoU=0.2164]\n"
          ]
        },
        {
          "output_type": "stream",
          "name": "stdout",
          "text": [
            "Modello con miou migliore salvato: /content/drive/MyDrive/AML_project/checkpoints/best_model_PIDNET_5_DACS_without_1_class.pth\n",
            "\n",
            "→ Validation Loss: 0.4211\n",
            "→ Overall mIoU: 0.2164\n",
            "  → background IoU: 0.1664\n",
            "  → building IoU: 0.1740\n",
            "  → road IoU: 0.2045\n",
            "  → water IoU: 0.4086\n",
            "  → barren IoU: 0.0445\n",
            "  → forest IoU: 0.0945\n",
            "  → agriculture IoU: 0.4223\n",
            "[0.000329658544839708]\n"
          ]
        },
        {
          "output_type": "stream",
          "name": "stderr",
          "text": [
            "Epoch 8 [Training]: 100%|██████████| 73/73 [00:45<00:00,  1.61it/s, Loss_seg=7.8813]"
          ]
        },
        {
          "output_type": "stream",
          "name": "stdout",
          "text": [
            "\n",
            "Epoch 8/20 Summary\n",
            "  → Segmentation Source Loss (RAW) : 0.4926\n"
          ]
        },
        {
          "output_type": "stream",
          "name": "stderr",
          "text": [
            "\n",
            "Epoch 8 [Validation]: 100%|██████████| 62/62 [00:14<00:00,  4.32it/s, Val_Loss=6.2636, mIoU=0.2258]\n"
          ]
        },
        {
          "output_type": "stream",
          "name": "stdout",
          "text": [
            "Modello con miou migliore salvato: /content/drive/MyDrive/AML_project/checkpoints/best_model_PIDNET_5_DACS_without_1_class.pth\n",
            "\n",
            "→ Validation Loss: 0.3915\n",
            "→ Overall mIoU: 0.2258\n",
            "  → background IoU: 0.1577\n",
            "  → building IoU: 0.1939\n",
            "  → road IoU: 0.2272\n",
            "  → water IoU: 0.4028\n",
            "  → barren IoU: 0.0391\n",
            "  → forest IoU: 0.1118\n",
            "  → agriculture IoU: 0.4483\n",
            "[0.000329658544839708]\n"
          ]
        },
        {
          "output_type": "stream",
          "name": "stderr",
          "text": [
            "Epoch 9 [Training]: 100%|██████████| 73/73 [00:45<00:00,  1.60it/s, Loss_seg=7.6494]"
          ]
        },
        {
          "output_type": "stream",
          "name": "stdout",
          "text": [
            "\n",
            "Epoch 9/20 Summary\n",
            "  → Segmentation Source Loss (RAW) : 0.4781\n"
          ]
        },
        {
          "output_type": "stream",
          "name": "stderr",
          "text": [
            "\n",
            "Epoch 9 [Validation]: 100%|██████████| 62/62 [00:14<00:00,  4.30it/s, Val_Loss=6.6324, mIoU=0.2155]"
          ]
        },
        {
          "output_type": "stream",
          "name": "stdout",
          "text": [
            "\n",
            "→ Validation Loss: 0.4145\n",
            "→ Overall mIoU: 0.2155\n",
            "  → background IoU: 0.1281\n",
            "  → building IoU: 0.1878\n",
            "  → road IoU: 0.2048\n",
            "  → water IoU: 0.4130\n",
            "  → barren IoU: 0.0449\n",
            "  → forest IoU: 0.1153\n",
            "  → agriculture IoU: 0.4143\n",
            "[0.000329658544839708]\n"
          ]
        },
        {
          "output_type": "stream",
          "name": "stderr",
          "text": [
            "\n",
            "Epoch 10 [Training]: 100%|██████████| 73/73 [00:45<00:00,  1.61it/s, Loss_seg=7.3693]"
          ]
        },
        {
          "output_type": "stream",
          "name": "stdout",
          "text": [
            "\n",
            "Epoch 10/20 Summary\n",
            "  → Segmentation Source Loss (RAW) : 0.4606\n"
          ]
        },
        {
          "output_type": "stream",
          "name": "stderr",
          "text": [
            "\n",
            "Epoch 10 [Validation]: 100%|██████████| 62/62 [00:14<00:00,  4.32it/s, Val_Loss=6.3346, mIoU=0.2115]"
          ]
        },
        {
          "output_type": "stream",
          "name": "stdout",
          "text": [
            "\n",
            "→ Validation Loss: 0.3959\n",
            "→ Overall mIoU: 0.2115\n",
            "  → background IoU: 0.1122\n",
            "  → building IoU: 0.1961\n",
            "  → road IoU: 0.2075\n",
            "  → water IoU: 0.3693\n",
            "  → barren IoU: 0.0506\n",
            "  → forest IoU: 0.1220\n",
            "  → agriculture IoU: 0.4227\n",
            "[0.000329658544839708]\n"
          ]
        },
        {
          "output_type": "stream",
          "name": "stderr",
          "text": [
            "\n",
            "Epoch 11 [Training]: 100%|██████████| 73/73 [00:45<00:00,  1.60it/s, Loss_seg=7.3634]"
          ]
        },
        {
          "output_type": "stream",
          "name": "stdout",
          "text": [
            "\n",
            "Epoch 11/20 Summary\n",
            "  → Segmentation Source Loss (RAW) : 0.4602\n"
          ]
        },
        {
          "output_type": "stream",
          "name": "stderr",
          "text": [
            "\n",
            "Epoch 11 [Validation]: 100%|██████████| 62/62 [00:14<00:00,  4.31it/s, Val_Loss=6.6463, mIoU=0.2129]"
          ]
        },
        {
          "output_type": "stream",
          "name": "stdout",
          "text": [
            "\n",
            "→ Validation Loss: 0.4154\n",
            "→ Overall mIoU: 0.2129\n",
            "  → background IoU: 0.1032\n",
            "  → building IoU: 0.1763\n",
            "  → road IoU: 0.2226\n",
            "  → water IoU: 0.3841\n",
            "  → barren IoU: 0.0485\n",
            "  → forest IoU: 0.1285\n",
            "  → agriculture IoU: 0.4272\n",
            "[0.000329658544839708]\n"
          ]
        },
        {
          "output_type": "stream",
          "name": "stderr",
          "text": [
            "\n",
            "Epoch 12 [Training]: 100%|██████████| 73/73 [00:45<00:00,  1.60it/s, Loss_seg=7.1995]"
          ]
        },
        {
          "output_type": "stream",
          "name": "stdout",
          "text": [
            "\n",
            "Epoch 12/20 Summary\n",
            "  → Segmentation Source Loss (RAW) : 0.4500\n"
          ]
        },
        {
          "output_type": "stream",
          "name": "stderr",
          "text": [
            "\n",
            "Epoch 12 [Validation]: 100%|██████████| 62/62 [00:14<00:00,  4.31it/s, Val_Loss=5.8026, mIoU=0.2421]\n"
          ]
        },
        {
          "output_type": "stream",
          "name": "stdout",
          "text": [
            "Modello con miou migliore salvato: /content/drive/MyDrive/AML_project/checkpoints/best_model_PIDNET_5_DACS_without_1_class.pth\n",
            "\n",
            "→ Validation Loss: 0.3627\n",
            "→ Overall mIoU: 0.2421\n",
            "  → background IoU: 0.2205\n",
            "  → building IoU: 0.2181\n",
            "  → road IoU: 0.2187\n",
            "  → water IoU: 0.4030\n",
            "  → barren IoU: 0.0617\n",
            "  → forest IoU: 0.1193\n",
            "  → agriculture IoU: 0.4537\n",
            "[0.000329658544839708]\n"
          ]
        },
        {
          "output_type": "stream",
          "name": "stderr",
          "text": [
            "Epoch 13 [Training]: 100%|██████████| 73/73 [00:45<00:00,  1.61it/s, Loss_seg=7.3155]"
          ]
        },
        {
          "output_type": "stream",
          "name": "stdout",
          "text": [
            "\n",
            "Epoch 13/20 Summary\n",
            "  → Segmentation Source Loss (RAW) : 0.4572\n"
          ]
        },
        {
          "output_type": "stream",
          "name": "stderr",
          "text": [
            "\n",
            "Epoch 13 [Validation]: 100%|██████████| 62/62 [00:14<00:00,  4.32it/s, Val_Loss=6.3842, mIoU=0.2252]"
          ]
        },
        {
          "output_type": "stream",
          "name": "stdout",
          "text": [
            "\n",
            "→ Validation Loss: 0.3990\n",
            "→ Overall mIoU: 0.2252\n",
            "  → background IoU: 0.1708\n",
            "  → building IoU: 0.1591\n",
            "  → road IoU: 0.2357\n",
            "  → water IoU: 0.4098\n",
            "  → barren IoU: 0.0513\n",
            "  → forest IoU: 0.1110\n",
            "  → agriculture IoU: 0.4386\n",
            "[0.000329658544839708]\n"
          ]
        },
        {
          "output_type": "stream",
          "name": "stderr",
          "text": [
            "\n",
            "Epoch 14 [Training]: 100%|██████████| 73/73 [00:45<00:00,  1.61it/s, Loss_seg=7.1553]"
          ]
        },
        {
          "output_type": "stream",
          "name": "stdout",
          "text": [
            "\n",
            "Epoch 14/20 Summary\n",
            "  → Segmentation Source Loss (RAW) : 0.4472\n"
          ]
        },
        {
          "output_type": "stream",
          "name": "stderr",
          "text": [
            "\n",
            "Epoch 14 [Validation]: 100%|██████████| 62/62 [00:14<00:00,  4.33it/s, Val_Loss=6.1782, mIoU=0.2299]"
          ]
        },
        {
          "output_type": "stream",
          "name": "stdout",
          "text": [
            "\n",
            "→ Validation Loss: 0.3861\n",
            "→ Overall mIoU: 0.2299\n",
            "  → background IoU: 0.1456\n",
            "  → building IoU: 0.1731\n",
            "  → road IoU: 0.2512\n",
            "  → water IoU: 0.4003\n",
            "  → barren IoU: 0.0574\n",
            "  → forest IoU: 0.1255\n",
            "  → agriculture IoU: 0.4565\n",
            "[0.000329658544839708]\n"
          ]
        },
        {
          "output_type": "stream",
          "name": "stderr",
          "text": [
            "\n",
            "Epoch 15 [Training]: 100%|██████████| 73/73 [00:45<00:00,  1.60it/s, Loss_seg=7.1336]"
          ]
        },
        {
          "output_type": "stream",
          "name": "stdout",
          "text": [
            "\n",
            "Epoch 15/20 Summary\n",
            "  → Segmentation Source Loss (RAW) : 0.4459\n"
          ]
        },
        {
          "output_type": "stream",
          "name": "stderr",
          "text": [
            "\n",
            "Epoch 15 [Validation]: 100%|██████████| 62/62 [00:14<00:00,  4.31it/s, Val_Loss=6.2365, mIoU=0.2429]\n"
          ]
        },
        {
          "output_type": "stream",
          "name": "stdout",
          "text": [
            "Modello con miou migliore salvato: /content/drive/MyDrive/AML_project/checkpoints/best_model_PIDNET_5_DACS_without_1_class.pth\n",
            "\n",
            "→ Validation Loss: 0.3898\n",
            "→ Overall mIoU: 0.2429\n",
            "  → background IoU: 0.2049\n",
            "  → building IoU: 0.1981\n",
            "  → road IoU: 0.2459\n",
            "  → water IoU: 0.4002\n",
            "  → barren IoU: 0.0682\n",
            "  → forest IoU: 0.1364\n",
            "  → agriculture IoU: 0.4468\n",
            "[0.000329658544839708]\n"
          ]
        },
        {
          "output_type": "stream",
          "name": "stderr",
          "text": [
            "Epoch 16 [Training]: 100%|██████████| 73/73 [00:45<00:00,  1.60it/s, Loss_seg=7.1295]"
          ]
        },
        {
          "output_type": "stream",
          "name": "stdout",
          "text": [
            "\n",
            "Epoch 16/20 Summary\n",
            "  → Segmentation Source Loss (RAW) : 0.4456\n"
          ]
        },
        {
          "output_type": "stream",
          "name": "stderr",
          "text": [
            "\n",
            "Epoch 16 [Validation]: 100%|██████████| 62/62 [00:14<00:00,  4.33it/s, Val_Loss=5.8466, mIoU=0.2383]"
          ]
        },
        {
          "output_type": "stream",
          "name": "stdout",
          "text": [
            "\n",
            "→ Validation Loss: 0.3654\n",
            "→ Overall mIoU: 0.2383\n",
            "  → background IoU: 0.1555\n",
            "  → building IoU: 0.2063\n",
            "  → road IoU: 0.2276\n",
            "  → water IoU: 0.4317\n",
            "  → barren IoU: 0.0487\n",
            "  → forest IoU: 0.1364\n",
            "  → agriculture IoU: 0.4616\n",
            "[0.000164829272419854]\n"
          ]
        },
        {
          "output_type": "stream",
          "name": "stderr",
          "text": [
            "\n",
            "Epoch 17 [Training]: 100%|██████████| 73/73 [00:45<00:00,  1.61it/s, Loss_seg=7.1130]"
          ]
        },
        {
          "output_type": "stream",
          "name": "stdout",
          "text": [
            "\n",
            "Epoch 17/20 Summary\n",
            "  → Segmentation Source Loss (RAW) : 0.4446\n"
          ]
        },
        {
          "output_type": "stream",
          "name": "stderr",
          "text": [
            "\n",
            "Epoch 17 [Validation]: 100%|██████████| 62/62 [00:14<00:00,  4.29it/s, Val_Loss=6.1908, mIoU=0.2409]"
          ]
        },
        {
          "output_type": "stream",
          "name": "stdout",
          "text": [
            "\n",
            "→ Validation Loss: 0.3869\n",
            "→ Overall mIoU: 0.2409\n",
            "  → background IoU: 0.2001\n",
            "  → building IoU: 0.2065\n",
            "  → road IoU: 0.2339\n",
            "  → water IoU: 0.4135\n",
            "  → barren IoU: 0.0472\n",
            "  → forest IoU: 0.1330\n",
            "  → agriculture IoU: 0.4524\n",
            "[0.000164829272419854]\n"
          ]
        },
        {
          "output_type": "stream",
          "name": "stderr",
          "text": [
            "\n",
            "Epoch 18 [Training]: 100%|██████████| 73/73 [00:45<00:00,  1.61it/s, Loss_seg=7.1365]"
          ]
        },
        {
          "output_type": "stream",
          "name": "stdout",
          "text": [
            "\n",
            "Epoch 18/20 Summary\n",
            "  → Segmentation Source Loss (RAW) : 0.4460\n"
          ]
        },
        {
          "output_type": "stream",
          "name": "stderr",
          "text": [
            "\n",
            "Epoch 18 [Validation]: 100%|██████████| 62/62 [00:14<00:00,  4.30it/s, Val_Loss=6.3567, mIoU=0.2456]\n"
          ]
        },
        {
          "output_type": "stream",
          "name": "stdout",
          "text": [
            "Modello con miou migliore salvato: /content/drive/MyDrive/AML_project/checkpoints/best_model_PIDNET_5_DACS_without_1_class.pth\n",
            "\n",
            "→ Validation Loss: 0.3973\n",
            "→ Overall mIoU: 0.2456\n",
            "  → background IoU: 0.2020\n",
            "  → building IoU: 0.2027\n",
            "  → road IoU: 0.2473\n",
            "  → water IoU: 0.4268\n",
            "  → barren IoU: 0.0502\n",
            "  → forest IoU: 0.1363\n",
            "  → agriculture IoU: 0.4537\n",
            "[0.000164829272419854]\n"
          ]
        },
        {
          "output_type": "stream",
          "name": "stderr",
          "text": [
            "Epoch 19 [Training]: 100%|██████████| 73/73 [00:45<00:00,  1.61it/s, Loss_seg=7.2709]"
          ]
        },
        {
          "output_type": "stream",
          "name": "stdout",
          "text": [
            "\n",
            "Epoch 19/20 Summary\n",
            "  → Segmentation Source Loss (RAW) : 0.4544\n"
          ]
        },
        {
          "output_type": "stream",
          "name": "stderr",
          "text": [
            "\n",
            "Epoch 19 [Validation]: 100%|██████████| 62/62 [00:14<00:00,  4.31it/s, Val_Loss=5.9246, mIoU=0.2570]\n"
          ]
        },
        {
          "output_type": "stream",
          "name": "stdout",
          "text": [
            "Modello con miou migliore salvato: /content/drive/MyDrive/AML_project/checkpoints/best_model_PIDNET_5_DACS_without_1_class.pth\n",
            "\n",
            "→ Validation Loss: 0.3703\n",
            "→ Overall mIoU: 0.2570\n",
            "  → background IoU: 0.2818\n",
            "  → building IoU: 0.1839\n",
            "  → road IoU: 0.2334\n",
            "  → water IoU: 0.4426\n",
            "  → barren IoU: 0.0581\n",
            "  → forest IoU: 0.1370\n",
            "  → agriculture IoU: 0.4622\n",
            "[0.000164829272419854]\n"
          ]
        },
        {
          "output_type": "stream",
          "name": "stderr",
          "text": [
            "Epoch 20 [Training]: 100%|██████████| 73/73 [00:45<00:00,  1.61it/s, Loss_seg=7.6366]"
          ]
        },
        {
          "output_type": "stream",
          "name": "stdout",
          "text": [
            "\n",
            "Epoch 20/20 Summary\n",
            "  → Segmentation Source Loss (RAW) : 0.4773\n"
          ]
        },
        {
          "output_type": "stream",
          "name": "stderr",
          "text": [
            "\n",
            "Epoch 20 [Validation]: 100%|██████████| 62/62 [00:14<00:00,  4.30it/s, Val_Loss=5.6247, mIoU=0.2481]\n"
          ]
        },
        {
          "output_type": "stream",
          "name": "stdout",
          "text": [
            "\n",
            "→ Validation Loss: 0.3515\n",
            "→ Overall mIoU: 0.2481\n",
            "  → background IoU: 0.1710\n",
            "  → building IoU: 0.2219\n",
            "  → road IoU: 0.2586\n",
            "  → water IoU: 0.4229\n",
            "  → barren IoU: 0.0522\n",
            "  → forest IoU: 0.1414\n",
            "  → agriculture IoU: 0.4691\n",
            "[0.000329658544839708]\n"
          ]
        },
        {
          "output_type": "stream",
          "name": "stderr",
          "text": [
            "Epoch 1 [Training]: 100%|██████████| 73/73 [00:45<00:00,  1.61it/s, Loss_seg=22.9880]"
          ]
        },
        {
          "output_type": "stream",
          "name": "stdout",
          "text": [
            "\n",
            "Epoch 1/20 Summary\n",
            "  → Segmentation Source Loss (RAW) : 1.4368\n"
          ]
        },
        {
          "output_type": "stream",
          "name": "stderr",
          "text": [
            "\n",
            "Epoch 1 [Validation]: 100%|██████████| 62/62 [00:14<00:00,  4.30it/s, Val_Loss=8.3993, mIoU=0.1381]\n"
          ]
        },
        {
          "output_type": "stream",
          "name": "stdout",
          "text": [
            "Modello con miou migliore salvato: /content/drive/MyDrive/AML_project/checkpoints/best_model_PIDNET_5_DACS_without_2_class.pth\n",
            "\n",
            "→ Validation Loss: 0.5250\n",
            "→ Overall mIoU: 0.1381\n",
            "  → background IoU: 0.0836\n",
            "  → building IoU: 0.1999\n",
            "  → road IoU: 0.0747\n",
            "  → water IoU: 0.1851\n",
            "  → barren IoU: 0.0266\n",
            "  → forest IoU: 0.0627\n",
            "  → agriculture IoU: 0.3339\n",
            "[0.000329658544839708]\n"
          ]
        },
        {
          "output_type": "stream",
          "name": "stderr",
          "text": [
            "Epoch 2 [Training]: 100%|██████████| 73/73 [00:45<00:00,  1.60it/s, Loss_seg=13.7856]"
          ]
        },
        {
          "output_type": "stream",
          "name": "stdout",
          "text": [
            "\n",
            "Epoch 2/20 Summary\n",
            "  → Segmentation Source Loss (RAW) : 0.8616\n"
          ]
        },
        {
          "output_type": "stream",
          "name": "stderr",
          "text": [
            "\n",
            "Epoch 2 [Validation]: 100%|██████████| 62/62 [00:14<00:00,  4.33it/s, Val_Loss=5.9347, mIoU=0.1909]\n"
          ]
        },
        {
          "output_type": "stream",
          "name": "stdout",
          "text": [
            "Modello con miou migliore salvato: /content/drive/MyDrive/AML_project/checkpoints/best_model_PIDNET_5_DACS_without_2_class.pth\n",
            "\n",
            "→ Validation Loss: 0.3709\n",
            "→ Overall mIoU: 0.1909\n",
            "  → background IoU: 0.1124\n",
            "  → building IoU: 0.2493\n",
            "  → road IoU: 0.1085\n",
            "  → water IoU: 0.3288\n",
            "  → barren IoU: 0.0517\n",
            "  → forest IoU: 0.0909\n",
            "  → agriculture IoU: 0.3946\n",
            "[0.000329658544839708]\n"
          ]
        },
        {
          "output_type": "stream",
          "name": "stderr",
          "text": [
            "Epoch 3 [Training]: 100%|██████████| 73/73 [00:46<00:00,  1.58it/s, Loss_seg=11.0533]"
          ]
        },
        {
          "output_type": "stream",
          "name": "stdout",
          "text": [
            "\n",
            "Epoch 3/20 Summary\n",
            "  → Segmentation Source Loss (RAW) : 0.6908\n"
          ]
        },
        {
          "output_type": "stream",
          "name": "stderr",
          "text": [
            "\n",
            "Epoch 3 [Validation]: 100%|██████████| 62/62 [00:14<00:00,  4.32it/s, Val_Loss=6.3245, mIoU=0.2078]\n"
          ]
        },
        {
          "output_type": "stream",
          "name": "stdout",
          "text": [
            "Modello con miou migliore salvato: /content/drive/MyDrive/AML_project/checkpoints/best_model_PIDNET_5_DACS_without_2_class.pth\n",
            "\n",
            "→ Validation Loss: 0.3953\n",
            "→ Overall mIoU: 0.2078\n",
            "  → background IoU: 0.1466\n",
            "  → building IoU: 0.2966\n",
            "  → road IoU: 0.1442\n",
            "  → water IoU: 0.3300\n",
            "  → barren IoU: 0.0382\n",
            "  → forest IoU: 0.0862\n",
            "  → agriculture IoU: 0.4125\n",
            "[0.000329658544839708]\n"
          ]
        },
        {
          "output_type": "stream",
          "name": "stderr",
          "text": [
            "Epoch 4 [Training]: 100%|██████████| 73/73 [00:45<00:00,  1.60it/s, Loss_seg=9.5668]"
          ]
        },
        {
          "output_type": "stream",
          "name": "stdout",
          "text": [
            "\n",
            "Epoch 4/20 Summary\n",
            "  → Segmentation Source Loss (RAW) : 0.5979\n"
          ]
        },
        {
          "output_type": "stream",
          "name": "stderr",
          "text": [
            "\n",
            "Epoch 4 [Validation]: 100%|██████████| 62/62 [00:14<00:00,  4.33it/s, Val_Loss=6.1797, mIoU=0.2294]\n"
          ]
        },
        {
          "output_type": "stream",
          "name": "stdout",
          "text": [
            "Modello con miou migliore salvato: /content/drive/MyDrive/AML_project/checkpoints/best_model_PIDNET_5_DACS_without_2_class.pth\n",
            "\n",
            "→ Validation Loss: 0.3862\n",
            "→ Overall mIoU: 0.2294\n",
            "  → background IoU: 0.1595\n",
            "  → building IoU: 0.3045\n",
            "  → road IoU: 0.1717\n",
            "  → water IoU: 0.3823\n",
            "  → barren IoU: 0.0766\n",
            "  → forest IoU: 0.0858\n",
            "  → agriculture IoU: 0.4255\n",
            "[0.000329658544839708]\n"
          ]
        },
        {
          "output_type": "stream",
          "name": "stderr",
          "text": [
            "Epoch 5 [Training]: 100%|██████████| 73/73 [00:45<00:00,  1.60it/s, Loss_seg=8.7450]"
          ]
        },
        {
          "output_type": "stream",
          "name": "stdout",
          "text": [
            "\n",
            "Epoch 5/20 Summary\n",
            "  → Segmentation Source Loss (RAW) : 0.5466\n"
          ]
        },
        {
          "output_type": "stream",
          "name": "stderr",
          "text": [
            "\n",
            "Epoch 5 [Validation]: 100%|██████████| 62/62 [00:14<00:00,  4.33it/s, Val_Loss=6.3930, mIoU=0.2163]"
          ]
        },
        {
          "output_type": "stream",
          "name": "stdout",
          "text": [
            "\n",
            "→ Validation Loss: 0.3996\n",
            "→ Overall mIoU: 0.2163\n",
            "  → background IoU: 0.1618\n",
            "  → building IoU: 0.3147\n",
            "  → road IoU: 0.1824\n",
            "  → water IoU: 0.2900\n",
            "  → barren IoU: 0.0553\n",
            "  → forest IoU: 0.1020\n",
            "  → agriculture IoU: 0.4079\n",
            "[0.000329658544839708]\n"
          ]
        },
        {
          "output_type": "stream",
          "name": "stderr",
          "text": [
            "\n",
            "Epoch 6 [Training]: 100%|██████████| 73/73 [00:45<00:00,  1.60it/s, Loss_seg=8.1787]"
          ]
        },
        {
          "output_type": "stream",
          "name": "stdout",
          "text": [
            "\n",
            "Epoch 6/20 Summary\n",
            "  → Segmentation Source Loss (RAW) : 0.5112\n"
          ]
        },
        {
          "output_type": "stream",
          "name": "stderr",
          "text": [
            "\n",
            "Epoch 6 [Validation]: 100%|██████████| 62/62 [00:14<00:00,  4.30it/s, Val_Loss=5.7657, mIoU=0.2290]"
          ]
        },
        {
          "output_type": "stream",
          "name": "stdout",
          "text": [
            "\n",
            "→ Validation Loss: 0.3604\n",
            "→ Overall mIoU: 0.2290\n",
            "  → background IoU: 0.2188\n",
            "  → building IoU: 0.2950\n",
            "  → road IoU: 0.1843\n",
            "  → water IoU: 0.3481\n",
            "  → barren IoU: 0.0569\n",
            "  → forest IoU: 0.0988\n",
            "  → agriculture IoU: 0.4008\n",
            "[0.000329658544839708]\n"
          ]
        },
        {
          "output_type": "stream",
          "name": "stderr",
          "text": [
            "\n",
            "Epoch 7 [Training]: 100%|██████████| 73/73 [00:45<00:00,  1.59it/s, Loss_seg=8.0039]"
          ]
        },
        {
          "output_type": "stream",
          "name": "stdout",
          "text": [
            "\n",
            "Epoch 7/20 Summary\n",
            "  → Segmentation Source Loss (RAW) : 0.5002\n"
          ]
        },
        {
          "output_type": "stream",
          "name": "stderr",
          "text": [
            "\n",
            "Epoch 7 [Validation]: 100%|██████████| 62/62 [00:14<00:00,  4.33it/s, Val_Loss=6.5406, mIoU=0.2432]\n"
          ]
        },
        {
          "output_type": "stream",
          "name": "stdout",
          "text": [
            "Modello con miou migliore salvato: /content/drive/MyDrive/AML_project/checkpoints/best_model_PIDNET_5_DACS_without_2_class.pth\n",
            "\n",
            "→ Validation Loss: 0.4088\n",
            "→ Overall mIoU: 0.2432\n",
            "  → background IoU: 0.3051\n",
            "  → building IoU: 0.2818\n",
            "  → road IoU: 0.1831\n",
            "  → water IoU: 0.3480\n",
            "  → barren IoU: 0.0736\n",
            "  → forest IoU: 0.1067\n",
            "  → agriculture IoU: 0.4041\n",
            "[0.000329658544839708]\n"
          ]
        },
        {
          "output_type": "stream",
          "name": "stderr",
          "text": [
            "Epoch 8 [Training]: 100%|██████████| 73/73 [00:45<00:00,  1.59it/s, Loss_seg=7.6160]"
          ]
        },
        {
          "output_type": "stream",
          "name": "stdout",
          "text": [
            "\n",
            "Epoch 8/20 Summary\n",
            "  → Segmentation Source Loss (RAW) : 0.4760\n"
          ]
        },
        {
          "output_type": "stream",
          "name": "stderr",
          "text": [
            "\n",
            "Epoch 8 [Validation]: 100%|██████████| 62/62 [00:14<00:00,  4.31it/s, Val_Loss=6.5691, mIoU=0.2482]\n"
          ]
        },
        {
          "output_type": "stream",
          "name": "stdout",
          "text": [
            "Modello con miou migliore salvato: /content/drive/MyDrive/AML_project/checkpoints/best_model_PIDNET_5_DACS_without_2_class.pth\n",
            "\n",
            "→ Validation Loss: 0.4106\n",
            "→ Overall mIoU: 0.2482\n",
            "  → background IoU: 0.2503\n",
            "  → building IoU: 0.3171\n",
            "  → road IoU: 0.2020\n",
            "  → water IoU: 0.3919\n",
            "  → barren IoU: 0.0705\n",
            "  → forest IoU: 0.0907\n",
            "  → agriculture IoU: 0.4147\n",
            "[0.000329658544839708]\n"
          ]
        },
        {
          "output_type": "stream",
          "name": "stderr",
          "text": [
            "Epoch 9 [Training]: 100%|██████████| 73/73 [00:45<00:00,  1.61it/s, Loss_seg=7.3835]"
          ]
        },
        {
          "output_type": "stream",
          "name": "stdout",
          "text": [
            "\n",
            "Epoch 9/20 Summary\n",
            "  → Segmentation Source Loss (RAW) : 0.4615\n"
          ]
        },
        {
          "output_type": "stream",
          "name": "stderr",
          "text": [
            "\n",
            "Epoch 9 [Validation]: 100%|██████████| 62/62 [00:14<00:00,  4.32it/s, Val_Loss=6.2976, mIoU=0.2499]\n"
          ]
        },
        {
          "output_type": "stream",
          "name": "stdout",
          "text": [
            "Modello con miou migliore salvato: /content/drive/MyDrive/AML_project/checkpoints/best_model_PIDNET_5_DACS_without_2_class.pth\n",
            "\n",
            "→ Validation Loss: 0.3936\n",
            "→ Overall mIoU: 0.2499\n",
            "  → background IoU: 0.2896\n",
            "  → building IoU: 0.3013\n",
            "  → road IoU: 0.2012\n",
            "  → water IoU: 0.3717\n",
            "  → barren IoU: 0.0786\n",
            "  → forest IoU: 0.1163\n",
            "  → agriculture IoU: 0.3903\n",
            "[0.000329658544839708]\n"
          ]
        },
        {
          "output_type": "stream",
          "name": "stderr",
          "text": [
            "Epoch 10 [Training]: 100%|██████████| 73/73 [00:45<00:00,  1.59it/s, Loss_seg=7.2386]"
          ]
        },
        {
          "output_type": "stream",
          "name": "stdout",
          "text": [
            "\n",
            "Epoch 10/20 Summary\n",
            "  → Segmentation Source Loss (RAW) : 0.4524\n"
          ]
        },
        {
          "output_type": "stream",
          "name": "stderr",
          "text": [
            "\n",
            "Epoch 10 [Validation]: 100%|██████████| 62/62 [00:14<00:00,  4.30it/s, Val_Loss=6.4677, mIoU=0.2509]\n"
          ]
        },
        {
          "output_type": "stream",
          "name": "stdout",
          "text": [
            "Modello con miou migliore salvato: /content/drive/MyDrive/AML_project/checkpoints/best_model_PIDNET_5_DACS_without_2_class.pth\n",
            "\n",
            "→ Validation Loss: 0.4042\n",
            "→ Overall mIoU: 0.2509\n",
            "  → background IoU: 0.2598\n",
            "  → building IoU: 0.3122\n",
            "  → road IoU: 0.1969\n",
            "  → water IoU: 0.3891\n",
            "  → barren IoU: 0.1055\n",
            "  → forest IoU: 0.1095\n",
            "  → agriculture IoU: 0.3832\n",
            "[0.000329658544839708]\n"
          ]
        },
        {
          "output_type": "stream",
          "name": "stderr",
          "text": [
            "Epoch 11 [Training]: 100%|██████████| 73/73 [00:45<00:00,  1.60it/s, Loss_seg=7.1254]"
          ]
        },
        {
          "output_type": "stream",
          "name": "stdout",
          "text": [
            "\n",
            "Epoch 11/20 Summary\n",
            "  → Segmentation Source Loss (RAW) : 0.4453\n"
          ]
        },
        {
          "output_type": "stream",
          "name": "stderr",
          "text": [
            "\n",
            "Epoch 11 [Validation]: 100%|██████████| 62/62 [00:14<00:00,  4.30it/s, Val_Loss=6.8435, mIoU=0.2558]\n"
          ]
        },
        {
          "output_type": "stream",
          "name": "stdout",
          "text": [
            "Modello con miou migliore salvato: /content/drive/MyDrive/AML_project/checkpoints/best_model_PIDNET_5_DACS_without_2_class.pth\n",
            "\n",
            "→ Validation Loss: 0.4277\n",
            "→ Overall mIoU: 0.2558\n",
            "  → background IoU: 0.1840\n",
            "  → building IoU: 0.3589\n",
            "  → road IoU: 0.2279\n",
            "  → water IoU: 0.4262\n",
            "  → barren IoU: 0.0895\n",
            "  → forest IoU: 0.0970\n",
            "  → agriculture IoU: 0.4074\n",
            "[0.000329658544839708]\n"
          ]
        },
        {
          "output_type": "stream",
          "name": "stderr",
          "text": [
            "Epoch 12 [Training]: 100%|██████████| 73/73 [00:45<00:00,  1.59it/s, Loss_seg=6.9462]"
          ]
        },
        {
          "output_type": "stream",
          "name": "stdout",
          "text": [
            "\n",
            "Epoch 12/20 Summary\n",
            "  → Segmentation Source Loss (RAW) : 0.4341\n"
          ]
        },
        {
          "output_type": "stream",
          "name": "stderr",
          "text": [
            "\n",
            "Epoch 12 [Validation]: 100%|██████████| 62/62 [00:14<00:00,  4.32it/s, Val_Loss=6.8066, mIoU=0.2517]"
          ]
        },
        {
          "output_type": "stream",
          "name": "stdout",
          "text": [
            "\n",
            "→ Validation Loss: 0.4254\n",
            "→ Overall mIoU: 0.2517\n",
            "  → background IoU: 0.2334\n",
            "  → building IoU: 0.3220\n",
            "  → road IoU: 0.2017\n",
            "  → water IoU: 0.3950\n",
            "  → barren IoU: 0.1295\n",
            "  → forest IoU: 0.0958\n",
            "  → agriculture IoU: 0.3842\n",
            "[0.000329658544839708]\n"
          ]
        },
        {
          "output_type": "stream",
          "name": "stderr",
          "text": [
            "\n",
            "Epoch 13 [Training]: 100%|██████████| 73/73 [00:45<00:00,  1.61it/s, Loss_seg=6.8558]"
          ]
        },
        {
          "output_type": "stream",
          "name": "stdout",
          "text": [
            "\n",
            "Epoch 13/20 Summary\n",
            "  → Segmentation Source Loss (RAW) : 0.4285\n"
          ]
        },
        {
          "output_type": "stream",
          "name": "stderr",
          "text": [
            "\n",
            "Epoch 13 [Validation]: 100%|██████████| 62/62 [00:14<00:00,  4.32it/s, Val_Loss=6.8838, mIoU=0.2592]\n"
          ]
        },
        {
          "output_type": "stream",
          "name": "stdout",
          "text": [
            "Modello con miou migliore salvato: /content/drive/MyDrive/AML_project/checkpoints/best_model_PIDNET_5_DACS_without_2_class.pth\n",
            "\n",
            "→ Validation Loss: 0.4302\n",
            "→ Overall mIoU: 0.2592\n",
            "  → background IoU: 0.2194\n",
            "  → building IoU: 0.3551\n",
            "  → road IoU: 0.2314\n",
            "  → water IoU: 0.4445\n",
            "  → barren IoU: 0.0772\n",
            "  → forest IoU: 0.0913\n",
            "  → agriculture IoU: 0.3955\n",
            "[0.000329658544839708]\n"
          ]
        },
        {
          "output_type": "stream",
          "name": "stderr",
          "text": [
            "Epoch 14 [Training]: 100%|██████████| 73/73 [00:45<00:00,  1.61it/s, Loss_seg=6.8213]"
          ]
        },
        {
          "output_type": "stream",
          "name": "stdout",
          "text": [
            "\n",
            "Epoch 14/20 Summary\n",
            "  → Segmentation Source Loss (RAW) : 0.4263\n"
          ]
        },
        {
          "output_type": "stream",
          "name": "stderr",
          "text": [
            "\n",
            "Epoch 14 [Validation]: 100%|██████████| 62/62 [00:14<00:00,  4.31it/s, Val_Loss=6.2689, mIoU=0.2697]\n"
          ]
        },
        {
          "output_type": "stream",
          "name": "stdout",
          "text": [
            "Modello con miou migliore salvato: /content/drive/MyDrive/AML_project/checkpoints/best_model_PIDNET_5_DACS_without_2_class.pth\n",
            "\n",
            "→ Validation Loss: 0.3918\n",
            "→ Overall mIoU: 0.2697\n",
            "  → background IoU: 0.2786\n",
            "  → building IoU: 0.3146\n",
            "  → road IoU: 0.2125\n",
            "  → water IoU: 0.4717\n",
            "  → barren IoU: 0.1109\n",
            "  → forest IoU: 0.0971\n",
            "  → agriculture IoU: 0.4024\n",
            "[0.000329658544839708]\n"
          ]
        },
        {
          "output_type": "stream",
          "name": "stderr",
          "text": [
            "Epoch 15 [Training]: 100%|██████████| 73/73 [00:45<00:00,  1.60it/s, Loss_seg=6.7667]"
          ]
        },
        {
          "output_type": "stream",
          "name": "stdout",
          "text": [
            "\n",
            "Epoch 15/20 Summary\n",
            "  → Segmentation Source Loss (RAW) : 0.4229\n"
          ]
        },
        {
          "output_type": "stream",
          "name": "stderr",
          "text": [
            "\n",
            "Epoch 15 [Validation]: 100%|██████████| 62/62 [00:14<00:00,  4.31it/s, Val_Loss=6.7296, mIoU=0.2647]\n"
          ]
        },
        {
          "output_type": "stream",
          "name": "stdout",
          "text": [
            "\n",
            "→ Validation Loss: 0.4206\n",
            "→ Overall mIoU: 0.2647\n",
            "  → background IoU: 0.2925\n",
            "  → building IoU: 0.2945\n",
            "  → road IoU: 0.2164\n",
            "  → water IoU: 0.4595\n",
            "  → barren IoU: 0.1133\n",
            "  → forest IoU: 0.1081\n",
            "  → agriculture IoU: 0.3687\n",
            "[0.000329658544839708]\n"
          ]
        },
        {
          "output_type": "stream",
          "name": "stderr",
          "text": [
            "Epoch 16 [Training]: 100%|██████████| 73/73 [00:45<00:00,  1.60it/s, Loss_seg=6.7909]"
          ]
        },
        {
          "output_type": "stream",
          "name": "stdout",
          "text": [
            "\n",
            "Epoch 16/20 Summary\n",
            "  → Segmentation Source Loss (RAW) : 0.4244\n"
          ]
        },
        {
          "output_type": "stream",
          "name": "stderr",
          "text": [
            "\n",
            "Epoch 16 [Validation]: 100%|██████████| 62/62 [00:14<00:00,  4.33it/s, Val_Loss=6.1755, mIoU=0.2772]\n"
          ]
        },
        {
          "output_type": "stream",
          "name": "stdout",
          "text": [
            "Modello con miou migliore salvato: /content/drive/MyDrive/AML_project/checkpoints/best_model_PIDNET_5_DACS_without_2_class.pth\n",
            "\n",
            "→ Validation Loss: 0.3860\n",
            "→ Overall mIoU: 0.2772\n",
            "  → background IoU: 0.2933\n",
            "  → building IoU: 0.3353\n",
            "  → road IoU: 0.2310\n",
            "  → water IoU: 0.4589\n",
            "  → barren IoU: 0.0978\n",
            "  → forest IoU: 0.1171\n",
            "  → agriculture IoU: 0.4074\n",
            "[0.000329658544839708]\n"
          ]
        },
        {
          "output_type": "stream",
          "name": "stderr",
          "text": [
            "Epoch 17 [Training]: 100%|██████████| 73/73 [00:44<00:00,  1.62it/s, Loss_seg=6.6264]"
          ]
        },
        {
          "output_type": "stream",
          "name": "stdout",
          "text": [
            "\n",
            "Epoch 17/20 Summary\n",
            "  → Segmentation Source Loss (RAW) : 0.4142\n"
          ]
        },
        {
          "output_type": "stream",
          "name": "stderr",
          "text": [
            "\n",
            "Epoch 17 [Validation]: 100%|██████████| 62/62 [00:14<00:00,  4.32it/s, Val_Loss=6.5975, mIoU=0.2772]"
          ]
        },
        {
          "output_type": "stream",
          "name": "stdout",
          "text": [
            "\n",
            "→ Validation Loss: 0.4123\n",
            "→ Overall mIoU: 0.2772\n",
            "  → background IoU: 0.3100\n",
            "  → building IoU: 0.3326\n",
            "  → road IoU: 0.2374\n",
            "  → water IoU: 0.4463\n",
            "  → barren IoU: 0.1191\n",
            "  → forest IoU: 0.1018\n",
            "  → agriculture IoU: 0.3935\n",
            "[0.000329658544839708]\n"
          ]
        },
        {
          "output_type": "stream",
          "name": "stderr",
          "text": [
            "\n",
            "Epoch 18 [Training]: 100%|██████████| 73/73 [00:45<00:00,  1.60it/s, Loss_seg=6.5318]"
          ]
        },
        {
          "output_type": "stream",
          "name": "stdout",
          "text": [
            "\n",
            "Epoch 18/20 Summary\n",
            "  → Segmentation Source Loss (RAW) : 0.4082\n"
          ]
        },
        {
          "output_type": "stream",
          "name": "stderr",
          "text": [
            "\n",
            "Epoch 18 [Validation]: 100%|██████████| 62/62 [00:14<00:00,  4.32it/s, Val_Loss=6.3947, mIoU=0.2811]\n"
          ]
        },
        {
          "output_type": "stream",
          "name": "stdout",
          "text": [
            "Modello con miou migliore salvato: /content/drive/MyDrive/AML_project/checkpoints/best_model_PIDNET_5_DACS_without_2_class.pth\n",
            "\n",
            "→ Validation Loss: 0.3997\n",
            "→ Overall mIoU: 0.2811\n",
            "  → background IoU: 0.3033\n",
            "  → building IoU: 0.3328\n",
            "  → road IoU: 0.2252\n",
            "  → water IoU: 0.4912\n",
            "  → barren IoU: 0.0994\n",
            "  → forest IoU: 0.1153\n",
            "  → agriculture IoU: 0.4003\n",
            "[0.000329658544839708]\n"
          ]
        },
        {
          "output_type": "stream",
          "name": "stderr",
          "text": [
            "Epoch 19 [Training]: 100%|██████████| 73/73 [00:45<00:00,  1.60it/s, Loss_seg=6.5153]"
          ]
        },
        {
          "output_type": "stream",
          "name": "stdout",
          "text": [
            "\n",
            "Epoch 19/20 Summary\n",
            "  → Segmentation Source Loss (RAW) : 0.4072\n"
          ]
        },
        {
          "output_type": "stream",
          "name": "stderr",
          "text": [
            "\n",
            "Epoch 19 [Validation]: 100%|██████████| 62/62 [00:14<00:00,  4.31it/s, Val_Loss=6.4456, mIoU=0.2750]"
          ]
        },
        {
          "output_type": "stream",
          "name": "stdout",
          "text": [
            "\n",
            "→ Validation Loss: 0.4029\n",
            "→ Overall mIoU: 0.2750\n",
            "  → background IoU: 0.3196\n",
            "  → building IoU: 0.2905\n",
            "  → road IoU: 0.2260\n",
            "  → water IoU: 0.4804\n",
            "  → barren IoU: 0.1043\n",
            "  → forest IoU: 0.1235\n",
            "  → agriculture IoU: 0.3807\n",
            "[0.000329658544839708]\n"
          ]
        },
        {
          "output_type": "stream",
          "name": "stderr",
          "text": [
            "\n",
            "Epoch 20 [Training]: 100%|██████████| 73/73 [00:45<00:00,  1.60it/s, Loss_seg=6.5022]"
          ]
        },
        {
          "output_type": "stream",
          "name": "stdout",
          "text": [
            "\n",
            "Epoch 20/20 Summary\n",
            "  → Segmentation Source Loss (RAW) : 0.4064\n"
          ]
        },
        {
          "output_type": "stream",
          "name": "stderr",
          "text": [
            "\n",
            "Epoch 20 [Validation]: 100%|██████████| 62/62 [00:14<00:00,  4.32it/s, Val_Loss=6.4707, mIoU=0.2787]\n"
          ]
        },
        {
          "output_type": "stream",
          "name": "stdout",
          "text": [
            "\n",
            "→ Validation Loss: 0.4044\n",
            "→ Overall mIoU: 0.2787\n",
            "  → background IoU: 0.2346\n",
            "  → building IoU: 0.3343\n",
            "  → road IoU: 0.2562\n",
            "  → water IoU: 0.4982\n",
            "  → barren IoU: 0.1071\n",
            "  → forest IoU: 0.1113\n",
            "  → agriculture IoU: 0.4090\n",
            "[0.000329658544839708]\n"
          ]
        },
        {
          "output_type": "stream",
          "name": "stderr",
          "text": [
            "Epoch 1 [Training]: 100%|██████████| 73/73 [00:46<00:00,  1.58it/s, Loss_seg=23.1896]"
          ]
        },
        {
          "output_type": "stream",
          "name": "stdout",
          "text": [
            "\n",
            "Epoch 1/20 Summary\n",
            "  → Segmentation Source Loss (RAW) : 1.4493\n"
          ]
        },
        {
          "output_type": "stream",
          "name": "stderr",
          "text": [
            "\n",
            "Epoch 1 [Validation]: 100%|██████████| 62/62 [00:14<00:00,  4.31it/s, Val_Loss=7.9801, mIoU=0.1588]\n"
          ]
        },
        {
          "output_type": "stream",
          "name": "stdout",
          "text": [
            "Modello con miou migliore salvato: /content/drive/MyDrive/AML_project/checkpoints/best_model_PIDNET_5_DACS_without_3_class.pth\n",
            "\n",
            "→ Validation Loss: 0.4988\n",
            "→ Overall mIoU: 0.1588\n",
            "  → background IoU: 0.1125\n",
            "  → building IoU: 0.2301\n",
            "  → road IoU: 0.1420\n",
            "  → water IoU: 0.1952\n",
            "  → barren IoU: 0.0294\n",
            "  → forest IoU: 0.0742\n",
            "  → agriculture IoU: 0.3279\n",
            "[0.000329658544839708]\n"
          ]
        },
        {
          "output_type": "stream",
          "name": "stderr",
          "text": [
            "Epoch 2 [Training]: 100%|██████████| 73/73 [00:45<00:00,  1.60it/s, Loss_seg=12.9747]"
          ]
        },
        {
          "output_type": "stream",
          "name": "stdout",
          "text": [
            "\n",
            "Epoch 2/20 Summary\n",
            "  → Segmentation Source Loss (RAW) : 0.8109\n"
          ]
        },
        {
          "output_type": "stream",
          "name": "stderr",
          "text": [
            "\n",
            "Epoch 2 [Validation]: 100%|██████████| 62/62 [00:14<00:00,  4.28it/s, Val_Loss=6.3956, mIoU=0.1834]\n"
          ]
        },
        {
          "output_type": "stream",
          "name": "stdout",
          "text": [
            "Modello con miou migliore salvato: /content/drive/MyDrive/AML_project/checkpoints/best_model_PIDNET_5_DACS_without_3_class.pth\n",
            "\n",
            "→ Validation Loss: 0.3997\n",
            "→ Overall mIoU: 0.1834\n",
            "  → background IoU: 0.1139\n",
            "  → building IoU: 0.2577\n",
            "  → road IoU: 0.1802\n",
            "  → water IoU: 0.1951\n",
            "  → barren IoU: 0.0411\n",
            "  → forest IoU: 0.0855\n",
            "  → agriculture IoU: 0.4107\n",
            "[0.000329658544839708]\n"
          ]
        },
        {
          "output_type": "stream",
          "name": "stderr",
          "text": [
            "Epoch 3 [Training]: 100%|██████████| 73/73 [00:45<00:00,  1.61it/s, Loss_seg=10.4031]"
          ]
        },
        {
          "output_type": "stream",
          "name": "stdout",
          "text": [
            "\n",
            "Epoch 3/20 Summary\n",
            "  → Segmentation Source Loss (RAW) : 0.6502\n"
          ]
        },
        {
          "output_type": "stream",
          "name": "stderr",
          "text": [
            "\n",
            "Epoch 3 [Validation]: 100%|██████████| 62/62 [00:14<00:00,  4.31it/s, Val_Loss=6.2754, mIoU=0.1990]\n"
          ]
        },
        {
          "output_type": "stream",
          "name": "stdout",
          "text": [
            "Modello con miou migliore salvato: /content/drive/MyDrive/AML_project/checkpoints/best_model_PIDNET_5_DACS_without_3_class.pth\n",
            "\n",
            "→ Validation Loss: 0.3922\n",
            "→ Overall mIoU: 0.1990\n",
            "  → background IoU: 0.1092\n",
            "  → building IoU: 0.2971\n",
            "  → road IoU: 0.1928\n",
            "  → water IoU: 0.3046\n",
            "  → barren IoU: 0.0359\n",
            "  → forest IoU: 0.0756\n",
            "  → agriculture IoU: 0.3775\n",
            "[0.000329658544839708]\n"
          ]
        },
        {
          "output_type": "stream",
          "name": "stderr",
          "text": [
            "Epoch 4 [Training]: 100%|██████████| 73/73 [00:45<00:00,  1.60it/s, Loss_seg=9.3043]"
          ]
        },
        {
          "output_type": "stream",
          "name": "stdout",
          "text": [
            "\n",
            "Epoch 4/20 Summary\n",
            "  → Segmentation Source Loss (RAW) : 0.5815\n"
          ]
        },
        {
          "output_type": "stream",
          "name": "stderr",
          "text": [
            "\n",
            "Epoch 4 [Validation]: 100%|██████████| 62/62 [00:14<00:00,  4.32it/s, Val_Loss=6.2229, mIoU=0.2037]\n"
          ]
        },
        {
          "output_type": "stream",
          "name": "stdout",
          "text": [
            "Modello con miou migliore salvato: /content/drive/MyDrive/AML_project/checkpoints/best_model_PIDNET_5_DACS_without_3_class.pth\n",
            "\n",
            "→ Validation Loss: 0.3889\n",
            "→ Overall mIoU: 0.2037\n",
            "  → background IoU: 0.0806\n",
            "  → building IoU: 0.2908\n",
            "  → road IoU: 0.2079\n",
            "  → water IoU: 0.3077\n",
            "  → barren IoU: 0.0478\n",
            "  → forest IoU: 0.0939\n",
            "  → agriculture IoU: 0.3975\n",
            "[0.000329658544839708]\n"
          ]
        },
        {
          "output_type": "stream",
          "name": "stderr",
          "text": [
            "Epoch 5 [Training]: 100%|██████████| 73/73 [00:45<00:00,  1.60it/s, Loss_seg=8.3697]"
          ]
        },
        {
          "output_type": "stream",
          "name": "stdout",
          "text": [
            "\n",
            "Epoch 5/20 Summary\n",
            "  → Segmentation Source Loss (RAW) : 0.5231\n"
          ]
        },
        {
          "output_type": "stream",
          "name": "stderr",
          "text": [
            "\n",
            "Epoch 5 [Validation]: 100%|██████████| 62/62 [00:14<00:00,  4.32it/s, Val_Loss=6.7319, mIoU=0.2093]\n"
          ]
        },
        {
          "output_type": "stream",
          "name": "stdout",
          "text": [
            "Modello con miou migliore salvato: /content/drive/MyDrive/AML_project/checkpoints/best_model_PIDNET_5_DACS_without_3_class.pth\n",
            "\n",
            "→ Validation Loss: 0.4207\n",
            "→ Overall mIoU: 0.2093\n",
            "  → background IoU: 0.1562\n",
            "  → building IoU: 0.2807\n",
            "  → road IoU: 0.1856\n",
            "  → water IoU: 0.3331\n",
            "  → barren IoU: 0.0527\n",
            "  → forest IoU: 0.0836\n",
            "  → agriculture IoU: 0.3732\n",
            "[0.000329658544839708]\n"
          ]
        },
        {
          "output_type": "stream",
          "name": "stderr",
          "text": [
            "Epoch 6 [Training]: 100%|██████████| 73/73 [00:46<00:00,  1.59it/s, Loss_seg=8.1292]"
          ]
        },
        {
          "output_type": "stream",
          "name": "stdout",
          "text": [
            "\n",
            "Epoch 6/20 Summary\n",
            "  → Segmentation Source Loss (RAW) : 0.5081\n"
          ]
        },
        {
          "output_type": "stream",
          "name": "stderr",
          "text": [
            "\n",
            "Epoch 6 [Validation]: 100%|██████████| 62/62 [00:14<00:00,  4.30it/s, Val_Loss=6.5628, mIoU=0.2033]"
          ]
        },
        {
          "output_type": "stream",
          "name": "stdout",
          "text": [
            "\n",
            "→ Validation Loss: 0.4102\n",
            "→ Overall mIoU: 0.2033\n",
            "  → background IoU: 0.1439\n",
            "  → building IoU: 0.2611\n",
            "  → road IoU: 0.1862\n",
            "  → water IoU: 0.3463\n",
            "  → barren IoU: 0.0509\n",
            "  → forest IoU: 0.0905\n",
            "  → agriculture IoU: 0.3442\n",
            "[0.000329658544839708]\n"
          ]
        },
        {
          "output_type": "stream",
          "name": "stderr",
          "text": [
            "\n",
            "Epoch 7 [Training]: 100%|██████████| 73/73 [00:45<00:00,  1.59it/s, Loss_seg=7.6632]"
          ]
        },
        {
          "output_type": "stream",
          "name": "stdout",
          "text": [
            "\n",
            "Epoch 7/20 Summary\n",
            "  → Segmentation Source Loss (RAW) : 0.4790\n"
          ]
        },
        {
          "output_type": "stream",
          "name": "stderr",
          "text": [
            "\n",
            "Epoch 7 [Validation]: 100%|██████████| 62/62 [00:14<00:00,  4.31it/s, Val_Loss=6.3825, mIoU=0.2203]\n"
          ]
        },
        {
          "output_type": "stream",
          "name": "stdout",
          "text": [
            "Modello con miou migliore salvato: /content/drive/MyDrive/AML_project/checkpoints/best_model_PIDNET_5_DACS_without_3_class.pth\n",
            "\n",
            "→ Validation Loss: 0.3989\n",
            "→ Overall mIoU: 0.2203\n",
            "  → background IoU: 0.2158\n",
            "  → building IoU: 0.2119\n",
            "  → road IoU: 0.1916\n",
            "  → water IoU: 0.3643\n",
            "  → barren IoU: 0.0656\n",
            "  → forest IoU: 0.1123\n",
            "  → agriculture IoU: 0.3806\n",
            "[0.000329658544839708]\n"
          ]
        },
        {
          "output_type": "stream",
          "name": "stderr",
          "text": [
            "Epoch 8 [Training]: 100%|██████████| 73/73 [00:45<00:00,  1.61it/s, Loss_seg=7.4829]"
          ]
        },
        {
          "output_type": "stream",
          "name": "stdout",
          "text": [
            "\n",
            "Epoch 8/20 Summary\n",
            "  → Segmentation Source Loss (RAW) : 0.4677\n"
          ]
        },
        {
          "output_type": "stream",
          "name": "stderr",
          "text": [
            "\n",
            "Epoch 8 [Validation]: 100%|██████████| 62/62 [00:14<00:00,  4.30it/s, Val_Loss=6.2366, mIoU=0.2204]\n"
          ]
        },
        {
          "output_type": "stream",
          "name": "stdout",
          "text": [
            "Modello con miou migliore salvato: /content/drive/MyDrive/AML_project/checkpoints/best_model_PIDNET_5_DACS_without_3_class.pth\n",
            "\n",
            "→ Validation Loss: 0.3898\n",
            "→ Overall mIoU: 0.2204\n",
            "  → background IoU: 0.1160\n",
            "  → building IoU: 0.2985\n",
            "  → road IoU: 0.2174\n",
            "  → water IoU: 0.3416\n",
            "  → barren IoU: 0.0520\n",
            "  → forest IoU: 0.1174\n",
            "  → agriculture IoU: 0.4000\n",
            "[0.000329658544839708]\n"
          ]
        },
        {
          "output_type": "stream",
          "name": "stderr",
          "text": [
            "Epoch 9 [Training]: 100%|██████████| 73/73 [00:45<00:00,  1.59it/s, Loss_seg=7.2225]"
          ]
        },
        {
          "output_type": "stream",
          "name": "stdout",
          "text": [
            "\n",
            "Epoch 9/20 Summary\n",
            "  → Segmentation Source Loss (RAW) : 0.4514\n"
          ]
        },
        {
          "output_type": "stream",
          "name": "stderr",
          "text": [
            "\n",
            "Epoch 9 [Validation]: 100%|██████████| 62/62 [00:14<00:00,  4.31it/s, Val_Loss=6.1443, mIoU=0.2318]\n"
          ]
        },
        {
          "output_type": "stream",
          "name": "stdout",
          "text": [
            "Modello con miou migliore salvato: /content/drive/MyDrive/AML_project/checkpoints/best_model_PIDNET_5_DACS_without_3_class.pth\n",
            "\n",
            "→ Validation Loss: 0.3840\n",
            "→ Overall mIoU: 0.2318\n",
            "  → background IoU: 0.2050\n",
            "  → building IoU: 0.2892\n",
            "  → road IoU: 0.2095\n",
            "  → water IoU: 0.3622\n",
            "  → barren IoU: 0.0634\n",
            "  → forest IoU: 0.1256\n",
            "  → agriculture IoU: 0.3680\n",
            "[0.000329658544839708]\n"
          ]
        },
        {
          "output_type": "stream",
          "name": "stderr",
          "text": [
            "Epoch 10 [Training]: 100%|██████████| 73/73 [00:45<00:00,  1.60it/s, Loss_seg=7.0336]"
          ]
        },
        {
          "output_type": "stream",
          "name": "stdout",
          "text": [
            "\n",
            "Epoch 10/20 Summary\n",
            "  → Segmentation Source Loss (RAW) : 0.4396\n"
          ]
        },
        {
          "output_type": "stream",
          "name": "stderr",
          "text": [
            "\n",
            "Epoch 10 [Validation]: 100%|██████████| 62/62 [00:14<00:00,  4.31it/s, Val_Loss=6.7014, mIoU=0.2336]\n"
          ]
        },
        {
          "output_type": "stream",
          "name": "stdout",
          "text": [
            "Modello con miou migliore salvato: /content/drive/MyDrive/AML_project/checkpoints/best_model_PIDNET_5_DACS_without_3_class.pth\n",
            "\n",
            "→ Validation Loss: 0.4188\n",
            "→ Overall mIoU: 0.2336\n",
            "  → background IoU: 0.2268\n",
            "  → building IoU: 0.2740\n",
            "  → road IoU: 0.2075\n",
            "  → water IoU: 0.3717\n",
            "  → barren IoU: 0.0708\n",
            "  → forest IoU: 0.1238\n",
            "  → agriculture IoU: 0.3610\n",
            "[0.000329658544839708]\n"
          ]
        },
        {
          "output_type": "stream",
          "name": "stderr",
          "text": [
            "Epoch 11 [Training]: 100%|██████████| 73/73 [00:45<00:00,  1.62it/s, Loss_seg=6.8776]"
          ]
        },
        {
          "output_type": "stream",
          "name": "stdout",
          "text": [
            "\n",
            "Epoch 11/20 Summary\n",
            "  → Segmentation Source Loss (RAW) : 0.4299\n"
          ]
        },
        {
          "output_type": "stream",
          "name": "stderr",
          "text": [
            "\n",
            "Epoch 11 [Validation]: 100%|██████████| 62/62 [00:14<00:00,  4.31it/s, Val_Loss=6.8037, mIoU=0.2416]\n"
          ]
        },
        {
          "output_type": "stream",
          "name": "stdout",
          "text": [
            "Modello con miou migliore salvato: /content/drive/MyDrive/AML_project/checkpoints/best_model_PIDNET_5_DACS_without_3_class.pth\n",
            "\n",
            "→ Validation Loss: 0.4252\n",
            "→ Overall mIoU: 0.2416\n",
            "  → background IoU: 0.2386\n",
            "  → building IoU: 0.3053\n",
            "  → road IoU: 0.2201\n",
            "  → water IoU: 0.3518\n",
            "  → barren IoU: 0.0676\n",
            "  → forest IoU: 0.1434\n",
            "  → agriculture IoU: 0.3644\n",
            "[0.000329658544839708]\n"
          ]
        },
        {
          "output_type": "stream",
          "name": "stderr",
          "text": [
            "Epoch 12 [Training]: 100%|██████████| 73/73 [00:45<00:00,  1.60it/s, Loss_seg=6.7977]"
          ]
        },
        {
          "output_type": "stream",
          "name": "stdout",
          "text": [
            "\n",
            "Epoch 12/20 Summary\n",
            "  → Segmentation Source Loss (RAW) : 0.4249\n"
          ]
        },
        {
          "output_type": "stream",
          "name": "stderr",
          "text": [
            "\n",
            "Epoch 12 [Validation]: 100%|██████████| 62/62 [00:14<00:00,  4.32it/s, Val_Loss=6.9946, mIoU=0.2250]"
          ]
        },
        {
          "output_type": "stream",
          "name": "stdout",
          "text": [
            "\n",
            "→ Validation Loss: 0.4372\n",
            "→ Overall mIoU: 0.2250\n",
            "  → background IoU: 0.2074\n",
            "  → building IoU: 0.2844\n",
            "  → road IoU: 0.1922\n",
            "  → water IoU: 0.3622\n",
            "  → barren IoU: 0.0931\n",
            "  → forest IoU: 0.1069\n",
            "  → agriculture IoU: 0.3290\n",
            "[0.000329658544839708]\n"
          ]
        },
        {
          "output_type": "stream",
          "name": "stderr",
          "text": [
            "\n",
            "Epoch 13 [Training]: 100%|██████████| 73/73 [00:45<00:00,  1.61it/s, Loss_seg=6.7483]"
          ]
        },
        {
          "output_type": "stream",
          "name": "stdout",
          "text": [
            "\n",
            "Epoch 13/20 Summary\n",
            "  → Segmentation Source Loss (RAW) : 0.4218\n"
          ]
        },
        {
          "output_type": "stream",
          "name": "stderr",
          "text": [
            "\n",
            "Epoch 13 [Validation]: 100%|██████████| 62/62 [00:14<00:00,  4.31it/s, Val_Loss=7.1566, mIoU=0.2380]"
          ]
        },
        {
          "output_type": "stream",
          "name": "stdout",
          "text": [
            "\n",
            "→ Validation Loss: 0.4473\n",
            "→ Overall mIoU: 0.2380\n",
            "  → background IoU: 0.2469\n",
            "  → building IoU: 0.2840\n",
            "  → road IoU: 0.2133\n",
            "  → water IoU: 0.3623\n",
            "  → barren IoU: 0.0964\n",
            "  → forest IoU: 0.1355\n",
            "  → agriculture IoU: 0.3278\n",
            "[0.000329658544839708]\n"
          ]
        },
        {
          "output_type": "stream",
          "name": "stderr",
          "text": [
            "\n",
            "Epoch 14 [Training]: 100%|██████████| 73/73 [00:45<00:00,  1.61it/s, Loss_seg=6.6454]"
          ]
        },
        {
          "output_type": "stream",
          "name": "stdout",
          "text": [
            "\n",
            "Epoch 14/20 Summary\n",
            "  → Segmentation Source Loss (RAW) : 0.4153\n"
          ]
        },
        {
          "output_type": "stream",
          "name": "stderr",
          "text": [
            "\n",
            "Epoch 14 [Validation]: 100%|██████████| 62/62 [00:14<00:00,  4.32it/s, Val_Loss=7.1534, mIoU=0.2260]"
          ]
        },
        {
          "output_type": "stream",
          "name": "stdout",
          "text": [
            "\n",
            "→ Validation Loss: 0.4471\n",
            "→ Overall mIoU: 0.2260\n",
            "  → background IoU: 0.2218\n",
            "  → building IoU: 0.2696\n",
            "  → road IoU: 0.2017\n",
            "  → water IoU: 0.3812\n",
            "  → barren IoU: 0.0912\n",
            "  → forest IoU: 0.1124\n",
            "  → agriculture IoU: 0.3043\n",
            "[0.000329658544839708]\n"
          ]
        },
        {
          "output_type": "stream",
          "name": "stderr",
          "text": [
            "\n",
            "Epoch 15 [Training]: 100%|██████████| 73/73 [00:45<00:00,  1.59it/s, Loss_seg=6.5742]"
          ]
        },
        {
          "output_type": "stream",
          "name": "stdout",
          "text": [
            "\n",
            "Epoch 15/20 Summary\n",
            "  → Segmentation Source Loss (RAW) : 0.4109\n"
          ]
        },
        {
          "output_type": "stream",
          "name": "stderr",
          "text": [
            "\n",
            "Epoch 15 [Validation]: 100%|██████████| 62/62 [00:14<00:00,  4.32it/s, Val_Loss=6.6190, mIoU=0.2269]"
          ]
        },
        {
          "output_type": "stream",
          "name": "stdout",
          "text": [
            "\n",
            "→ Validation Loss: 0.4137\n",
            "→ Overall mIoU: 0.2269\n",
            "  → background IoU: 0.1792\n",
            "  → building IoU: 0.2660\n",
            "  → road IoU: 0.2168\n",
            "  → water IoU: 0.3562\n",
            "  → barren IoU: 0.0682\n",
            "  → forest IoU: 0.1307\n",
            "  → agriculture IoU: 0.3714\n",
            "[0.000164829272419854]\n"
          ]
        },
        {
          "output_type": "stream",
          "name": "stderr",
          "text": [
            "\n",
            "Epoch 16 [Training]: 100%|██████████| 73/73 [00:45<00:00,  1.59it/s, Loss_seg=6.4234]"
          ]
        },
        {
          "output_type": "stream",
          "name": "stdout",
          "text": [
            "\n",
            "Epoch 16/20 Summary\n",
            "  → Segmentation Source Loss (RAW) : 0.4015\n"
          ]
        },
        {
          "output_type": "stream",
          "name": "stderr",
          "text": [
            "\n",
            "Epoch 16 [Validation]: 100%|██████████| 62/62 [00:14<00:00,  4.32it/s, Val_Loss=6.6942, mIoU=0.2342]"
          ]
        },
        {
          "output_type": "stream",
          "name": "stdout",
          "text": [
            "\n",
            "→ Validation Loss: 0.4184\n",
            "→ Overall mIoU: 0.2342\n",
            "  → background IoU: 0.2045\n",
            "  → building IoU: 0.2872\n",
            "  → road IoU: 0.2180\n",
            "  → water IoU: 0.3714\n",
            "  → barren IoU: 0.0733\n",
            "  → forest IoU: 0.1253\n",
            "  → agriculture IoU: 0.3596\n",
            "[0.000164829272419854]\n"
          ]
        },
        {
          "output_type": "stream",
          "name": "stderr",
          "text": [
            "\n",
            "Epoch 17 [Training]: 100%|██████████| 73/73 [00:45<00:00,  1.59it/s, Loss_seg=6.4131]"
          ]
        },
        {
          "output_type": "stream",
          "name": "stdout",
          "text": [
            "\n",
            "Epoch 17/20 Summary\n",
            "  → Segmentation Source Loss (RAW) : 0.4008\n"
          ]
        },
        {
          "output_type": "stream",
          "name": "stderr",
          "text": [
            "\n",
            "Epoch 17 [Validation]: 100%|██████████| 62/62 [00:14<00:00,  4.31it/s, Val_Loss=7.0117, mIoU=0.2474]\n"
          ]
        },
        {
          "output_type": "stream",
          "name": "stdout",
          "text": [
            "Modello con miou migliore salvato: /content/drive/MyDrive/AML_project/checkpoints/best_model_PIDNET_5_DACS_without_3_class.pth\n",
            "\n",
            "→ Validation Loss: 0.4382\n",
            "→ Overall mIoU: 0.2474\n",
            "  → background IoU: 0.2402\n",
            "  → building IoU: 0.3258\n",
            "  → road IoU: 0.2294\n",
            "  → water IoU: 0.3789\n",
            "  → barren IoU: 0.0788\n",
            "  → forest IoU: 0.1225\n",
            "  → agriculture IoU: 0.3566\n",
            "[0.000164829272419854]\n"
          ]
        },
        {
          "output_type": "stream",
          "name": "stderr",
          "text": [
            "Epoch 18 [Training]: 100%|██████████| 73/73 [00:45<00:00,  1.61it/s, Loss_seg=6.3356]"
          ]
        },
        {
          "output_type": "stream",
          "name": "stdout",
          "text": [
            "\n",
            "Epoch 18/20 Summary\n",
            "  → Segmentation Source Loss (RAW) : 0.3960\n"
          ]
        },
        {
          "output_type": "stream",
          "name": "stderr",
          "text": [
            "\n",
            "Epoch 18 [Validation]: 100%|██████████| 62/62 [00:14<00:00,  4.30it/s, Val_Loss=6.8882, mIoU=0.2351]"
          ]
        },
        {
          "output_type": "stream",
          "name": "stdout",
          "text": [
            "\n",
            "→ Validation Loss: 0.4305\n",
            "→ Overall mIoU: 0.2351\n",
            "  → background IoU: 0.2092\n",
            "  → building IoU: 0.2724\n",
            "  → road IoU: 0.2059\n",
            "  → water IoU: 0.3981\n",
            "  → barren IoU: 0.0988\n",
            "  → forest IoU: 0.1076\n",
            "  → agriculture IoU: 0.3534\n",
            "[0.000164829272419854]\n"
          ]
        },
        {
          "output_type": "stream",
          "name": "stderr",
          "text": [
            "\n",
            "Epoch 19 [Training]: 100%|██████████| 73/73 [00:45<00:00,  1.59it/s, Loss_seg=6.3284]"
          ]
        },
        {
          "output_type": "stream",
          "name": "stdout",
          "text": [
            "\n",
            "Epoch 19/20 Summary\n",
            "  → Segmentation Source Loss (RAW) : 0.3955\n"
          ]
        },
        {
          "output_type": "stream",
          "name": "stderr",
          "text": [
            "\n",
            "Epoch 19 [Validation]: 100%|██████████| 62/62 [00:14<00:00,  4.32it/s, Val_Loss=6.5965, mIoU=0.2500]\n"
          ]
        },
        {
          "output_type": "stream",
          "name": "stdout",
          "text": [
            "Modello con miou migliore salvato: /content/drive/MyDrive/AML_project/checkpoints/best_model_PIDNET_5_DACS_without_3_class.pth\n",
            "\n",
            "→ Validation Loss: 0.4123\n",
            "→ Overall mIoU: 0.2500\n",
            "  → background IoU: 0.2517\n",
            "  → building IoU: 0.3156\n",
            "  → road IoU: 0.2174\n",
            "  → water IoU: 0.3811\n",
            "  → barren IoU: 0.0997\n",
            "  → forest IoU: 0.1187\n",
            "  → agriculture IoU: 0.3656\n",
            "[0.000164829272419854]\n"
          ]
        },
        {
          "output_type": "stream",
          "name": "stderr",
          "text": [
            "Epoch 20 [Training]: 100%|██████████| 73/73 [00:45<00:00,  1.60it/s, Loss_seg=6.2770]"
          ]
        },
        {
          "output_type": "stream",
          "name": "stdout",
          "text": [
            "\n",
            "Epoch 20/20 Summary\n",
            "  → Segmentation Source Loss (RAW) : 0.3923\n"
          ]
        },
        {
          "output_type": "stream",
          "name": "stderr",
          "text": [
            "\n",
            "Epoch 20 [Validation]: 100%|██████████| 62/62 [00:14<00:00,  4.30it/s, Val_Loss=6.7493, mIoU=0.2567]\n"
          ]
        },
        {
          "output_type": "stream",
          "name": "stdout",
          "text": [
            "Modello con miou migliore salvato: /content/drive/MyDrive/AML_project/checkpoints/best_model_PIDNET_5_DACS_without_3_class.pth\n",
            "\n",
            "→ Validation Loss: 0.4218\n",
            "→ Overall mIoU: 0.2567\n",
            "  → background IoU: 0.2759\n",
            "  → building IoU: 0.3178\n",
            "  → road IoU: 0.2241\n",
            "  → water IoU: 0.3897\n",
            "  → barren IoU: 0.1107\n",
            "  → forest IoU: 0.1257\n",
            "  → agriculture IoU: 0.3528\n",
            "[0.000329658544839708]\n"
          ]
        },
        {
          "output_type": "stream",
          "name": "stderr",
          "text": [
            "Epoch 1 [Training]: 100%|██████████| 73/73 [00:45<00:00,  1.60it/s, Loss_seg=21.0757]"
          ]
        },
        {
          "output_type": "stream",
          "name": "stdout",
          "text": [
            "\n",
            "Epoch 1/20 Summary\n",
            "  → Segmentation Source Loss (RAW) : 1.3172\n"
          ]
        },
        {
          "output_type": "stream",
          "name": "stderr",
          "text": [
            "\n",
            "Epoch 1 [Validation]: 100%|██████████| 62/62 [00:14<00:00,  4.30it/s, Val_Loss=8.1852, mIoU=0.1588]\n"
          ]
        },
        {
          "output_type": "stream",
          "name": "stdout",
          "text": [
            "Modello con miou migliore salvato: /content/drive/MyDrive/AML_project/checkpoints/best_model_PIDNET_5_DACS_without_4_class.pth\n",
            "\n",
            "→ Validation Loss: 0.5116\n",
            "→ Overall mIoU: 0.1588\n",
            "  → background IoU: 0.0831\n",
            "  → building IoU: 0.1775\n",
            "  → road IoU: 0.1016\n",
            "  → water IoU: 0.3178\n",
            "  → barren IoU: 0.0192\n",
            "  → forest IoU: 0.0835\n",
            "  → agriculture IoU: 0.3290\n",
            "[0.000329658544839708]\n"
          ]
        },
        {
          "output_type": "stream",
          "name": "stderr",
          "text": [
            "Epoch 2 [Training]: 100%|██████████| 73/73 [00:46<00:00,  1.58it/s, Loss_seg=12.6530]"
          ]
        },
        {
          "output_type": "stream",
          "name": "stdout",
          "text": [
            "\n",
            "Epoch 2/20 Summary\n",
            "  → Segmentation Source Loss (RAW) : 0.7908\n"
          ]
        },
        {
          "output_type": "stream",
          "name": "stderr",
          "text": [
            "\n",
            "Epoch 2 [Validation]: 100%|██████████| 62/62 [00:14<00:00,  4.31it/s, Val_Loss=7.2098, mIoU=0.1843]\n"
          ]
        },
        {
          "output_type": "stream",
          "name": "stdout",
          "text": [
            "Modello con miou migliore salvato: /content/drive/MyDrive/AML_project/checkpoints/best_model_PIDNET_5_DACS_without_4_class.pth\n",
            "\n",
            "→ Validation Loss: 0.4506\n",
            "→ Overall mIoU: 0.1843\n",
            "  → background IoU: 0.0789\n",
            "  → building IoU: 0.2194\n",
            "  → road IoU: 0.1468\n",
            "  → water IoU: 0.3906\n",
            "  → barren IoU: 0.0243\n",
            "  → forest IoU: 0.0754\n",
            "  → agriculture IoU: 0.3547\n",
            "[0.000329658544839708]\n"
          ]
        },
        {
          "output_type": "stream",
          "name": "stderr",
          "text": [
            "Epoch 3 [Training]: 100%|██████████| 73/73 [00:45<00:00,  1.59it/s, Loss_seg=10.3558]"
          ]
        },
        {
          "output_type": "stream",
          "name": "stdout",
          "text": [
            "\n",
            "Epoch 3/20 Summary\n",
            "  → Segmentation Source Loss (RAW) : 0.6472\n"
          ]
        },
        {
          "output_type": "stream",
          "name": "stderr",
          "text": [
            "\n",
            "Epoch 3 [Validation]: 100%|██████████| 62/62 [00:14<00:00,  4.32it/s, Val_Loss=6.7245, mIoU=0.1976]\n"
          ]
        },
        {
          "output_type": "stream",
          "name": "stdout",
          "text": [
            "Modello con miou migliore salvato: /content/drive/MyDrive/AML_project/checkpoints/best_model_PIDNET_5_DACS_without_4_class.pth\n",
            "\n",
            "→ Validation Loss: 0.4203\n",
            "→ Overall mIoU: 0.1976\n",
            "  → background IoU: 0.0863\n",
            "  → building IoU: 0.2557\n",
            "  → road IoU: 0.1565\n",
            "  → water IoU: 0.3879\n",
            "  → barren IoU: 0.0233\n",
            "  → forest IoU: 0.0774\n",
            "  → agriculture IoU: 0.3960\n",
            "[0.000329658544839708]\n"
          ]
        },
        {
          "output_type": "stream",
          "name": "stderr",
          "text": [
            "Epoch 4 [Training]: 100%|██████████| 73/73 [00:45<00:00,  1.60it/s, Loss_seg=9.3974]"
          ]
        },
        {
          "output_type": "stream",
          "name": "stdout",
          "text": [
            "\n",
            "Epoch 4/20 Summary\n",
            "  → Segmentation Source Loss (RAW) : 0.5873\n"
          ]
        },
        {
          "output_type": "stream",
          "name": "stderr",
          "text": [
            "\n",
            "Epoch 4 [Validation]: 100%|██████████| 62/62 [00:14<00:00,  4.31it/s, Val_Loss=6.9808, mIoU=0.2063]\n"
          ]
        },
        {
          "output_type": "stream",
          "name": "stdout",
          "text": [
            "Modello con miou migliore salvato: /content/drive/MyDrive/AML_project/checkpoints/best_model_PIDNET_5_DACS_without_4_class.pth\n",
            "\n",
            "→ Validation Loss: 0.4363\n",
            "→ Overall mIoU: 0.2063\n",
            "  → background IoU: 0.1104\n",
            "  → building IoU: 0.2415\n",
            "  → road IoU: 0.1957\n",
            "  → water IoU: 0.4167\n",
            "  → barren IoU: 0.0329\n",
            "  → forest IoU: 0.0724\n",
            "  → agriculture IoU: 0.3743\n",
            "[0.000329658544839708]\n"
          ]
        },
        {
          "output_type": "stream",
          "name": "stderr",
          "text": [
            "Epoch 5 [Training]: 100%|██████████| 73/73 [00:45<00:00,  1.59it/s, Loss_seg=8.6281]"
          ]
        },
        {
          "output_type": "stream",
          "name": "stdout",
          "text": [
            "\n",
            "Epoch 5/20 Summary\n",
            "  → Segmentation Source Loss (RAW) : 0.5393\n"
          ]
        },
        {
          "output_type": "stream",
          "name": "stderr",
          "text": [
            "\n",
            "Epoch 5 [Validation]: 100%|██████████| 62/62 [00:14<00:00,  4.31it/s, Val_Loss=7.0690, mIoU=0.2099]\n"
          ]
        },
        {
          "output_type": "stream",
          "name": "stdout",
          "text": [
            "Modello con miou migliore salvato: /content/drive/MyDrive/AML_project/checkpoints/best_model_PIDNET_5_DACS_without_4_class.pth\n",
            "\n",
            "→ Validation Loss: 0.4418\n",
            "→ Overall mIoU: 0.2099\n",
            "  → background IoU: 0.1278\n",
            "  → building IoU: 0.2636\n",
            "  → road IoU: 0.2023\n",
            "  → water IoU: 0.3830\n",
            "  → barren IoU: 0.0301\n",
            "  → forest IoU: 0.0865\n",
            "  → agriculture IoU: 0.3761\n",
            "[0.000329658544839708]\n"
          ]
        },
        {
          "output_type": "stream",
          "name": "stderr",
          "text": [
            "Epoch 6 [Training]: 100%|██████████| 73/73 [00:45<00:00,  1.61it/s, Loss_seg=8.1594]"
          ]
        },
        {
          "output_type": "stream",
          "name": "stdout",
          "text": [
            "\n",
            "Epoch 6/20 Summary\n",
            "  → Segmentation Source Loss (RAW) : 0.5100\n"
          ]
        },
        {
          "output_type": "stream",
          "name": "stderr",
          "text": [
            "\n",
            "Epoch 6 [Validation]: 100%|██████████| 62/62 [00:14<00:00,  4.32it/s, Val_Loss=6.6497, mIoU=0.2432]\n"
          ]
        },
        {
          "output_type": "stream",
          "name": "stdout",
          "text": [
            "Modello con miou migliore salvato: /content/drive/MyDrive/AML_project/checkpoints/best_model_PIDNET_5_DACS_without_4_class.pth\n",
            "\n",
            "→ Validation Loss: 0.4156\n",
            "→ Overall mIoU: 0.2432\n",
            "  → background IoU: 0.2670\n",
            "  → building IoU: 0.2470\n",
            "  → road IoU: 0.2558\n",
            "  → water IoU: 0.3972\n",
            "  → barren IoU: 0.0396\n",
            "  → forest IoU: 0.0794\n",
            "  → agriculture IoU: 0.4164\n",
            "[0.000329658544839708]\n"
          ]
        },
        {
          "output_type": "stream",
          "name": "stderr",
          "text": [
            "Epoch 7 [Training]: 100%|██████████| 73/73 [00:45<00:00,  1.60it/s, Loss_seg=7.9832]"
          ]
        },
        {
          "output_type": "stream",
          "name": "stdout",
          "text": [
            "\n",
            "Epoch 7/20 Summary\n",
            "  → Segmentation Source Loss (RAW) : 0.4989\n"
          ]
        },
        {
          "output_type": "stream",
          "name": "stderr",
          "text": [
            "\n",
            "Epoch 7 [Validation]: 100%|██████████| 62/62 [00:14<00:00,  4.30it/s, Val_Loss=6.3721, mIoU=0.2250]"
          ]
        },
        {
          "output_type": "stream",
          "name": "stdout",
          "text": [
            "\n",
            "→ Validation Loss: 0.3983\n",
            "→ Overall mIoU: 0.2250\n",
            "  → background IoU: 0.1755\n",
            "  → building IoU: 0.2825\n",
            "  → road IoU: 0.2252\n",
            "  → water IoU: 0.3948\n",
            "  → barren IoU: 0.0500\n",
            "  → forest IoU: 0.0925\n",
            "  → agriculture IoU: 0.3543\n",
            "[0.000329658544839708]\n"
          ]
        },
        {
          "output_type": "stream",
          "name": "stderr",
          "text": [
            "\n",
            "Epoch 8 [Training]: 100%|██████████| 73/73 [00:45<00:00,  1.59it/s, Loss_seg=7.4380]"
          ]
        },
        {
          "output_type": "stream",
          "name": "stdout",
          "text": [
            "\n",
            "Epoch 8/20 Summary\n",
            "  → Segmentation Source Loss (RAW) : 0.4649\n"
          ]
        },
        {
          "output_type": "stream",
          "name": "stderr",
          "text": [
            "\n",
            "Epoch 8 [Validation]: 100%|██████████| 62/62 [00:14<00:00,  4.31it/s, Val_Loss=6.5381, mIoU=0.2390]"
          ]
        },
        {
          "output_type": "stream",
          "name": "stdout",
          "text": [
            "\n",
            "→ Validation Loss: 0.4086\n",
            "→ Overall mIoU: 0.2390\n",
            "  → background IoU: 0.2759\n",
            "  → building IoU: 0.2322\n",
            "  → road IoU: 0.2181\n",
            "  → water IoU: 0.4312\n",
            "  → barren IoU: 0.0491\n",
            "  → forest IoU: 0.0844\n",
            "  → agriculture IoU: 0.3821\n",
            "[0.000329658544839708]\n"
          ]
        },
        {
          "output_type": "stream",
          "name": "stderr",
          "text": [
            "\n",
            "Epoch 9 [Training]: 100%|██████████| 73/73 [00:45<00:00,  1.61it/s, Loss_seg=7.3334]"
          ]
        },
        {
          "output_type": "stream",
          "name": "stdout",
          "text": [
            "\n",
            "Epoch 9/20 Summary\n",
            "  → Segmentation Source Loss (RAW) : 0.4583\n"
          ]
        },
        {
          "output_type": "stream",
          "name": "stderr",
          "text": [
            "\n",
            "Epoch 9 [Validation]: 100%|██████████| 62/62 [00:14<00:00,  4.28it/s, Val_Loss=6.5384, mIoU=0.2405]"
          ]
        },
        {
          "output_type": "stream",
          "name": "stdout",
          "text": [
            "\n",
            "→ Validation Loss: 0.4087\n",
            "→ Overall mIoU: 0.2405\n",
            "  → background IoU: 0.2373\n",
            "  → building IoU: 0.2553\n",
            "  → road IoU: 0.2291\n",
            "  → water IoU: 0.4533\n",
            "  → barren IoU: 0.0608\n",
            "  → forest IoU: 0.0838\n",
            "  → agriculture IoU: 0.3636\n",
            "[0.000329658544839708]\n"
          ]
        },
        {
          "output_type": "stream",
          "name": "stderr",
          "text": [
            "\n",
            "Epoch 10 [Training]: 100%|██████████| 73/73 [00:45<00:00,  1.59it/s, Loss_seg=7.1747]"
          ]
        },
        {
          "output_type": "stream",
          "name": "stdout",
          "text": [
            "\n",
            "Epoch 10/20 Summary\n",
            "  → Segmentation Source Loss (RAW) : 0.4484\n"
          ]
        },
        {
          "output_type": "stream",
          "name": "stderr",
          "text": [
            "\n",
            "Epoch 10 [Validation]: 100%|██████████| 62/62 [00:14<00:00,  4.31it/s, Val_Loss=6.4885, mIoU=0.2392]"
          ]
        },
        {
          "output_type": "stream",
          "name": "stdout",
          "text": [
            "\n",
            "→ Validation Loss: 0.4055\n",
            "→ Overall mIoU: 0.2392\n",
            "  → background IoU: 0.2629\n",
            "  → building IoU: 0.2394\n",
            "  → road IoU: 0.2354\n",
            "  → water IoU: 0.4010\n",
            "  → barren IoU: 0.0565\n",
            "  → forest IoU: 0.1008\n",
            "  → agriculture IoU: 0.3782\n",
            "[0.000164829272419854]\n"
          ]
        },
        {
          "output_type": "stream",
          "name": "stderr",
          "text": [
            "\n",
            "Epoch 11 [Training]: 100%|██████████| 73/73 [00:46<00:00,  1.57it/s, Loss_seg=6.9233]"
          ]
        },
        {
          "output_type": "stream",
          "name": "stdout",
          "text": [
            "\n",
            "Epoch 11/20 Summary\n",
            "  → Segmentation Source Loss (RAW) : 0.4327\n"
          ]
        },
        {
          "output_type": "stream",
          "name": "stderr",
          "text": [
            "\n",
            "Epoch 11 [Validation]: 100%|██████████| 62/62 [00:14<00:00,  4.30it/s, Val_Loss=6.6452, mIoU=0.2416]"
          ]
        },
        {
          "output_type": "stream",
          "name": "stdout",
          "text": [
            "\n",
            "→ Validation Loss: 0.4153\n",
            "→ Overall mIoU: 0.2416\n",
            "  → background IoU: 0.2459\n",
            "  → building IoU: 0.2707\n",
            "  → road IoU: 0.2281\n",
            "  → water IoU: 0.4051\n",
            "  → barren IoU: 0.0595\n",
            "  → forest IoU: 0.0994\n",
            "  → agriculture IoU: 0.3822\n",
            "[0.000164829272419854]\n"
          ]
        },
        {
          "output_type": "stream",
          "name": "stderr",
          "text": [
            "\n",
            "Epoch 12 [Training]: 100%|██████████| 73/73 [00:45<00:00,  1.60it/s, Loss_seg=7.0410]"
          ]
        },
        {
          "output_type": "stream",
          "name": "stdout",
          "text": [
            "\n",
            "Epoch 12/20 Summary\n",
            "  → Segmentation Source Loss (RAW) : 0.4401\n"
          ]
        },
        {
          "output_type": "stream",
          "name": "stderr",
          "text": [
            "\n",
            "Epoch 12 [Validation]: 100%|██████████| 62/62 [00:14<00:00,  4.32it/s, Val_Loss=6.6347, mIoU=0.2410]"
          ]
        },
        {
          "output_type": "stream",
          "name": "stdout",
          "text": [
            "\n",
            "→ Validation Loss: 0.4147\n",
            "→ Overall mIoU: 0.2410\n",
            "  → background IoU: 0.2957\n",
            "  → building IoU: 0.2273\n",
            "  → road IoU: 0.2230\n",
            "  → water IoU: 0.4257\n",
            "  → barren IoU: 0.0519\n",
            "  → forest IoU: 0.1022\n",
            "  → agriculture IoU: 0.3615\n",
            "[0.000164829272419854]\n"
          ]
        },
        {
          "output_type": "stream",
          "name": "stderr",
          "text": [
            "\n",
            "Epoch 13 [Training]: 100%|██████████| 73/73 [00:45<00:00,  1.61it/s, Loss_seg=6.8168]"
          ]
        },
        {
          "output_type": "stream",
          "name": "stdout",
          "text": [
            "\n",
            "Epoch 13/20 Summary\n",
            "  → Segmentation Source Loss (RAW) : 0.4261\n"
          ]
        },
        {
          "output_type": "stream",
          "name": "stderr",
          "text": [
            "\n",
            "Epoch 13 [Validation]: 100%|██████████| 62/62 [00:14<00:00,  4.31it/s, Val_Loss=6.9940, mIoU=0.2317]"
          ]
        },
        {
          "output_type": "stream",
          "name": "stdout",
          "text": [
            "\n",
            "→ Validation Loss: 0.4371\n",
            "→ Overall mIoU: 0.2317\n",
            "  → background IoU: 0.3170\n",
            "  → building IoU: 0.2375\n",
            "  → road IoU: 0.2032\n",
            "  → water IoU: 0.3795\n",
            "  → barren IoU: 0.0650\n",
            "  → forest IoU: 0.1085\n",
            "  → agriculture IoU: 0.3114\n",
            "[0.000164829272419854]\n"
          ]
        },
        {
          "output_type": "stream",
          "name": "stderr",
          "text": [
            "\n",
            "Epoch 14 [Training]: 100%|██████████| 73/73 [00:46<00:00,  1.58it/s, Loss_seg=6.7841]"
          ]
        },
        {
          "output_type": "stream",
          "name": "stdout",
          "text": [
            "\n",
            "Epoch 14/20 Summary\n",
            "  → Segmentation Source Loss (RAW) : 0.4240\n"
          ]
        },
        {
          "output_type": "stream",
          "name": "stderr",
          "text": [
            "\n",
            "Epoch 14 [Validation]: 100%|██████████| 62/62 [00:14<00:00,  4.32it/s, Val_Loss=6.8210, mIoU=0.2368]"
          ]
        },
        {
          "output_type": "stream",
          "name": "stdout",
          "text": [
            "\n",
            "→ Validation Loss: 0.4263\n",
            "→ Overall mIoU: 0.2368\n",
            "  → background IoU: 0.2652\n",
            "  → building IoU: 0.2446\n",
            "  → road IoU: 0.2158\n",
            "  → water IoU: 0.4309\n",
            "  → barren IoU: 0.0550\n",
            "  → forest IoU: 0.0941\n",
            "  → agriculture IoU: 0.3521\n",
            "[8.2414636209927e-05]\n"
          ]
        },
        {
          "output_type": "stream",
          "name": "stderr",
          "text": [
            "\n",
            "Epoch 15 [Training]: 100%|██████████| 73/73 [00:45<00:00,  1.60it/s, Loss_seg=6.7060]"
          ]
        },
        {
          "output_type": "stream",
          "name": "stdout",
          "text": [
            "\n",
            "Epoch 15/20 Summary\n",
            "  → Segmentation Source Loss (RAW) : 0.4191\n"
          ]
        },
        {
          "output_type": "stream",
          "name": "stderr",
          "text": [
            "\n",
            "Epoch 15 [Validation]: 100%|██████████| 62/62 [00:14<00:00,  4.31it/s, Val_Loss=6.7059, mIoU=0.2368]"
          ]
        },
        {
          "output_type": "stream",
          "name": "stdout",
          "text": [
            "\n",
            "→ Validation Loss: 0.4191\n",
            "→ Overall mIoU: 0.2368\n",
            "  → background IoU: 0.3487\n",
            "  → building IoU: 0.2116\n",
            "  → road IoU: 0.1928\n",
            "  → water IoU: 0.4292\n",
            "  → barren IoU: 0.0557\n",
            "  → forest IoU: 0.0988\n",
            "  → agriculture IoU: 0.3209\n",
            "[8.2414636209927e-05]\n"
          ]
        },
        {
          "output_type": "stream",
          "name": "stderr",
          "text": [
            "\n",
            "Epoch 16 [Training]: 100%|██████████| 73/73 [00:45<00:00,  1.61it/s, Loss_seg=6.8159]"
          ]
        },
        {
          "output_type": "stream",
          "name": "stdout",
          "text": [
            "\n",
            "Epoch 16/20 Summary\n",
            "  → Segmentation Source Loss (RAW) : 0.4260\n"
          ]
        },
        {
          "output_type": "stream",
          "name": "stderr",
          "text": [
            "\n",
            "Epoch 16 [Validation]: 100%|██████████| 62/62 [00:14<00:00,  4.30it/s, Val_Loss=6.5997, mIoU=0.2402]"
          ]
        },
        {
          "output_type": "stream",
          "name": "stdout",
          "text": [
            "\n",
            "→ Validation Loss: 0.4125\n",
            "→ Overall mIoU: 0.2402\n",
            "  → background IoU: 0.3086\n",
            "  → building IoU: 0.2628\n",
            "  → road IoU: 0.2085\n",
            "  → water IoU: 0.3957\n",
            "  → barren IoU: 0.0751\n",
            "  → forest IoU: 0.1137\n",
            "  → agriculture IoU: 0.3170\n",
            "[8.2414636209927e-05]\n"
          ]
        },
        {
          "output_type": "stream",
          "name": "stderr",
          "text": [
            "\n",
            "Epoch 17 [Training]: 100%|██████████| 73/73 [00:45<00:00,  1.59it/s, Loss_seg=6.7188]"
          ]
        },
        {
          "output_type": "stream",
          "name": "stdout",
          "text": [
            "\n",
            "Epoch 17/20 Summary\n",
            "  → Segmentation Source Loss (RAW) : 0.4199\n"
          ]
        },
        {
          "output_type": "stream",
          "name": "stderr",
          "text": [
            "\n",
            "Epoch 17 [Validation]: 100%|██████████| 62/62 [00:14<00:00,  4.32it/s, Val_Loss=6.4398, mIoU=0.2382]"
          ]
        },
        {
          "output_type": "stream",
          "name": "stdout",
          "text": [
            "\n",
            "→ Validation Loss: 0.4025\n",
            "→ Overall mIoU: 0.2382\n",
            "  → background IoU: 0.2949\n",
            "  → building IoU: 0.2627\n",
            "  → road IoU: 0.2263\n",
            "  → water IoU: 0.3405\n",
            "  → barren IoU: 0.0658\n",
            "  → forest IoU: 0.1132\n",
            "  → agriculture IoU: 0.3641\n",
            "[8.2414636209927e-05]\n"
          ]
        },
        {
          "output_type": "stream",
          "name": "stderr",
          "text": [
            "\n",
            "Epoch 18 [Training]: 100%|██████████| 73/73 [00:45<00:00,  1.59it/s, Loss_seg=6.6743]"
          ]
        },
        {
          "output_type": "stream",
          "name": "stdout",
          "text": [
            "\n",
            "Epoch 18/20 Summary\n",
            "  → Segmentation Source Loss (RAW) : 0.4171\n"
          ]
        },
        {
          "output_type": "stream",
          "name": "stderr",
          "text": [
            "\n",
            "Epoch 18 [Validation]: 100%|██████████| 62/62 [00:14<00:00,  4.28it/s, Val_Loss=6.5889, mIoU=0.2442]\n"
          ]
        },
        {
          "output_type": "stream",
          "name": "stdout",
          "text": [
            "Modello con miou migliore salvato: /content/drive/MyDrive/AML_project/checkpoints/best_model_PIDNET_5_DACS_without_4_class.pth\n",
            "\n",
            "→ Validation Loss: 0.4118\n",
            "→ Overall mIoU: 0.2442\n",
            "  → background IoU: 0.3067\n",
            "  → building IoU: 0.2386\n",
            "  → road IoU: 0.2223\n",
            "  → water IoU: 0.4205\n",
            "  → barren IoU: 0.0637\n",
            "  → forest IoU: 0.0984\n",
            "  → agriculture IoU: 0.3588\n",
            "[4.12073181049635e-05]\n"
          ]
        },
        {
          "output_type": "stream",
          "name": "stderr",
          "text": [
            "Epoch 19 [Training]: 100%|██████████| 73/73 [00:45<00:00,  1.60it/s, Loss_seg=6.7314]"
          ]
        },
        {
          "output_type": "stream",
          "name": "stdout",
          "text": [
            "\n",
            "Epoch 19/20 Summary\n",
            "  → Segmentation Source Loss (RAW) : 0.4207\n"
          ]
        },
        {
          "output_type": "stream",
          "name": "stderr",
          "text": [
            "\n",
            "Epoch 19 [Validation]: 100%|██████████| 62/62 [00:14<00:00,  4.30it/s, Val_Loss=6.7499, mIoU=0.2418]"
          ]
        },
        {
          "output_type": "stream",
          "name": "stdout",
          "text": [
            "\n",
            "→ Validation Loss: 0.4219\n",
            "→ Overall mIoU: 0.2418\n",
            "  → background IoU: 0.2806\n",
            "  → building IoU: 0.2948\n",
            "  → road IoU: 0.2254\n",
            "  → water IoU: 0.3618\n",
            "  → barren IoU: 0.0680\n",
            "  → forest IoU: 0.1192\n",
            "  → agriculture IoU: 0.3427\n",
            "[4.12073181049635e-05]\n"
          ]
        },
        {
          "output_type": "stream",
          "name": "stderr",
          "text": [
            "\n",
            "Epoch 20 [Training]: 100%|██████████| 73/73 [00:45<00:00,  1.60it/s, Loss_seg=6.6863]"
          ]
        },
        {
          "output_type": "stream",
          "name": "stdout",
          "text": [
            "\n",
            "Epoch 20/20 Summary\n",
            "  → Segmentation Source Loss (RAW) : 0.4179\n"
          ]
        },
        {
          "output_type": "stream",
          "name": "stderr",
          "text": [
            "\n",
            "Epoch 20 [Validation]: 100%|██████████| 62/62 [00:14<00:00,  4.30it/s, Val_Loss=6.7924, mIoU=0.2390]\n"
          ]
        },
        {
          "output_type": "stream",
          "name": "stdout",
          "text": [
            "\n",
            "→ Validation Loss: 0.4245\n",
            "→ Overall mIoU: 0.2390\n",
            "  → background IoU: 0.2994\n",
            "  → building IoU: 0.2578\n",
            "  → road IoU: 0.2150\n",
            "  → water IoU: 0.3857\n",
            "  → barren IoU: 0.0709\n",
            "  → forest IoU: 0.1106\n",
            "  → agriculture IoU: 0.3332\n",
            "[0.000329658544839708]\n"
          ]
        },
        {
          "output_type": "stream",
          "name": "stderr",
          "text": [
            "Epoch 1 [Training]: 100%|██████████| 73/73 [00:46<00:00,  1.57it/s, Loss_seg=22.6824]"
          ]
        },
        {
          "output_type": "stream",
          "name": "stdout",
          "text": [
            "\n",
            "Epoch 1/20 Summary\n",
            "  → Segmentation Source Loss (RAW) : 1.4177\n"
          ]
        },
        {
          "output_type": "stream",
          "name": "stderr",
          "text": [
            "\n",
            "Epoch 1 [Validation]: 100%|██████████| 62/62 [00:14<00:00,  4.32it/s, Val_Loss=6.3852, mIoU=0.1666]\n"
          ]
        },
        {
          "output_type": "stream",
          "name": "stdout",
          "text": [
            "Modello con miou migliore salvato: /content/drive/MyDrive/AML_project/checkpoints/best_model_PIDNET_5_DACS_without_5_class.pth\n",
            "\n",
            "→ Validation Loss: 0.3991\n",
            "→ Overall mIoU: 0.1666\n",
            "  → background IoU: 0.1654\n",
            "  → building IoU: 0.2049\n",
            "  → road IoU: 0.1188\n",
            "  → water IoU: 0.2191\n",
            "  → barren IoU: 0.0271\n",
            "  → forest IoU: 0.0427\n",
            "  → agriculture IoU: 0.3880\n",
            "[0.000329658544839708]\n"
          ]
        },
        {
          "output_type": "stream",
          "name": "stderr",
          "text": [
            "Epoch 2 [Training]: 100%|██████████| 73/73 [00:45<00:00,  1.59it/s, Loss_seg=12.1174]"
          ]
        },
        {
          "output_type": "stream",
          "name": "stdout",
          "text": [
            "\n",
            "Epoch 2/20 Summary\n",
            "  → Segmentation Source Loss (RAW) : 0.7573\n"
          ]
        },
        {
          "output_type": "stream",
          "name": "stderr",
          "text": [
            "\n",
            "Epoch 2 [Validation]: 100%|██████████| 62/62 [00:14<00:00,  4.31it/s, Val_Loss=5.9162, mIoU=0.1960]\n"
          ]
        },
        {
          "output_type": "stream",
          "name": "stdout",
          "text": [
            "Modello con miou migliore salvato: /content/drive/MyDrive/AML_project/checkpoints/best_model_PIDNET_5_DACS_without_5_class.pth\n",
            "\n",
            "→ Validation Loss: 0.3698\n",
            "→ Overall mIoU: 0.1960\n",
            "  → background IoU: 0.1692\n",
            "  → building IoU: 0.2195\n",
            "  → road IoU: 0.1413\n",
            "  → water IoU: 0.3279\n",
            "  → barren IoU: 0.0317\n",
            "  → forest IoU: 0.0691\n",
            "  → agriculture IoU: 0.4133\n",
            "[0.000329658544839708]\n"
          ]
        },
        {
          "output_type": "stream",
          "name": "stderr",
          "text": [
            "Epoch 3 [Training]: 100%|██████████| 73/73 [00:46<00:00,  1.58it/s, Loss_seg=10.3921]"
          ]
        },
        {
          "output_type": "stream",
          "name": "stdout",
          "text": [
            "\n",
            "Epoch 3/20 Summary\n",
            "  → Segmentation Source Loss (RAW) : 0.6495\n"
          ]
        },
        {
          "output_type": "stream",
          "name": "stderr",
          "text": [
            "\n",
            "Epoch 3 [Validation]: 100%|██████████| 62/62 [00:14<00:00,  4.31it/s, Val_Loss=6.2757, mIoU=0.2118]\n"
          ]
        },
        {
          "output_type": "stream",
          "name": "stdout",
          "text": [
            "Modello con miou migliore salvato: /content/drive/MyDrive/AML_project/checkpoints/best_model_PIDNET_5_DACS_without_5_class.pth\n",
            "\n",
            "→ Validation Loss: 0.3922\n",
            "→ Overall mIoU: 0.2118\n",
            "  → background IoU: 0.2284\n",
            "  → building IoU: 0.2600\n",
            "  → road IoU: 0.1250\n",
            "  → water IoU: 0.3248\n",
            "  → barren IoU: 0.0339\n",
            "  → forest IoU: 0.1001\n",
            "  → agriculture IoU: 0.4104\n",
            "[0.000329658544839708]\n"
          ]
        },
        {
          "output_type": "stream",
          "name": "stderr",
          "text": [
            "Epoch 4 [Training]: 100%|██████████| 73/73 [00:46<00:00,  1.59it/s, Loss_seg=9.8472]"
          ]
        },
        {
          "output_type": "stream",
          "name": "stdout",
          "text": [
            "\n",
            "Epoch 4/20 Summary\n",
            "  → Segmentation Source Loss (RAW) : 0.6155\n"
          ]
        },
        {
          "output_type": "stream",
          "name": "stderr",
          "text": [
            "\n",
            "Epoch 4 [Validation]: 100%|██████████| 62/62 [00:14<00:00,  4.32it/s, Val_Loss=5.9708, mIoU=0.2045]"
          ]
        },
        {
          "output_type": "stream",
          "name": "stdout",
          "text": [
            "\n",
            "→ Validation Loss: 0.3732\n",
            "→ Overall mIoU: 0.2045\n",
            "  → background IoU: 0.1344\n",
            "  → building IoU: 0.2529\n",
            "  → road IoU: 0.1527\n",
            "  → water IoU: 0.3176\n",
            "  → barren IoU: 0.0450\n",
            "  → forest IoU: 0.0965\n",
            "  → agriculture IoU: 0.4326\n",
            "[0.000329658544839708]\n"
          ]
        },
        {
          "output_type": "stream",
          "name": "stderr",
          "text": [
            "\n",
            "Epoch 5 [Training]: 100%|██████████| 73/73 [00:45<00:00,  1.59it/s, Loss_seg=8.6334]"
          ]
        },
        {
          "output_type": "stream",
          "name": "stdout",
          "text": [
            "\n",
            "Epoch 5/20 Summary\n",
            "  → Segmentation Source Loss (RAW) : 0.5396\n"
          ]
        },
        {
          "output_type": "stream",
          "name": "stderr",
          "text": [
            "\n",
            "Epoch 5 [Validation]: 100%|██████████| 62/62 [00:14<00:00,  4.32it/s, Val_Loss=5.5861, mIoU=0.2183]\n"
          ]
        },
        {
          "output_type": "stream",
          "name": "stdout",
          "text": [
            "Modello con miou migliore salvato: /content/drive/MyDrive/AML_project/checkpoints/best_model_PIDNET_5_DACS_without_5_class.pth\n",
            "\n",
            "→ Validation Loss: 0.3491\n",
            "→ Overall mIoU: 0.2183\n",
            "  → background IoU: 0.1639\n",
            "  → building IoU: 0.2697\n",
            "  → road IoU: 0.1746\n",
            "  → water IoU: 0.3499\n",
            "  → barren IoU: 0.0431\n",
            "  → forest IoU: 0.0966\n",
            "  → agriculture IoU: 0.4303\n",
            "[0.000329658544839708]\n"
          ]
        },
        {
          "output_type": "stream",
          "name": "stderr",
          "text": [
            "Epoch 6 [Training]: 100%|██████████| 73/73 [00:45<00:00,  1.59it/s, Loss_seg=8.1097]"
          ]
        },
        {
          "output_type": "stream",
          "name": "stdout",
          "text": [
            "\n",
            "Epoch 6/20 Summary\n",
            "  → Segmentation Source Loss (RAW) : 0.5069\n"
          ]
        },
        {
          "output_type": "stream",
          "name": "stderr",
          "text": [
            "\n",
            "Epoch 6 [Validation]: 100%|██████████| 62/62 [00:14<00:00,  4.30it/s, Val_Loss=5.6884, mIoU=0.2293]\n"
          ]
        },
        {
          "output_type": "stream",
          "name": "stdout",
          "text": [
            "Modello con miou migliore salvato: /content/drive/MyDrive/AML_project/checkpoints/best_model_PIDNET_5_DACS_without_5_class.pth\n",
            "\n",
            "→ Validation Loss: 0.3555\n",
            "→ Overall mIoU: 0.2293\n",
            "  → background IoU: 0.1651\n",
            "  → building IoU: 0.2982\n",
            "  → road IoU: 0.1882\n",
            "  → water IoU: 0.3617\n",
            "  → barren IoU: 0.0425\n",
            "  → forest IoU: 0.1380\n",
            "  → agriculture IoU: 0.4111\n",
            "[0.000329658544839708]\n"
          ]
        },
        {
          "output_type": "stream",
          "name": "stderr",
          "text": [
            "Epoch 7 [Training]: 100%|██████████| 73/73 [00:46<00:00,  1.58it/s, Loss_seg=7.7505]"
          ]
        },
        {
          "output_type": "stream",
          "name": "stdout",
          "text": [
            "\n",
            "Epoch 7/20 Summary\n",
            "  → Segmentation Source Loss (RAW) : 0.4844\n"
          ]
        },
        {
          "output_type": "stream",
          "name": "stderr",
          "text": [
            "\n",
            "Epoch 7 [Validation]: 100%|██████████| 62/62 [00:14<00:00,  4.30it/s, Val_Loss=6.2435, mIoU=0.2323]\n"
          ]
        },
        {
          "output_type": "stream",
          "name": "stdout",
          "text": [
            "Modello con miou migliore salvato: /content/drive/MyDrive/AML_project/checkpoints/best_model_PIDNET_5_DACS_without_5_class.pth\n",
            "\n",
            "→ Validation Loss: 0.3902\n",
            "→ Overall mIoU: 0.2323\n",
            "  → background IoU: 0.1868\n",
            "  → building IoU: 0.2754\n",
            "  → road IoU: 0.2212\n",
            "  → water IoU: 0.3581\n",
            "  → barren IoU: 0.0443\n",
            "  → forest IoU: 0.1117\n",
            "  → agriculture IoU: 0.4284\n",
            "[0.000329658544839708]\n"
          ]
        },
        {
          "output_type": "stream",
          "name": "stderr",
          "text": [
            "Epoch 8 [Training]: 100%|██████████| 73/73 [00:45<00:00,  1.60it/s, Loss_seg=7.4997]"
          ]
        },
        {
          "output_type": "stream",
          "name": "stdout",
          "text": [
            "\n",
            "Epoch 8/20 Summary\n",
            "  → Segmentation Source Loss (RAW) : 0.4687\n"
          ]
        },
        {
          "output_type": "stream",
          "name": "stderr",
          "text": [
            "\n",
            "Epoch 8 [Validation]: 100%|██████████| 62/62 [00:14<00:00,  4.29it/s, Val_Loss=5.7839, mIoU=0.2504]\n"
          ]
        },
        {
          "output_type": "stream",
          "name": "stdout",
          "text": [
            "Modello con miou migliore salvato: /content/drive/MyDrive/AML_project/checkpoints/best_model_PIDNET_5_DACS_without_5_class.pth\n",
            "\n",
            "→ Validation Loss: 0.3615\n",
            "→ Overall mIoU: 0.2504\n",
            "  → background IoU: 0.2484\n",
            "  → building IoU: 0.2942\n",
            "  → road IoU: 0.2001\n",
            "  → water IoU: 0.4470\n",
            "  → barren IoU: 0.0505\n",
            "  → forest IoU: 0.1215\n",
            "  → agriculture IoU: 0.3913\n",
            "[0.000329658544839708]\n"
          ]
        },
        {
          "output_type": "stream",
          "name": "stderr",
          "text": [
            "Epoch 9 [Training]: 100%|██████████| 73/73 [00:46<00:00,  1.59it/s, Loss_seg=7.2903]"
          ]
        },
        {
          "output_type": "stream",
          "name": "stdout",
          "text": [
            "\n",
            "Epoch 9/20 Summary\n",
            "  → Segmentation Source Loss (RAW) : 0.4556\n"
          ]
        },
        {
          "output_type": "stream",
          "name": "stderr",
          "text": [
            "\n",
            "Epoch 9 [Validation]: 100%|██████████| 62/62 [00:14<00:00,  4.33it/s, Val_Loss=5.4713, mIoU=0.2513]\n"
          ]
        },
        {
          "output_type": "stream",
          "name": "stdout",
          "text": [
            "Modello con miou migliore salvato: /content/drive/MyDrive/AML_project/checkpoints/best_model_PIDNET_5_DACS_without_5_class.pth\n",
            "\n",
            "→ Validation Loss: 0.3420\n",
            "→ Overall mIoU: 0.2513\n",
            "  → background IoU: 0.2591\n",
            "  → building IoU: 0.2996\n",
            "  → road IoU: 0.1966\n",
            "  → water IoU: 0.3847\n",
            "  → barren IoU: 0.0558\n",
            "  → forest IoU: 0.1430\n",
            "  → agriculture IoU: 0.4204\n",
            "[0.000329658544839708]\n"
          ]
        },
        {
          "output_type": "stream",
          "name": "stderr",
          "text": [
            "Epoch 10 [Training]: 100%|██████████| 73/73 [00:45<00:00,  1.60it/s, Loss_seg=7.1759]"
          ]
        },
        {
          "output_type": "stream",
          "name": "stdout",
          "text": [
            "\n",
            "Epoch 10/20 Summary\n",
            "  → Segmentation Source Loss (RAW) : 0.4485\n"
          ]
        },
        {
          "output_type": "stream",
          "name": "stderr",
          "text": [
            "\n",
            "Epoch 10 [Validation]: 100%|██████████| 62/62 [00:14<00:00,  4.32it/s, Val_Loss=5.7838, mIoU=0.2509]"
          ]
        },
        {
          "output_type": "stream",
          "name": "stdout",
          "text": [
            "\n",
            "→ Validation Loss: 0.3615\n",
            "→ Overall mIoU: 0.2509\n",
            "  → background IoU: 0.2340\n",
            "  → building IoU: 0.3023\n",
            "  → road IoU: 0.2273\n",
            "  → water IoU: 0.3641\n",
            "  → barren IoU: 0.0539\n",
            "  → forest IoU: 0.1517\n",
            "  → agriculture IoU: 0.4230\n",
            "[0.000329658544839708]\n"
          ]
        },
        {
          "output_type": "stream",
          "name": "stderr",
          "text": [
            "\n",
            "Epoch 11 [Training]: 100%|██████████| 73/73 [00:46<00:00,  1.58it/s, Loss_seg=6.9821]"
          ]
        },
        {
          "output_type": "stream",
          "name": "stdout",
          "text": [
            "\n",
            "Epoch 11/20 Summary\n",
            "  → Segmentation Source Loss (RAW) : 0.4364\n"
          ]
        },
        {
          "output_type": "stream",
          "name": "stderr",
          "text": [
            "\n",
            "Epoch 11 [Validation]: 100%|██████████| 62/62 [00:14<00:00,  4.33it/s, Val_Loss=5.5072, mIoU=0.2614]\n"
          ]
        },
        {
          "output_type": "stream",
          "name": "stdout",
          "text": [
            "Modello con miou migliore salvato: /content/drive/MyDrive/AML_project/checkpoints/best_model_PIDNET_5_DACS_without_5_class.pth\n",
            "\n",
            "→ Validation Loss: 0.3442\n",
            "→ Overall mIoU: 0.2614\n",
            "  → background IoU: 0.3090\n",
            "  → building IoU: 0.2933\n",
            "  → road IoU: 0.2030\n",
            "  → water IoU: 0.3781\n",
            "  → barren IoU: 0.0659\n",
            "  → forest IoU: 0.1680\n",
            "  → agriculture IoU: 0.4123\n",
            "[0.000329658544839708]\n"
          ]
        },
        {
          "output_type": "stream",
          "name": "stderr",
          "text": [
            "Epoch 12 [Training]: 100%|██████████| 73/73 [00:46<00:00,  1.58it/s, Loss_seg=6.8877]"
          ]
        },
        {
          "output_type": "stream",
          "name": "stdout",
          "text": [
            "\n",
            "Epoch 12/20 Summary\n",
            "  → Segmentation Source Loss (RAW) : 0.4305\n"
          ]
        },
        {
          "output_type": "stream",
          "name": "stderr",
          "text": [
            "\n",
            "Epoch 12 [Validation]: 100%|██████████| 62/62 [00:14<00:00,  4.31it/s, Val_Loss=5.8572, mIoU=0.2520]"
          ]
        },
        {
          "output_type": "stream",
          "name": "stdout",
          "text": [
            "\n",
            "→ Validation Loss: 0.3661\n",
            "→ Overall mIoU: 0.2520\n",
            "  → background IoU: 0.2961\n",
            "  → building IoU: 0.3019\n",
            "  → road IoU: 0.1981\n",
            "  → water IoU: 0.4001\n",
            "  → barren IoU: 0.0579\n",
            "  → forest IoU: 0.1160\n",
            "  → agriculture IoU: 0.3938\n",
            "[0.000329658544839708]\n"
          ]
        },
        {
          "output_type": "stream",
          "name": "stderr",
          "text": [
            "\n",
            "Epoch 13 [Training]: 100%|██████████| 73/73 [00:46<00:00,  1.58it/s, Loss_seg=6.8935]"
          ]
        },
        {
          "output_type": "stream",
          "name": "stdout",
          "text": [
            "\n",
            "Epoch 13/20 Summary\n",
            "  → Segmentation Source Loss (RAW) : 0.4308\n"
          ]
        },
        {
          "output_type": "stream",
          "name": "stderr",
          "text": [
            "\n",
            "Epoch 13 [Validation]: 100%|██████████| 62/62 [00:14<00:00,  4.32it/s, Val_Loss=6.2624, mIoU=0.2481]"
          ]
        },
        {
          "output_type": "stream",
          "name": "stdout",
          "text": [
            "\n",
            "→ Validation Loss: 0.3914\n",
            "→ Overall mIoU: 0.2481\n",
            "  → background IoU: 0.2482\n",
            "  → building IoU: 0.3314\n",
            "  → road IoU: 0.2177\n",
            "  → water IoU: 0.4166\n",
            "  → barren IoU: 0.0591\n",
            "  → forest IoU: 0.1229\n",
            "  → agriculture IoU: 0.3405\n",
            "[0.000329658544839708]\n"
          ]
        },
        {
          "output_type": "stream",
          "name": "stderr",
          "text": [
            "\n",
            "Epoch 14 [Training]: 100%|██████████| 73/73 [00:46<00:00,  1.58it/s, Loss_seg=6.6640]"
          ]
        },
        {
          "output_type": "stream",
          "name": "stdout",
          "text": [
            "\n",
            "Epoch 14/20 Summary\n",
            "  → Segmentation Source Loss (RAW) : 0.4165\n"
          ]
        },
        {
          "output_type": "stream",
          "name": "stderr",
          "text": [
            "\n",
            "Epoch 14 [Validation]: 100%|██████████| 62/62 [00:14<00:00,  4.31it/s, Val_Loss=5.6619, mIoU=0.2573]"
          ]
        },
        {
          "output_type": "stream",
          "name": "stdout",
          "text": [
            "\n",
            "→ Validation Loss: 0.3539\n",
            "→ Overall mIoU: 0.2573\n",
            "  → background IoU: 0.2574\n",
            "  → building IoU: 0.2942\n",
            "  → road IoU: 0.2154\n",
            "  → water IoU: 0.4401\n",
            "  → barren IoU: 0.0724\n",
            "  → forest IoU: 0.1395\n",
            "  → agriculture IoU: 0.3817\n",
            "[0.000329658544839708]\n"
          ]
        },
        {
          "output_type": "stream",
          "name": "stderr",
          "text": [
            "\n",
            "Epoch 15 [Training]: 100%|██████████| 73/73 [00:45<00:00,  1.60it/s, Loss_seg=6.6921]"
          ]
        },
        {
          "output_type": "stream",
          "name": "stdout",
          "text": [
            "\n",
            "Epoch 15/20 Summary\n",
            "  → Segmentation Source Loss (RAW) : 0.4183\n"
          ]
        },
        {
          "output_type": "stream",
          "name": "stderr",
          "text": [
            "\n",
            "Epoch 15 [Validation]: 100%|██████████| 62/62 [00:14<00:00,  4.30it/s, Val_Loss=5.5230, mIoU=0.2536]"
          ]
        },
        {
          "output_type": "stream",
          "name": "stdout",
          "text": [
            "\n",
            "→ Validation Loss: 0.3452\n",
            "→ Overall mIoU: 0.2536\n",
            "  → background IoU: 0.2308\n",
            "  → building IoU: 0.3155\n",
            "  → road IoU: 0.2356\n",
            "  → water IoU: 0.4080\n",
            "  → barren IoU: 0.0528\n",
            "  → forest IoU: 0.1340\n",
            "  → agriculture IoU: 0.3982\n",
            "[0.000164829272419854]\n"
          ]
        },
        {
          "output_type": "stream",
          "name": "stderr",
          "text": [
            "\n",
            "Epoch 16 [Training]: 100%|██████████| 73/73 [00:46<00:00,  1.58it/s, Loss_seg=6.5448]"
          ]
        },
        {
          "output_type": "stream",
          "name": "stdout",
          "text": [
            "\n",
            "Epoch 16/20 Summary\n",
            "  → Segmentation Source Loss (RAW) : 0.4091\n"
          ]
        },
        {
          "output_type": "stream",
          "name": "stderr",
          "text": [
            "\n",
            "Epoch 16 [Validation]: 100%|██████████| 62/62 [00:14<00:00,  4.28it/s, Val_Loss=6.5355, mIoU=0.2237]"
          ]
        },
        {
          "output_type": "stream",
          "name": "stdout",
          "text": [
            "\n",
            "→ Validation Loss: 0.4085\n",
            "→ Overall mIoU: 0.2237\n",
            "  → background IoU: 0.2400\n",
            "  → building IoU: 0.2989\n",
            "  → road IoU: 0.1645\n",
            "  → water IoU: 0.3485\n",
            "  → barren IoU: 0.0744\n",
            "  → forest IoU: 0.1321\n",
            "  → agriculture IoU: 0.3077\n",
            "[0.000164829272419854]\n"
          ]
        },
        {
          "output_type": "stream",
          "name": "stderr",
          "text": [
            "\n",
            "Epoch 17 [Training]: 100%|██████████| 73/73 [00:46<00:00,  1.59it/s, Loss_seg=6.5065]"
          ]
        },
        {
          "output_type": "stream",
          "name": "stdout",
          "text": [
            "\n",
            "Epoch 17/20 Summary\n",
            "  → Segmentation Source Loss (RAW) : 0.4067\n"
          ]
        },
        {
          "output_type": "stream",
          "name": "stderr",
          "text": [
            "\n",
            "Epoch 17 [Validation]: 100%|██████████| 62/62 [00:14<00:00,  4.29it/s, Val_Loss=6.2308, mIoU=0.2430]"
          ]
        },
        {
          "output_type": "stream",
          "name": "stdout",
          "text": [
            "\n",
            "→ Validation Loss: 0.3894\n",
            "→ Overall mIoU: 0.2430\n",
            "  → background IoU: 0.2808\n",
            "  → building IoU: 0.2795\n",
            "  → road IoU: 0.2166\n",
            "  → water IoU: 0.3997\n",
            "  → barren IoU: 0.0640\n",
            "  → forest IoU: 0.1232\n",
            "  → agriculture IoU: 0.3372\n",
            "[0.000164829272419854]\n"
          ]
        },
        {
          "output_type": "stream",
          "name": "stderr",
          "text": [
            "\n",
            "Epoch 18 [Training]: 100%|██████████| 73/73 [00:46<00:00,  1.57it/s, Loss_seg=6.4065]"
          ]
        },
        {
          "output_type": "stream",
          "name": "stdout",
          "text": [
            "\n",
            "Epoch 18/20 Summary\n",
            "  → Segmentation Source Loss (RAW) : 0.4004\n"
          ]
        },
        {
          "output_type": "stream",
          "name": "stderr",
          "text": [
            "\n",
            "Epoch 18 [Validation]: 100%|██████████| 62/62 [00:14<00:00,  4.32it/s, Val_Loss=6.1261, mIoU=0.2341]"
          ]
        },
        {
          "output_type": "stream",
          "name": "stdout",
          "text": [
            "\n",
            "→ Validation Loss: 0.3829\n",
            "→ Overall mIoU: 0.2341\n",
            "  → background IoU: 0.2721\n",
            "  → building IoU: 0.3316\n",
            "  → road IoU: 0.1827\n",
            "  → water IoU: 0.3353\n",
            "  → barren IoU: 0.0713\n",
            "  → forest IoU: 0.1305\n",
            "  → agriculture IoU: 0.3154\n",
            "[0.000164829272419854]\n"
          ]
        },
        {
          "output_type": "stream",
          "name": "stderr",
          "text": [
            "\n",
            "Epoch 19 [Training]: 100%|██████████| 73/73 [00:45<00:00,  1.59it/s, Loss_seg=6.4423]"
          ]
        },
        {
          "output_type": "stream",
          "name": "stdout",
          "text": [
            "\n",
            "Epoch 19/20 Summary\n",
            "  → Segmentation Source Loss (RAW) : 0.4026\n"
          ]
        },
        {
          "output_type": "stream",
          "name": "stderr",
          "text": [
            "\n",
            "Epoch 19 [Validation]: 100%|██████████| 62/62 [00:14<00:00,  4.30it/s, Val_Loss=5.9726, mIoU=0.2375]"
          ]
        },
        {
          "output_type": "stream",
          "name": "stdout",
          "text": [
            "\n",
            "→ Validation Loss: 0.3733\n",
            "→ Overall mIoU: 0.2375\n",
            "  → background IoU: 0.2272\n",
            "  → building IoU: 0.2906\n",
            "  → road IoU: 0.2058\n",
            "  → water IoU: 0.4086\n",
            "  → barren IoU: 0.0544\n",
            "  → forest IoU: 0.1319\n",
            "  → agriculture IoU: 0.3442\n",
            "[8.2414636209927e-05]\n"
          ]
        },
        {
          "output_type": "stream",
          "name": "stderr",
          "text": [
            "\n",
            "Epoch 20 [Training]: 100%|██████████| 73/73 [00:45<00:00,  1.59it/s, Loss_seg=6.3304]"
          ]
        },
        {
          "output_type": "stream",
          "name": "stdout",
          "text": [
            "\n",
            "Epoch 20/20 Summary\n",
            "  → Segmentation Source Loss (RAW) : 0.3956\n"
          ]
        },
        {
          "output_type": "stream",
          "name": "stderr",
          "text": [
            "\n",
            "Epoch 20 [Validation]: 100%|██████████| 62/62 [00:14<00:00,  4.29it/s, Val_Loss=6.0002, mIoU=0.2367]\n"
          ]
        },
        {
          "output_type": "stream",
          "name": "stdout",
          "text": [
            "\n",
            "→ Validation Loss: 0.3750\n",
            "→ Overall mIoU: 0.2367\n",
            "  → background IoU: 0.2391\n",
            "  → building IoU: 0.3089\n",
            "  → road IoU: 0.1967\n",
            "  → water IoU: 0.4072\n",
            "  → barren IoU: 0.0570\n",
            "  → forest IoU: 0.1250\n",
            "  → agriculture IoU: 0.3228\n",
            "[0.000329658544839708]\n"
          ]
        },
        {
          "output_type": "stream",
          "name": "stderr",
          "text": [
            "Epoch 1 [Training]: 100%|██████████| 73/73 [00:45<00:00,  1.60it/s, Loss_seg=22.9538]"
          ]
        },
        {
          "output_type": "stream",
          "name": "stdout",
          "text": [
            "\n",
            "Epoch 1/20 Summary\n",
            "  → Segmentation Source Loss (RAW) : 1.4346\n"
          ]
        },
        {
          "output_type": "stream",
          "name": "stderr",
          "text": [
            "\n",
            "Epoch 1 [Validation]: 100%|██████████| 62/62 [00:14<00:00,  4.31it/s, Val_Loss=10.1723, mIoU=0.1215]\n"
          ]
        },
        {
          "output_type": "stream",
          "name": "stdout",
          "text": [
            "Modello con miou migliore salvato: /content/drive/MyDrive/AML_project/checkpoints/best_model_PIDNET_5_DACS_without_6_class.pth\n",
            "\n",
            "→ Validation Loss: 0.6358\n",
            "→ Overall mIoU: 0.1215\n",
            "  → background IoU: 0.0174\n",
            "  → building IoU: 0.1441\n",
            "  → road IoU: 0.1383\n",
            "  → water IoU: 0.2644\n",
            "  → barren IoU: 0.0403\n",
            "  → forest IoU: 0.0872\n",
            "  → agriculture IoU: 0.1591\n",
            "[0.000329658544839708]\n"
          ]
        },
        {
          "output_type": "stream",
          "name": "stderr",
          "text": [
            "Epoch 2 [Training]: 100%|██████████| 73/73 [00:45<00:00,  1.61it/s, Loss_seg=12.7319]"
          ]
        },
        {
          "output_type": "stream",
          "name": "stdout",
          "text": [
            "\n",
            "Epoch 2/20 Summary\n",
            "  → Segmentation Source Loss (RAW) : 0.7957\n"
          ]
        },
        {
          "output_type": "stream",
          "name": "stderr",
          "text": [
            "\n",
            "Epoch 2 [Validation]: 100%|██████████| 62/62 [00:14<00:00,  4.30it/s, Val_Loss=7.8412, mIoU=0.1635]\n"
          ]
        },
        {
          "output_type": "stream",
          "name": "stdout",
          "text": [
            "Modello con miou migliore salvato: /content/drive/MyDrive/AML_project/checkpoints/best_model_PIDNET_5_DACS_without_6_class.pth\n",
            "\n",
            "→ Validation Loss: 0.4901\n",
            "→ Overall mIoU: 0.1635\n",
            "  → background IoU: 0.0576\n",
            "  → building IoU: 0.1841\n",
            "  → road IoU: 0.1403\n",
            "  → water IoU: 0.3400\n",
            "  → barren IoU: 0.0463\n",
            "  → forest IoU: 0.1094\n",
            "  → agriculture IoU: 0.2669\n",
            "[0.000329658544839708]\n"
          ]
        },
        {
          "output_type": "stream",
          "name": "stderr",
          "text": [
            "Epoch 3 [Training]: 100%|██████████| 73/73 [00:45<00:00,  1.60it/s, Loss_seg=10.3704]"
          ]
        },
        {
          "output_type": "stream",
          "name": "stdout",
          "text": [
            "\n",
            "Epoch 3/20 Summary\n",
            "  → Segmentation Source Loss (RAW) : 0.6482\n"
          ]
        },
        {
          "output_type": "stream",
          "name": "stderr",
          "text": [
            "\n",
            "Epoch 3 [Validation]: 100%|██████████| 62/62 [00:14<00:00,  4.30it/s, Val_Loss=7.0834, mIoU=0.1763]\n"
          ]
        },
        {
          "output_type": "stream",
          "name": "stdout",
          "text": [
            "Modello con miou migliore salvato: /content/drive/MyDrive/AML_project/checkpoints/best_model_PIDNET_5_DACS_without_6_class.pth\n",
            "\n",
            "→ Validation Loss: 0.4427\n",
            "→ Overall mIoU: 0.1763\n",
            "  → background IoU: 0.0447\n",
            "  → building IoU: 0.2190\n",
            "  → road IoU: 0.1715\n",
            "  → water IoU: 0.3395\n",
            "  → barren IoU: 0.0554\n",
            "  → forest IoU: 0.1050\n",
            "  → agriculture IoU: 0.2989\n",
            "[0.000329658544839708]\n"
          ]
        },
        {
          "output_type": "stream",
          "name": "stderr",
          "text": [
            "Epoch 4 [Training]: 100%|██████████| 73/73 [00:45<00:00,  1.59it/s, Loss_seg=9.2596]"
          ]
        },
        {
          "output_type": "stream",
          "name": "stdout",
          "text": [
            "\n",
            "Epoch 4/20 Summary\n",
            "  → Segmentation Source Loss (RAW) : 0.5787\n"
          ]
        },
        {
          "output_type": "stream",
          "name": "stderr",
          "text": [
            "\n",
            "Epoch 4 [Validation]: 100%|██████████| 62/62 [00:14<00:00,  4.28it/s, Val_Loss=6.8224, mIoU=0.2003]\n"
          ]
        },
        {
          "output_type": "stream",
          "name": "stdout",
          "text": [
            "Modello con miou migliore salvato: /content/drive/MyDrive/AML_project/checkpoints/best_model_PIDNET_5_DACS_without_6_class.pth\n",
            "\n",
            "→ Validation Loss: 0.4264\n",
            "→ Overall mIoU: 0.2003\n",
            "  → background IoU: 0.0611\n",
            "  → building IoU: 0.2497\n",
            "  → road IoU: 0.2189\n",
            "  → water IoU: 0.3765\n",
            "  → barren IoU: 0.0606\n",
            "  → forest IoU: 0.0999\n",
            "  → agriculture IoU: 0.3352\n",
            "[0.000329658544839708]\n"
          ]
        },
        {
          "output_type": "stream",
          "name": "stderr",
          "text": [
            "Epoch 5 [Training]: 100%|██████████| 73/73 [00:45<00:00,  1.60it/s, Loss_seg=8.6889]"
          ]
        },
        {
          "output_type": "stream",
          "name": "stdout",
          "text": [
            "\n",
            "Epoch 5/20 Summary\n",
            "  → Segmentation Source Loss (RAW) : 0.5431\n"
          ]
        },
        {
          "output_type": "stream",
          "name": "stderr",
          "text": [
            "\n",
            "Epoch 5 [Validation]: 100%|██████████| 62/62 [00:14<00:00,  4.30it/s, Val_Loss=6.9541, mIoU=0.1992]"
          ]
        },
        {
          "output_type": "stream",
          "name": "stdout",
          "text": [
            "\n",
            "→ Validation Loss: 0.4346\n",
            "→ Overall mIoU: 0.1992\n",
            "  → background IoU: 0.1485\n",
            "  → building IoU: 0.2343\n",
            "  → road IoU: 0.1619\n",
            "  → water IoU: 0.3937\n",
            "  → barren IoU: 0.0636\n",
            "  → forest IoU: 0.1138\n",
            "  → agriculture IoU: 0.2788\n",
            "[0.000329658544839708]\n"
          ]
        },
        {
          "output_type": "stream",
          "name": "stderr",
          "text": [
            "\n",
            "Epoch 6 [Training]: 100%|██████████| 73/73 [00:45<00:00,  1.60it/s, Loss_seg=8.1504]"
          ]
        },
        {
          "output_type": "stream",
          "name": "stdout",
          "text": [
            "\n",
            "Epoch 6/20 Summary\n",
            "  → Segmentation Source Loss (RAW) : 0.5094\n"
          ]
        },
        {
          "output_type": "stream",
          "name": "stderr",
          "text": [
            "\n",
            "Epoch 6 [Validation]: 100%|██████████| 62/62 [00:14<00:00,  4.32it/s, Val_Loss=7.1069, mIoU=0.1958]"
          ]
        },
        {
          "output_type": "stream",
          "name": "stdout",
          "text": [
            "\n",
            "→ Validation Loss: 0.4442\n",
            "→ Overall mIoU: 0.1958\n",
            "  → background IoU: 0.1101\n",
            "  → building IoU: 0.2629\n",
            "  → road IoU: 0.1693\n",
            "  → water IoU: 0.3999\n",
            "  → barren IoU: 0.0549\n",
            "  → forest IoU: 0.1022\n",
            "  → agriculture IoU: 0.2716\n",
            "[0.000329658544839708]\n"
          ]
        },
        {
          "output_type": "stream",
          "name": "stderr",
          "text": [
            "\n",
            "Epoch 7 [Training]: 100%|██████████| 73/73 [00:45<00:00,  1.60it/s, Loss_seg=7.7970]"
          ]
        },
        {
          "output_type": "stream",
          "name": "stdout",
          "text": [
            "\n",
            "Epoch 7/20 Summary\n",
            "  → Segmentation Source Loss (RAW) : 0.4873\n"
          ]
        },
        {
          "output_type": "stream",
          "name": "stderr",
          "text": [
            "\n",
            "Epoch 7 [Validation]: 100%|██████████| 62/62 [00:14<00:00,  4.32it/s, Val_Loss=6.7984, mIoU=0.2065]\n"
          ]
        },
        {
          "output_type": "stream",
          "name": "stdout",
          "text": [
            "Modello con miou migliore salvato: /content/drive/MyDrive/AML_project/checkpoints/best_model_PIDNET_5_DACS_without_6_class.pth\n",
            "\n",
            "→ Validation Loss: 0.4249\n",
            "→ Overall mIoU: 0.2065\n",
            "  → background IoU: 0.1336\n",
            "  → building IoU: 0.2545\n",
            "  → road IoU: 0.1982\n",
            "  → water IoU: 0.4100\n",
            "  → barren IoU: 0.0677\n",
            "  → forest IoU: 0.0980\n",
            "  → agriculture IoU: 0.2833\n",
            "[0.000329658544839708]\n"
          ]
        },
        {
          "output_type": "stream",
          "name": "stderr",
          "text": [
            "Epoch 8 [Training]: 100%|██████████| 73/73 [00:45<00:00,  1.60it/s, Loss_seg=7.4608]"
          ]
        },
        {
          "output_type": "stream",
          "name": "stdout",
          "text": [
            "\n",
            "Epoch 8/20 Summary\n",
            "  → Segmentation Source Loss (RAW) : 0.4663\n"
          ]
        },
        {
          "output_type": "stream",
          "name": "stderr",
          "text": [
            "\n",
            "Epoch 8 [Validation]: 100%|██████████| 62/62 [00:14<00:00,  4.30it/s, Val_Loss=6.7836, mIoU=0.2029]"
          ]
        },
        {
          "output_type": "stream",
          "name": "stdout",
          "text": [
            "\n",
            "→ Validation Loss: 0.4240\n",
            "→ Overall mIoU: 0.2029\n",
            "  → background IoU: 0.1383\n",
            "  → building IoU: 0.2520\n",
            "  → road IoU: 0.1625\n",
            "  → water IoU: 0.4122\n",
            "  → barren IoU: 0.0585\n",
            "  → forest IoU: 0.1076\n",
            "  → agriculture IoU: 0.2893\n",
            "[0.000329658544839708]\n"
          ]
        },
        {
          "output_type": "stream",
          "name": "stderr",
          "text": [
            "\n",
            "Epoch 9 [Training]: 100%|██████████| 73/73 [00:45<00:00,  1.60it/s, Loss_seg=7.4864]"
          ]
        },
        {
          "output_type": "stream",
          "name": "stdout",
          "text": [
            "\n",
            "Epoch 9/20 Summary\n",
            "  → Segmentation Source Loss (RAW) : 0.4679\n"
          ]
        },
        {
          "output_type": "stream",
          "name": "stderr",
          "text": [
            "\n",
            "Epoch 9 [Validation]: 100%|██████████| 62/62 [00:14<00:00,  4.31it/s, Val_Loss=6.9915, mIoU=0.2117]\n"
          ]
        },
        {
          "output_type": "stream",
          "name": "stdout",
          "text": [
            "Modello con miou migliore salvato: /content/drive/MyDrive/AML_project/checkpoints/best_model_PIDNET_5_DACS_without_6_class.pth\n",
            "\n",
            "→ Validation Loss: 0.4370\n",
            "→ Overall mIoU: 0.2117\n",
            "  → background IoU: 0.1128\n",
            "  → building IoU: 0.2871\n",
            "  → road IoU: 0.1982\n",
            "  → water IoU: 0.4384\n",
            "  → barren IoU: 0.0610\n",
            "  → forest IoU: 0.1020\n",
            "  → agriculture IoU: 0.2823\n",
            "[0.000329658544839708]\n"
          ]
        },
        {
          "output_type": "stream",
          "name": "stderr",
          "text": [
            "Epoch 10 [Training]: 100%|██████████| 73/73 [00:45<00:00,  1.59it/s, Loss_seg=7.2121]"
          ]
        },
        {
          "output_type": "stream",
          "name": "stdout",
          "text": [
            "\n",
            "Epoch 10/20 Summary\n",
            "  → Segmentation Source Loss (RAW) : 0.4508\n"
          ]
        },
        {
          "output_type": "stream",
          "name": "stderr",
          "text": [
            "\n",
            "Epoch 10 [Validation]: 100%|██████████| 62/62 [00:14<00:00,  4.30it/s, Val_Loss=6.6410, mIoU=0.2349]\n"
          ]
        },
        {
          "output_type": "stream",
          "name": "stdout",
          "text": [
            "Modello con miou migliore salvato: /content/drive/MyDrive/AML_project/checkpoints/best_model_PIDNET_5_DACS_without_6_class.pth\n",
            "\n",
            "→ Validation Loss: 0.4151\n",
            "→ Overall mIoU: 0.2349\n",
            "  → background IoU: 0.2401\n",
            "  → building IoU: 0.2729\n",
            "  → road IoU: 0.2075\n",
            "  → water IoU: 0.4463\n",
            "  → barren IoU: 0.0673\n",
            "  → forest IoU: 0.1203\n",
            "  → agriculture IoU: 0.2900\n",
            "[0.000329658544839708]\n"
          ]
        },
        {
          "output_type": "stream",
          "name": "stderr",
          "text": [
            "Epoch 11 [Training]: 100%|██████████| 73/73 [00:46<00:00,  1.58it/s, Loss_seg=7.0757]"
          ]
        },
        {
          "output_type": "stream",
          "name": "stdout",
          "text": [
            "\n",
            "Epoch 11/20 Summary\n",
            "  → Segmentation Source Loss (RAW) : 0.4422\n"
          ]
        },
        {
          "output_type": "stream",
          "name": "stderr",
          "text": [
            "\n",
            "Epoch 11 [Validation]: 100%|██████████| 62/62 [00:14<00:00,  4.30it/s, Val_Loss=7.0869, mIoU=0.2225]"
          ]
        },
        {
          "output_type": "stream",
          "name": "stdout",
          "text": [
            "\n",
            "→ Validation Loss: 0.4429\n",
            "→ Overall mIoU: 0.2225\n",
            "  → background IoU: 0.2169\n",
            "  → building IoU: 0.2662\n",
            "  → road IoU: 0.1769\n",
            "  → water IoU: 0.4349\n",
            "  → barren IoU: 0.0878\n",
            "  → forest IoU: 0.1089\n",
            "  → agriculture IoU: 0.2657\n",
            "[0.000329658544839708]\n"
          ]
        },
        {
          "output_type": "stream",
          "name": "stderr",
          "text": [
            "\n",
            "Epoch 12 [Training]: 100%|██████████| 73/73 [00:45<00:00,  1.59it/s, Loss_seg=6.9690]"
          ]
        },
        {
          "output_type": "stream",
          "name": "stdout",
          "text": [
            "\n",
            "Epoch 12/20 Summary\n",
            "  → Segmentation Source Loss (RAW) : 0.4356\n"
          ]
        },
        {
          "output_type": "stream",
          "name": "stderr",
          "text": [
            "\n",
            "Epoch 12 [Validation]: 100%|██████████| 62/62 [00:14<00:00,  4.32it/s, Val_Loss=7.0746, mIoU=0.2315]"
          ]
        },
        {
          "output_type": "stream",
          "name": "stdout",
          "text": [
            "\n",
            "→ Validation Loss: 0.4422\n",
            "→ Overall mIoU: 0.2315\n",
            "  → background IoU: 0.1806\n",
            "  → building IoU: 0.2818\n",
            "  → road IoU: 0.2168\n",
            "  → water IoU: 0.4633\n",
            "  → barren IoU: 0.0711\n",
            "  → forest IoU: 0.0993\n",
            "  → agriculture IoU: 0.3075\n",
            "[0.000329658544839708]\n"
          ]
        },
        {
          "output_type": "stream",
          "name": "stderr",
          "text": [
            "\n",
            "Epoch 13 [Training]: 100%|██████████| 73/73 [00:45<00:00,  1.60it/s, Loss_seg=6.8728]"
          ]
        },
        {
          "output_type": "stream",
          "name": "stdout",
          "text": [
            "\n",
            "Epoch 13/20 Summary\n",
            "  → Segmentation Source Loss (RAW) : 0.4295\n"
          ]
        },
        {
          "output_type": "stream",
          "name": "stderr",
          "text": [
            "\n",
            "Epoch 13 [Validation]: 100%|██████████| 62/62 [00:14<00:00,  4.32it/s, Val_Loss=7.2390, mIoU=0.2091]"
          ]
        },
        {
          "output_type": "stream",
          "name": "stdout",
          "text": [
            "\n",
            "→ Validation Loss: 0.4524\n",
            "→ Overall mIoU: 0.2091\n",
            "  → background IoU: 0.1058\n",
            "  → building IoU: 0.2697\n",
            "  → road IoU: 0.1959\n",
            "  → water IoU: 0.4233\n",
            "  → barren IoU: 0.1032\n",
            "  → forest IoU: 0.0958\n",
            "  → agriculture IoU: 0.2700\n",
            "[0.000329658544839708]\n"
          ]
        },
        {
          "output_type": "stream",
          "name": "stderr",
          "text": [
            "\n",
            "Epoch 14 [Training]: 100%|██████████| 73/73 [00:45<00:00,  1.60it/s, Loss_seg=6.7541]"
          ]
        },
        {
          "output_type": "stream",
          "name": "stdout",
          "text": [
            "\n",
            "Epoch 14/20 Summary\n",
            "  → Segmentation Source Loss (RAW) : 0.4221\n"
          ]
        },
        {
          "output_type": "stream",
          "name": "stderr",
          "text": [
            "\n",
            "Epoch 14 [Validation]: 100%|██████████| 62/62 [00:14<00:00,  4.32it/s, Val_Loss=7.2358, mIoU=0.2164]"
          ]
        },
        {
          "output_type": "stream",
          "name": "stdout",
          "text": [
            "\n",
            "→ Validation Loss: 0.4522\n",
            "→ Overall mIoU: 0.2164\n",
            "  → background IoU: 0.1312\n",
            "  → building IoU: 0.2744\n",
            "  → road IoU: 0.2067\n",
            "  → water IoU: 0.4441\n",
            "  → barren IoU: 0.0952\n",
            "  → forest IoU: 0.0954\n",
            "  → agriculture IoU: 0.2680\n",
            "[0.000164829272419854]\n"
          ]
        },
        {
          "output_type": "stream",
          "name": "stderr",
          "text": [
            "\n",
            "Epoch 15 [Training]: 100%|██████████| 73/73 [00:45<00:00,  1.59it/s, Loss_seg=6.6613]"
          ]
        },
        {
          "output_type": "stream",
          "name": "stdout",
          "text": [
            "\n",
            "Epoch 15/20 Summary\n",
            "  → Segmentation Source Loss (RAW) : 0.4163\n"
          ]
        },
        {
          "output_type": "stream",
          "name": "stderr",
          "text": [
            "\n",
            "Epoch 15 [Validation]: 100%|██████████| 62/62 [00:14<00:00,  4.29it/s, Val_Loss=6.9394, mIoU=0.2147]"
          ]
        },
        {
          "output_type": "stream",
          "name": "stdout",
          "text": [
            "\n",
            "→ Validation Loss: 0.4337\n",
            "→ Overall mIoU: 0.2147\n",
            "  → background IoU: 0.1178\n",
            "  → building IoU: 0.2858\n",
            "  → road IoU: 0.1739\n",
            "  → water IoU: 0.4623\n",
            "  → barren IoU: 0.1081\n",
            "  → forest IoU: 0.0872\n",
            "  → agriculture IoU: 0.2678\n",
            "[0.000164829272419854]\n"
          ]
        },
        {
          "output_type": "stream",
          "name": "stderr",
          "text": [
            "\n",
            "Epoch 16 [Training]: 100%|██████████| 73/73 [00:45<00:00,  1.61it/s, Loss_seg=6.6944]"
          ]
        },
        {
          "output_type": "stream",
          "name": "stdout",
          "text": [
            "\n",
            "Epoch 16/20 Summary\n",
            "  → Segmentation Source Loss (RAW) : 0.4184\n"
          ]
        },
        {
          "output_type": "stream",
          "name": "stderr",
          "text": [
            "\n",
            "Epoch 16 [Validation]: 100%|██████████| 62/62 [00:14<00:00,  4.31it/s, Val_Loss=7.0735, mIoU=0.2074]"
          ]
        },
        {
          "output_type": "stream",
          "name": "stdout",
          "text": [
            "\n",
            "→ Validation Loss: 0.4421\n",
            "→ Overall mIoU: 0.2074\n",
            "  → background IoU: 0.0941\n",
            "  → building IoU: 0.2872\n",
            "  → road IoU: 0.1796\n",
            "  → water IoU: 0.4441\n",
            "  → barren IoU: 0.1091\n",
            "  → forest IoU: 0.0942\n",
            "  → agriculture IoU: 0.2436\n",
            "[0.000164829272419854]\n"
          ]
        },
        {
          "output_type": "stream",
          "name": "stderr",
          "text": [
            "\n",
            "Epoch 17 [Training]: 100%|██████████| 73/73 [00:45<00:00,  1.59it/s, Loss_seg=6.4983]"
          ]
        },
        {
          "output_type": "stream",
          "name": "stdout",
          "text": [
            "\n",
            "Epoch 17/20 Summary\n",
            "  → Segmentation Source Loss (RAW) : 0.4061\n"
          ]
        },
        {
          "output_type": "stream",
          "name": "stderr",
          "text": [
            "\n",
            "Epoch 17 [Validation]: 100%|██████████| 62/62 [00:14<00:00,  4.32it/s, Val_Loss=7.5871, mIoU=0.2155]"
          ]
        },
        {
          "output_type": "stream",
          "name": "stdout",
          "text": [
            "\n",
            "→ Validation Loss: 0.4742\n",
            "→ Overall mIoU: 0.2155\n",
            "  → background IoU: 0.1757\n",
            "  → building IoU: 0.2853\n",
            "  → road IoU: 0.1835\n",
            "  → water IoU: 0.4529\n",
            "  → barren IoU: 0.0961\n",
            "  → forest IoU: 0.1030\n",
            "  → agriculture IoU: 0.2122\n",
            "[0.000164829272419854]\n"
          ]
        },
        {
          "output_type": "stream",
          "name": "stderr",
          "text": [
            "\n",
            "Epoch 18 [Training]: 100%|██████████| 73/73 [00:45<00:00,  1.60it/s, Loss_seg=6.5496]"
          ]
        },
        {
          "output_type": "stream",
          "name": "stdout",
          "text": [
            "\n",
            "Epoch 18/20 Summary\n",
            "  → Segmentation Source Loss (RAW) : 0.4094\n"
          ]
        },
        {
          "output_type": "stream",
          "name": "stderr",
          "text": [
            "\n",
            "Epoch 18 [Validation]: 100%|██████████| 62/62 [00:14<00:00,  4.30it/s, Val_Loss=7.5402, mIoU=0.2089]"
          ]
        },
        {
          "output_type": "stream",
          "name": "stdout",
          "text": [
            "\n",
            "→ Validation Loss: 0.4713\n",
            "→ Overall mIoU: 0.2089\n",
            "  → background IoU: 0.1646\n",
            "  → building IoU: 0.2345\n",
            "  → road IoU: 0.1678\n",
            "  → water IoU: 0.4618\n",
            "  → barren IoU: 0.1149\n",
            "  → forest IoU: 0.1016\n",
            "  → agriculture IoU: 0.2170\n",
            "[8.2414636209927e-05]\n"
          ]
        },
        {
          "output_type": "stream",
          "name": "stderr",
          "text": [
            "\n",
            "Epoch 19 [Training]: 100%|██████████| 73/73 [00:45<00:00,  1.59it/s, Loss_seg=6.3835]"
          ]
        },
        {
          "output_type": "stream",
          "name": "stdout",
          "text": [
            "\n",
            "Epoch 19/20 Summary\n",
            "  → Segmentation Source Loss (RAW) : 0.3990\n"
          ]
        },
        {
          "output_type": "stream",
          "name": "stderr",
          "text": [
            "\n",
            "Epoch 19 [Validation]: 100%|██████████| 62/62 [00:14<00:00,  4.33it/s, Val_Loss=6.9785, mIoU=0.2253]"
          ]
        },
        {
          "output_type": "stream",
          "name": "stdout",
          "text": [
            "\n",
            "→ Validation Loss: 0.4362\n",
            "→ Overall mIoU: 0.2253\n",
            "  → background IoU: 0.1810\n",
            "  → building IoU: 0.2777\n",
            "  → road IoU: 0.1938\n",
            "  → water IoU: 0.4772\n",
            "  → barren IoU: 0.0933\n",
            "  → forest IoU: 0.0997\n",
            "  → agriculture IoU: 0.2542\n",
            "[8.2414636209927e-05]\n"
          ]
        },
        {
          "output_type": "stream",
          "name": "stderr",
          "text": [
            "\n",
            "Epoch 20 [Training]: 100%|██████████| 73/73 [00:46<00:00,  1.58it/s, Loss_seg=6.3979]"
          ]
        },
        {
          "output_type": "stream",
          "name": "stdout",
          "text": [
            "\n",
            "Epoch 20/20 Summary\n",
            "  → Segmentation Source Loss (RAW) : 0.3999\n"
          ]
        },
        {
          "output_type": "stream",
          "name": "stderr",
          "text": [
            "\n",
            "Epoch 20 [Validation]: 100%|██████████| 62/62 [00:14<00:00,  4.30it/s, Val_Loss=7.0183, mIoU=0.2225]"
          ]
        },
        {
          "output_type": "stream",
          "name": "stdout",
          "text": [
            "\n",
            "→ Validation Loss: 0.4386\n",
            "→ Overall mIoU: 0.2225\n",
            "  → background IoU: 0.1632\n",
            "  → building IoU: 0.2600\n",
            "  → road IoU: 0.1980\n",
            "  → water IoU: 0.4738\n",
            "  → barren IoU: 0.0923\n",
            "  → forest IoU: 0.0950\n",
            "  → agriculture IoU: 0.2749\n"
          ]
        },
        {
          "output_type": "stream",
          "name": "stderr",
          "text": [
            "\n"
          ]
        }
      ],
      "source": [
        "from tqdm import tqdm\n",
        "import torch\n",
        "from torchmetrics.segmentation import MeanIoU\n",
        "import matplotlib.pyplot as plt\n",
        "\n",
        "np.random.seed(SEED)\n",
        "torch.manual_seed(SEED)\n",
        "torch.cuda.manual_seed(SEED)\n",
        "\n",
        "\n",
        "for index_of_blocked_class in range(NUM_CLASSES):\n",
        "\n",
        "    model = get_seg_model(cfg, imgnet_pretrained=True)\n",
        "    model.to(device)\n",
        "\n",
        "    optimizer = torch.optim.SGD(model.parameters(), lr=LR, momentum=MOMENTUM)\n",
        "\n",
        "    scheduler = torch.optim.lr_scheduler.ReduceLROnPlateau(optimizer, mode='max', factor=GAMMA, patience=3, threshold=0.01)\n",
        "\n",
        "    if TYPE_WEIGHT == \"median-frequency\" or TYPE_WEIGHT == \"inverse\" or TYPE_WEIGHT == \"log\":\n",
        "      loss_fn = PIDNetLoss(threshold=0.8, class_weights=class_weights)\n",
        "      mix_loss = CrossEntropyLoss2dPixelWiseWeighted(ignore_index = IGNORE_INDEX, weight = torch.tensor(class_weights).cuda())\n",
        "    else:\n",
        "      loss_fn = PIDNetLoss(threshold=0.8, class_weights=None)\n",
        "      mix_loss = CrossEntropyLoss2dPixelWiseWeighted(ignore_index = IGNORE_INDEX, weight = None)\n",
        "\n",
        "\n",
        "    ema_model = create_ema_model(model)\n",
        "    ema_model.to(device)\n",
        "\n",
        "    num_classes = 7\n",
        "    miou_classes = MeanIoU(num_classes=num_classes, input_format = \"index\", per_class=True).to(device)\n",
        "\n",
        "    record_miou = 0\n",
        "\n",
        "    for epoch in range(EPOCHS):\n",
        "        print(scheduler.get_last_lr())\n",
        "        loss_raw_value = 0\n",
        "        total_train_samples = 0\n",
        "\n",
        "        model.train()\n",
        "        ema_model.train()\n",
        "\n",
        "\n",
        "\n",
        "        train_loader = zip(source_loader, target_loader)\n",
        "        num_batches = min(len(source_loader), len(target_loader))\n",
        "\n",
        "        pbar = tqdm(enumerate(train_loader), total=num_batches, desc=f\"Epoch {epoch+1} [Training]\")\n",
        "\n",
        "        for i, (source_batch, target_batch) in pbar:\n",
        "            optimizer.zero_grad()\n",
        "\n",
        "            X_source, y_source, boundary_mask_source = source_batch\n",
        "            X_source, y_source, boundary_mask_source = X_source.to(device), y_source.to(device), boundary_mask_source.to(device)\n",
        "\n",
        "            X_target, boundary_mask_target = target_batch\n",
        "            X_target, boundary_mask_target = X_target.to(device), boundary_mask_target.to(device)\n",
        "\n",
        "            outputs_s = model(X_source)\n",
        "            pred_p, pred_main, boundary_head = Upscaling(outputs=outputs_s, boundary_mask=boundary_mask_source, model=model)\n",
        "\n",
        "            loss_labled = loss_fn(pred_p, pred_main, y_source, boundary_head, boundary_mask_source)\n",
        "\n",
        "            if(LOSS_TYPE == \"ohem\"):\n",
        "              loss_labled = torch.mean(loss_labled)\n",
        "\n",
        "            outputs_t = ema_model(X_target)\n",
        "\n",
        "            _ , pred_main, _ = Upscaling(outputs=outputs_t, boundary_mask=boundary_mask_target, model=ema_model)\n",
        "\n",
        "            probs_t = torch.softmax(pred_main.detach(), dim=1)\n",
        "\n",
        "            max_probs, pseudo_labels = torch.max(probs_t, dim=1)\n",
        "\n",
        "            MixMasks = []\n",
        "\n",
        "            for image_i in range(X_source.shape[0]): # Per ogni immagine source stiamo andando ad estrarre delle classi prese in modo random\n",
        "              classes = torch.unique(y_source[image_i])\n",
        "              classes = classes[classes!=-1]\n",
        "              classes = classes[classes != index_of_blocked_class]  # remove blocked class\n",
        "\n",
        "              nclasses = classes.shape[0]\n",
        "              classes = (classes[torch.Tensor(np.random.choice(nclasses, int((nclasses+nclasses%2)/2),replace=False)).long()]).cuda()\n",
        "\n",
        "              MixMask = generate_class_mask(y_source[image_i], classes).unsqueeze(0).cuda()\n",
        "              MixMasks.append(MixMask)\n",
        "\n",
        "            mixed_imgs = []\n",
        "            mixed_labels = []\n",
        "            mixed_boundary_masks = []\n",
        "\n",
        "            for image_i in range(X_source.shape[0]):\n",
        "              data = torch.cat((X_source[image_i].unsqueeze(0), X_target[image_i].unsqueeze(0)))\n",
        "              labels = torch.cat((y_source[image_i].unsqueeze(0), pseudo_labels[image_i].unsqueeze(0)))\n",
        "\n",
        "              data, mask = strong_transform(\n",
        "                  aug=augment,\n",
        "                  data=data,\n",
        "                  target=labels,\n",
        "                  masks_mix=[MixMasks[image_i]]\n",
        "              )\n",
        "\n",
        "              boundary_mask_mix = extract_boundary_mask(mask)\n",
        "\n",
        "              mixed_imgs.append(data)\n",
        "              mixed_labels.append(mask)\n",
        "              mixed_boundary_masks.append(boundary_mask_mix)\n",
        "\n",
        "            if i == 0 and SHOW_IMG:\n",
        "              fig, axs = plt.subplots(2, 3, figsize=(24, 10))\n",
        "\n",
        "              for j in range(2):\n",
        "                axs[j, 0].imshow(mixed_imgs[j].squeeze().permute(1, 2, 0).cpu().detach().numpy())\n",
        "                axs[j, 0].set_title(\"IMG\")\n",
        "                axs[j, 0].axis('off')\n",
        "\n",
        "                axs[j, 1].imshow(mixed_labels[j].permute(1, 2, 0).cpu().detach().numpy())\n",
        "                axs[j, 1].set_title(\"Labels\")\n",
        "                axs[j, 1].axis('off')\n",
        "\n",
        "                axs[j, 2].imshow(mixed_boundary_masks[j].permute(1, 2, 0).cpu().detach().numpy())\n",
        "                axs[j, 2].set_title(\"Boundary\")\n",
        "                axs[j, 2].axis('off')\n",
        "\n",
        "              plt.tight_layout()\n",
        "              plt.show()\n",
        "\n",
        "            #Mi ricostruisce il batch completo da una lista di singole immagini e label mescolate (quindi con shape [1, C, H, W]) in [BATCH_SIZE, C, H, W]\n",
        "            inputs_mix = torch.cat(mixed_imgs, dim=0).to(device)\n",
        "            targets_mix = torch.cat(mixed_labels, dim=0).to(device)\n",
        "            boundary_masks_mix = torch.cat(mixed_boundary_masks, dim=0).to(device)\n",
        "\n",
        "            outputs_mix = model(inputs_mix)\n",
        "\n",
        "            pred_p_mix, pred_main_mix, boundary_head_mix = Upscaling(outputs=outputs_mix, boundary_mask=boundary_masks_mix, model=model)\n",
        "\n",
        "            #---------------------------------\n",
        "            if PIXEL_WEIGHT == \"threshold_uniform\":\n",
        "              unlabeled_weight = torch.sum(max_probs.ge(0.968).long() == 1).item() / np.size(np.array(targets_mix.cpu()))\n",
        "              pixelWiseWeight = unlabeled_weight * torch.ones(max_probs.shape).cuda()\n",
        "            else:\n",
        "              pixelWiseWeight = max_probs.ge(THRESHOLD).float().cuda()\n",
        "\n",
        "            onesWeights = torch.ones((pixelWiseWeight.shape)).cuda()\n",
        "\n",
        "            pixelWiseWeight_mix = []\n",
        "\n",
        "            for image_i in range(X_source.shape[0]):\n",
        "                weights_pair = torch.cat((onesWeights[image_i].unsqueeze(0), pixelWiseWeight[image_i].unsqueeze(0)))\n",
        "\n",
        "                _, mixed_weights = strong_transform(\n",
        "                    target=weights_pair,\n",
        "                    masks_mix=[MixMasks[image_i]]\n",
        "                )\n",
        "\n",
        "                pixelWiseWeight_mix.append(mixed_weights)\n",
        "\n",
        "            pixelWiseWeight_mix = torch.cat(pixelWiseWeight_mix, dim=0).to(device)  # [B, H, W]\n",
        "\n",
        "\n",
        "            loss_seg_mix = mix_loss(pred_main_mix, targets_mix, pixelWiseWeight_mix)\n",
        "            #---------------------------------------\n",
        "\n",
        "            loss_overall = loss_seg_mix + loss_labled\n",
        "\n",
        "            loss_overall.backward()\n",
        "            optimizer.step()\n",
        "\n",
        "            ema_model = update_ema_variables(ema_model = ema_model, model = model, alpha_teacher=ALPHA_TEACHER, iteration=(epoch * num_batches + i))\n",
        "\n",
        "            loss_raw_value += loss_overall.item()\n",
        "            total_train_samples += X_target.size(0)\n",
        "\n",
        "            pbar.set_postfix({\n",
        "                \"Loss_seg\": f\"{loss_raw_value / (i+1):.4f}\",\n",
        "            })\n",
        "\n",
        "        print(f\"\\nEpoch {epoch+1}/{EPOCHS} Summary\")\n",
        "        print(f\"  → Segmentation Source Loss (RAW) : {loss_raw_value / total_train_samples:.4f}\")\n",
        "\n",
        "        # ---------------------- VALIDATION ----------------------\n",
        "\n",
        "        model.eval()\n",
        "        val_loss = 0\n",
        "        miou_classes.reset()\n",
        "        total_val_samples = 0\n",
        "\n",
        "        with torch.inference_mode():\n",
        "            pbar_val = tqdm(enumerate(val_loader), total=len(val_loader), desc=f\"Epoch {epoch+1} [Validation]\")\n",
        "\n",
        "            for batch, (X_val, y_val, boundary_mask) in pbar_val:\n",
        "                X_val, y_val, boundary_mask = X_val.to(device), y_val.to(device), boundary_mask.to(device)\n",
        "\n",
        "                outputs = model(X_val)\n",
        "                pred_p, pred_main, boundary_head = Upscaling(outputs=outputs, boundary_mask=boundary_mask, model=model)\n",
        "\n",
        "                loss = loss_fn(pred_p, pred_main, y_val, boundary_head, boundary_mask)\n",
        "\n",
        "                if(LOSS_TYPE == \"ohem\"):\n",
        "                  loss = torch.mean(loss)\n",
        "\n",
        "                val_loss += loss.item()\n",
        "                total_val_samples += X_val.size(0)\n",
        "\n",
        "                preds = pred_main.argmax(dim=1)\n",
        "                valid_mask = (y_val >= 0) & (y_val < num_classes)\n",
        "                preds_flat = preds[valid_mask]\n",
        "                targets_flat = y_val[valid_mask]\n",
        "\n",
        "                miou_classes.update(preds_flat, targets_flat)\n",
        "\n",
        "                pbar_val.set_postfix({\n",
        "                    \"Val_Loss\": f\"{val_loss / (batch+1):.4f}\",\n",
        "                    \"mIoU\": f\"{miou_classes.compute().mean():.4f}\"\n",
        "                })\n",
        "\n",
        "        avg_val_loss = val_loss / total_val_samples\n",
        "        miou_per_class = miou_classes.compute()\n",
        "        miou = miou_per_class.mean()\n",
        "\n",
        "        if record_miou is None or miou > record_miou:\n",
        "          best_model_path = f\"/content/drive/MyDrive/AML_project/checkpoints/best_model_PIDNET_5_DACS_without_{index_of_blocked_class}_class.pth\"\n",
        "          torch.save(model.state_dict(), best_model_path)\n",
        "          print(f\"Modello con miou migliore salvato: {best_model_path}\")\n",
        "          record_miou = miou\n",
        "\n",
        "        print(f\"\\n→ Validation Loss: {avg_val_loss:.4f}\")\n",
        "        print(f\"→ Overall mIoU: {miou:.4f}\")\n",
        "        for i, iou in enumerate(miou_per_class):\n",
        "            class_name = list(sem_class_to_idx.keys())[list(sem_class_to_idx.values()).index(i)]\n",
        "            print(f\"  → {class_name} IoU: {iou:.4f}\")\n",
        "\n",
        "        scheduler.step(miou)\n",
        "\n",
        "\n"
      ]
    },
    {
      "cell_type": "code",
      "source": [
        "# ****************************** Validazione ******************************\n",
        "from torchmetrics.segmentation import MeanIoU\n",
        "\n",
        "num_classes = 7\n",
        "miou_classes = MeanIoU(num_classes=num_classes, input_format = \"index\", per_class=True).to(device)\n",
        "\n",
        "for i in range(NUM_CLASSES):\n",
        "\n",
        "    model_path = f\"/content/drive/MyDrive/AML_project/checkpoints/best_model_PIDNET_5_DACS_without_{i}_class.pth\"\n",
        "\n",
        "    cfg = Config()\n",
        "\n",
        "    model = get_seg_model(cfg, imgnet_pretrained=True)\n",
        "\n",
        "    try:\n",
        "      model.load_state_dict(torch.load(model_path))\n",
        "      print(f\"loaded model {i}\")\n",
        "    except:\n",
        "      print(list(torch.load(best_model_path).keys())[:5])\n",
        "\n",
        "    model.to(device)\n",
        "\n",
        "    model.eval()\n",
        "    val_loss = 0\n",
        "    miou_classes.reset()\n",
        "    total_val_samples = 0\n",
        "\n",
        "    with torch.inference_mode():\n",
        "        for batch, (X_val, y_val, boundary_mask) in enumerate(val_loader):\n",
        "            X_val = X_val.to(device)\n",
        "            y_val = y_val.to(device)\n",
        "            boundary_mask = boundary_mask.to(device)\n",
        "\n",
        "            # Output del modello\n",
        "            outputs = model(X_val)\n",
        "\n",
        "            #upscaling\n",
        "            pred_p, pred_main, boundary_head = Upscaling(outputs=outputs, boundary_mask=boundary_mask, model=model)\n",
        "\n",
        "            if batch == 0 and SHOW_IMG:\n",
        "              fig, axs = plt.subplots(4, 5, figsize=(12, 5))\n",
        "\n",
        "              for j in range(4):\n",
        "\n",
        "                axs[j, 0].imshow(pred_p[j].cpu().detach().argmax(dim=0).numpy(), cmap='tab20')\n",
        "                axs[j, 0].set_title(\"Auxiliary Prediction\")\n",
        "                axs[j, 0].axis('off')\n",
        "\n",
        "                axs[j, 1].imshow(pred_main[j].cpu().detach().argmax(dim=0).numpy(), cmap='tab20')\n",
        "                axs[j, 1].set_title(\"Main Prediction\")\n",
        "                axs[j, 1].axis('off')\n",
        "\n",
        "                axs[j, 2].imshow(y_val[j].cpu().detach().numpy(), cmap='tab20')\n",
        "                axs[j, 2].set_title(\"Target mask\")\n",
        "                axs[j, 2].axis('off')\n",
        "\n",
        "                axs[j, 3].imshow(boundary_head[j].cpu().detach().sigmoid().squeeze(0).numpy(), cmap='gray')\n",
        "                axs[j, 3].set_title(\"Boundary Prediction\")\n",
        "                axs[j, 3].axis('off')\n",
        "\n",
        "                axs[j, 4].imshow(X_val[j].cpu().detach().squeeze(0).numpy().transpose(1, 2, 0))\n",
        "                axs[j, 4].set_title(\"Target image\")\n",
        "                axs[j, 4].axis('off')\n",
        "\n",
        "              plt.tight_layout()\n",
        "              plt.show()\n",
        "\n",
        "            # Calcola la loss\n",
        "            loss = loss_fn(pred_p, pred_main, y_val, boundary_head, boundary_mask)\n",
        "            val_loss += loss.item()\n",
        "\n",
        "            total_val_samples += X_val.size(0)\n",
        "\n",
        "            # Calcola le predizioni\n",
        "            preds = pred_main.argmax(dim=1)  # Shape: (N, H, W)\n",
        "\n",
        "            # Mask dei pixel validi (classi da 0 a num_classes - 1)\n",
        "            valid_mask = (y_val >= 0) & (y_val < num_classes)\n",
        "\n",
        "            # print(f\"valid mask :\", valid_mask.shape )\n",
        "\n",
        "            # Appiattisci le predizioni e i target solo sui pixel validi\n",
        "            preds_flat = preds[valid_mask]\n",
        "            targets_flat = y_val[valid_mask]\n",
        "\n",
        "            # print(f\"preds_flat :\", preds_flat.shape )\n",
        "            # print(f\"targets_flat :\", targets_flat.shape )\n",
        "\n",
        "            miou_classes.update(preds_flat, targets_flat)\n",
        "\n",
        "    avg_val_loss = val_loss / total_val_samples\n",
        "\n",
        "    miou_per_class = miou_classes.compute()\n",
        "    miou = miou_per_class.mean()\n",
        "\n",
        "    print(f\"Epoch {epoch+1}/{EPOCHS} | Validation Loss: {avg_val_loss} | mIoU: {miou} | Total validation samples seen: {total_val_samples}\")\n",
        "    # per class\n",
        "    for i, iou in enumerate(miou_per_class):\n",
        "        class_name = list(sem_class_to_idx.keys())[list(sem_class_to_idx.values()).index(i)]\n",
        "        print(f\"  → {class_name} IoU: {iou:.4f}\")"
      ],
      "metadata": {
        "id": "YPXuMPCoYmBW",
        "colab": {
          "base_uri": "https://localhost:8080/"
        },
        "outputId": "1004d37e-9c38-4bb5-aa82-ae0d222256ed"
      },
      "execution_count": 27,
      "outputs": [
        {
          "output_type": "stream",
          "name": "stdout",
          "text": [
            "loaded model 0\n",
            "Epoch 20/20 | Validation Loss: 0.2968391502095807 | mIoU: 0.24001330137252808 | Total validation samples seen: 992\n",
            "  → background IoU: 0.0081\n",
            "  → building IoU: 0.3425\n",
            "  → road IoU: 0.2842\n",
            "  → water IoU: 0.3445\n",
            "  → barren IoU: 0.1504\n",
            "  → forest IoU: 0.0715\n",
            "  → agriculture IoU: 0.4789\n",
            "loaded model 1\n",
            "Epoch 20/20 | Validation Loss: 0.3702895727849776 | mIoU: 0.25699278712272644 | Total validation samples seen: 992\n",
            "  → background IoU: 0.2818\n",
            "  → building IoU: 0.1839\n",
            "  → road IoU: 0.2334\n",
            "  → water IoU: 0.4426\n",
            "  → barren IoU: 0.0581\n",
            "  → forest IoU: 0.1370\n",
            "  → agriculture IoU: 0.4622\n",
            "loaded model 2\n",
            "Epoch 20/20 | Validation Loss: 0.39966722505707897 | mIoU: 0.28106796741485596 | Total validation samples seen: 992\n",
            "  → background IoU: 0.3033\n",
            "  → building IoU: 0.3328\n",
            "  → road IoU: 0.2252\n",
            "  → water IoU: 0.4912\n",
            "  → barren IoU: 0.0994\n",
            "  → forest IoU: 0.1153\n",
            "  → agriculture IoU: 0.4003\n",
            "loaded model 3\n",
            "Epoch 20/20 | Validation Loss: 0.42182994225332815 | mIoU: 0.25666728615760803 | Total validation samples seen: 992\n",
            "  → background IoU: 0.2759\n",
            "  → building IoU: 0.3178\n",
            "  → road IoU: 0.2241\n",
            "  → water IoU: 0.3897\n",
            "  → barren IoU: 0.1107\n",
            "  → forest IoU: 0.1257\n",
            "  → agriculture IoU: 0.3528\n",
            "loaded model 4\n",
            "Epoch 20/20 | Validation Loss: 0.4118079600795623 | mIoU: 0.2441515326499939 | Total validation samples seen: 992\n",
            "  → background IoU: 0.3067\n",
            "  → building IoU: 0.2386\n",
            "  → road IoU: 0.2223\n",
            "  → water IoU: 0.4205\n",
            "  → barren IoU: 0.0637\n",
            "  → forest IoU: 0.0984\n",
            "  → agriculture IoU: 0.3588\n",
            "loaded model 5\n",
            "Epoch 20/20 | Validation Loss: 0.34419823317758497 | mIoU: 0.2613779604434967 | Total validation samples seen: 992\n",
            "  → background IoU: 0.3090\n",
            "  → building IoU: 0.2933\n",
            "  → road IoU: 0.2030\n",
            "  → water IoU: 0.3781\n",
            "  → barren IoU: 0.0659\n",
            "  → forest IoU: 0.1680\n",
            "  → agriculture IoU: 0.4123\n",
            "loaded model 6\n",
            "Epoch 20/20 | Validation Loss: 0.4150655971419427 | mIoU: 0.23490096628665924 | Total validation samples seen: 992\n",
            "  → background IoU: 0.2401\n",
            "  → building IoU: 0.2729\n",
            "  → road IoU: 0.2075\n",
            "  → water IoU: 0.4463\n",
            "  → barren IoU: 0.0673\n",
            "  → forest IoU: 0.1203\n",
            "  → agriculture IoU: 0.2900\n"
          ]
        }
      ]
    },
    {
      "cell_type": "markdown",
      "source": [
        "# Model ensemble\n",
        "Take the top 3 models (mIoU) and perform model ensambe"
      ],
      "metadata": {
        "id": "XRHChDSzLdQY"
      }
    },
    {
      "cell_type": "code",
      "source": [
        "# top 3 models are 1, 2, 5\n",
        "best_models = [1, 2, 5]\n",
        "\n",
        "model_paths = [f\"/content/drive/MyDrive/AML_project/checkpoints/best_model_PIDNET_5_DACS_without_{model_id}_class.pth\" for model_id in best_models]\n",
        "\n",
        "cfg = Config()\n",
        "\n",
        "models = []\n",
        "for model_path in model_paths:\n",
        "  model = get_seg_model(cfg, imgnet_pretrained=True)\n",
        "  model.load_state_dict(torch.load(model_path))\n",
        "  try:\n",
        "    model.load_state_dict(torch.load(model_path))\n",
        "    print(f\"loaded model at {model_path}\")\n",
        "  except:\n",
        "    print(list(torch.load(model_path).keys())[:5])\n",
        "  model.to(device)\n",
        "  model.eval()\n",
        "  models.append(model)\n",
        "\n",
        "\n",
        "\n",
        "miou_classes.reset()\n",
        "total_val_samples = 0\n",
        "\n",
        "with torch.inference_mode():\n",
        "    for batch, (X_val, y_val, boundary_mask) in enumerate(val_loader):\n",
        "        X_val = X_val.to(device)\n",
        "        y_val = y_val.to(device)\n",
        "        boundary_mask = boundary_mask.to(device)\n",
        "\n",
        "        # list of generated outputs from each model (only main predictions)\n",
        "        main_pred_list = [model(X_val)[1] for model in models]\n",
        "\n",
        "\n",
        "        # stacks main predictions\n",
        "        pred_main_stack = torch.stack(main_pred_list, dim=0)\n",
        "        mean_pred_main = pred_main_stack.mean(dim=0).squeeze(0)\n",
        "\n",
        "\n",
        "\n",
        "        #upscaling\n",
        "\n",
        "\n",
        "        h, w = boundary_mask.size(1), boundary_mask.size(2)\n",
        "        ph, pw = mean_pred_main.size(2), mean_pred_main.size(3)\n",
        "        if ph != h or pw != w:\n",
        "            mean_pred_main = F.interpolate(mean_pred_main, size=(h, w), mode='bilinear', align_corners=True)\n",
        "\n",
        "        if batch == 0 and SHOW_IMG:\n",
        "          fig, axs = plt.subplots(4, 5, figsize=(12, 5))\n",
        "\n",
        "          for j in range(4):\n",
        "\n",
        "            axs[j, 0].imshow(pred_p[j].cpu().detach().argmax(dim=0).numpy(), cmap='tab20')\n",
        "            axs[j, 0].set_title(\"Auxiliary Prediction\")\n",
        "            axs[j, 0].axis('off')\n",
        "\n",
        "            axs[j, 1].imshow(pred_main[j].cpu().detach().argmax(dim=0).numpy(), cmap='tab20')\n",
        "            axs[j, 1].set_title(\"Main Prediction\")\n",
        "            axs[j, 1].axis('off')\n",
        "\n",
        "            axs[j, 2].imshow(y_val[j].cpu().detach().numpy(), cmap='tab20')\n",
        "            axs[j, 2].set_title(\"Target mask\")\n",
        "            axs[j, 2].axis('off')\n",
        "\n",
        "            axs[j, 3].imshow(boundary_head[j].cpu().detach().sigmoid().squeeze(0).numpy(), cmap='gray')\n",
        "            axs[j, 3].set_title(\"Boundary Prediction\")\n",
        "            axs[j, 3].axis('off')\n",
        "\n",
        "            axs[j, 4].imshow(X_val[j].cpu().detach().squeeze(0).numpy().transpose(1, 2, 0))\n",
        "            axs[j, 4].set_title(\"Target image\")\n",
        "            axs[j, 4].axis('off')\n",
        "\n",
        "          plt.tight_layout()\n",
        "          plt.show()\n",
        "\n",
        "        total_val_samples += X_val.size(0)\n",
        "\n",
        "        # Calcola le predizioni\n",
        "        preds = mean_pred_main.argmax(dim=1)  # Shape: (N, H, W)\n",
        "\n",
        "        # Mask dei pixel validi (classi da 0 a num_classes - 1)\n",
        "        valid_mask = (y_val >= 0) & (y_val < num_classes)\n",
        "\n",
        "        # print(f\"valid mask :\", valid_mask.shape )\n",
        "\n",
        "        # Appiattisci le predizioni e i target solo sui pixel validi\n",
        "        preds_flat = preds[valid_mask]\n",
        "        targets_flat = y_val[valid_mask]\n",
        "\n",
        "        miou_classes.update(preds_flat, targets_flat)\n",
        "\n",
        "#avg_val_loss = val_loss / total_val_samples\n",
        "\n",
        "miou_per_class = miou_classes.compute()\n",
        "miou = miou_per_class.mean()\n",
        "\n",
        "print(f\"mIoU: {miou} \")\n",
        "# per class\n",
        "for i, iou in enumerate(miou_per_class):\n",
        "    class_name = list(sem_class_to_idx.keys())[list(sem_class_to_idx.values()).index(i)]\n",
        "    print(f\"  → {class_name} IoU: {iou:.4f}\")"
      ],
      "metadata": {
        "colab": {
          "base_uri": "https://localhost:8080/"
        },
        "id": "Apl7aSzALkdk",
        "outputId": "168df113-842d-457f-93dc-718db6335255"
      },
      "execution_count": 40,
      "outputs": [
        {
          "output_type": "stream",
          "name": "stdout",
          "text": [
            "loaded model at /content/drive/MyDrive/AML_project/checkpoints/best_model_PIDNET_5_DACS_without_1_class.pth\n",
            "loaded model at /content/drive/MyDrive/AML_project/checkpoints/best_model_PIDNET_5_DACS_without_2_class.pth\n",
            "loaded model at /content/drive/MyDrive/AML_project/checkpoints/best_model_PIDNET_5_DACS_without_5_class.pth\n",
            "mIoU: 0.31454944610595703 \n",
            "  → background IoU: 0.3680\n",
            "  → building IoU: 0.3554\n",
            "  → road IoU: 0.2691\n",
            "  → water IoU: 0.5080\n",
            "  → barren IoU: 0.0849\n",
            "  → forest IoU: 0.1637\n",
            "  → agriculture IoU: 0.4527\n"
          ]
        }
      ]
    }
  ],
  "metadata": {
    "colab": {
      "machine_shape": "hm",
      "provenance": [],
      "collapsed_sections": [
        "UrjECeMs7Sc5",
        "p_wwWFwFkIoR"
      ],
      "gpuType": "L4",
      "include_colab_link": true
    },
    "kernelspec": {
      "display_name": "Python 3",
      "name": "python3"
    },
    "language_info": {
      "name": "python"
    },
    "accelerator": "GPU"
  },
  "nbformat": 4,
  "nbformat_minor": 0
}