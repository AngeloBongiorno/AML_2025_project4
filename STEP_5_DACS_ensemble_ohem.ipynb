{
  "cells": [
    {
      "cell_type": "markdown",
      "metadata": {
        "id": "view-in-github",
        "colab_type": "text"
      },
      "source": [
        "<a href=\"https://colab.research.google.com/github/AngeloBongiorno/AML_2025_project4/blob/vito/STEP_5_DACS_ensemble_ohem.ipynb\" target=\"_parent\"><img src=\"https://colab.research.google.com/assets/colab-badge.svg\" alt=\"Open In Colab\"/></a>"
      ]
    },
    {
      "cell_type": "markdown",
      "metadata": {
        "id": "K7QJviwzoN5m"
      },
      "source": [
        "## Install Dependencies"
      ]
    },
    {
      "cell_type": "markdown",
      "metadata": {
        "id": "rHpwU5g8s-Pt"
      },
      "source": [
        "## Upload .zip files"
      ]
    },
    {
      "cell_type": "markdown",
      "metadata": {
        "id": "O2_aVBiH46K3"
      },
      "source": [
        "For this step you must have the zip files in your Drive into a folder called `AML_project`"
      ]
    },
    {
      "cell_type": "code",
      "execution_count": 1,
      "metadata": {
        "colab": {
          "base_uri": "https://localhost:8080/"
        },
        "collapsed": true,
        "id": "xxVbeep6Rlnb",
        "outputId": "e555f424-edd0-4e38-8b1e-ad720e6cce8d"
      },
      "outputs": [
        {
          "output_type": "stream",
          "name": "stdout",
          "text": [
            "Requirement already satisfied: torchmetrics in /usr/local/lib/python3.11/dist-packages (1.7.1)\n",
            "Requirement already satisfied: numpy>1.20.0 in /usr/local/lib/python3.11/dist-packages (from torchmetrics) (2.0.2)\n",
            "Requirement already satisfied: packaging>17.1 in /usr/local/lib/python3.11/dist-packages (from torchmetrics) (24.2)\n",
            "Requirement already satisfied: torch>=2.0.0 in /usr/local/lib/python3.11/dist-packages (from torchmetrics) (2.6.0+cu124)\n",
            "Requirement already satisfied: lightning-utilities>=0.8.0 in /usr/local/lib/python3.11/dist-packages (from torchmetrics) (0.14.3)\n",
            "Requirement already satisfied: setuptools in /usr/local/lib/python3.11/dist-packages (from lightning-utilities>=0.8.0->torchmetrics) (75.2.0)\n",
            "Requirement already satisfied: typing_extensions in /usr/local/lib/python3.11/dist-packages (from lightning-utilities>=0.8.0->torchmetrics) (4.13.2)\n",
            "Requirement already satisfied: filelock in /usr/local/lib/python3.11/dist-packages (from torch>=2.0.0->torchmetrics) (3.18.0)\n",
            "Requirement already satisfied: networkx in /usr/local/lib/python3.11/dist-packages (from torch>=2.0.0->torchmetrics) (3.4.2)\n",
            "Requirement already satisfied: jinja2 in /usr/local/lib/python3.11/dist-packages (from torch>=2.0.0->torchmetrics) (3.1.6)\n",
            "Requirement already satisfied: fsspec in /usr/local/lib/python3.11/dist-packages (from torch>=2.0.0->torchmetrics) (2025.3.2)\n",
            "Requirement already satisfied: nvidia-cuda-nvrtc-cu12==12.4.127 in /usr/local/lib/python3.11/dist-packages (from torch>=2.0.0->torchmetrics) (12.4.127)\n",
            "Requirement already satisfied: nvidia-cuda-runtime-cu12==12.4.127 in /usr/local/lib/python3.11/dist-packages (from torch>=2.0.0->torchmetrics) (12.4.127)\n",
            "Requirement already satisfied: nvidia-cuda-cupti-cu12==12.4.127 in /usr/local/lib/python3.11/dist-packages (from torch>=2.0.0->torchmetrics) (12.4.127)\n",
            "Requirement already satisfied: nvidia-cudnn-cu12==9.1.0.70 in /usr/local/lib/python3.11/dist-packages (from torch>=2.0.0->torchmetrics) (9.1.0.70)\n",
            "Requirement already satisfied: nvidia-cublas-cu12==12.4.5.8 in /usr/local/lib/python3.11/dist-packages (from torch>=2.0.0->torchmetrics) (12.4.5.8)\n",
            "Requirement already satisfied: nvidia-cufft-cu12==11.2.1.3 in /usr/local/lib/python3.11/dist-packages (from torch>=2.0.0->torchmetrics) (11.2.1.3)\n",
            "Requirement already satisfied: nvidia-curand-cu12==10.3.5.147 in /usr/local/lib/python3.11/dist-packages (from torch>=2.0.0->torchmetrics) (10.3.5.147)\n",
            "Requirement already satisfied: nvidia-cusolver-cu12==11.6.1.9 in /usr/local/lib/python3.11/dist-packages (from torch>=2.0.0->torchmetrics) (11.6.1.9)\n",
            "Requirement already satisfied: nvidia-cusparse-cu12==12.3.1.170 in /usr/local/lib/python3.11/dist-packages (from torch>=2.0.0->torchmetrics) (12.3.1.170)\n",
            "Requirement already satisfied: nvidia-cusparselt-cu12==0.6.2 in /usr/local/lib/python3.11/dist-packages (from torch>=2.0.0->torchmetrics) (0.6.2)\n",
            "Requirement already satisfied: nvidia-nccl-cu12==2.21.5 in /usr/local/lib/python3.11/dist-packages (from torch>=2.0.0->torchmetrics) (2.21.5)\n",
            "Requirement already satisfied: nvidia-nvtx-cu12==12.4.127 in /usr/local/lib/python3.11/dist-packages (from torch>=2.0.0->torchmetrics) (12.4.127)\n",
            "Requirement already satisfied: nvidia-nvjitlink-cu12==12.4.127 in /usr/local/lib/python3.11/dist-packages (from torch>=2.0.0->torchmetrics) (12.4.127)\n",
            "Requirement already satisfied: triton==3.2.0 in /usr/local/lib/python3.11/dist-packages (from torch>=2.0.0->torchmetrics) (3.2.0)\n",
            "Requirement already satisfied: sympy==1.13.1 in /usr/local/lib/python3.11/dist-packages (from torch>=2.0.0->torchmetrics) (1.13.1)\n",
            "Requirement already satisfied: mpmath<1.4,>=1.1.0 in /usr/local/lib/python3.11/dist-packages (from sympy==1.13.1->torch>=2.0.0->torchmetrics) (1.3.0)\n",
            "Requirement already satisfied: MarkupSafe>=2.0 in /usr/local/lib/python3.11/dist-packages (from jinja2->torch>=2.0.0->torchmetrics) (3.0.2)\n",
            "Requirement already satisfied: fvcore in /usr/local/lib/python3.11/dist-packages (0.1.5.post20221221)\n",
            "Requirement already satisfied: numpy in /usr/local/lib/python3.11/dist-packages (from fvcore) (2.0.2)\n",
            "Requirement already satisfied: yacs>=0.1.6 in /usr/local/lib/python3.11/dist-packages (from fvcore) (0.1.8)\n",
            "Requirement already satisfied: pyyaml>=5.1 in /usr/local/lib/python3.11/dist-packages (from fvcore) (6.0.2)\n",
            "Requirement already satisfied: tqdm in /usr/local/lib/python3.11/dist-packages (from fvcore) (4.67.1)\n",
            "Requirement already satisfied: termcolor>=1.1 in /usr/local/lib/python3.11/dist-packages (from fvcore) (3.1.0)\n",
            "Requirement already satisfied: Pillow in /usr/local/lib/python3.11/dist-packages (from fvcore) (11.2.1)\n",
            "Requirement already satisfied: tabulate in /usr/local/lib/python3.11/dist-packages (from fvcore) (0.9.0)\n",
            "Requirement already satisfied: iopath>=0.1.7 in /usr/local/lib/python3.11/dist-packages (from fvcore) (0.1.10)\n",
            "Requirement already satisfied: typing-extensions in /usr/local/lib/python3.11/dist-packages (from iopath>=0.1.7->fvcore) (4.13.2)\n",
            "Requirement already satisfied: portalocker in /usr/local/lib/python3.11/dist-packages (from iopath>=0.1.7->fvcore) (3.1.1)\n"
          ]
        }
      ],
      "source": [
        "!pip install torchmetrics\n",
        "!pip install fvcore"
      ]
    },
    {
      "cell_type": "code",
      "execution_count": 2,
      "metadata": {
        "id": "z2LFD5EkeGs3",
        "colab": {
          "base_uri": "https://localhost:8080/"
        },
        "outputId": "5f694ae3-2290-48c6-d736-ee88258541f9"
      },
      "outputs": [
        {
          "output_type": "stream",
          "name": "stdout",
          "text": [
            "fatal: destination path 'AML_2025_project4' already exists and is not an empty directory.\n",
            "Drive already mounted at /content/drive; to attempt to forcibly remount, call drive.mount(\"/content/drive\", force_remount=True).\n"
          ]
        }
      ],
      "source": [
        "from google.colab import drive\n",
        "import os\n",
        "\n",
        "!git clone -b angelo_albumentations --single-branch https://github.com/AngeloBongiorno/AML_2025_project4.git\n",
        "\n",
        "!cp AML_2025_project4/utils.py .\n",
        "\n",
        "drive.mount('/content/drive')"
      ]
    },
    {
      "cell_type": "code",
      "execution_count": 3,
      "metadata": {
        "id": "CvdkrFwFI0Qs",
        "colab": {
          "base_uri": "https://localhost:8080/"
        },
        "outputId": "d43cbb83-4981-4bfc-c93b-f6f8796071f9"
      },
      "outputs": [
        {
          "output_type": "execute_result",
          "data": {
            "text/plain": [
              "<module 'utils' from '/content/utils.py'>"
            ]
          },
          "metadata": {},
          "execution_count": 3
        }
      ],
      "source": [
        "import importlib\n",
        "import utils  # Replace with the actual module name\n",
        "\n",
        "importlib.reload(utils)"
      ]
    },
    {
      "cell_type": "code",
      "execution_count": 4,
      "metadata": {
        "id": "laEb8KOytCpo",
        "colab": {
          "base_uri": "https://localhost:8080/"
        },
        "outputId": "e535f286-e60f-4a7b-dfb8-c8310733f3f7"
      },
      "outputs": [
        {
          "output_type": "stream",
          "name": "stdout",
          "text": [
            "Skipping extraction for the dataset, already extracted.\n",
            "{'training_urban': '/content/dataset/Train/Urban', 'training_rural': '/content/dataset/Train/Rural', 'validation_urban': '/content/dataset/Val/Urban', 'validation_rural': '/content/dataset/Val/Rural'}\n"
          ]
        }
      ],
      "source": [
        "import tqdm\n",
        "\n",
        "from utils import get_loveDA\n",
        "\n",
        "paths = get_loveDA(verbose=True)\n",
        "print(paths)\n",
        "\n",
        "TRAINING_PATH_URBAN = paths[\"training_urban\"]\n",
        "TRAINING_PATH_RURAL = paths[\"training_rural\"]\n",
        "VAL_PATH_URBAN = paths[\"validation_urban\"]\n",
        "VAL_PATH_RURAL = paths[\"validation_rural\"]"
      ]
    },
    {
      "cell_type": "code",
      "source": [
        "SEM_CLASSES = [\n",
        "    'background',\n",
        "    'building',\n",
        "    'road',\n",
        "    'water',\n",
        "    'barren',\n",
        "    'forest',\n",
        "    'agriculture'\n",
        "]\n",
        "\n",
        "NUM_CLASSES = len(SEM_CLASSES)\n",
        "\n",
        "sem_class_to_idx = {cls: idx for (idx, cls) in enumerate(SEM_CLASSES)}\n",
        "\n",
        "IGNORE_INDEX = -1\n",
        "\n",
        "RESIZE = 512\n",
        "\n",
        "BATCH_SIZE = 16\n",
        "\n",
        "EPOCHS = 20\n",
        "\n",
        "SEED = 42\n",
        "\n",
        "STEP_SIZE = 21\n",
        "\n",
        "GAMMA = 0.5\n",
        "\n",
        "LR = 0.000329658544839708\n",
        "#LR = 0.00098\n",
        "\n",
        "P = 0.5 # probabilità augmentation\n",
        "\n",
        "ALPHA_TEACHER = 0.99\n",
        "\n",
        "THRESHOLD = 0.9\n",
        "\n",
        "MOMENTUM = 0.85\n",
        "\n",
        "LOSS_TYPE = \"ohem\" # \"ohem\", \"ce\"\n",
        "\n",
        "TYPE_WEIGHT = \"inverse\" # median-frequency | inverse | log\n",
        "\n",
        "PIXEL_WEIGHT = \"threshold_uniform\" # \"threshold_uniform\", \"threshold\"\n",
        "\n",
        "SHOW_IMG = False\n"
      ],
      "metadata": {
        "id": "VJdiPeF5idkI"
      },
      "execution_count": 5,
      "outputs": []
    },
    {
      "cell_type": "markdown",
      "source": [
        "# Define and instantiate"
      ],
      "metadata": {
        "id": "dAYUGwGYiFGi"
      }
    },
    {
      "cell_type": "markdown",
      "metadata": {
        "id": "UrjECeMs7Sc5"
      },
      "source": [
        "### Define PIDnet"
      ]
    },
    {
      "cell_type": "code",
      "execution_count": 6,
      "metadata": {
        "id": "QWTXrB6FZo_G"
      },
      "outputs": [],
      "source": [
        "import torch\n",
        "import torch.nn as nn\n",
        "import torch.nn.functional as F\n",
        "\n",
        "BatchNorm2d = nn.BatchNorm2d\n",
        "bn_mom = 0.1\n",
        "algc = False\n",
        "\n",
        "class BasicBlock(nn.Module):\n",
        "    expansion = 1\n",
        "\n",
        "    def __init__(self, inplanes, planes, stride=1, downsample=None, no_relu=False):\n",
        "        super(BasicBlock, self).__init__()\n",
        "        self.conv1 = nn.Conv2d(inplanes, planes, kernel_size=3, stride=stride,\n",
        "                               padding=1, bias=False)\n",
        "        self.bn1 = BatchNorm2d(planes, momentum=bn_mom)\n",
        "        self.relu = nn.ReLU(inplace=True)\n",
        "        self.conv2 = nn.Conv2d(planes, planes, kernel_size=3,\n",
        "                               padding=1, bias=False)\n",
        "        self.bn2 = BatchNorm2d(planes, momentum=bn_mom)\n",
        "        self.downsample = downsample\n",
        "        self.stride = stride\n",
        "        self.no_relu = no_relu\n",
        "\n",
        "    def forward(self, x):\n",
        "        residual = x\n",
        "\n",
        "        out = self.conv1(x)\n",
        "        out = self.bn1(out)\n",
        "        out = self.relu(out)\n",
        "\n",
        "        out = self.conv2(out)\n",
        "        out = self.bn2(out)\n",
        "\n",
        "        if self.downsample is not None:\n",
        "            residual = self.downsample(x)\n",
        "\n",
        "        out += residual\n",
        "\n",
        "        if self.no_relu:\n",
        "            return out\n",
        "        else:\n",
        "            return self.relu(out)\n",
        "\n",
        "class Bottleneck(nn.Module):\n",
        "    expansion = 2\n",
        "\n",
        "    def __init__(self, inplanes, planes, stride=1, downsample=None, no_relu=True):\n",
        "        super(Bottleneck, self).__init__()\n",
        "        self.conv1 = nn.Conv2d(inplanes, planes, kernel_size=1, bias=False)\n",
        "        self.bn1 = BatchNorm2d(planes, momentum=bn_mom)\n",
        "        self.conv2 = nn.Conv2d(planes, planes, kernel_size=3, stride=stride,\n",
        "                               padding=1, bias=False)\n",
        "        self.bn2 = BatchNorm2d(planes, momentum=bn_mom)\n",
        "        self.conv3 = nn.Conv2d(planes, planes * self.expansion, kernel_size=1,\n",
        "                               bias=False)\n",
        "        self.bn3 = BatchNorm2d(planes * self.expansion, momentum=bn_mom)\n",
        "        self.relu = nn.ReLU(inplace=True)\n",
        "        self.downsample = downsample\n",
        "        self.stride = stride\n",
        "        self.no_relu = no_relu\n",
        "\n",
        "    def forward(self, x):\n",
        "        residual = x\n",
        "\n",
        "        out = self.conv1(x)\n",
        "        out = self.bn1(out)\n",
        "        out = self.relu(out)\n",
        "\n",
        "        out = self.conv2(out)\n",
        "        out = self.bn2(out)\n",
        "        out = self.relu(out)\n",
        "\n",
        "        out = self.conv3(out)\n",
        "        out = self.bn3(out)\n",
        "\n",
        "        if self.downsample is not None:\n",
        "            residual = self.downsample(x)\n",
        "\n",
        "        out += residual\n",
        "        if self.no_relu:\n",
        "            return out\n",
        "        else:\n",
        "            return self.relu(out)\n",
        "\n",
        "class segmenthead(nn.Module):\n",
        "\n",
        "    def __init__(self, inplanes, interplanes, outplanes, scale_factor=None):\n",
        "        super(segmenthead, self).__init__()\n",
        "        self.bn1 = BatchNorm2d(inplanes, momentum=bn_mom)\n",
        "        self.conv1 = nn.Conv2d(inplanes, interplanes, kernel_size=3, padding=1, bias=False)\n",
        "        self.bn2 = BatchNorm2d(interplanes, momentum=bn_mom)\n",
        "        self.relu = nn.ReLU(inplace=True)\n",
        "        self.conv2 = nn.Conv2d(interplanes, outplanes, kernel_size=1, padding=0, bias=True)\n",
        "        self.scale_factor = scale_factor\n",
        "\n",
        "    def forward(self, x):\n",
        "\n",
        "        x = self.conv1(self.relu(self.bn1(x)))\n",
        "        out = self.conv2(self.relu(self.bn2(x)))\n",
        "\n",
        "        if self.scale_factor is not None:\n",
        "            height = x.shape[-2] * self.scale_factor\n",
        "            width = x.shape[-1] * self.scale_factor\n",
        "            out = F.interpolate(out,\n",
        "                        size=[height, width],\n",
        "                        mode='bilinear', align_corners=algc)\n",
        "\n",
        "        return out\n",
        "\n",
        "class DAPPM(nn.Module):\n",
        "    def __init__(self, inplanes, branch_planes, outplanes, BatchNorm=nn.BatchNorm2d):\n",
        "        super(DAPPM, self).__init__()\n",
        "        bn_mom = 0.1\n",
        "        self.scale1 = nn.Sequential(nn.AvgPool2d(kernel_size=5, stride=2, padding=2),\n",
        "                                    BatchNorm(inplanes, momentum=bn_mom),\n",
        "                                    nn.ReLU(inplace=True),\n",
        "                                    nn.Conv2d(inplanes, branch_planes, kernel_size=1, bias=False),\n",
        "                                    )\n",
        "        self.scale2 = nn.Sequential(nn.AvgPool2d(kernel_size=9, stride=4, padding=4),\n",
        "                                    BatchNorm(inplanes, momentum=bn_mom),\n",
        "                                    nn.ReLU(inplace=True),\n",
        "                                    nn.Conv2d(inplanes, branch_planes, kernel_size=1, bias=False),\n",
        "                                    )\n",
        "        self.scale3 = nn.Sequential(nn.AvgPool2d(kernel_size=17, stride=8, padding=8),\n",
        "                                    BatchNorm(inplanes, momentum=bn_mom),\n",
        "                                    nn.ReLU(inplace=True),\n",
        "                                    nn.Conv2d(inplanes, branch_planes, kernel_size=1, bias=False),\n",
        "                                    )\n",
        "        self.scale4 = nn.Sequential(nn.AdaptiveAvgPool2d((1, 1)),\n",
        "                                    BatchNorm(inplanes, momentum=bn_mom),\n",
        "                                    nn.ReLU(inplace=True),\n",
        "                                    nn.Conv2d(inplanes, branch_planes, kernel_size=1, bias=False),\n",
        "                                    )\n",
        "        self.scale0 = nn.Sequential(\n",
        "                                    BatchNorm(inplanes, momentum=bn_mom),\n",
        "                                    nn.ReLU(inplace=True),\n",
        "                                    nn.Conv2d(inplanes, branch_planes, kernel_size=1, bias=False),\n",
        "                                    )\n",
        "        self.process1 = nn.Sequential(\n",
        "                                    BatchNorm(branch_planes, momentum=bn_mom),\n",
        "                                    nn.ReLU(inplace=True),\n",
        "                                    nn.Conv2d(branch_planes, branch_planes, kernel_size=3, padding=1, bias=False),\n",
        "                                    )\n",
        "        self.process2 = nn.Sequential(\n",
        "                                    BatchNorm(branch_planes, momentum=bn_mom),\n",
        "                                    nn.ReLU(inplace=True),\n",
        "                                    nn.Conv2d(branch_planes, branch_planes, kernel_size=3, padding=1, bias=False),\n",
        "                                    )\n",
        "        self.process3 = nn.Sequential(\n",
        "                                    BatchNorm(branch_planes, momentum=bn_mom),\n",
        "                                    nn.ReLU(inplace=True),\n",
        "                                    nn.Conv2d(branch_planes, branch_planes, kernel_size=3, padding=1, bias=False),\n",
        "                                    )\n",
        "        self.process4 = nn.Sequential(\n",
        "                                    BatchNorm(branch_planes, momentum=bn_mom),\n",
        "                                    nn.ReLU(inplace=True),\n",
        "                                    nn.Conv2d(branch_planes, branch_planes, kernel_size=3, padding=1, bias=False),\n",
        "                                    )\n",
        "        self.compression = nn.Sequential(\n",
        "                                    BatchNorm(branch_planes * 5, momentum=bn_mom),\n",
        "                                    nn.ReLU(inplace=True),\n",
        "                                    nn.Conv2d(branch_planes * 5, outplanes, kernel_size=1, bias=False),\n",
        "                                    )\n",
        "        self.shortcut = nn.Sequential(\n",
        "                                    BatchNorm(inplanes, momentum=bn_mom),\n",
        "                                    nn.ReLU(inplace=True),\n",
        "                                    nn.Conv2d(inplanes, outplanes, kernel_size=1, bias=False),\n",
        "                                    )\n",
        "\n",
        "    def forward(self, x):\n",
        "        width = x.shape[-1]\n",
        "        height = x.shape[-2]\n",
        "        x_list = []\n",
        "\n",
        "        x_list.append(self.scale0(x))\n",
        "        x_list.append(self.process1((F.interpolate(self.scale1(x),\n",
        "                        size=[height, width],\n",
        "                        mode='bilinear', align_corners=algc)+x_list[0])))\n",
        "        x_list.append((self.process2((F.interpolate(self.scale2(x),\n",
        "                        size=[height, width],\n",
        "                        mode='bilinear', align_corners=algc)+x_list[1]))))\n",
        "        x_list.append(self.process3((F.interpolate(self.scale3(x),\n",
        "                        size=[height, width],\n",
        "                        mode='bilinear', align_corners=algc)+x_list[2])))\n",
        "        x_list.append(self.process4((F.interpolate(self.scale4(x),\n",
        "                        size=[height, width],\n",
        "                        mode='bilinear', align_corners=algc)+x_list[3])))\n",
        "\n",
        "        out = self.compression(torch.cat(x_list, 1)) + self.shortcut(x)\n",
        "        return out\n",
        "\n",
        "class PAPPM(nn.Module):\n",
        "    def __init__(self, inplanes, branch_planes, outplanes, BatchNorm=nn.BatchNorm2d):\n",
        "        super(PAPPM, self).__init__()\n",
        "        bn_mom = 0.1\n",
        "        self.scale1 = nn.Sequential(nn.AvgPool2d(kernel_size=5, stride=2, padding=2),\n",
        "                                    BatchNorm(inplanes, momentum=bn_mom),\n",
        "                                    nn.ReLU(inplace=True),\n",
        "                                    nn.Conv2d(inplanes, branch_planes, kernel_size=1, bias=False),\n",
        "                                    )\n",
        "        self.scale2 = nn.Sequential(nn.AvgPool2d(kernel_size=9, stride=4, padding=4),\n",
        "                                    BatchNorm(inplanes, momentum=bn_mom),\n",
        "                                    nn.ReLU(inplace=True),\n",
        "                                    nn.Conv2d(inplanes, branch_planes, kernel_size=1, bias=False),\n",
        "                                    )\n",
        "        self.scale3 = nn.Sequential(nn.AvgPool2d(kernel_size=17, stride=8, padding=8),\n",
        "                                    BatchNorm(inplanes, momentum=bn_mom),\n",
        "                                    nn.ReLU(inplace=True),\n",
        "                                    nn.Conv2d(inplanes, branch_planes, kernel_size=1, bias=False),\n",
        "                                    )\n",
        "        self.scale4 = nn.Sequential(nn.AdaptiveAvgPool2d((1, 1)),\n",
        "                                    BatchNorm(inplanes, momentum=bn_mom),\n",
        "                                    nn.ReLU(inplace=True),\n",
        "                                    nn.Conv2d(inplanes, branch_planes, kernel_size=1, bias=False),\n",
        "                                    )\n",
        "\n",
        "        self.scale0 = nn.Sequential(\n",
        "                                    BatchNorm(inplanes, momentum=bn_mom),\n",
        "                                    nn.ReLU(inplace=True),\n",
        "                                    nn.Conv2d(inplanes, branch_planes, kernel_size=1, bias=False),\n",
        "                                    )\n",
        "\n",
        "        self.scale_process = nn.Sequential(\n",
        "                                    BatchNorm(branch_planes*4, momentum=bn_mom),\n",
        "                                    nn.ReLU(inplace=True),\n",
        "                                    nn.Conv2d(branch_planes*4, branch_planes*4, kernel_size=3, padding=1, groups=4, bias=False),\n",
        "                                    )\n",
        "\n",
        "\n",
        "        self.compression = nn.Sequential(\n",
        "                                    BatchNorm(branch_planes * 5, momentum=bn_mom),\n",
        "                                    nn.ReLU(inplace=True),\n",
        "                                    nn.Conv2d(branch_planes * 5, outplanes, kernel_size=1, bias=False),\n",
        "                                    )\n",
        "\n",
        "        self.shortcut = nn.Sequential(\n",
        "                                    BatchNorm(inplanes, momentum=bn_mom),\n",
        "                                    nn.ReLU(inplace=True),\n",
        "                                    nn.Conv2d(inplanes, outplanes, kernel_size=1, bias=False),\n",
        "                                    )\n",
        "\n",
        "\n",
        "    def forward(self, x):\n",
        "        width = x.shape[-1]\n",
        "        height = x.shape[-2]\n",
        "        scale_list = []\n",
        "\n",
        "        x_ = self.scale0(x)\n",
        "        scale_list.append(F.interpolate(self.scale1(x), size=[height, width],\n",
        "                        mode='bilinear', align_corners=algc)+x_)\n",
        "        scale_list.append(F.interpolate(self.scale2(x), size=[height, width],\n",
        "                        mode='bilinear', align_corners=algc)+x_)\n",
        "        scale_list.append(F.interpolate(self.scale3(x), size=[height, width],\n",
        "                        mode='bilinear', align_corners=algc)+x_)\n",
        "        scale_list.append(F.interpolate(self.scale4(x), size=[height, width],\n",
        "                        mode='bilinear', align_corners=algc)+x_)\n",
        "\n",
        "        scale_out = self.scale_process(torch.cat(scale_list, 1))\n",
        "\n",
        "        out = self.compression(torch.cat([x_,scale_out], 1)) + self.shortcut(x)\n",
        "        return out\n",
        "\n",
        "\n",
        "class PagFM(nn.Module):\n",
        "    def __init__(self, in_channels, mid_channels, after_relu=False, with_channel=False, BatchNorm=nn.BatchNorm2d):\n",
        "        super(PagFM, self).__init__()\n",
        "        self.with_channel = with_channel\n",
        "        self.after_relu = after_relu\n",
        "        self.f_x = nn.Sequential(\n",
        "                                nn.Conv2d(in_channels, mid_channels,\n",
        "                                          kernel_size=1, bias=False),\n",
        "                                BatchNorm(mid_channels)\n",
        "                                )\n",
        "        self.f_y = nn.Sequential(\n",
        "                                nn.Conv2d(in_channels, mid_channels,\n",
        "                                          kernel_size=1, bias=False),\n",
        "                                BatchNorm(mid_channels)\n",
        "                                )\n",
        "        if with_channel:\n",
        "            self.up = nn.Sequential(\n",
        "                                    nn.Conv2d(mid_channels, in_channels,\n",
        "                                              kernel_size=1, bias=False),\n",
        "                                    BatchNorm(in_channels)\n",
        "                                   )\n",
        "        if after_relu:\n",
        "            self.relu = nn.ReLU(inplace=True)\n",
        "\n",
        "    def forward(self, x, y):\n",
        "        input_size = x.size()\n",
        "        if self.after_relu:\n",
        "            y = self.relu(y)\n",
        "            x = self.relu(x)\n",
        "\n",
        "        y_q = self.f_y(y)\n",
        "        y_q = F.interpolate(y_q, size=[input_size[2], input_size[3]],\n",
        "                            mode='bilinear', align_corners=False)\n",
        "        x_k = self.f_x(x)\n",
        "\n",
        "        if self.with_channel:\n",
        "            sim_map = torch.sigmoid(self.up(x_k * y_q))\n",
        "        else:\n",
        "            sim_map = torch.sigmoid(torch.sum(x_k * y_q, dim=1).unsqueeze(1))\n",
        "\n",
        "        y = F.interpolate(y, size=[input_size[2], input_size[3]],\n",
        "                            mode='bilinear', align_corners=False)\n",
        "        x = (1-sim_map)*x + sim_map*y\n",
        "\n",
        "        return x\n",
        "\n",
        "class Light_Bag(nn.Module):\n",
        "    def __init__(self, in_channels, out_channels, BatchNorm=nn.BatchNorm2d):\n",
        "        super(Light_Bag, self).__init__()\n",
        "        self.conv_p = nn.Sequential(\n",
        "                                nn.Conv2d(in_channels, out_channels,\n",
        "                                          kernel_size=1, bias=False),\n",
        "                                BatchNorm(out_channels)\n",
        "                                )\n",
        "        self.conv_i = nn.Sequential(\n",
        "                                nn.Conv2d(in_channels, out_channels,\n",
        "                                          kernel_size=1, bias=False),\n",
        "                                BatchNorm(out_channels)\n",
        "                                )\n",
        "\n",
        "    def forward(self, p, i, d):\n",
        "        edge_att = torch.sigmoid(d)\n",
        "\n",
        "        p_add = self.conv_p((1-edge_att)*i + p)\n",
        "        i_add = self.conv_i(i + edge_att*p)\n",
        "\n",
        "        return p_add + i_add\n",
        "\n",
        "\n",
        "class DDFMv2(nn.Module):\n",
        "    def __init__(self, in_channels, out_channels, BatchNorm=nn.BatchNorm2d):\n",
        "        super(DDFMv2, self).__init__()\n",
        "        self.conv_p = nn.Sequential(\n",
        "                                BatchNorm(in_channels),\n",
        "                                nn.ReLU(inplace=True),\n",
        "                                nn.Conv2d(in_channels, out_channels,\n",
        "                                          kernel_size=1, bias=False),\n",
        "                                BatchNorm(out_channels)\n",
        "                                )\n",
        "        self.conv_i = nn.Sequential(\n",
        "                                BatchNorm(in_channels),\n",
        "                                nn.ReLU(inplace=True),\n",
        "                                nn.Conv2d(in_channels, out_channels,\n",
        "                                          kernel_size=1, bias=False),\n",
        "                                BatchNorm(out_channels)\n",
        "                                )\n",
        "\n",
        "    def forward(self, p, i, d):\n",
        "        edge_att = torch.sigmoid(d)\n",
        "\n",
        "        p_add = self.conv_p((1-edge_att)*i + p)\n",
        "        i_add = self.conv_i(i + edge_att*p)\n",
        "\n",
        "        return p_add + i_add\n",
        "\n",
        "class Bag(nn.Module):\n",
        "    def __init__(self, in_channels, out_channels, BatchNorm=nn.BatchNorm2d):\n",
        "        super(Bag, self).__init__()\n",
        "\n",
        "        self.conv = nn.Sequential(\n",
        "                                BatchNorm(in_channels),\n",
        "                                nn.ReLU(inplace=True),\n",
        "                                nn.Conv2d(in_channels, out_channels,\n",
        "                                          kernel_size=3, padding=1, bias=False)\n",
        "                                )\n",
        "\n",
        "\n",
        "    def forward(self, p, i, d):\n",
        "        edge_att = torch.sigmoid(d)\n",
        "        return self.conv(edge_att*p + (1-edge_att)*i)"
      ]
    },
    {
      "cell_type": "code",
      "execution_count": 7,
      "metadata": {
        "id": "vjCDANDmZZw3"
      },
      "outputs": [],
      "source": [
        "import torch\n",
        "import torch.nn as nn\n",
        "import torch.nn.functional as F\n",
        "import time\n",
        "import logging\n",
        "\n",
        "BatchNorm2d = nn.BatchNorm2d\n",
        "bn_mom = 0.1\n",
        "algc = False\n",
        "\n",
        "\n",
        "\n",
        "class PIDNet(nn.Module):\n",
        "\n",
        "    def __init__(self, m=2, n=3, num_classes=19, planes=64, ppm_planes=96, head_planes=128, augment=True):\n",
        "        super(PIDNet, self).__init__()\n",
        "        self.augment = augment\n",
        "\n",
        "        # I Branch\n",
        "        self.conv1 =  nn.Sequential(\n",
        "                          nn.Conv2d(3,planes,kernel_size=3, stride=2, padding=1),\n",
        "                          BatchNorm2d(planes, momentum=bn_mom),\n",
        "                          nn.ReLU(inplace=True),\n",
        "                          nn.Conv2d(planes,planes,kernel_size=3, stride=2, padding=1),\n",
        "                          BatchNorm2d(planes, momentum=bn_mom),\n",
        "                          nn.ReLU(inplace=True),\n",
        "                      )\n",
        "\n",
        "        self.relu = nn.ReLU(inplace=True)\n",
        "        self.layer1 = self._make_layer(BasicBlock, planes, planes, m)\n",
        "        self.layer2 = self._make_layer(BasicBlock, planes, planes * 2, m, stride=2)\n",
        "        self.layer3 = self._make_layer(BasicBlock, planes * 2, planes * 4, n, stride=2)\n",
        "        self.layer4 = self._make_layer(BasicBlock, planes * 4, planes * 8, n, stride=2)\n",
        "        self.layer5 =  self._make_layer(Bottleneck, planes * 8, planes * 8, 2, stride=2)\n",
        "\n",
        "        # P Branch\n",
        "        self.compression3 = nn.Sequential(\n",
        "                                          nn.Conv2d(planes * 4, planes * 2, kernel_size=1, bias=False),\n",
        "                                          BatchNorm2d(planes * 2, momentum=bn_mom),\n",
        "                                          )\n",
        "\n",
        "        self.compression4 = nn.Sequential(\n",
        "                                          nn.Conv2d(planes * 8, planes * 2, kernel_size=1, bias=False),\n",
        "                                          BatchNorm2d(planes * 2, momentum=bn_mom),\n",
        "                                          )\n",
        "        self.pag3 = PagFM(planes * 2, planes)\n",
        "        self.pag4 = PagFM(planes * 2, planes)\n",
        "\n",
        "        self.layer3_ = self._make_layer(BasicBlock, planes * 2, planes * 2, m)\n",
        "        self.layer4_ = self._make_layer(BasicBlock, planes * 2, planes * 2, m)\n",
        "        self.layer5_ = self._make_layer(Bottleneck, planes * 2, planes * 2, 1)\n",
        "\n",
        "        # D Branch\n",
        "        if m == 2:\n",
        "            self.layer3_d = self._make_single_layer(BasicBlock, planes * 2, planes)\n",
        "            self.layer4_d = self._make_layer(Bottleneck, planes, planes, 1)\n",
        "            self.diff3 = nn.Sequential(\n",
        "                                        nn.Conv2d(planes * 4, planes, kernel_size=3, padding=1, bias=False),\n",
        "                                        BatchNorm2d(planes, momentum=bn_mom),\n",
        "                                        )\n",
        "            self.diff4 = nn.Sequential(\n",
        "                                     nn.Conv2d(planes * 8, planes * 2, kernel_size=3, padding=1, bias=False),\n",
        "                                     BatchNorm2d(planes * 2, momentum=bn_mom),\n",
        "                                     )\n",
        "            self.spp = PAPPM(planes * 16, ppm_planes, planes * 4)\n",
        "            self.dfm = Light_Bag(planes * 4, planes * 4)\n",
        "        else:\n",
        "            self.layer3_d = self._make_single_layer(BasicBlock, planes * 2, planes * 2)\n",
        "            self.layer4_d = self._make_single_layer(BasicBlock, planes * 2, planes * 2)\n",
        "            self.diff3 = nn.Sequential(\n",
        "                                        nn.Conv2d(planes * 4, planes * 2, kernel_size=3, padding=1, bias=False),\n",
        "                                        BatchNorm2d(planes * 2, momentum=bn_mom),\n",
        "                                        )\n",
        "            self.diff4 = nn.Sequential(\n",
        "                                     nn.Conv2d(planes * 8, planes * 2, kernel_size=3, padding=1, bias=False),\n",
        "                                     BatchNorm2d(planes * 2, momentum=bn_mom),\n",
        "                                     )\n",
        "            self.spp = DAPPM(planes * 16, ppm_planes, planes * 4)\n",
        "            self.dfm = Bag(planes * 4, planes * 4)\n",
        "\n",
        "        self.layer5_d = self._make_layer(Bottleneck, planes * 2, planes * 2, 1)\n",
        "\n",
        "        # Prediction Head\n",
        "        if self.augment:\n",
        "            self.seghead_p = segmenthead(planes * 2, head_planes, num_classes)\n",
        "            self.seghead_d = segmenthead(planes * 2, planes, 1)\n",
        "\n",
        "        self.final_layer = segmenthead(planes * 4, head_planes, num_classes)\n",
        "\n",
        "\n",
        "        for m in self.modules():\n",
        "            if isinstance(m, nn.Conv2d):\n",
        "                nn.init.kaiming_normal_(m.weight, mode='fan_out', nonlinearity='relu')\n",
        "            elif isinstance(m, BatchNorm2d):\n",
        "                nn.init.constant_(m.weight, 1)\n",
        "                nn.init.constant_(m.bias, 0)\n",
        "\n",
        "\n",
        "    def _make_layer(self, block, inplanes, planes, blocks, stride=1):\n",
        "        downsample = None\n",
        "        if stride != 1 or inplanes != planes * block.expansion:\n",
        "            downsample = nn.Sequential(\n",
        "                nn.Conv2d(inplanes, planes * block.expansion,\n",
        "                          kernel_size=1, stride=stride, bias=False),\n",
        "                nn.BatchNorm2d(planes * block.expansion, momentum=bn_mom),\n",
        "            )\n",
        "\n",
        "        layers = []\n",
        "        layers.append(block(inplanes, planes, stride, downsample))\n",
        "        inplanes = planes * block.expansion\n",
        "        for i in range(1, blocks):\n",
        "            if i == (blocks-1):\n",
        "                layers.append(block(inplanes, planes, stride=1, no_relu=True))\n",
        "            else:\n",
        "                layers.append(block(inplanes, planes, stride=1, no_relu=False))\n",
        "\n",
        "        return nn.Sequential(*layers)\n",
        "\n",
        "    def _make_single_layer(self, block, inplanes, planes, stride=1):\n",
        "        downsample = None\n",
        "        if stride != 1 or inplanes != planes * block.expansion:\n",
        "            downsample = nn.Sequential(\n",
        "                nn.Conv2d(inplanes, planes * block.expansion,\n",
        "                          kernel_size=1, stride=stride, bias=False),\n",
        "                nn.BatchNorm2d(planes * block.expansion, momentum=bn_mom),\n",
        "            )\n",
        "\n",
        "        layer = block(inplanes, planes, stride, downsample, no_relu=True)\n",
        "\n",
        "        return layer\n",
        "\n",
        "    def forward(self, x):\n",
        "\n",
        "        width_output = x.shape[-1] // 8\n",
        "        height_output = x.shape[-2] // 8\n",
        "\n",
        "        x = self.conv1(x)\n",
        "        x = self.layer1(x)\n",
        "        x = self.relu(self.layer2(self.relu(x)))\n",
        "        x_ = self.layer3_(x)\n",
        "        x_d = self.layer3_d(x)\n",
        "\n",
        "        x = self.relu(self.layer3(x))\n",
        "        x_ = self.pag3(x_, self.compression3(x))\n",
        "        x_d = x_d + F.interpolate(\n",
        "                        self.diff3(x),\n",
        "                        size=[height_output, width_output],\n",
        "                        mode='bilinear', align_corners=algc)\n",
        "        if self.augment:\n",
        "            temp_p = x_\n",
        "\n",
        "        x = self.relu(self.layer4(x))\n",
        "        x_ = self.layer4_(self.relu(x_))\n",
        "        x_d = self.layer4_d(self.relu(x_d))\n",
        "\n",
        "        x_ = self.pag4(x_, self.compression4(x))\n",
        "        x_d = x_d + F.interpolate(\n",
        "                        self.diff4(x),\n",
        "                        size=[height_output, width_output],\n",
        "                        mode='bilinear', align_corners=algc)\n",
        "        if self.augment:\n",
        "            temp_d = x_d\n",
        "\n",
        "        x_ = self.layer5_(self.relu(x_))\n",
        "        x_d = self.layer5_d(self.relu(x_d))\n",
        "        x = F.interpolate(\n",
        "                        self.spp(self.layer5(x)),\n",
        "                        size=[height_output, width_output],\n",
        "                        mode='bilinear', align_corners=algc)\n",
        "\n",
        "        x_ = self.final_layer(self.dfm(x_, x, x_d))\n",
        "\n",
        "        if self.augment:\n",
        "            x_extra_p = self.seghead_p(temp_p)\n",
        "            x_extra_d = self.seghead_d(temp_d)\n",
        "            return [x_extra_p, x_, x_extra_d]\n",
        "        else:\n",
        "            return x_\n",
        "\n",
        "def get_seg_model(cfg, imgnet_pretrained):\n",
        "\n",
        "    if 's' in cfg.MODEL.NAME:\n",
        "        model = PIDNet(m=2, n=3, num_classes=cfg.DATASET.NUM_CLASSES, planes=32, ppm_planes=96, head_planes=128, augment=True)\n",
        "    elif 'm' in cfg.MODEL.NAME:\n",
        "        model = PIDNet(m=2, n=3, num_classes=cfg.DATASET.NUM_CLASSES, planes=64, ppm_planes=96, head_planes=128, augment=True)\n",
        "    else:\n",
        "        model = PIDNet(m=3, n=4, num_classes=cfg.DATASET.NUM_CLASSES, planes=64, ppm_planes=112, head_planes=256, augment=True)\n",
        "\n",
        "    if imgnet_pretrained:\n",
        "        pretrained_state = torch.load(cfg.MODEL.PRETRAINED, map_location='cpu')['state_dict']\n",
        "        model_dict = model.state_dict()\n",
        "        pretrained_state = {k: v for k, v in pretrained_state.items() if (k in model_dict and v.shape == model_dict[k].shape)}\n",
        "        model_dict.update(pretrained_state)\n",
        "        msg = 'Loaded {} parameters!'.format(len(pretrained_state))\n",
        "        logging.info('Attention!!!')\n",
        "        logging.info(msg)\n",
        "        logging.info('Over!!!')\n",
        "        model.load_state_dict(model_dict, strict = False)\n",
        "    else:\n",
        "        pretrained_dict = torch.load(cfg.MODEL.PRETRAINED, map_location='cpu')\n",
        "        if 'state_dict' in pretrained_dict:\n",
        "            pretrained_dict = pretrained_dict['state_dict']\n",
        "        model_dict = model.state_dict()\n",
        "        pretrained_dict = {k[6:]: v for k, v in pretrained_dict.items() if (k[6:] in model_dict and v.shape == model_dict[k[6:]].shape)}\n",
        "        msg = 'Loaded {} parameters!'.format(len(pretrained_dict))\n",
        "        logging.info('Attention!!!')\n",
        "        logging.info(msg)\n",
        "        logging.info('Over!!!')\n",
        "        model_dict.update(pretrained_dict)\n",
        "        model.load_state_dict(model_dict, strict = False)\n",
        "\n",
        "    return model\n",
        "\n",
        "def get_pred_model(name, num_classes):\n",
        "\n",
        "    if 's' in name:\n",
        "        model = PIDNet(m=2, n=3, num_classes=num_classes, planes=32, ppm_planes=96, head_planes=128, augment=False)\n",
        "    elif 'm' in name:\n",
        "        model = PIDNet(m=2, n=3, num_classes=num_classes, planes=64, ppm_planes=96, head_planes=128, augment=False)\n",
        "    else:\n",
        "        model = PIDNet(m=3, n=4, num_classes=num_classes, planes=64, ppm_planes=112, head_planes=256, augment=False)\n",
        "\n",
        "    return model"
      ]
    },
    {
      "cell_type": "markdown",
      "metadata": {
        "id": "dw9SYUCgi6us"
      },
      "source": [
        "# Dataset & dataloader"
      ]
    },
    {
      "cell_type": "markdown",
      "source": [
        "## Dataset definition"
      ],
      "metadata": {
        "id": "wrMzI_LbjhP_"
      }
    },
    {
      "cell_type": "code",
      "execution_count": 8,
      "metadata": {
        "id": "T6kSW8hGjAo9",
        "colab": {
          "base_uri": "https://localhost:8080/"
        },
        "outputId": "76633013-b9ee-4e87-dc02-b02150ccaa47"
      },
      "outputs": [
        {
          "output_type": "stream",
          "name": "stderr",
          "text": [
            "/usr/local/lib/python3.11/dist-packages/albumentations/__init__.py:28: UserWarning: A new version of Albumentations is available: '2.0.7' (you have '2.0.6'). Upgrade using: pip install -U albumentations. To disable automatic update checks, set the environment variable NO_ALBUMENTATIONS_UPDATE to 1.\n",
            "  check_for_updates()\n"
          ]
        }
      ],
      "source": [
        "import os\n",
        "import torch\n",
        "from torch.utils.data import Dataset, DataLoader\n",
        "from torchvision import transforms\n",
        "from PIL import Image\n",
        "import numpy as np\n",
        "import cv2\n",
        "from albumentations.pytorch import ToTensorV2\n",
        "\n",
        "class SegmentationDataset(Dataset):\n",
        "    def __init__(self, image_dir, mask_dir, transform, target=False):\n",
        "        self.image_dir = image_dir\n",
        "        self.mask_dir = mask_dir\n",
        "        self.transform = transform\n",
        "        self.image_filenames = sorted(os.listdir(image_dir))\n",
        "        self.mask_filenames = sorted(os.listdir(mask_dir))\n",
        "        self.target = target\n",
        "\n",
        "    def __len__(self):\n",
        "        return len(self.image_filenames)\n",
        "\n",
        "    def __getitem__(self, idx):\n",
        "        img_path = os.path.join(self.image_dir, self.image_filenames[idx])\n",
        "        mask_path = os.path.join(self.mask_dir, self.mask_filenames[idx])\n",
        "\n",
        "        # Read an image with OpenCV\n",
        "        image = cv2.imread(img_path)\n",
        "        mask = cv2.imread(mask_path)\n",
        "\n",
        "        # By default OpenCV uses BGR color space for color images,\n",
        "        # so we need to convert the image to RGB color space.\n",
        "        image = cv2.cvtColor(image, cv2.COLOR_BGR2RGB)\n",
        "        mask = cv2.cvtColor(mask, cv2.COLOR_BGR2GRAY)\n",
        "\n",
        "        if self.transform:\n",
        "            transformed = self.transform(image=image, mask=mask)\n",
        "            image = transformed[\"image\"]\n",
        "            mask = transformed[\"mask\"]\n",
        "\n",
        "        mask_np = np.array(mask)\n",
        "\n",
        "        edge = cv2.Canny(mask_np, 0.1, 0.2)\n",
        "\n",
        "        kernel = np.ones((3, 3), np.uint8)  # Kernel for dilation\n",
        "\n",
        "        edge = edge[6:-6, 6:-6]\n",
        "        edge = np.pad(edge, ((6,6),(6,6)), mode='constant')\n",
        "        boundaries = cv2.dilate(edge, kernel, iterations=1)  # Dilate edges\n",
        "        boundaries = (boundaries > 50) * 1.0 # boundaries matrix is float with 1.0 or 0.0\n",
        "\n",
        "        mask = torch.as_tensor(np.array(mask), dtype=torch.int64) - 1\n",
        "\n",
        "        boundaries_tensor = torch.as_tensor(boundaries, dtype=torch.float32)\n",
        "\n",
        "        # if the dataset is a target dataset, does not return the mask\n",
        "        if self.target == True:\n",
        "          return image, boundaries_tensor\n",
        "        return image, mask, boundaries_tensor"
      ]
    },
    {
      "cell_type": "code",
      "source": [
        "# Define transformations for images & masks\n",
        "import albumentations as A\n",
        "from albumentations.pytorch import ToTensorV2\n",
        "from torchvision.transforms import v2 as T\n",
        "import cv2\n",
        "\n",
        "resize_transform = A.Compose([\n",
        "    A.Resize(height=RESIZE, width=RESIZE, p=1),\n",
        "    A.ToFloat(),\n",
        "    ToTensorV2()\n",
        "])\n",
        "\n",
        "# the best augmentation from previous step is chosen\n",
        "augment = A.HueSaturationValue(\n",
        "    hue_shift_limit=20,\n",
        "    sat_shift_limit=30,\n",
        "    val_shift_limit=20,\n",
        "    p=P)"
      ],
      "metadata": {
        "id": "cOr2yJ_6kvA4"
      },
      "execution_count": 9,
      "outputs": []
    },
    {
      "cell_type": "code",
      "source": [
        "def extract_boundary_mask(mask):\n",
        "    if isinstance(mask, torch.Tensor):\n",
        "        mask_np = mask.squeeze().cpu().numpy()  # Assicura che sia [H, W]\n",
        "    else:\n",
        "        mask_np = np.array(mask)\n",
        "\n",
        "    mask_np = mask_np.astype(np.uint8)\n",
        "\n",
        "    edge = cv2.Canny(mask_np, 0.1, 0.2)\n",
        "\n",
        "    kernel = np.ones((3, 3), np.uint8)\n",
        "    edge = edge[6:-6, 6:-6]\n",
        "    edge = np.pad(edge, ((6,6),(6,6)), mode='constant')\n",
        "    boundaries = cv2.dilate(edge, kernel, iterations=1)\n",
        "    boundaries = (boundaries > 50).astype(np.float32)\n",
        "\n",
        "    boundaries_tensor = torch.from_numpy(boundaries).unsqueeze(0)  # shape: [1, H, W]\n",
        "    return boundaries_tensor\n"
      ],
      "metadata": {
        "id": "fbbVpaD-McpG"
      },
      "execution_count": 10,
      "outputs": []
    },
    {
      "cell_type": "markdown",
      "source": [
        "## Dataset instantiation"
      ],
      "metadata": {
        "id": "aRC4KXtmj3Pi"
      }
    },
    {
      "cell_type": "code",
      "source": [
        "# Create dataset objects\n",
        "\n",
        "# TRAINING DATASETS\n",
        "source_dataset = SegmentationDataset(TRAINING_PATH_URBAN + \"/images_png\", TRAINING_PATH_URBAN + \"/masks_png\",\n",
        "                                    transform=resize_transform)\n",
        "\n",
        "\n",
        "target_dataset = SegmentationDataset(TRAINING_PATH_RURAL + \"/images_png\", TRAINING_PATH_RURAL + \"/masks_png\",\n",
        "                                    transform=resize_transform, target=True)\n",
        "\n",
        "# EVALUATION DATASET\n",
        "\n",
        "val_dataset = SegmentationDataset(VAL_PATH_RURAL + \"/images_png\", VAL_PATH_RURAL + \"/masks_png\",\n",
        "                                    transform=resize_transform)"
      ],
      "metadata": {
        "id": "Zk4ZifehjuyZ"
      },
      "execution_count": 11,
      "outputs": []
    },
    {
      "cell_type": "code",
      "source": [
        "import torch\n",
        "import numpy as np\n",
        "from tqdm import tqdm\n",
        "from torch.utils.data import DataLoader\n",
        "\n",
        "# Supponiamo tu abbia un DataLoader con le etichette GT (y) nei batch\n",
        "class_counts = torch.zeros(NUM_CLASSES)\n",
        "\n",
        "for (images, labels, _) in tqdm(DataLoader(source_dataset, batch_size=BATCH_SIZE)):\n",
        "    for c in range(NUM_CLASSES):\n",
        "        class_counts[c] += torch.sum(labels == c)\n",
        "\n",
        "# Converti in numpy\n",
        "class_counts = class_counts.numpy()\n",
        "total_pixels = np.sum(class_counts)\n",
        "frequencies = class_counts / total_pixels\n",
        "\n",
        "if TYPE_WEIGHT == \"inverse\":\n",
        "  #Inverse frequency\n",
        "  class_weights = 1.0 / (frequencies + 1e-8)\n",
        "elif TYPE_WEIGHT == \"median-frequency\":\n",
        "  #Median frequency balancing\n",
        "  median = np.median(frequencies)\n",
        "  class_weights = median / (frequencies + 1e-8)\n",
        "elif TYPE_WEIGHT == \"log\":\n",
        "  #Log smoothing\n",
        "  class_weights = 1.0 / np.log(1.02 + frequencies)\n",
        "\n",
        "print(class_weights)\n",
        "\n",
        "# class_weights = [0.16340506, 0.37345123, 0.85315025, 2.1215937,  1.0464315,  0.9999999, 4.2676406]\n",
        "# [0.16340506 0.37345123 0.85315025 2.1215937  1.0464315  0.9999999 4.2676406]"
      ],
      "metadata": {
        "colab": {
          "base_uri": "https://localhost:8080/"
        },
        "id": "z-PvK8l4668q",
        "outputId": "0a1ef37b-c7a9-4dc8-8f40-5b8b965a5c1d"
      },
      "execution_count": 12,
      "outputs": [
        {
          "output_type": "stream",
          "name": "stderr",
          "text": [
            "100%|██████████| 73/73 [01:01<00:00,  1.19it/s]"
          ]
        },
        {
          "output_type": "stream",
          "name": "stdout",
          "text": [
            "[ 2.063954  4.717028 10.776062 26.797655 13.217381 12.630906 53.904175]\n"
          ]
        },
        {
          "output_type": "stream",
          "name": "stderr",
          "text": [
            "\n"
          ]
        }
      ]
    },
    {
      "cell_type": "markdown",
      "source": [
        "## Loader instantiation"
      ],
      "metadata": {
        "id": "lyTIKtzjj7i0"
      }
    },
    {
      "cell_type": "code",
      "source": [
        "# Create DataLoaders\n",
        "\n",
        "# TRAINING DATALOADERS\n",
        "source_loader = DataLoader(source_dataset, batch_size=BATCH_SIZE, shuffle=True, num_workers=4)\n",
        "target_loader = DataLoader(target_dataset, batch_size=BATCH_SIZE, shuffle=True, num_workers=4)\n",
        "\n",
        "# EVALUATION DATALOADERS\n",
        "\n",
        "val_loader = DataLoader(val_dataset, batch_size=BATCH_SIZE, shuffle=False, num_workers=4)\n",
        "\n",
        "# enumerate dataloaders\n",
        "source_loader_iter = enumerate(source_loader)\n",
        "target_loader_iter = enumerate(target_loader)\n"
      ],
      "metadata": {
        "id": "vhsQeNzTj_mk"
      },
      "execution_count": 13,
      "outputs": []
    },
    {
      "cell_type": "markdown",
      "metadata": {
        "id": "O4pcqQXrMzza"
      },
      "source": [
        "### Instantiate model"
      ]
    },
    {
      "cell_type": "code",
      "execution_count": 18,
      "metadata": {
        "id": "hZNWIM0DbnJv"
      },
      "outputs": [],
      "source": [
        "import gdown\n",
        "\n",
        "if (os.path.exists(\"./PIDNet_S_ImageNet.pth.tar\") == False):\n",
        "  url = \"https://drive.google.com/uc?id=1hIBp_8maRr60-B3PF0NVtaA6TYBvO4y-\"\n",
        "  output = \"./\"\n",
        "  gdown.download(url, output, quiet=False)\n",
        "\n",
        "  print(\"imagenet-pretrained pidnet weights downloaded\")\n",
        "\n",
        "\n",
        "class Config:\n",
        "  class MODEL:\n",
        "      NAME = 'pidnet_s'\n",
        "      PRETRAINED = 'PIDNet_S_ImageNet.pth.tar'\n",
        "  class DATASET:\n",
        "      NUM_CLASSES = NUM_CLASSES\n",
        "\n",
        "cfg = Config()\n",
        "\n",
        "model = get_seg_model(cfg, imgnet_pretrained=True)"
      ]
    },
    {
      "cell_type": "markdown",
      "metadata": {
        "id": "MSQUcy7_t2of"
      },
      "source": [
        "# Training Phase"
      ]
    },
    {
      "cell_type": "markdown",
      "source": [
        "## Define loss functions"
      ],
      "metadata": {
        "id": "p_wwWFwFkIoR"
      }
    },
    {
      "cell_type": "code",
      "source": [
        "import torch\n",
        "import torch.nn as nn\n",
        "import torch.nn.functional as F\n",
        "\n",
        "# Extra Semantic Loss (Classica CrossEntropy Loss)\n",
        "class CrossEntropyLoss(nn.Module):\n",
        "    def __init__(self, num_outputs, weight=None, balance_weights=[0.4, 1.0], sb_weights=1.0):\n",
        "        super(CrossEntropyLoss, self).__init__()\n",
        "        self.loss = nn.CrossEntropyLoss(weight=weight, ignore_index=IGNORE_INDEX)\n",
        "        self.num_outputs = num_outputs\n",
        "        self.balance_weights = balance_weights\n",
        "        self.sb_weights = sb_weights\n",
        "\n",
        "    def _forward(self, pred, target):\n",
        "        return self.loss(pred, target)\n",
        "\n",
        "    def forward(self, score, target):\n",
        "        if self.num_outputs == 1:\n",
        "            score = [score]\n",
        "\n",
        "        if len(self.balance_weights) == len(score):\n",
        "            return sum([w * self._forward(x, target) for (w, x) in zip(self.balance_weights, score)])\n",
        "        elif len(score) == 1:\n",
        "            return self.sb_weights * self._forward(score[0], target)\n",
        "        else:\n",
        "            raise ValueError(\"lengths of prediction and target are not identical!\")\n",
        "\n",
        "class OhemCrossEntropy(nn.Module):\n",
        "    def __init__(self, thres=0.7, min_kept=26_000, balance_weights=[0.4, 1.0], sb_weights=1.0, weight=None):\n",
        "        super(OhemCrossEntropy, self).__init__()\n",
        "        self.thresh = thres\n",
        "        self.min_kept = max(1, min_kept)\n",
        "        self.ignore_label = IGNORE_INDEX\n",
        "        self.balance_weights = balance_weights\n",
        "        self.sb_weights = sb_weights\n",
        "        self.criterion = nn.CrossEntropyLoss(\n",
        "            weight=weight,\n",
        "            ignore_index=self.ignore_label,\n",
        "            reduction='none'\n",
        "        )\n",
        "\n",
        "    def _ce_forward(self, score, target):\n",
        "        loss = self.criterion(score, target)\n",
        "        return loss\n",
        "\n",
        "    def _ohem_forward(self, score, target, **kwargs):\n",
        "        pred = F.softmax(score, dim=1)\n",
        "        pixel_losses = self.criterion(score, target).contiguous().view(-1)\n",
        "        mask = target.contiguous().view(-1) != self.ignore_label\n",
        "\n",
        "        tmp_target = target.clone()\n",
        "        tmp_target[tmp_target == self.ignore_label] = 0\n",
        "        pred = pred.gather(1, tmp_target.unsqueeze(1))\n",
        "        pred, ind = pred.contiguous().view(-1,)[mask].contiguous().sort()\n",
        "        min_value = pred[min(self.min_kept, pred.numel() - 1)]\n",
        "        threshold = max(min_value, self.thresh)\n",
        "\n",
        "        pixel_losses = pixel_losses[mask][ind]\n",
        "        pixel_losses = pixel_losses[pred < threshold]\n",
        "        return pixel_losses.mean()\n",
        "\n",
        "    def forward(self, score, target):\n",
        "        if not (isinstance(score, list) or isinstance(score, tuple)):\n",
        "            score = [score]\n",
        "\n",
        "        if len(self.balance_weights) == len(score):\n",
        "            functions = [self._ce_forward] * \\\n",
        "                (len(self.balance_weights) - 1) + [self._ohem_forward]\n",
        "            return sum([\n",
        "                w * func(x, target)\n",
        "                for (w, x, func) in zip(self.balance_weights, score, functions)\n",
        "            ])\n",
        "\n",
        "        elif len(score) == 1:\n",
        "            return self.sb_weights * self._ohem_forward(score[0], target)\n",
        "\n",
        "        else:\n",
        "            raise ValueError(\"lengths of prediction and target are not identical!\")\n",
        "\n",
        "\n",
        "# Weighted Binary Cross Entropy per i bordi\n",
        "def weighted_bce(bd_pre, target):\n",
        "    n, c, h, w = bd_pre.size()\n",
        "    log_p = bd_pre.permute(0,2,3,1).contiguous().view(1, -1)\n",
        "    target_t = target.view(1, -1)\n",
        "\n",
        "    pos_index = (target_t == 1)\n",
        "    neg_index = (target_t == 0)\n",
        "\n",
        "    weight = torch.zeros_like(log_p)\n",
        "    pos_num = pos_index.sum()\n",
        "    neg_num = neg_index.sum()\n",
        "    sum_num = pos_num + neg_num\n",
        "    weight[pos_index] = neg_num * 1.0 / sum_num\n",
        "    weight[neg_index] = pos_num * 1.0 / sum_num\n",
        "\n",
        "    loss = F.binary_cross_entropy_with_logits(log_p, target_t, weight, reduction='mean')\n",
        "\n",
        "    return loss\n",
        "\n",
        "class BondaryLoss(nn.Module):\n",
        "    def __init__(self, coeff_bce = 20.0):\n",
        "        super(BondaryLoss, self).__init__()\n",
        "        self.coeff_bce = coeff_bce\n",
        "\n",
        "    def forward(self, bd_pre, bd_gt):\n",
        "        bce_loss = self.coeff_bce * weighted_bce(bd_pre, bd_gt)\n",
        "        loss = bce_loss\n",
        "\n",
        "        return loss\n",
        "\n",
        "# PIDNet Loss Totale\n",
        "class PIDNetLoss(nn.Module):\n",
        "    def __init__(self, lambda_0=0.4, lambda_1=20, lambda_2=1, lambda_3=1, threshold=0.8, class_weights=None):\n",
        "        super(PIDNetLoss, self).__init__()\n",
        "        self.class_weights = class_weights\n",
        "        if self.class_weights is not None:\n",
        "            self.class_weights = torch.tensor(class_weights).cuda()\n",
        "        if LOSS_TYPE == \"ohem\":\n",
        "          self.sem_loss = OhemCrossEntropy(balance_weights=[lambda_0, lambda_2], sb_weights=lambda_3, weight = self.class_weights)\n",
        "        else:\n",
        "          self.sem_loss = CrossEntropyLoss(num_outputs=2, balance_weights=[lambda_0, lambda_2], sb_weights=lambda_3, weight = self.class_weights)\n",
        "        self.bd_loss = BondaryLoss(coeff_bce=lambda_1)\n",
        "        self.threshold = threshold\n",
        "\n",
        "    def forward(self, pred_p, pred_main, target, boundary_head, boundary_mask):\n",
        "        \"\"\"\n",
        "        pred_p: output branch P (B, C, H, W)\n",
        "        pred_main: output principale (B, C, H, W)\n",
        "        target: ground truth segmentazione (B, H, W)\n",
        "        boundary_head: predizione dei bordi (B, 1, H, W)\n",
        "        boundary_mask: ground truth dei bordi (B, 1, H, W)\n",
        "        \"\"\"\n",
        "\n",
        "        loss_s = self.sem_loss([pred_p, pred_main], target) # l_0 e l_2\n",
        "        loss_b = self.bd_loss(boundary_head, boundary_mask.unsqueeze(1)) # l_1\n",
        "\n",
        "        # l_3\n",
        "        filler = torch.ones_like(target) * IGNORE_INDEX\n",
        "        bd_label = torch.where(F.sigmoid(boundary_head[:,0,:,:])>self.threshold, target, filler)\n",
        "        loss_sb = self.sem_loss([pred_main], bd_label)\n",
        "\n",
        "\n",
        "        loss = loss_s + loss_b + loss_sb\n",
        "\n",
        "\n",
        "        return loss"
      ],
      "metadata": {
        "id": "7uJvTyhWp2Ky"
      },
      "execution_count": 14,
      "outputs": []
    },
    {
      "cell_type": "code",
      "source": [
        "class CrossEntropyLoss2dPixelWiseWeighted(nn.Module):\n",
        "    def __init__(self, weight=None, ignore_index=250, reduction='none'):\n",
        "        super(CrossEntropyLoss2dPixelWiseWeighted, self).__init__()\n",
        "        self.CE =  nn.CrossEntropyLoss(weight=weight, ignore_index=ignore_index, reduction=reduction)\n",
        "\n",
        "    def forward(self, output, target, pixelWiseWeight):\n",
        "        loss = self.CE(output, target)\n",
        "        loss = torch.mean(loss * pixelWiseWeight)\n",
        "        return loss"
      ],
      "metadata": {
        "id": "_saxZ8fwHpYd"
      },
      "execution_count": 15,
      "outputs": []
    },
    {
      "cell_type": "markdown",
      "source": [
        "## Upscaling function"
      ],
      "metadata": {
        "id": "tTTJR3Ly3T_F"
      }
    },
    {
      "cell_type": "code",
      "source": [
        "import torch.nn.functional as F\n",
        "\n",
        "def Upscaling(outputs, boundary_mask, model):\n",
        "    \"\"\"Upscale trough bilinear interpolation -> riporto le dimensioni dell'output a quelli originali\n",
        "    Quindi passiamo da 64 x 64 della rete a 512 x 512\"\"\"\n",
        "\n",
        "    h, w = boundary_mask.size(1), boundary_mask.size(2)\n",
        "    ph, pw = outputs[0].size(2), outputs[0].size(3)\n",
        "    if ph != h or pw != w:\n",
        "        for i in range(len(outputs)):\n",
        "            outputs[i] = F.interpolate(outputs[i], size=(h, w), mode='bilinear', align_corners=True)\n",
        "    if model.augment:\n",
        "        pred_p, pred_main, boundary_head = outputs  # P, I, D branches\n",
        "    else:\n",
        "        pred_p = None\n",
        "        pred_main = outputs\n",
        "        boundary_head = None  # Nessuna branch D se augment=False\n",
        "\n",
        "    return pred_p, pred_main, boundary_head"
      ],
      "metadata": {
        "id": "6A2YoQKT3Tu8"
      },
      "execution_count": 16,
      "outputs": []
    },
    {
      "cell_type": "markdown",
      "source": [
        "## Instantiate discriminator, optimizers and schedulers"
      ],
      "metadata": {
        "id": "B8_NYLc0kqRn"
      }
    },
    {
      "cell_type": "code",
      "execution_count": 20,
      "metadata": {
        "id": "bAbmz5Cz4I4H",
        "colab": {
          "base_uri": "https://localhost:8080/"
        },
        "outputId": "7f8ea5f0-fff2-476d-9d2f-91a9b0b37140"
      },
      "outputs": [
        {
          "output_type": "stream",
          "name": "stdout",
          "text": [
            "cuda\n",
            "86\n",
            "73\n"
          ]
        }
      ],
      "source": [
        "from torch.optim.lr_scheduler import LambdaLR, SequentialLR, StepLR\n",
        "\n",
        "device = torch.device(\"cuda\" if torch.cuda.is_available() else \"cpu\")\n",
        "\n",
        "optimizer = torch.optim.SGD(model.parameters(), lr=LR, momentum=MOMENTUM)\n",
        "\n",
        "scheduler = torch.optim.lr_scheduler.ReduceLROnPlateau(optimizer, mode='max', factor=GAMMA, patience=3, threshold=0.01)\n",
        "\n",
        "if TYPE_WEIGHT == \"median-frequency\" or TYPE_WEIGHT == \"inverse\" or TYPE_WEIGHT == \"log\":\n",
        "  loss_fn = PIDNetLoss(threshold=0.8, class_weights=class_weights)\n",
        "  mix_loss = CrossEntropyLoss2dPixelWiseWeighted(ignore_index = IGNORE_INDEX, weight = torch.tensor(class_weights).cuda())\n",
        "else:\n",
        "  loss_fn = PIDNetLoss(threshold=0.8, class_weights=None)\n",
        "  mix_loss = CrossEntropyLoss2dPixelWiseWeighted(ignore_index = IGNORE_INDEX, weight = None)\n",
        "\n",
        "print(device)\n",
        "\n",
        "print(len(target_loader))\n",
        "print(len(source_loader))"
      ]
    },
    {
      "cell_type": "markdown",
      "source": [
        "# Definition ema model"
      ],
      "metadata": {
        "id": "PBJn-0ZMR-WO"
      }
    },
    {
      "cell_type": "code",
      "source": [
        "def create_ema_model(model):\n",
        "    \"\"\"Returns a new model that is used to generate pseudo-labels\"\"\"\n",
        "\n",
        "    ema_model = get_seg_model(cfg, imgnet_pretrained=True)\n",
        "\n",
        "    for param in ema_model.parameters():\n",
        "        param.detach_()\n",
        "    mp = list(model.parameters())\n",
        "    mcp = list(ema_model.parameters())\n",
        "    n = len(mp)\n",
        "    for i in range(0, n):\n",
        "        mcp[i].data[:] = mp[i].data[:].clone()\n",
        "\n",
        "    return ema_model\n",
        "\n",
        "\n",
        "def update_ema_variables(ema_model, model, alpha_teacher, iteration):\n",
        "    # Use the \"true\" average until the exponential average is more correct\n",
        "    alpha_teacher = min(1 - 1 / (iteration + 1), alpha_teacher)\n",
        "\n",
        "    for ema_param, param in zip(ema_model.parameters(), model.parameters()):\n",
        "        #ema_param.data.mul_(alpha).add_(1 - alpha, param.data)\n",
        "        ema_param.data[:] = alpha_teacher * ema_param[:].data[:] + (1 - alpha_teacher) * param[:].data[:]\n",
        "    return ema_model"
      ],
      "metadata": {
        "id": "kxmHtcIQR3N0"
      },
      "execution_count": 19,
      "outputs": []
    },
    {
      "cell_type": "code",
      "source": [
        "def generate_class_mask(pred, classes):\n",
        "    pred, classes = torch.broadcast_tensors(pred.unsqueeze(0), classes.unsqueeze(1).unsqueeze(2))\n",
        "    N = pred.eq(classes).sum(0)\n",
        "    return N"
      ],
      "metadata": {
        "id": "E0WePh8KaIUS"
      },
      "execution_count": 20,
      "outputs": []
    },
    {
      "cell_type": "code",
      "source": [
        "def oneMix(mask, data = None, target = None):\n",
        "    #Mix\n",
        "    if not (data is None):\n",
        "        stackedMask0, _ = torch.broadcast_tensors(mask[0], data[0])\n",
        "        data = (stackedMask0*data[0]+(1-stackedMask0)*data[1]).unsqueeze(0)\n",
        "    if not (target is None):\n",
        "        stackedMask0, _ = torch.broadcast_tensors(mask[0], target[0])\n",
        "        target = (stackedMask0*target[0]+(1-stackedMask0)*target[1]).unsqueeze(0)\n",
        "    return data, target"
      ],
      "metadata": {
        "id": "kZ1q-SXrczgq"
      },
      "execution_count": 21,
      "outputs": []
    },
    {
      "cell_type": "code",
      "source": [
        "def strong_transform(target, masks_mix, aug = None, data = None):\n",
        "    data, target = oneMix(masks_mix, data, target)\n",
        "\n",
        "    if data is not None:\n",
        "      data_np = data.squeeze(0).cpu().numpy()\n",
        "    target_np = target.squeeze(0).cpu().numpy()\n",
        "\n",
        "    if data is not None:\n",
        "      data_np = np.transpose(data_np, (1, 2, 0))\n",
        "    target_np = np.transpose(target_np, (1, 2, 0))\n",
        "\n",
        "    if data is not None:\n",
        "      augmented = aug(image=data_np, mask=target_np)\n",
        "\n",
        "      data = augmented['image']\n",
        "      target = augmented['mask']\n",
        "\n",
        "      data = torch.from_numpy(data).permute(2, 0, 1).unsqueeze(0)  # (1, C, H, W)\n",
        "      target = torch.from_numpy(target).squeeze(-1).unsqueeze(0)  # (1, H, W)\n",
        "    else:\n",
        "      target = torch.from_numpy(target_np).squeeze(-1).unsqueeze(0)  # (1, H, W)\n",
        "      return None, target\n",
        "\n",
        "    return data, target"
      ],
      "metadata": {
        "id": "KiJJDkIFcOpf"
      },
      "execution_count": 22,
      "outputs": []
    },
    {
      "cell_type": "markdown",
      "source": [
        "## Train"
      ],
      "metadata": {
        "id": "jOCaZndAkPy-"
      }
    },
    {
      "cell_type": "code",
      "execution_count": 23,
      "metadata": {
        "id": "kjNWfPicTLQ3",
        "colab": {
          "base_uri": "https://localhost:8080/"
        },
        "outputId": "243de236-5287-46a7-9ff1-c1ac3dc19667"
      },
      "outputs": [
        {
          "metadata": {
            "tags": null
          },
          "name": "stdout",
          "output_type": "stream",
          "text": [
            "[0.000329658544839708]\n"
          ]
        },
        {
          "metadata": {
            "tags": null
          },
          "name": "stderr",
          "output_type": "stream",
          "text": [
            "Epoch 1 [Training]: 100%|██████████| 73/73 [00:36<00:00,  2.01it/s, Loss_seg=51.3831]"
          ]
        },
        {
          "metadata": {
            "tags": null
          },
          "name": "stdout",
          "output_type": "stream",
          "text": [
            "\n",
            "Epoch 1/20 Summary\n",
            "  → Segmentation Source Loss (RAW) : 3.2114\n"
          ]
        },
        {
          "metadata": {
            "tags": null
          },
          "name": "stderr",
          "output_type": "stream",
          "text": [
            "\n",
            "Epoch 1 [Validation]: 100%|██████████| 62/62 [00:14<00:00,  4.40it/s, Val_Loss=106.3321, mIoU=0.1990]\n"
          ]
        },
        {
          "metadata": {
            "tags": null
          },
          "name": "stdout",
          "output_type": "stream",
          "text": [
            "Modello con miou migliore salvato: /content/drive/MyDrive/AML_project/checkpoints/best_model_PIDNET_5_DACS_without_0_class_ohem.pth\n",
            "\n",
            "→ Validation Loss: 6.6458\n",
            "→ Overall mIoU: 0.1990\n",
            "  → background IoU: 0.1979\n",
            "  → building IoU: 0.1926\n",
            "  → road IoU: 0.1580\n",
            "  → water IoU: 0.3396\n",
            "  → barren IoU: 0.0765\n",
            "  → forest IoU: 0.0714\n",
            "  → agriculture IoU: 0.3572\n",
            "[0.000329658544839708]\n"
          ]
        },
        {
          "metadata": {
            "tags": null
          },
          "name": "stderr",
          "output_type": "stream",
          "text": [
            "Epoch 2 [Training]: 100%|██████████| 73/73 [00:37<00:00,  1.97it/s, Loss_seg=26.3908]"
          ]
        },
        {
          "metadata": {
            "tags": null
          },
          "name": "stdout",
          "output_type": "stream",
          "text": [
            "\n",
            "Epoch 2/20 Summary\n",
            "  → Segmentation Source Loss (RAW) : 1.6494\n"
          ]
        },
        {
          "metadata": {
            "tags": null
          },
          "name": "stderr",
          "output_type": "stream",
          "text": [
            "\n",
            "Epoch 2 [Validation]: 100%|██████████| 62/62 [00:14<00:00,  4.39it/s, Val_Loss=125.1774, mIoU=0.1925]"
          ]
        },
        {
          "metadata": {
            "tags": null
          },
          "name": "stdout",
          "output_type": "stream",
          "text": [
            "\n",
            "→ Validation Loss: 7.8236\n",
            "→ Overall mIoU: 0.1925\n",
            "  → background IoU: 0.0993\n",
            "  → building IoU: 0.2115\n",
            "  → road IoU: 0.1787\n",
            "  → water IoU: 0.3280\n",
            "  → barren IoU: 0.0854\n",
            "  → forest IoU: 0.0741\n",
            "  → agriculture IoU: 0.3703\n",
            "[0.000329658544839708]\n"
          ]
        },
        {
          "metadata": {
            "tags": null
          },
          "name": "stderr",
          "output_type": "stream",
          "text": [
            "\n",
            "Epoch 3 [Training]: 100%|██████████| 73/73 [00:34<00:00,  2.10it/s, Loss_seg=23.2016]"
          ]
        },
        {
          "metadata": {
            "tags": null
          },
          "name": "stdout",
          "output_type": "stream",
          "text": [
            "\n",
            "Epoch 3/20 Summary\n",
            "  → Segmentation Source Loss (RAW) : 1.4501\n"
          ]
        },
        {
          "metadata": {
            "tags": null
          },
          "name": "stderr",
          "output_type": "stream",
          "text": [
            "\n",
            "Epoch 3 [Validation]: 100%|██████████| 62/62 [00:14<00:00,  4.38it/s, Val_Loss=127.9899, mIoU=0.2163]\n"
          ]
        },
        {
          "metadata": {
            "tags": null
          },
          "name": "stdout",
          "output_type": "stream",
          "text": [
            "Modello con miou migliore salvato: /content/drive/MyDrive/AML_project/checkpoints/best_model_PIDNET_5_DACS_without_0_class_ohem.pth\n",
            "\n",
            "→ Validation Loss: 7.9994\n",
            "→ Overall mIoU: 0.2163\n",
            "  → background IoU: 0.3022\n",
            "  → building IoU: 0.1408\n",
            "  → road IoU: 0.1592\n",
            "  → water IoU: 0.4143\n",
            "  → barren IoU: 0.1123\n",
            "  → forest IoU: 0.0350\n",
            "  → agriculture IoU: 0.3506\n",
            "[0.000329658544839708]\n"
          ]
        },
        {
          "metadata": {
            "tags": null
          },
          "name": "stderr",
          "output_type": "stream",
          "text": [
            "Epoch 4 [Training]: 100%|██████████| 73/73 [00:34<00:00,  2.12it/s, Loss_seg=22.2519]"
          ]
        },
        {
          "metadata": {
            "tags": null
          },
          "name": "stdout",
          "output_type": "stream",
          "text": [
            "\n",
            "Epoch 4/20 Summary\n",
            "  → Segmentation Source Loss (RAW) : 1.3907\n"
          ]
        },
        {
          "metadata": {
            "tags": null
          },
          "name": "stderr",
          "output_type": "stream",
          "text": [
            "\n",
            "Epoch 4 [Validation]: 100%|██████████| 62/62 [00:14<00:00,  4.39it/s, Val_Loss=112.3347, mIoU=0.2226]\n"
          ]
        },
        {
          "metadata": {
            "tags": null
          },
          "name": "stdout",
          "output_type": "stream",
          "text": [
            "Modello con miou migliore salvato: /content/drive/MyDrive/AML_project/checkpoints/best_model_PIDNET_5_DACS_without_0_class_ohem.pth\n",
            "\n",
            "→ Validation Loss: 7.0209\n",
            "→ Overall mIoU: 0.2226\n",
            "  → background IoU: 0.2040\n",
            "  → building IoU: 0.2417\n",
            "  → road IoU: 0.2030\n",
            "  → water IoU: 0.4178\n",
            "  → barren IoU: 0.0666\n",
            "  → forest IoU: 0.0652\n",
            "  → agriculture IoU: 0.3598\n",
            "[0.000329658544839708]\n"
          ]
        },
        {
          "metadata": {
            "tags": null
          },
          "name": "stderr",
          "output_type": "stream",
          "text": [
            "Epoch 5 [Training]: 100%|██████████| 73/73 [00:34<00:00,  2.11it/s, Loss_seg=19.7900]"
          ]
        },
        {
          "metadata": {
            "tags": null
          },
          "name": "stdout",
          "output_type": "stream",
          "text": [
            "\n",
            "Epoch 5/20 Summary\n",
            "  → Segmentation Source Loss (RAW) : 1.2369\n"
          ]
        },
        {
          "metadata": {
            "tags": null
          },
          "name": "stderr",
          "output_type": "stream",
          "text": [
            "\n",
            "Epoch 5 [Validation]: 100%|██████████| 62/62 [00:14<00:00,  4.39it/s, Val_Loss=132.5453, mIoU=0.2304]\n"
          ]
        },
        {
          "metadata": {
            "tags": null
          },
          "name": "stdout",
          "output_type": "stream",
          "text": [
            "Modello con miou migliore salvato: /content/drive/MyDrive/AML_project/checkpoints/best_model_PIDNET_5_DACS_without_0_class_ohem.pth\n",
            "\n",
            "→ Validation Loss: 8.2841\n",
            "→ Overall mIoU: 0.2304\n",
            "  → background IoU: 0.1845\n",
            "  → building IoU: 0.2725\n",
            "  → road IoU: 0.2336\n",
            "  → water IoU: 0.4128\n",
            "  → barren IoU: 0.1038\n",
            "  → forest IoU: 0.0633\n",
            "  → agriculture IoU: 0.3426\n",
            "[0.000329658544839708]\n"
          ]
        },
        {
          "metadata": {
            "tags": null
          },
          "name": "stderr",
          "output_type": "stream",
          "text": [
            "Epoch 6 [Training]: 100%|██████████| 73/73 [00:34<00:00,  2.13it/s, Loss_seg=18.9764]"
          ]
        },
        {
          "metadata": {
            "tags": null
          },
          "name": "stdout",
          "output_type": "stream",
          "text": [
            "\n",
            "Epoch 6/20 Summary\n",
            "  → Segmentation Source Loss (RAW) : 1.1860\n"
          ]
        },
        {
          "metadata": {
            "tags": null
          },
          "name": "stderr",
          "output_type": "stream",
          "text": [
            "\n",
            "Epoch 6 [Validation]: 100%|██████████| 62/62 [00:14<00:00,  4.38it/s, Val_Loss=142.1063, mIoU=0.2444]\n"
          ]
        },
        {
          "metadata": {
            "tags": null
          },
          "name": "stdout",
          "output_type": "stream",
          "text": [
            "Modello con miou migliore salvato: /content/drive/MyDrive/AML_project/checkpoints/best_model_PIDNET_5_DACS_without_0_class_ohem.pth\n",
            "\n",
            "→ Validation Loss: 8.8816\n",
            "→ Overall mIoU: 0.2444\n",
            "  → background IoU: 0.1473\n",
            "  → building IoU: 0.2967\n",
            "  → road IoU: 0.2594\n",
            "  → water IoU: 0.4671\n",
            "  → barren IoU: 0.0665\n",
            "  → forest IoU: 0.0778\n",
            "  → agriculture IoU: 0.3959\n",
            "[0.000329658544839708]\n"
          ]
        },
        {
          "metadata": {
            "tags": null
          },
          "name": "stderr",
          "output_type": "stream",
          "text": [
            "Epoch 7 [Training]: 100%|██████████| 73/73 [00:34<00:00,  2.10it/s, Loss_seg=18.3012]"
          ]
        },
        {
          "metadata": {
            "tags": null
          },
          "name": "stdout",
          "output_type": "stream",
          "text": [
            "\n",
            "Epoch 7/20 Summary\n",
            "  → Segmentation Source Loss (RAW) : 1.1438\n"
          ]
        },
        {
          "metadata": {
            "tags": null
          },
          "name": "stderr",
          "output_type": "stream",
          "text": [
            "\n",
            "Epoch 7 [Validation]: 100%|██████████| 62/62 [00:14<00:00,  4.36it/s, Val_Loss=137.5221, mIoU=0.2312]"
          ]
        },
        {
          "metadata": {
            "tags": null
          },
          "name": "stdout",
          "output_type": "stream",
          "text": [
            "\n",
            "→ Validation Loss: 8.5951\n",
            "→ Overall mIoU: 0.2312\n",
            "  → background IoU: 0.2599\n",
            "  → building IoU: 0.2702\n",
            "  → road IoU: 0.2142\n",
            "  → water IoU: 0.4274\n",
            "  → barren IoU: 0.0672\n",
            "  → forest IoU: 0.0580\n",
            "  → agriculture IoU: 0.3216\n",
            "[0.000329658544839708]\n"
          ]
        },
        {
          "metadata": {
            "tags": null
          },
          "name": "stderr",
          "output_type": "stream",
          "text": [
            "\n",
            "Epoch 8 [Training]: 100%|██████████| 73/73 [00:34<00:00,  2.09it/s, Loss_seg=18.0493]"
          ]
        },
        {
          "metadata": {
            "tags": null
          },
          "name": "stdout",
          "output_type": "stream",
          "text": [
            "\n",
            "Epoch 8/20 Summary\n",
            "  → Segmentation Source Loss (RAW) : 1.1281\n"
          ]
        },
        {
          "metadata": {
            "tags": null
          },
          "name": "stderr",
          "output_type": "stream",
          "text": [
            "\n",
            "Epoch 8 [Validation]: 100%|██████████| 62/62 [00:14<00:00,  4.38it/s, Val_Loss=117.6579, mIoU=0.2586]\n"
          ]
        },
        {
          "metadata": {
            "tags": null
          },
          "name": "stdout",
          "output_type": "stream",
          "text": [
            "Modello con miou migliore salvato: /content/drive/MyDrive/AML_project/checkpoints/best_model_PIDNET_5_DACS_without_0_class_ohem.pth\n",
            "\n",
            "→ Validation Loss: 7.3536\n",
            "→ Overall mIoU: 0.2586\n",
            "  → background IoU: 0.3005\n",
            "  → building IoU: 0.2804\n",
            "  → road IoU: 0.2470\n",
            "  → water IoU: 0.4537\n",
            "  → barren IoU: 0.0940\n",
            "  → forest IoU: 0.0630\n",
            "  → agriculture IoU: 0.3716\n",
            "[0.000329658544839708]\n"
          ]
        },
        {
          "metadata": {
            "tags": null
          },
          "name": "stderr",
          "output_type": "stream",
          "text": [
            "Epoch 9 [Training]: 100%|██████████| 73/73 [00:35<00:00,  2.07it/s, Loss_seg=18.4913]"
          ]
        },
        {
          "metadata": {
            "tags": null
          },
          "name": "stdout",
          "output_type": "stream",
          "text": [
            "\n",
            "Epoch 9/20 Summary\n",
            "  → Segmentation Source Loss (RAW) : 1.1557\n"
          ]
        },
        {
          "metadata": {
            "tags": null
          },
          "name": "stderr",
          "output_type": "stream",
          "text": [
            "\n",
            "Epoch 9 [Validation]: 100%|██████████| 62/62 [00:14<00:00,  4.39it/s, Val_Loss=138.6421, mIoU=0.2243]"
          ]
        },
        {
          "metadata": {
            "tags": null
          },
          "name": "stdout",
          "output_type": "stream",
          "text": [
            "\n",
            "→ Validation Loss: 8.6651\n",
            "→ Overall mIoU: 0.2243\n",
            "  → background IoU: 0.1735\n",
            "  → building IoU: 0.2481\n",
            "  → road IoU: 0.2361\n",
            "  → water IoU: 0.4141\n",
            "  → barren IoU: 0.0880\n",
            "  → forest IoU: 0.0740\n",
            "  → agriculture IoU: 0.3365\n",
            "[0.000329658544839708]\n"
          ]
        },
        {
          "metadata": {
            "tags": null
          },
          "name": "stderr",
          "output_type": "stream",
          "text": [
            "\n",
            "Epoch 10 [Training]: 100%|██████████| 73/73 [00:34<00:00,  2.09it/s, Loss_seg=17.1547]"
          ]
        },
        {
          "metadata": {
            "tags": null
          },
          "name": "stdout",
          "output_type": "stream",
          "text": [
            "\n",
            "Epoch 10/20 Summary\n",
            "  → Segmentation Source Loss (RAW) : 1.0722\n"
          ]
        },
        {
          "metadata": {
            "tags": null
          },
          "name": "stderr",
          "output_type": "stream",
          "text": [
            "\n",
            "Epoch 10 [Validation]: 100%|██████████| 62/62 [00:14<00:00,  4.41it/s, Val_Loss=142.7567, mIoU=0.2371]"
          ]
        },
        {
          "metadata": {
            "tags": null
          },
          "name": "stdout",
          "output_type": "stream",
          "text": [
            "\n",
            "→ Validation Loss: 8.9223\n",
            "→ Overall mIoU: 0.2371\n",
            "  → background IoU: 0.2199\n",
            "  → building IoU: 0.2592\n",
            "  → road IoU: 0.2612\n",
            "  → water IoU: 0.4273\n",
            "  → barren IoU: 0.0717\n",
            "  → forest IoU: 0.0681\n",
            "  → agriculture IoU: 0.3525\n",
            "[0.000329658544839708]\n"
          ]
        },
        {
          "metadata": {
            "tags": null
          },
          "name": "stderr",
          "output_type": "stream",
          "text": [
            "\n",
            "Epoch 11 [Training]: 100%|██████████| 73/73 [00:35<00:00,  2.08it/s, Loss_seg=16.8830]"
          ]
        },
        {
          "metadata": {
            "tags": null
          },
          "name": "stdout",
          "output_type": "stream",
          "text": [
            "\n",
            "Epoch 11/20 Summary\n",
            "  → Segmentation Source Loss (RAW) : 1.0552\n"
          ]
        },
        {
          "metadata": {
            "tags": null
          },
          "name": "stderr",
          "output_type": "stream",
          "text": [
            "\n",
            "Epoch 11 [Validation]: 100%|██████████| 62/62 [00:14<00:00,  4.39it/s, Val_Loss=135.1098, mIoU=0.2384]"
          ]
        },
        {
          "metadata": {
            "tags": null
          },
          "name": "stdout",
          "output_type": "stream",
          "text": [
            "\n",
            "→ Validation Loss: 8.4444\n",
            "→ Overall mIoU: 0.2384\n",
            "  → background IoU: 0.2476\n",
            "  → building IoU: 0.2433\n",
            "  → road IoU: 0.2339\n",
            "  → water IoU: 0.4363\n",
            "  → barren IoU: 0.0689\n",
            "  → forest IoU: 0.0843\n",
            "  → agriculture IoU: 0.3545\n",
            "[0.000329658544839708]\n"
          ]
        },
        {
          "metadata": {
            "tags": null
          },
          "name": "stderr",
          "output_type": "stream",
          "text": [
            "\n",
            "Epoch 12 [Training]: 100%|██████████| 73/73 [00:35<00:00,  2.08it/s, Loss_seg=16.4905]"
          ]
        },
        {
          "metadata": {
            "tags": null
          },
          "name": "stdout",
          "output_type": "stream",
          "text": [
            "\n",
            "Epoch 12/20 Summary\n",
            "  → Segmentation Source Loss (RAW) : 1.0307\n"
          ]
        },
        {
          "metadata": {
            "tags": null
          },
          "name": "stderr",
          "output_type": "stream",
          "text": [
            "\n",
            "Epoch 12 [Validation]: 100%|██████████| 62/62 [00:14<00:00,  4.37it/s, Val_Loss=126.1686, mIoU=0.2605]\n"
          ]
        },
        {
          "metadata": {
            "tags": null
          },
          "name": "stdout",
          "output_type": "stream",
          "text": [
            "Modello con miou migliore salvato: /content/drive/MyDrive/AML_project/checkpoints/best_model_PIDNET_5_DACS_without_0_class_ohem.pth\n",
            "\n",
            "→ Validation Loss: 7.8855\n",
            "→ Overall mIoU: 0.2605\n",
            "  → background IoU: 0.3883\n",
            "  → building IoU: 0.2680\n",
            "  → road IoU: 0.2135\n",
            "  → water IoU: 0.4647\n",
            "  → barren IoU: 0.1039\n",
            "  → forest IoU: 0.0730\n",
            "  → agriculture IoU: 0.3125\n",
            "[0.000164829272419854]\n"
          ]
        },
        {
          "metadata": {
            "tags": null
          },
          "name": "stderr",
          "output_type": "stream",
          "text": [
            "Epoch 13 [Training]: 100%|██████████| 73/73 [00:34<00:00,  2.12it/s, Loss_seg=15.9389]"
          ]
        },
        {
          "metadata": {
            "tags": null
          },
          "name": "stdout",
          "output_type": "stream",
          "text": [
            "\n",
            "Epoch 13/20 Summary\n",
            "  → Segmentation Source Loss (RAW) : 0.9962\n"
          ]
        },
        {
          "metadata": {
            "tags": null
          },
          "name": "stderr",
          "output_type": "stream",
          "text": [
            "\n",
            "Epoch 13 [Validation]: 100%|██████████| 62/62 [00:14<00:00,  4.40it/s, Val_Loss=137.4230, mIoU=0.2545]"
          ]
        },
        {
          "metadata": {
            "tags": null
          },
          "name": "stdout",
          "output_type": "stream",
          "text": [
            "\n",
            "→ Validation Loss: 8.5889\n",
            "→ Overall mIoU: 0.2545\n",
            "  → background IoU: 0.3362\n",
            "  → building IoU: 0.2516\n",
            "  → road IoU: 0.2098\n",
            "  → water IoU: 0.4986\n",
            "  → barren IoU: 0.1205\n",
            "  → forest IoU: 0.0893\n",
            "  → agriculture IoU: 0.2758\n",
            "[0.000164829272419854]\n"
          ]
        },
        {
          "metadata": {
            "tags": null
          },
          "name": "stderr",
          "output_type": "stream",
          "text": [
            "\n",
            "Epoch 14 [Training]: 100%|██████████| 73/73 [00:34<00:00,  2.12it/s, Loss_seg=15.7191]"
          ]
        },
        {
          "metadata": {
            "tags": null
          },
          "name": "stdout",
          "output_type": "stream",
          "text": [
            "\n",
            "Epoch 14/20 Summary\n",
            "  → Segmentation Source Loss (RAW) : 0.9824\n"
          ]
        },
        {
          "metadata": {
            "tags": null
          },
          "name": "stderr",
          "output_type": "stream",
          "text": [
            "\n",
            "Epoch 14 [Validation]: 100%|██████████| 62/62 [00:14<00:00,  4.38it/s, Val_Loss=137.3504, mIoU=0.2498]"
          ]
        },
        {
          "metadata": {
            "tags": null
          },
          "name": "stdout",
          "output_type": "stream",
          "text": [
            "\n",
            "→ Validation Loss: 8.5844\n",
            "→ Overall mIoU: 0.2498\n",
            "  → background IoU: 0.2574\n",
            "  → building IoU: 0.2579\n",
            "  → road IoU: 0.2425\n",
            "  → water IoU: 0.4818\n",
            "  → barren IoU: 0.0839\n",
            "  → forest IoU: 0.0953\n",
            "  → agriculture IoU: 0.3299\n",
            "[0.000164829272419854]\n"
          ]
        },
        {
          "metadata": {
            "tags": null
          },
          "name": "stderr",
          "output_type": "stream",
          "text": [
            "\n",
            "Epoch 15 [Training]: 100%|██████████| 73/73 [00:34<00:00,  2.09it/s, Loss_seg=15.7105]"
          ]
        },
        {
          "metadata": {
            "tags": null
          },
          "name": "stdout",
          "output_type": "stream",
          "text": [
            "\n",
            "Epoch 15/20 Summary\n",
            "  → Segmentation Source Loss (RAW) : 0.9819\n"
          ]
        },
        {
          "metadata": {
            "tags": null
          },
          "name": "stderr",
          "output_type": "stream",
          "text": [
            "\n",
            "Epoch 15 [Validation]: 100%|██████████| 62/62 [00:14<00:00,  4.40it/s, Val_Loss=147.5768, mIoU=0.2333]"
          ]
        },
        {
          "metadata": {
            "tags": null
          },
          "name": "stdout",
          "output_type": "stream",
          "text": [
            "\n",
            "→ Validation Loss: 9.2235\n",
            "→ Overall mIoU: 0.2333\n",
            "  → background IoU: 0.2675\n",
            "  → building IoU: 0.2654\n",
            "  → road IoU: 0.2197\n",
            "  → water IoU: 0.4028\n",
            "  → barren IoU: 0.0993\n",
            "  → forest IoU: 0.0790\n",
            "  → agriculture IoU: 0.2997\n",
            "[0.000164829272419854]\n"
          ]
        },
        {
          "metadata": {
            "tags": null
          },
          "name": "stderr",
          "output_type": "stream",
          "text": [
            "\n",
            "Epoch 16 [Training]: 100%|██████████| 73/73 [00:34<00:00,  2.11it/s, Loss_seg=15.4140]"
          ]
        },
        {
          "metadata": {
            "tags": null
          },
          "name": "stdout",
          "output_type": "stream",
          "text": [
            "\n",
            "Epoch 16/20 Summary\n",
            "  → Segmentation Source Loss (RAW) : 0.9634\n"
          ]
        },
        {
          "metadata": {
            "tags": null
          },
          "name": "stderr",
          "output_type": "stream",
          "text": [
            "\n",
            "Epoch 16 [Validation]: 100%|██████████| 62/62 [00:14<00:00,  4.38it/s, Val_Loss=143.5987, mIoU=0.2399]"
          ]
        },
        {
          "metadata": {
            "tags": null
          },
          "name": "stdout",
          "output_type": "stream",
          "text": [
            "\n",
            "→ Validation Loss: 8.9749\n",
            "→ Overall mIoU: 0.2399\n",
            "  → background IoU: 0.2707\n",
            "  → building IoU: 0.2543\n",
            "  → road IoU: 0.2282\n",
            "  → water IoU: 0.4249\n",
            "  → barren IoU: 0.0823\n",
            "  → forest IoU: 0.0788\n",
            "  → agriculture IoU: 0.3398\n",
            "[8.2414636209927e-05]\n"
          ]
        },
        {
          "metadata": {
            "tags": null
          },
          "name": "stderr",
          "output_type": "stream",
          "text": [
            "\n",
            "Epoch 17 [Training]: 100%|██████████| 73/73 [00:35<00:00,  2.08it/s, Loss_seg=15.2901]"
          ]
        },
        {
          "metadata": {
            "tags": null
          },
          "name": "stdout",
          "output_type": "stream",
          "text": [
            "\n",
            "Epoch 17/20 Summary\n",
            "  → Segmentation Source Loss (RAW) : 0.9556\n"
          ]
        },
        {
          "metadata": {
            "tags": null
          },
          "name": "stderr",
          "output_type": "stream",
          "text": [
            "\n",
            "Epoch 17 [Validation]: 100%|██████████| 62/62 [00:14<00:00,  4.38it/s, Val_Loss=134.7684, mIoU=0.2464]"
          ]
        },
        {
          "metadata": {
            "tags": null
          },
          "name": "stdout",
          "output_type": "stream",
          "text": [
            "\n",
            "→ Validation Loss: 8.4230\n",
            "→ Overall mIoU: 0.2464\n",
            "  → background IoU: 0.2753\n",
            "  → building IoU: 0.2600\n",
            "  → road IoU: 0.2429\n",
            "  → water IoU: 0.4695\n",
            "  → barren IoU: 0.0866\n",
            "  → forest IoU: 0.0849\n",
            "  → agriculture IoU: 0.3053\n",
            "[8.2414636209927e-05]\n"
          ]
        },
        {
          "metadata": {
            "tags": null
          },
          "name": "stderr",
          "output_type": "stream",
          "text": [
            "\n",
            "Epoch 18 [Training]: 100%|██████████| 73/73 [00:34<00:00,  2.10it/s, Loss_seg=15.2885]"
          ]
        },
        {
          "metadata": {
            "tags": null
          },
          "name": "stdout",
          "output_type": "stream",
          "text": [
            "\n",
            "Epoch 18/20 Summary\n",
            "  → Segmentation Source Loss (RAW) : 0.9555\n"
          ]
        },
        {
          "metadata": {
            "tags": null
          },
          "name": "stderr",
          "output_type": "stream",
          "text": [
            "\n",
            "Epoch 18 [Validation]: 100%|██████████| 62/62 [00:14<00:00,  4.40it/s, Val_Loss=131.9622, mIoU=0.2628]\n"
          ]
        },
        {
          "metadata": {
            "tags": null
          },
          "name": "stdout",
          "output_type": "stream",
          "text": [
            "Modello con miou migliore salvato: /content/drive/MyDrive/AML_project/checkpoints/best_model_PIDNET_5_DACS_without_0_class_ohem.pth\n",
            "\n",
            "→ Validation Loss: 8.2476\n",
            "→ Overall mIoU: 0.2628\n",
            "  → background IoU: 0.3410\n",
            "  → building IoU: 0.2768\n",
            "  → road IoU: 0.2354\n",
            "  → water IoU: 0.4835\n",
            "  → barren IoU: 0.0864\n",
            "  → forest IoU: 0.0955\n",
            "  → agriculture IoU: 0.3207\n",
            "[8.2414636209927e-05]\n"
          ]
        },
        {
          "metadata": {
            "tags": null
          },
          "name": "stderr",
          "output_type": "stream",
          "text": [
            "Epoch 19 [Training]: 100%|██████████| 73/73 [00:34<00:00,  2.11it/s, Loss_seg=15.1397]"
          ]
        },
        {
          "metadata": {
            "tags": null
          },
          "name": "stdout",
          "output_type": "stream",
          "text": [
            "\n",
            "Epoch 19/20 Summary\n",
            "  → Segmentation Source Loss (RAW) : 0.9462\n"
          ]
        },
        {
          "metadata": {
            "tags": null
          },
          "name": "stderr",
          "output_type": "stream",
          "text": [
            "\n",
            "Epoch 19 [Validation]: 100%|██████████| 62/62 [00:14<00:00,  4.39it/s, Val_Loss=139.2637, mIoU=0.2540]"
          ]
        },
        {
          "metadata": {
            "tags": null
          },
          "name": "stdout",
          "output_type": "stream",
          "text": [
            "\n",
            "→ Validation Loss: 8.7040\n",
            "→ Overall mIoU: 0.2540\n",
            "  → background IoU: 0.2931\n",
            "  → building IoU: 0.2958\n",
            "  → road IoU: 0.2298\n",
            "  → water IoU: 0.4658\n",
            "  → barren IoU: 0.0965\n",
            "  → forest IoU: 0.0915\n",
            "  → agriculture IoU: 0.3055\n",
            "[8.2414636209927e-05]\n"
          ]
        },
        {
          "metadata": {
            "tags": null
          },
          "name": "stderr",
          "output_type": "stream",
          "text": [
            "\n",
            "Epoch 20 [Training]: 100%|██████████| 73/73 [00:34<00:00,  2.10it/s, Loss_seg=14.9457]"
          ]
        },
        {
          "metadata": {
            "tags": null
          },
          "name": "stdout",
          "output_type": "stream",
          "text": [
            "\n",
            "Epoch 20/20 Summary\n",
            "  → Segmentation Source Loss (RAW) : 0.9341\n"
          ]
        },
        {
          "metadata": {
            "tags": null
          },
          "name": "stderr",
          "output_type": "stream",
          "text": [
            "\n",
            "Epoch 20 [Validation]: 100%|██████████| 62/62 [00:14<00:00,  4.39it/s, Val_Loss=141.4770, mIoU=0.2370]\n"
          ]
        },
        {
          "metadata": {
            "tags": null
          },
          "name": "stdout",
          "output_type": "stream",
          "text": [
            "\n",
            "→ Validation Loss: 8.8423\n",
            "→ Overall mIoU: 0.2370\n",
            "  → background IoU: 0.2815\n",
            "  → building IoU: 0.2596\n",
            "  → road IoU: 0.2087\n",
            "  → water IoU: 0.4414\n",
            "  → barren IoU: 0.0944\n",
            "  → forest IoU: 0.0839\n",
            "  → agriculture IoU: 0.2898\n",
            "[0.000329658544839708]\n"
          ]
        },
        {
          "metadata": {
            "tags": null
          },
          "name": "stderr",
          "output_type": "stream",
          "text": [
            "Epoch 1 [Training]: 100%|██████████| 73/73 [00:34<00:00,  2.10it/s, Loss_seg=52.3352]"
          ]
        },
        {
          "metadata": {
            "tags": null
          },
          "name": "stdout",
          "output_type": "stream",
          "text": [
            "\n",
            "Epoch 1/20 Summary\n",
            "  → Segmentation Source Loss (RAW) : 3.2710\n"
          ]
        },
        {
          "metadata": {
            "tags": null
          },
          "name": "stderr",
          "output_type": "stream",
          "text": [
            "\n",
            "Epoch 1 [Validation]: 100%|██████████| 62/62 [00:14<00:00,  4.37it/s, Val_Loss=144.6984, mIoU=0.1450]\n"
          ]
        },
        {
          "metadata": {
            "tags": null
          },
          "name": "stdout",
          "output_type": "stream",
          "text": [
            "Modello con miou migliore salvato: /content/drive/MyDrive/AML_project/checkpoints/best_model_PIDNET_5_DACS_without_1_class_ohem.pth\n",
            "\n",
            "→ Validation Loss: 9.0436\n",
            "→ Overall mIoU: 0.1450\n",
            "  → background IoU: 0.2649\n",
            "  → building IoU: 0.1282\n",
            "  → road IoU: 0.1045\n",
            "  → water IoU: 0.3108\n",
            "  → barren IoU: 0.0526\n",
            "  → forest IoU: 0.0385\n",
            "  → agriculture IoU: 0.1157\n",
            "[0.000329658544839708]\n"
          ]
        },
        {
          "metadata": {
            "tags": null
          },
          "name": "stderr",
          "output_type": "stream",
          "text": [
            "Epoch 2 [Training]: 100%|██████████| 73/73 [00:35<00:00,  2.08it/s, Loss_seg=27.5491]"
          ]
        },
        {
          "metadata": {
            "tags": null
          },
          "name": "stdout",
          "output_type": "stream",
          "text": [
            "\n",
            "Epoch 2/20 Summary\n",
            "  → Segmentation Source Loss (RAW) : 1.7218\n"
          ]
        },
        {
          "metadata": {
            "tags": null
          },
          "name": "stderr",
          "output_type": "stream",
          "text": [
            "\n",
            "Epoch 2 [Validation]: 100%|██████████| 62/62 [00:14<00:00,  4.41it/s, Val_Loss=128.7399, mIoU=0.2128]\n"
          ]
        },
        {
          "metadata": {
            "tags": null
          },
          "name": "stdout",
          "output_type": "stream",
          "text": [
            "Modello con miou migliore salvato: /content/drive/MyDrive/AML_project/checkpoints/best_model_PIDNET_5_DACS_without_1_class_ohem.pth\n",
            "\n",
            "→ Validation Loss: 8.0462\n",
            "→ Overall mIoU: 0.2128\n",
            "  → background IoU: 0.3687\n",
            "  → building IoU: 0.1685\n",
            "  → road IoU: 0.1512\n",
            "  → water IoU: 0.3507\n",
            "  → barren IoU: 0.0630\n",
            "  → forest IoU: 0.0536\n",
            "  → agriculture IoU: 0.3341\n",
            "[0.000329658544839708]\n"
          ]
        },
        {
          "metadata": {
            "tags": null
          },
          "name": "stderr",
          "output_type": "stream",
          "text": [
            "Epoch 3 [Training]: 100%|██████████| 73/73 [00:34<00:00,  2.09it/s, Loss_seg=23.9010]"
          ]
        },
        {
          "metadata": {
            "tags": null
          },
          "name": "stdout",
          "output_type": "stream",
          "text": [
            "\n",
            "Epoch 3/20 Summary\n",
            "  → Segmentation Source Loss (RAW) : 1.4938\n"
          ]
        },
        {
          "metadata": {
            "tags": null
          },
          "name": "stderr",
          "output_type": "stream",
          "text": [
            "\n",
            "Epoch 3 [Validation]: 100%|██████████| 62/62 [00:14<00:00,  4.38it/s, Val_Loss=130.0946, mIoU=0.2149]\n"
          ]
        },
        {
          "metadata": {
            "tags": null
          },
          "name": "stdout",
          "output_type": "stream",
          "text": [
            "Modello con miou migliore salvato: /content/drive/MyDrive/AML_project/checkpoints/best_model_PIDNET_5_DACS_without_1_class_ohem.pth\n",
            "\n",
            "→ Validation Loss: 8.1309\n",
            "→ Overall mIoU: 0.2149\n",
            "  → background IoU: 0.3503\n",
            "  → building IoU: 0.2123\n",
            "  → road IoU: 0.1977\n",
            "  → water IoU: 0.3421\n",
            "  → barren IoU: 0.0688\n",
            "  → forest IoU: 0.0459\n",
            "  → agriculture IoU: 0.2868\n",
            "[0.000329658544839708]\n"
          ]
        },
        {
          "metadata": {
            "tags": null
          },
          "name": "stderr",
          "output_type": "stream",
          "text": [
            "Epoch 4 [Training]: 100%|██████████| 73/73 [00:35<00:00,  2.08it/s, Loss_seg=21.5454]"
          ]
        },
        {
          "metadata": {
            "tags": null
          },
          "name": "stdout",
          "output_type": "stream",
          "text": [
            "\n",
            "Epoch 4/20 Summary\n",
            "  → Segmentation Source Loss (RAW) : 1.3466\n"
          ]
        },
        {
          "metadata": {
            "tags": null
          },
          "name": "stderr",
          "output_type": "stream",
          "text": [
            "\n",
            "Epoch 4 [Validation]: 100%|██████████| 62/62 [00:14<00:00,  4.36it/s, Val_Loss=133.0146, mIoU=0.2143]"
          ]
        },
        {
          "metadata": {
            "tags": null
          },
          "name": "stdout",
          "output_type": "stream",
          "text": [
            "\n",
            "→ Validation Loss: 8.3134\n",
            "→ Overall mIoU: 0.2143\n",
            "  → background IoU: 0.3480\n",
            "  → building IoU: 0.1917\n",
            "  → road IoU: 0.1778\n",
            "  → water IoU: 0.3391\n",
            "  → barren IoU: 0.0658\n",
            "  → forest IoU: 0.0411\n",
            "  → agriculture IoU: 0.3365\n",
            "[0.000329658544839708]\n"
          ]
        },
        {
          "metadata": {
            "tags": null
          },
          "name": "stderr",
          "output_type": "stream",
          "text": [
            "\n",
            "Epoch 5 [Training]: 100%|██████████| 73/73 [00:34<00:00,  2.09it/s, Loss_seg=20.3088]"
          ]
        },
        {
          "metadata": {
            "tags": null
          },
          "name": "stdout",
          "output_type": "stream",
          "text": [
            "\n",
            "Epoch 5/20 Summary\n",
            "  → Segmentation Source Loss (RAW) : 1.2693\n"
          ]
        },
        {
          "metadata": {
            "tags": null
          },
          "name": "stderr",
          "output_type": "stream",
          "text": [
            "\n",
            "Epoch 5 [Validation]: 100%|██████████| 62/62 [00:14<00:00,  4.40it/s, Val_Loss=126.8653, mIoU=0.2179]\n"
          ]
        },
        {
          "metadata": {
            "tags": null
          },
          "name": "stdout",
          "output_type": "stream",
          "text": [
            "Modello con miou migliore salvato: /content/drive/MyDrive/AML_project/checkpoints/best_model_PIDNET_5_DACS_without_1_class_ohem.pth\n",
            "\n",
            "→ Validation Loss: 7.9291\n",
            "→ Overall mIoU: 0.2179\n",
            "  → background IoU: 0.3348\n",
            "  → building IoU: 0.1514\n",
            "  → road IoU: 0.2218\n",
            "  → water IoU: 0.3518\n",
            "  → barren IoU: 0.0789\n",
            "  → forest IoU: 0.0390\n",
            "  → agriculture IoU: 0.3479\n",
            "[0.000329658544839708]\n"
          ]
        },
        {
          "metadata": {
            "tags": null
          },
          "name": "stderr",
          "output_type": "stream",
          "text": [
            "Epoch 6 [Training]: 100%|██████████| 73/73 [00:35<00:00,  2.08it/s, Loss_seg=19.2940]"
          ]
        },
        {
          "metadata": {
            "tags": null
          },
          "name": "stdout",
          "output_type": "stream",
          "text": [
            "\n",
            "Epoch 6/20 Summary\n",
            "  → Segmentation Source Loss (RAW) : 1.2059\n"
          ]
        },
        {
          "metadata": {
            "tags": null
          },
          "name": "stderr",
          "output_type": "stream",
          "text": [
            "\n",
            "Epoch 6 [Validation]: 100%|██████████| 62/62 [00:14<00:00,  4.38it/s, Val_Loss=143.3150, mIoU=0.2148]"
          ]
        },
        {
          "metadata": {
            "tags": null
          },
          "name": "stdout",
          "output_type": "stream",
          "text": [
            "\n",
            "→ Validation Loss: 8.9572\n",
            "→ Overall mIoU: 0.2148\n",
            "  → background IoU: 0.3495\n",
            "  → building IoU: 0.0994\n",
            "  → road IoU: 0.2001\n",
            "  → water IoU: 0.4005\n",
            "  → barren IoU: 0.1065\n",
            "  → forest IoU: 0.0413\n",
            "  → agriculture IoU: 0.3062\n",
            "[0.000329658544839708]\n"
          ]
        },
        {
          "metadata": {
            "tags": null
          },
          "name": "stderr",
          "output_type": "stream",
          "text": [
            "\n",
            "Epoch 7 [Training]: 100%|██████████| 73/73 [00:35<00:00,  2.08it/s, Loss_seg=18.6239]"
          ]
        },
        {
          "metadata": {
            "tags": null
          },
          "name": "stdout",
          "output_type": "stream",
          "text": [
            "\n",
            "Epoch 7/20 Summary\n",
            "  → Segmentation Source Loss (RAW) : 1.1640\n"
          ]
        },
        {
          "metadata": {
            "tags": null
          },
          "name": "stderr",
          "output_type": "stream",
          "text": [
            "\n",
            "Epoch 7 [Validation]: 100%|██████████| 62/62 [00:14<00:00,  4.38it/s, Val_Loss=149.0300, mIoU=0.2041]"
          ]
        },
        {
          "metadata": {
            "tags": null
          },
          "name": "stdout",
          "output_type": "stream",
          "text": [
            "\n",
            "→ Validation Loss: 9.3144\n",
            "→ Overall mIoU: 0.2041\n",
            "  → background IoU: 0.2341\n",
            "  → building IoU: 0.1817\n",
            "  → road IoU: 0.2150\n",
            "  → water IoU: 0.3789\n",
            "  → barren IoU: 0.0676\n",
            "  → forest IoU: 0.0571\n",
            "  → agriculture IoU: 0.2943\n",
            "[0.000329658544839708]\n"
          ]
        },
        {
          "metadata": {
            "tags": null
          },
          "name": "stderr",
          "output_type": "stream",
          "text": [
            "\n",
            "Epoch 8 [Training]: 100%|██████████| 73/73 [00:34<00:00,  2.09it/s, Loss_seg=18.0371]"
          ]
        },
        {
          "metadata": {
            "tags": null
          },
          "name": "stdout",
          "output_type": "stream",
          "text": [
            "\n",
            "Epoch 8/20 Summary\n",
            "  → Segmentation Source Loss (RAW) : 1.1273\n"
          ]
        },
        {
          "metadata": {
            "tags": null
          },
          "name": "stderr",
          "output_type": "stream",
          "text": [
            "\n",
            "Epoch 8 [Validation]: 100%|██████████| 62/62 [00:14<00:00,  4.41it/s, Val_Loss=144.0133, mIoU=0.2082]"
          ]
        },
        {
          "metadata": {
            "tags": null
          },
          "name": "stdout",
          "output_type": "stream",
          "text": [
            "\n",
            "→ Validation Loss: 9.0008\n",
            "→ Overall mIoU: 0.2082\n",
            "  → background IoU: 0.2483\n",
            "  → building IoU: 0.1283\n",
            "  → road IoU: 0.2266\n",
            "  → water IoU: 0.4178\n",
            "  → barren IoU: 0.0550\n",
            "  → forest IoU: 0.0463\n",
            "  → agriculture IoU: 0.3353\n",
            "[0.000329658544839708]\n"
          ]
        },
        {
          "metadata": {
            "tags": null
          },
          "name": "stderr",
          "output_type": "stream",
          "text": [
            "\n",
            "Epoch 9 [Training]: 100%|██████████| 73/73 [00:35<00:00,  2.08it/s, Loss_seg=17.5574]"
          ]
        },
        {
          "metadata": {
            "tags": null
          },
          "name": "stdout",
          "output_type": "stream",
          "text": [
            "\n",
            "Epoch 9/20 Summary\n",
            "  → Segmentation Source Loss (RAW) : 1.0973\n"
          ]
        },
        {
          "metadata": {
            "tags": null
          },
          "name": "stderr",
          "output_type": "stream",
          "text": [
            "\n",
            "Epoch 9 [Validation]: 100%|██████████| 62/62 [00:14<00:00,  4.39it/s, Val_Loss=148.0575, mIoU=0.2017]"
          ]
        },
        {
          "metadata": {
            "tags": null
          },
          "name": "stdout",
          "output_type": "stream",
          "text": [
            "\n",
            "→ Validation Loss: 9.2536\n",
            "→ Overall mIoU: 0.2017\n",
            "  → background IoU: 0.3242\n",
            "  → building IoU: 0.1219\n",
            "  → road IoU: 0.1937\n",
            "  → water IoU: 0.4041\n",
            "  → barren IoU: 0.0588\n",
            "  → forest IoU: 0.0437\n",
            "  → agriculture IoU: 0.2656\n",
            "[0.000164829272419854]\n"
          ]
        },
        {
          "metadata": {
            "tags": null
          },
          "name": "stderr",
          "output_type": "stream",
          "text": [
            "\n",
            "Epoch 10 [Training]: 100%|██████████| 73/73 [00:34<00:00,  2.10it/s, Loss_seg=16.8566]"
          ]
        },
        {
          "metadata": {
            "tags": null
          },
          "name": "stdout",
          "output_type": "stream",
          "text": [
            "\n",
            "Epoch 10/20 Summary\n",
            "  → Segmentation Source Loss (RAW) : 1.0535\n"
          ]
        },
        {
          "metadata": {
            "tags": null
          },
          "name": "stderr",
          "output_type": "stream",
          "text": [
            "\n",
            "Epoch 10 [Validation]: 100%|██████████| 62/62 [00:14<00:00,  4.37it/s, Val_Loss=141.8578, mIoU=0.1968]"
          ]
        },
        {
          "metadata": {
            "tags": null
          },
          "name": "stdout",
          "output_type": "stream",
          "text": [
            "\n",
            "→ Validation Loss: 8.8661\n",
            "→ Overall mIoU: 0.1968\n",
            "  → background IoU: 0.2581\n",
            "  → building IoU: 0.1258\n",
            "  → road IoU: 0.2041\n",
            "  → water IoU: 0.3911\n",
            "  → barren IoU: 0.0620\n",
            "  → forest IoU: 0.0427\n",
            "  → agriculture IoU: 0.2941\n",
            "[0.000164829272419854]\n"
          ]
        },
        {
          "metadata": {
            "tags": null
          },
          "name": "stderr",
          "output_type": "stream",
          "text": [
            "\n",
            "Epoch 11 [Training]: 100%|██████████| 73/73 [00:34<00:00,  2.11it/s, Loss_seg=16.6739]"
          ]
        },
        {
          "metadata": {
            "tags": null
          },
          "name": "stdout",
          "output_type": "stream",
          "text": [
            "\n",
            "Epoch 11/20 Summary\n",
            "  → Segmentation Source Loss (RAW) : 1.0421\n"
          ]
        },
        {
          "metadata": {
            "tags": null
          },
          "name": "stderr",
          "output_type": "stream",
          "text": [
            "\n",
            "Epoch 11 [Validation]: 100%|██████████| 62/62 [00:14<00:00,  4.39it/s, Val_Loss=153.5461, mIoU=0.1865]"
          ]
        },
        {
          "metadata": {
            "tags": null
          },
          "name": "stdout",
          "output_type": "stream",
          "text": [
            "\n",
            "→ Validation Loss: 9.5966\n",
            "→ Overall mIoU: 0.1865\n",
            "  → background IoU: 0.1843\n",
            "  → building IoU: 0.1513\n",
            "  → road IoU: 0.1919\n",
            "  → water IoU: 0.4143\n",
            "  → barren IoU: 0.0512\n",
            "  → forest IoU: 0.0530\n",
            "  → agriculture IoU: 0.2597\n",
            "[0.000164829272419854]\n"
          ]
        },
        {
          "metadata": {
            "tags": null
          },
          "name": "stderr",
          "output_type": "stream",
          "text": [
            "\n",
            "Epoch 12 [Training]: 100%|██████████| 73/73 [00:34<00:00,  2.09it/s, Loss_seg=16.4750]"
          ]
        },
        {
          "metadata": {
            "tags": null
          },
          "name": "stdout",
          "output_type": "stream",
          "text": [
            "\n",
            "Epoch 12/20 Summary\n",
            "  → Segmentation Source Loss (RAW) : 1.0297\n"
          ]
        },
        {
          "metadata": {
            "tags": null
          },
          "name": "stderr",
          "output_type": "stream",
          "text": [
            "\n",
            "Epoch 12 [Validation]: 100%|██████████| 62/62 [00:14<00:00,  4.38it/s, Val_Loss=142.2419, mIoU=0.2015]"
          ]
        },
        {
          "metadata": {
            "tags": null
          },
          "name": "stdout",
          "output_type": "stream",
          "text": [
            "\n",
            "→ Validation Loss: 8.8901\n",
            "→ Overall mIoU: 0.2015\n",
            "  → background IoU: 0.2676\n",
            "  → building IoU: 0.1475\n",
            "  → road IoU: 0.1903\n",
            "  → water IoU: 0.4246\n",
            "  → barren IoU: 0.0513\n",
            "  → forest IoU: 0.0371\n",
            "  → agriculture IoU: 0.2920\n",
            "[0.000164829272419854]\n"
          ]
        },
        {
          "metadata": {
            "tags": null
          },
          "name": "stderr",
          "output_type": "stream",
          "text": [
            "\n",
            "Epoch 13 [Training]: 100%|██████████| 73/73 [00:34<00:00,  2.10it/s, Loss_seg=16.2555]"
          ]
        },
        {
          "metadata": {
            "tags": null
          },
          "name": "stdout",
          "output_type": "stream",
          "text": [
            "\n",
            "Epoch 13/20 Summary\n",
            "  → Segmentation Source Loss (RAW) : 1.0160\n"
          ]
        },
        {
          "metadata": {
            "tags": null
          },
          "name": "stderr",
          "output_type": "stream",
          "text": [
            "\n",
            "Epoch 13 [Validation]: 100%|██████████| 62/62 [00:14<00:00,  4.38it/s, Val_Loss=149.7318, mIoU=0.1920]"
          ]
        },
        {
          "metadata": {
            "tags": null
          },
          "name": "stdout",
          "output_type": "stream",
          "text": [
            "\n",
            "→ Validation Loss: 9.3582\n",
            "→ Overall mIoU: 0.1920\n",
            "  → background IoU: 0.2228\n",
            "  → building IoU: 0.1262\n",
            "  → road IoU: 0.2016\n",
            "  → water IoU: 0.4147\n",
            "  → barren IoU: 0.0539\n",
            "  → forest IoU: 0.0422\n",
            "  → agriculture IoU: 0.2822\n",
            "[8.2414636209927e-05]\n"
          ]
        },
        {
          "metadata": {
            "tags": null
          },
          "name": "stderr",
          "output_type": "stream",
          "text": [
            "\n",
            "Epoch 14 [Training]: 100%|██████████| 73/73 [00:35<00:00,  2.08it/s, Loss_seg=16.2001]"
          ]
        },
        {
          "metadata": {
            "tags": null
          },
          "name": "stdout",
          "output_type": "stream",
          "text": [
            "\n",
            "Epoch 14/20 Summary\n",
            "  → Segmentation Source Loss (RAW) : 1.0125\n"
          ]
        },
        {
          "metadata": {
            "tags": null
          },
          "name": "stderr",
          "output_type": "stream",
          "text": [
            "\n",
            "Epoch 14 [Validation]: 100%|██████████| 62/62 [00:14<00:00,  4.35it/s, Val_Loss=143.3838, mIoU=0.2088]"
          ]
        },
        {
          "metadata": {
            "tags": null
          },
          "name": "stdout",
          "output_type": "stream",
          "text": [
            "\n",
            "→ Validation Loss: 8.9615\n",
            "→ Overall mIoU: 0.2088\n",
            "  → background IoU: 0.2825\n",
            "  → building IoU: 0.1113\n",
            "  → road IoU: 0.2159\n",
            "  → water IoU: 0.4401\n",
            "  → barren IoU: 0.0682\n",
            "  → forest IoU: 0.0463\n",
            "  → agriculture IoU: 0.2976\n",
            "[8.2414636209927e-05]\n"
          ]
        },
        {
          "metadata": {
            "tags": null
          },
          "name": "stderr",
          "output_type": "stream",
          "text": [
            "\n",
            "Epoch 15 [Training]: 100%|██████████| 73/73 [00:34<00:00,  2.09it/s, Loss_seg=16.0609]"
          ]
        },
        {
          "metadata": {
            "tags": null
          },
          "name": "stdout",
          "output_type": "stream",
          "text": [
            "\n",
            "Epoch 15/20 Summary\n",
            "  → Segmentation Source Loss (RAW) : 1.0038\n"
          ]
        },
        {
          "metadata": {
            "tags": null
          },
          "name": "stderr",
          "output_type": "stream",
          "text": [
            "\n",
            "Epoch 15 [Validation]: 100%|██████████| 62/62 [00:14<00:00,  4.34it/s, Val_Loss=153.7299, mIoU=0.2089]"
          ]
        },
        {
          "metadata": {
            "tags": null
          },
          "name": "stdout",
          "output_type": "stream",
          "text": [
            "\n",
            "→ Validation Loss: 9.6081\n",
            "→ Overall mIoU: 0.2089\n",
            "  → background IoU: 0.3193\n",
            "  → building IoU: 0.1356\n",
            "  → road IoU: 0.1973\n",
            "  → water IoU: 0.4355\n",
            "  → barren IoU: 0.0640\n",
            "  → forest IoU: 0.0451\n",
            "  → agriculture IoU: 0.2651\n",
            "[8.2414636209927e-05]\n"
          ]
        },
        {
          "metadata": {
            "tags": null
          },
          "name": "stderr",
          "output_type": "stream",
          "text": [
            "\n",
            "Epoch 16 [Training]: 100%|██████████| 73/73 [00:34<00:00,  2.11it/s, Loss_seg=15.8986]"
          ]
        },
        {
          "metadata": {
            "tags": null
          },
          "name": "stdout",
          "output_type": "stream",
          "text": [
            "\n",
            "Epoch 16/20 Summary\n",
            "  → Segmentation Source Loss (RAW) : 0.9937\n"
          ]
        },
        {
          "metadata": {
            "tags": null
          },
          "name": "stderr",
          "output_type": "stream",
          "text": [
            "\n",
            "Epoch 16 [Validation]: 100%|██████████| 62/62 [00:14<00:00,  4.40it/s, Val_Loss=145.0391, mIoU=0.2058]"
          ]
        },
        {
          "metadata": {
            "tags": null
          },
          "name": "stdout",
          "output_type": "stream",
          "text": [
            "\n",
            "→ Validation Loss: 9.0649\n",
            "→ Overall mIoU: 0.2058\n",
            "  → background IoU: 0.2859\n",
            "  → building IoU: 0.1137\n",
            "  → road IoU: 0.2023\n",
            "  → water IoU: 0.4370\n",
            "  → barren IoU: 0.0659\n",
            "  → forest IoU: 0.0507\n",
            "  → agriculture IoU: 0.2850\n",
            "[8.2414636209927e-05]\n"
          ]
        },
        {
          "metadata": {
            "tags": null
          },
          "name": "stderr",
          "output_type": "stream",
          "text": [
            "\n",
            "Epoch 17 [Training]: 100%|██████████| 73/73 [00:34<00:00,  2.11it/s, Loss_seg=15.7125]"
          ]
        },
        {
          "metadata": {
            "tags": null
          },
          "name": "stdout",
          "output_type": "stream",
          "text": [
            "\n",
            "Epoch 17/20 Summary\n",
            "  → Segmentation Source Loss (RAW) : 0.9820\n"
          ]
        },
        {
          "metadata": {
            "tags": null
          },
          "name": "stderr",
          "output_type": "stream",
          "text": [
            "\n",
            "Epoch 17 [Validation]: 100%|██████████| 62/62 [00:14<00:00,  4.40it/s, Val_Loss=152.1932, mIoU=0.2003]"
          ]
        },
        {
          "metadata": {
            "tags": null
          },
          "name": "stdout",
          "output_type": "stream",
          "text": [
            "\n",
            "→ Validation Loss: 9.5121\n",
            "→ Overall mIoU: 0.2003\n",
            "  → background IoU: 0.2321\n",
            "  → building IoU: 0.1514\n",
            "  → road IoU: 0.2113\n",
            "  → water IoU: 0.4133\n",
            "  → barren IoU: 0.0441\n",
            "  → forest IoU: 0.0555\n",
            "  → agriculture IoU: 0.2941\n",
            "[4.12073181049635e-05]\n"
          ]
        },
        {
          "metadata": {
            "tags": null
          },
          "name": "stderr",
          "output_type": "stream",
          "text": [
            "\n",
            "Epoch 18 [Training]: 100%|██████████| 73/73 [00:34<00:00,  2.11it/s, Loss_seg=15.5346]"
          ]
        },
        {
          "metadata": {
            "tags": null
          },
          "name": "stdout",
          "output_type": "stream",
          "text": [
            "\n",
            "Epoch 18/20 Summary\n",
            "  → Segmentation Source Loss (RAW) : 0.9709\n"
          ]
        },
        {
          "metadata": {
            "tags": null
          },
          "name": "stderr",
          "output_type": "stream",
          "text": [
            "\n",
            "Epoch 18 [Validation]: 100%|██████████| 62/62 [00:14<00:00,  4.35it/s, Val_Loss=145.3460, mIoU=0.2051]"
          ]
        },
        {
          "metadata": {
            "tags": null
          },
          "name": "stdout",
          "output_type": "stream",
          "text": [
            "\n",
            "→ Validation Loss: 9.0841\n",
            "→ Overall mIoU: 0.2051\n",
            "  → background IoU: 0.2638\n",
            "  → building IoU: 0.1210\n",
            "  → road IoU: 0.2134\n",
            "  → water IoU: 0.4296\n",
            "  → barren IoU: 0.0562\n",
            "  → forest IoU: 0.0471\n",
            "  → agriculture IoU: 0.3043\n",
            "[4.12073181049635e-05]\n"
          ]
        },
        {
          "metadata": {
            "tags": null
          },
          "name": "stderr",
          "output_type": "stream",
          "text": [
            "\n",
            "Epoch 19 [Training]: 100%|██████████| 73/73 [00:34<00:00,  2.10it/s, Loss_seg=15.7288]"
          ]
        },
        {
          "metadata": {
            "tags": null
          },
          "name": "stdout",
          "output_type": "stream",
          "text": [
            "\n",
            "Epoch 19/20 Summary\n",
            "  → Segmentation Source Loss (RAW) : 0.9830\n"
          ]
        },
        {
          "metadata": {
            "tags": null
          },
          "name": "stderr",
          "output_type": "stream",
          "text": [
            "\n",
            "Epoch 19 [Validation]: 100%|██████████| 62/62 [00:14<00:00,  4.37it/s, Val_Loss=140.0688, mIoU=0.2078]"
          ]
        },
        {
          "metadata": {
            "tags": null
          },
          "name": "stdout",
          "output_type": "stream",
          "text": [
            "\n",
            "→ Validation Loss: 8.7543\n",
            "→ Overall mIoU: 0.2078\n",
            "  → background IoU: 0.2863\n",
            "  → building IoU: 0.1510\n",
            "  → road IoU: 0.2052\n",
            "  → water IoU: 0.4004\n",
            "  → barren IoU: 0.0477\n",
            "  → forest IoU: 0.0527\n",
            "  → agriculture IoU: 0.3113\n",
            "[4.12073181049635e-05]\n"
          ]
        },
        {
          "metadata": {
            "tags": null
          },
          "name": "stderr",
          "output_type": "stream",
          "text": [
            "\n",
            "Epoch 20 [Training]: 100%|██████████| 73/73 [00:34<00:00,  2.10it/s, Loss_seg=15.6061]"
          ]
        },
        {
          "metadata": {
            "tags": null
          },
          "name": "stdout",
          "output_type": "stream",
          "text": [
            "\n",
            "Epoch 20/20 Summary\n",
            "  → Segmentation Source Loss (RAW) : 0.9754\n"
          ]
        },
        {
          "metadata": {
            "tags": null
          },
          "name": "stderr",
          "output_type": "stream",
          "text": [
            "\n",
            "Epoch 20 [Validation]: 100%|██████████| 62/62 [00:14<00:00,  4.38it/s, Val_Loss=146.1515, mIoU=0.2055]\n"
          ]
        },
        {
          "metadata": {
            "tags": null
          },
          "name": "stdout",
          "output_type": "stream",
          "text": [
            "\n",
            "→ Validation Loss: 9.1345\n",
            "→ Overall mIoU: 0.2055\n",
            "  → background IoU: 0.2894\n",
            "  → building IoU: 0.1377\n",
            "  → road IoU: 0.1928\n",
            "  → water IoU: 0.4227\n",
            "  → barren IoU: 0.0629\n",
            "  → forest IoU: 0.0607\n",
            "  → agriculture IoU: 0.2724\n",
            "[0.000329658544839708]\n"
          ]
        },
        {
          "metadata": {
            "tags": null
          },
          "name": "stderr",
          "output_type": "stream",
          "text": [
            "Epoch 1 [Training]: 100%|██████████| 73/73 [00:35<00:00,  2.08it/s, Loss_seg=50.5828]"
          ]
        },
        {
          "metadata": {
            "tags": null
          },
          "name": "stdout",
          "output_type": "stream",
          "text": [
            "\n",
            "Epoch 1/20 Summary\n",
            "  → Segmentation Source Loss (RAW) : 3.1614\n"
          ]
        },
        {
          "metadata": {
            "tags": null
          },
          "name": "stderr",
          "output_type": "stream",
          "text": [
            "\n",
            "Epoch 1 [Validation]: 100%|██████████| 62/62 [00:14<00:00,  4.35it/s, Val_Loss=129.5151, mIoU=0.1878]\n"
          ]
        },
        {
          "metadata": {
            "tags": null
          },
          "name": "stdout",
          "output_type": "stream",
          "text": [
            "Modello con miou migliore salvato: /content/drive/MyDrive/AML_project/checkpoints/best_model_PIDNET_5_DACS_without_2_class_ohem.pth\n",
            "\n",
            "→ Validation Loss: 8.0947\n",
            "→ Overall mIoU: 0.1878\n",
            "  → background IoU: 0.1711\n",
            "  → building IoU: 0.2137\n",
            "  → road IoU: 0.1506\n",
            "  → water IoU: 0.3462\n",
            "  → barren IoU: 0.0436\n",
            "  → forest IoU: 0.0833\n",
            "  → agriculture IoU: 0.3065\n",
            "[0.000329658544839708]\n"
          ]
        },
        {
          "metadata": {
            "tags": null
          },
          "name": "stderr",
          "output_type": "stream",
          "text": [
            "Epoch 2 [Training]: 100%|██████████| 73/73 [00:34<00:00,  2.09it/s, Loss_seg=26.6730]"
          ]
        },
        {
          "metadata": {
            "tags": null
          },
          "name": "stdout",
          "output_type": "stream",
          "text": [
            "\n",
            "Epoch 2/20 Summary\n",
            "  → Segmentation Source Loss (RAW) : 1.6671\n"
          ]
        },
        {
          "metadata": {
            "tags": null
          },
          "name": "stderr",
          "output_type": "stream",
          "text": [
            "\n",
            "Epoch 2 [Validation]: 100%|██████████| 62/62 [00:14<00:00,  4.38it/s, Val_Loss=117.4785, mIoU=0.2432]\n"
          ]
        },
        {
          "metadata": {
            "tags": null
          },
          "name": "stdout",
          "output_type": "stream",
          "text": [
            "Modello con miou migliore salvato: /content/drive/MyDrive/AML_project/checkpoints/best_model_PIDNET_5_DACS_without_2_class_ohem.pth\n",
            "\n",
            "→ Validation Loss: 7.3424\n",
            "→ Overall mIoU: 0.2432\n",
            "  → background IoU: 0.3335\n",
            "  → building IoU: 0.3185\n",
            "  → road IoU: 0.1824\n",
            "  → water IoU: 0.3757\n",
            "  → barren IoU: 0.0500\n",
            "  → forest IoU: 0.0782\n",
            "  → agriculture IoU: 0.3641\n",
            "[0.000329658544839708]\n"
          ]
        },
        {
          "metadata": {
            "tags": null
          },
          "name": "stderr",
          "output_type": "stream",
          "text": [
            "Epoch 3 [Training]: 100%|██████████| 73/73 [00:35<00:00,  2.07it/s, Loss_seg=22.4811]"
          ]
        },
        {
          "metadata": {
            "tags": null
          },
          "name": "stdout",
          "output_type": "stream",
          "text": [
            "\n",
            "Epoch 3/20 Summary\n",
            "  → Segmentation Source Loss (RAW) : 1.4051\n"
          ]
        },
        {
          "metadata": {
            "tags": null
          },
          "name": "stderr",
          "output_type": "stream",
          "text": [
            "\n",
            "Epoch 3 [Validation]: 100%|██████████| 62/62 [00:14<00:00,  4.39it/s, Val_Loss=124.2397, mIoU=0.2156]"
          ]
        },
        {
          "metadata": {
            "tags": null
          },
          "name": "stdout",
          "output_type": "stream",
          "text": [
            "\n",
            "→ Validation Loss: 7.7650\n",
            "→ Overall mIoU: 0.2156\n",
            "  → background IoU: 0.2364\n",
            "  → building IoU: 0.2830\n",
            "  → road IoU: 0.1737\n",
            "  → water IoU: 0.3940\n",
            "  → barren IoU: 0.0460\n",
            "  → forest IoU: 0.0746\n",
            "  → agriculture IoU: 0.3016\n",
            "[0.000329658544839708]\n"
          ]
        },
        {
          "metadata": {
            "tags": null
          },
          "name": "stderr",
          "output_type": "stream",
          "text": [
            "\n",
            "Epoch 4 [Training]: 100%|██████████| 73/73 [00:34<00:00,  2.09it/s, Loss_seg=20.8139]"
          ]
        },
        {
          "metadata": {
            "tags": null
          },
          "name": "stdout",
          "output_type": "stream",
          "text": [
            "\n",
            "Epoch 4/20 Summary\n",
            "  → Segmentation Source Loss (RAW) : 1.3009\n"
          ]
        },
        {
          "metadata": {
            "tags": null
          },
          "name": "stderr",
          "output_type": "stream",
          "text": [
            "\n",
            "Epoch 4 [Validation]: 100%|██████████| 62/62 [00:14<00:00,  4.36it/s, Val_Loss=111.0532, mIoU=0.2521]\n"
          ]
        },
        {
          "metadata": {
            "tags": null
          },
          "name": "stdout",
          "output_type": "stream",
          "text": [
            "Modello con miou migliore salvato: /content/drive/MyDrive/AML_project/checkpoints/best_model_PIDNET_5_DACS_without_2_class_ohem.pth\n",
            "\n",
            "→ Validation Loss: 6.9408\n",
            "→ Overall mIoU: 0.2521\n",
            "  → background IoU: 0.3283\n",
            "  → building IoU: 0.2991\n",
            "  → road IoU: 0.2019\n",
            "  → water IoU: 0.4352\n",
            "  → barren IoU: 0.0580\n",
            "  → forest IoU: 0.0719\n",
            "  → agriculture IoU: 0.3701\n",
            "[0.000329658544839708]\n"
          ]
        },
        {
          "metadata": {
            "tags": null
          },
          "name": "stderr",
          "output_type": "stream",
          "text": [
            "Epoch 5 [Training]: 100%|██████████| 73/73 [00:34<00:00,  2.09it/s, Loss_seg=19.8425]"
          ]
        },
        {
          "metadata": {
            "tags": null
          },
          "name": "stdout",
          "output_type": "stream",
          "text": [
            "\n",
            "Epoch 5/20 Summary\n",
            "  → Segmentation Source Loss (RAW) : 1.2402\n"
          ]
        },
        {
          "metadata": {
            "tags": null
          },
          "name": "stderr",
          "output_type": "stream",
          "text": [
            "\n",
            "Epoch 5 [Validation]: 100%|██████████| 62/62 [00:14<00:00,  4.39it/s, Val_Loss=114.3170, mIoU=0.2428]"
          ]
        },
        {
          "metadata": {
            "tags": null
          },
          "name": "stdout",
          "output_type": "stream",
          "text": [
            "\n",
            "→ Validation Loss: 7.1448\n",
            "→ Overall mIoU: 0.2428\n",
            "  → background IoU: 0.2910\n",
            "  → building IoU: 0.2915\n",
            "  → road IoU: 0.2189\n",
            "  → water IoU: 0.4460\n",
            "  → barren IoU: 0.0491\n",
            "  → forest IoU: 0.0774\n",
            "  → agriculture IoU: 0.3257\n",
            "[0.000329658544839708]\n"
          ]
        },
        {
          "metadata": {
            "tags": null
          },
          "name": "stderr",
          "output_type": "stream",
          "text": [
            "\n",
            "Epoch 6 [Training]: 100%|██████████| 73/73 [00:34<00:00,  2.11it/s, Loss_seg=18.5296]"
          ]
        },
        {
          "metadata": {
            "tags": null
          },
          "name": "stdout",
          "output_type": "stream",
          "text": [
            "\n",
            "Epoch 6/20 Summary\n",
            "  → Segmentation Source Loss (RAW) : 1.1581\n"
          ]
        },
        {
          "metadata": {
            "tags": null
          },
          "name": "stderr",
          "output_type": "stream",
          "text": [
            "\n",
            "Epoch 6 [Validation]: 100%|██████████| 62/62 [00:14<00:00,  4.37it/s, Val_Loss=116.5964, mIoU=0.2242]"
          ]
        },
        {
          "metadata": {
            "tags": null
          },
          "name": "stdout",
          "output_type": "stream",
          "text": [
            "\n",
            "→ Validation Loss: 7.2873\n",
            "→ Overall mIoU: 0.2242\n",
            "  → background IoU: 0.2691\n",
            "  → building IoU: 0.2697\n",
            "  → road IoU: 0.2026\n",
            "  → water IoU: 0.4184\n",
            "  → barren IoU: 0.0404\n",
            "  → forest IoU: 0.0583\n",
            "  → agriculture IoU: 0.3108\n",
            "[0.000329658544839708]\n"
          ]
        },
        {
          "metadata": {
            "tags": null
          },
          "name": "stderr",
          "output_type": "stream",
          "text": [
            "\n",
            "Epoch 7 [Training]: 100%|██████████| 73/73 [00:34<00:00,  2.10it/s, Loss_seg=18.5051]"
          ]
        },
        {
          "metadata": {
            "tags": null
          },
          "name": "stdout",
          "output_type": "stream",
          "text": [
            "\n",
            "Epoch 7/20 Summary\n",
            "  → Segmentation Source Loss (RAW) : 1.1566\n"
          ]
        },
        {
          "metadata": {
            "tags": null
          },
          "name": "stderr",
          "output_type": "stream",
          "text": [
            "\n",
            "Epoch 7 [Validation]: 100%|██████████| 62/62 [00:14<00:00,  4.38it/s, Val_Loss=127.4003, mIoU=0.2524]\n"
          ]
        },
        {
          "metadata": {
            "tags": null
          },
          "name": "stdout",
          "output_type": "stream",
          "text": [
            "Modello con miou migliore salvato: /content/drive/MyDrive/AML_project/checkpoints/best_model_PIDNET_5_DACS_without_2_class_ohem.pth\n",
            "\n",
            "→ Validation Loss: 7.9625\n",
            "→ Overall mIoU: 0.2524\n",
            "  → background IoU: 0.4167\n",
            "  → building IoU: 0.1807\n",
            "  → road IoU: 0.2084\n",
            "  → water IoU: 0.4787\n",
            "  → barren IoU: 0.0857\n",
            "  → forest IoU: 0.0578\n",
            "  → agriculture IoU: 0.3389\n",
            "[0.000329658544839708]\n"
          ]
        },
        {
          "metadata": {
            "tags": null
          },
          "name": "stderr",
          "output_type": "stream",
          "text": [
            "Epoch 8 [Training]: 100%|██████████| 73/73 [00:34<00:00,  2.10it/s, Loss_seg=17.9657]"
          ]
        },
        {
          "metadata": {
            "tags": null
          },
          "name": "stdout",
          "output_type": "stream",
          "text": [
            "\n",
            "Epoch 8/20 Summary\n",
            "  → Segmentation Source Loss (RAW) : 1.1229\n"
          ]
        },
        {
          "metadata": {
            "tags": null
          },
          "name": "stderr",
          "output_type": "stream",
          "text": [
            "\n",
            "Epoch 8 [Validation]: 100%|██████████| 62/62 [00:14<00:00,  4.37it/s, Val_Loss=124.0035, mIoU=0.2592]\n"
          ]
        },
        {
          "metadata": {
            "tags": null
          },
          "name": "stdout",
          "output_type": "stream",
          "text": [
            "Modello con miou migliore salvato: /content/drive/MyDrive/AML_project/checkpoints/best_model_PIDNET_5_DACS_without_2_class_ohem.pth\n",
            "\n",
            "→ Validation Loss: 7.7502\n",
            "→ Overall mIoU: 0.2592\n",
            "  → background IoU: 0.4051\n",
            "  → building IoU: 0.2287\n",
            "  → road IoU: 0.2151\n",
            "  → water IoU: 0.4967\n",
            "  → barren IoU: 0.0550\n",
            "  → forest IoU: 0.0755\n",
            "  → agriculture IoU: 0.3382\n",
            "[0.000329658544839708]\n"
          ]
        },
        {
          "metadata": {
            "tags": null
          },
          "name": "stderr",
          "output_type": "stream",
          "text": [
            "Epoch 9 [Training]: 100%|██████████| 73/73 [00:35<00:00,  2.08it/s, Loss_seg=17.4954]"
          ]
        },
        {
          "metadata": {
            "tags": null
          },
          "name": "stdout",
          "output_type": "stream",
          "text": [
            "\n",
            "Epoch 9/20 Summary\n",
            "  → Segmentation Source Loss (RAW) : 1.0935\n"
          ]
        },
        {
          "metadata": {
            "tags": null
          },
          "name": "stderr",
          "output_type": "stream",
          "text": [
            "\n",
            "Epoch 9 [Validation]: 100%|██████████| 62/62 [00:14<00:00,  4.39it/s, Val_Loss=119.8851, mIoU=0.2442]"
          ]
        },
        {
          "metadata": {
            "tags": null
          },
          "name": "stdout",
          "output_type": "stream",
          "text": [
            "\n",
            "→ Validation Loss: 7.4928\n",
            "→ Overall mIoU: 0.2442\n",
            "  → background IoU: 0.3326\n",
            "  → building IoU: 0.2425\n",
            "  → road IoU: 0.2098\n",
            "  → water IoU: 0.5194\n",
            "  → barren IoU: 0.0533\n",
            "  → forest IoU: 0.0555\n",
            "  → agriculture IoU: 0.2965\n",
            "[0.000329658544839708]\n"
          ]
        },
        {
          "metadata": {
            "tags": null
          },
          "name": "stderr",
          "output_type": "stream",
          "text": [
            "\n",
            "Epoch 10 [Training]: 100%|██████████| 73/73 [00:34<00:00,  2.09it/s, Loss_seg=16.8676]"
          ]
        },
        {
          "metadata": {
            "tags": null
          },
          "name": "stdout",
          "output_type": "stream",
          "text": [
            "\n",
            "Epoch 10/20 Summary\n",
            "  → Segmentation Source Loss (RAW) : 1.0542\n"
          ]
        },
        {
          "metadata": {
            "tags": null
          },
          "name": "stderr",
          "output_type": "stream",
          "text": [
            "\n",
            "Epoch 10 [Validation]: 100%|██████████| 62/62 [00:14<00:00,  4.37it/s, Val_Loss=120.2402, mIoU=0.2303]"
          ]
        },
        {
          "metadata": {
            "tags": null
          },
          "name": "stdout",
          "output_type": "stream",
          "text": [
            "\n",
            "→ Validation Loss: 7.5150\n",
            "→ Overall mIoU: 0.2303\n",
            "  → background IoU: 0.3056\n",
            "  → building IoU: 0.1805\n",
            "  → road IoU: 0.1994\n",
            "  → water IoU: 0.5159\n",
            "  → barren IoU: 0.0588\n",
            "  → forest IoU: 0.0622\n",
            "  → agriculture IoU: 0.2895\n",
            "[0.000329658544839708]\n"
          ]
        },
        {
          "metadata": {
            "tags": null
          },
          "name": "stderr",
          "output_type": "stream",
          "text": [
            "\n",
            "Epoch 11 [Training]: 100%|██████████| 73/73 [00:34<00:00,  2.11it/s, Loss_seg=16.5723]"
          ]
        },
        {
          "metadata": {
            "tags": null
          },
          "name": "stdout",
          "output_type": "stream",
          "text": [
            "\n",
            "Epoch 11/20 Summary\n",
            "  → Segmentation Source Loss (RAW) : 1.0358\n"
          ]
        },
        {
          "metadata": {
            "tags": null
          },
          "name": "stderr",
          "output_type": "stream",
          "text": [
            "\n",
            "Epoch 11 [Validation]: 100%|██████████| 62/62 [00:14<00:00,  4.36it/s, Val_Loss=121.0757, mIoU=0.2508]"
          ]
        },
        {
          "metadata": {
            "tags": null
          },
          "name": "stdout",
          "output_type": "stream",
          "text": [
            "\n",
            "→ Validation Loss: 7.5672\n",
            "→ Overall mIoU: 0.2508\n",
            "  → background IoU: 0.3041\n",
            "  → building IoU: 0.2822\n",
            "  → road IoU: 0.2372\n",
            "  → water IoU: 0.4838\n",
            "  → barren IoU: 0.0507\n",
            "  → forest IoU: 0.0704\n",
            "  → agriculture IoU: 0.3274\n",
            "[0.000329658544839708]\n"
          ]
        },
        {
          "metadata": {
            "tags": null
          },
          "name": "stderr",
          "output_type": "stream",
          "text": [
            "\n",
            "Epoch 12 [Training]: 100%|██████████| 73/73 [00:34<00:00,  2.10it/s, Loss_seg=16.1461]"
          ]
        },
        {
          "metadata": {
            "tags": null
          },
          "name": "stdout",
          "output_type": "stream",
          "text": [
            "\n",
            "Epoch 12/20 Summary\n",
            "  → Segmentation Source Loss (RAW) : 1.0091\n"
          ]
        },
        {
          "metadata": {
            "tags": null
          },
          "name": "stderr",
          "output_type": "stream",
          "text": [
            "\n",
            "Epoch 12 [Validation]: 100%|██████████| 62/62 [00:14<00:00,  4.40it/s, Val_Loss=127.2840, mIoU=0.2296]"
          ]
        },
        {
          "metadata": {
            "tags": null
          },
          "name": "stdout",
          "output_type": "stream",
          "text": [
            "\n",
            "→ Validation Loss: 7.9553\n",
            "→ Overall mIoU: 0.2296\n",
            "  → background IoU: 0.2788\n",
            "  → building IoU: 0.2557\n",
            "  → road IoU: 0.1976\n",
            "  → water IoU: 0.5006\n",
            "  → barren IoU: 0.0514\n",
            "  → forest IoU: 0.0716\n",
            "  → agriculture IoU: 0.2515\n",
            "[0.000164829272419854]\n"
          ]
        },
        {
          "metadata": {
            "tags": null
          },
          "name": "stderr",
          "output_type": "stream",
          "text": [
            "\n",
            "Epoch 13 [Training]: 100%|██████████| 73/73 [00:34<00:00,  2.11it/s, Loss_seg=15.7379]"
          ]
        },
        {
          "metadata": {
            "tags": null
          },
          "name": "stdout",
          "output_type": "stream",
          "text": [
            "\n",
            "Epoch 13/20 Summary\n",
            "  → Segmentation Source Loss (RAW) : 0.9836\n"
          ]
        },
        {
          "metadata": {
            "tags": null
          },
          "name": "stderr",
          "output_type": "stream",
          "text": [
            "\n",
            "Epoch 13 [Validation]: 100%|██████████| 62/62 [00:14<00:00,  4.36it/s, Val_Loss=129.4919, mIoU=0.2405]"
          ]
        },
        {
          "metadata": {
            "tags": null
          },
          "name": "stdout",
          "output_type": "stream",
          "text": [
            "\n",
            "→ Validation Loss: 8.0932\n",
            "→ Overall mIoU: 0.2405\n",
            "  → background IoU: 0.3290\n",
            "  → building IoU: 0.2691\n",
            "  → road IoU: 0.2214\n",
            "  → water IoU: 0.4603\n",
            "  → barren IoU: 0.0473\n",
            "  → forest IoU: 0.0686\n",
            "  → agriculture IoU: 0.2881\n",
            "[0.000164829272419854]\n"
          ]
        },
        {
          "metadata": {
            "tags": null
          },
          "name": "stderr",
          "output_type": "stream",
          "text": [
            "\n",
            "Epoch 14 [Training]: 100%|██████████| 73/73 [00:34<00:00,  2.13it/s, Loss_seg=15.6872]"
          ]
        },
        {
          "metadata": {
            "tags": null
          },
          "name": "stdout",
          "output_type": "stream",
          "text": [
            "\n",
            "Epoch 14/20 Summary\n",
            "  → Segmentation Source Loss (RAW) : 0.9805\n"
          ]
        },
        {
          "metadata": {
            "tags": null
          },
          "name": "stderr",
          "output_type": "stream",
          "text": [
            "\n",
            "Epoch 14 [Validation]: 100%|██████████| 62/62 [00:14<00:00,  4.37it/s, Val_Loss=121.7344, mIoU=0.2311]"
          ]
        },
        {
          "metadata": {
            "tags": null
          },
          "name": "stdout",
          "output_type": "stream",
          "text": [
            "\n",
            "→ Validation Loss: 7.6084\n",
            "→ Overall mIoU: 0.2311\n",
            "  → background IoU: 0.3364\n",
            "  → building IoU: 0.1942\n",
            "  → road IoU: 0.2081\n",
            "  → water IoU: 0.4743\n",
            "  → barren IoU: 0.0558\n",
            "  → forest IoU: 0.0579\n",
            "  → agriculture IoU: 0.2912\n",
            "[0.000164829272419854]\n"
          ]
        },
        {
          "metadata": {
            "tags": null
          },
          "name": "stderr",
          "output_type": "stream",
          "text": [
            "\n",
            "Epoch 15 [Training]: 100%|██████████| 73/73 [00:35<00:00,  2.07it/s, Loss_seg=15.4427]"
          ]
        },
        {
          "metadata": {
            "tags": null
          },
          "name": "stdout",
          "output_type": "stream",
          "text": [
            "\n",
            "Epoch 15/20 Summary\n",
            "  → Segmentation Source Loss (RAW) : 0.9652\n"
          ]
        },
        {
          "metadata": {
            "tags": null
          },
          "name": "stderr",
          "output_type": "stream",
          "text": [
            "\n",
            "Epoch 15 [Validation]: 100%|██████████| 62/62 [00:14<00:00,  4.38it/s, Val_Loss=130.1115, mIoU=0.2301]"
          ]
        },
        {
          "metadata": {
            "tags": null
          },
          "name": "stdout",
          "output_type": "stream",
          "text": [
            "\n",
            "→ Validation Loss: 8.1320\n",
            "→ Overall mIoU: 0.2301\n",
            "  → background IoU: 0.3899\n",
            "  → building IoU: 0.1936\n",
            "  → road IoU: 0.1909\n",
            "  → water IoU: 0.4354\n",
            "  → barren IoU: 0.0762\n",
            "  → forest IoU: 0.0617\n",
            "  → agriculture IoU: 0.2631\n",
            "[0.000164829272419854]\n"
          ]
        },
        {
          "metadata": {
            "tags": null
          },
          "name": "stderr",
          "output_type": "stream",
          "text": [
            "\n",
            "Epoch 16 [Training]: 100%|██████████| 73/73 [00:34<00:00,  2.11it/s, Loss_seg=15.3741]"
          ]
        },
        {
          "metadata": {
            "tags": null
          },
          "name": "stdout",
          "output_type": "stream",
          "text": [
            "\n",
            "Epoch 16/20 Summary\n",
            "  → Segmentation Source Loss (RAW) : 0.9609\n"
          ]
        },
        {
          "metadata": {
            "tags": null
          },
          "name": "stderr",
          "output_type": "stream",
          "text": [
            "\n",
            "Epoch 16 [Validation]: 100%|██████████| 62/62 [00:14<00:00,  4.37it/s, Val_Loss=125.4054, mIoU=0.2568]"
          ]
        },
        {
          "metadata": {
            "tags": null
          },
          "name": "stdout",
          "output_type": "stream",
          "text": [
            "\n",
            "→ Validation Loss: 7.8378\n",
            "→ Overall mIoU: 0.2568\n",
            "  → background IoU: 0.3701\n",
            "  → building IoU: 0.2431\n",
            "  → road IoU: 0.2245\n",
            "  → water IoU: 0.5362\n",
            "  → barren IoU: 0.0686\n",
            "  → forest IoU: 0.0693\n",
            "  → agriculture IoU: 0.2862\n",
            "[8.2414636209927e-05]\n"
          ]
        },
        {
          "metadata": {
            "tags": null
          },
          "name": "stderr",
          "output_type": "stream",
          "text": [
            "\n",
            "Epoch 17 [Training]: 100%|██████████| 73/73 [00:35<00:00,  2.08it/s, Loss_seg=15.3882]"
          ]
        },
        {
          "metadata": {
            "tags": null
          },
          "name": "stdout",
          "output_type": "stream",
          "text": [
            "\n",
            "Epoch 17/20 Summary\n",
            "  → Segmentation Source Loss (RAW) : 0.9618\n"
          ]
        },
        {
          "metadata": {
            "tags": null
          },
          "name": "stderr",
          "output_type": "stream",
          "text": [
            "\n",
            "Epoch 17 [Validation]: 100%|██████████| 62/62 [00:14<00:00,  4.34it/s, Val_Loss=128.3138, mIoU=0.2546]"
          ]
        },
        {
          "metadata": {
            "tags": null
          },
          "name": "stdout",
          "output_type": "stream",
          "text": [
            "\n",
            "→ Validation Loss: 8.0196\n",
            "→ Overall mIoU: 0.2546\n",
            "  → background IoU: 0.3743\n",
            "  → building IoU: 0.2489\n",
            "  → road IoU: 0.2316\n",
            "  → water IoU: 0.4887\n",
            "  → barren IoU: 0.0665\n",
            "  → forest IoU: 0.0661\n",
            "  → agriculture IoU: 0.3060\n",
            "[8.2414636209927e-05]\n"
          ]
        },
        {
          "metadata": {
            "tags": null
          },
          "name": "stderr",
          "output_type": "stream",
          "text": [
            "\n",
            "Epoch 18 [Training]: 100%|██████████| 73/73 [00:34<00:00,  2.11it/s, Loss_seg=15.0844]"
          ]
        },
        {
          "metadata": {
            "tags": null
          },
          "name": "stdout",
          "output_type": "stream",
          "text": [
            "\n",
            "Epoch 18/20 Summary\n",
            "  → Segmentation Source Loss (RAW) : 0.9428\n"
          ]
        },
        {
          "metadata": {
            "tags": null
          },
          "name": "stderr",
          "output_type": "stream",
          "text": [
            "\n",
            "Epoch 18 [Validation]: 100%|██████████| 62/62 [00:14<00:00,  4.39it/s, Val_Loss=129.3407, mIoU=0.2506]"
          ]
        },
        {
          "metadata": {
            "tags": null
          },
          "name": "stdout",
          "output_type": "stream",
          "text": [
            "\n",
            "→ Validation Loss: 8.0838\n",
            "→ Overall mIoU: 0.2506\n",
            "  → background IoU: 0.3548\n",
            "  → building IoU: 0.2500\n",
            "  → road IoU: 0.2185\n",
            "  → water IoU: 0.5010\n",
            "  → barren IoU: 0.0683\n",
            "  → forest IoU: 0.0750\n",
            "  → agriculture IoU: 0.2863\n",
            "[8.2414636209927e-05]\n"
          ]
        },
        {
          "metadata": {
            "tags": null
          },
          "name": "stderr",
          "output_type": "stream",
          "text": [
            "\n",
            "Epoch 19 [Training]: 100%|██████████| 73/73 [00:34<00:00,  2.10it/s, Loss_seg=15.0328]"
          ]
        },
        {
          "metadata": {
            "tags": null
          },
          "name": "stdout",
          "output_type": "stream",
          "text": [
            "\n",
            "Epoch 19/20 Summary\n",
            "  → Segmentation Source Loss (RAW) : 0.9396\n"
          ]
        },
        {
          "metadata": {
            "tags": null
          },
          "name": "stderr",
          "output_type": "stream",
          "text": [
            "\n",
            "Epoch 19 [Validation]: 100%|██████████| 62/62 [00:14<00:00,  4.38it/s, Val_Loss=126.7401, mIoU=0.2513]"
          ]
        },
        {
          "metadata": {
            "tags": null
          },
          "name": "stdout",
          "output_type": "stream",
          "text": [
            "\n",
            "→ Validation Loss: 7.9213\n",
            "→ Overall mIoU: 0.2513\n",
            "  → background IoU: 0.3876\n",
            "  → building IoU: 0.2098\n",
            "  → road IoU: 0.2165\n",
            "  → water IoU: 0.5078\n",
            "  → barren IoU: 0.0713\n",
            "  → forest IoU: 0.0670\n",
            "  → agriculture IoU: 0.2989\n",
            "[8.2414636209927e-05]\n"
          ]
        },
        {
          "metadata": {
            "tags": null
          },
          "name": "stderr",
          "output_type": "stream",
          "text": [
            "\n",
            "Epoch 20 [Training]: 100%|██████████| 73/73 [00:34<00:00,  2.12it/s, Loss_seg=14.8680]"
          ]
        },
        {
          "metadata": {
            "tags": null
          },
          "name": "stdout",
          "output_type": "stream",
          "text": [
            "\n",
            "Epoch 20/20 Summary\n",
            "  → Segmentation Source Loss (RAW) : 0.9293\n"
          ]
        },
        {
          "metadata": {
            "tags": null
          },
          "name": "stderr",
          "output_type": "stream",
          "text": [
            "\n",
            "Epoch 20 [Validation]: 100%|██████████| 62/62 [00:14<00:00,  4.39it/s, Val_Loss=129.1332, mIoU=0.2552]\n"
          ]
        },
        {
          "metadata": {
            "tags": null
          },
          "name": "stdout",
          "output_type": "stream",
          "text": [
            "\n",
            "→ Validation Loss: 8.0708\n",
            "→ Overall mIoU: 0.2552\n",
            "  → background IoU: 0.3583\n",
            "  → building IoU: 0.2356\n",
            "  → road IoU: 0.2256\n",
            "  → water IoU: 0.5210\n",
            "  → barren IoU: 0.0785\n",
            "  → forest IoU: 0.0787\n",
            "  → agriculture IoU: 0.2885\n",
            "[0.000329658544839708]\n"
          ]
        },
        {
          "metadata": {
            "tags": null
          },
          "name": "stderr",
          "output_type": "stream",
          "text": [
            "Epoch 1 [Training]: 100%|██████████| 73/73 [00:34<00:00,  2.09it/s, Loss_seg=50.9807]"
          ]
        },
        {
          "metadata": {
            "tags": null
          },
          "name": "stdout",
          "output_type": "stream",
          "text": [
            "\n",
            "Epoch 1/20 Summary\n",
            "  → Segmentation Source Loss (RAW) : 3.1863\n"
          ]
        },
        {
          "metadata": {
            "tags": null
          },
          "name": "stderr",
          "output_type": "stream",
          "text": [
            "\n",
            "Epoch 1 [Validation]: 100%|██████████| 62/62 [00:14<00:00,  4.34it/s, Val_Loss=142.6655, mIoU=0.1590]\n"
          ]
        },
        {
          "metadata": {
            "tags": null
          },
          "name": "stdout",
          "output_type": "stream",
          "text": [
            "Modello con miou migliore salvato: /content/drive/MyDrive/AML_project/checkpoints/best_model_PIDNET_5_DACS_without_3_class_ohem.pth\n",
            "\n",
            "→ Validation Loss: 8.9166\n",
            "→ Overall mIoU: 0.1590\n",
            "  → background IoU: 0.0579\n",
            "  → building IoU: 0.1883\n",
            "  → road IoU: 0.1589\n",
            "  → water IoU: 0.2952\n",
            "  → barren IoU: 0.0636\n",
            "  → forest IoU: 0.0951\n",
            "  → agriculture IoU: 0.2541\n",
            "[0.000329658544839708]\n"
          ]
        },
        {
          "metadata": {
            "tags": null
          },
          "name": "stderr",
          "output_type": "stream",
          "text": [
            "Epoch 2 [Training]: 100%|██████████| 73/73 [00:34<00:00,  2.10it/s, Loss_seg=27.3338]"
          ]
        },
        {
          "metadata": {
            "tags": null
          },
          "name": "stdout",
          "output_type": "stream",
          "text": [
            "\n",
            "Epoch 2/20 Summary\n",
            "  → Segmentation Source Loss (RAW) : 1.7084\n"
          ]
        },
        {
          "metadata": {
            "tags": null
          },
          "name": "stderr",
          "output_type": "stream",
          "text": [
            "\n",
            "Epoch 2 [Validation]: 100%|██████████| 62/62 [00:14<00:00,  4.35it/s, Val_Loss=121.8269, mIoU=0.2071]\n"
          ]
        },
        {
          "metadata": {
            "tags": null
          },
          "name": "stdout",
          "output_type": "stream",
          "text": [
            "Modello con miou migliore salvato: /content/drive/MyDrive/AML_project/checkpoints/best_model_PIDNET_5_DACS_without_3_class_ohem.pth\n",
            "\n",
            "→ Validation Loss: 7.6142\n",
            "→ Overall mIoU: 0.2071\n",
            "  → background IoU: 0.2087\n",
            "  → building IoU: 0.2284\n",
            "  → road IoU: 0.1805\n",
            "  → water IoU: 0.3372\n",
            "  → barren IoU: 0.0644\n",
            "  → forest IoU: 0.1000\n",
            "  → agriculture IoU: 0.3304\n",
            "[0.000329658544839708]\n"
          ]
        },
        {
          "metadata": {
            "tags": null
          },
          "name": "stderr",
          "output_type": "stream",
          "text": [
            "Epoch 3 [Training]: 100%|██████████| 73/73 [00:35<00:00,  2.09it/s, Loss_seg=23.2554]"
          ]
        },
        {
          "metadata": {
            "tags": null
          },
          "name": "stdout",
          "output_type": "stream",
          "text": [
            "\n",
            "Epoch 3/20 Summary\n",
            "  → Segmentation Source Loss (RAW) : 1.4535\n"
          ]
        },
        {
          "metadata": {
            "tags": null
          },
          "name": "stderr",
          "output_type": "stream",
          "text": [
            "\n",
            "Epoch 3 [Validation]: 100%|██████████| 62/62 [00:14<00:00,  4.38it/s, Val_Loss=121.4527, mIoU=0.2117]\n"
          ]
        },
        {
          "metadata": {
            "tags": null
          },
          "name": "stdout",
          "output_type": "stream",
          "text": [
            "Modello con miou migliore salvato: /content/drive/MyDrive/AML_project/checkpoints/best_model_PIDNET_5_DACS_without_3_class_ohem.pth\n",
            "\n",
            "→ Validation Loss: 7.5908\n",
            "→ Overall mIoU: 0.2117\n",
            "  → background IoU: 0.1599\n",
            "  → building IoU: 0.2941\n",
            "  → road IoU: 0.1885\n",
            "  → water IoU: 0.3362\n",
            "  → barren IoU: 0.0733\n",
            "  → forest IoU: 0.1046\n",
            "  → agriculture IoU: 0.3251\n",
            "[0.000329658544839708]\n"
          ]
        },
        {
          "metadata": {
            "tags": null
          },
          "name": "stderr",
          "output_type": "stream",
          "text": [
            "Epoch 4 [Training]: 100%|██████████| 73/73 [00:34<00:00,  2.09it/s, Loss_seg=20.8555]"
          ]
        },
        {
          "metadata": {
            "tags": null
          },
          "name": "stdout",
          "output_type": "stream",
          "text": [
            "\n",
            "Epoch 4/20 Summary\n",
            "  → Segmentation Source Loss (RAW) : 1.3035\n"
          ]
        },
        {
          "metadata": {
            "tags": null
          },
          "name": "stderr",
          "output_type": "stream",
          "text": [
            "\n",
            "Epoch 4 [Validation]: 100%|██████████| 62/62 [00:14<00:00,  4.38it/s, Val_Loss=134.9838, mIoU=0.2050]"
          ]
        },
        {
          "metadata": {
            "tags": null
          },
          "name": "stdout",
          "output_type": "stream",
          "text": [
            "\n",
            "→ Validation Loss: 8.4365\n",
            "→ Overall mIoU: 0.2050\n",
            "  → background IoU: 0.1281\n",
            "  → building IoU: 0.2616\n",
            "  → road IoU: 0.2135\n",
            "  → water IoU: 0.3486\n",
            "  → barren IoU: 0.0995\n",
            "  → forest IoU: 0.0962\n",
            "  → agriculture IoU: 0.2874\n",
            "[0.000329658544839708]\n"
          ]
        },
        {
          "metadata": {
            "tags": null
          },
          "name": "stderr",
          "output_type": "stream",
          "text": [
            "\n",
            "Epoch 5 [Training]: 100%|██████████| 73/73 [00:35<00:00,  2.08it/s, Loss_seg=20.1000]"
          ]
        },
        {
          "metadata": {
            "tags": null
          },
          "name": "stdout",
          "output_type": "stream",
          "text": [
            "\n",
            "Epoch 5/20 Summary\n",
            "  → Segmentation Source Loss (RAW) : 1.2562\n"
          ]
        },
        {
          "metadata": {
            "tags": null
          },
          "name": "stderr",
          "output_type": "stream",
          "text": [
            "\n",
            "Epoch 5 [Validation]: 100%|██████████| 62/62 [00:14<00:00,  4.35it/s, Val_Loss=140.5190, mIoU=0.2246]\n"
          ]
        },
        {
          "metadata": {
            "tags": null
          },
          "name": "stdout",
          "output_type": "stream",
          "text": [
            "Modello con miou migliore salvato: /content/drive/MyDrive/AML_project/checkpoints/best_model_PIDNET_5_DACS_without_3_class_ohem.pth\n",
            "\n",
            "→ Validation Loss: 8.7824\n",
            "→ Overall mIoU: 0.2246\n",
            "  → background IoU: 0.1811\n",
            "  → building IoU: 0.2827\n",
            "  → road IoU: 0.2136\n",
            "  → water IoU: 0.3855\n",
            "  → barren IoU: 0.0563\n",
            "  → forest IoU: 0.1164\n",
            "  → agriculture IoU: 0.3367\n",
            "[0.000329658544839708]\n"
          ]
        },
        {
          "metadata": {
            "tags": null
          },
          "name": "stderr",
          "output_type": "stream",
          "text": [
            "Epoch 6 [Training]: 100%|██████████| 73/73 [00:34<00:00,  2.09it/s, Loss_seg=19.4673]"
          ]
        },
        {
          "metadata": {
            "tags": null
          },
          "name": "stdout",
          "output_type": "stream",
          "text": [
            "\n",
            "Epoch 6/20 Summary\n",
            "  → Segmentation Source Loss (RAW) : 1.2167\n"
          ]
        },
        {
          "metadata": {
            "tags": null
          },
          "name": "stderr",
          "output_type": "stream",
          "text": [
            "\n",
            "Epoch 6 [Validation]: 100%|██████████| 62/62 [00:14<00:00,  4.37it/s, Val_Loss=137.7877, mIoU=0.2027]"
          ]
        },
        {
          "metadata": {
            "tags": null
          },
          "name": "stdout",
          "output_type": "stream",
          "text": [
            "\n",
            "→ Validation Loss: 8.6117\n",
            "→ Overall mIoU: 0.2027\n",
            "  → background IoU: 0.0884\n",
            "  → building IoU: 0.2987\n",
            "  → road IoU: 0.2144\n",
            "  → water IoU: 0.3524\n",
            "  → barren IoU: 0.0440\n",
            "  → forest IoU: 0.1267\n",
            "  → agriculture IoU: 0.2945\n",
            "[0.000329658544839708]\n"
          ]
        },
        {
          "metadata": {
            "tags": null
          },
          "name": "stderr",
          "output_type": "stream",
          "text": [
            "\n",
            "Epoch 7 [Training]: 100%|██████████| 73/73 [00:34<00:00,  2.10it/s, Loss_seg=18.2621]"
          ]
        },
        {
          "metadata": {
            "tags": null
          },
          "name": "stdout",
          "output_type": "stream",
          "text": [
            "\n",
            "Epoch 7/20 Summary\n",
            "  → Segmentation Source Loss (RAW) : 1.1414\n"
          ]
        },
        {
          "metadata": {
            "tags": null
          },
          "name": "stderr",
          "output_type": "stream",
          "text": [
            "\n",
            "Epoch 7 [Validation]: 100%|██████████| 62/62 [00:14<00:00,  4.35it/s, Val_Loss=141.6207, mIoU=0.2187]"
          ]
        },
        {
          "metadata": {
            "tags": null
          },
          "name": "stdout",
          "output_type": "stream",
          "text": [
            "\n",
            "→ Validation Loss: 8.8513\n",
            "→ Overall mIoU: 0.2187\n",
            "  → background IoU: 0.1884\n",
            "  → building IoU: 0.2575\n",
            "  → road IoU: 0.2096\n",
            "  → water IoU: 0.3700\n",
            "  → barren IoU: 0.0971\n",
            "  → forest IoU: 0.0959\n",
            "  → agriculture IoU: 0.3127\n",
            "[0.000329658544839708]\n"
          ]
        },
        {
          "metadata": {
            "tags": null
          },
          "name": "stderr",
          "output_type": "stream",
          "text": [
            "\n",
            "Epoch 8 [Training]: 100%|██████████| 73/73 [00:34<00:00,  2.11it/s, Loss_seg=17.5941]"
          ]
        },
        {
          "metadata": {
            "tags": null
          },
          "name": "stdout",
          "output_type": "stream",
          "text": [
            "\n",
            "Epoch 8/20 Summary\n",
            "  → Segmentation Source Loss (RAW) : 1.0996\n"
          ]
        },
        {
          "metadata": {
            "tags": null
          },
          "name": "stderr",
          "output_type": "stream",
          "text": [
            "\n",
            "Epoch 8 [Validation]: 100%|██████████| 62/62 [00:14<00:00,  4.38it/s, Val_Loss=134.3781, mIoU=0.2308]\n"
          ]
        },
        {
          "metadata": {
            "tags": null
          },
          "name": "stdout",
          "output_type": "stream",
          "text": [
            "Modello con miou migliore salvato: /content/drive/MyDrive/AML_project/checkpoints/best_model_PIDNET_5_DACS_without_3_class_ohem.pth\n",
            "\n",
            "→ Validation Loss: 8.3986\n",
            "→ Overall mIoU: 0.2308\n",
            "  → background IoU: 0.1171\n",
            "  → building IoU: 0.3477\n",
            "  → road IoU: 0.2398\n",
            "  → water IoU: 0.3944\n",
            "  → barren IoU: 0.0807\n",
            "  → forest IoU: 0.1044\n",
            "  → agriculture IoU: 0.3317\n",
            "[0.000329658544839708]\n"
          ]
        },
        {
          "metadata": {
            "tags": null
          },
          "name": "stderr",
          "output_type": "stream",
          "text": [
            "Epoch 9 [Training]: 100%|██████████| 73/73 [00:34<00:00,  2.11it/s, Loss_seg=17.1383]"
          ]
        },
        {
          "metadata": {
            "tags": null
          },
          "name": "stdout",
          "output_type": "stream",
          "text": [
            "\n",
            "Epoch 9/20 Summary\n",
            "  → Segmentation Source Loss (RAW) : 1.0711\n"
          ]
        },
        {
          "metadata": {
            "tags": null
          },
          "name": "stderr",
          "output_type": "stream",
          "text": [
            "\n",
            "Epoch 9 [Validation]: 100%|██████████| 62/62 [00:14<00:00,  4.37it/s, Val_Loss=139.3633, mIoU=0.2157]"
          ]
        },
        {
          "metadata": {
            "tags": null
          },
          "name": "stdout",
          "output_type": "stream",
          "text": [
            "\n",
            "→ Validation Loss: 8.7102\n",
            "→ Overall mIoU: 0.2157\n",
            "  → background IoU: 0.1312\n",
            "  → building IoU: 0.3047\n",
            "  → road IoU: 0.2178\n",
            "  → water IoU: 0.3834\n",
            "  → barren IoU: 0.1156\n",
            "  → forest IoU: 0.0949\n",
            "  → agriculture IoU: 0.2625\n",
            "[0.000329658544839708]\n"
          ]
        },
        {
          "metadata": {
            "tags": null
          },
          "name": "stderr",
          "output_type": "stream",
          "text": [
            "\n",
            "Epoch 10 [Training]: 100%|██████████| 73/73 [00:34<00:00,  2.11it/s, Loss_seg=16.9212]"
          ]
        },
        {
          "metadata": {
            "tags": null
          },
          "name": "stdout",
          "output_type": "stream",
          "text": [
            "\n",
            "Epoch 10/20 Summary\n",
            "  → Segmentation Source Loss (RAW) : 1.0576\n"
          ]
        },
        {
          "metadata": {
            "tags": null
          },
          "name": "stderr",
          "output_type": "stream",
          "text": [
            "\n",
            "Epoch 10 [Validation]: 100%|██████████| 62/62 [00:14<00:00,  4.37it/s, Val_Loss=139.8953, mIoU=0.2406]\n"
          ]
        },
        {
          "metadata": {
            "tags": null
          },
          "name": "stdout",
          "output_type": "stream",
          "text": [
            "Modello con miou migliore salvato: /content/drive/MyDrive/AML_project/checkpoints/best_model_PIDNET_5_DACS_without_3_class_ohem.pth\n",
            "\n",
            "→ Validation Loss: 8.7435\n",
            "→ Overall mIoU: 0.2406\n",
            "  → background IoU: 0.2386\n",
            "  → building IoU: 0.3239\n",
            "  → road IoU: 0.2255\n",
            "  → water IoU: 0.3874\n",
            "  → barren IoU: 0.1125\n",
            "  → forest IoU: 0.1001\n",
            "  → agriculture IoU: 0.2964\n",
            "[0.000329658544839708]\n"
          ]
        },
        {
          "metadata": {
            "tags": null
          },
          "name": "stderr",
          "output_type": "stream",
          "text": [
            "Epoch 11 [Training]: 100%|██████████| 73/73 [00:34<00:00,  2.11it/s, Loss_seg=16.8225]"
          ]
        },
        {
          "metadata": {
            "tags": null
          },
          "name": "stdout",
          "output_type": "stream",
          "text": [
            "\n",
            "Epoch 11/20 Summary\n",
            "  → Segmentation Source Loss (RAW) : 1.0514\n"
          ]
        },
        {
          "metadata": {
            "tags": null
          },
          "name": "stderr",
          "output_type": "stream",
          "text": [
            "\n",
            "Epoch 11 [Validation]: 100%|██████████| 62/62 [00:14<00:00,  4.39it/s, Val_Loss=143.5244, mIoU=0.2255]"
          ]
        },
        {
          "metadata": {
            "tags": null
          },
          "name": "stdout",
          "output_type": "stream",
          "text": [
            "\n",
            "→ Validation Loss: 8.9703\n",
            "→ Overall mIoU: 0.2255\n",
            "  → background IoU: 0.1755\n",
            "  → building IoU: 0.3134\n",
            "  → road IoU: 0.2431\n",
            "  → water IoU: 0.3532\n",
            "  → barren IoU: 0.0561\n",
            "  → forest IoU: 0.1110\n",
            "  → agriculture IoU: 0.3261\n",
            "[0.000329658544839708]\n"
          ]
        },
        {
          "metadata": {
            "tags": null
          },
          "name": "stderr",
          "output_type": "stream",
          "text": [
            "\n",
            "Epoch 12 [Training]: 100%|██████████| 73/73 [00:35<00:00,  2.07it/s, Loss_seg=16.3552]"
          ]
        },
        {
          "metadata": {
            "tags": null
          },
          "name": "stdout",
          "output_type": "stream",
          "text": [
            "\n",
            "Epoch 12/20 Summary\n",
            "  → Segmentation Source Loss (RAW) : 1.0222\n"
          ]
        },
        {
          "metadata": {
            "tags": null
          },
          "name": "stderr",
          "output_type": "stream",
          "text": [
            "\n",
            "Epoch 12 [Validation]: 100%|██████████| 62/62 [00:14<00:00,  4.38it/s, Val_Loss=147.0424, mIoU=0.2226]"
          ]
        },
        {
          "metadata": {
            "tags": null
          },
          "name": "stdout",
          "output_type": "stream",
          "text": [
            "\n",
            "→ Validation Loss: 9.1901\n",
            "→ Overall mIoU: 0.2226\n",
            "  → background IoU: 0.1897\n",
            "  → building IoU: 0.3126\n",
            "  → road IoU: 0.2454\n",
            "  → water IoU: 0.3531\n",
            "  → barren IoU: 0.0387\n",
            "  → forest IoU: 0.1267\n",
            "  → agriculture IoU: 0.2920\n",
            "[0.000329658544839708]\n"
          ]
        },
        {
          "metadata": {
            "tags": null
          },
          "name": "stderr",
          "output_type": "stream",
          "text": [
            "\n",
            "Epoch 13 [Training]: 100%|██████████| 73/73 [00:34<00:00,  2.09it/s, Loss_seg=16.2085]"
          ]
        },
        {
          "metadata": {
            "tags": null
          },
          "name": "stdout",
          "output_type": "stream",
          "text": [
            "\n",
            "Epoch 13/20 Summary\n",
            "  → Segmentation Source Loss (RAW) : 1.0130\n"
          ]
        },
        {
          "metadata": {
            "tags": null
          },
          "name": "stderr",
          "output_type": "stream",
          "text": [
            "\n",
            "Epoch 13 [Validation]: 100%|██████████| 62/62 [00:14<00:00,  4.38it/s, Val_Loss=157.9926, mIoU=0.2292]"
          ]
        },
        {
          "metadata": {
            "tags": null
          },
          "name": "stdout",
          "output_type": "stream",
          "text": [
            "\n",
            "→ Validation Loss: 9.8745\n",
            "→ Overall mIoU: 0.2292\n",
            "  → background IoU: 0.2376\n",
            "  → building IoU: 0.2915\n",
            "  → road IoU: 0.2637\n",
            "  → water IoU: 0.3532\n",
            "  → barren IoU: 0.0489\n",
            "  → forest IoU: 0.1145\n",
            "  → agriculture IoU: 0.2950\n",
            "[0.000329658544839708]\n"
          ]
        },
        {
          "metadata": {
            "tags": null
          },
          "name": "stderr",
          "output_type": "stream",
          "text": [
            "\n",
            "Epoch 14 [Training]: 100%|██████████| 73/73 [00:34<00:00,  2.09it/s, Loss_seg=15.6183]"
          ]
        },
        {
          "metadata": {
            "tags": null
          },
          "name": "stdout",
          "output_type": "stream",
          "text": [
            "\n",
            "Epoch 14/20 Summary\n",
            "  → Segmentation Source Loss (RAW) : 0.9761\n"
          ]
        },
        {
          "metadata": {
            "tags": null
          },
          "name": "stderr",
          "output_type": "stream",
          "text": [
            "\n",
            "Epoch 14 [Validation]: 100%|██████████| 62/62 [00:14<00:00,  4.39it/s, Val_Loss=162.1141, mIoU=0.2328]"
          ]
        },
        {
          "metadata": {
            "tags": null
          },
          "name": "stdout",
          "output_type": "stream",
          "text": [
            "\n",
            "→ Validation Loss: 10.1321\n",
            "→ Overall mIoU: 0.2328\n",
            "  → background IoU: 0.2645\n",
            "  → building IoU: 0.2697\n",
            "  → road IoU: 0.2647\n",
            "  → water IoU: 0.3648\n",
            "  → barren IoU: 0.0993\n",
            "  → forest IoU: 0.1066\n",
            "  → agriculture IoU: 0.2598\n",
            "[0.000164829272419854]\n"
          ]
        },
        {
          "metadata": {
            "tags": null
          },
          "name": "stderr",
          "output_type": "stream",
          "text": [
            "\n",
            "Epoch 15 [Training]: 100%|██████████| 73/73 [00:34<00:00,  2.09it/s, Loss_seg=15.3109]"
          ]
        },
        {
          "metadata": {
            "tags": null
          },
          "name": "stdout",
          "output_type": "stream",
          "text": [
            "\n",
            "Epoch 15/20 Summary\n",
            "  → Segmentation Source Loss (RAW) : 0.9569\n"
          ]
        },
        {
          "metadata": {
            "tags": null
          },
          "name": "stderr",
          "output_type": "stream",
          "text": [
            "\n",
            "Epoch 15 [Validation]: 100%|██████████| 62/62 [00:14<00:00,  4.35it/s, Val_Loss=155.7797, mIoU=0.2160]"
          ]
        },
        {
          "metadata": {
            "tags": null
          },
          "name": "stdout",
          "output_type": "stream",
          "text": [
            "\n",
            "→ Validation Loss: 9.7362\n",
            "→ Overall mIoU: 0.2160\n",
            "  → background IoU: 0.2214\n",
            "  → building IoU: 0.2473\n",
            "  → road IoU: 0.2285\n",
            "  → water IoU: 0.3652\n",
            "  → barren IoU: 0.0754\n",
            "  → forest IoU: 0.1122\n",
            "  → agriculture IoU: 0.2623\n",
            "[0.000164829272419854]\n"
          ]
        },
        {
          "metadata": {
            "tags": null
          },
          "name": "stderr",
          "output_type": "stream",
          "text": [
            "\n",
            "Epoch 16 [Training]: 100%|██████████| 73/73 [00:34<00:00,  2.11it/s, Loss_seg=14.9164]"
          ]
        },
        {
          "metadata": {
            "tags": null
          },
          "name": "stdout",
          "output_type": "stream",
          "text": [
            "\n",
            "Epoch 16/20 Summary\n",
            "  → Segmentation Source Loss (RAW) : 0.9323\n"
          ]
        },
        {
          "metadata": {
            "tags": null
          },
          "name": "stderr",
          "output_type": "stream",
          "text": [
            "\n",
            "Epoch 16 [Validation]: 100%|██████████| 62/62 [00:14<00:00,  4.39it/s, Val_Loss=161.1544, mIoU=0.2297]"
          ]
        },
        {
          "metadata": {
            "tags": null
          },
          "name": "stdout",
          "output_type": "stream",
          "text": [
            "\n",
            "→ Validation Loss: 10.0722\n",
            "→ Overall mIoU: 0.2297\n",
            "  → background IoU: 0.2809\n",
            "  → building IoU: 0.3035\n",
            "  → road IoU: 0.2210\n",
            "  → water IoU: 0.3477\n",
            "  → barren IoU: 0.0734\n",
            "  → forest IoU: 0.1122\n",
            "  → agriculture IoU: 0.2688\n",
            "[0.000164829272419854]\n"
          ]
        },
        {
          "metadata": {
            "tags": null
          },
          "name": "stderr",
          "output_type": "stream",
          "text": [
            "\n",
            "Epoch 17 [Training]: 100%|██████████| 73/73 [00:34<00:00,  2.11it/s, Loss_seg=14.9686]"
          ]
        },
        {
          "metadata": {
            "tags": null
          },
          "name": "stdout",
          "output_type": "stream",
          "text": [
            "\n",
            "Epoch 17/20 Summary\n",
            "  → Segmentation Source Loss (RAW) : 0.9355\n"
          ]
        },
        {
          "metadata": {
            "tags": null
          },
          "name": "stderr",
          "output_type": "stream",
          "text": [
            "\n",
            "Epoch 17 [Validation]: 100%|██████████| 62/62 [00:14<00:00,  4.40it/s, Val_Loss=153.3800, mIoU=0.2330]"
          ]
        },
        {
          "metadata": {
            "tags": null
          },
          "name": "stdout",
          "output_type": "stream",
          "text": [
            "\n",
            "→ Validation Loss: 9.5862\n",
            "→ Overall mIoU: 0.2330\n",
            "  → background IoU: 0.2221\n",
            "  → building IoU: 0.3287\n",
            "  → road IoU: 0.2555\n",
            "  → water IoU: 0.3605\n",
            "  → barren IoU: 0.0688\n",
            "  → forest IoU: 0.1017\n",
            "  → agriculture IoU: 0.2937\n",
            "[0.000164829272419854]\n"
          ]
        },
        {
          "metadata": {
            "tags": null
          },
          "name": "stderr",
          "output_type": "stream",
          "text": [
            "\n",
            "Epoch 18 [Training]: 100%|██████████| 73/73 [00:34<00:00,  2.09it/s, Loss_seg=14.7943]"
          ]
        },
        {
          "metadata": {
            "tags": null
          },
          "name": "stdout",
          "output_type": "stream",
          "text": [
            "\n",
            "Epoch 18/20 Summary\n",
            "  → Segmentation Source Loss (RAW) : 0.9246\n"
          ]
        },
        {
          "metadata": {
            "tags": null
          },
          "name": "stderr",
          "output_type": "stream",
          "text": [
            "\n",
            "Epoch 18 [Validation]: 100%|██████████| 62/62 [00:14<00:00,  4.36it/s, Val_Loss=161.4996, mIoU=0.2165]"
          ]
        },
        {
          "metadata": {
            "tags": null
          },
          "name": "stdout",
          "output_type": "stream",
          "text": [
            "\n",
            "→ Validation Loss: 10.0937\n",
            "→ Overall mIoU: 0.2165\n",
            "  → background IoU: 0.2151\n",
            "  → building IoU: 0.2699\n",
            "  → road IoU: 0.2243\n",
            "  → water IoU: 0.3572\n",
            "  → barren IoU: 0.0830\n",
            "  → forest IoU: 0.0946\n",
            "  → agriculture IoU: 0.2713\n",
            "[8.2414636209927e-05]\n"
          ]
        },
        {
          "metadata": {
            "tags": null
          },
          "name": "stderr",
          "output_type": "stream",
          "text": [
            "\n",
            "Epoch 19 [Training]: 100%|██████████| 73/73 [00:34<00:00,  2.12it/s, Loss_seg=14.8463]"
          ]
        },
        {
          "metadata": {
            "tags": null
          },
          "name": "stdout",
          "output_type": "stream",
          "text": [
            "\n",
            "Epoch 19/20 Summary\n",
            "  → Segmentation Source Loss (RAW) : 0.9279\n"
          ]
        },
        {
          "metadata": {
            "tags": null
          },
          "name": "stderr",
          "output_type": "stream",
          "text": [
            "\n",
            "Epoch 19 [Validation]: 100%|██████████| 62/62 [00:14<00:00,  4.37it/s, Val_Loss=156.1602, mIoU=0.2258]"
          ]
        },
        {
          "metadata": {
            "tags": null
          },
          "name": "stdout",
          "output_type": "stream",
          "text": [
            "\n",
            "→ Validation Loss: 9.7600\n",
            "→ Overall mIoU: 0.2258\n",
            "  → background IoU: 0.2115\n",
            "  → building IoU: 0.3006\n",
            "  → road IoU: 0.2374\n",
            "  → water IoU: 0.3810\n",
            "  → barren IoU: 0.0607\n",
            "  → forest IoU: 0.1046\n",
            "  → agriculture IoU: 0.2844\n",
            "[8.2414636209927e-05]\n"
          ]
        },
        {
          "metadata": {
            "tags": null
          },
          "name": "stderr",
          "output_type": "stream",
          "text": [
            "\n",
            "Epoch 20 [Training]: 100%|██████████| 73/73 [00:34<00:00,  2.09it/s, Loss_seg=14.4064]"
          ]
        },
        {
          "metadata": {
            "tags": null
          },
          "name": "stdout",
          "output_type": "stream",
          "text": [
            "\n",
            "Epoch 20/20 Summary\n",
            "  → Segmentation Source Loss (RAW) : 0.9004\n"
          ]
        },
        {
          "metadata": {
            "tags": null
          },
          "name": "stderr",
          "output_type": "stream",
          "text": [
            "\n",
            "Epoch 20 [Validation]: 100%|██████████| 62/62 [00:14<00:00,  4.39it/s, Val_Loss=156.5436, mIoU=0.2280]\n"
          ]
        },
        {
          "metadata": {
            "tags": null
          },
          "name": "stdout",
          "output_type": "stream",
          "text": [
            "\n",
            "→ Validation Loss: 9.7840\n",
            "→ Overall mIoU: 0.2280\n",
            "  → background IoU: 0.2091\n",
            "  → building IoU: 0.3152\n",
            "  → road IoU: 0.2520\n",
            "  → water IoU: 0.3640\n",
            "  → barren IoU: 0.0671\n",
            "  → forest IoU: 0.1053\n",
            "  → agriculture IoU: 0.2831\n",
            "[0.000329658544839708]\n"
          ]
        },
        {
          "metadata": {
            "tags": null
          },
          "name": "stderr",
          "output_type": "stream",
          "text": [
            "Epoch 1 [Training]: 100%|██████████| 73/73 [00:35<00:00,  2.07it/s, Loss_seg=49.0670]"
          ]
        },
        {
          "metadata": {
            "tags": null
          },
          "name": "stdout",
          "output_type": "stream",
          "text": [
            "\n",
            "Epoch 1/20 Summary\n",
            "  → Segmentation Source Loss (RAW) : 3.0667\n"
          ]
        },
        {
          "metadata": {
            "tags": null
          },
          "name": "stderr",
          "output_type": "stream",
          "text": [
            "\n",
            "Epoch 1 [Validation]: 100%|██████████| 62/62 [00:14<00:00,  4.38it/s, Val_Loss=131.7274, mIoU=0.1771]\n"
          ]
        },
        {
          "metadata": {
            "tags": null
          },
          "name": "stdout",
          "output_type": "stream",
          "text": [
            "Modello con miou migliore salvato: /content/drive/MyDrive/AML_project/checkpoints/best_model_PIDNET_5_DACS_without_4_class_ohem.pth\n",
            "\n",
            "→ Validation Loss: 8.2330\n",
            "→ Overall mIoU: 0.1771\n",
            "  → background IoU: 0.1367\n",
            "  → building IoU: 0.2237\n",
            "  → road IoU: 0.1051\n",
            "  → water IoU: 0.3069\n",
            "  → barren IoU: 0.0514\n",
            "  → forest IoU: 0.0844\n",
            "  → agriculture IoU: 0.3318\n",
            "[0.000329658544839708]\n"
          ]
        },
        {
          "metadata": {
            "tags": null
          },
          "name": "stderr",
          "output_type": "stream",
          "text": [
            "Epoch 2 [Training]: 100%|██████████| 73/73 [00:34<00:00,  2.09it/s, Loss_seg=25.8779]"
          ]
        },
        {
          "metadata": {
            "tags": null
          },
          "name": "stdout",
          "output_type": "stream",
          "text": [
            "\n",
            "Epoch 2/20 Summary\n",
            "  → Segmentation Source Loss (RAW) : 1.6174\n"
          ]
        },
        {
          "metadata": {
            "tags": null
          },
          "name": "stderr",
          "output_type": "stream",
          "text": [
            "\n",
            "Epoch 2 [Validation]: 100%|██████████| 62/62 [00:14<00:00,  4.39it/s, Val_Loss=118.7921, mIoU=0.2129]\n"
          ]
        },
        {
          "metadata": {
            "tags": null
          },
          "name": "stdout",
          "output_type": "stream",
          "text": [
            "Modello con miou migliore salvato: /content/drive/MyDrive/AML_project/checkpoints/best_model_PIDNET_5_DACS_without_4_class_ohem.pth\n",
            "\n",
            "→ Validation Loss: 7.4245\n",
            "→ Overall mIoU: 0.2129\n",
            "  → background IoU: 0.2189\n",
            "  → building IoU: 0.1903\n",
            "  → road IoU: 0.1385\n",
            "  → water IoU: 0.3777\n",
            "  → barren IoU: 0.1149\n",
            "  → forest IoU: 0.0982\n",
            "  → agriculture IoU: 0.3515\n",
            "[0.000329658544839708]\n"
          ]
        },
        {
          "metadata": {
            "tags": null
          },
          "name": "stderr",
          "output_type": "stream",
          "text": [
            "Epoch 3 [Training]: 100%|██████████| 73/73 [00:35<00:00,  2.07it/s, Loss_seg=22.0737]"
          ]
        },
        {
          "metadata": {
            "tags": null
          },
          "name": "stdout",
          "output_type": "stream",
          "text": [
            "\n",
            "Epoch 3/20 Summary\n",
            "  → Segmentation Source Loss (RAW) : 1.3796\n"
          ]
        },
        {
          "metadata": {
            "tags": null
          },
          "name": "stderr",
          "output_type": "stream",
          "text": [
            "\n",
            "Epoch 3 [Validation]: 100%|██████████| 62/62 [00:14<00:00,  4.36it/s, Val_Loss=121.8224, mIoU=0.2150]\n"
          ]
        },
        {
          "metadata": {
            "tags": null
          },
          "name": "stdout",
          "output_type": "stream",
          "text": [
            "Modello con miou migliore salvato: /content/drive/MyDrive/AML_project/checkpoints/best_model_PIDNET_5_DACS_without_4_class_ohem.pth\n",
            "\n",
            "→ Validation Loss: 7.6139\n",
            "→ Overall mIoU: 0.2150\n",
            "  → background IoU: 0.2274\n",
            "  → building IoU: 0.2230\n",
            "  → road IoU: 0.1782\n",
            "  → water IoU: 0.3640\n",
            "  → barren IoU: 0.0681\n",
            "  → forest IoU: 0.1078\n",
            "  → agriculture IoU: 0.3363\n",
            "[0.000329658544839708]\n"
          ]
        },
        {
          "metadata": {
            "tags": null
          },
          "name": "stderr",
          "output_type": "stream",
          "text": [
            "Epoch 4 [Training]: 100%|██████████| 73/73 [00:35<00:00,  2.06it/s, Loss_seg=20.5893]"
          ]
        },
        {
          "metadata": {
            "tags": null
          },
          "name": "stdout",
          "output_type": "stream",
          "text": [
            "\n",
            "Epoch 4/20 Summary\n",
            "  → Segmentation Source Loss (RAW) : 1.2868\n"
          ]
        },
        {
          "metadata": {
            "tags": null
          },
          "name": "stderr",
          "output_type": "stream",
          "text": [
            "\n",
            "Epoch 4 [Validation]: 100%|██████████| 62/62 [00:14<00:00,  4.38it/s, Val_Loss=112.3740, mIoU=0.2129]"
          ]
        },
        {
          "metadata": {
            "tags": null
          },
          "name": "stdout",
          "output_type": "stream",
          "text": [
            "\n",
            "→ Validation Loss: 7.0234\n",
            "→ Overall mIoU: 0.2129\n",
            "  → background IoU: 0.2158\n",
            "  → building IoU: 0.1720\n",
            "  → road IoU: 0.2107\n",
            "  → water IoU: 0.3700\n",
            "  → barren IoU: 0.0590\n",
            "  → forest IoU: 0.1012\n",
            "  → agriculture IoU: 0.3616\n",
            "[0.000329658544839708]\n"
          ]
        },
        {
          "metadata": {
            "tags": null
          },
          "name": "stderr",
          "output_type": "stream",
          "text": [
            "\n",
            "Epoch 5 [Training]: 100%|██████████| 73/73 [00:34<00:00,  2.09it/s, Loss_seg=19.3774]"
          ]
        },
        {
          "metadata": {
            "tags": null
          },
          "name": "stdout",
          "output_type": "stream",
          "text": [
            "\n",
            "Epoch 5/20 Summary\n",
            "  → Segmentation Source Loss (RAW) : 1.2111\n"
          ]
        },
        {
          "metadata": {
            "tags": null
          },
          "name": "stderr",
          "output_type": "stream",
          "text": [
            "\n",
            "Epoch 5 [Validation]: 100%|██████████| 62/62 [00:14<00:00,  4.38it/s, Val_Loss=126.5774, mIoU=0.2116]"
          ]
        },
        {
          "metadata": {
            "tags": null
          },
          "name": "stdout",
          "output_type": "stream",
          "text": [
            "\n",
            "→ Validation Loss: 7.9111\n",
            "→ Overall mIoU: 0.2116\n",
            "  → background IoU: 0.2076\n",
            "  → building IoU: 0.1769\n",
            "  → road IoU: 0.2150\n",
            "  → water IoU: 0.3980\n",
            "  → barren IoU: 0.0641\n",
            "  → forest IoU: 0.0949\n",
            "  → agriculture IoU: 0.3247\n",
            "[0.000329658544839708]\n"
          ]
        },
        {
          "metadata": {
            "tags": null
          },
          "name": "stderr",
          "output_type": "stream",
          "text": [
            "\n",
            "Epoch 6 [Training]: 100%|██████████| 73/73 [00:34<00:00,  2.10it/s, Loss_seg=18.6068]"
          ]
        },
        {
          "metadata": {
            "tags": null
          },
          "name": "stdout",
          "output_type": "stream",
          "text": [
            "\n",
            "Epoch 6/20 Summary\n",
            "  → Segmentation Source Loss (RAW) : 1.1629\n"
          ]
        },
        {
          "metadata": {
            "tags": null
          },
          "name": "stderr",
          "output_type": "stream",
          "text": [
            "\n",
            "Epoch 6 [Validation]: 100%|██████████| 62/62 [00:14<00:00,  4.35it/s, Val_Loss=130.2802, mIoU=0.2123]"
          ]
        },
        {
          "metadata": {
            "tags": null
          },
          "name": "stdout",
          "output_type": "stream",
          "text": [
            "\n",
            "→ Validation Loss: 8.1425\n",
            "→ Overall mIoU: 0.2123\n",
            "  → background IoU: 0.2156\n",
            "  → building IoU: 0.2092\n",
            "  → road IoU: 0.2397\n",
            "  → water IoU: 0.3593\n",
            "  → barren IoU: 0.0513\n",
            "  → forest IoU: 0.1048\n",
            "  → agriculture IoU: 0.3063\n",
            "[0.000329658544839708]\n"
          ]
        },
        {
          "metadata": {
            "tags": null
          },
          "name": "stderr",
          "output_type": "stream",
          "text": [
            "\n",
            "Epoch 7 [Training]: 100%|██████████| 73/73 [00:35<00:00,  2.07it/s, Loss_seg=18.1252]"
          ]
        },
        {
          "metadata": {
            "tags": null
          },
          "name": "stdout",
          "output_type": "stream",
          "text": [
            "\n",
            "Epoch 7/20 Summary\n",
            "  → Segmentation Source Loss (RAW) : 1.1328\n"
          ]
        },
        {
          "metadata": {
            "tags": null
          },
          "name": "stderr",
          "output_type": "stream",
          "text": [
            "\n",
            "Epoch 7 [Validation]: 100%|██████████| 62/62 [00:14<00:00,  4.36it/s, Val_Loss=145.5517, mIoU=0.2072]"
          ]
        },
        {
          "metadata": {
            "tags": null
          },
          "name": "stdout",
          "output_type": "stream",
          "text": [
            "\n",
            "→ Validation Loss: 9.0970\n",
            "→ Overall mIoU: 0.2072\n",
            "  → background IoU: 0.1470\n",
            "  → building IoU: 0.2413\n",
            "  → road IoU: 0.2312\n",
            "  → water IoU: 0.4088\n",
            "  → barren IoU: 0.0720\n",
            "  → forest IoU: 0.1028\n",
            "  → agriculture IoU: 0.2474\n",
            "[0.000164829272419854]\n"
          ]
        },
        {
          "metadata": {
            "tags": null
          },
          "name": "stderr",
          "output_type": "stream",
          "text": [
            "\n",
            "Epoch 8 [Training]: 100%|██████████| 73/73 [00:34<00:00,  2.09it/s, Loss_seg=17.0227]"
          ]
        },
        {
          "metadata": {
            "tags": null
          },
          "name": "stdout",
          "output_type": "stream",
          "text": [
            "\n",
            "Epoch 8/20 Summary\n",
            "  → Segmentation Source Loss (RAW) : 1.0639\n"
          ]
        },
        {
          "metadata": {
            "tags": null
          },
          "name": "stderr",
          "output_type": "stream",
          "text": [
            "\n",
            "Epoch 8 [Validation]: 100%|██████████| 62/62 [00:14<00:00,  4.38it/s, Val_Loss=132.5563, mIoU=0.2086]"
          ]
        },
        {
          "metadata": {
            "tags": null
          },
          "name": "stdout",
          "output_type": "stream",
          "text": [
            "\n",
            "→ Validation Loss: 8.2848\n",
            "→ Overall mIoU: 0.2086\n",
            "  → background IoU: 0.2262\n",
            "  → building IoU: 0.1507\n",
            "  → road IoU: 0.2369\n",
            "  → water IoU: 0.3499\n",
            "  → barren IoU: 0.0589\n",
            "  → forest IoU: 0.0990\n",
            "  → agriculture IoU: 0.3384\n",
            "[0.000164829272419854]\n"
          ]
        },
        {
          "output_type": "stream",
          "name": "stderr",
          "text": [
            "\n",
            "Epoch 9 [Training]: 100%|██████████| 73/73 [00:34<00:00,  2.10it/s, Loss_seg=17.0095]"
          ]
        },
        {
          "output_type": "stream",
          "name": "stdout",
          "text": [
            "\n",
            "Epoch 9/20 Summary\n",
            "  → Segmentation Source Loss (RAW) : 1.0631\n"
          ]
        },
        {
          "output_type": "stream",
          "name": "stderr",
          "text": [
            "\n",
            "Epoch 9 [Validation]: 100%|██████████| 62/62 [00:14<00:00,  4.35it/s, Val_Loss=141.9985, mIoU=0.2140]"
          ]
        },
        {
          "output_type": "stream",
          "name": "stdout",
          "text": [
            "\n",
            "→ Validation Loss: 8.8749\n",
            "→ Overall mIoU: 0.2140\n",
            "  → background IoU: 0.2304\n",
            "  → building IoU: 0.1627\n",
            "  → road IoU: 0.2512\n",
            "  → water IoU: 0.3900\n",
            "  → barren IoU: 0.0631\n",
            "  → forest IoU: 0.1008\n",
            "  → agriculture IoU: 0.3000\n",
            "[0.000164829272419854]\n"
          ]
        },
        {
          "output_type": "stream",
          "name": "stderr",
          "text": [
            "\n",
            "Epoch 10 [Training]: 100%|██████████| 73/73 [00:35<00:00,  2.08it/s, Loss_seg=16.7524]"
          ]
        },
        {
          "output_type": "stream",
          "name": "stdout",
          "text": [
            "\n",
            "Epoch 10/20 Summary\n",
            "  → Segmentation Source Loss (RAW) : 1.0470\n"
          ]
        },
        {
          "output_type": "stream",
          "name": "stderr",
          "text": [
            "\n",
            "Epoch 10 [Validation]: 100%|██████████| 62/62 [00:14<00:00,  4.37it/s, Val_Loss=137.2953, mIoU=0.2123]"
          ]
        },
        {
          "output_type": "stream",
          "name": "stdout",
          "text": [
            "\n",
            "→ Validation Loss: 8.5810\n",
            "→ Overall mIoU: 0.2123\n",
            "  → background IoU: 0.2048\n",
            "  → building IoU: 0.1691\n",
            "  → road IoU: 0.2505\n",
            "  → water IoU: 0.3958\n",
            "  → barren IoU: 0.0622\n",
            "  → forest IoU: 0.1006\n",
            "  → agriculture IoU: 0.3029\n",
            "[0.000164829272419854]\n"
          ]
        },
        {
          "output_type": "stream",
          "name": "stderr",
          "text": [
            "\n",
            "Epoch 11 [Training]: 100%|██████████| 73/73 [00:35<00:00,  2.08it/s, Loss_seg=16.1465]"
          ]
        },
        {
          "output_type": "stream",
          "name": "stdout",
          "text": [
            "\n",
            "Epoch 11/20 Summary\n",
            "  → Segmentation Source Loss (RAW) : 1.0092\n"
          ]
        },
        {
          "output_type": "stream",
          "name": "stderr",
          "text": [
            "\n",
            "Epoch 11 [Validation]: 100%|██████████| 62/62 [00:14<00:00,  4.36it/s, Val_Loss=139.6740, mIoU=0.2194]\n"
          ]
        },
        {
          "output_type": "stream",
          "name": "stdout",
          "text": [
            "Modello con miou migliore salvato: /content/drive/MyDrive/AML_project/checkpoints/best_model_PIDNET_5_DACS_without_4_class_ohem.pth\n",
            "\n",
            "→ Validation Loss: 8.7296\n",
            "→ Overall mIoU: 0.2194\n",
            "  → background IoU: 0.2370\n",
            "  → building IoU: 0.2055\n",
            "  → road IoU: 0.2497\n",
            "  → water IoU: 0.3812\n",
            "  → barren IoU: 0.0519\n",
            "  → forest IoU: 0.1006\n",
            "  → agriculture IoU: 0.3099\n",
            "[0.000164829272419854]\n"
          ]
        },
        {
          "output_type": "stream",
          "name": "stderr",
          "text": [
            "Epoch 12 [Training]: 100%|██████████| 73/73 [00:35<00:00,  2.07it/s, Loss_seg=16.2134]"
          ]
        },
        {
          "output_type": "stream",
          "name": "stdout",
          "text": [
            "\n",
            "Epoch 12/20 Summary\n",
            "  → Segmentation Source Loss (RAW) : 1.0133\n"
          ]
        },
        {
          "output_type": "stream",
          "name": "stderr",
          "text": [
            "\n",
            "Epoch 12 [Validation]: 100%|██████████| 62/62 [00:14<00:00,  4.36it/s, Val_Loss=138.9315, mIoU=0.2130]"
          ]
        },
        {
          "output_type": "stream",
          "name": "stdout",
          "text": [
            "\n",
            "→ Validation Loss: 8.6832\n",
            "→ Overall mIoU: 0.2130\n",
            "  → background IoU: 0.2348\n",
            "  → building IoU: 0.1597\n",
            "  → road IoU: 0.2470\n",
            "  → water IoU: 0.4119\n",
            "  → barren IoU: 0.0572\n",
            "  → forest IoU: 0.1040\n",
            "  → agriculture IoU: 0.2763\n",
            "[0.000164829272419854]\n"
          ]
        },
        {
          "output_type": "stream",
          "name": "stderr",
          "text": [
            "\n",
            "Epoch 13 [Training]: 100%|██████████| 73/73 [00:35<00:00,  2.09it/s, Loss_seg=15.9484]"
          ]
        },
        {
          "output_type": "stream",
          "name": "stdout",
          "text": [
            "\n",
            "Epoch 13/20 Summary\n",
            "  → Segmentation Source Loss (RAW) : 0.9968\n"
          ]
        },
        {
          "output_type": "stream",
          "name": "stderr",
          "text": [
            "\n",
            "Epoch 13 [Validation]: 100%|██████████| 62/62 [00:14<00:00,  4.38it/s, Val_Loss=151.8125, mIoU=0.2100]"
          ]
        },
        {
          "output_type": "stream",
          "name": "stdout",
          "text": [
            "\n",
            "→ Validation Loss: 9.4883\n",
            "→ Overall mIoU: 0.2100\n",
            "  → background IoU: 0.2174\n",
            "  → building IoU: 0.1848\n",
            "  → road IoU: 0.2447\n",
            "  → water IoU: 0.3950\n",
            "  → barren IoU: 0.0553\n",
            "  → forest IoU: 0.0922\n",
            "  → agriculture IoU: 0.2804\n",
            "[0.000164829272419854]\n"
          ]
        },
        {
          "output_type": "stream",
          "name": "stderr",
          "text": [
            "\n",
            "Epoch 14 [Training]: 100%|██████████| 73/73 [00:34<00:00,  2.10it/s, Loss_seg=16.1451]"
          ]
        },
        {
          "output_type": "stream",
          "name": "stdout",
          "text": [
            "\n",
            "Epoch 14/20 Summary\n",
            "  → Segmentation Source Loss (RAW) : 1.0091\n"
          ]
        },
        {
          "output_type": "stream",
          "name": "stderr",
          "text": [
            "\n",
            "Epoch 14 [Validation]: 100%|██████████| 62/62 [00:14<00:00,  4.37it/s, Val_Loss=151.7005, mIoU=0.2157]"
          ]
        },
        {
          "output_type": "stream",
          "name": "stdout",
          "text": [
            "\n",
            "→ Validation Loss: 9.4813\n",
            "→ Overall mIoU: 0.2157\n",
            "  → background IoU: 0.2701\n",
            "  → building IoU: 0.1660\n",
            "  → road IoU: 0.2442\n",
            "  → water IoU: 0.3739\n",
            "  → barren IoU: 0.0615\n",
            "  → forest IoU: 0.1044\n",
            "  → agriculture IoU: 0.2898\n",
            "[0.000164829272419854]\n"
          ]
        },
        {
          "output_type": "stream",
          "name": "stderr",
          "text": [
            "\n",
            "Epoch 15 [Training]: 100%|██████████| 73/73 [00:35<00:00,  2.08it/s, Loss_seg=16.1484]"
          ]
        },
        {
          "output_type": "stream",
          "name": "stdout",
          "text": [
            "\n",
            "Epoch 15/20 Summary\n",
            "  → Segmentation Source Loss (RAW) : 1.0093\n"
          ]
        },
        {
          "output_type": "stream",
          "name": "stderr",
          "text": [
            "\n",
            "Epoch 15 [Validation]: 100%|██████████| 62/62 [00:14<00:00,  4.38it/s, Val_Loss=147.6214, mIoU=0.2002]"
          ]
        },
        {
          "output_type": "stream",
          "name": "stdout",
          "text": [
            "\n",
            "→ Validation Loss: 9.2263\n",
            "→ Overall mIoU: 0.2002\n",
            "  → background IoU: 0.2356\n",
            "  → building IoU: 0.1377\n",
            "  → road IoU: 0.2236\n",
            "  → water IoU: 0.3980\n",
            "  → barren IoU: 0.0633\n",
            "  → forest IoU: 0.0951\n",
            "  → agriculture IoU: 0.2484\n",
            "[8.2414636209927e-05]\n"
          ]
        },
        {
          "output_type": "stream",
          "name": "stderr",
          "text": [
            "\n",
            "Epoch 16 [Training]: 100%|██████████| 73/73 [00:35<00:00,  2.08it/s, Loss_seg=15.7741]"
          ]
        },
        {
          "output_type": "stream",
          "name": "stdout",
          "text": [
            "\n",
            "Epoch 16/20 Summary\n",
            "  → Segmentation Source Loss (RAW) : 0.9859\n"
          ]
        },
        {
          "output_type": "stream",
          "name": "stderr",
          "text": [
            "\n",
            "Epoch 16 [Validation]: 100%|██████████| 62/62 [00:14<00:00,  4.36it/s, Val_Loss=143.0550, mIoU=0.2330]\n"
          ]
        },
        {
          "output_type": "stream",
          "name": "stdout",
          "text": [
            "Modello con miou migliore salvato: /content/drive/MyDrive/AML_project/checkpoints/best_model_PIDNET_5_DACS_without_4_class_ohem.pth\n",
            "\n",
            "→ Validation Loss: 8.9409\n",
            "→ Overall mIoU: 0.2330\n",
            "  → background IoU: 0.3262\n",
            "  → building IoU: 0.2234\n",
            "  → road IoU: 0.2419\n",
            "  → water IoU: 0.3857\n",
            "  → barren IoU: 0.0619\n",
            "  → forest IoU: 0.1078\n",
            "  → agriculture IoU: 0.2838\n",
            "[8.2414636209927e-05]\n"
          ]
        },
        {
          "output_type": "stream",
          "name": "stderr",
          "text": [
            "Epoch 17 [Training]: 100%|██████████| 73/73 [00:34<00:00,  2.09it/s, Loss_seg=15.5549]"
          ]
        },
        {
          "output_type": "stream",
          "name": "stdout",
          "text": [
            "\n",
            "Epoch 17/20 Summary\n",
            "  → Segmentation Source Loss (RAW) : 0.9722\n"
          ]
        },
        {
          "output_type": "stream",
          "name": "stderr",
          "text": [
            "\n",
            "Epoch 17 [Validation]: 100%|██████████| 62/62 [00:14<00:00,  4.38it/s, Val_Loss=138.2599, mIoU=0.2320]"
          ]
        },
        {
          "output_type": "stream",
          "name": "stdout",
          "text": [
            "\n",
            "→ Validation Loss: 8.6412\n",
            "→ Overall mIoU: 0.2320\n",
            "  → background IoU: 0.2883\n",
            "  → building IoU: 0.2202\n",
            "  → road IoU: 0.2596\n",
            "  → water IoU: 0.3868\n",
            "  → barren IoU: 0.0508\n",
            "  → forest IoU: 0.0932\n",
            "  → agriculture IoU: 0.3252\n",
            "[8.2414636209927e-05]\n"
          ]
        },
        {
          "output_type": "stream",
          "name": "stderr",
          "text": [
            "\n",
            "Epoch 18 [Training]: 100%|██████████| 73/73 [00:34<00:00,  2.09it/s, Loss_seg=15.4234]"
          ]
        },
        {
          "output_type": "stream",
          "name": "stdout",
          "text": [
            "\n",
            "Epoch 18/20 Summary\n",
            "  → Segmentation Source Loss (RAW) : 0.9640\n"
          ]
        },
        {
          "output_type": "stream",
          "name": "stderr",
          "text": [
            "\n",
            "Epoch 18 [Validation]: 100%|██████████| 62/62 [00:14<00:00,  4.38it/s, Val_Loss=140.1449, mIoU=0.2206]"
          ]
        },
        {
          "output_type": "stream",
          "name": "stdout",
          "text": [
            "\n",
            "→ Validation Loss: 8.7591\n",
            "→ Overall mIoU: 0.2206\n",
            "  → background IoU: 0.2559\n",
            "  → building IoU: 0.1948\n",
            "  → road IoU: 0.2627\n",
            "  → water IoU: 0.3698\n",
            "  → barren IoU: 0.0425\n",
            "  → forest IoU: 0.0923\n",
            "  → agriculture IoU: 0.3264\n",
            "[8.2414636209927e-05]\n"
          ]
        },
        {
          "output_type": "stream",
          "name": "stderr",
          "text": [
            "\n",
            "Epoch 19 [Training]: 100%|██████████| 73/73 [00:35<00:00,  2.08it/s, Loss_seg=15.3557]"
          ]
        },
        {
          "output_type": "stream",
          "name": "stdout",
          "text": [
            "\n",
            "Epoch 19/20 Summary\n",
            "  → Segmentation Source Loss (RAW) : 0.9597\n"
          ]
        },
        {
          "output_type": "stream",
          "name": "stderr",
          "text": [
            "\n",
            "Epoch 19 [Validation]: 100%|██████████| 62/62 [00:14<00:00,  4.36it/s, Val_Loss=146.1709, mIoU=0.2243]"
          ]
        },
        {
          "output_type": "stream",
          "name": "stdout",
          "text": [
            "\n",
            "→ Validation Loss: 9.1357\n",
            "→ Overall mIoU: 0.2243\n",
            "  → background IoU: 0.2679\n",
            "  → building IoU: 0.2389\n",
            "  → road IoU: 0.2482\n",
            "  → water IoU: 0.3951\n",
            "  → barren IoU: 0.0485\n",
            "  → forest IoU: 0.0993\n",
            "  → agriculture IoU: 0.2725\n",
            "[8.2414636209927e-05]\n"
          ]
        },
        {
          "output_type": "stream",
          "name": "stderr",
          "text": [
            "\n",
            "Epoch 20 [Training]: 100%|██████████| 73/73 [00:34<00:00,  2.10it/s, Loss_seg=15.2214]"
          ]
        },
        {
          "output_type": "stream",
          "name": "stdout",
          "text": [
            "\n",
            "Epoch 20/20 Summary\n",
            "  → Segmentation Source Loss (RAW) : 0.9513\n"
          ]
        },
        {
          "output_type": "stream",
          "name": "stderr",
          "text": [
            "\n",
            "Epoch 20 [Validation]: 100%|██████████| 62/62 [00:14<00:00,  4.37it/s, Val_Loss=147.3160, mIoU=0.2315]\n"
          ]
        },
        {
          "output_type": "stream",
          "name": "stdout",
          "text": [
            "\n",
            "→ Validation Loss: 9.2072\n",
            "→ Overall mIoU: 0.2315\n",
            "  → background IoU: 0.3122\n",
            "  → building IoU: 0.2165\n",
            "  → road IoU: 0.2600\n",
            "  → water IoU: 0.3858\n",
            "  → barren IoU: 0.0587\n",
            "  → forest IoU: 0.1041\n",
            "  → agriculture IoU: 0.2828\n",
            "[0.000329658544839708]\n"
          ]
        },
        {
          "output_type": "stream",
          "name": "stderr",
          "text": [
            "Epoch 1 [Training]: 100%|██████████| 73/73 [00:35<00:00,  2.07it/s, Loss_seg=52.2836]"
          ]
        },
        {
          "output_type": "stream",
          "name": "stdout",
          "text": [
            "\n",
            "Epoch 1/20 Summary\n",
            "  → Segmentation Source Loss (RAW) : 3.2677\n"
          ]
        },
        {
          "output_type": "stream",
          "name": "stderr",
          "text": [
            "\n",
            "Epoch 1 [Validation]: 100%|██████████| 62/62 [00:14<00:00,  4.37it/s, Val_Loss=127.5032, mIoU=0.1972]\n"
          ]
        },
        {
          "output_type": "stream",
          "name": "stdout",
          "text": [
            "Modello con miou migliore salvato: /content/drive/MyDrive/AML_project/checkpoints/best_model_PIDNET_5_DACS_without_5_class_ohem.pth\n",
            "\n",
            "→ Validation Loss: 7.9690\n",
            "→ Overall mIoU: 0.1972\n",
            "  → background IoU: 0.2753\n",
            "  → building IoU: 0.1977\n",
            "  → road IoU: 0.1157\n",
            "  → water IoU: 0.3467\n",
            "  → barren IoU: 0.0401\n",
            "  → forest IoU: 0.1198\n",
            "  → agriculture IoU: 0.2848\n",
            "[0.000329658544839708]\n"
          ]
        },
        {
          "output_type": "stream",
          "name": "stderr",
          "text": [
            "Epoch 2 [Training]: 100%|██████████| 73/73 [00:35<00:00,  2.09it/s, Loss_seg=25.9560]"
          ]
        },
        {
          "output_type": "stream",
          "name": "stdout",
          "text": [
            "\n",
            "Epoch 2/20 Summary\n",
            "  → Segmentation Source Loss (RAW) : 1.6223\n"
          ]
        },
        {
          "output_type": "stream",
          "name": "stderr",
          "text": [
            "\n",
            "Epoch 2 [Validation]: 100%|██████████| 62/62 [00:14<00:00,  4.36it/s, Val_Loss=106.0673, mIoU=0.2153]\n"
          ]
        },
        {
          "output_type": "stream",
          "name": "stdout",
          "text": [
            "Modello con miou migliore salvato: /content/drive/MyDrive/AML_project/checkpoints/best_model_PIDNET_5_DACS_without_5_class_ohem.pth\n",
            "\n",
            "→ Validation Loss: 6.6292\n",
            "→ Overall mIoU: 0.2153\n",
            "  → background IoU: 0.1564\n",
            "  → building IoU: 0.3008\n",
            "  → road IoU: 0.1644\n",
            "  → water IoU: 0.3611\n",
            "  → barren IoU: 0.0487\n",
            "  → forest IoU: 0.1279\n",
            "  → agriculture IoU: 0.3476\n",
            "[0.000329658544839708]\n"
          ]
        },
        {
          "output_type": "stream",
          "name": "stderr",
          "text": [
            "Epoch 3 [Training]: 100%|██████████| 73/73 [00:35<00:00,  2.07it/s, Loss_seg=23.3938]"
          ]
        },
        {
          "output_type": "stream",
          "name": "stdout",
          "text": [
            "\n",
            "Epoch 3/20 Summary\n",
            "  → Segmentation Source Loss (RAW) : 1.4621\n"
          ]
        },
        {
          "output_type": "stream",
          "name": "stderr",
          "text": [
            "\n",
            "Epoch 3 [Validation]: 100%|██████████| 62/62 [00:14<00:00,  4.37it/s, Val_Loss=110.9286, mIoU=0.2191]\n"
          ]
        },
        {
          "output_type": "stream",
          "name": "stdout",
          "text": [
            "Modello con miou migliore salvato: /content/drive/MyDrive/AML_project/checkpoints/best_model_PIDNET_5_DACS_without_5_class_ohem.pth\n",
            "\n",
            "→ Validation Loss: 6.9330\n",
            "→ Overall mIoU: 0.2191\n",
            "  → background IoU: 0.1834\n",
            "  → building IoU: 0.2998\n",
            "  → road IoU: 0.1667\n",
            "  → water IoU: 0.3522\n",
            "  → barren IoU: 0.0389\n",
            "  → forest IoU: 0.1224\n",
            "  → agriculture IoU: 0.3701\n",
            "[0.000329658544839708]\n"
          ]
        },
        {
          "output_type": "stream",
          "name": "stderr",
          "text": [
            "Epoch 4 [Training]: 100%|██████████| 73/73 [00:35<00:00,  2.08it/s, Loss_seg=22.3830]"
          ]
        },
        {
          "output_type": "stream",
          "name": "stdout",
          "text": [
            "\n",
            "Epoch 4/20 Summary\n",
            "  → Segmentation Source Loss (RAW) : 1.3989\n"
          ]
        },
        {
          "output_type": "stream",
          "name": "stderr",
          "text": [
            "\n",
            "Epoch 4 [Validation]: 100%|██████████| 62/62 [00:14<00:00,  4.35it/s, Val_Loss=115.7370, mIoU=0.2340]\n"
          ]
        },
        {
          "output_type": "stream",
          "name": "stdout",
          "text": [
            "Modello con miou migliore salvato: /content/drive/MyDrive/AML_project/checkpoints/best_model_PIDNET_5_DACS_without_5_class_ohem.pth\n",
            "\n",
            "→ Validation Loss: 7.2336\n",
            "→ Overall mIoU: 0.2340\n",
            "  → background IoU: 0.2443\n",
            "  → building IoU: 0.3002\n",
            "  → road IoU: 0.1572\n",
            "  → water IoU: 0.3309\n",
            "  → barren IoU: 0.0589\n",
            "  → forest IoU: 0.1727\n",
            "  → agriculture IoU: 0.3740\n",
            "[0.000329658544839708]\n"
          ]
        },
        {
          "output_type": "stream",
          "name": "stderr",
          "text": [
            "Epoch 5 [Training]: 100%|██████████| 73/73 [00:35<00:00,  2.07it/s, Loss_seg=19.8055]"
          ]
        },
        {
          "output_type": "stream",
          "name": "stdout",
          "text": [
            "\n",
            "Epoch 5/20 Summary\n",
            "  → Segmentation Source Loss (RAW) : 1.2378\n"
          ]
        },
        {
          "output_type": "stream",
          "name": "stderr",
          "text": [
            "\n",
            "Epoch 5 [Validation]: 100%|██████████| 62/62 [00:14<00:00,  4.36it/s, Val_Loss=110.3303, mIoU=0.2497]\n"
          ]
        },
        {
          "output_type": "stream",
          "name": "stdout",
          "text": [
            "Modello con miou migliore salvato: /content/drive/MyDrive/AML_project/checkpoints/best_model_PIDNET_5_DACS_without_5_class_ohem.pth\n",
            "\n",
            "→ Validation Loss: 6.8956\n",
            "→ Overall mIoU: 0.2497\n",
            "  → background IoU: 0.2384\n",
            "  → building IoU: 0.3555\n",
            "  → road IoU: 0.1950\n",
            "  → water IoU: 0.3727\n",
            "  → barren IoU: 0.0427\n",
            "  → forest IoU: 0.1740\n",
            "  → agriculture IoU: 0.3699\n",
            "[0.000329658544839708]\n"
          ]
        },
        {
          "output_type": "stream",
          "name": "stderr",
          "text": [
            "Epoch 6 [Training]: 100%|██████████| 73/73 [00:34<00:00,  2.10it/s, Loss_seg=19.1302]"
          ]
        },
        {
          "output_type": "stream",
          "name": "stdout",
          "text": [
            "\n",
            "Epoch 6/20 Summary\n",
            "  → Segmentation Source Loss (RAW) : 1.1956\n"
          ]
        },
        {
          "output_type": "stream",
          "name": "stderr",
          "text": [
            "\n",
            "Epoch 6 [Validation]: 100%|██████████| 62/62 [00:14<00:00,  4.36it/s, Val_Loss=110.2981, mIoU=0.2435]"
          ]
        },
        {
          "output_type": "stream",
          "name": "stdout",
          "text": [
            "\n",
            "→ Validation Loss: 6.8936\n",
            "→ Overall mIoU: 0.2435\n",
            "  → background IoU: 0.2500\n",
            "  → building IoU: 0.3789\n",
            "  → road IoU: 0.1947\n",
            "  → water IoU: 0.3392\n",
            "  → barren IoU: 0.0404\n",
            "  → forest IoU: 0.1386\n",
            "  → agriculture IoU: 0.3629\n",
            "[0.000329658544839708]\n"
          ]
        },
        {
          "output_type": "stream",
          "name": "stderr",
          "text": [
            "\n",
            "Epoch 7 [Training]: 100%|██████████| 73/73 [00:35<00:00,  2.08it/s, Loss_seg=18.4492]"
          ]
        },
        {
          "output_type": "stream",
          "name": "stdout",
          "text": [
            "\n",
            "Epoch 7/20 Summary\n",
            "  → Segmentation Source Loss (RAW) : 1.1531\n"
          ]
        },
        {
          "output_type": "stream",
          "name": "stderr",
          "text": [
            "\n",
            "Epoch 7 [Validation]: 100%|██████████| 62/62 [00:14<00:00,  4.40it/s, Val_Loss=112.0143, mIoU=0.2522]\n"
          ]
        },
        {
          "output_type": "stream",
          "name": "stdout",
          "text": [
            "Modello con miou migliore salvato: /content/drive/MyDrive/AML_project/checkpoints/best_model_PIDNET_5_DACS_without_5_class_ohem.pth\n",
            "\n",
            "→ Validation Loss: 7.0009\n",
            "→ Overall mIoU: 0.2522\n",
            "  → background IoU: 0.2701\n",
            "  → building IoU: 0.3433\n",
            "  → road IoU: 0.1914\n",
            "  → water IoU: 0.3941\n",
            "  → barren IoU: 0.0380\n",
            "  → forest IoU: 0.1520\n",
            "  → agriculture IoU: 0.3762\n",
            "[0.000329658544839708]\n"
          ]
        },
        {
          "output_type": "stream",
          "name": "stderr",
          "text": [
            "Epoch 8 [Training]: 100%|██████████| 73/73 [00:35<00:00,  2.08it/s, Loss_seg=17.7334]"
          ]
        },
        {
          "output_type": "stream",
          "name": "stdout",
          "text": [
            "\n",
            "Epoch 8/20 Summary\n",
            "  → Segmentation Source Loss (RAW) : 1.1083\n"
          ]
        },
        {
          "output_type": "stream",
          "name": "stderr",
          "text": [
            "\n",
            "Epoch 8 [Validation]: 100%|██████████| 62/62 [00:14<00:00,  4.34it/s, Val_Loss=109.5526, mIoU=0.2468]"
          ]
        },
        {
          "output_type": "stream",
          "name": "stdout",
          "text": [
            "\n",
            "→ Validation Loss: 6.8470\n",
            "→ Overall mIoU: 0.2468\n",
            "  → background IoU: 0.2378\n",
            "  → building IoU: 0.3549\n",
            "  → road IoU: 0.1817\n",
            "  → water IoU: 0.4200\n",
            "  → barren IoU: 0.0440\n",
            "  → forest IoU: 0.1529\n",
            "  → agriculture IoU: 0.3364\n",
            "[0.000329658544839708]\n"
          ]
        },
        {
          "output_type": "stream",
          "name": "stderr",
          "text": [
            "\n",
            "Epoch 9 [Training]: 100%|██████████| 73/73 [00:34<00:00,  2.09it/s, Loss_seg=16.9691]"
          ]
        },
        {
          "output_type": "stream",
          "name": "stdout",
          "text": [
            "\n",
            "Epoch 9/20 Summary\n",
            "  → Segmentation Source Loss (RAW) : 1.0606\n"
          ]
        },
        {
          "output_type": "stream",
          "name": "stderr",
          "text": [
            "\n",
            "Epoch 9 [Validation]: 100%|██████████| 62/62 [00:14<00:00,  4.38it/s, Val_Loss=112.6268, mIoU=0.2315]"
          ]
        },
        {
          "output_type": "stream",
          "name": "stdout",
          "text": [
            "\n",
            "→ Validation Loss: 7.0392\n",
            "→ Overall mIoU: 0.2315\n",
            "  → background IoU: 0.2335\n",
            "  → building IoU: 0.3024\n",
            "  → road IoU: 0.1655\n",
            "  → water IoU: 0.3650\n",
            "  → barren IoU: 0.0459\n",
            "  → forest IoU: 0.1713\n",
            "  → agriculture IoU: 0.3370\n",
            "[0.000164829272419854]\n"
          ]
        },
        {
          "output_type": "stream",
          "name": "stderr",
          "text": [
            "\n",
            "Epoch 10 [Training]: 100%|██████████| 73/73 [00:35<00:00,  2.08it/s, Loss_seg=16.5036]"
          ]
        },
        {
          "output_type": "stream",
          "name": "stdout",
          "text": [
            "\n",
            "Epoch 10/20 Summary\n",
            "  → Segmentation Source Loss (RAW) : 1.0315\n"
          ]
        },
        {
          "output_type": "stream",
          "name": "stderr",
          "text": [
            "\n",
            "Epoch 10 [Validation]: 100%|██████████| 62/62 [00:14<00:00,  4.36it/s, Val_Loss=110.4948, mIoU=0.2694]\n"
          ]
        },
        {
          "output_type": "stream",
          "name": "stdout",
          "text": [
            "Modello con miou migliore salvato: /content/drive/MyDrive/AML_project/checkpoints/best_model_PIDNET_5_DACS_without_5_class_ohem.pth\n",
            "\n",
            "→ Validation Loss: 6.9059\n",
            "→ Overall mIoU: 0.2694\n",
            "  → background IoU: 0.3142\n",
            "  → building IoU: 0.3726\n",
            "  → road IoU: 0.2070\n",
            "  → water IoU: 0.4184\n",
            "  → barren IoU: 0.0466\n",
            "  → forest IoU: 0.1748\n",
            "  → agriculture IoU: 0.3523\n",
            "[0.000164829272419854]\n"
          ]
        },
        {
          "output_type": "stream",
          "name": "stderr",
          "text": [
            "Epoch 11 [Training]: 100%|██████████| 73/73 [00:35<00:00,  2.07it/s, Loss_seg=16.3096]"
          ]
        },
        {
          "output_type": "stream",
          "name": "stdout",
          "text": [
            "\n",
            "Epoch 11/20 Summary\n",
            "  → Segmentation Source Loss (RAW) : 1.0194\n"
          ]
        },
        {
          "output_type": "stream",
          "name": "stderr",
          "text": [
            "\n",
            "Epoch 11 [Validation]: 100%|██████████| 62/62 [00:14<00:00,  4.37it/s, Val_Loss=118.8182, mIoU=0.2449]"
          ]
        },
        {
          "output_type": "stream",
          "name": "stdout",
          "text": [
            "\n",
            "→ Validation Loss: 7.4261\n",
            "→ Overall mIoU: 0.2449\n",
            "  → background IoU: 0.3417\n",
            "  → building IoU: 0.3012\n",
            "  → road IoU: 0.1698\n",
            "  → water IoU: 0.3978\n",
            "  → barren IoU: 0.0682\n",
            "  → forest IoU: 0.1539\n",
            "  → agriculture IoU: 0.2817\n",
            "[0.000164829272419854]\n"
          ]
        },
        {
          "output_type": "stream",
          "name": "stderr",
          "text": [
            "\n",
            "Epoch 12 [Training]: 100%|██████████| 73/73 [00:34<00:00,  2.09it/s, Loss_seg=16.0664]"
          ]
        },
        {
          "output_type": "stream",
          "name": "stdout",
          "text": [
            "\n",
            "Epoch 12/20 Summary\n",
            "  → Segmentation Source Loss (RAW) : 1.0041\n"
          ]
        },
        {
          "output_type": "stream",
          "name": "stderr",
          "text": [
            "\n",
            "Epoch 12 [Validation]: 100%|██████████| 62/62 [00:14<00:00,  4.36it/s, Val_Loss=114.4233, mIoU=0.2417]"
          ]
        },
        {
          "output_type": "stream",
          "name": "stdout",
          "text": [
            "\n",
            "→ Validation Loss: 7.1515\n",
            "→ Overall mIoU: 0.2417\n",
            "  → background IoU: 0.2448\n",
            "  → building IoU: 0.3269\n",
            "  → road IoU: 0.1891\n",
            "  → water IoU: 0.4024\n",
            "  → barren IoU: 0.0429\n",
            "  → forest IoU: 0.1585\n",
            "  → agriculture IoU: 0.3270\n",
            "[0.000164829272419854]\n"
          ]
        },
        {
          "output_type": "stream",
          "name": "stderr",
          "text": [
            "\n",
            "Epoch 13 [Training]: 100%|██████████| 73/73 [00:34<00:00,  2.10it/s, Loss_seg=15.9843]"
          ]
        },
        {
          "output_type": "stream",
          "name": "stdout",
          "text": [
            "\n",
            "Epoch 13/20 Summary\n",
            "  → Segmentation Source Loss (RAW) : 0.9990\n"
          ]
        },
        {
          "output_type": "stream",
          "name": "stderr",
          "text": [
            "\n",
            "Epoch 13 [Validation]: 100%|██████████| 62/62 [00:14<00:00,  4.37it/s, Val_Loss=127.6917, mIoU=0.2575]"
          ]
        },
        {
          "output_type": "stream",
          "name": "stdout",
          "text": [
            "\n",
            "→ Validation Loss: 7.9807\n",
            "→ Overall mIoU: 0.2575\n",
            "  → background IoU: 0.2904\n",
            "  → building IoU: 0.3638\n",
            "  → road IoU: 0.1939\n",
            "  → water IoU: 0.4183\n",
            "  → barren IoU: 0.0485\n",
            "  → forest IoU: 0.1740\n",
            "  → agriculture IoU: 0.3138\n",
            "[0.000164829272419854]\n"
          ]
        },
        {
          "output_type": "stream",
          "name": "stderr",
          "text": [
            "\n",
            "Epoch 14 [Training]: 100%|██████████| 73/73 [00:34<00:00,  2.09it/s, Loss_seg=15.9301]"
          ]
        },
        {
          "output_type": "stream",
          "name": "stdout",
          "text": [
            "\n",
            "Epoch 14/20 Summary\n",
            "  → Segmentation Source Loss (RAW) : 0.9956\n"
          ]
        },
        {
          "output_type": "stream",
          "name": "stderr",
          "text": [
            "\n",
            "Epoch 14 [Validation]: 100%|██████████| 62/62 [00:14<00:00,  4.37it/s, Val_Loss=125.1077, mIoU=0.2506]"
          ]
        },
        {
          "output_type": "stream",
          "name": "stdout",
          "text": [
            "\n",
            "→ Validation Loss: 7.8192\n",
            "→ Overall mIoU: 0.2506\n",
            "  → background IoU: 0.3383\n",
            "  → building IoU: 0.3079\n",
            "  → road IoU: 0.1906\n",
            "  → water IoU: 0.3974\n",
            "  → barren IoU: 0.0655\n",
            "  → forest IoU: 0.1683\n",
            "  → agriculture IoU: 0.2866\n",
            "[8.2414636209927e-05]\n"
          ]
        },
        {
          "output_type": "stream",
          "name": "stderr",
          "text": [
            "\n",
            "Epoch 15 [Training]: 100%|██████████| 73/73 [00:35<00:00,  2.07it/s, Loss_seg=15.6796]"
          ]
        },
        {
          "output_type": "stream",
          "name": "stdout",
          "text": [
            "\n",
            "Epoch 15/20 Summary\n",
            "  → Segmentation Source Loss (RAW) : 0.9800\n"
          ]
        },
        {
          "output_type": "stream",
          "name": "stderr",
          "text": [
            "\n",
            "Epoch 15 [Validation]: 100%|██████████| 62/62 [00:14<00:00,  4.39it/s, Val_Loss=113.0150, mIoU=0.2636]"
          ]
        },
        {
          "output_type": "stream",
          "name": "stdout",
          "text": [
            "\n",
            "→ Validation Loss: 7.0634\n",
            "→ Overall mIoU: 0.2636\n",
            "  → background IoU: 0.3186\n",
            "  → building IoU: 0.3580\n",
            "  → road IoU: 0.2137\n",
            "  → water IoU: 0.3872\n",
            "  → barren IoU: 0.0510\n",
            "  → forest IoU: 0.1774\n",
            "  → agriculture IoU: 0.3393\n",
            "[8.2414636209927e-05]\n"
          ]
        },
        {
          "output_type": "stream",
          "name": "stderr",
          "text": [
            "\n",
            "Epoch 16 [Training]: 100%|██████████| 73/73 [00:34<00:00,  2.10it/s, Loss_seg=15.3998]"
          ]
        },
        {
          "output_type": "stream",
          "name": "stdout",
          "text": [
            "\n",
            "Epoch 16/20 Summary\n",
            "  → Segmentation Source Loss (RAW) : 0.9625\n"
          ]
        },
        {
          "output_type": "stream",
          "name": "stderr",
          "text": [
            "\n",
            "Epoch 16 [Validation]: 100%|██████████| 62/62 [00:14<00:00,  4.34it/s, Val_Loss=126.3054, mIoU=0.2533]"
          ]
        },
        {
          "output_type": "stream",
          "name": "stdout",
          "text": [
            "\n",
            "→ Validation Loss: 7.8941\n",
            "→ Overall mIoU: 0.2533\n",
            "  → background IoU: 0.3914\n",
            "  → building IoU: 0.3116\n",
            "  → road IoU: 0.1529\n",
            "  → water IoU: 0.4197\n",
            "  → barren IoU: 0.0771\n",
            "  → forest IoU: 0.1611\n",
            "  → agriculture IoU: 0.2596\n",
            "[8.2414636209927e-05]\n"
          ]
        },
        {
          "output_type": "stream",
          "name": "stderr",
          "text": [
            "\n",
            "Epoch 17 [Training]: 100%|██████████| 73/73 [00:34<00:00,  2.09it/s, Loss_seg=15.4256]"
          ]
        },
        {
          "output_type": "stream",
          "name": "stdout",
          "text": [
            "\n",
            "Epoch 17/20 Summary\n",
            "  → Segmentation Source Loss (RAW) : 0.9641\n"
          ]
        },
        {
          "output_type": "stream",
          "name": "stderr",
          "text": [
            "\n",
            "Epoch 17 [Validation]: 100%|██████████| 62/62 [00:14<00:00,  4.38it/s, Val_Loss=129.2601, mIoU=0.2508]"
          ]
        },
        {
          "output_type": "stream",
          "name": "stdout",
          "text": [
            "\n",
            "→ Validation Loss: 8.0788\n",
            "→ Overall mIoU: 0.2508\n",
            "  → background IoU: 0.3320\n",
            "  → building IoU: 0.3135\n",
            "  → road IoU: 0.1937\n",
            "  → water IoU: 0.4272\n",
            "  → barren IoU: 0.0536\n",
            "  → forest IoU: 0.1509\n",
            "  → agriculture IoU: 0.2844\n",
            "[8.2414636209927e-05]\n"
          ]
        },
        {
          "output_type": "stream",
          "name": "stderr",
          "text": [
            "\n",
            "Epoch 18 [Training]: 100%|██████████| 73/73 [00:35<00:00,  2.07it/s, Loss_seg=15.3971]"
          ]
        },
        {
          "output_type": "stream",
          "name": "stdout",
          "text": [
            "\n",
            "Epoch 18/20 Summary\n",
            "  → Segmentation Source Loss (RAW) : 0.9623\n"
          ]
        },
        {
          "output_type": "stream",
          "name": "stderr",
          "text": [
            "\n",
            "Epoch 18 [Validation]: 100%|██████████| 62/62 [00:14<00:00,  4.35it/s, Val_Loss=111.6014, mIoU=0.2747]\n"
          ]
        },
        {
          "output_type": "stream",
          "name": "stdout",
          "text": [
            "Modello con miou migliore salvato: /content/drive/MyDrive/AML_project/checkpoints/best_model_PIDNET_5_DACS_without_5_class_ohem.pth\n",
            "\n",
            "→ Validation Loss: 6.9751\n",
            "→ Overall mIoU: 0.2747\n",
            "  → background IoU: 0.4073\n",
            "  → building IoU: 0.3897\n",
            "  → road IoU: 0.1825\n",
            "  → water IoU: 0.3816\n",
            "  → barren IoU: 0.0763\n",
            "  → forest IoU: 0.1696\n",
            "  → agriculture IoU: 0.3159\n",
            "[8.2414636209927e-05]\n"
          ]
        },
        {
          "output_type": "stream",
          "name": "stderr",
          "text": [
            "Epoch 19 [Training]: 100%|██████████| 73/73 [00:35<00:00,  2.06it/s, Loss_seg=15.4300]"
          ]
        },
        {
          "output_type": "stream",
          "name": "stdout",
          "text": [
            "\n",
            "Epoch 19/20 Summary\n",
            "  → Segmentation Source Loss (RAW) : 0.9644\n"
          ]
        },
        {
          "output_type": "stream",
          "name": "stderr",
          "text": [
            "\n",
            "Epoch 19 [Validation]: 100%|██████████| 62/62 [00:14<00:00,  4.35it/s, Val_Loss=116.3529, mIoU=0.2630]"
          ]
        },
        {
          "output_type": "stream",
          "name": "stdout",
          "text": [
            "\n",
            "→ Validation Loss: 7.2721\n",
            "→ Overall mIoU: 0.2630\n",
            "  → background IoU: 0.3540\n",
            "  → building IoU: 0.3366\n",
            "  → road IoU: 0.1906\n",
            "  → water IoU: 0.4254\n",
            "  → barren IoU: 0.0539\n",
            "  → forest IoU: 0.1689\n",
            "  → agriculture IoU: 0.3117\n",
            "[8.2414636209927e-05]\n"
          ]
        },
        {
          "output_type": "stream",
          "name": "stderr",
          "text": [
            "\n",
            "Epoch 20 [Training]: 100%|██████████| 73/73 [00:34<00:00,  2.09it/s, Loss_seg=15.1117]"
          ]
        },
        {
          "output_type": "stream",
          "name": "stdout",
          "text": [
            "\n",
            "Epoch 20/20 Summary\n",
            "  → Segmentation Source Loss (RAW) : 0.9445\n"
          ]
        },
        {
          "output_type": "stream",
          "name": "stderr",
          "text": [
            "\n",
            "Epoch 20 [Validation]: 100%|██████████| 62/62 [00:14<00:00,  4.34it/s, Val_Loss=117.3058, mIoU=0.2559]\n"
          ]
        },
        {
          "output_type": "stream",
          "name": "stdout",
          "text": [
            "\n",
            "→ Validation Loss: 7.3316\n",
            "→ Overall mIoU: 0.2559\n",
            "  → background IoU: 0.3233\n",
            "  → building IoU: 0.3401\n",
            "  → road IoU: 0.1899\n",
            "  → water IoU: 0.4193\n",
            "  → barren IoU: 0.0503\n",
            "  → forest IoU: 0.1617\n",
            "  → agriculture IoU: 0.3070\n",
            "[0.000329658544839708]\n"
          ]
        },
        {
          "output_type": "stream",
          "name": "stderr",
          "text": [
            "Epoch 1 [Training]: 100%|██████████| 73/73 [00:35<00:00,  2.09it/s, Loss_seg=50.6953]"
          ]
        },
        {
          "output_type": "stream",
          "name": "stdout",
          "text": [
            "\n",
            "Epoch 1/20 Summary\n",
            "  → Segmentation Source Loss (RAW) : 3.1685\n"
          ]
        },
        {
          "output_type": "stream",
          "name": "stderr",
          "text": [
            "\n",
            "Epoch 1 [Validation]: 100%|██████████| 62/62 [00:14<00:00,  4.38it/s, Val_Loss=155.2198, mIoU=0.1695]\n"
          ]
        },
        {
          "output_type": "stream",
          "name": "stdout",
          "text": [
            "Modello con miou migliore salvato: /content/drive/MyDrive/AML_project/checkpoints/best_model_PIDNET_5_DACS_without_6_class_ohem.pth\n",
            "\n",
            "→ Validation Loss: 9.7012\n",
            "→ Overall mIoU: 0.1695\n",
            "  → background IoU: 0.1946\n",
            "  → building IoU: 0.2082\n",
            "  → road IoU: 0.1373\n",
            "  → water IoU: 0.2715\n",
            "  → barren IoU: 0.0326\n",
            "  → forest IoU: 0.0881\n",
            "  → agriculture IoU: 0.2546\n",
            "[0.000329658544839708]\n"
          ]
        },
        {
          "output_type": "stream",
          "name": "stderr",
          "text": [
            "Epoch 2 [Training]: 100%|██████████| 73/73 [00:35<00:00,  2.07it/s, Loss_seg=26.9140]"
          ]
        },
        {
          "output_type": "stream",
          "name": "stdout",
          "text": [
            "\n",
            "Epoch 2/20 Summary\n",
            "  → Segmentation Source Loss (RAW) : 1.6821\n"
          ]
        },
        {
          "output_type": "stream",
          "name": "stderr",
          "text": [
            "\n",
            "Epoch 2 [Validation]: 100%|██████████| 62/62 [00:14<00:00,  4.38it/s, Val_Loss=128.8265, mIoU=0.2006]\n"
          ]
        },
        {
          "output_type": "stream",
          "name": "stdout",
          "text": [
            "Modello con miou migliore salvato: /content/drive/MyDrive/AML_project/checkpoints/best_model_PIDNET_5_DACS_without_6_class_ohem.pth\n",
            "\n",
            "→ Validation Loss: 8.0517\n",
            "→ Overall mIoU: 0.2006\n",
            "  → background IoU: 0.2150\n",
            "  → building IoU: 0.2593\n",
            "  → road IoU: 0.1782\n",
            "  → water IoU: 0.2437\n",
            "  → barren IoU: 0.0599\n",
            "  → forest IoU: 0.1376\n",
            "  → agriculture IoU: 0.3103\n",
            "[0.000329658544839708]\n"
          ]
        },
        {
          "output_type": "stream",
          "name": "stderr",
          "text": [
            "Epoch 3 [Training]: 100%|██████████| 73/73 [00:35<00:00,  2.07it/s, Loss_seg=22.8060]"
          ]
        },
        {
          "output_type": "stream",
          "name": "stdout",
          "text": [
            "\n",
            "Epoch 3/20 Summary\n",
            "  → Segmentation Source Loss (RAW) : 1.4254\n"
          ]
        },
        {
          "output_type": "stream",
          "name": "stderr",
          "text": [
            "\n",
            "Epoch 3 [Validation]: 100%|██████████| 62/62 [00:14<00:00,  4.35it/s, Val_Loss=147.2895, mIoU=0.1735]"
          ]
        },
        {
          "output_type": "stream",
          "name": "stdout",
          "text": [
            "\n",
            "→ Validation Loss: 9.2056\n",
            "→ Overall mIoU: 0.1735\n",
            "  → background IoU: 0.1383\n",
            "  → building IoU: 0.2724\n",
            "  → road IoU: 0.1568\n",
            "  → water IoU: 0.2255\n",
            "  → barren IoU: 0.0966\n",
            "  → forest IoU: 0.1420\n",
            "  → agriculture IoU: 0.1830\n",
            "[0.000329658544839708]\n"
          ]
        },
        {
          "output_type": "stream",
          "name": "stderr",
          "text": [
            "\n",
            "Epoch 4 [Training]: 100%|██████████| 73/73 [00:35<00:00,  2.08it/s, Loss_seg=21.1107]"
          ]
        },
        {
          "output_type": "stream",
          "name": "stdout",
          "text": [
            "\n",
            "Epoch 4/20 Summary\n",
            "  → Segmentation Source Loss (RAW) : 1.3194\n"
          ]
        },
        {
          "output_type": "stream",
          "name": "stderr",
          "text": [
            "\n",
            "Epoch 4 [Validation]: 100%|██████████| 62/62 [00:14<00:00,  4.37it/s, Val_Loss=145.1341, mIoU=0.1966]"
          ]
        },
        {
          "output_type": "stream",
          "name": "stdout",
          "text": [
            "\n",
            "→ Validation Loss: 9.0709\n",
            "→ Overall mIoU: 0.1966\n",
            "  → background IoU: 0.1584\n",
            "  → building IoU: 0.2498\n",
            "  → road IoU: 0.2144\n",
            "  → water IoU: 0.2590\n",
            "  → barren IoU: 0.1154\n",
            "  → forest IoU: 0.1205\n",
            "  → agriculture IoU: 0.2587\n",
            "[0.000329658544839708]\n"
          ]
        },
        {
          "output_type": "stream",
          "name": "stderr",
          "text": [
            "\n",
            "Epoch 5 [Training]: 100%|██████████| 73/73 [00:35<00:00,  2.08it/s, Loss_seg=19.9712]"
          ]
        },
        {
          "output_type": "stream",
          "name": "stdout",
          "text": [
            "\n",
            "Epoch 5/20 Summary\n",
            "  → Segmentation Source Loss (RAW) : 1.2482\n"
          ]
        },
        {
          "output_type": "stream",
          "name": "stderr",
          "text": [
            "\n",
            "Epoch 5 [Validation]: 100%|██████████| 62/62 [00:14<00:00,  4.34it/s, Val_Loss=145.6461, mIoU=0.2312]\n"
          ]
        },
        {
          "output_type": "stream",
          "name": "stdout",
          "text": [
            "Modello con miou migliore salvato: /content/drive/MyDrive/AML_project/checkpoints/best_model_PIDNET_5_DACS_without_6_class_ohem.pth\n",
            "\n",
            "→ Validation Loss: 9.1029\n",
            "→ Overall mIoU: 0.2312\n",
            "  → background IoU: 0.2970\n",
            "  → building IoU: 0.2033\n",
            "  → road IoU: 0.2126\n",
            "  → water IoU: 0.3458\n",
            "  → barren IoU: 0.1068\n",
            "  → forest IoU: 0.1318\n",
            "  → agriculture IoU: 0.3212\n",
            "[0.000329658544839708]\n"
          ]
        },
        {
          "output_type": "stream",
          "name": "stderr",
          "text": [
            "Epoch 6 [Training]: 100%|██████████| 73/73 [00:35<00:00,  2.07it/s, Loss_seg=19.0128]"
          ]
        },
        {
          "output_type": "stream",
          "name": "stdout",
          "text": [
            "\n",
            "Epoch 6/20 Summary\n",
            "  → Segmentation Source Loss (RAW) : 1.1883\n"
          ]
        },
        {
          "output_type": "stream",
          "name": "stderr",
          "text": [
            "\n",
            "Epoch 6 [Validation]: 100%|██████████| 62/62 [00:14<00:00,  4.34it/s, Val_Loss=133.6860, mIoU=0.2048]"
          ]
        },
        {
          "output_type": "stream",
          "name": "stdout",
          "text": [
            "\n",
            "→ Validation Loss: 8.3554\n",
            "→ Overall mIoU: 0.2048\n",
            "  → background IoU: 0.2285\n",
            "  → building IoU: 0.2278\n",
            "  → road IoU: 0.1833\n",
            "  → water IoU: 0.2496\n",
            "  → barren IoU: 0.1022\n",
            "  → forest IoU: 0.1167\n",
            "  → agriculture IoU: 0.3254\n",
            "[0.000329658544839708]\n"
          ]
        },
        {
          "output_type": "stream",
          "name": "stderr",
          "text": [
            "\n",
            "Epoch 7 [Training]: 100%|██████████| 73/73 [00:35<00:00,  2.06it/s, Loss_seg=18.9131]"
          ]
        },
        {
          "output_type": "stream",
          "name": "stdout",
          "text": [
            "\n",
            "Epoch 7/20 Summary\n",
            "  → Segmentation Source Loss (RAW) : 1.1821\n"
          ]
        },
        {
          "output_type": "stream",
          "name": "stderr",
          "text": [
            "\n",
            "Epoch 7 [Validation]: 100%|██████████| 62/62 [00:14<00:00,  4.37it/s, Val_Loss=129.8704, mIoU=0.2285]"
          ]
        },
        {
          "output_type": "stream",
          "name": "stdout",
          "text": [
            "\n",
            "→ Validation Loss: 8.1169\n",
            "→ Overall mIoU: 0.2285\n",
            "  → background IoU: 0.2440\n",
            "  → building IoU: 0.2238\n",
            "  → road IoU: 0.2408\n",
            "  → water IoU: 0.2880\n",
            "  → barren IoU: 0.1299\n",
            "  → forest IoU: 0.1263\n",
            "  → agriculture IoU: 0.3467\n",
            "[0.000329658544839708]\n"
          ]
        },
        {
          "output_type": "stream",
          "name": "stderr",
          "text": [
            "\n",
            "Epoch 8 [Training]: 100%|██████████| 73/73 [00:35<00:00,  2.08it/s, Loss_seg=17.6731]"
          ]
        },
        {
          "output_type": "stream",
          "name": "stdout",
          "text": [
            "\n",
            "Epoch 8/20 Summary\n",
            "  → Segmentation Source Loss (RAW) : 1.1046\n"
          ]
        },
        {
          "output_type": "stream",
          "name": "stderr",
          "text": [
            "\n",
            "Epoch 8 [Validation]: 100%|██████████| 62/62 [00:14<00:00,  4.36it/s, Val_Loss=143.8503, mIoU=0.2282]"
          ]
        },
        {
          "output_type": "stream",
          "name": "stdout",
          "text": [
            "\n",
            "→ Validation Loss: 8.9906\n",
            "→ Overall mIoU: 0.2282\n",
            "  → background IoU: 0.3601\n",
            "  → building IoU: 0.1916\n",
            "  → road IoU: 0.1692\n",
            "  → water IoU: 0.3618\n",
            "  → barren IoU: 0.1216\n",
            "  → forest IoU: 0.1341\n",
            "  → agriculture IoU: 0.2591\n",
            "[0.000329658544839708]\n"
          ]
        },
        {
          "output_type": "stream",
          "name": "stderr",
          "text": [
            "\n",
            "Epoch 9 [Training]: 100%|██████████| 73/73 [00:35<00:00,  2.07it/s, Loss_seg=17.3829]"
          ]
        },
        {
          "output_type": "stream",
          "name": "stdout",
          "text": [
            "\n",
            "Epoch 9/20 Summary\n",
            "  → Segmentation Source Loss (RAW) : 1.0864\n"
          ]
        },
        {
          "output_type": "stream",
          "name": "stderr",
          "text": [
            "\n",
            "Epoch 9 [Validation]: 100%|██████████| 62/62 [00:14<00:00,  4.38it/s, Val_Loss=135.4246, mIoU=0.2515]\n"
          ]
        },
        {
          "output_type": "stream",
          "name": "stdout",
          "text": [
            "Modello con miou migliore salvato: /content/drive/MyDrive/AML_project/checkpoints/best_model_PIDNET_5_DACS_without_6_class_ohem.pth\n",
            "\n",
            "→ Validation Loss: 8.4640\n",
            "→ Overall mIoU: 0.2515\n",
            "  → background IoU: 0.3264\n",
            "  → building IoU: 0.2891\n",
            "  → road IoU: 0.2339\n",
            "  → water IoU: 0.3701\n",
            "  → barren IoU: 0.0978\n",
            "  → forest IoU: 0.1138\n",
            "  → agriculture IoU: 0.3295\n",
            "[0.000329658544839708]\n"
          ]
        },
        {
          "output_type": "stream",
          "name": "stderr",
          "text": [
            "Epoch 10 [Training]: 100%|██████████| 73/73 [00:35<00:00,  2.07it/s, Loss_seg=16.8717]"
          ]
        },
        {
          "output_type": "stream",
          "name": "stdout",
          "text": [
            "\n",
            "Epoch 10/20 Summary\n",
            "  → Segmentation Source Loss (RAW) : 1.0545\n"
          ]
        },
        {
          "output_type": "stream",
          "name": "stderr",
          "text": [
            "\n",
            "Epoch 10 [Validation]: 100%|██████████| 62/62 [00:14<00:00,  4.34it/s, Val_Loss=142.1785, mIoU=0.2339]"
          ]
        },
        {
          "output_type": "stream",
          "name": "stdout",
          "text": [
            "\n",
            "→ Validation Loss: 8.8862\n",
            "→ Overall mIoU: 0.2339\n",
            "  → background IoU: 0.3627\n",
            "  → building IoU: 0.1879\n",
            "  → road IoU: 0.2171\n",
            "  → water IoU: 0.3851\n",
            "  → barren IoU: 0.1060\n",
            "  → forest IoU: 0.1164\n",
            "  → agriculture IoU: 0.2622\n",
            "[0.000329658544839708]\n"
          ]
        },
        {
          "output_type": "stream",
          "name": "stderr",
          "text": [
            "\n",
            "Epoch 11 [Training]: 100%|██████████| 73/73 [00:35<00:00,  2.08it/s, Loss_seg=16.6064]"
          ]
        },
        {
          "output_type": "stream",
          "name": "stdout",
          "text": [
            "\n",
            "Epoch 11/20 Summary\n",
            "  → Segmentation Source Loss (RAW) : 1.0379\n"
          ]
        },
        {
          "output_type": "stream",
          "name": "stderr",
          "text": [
            "\n",
            "Epoch 11 [Validation]: 100%|██████████| 62/62 [00:14<00:00,  4.37it/s, Val_Loss=152.7161, mIoU=0.2204]"
          ]
        },
        {
          "output_type": "stream",
          "name": "stdout",
          "text": [
            "\n",
            "→ Validation Loss: 9.5448\n",
            "→ Overall mIoU: 0.2204\n",
            "  → background IoU: 0.3354\n",
            "  → building IoU: 0.1801\n",
            "  → road IoU: 0.1786\n",
            "  → water IoU: 0.3798\n",
            "  → barren IoU: 0.1340\n",
            "  → forest IoU: 0.1116\n",
            "  → agriculture IoU: 0.2234\n",
            "[0.000329658544839708]\n"
          ]
        },
        {
          "output_type": "stream",
          "name": "stderr",
          "text": [
            "\n",
            "Epoch 12 [Training]: 100%|██████████| 73/73 [00:35<00:00,  2.08it/s, Loss_seg=16.6514]"
          ]
        },
        {
          "output_type": "stream",
          "name": "stdout",
          "text": [
            "\n",
            "Epoch 12/20 Summary\n",
            "  → Segmentation Source Loss (RAW) : 1.0407\n"
          ]
        },
        {
          "output_type": "stream",
          "name": "stderr",
          "text": [
            "\n",
            "Epoch 12 [Validation]: 100%|██████████| 62/62 [00:14<00:00,  4.37it/s, Val_Loss=140.9234, mIoU=0.2181]"
          ]
        },
        {
          "output_type": "stream",
          "name": "stdout",
          "text": [
            "\n",
            "→ Validation Loss: 8.8077\n",
            "→ Overall mIoU: 0.2181\n",
            "  → background IoU: 0.2169\n",
            "  → building IoU: 0.2581\n",
            "  → road IoU: 0.2367\n",
            "  → water IoU: 0.3390\n",
            "  → barren IoU: 0.1005\n",
            "  → forest IoU: 0.0898\n",
            "  → agriculture IoU: 0.2857\n",
            "[0.000329658544839708]\n"
          ]
        },
        {
          "output_type": "stream",
          "name": "stderr",
          "text": [
            "\n",
            "Epoch 13 [Training]: 100%|██████████| 73/73 [00:35<00:00,  2.07it/s, Loss_seg=17.5539]"
          ]
        },
        {
          "output_type": "stream",
          "name": "stdout",
          "text": [
            "\n",
            "Epoch 13/20 Summary\n",
            "  → Segmentation Source Loss (RAW) : 1.0971\n"
          ]
        },
        {
          "output_type": "stream",
          "name": "stderr",
          "text": [
            "\n",
            "Epoch 13 [Validation]: 100%|██████████| 62/62 [00:14<00:00,  4.37it/s, Val_Loss=137.5085, mIoU=0.2203]"
          ]
        },
        {
          "output_type": "stream",
          "name": "stdout",
          "text": [
            "\n",
            "→ Validation Loss: 8.5943\n",
            "→ Overall mIoU: 0.2203\n",
            "  → background IoU: 0.2926\n",
            "  → building IoU: 0.2219\n",
            "  → road IoU: 0.1964\n",
            "  → water IoU: 0.3466\n",
            "  → barren IoU: 0.0984\n",
            "  → forest IoU: 0.1445\n",
            "  → agriculture IoU: 0.2416\n",
            "[0.000164829272419854]\n"
          ]
        },
        {
          "output_type": "stream",
          "name": "stderr",
          "text": [
            "\n",
            "Epoch 14 [Training]: 100%|██████████| 73/73 [00:34<00:00,  2.10it/s, Loss_seg=15.8870]"
          ]
        },
        {
          "output_type": "stream",
          "name": "stdout",
          "text": [
            "\n",
            "Epoch 14/20 Summary\n",
            "  → Segmentation Source Loss (RAW) : 0.9929\n"
          ]
        },
        {
          "output_type": "stream",
          "name": "stderr",
          "text": [
            "\n",
            "Epoch 14 [Validation]: 100%|██████████| 62/62 [00:14<00:00,  4.38it/s, Val_Loss=145.0266, mIoU=0.2450]"
          ]
        },
        {
          "output_type": "stream",
          "name": "stdout",
          "text": [
            "\n",
            "→ Validation Loss: 9.0642\n",
            "→ Overall mIoU: 0.2450\n",
            "  → background IoU: 0.3547\n",
            "  → building IoU: 0.2230\n",
            "  → road IoU: 0.2298\n",
            "  → water IoU: 0.3781\n",
            "  → barren IoU: 0.1200\n",
            "  → forest IoU: 0.1250\n",
            "  → agriculture IoU: 0.2841\n",
            "[0.000164829272419854]\n"
          ]
        },
        {
          "output_type": "stream",
          "name": "stderr",
          "text": [
            "\n",
            "Epoch 15 [Training]: 100%|██████████| 73/73 [00:35<00:00,  2.07it/s, Loss_seg=15.5925]"
          ]
        },
        {
          "output_type": "stream",
          "name": "stdout",
          "text": [
            "\n",
            "Epoch 15/20 Summary\n",
            "  → Segmentation Source Loss (RAW) : 0.9745\n"
          ]
        },
        {
          "output_type": "stream",
          "name": "stderr",
          "text": [
            "\n",
            "Epoch 15 [Validation]: 100%|██████████| 62/62 [00:14<00:00,  4.34it/s, Val_Loss=144.6453, mIoU=0.2414]"
          ]
        },
        {
          "output_type": "stream",
          "name": "stdout",
          "text": [
            "\n",
            "→ Validation Loss: 9.0403\n",
            "→ Overall mIoU: 0.2414\n",
            "  → background IoU: 0.3751\n",
            "  → building IoU: 0.2163\n",
            "  → road IoU: 0.1854\n",
            "  → water IoU: 0.3880\n",
            "  → barren IoU: 0.1512\n",
            "  → forest IoU: 0.1309\n",
            "  → agriculture IoU: 0.2426\n",
            "[0.000164829272419854]\n"
          ]
        },
        {
          "output_type": "stream",
          "name": "stderr",
          "text": [
            "\n",
            "Epoch 16 [Training]: 100%|██████████| 73/73 [00:35<00:00,  2.08it/s, Loss_seg=15.5496]"
          ]
        },
        {
          "output_type": "stream",
          "name": "stdout",
          "text": [
            "\n",
            "Epoch 16/20 Summary\n",
            "  → Segmentation Source Loss (RAW) : 0.9718\n"
          ]
        },
        {
          "output_type": "stream",
          "name": "stderr",
          "text": [
            "\n",
            "Epoch 16 [Validation]: 100%|██████████| 62/62 [00:14<00:00,  4.39it/s, Val_Loss=144.8603, mIoU=0.2432]"
          ]
        },
        {
          "output_type": "stream",
          "name": "stdout",
          "text": [
            "\n",
            "→ Validation Loss: 9.0538\n",
            "→ Overall mIoU: 0.2432\n",
            "  → background IoU: 0.3410\n",
            "  → building IoU: 0.2498\n",
            "  → road IoU: 0.1863\n",
            "  → water IoU: 0.3933\n",
            "  → barren IoU: 0.1402\n",
            "  → forest IoU: 0.1225\n",
            "  → agriculture IoU: 0.2695\n",
            "[0.000164829272419854]\n"
          ]
        },
        {
          "output_type": "stream",
          "name": "stderr",
          "text": [
            "\n",
            "Epoch 17 [Training]: 100%|██████████| 73/73 [00:35<00:00,  2.08it/s, Loss_seg=15.3531]"
          ]
        },
        {
          "output_type": "stream",
          "name": "stdout",
          "text": [
            "\n",
            "Epoch 17/20 Summary\n",
            "  → Segmentation Source Loss (RAW) : 0.9596\n"
          ]
        },
        {
          "output_type": "stream",
          "name": "stderr",
          "text": [
            "\n",
            "Epoch 17 [Validation]: 100%|██████████| 62/62 [00:14<00:00,  4.38it/s, Val_Loss=154.4975, mIoU=0.2461]"
          ]
        },
        {
          "output_type": "stream",
          "name": "stdout",
          "text": [
            "\n",
            "→ Validation Loss: 9.6561\n",
            "→ Overall mIoU: 0.2461\n",
            "  → background IoU: 0.3663\n",
            "  → building IoU: 0.2431\n",
            "  → road IoU: 0.1954\n",
            "  → water IoU: 0.4163\n",
            "  → barren IoU: 0.1414\n",
            "  → forest IoU: 0.1293\n",
            "  → agriculture IoU: 0.2308\n",
            "[8.2414636209927e-05]\n"
          ]
        },
        {
          "output_type": "stream",
          "name": "stderr",
          "text": [
            "\n",
            "Epoch 18 [Training]: 100%|██████████| 73/73 [00:35<00:00,  2.07it/s, Loss_seg=14.9307]"
          ]
        },
        {
          "output_type": "stream",
          "name": "stdout",
          "text": [
            "\n",
            "Epoch 18/20 Summary\n",
            "  → Segmentation Source Loss (RAW) : 0.9332\n"
          ]
        },
        {
          "output_type": "stream",
          "name": "stderr",
          "text": [
            "\n",
            "Epoch 18 [Validation]: 100%|██████████| 62/62 [00:14<00:00,  4.37it/s, Val_Loss=158.8617, mIoU=0.2440]"
          ]
        },
        {
          "output_type": "stream",
          "name": "stdout",
          "text": [
            "\n",
            "→ Validation Loss: 9.9289\n",
            "→ Overall mIoU: 0.2440\n",
            "  → background IoU: 0.3643\n",
            "  → building IoU: 0.1925\n",
            "  → road IoU: 0.2080\n",
            "  → water IoU: 0.4087\n",
            "  → barren IoU: 0.1650\n",
            "  → forest IoU: 0.1279\n",
            "  → agriculture IoU: 0.2413\n",
            "[8.2414636209927e-05]\n"
          ]
        },
        {
          "output_type": "stream",
          "name": "stderr",
          "text": [
            "\n",
            "Epoch 19 [Training]: 100%|██████████| 73/73 [00:35<00:00,  2.08it/s, Loss_seg=14.9893]"
          ]
        },
        {
          "output_type": "stream",
          "name": "stdout",
          "text": [
            "\n",
            "Epoch 19/20 Summary\n",
            "  → Segmentation Source Loss (RAW) : 0.9368\n"
          ]
        },
        {
          "output_type": "stream",
          "name": "stderr",
          "text": [
            "\n",
            "Epoch 19 [Validation]: 100%|██████████| 62/62 [00:14<00:00,  4.39it/s, Val_Loss=148.1636, mIoU=0.2543]\n"
          ]
        },
        {
          "output_type": "stream",
          "name": "stdout",
          "text": [
            "Modello con miou migliore salvato: /content/drive/MyDrive/AML_project/checkpoints/best_model_PIDNET_5_DACS_without_6_class_ohem.pth\n",
            "\n",
            "→ Validation Loss: 9.2602\n",
            "→ Overall mIoU: 0.2543\n",
            "  → background IoU: 0.3811\n",
            "  → building IoU: 0.2504\n",
            "  → road IoU: 0.2318\n",
            "  → water IoU: 0.3735\n",
            "  → barren IoU: 0.1559\n",
            "  → forest IoU: 0.1191\n",
            "  → agriculture IoU: 0.2685\n",
            "[8.2414636209927e-05]\n"
          ]
        },
        {
          "output_type": "stream",
          "name": "stderr",
          "text": [
            "Epoch 20 [Training]: 100%|██████████| 73/73 [00:35<00:00,  2.08it/s, Loss_seg=14.8462]"
          ]
        },
        {
          "output_type": "stream",
          "name": "stdout",
          "text": [
            "\n",
            "Epoch 20/20 Summary\n",
            "  → Segmentation Source Loss (RAW) : 0.9279\n"
          ]
        },
        {
          "output_type": "stream",
          "name": "stderr",
          "text": [
            "\n",
            "Epoch 20 [Validation]: 100%|██████████| 62/62 [00:14<00:00,  4.38it/s, Val_Loss=151.6840, mIoU=0.2437]"
          ]
        },
        {
          "output_type": "stream",
          "name": "stdout",
          "text": [
            "\n",
            "→ Validation Loss: 9.4803\n",
            "→ Overall mIoU: 0.2437\n",
            "  → background IoU: 0.3498\n",
            "  → building IoU: 0.2126\n",
            "  → road IoU: 0.2392\n",
            "  → water IoU: 0.3621\n",
            "  → barren IoU: 0.1563\n",
            "  → forest IoU: 0.1123\n",
            "  → agriculture IoU: 0.2732\n"
          ]
        },
        {
          "output_type": "stream",
          "name": "stderr",
          "text": [
            "\n"
          ]
        }
      ],
      "source": [
        "from tqdm import tqdm\n",
        "import torch\n",
        "from torchmetrics.segmentation import MeanIoU\n",
        "import matplotlib.pyplot as plt\n",
        "\n",
        "np.random.seed(SEED)\n",
        "torch.manual_seed(SEED)\n",
        "torch.cuda.manual_seed(SEED)\n",
        "\n",
        "\n",
        "for index_of_blocked_class in range(NUM_CLASSES):\n",
        "\n",
        "    model = get_seg_model(cfg, imgnet_pretrained=True)\n",
        "    model.to(device)\n",
        "\n",
        "    optimizer = torch.optim.SGD(model.parameters(), lr=LR, momentum=MOMENTUM)\n",
        "\n",
        "    scheduler = torch.optim.lr_scheduler.ReduceLROnPlateau(optimizer, mode='max', factor=GAMMA, patience=3, threshold=0.01)\n",
        "\n",
        "    if TYPE_WEIGHT == \"median-frequency\" or TYPE_WEIGHT == \"inverse\" or TYPE_WEIGHT == \"log\":\n",
        "      loss_fn = PIDNetLoss(threshold=0.8, class_weights=class_weights)\n",
        "      mix_loss = CrossEntropyLoss2dPixelWiseWeighted(ignore_index = IGNORE_INDEX, weight = torch.tensor(class_weights).cuda())\n",
        "    else:\n",
        "      loss_fn = PIDNetLoss(threshold=0.8, class_weights=None)\n",
        "      mix_loss = CrossEntropyLoss2dPixelWiseWeighted(ignore_index = IGNORE_INDEX, weight = None)\n",
        "\n",
        "\n",
        "    ema_model = create_ema_model(model)\n",
        "    ema_model.to(device)\n",
        "\n",
        "    num_classes = 7\n",
        "    miou_classes = MeanIoU(num_classes=num_classes, input_format = \"index\", per_class=True).to(device)\n",
        "\n",
        "    record_miou = 0\n",
        "\n",
        "    for epoch in range(EPOCHS):\n",
        "        print(scheduler.get_last_lr())\n",
        "        loss_raw_value = 0\n",
        "        total_train_samples = 0\n",
        "\n",
        "        model.train()\n",
        "        ema_model.train()\n",
        "\n",
        "\n",
        "\n",
        "        train_loader = zip(source_loader, target_loader)\n",
        "        num_batches = min(len(source_loader), len(target_loader))\n",
        "\n",
        "        pbar = tqdm(enumerate(train_loader), total=num_batches, desc=f\"Epoch {epoch+1} [Training]\")\n",
        "\n",
        "        for i, (source_batch, target_batch) in pbar:\n",
        "            optimizer.zero_grad()\n",
        "\n",
        "            X_source, y_source, boundary_mask_source = source_batch\n",
        "            X_source, y_source, boundary_mask_source = X_source.to(device), y_source.to(device), boundary_mask_source.to(device)\n",
        "\n",
        "            X_target, boundary_mask_target = target_batch\n",
        "            X_target, boundary_mask_target = X_target.to(device), boundary_mask_target.to(device)\n",
        "\n",
        "            outputs_s = model(X_source)\n",
        "            pred_p, pred_main, boundary_head = Upscaling(outputs=outputs_s, boundary_mask=boundary_mask_source, model=model)\n",
        "\n",
        "            loss_labled = loss_fn(pred_p, pred_main, y_source, boundary_head, boundary_mask_source)\n",
        "\n",
        "            if(LOSS_TYPE == \"ohem\"):\n",
        "              loss_labled = torch.mean(loss_labled)\n",
        "\n",
        "            outputs_t = ema_model(X_target)\n",
        "\n",
        "            _ , pred_main, _ = Upscaling(outputs=outputs_t, boundary_mask=boundary_mask_target, model=ema_model)\n",
        "\n",
        "            probs_t = torch.softmax(pred_main.detach(), dim=1)\n",
        "\n",
        "            max_probs, pseudo_labels = torch.max(probs_t, dim=1)\n",
        "\n",
        "            MixMasks = []\n",
        "\n",
        "            for image_i in range(X_source.shape[0]): # Per ogni immagine source stiamo andando ad estrarre delle classi prese in modo random\n",
        "              classes = torch.unique(y_source[image_i])\n",
        "              classes = classes[classes!=-1]\n",
        "              classes = classes[classes != index_of_blocked_class]  # remove blocked class\n",
        "\n",
        "              nclasses = classes.shape[0]\n",
        "              classes = (classes[torch.Tensor(np.random.choice(nclasses, int((nclasses+nclasses%2)/2),replace=False)).long()]).cuda()\n",
        "\n",
        "              MixMask = generate_class_mask(y_source[image_i], classes).unsqueeze(0).cuda()\n",
        "              MixMasks.append(MixMask)\n",
        "\n",
        "            mixed_imgs = []\n",
        "            mixed_labels = []\n",
        "            mixed_boundary_masks = []\n",
        "\n",
        "            for image_i in range(X_source.shape[0]):\n",
        "              data = torch.cat((X_source[image_i].unsqueeze(0), X_target[image_i].unsqueeze(0)))\n",
        "              labels = torch.cat((y_source[image_i].unsqueeze(0), pseudo_labels[image_i].unsqueeze(0)))\n",
        "\n",
        "              data, mask = strong_transform(\n",
        "                  aug=augment,\n",
        "                  data=data,\n",
        "                  target=labels,\n",
        "                  masks_mix=[MixMasks[image_i]]\n",
        "              )\n",
        "\n",
        "              boundary_mask_mix = extract_boundary_mask(mask)\n",
        "\n",
        "              mixed_imgs.append(data)\n",
        "              mixed_labels.append(mask)\n",
        "              mixed_boundary_masks.append(boundary_mask_mix)\n",
        "\n",
        "            if i == 0 and SHOW_IMG:\n",
        "              fig, axs = plt.subplots(2, 3, figsize=(24, 10))\n",
        "\n",
        "              for j in range(2):\n",
        "                axs[j, 0].imshow(mixed_imgs[j].squeeze().permute(1, 2, 0).cpu().detach().numpy())\n",
        "                axs[j, 0].set_title(\"IMG\")\n",
        "                axs[j, 0].axis('off')\n",
        "\n",
        "                axs[j, 1].imshow(mixed_labels[j].permute(1, 2, 0).cpu().detach().numpy())\n",
        "                axs[j, 1].set_title(\"Labels\")\n",
        "                axs[j, 1].axis('off')\n",
        "\n",
        "                axs[j, 2].imshow(mixed_boundary_masks[j].permute(1, 2, 0).cpu().detach().numpy())\n",
        "                axs[j, 2].set_title(\"Boundary\")\n",
        "                axs[j, 2].axis('off')\n",
        "\n",
        "              plt.tight_layout()\n",
        "              plt.show()\n",
        "\n",
        "            #Mi ricostruisce il batch completo da una lista di singole immagini e label mescolate (quindi con shape [1, C, H, W]) in [BATCH_SIZE, C, H, W]\n",
        "            inputs_mix = torch.cat(mixed_imgs, dim=0).to(device)\n",
        "            targets_mix = torch.cat(mixed_labels, dim=0).to(device)\n",
        "            boundary_masks_mix = torch.cat(mixed_boundary_masks, dim=0).to(device)\n",
        "\n",
        "            outputs_mix = model(inputs_mix)\n",
        "\n",
        "            pred_p_mix, pred_main_mix, boundary_head_mix = Upscaling(outputs=outputs_mix, boundary_mask=boundary_masks_mix, model=model)\n",
        "\n",
        "            #---------------------------------\n",
        "            if PIXEL_WEIGHT == \"threshold_uniform\":\n",
        "              unlabeled_weight = torch.sum(max_probs.ge(0.968).long() == 1).item() / np.size(np.array(targets_mix.cpu()))\n",
        "              pixelWiseWeight = unlabeled_weight * torch.ones(max_probs.shape).cuda()\n",
        "            else:\n",
        "              pixelWiseWeight = max_probs.ge(THRESHOLD).float().cuda()\n",
        "\n",
        "            onesWeights = torch.ones((pixelWiseWeight.shape)).cuda()\n",
        "\n",
        "            pixelWiseWeight_mix = []\n",
        "\n",
        "            for image_i in range(X_source.shape[0]):\n",
        "                weights_pair = torch.cat((onesWeights[image_i].unsqueeze(0), pixelWiseWeight[image_i].unsqueeze(0)))\n",
        "\n",
        "                _, mixed_weights = strong_transform(\n",
        "                    target=weights_pair,\n",
        "                    masks_mix=[MixMasks[image_i]]\n",
        "                )\n",
        "\n",
        "                pixelWiseWeight_mix.append(mixed_weights)\n",
        "\n",
        "            pixelWiseWeight_mix = torch.cat(pixelWiseWeight_mix, dim=0).to(device)  # [B, H, W]\n",
        "\n",
        "\n",
        "            loss_seg_mix = mix_loss(pred_main_mix, targets_mix, pixelWiseWeight_mix)\n",
        "            #---------------------------------------\n",
        "\n",
        "            loss_overall = loss_seg_mix + loss_labled\n",
        "\n",
        "            loss_overall.backward()\n",
        "            optimizer.step()\n",
        "\n",
        "            ema_model = update_ema_variables(ema_model = ema_model, model = model, alpha_teacher=ALPHA_TEACHER, iteration=(epoch * num_batches + i))\n",
        "\n",
        "            loss_raw_value += loss_overall.item()\n",
        "            total_train_samples += X_target.size(0)\n",
        "\n",
        "            pbar.set_postfix({\n",
        "                \"Loss_seg\": f\"{loss_raw_value / (i+1):.4f}\",\n",
        "            })\n",
        "\n",
        "        print(f\"\\nEpoch {epoch+1}/{EPOCHS} Summary\")\n",
        "        print(f\"  → Segmentation Source Loss (RAW) : {loss_raw_value / total_train_samples:.4f}\")\n",
        "\n",
        "        # ---------------------- VALIDATION ----------------------\n",
        "\n",
        "        model.eval()\n",
        "        val_loss = 0\n",
        "        miou_classes.reset()\n",
        "        total_val_samples = 0\n",
        "\n",
        "        with torch.inference_mode():\n",
        "            pbar_val = tqdm(enumerate(val_loader), total=len(val_loader), desc=f\"Epoch {epoch+1} [Validation]\")\n",
        "\n",
        "            for batch, (X_val, y_val, boundary_mask) in pbar_val:\n",
        "                X_val, y_val, boundary_mask = X_val.to(device), y_val.to(device), boundary_mask.to(device)\n",
        "\n",
        "                outputs = model(X_val)\n",
        "                pred_p, pred_main, boundary_head = Upscaling(outputs=outputs, boundary_mask=boundary_mask, model=model)\n",
        "\n",
        "                loss = loss_fn(pred_p, pred_main, y_val, boundary_head, boundary_mask)\n",
        "\n",
        "                if(LOSS_TYPE == \"ohem\"):\n",
        "                  loss = torch.mean(loss)\n",
        "\n",
        "                val_loss += loss.item()\n",
        "                total_val_samples += X_val.size(0)\n",
        "\n",
        "                preds = pred_main.argmax(dim=1)\n",
        "                valid_mask = (y_val >= 0) & (y_val < num_classes)\n",
        "                preds_flat = preds[valid_mask]\n",
        "                targets_flat = y_val[valid_mask]\n",
        "\n",
        "                miou_classes.update(preds_flat, targets_flat)\n",
        "\n",
        "                pbar_val.set_postfix({\n",
        "                    \"Val_Loss\": f\"{val_loss / (batch+1):.4f}\",\n",
        "                    \"mIoU\": f\"{miou_classes.compute().mean():.4f}\"\n",
        "                })\n",
        "\n",
        "        avg_val_loss = val_loss / total_val_samples\n",
        "        miou_per_class = miou_classes.compute()\n",
        "        miou = miou_per_class.mean()\n",
        "\n",
        "        if record_miou is None or miou > record_miou:\n",
        "          best_model_path = f\"/content/drive/MyDrive/AML_project/checkpoints/best_model_PIDNET_5_DACS_without_{index_of_blocked_class}_class_ohem.pth\"\n",
        "          torch.save(model.state_dict(), best_model_path)\n",
        "          print(f\"Modello con miou migliore salvato: {best_model_path}\")\n",
        "          record_miou = miou\n",
        "\n",
        "        print(f\"\\n→ Validation Loss: {avg_val_loss:.4f}\")\n",
        "        print(f\"→ Overall mIoU: {miou:.4f}\")\n",
        "        for i, iou in enumerate(miou_per_class):\n",
        "            class_name = list(sem_class_to_idx.keys())[list(sem_class_to_idx.values()).index(i)]\n",
        "            print(f\"  → {class_name} IoU: {iou:.4f}\")\n",
        "\n",
        "        scheduler.step(miou)\n",
        "\n",
        "\n"
      ]
    },
    {
      "cell_type": "code",
      "source": [
        "# ****************************** Validazione ******************************\n",
        "from torchmetrics.segmentation import MeanIoU\n",
        "\n",
        "num_classes = 7\n",
        "miou_classes = MeanIoU(num_classes=num_classes, input_format = \"index\", per_class=True).to(device)\n",
        "\n",
        "for i in range(NUM_CLASSES):\n",
        "\n",
        "    model_path = f\"/content/drive/MyDrive/AML_project/checkpoints/best_model_PIDNET_5_DACS_without_{i}_class_ohem.pth\"\n",
        "\n",
        "    cfg = Config()\n",
        "\n",
        "    model = get_seg_model(cfg, imgnet_pretrained=True)\n",
        "\n",
        "    try:\n",
        "      model.load_state_dict(torch.load(model_path))\n",
        "      print(f\"loaded model {i}\")\n",
        "    except:\n",
        "      print(list(torch.load(best_model_path).keys())[:5])\n",
        "\n",
        "    model.to(device)\n",
        "\n",
        "    model.eval()\n",
        "    val_loss = 0\n",
        "    miou_classes.reset()\n",
        "    total_val_samples = 0\n",
        "\n",
        "    with torch.inference_mode():\n",
        "        for batch, (X_val, y_val, boundary_mask) in enumerate(val_loader):\n",
        "            X_val = X_val.to(device)\n",
        "            y_val = y_val.to(device)\n",
        "            boundary_mask = boundary_mask.to(device)\n",
        "\n",
        "            # Output del modello\n",
        "            outputs = model(X_val)\n",
        "\n",
        "            #upscaling\n",
        "            pred_p, pred_main, boundary_head = Upscaling(outputs=outputs, boundary_mask=boundary_mask, model=model)\n",
        "\n",
        "            if batch == 0 and SHOW_IMG:\n",
        "              fig, axs = plt.subplots(4, 5, figsize=(12, 5))\n",
        "\n",
        "              for j in range(4):\n",
        "\n",
        "                axs[j, 0].imshow(pred_p[j].cpu().detach().argmax(dim=0).numpy(), cmap='tab20')\n",
        "                axs[j, 0].set_title(\"Auxiliary Prediction\")\n",
        "                axs[j, 0].axis('off')\n",
        "\n",
        "                axs[j, 1].imshow(pred_main[j].cpu().detach().argmax(dim=0).numpy(), cmap='tab20')\n",
        "                axs[j, 1].set_title(\"Main Prediction\")\n",
        "                axs[j, 1].axis('off')\n",
        "\n",
        "                axs[j, 2].imshow(y_val[j].cpu().detach().numpy(), cmap='tab20')\n",
        "                axs[j, 2].set_title(\"Target mask\")\n",
        "                axs[j, 2].axis('off')\n",
        "\n",
        "                axs[j, 3].imshow(boundary_head[j].cpu().detach().sigmoid().squeeze(0).numpy(), cmap='gray')\n",
        "                axs[j, 3].set_title(\"Boundary Prediction\")\n",
        "                axs[j, 3].axis('off')\n",
        "\n",
        "                axs[j, 4].imshow(X_val[j].cpu().detach().squeeze(0).numpy().transpose(1, 2, 0))\n",
        "                axs[j, 4].set_title(\"Target image\")\n",
        "                axs[j, 4].axis('off')\n",
        "\n",
        "              plt.tight_layout()\n",
        "              plt.show()\n",
        "\n",
        "            # Calcola la loss\n",
        "            loss = loss_fn(pred_p, pred_main, y_val, boundary_head, boundary_mask)\n",
        "\n",
        "            if(LOSS_TYPE == \"ohem\"):\n",
        "              loss = torch.mean(loss)\n",
        "\n",
        "            val_loss += loss.item()\n",
        "\n",
        "            total_val_samples += X_val.size(0)\n",
        "\n",
        "            # Calcola le predizioni\n",
        "            preds = pred_main.argmax(dim=1)  # Shape: (N, H, W)\n",
        "\n",
        "            # Mask dei pixel validi (classi da 0 a num_classes - 1)\n",
        "            valid_mask = (y_val >= 0) & (y_val < num_classes)\n",
        "\n",
        "            # print(f\"valid mask :\", valid_mask.shape )\n",
        "\n",
        "            # Appiattisci le predizioni e i target solo sui pixel validi\n",
        "            preds_flat = preds[valid_mask]\n",
        "            targets_flat = y_val[valid_mask]\n",
        "\n",
        "            # print(f\"preds_flat :\", preds_flat.shape )\n",
        "            # print(f\"targets_flat :\", targets_flat.shape )\n",
        "\n",
        "            miou_classes.update(preds_flat, targets_flat)\n",
        "\n",
        "    avg_val_loss = val_loss / total_val_samples\n",
        "\n",
        "    miou_per_class = miou_classes.compute()\n",
        "    miou = miou_per_class.mean()\n",
        "\n",
        "    print(f\"Validation Loss: {avg_val_loss} | mIoU: {miou} | Total validation samples seen: {total_val_samples}\")\n",
        "    # per class\n",
        "    for i, iou in enumerate(miou_per_class):\n",
        "        class_name = list(sem_class_to_idx.keys())[list(sem_class_to_idx.values()).index(i)]\n",
        "        print(f\"  → {class_name} IoU: {iou:.4f}\")"
      ],
      "metadata": {
        "id": "YPXuMPCoYmBW",
        "colab": {
          "base_uri": "https://localhost:8080/"
        },
        "outputId": "d9e61128-8871-430c-d1df-5b5772b5fc1b"
      },
      "execution_count": 27,
      "outputs": [
        {
          "output_type": "stream",
          "name": "stdout",
          "text": [
            "loaded model 0\n",
            "Validation Loss: 8.247636375888701 | mIoU: 0.2627679109573364 | Total validation samples seen: 992\n",
            "  → background IoU: 0.3410\n",
            "  → building IoU: 0.2768\n",
            "  → road IoU: 0.2354\n",
            "  → water IoU: 0.4835\n",
            "  → barren IoU: 0.0864\n",
            "  → forest IoU: 0.0955\n",
            "  → agriculture IoU: 0.3207\n",
            "loaded model 1\n",
            "Validation Loss: 7.9290834588389245 | mIoU: 0.21794191002845764 | Total validation samples seen: 992\n",
            "  → background IoU: 0.3348\n",
            "  → building IoU: 0.1514\n",
            "  → road IoU: 0.2218\n",
            "  → water IoU: 0.3518\n",
            "  → barren IoU: 0.0789\n",
            "  → forest IoU: 0.0390\n",
            "  → agriculture IoU: 0.3479\n",
            "loaded model 2\n",
            "Validation Loss: 7.750218014563283 | mIoU: 0.2591732442378998 | Total validation samples seen: 992\n",
            "  → background IoU: 0.4051\n",
            "  → building IoU: 0.2287\n",
            "  → road IoU: 0.2151\n",
            "  → water IoU: 0.4967\n",
            "  → barren IoU: 0.0550\n",
            "  → forest IoU: 0.0755\n",
            "  → agriculture IoU: 0.3382\n",
            "loaded model 3\n",
            "Validation Loss: 8.743455110057708 | mIoU: 0.24064521491527557 | Total validation samples seen: 992\n",
            "  → background IoU: 0.2386\n",
            "  → building IoU: 0.3239\n",
            "  → road IoU: 0.2255\n",
            "  → water IoU: 0.3874\n",
            "  → barren IoU: 0.1125\n",
            "  → forest IoU: 0.1001\n",
            "  → agriculture IoU: 0.2964\n",
            "loaded model 4\n",
            "Validation Loss: 8.940935411760885 | mIoU: 0.2329646497964859 | Total validation samples seen: 992\n",
            "  → background IoU: 0.3262\n",
            "  → building IoU: 0.2234\n",
            "  → road IoU: 0.2419\n",
            "  → water IoU: 0.3857\n",
            "  → barren IoU: 0.0619\n",
            "  → forest IoU: 0.1078\n",
            "  → agriculture IoU: 0.2838\n",
            "loaded model 5\n",
            "Validation Loss: 6.975086504413236 | mIoU: 0.27469226717948914 | Total validation samples seen: 992\n",
            "  → background IoU: 0.4073\n",
            "  → building IoU: 0.3897\n",
            "  → road IoU: 0.1825\n",
            "  → water IoU: 0.3816\n",
            "  → barren IoU: 0.0763\n",
            "  → forest IoU: 0.1696\n",
            "  → agriculture IoU: 0.3159\n",
            "loaded model 6\n",
            "Validation Loss: 9.260226745759287 | mIoU: 0.2543310225009918 | Total validation samples seen: 992\n",
            "  → background IoU: 0.3811\n",
            "  → building IoU: 0.2504\n",
            "  → road IoU: 0.2318\n",
            "  → water IoU: 0.3735\n",
            "  → barren IoU: 0.1559\n",
            "  → forest IoU: 0.1191\n",
            "  → agriculture IoU: 0.2685\n"
          ]
        }
      ]
    },
    {
      "cell_type": "markdown",
      "source": [
        "# Model ensemble\n",
        "Take the top 3 models (mIoU) and perform model ensambe"
      ],
      "metadata": {
        "id": "XRHChDSzLdQY"
      }
    },
    {
      "cell_type": "code",
      "source": [
        "# top 3 models are 0, 2, 5\n",
        "from torchmetrics.segmentation import MeanIoU\n",
        "best_models = [0, 2, 5]\n",
        "\n",
        "model_paths = [f\"/content/drive/MyDrive/AML_project/checkpoints/best_model_PIDNET_5_DACS_without_{model_id}_class_ohem.pth\" for model_id in best_models]\n",
        "\n",
        "cfg = Config()\n",
        "\n",
        "models = []\n",
        "for model_path in model_paths:\n",
        "  model = get_seg_model(cfg, imgnet_pretrained=True)\n",
        "  model.load_state_dict(torch.load(model_path))\n",
        "  try:\n",
        "    model.load_state_dict(torch.load(model_path))\n",
        "    print(f\"loaded model at {model_path}\")\n",
        "  except:\n",
        "    print(list(torch.load(model_path).keys())[:5])\n",
        "  model.to(device)\n",
        "  model.eval()\n",
        "  models.append(model)\n",
        "\n",
        "num_classes = 7\n",
        "miou_classes = MeanIoU(num_classes=num_classes, input_format = \"index\", per_class=True).to(device)\n",
        "miou_classes.reset()\n",
        "total_val_samples = 0\n",
        "\n",
        "with torch.inference_mode():\n",
        "    for batch, (X_val, y_val, boundary_mask) in enumerate(val_loader):\n",
        "        X_val = X_val.to(device)\n",
        "        y_val = y_val.to(device)\n",
        "        boundary_mask = boundary_mask.to(device)\n",
        "\n",
        "        # list of generated outputs from each model (only main predictions)\n",
        "        main_pred_list = [model(X_val)[1] for model in models]\n",
        "\n",
        "\n",
        "        # stacks main predictions\n",
        "        pred_main_stack = torch.stack(main_pred_list, dim=0)\n",
        "        mean_pred_main = pred_main_stack.mean(dim=0).squeeze(0)\n",
        "\n",
        "\n",
        "\n",
        "        #upscaling\n",
        "\n",
        "\n",
        "        h, w = boundary_mask.size(1), boundary_mask.size(2)\n",
        "        ph, pw = mean_pred_main.size(2), mean_pred_main.size(3)\n",
        "        if ph != h or pw != w:\n",
        "            mean_pred_main = F.interpolate(mean_pred_main, size=(h, w), mode='bilinear', align_corners=True)\n",
        "\n",
        "        if batch == 0 and SHOW_IMG:\n",
        "          fig, axs = plt.subplots(4, 5, figsize=(12, 5))\n",
        "\n",
        "          for j in range(4):\n",
        "\n",
        "            axs[j, 0].imshow(pred_p[j].cpu().detach().argmax(dim=0).numpy(), cmap='tab20')\n",
        "            axs[j, 0].set_title(\"Auxiliary Prediction\")\n",
        "            axs[j, 0].axis('off')\n",
        "\n",
        "            axs[j, 1].imshow(pred_main[j].cpu().detach().argmax(dim=0).numpy(), cmap='tab20')\n",
        "            axs[j, 1].set_title(\"Main Prediction\")\n",
        "            axs[j, 1].axis('off')\n",
        "\n",
        "            axs[j, 2].imshow(y_val[j].cpu().detach().numpy(), cmap='tab20')\n",
        "            axs[j, 2].set_title(\"Target mask\")\n",
        "            axs[j, 2].axis('off')\n",
        "\n",
        "            axs[j, 3].imshow(boundary_head[j].cpu().detach().sigmoid().squeeze(0).numpy(), cmap='gray')\n",
        "            axs[j, 3].set_title(\"Boundary Prediction\")\n",
        "            axs[j, 3].axis('off')\n",
        "\n",
        "            axs[j, 4].imshow(X_val[j].cpu().detach().squeeze(0).numpy().transpose(1, 2, 0))\n",
        "            axs[j, 4].set_title(\"Target image\")\n",
        "            axs[j, 4].axis('off')\n",
        "\n",
        "          plt.tight_layout()\n",
        "          plt.show()\n",
        "\n",
        "        total_val_samples += X_val.size(0)\n",
        "\n",
        "        # Calcola le predizioni\n",
        "        preds = mean_pred_main.argmax(dim=1)  # Shape: (N, H, W)\n",
        "\n",
        "        # Mask dei pixel validi (classi da 0 a num_classes - 1)\n",
        "        valid_mask = (y_val >= 0) & (y_val < num_classes)\n",
        "\n",
        "        # print(f\"valid mask :\", valid_mask.shape )\n",
        "\n",
        "        # Appiattisci le predizioni e i target solo sui pixel validi\n",
        "        preds_flat = preds[valid_mask]\n",
        "        targets_flat = y_val[valid_mask]\n",
        "\n",
        "        miou_classes.update(preds_flat, targets_flat)\n",
        "\n",
        "#avg_val_loss = val_loss / total_val_samples\n",
        "\n",
        "miou_per_class = miou_classes.compute()\n",
        "miou = miou_per_class.mean()\n",
        "\n",
        "print(f\"mIoU: {miou} \")\n",
        "# per class\n",
        "for i, iou in enumerate(miou_per_class):\n",
        "    class_name = list(sem_class_to_idx.keys())[list(sem_class_to_idx.values()).index(i)]\n",
        "    print(f\"  → {class_name} IoU: {iou:.4f}\")"
      ],
      "metadata": {
        "colab": {
          "base_uri": "https://localhost:8080/"
        },
        "id": "Apl7aSzALkdk",
        "outputId": "302a6c6f-2354-414e-bb70-3252d7a3b310"
      },
      "execution_count": 28,
      "outputs": [
        {
          "output_type": "stream",
          "name": "stdout",
          "text": [
            "loaded model at /content/drive/MyDrive/AML_project/checkpoints/best_model_PIDNET_5_DACS_without_0_class_ohem.pth\n",
            "loaded model at /content/drive/MyDrive/AML_project/checkpoints/best_model_PIDNET_5_DACS_without_2_class_ohem.pth\n",
            "loaded model at /content/drive/MyDrive/AML_project/checkpoints/best_model_PIDNET_5_DACS_without_5_class_ohem.pth\n",
            "mIoU: 0.3115817606449127 \n",
            "  → background IoU: 0.4560\n",
            "  → building IoU: 0.3904\n",
            "  → road IoU: 0.2502\n",
            "  → water IoU: 0.5278\n",
            "  → barren IoU: 0.0882\n",
            "  → forest IoU: 0.1213\n",
            "  → agriculture IoU: 0.3473\n"
          ]
        }
      ]
    }
  ],
  "metadata": {
    "colab": {
      "machine_shape": "hm",
      "provenance": [],
      "gpuType": "A100",
      "include_colab_link": true
    },
    "kernelspec": {
      "display_name": "Python 3",
      "name": "python3"
    },
    "language_info": {
      "name": "python"
    },
    "accelerator": "GPU"
  },
  "nbformat": 4,
  "nbformat_minor": 0
}