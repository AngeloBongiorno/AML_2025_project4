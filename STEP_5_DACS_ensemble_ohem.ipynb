{
  "cells": [
    {
      "cell_type": "markdown",
      "metadata": {
        "id": "view-in-github",
        "colab_type": "text"
      },
      "source": [
        "<a href=\"https://colab.research.google.com/github/AngeloBongiorno/AML_2025_project4/blob/angelo/STEP_5_DACS_ensemble_ohem.ipynb\" target=\"_parent\"><img src=\"https://colab.research.google.com/assets/colab-badge.svg\" alt=\"Open In Colab\"/></a>"
      ]
    },
    {
      "cell_type": "markdown",
      "metadata": {
        "id": "K7QJviwzoN5m"
      },
      "source": [
        "## Install Dependencies"
      ]
    },
    {
      "cell_type": "markdown",
      "metadata": {
        "id": "rHpwU5g8s-Pt"
      },
      "source": [
        "## Upload .zip files"
      ]
    },
    {
      "cell_type": "markdown",
      "metadata": {
        "id": "O2_aVBiH46K3"
      },
      "source": [
        "For this step you must have the zip files in your Drive into a folder called `AML_project`"
      ]
    },
    {
      "cell_type": "code",
      "execution_count": 8,
      "metadata": {
        "colab": {
          "base_uri": "https://localhost:8080/"
        },
        "collapsed": true,
        "id": "xxVbeep6Rlnb",
        "outputId": "a14c3a0d-b0f9-4d07-efbf-40114ee6d8ff"
      },
      "outputs": [
        {
          "output_type": "stream",
          "name": "stdout",
          "text": [
            "Requirement already satisfied: torchmetrics in /usr/local/lib/python3.11/dist-packages (1.7.1)\n",
            "Requirement already satisfied: numpy>1.20.0 in /usr/local/lib/python3.11/dist-packages (from torchmetrics) (2.0.2)\n",
            "Requirement already satisfied: packaging>17.1 in /usr/local/lib/python3.11/dist-packages (from torchmetrics) (24.2)\n",
            "Requirement already satisfied: torch>=2.0.0 in /usr/local/lib/python3.11/dist-packages (from torchmetrics) (2.6.0+cu124)\n",
            "Requirement already satisfied: lightning-utilities>=0.8.0 in /usr/local/lib/python3.11/dist-packages (from torchmetrics) (0.14.3)\n",
            "Requirement already satisfied: setuptools in /usr/local/lib/python3.11/dist-packages (from lightning-utilities>=0.8.0->torchmetrics) (75.2.0)\n",
            "Requirement already satisfied: typing_extensions in /usr/local/lib/python3.11/dist-packages (from lightning-utilities>=0.8.0->torchmetrics) (4.13.2)\n",
            "Requirement already satisfied: filelock in /usr/local/lib/python3.11/dist-packages (from torch>=2.0.0->torchmetrics) (3.18.0)\n",
            "Requirement already satisfied: networkx in /usr/local/lib/python3.11/dist-packages (from torch>=2.0.0->torchmetrics) (3.4.2)\n",
            "Requirement already satisfied: jinja2 in /usr/local/lib/python3.11/dist-packages (from torch>=2.0.0->torchmetrics) (3.1.6)\n",
            "Requirement already satisfied: fsspec in /usr/local/lib/python3.11/dist-packages (from torch>=2.0.0->torchmetrics) (2025.3.2)\n",
            "Requirement already satisfied: nvidia-cuda-nvrtc-cu12==12.4.127 in /usr/local/lib/python3.11/dist-packages (from torch>=2.0.0->torchmetrics) (12.4.127)\n",
            "Requirement already satisfied: nvidia-cuda-runtime-cu12==12.4.127 in /usr/local/lib/python3.11/dist-packages (from torch>=2.0.0->torchmetrics) (12.4.127)\n",
            "Requirement already satisfied: nvidia-cuda-cupti-cu12==12.4.127 in /usr/local/lib/python3.11/dist-packages (from torch>=2.0.0->torchmetrics) (12.4.127)\n",
            "Requirement already satisfied: nvidia-cudnn-cu12==9.1.0.70 in /usr/local/lib/python3.11/dist-packages (from torch>=2.0.0->torchmetrics) (9.1.0.70)\n",
            "Requirement already satisfied: nvidia-cublas-cu12==12.4.5.8 in /usr/local/lib/python3.11/dist-packages (from torch>=2.0.0->torchmetrics) (12.4.5.8)\n",
            "Requirement already satisfied: nvidia-cufft-cu12==11.2.1.3 in /usr/local/lib/python3.11/dist-packages (from torch>=2.0.0->torchmetrics) (11.2.1.3)\n",
            "Requirement already satisfied: nvidia-curand-cu12==10.3.5.147 in /usr/local/lib/python3.11/dist-packages (from torch>=2.0.0->torchmetrics) (10.3.5.147)\n",
            "Requirement already satisfied: nvidia-cusolver-cu12==11.6.1.9 in /usr/local/lib/python3.11/dist-packages (from torch>=2.0.0->torchmetrics) (11.6.1.9)\n",
            "Requirement already satisfied: nvidia-cusparse-cu12==12.3.1.170 in /usr/local/lib/python3.11/dist-packages (from torch>=2.0.0->torchmetrics) (12.3.1.170)\n",
            "Requirement already satisfied: nvidia-cusparselt-cu12==0.6.2 in /usr/local/lib/python3.11/dist-packages (from torch>=2.0.0->torchmetrics) (0.6.2)\n",
            "Requirement already satisfied: nvidia-nccl-cu12==2.21.5 in /usr/local/lib/python3.11/dist-packages (from torch>=2.0.0->torchmetrics) (2.21.5)\n",
            "Requirement already satisfied: nvidia-nvtx-cu12==12.4.127 in /usr/local/lib/python3.11/dist-packages (from torch>=2.0.0->torchmetrics) (12.4.127)\n",
            "Requirement already satisfied: nvidia-nvjitlink-cu12==12.4.127 in /usr/local/lib/python3.11/dist-packages (from torch>=2.0.0->torchmetrics) (12.4.127)\n",
            "Requirement already satisfied: triton==3.2.0 in /usr/local/lib/python3.11/dist-packages (from torch>=2.0.0->torchmetrics) (3.2.0)\n",
            "Requirement already satisfied: sympy==1.13.1 in /usr/local/lib/python3.11/dist-packages (from torch>=2.0.0->torchmetrics) (1.13.1)\n",
            "Requirement already satisfied: mpmath<1.4,>=1.1.0 in /usr/local/lib/python3.11/dist-packages (from sympy==1.13.1->torch>=2.0.0->torchmetrics) (1.3.0)\n",
            "Requirement already satisfied: MarkupSafe>=2.0 in /usr/local/lib/python3.11/dist-packages (from jinja2->torch>=2.0.0->torchmetrics) (3.0.2)\n",
            "Requirement already satisfied: fvcore in /usr/local/lib/python3.11/dist-packages (0.1.5.post20221221)\n",
            "Requirement already satisfied: numpy in /usr/local/lib/python3.11/dist-packages (from fvcore) (2.0.2)\n",
            "Requirement already satisfied: yacs>=0.1.6 in /usr/local/lib/python3.11/dist-packages (from fvcore) (0.1.8)\n",
            "Requirement already satisfied: pyyaml>=5.1 in /usr/local/lib/python3.11/dist-packages (from fvcore) (6.0.2)\n",
            "Requirement already satisfied: tqdm in /usr/local/lib/python3.11/dist-packages (from fvcore) (4.67.1)\n",
            "Requirement already satisfied: termcolor>=1.1 in /usr/local/lib/python3.11/dist-packages (from fvcore) (3.1.0)\n",
            "Requirement already satisfied: Pillow in /usr/local/lib/python3.11/dist-packages (from fvcore) (11.2.1)\n",
            "Requirement already satisfied: tabulate in /usr/local/lib/python3.11/dist-packages (from fvcore) (0.9.0)\n",
            "Requirement already satisfied: iopath>=0.1.7 in /usr/local/lib/python3.11/dist-packages (from fvcore) (0.1.10)\n",
            "Requirement already satisfied: typing-extensions in /usr/local/lib/python3.11/dist-packages (from iopath>=0.1.7->fvcore) (4.13.2)\n",
            "Requirement already satisfied: portalocker in /usr/local/lib/python3.11/dist-packages (from iopath>=0.1.7->fvcore) (3.1.1)\n"
          ]
        }
      ],
      "source": [
        "!pip install torchmetrics\n",
        "!pip install fvcore"
      ]
    },
    {
      "cell_type": "code",
      "execution_count": 9,
      "metadata": {
        "id": "z2LFD5EkeGs3",
        "colab": {
          "base_uri": "https://localhost:8080/"
        },
        "outputId": "228c9980-f83e-4e95-e436-e008ddfb0ed0"
      },
      "outputs": [
        {
          "output_type": "stream",
          "name": "stdout",
          "text": [
            "Cloning into 'AML_2025_project4'...\n",
            "remote: Enumerating objects: 124, done.\u001b[K\n",
            "remote: Counting objects: 100% (18/18), done.\u001b[K\n",
            "remote: Compressing objects: 100% (12/12), done.\u001b[K\n",
            "remote: Total 124 (delta 8), reused 6 (delta 6), pack-reused 106 (from 2)\u001b[K\n",
            "Receiving objects: 100% (124/124), 21.50 MiB | 15.47 MiB/s, done.\n",
            "Resolving deltas: 100% (43/43), done.\n",
            "Mounted at /content/drive\n"
          ]
        }
      ],
      "source": [
        "from google.colab import drive\n",
        "import os\n",
        "\n",
        "!git clone -b angelo_albumentations --single-branch https://github.com/AngeloBongiorno/AML_2025_project4.git\n",
        "\n",
        "!cp AML_2025_project4/utils.py .\n",
        "\n",
        "drive.mount('/content/drive')"
      ]
    },
    {
      "cell_type": "code",
      "execution_count": 10,
      "metadata": {
        "id": "CvdkrFwFI0Qs",
        "colab": {
          "base_uri": "https://localhost:8080/"
        },
        "outputId": "7db6dc2f-4858-46a8-9954-311f64f2a284"
      },
      "outputs": [
        {
          "output_type": "execute_result",
          "data": {
            "text/plain": [
              "<module 'utils' from '/content/utils.py'>"
            ]
          },
          "metadata": {},
          "execution_count": 10
        }
      ],
      "source": [
        "import importlib\n",
        "import utils  # Replace with the actual module name\n",
        "\n",
        "importlib.reload(utils)"
      ]
    },
    {
      "cell_type": "code",
      "execution_count": 11,
      "metadata": {
        "id": "laEb8KOytCpo",
        "colab": {
          "base_uri": "https://localhost:8080/"
        },
        "outputId": "367ad351-dcab-43ef-e49b-7152a803ae29"
      },
      "outputs": [
        {
          "output_type": "stream",
          "name": "stdout",
          "text": [
            "Extracting training...\n",
            "training extracted!\n",
            "Extracting validation...\n",
            "validation extracted!\n",
            "Extraction check completed!\n",
            "{'training_urban': '/content/dataset/Train/Urban', 'training_rural': '/content/dataset/Train/Rural', 'validation_urban': '/content/dataset/Val/Urban', 'validation_rural': '/content/dataset/Val/Rural'}\n"
          ]
        }
      ],
      "source": [
        "import tqdm\n",
        "\n",
        "from utils import get_loveDA\n",
        "\n",
        "paths = get_loveDA(verbose=True)\n",
        "print(paths)\n",
        "\n",
        "TRAINING_PATH_URBAN = paths[\"training_urban\"]\n",
        "TRAINING_PATH_RURAL = paths[\"training_rural\"]\n",
        "VAL_PATH_URBAN = paths[\"validation_urban\"]\n",
        "VAL_PATH_RURAL = paths[\"validation_rural\"]"
      ]
    },
    {
      "cell_type": "code",
      "source": [
        "SEM_CLASSES = [\n",
        "    'background',\n",
        "    'building',\n",
        "    'road',\n",
        "    'water',\n",
        "    'barren',\n",
        "    'forest',\n",
        "    'agriculture'\n",
        "]\n",
        "\n",
        "NUM_CLASSES = len(SEM_CLASSES)\n",
        "\n",
        "sem_class_to_idx = {cls: idx for (idx, cls) in enumerate(SEM_CLASSES)}\n",
        "\n",
        "IGNORE_INDEX = -1\n",
        "\n",
        "RESIZE = 512\n",
        "\n",
        "BATCH_SIZE = 16\n",
        "\n",
        "EPOCHS = 20\n",
        "\n",
        "SEED = 42\n",
        "\n",
        "STEP_SIZE = 21\n",
        "\n",
        "GAMMA = 0.5\n",
        "\n",
        "LR = 0.000329658544839708\n",
        "#LR = 0.00098\n",
        "\n",
        "P = 0.5 # probabilità augmentation\n",
        "\n",
        "ALPHA_TEACHER = 0.99\n",
        "\n",
        "THRESHOLD = 0.9\n",
        "\n",
        "MOMENTUM = 0.85\n",
        "\n",
        "LOSS_TYPE = \"ohem\" # \"ohem\", \"ce\"\n",
        "\n",
        "TYPE_WEIGHT = \"inverse\" # median-frequency | inverse | log\n",
        "\n",
        "PIXEL_WEIGHT = \"threshold_uniform\" # \"threshold_uniform\", \"threshold\"\n",
        "\n",
        "SHOW_IMG = False\n"
      ],
      "metadata": {
        "id": "VJdiPeF5idkI"
      },
      "execution_count": 12,
      "outputs": []
    },
    {
      "cell_type": "markdown",
      "source": [
        "# Define and instantiate"
      ],
      "metadata": {
        "id": "dAYUGwGYiFGi"
      }
    },
    {
      "cell_type": "markdown",
      "metadata": {
        "id": "UrjECeMs7Sc5"
      },
      "source": [
        "### Define PIDnet"
      ]
    },
    {
      "cell_type": "code",
      "execution_count": 13,
      "metadata": {
        "id": "QWTXrB6FZo_G"
      },
      "outputs": [],
      "source": [
        "import torch\n",
        "import torch.nn as nn\n",
        "import torch.nn.functional as F\n",
        "\n",
        "BatchNorm2d = nn.BatchNorm2d\n",
        "bn_mom = 0.1\n",
        "algc = False\n",
        "\n",
        "class BasicBlock(nn.Module):\n",
        "    expansion = 1\n",
        "\n",
        "    def __init__(self, inplanes, planes, stride=1, downsample=None, no_relu=False):\n",
        "        super(BasicBlock, self).__init__()\n",
        "        self.conv1 = nn.Conv2d(inplanes, planes, kernel_size=3, stride=stride,\n",
        "                               padding=1, bias=False)\n",
        "        self.bn1 = BatchNorm2d(planes, momentum=bn_mom)\n",
        "        self.relu = nn.ReLU(inplace=True)\n",
        "        self.conv2 = nn.Conv2d(planes, planes, kernel_size=3,\n",
        "                               padding=1, bias=False)\n",
        "        self.bn2 = BatchNorm2d(planes, momentum=bn_mom)\n",
        "        self.downsample = downsample\n",
        "        self.stride = stride\n",
        "        self.no_relu = no_relu\n",
        "\n",
        "    def forward(self, x):\n",
        "        residual = x\n",
        "\n",
        "        out = self.conv1(x)\n",
        "        out = self.bn1(out)\n",
        "        out = self.relu(out)\n",
        "\n",
        "        out = self.conv2(out)\n",
        "        out = self.bn2(out)\n",
        "\n",
        "        if self.downsample is not None:\n",
        "            residual = self.downsample(x)\n",
        "\n",
        "        out += residual\n",
        "\n",
        "        if self.no_relu:\n",
        "            return out\n",
        "        else:\n",
        "            return self.relu(out)\n",
        "\n",
        "class Bottleneck(nn.Module):\n",
        "    expansion = 2\n",
        "\n",
        "    def __init__(self, inplanes, planes, stride=1, downsample=None, no_relu=True):\n",
        "        super(Bottleneck, self).__init__()\n",
        "        self.conv1 = nn.Conv2d(inplanes, planes, kernel_size=1, bias=False)\n",
        "        self.bn1 = BatchNorm2d(planes, momentum=bn_mom)\n",
        "        self.conv2 = nn.Conv2d(planes, planes, kernel_size=3, stride=stride,\n",
        "                               padding=1, bias=False)\n",
        "        self.bn2 = BatchNorm2d(planes, momentum=bn_mom)\n",
        "        self.conv3 = nn.Conv2d(planes, planes * self.expansion, kernel_size=1,\n",
        "                               bias=False)\n",
        "        self.bn3 = BatchNorm2d(planes * self.expansion, momentum=bn_mom)\n",
        "        self.relu = nn.ReLU(inplace=True)\n",
        "        self.downsample = downsample\n",
        "        self.stride = stride\n",
        "        self.no_relu = no_relu\n",
        "\n",
        "    def forward(self, x):\n",
        "        residual = x\n",
        "\n",
        "        out = self.conv1(x)\n",
        "        out = self.bn1(out)\n",
        "        out = self.relu(out)\n",
        "\n",
        "        out = self.conv2(out)\n",
        "        out = self.bn2(out)\n",
        "        out = self.relu(out)\n",
        "\n",
        "        out = self.conv3(out)\n",
        "        out = self.bn3(out)\n",
        "\n",
        "        if self.downsample is not None:\n",
        "            residual = self.downsample(x)\n",
        "\n",
        "        out += residual\n",
        "        if self.no_relu:\n",
        "            return out\n",
        "        else:\n",
        "            return self.relu(out)\n",
        "\n",
        "class segmenthead(nn.Module):\n",
        "\n",
        "    def __init__(self, inplanes, interplanes, outplanes, scale_factor=None):\n",
        "        super(segmenthead, self).__init__()\n",
        "        self.bn1 = BatchNorm2d(inplanes, momentum=bn_mom)\n",
        "        self.conv1 = nn.Conv2d(inplanes, interplanes, kernel_size=3, padding=1, bias=False)\n",
        "        self.bn2 = BatchNorm2d(interplanes, momentum=bn_mom)\n",
        "        self.relu = nn.ReLU(inplace=True)\n",
        "        self.conv2 = nn.Conv2d(interplanes, outplanes, kernel_size=1, padding=0, bias=True)\n",
        "        self.scale_factor = scale_factor\n",
        "\n",
        "    def forward(self, x):\n",
        "\n",
        "        x = self.conv1(self.relu(self.bn1(x)))\n",
        "        out = self.conv2(self.relu(self.bn2(x)))\n",
        "\n",
        "        if self.scale_factor is not None:\n",
        "            height = x.shape[-2] * self.scale_factor\n",
        "            width = x.shape[-1] * self.scale_factor\n",
        "            out = F.interpolate(out,\n",
        "                        size=[height, width],\n",
        "                        mode='bilinear', align_corners=algc)\n",
        "\n",
        "        return out\n",
        "\n",
        "class DAPPM(nn.Module):\n",
        "    def __init__(self, inplanes, branch_planes, outplanes, BatchNorm=nn.BatchNorm2d):\n",
        "        super(DAPPM, self).__init__()\n",
        "        bn_mom = 0.1\n",
        "        self.scale1 = nn.Sequential(nn.AvgPool2d(kernel_size=5, stride=2, padding=2),\n",
        "                                    BatchNorm(inplanes, momentum=bn_mom),\n",
        "                                    nn.ReLU(inplace=True),\n",
        "                                    nn.Conv2d(inplanes, branch_planes, kernel_size=1, bias=False),\n",
        "                                    )\n",
        "        self.scale2 = nn.Sequential(nn.AvgPool2d(kernel_size=9, stride=4, padding=4),\n",
        "                                    BatchNorm(inplanes, momentum=bn_mom),\n",
        "                                    nn.ReLU(inplace=True),\n",
        "                                    nn.Conv2d(inplanes, branch_planes, kernel_size=1, bias=False),\n",
        "                                    )\n",
        "        self.scale3 = nn.Sequential(nn.AvgPool2d(kernel_size=17, stride=8, padding=8),\n",
        "                                    BatchNorm(inplanes, momentum=bn_mom),\n",
        "                                    nn.ReLU(inplace=True),\n",
        "                                    nn.Conv2d(inplanes, branch_planes, kernel_size=1, bias=False),\n",
        "                                    )\n",
        "        self.scale4 = nn.Sequential(nn.AdaptiveAvgPool2d((1, 1)),\n",
        "                                    BatchNorm(inplanes, momentum=bn_mom),\n",
        "                                    nn.ReLU(inplace=True),\n",
        "                                    nn.Conv2d(inplanes, branch_planes, kernel_size=1, bias=False),\n",
        "                                    )\n",
        "        self.scale0 = nn.Sequential(\n",
        "                                    BatchNorm(inplanes, momentum=bn_mom),\n",
        "                                    nn.ReLU(inplace=True),\n",
        "                                    nn.Conv2d(inplanes, branch_planes, kernel_size=1, bias=False),\n",
        "                                    )\n",
        "        self.process1 = nn.Sequential(\n",
        "                                    BatchNorm(branch_planes, momentum=bn_mom),\n",
        "                                    nn.ReLU(inplace=True),\n",
        "                                    nn.Conv2d(branch_planes, branch_planes, kernel_size=3, padding=1, bias=False),\n",
        "                                    )\n",
        "        self.process2 = nn.Sequential(\n",
        "                                    BatchNorm(branch_planes, momentum=bn_mom),\n",
        "                                    nn.ReLU(inplace=True),\n",
        "                                    nn.Conv2d(branch_planes, branch_planes, kernel_size=3, padding=1, bias=False),\n",
        "                                    )\n",
        "        self.process3 = nn.Sequential(\n",
        "                                    BatchNorm(branch_planes, momentum=bn_mom),\n",
        "                                    nn.ReLU(inplace=True),\n",
        "                                    nn.Conv2d(branch_planes, branch_planes, kernel_size=3, padding=1, bias=False),\n",
        "                                    )\n",
        "        self.process4 = nn.Sequential(\n",
        "                                    BatchNorm(branch_planes, momentum=bn_mom),\n",
        "                                    nn.ReLU(inplace=True),\n",
        "                                    nn.Conv2d(branch_planes, branch_planes, kernel_size=3, padding=1, bias=False),\n",
        "                                    )\n",
        "        self.compression = nn.Sequential(\n",
        "                                    BatchNorm(branch_planes * 5, momentum=bn_mom),\n",
        "                                    nn.ReLU(inplace=True),\n",
        "                                    nn.Conv2d(branch_planes * 5, outplanes, kernel_size=1, bias=False),\n",
        "                                    )\n",
        "        self.shortcut = nn.Sequential(\n",
        "                                    BatchNorm(inplanes, momentum=bn_mom),\n",
        "                                    nn.ReLU(inplace=True),\n",
        "                                    nn.Conv2d(inplanes, outplanes, kernel_size=1, bias=False),\n",
        "                                    )\n",
        "\n",
        "    def forward(self, x):\n",
        "        width = x.shape[-1]\n",
        "        height = x.shape[-2]\n",
        "        x_list = []\n",
        "\n",
        "        x_list.append(self.scale0(x))\n",
        "        x_list.append(self.process1((F.interpolate(self.scale1(x),\n",
        "                        size=[height, width],\n",
        "                        mode='bilinear', align_corners=algc)+x_list[0])))\n",
        "        x_list.append((self.process2((F.interpolate(self.scale2(x),\n",
        "                        size=[height, width],\n",
        "                        mode='bilinear', align_corners=algc)+x_list[1]))))\n",
        "        x_list.append(self.process3((F.interpolate(self.scale3(x),\n",
        "                        size=[height, width],\n",
        "                        mode='bilinear', align_corners=algc)+x_list[2])))\n",
        "        x_list.append(self.process4((F.interpolate(self.scale4(x),\n",
        "                        size=[height, width],\n",
        "                        mode='bilinear', align_corners=algc)+x_list[3])))\n",
        "\n",
        "        out = self.compression(torch.cat(x_list, 1)) + self.shortcut(x)\n",
        "        return out\n",
        "\n",
        "class PAPPM(nn.Module):\n",
        "    def __init__(self, inplanes, branch_planes, outplanes, BatchNorm=nn.BatchNorm2d):\n",
        "        super(PAPPM, self).__init__()\n",
        "        bn_mom = 0.1\n",
        "        self.scale1 = nn.Sequential(nn.AvgPool2d(kernel_size=5, stride=2, padding=2),\n",
        "                                    BatchNorm(inplanes, momentum=bn_mom),\n",
        "                                    nn.ReLU(inplace=True),\n",
        "                                    nn.Conv2d(inplanes, branch_planes, kernel_size=1, bias=False),\n",
        "                                    )\n",
        "        self.scale2 = nn.Sequential(nn.AvgPool2d(kernel_size=9, stride=4, padding=4),\n",
        "                                    BatchNorm(inplanes, momentum=bn_mom),\n",
        "                                    nn.ReLU(inplace=True),\n",
        "                                    nn.Conv2d(inplanes, branch_planes, kernel_size=1, bias=False),\n",
        "                                    )\n",
        "        self.scale3 = nn.Sequential(nn.AvgPool2d(kernel_size=17, stride=8, padding=8),\n",
        "                                    BatchNorm(inplanes, momentum=bn_mom),\n",
        "                                    nn.ReLU(inplace=True),\n",
        "                                    nn.Conv2d(inplanes, branch_planes, kernel_size=1, bias=False),\n",
        "                                    )\n",
        "        self.scale4 = nn.Sequential(nn.AdaptiveAvgPool2d((1, 1)),\n",
        "                                    BatchNorm(inplanes, momentum=bn_mom),\n",
        "                                    nn.ReLU(inplace=True),\n",
        "                                    nn.Conv2d(inplanes, branch_planes, kernel_size=1, bias=False),\n",
        "                                    )\n",
        "\n",
        "        self.scale0 = nn.Sequential(\n",
        "                                    BatchNorm(inplanes, momentum=bn_mom),\n",
        "                                    nn.ReLU(inplace=True),\n",
        "                                    nn.Conv2d(inplanes, branch_planes, kernel_size=1, bias=False),\n",
        "                                    )\n",
        "\n",
        "        self.scale_process = nn.Sequential(\n",
        "                                    BatchNorm(branch_planes*4, momentum=bn_mom),\n",
        "                                    nn.ReLU(inplace=True),\n",
        "                                    nn.Conv2d(branch_planes*4, branch_planes*4, kernel_size=3, padding=1, groups=4, bias=False),\n",
        "                                    )\n",
        "\n",
        "\n",
        "        self.compression = nn.Sequential(\n",
        "                                    BatchNorm(branch_planes * 5, momentum=bn_mom),\n",
        "                                    nn.ReLU(inplace=True),\n",
        "                                    nn.Conv2d(branch_planes * 5, outplanes, kernel_size=1, bias=False),\n",
        "                                    )\n",
        "\n",
        "        self.shortcut = nn.Sequential(\n",
        "                                    BatchNorm(inplanes, momentum=bn_mom),\n",
        "                                    nn.ReLU(inplace=True),\n",
        "                                    nn.Conv2d(inplanes, outplanes, kernel_size=1, bias=False),\n",
        "                                    )\n",
        "\n",
        "\n",
        "    def forward(self, x):\n",
        "        width = x.shape[-1]\n",
        "        height = x.shape[-2]\n",
        "        scale_list = []\n",
        "\n",
        "        x_ = self.scale0(x)\n",
        "        scale_list.append(F.interpolate(self.scale1(x), size=[height, width],\n",
        "                        mode='bilinear', align_corners=algc)+x_)\n",
        "        scale_list.append(F.interpolate(self.scale2(x), size=[height, width],\n",
        "                        mode='bilinear', align_corners=algc)+x_)\n",
        "        scale_list.append(F.interpolate(self.scale3(x), size=[height, width],\n",
        "                        mode='bilinear', align_corners=algc)+x_)\n",
        "        scale_list.append(F.interpolate(self.scale4(x), size=[height, width],\n",
        "                        mode='bilinear', align_corners=algc)+x_)\n",
        "\n",
        "        scale_out = self.scale_process(torch.cat(scale_list, 1))\n",
        "\n",
        "        out = self.compression(torch.cat([x_,scale_out], 1)) + self.shortcut(x)\n",
        "        return out\n",
        "\n",
        "\n",
        "class PagFM(nn.Module):\n",
        "    def __init__(self, in_channels, mid_channels, after_relu=False, with_channel=False, BatchNorm=nn.BatchNorm2d):\n",
        "        super(PagFM, self).__init__()\n",
        "        self.with_channel = with_channel\n",
        "        self.after_relu = after_relu\n",
        "        self.f_x = nn.Sequential(\n",
        "                                nn.Conv2d(in_channels, mid_channels,\n",
        "                                          kernel_size=1, bias=False),\n",
        "                                BatchNorm(mid_channels)\n",
        "                                )\n",
        "        self.f_y = nn.Sequential(\n",
        "                                nn.Conv2d(in_channels, mid_channels,\n",
        "                                          kernel_size=1, bias=False),\n",
        "                                BatchNorm(mid_channels)\n",
        "                                )\n",
        "        if with_channel:\n",
        "            self.up = nn.Sequential(\n",
        "                                    nn.Conv2d(mid_channels, in_channels,\n",
        "                                              kernel_size=1, bias=False),\n",
        "                                    BatchNorm(in_channels)\n",
        "                                   )\n",
        "        if after_relu:\n",
        "            self.relu = nn.ReLU(inplace=True)\n",
        "\n",
        "    def forward(self, x, y):\n",
        "        input_size = x.size()\n",
        "        if self.after_relu:\n",
        "            y = self.relu(y)\n",
        "            x = self.relu(x)\n",
        "\n",
        "        y_q = self.f_y(y)\n",
        "        y_q = F.interpolate(y_q, size=[input_size[2], input_size[3]],\n",
        "                            mode='bilinear', align_corners=False)\n",
        "        x_k = self.f_x(x)\n",
        "\n",
        "        if self.with_channel:\n",
        "            sim_map = torch.sigmoid(self.up(x_k * y_q))\n",
        "        else:\n",
        "            sim_map = torch.sigmoid(torch.sum(x_k * y_q, dim=1).unsqueeze(1))\n",
        "\n",
        "        y = F.interpolate(y, size=[input_size[2], input_size[3]],\n",
        "                            mode='bilinear', align_corners=False)\n",
        "        x = (1-sim_map)*x + sim_map*y\n",
        "\n",
        "        return x\n",
        "\n",
        "class Light_Bag(nn.Module):\n",
        "    def __init__(self, in_channels, out_channels, BatchNorm=nn.BatchNorm2d):\n",
        "        super(Light_Bag, self).__init__()\n",
        "        self.conv_p = nn.Sequential(\n",
        "                                nn.Conv2d(in_channels, out_channels,\n",
        "                                          kernel_size=1, bias=False),\n",
        "                                BatchNorm(out_channels)\n",
        "                                )\n",
        "        self.conv_i = nn.Sequential(\n",
        "                                nn.Conv2d(in_channels, out_channels,\n",
        "                                          kernel_size=1, bias=False),\n",
        "                                BatchNorm(out_channels)\n",
        "                                )\n",
        "\n",
        "    def forward(self, p, i, d):\n",
        "        edge_att = torch.sigmoid(d)\n",
        "\n",
        "        p_add = self.conv_p((1-edge_att)*i + p)\n",
        "        i_add = self.conv_i(i + edge_att*p)\n",
        "\n",
        "        return p_add + i_add\n",
        "\n",
        "\n",
        "class DDFMv2(nn.Module):\n",
        "    def __init__(self, in_channels, out_channels, BatchNorm=nn.BatchNorm2d):\n",
        "        super(DDFMv2, self).__init__()\n",
        "        self.conv_p = nn.Sequential(\n",
        "                                BatchNorm(in_channels),\n",
        "                                nn.ReLU(inplace=True),\n",
        "                                nn.Conv2d(in_channels, out_channels,\n",
        "                                          kernel_size=1, bias=False),\n",
        "                                BatchNorm(out_channels)\n",
        "                                )\n",
        "        self.conv_i = nn.Sequential(\n",
        "                                BatchNorm(in_channels),\n",
        "                                nn.ReLU(inplace=True),\n",
        "                                nn.Conv2d(in_channels, out_channels,\n",
        "                                          kernel_size=1, bias=False),\n",
        "                                BatchNorm(out_channels)\n",
        "                                )\n",
        "\n",
        "    def forward(self, p, i, d):\n",
        "        edge_att = torch.sigmoid(d)\n",
        "\n",
        "        p_add = self.conv_p((1-edge_att)*i + p)\n",
        "        i_add = self.conv_i(i + edge_att*p)\n",
        "\n",
        "        return p_add + i_add\n",
        "\n",
        "class Bag(nn.Module):\n",
        "    def __init__(self, in_channels, out_channels, BatchNorm=nn.BatchNorm2d):\n",
        "        super(Bag, self).__init__()\n",
        "\n",
        "        self.conv = nn.Sequential(\n",
        "                                BatchNorm(in_channels),\n",
        "                                nn.ReLU(inplace=True),\n",
        "                                nn.Conv2d(in_channels, out_channels,\n",
        "                                          kernel_size=3, padding=1, bias=False)\n",
        "                                )\n",
        "\n",
        "\n",
        "    def forward(self, p, i, d):\n",
        "        edge_att = torch.sigmoid(d)\n",
        "        return self.conv(edge_att*p + (1-edge_att)*i)"
      ]
    },
    {
      "cell_type": "code",
      "execution_count": 14,
      "metadata": {
        "id": "vjCDANDmZZw3"
      },
      "outputs": [],
      "source": [
        "import torch\n",
        "import torch.nn as nn\n",
        "import torch.nn.functional as F\n",
        "import time\n",
        "import logging\n",
        "\n",
        "BatchNorm2d = nn.BatchNorm2d\n",
        "bn_mom = 0.1\n",
        "algc = False\n",
        "\n",
        "\n",
        "\n",
        "class PIDNet(nn.Module):\n",
        "\n",
        "    def __init__(self, m=2, n=3, num_classes=19, planes=64, ppm_planes=96, head_planes=128, augment=True):\n",
        "        super(PIDNet, self).__init__()\n",
        "        self.augment = augment\n",
        "\n",
        "        # I Branch\n",
        "        self.conv1 =  nn.Sequential(\n",
        "                          nn.Conv2d(3,planes,kernel_size=3, stride=2, padding=1),\n",
        "                          BatchNorm2d(planes, momentum=bn_mom),\n",
        "                          nn.ReLU(inplace=True),\n",
        "                          nn.Conv2d(planes,planes,kernel_size=3, stride=2, padding=1),\n",
        "                          BatchNorm2d(planes, momentum=bn_mom),\n",
        "                          nn.ReLU(inplace=True),\n",
        "                      )\n",
        "\n",
        "        self.relu = nn.ReLU(inplace=True)\n",
        "        self.layer1 = self._make_layer(BasicBlock, planes, planes, m)\n",
        "        self.layer2 = self._make_layer(BasicBlock, planes, planes * 2, m, stride=2)\n",
        "        self.layer3 = self._make_layer(BasicBlock, planes * 2, planes * 4, n, stride=2)\n",
        "        self.layer4 = self._make_layer(BasicBlock, planes * 4, planes * 8, n, stride=2)\n",
        "        self.layer5 =  self._make_layer(Bottleneck, planes * 8, planes * 8, 2, stride=2)\n",
        "\n",
        "        # P Branch\n",
        "        self.compression3 = nn.Sequential(\n",
        "                                          nn.Conv2d(planes * 4, planes * 2, kernel_size=1, bias=False),\n",
        "                                          BatchNorm2d(planes * 2, momentum=bn_mom),\n",
        "                                          )\n",
        "\n",
        "        self.compression4 = nn.Sequential(\n",
        "                                          nn.Conv2d(planes * 8, planes * 2, kernel_size=1, bias=False),\n",
        "                                          BatchNorm2d(planes * 2, momentum=bn_mom),\n",
        "                                          )\n",
        "        self.pag3 = PagFM(planes * 2, planes)\n",
        "        self.pag4 = PagFM(planes * 2, planes)\n",
        "\n",
        "        self.layer3_ = self._make_layer(BasicBlock, planes * 2, planes * 2, m)\n",
        "        self.layer4_ = self._make_layer(BasicBlock, planes * 2, planes * 2, m)\n",
        "        self.layer5_ = self._make_layer(Bottleneck, planes * 2, planes * 2, 1)\n",
        "\n",
        "        # D Branch\n",
        "        if m == 2:\n",
        "            self.layer3_d = self._make_single_layer(BasicBlock, planes * 2, planes)\n",
        "            self.layer4_d = self._make_layer(Bottleneck, planes, planes, 1)\n",
        "            self.diff3 = nn.Sequential(\n",
        "                                        nn.Conv2d(planes * 4, planes, kernel_size=3, padding=1, bias=False),\n",
        "                                        BatchNorm2d(planes, momentum=bn_mom),\n",
        "                                        )\n",
        "            self.diff4 = nn.Sequential(\n",
        "                                     nn.Conv2d(planes * 8, planes * 2, kernel_size=3, padding=1, bias=False),\n",
        "                                     BatchNorm2d(planes * 2, momentum=bn_mom),\n",
        "                                     )\n",
        "            self.spp = PAPPM(planes * 16, ppm_planes, planes * 4)\n",
        "            self.dfm = Light_Bag(planes * 4, planes * 4)\n",
        "        else:\n",
        "            self.layer3_d = self._make_single_layer(BasicBlock, planes * 2, planes * 2)\n",
        "            self.layer4_d = self._make_single_layer(BasicBlock, planes * 2, planes * 2)\n",
        "            self.diff3 = nn.Sequential(\n",
        "                                        nn.Conv2d(planes * 4, planes * 2, kernel_size=3, padding=1, bias=False),\n",
        "                                        BatchNorm2d(planes * 2, momentum=bn_mom),\n",
        "                                        )\n",
        "            self.diff4 = nn.Sequential(\n",
        "                                     nn.Conv2d(planes * 8, planes * 2, kernel_size=3, padding=1, bias=False),\n",
        "                                     BatchNorm2d(planes * 2, momentum=bn_mom),\n",
        "                                     )\n",
        "            self.spp = DAPPM(planes * 16, ppm_planes, planes * 4)\n",
        "            self.dfm = Bag(planes * 4, planes * 4)\n",
        "\n",
        "        self.layer5_d = self._make_layer(Bottleneck, planes * 2, planes * 2, 1)\n",
        "\n",
        "        # Prediction Head\n",
        "        if self.augment:\n",
        "            self.seghead_p = segmenthead(planes * 2, head_planes, num_classes)\n",
        "            self.seghead_d = segmenthead(planes * 2, planes, 1)\n",
        "\n",
        "        self.final_layer = segmenthead(planes * 4, head_planes, num_classes)\n",
        "\n",
        "\n",
        "        for m in self.modules():\n",
        "            if isinstance(m, nn.Conv2d):\n",
        "                nn.init.kaiming_normal_(m.weight, mode='fan_out', nonlinearity='relu')\n",
        "            elif isinstance(m, BatchNorm2d):\n",
        "                nn.init.constant_(m.weight, 1)\n",
        "                nn.init.constant_(m.bias, 0)\n",
        "\n",
        "\n",
        "    def _make_layer(self, block, inplanes, planes, blocks, stride=1):\n",
        "        downsample = None\n",
        "        if stride != 1 or inplanes != planes * block.expansion:\n",
        "            downsample = nn.Sequential(\n",
        "                nn.Conv2d(inplanes, planes * block.expansion,\n",
        "                          kernel_size=1, stride=stride, bias=False),\n",
        "                nn.BatchNorm2d(planes * block.expansion, momentum=bn_mom),\n",
        "            )\n",
        "\n",
        "        layers = []\n",
        "        layers.append(block(inplanes, planes, stride, downsample))\n",
        "        inplanes = planes * block.expansion\n",
        "        for i in range(1, blocks):\n",
        "            if i == (blocks-1):\n",
        "                layers.append(block(inplanes, planes, stride=1, no_relu=True))\n",
        "            else:\n",
        "                layers.append(block(inplanes, planes, stride=1, no_relu=False))\n",
        "\n",
        "        return nn.Sequential(*layers)\n",
        "\n",
        "    def _make_single_layer(self, block, inplanes, planes, stride=1):\n",
        "        downsample = None\n",
        "        if stride != 1 or inplanes != planes * block.expansion:\n",
        "            downsample = nn.Sequential(\n",
        "                nn.Conv2d(inplanes, planes * block.expansion,\n",
        "                          kernel_size=1, stride=stride, bias=False),\n",
        "                nn.BatchNorm2d(planes * block.expansion, momentum=bn_mom),\n",
        "            )\n",
        "\n",
        "        layer = block(inplanes, planes, stride, downsample, no_relu=True)\n",
        "\n",
        "        return layer\n",
        "\n",
        "    def forward(self, x):\n",
        "\n",
        "        width_output = x.shape[-1] // 8\n",
        "        height_output = x.shape[-2] // 8\n",
        "\n",
        "        x = self.conv1(x)\n",
        "        x = self.layer1(x)\n",
        "        x = self.relu(self.layer2(self.relu(x)))\n",
        "        x_ = self.layer3_(x)\n",
        "        x_d = self.layer3_d(x)\n",
        "\n",
        "        x = self.relu(self.layer3(x))\n",
        "        x_ = self.pag3(x_, self.compression3(x))\n",
        "        x_d = x_d + F.interpolate(\n",
        "                        self.diff3(x),\n",
        "                        size=[height_output, width_output],\n",
        "                        mode='bilinear', align_corners=algc)\n",
        "        if self.augment:\n",
        "            temp_p = x_\n",
        "\n",
        "        x = self.relu(self.layer4(x))\n",
        "        x_ = self.layer4_(self.relu(x_))\n",
        "        x_d = self.layer4_d(self.relu(x_d))\n",
        "\n",
        "        x_ = self.pag4(x_, self.compression4(x))\n",
        "        x_d = x_d + F.interpolate(\n",
        "                        self.diff4(x),\n",
        "                        size=[height_output, width_output],\n",
        "                        mode='bilinear', align_corners=algc)\n",
        "        if self.augment:\n",
        "            temp_d = x_d\n",
        "\n",
        "        x_ = self.layer5_(self.relu(x_))\n",
        "        x_d = self.layer5_d(self.relu(x_d))\n",
        "        x = F.interpolate(\n",
        "                        self.spp(self.layer5(x)),\n",
        "                        size=[height_output, width_output],\n",
        "                        mode='bilinear', align_corners=algc)\n",
        "\n",
        "        x_ = self.final_layer(self.dfm(x_, x, x_d))\n",
        "\n",
        "        if self.augment:\n",
        "            x_extra_p = self.seghead_p(temp_p)\n",
        "            x_extra_d = self.seghead_d(temp_d)\n",
        "            return [x_extra_p, x_, x_extra_d]\n",
        "        else:\n",
        "            return x_\n",
        "\n",
        "def get_seg_model(cfg, imgnet_pretrained):\n",
        "\n",
        "    if 's' in cfg.MODEL.NAME:\n",
        "        model = PIDNet(m=2, n=3, num_classes=cfg.DATASET.NUM_CLASSES, planes=32, ppm_planes=96, head_planes=128, augment=True)\n",
        "    elif 'm' in cfg.MODEL.NAME:\n",
        "        model = PIDNet(m=2, n=3, num_classes=cfg.DATASET.NUM_CLASSES, planes=64, ppm_planes=96, head_planes=128, augment=True)\n",
        "    else:\n",
        "        model = PIDNet(m=3, n=4, num_classes=cfg.DATASET.NUM_CLASSES, planes=64, ppm_planes=112, head_planes=256, augment=True)\n",
        "\n",
        "    if imgnet_pretrained:\n",
        "        pretrained_state = torch.load(cfg.MODEL.PRETRAINED, map_location='cpu')['state_dict']\n",
        "        model_dict = model.state_dict()\n",
        "        pretrained_state = {k: v for k, v in pretrained_state.items() if (k in model_dict and v.shape == model_dict[k].shape)}\n",
        "        model_dict.update(pretrained_state)\n",
        "        msg = 'Loaded {} parameters!'.format(len(pretrained_state))\n",
        "        logging.info('Attention!!!')\n",
        "        logging.info(msg)\n",
        "        logging.info('Over!!!')\n",
        "        model.load_state_dict(model_dict, strict = False)\n",
        "    else:\n",
        "        pretrained_dict = torch.load(cfg.MODEL.PRETRAINED, map_location='cpu')\n",
        "        if 'state_dict' in pretrained_dict:\n",
        "            pretrained_dict = pretrained_dict['state_dict']\n",
        "        model_dict = model.state_dict()\n",
        "        pretrained_dict = {k[6:]: v for k, v in pretrained_dict.items() if (k[6:] in model_dict and v.shape == model_dict[k[6:]].shape)}\n",
        "        msg = 'Loaded {} parameters!'.format(len(pretrained_dict))\n",
        "        logging.info('Attention!!!')\n",
        "        logging.info(msg)\n",
        "        logging.info('Over!!!')\n",
        "        model_dict.update(pretrained_dict)\n",
        "        model.load_state_dict(model_dict, strict = False)\n",
        "\n",
        "    return model\n",
        "\n",
        "def get_pred_model(name, num_classes):\n",
        "\n",
        "    if 's' in name:\n",
        "        model = PIDNet(m=2, n=3, num_classes=num_classes, planes=32, ppm_planes=96, head_planes=128, augment=False)\n",
        "    elif 'm' in name:\n",
        "        model = PIDNet(m=2, n=3, num_classes=num_classes, planes=64, ppm_planes=96, head_planes=128, augment=False)\n",
        "    else:\n",
        "        model = PIDNet(m=3, n=4, num_classes=num_classes, planes=64, ppm_planes=112, head_planes=256, augment=False)\n",
        "\n",
        "    return model"
      ]
    },
    {
      "cell_type": "markdown",
      "metadata": {
        "id": "dw9SYUCgi6us"
      },
      "source": [
        "# Dataset & dataloader"
      ]
    },
    {
      "cell_type": "markdown",
      "source": [
        "## Dataset definition"
      ],
      "metadata": {
        "id": "wrMzI_LbjhP_"
      }
    },
    {
      "cell_type": "code",
      "execution_count": 15,
      "metadata": {
        "id": "T6kSW8hGjAo9",
        "colab": {
          "base_uri": "https://localhost:8080/"
        },
        "outputId": "3f5df1a8-5c4d-4b97-f8ad-b0b3fb1cb1b9"
      },
      "outputs": [
        {
          "output_type": "stream",
          "name": "stderr",
          "text": [
            "/usr/local/lib/python3.11/dist-packages/albumentations/__init__.py:28: UserWarning: A new version of Albumentations is available: '2.0.8' (you have '2.0.7'). Upgrade using: pip install -U albumentations. To disable automatic update checks, set the environment variable NO_ALBUMENTATIONS_UPDATE to 1.\n",
            "  check_for_updates()\n"
          ]
        }
      ],
      "source": [
        "import os\n",
        "import torch\n",
        "from torch.utils.data import Dataset, DataLoader, random_split\n",
        "from torchvision import transforms\n",
        "from PIL import Image\n",
        "import numpy as np\n",
        "import cv2\n",
        "from albumentations.pytorch import ToTensorV2\n",
        "\n",
        "class SegmentationDataset(Dataset):\n",
        "    def __init__(self, image_dir, mask_dir, transform, target=False):\n",
        "        self.image_dir = image_dir\n",
        "        self.mask_dir = mask_dir\n",
        "        self.transform = transform\n",
        "        self.image_filenames = sorted(os.listdir(image_dir))\n",
        "        self.mask_filenames = sorted(os.listdir(mask_dir))\n",
        "        self.target = target\n",
        "\n",
        "    def __len__(self):\n",
        "        return len(self.image_filenames)\n",
        "\n",
        "    def __getitem__(self, idx):\n",
        "        img_path = os.path.join(self.image_dir, self.image_filenames[idx])\n",
        "        mask_path = os.path.join(self.mask_dir, self.mask_filenames[idx])\n",
        "\n",
        "        # Read an image with OpenCV\n",
        "        image = cv2.imread(img_path)\n",
        "        mask = cv2.imread(mask_path)\n",
        "\n",
        "        # By default OpenCV uses BGR color space for color images,\n",
        "        # so we need to convert the image to RGB color space.\n",
        "        image = cv2.cvtColor(image, cv2.COLOR_BGR2RGB)\n",
        "        mask = cv2.cvtColor(mask, cv2.COLOR_BGR2GRAY)\n",
        "\n",
        "        if self.transform:\n",
        "            transformed = self.transform(image=image, mask=mask)\n",
        "            image = transformed[\"image\"]\n",
        "            mask = transformed[\"mask\"]\n",
        "\n",
        "        mask_np = np.array(mask)\n",
        "\n",
        "        edge = cv2.Canny(mask_np, 0.1, 0.2)\n",
        "\n",
        "        kernel = np.ones((3, 3), np.uint8)  # Kernel for dilation\n",
        "\n",
        "        edge = edge[6:-6, 6:-6]\n",
        "        edge = np.pad(edge, ((6,6),(6,6)), mode='constant')\n",
        "        boundaries = cv2.dilate(edge, kernel, iterations=1)  # Dilate edges\n",
        "        boundaries = (boundaries > 50) * 1.0 # boundaries matrix is float with 1.0 or 0.0\n",
        "\n",
        "        mask = torch.as_tensor(np.array(mask), dtype=torch.int64) - 1\n",
        "\n",
        "        boundaries_tensor = torch.as_tensor(boundaries, dtype=torch.float32)\n",
        "\n",
        "        # if the dataset is a target dataset, does not return the mask\n",
        "        if self.target == True:\n",
        "          return image, boundaries_tensor\n",
        "        return image, mask, boundaries_tensor"
      ]
    },
    {
      "cell_type": "code",
      "source": [
        "# Define transformations for images & masks\n",
        "import albumentations as A\n",
        "from albumentations.pytorch import ToTensorV2\n",
        "from torchvision.transforms import v2 as T\n",
        "import cv2\n",
        "\n",
        "resize_transform = A.Compose([\n",
        "    A.Resize(height=RESIZE, width=RESIZE, p=1),\n",
        "    A.ToFloat(),\n",
        "    ToTensorV2()\n",
        "])\n",
        "\n",
        "# the best augmentation from previous step is chosen\n",
        "alb_aug0 = A.HorizontalFlip(p=P)\n",
        "alb_aug1 = A.GaussianBlur(p=P, sigma_limit=(0.5, 3.0))\n",
        "alb_aug4 = A.ColorJitter(brightness=0.2, contrast=0.2, saturation=0.2, hue=0.1, p=P)\n",
        "\n",
        "augment = A.Compose([alb_aug4, alb_aug0, alb_aug1])"
      ],
      "metadata": {
        "id": "cOr2yJ_6kvA4"
      },
      "execution_count": 16,
      "outputs": []
    },
    {
      "cell_type": "code",
      "source": [
        "def extract_boundary_mask(mask):\n",
        "    if isinstance(mask, torch.Tensor):\n",
        "        mask_np = mask.squeeze().cpu().numpy()  # Assicura che sia [H, W]\n",
        "    else:\n",
        "        mask_np = np.array(mask)\n",
        "\n",
        "    mask_np = mask_np.astype(np.uint8)\n",
        "\n",
        "    edge = cv2.Canny(mask_np, 0.1, 0.2)\n",
        "\n",
        "    kernel = np.ones((3, 3), np.uint8)\n",
        "    edge = edge[6:-6, 6:-6]\n",
        "    edge = np.pad(edge, ((6,6),(6,6)), mode='constant')\n",
        "    boundaries = cv2.dilate(edge, kernel, iterations=1)\n",
        "    boundaries = (boundaries > 50).astype(np.float32)\n",
        "\n",
        "    boundaries_tensor = torch.from_numpy(boundaries).unsqueeze(0)  # shape: [1, H, W]\n",
        "    return boundaries_tensor\n"
      ],
      "metadata": {
        "id": "fbbVpaD-McpG"
      },
      "execution_count": 17,
      "outputs": []
    },
    {
      "cell_type": "markdown",
      "source": [
        "## Dataset instantiation"
      ],
      "metadata": {
        "id": "aRC4KXtmj3Pi"
      }
    },
    {
      "cell_type": "code",
      "source": [
        "# Create dataset objects\n",
        "val_ratio = 0.2\n",
        "generator = torch.Generator().manual_seed(42)\n",
        "\n",
        "#---------------------- VALIDATION DATASET ----------------------\n",
        "train_and_val_dataset_urban = SegmentationDataset(\n",
        "    TRAINING_PATH_URBAN + \"/images_png\",\n",
        "    TRAINING_PATH_URBAN + \"/masks_png\",\n",
        "    transform=resize_transform\n",
        ")\n",
        "\n",
        "val_size = int(len(train_and_val_dataset_urban) * val_ratio)\n",
        "train_size = len(train_and_val_dataset_urban) - val_size\n",
        "\n",
        "#without augmentation\n",
        "_, val_dataset = random_split(train_and_val_dataset_urban, [train_size, val_size], generator=generator)\n",
        "print(f\"Validation size: {len(val_dataset)}\")\n",
        "\n",
        "#---------------------- SORUCE DATASET----------------------\n",
        "train_and_val_dataset_urban_aug = SegmentationDataset(\n",
        "    TRAINING_PATH_URBAN + \"/images_png\",\n",
        "    TRAINING_PATH_URBAN + \"/masks_png\",\n",
        "    transform=resize_transform,\n",
        ")\n",
        "\n",
        "#with augmentation\n",
        "source_dataset, _ = random_split(train_and_val_dataset_urban_aug, [train_size, val_size], generator=generator)\n",
        "print(f\"Source dataset size: {len(source_dataset)}\")\n",
        "\n",
        "\n",
        "#---------------------- TARGET DATASET----------------------\n",
        "target_dataset = SegmentationDataset(TRAINING_PATH_RURAL + \"/images_png\", TRAINING_PATH_RURAL + \"/masks_png\",\n",
        "                                    transform=resize_transform, target=True)\n",
        "print(f\"Target dataset size: {len(target_dataset)}\")\n",
        "\n",
        "\n",
        "#---------------------- TEST DATASET----------------------\n",
        "test_dataset = SegmentationDataset(VAL_PATH_RURAL + \"/images_png\", VAL_PATH_RURAL + \"/masks_png\",\n",
        "                                    transform=resize_transform)\n",
        "print(f\"Test dataset size: {len(test_dataset)}\")"
      ],
      "metadata": {
        "id": "Zk4ZifehjuyZ",
        "outputId": "b0dc75ce-6511-4b1b-8db3-f553b28a4b0f",
        "colab": {
          "base_uri": "https://localhost:8080/"
        }
      },
      "execution_count": 18,
      "outputs": [
        {
          "output_type": "stream",
          "name": "stdout",
          "text": [
            "Validation size: 231\n",
            "Source dataset size: 925\n",
            "Target dataset size: 1366\n",
            "Test dataset size: 992\n"
          ]
        }
      ]
    },
    {
      "cell_type": "code",
      "source": [
        "import torch\n",
        "import numpy as np\n",
        "from tqdm import tqdm\n",
        "from torch.utils.data import DataLoader\n",
        "\n",
        "# Supponiamo tu abbia un DataLoader con le etichette GT (y) nei batch\n",
        "class_counts = torch.zeros(NUM_CLASSES)\n",
        "\n",
        "# for (images, labels, _) in tqdm(DataLoader(source_dataset, batch_size=BATCH_SIZE)):\n",
        "#     for c in range(NUM_CLASSES):\n",
        "#         class_counts[c] += torch.sum(labels == c)\n",
        "\n",
        "# Converti in numpy\n",
        "class_counts = class_counts.numpy()\n",
        "total_pixels = np.sum(class_counts)\n",
        "frequencies = class_counts / total_pixels\n",
        "\n",
        "if TYPE_WEIGHT == \"inverse\":\n",
        "  #Inverse frequency\n",
        "  # class_weights = 1.0 / (frequencies + 1e-8)\n",
        "  class_weights = [ 2.063954, 4.717028, 10.776062, 26.797655, 13.217381, 12.630906, 53.904175]\n",
        "elif TYPE_WEIGHT == \"median-frequency\":\n",
        "  #Median frequency balancing\n",
        "  #median = np.median(frequencies)\n",
        "  #class_weights = median / (frequencies + 1e-8)\n",
        "  class_weights =  [0.16340506, 0.37345123, 0.85315025, 2.1215937,  1.0464315,  0.9999999, 4.2676406]\n",
        "elif TYPE_WEIGHT == \"log\":\n",
        "  #Log smoothing\n",
        "  #class_weights = 1.0 / np.log(1.02 + frequencies)\n",
        "  class_weights = [ 2.4481893, 4.793011, 9.3564825, 17.942291, 10.946302, 10.575735, 26.43621]\n",
        "\n",
        "print(class_weights)\n",
        "\n",
        "#inverse = [ 2.063954, 4.717028, 10.776062, 26.797655, 13.217381, 12.630906, 53.904175]\n",
        "\n",
        "#median-frequency = [0.16340506, 0.37345123, 0.85315025, 2.1215937,  1.0464315,  0.9999999, 4.2676406]\n",
        "\n",
        "#log = [ 2.4481893, 4.793011, 9.3564825, 17.942291, 10.946302, 10.575735, 26.43621]"
      ],
      "metadata": {
        "colab": {
          "base_uri": "https://localhost:8080/"
        },
        "id": "z-PvK8l4668q",
        "outputId": "6e2c9644-55cf-424e-fa43-a9fe370672dd"
      },
      "execution_count": 19,
      "outputs": [
        {
          "output_type": "stream",
          "name": "stdout",
          "text": [
            "[2.063954, 4.717028, 10.776062, 26.797655, 13.217381, 12.630906, 53.904175]\n"
          ]
        },
        {
          "output_type": "stream",
          "name": "stderr",
          "text": [
            "<ipython-input-19-d3d8c6f7f018>:16: RuntimeWarning: invalid value encountered in divide\n",
            "  frequencies = class_counts / total_pixels\n"
          ]
        }
      ]
    },
    {
      "cell_type": "markdown",
      "source": [
        "## Loader instantiation"
      ],
      "metadata": {
        "id": "lyTIKtzjj7i0"
      }
    },
    {
      "cell_type": "code",
      "source": [
        "# Create DataLoaders\n",
        "\n",
        "# TRAINING DATALOADERS\n",
        "source_loader = DataLoader(source_dataset, batch_size=BATCH_SIZE, shuffle=True, num_workers=4)\n",
        "target_loader = DataLoader(target_dataset, batch_size=BATCH_SIZE, shuffle=True, num_workers=4)\n",
        "\n",
        "val_loader = DataLoader(val_dataset, batch_size=BATCH_SIZE, shuffle=False, num_workers=4)\n",
        "\n",
        "\n",
        "# TEST DATALOADER\n",
        "test_loader = DataLoader(test_dataset, batch_size=BATCH_SIZE, shuffle=False, num_workers=4)\n",
        "\n",
        "\n",
        "# enumerate dataloaders\n",
        "source_loader_iter = enumerate(source_loader)\n",
        "target_loader_iter = enumerate(target_loader)\n"
      ],
      "metadata": {
        "id": "vhsQeNzTj_mk"
      },
      "execution_count": 20,
      "outputs": []
    },
    {
      "cell_type": "markdown",
      "metadata": {
        "id": "O4pcqQXrMzza"
      },
      "source": [
        "### Instantiate model"
      ]
    },
    {
      "cell_type": "code",
      "execution_count": 21,
      "metadata": {
        "id": "hZNWIM0DbnJv",
        "outputId": "df5578d8-94ff-4f54-b1ff-443745628e71",
        "colab": {
          "base_uri": "https://localhost:8080/"
        }
      },
      "outputs": [
        {
          "output_type": "stream",
          "name": "stderr",
          "text": [
            "Downloading...\n",
            "From: https://drive.google.com/uc?id=1hIBp_8maRr60-B3PF0NVtaA6TYBvO4y-\n",
            "To: /content/PIDNet_S_ImageNet.pth.tar\n",
            "100%|██████████| 38.1M/38.1M [00:01<00:00, 36.3MB/s]\n"
          ]
        },
        {
          "output_type": "stream",
          "name": "stdout",
          "text": [
            "imagenet-pretrained pidnet weights downloaded\n"
          ]
        }
      ],
      "source": [
        "import gdown\n",
        "\n",
        "if (os.path.exists(\"./PIDNet_S_ImageNet.pth.tar\") == False):\n",
        "  url = \"https://drive.google.com/uc?id=1hIBp_8maRr60-B3PF0NVtaA6TYBvO4y-\"\n",
        "  output = \"./\"\n",
        "  gdown.download(url, output, quiet=False)\n",
        "\n",
        "  print(\"imagenet-pretrained pidnet weights downloaded\")\n",
        "\n",
        "\n",
        "class Config:\n",
        "  class MODEL:\n",
        "      NAME = 'pidnet_s'\n",
        "      PRETRAINED = 'PIDNet_S_ImageNet.pth.tar'\n",
        "  class DATASET:\n",
        "      NUM_CLASSES = NUM_CLASSES\n",
        "\n",
        "cfg = Config()\n",
        "\n",
        "model = get_seg_model(cfg, imgnet_pretrained=True)"
      ]
    },
    {
      "cell_type": "markdown",
      "metadata": {
        "id": "MSQUcy7_t2of"
      },
      "source": [
        "# Training Phase"
      ]
    },
    {
      "cell_type": "markdown",
      "source": [
        "## Define loss functions"
      ],
      "metadata": {
        "id": "p_wwWFwFkIoR"
      }
    },
    {
      "cell_type": "code",
      "source": [
        "import torch\n",
        "import torch.nn as nn\n",
        "import torch.nn.functional as F\n",
        "\n",
        "# Extra Semantic Loss (Classica CrossEntropy Loss)\n",
        "class CrossEntropyLoss(nn.Module):\n",
        "    def __init__(self, num_outputs, weight=None, balance_weights=[0.4, 1.0], sb_weights=1.0):\n",
        "        super(CrossEntropyLoss, self).__init__()\n",
        "        self.loss = nn.CrossEntropyLoss(weight=weight, ignore_index=IGNORE_INDEX)\n",
        "        self.num_outputs = num_outputs\n",
        "        self.balance_weights = balance_weights\n",
        "        self.sb_weights = sb_weights\n",
        "\n",
        "    def _forward(self, pred, target):\n",
        "        return self.loss(pred, target)\n",
        "\n",
        "    def forward(self, score, target):\n",
        "        if self.num_outputs == 1:\n",
        "            score = [score]\n",
        "\n",
        "        if len(self.balance_weights) == len(score):\n",
        "            return sum([w * self._forward(x, target) for (w, x) in zip(self.balance_weights, score)])\n",
        "        elif len(score) == 1:\n",
        "            return self.sb_weights * self._forward(score[0], target)\n",
        "        else:\n",
        "            raise ValueError(\"lengths of prediction and target are not identical!\")\n",
        "\n",
        "class OhemCrossEntropy(nn.Module):\n",
        "    def __init__(self, thres=0.7, min_kept=26_000, balance_weights=[0.4, 1.0], sb_weights=1.0, weight=None):\n",
        "        super(OhemCrossEntropy, self).__init__()\n",
        "        self.thresh = thres\n",
        "        self.min_kept = max(1, min_kept)\n",
        "        self.ignore_label = IGNORE_INDEX\n",
        "        self.balance_weights = balance_weights\n",
        "        self.sb_weights = sb_weights\n",
        "        self.criterion = nn.CrossEntropyLoss(\n",
        "            weight=weight,\n",
        "            ignore_index=self.ignore_label,\n",
        "            reduction='none'\n",
        "        )\n",
        "\n",
        "    def _ce_forward(self, score, target):\n",
        "        loss = self.criterion(score, target)\n",
        "        return loss\n",
        "\n",
        "    def _ohem_forward(self, score, target, **kwargs):\n",
        "        pred = F.softmax(score, dim=1)\n",
        "        pixel_losses = self.criterion(score, target).contiguous().view(-1)\n",
        "        mask = target.contiguous().view(-1) != self.ignore_label\n",
        "\n",
        "        tmp_target = target.clone()\n",
        "        tmp_target[tmp_target == self.ignore_label] = 0\n",
        "        pred = pred.gather(1, tmp_target.unsqueeze(1))\n",
        "        pred, ind = pred.contiguous().view(-1,)[mask].contiguous().sort()\n",
        "        min_value = pred[min(self.min_kept, pred.numel() - 1)]\n",
        "        threshold = max(min_value, self.thresh)\n",
        "\n",
        "        pixel_losses = pixel_losses[mask][ind]\n",
        "        pixel_losses = pixel_losses[pred < threshold]\n",
        "        return pixel_losses.mean()\n",
        "\n",
        "    def forward(self, score, target):\n",
        "        if not (isinstance(score, list) or isinstance(score, tuple)):\n",
        "            score = [score]\n",
        "\n",
        "        if len(self.balance_weights) == len(score):\n",
        "            functions = [self._ce_forward] * \\\n",
        "                (len(self.balance_weights) - 1) + [self._ohem_forward]\n",
        "            return sum([\n",
        "                w * func(x, target)\n",
        "                for (w, x, func) in zip(self.balance_weights, score, functions)\n",
        "            ])\n",
        "\n",
        "        elif len(score) == 1:\n",
        "            return self.sb_weights * self._ohem_forward(score[0], target)\n",
        "\n",
        "        else:\n",
        "            raise ValueError(\"lengths of prediction and target are not identical!\")\n",
        "\n",
        "\n",
        "# Weighted Binary Cross Entropy per i bordi\n",
        "def weighted_bce(bd_pre, target):\n",
        "    n, c, h, w = bd_pre.size()\n",
        "    log_p = bd_pre.permute(0,2,3,1).contiguous().view(1, -1)\n",
        "    target_t = target.view(1, -1)\n",
        "\n",
        "    pos_index = (target_t == 1)\n",
        "    neg_index = (target_t == 0)\n",
        "\n",
        "    weight = torch.zeros_like(log_p)\n",
        "    pos_num = pos_index.sum()\n",
        "    neg_num = neg_index.sum()\n",
        "    sum_num = pos_num + neg_num\n",
        "    weight[pos_index] = neg_num * 1.0 / sum_num\n",
        "    weight[neg_index] = pos_num * 1.0 / sum_num\n",
        "\n",
        "    loss = F.binary_cross_entropy_with_logits(log_p, target_t, weight, reduction='mean')\n",
        "\n",
        "    return loss\n",
        "\n",
        "class BondaryLoss(nn.Module):\n",
        "    def __init__(self, coeff_bce = 20.0):\n",
        "        super(BondaryLoss, self).__init__()\n",
        "        self.coeff_bce = coeff_bce\n",
        "\n",
        "    def forward(self, bd_pre, bd_gt):\n",
        "        bce_loss = self.coeff_bce * weighted_bce(bd_pre, bd_gt)\n",
        "        loss = bce_loss\n",
        "\n",
        "        return loss\n",
        "\n",
        "# PIDNet Loss Totale\n",
        "class PIDNetLoss(nn.Module):\n",
        "    def __init__(self, lambda_0=0.4, lambda_1=20, lambda_2=1, lambda_3=1, threshold=0.8, class_weights=None):\n",
        "        super(PIDNetLoss, self).__init__()\n",
        "        self.class_weights = class_weights\n",
        "        if self.class_weights is not None:\n",
        "            self.class_weights = torch.tensor(class_weights).cuda()\n",
        "        if LOSS_TYPE == \"ohem\":\n",
        "          self.sem_loss = OhemCrossEntropy(balance_weights=[lambda_0, lambda_2], sb_weights=lambda_3, weight = self.class_weights)\n",
        "        else:\n",
        "          self.sem_loss = CrossEntropyLoss(num_outputs=2, balance_weights=[lambda_0, lambda_2], sb_weights=lambda_3, weight = self.class_weights)\n",
        "        self.bd_loss = BondaryLoss(coeff_bce=lambda_1)\n",
        "        self.threshold = threshold\n",
        "\n",
        "    def forward(self, pred_p, pred_main, target, boundary_head, boundary_mask):\n",
        "        \"\"\"\n",
        "        pred_p: output branch P (B, C, H, W)\n",
        "        pred_main: output principale (B, C, H, W)\n",
        "        target: ground truth segmentazione (B, H, W)\n",
        "        boundary_head: predizione dei bordi (B, 1, H, W)\n",
        "        boundary_mask: ground truth dei bordi (B, 1, H, W)\n",
        "        \"\"\"\n",
        "\n",
        "        loss_s = self.sem_loss([pred_p, pred_main], target) # l_0 e l_2\n",
        "        loss_b = self.bd_loss(boundary_head, boundary_mask.unsqueeze(1)) # l_1\n",
        "\n",
        "        # l_3\n",
        "        filler = torch.ones_like(target) * IGNORE_INDEX\n",
        "        bd_label = torch.where(F.sigmoid(boundary_head[:,0,:,:])>self.threshold, target, filler)\n",
        "        loss_sb = self.sem_loss([pred_main], bd_label)\n",
        "\n",
        "\n",
        "        loss = loss_s + loss_b + loss_sb\n",
        "\n",
        "\n",
        "        return loss"
      ],
      "metadata": {
        "id": "7uJvTyhWp2Ky"
      },
      "execution_count": 22,
      "outputs": []
    },
    {
      "cell_type": "code",
      "source": [
        "class CrossEntropyLoss2dPixelWiseWeighted(nn.Module):\n",
        "    def __init__(self, weight=None, ignore_index=250, reduction='none'):\n",
        "        super(CrossEntropyLoss2dPixelWiseWeighted, self).__init__()\n",
        "        self.CE =  nn.CrossEntropyLoss(weight=weight, ignore_index=ignore_index, reduction=reduction)\n",
        "\n",
        "    def forward(self, output, target, pixelWiseWeight):\n",
        "        loss = self.CE(output, target)\n",
        "        loss = torch.mean(loss * pixelWiseWeight)\n",
        "        return loss"
      ],
      "metadata": {
        "id": "_saxZ8fwHpYd"
      },
      "execution_count": 23,
      "outputs": []
    },
    {
      "cell_type": "markdown",
      "source": [
        "## Upscaling function"
      ],
      "metadata": {
        "id": "tTTJR3Ly3T_F"
      }
    },
    {
      "cell_type": "code",
      "source": [
        "import torch.nn.functional as F\n",
        "\n",
        "def Upscaling(outputs, boundary_mask, model):\n",
        "    \"\"\"Upscale trough bilinear interpolation -> riporto le dimensioni dell'output a quelli originali\n",
        "    Quindi passiamo da 64 x 64 della rete a 512 x 512\"\"\"\n",
        "\n",
        "    h, w = boundary_mask.size(1), boundary_mask.size(2)\n",
        "    ph, pw = outputs[0].size(2), outputs[0].size(3)\n",
        "    if ph != h or pw != w:\n",
        "        for i in range(len(outputs)):\n",
        "            outputs[i] = F.interpolate(outputs[i], size=(h, w), mode='bilinear', align_corners=True)\n",
        "    if model.augment:\n",
        "        pred_p, pred_main, boundary_head = outputs  # P, I, D branches\n",
        "    else:\n",
        "        pred_p = None\n",
        "        pred_main = outputs\n",
        "        boundary_head = None  # Nessuna branch D se augment=False\n",
        "\n",
        "    return pred_p, pred_main, boundary_head"
      ],
      "metadata": {
        "id": "6A2YoQKT3Tu8"
      },
      "execution_count": 24,
      "outputs": []
    },
    {
      "cell_type": "markdown",
      "source": [
        "## Instantiate discriminator, optimizers and schedulers"
      ],
      "metadata": {
        "id": "B8_NYLc0kqRn"
      }
    },
    {
      "cell_type": "code",
      "execution_count": 25,
      "metadata": {
        "id": "bAbmz5Cz4I4H",
        "colab": {
          "base_uri": "https://localhost:8080/"
        },
        "outputId": "fc3d8413-3c74-4cd9-d702-97987fcfa1ac"
      },
      "outputs": [
        {
          "output_type": "stream",
          "name": "stdout",
          "text": [
            "cuda\n",
            "86\n",
            "58\n"
          ]
        }
      ],
      "source": [
        "from torch.optim.lr_scheduler import LambdaLR, SequentialLR, StepLR\n",
        "\n",
        "device = torch.device(\"cuda\" if torch.cuda.is_available() else \"cpu\")\n",
        "\n",
        "optimizer = torch.optim.SGD(model.parameters(), lr=LR, momentum=MOMENTUM)\n",
        "\n",
        "scheduler = torch.optim.lr_scheduler.ReduceLROnPlateau(optimizer, mode='max', factor=GAMMA, patience=3, threshold=0.01)\n",
        "\n",
        "if TYPE_WEIGHT == \"median-frequency\" or TYPE_WEIGHT == \"inverse\" or TYPE_WEIGHT == \"log\":\n",
        "  loss_fn = PIDNetLoss(threshold=0.8, class_weights=class_weights)\n",
        "  mix_loss = CrossEntropyLoss2dPixelWiseWeighted(ignore_index = IGNORE_INDEX, weight = torch.tensor(class_weights).cuda())\n",
        "else:\n",
        "  loss_fn = PIDNetLoss(threshold=0.8, class_weights=None)\n",
        "  mix_loss = CrossEntropyLoss2dPixelWiseWeighted(ignore_index = IGNORE_INDEX, weight = None)\n",
        "\n",
        "print(device)\n",
        "\n",
        "print(len(target_loader))\n",
        "print(len(source_loader))"
      ]
    },
    {
      "cell_type": "markdown",
      "source": [
        "# Definition ema model"
      ],
      "metadata": {
        "id": "PBJn-0ZMR-WO"
      }
    },
    {
      "cell_type": "code",
      "source": [
        "def create_ema_model(model):\n",
        "    \"\"\"Returns a new model that is used to generate pseudo-labels\"\"\"\n",
        "\n",
        "    ema_model = get_seg_model(cfg, imgnet_pretrained=True)\n",
        "\n",
        "    for param in ema_model.parameters():\n",
        "        param.detach_()\n",
        "    mp = list(model.parameters())\n",
        "    mcp = list(ema_model.parameters())\n",
        "    n = len(mp)\n",
        "    for i in range(0, n):\n",
        "        mcp[i].data[:] = mp[i].data[:].clone()\n",
        "\n",
        "    return ema_model\n",
        "\n",
        "\n",
        "def update_ema_variables(ema_model, model, alpha_teacher, iteration):\n",
        "    # Use the \"true\" average until the exponential average is more correct\n",
        "    alpha_teacher = min(1 - 1 / (iteration + 1), alpha_teacher)\n",
        "\n",
        "    for ema_param, param in zip(ema_model.parameters(), model.parameters()):\n",
        "        #ema_param.data.mul_(alpha).add_(1 - alpha, param.data)\n",
        "        ema_param.data[:] = alpha_teacher * ema_param[:].data[:] + (1 - alpha_teacher) * param[:].data[:]\n",
        "    return ema_model"
      ],
      "metadata": {
        "id": "kxmHtcIQR3N0"
      },
      "execution_count": 26,
      "outputs": []
    },
    {
      "cell_type": "code",
      "source": [
        "def generate_class_mask(pred, classes):\n",
        "    pred, classes = torch.broadcast_tensors(pred.unsqueeze(0), classes.unsqueeze(1).unsqueeze(2))\n",
        "    N = pred.eq(classes).sum(0)\n",
        "    return N"
      ],
      "metadata": {
        "id": "E0WePh8KaIUS"
      },
      "execution_count": 27,
      "outputs": []
    },
    {
      "cell_type": "code",
      "source": [
        "def oneMix(mask, data = None, target = None):\n",
        "    #Mix\n",
        "    if not (data is None):\n",
        "        stackedMask0, _ = torch.broadcast_tensors(mask[0], data[0])\n",
        "        data = (stackedMask0*data[0]+(1-stackedMask0)*data[1]).unsqueeze(0)\n",
        "    if not (target is None):\n",
        "        stackedMask0, _ = torch.broadcast_tensors(mask[0], target[0])\n",
        "        target = (stackedMask0*target[0]+(1-stackedMask0)*target[1]).unsqueeze(0)\n",
        "    return data, target"
      ],
      "metadata": {
        "id": "kZ1q-SXrczgq"
      },
      "execution_count": 28,
      "outputs": []
    },
    {
      "cell_type": "code",
      "source": [
        "def strong_transform(target, masks_mix, aug = None, data = None):\n",
        "    data, target = oneMix(masks_mix, data, target)\n",
        "\n",
        "    if data is not None:\n",
        "      data_np = data.squeeze(0).cpu().numpy()\n",
        "    target_np = target.squeeze(0).cpu().numpy()\n",
        "\n",
        "    if data is not None:\n",
        "      data_np = np.transpose(data_np, (1, 2, 0))\n",
        "    target_np = np.transpose(target_np, (1, 2, 0))\n",
        "\n",
        "    if data is not None:\n",
        "      augmented = aug(image=data_np, mask=target_np)\n",
        "\n",
        "      data = augmented['image']\n",
        "      target = augmented['mask']\n",
        "\n",
        "      data = torch.from_numpy(data).permute(2, 0, 1).unsqueeze(0)  # (1, C, H, W)\n",
        "      target = torch.from_numpy(target).squeeze(-1).unsqueeze(0)  # (1, H, W)\n",
        "    else:\n",
        "      target = torch.from_numpy(target_np).squeeze(-1).unsqueeze(0)  # (1, H, W)\n",
        "      return None, target\n",
        "\n",
        "    return data, target"
      ],
      "metadata": {
        "id": "KiJJDkIFcOpf"
      },
      "execution_count": 29,
      "outputs": []
    },
    {
      "cell_type": "markdown",
      "source": [
        "## Train"
      ],
      "metadata": {
        "id": "jOCaZndAkPy-"
      }
    },
    {
      "cell_type": "code",
      "execution_count": 32,
      "metadata": {
        "id": "kjNWfPicTLQ3",
        "colab": {
          "base_uri": "https://localhost:8080/"
        },
        "outputId": "30c2f335-f38d-4864-ab51-71d2f8077254"
      },
      "outputs": [
        {
          "output_type": "stream",
          "name": "stdout",
          "text": [
            "[0.000329658544839708]\n"
          ]
        },
        {
          "output_type": "stream",
          "name": "stderr",
          "text": [
            "Epoch 1 [Training]: 100%|██████████| 58/58 [00:46<00:00,  1.26it/s, Loss_seg=57.0408]"
          ]
        },
        {
          "output_type": "stream",
          "name": "stdout",
          "text": [
            "\n",
            "Epoch 1/20 Summary\n",
            "  → Segmentation Source Loss (RAW) : 3.5651\n"
          ]
        },
        {
          "output_type": "stream",
          "name": "stderr",
          "text": [
            "\n",
            "Epoch 1 [Validation]: 100%|██████████| 15/15 [00:04<00:00,  3.58it/s, Val_Loss=27.7499, mIoU=0.2615]\n"
          ]
        },
        {
          "output_type": "stream",
          "name": "stdout",
          "text": [
            "Modello con miou migliore salvato: /content/drive/MyDrive/AML_project/checkpoints/best_model_PIDNET_5_DACS_without_0_class_ohem.pth\n",
            "\n",
            "→ Validation Loss: 1.8019\n",
            "→ Overall mIoU: 0.2615\n",
            "  → background IoU: 0.1290\n",
            "  → building IoU: 0.3508\n",
            "  → road IoU: 0.2745\n",
            "  → water IoU: 0.3672\n",
            "  → barren IoU: 0.3143\n",
            "  → forest IoU: 0.2691\n",
            "  → agriculture IoU: 0.1252\n",
            "[0.000329658544839708]\n"
          ]
        },
        {
          "output_type": "stream",
          "name": "stderr",
          "text": [
            "Epoch 2 [Training]: 100%|██████████| 58/58 [00:43<00:00,  1.34it/s, Loss_seg=29.0319]"
          ]
        },
        {
          "output_type": "stream",
          "name": "stdout",
          "text": [
            "\n",
            "Epoch 2/20 Summary\n",
            "  → Segmentation Source Loss (RAW) : 1.8145\n"
          ]
        },
        {
          "output_type": "stream",
          "name": "stderr",
          "text": [
            "\n",
            "Epoch 2 [Validation]: 100%|██████████| 15/15 [00:04<00:00,  3.64it/s, Val_Loss=23.1007, mIoU=0.2889]\n"
          ]
        },
        {
          "output_type": "stream",
          "name": "stdout",
          "text": [
            "Modello con miou migliore salvato: /content/drive/MyDrive/AML_project/checkpoints/best_model_PIDNET_5_DACS_without_0_class_ohem.pth\n",
            "\n",
            "→ Validation Loss: 1.5000\n",
            "→ Overall mIoU: 0.2889\n",
            "  → background IoU: 0.0945\n",
            "  → building IoU: 0.3924\n",
            "  → road IoU: 0.3140\n",
            "  → water IoU: 0.4203\n",
            "  → barren IoU: 0.3515\n",
            "  → forest IoU: 0.3311\n",
            "  → agriculture IoU: 0.1185\n",
            "[0.000329658544839708]\n"
          ]
        },
        {
          "output_type": "stream",
          "name": "stderr",
          "text": [
            "Epoch 3 [Training]: 100%|██████████| 58/58 [00:43<00:00,  1.33it/s, Loss_seg=25.8311]"
          ]
        },
        {
          "output_type": "stream",
          "name": "stdout",
          "text": [
            "\n",
            "Epoch 3/20 Summary\n",
            "  → Segmentation Source Loss (RAW) : 1.6144\n"
          ]
        },
        {
          "output_type": "stream",
          "name": "stderr",
          "text": [
            "\n",
            "Epoch 3 [Validation]: 100%|██████████| 15/15 [00:04<00:00,  3.65it/s, Val_Loss=19.8657, mIoU=0.3400]\n"
          ]
        },
        {
          "output_type": "stream",
          "name": "stdout",
          "text": [
            "Modello con miou migliore salvato: /content/drive/MyDrive/AML_project/checkpoints/best_model_PIDNET_5_DACS_without_0_class_ohem.pth\n",
            "\n",
            "→ Validation Loss: 1.2900\n",
            "→ Overall mIoU: 0.3400\n",
            "  → background IoU: 0.1236\n",
            "  → building IoU: 0.4211\n",
            "  → road IoU: 0.3701\n",
            "  → water IoU: 0.4989\n",
            "  → barren IoU: 0.3459\n",
            "  → forest IoU: 0.3862\n",
            "  → agriculture IoU: 0.2339\n",
            "[0.000329658544839708]\n"
          ]
        },
        {
          "output_type": "stream",
          "name": "stderr",
          "text": [
            "Epoch 4 [Training]: 100%|██████████| 58/58 [00:43<00:00,  1.34it/s, Loss_seg=23.4609]"
          ]
        },
        {
          "output_type": "stream",
          "name": "stdout",
          "text": [
            "\n",
            "Epoch 4/20 Summary\n",
            "  → Segmentation Source Loss (RAW) : 1.4663\n"
          ]
        },
        {
          "output_type": "stream",
          "name": "stderr",
          "text": [
            "\n",
            "Epoch 4 [Validation]: 100%|██████████| 15/15 [00:04<00:00,  3.65it/s, Val_Loss=18.5453, mIoU=0.3426]\n"
          ]
        },
        {
          "output_type": "stream",
          "name": "stdout",
          "text": [
            "Modello con miou migliore salvato: /content/drive/MyDrive/AML_project/checkpoints/best_model_PIDNET_5_DACS_without_0_class_ohem.pth\n",
            "\n",
            "→ Validation Loss: 1.2042\n",
            "→ Overall mIoU: 0.3426\n",
            "  → background IoU: 0.1247\n",
            "  → building IoU: 0.4326\n",
            "  → road IoU: 0.4063\n",
            "  → water IoU: 0.5221\n",
            "  → barren IoU: 0.3707\n",
            "  → forest IoU: 0.4019\n",
            "  → agriculture IoU: 0.1397\n",
            "[0.000329658544839708]\n"
          ]
        },
        {
          "output_type": "stream",
          "name": "stderr",
          "text": [
            "Epoch 5 [Training]: 100%|██████████| 58/58 [00:43<00:00,  1.34it/s, Loss_seg=22.5829]"
          ]
        },
        {
          "output_type": "stream",
          "name": "stdout",
          "text": [
            "\n",
            "Epoch 5/20 Summary\n",
            "  → Segmentation Source Loss (RAW) : 1.4114\n"
          ]
        },
        {
          "output_type": "stream",
          "name": "stderr",
          "text": [
            "\n",
            "Epoch 5 [Validation]: 100%|██████████| 15/15 [00:04<00:00,  3.63it/s, Val_Loss=18.1091, mIoU=0.3618]\n"
          ]
        },
        {
          "output_type": "stream",
          "name": "stdout",
          "text": [
            "Modello con miou migliore salvato: /content/drive/MyDrive/AML_project/checkpoints/best_model_PIDNET_5_DACS_without_0_class_ohem.pth\n",
            "\n",
            "→ Validation Loss: 1.1759\n",
            "→ Overall mIoU: 0.3618\n",
            "  → background IoU: 0.1734\n",
            "  → building IoU: 0.4478\n",
            "  → road IoU: 0.4170\n",
            "  → water IoU: 0.4535\n",
            "  → barren IoU: 0.3600\n",
            "  → forest IoU: 0.4287\n",
            "  → agriculture IoU: 0.2524\n",
            "[0.000329658544839708]\n"
          ]
        },
        {
          "output_type": "stream",
          "name": "stderr",
          "text": [
            "Epoch 6 [Training]: 100%|██████████| 58/58 [00:43<00:00,  1.33it/s, Loss_seg=21.0274]"
          ]
        },
        {
          "output_type": "stream",
          "name": "stdout",
          "text": [
            "\n",
            "Epoch 6/20 Summary\n",
            "  → Segmentation Source Loss (RAW) : 1.3142\n"
          ]
        },
        {
          "output_type": "stream",
          "name": "stderr",
          "text": [
            "\n",
            "Epoch 6 [Validation]: 100%|██████████| 15/15 [00:04<00:00,  3.57it/s, Val_Loss=18.4355, mIoU=0.3642]\n"
          ]
        },
        {
          "output_type": "stream",
          "name": "stdout",
          "text": [
            "Modello con miou migliore salvato: /content/drive/MyDrive/AML_project/checkpoints/best_model_PIDNET_5_DACS_without_0_class_ohem.pth\n",
            "\n",
            "→ Validation Loss: 1.1971\n",
            "→ Overall mIoU: 0.3642\n",
            "  → background IoU: 0.1567\n",
            "  → building IoU: 0.4555\n",
            "  → road IoU: 0.4060\n",
            "  → water IoU: 0.4749\n",
            "  → barren IoU: 0.3814\n",
            "  → forest IoU: 0.4261\n",
            "  → agriculture IoU: 0.2487\n",
            "[0.000329658544839708]\n"
          ]
        },
        {
          "output_type": "stream",
          "name": "stderr",
          "text": [
            "Epoch 7 [Training]: 100%|██████████| 58/58 [00:43<00:00,  1.34it/s, Loss_seg=20.8118]"
          ]
        },
        {
          "output_type": "stream",
          "name": "stdout",
          "text": [
            "\n",
            "Epoch 7/20 Summary\n",
            "  → Segmentation Source Loss (RAW) : 1.3007\n"
          ]
        },
        {
          "output_type": "stream",
          "name": "stderr",
          "text": [
            "\n",
            "Epoch 7 [Validation]: 100%|██████████| 15/15 [00:04<00:00,  3.66it/s, Val_Loss=20.2547, mIoU=0.3589]"
          ]
        },
        {
          "output_type": "stream",
          "name": "stdout",
          "text": [
            "\n",
            "→ Validation Loss: 1.3152\n",
            "→ Overall mIoU: 0.3589\n",
            "  → background IoU: 0.1308\n",
            "  → building IoU: 0.4573\n",
            "  → road IoU: 0.4377\n",
            "  → water IoU: 0.5342\n",
            "  → barren IoU: 0.3748\n",
            "  → forest IoU: 0.4168\n",
            "  → agriculture IoU: 0.1609\n",
            "[0.000329658544839708]\n"
          ]
        },
        {
          "output_type": "stream",
          "name": "stderr",
          "text": [
            "\n",
            "Epoch 8 [Training]: 100%|██████████| 58/58 [00:43<00:00,  1.34it/s, Loss_seg=20.3838]"
          ]
        },
        {
          "output_type": "stream",
          "name": "stdout",
          "text": [
            "\n",
            "Epoch 8/20 Summary\n",
            "  → Segmentation Source Loss (RAW) : 1.2740\n"
          ]
        },
        {
          "output_type": "stream",
          "name": "stderr",
          "text": [
            "\n",
            "Epoch 8 [Validation]: 100%|██████████| 15/15 [00:04<00:00,  3.66it/s, Val_Loss=18.4615, mIoU=0.3668]\n"
          ]
        },
        {
          "output_type": "stream",
          "name": "stdout",
          "text": [
            "Modello con miou migliore salvato: /content/drive/MyDrive/AML_project/checkpoints/best_model_PIDNET_5_DACS_without_0_class_ohem.pth\n",
            "\n",
            "→ Validation Loss: 1.1988\n",
            "→ Overall mIoU: 0.3668\n",
            "  → background IoU: 0.1415\n",
            "  → building IoU: 0.4565\n",
            "  → road IoU: 0.4358\n",
            "  → water IoU: 0.4950\n",
            "  → barren IoU: 0.3912\n",
            "  → forest IoU: 0.4473\n",
            "  → agriculture IoU: 0.2007\n",
            "[0.000329658544839708]\n"
          ]
        },
        {
          "output_type": "stream",
          "name": "stderr",
          "text": [
            "Epoch 9 [Training]: 100%|██████████| 58/58 [00:43<00:00,  1.32it/s, Loss_seg=19.4747]"
          ]
        },
        {
          "output_type": "stream",
          "name": "stdout",
          "text": [
            "\n",
            "Epoch 9/20 Summary\n",
            "  → Segmentation Source Loss (RAW) : 1.2172\n"
          ]
        },
        {
          "output_type": "stream",
          "name": "stderr",
          "text": [
            "\n",
            "Epoch 9 [Validation]: 100%|██████████| 15/15 [00:04<00:00,  3.63it/s, Val_Loss=16.4953, mIoU=0.3859]\n"
          ]
        },
        {
          "output_type": "stream",
          "name": "stdout",
          "text": [
            "Modello con miou migliore salvato: /content/drive/MyDrive/AML_project/checkpoints/best_model_PIDNET_5_DACS_without_0_class_ohem.pth\n",
            "\n",
            "→ Validation Loss: 1.0711\n",
            "→ Overall mIoU: 0.3859\n",
            "  → background IoU: 0.1621\n",
            "  → building IoU: 0.4696\n",
            "  → road IoU: 0.4661\n",
            "  → water IoU: 0.6022\n",
            "  → barren IoU: 0.3898\n",
            "  → forest IoU: 0.4470\n",
            "  → agriculture IoU: 0.1645\n",
            "[0.000329658544839708]\n"
          ]
        },
        {
          "output_type": "stream",
          "name": "stderr",
          "text": [
            "Epoch 10 [Training]: 100%|██████████| 58/58 [00:43<00:00,  1.33it/s, Loss_seg=19.0917]"
          ]
        },
        {
          "output_type": "stream",
          "name": "stdout",
          "text": [
            "\n",
            "Epoch 10/20 Summary\n",
            "  → Segmentation Source Loss (RAW) : 1.1932\n"
          ]
        },
        {
          "output_type": "stream",
          "name": "stderr",
          "text": [
            "\n",
            "Epoch 10 [Validation]: 100%|██████████| 15/15 [00:04<00:00,  3.63it/s, Val_Loss=17.0681, mIoU=0.3773]"
          ]
        },
        {
          "output_type": "stream",
          "name": "stdout",
          "text": [
            "\n",
            "→ Validation Loss: 1.1083\n",
            "→ Overall mIoU: 0.3773\n",
            "  → background IoU: 0.1368\n",
            "  → building IoU: 0.4786\n",
            "  → road IoU: 0.4583\n",
            "  → water IoU: 0.5773\n",
            "  → barren IoU: 0.3811\n",
            "  → forest IoU: 0.4446\n",
            "  → agriculture IoU: 0.1641\n",
            "[0.000329658544839708]\n"
          ]
        },
        {
          "output_type": "stream",
          "name": "stderr",
          "text": [
            "\n",
            "Epoch 11 [Training]: 100%|██████████| 58/58 [00:43<00:00,  1.34it/s, Loss_seg=18.9935]"
          ]
        },
        {
          "output_type": "stream",
          "name": "stdout",
          "text": [
            "\n",
            "Epoch 11/20 Summary\n",
            "  → Segmentation Source Loss (RAW) : 1.1871\n"
          ]
        },
        {
          "output_type": "stream",
          "name": "stderr",
          "text": [
            "\n",
            "Epoch 11 [Validation]: 100%|██████████| 15/15 [00:04<00:00,  3.66it/s, Val_Loss=16.7899, mIoU=0.3861]\n"
          ]
        },
        {
          "output_type": "stream",
          "name": "stdout",
          "text": [
            "Modello con miou migliore salvato: /content/drive/MyDrive/AML_project/checkpoints/best_model_PIDNET_5_DACS_without_0_class_ohem.pth\n",
            "\n",
            "→ Validation Loss: 1.0903\n",
            "→ Overall mIoU: 0.3861\n",
            "  → background IoU: 0.1510\n",
            "  → building IoU: 0.4832\n",
            "  → road IoU: 0.4435\n",
            "  → water IoU: 0.5885\n",
            "  → barren IoU: 0.4144\n",
            "  → forest IoU: 0.4645\n",
            "  → agriculture IoU: 0.1579\n",
            "[0.000329658544839708]\n"
          ]
        },
        {
          "output_type": "stream",
          "name": "stderr",
          "text": [
            "Epoch 12 [Training]: 100%|██████████| 58/58 [00:43<00:00,  1.34it/s, Loss_seg=18.6951]"
          ]
        },
        {
          "output_type": "stream",
          "name": "stdout",
          "text": [
            "\n",
            "Epoch 12/20 Summary\n",
            "  → Segmentation Source Loss (RAW) : 1.1684\n"
          ]
        },
        {
          "output_type": "stream",
          "name": "stderr",
          "text": [
            "\n",
            "Epoch 12 [Validation]: 100%|██████████| 15/15 [00:04<00:00,  3.61it/s, Val_Loss=16.5496, mIoU=0.3914]\n"
          ]
        },
        {
          "output_type": "stream",
          "name": "stdout",
          "text": [
            "Modello con miou migliore salvato: /content/drive/MyDrive/AML_project/checkpoints/best_model_PIDNET_5_DACS_without_0_class_ohem.pth\n",
            "\n",
            "→ Validation Loss: 1.0746\n",
            "→ Overall mIoU: 0.3914\n",
            "  → background IoU: 0.1212\n",
            "  → building IoU: 0.4827\n",
            "  → road IoU: 0.4715\n",
            "  → water IoU: 0.6354\n",
            "  → barren IoU: 0.4111\n",
            "  → forest IoU: 0.4372\n",
            "  → agriculture IoU: 0.1807\n",
            "[0.000329658544839708]\n"
          ]
        },
        {
          "output_type": "stream",
          "name": "stderr",
          "text": [
            "Epoch 13 [Training]: 100%|██████████| 58/58 [00:43<00:00,  1.33it/s, Loss_seg=19.4083]"
          ]
        },
        {
          "output_type": "stream",
          "name": "stdout",
          "text": [
            "\n",
            "Epoch 13/20 Summary\n",
            "  → Segmentation Source Loss (RAW) : 1.2130\n"
          ]
        },
        {
          "output_type": "stream",
          "name": "stderr",
          "text": [
            "\n",
            "Epoch 13 [Validation]: 100%|██████████| 15/15 [00:04<00:00,  3.60it/s, Val_Loss=15.6519, mIoU=0.3862]"
          ]
        },
        {
          "output_type": "stream",
          "name": "stdout",
          "text": [
            "\n",
            "→ Validation Loss: 1.0164\n",
            "→ Overall mIoU: 0.3862\n",
            "  → background IoU: 0.0879\n",
            "  → building IoU: 0.4815\n",
            "  → road IoU: 0.4949\n",
            "  → water IoU: 0.6556\n",
            "  → barren IoU: 0.3955\n",
            "  → forest IoU: 0.4409\n",
            "  → agriculture IoU: 0.1469\n",
            "[0.000329658544839708]\n"
          ]
        },
        {
          "output_type": "stream",
          "name": "stderr",
          "text": [
            "\n",
            "Epoch 14 [Training]: 100%|██████████| 58/58 [00:43<00:00,  1.35it/s, Loss_seg=18.3694]"
          ]
        },
        {
          "output_type": "stream",
          "name": "stdout",
          "text": [
            "\n",
            "Epoch 14/20 Summary\n",
            "  → Segmentation Source Loss (RAW) : 1.1481\n"
          ]
        },
        {
          "output_type": "stream",
          "name": "stderr",
          "text": [
            "\n",
            "Epoch 14 [Validation]: 100%|██████████| 15/15 [00:04<00:00,  3.63it/s, Val_Loss=17.3948, mIoU=0.3641]"
          ]
        },
        {
          "output_type": "stream",
          "name": "stdout",
          "text": [
            "\n",
            "→ Validation Loss: 1.1295\n",
            "→ Overall mIoU: 0.3641\n",
            "  → background IoU: 0.0675\n",
            "  → building IoU: 0.4739\n",
            "  → road IoU: 0.4572\n",
            "  → water IoU: 0.5504\n",
            "  → barren IoU: 0.4091\n",
            "  → forest IoU: 0.4535\n",
            "  → agriculture IoU: 0.1372\n",
            "[0.000329658544839708]\n"
          ]
        },
        {
          "output_type": "stream",
          "name": "stderr",
          "text": [
            "\n",
            "Epoch 15 [Training]: 100%|██████████| 58/58 [00:43<00:00,  1.34it/s, Loss_seg=18.1511]"
          ]
        },
        {
          "output_type": "stream",
          "name": "stdout",
          "text": [
            "\n",
            "Epoch 15/20 Summary\n",
            "  → Segmentation Source Loss (RAW) : 1.1344\n"
          ]
        },
        {
          "output_type": "stream",
          "name": "stderr",
          "text": [
            "\n",
            "Epoch 15 [Validation]: 100%|██████████| 15/15 [00:04<00:00,  3.61it/s, Val_Loss=16.3324, mIoU=0.3691]\n"
          ]
        },
        {
          "output_type": "stream",
          "name": "stdout",
          "text": [
            "\n",
            "→ Validation Loss: 1.0605\n",
            "→ Overall mIoU: 0.3691\n",
            "  → background IoU: 0.0556\n",
            "  → building IoU: 0.4698\n",
            "  → road IoU: 0.4933\n",
            "  → water IoU: 0.5963\n",
            "  → barren IoU: 0.3990\n",
            "  → forest IoU: 0.4495\n",
            "  → agriculture IoU: 0.1200\n",
            "[0.000329658544839708]\n"
          ]
        },
        {
          "output_type": "stream",
          "name": "stderr",
          "text": [
            "Epoch 16 [Training]: 100%|██████████| 58/58 [00:43<00:00,  1.32it/s, Loss_seg=17.7574]"
          ]
        },
        {
          "output_type": "stream",
          "name": "stdout",
          "text": [
            "\n",
            "Epoch 16/20 Summary\n",
            "  → Segmentation Source Loss (RAW) : 1.1098\n"
          ]
        },
        {
          "output_type": "stream",
          "name": "stderr",
          "text": [
            "\n",
            "Epoch 16 [Validation]: 100%|██████████| 15/15 [00:04<00:00,  3.62it/s, Val_Loss=16.5436, mIoU=0.3782]"
          ]
        },
        {
          "output_type": "stream",
          "name": "stdout",
          "text": [
            "\n",
            "→ Validation Loss: 1.0743\n",
            "→ Overall mIoU: 0.3782\n",
            "  → background IoU: 0.0786\n",
            "  → building IoU: 0.4847\n",
            "  → road IoU: 0.4571\n",
            "  → water IoU: 0.5672\n",
            "  → barren IoU: 0.4271\n",
            "  → forest IoU: 0.4410\n",
            "  → agriculture IoU: 0.1916\n",
            "[0.000164829272419854]\n"
          ]
        },
        {
          "output_type": "stream",
          "name": "stderr",
          "text": [
            "\n",
            "Epoch 17 [Training]: 100%|██████████| 58/58 [00:43<00:00,  1.33it/s, Loss_seg=17.8342]"
          ]
        },
        {
          "output_type": "stream",
          "name": "stdout",
          "text": [
            "\n",
            "Epoch 17/20 Summary\n",
            "  → Segmentation Source Loss (RAW) : 1.1146\n"
          ]
        },
        {
          "output_type": "stream",
          "name": "stderr",
          "text": [
            "\n",
            "Epoch 17 [Validation]: 100%|██████████| 15/15 [00:04<00:00,  3.60it/s, Val_Loss=22.5307, mIoU=0.3463]"
          ]
        },
        {
          "output_type": "stream",
          "name": "stdout",
          "text": [
            "\n",
            "→ Validation Loss: 1.4630\n",
            "→ Overall mIoU: 0.3463\n",
            "  → background IoU: 0.0576\n",
            "  → building IoU: 0.4748\n",
            "  → road IoU: 0.4599\n",
            "  → water IoU: 0.4542\n",
            "  → barren IoU: 0.3997\n",
            "  → forest IoU: 0.4279\n",
            "  → agriculture IoU: 0.1503\n",
            "[0.000164829272419854]\n"
          ]
        },
        {
          "output_type": "stream",
          "name": "stderr",
          "text": [
            "\n",
            "Epoch 18 [Training]: 100%|██████████| 58/58 [00:42<00:00,  1.35it/s, Loss_seg=17.6819]"
          ]
        },
        {
          "output_type": "stream",
          "name": "stdout",
          "text": [
            "\n",
            "Epoch 18/20 Summary\n",
            "  → Segmentation Source Loss (RAW) : 1.1051\n"
          ]
        },
        {
          "output_type": "stream",
          "name": "stderr",
          "text": [
            "\n",
            "Epoch 18 [Validation]: 100%|██████████| 15/15 [00:04<00:00,  3.64it/s, Val_Loss=17.0081, mIoU=0.3787]\n"
          ]
        },
        {
          "output_type": "stream",
          "name": "stdout",
          "text": [
            "\n",
            "→ Validation Loss: 1.1044\n",
            "→ Overall mIoU: 0.3787\n",
            "  → background IoU: 0.0499\n",
            "  → building IoU: 0.4820\n",
            "  → road IoU: 0.4852\n",
            "  → water IoU: 0.6214\n",
            "  → barren IoU: 0.4396\n",
            "  → forest IoU: 0.4599\n",
            "  → agriculture IoU: 0.1127\n",
            "[0.000164829272419854]\n"
          ]
        },
        {
          "output_type": "stream",
          "name": "stderr",
          "text": [
            "Epoch 19 [Training]: 100%|██████████| 58/58 [00:42<00:00,  1.35it/s, Loss_seg=17.7264]"
          ]
        },
        {
          "output_type": "stream",
          "name": "stdout",
          "text": [
            "\n",
            "Epoch 19/20 Summary\n",
            "  → Segmentation Source Loss (RAW) : 1.1079\n"
          ]
        },
        {
          "output_type": "stream",
          "name": "stderr",
          "text": [
            "\n",
            "Epoch 19 [Validation]: 100%|██████████| 15/15 [00:04<00:00,  3.60it/s, Val_Loss=17.2446, mIoU=0.3756]"
          ]
        },
        {
          "output_type": "stream",
          "name": "stdout",
          "text": [
            "\n",
            "→ Validation Loss: 1.1198\n",
            "→ Overall mIoU: 0.3756\n",
            "  → background IoU: 0.0513\n",
            "  → building IoU: 0.4842\n",
            "  → road IoU: 0.4790\n",
            "  → water IoU: 0.6256\n",
            "  → barren IoU: 0.4141\n",
            "  → forest IoU: 0.4469\n",
            "  → agriculture IoU: 0.1278\n",
            "[0.000164829272419854]\n"
          ]
        },
        {
          "output_type": "stream",
          "name": "stderr",
          "text": [
            "\n",
            "Epoch 20 [Training]: 100%|██████████| 58/58 [00:42<00:00,  1.35it/s, Loss_seg=17.1595]"
          ]
        },
        {
          "output_type": "stream",
          "name": "stdout",
          "text": [
            "\n",
            "Epoch 20/20 Summary\n",
            "  → Segmentation Source Loss (RAW) : 1.0725\n"
          ]
        },
        {
          "output_type": "stream",
          "name": "stderr",
          "text": [
            "\n",
            "Epoch 20 [Validation]: 100%|██████████| 15/15 [00:04<00:00,  3.64it/s, Val_Loss=16.9409, mIoU=0.3793]\n"
          ]
        },
        {
          "output_type": "stream",
          "name": "stdout",
          "text": [
            "\n",
            "→ Validation Loss: 1.1001\n",
            "→ Overall mIoU: 0.3793\n",
            "  → background IoU: 0.0385\n",
            "  → building IoU: 0.4932\n",
            "  → road IoU: 0.4855\n",
            "  → water IoU: 0.6557\n",
            "  → barren IoU: 0.4145\n",
            "  → forest IoU: 0.4629\n",
            "  → agriculture IoU: 0.1045\n",
            "[0.000329658544839708]\n"
          ]
        },
        {
          "output_type": "stream",
          "name": "stderr",
          "text": [
            "Epoch 1 [Training]: 100%|██████████| 58/58 [00:43<00:00,  1.33it/s, Loss_seg=61.0202]"
          ]
        },
        {
          "output_type": "stream",
          "name": "stdout",
          "text": [
            "\n",
            "Epoch 1/20 Summary\n",
            "  → Segmentation Source Loss (RAW) : 3.8138\n"
          ]
        },
        {
          "output_type": "stream",
          "name": "stderr",
          "text": [
            "\n",
            "Epoch 1 [Validation]: 100%|██████████| 15/15 [00:04<00:00,  3.65it/s, Val_Loss=27.2669, mIoU=0.2425]\n"
          ]
        },
        {
          "output_type": "stream",
          "name": "stdout",
          "text": [
            "Modello con miou migliore salvato: /content/drive/MyDrive/AML_project/checkpoints/best_model_PIDNET_5_DACS_without_1_class_ohem.pth\n",
            "\n",
            "→ Validation Loss: 1.7706\n",
            "→ Overall mIoU: 0.2425\n",
            "  → background IoU: 0.1584\n",
            "  → building IoU: 0.2798\n",
            "  → road IoU: 0.3007\n",
            "  → water IoU: 0.3242\n",
            "  → barren IoU: 0.2846\n",
            "  → forest IoU: 0.2579\n",
            "  → agriculture IoU: 0.0920\n",
            "[0.000329658544839708]\n"
          ]
        },
        {
          "output_type": "stream",
          "name": "stderr",
          "text": [
            "Epoch 2 [Training]: 100%|██████████| 58/58 [00:43<00:00,  1.33it/s, Loss_seg=31.6170]"
          ]
        },
        {
          "output_type": "stream",
          "name": "stdout",
          "text": [
            "\n",
            "Epoch 2/20 Summary\n",
            "  → Segmentation Source Loss (RAW) : 1.9761\n"
          ]
        },
        {
          "output_type": "stream",
          "name": "stderr",
          "text": [
            "\n",
            "Epoch 2 [Validation]: 100%|██████████| 15/15 [00:04<00:00,  3.64it/s, Val_Loss=22.6058, mIoU=0.3288]\n"
          ]
        },
        {
          "output_type": "stream",
          "name": "stdout",
          "text": [
            "Modello con miou migliore salvato: /content/drive/MyDrive/AML_project/checkpoints/best_model_PIDNET_5_DACS_without_1_class_ohem.pth\n",
            "\n",
            "→ Validation Loss: 1.4679\n",
            "→ Overall mIoU: 0.3288\n",
            "  → background IoU: 0.2393\n",
            "  → building IoU: 0.3463\n",
            "  → road IoU: 0.3669\n",
            "  → water IoU: 0.4071\n",
            "  → barren IoU: 0.3435\n",
            "  → forest IoU: 0.3478\n",
            "  → agriculture IoU: 0.2507\n",
            "[0.000329658544839708]\n"
          ]
        },
        {
          "output_type": "stream",
          "name": "stderr",
          "text": [
            "Epoch 3 [Training]: 100%|██████████| 58/58 [00:43<00:00,  1.32it/s, Loss_seg=26.9721]"
          ]
        },
        {
          "output_type": "stream",
          "name": "stdout",
          "text": [
            "\n",
            "Epoch 3/20 Summary\n",
            "  → Segmentation Source Loss (RAW) : 1.6858\n"
          ]
        },
        {
          "output_type": "stream",
          "name": "stderr",
          "text": [
            "\n",
            "Epoch 3 [Validation]: 100%|██████████| 15/15 [00:04<00:00,  3.63it/s, Val_Loss=18.8964, mIoU=0.3682]\n"
          ]
        },
        {
          "output_type": "stream",
          "name": "stdout",
          "text": [
            "Modello con miou migliore salvato: /content/drive/MyDrive/AML_project/checkpoints/best_model_PIDNET_5_DACS_without_1_class_ohem.pth\n",
            "\n",
            "→ Validation Loss: 1.2270\n",
            "→ Overall mIoU: 0.3682\n",
            "  → background IoU: 0.2505\n",
            "  → building IoU: 0.3808\n",
            "  → road IoU: 0.4089\n",
            "  → water IoU: 0.5347\n",
            "  → barren IoU: 0.3763\n",
            "  → forest IoU: 0.4282\n",
            "  → agriculture IoU: 0.1982\n",
            "[0.000329658544839708]\n"
          ]
        },
        {
          "output_type": "stream",
          "name": "stderr",
          "text": [
            "Epoch 4 [Training]: 100%|██████████| 58/58 [00:44<00:00,  1.31it/s, Loss_seg=24.7937]"
          ]
        },
        {
          "output_type": "stream",
          "name": "stdout",
          "text": [
            "\n",
            "Epoch 4/20 Summary\n",
            "  → Segmentation Source Loss (RAW) : 1.5496\n"
          ]
        },
        {
          "output_type": "stream",
          "name": "stderr",
          "text": [
            "\n",
            "Epoch 4 [Validation]: 100%|██████████| 15/15 [00:04<00:00,  3.62it/s, Val_Loss=18.9720, mIoU=0.3846]\n"
          ]
        },
        {
          "output_type": "stream",
          "name": "stdout",
          "text": [
            "Modello con miou migliore salvato: /content/drive/MyDrive/AML_project/checkpoints/best_model_PIDNET_5_DACS_without_1_class_ohem.pth\n",
            "\n",
            "→ Validation Loss: 1.2320\n",
            "→ Overall mIoU: 0.3846\n",
            "  → background IoU: 0.3004\n",
            "  → building IoU: 0.4034\n",
            "  → road IoU: 0.4399\n",
            "  → water IoU: 0.5836\n",
            "  → barren IoU: 0.3942\n",
            "  → forest IoU: 0.4195\n",
            "  → agriculture IoU: 0.1510\n",
            "[0.000329658544839708]\n"
          ]
        },
        {
          "output_type": "stream",
          "name": "stderr",
          "text": [
            "Epoch 5 [Training]: 100%|██████████| 58/58 [00:43<00:00,  1.34it/s, Loss_seg=23.0540]"
          ]
        },
        {
          "output_type": "stream",
          "name": "stdout",
          "text": [
            "\n",
            "Epoch 5/20 Summary\n",
            "  → Segmentation Source Loss (RAW) : 1.4409\n"
          ]
        },
        {
          "output_type": "stream",
          "name": "stderr",
          "text": [
            "\n",
            "Epoch 5 [Validation]: 100%|██████████| 15/15 [00:04<00:00,  3.61it/s, Val_Loss=17.5151, mIoU=0.3947]\n"
          ]
        },
        {
          "output_type": "stream",
          "name": "stdout",
          "text": [
            "Modello con miou migliore salvato: /content/drive/MyDrive/AML_project/checkpoints/best_model_PIDNET_5_DACS_without_1_class_ohem.pth\n",
            "\n",
            "→ Validation Loss: 1.1373\n",
            "→ Overall mIoU: 0.3947\n",
            "  → background IoU: 0.3071\n",
            "  → building IoU: 0.4136\n",
            "  → road IoU: 0.4664\n",
            "  → water IoU: 0.4920\n",
            "  → barren IoU: 0.4044\n",
            "  → forest IoU: 0.4421\n",
            "  → agriculture IoU: 0.2373\n",
            "[0.000329658544839708]\n"
          ]
        },
        {
          "output_type": "stream",
          "name": "stderr",
          "text": [
            "Epoch 6 [Training]: 100%|██████████| 58/58 [00:43<00:00,  1.33it/s, Loss_seg=21.8765]"
          ]
        },
        {
          "output_type": "stream",
          "name": "stdout",
          "text": [
            "\n",
            "Epoch 6/20 Summary\n",
            "  → Segmentation Source Loss (RAW) : 1.3673\n"
          ]
        },
        {
          "output_type": "stream",
          "name": "stderr",
          "text": [
            "\n",
            "Epoch 6 [Validation]: 100%|██████████| 15/15 [00:04<00:00,  3.64it/s, Val_Loss=16.5548, mIoU=0.4181]\n"
          ]
        },
        {
          "output_type": "stream",
          "name": "stdout",
          "text": [
            "Modello con miou migliore salvato: /content/drive/MyDrive/AML_project/checkpoints/best_model_PIDNET_5_DACS_without_1_class_ohem.pth\n",
            "\n",
            "→ Validation Loss: 1.0750\n",
            "→ Overall mIoU: 0.4181\n",
            "  → background IoU: 0.2914\n",
            "  → building IoU: 0.4423\n",
            "  → road IoU: 0.4526\n",
            "  → water IoU: 0.5847\n",
            "  → barren IoU: 0.4237\n",
            "  → forest IoU: 0.4303\n",
            "  → agriculture IoU: 0.3017\n",
            "[0.000329658544839708]\n"
          ]
        },
        {
          "output_type": "stream",
          "name": "stderr",
          "text": [
            "Epoch 7 [Training]: 100%|██████████| 58/58 [00:42<00:00,  1.35it/s, Loss_seg=21.2035]"
          ]
        },
        {
          "output_type": "stream",
          "name": "stdout",
          "text": [
            "\n",
            "Epoch 7/20 Summary\n",
            "  → Segmentation Source Loss (RAW) : 1.3252\n"
          ]
        },
        {
          "output_type": "stream",
          "name": "stderr",
          "text": [
            "\n",
            "Epoch 7 [Validation]: 100%|██████████| 15/15 [00:04<00:00,  3.63it/s, Val_Loss=16.0059, mIoU=0.4262]\n"
          ]
        },
        {
          "output_type": "stream",
          "name": "stdout",
          "text": [
            "Modello con miou migliore salvato: /content/drive/MyDrive/AML_project/checkpoints/best_model_PIDNET_5_DACS_without_1_class_ohem.pth\n",
            "\n",
            "→ Validation Loss: 1.0393\n",
            "→ Overall mIoU: 0.4262\n",
            "  → background IoU: 0.3374\n",
            "  → building IoU: 0.4381\n",
            "  → road IoU: 0.4389\n",
            "  → water IoU: 0.5731\n",
            "  → barren IoU: 0.4331\n",
            "  → forest IoU: 0.4680\n",
            "  → agriculture IoU: 0.2948\n",
            "[0.000329658544839708]\n"
          ]
        },
        {
          "output_type": "stream",
          "name": "stderr",
          "text": [
            "Epoch 8 [Training]: 100%|██████████| 58/58 [00:43<00:00,  1.34it/s, Loss_seg=20.4606]"
          ]
        },
        {
          "output_type": "stream",
          "name": "stdout",
          "text": [
            "\n",
            "Epoch 8/20 Summary\n",
            "  → Segmentation Source Loss (RAW) : 1.2788\n"
          ]
        },
        {
          "output_type": "stream",
          "name": "stderr",
          "text": [
            "\n",
            "Epoch 8 [Validation]: 100%|██████████| 15/15 [00:04<00:00,  3.61it/s, Val_Loss=14.9435, mIoU=0.4450]\n"
          ]
        },
        {
          "output_type": "stream",
          "name": "stdout",
          "text": [
            "Modello con miou migliore salvato: /content/drive/MyDrive/AML_project/checkpoints/best_model_PIDNET_5_DACS_without_1_class_ohem.pth\n",
            "\n",
            "→ Validation Loss: 0.9704\n",
            "→ Overall mIoU: 0.4450\n",
            "  → background IoU: 0.3367\n",
            "  → building IoU: 0.4684\n",
            "  → road IoU: 0.5070\n",
            "  → water IoU: 0.6381\n",
            "  → barren IoU: 0.4264\n",
            "  → forest IoU: 0.4306\n",
            "  → agriculture IoU: 0.3080\n",
            "[0.000329658544839708]\n"
          ]
        },
        {
          "output_type": "stream",
          "name": "stderr",
          "text": [
            "Epoch 9 [Training]: 100%|██████████| 58/58 [00:43<00:00,  1.34it/s, Loss_seg=19.8718]"
          ]
        },
        {
          "output_type": "stream",
          "name": "stdout",
          "text": [
            "\n",
            "Epoch 9/20 Summary\n",
            "  → Segmentation Source Loss (RAW) : 1.2420\n"
          ]
        },
        {
          "output_type": "stream",
          "name": "stderr",
          "text": [
            "\n",
            "Epoch 9 [Validation]: 100%|██████████| 15/15 [00:04<00:00,  3.61it/s, Val_Loss=14.8761, mIoU=0.4363]\n"
          ]
        },
        {
          "output_type": "stream",
          "name": "stdout",
          "text": [
            "\n",
            "→ Validation Loss: 0.9660\n",
            "→ Overall mIoU: 0.4363\n",
            "  → background IoU: 0.3232\n",
            "  → building IoU: 0.4656\n",
            "  → road IoU: 0.5001\n",
            "  → water IoU: 0.6399\n",
            "  → barren IoU: 0.4219\n",
            "  → forest IoU: 0.4275\n",
            "  → agriculture IoU: 0.2762\n",
            "[0.000329658544839708]\n"
          ]
        },
        {
          "output_type": "stream",
          "name": "stderr",
          "text": [
            "Epoch 10 [Training]: 100%|██████████| 58/58 [00:43<00:00,  1.33it/s, Loss_seg=19.3201]"
          ]
        },
        {
          "output_type": "stream",
          "name": "stdout",
          "text": [
            "\n",
            "Epoch 10/20 Summary\n",
            "  → Segmentation Source Loss (RAW) : 1.2075\n"
          ]
        },
        {
          "output_type": "stream",
          "name": "stderr",
          "text": [
            "\n",
            "Epoch 10 [Validation]: 100%|██████████| 15/15 [00:04<00:00,  3.66it/s, Val_Loss=15.1073, mIoU=0.4232]\n"
          ]
        },
        {
          "output_type": "stream",
          "name": "stdout",
          "text": [
            "\n",
            "→ Validation Loss: 0.9810\n",
            "→ Overall mIoU: 0.4232\n",
            "  → background IoU: 0.3028\n",
            "  → building IoU: 0.4687\n",
            "  → road IoU: 0.4972\n",
            "  → water IoU: 0.5892\n",
            "  → barren IoU: 0.4097\n",
            "  → forest IoU: 0.4308\n",
            "  → agriculture IoU: 0.2641\n",
            "[0.000329658544839708]\n"
          ]
        },
        {
          "output_type": "stream",
          "name": "stderr",
          "text": [
            "Epoch 11 [Training]: 100%|██████████| 58/58 [00:43<00:00,  1.33it/s, Loss_seg=20.2576]"
          ]
        },
        {
          "output_type": "stream",
          "name": "stdout",
          "text": [
            "\n",
            "Epoch 11/20 Summary\n",
            "  → Segmentation Source Loss (RAW) : 1.2661\n"
          ]
        },
        {
          "output_type": "stream",
          "name": "stderr",
          "text": [
            "\n",
            "Epoch 11 [Validation]: 100%|██████████| 15/15 [00:04<00:00,  3.64it/s, Val_Loss=14.9388, mIoU=0.4474]\n"
          ]
        },
        {
          "output_type": "stream",
          "name": "stdout",
          "text": [
            "Modello con miou migliore salvato: /content/drive/MyDrive/AML_project/checkpoints/best_model_PIDNET_5_DACS_without_1_class_ohem.pth\n",
            "\n",
            "→ Validation Loss: 0.9701\n",
            "→ Overall mIoU: 0.4474\n",
            "  → background IoU: 0.3496\n",
            "  → building IoU: 0.4812\n",
            "  → road IoU: 0.5070\n",
            "  → water IoU: 0.6911\n",
            "  → barren IoU: 0.4089\n",
            "  → forest IoU: 0.4685\n",
            "  → agriculture IoU: 0.2256\n",
            "[0.000329658544839708]\n"
          ]
        },
        {
          "output_type": "stream",
          "name": "stderr",
          "text": [
            "Epoch 12 [Training]: 100%|██████████| 58/58 [00:43<00:00,  1.33it/s, Loss_seg=18.8282]"
          ]
        },
        {
          "output_type": "stream",
          "name": "stdout",
          "text": [
            "\n",
            "Epoch 12/20 Summary\n",
            "  → Segmentation Source Loss (RAW) : 1.1768\n"
          ]
        },
        {
          "output_type": "stream",
          "name": "stderr",
          "text": [
            "\n",
            "Epoch 12 [Validation]: 100%|██████████| 15/15 [00:04<00:00,  3.59it/s, Val_Loss=14.1228, mIoU=0.4698]\n"
          ]
        },
        {
          "output_type": "stream",
          "name": "stdout",
          "text": [
            "Modello con miou migliore salvato: /content/drive/MyDrive/AML_project/checkpoints/best_model_PIDNET_5_DACS_without_1_class_ohem.pth\n",
            "\n",
            "→ Validation Loss: 0.9171\n",
            "→ Overall mIoU: 0.4698\n",
            "  → background IoU: 0.3653\n",
            "  → building IoU: 0.4880\n",
            "  → road IoU: 0.5154\n",
            "  → water IoU: 0.6649\n",
            "  → barren IoU: 0.4538\n",
            "  → forest IoU: 0.4622\n",
            "  → agriculture IoU: 0.3392\n",
            "[0.000329658544839708]\n"
          ]
        },
        {
          "output_type": "stream",
          "name": "stderr",
          "text": [
            "Epoch 13 [Training]: 100%|██████████| 58/58 [00:43<00:00,  1.33it/s, Loss_seg=18.4686]"
          ]
        },
        {
          "output_type": "stream",
          "name": "stdout",
          "text": [
            "\n",
            "Epoch 13/20 Summary\n",
            "  → Segmentation Source Loss (RAW) : 1.1543\n"
          ]
        },
        {
          "output_type": "stream",
          "name": "stderr",
          "text": [
            "\n",
            "Epoch 13 [Validation]: 100%|██████████| 15/15 [00:04<00:00,  3.60it/s, Val_Loss=14.4378, mIoU=0.4622]"
          ]
        },
        {
          "output_type": "stream",
          "name": "stdout",
          "text": [
            "\n",
            "→ Validation Loss: 0.9375\n",
            "→ Overall mIoU: 0.4622\n",
            "  → background IoU: 0.3865\n",
            "  → building IoU: 0.4755\n",
            "  → road IoU: 0.5236\n",
            "  → water IoU: 0.6751\n",
            "  → barren IoU: 0.4297\n",
            "  → forest IoU: 0.4759\n",
            "  → agriculture IoU: 0.2687\n",
            "[0.000329658544839708]\n"
          ]
        },
        {
          "output_type": "stream",
          "name": "stderr",
          "text": [
            "\n",
            "Epoch 14 [Training]: 100%|██████████| 58/58 [00:43<00:00,  1.33it/s, Loss_seg=18.0125]"
          ]
        },
        {
          "output_type": "stream",
          "name": "stdout",
          "text": [
            "\n",
            "Epoch 14/20 Summary\n",
            "  → Segmentation Source Loss (RAW) : 1.1258\n"
          ]
        },
        {
          "output_type": "stream",
          "name": "stderr",
          "text": [
            "\n",
            "Epoch 14 [Validation]: 100%|██████████| 15/15 [00:04<00:00,  3.61it/s, Val_Loss=13.7121, mIoU=0.4792]\n"
          ]
        },
        {
          "output_type": "stream",
          "name": "stdout",
          "text": [
            "Modello con miou migliore salvato: /content/drive/MyDrive/AML_project/checkpoints/best_model_PIDNET_5_DACS_without_1_class_ohem.pth\n",
            "\n",
            "→ Validation Loss: 0.8904\n",
            "→ Overall mIoU: 0.4792\n",
            "  → background IoU: 0.3777\n",
            "  → building IoU: 0.5010\n",
            "  → road IoU: 0.5260\n",
            "  → water IoU: 0.6799\n",
            "  → barren IoU: 0.4316\n",
            "  → forest IoU: 0.4853\n",
            "  → agriculture IoU: 0.3530\n",
            "[0.000329658544839708]\n"
          ]
        },
        {
          "output_type": "stream",
          "name": "stderr",
          "text": [
            "Epoch 15 [Training]: 100%|██████████| 58/58 [00:42<00:00,  1.35it/s, Loss_seg=17.8572]"
          ]
        },
        {
          "output_type": "stream",
          "name": "stdout",
          "text": [
            "\n",
            "Epoch 15/20 Summary\n",
            "  → Segmentation Source Loss (RAW) : 1.1161\n"
          ]
        },
        {
          "output_type": "stream",
          "name": "stderr",
          "text": [
            "\n",
            "Epoch 15 [Validation]: 100%|██████████| 15/15 [00:04<00:00,  3.62it/s, Val_Loss=13.7910, mIoU=0.4668]\n"
          ]
        },
        {
          "output_type": "stream",
          "name": "stdout",
          "text": [
            "\n",
            "→ Validation Loss: 0.8955\n",
            "→ Overall mIoU: 0.4668\n",
            "  → background IoU: 0.3879\n",
            "  → building IoU: 0.4771\n",
            "  → road IoU: 0.5343\n",
            "  → water IoU: 0.6556\n",
            "  → barren IoU: 0.4152\n",
            "  → forest IoU: 0.4711\n",
            "  → agriculture IoU: 0.3267\n",
            "[0.000329658544839708]\n"
          ]
        },
        {
          "output_type": "stream",
          "name": "stderr",
          "text": [
            "Epoch 16 [Training]: 100%|██████████| 58/58 [00:43<00:00,  1.33it/s, Loss_seg=17.3969]"
          ]
        },
        {
          "output_type": "stream",
          "name": "stdout",
          "text": [
            "\n",
            "Epoch 16/20 Summary\n",
            "  → Segmentation Source Loss (RAW) : 1.0873\n"
          ]
        },
        {
          "output_type": "stream",
          "name": "stderr",
          "text": [
            "\n",
            "Epoch 16 [Validation]: 100%|██████████| 15/15 [00:04<00:00,  3.63it/s, Val_Loss=13.5047, mIoU=0.4657]"
          ]
        },
        {
          "output_type": "stream",
          "name": "stdout",
          "text": [
            "\n",
            "→ Validation Loss: 0.8769\n",
            "→ Overall mIoU: 0.4657\n",
            "  → background IoU: 0.3832\n",
            "  → building IoU: 0.4684\n",
            "  → road IoU: 0.5499\n",
            "  → water IoU: 0.6968\n",
            "  → barren IoU: 0.4466\n",
            "  → forest IoU: 0.4487\n",
            "  → agriculture IoU: 0.2659\n",
            "[0.000329658544839708]\n"
          ]
        },
        {
          "output_type": "stream",
          "name": "stderr",
          "text": [
            "\n",
            "Epoch 17 [Training]: 100%|██████████| 58/58 [00:43<00:00,  1.33it/s, Loss_seg=17.5871]"
          ]
        },
        {
          "output_type": "stream",
          "name": "stdout",
          "text": [
            "\n",
            "Epoch 17/20 Summary\n",
            "  → Segmentation Source Loss (RAW) : 1.0992\n"
          ]
        },
        {
          "output_type": "stream",
          "name": "stderr",
          "text": [
            "\n",
            "Epoch 17 [Validation]: 100%|██████████| 15/15 [00:04<00:00,  3.63it/s, Val_Loss=13.2030, mIoU=0.4777]"
          ]
        },
        {
          "output_type": "stream",
          "name": "stdout",
          "text": [
            "\n",
            "→ Validation Loss: 0.8573\n",
            "→ Overall mIoU: 0.4777\n",
            "  → background IoU: 0.3759\n",
            "  → building IoU: 0.4908\n",
            "  → road IoU: 0.5197\n",
            "  → water IoU: 0.6938\n",
            "  → barren IoU: 0.4546\n",
            "  → forest IoU: 0.4713\n",
            "  → agriculture IoU: 0.3381\n",
            "[0.000329658544839708]\n"
          ]
        },
        {
          "output_type": "stream",
          "name": "stderr",
          "text": [
            "\n",
            "Epoch 18 [Training]: 100%|██████████| 58/58 [00:43<00:00,  1.32it/s, Loss_seg=17.2191]"
          ]
        },
        {
          "output_type": "stream",
          "name": "stdout",
          "text": [
            "\n",
            "Epoch 18/20 Summary\n",
            "  → Segmentation Source Loss (RAW) : 1.0762\n"
          ]
        },
        {
          "output_type": "stream",
          "name": "stderr",
          "text": [
            "\n",
            "Epoch 18 [Validation]: 100%|██████████| 15/15 [00:04<00:00,  3.63it/s, Val_Loss=13.0428, mIoU=0.4759]\n"
          ]
        },
        {
          "output_type": "stream",
          "name": "stdout",
          "text": [
            "\n",
            "→ Validation Loss: 0.8469\n",
            "→ Overall mIoU: 0.4759\n",
            "  → background IoU: 0.3973\n",
            "  → building IoU: 0.4806\n",
            "  → road IoU: 0.5427\n",
            "  → water IoU: 0.6611\n",
            "  → barren IoU: 0.4525\n",
            "  → forest IoU: 0.4845\n",
            "  → agriculture IoU: 0.3122\n",
            "[0.000164829272419854]\n"
          ]
        },
        {
          "output_type": "stream",
          "name": "stderr",
          "text": [
            "Epoch 19 [Training]: 100%|██████████| 58/58 [00:43<00:00,  1.34it/s, Loss_seg=16.9075]"
          ]
        },
        {
          "output_type": "stream",
          "name": "stdout",
          "text": [
            "\n",
            "Epoch 19/20 Summary\n",
            "  → Segmentation Source Loss (RAW) : 1.0567\n"
          ]
        },
        {
          "output_type": "stream",
          "name": "stderr",
          "text": [
            "\n",
            "Epoch 19 [Validation]: 100%|██████████| 15/15 [00:04<00:00,  3.58it/s, Val_Loss=12.8557, mIoU=0.4913]\n"
          ]
        },
        {
          "output_type": "stream",
          "name": "stdout",
          "text": [
            "Modello con miou migliore salvato: /content/drive/MyDrive/AML_project/checkpoints/best_model_PIDNET_5_DACS_without_1_class_ohem.pth\n",
            "\n",
            "→ Validation Loss: 0.8348\n",
            "→ Overall mIoU: 0.4913\n",
            "  → background IoU: 0.4201\n",
            "  → building IoU: 0.4898\n",
            "  → road IoU: 0.5507\n",
            "  → water IoU: 0.6702\n",
            "  → barren IoU: 0.4773\n",
            "  → forest IoU: 0.4867\n",
            "  → agriculture IoU: 0.3442\n",
            "[0.000164829272419854]\n"
          ]
        },
        {
          "output_type": "stream",
          "name": "stderr",
          "text": [
            "Epoch 20 [Training]: 100%|██████████| 58/58 [00:43<00:00,  1.33it/s, Loss_seg=16.6609]"
          ]
        },
        {
          "output_type": "stream",
          "name": "stdout",
          "text": [
            "\n",
            "Epoch 20/20 Summary\n",
            "  → Segmentation Source Loss (RAW) : 1.0413\n"
          ]
        },
        {
          "output_type": "stream",
          "name": "stderr",
          "text": [
            "\n",
            "Epoch 20 [Validation]: 100%|██████████| 15/15 [00:04<00:00,  3.58it/s, Val_Loss=12.9655, mIoU=0.4940]\n"
          ]
        },
        {
          "output_type": "stream",
          "name": "stdout",
          "text": [
            "Modello con miou migliore salvato: /content/drive/MyDrive/AML_project/checkpoints/best_model_PIDNET_5_DACS_without_1_class_ohem.pth\n",
            "\n",
            "→ Validation Loss: 0.8419\n",
            "→ Overall mIoU: 0.4940\n",
            "  → background IoU: 0.4282\n",
            "  → building IoU: 0.4848\n",
            "  → road IoU: 0.5668\n",
            "  → water IoU: 0.6971\n",
            "  → barren IoU: 0.4555\n",
            "  → forest IoU: 0.4907\n",
            "  → agriculture IoU: 0.3351\n",
            "[0.000329658544839708]\n"
          ]
        },
        {
          "output_type": "stream",
          "name": "stderr",
          "text": [
            "Epoch 1 [Training]: 100%|██████████| 58/58 [00:43<00:00,  1.32it/s, Loss_seg=57.2032]"
          ]
        },
        {
          "output_type": "stream",
          "name": "stdout",
          "text": [
            "\n",
            "Epoch 1/20 Summary\n",
            "  → Segmentation Source Loss (RAW) : 3.5752\n"
          ]
        },
        {
          "output_type": "stream",
          "name": "stderr",
          "text": [
            "\n",
            "Epoch 1 [Validation]: 100%|██████████| 15/15 [00:04<00:00,  3.61it/s, Val_Loss=28.3160, mIoU=0.2743]\n"
          ]
        },
        {
          "output_type": "stream",
          "name": "stdout",
          "text": [
            "Modello con miou migliore salvato: /content/drive/MyDrive/AML_project/checkpoints/best_model_PIDNET_5_DACS_without_2_class_ohem.pth\n",
            "\n",
            "→ Validation Loss: 1.8387\n",
            "→ Overall mIoU: 0.2743\n",
            "  → background IoU: 0.1755\n",
            "  → building IoU: 0.3498\n",
            "  → road IoU: 0.2970\n",
            "  → water IoU: 0.3959\n",
            "  → barren IoU: 0.3263\n",
            "  → forest IoU: 0.2880\n",
            "  → agriculture IoU: 0.0877\n",
            "[0.000329658544839708]\n"
          ]
        },
        {
          "output_type": "stream",
          "name": "stderr",
          "text": [
            "Epoch 2 [Training]: 100%|██████████| 58/58 [00:43<00:00,  1.33it/s, Loss_seg=31.0116]"
          ]
        },
        {
          "output_type": "stream",
          "name": "stdout",
          "text": [
            "\n",
            "Epoch 2/20 Summary\n",
            "  → Segmentation Source Loss (RAW) : 1.9382\n"
          ]
        },
        {
          "output_type": "stream",
          "name": "stderr",
          "text": [
            "\n",
            "Epoch 2 [Validation]: 100%|██████████| 15/15 [00:04<00:00,  3.63it/s, Val_Loss=21.4787, mIoU=0.3117]\n"
          ]
        },
        {
          "output_type": "stream",
          "name": "stdout",
          "text": [
            "Modello con miou migliore salvato: /content/drive/MyDrive/AML_project/checkpoints/best_model_PIDNET_5_DACS_without_2_class_ohem.pth\n",
            "\n",
            "→ Validation Loss: 1.3947\n",
            "→ Overall mIoU: 0.3117\n",
            "  → background IoU: 0.1415\n",
            "  → building IoU: 0.4014\n",
            "  → road IoU: 0.3721\n",
            "  → water IoU: 0.4571\n",
            "  → barren IoU: 0.3426\n",
            "  → forest IoU: 0.3592\n",
            "  → agriculture IoU: 0.1082\n",
            "[0.000329658544839708]\n"
          ]
        },
        {
          "output_type": "stream",
          "name": "stderr",
          "text": [
            "Epoch 3 [Training]: 100%|██████████| 58/58 [00:44<00:00,  1.32it/s, Loss_seg=25.8201]"
          ]
        },
        {
          "output_type": "stream",
          "name": "stdout",
          "text": [
            "\n",
            "Epoch 3/20 Summary\n",
            "  → Segmentation Source Loss (RAW) : 1.6138\n"
          ]
        },
        {
          "output_type": "stream",
          "name": "stderr",
          "text": [
            "\n",
            "Epoch 3 [Validation]: 100%|██████████| 15/15 [00:04<00:00,  3.62it/s, Val_Loss=20.9754, mIoU=0.3520]\n"
          ]
        },
        {
          "output_type": "stream",
          "name": "stdout",
          "text": [
            "Modello con miou migliore salvato: /content/drive/MyDrive/AML_project/checkpoints/best_model_PIDNET_5_DACS_without_2_class_ohem.pth\n",
            "\n",
            "→ Validation Loss: 1.3620\n",
            "→ Overall mIoU: 0.3520\n",
            "  → background IoU: 0.2937\n",
            "  → building IoU: 0.3834\n",
            "  → road IoU: 0.3878\n",
            "  → water IoU: 0.3551\n",
            "  → barren IoU: 0.3557\n",
            "  → forest IoU: 0.4124\n",
            "  → agriculture IoU: 0.2758\n",
            "[0.000329658544839708]\n"
          ]
        },
        {
          "output_type": "stream",
          "name": "stderr",
          "text": [
            "Epoch 4 [Training]: 100%|██████████| 58/58 [00:43<00:00,  1.33it/s, Loss_seg=23.8166]"
          ]
        },
        {
          "output_type": "stream",
          "name": "stdout",
          "text": [
            "\n",
            "Epoch 4/20 Summary\n",
            "  → Segmentation Source Loss (RAW) : 1.4885\n"
          ]
        },
        {
          "output_type": "stream",
          "name": "stderr",
          "text": [
            "\n",
            "Epoch 4 [Validation]: 100%|██████████| 15/15 [00:04<00:00,  3.67it/s, Val_Loss=18.2829, mIoU=0.3939]\n"
          ]
        },
        {
          "output_type": "stream",
          "name": "stdout",
          "text": [
            "Modello con miou migliore salvato: /content/drive/MyDrive/AML_project/checkpoints/best_model_PIDNET_5_DACS_without_2_class_ohem.pth\n",
            "\n",
            "→ Validation Loss: 1.1872\n",
            "→ Overall mIoU: 0.3939\n",
            "  → background IoU: 0.2221\n",
            "  → building IoU: 0.4452\n",
            "  → road IoU: 0.4341\n",
            "  → water IoU: 0.5246\n",
            "  → barren IoU: 0.4089\n",
            "  → forest IoU: 0.4465\n",
            "  → agriculture IoU: 0.2759\n",
            "[0.000329658544839708]\n"
          ]
        },
        {
          "output_type": "stream",
          "name": "stderr",
          "text": [
            "Epoch 5 [Training]: 100%|██████████| 58/58 [00:44<00:00,  1.31it/s, Loss_seg=22.6712]"
          ]
        },
        {
          "output_type": "stream",
          "name": "stdout",
          "text": [
            "\n",
            "Epoch 5/20 Summary\n",
            "  → Segmentation Source Loss (RAW) : 1.4170\n"
          ]
        },
        {
          "output_type": "stream",
          "name": "stderr",
          "text": [
            "\n",
            "Epoch 5 [Validation]: 100%|██████████| 15/15 [00:04<00:00,  3.63it/s, Val_Loss=17.2266, mIoU=0.3935]"
          ]
        },
        {
          "output_type": "stream",
          "name": "stdout",
          "text": [
            "\n",
            "→ Validation Loss: 1.1186\n",
            "→ Overall mIoU: 0.3935\n",
            "  → background IoU: 0.3208\n",
            "  → building IoU: 0.4382\n",
            "  → road IoU: 0.4603\n",
            "  → water IoU: 0.4439\n",
            "  → barren IoU: 0.3669\n",
            "  → forest IoU: 0.4260\n",
            "  → agriculture IoU: 0.2981\n",
            "[0.000329658544839708]\n"
          ]
        },
        {
          "output_type": "stream",
          "name": "stderr",
          "text": [
            "\n",
            "Epoch 6 [Training]: 100%|██████████| 58/58 [00:43<00:00,  1.32it/s, Loss_seg=21.5223]"
          ]
        },
        {
          "output_type": "stream",
          "name": "stdout",
          "text": [
            "\n",
            "Epoch 6/20 Summary\n",
            "  → Segmentation Source Loss (RAW) : 1.3451\n"
          ]
        },
        {
          "output_type": "stream",
          "name": "stderr",
          "text": [
            "\n",
            "Epoch 6 [Validation]: 100%|██████████| 15/15 [00:04<00:00,  3.59it/s, Val_Loss=18.4711, mIoU=0.3963]\n"
          ]
        },
        {
          "output_type": "stream",
          "name": "stdout",
          "text": [
            "Modello con miou migliore salvato: /content/drive/MyDrive/AML_project/checkpoints/best_model_PIDNET_5_DACS_without_2_class_ohem.pth\n",
            "\n",
            "→ Validation Loss: 1.1994\n",
            "→ Overall mIoU: 0.3963\n",
            "  → background IoU: 0.3006\n",
            "  → building IoU: 0.4502\n",
            "  → road IoU: 0.4778\n",
            "  → water IoU: 0.4926\n",
            "  → barren IoU: 0.4037\n",
            "  → forest IoU: 0.4241\n",
            "  → agriculture IoU: 0.2250\n",
            "[0.000329658544839708]\n"
          ]
        },
        {
          "output_type": "stream",
          "name": "stderr",
          "text": [
            "Epoch 7 [Training]: 100%|██████████| 58/58 [00:43<00:00,  1.33it/s, Loss_seg=20.8141]"
          ]
        },
        {
          "output_type": "stream",
          "name": "stdout",
          "text": [
            "\n",
            "Epoch 7/20 Summary\n",
            "  → Segmentation Source Loss (RAW) : 1.3009\n"
          ]
        },
        {
          "output_type": "stream",
          "name": "stderr",
          "text": [
            "\n",
            "Epoch 7 [Validation]: 100%|██████████| 15/15 [00:04<00:00,  3.60it/s, Val_Loss=17.7490, mIoU=0.4084]\n"
          ]
        },
        {
          "output_type": "stream",
          "name": "stdout",
          "text": [
            "Modello con miou migliore salvato: /content/drive/MyDrive/AML_project/checkpoints/best_model_PIDNET_5_DACS_without_2_class_ohem.pth\n",
            "\n",
            "→ Validation Loss: 1.1525\n",
            "→ Overall mIoU: 0.4084\n",
            "  → background IoU: 0.2374\n",
            "  → building IoU: 0.4605\n",
            "  → road IoU: 0.4535\n",
            "  → water IoU: 0.5590\n",
            "  → barren IoU: 0.4268\n",
            "  → forest IoU: 0.4359\n",
            "  → agriculture IoU: 0.2859\n",
            "[0.000329658544839708]\n"
          ]
        },
        {
          "output_type": "stream",
          "name": "stderr",
          "text": [
            "Epoch 8 [Training]: 100%|██████████| 58/58 [00:43<00:00,  1.33it/s, Loss_seg=20.1312]"
          ]
        },
        {
          "output_type": "stream",
          "name": "stdout",
          "text": [
            "\n",
            "Epoch 8/20 Summary\n",
            "  → Segmentation Source Loss (RAW) : 1.2582\n"
          ]
        },
        {
          "output_type": "stream",
          "name": "stderr",
          "text": [
            "\n",
            "Epoch 8 [Validation]: 100%|██████████| 15/15 [00:04<00:00,  3.60it/s, Val_Loss=16.0125, mIoU=0.4238]\n"
          ]
        },
        {
          "output_type": "stream",
          "name": "stdout",
          "text": [
            "Modello con miou migliore salvato: /content/drive/MyDrive/AML_project/checkpoints/best_model_PIDNET_5_DACS_without_2_class_ohem.pth\n",
            "\n",
            "→ Validation Loss: 1.0398\n",
            "→ Overall mIoU: 0.4238\n",
            "  → background IoU: 0.3020\n",
            "  → building IoU: 0.4576\n",
            "  → road IoU: 0.4829\n",
            "  → water IoU: 0.4935\n",
            "  → barren IoU: 0.4078\n",
            "  → forest IoU: 0.4537\n",
            "  → agriculture IoU: 0.3689\n",
            "[0.000329658544839708]\n"
          ]
        },
        {
          "output_type": "stream",
          "name": "stderr",
          "text": [
            "Epoch 9 [Training]: 100%|██████████| 58/58 [00:43<00:00,  1.34it/s, Loss_seg=19.6922]"
          ]
        },
        {
          "output_type": "stream",
          "name": "stdout",
          "text": [
            "\n",
            "Epoch 9/20 Summary\n",
            "  → Segmentation Source Loss (RAW) : 1.2308\n"
          ]
        },
        {
          "output_type": "stream",
          "name": "stderr",
          "text": [
            "\n",
            "Epoch 9 [Validation]: 100%|██████████| 15/15 [00:04<00:00,  3.59it/s, Val_Loss=15.7070, mIoU=0.4360]\n"
          ]
        },
        {
          "output_type": "stream",
          "name": "stdout",
          "text": [
            "Modello con miou migliore salvato: /content/drive/MyDrive/AML_project/checkpoints/best_model_PIDNET_5_DACS_without_2_class_ohem.pth\n",
            "\n",
            "→ Validation Loss: 1.0199\n",
            "→ Overall mIoU: 0.4360\n",
            "  → background IoU: 0.2644\n",
            "  → building IoU: 0.4798\n",
            "  → road IoU: 0.5096\n",
            "  → water IoU: 0.6358\n",
            "  → barren IoU: 0.4048\n",
            "  → forest IoU: 0.4566\n",
            "  → agriculture IoU: 0.3010\n",
            "[0.000329658544839708]\n"
          ]
        },
        {
          "output_type": "stream",
          "name": "stderr",
          "text": [
            "Epoch 10 [Training]: 100%|██████████| 58/58 [00:43<00:00,  1.34it/s, Loss_seg=19.1367]"
          ]
        },
        {
          "output_type": "stream",
          "name": "stdout",
          "text": [
            "\n",
            "Epoch 10/20 Summary\n",
            "  → Segmentation Source Loss (RAW) : 1.1960\n"
          ]
        },
        {
          "output_type": "stream",
          "name": "stderr",
          "text": [
            "\n",
            "Epoch 10 [Validation]: 100%|██████████| 15/15 [00:04<00:00,  3.62it/s, Val_Loss=15.1845, mIoU=0.4499]\n"
          ]
        },
        {
          "output_type": "stream",
          "name": "stdout",
          "text": [
            "Modello con miou migliore salvato: /content/drive/MyDrive/AML_project/checkpoints/best_model_PIDNET_5_DACS_without_2_class_ohem.pth\n",
            "\n",
            "→ Validation Loss: 0.9860\n",
            "→ Overall mIoU: 0.4499\n",
            "  → background IoU: 0.2880\n",
            "  → building IoU: 0.4957\n",
            "  → road IoU: 0.5244\n",
            "  → water IoU: 0.6304\n",
            "  → barren IoU: 0.4016\n",
            "  → forest IoU: 0.4326\n",
            "  → agriculture IoU: 0.3762\n",
            "[0.000329658544839708]\n"
          ]
        },
        {
          "output_type": "stream",
          "name": "stderr",
          "text": [
            "Epoch 11 [Training]: 100%|██████████| 58/58 [00:43<00:00,  1.32it/s, Loss_seg=19.2429]"
          ]
        },
        {
          "output_type": "stream",
          "name": "stdout",
          "text": [
            "\n",
            "Epoch 11/20 Summary\n",
            "  → Segmentation Source Loss (RAW) : 1.2027\n"
          ]
        },
        {
          "output_type": "stream",
          "name": "stderr",
          "text": [
            "\n",
            "Epoch 11 [Validation]: 100%|██████████| 15/15 [00:04<00:00,  3.65it/s, Val_Loss=18.3428, mIoU=0.4356]"
          ]
        },
        {
          "output_type": "stream",
          "name": "stdout",
          "text": [
            "\n",
            "→ Validation Loss: 1.1911\n",
            "→ Overall mIoU: 0.4356\n",
            "  → background IoU: 0.2790\n",
            "  → building IoU: 0.4873\n",
            "  → road IoU: 0.5005\n",
            "  → water IoU: 0.5857\n",
            "  → barren IoU: 0.4344\n",
            "  → forest IoU: 0.4533\n",
            "  → agriculture IoU: 0.3094\n",
            "[0.000329658544839708]\n"
          ]
        },
        {
          "output_type": "stream",
          "name": "stderr",
          "text": [
            "\n",
            "Epoch 12 [Training]: 100%|██████████| 58/58 [00:43<00:00,  1.33it/s, Loss_seg=18.8501]"
          ]
        },
        {
          "output_type": "stream",
          "name": "stdout",
          "text": [
            "\n",
            "Epoch 12/20 Summary\n",
            "  → Segmentation Source Loss (RAW) : 1.1781\n"
          ]
        },
        {
          "output_type": "stream",
          "name": "stderr",
          "text": [
            "\n",
            "Epoch 12 [Validation]: 100%|██████████| 15/15 [00:04<00:00,  3.59it/s, Val_Loss=15.3845, mIoU=0.4569]\n"
          ]
        },
        {
          "output_type": "stream",
          "name": "stdout",
          "text": [
            "Modello con miou migliore salvato: /content/drive/MyDrive/AML_project/checkpoints/best_model_PIDNET_5_DACS_without_2_class_ohem.pth\n",
            "\n",
            "→ Validation Loss: 0.9990\n",
            "→ Overall mIoU: 0.4569\n",
            "  → background IoU: 0.3399\n",
            "  → building IoU: 0.5012\n",
            "  → road IoU: 0.5281\n",
            "  → water IoU: 0.6180\n",
            "  → barren IoU: 0.4490\n",
            "  → forest IoU: 0.4776\n",
            "  → agriculture IoU: 0.2844\n",
            "[0.000329658544839708]\n"
          ]
        },
        {
          "output_type": "stream",
          "name": "stderr",
          "text": [
            "Epoch 13 [Training]: 100%|██████████| 58/58 [00:43<00:00,  1.33it/s, Loss_seg=18.6487]"
          ]
        },
        {
          "output_type": "stream",
          "name": "stdout",
          "text": [
            "\n",
            "Epoch 13/20 Summary\n",
            "  → Segmentation Source Loss (RAW) : 1.1655\n"
          ]
        },
        {
          "output_type": "stream",
          "name": "stderr",
          "text": [
            "\n",
            "Epoch 13 [Validation]: 100%|██████████| 15/15 [00:04<00:00,  3.63it/s, Val_Loss=14.6398, mIoU=0.4392]"
          ]
        },
        {
          "output_type": "stream",
          "name": "stdout",
          "text": [
            "\n",
            "→ Validation Loss: 0.9506\n",
            "→ Overall mIoU: 0.4392\n",
            "  → background IoU: 0.3175\n",
            "  → building IoU: 0.5033\n",
            "  → road IoU: 0.5313\n",
            "  → water IoU: 0.5488\n",
            "  → barren IoU: 0.4353\n",
            "  → forest IoU: 0.4624\n",
            "  → agriculture IoU: 0.2760\n",
            "[0.000329658544839708]\n"
          ]
        },
        {
          "output_type": "stream",
          "name": "stderr",
          "text": [
            "\n",
            "Epoch 14 [Training]: 100%|██████████| 58/58 [00:42<00:00,  1.35it/s, Loss_seg=18.6672]"
          ]
        },
        {
          "output_type": "stream",
          "name": "stdout",
          "text": [
            "\n",
            "Epoch 14/20 Summary\n",
            "  → Segmentation Source Loss (RAW) : 1.1667\n"
          ]
        },
        {
          "output_type": "stream",
          "name": "stderr",
          "text": [
            "\n",
            "Epoch 14 [Validation]: 100%|██████████| 15/15 [00:04<00:00,  3.63it/s, Val_Loss=15.2918, mIoU=0.4497]"
          ]
        },
        {
          "output_type": "stream",
          "name": "stdout",
          "text": [
            "\n",
            "→ Validation Loss: 0.9930\n",
            "→ Overall mIoU: 0.4497\n",
            "  → background IoU: 0.3164\n",
            "  → building IoU: 0.4982\n",
            "  → road IoU: 0.5307\n",
            "  → water IoU: 0.6395\n",
            "  → barren IoU: 0.4213\n",
            "  → forest IoU: 0.4520\n",
            "  → agriculture IoU: 0.2901\n",
            "[0.000329658544839708]\n"
          ]
        },
        {
          "output_type": "stream",
          "name": "stderr",
          "text": [
            "\n",
            "Epoch 15 [Training]: 100%|██████████| 58/58 [00:43<00:00,  1.34it/s, Loss_seg=17.9893]"
          ]
        },
        {
          "output_type": "stream",
          "name": "stdout",
          "text": [
            "\n",
            "Epoch 15/20 Summary\n",
            "  → Segmentation Source Loss (RAW) : 1.1243\n"
          ]
        },
        {
          "output_type": "stream",
          "name": "stderr",
          "text": [
            "\n",
            "Epoch 15 [Validation]: 100%|██████████| 15/15 [00:04<00:00,  3.59it/s, Val_Loss=16.2732, mIoU=0.4740]\n"
          ]
        },
        {
          "output_type": "stream",
          "name": "stdout",
          "text": [
            "Modello con miou migliore salvato: /content/drive/MyDrive/AML_project/checkpoints/best_model_PIDNET_5_DACS_without_2_class_ohem.pth\n",
            "\n",
            "→ Validation Loss: 1.0567\n",
            "→ Overall mIoU: 0.4740\n",
            "  → background IoU: 0.3650\n",
            "  → building IoU: 0.4802\n",
            "  → road IoU: 0.5105\n",
            "  → water IoU: 0.6150\n",
            "  → barren IoU: 0.4125\n",
            "  → forest IoU: 0.4850\n",
            "  → agriculture IoU: 0.4496\n",
            "[0.000329658544839708]\n"
          ]
        },
        {
          "output_type": "stream",
          "name": "stderr",
          "text": [
            "Epoch 16 [Training]: 100%|██████████| 58/58 [00:43<00:00,  1.33it/s, Loss_seg=18.0138]"
          ]
        },
        {
          "output_type": "stream",
          "name": "stdout",
          "text": [
            "\n",
            "Epoch 16/20 Summary\n",
            "  → Segmentation Source Loss (RAW) : 1.1259\n"
          ]
        },
        {
          "output_type": "stream",
          "name": "stderr",
          "text": [
            "\n",
            "Epoch 16 [Validation]: 100%|██████████| 15/15 [00:04<00:00,  3.62it/s, Val_Loss=20.3914, mIoU=0.4819]\n"
          ]
        },
        {
          "output_type": "stream",
          "name": "stdout",
          "text": [
            "Modello con miou migliore salvato: /content/drive/MyDrive/AML_project/checkpoints/best_model_PIDNET_5_DACS_without_2_class_ohem.pth\n",
            "\n",
            "→ Validation Loss: 1.3241\n",
            "→ Overall mIoU: 0.4819\n",
            "  → background IoU: 0.3915\n",
            "  → building IoU: 0.4956\n",
            "  → road IoU: 0.5397\n",
            "  → water IoU: 0.6473\n",
            "  → barren IoU: 0.4478\n",
            "  → forest IoU: 0.4902\n",
            "  → agriculture IoU: 0.3613\n",
            "[0.000329658544839708]\n"
          ]
        },
        {
          "output_type": "stream",
          "name": "stderr",
          "text": [
            "Epoch 17 [Training]: 100%|██████████| 58/58 [00:43<00:00,  1.34it/s, Loss_seg=17.9235]"
          ]
        },
        {
          "output_type": "stream",
          "name": "stdout",
          "text": [
            "\n",
            "Epoch 17/20 Summary\n",
            "  → Segmentation Source Loss (RAW) : 1.1202\n"
          ]
        },
        {
          "output_type": "stream",
          "name": "stderr",
          "text": [
            "\n",
            "Epoch 17 [Validation]: 100%|██████████| 15/15 [00:04<00:00,  3.63it/s, Val_Loss=16.0050, mIoU=0.4770]"
          ]
        },
        {
          "output_type": "stream",
          "name": "stdout",
          "text": [
            "\n",
            "→ Validation Loss: 1.0393\n",
            "→ Overall mIoU: 0.4770\n",
            "  → background IoU: 0.3680\n",
            "  → building IoU: 0.4804\n",
            "  → road IoU: 0.5221\n",
            "  → water IoU: 0.6381\n",
            "  → barren IoU: 0.4080\n",
            "  → forest IoU: 0.4927\n",
            "  → agriculture IoU: 0.4296\n",
            "[0.000329658544839708]\n"
          ]
        },
        {
          "output_type": "stream",
          "name": "stderr",
          "text": [
            "\n",
            "Epoch 18 [Training]: 100%|██████████| 58/58 [00:43<00:00,  1.33it/s, Loss_seg=17.8232]"
          ]
        },
        {
          "output_type": "stream",
          "name": "stdout",
          "text": [
            "\n",
            "Epoch 18/20 Summary\n",
            "  → Segmentation Source Loss (RAW) : 1.1139\n"
          ]
        },
        {
          "output_type": "stream",
          "name": "stderr",
          "text": [
            "\n",
            "Epoch 18 [Validation]: 100%|██████████| 15/15 [00:04<00:00,  3.64it/s, Val_Loss=14.7011, mIoU=0.4619]"
          ]
        },
        {
          "output_type": "stream",
          "name": "stdout",
          "text": [
            "\n",
            "→ Validation Loss: 0.9546\n",
            "→ Overall mIoU: 0.4619\n",
            "  → background IoU: 0.3307\n",
            "  → building IoU: 0.5038\n",
            "  → road IoU: 0.5559\n",
            "  → water IoU: 0.6033\n",
            "  → barren IoU: 0.4440\n",
            "  → forest IoU: 0.4667\n",
            "  → agriculture IoU: 0.3289\n",
            "[0.000329658544839708]\n"
          ]
        },
        {
          "output_type": "stream",
          "name": "stderr",
          "text": [
            "\n",
            "Epoch 19 [Training]: 100%|██████████| 58/58 [00:43<00:00,  1.32it/s, Loss_seg=17.7670]"
          ]
        },
        {
          "output_type": "stream",
          "name": "stdout",
          "text": [
            "\n",
            "Epoch 19/20 Summary\n",
            "  → Segmentation Source Loss (RAW) : 1.1104\n"
          ]
        },
        {
          "output_type": "stream",
          "name": "stderr",
          "text": [
            "\n",
            "Epoch 19 [Validation]: 100%|██████████| 15/15 [00:04<00:00,  3.59it/s, Val_Loss=16.6916, mIoU=0.4547]\n"
          ]
        },
        {
          "output_type": "stream",
          "name": "stdout",
          "text": [
            "\n",
            "→ Validation Loss: 1.0839\n",
            "→ Overall mIoU: 0.4547\n",
            "  → background IoU: 0.3620\n",
            "  → building IoU: 0.4777\n",
            "  → road IoU: 0.5206\n",
            "  → water IoU: 0.5772\n",
            "  → barren IoU: 0.4243\n",
            "  → forest IoU: 0.4705\n",
            "  → agriculture IoU: 0.3506\n",
            "[0.000329658544839708]\n"
          ]
        },
        {
          "output_type": "stream",
          "name": "stderr",
          "text": [
            "Epoch 20 [Training]: 100%|██████████| 58/58 [00:43<00:00,  1.35it/s, Loss_seg=17.5421]"
          ]
        },
        {
          "output_type": "stream",
          "name": "stdout",
          "text": [
            "\n",
            "Epoch 20/20 Summary\n",
            "  → Segmentation Source Loss (RAW) : 1.0964\n"
          ]
        },
        {
          "output_type": "stream",
          "name": "stderr",
          "text": [
            "\n",
            "Epoch 20 [Validation]: 100%|██████████| 15/15 [00:04<00:00,  3.64it/s, Val_Loss=14.9247, mIoU=0.4712]\n"
          ]
        },
        {
          "output_type": "stream",
          "name": "stdout",
          "text": [
            "\n",
            "→ Validation Loss: 0.9691\n",
            "→ Overall mIoU: 0.4712\n",
            "  → background IoU: 0.3656\n",
            "  → building IoU: 0.5021\n",
            "  → road IoU: 0.5447\n",
            "  → water IoU: 0.5921\n",
            "  → barren IoU: 0.4556\n",
            "  → forest IoU: 0.4787\n",
            "  → agriculture IoU: 0.3599\n",
            "[0.000329658544839708]\n"
          ]
        },
        {
          "output_type": "stream",
          "name": "stderr",
          "text": [
            "Epoch 1 [Training]: 100%|██████████| 58/58 [00:43<00:00,  1.32it/s, Loss_seg=56.4794]"
          ]
        },
        {
          "output_type": "stream",
          "name": "stdout",
          "text": [
            "\n",
            "Epoch 1/20 Summary\n",
            "  → Segmentation Source Loss (RAW) : 3.5300\n"
          ]
        },
        {
          "output_type": "stream",
          "name": "stderr",
          "text": [
            "\n",
            "Epoch 1 [Validation]: 100%|██████████| 15/15 [00:04<00:00,  3.65it/s, Val_Loss=29.2827, mIoU=0.2927]\n"
          ]
        },
        {
          "output_type": "stream",
          "name": "stdout",
          "text": [
            "Modello con miou migliore salvato: /content/drive/MyDrive/AML_project/checkpoints/best_model_PIDNET_5_DACS_without_3_class_ohem.pth\n",
            "\n",
            "→ Validation Loss: 1.9015\n",
            "→ Overall mIoU: 0.2927\n",
            "  → background IoU: 0.2177\n",
            "  → building IoU: 0.3295\n",
            "  → road IoU: 0.2998\n",
            "  → water IoU: 0.3531\n",
            "  → barren IoU: 0.3153\n",
            "  → forest IoU: 0.3265\n",
            "  → agriculture IoU: 0.2070\n",
            "[0.000329658544839708]\n"
          ]
        },
        {
          "output_type": "stream",
          "name": "stderr",
          "text": [
            "Epoch 2 [Training]: 100%|██████████| 58/58 [00:43<00:00,  1.32it/s, Loss_seg=30.0210]"
          ]
        },
        {
          "output_type": "stream",
          "name": "stdout",
          "text": [
            "\n",
            "Epoch 2/20 Summary\n",
            "  → Segmentation Source Loss (RAW) : 1.8763\n"
          ]
        },
        {
          "output_type": "stream",
          "name": "stderr",
          "text": [
            "\n",
            "Epoch 2 [Validation]: 100%|██████████| 15/15 [00:04<00:00,  3.62it/s, Val_Loss=20.4198, mIoU=0.3407]\n"
          ]
        },
        {
          "output_type": "stream",
          "name": "stdout",
          "text": [
            "Modello con miou migliore salvato: /content/drive/MyDrive/AML_project/checkpoints/best_model_PIDNET_5_DACS_without_3_class_ohem.pth\n",
            "\n",
            "→ Validation Loss: 1.3260\n",
            "→ Overall mIoU: 0.3407\n",
            "  → background IoU: 0.1970\n",
            "  → building IoU: 0.3942\n",
            "  → road IoU: 0.3495\n",
            "  → water IoU: 0.5294\n",
            "  → barren IoU: 0.3545\n",
            "  → forest IoU: 0.3640\n",
            "  → agriculture IoU: 0.1963\n",
            "[0.000329658544839708]\n"
          ]
        },
        {
          "output_type": "stream",
          "name": "stderr",
          "text": [
            "Epoch 3 [Training]: 100%|██████████| 58/58 [00:43<00:00,  1.32it/s, Loss_seg=25.3701]"
          ]
        },
        {
          "output_type": "stream",
          "name": "stdout",
          "text": [
            "\n",
            "Epoch 3/20 Summary\n",
            "  → Segmentation Source Loss (RAW) : 1.5856\n"
          ]
        },
        {
          "output_type": "stream",
          "name": "stderr",
          "text": [
            "\n",
            "Epoch 3 [Validation]: 100%|██████████| 15/15 [00:04<00:00,  3.58it/s, Val_Loss=19.3508, mIoU=0.3618]\n"
          ]
        },
        {
          "output_type": "stream",
          "name": "stdout",
          "text": [
            "Modello con miou migliore salvato: /content/drive/MyDrive/AML_project/checkpoints/best_model_PIDNET_5_DACS_without_3_class_ohem.pth\n",
            "\n",
            "→ Validation Loss: 1.2565\n",
            "→ Overall mIoU: 0.3618\n",
            "  → background IoU: 0.1879\n",
            "  → building IoU: 0.4259\n",
            "  → road IoU: 0.3912\n",
            "  → water IoU: 0.5388\n",
            "  → barren IoU: 0.3589\n",
            "  → forest IoU: 0.3927\n",
            "  → agriculture IoU: 0.2374\n",
            "[0.000329658544839708]\n"
          ]
        },
        {
          "output_type": "stream",
          "name": "stderr",
          "text": [
            "Epoch 4 [Training]: 100%|██████████| 58/58 [00:44<00:00,  1.31it/s, Loss_seg=23.7936]"
          ]
        },
        {
          "output_type": "stream",
          "name": "stdout",
          "text": [
            "\n",
            "Epoch 4/20 Summary\n",
            "  → Segmentation Source Loss (RAW) : 1.4871\n"
          ]
        },
        {
          "output_type": "stream",
          "name": "stderr",
          "text": [
            "\n",
            "Epoch 4 [Validation]: 100%|██████████| 15/15 [00:04<00:00,  3.60it/s, Val_Loss=18.4692, mIoU=0.3841]\n"
          ]
        },
        {
          "output_type": "stream",
          "name": "stdout",
          "text": [
            "Modello con miou migliore salvato: /content/drive/MyDrive/AML_project/checkpoints/best_model_PIDNET_5_DACS_without_3_class_ohem.pth\n",
            "\n",
            "→ Validation Loss: 1.1993\n",
            "→ Overall mIoU: 0.3841\n",
            "  → background IoU: 0.2240\n",
            "  → building IoU: 0.4274\n",
            "  → road IoU: 0.4123\n",
            "  → water IoU: 0.5507\n",
            "  → barren IoU: 0.3951\n",
            "  → forest IoU: 0.4112\n",
            "  → agriculture IoU: 0.2681\n",
            "[0.000329658544839708]\n"
          ]
        },
        {
          "output_type": "stream",
          "name": "stderr",
          "text": [
            "Epoch 5 [Training]: 100%|██████████| 58/58 [00:43<00:00,  1.32it/s, Loss_seg=22.0651]"
          ]
        },
        {
          "output_type": "stream",
          "name": "stdout",
          "text": [
            "\n",
            "Epoch 5/20 Summary\n",
            "  → Segmentation Source Loss (RAW) : 1.3791\n"
          ]
        },
        {
          "output_type": "stream",
          "name": "stderr",
          "text": [
            "\n",
            "Epoch 5 [Validation]: 100%|██████████| 15/15 [00:04<00:00,  3.60it/s, Val_Loss=18.1197, mIoU=0.4170]\n"
          ]
        },
        {
          "output_type": "stream",
          "name": "stdout",
          "text": [
            "Modello con miou migliore salvato: /content/drive/MyDrive/AML_project/checkpoints/best_model_PIDNET_5_DACS_without_3_class_ohem.pth\n",
            "\n",
            "→ Validation Loss: 1.1766\n",
            "→ Overall mIoU: 0.4170\n",
            "  → background IoU: 0.2435\n",
            "  → building IoU: 0.4500\n",
            "  → road IoU: 0.4359\n",
            "  → water IoU: 0.6229\n",
            "  → barren IoU: 0.4212\n",
            "  → forest IoU: 0.4464\n",
            "  → agriculture IoU: 0.2988\n",
            "[0.000329658544839708]\n"
          ]
        },
        {
          "output_type": "stream",
          "name": "stderr",
          "text": [
            "Epoch 6 [Training]: 100%|██████████| 58/58 [00:44<00:00,  1.32it/s, Loss_seg=21.2618]"
          ]
        },
        {
          "output_type": "stream",
          "name": "stdout",
          "text": [
            "\n",
            "Epoch 6/20 Summary\n",
            "  → Segmentation Source Loss (RAW) : 1.3289\n"
          ]
        },
        {
          "output_type": "stream",
          "name": "stderr",
          "text": [
            "\n",
            "Epoch 6 [Validation]: 100%|██████████| 15/15 [00:04<00:00,  3.62it/s, Val_Loss=17.6348, mIoU=0.4219]\n"
          ]
        },
        {
          "output_type": "stream",
          "name": "stdout",
          "text": [
            "Modello con miou migliore salvato: /content/drive/MyDrive/AML_project/checkpoints/best_model_PIDNET_5_DACS_without_3_class_ohem.pth\n",
            "\n",
            "→ Validation Loss: 1.1451\n",
            "→ Overall mIoU: 0.4219\n",
            "  → background IoU: 0.2774\n",
            "  → building IoU: 0.4541\n",
            "  → road IoU: 0.4393\n",
            "  → water IoU: 0.5926\n",
            "  → barren IoU: 0.4104\n",
            "  → forest IoU: 0.4223\n",
            "  → agriculture IoU: 0.3573\n",
            "[0.000329658544839708]\n"
          ]
        },
        {
          "output_type": "stream",
          "name": "stderr",
          "text": [
            "Epoch 7 [Training]: 100%|██████████| 58/58 [00:43<00:00,  1.34it/s, Loss_seg=20.4290]"
          ]
        },
        {
          "output_type": "stream",
          "name": "stdout",
          "text": [
            "\n",
            "Epoch 7/20 Summary\n",
            "  → Segmentation Source Loss (RAW) : 1.2768\n"
          ]
        },
        {
          "output_type": "stream",
          "name": "stderr",
          "text": [
            "\n",
            "Epoch 7 [Validation]: 100%|██████████| 15/15 [00:04<00:00,  3.62it/s, Val_Loss=16.4421, mIoU=0.4365]\n"
          ]
        },
        {
          "output_type": "stream",
          "name": "stdout",
          "text": [
            "Modello con miou migliore salvato: /content/drive/MyDrive/AML_project/checkpoints/best_model_PIDNET_5_DACS_without_3_class_ohem.pth\n",
            "\n",
            "→ Validation Loss: 1.0677\n",
            "→ Overall mIoU: 0.4365\n",
            "  → background IoU: 0.2946\n",
            "  → building IoU: 0.4659\n",
            "  → road IoU: 0.4994\n",
            "  → water IoU: 0.6254\n",
            "  → barren IoU: 0.4094\n",
            "  → forest IoU: 0.4406\n",
            "  → agriculture IoU: 0.3202\n",
            "[0.000329658544839708]\n"
          ]
        },
        {
          "output_type": "stream",
          "name": "stderr",
          "text": [
            "Epoch 8 [Training]: 100%|██████████| 58/58 [00:44<00:00,  1.31it/s, Loss_seg=19.8783]"
          ]
        },
        {
          "output_type": "stream",
          "name": "stdout",
          "text": [
            "\n",
            "Epoch 8/20 Summary\n",
            "  → Segmentation Source Loss (RAW) : 1.2424\n"
          ]
        },
        {
          "output_type": "stream",
          "name": "stderr",
          "text": [
            "\n",
            "Epoch 8 [Validation]: 100%|██████████| 15/15 [00:04<00:00,  3.62it/s, Val_Loss=15.9429, mIoU=0.4242]"
          ]
        },
        {
          "output_type": "stream",
          "name": "stdout",
          "text": [
            "\n",
            "→ Validation Loss: 1.0353\n",
            "→ Overall mIoU: 0.4242\n",
            "  → background IoU: 0.2393\n",
            "  → building IoU: 0.4769\n",
            "  → road IoU: 0.4569\n",
            "  → water IoU: 0.6238\n",
            "  → barren IoU: 0.4104\n",
            "  → forest IoU: 0.4562\n",
            "  → agriculture IoU: 0.3058\n",
            "[0.000329658544839708]\n"
          ]
        },
        {
          "output_type": "stream",
          "name": "stderr",
          "text": [
            "\n",
            "Epoch 9 [Training]: 100%|██████████| 58/58 [00:43<00:00,  1.33it/s, Loss_seg=19.6622]"
          ]
        },
        {
          "output_type": "stream",
          "name": "stdout",
          "text": [
            "\n",
            "Epoch 9/20 Summary\n",
            "  → Segmentation Source Loss (RAW) : 1.2289\n"
          ]
        },
        {
          "output_type": "stream",
          "name": "stderr",
          "text": [
            "\n",
            "Epoch 9 [Validation]: 100%|██████████| 15/15 [00:04<00:00,  3.62it/s, Val_Loss=16.6794, mIoU=0.4319]"
          ]
        },
        {
          "output_type": "stream",
          "name": "stdout",
          "text": [
            "\n",
            "→ Validation Loss: 1.0831\n",
            "→ Overall mIoU: 0.4319\n",
            "  → background IoU: 0.2524\n",
            "  → building IoU: 0.4866\n",
            "  → road IoU: 0.4598\n",
            "  → water IoU: 0.6425\n",
            "  → barren IoU: 0.4005\n",
            "  → forest IoU: 0.4626\n",
            "  → agriculture IoU: 0.3187\n",
            "[0.000329658544839708]\n"
          ]
        },
        {
          "output_type": "stream",
          "name": "stderr",
          "text": [
            "\n",
            "Epoch 10 [Training]: 100%|██████████| 58/58 [00:42<00:00,  1.35it/s, Loss_seg=19.5065]"
          ]
        },
        {
          "output_type": "stream",
          "name": "stdout",
          "text": [
            "\n",
            "Epoch 10/20 Summary\n",
            "  → Segmentation Source Loss (RAW) : 1.2192\n"
          ]
        },
        {
          "output_type": "stream",
          "name": "stderr",
          "text": [
            "\n",
            "Epoch 10 [Validation]: 100%|██████████| 15/15 [00:04<00:00,  3.64it/s, Val_Loss=16.7785, mIoU=0.4384]\n"
          ]
        },
        {
          "output_type": "stream",
          "name": "stdout",
          "text": [
            "Modello con miou migliore salvato: /content/drive/MyDrive/AML_project/checkpoints/best_model_PIDNET_5_DACS_without_3_class_ohem.pth\n",
            "\n",
            "→ Validation Loss: 1.0895\n",
            "→ Overall mIoU: 0.4384\n",
            "  → background IoU: 0.2783\n",
            "  → building IoU: 0.4849\n",
            "  → road IoU: 0.4817\n",
            "  → water IoU: 0.6302\n",
            "  → barren IoU: 0.4116\n",
            "  → forest IoU: 0.4498\n",
            "  → agriculture IoU: 0.3321\n",
            "[0.000329658544839708]\n"
          ]
        },
        {
          "output_type": "stream",
          "name": "stderr",
          "text": [
            "Epoch 11 [Training]: 100%|██████████| 58/58 [00:43<00:00,  1.33it/s, Loss_seg=18.9022]"
          ]
        },
        {
          "output_type": "stream",
          "name": "stdout",
          "text": [
            "\n",
            "Epoch 11/20 Summary\n",
            "  → Segmentation Source Loss (RAW) : 1.1814\n"
          ]
        },
        {
          "output_type": "stream",
          "name": "stderr",
          "text": [
            "\n",
            "Epoch 11 [Validation]: 100%|██████████| 15/15 [00:04<00:00,  3.53it/s, Val_Loss=15.7184, mIoU=0.4562]\n"
          ]
        },
        {
          "output_type": "stream",
          "name": "stdout",
          "text": [
            "Modello con miou migliore salvato: /content/drive/MyDrive/AML_project/checkpoints/best_model_PIDNET_5_DACS_without_3_class_ohem.pth\n",
            "\n",
            "→ Validation Loss: 1.0207\n",
            "→ Overall mIoU: 0.4562\n",
            "  → background IoU: 0.2895\n",
            "  → building IoU: 0.4908\n",
            "  → road IoU: 0.5068\n",
            "  → water IoU: 0.6161\n",
            "  → barren IoU: 0.4324\n",
            "  → forest IoU: 0.4877\n",
            "  → agriculture IoU: 0.3704\n",
            "[0.000329658544839708]\n"
          ]
        },
        {
          "output_type": "stream",
          "name": "stderr",
          "text": [
            "Epoch 12 [Training]: 100%|██████████| 58/58 [00:44<00:00,  1.31it/s, Loss_seg=18.8897]"
          ]
        },
        {
          "output_type": "stream",
          "name": "stdout",
          "text": [
            "\n",
            "Epoch 12/20 Summary\n",
            "  → Segmentation Source Loss (RAW) : 1.1806\n"
          ]
        },
        {
          "output_type": "stream",
          "name": "stderr",
          "text": [
            "\n",
            "Epoch 12 [Validation]: 100%|██████████| 15/15 [00:04<00:00,  3.58it/s, Val_Loss=19.9959, mIoU=0.4534]"
          ]
        },
        {
          "output_type": "stream",
          "name": "stdout",
          "text": [
            "\n",
            "→ Validation Loss: 1.2984\n",
            "→ Overall mIoU: 0.4534\n",
            "  → background IoU: 0.2745\n",
            "  → building IoU: 0.4817\n",
            "  → road IoU: 0.5251\n",
            "  → water IoU: 0.6191\n",
            "  → barren IoU: 0.4066\n",
            "  → forest IoU: 0.4557\n",
            "  → agriculture IoU: 0.4115\n",
            "[0.000329658544839708]\n"
          ]
        },
        {
          "output_type": "stream",
          "name": "stderr",
          "text": [
            "\n",
            "Epoch 13 [Training]: 100%|██████████| 58/58 [00:43<00:00,  1.32it/s, Loss_seg=18.4524]"
          ]
        },
        {
          "output_type": "stream",
          "name": "stdout",
          "text": [
            "\n",
            "Epoch 13/20 Summary\n",
            "  → Segmentation Source Loss (RAW) : 1.1533\n"
          ]
        },
        {
          "output_type": "stream",
          "name": "stderr",
          "text": [
            "\n",
            "Epoch 13 [Validation]: 100%|██████████| 15/15 [00:04<00:00,  3.60it/s, Val_Loss=19.6449, mIoU=0.4579]\n"
          ]
        },
        {
          "output_type": "stream",
          "name": "stdout",
          "text": [
            "Modello con miou migliore salvato: /content/drive/MyDrive/AML_project/checkpoints/best_model_PIDNET_5_DACS_without_3_class_ohem.pth\n",
            "\n",
            "→ Validation Loss: 1.2756\n",
            "→ Overall mIoU: 0.4579\n",
            "  → background IoU: 0.3038\n",
            "  → building IoU: 0.4887\n",
            "  → road IoU: 0.4969\n",
            "  → water IoU: 0.6258\n",
            "  → barren IoU: 0.4383\n",
            "  → forest IoU: 0.4639\n",
            "  → agriculture IoU: 0.3879\n",
            "[0.000329658544839708]\n"
          ]
        },
        {
          "output_type": "stream",
          "name": "stderr",
          "text": [
            "Epoch 14 [Training]: 100%|██████████| 58/58 [00:43<00:00,  1.32it/s, Loss_seg=18.4050]"
          ]
        },
        {
          "output_type": "stream",
          "name": "stdout",
          "text": [
            "\n",
            "Epoch 14/20 Summary\n",
            "  → Segmentation Source Loss (RAW) : 1.1503\n"
          ]
        },
        {
          "output_type": "stream",
          "name": "stderr",
          "text": [
            "\n",
            "Epoch 14 [Validation]: 100%|██████████| 15/15 [00:04<00:00,  3.64it/s, Val_Loss=14.2345, mIoU=0.4778]\n"
          ]
        },
        {
          "output_type": "stream",
          "name": "stdout",
          "text": [
            "Modello con miou migliore salvato: /content/drive/MyDrive/AML_project/checkpoints/best_model_PIDNET_5_DACS_without_3_class_ohem.pth\n",
            "\n",
            "→ Validation Loss: 0.9243\n",
            "→ Overall mIoU: 0.4778\n",
            "  → background IoU: 0.3335\n",
            "  → building IoU: 0.5122\n",
            "  → road IoU: 0.5169\n",
            "  → water IoU: 0.6688\n",
            "  → barren IoU: 0.4650\n",
            "  → forest IoU: 0.4818\n",
            "  → agriculture IoU: 0.3667\n",
            "[0.000329658544839708]\n"
          ]
        },
        {
          "output_type": "stream",
          "name": "stderr",
          "text": [
            "Epoch 15 [Training]: 100%|██████████| 58/58 [00:43<00:00,  1.34it/s, Loss_seg=17.6002]"
          ]
        },
        {
          "output_type": "stream",
          "name": "stdout",
          "text": [
            "\n",
            "Epoch 15/20 Summary\n",
            "  → Segmentation Source Loss (RAW) : 1.1000\n"
          ]
        },
        {
          "output_type": "stream",
          "name": "stderr",
          "text": [
            "\n",
            "Epoch 15 [Validation]: 100%|██████████| 15/15 [00:04<00:00,  3.60it/s, Val_Loss=13.7606, mIoU=0.4700]"
          ]
        },
        {
          "output_type": "stream",
          "name": "stdout",
          "text": [
            "\n",
            "→ Validation Loss: 0.8935\n",
            "→ Overall mIoU: 0.4700\n",
            "  → background IoU: 0.3161\n",
            "  → building IoU: 0.5162\n",
            "  → road IoU: 0.5163\n",
            "  → water IoU: 0.6775\n",
            "  → barren IoU: 0.4392\n",
            "  → forest IoU: 0.4859\n",
            "  → agriculture IoU: 0.3386\n",
            "[0.000329658544839708]\n"
          ]
        },
        {
          "output_type": "stream",
          "name": "stderr",
          "text": [
            "\n",
            "Epoch 16 [Training]: 100%|██████████| 58/58 [00:43<00:00,  1.34it/s, Loss_seg=17.8430]"
          ]
        },
        {
          "output_type": "stream",
          "name": "stdout",
          "text": [
            "\n",
            "Epoch 16/20 Summary\n",
            "  → Segmentation Source Loss (RAW) : 1.1152\n"
          ]
        },
        {
          "output_type": "stream",
          "name": "stderr",
          "text": [
            "\n",
            "Epoch 16 [Validation]: 100%|██████████| 15/15 [00:04<00:00,  3.62it/s, Val_Loss=15.1979, mIoU=0.4680]"
          ]
        },
        {
          "output_type": "stream",
          "name": "stdout",
          "text": [
            "\n",
            "→ Validation Loss: 0.9869\n",
            "→ Overall mIoU: 0.4680\n",
            "  → background IoU: 0.3218\n",
            "  → building IoU: 0.5062\n",
            "  → road IoU: 0.5294\n",
            "  → water IoU: 0.6430\n",
            "  → barren IoU: 0.4516\n",
            "  → forest IoU: 0.4831\n",
            "  → agriculture IoU: 0.3408\n",
            "[0.000329658544839708]\n"
          ]
        },
        {
          "output_type": "stream",
          "name": "stderr",
          "text": [
            "\n",
            "Epoch 17 [Training]: 100%|██████████| 58/58 [00:43<00:00,  1.32it/s, Loss_seg=17.3009]"
          ]
        },
        {
          "output_type": "stream",
          "name": "stdout",
          "text": [
            "\n",
            "Epoch 17/20 Summary\n",
            "  → Segmentation Source Loss (RAW) : 1.0813\n"
          ]
        },
        {
          "output_type": "stream",
          "name": "stderr",
          "text": [
            "\n",
            "Epoch 17 [Validation]: 100%|██████████| 15/15 [00:04<00:00,  3.63it/s, Val_Loss=14.9236, mIoU=0.4857]\n"
          ]
        },
        {
          "output_type": "stream",
          "name": "stdout",
          "text": [
            "Modello con miou migliore salvato: /content/drive/MyDrive/AML_project/checkpoints/best_model_PIDNET_5_DACS_without_3_class_ohem.pth\n",
            "\n",
            "→ Validation Loss: 0.9691\n",
            "→ Overall mIoU: 0.4857\n",
            "  → background IoU: 0.3038\n",
            "  → building IoU: 0.5058\n",
            "  → road IoU: 0.5350\n",
            "  → water IoU: 0.6922\n",
            "  → barren IoU: 0.4573\n",
            "  → forest IoU: 0.4860\n",
            "  → agriculture IoU: 0.4200\n",
            "[0.000329658544839708]\n"
          ]
        },
        {
          "output_type": "stream",
          "name": "stderr",
          "text": [
            "Epoch 18 [Training]: 100%|██████████| 58/58 [00:43<00:00,  1.32it/s, Loss_seg=16.9820]"
          ]
        },
        {
          "output_type": "stream",
          "name": "stdout",
          "text": [
            "\n",
            "Epoch 18/20 Summary\n",
            "  → Segmentation Source Loss (RAW) : 1.0614\n"
          ]
        },
        {
          "output_type": "stream",
          "name": "stderr",
          "text": [
            "\n",
            "Epoch 18 [Validation]: 100%|██████████| 15/15 [00:04<00:00,  3.64it/s, Val_Loss=15.6158, mIoU=0.4727]"
          ]
        },
        {
          "output_type": "stream",
          "name": "stdout",
          "text": [
            "\n",
            "→ Validation Loss: 1.0140\n",
            "→ Overall mIoU: 0.4727\n",
            "  → background IoU: 0.3093\n",
            "  → building IoU: 0.5145\n",
            "  → road IoU: 0.5293\n",
            "  → water IoU: 0.6715\n",
            "  → barren IoU: 0.4470\n",
            "  → forest IoU: 0.4682\n",
            "  → agriculture IoU: 0.3688\n",
            "[0.000329658544839708]\n"
          ]
        },
        {
          "output_type": "stream",
          "name": "stderr",
          "text": [
            "\n",
            "Epoch 19 [Training]: 100%|██████████| 58/58 [00:43<00:00,  1.34it/s, Loss_seg=16.9954]"
          ]
        },
        {
          "output_type": "stream",
          "name": "stdout",
          "text": [
            "\n",
            "Epoch 19/20 Summary\n",
            "  → Segmentation Source Loss (RAW) : 1.0622\n"
          ]
        },
        {
          "output_type": "stream",
          "name": "stderr",
          "text": [
            "\n",
            "Epoch 19 [Validation]: 100%|██████████| 15/15 [00:04<00:00,  3.61it/s, Val_Loss=17.5397, mIoU=0.4720]"
          ]
        },
        {
          "output_type": "stream",
          "name": "stdout",
          "text": [
            "\n",
            "→ Validation Loss: 1.1389\n",
            "→ Overall mIoU: 0.4720\n",
            "  → background IoU: 0.3082\n",
            "  → building IoU: 0.4928\n",
            "  → road IoU: 0.5122\n",
            "  → water IoU: 0.6532\n",
            "  → barren IoU: 0.4757\n",
            "  → forest IoU: 0.4809\n",
            "  → agriculture IoU: 0.3807\n",
            "[0.000329658544839708]\n"
          ]
        },
        {
          "output_type": "stream",
          "name": "stderr",
          "text": [
            "\n",
            "Epoch 20 [Training]: 100%|██████████| 58/58 [00:43<00:00,  1.35it/s, Loss_seg=16.8665]"
          ]
        },
        {
          "output_type": "stream",
          "name": "stdout",
          "text": [
            "\n",
            "Epoch 20/20 Summary\n",
            "  → Segmentation Source Loss (RAW) : 1.0542\n"
          ]
        },
        {
          "output_type": "stream",
          "name": "stderr",
          "text": [
            "\n",
            "Epoch 20 [Validation]: 100%|██████████| 15/15 [00:04<00:00,  3.62it/s, Val_Loss=13.5164, mIoU=0.4990]\n"
          ]
        },
        {
          "output_type": "stream",
          "name": "stdout",
          "text": [
            "Modello con miou migliore salvato: /content/drive/MyDrive/AML_project/checkpoints/best_model_PIDNET_5_DACS_without_3_class_ohem.pth\n",
            "\n",
            "→ Validation Loss: 0.8777\n",
            "→ Overall mIoU: 0.4990\n",
            "  → background IoU: 0.3626\n",
            "  → building IoU: 0.5379\n",
            "  → road IoU: 0.5308\n",
            "  → water IoU: 0.7083\n",
            "  → barren IoU: 0.4686\n",
            "  → forest IoU: 0.4910\n",
            "  → agriculture IoU: 0.3938\n",
            "[0.000329658544839708]\n"
          ]
        },
        {
          "output_type": "stream",
          "name": "stderr",
          "text": [
            "Epoch 1 [Training]: 100%|██████████| 58/58 [00:43<00:00,  1.32it/s, Loss_seg=56.3242]"
          ]
        },
        {
          "output_type": "stream",
          "name": "stdout",
          "text": [
            "\n",
            "Epoch 1/20 Summary\n",
            "  → Segmentation Source Loss (RAW) : 3.5203\n"
          ]
        },
        {
          "output_type": "stream",
          "name": "stderr",
          "text": [
            "\n",
            "Epoch 1 [Validation]: 100%|██████████| 15/15 [00:04<00:00,  3.60it/s, Val_Loss=28.7876, mIoU=0.2728]\n"
          ]
        },
        {
          "output_type": "stream",
          "name": "stdout",
          "text": [
            "Modello con miou migliore salvato: /content/drive/MyDrive/AML_project/checkpoints/best_model_PIDNET_5_DACS_without_4_class_ohem.pth\n",
            "\n",
            "→ Validation Loss: 1.8693\n",
            "→ Overall mIoU: 0.2728\n",
            "  → background IoU: 0.2064\n",
            "  → building IoU: 0.3174\n",
            "  → road IoU: 0.2558\n",
            "  → water IoU: 0.4568\n",
            "  → barren IoU: 0.2724\n",
            "  → forest IoU: 0.2529\n",
            "  → agriculture IoU: 0.1477\n",
            "[0.000329658544839708]\n"
          ]
        },
        {
          "output_type": "stream",
          "name": "stderr",
          "text": [
            "Epoch 2 [Training]: 100%|██████████| 58/58 [00:43<00:00,  1.33it/s, Loss_seg=30.1315]"
          ]
        },
        {
          "output_type": "stream",
          "name": "stdout",
          "text": [
            "\n",
            "Epoch 2/20 Summary\n",
            "  → Segmentation Source Loss (RAW) : 1.8832\n"
          ]
        },
        {
          "output_type": "stream",
          "name": "stderr",
          "text": [
            "\n",
            "Epoch 2 [Validation]: 100%|██████████| 15/15 [00:04<00:00,  3.61it/s, Val_Loss=21.8741, mIoU=0.3353]\n"
          ]
        },
        {
          "output_type": "stream",
          "name": "stdout",
          "text": [
            "Modello con miou migliore salvato: /content/drive/MyDrive/AML_project/checkpoints/best_model_PIDNET_5_DACS_without_4_class_ohem.pth\n",
            "\n",
            "→ Validation Loss: 1.4204\n",
            "→ Overall mIoU: 0.3353\n",
            "  → background IoU: 0.1867\n",
            "  → building IoU: 0.3782\n",
            "  → road IoU: 0.3097\n",
            "  → water IoU: 0.4853\n",
            "  → barren IoU: 0.3716\n",
            "  → forest IoU: 0.3650\n",
            "  → agriculture IoU: 0.2504\n",
            "[0.000329658544839708]\n"
          ]
        },
        {
          "output_type": "stream",
          "name": "stderr",
          "text": [
            "Epoch 3 [Training]: 100%|██████████| 58/58 [00:43<00:00,  1.33it/s, Loss_seg=25.4953]"
          ]
        },
        {
          "output_type": "stream",
          "name": "stdout",
          "text": [
            "\n",
            "Epoch 3/20 Summary\n",
            "  → Segmentation Source Loss (RAW) : 1.5935\n"
          ]
        },
        {
          "output_type": "stream",
          "name": "stderr",
          "text": [
            "\n",
            "Epoch 3 [Validation]: 100%|██████████| 15/15 [00:04<00:00,  3.63it/s, Val_Loss=18.5117, mIoU=0.3603]\n"
          ]
        },
        {
          "output_type": "stream",
          "name": "stdout",
          "text": [
            "Modello con miou migliore salvato: /content/drive/MyDrive/AML_project/checkpoints/best_model_PIDNET_5_DACS_without_4_class_ohem.pth\n",
            "\n",
            "→ Validation Loss: 1.2021\n",
            "→ Overall mIoU: 0.3603\n",
            "  → background IoU: 0.2175\n",
            "  → building IoU: 0.4083\n",
            "  → road IoU: 0.3991\n",
            "  → water IoU: 0.5169\n",
            "  → barren IoU: 0.3919\n",
            "  → forest IoU: 0.3845\n",
            "  → agriculture IoU: 0.2037\n",
            "[0.000329658544839708]\n"
          ]
        },
        {
          "output_type": "stream",
          "name": "stderr",
          "text": [
            "Epoch 4 [Training]: 100%|██████████| 58/58 [00:43<00:00,  1.32it/s, Loss_seg=24.0451]"
          ]
        },
        {
          "output_type": "stream",
          "name": "stdout",
          "text": [
            "\n",
            "Epoch 4/20 Summary\n",
            "  → Segmentation Source Loss (RAW) : 1.5028\n"
          ]
        },
        {
          "output_type": "stream",
          "name": "stderr",
          "text": [
            "\n",
            "Epoch 4 [Validation]: 100%|██████████| 15/15 [00:04<00:00,  3.62it/s, Val_Loss=17.3356, mIoU=0.3829]\n"
          ]
        },
        {
          "output_type": "stream",
          "name": "stdout",
          "text": [
            "Modello con miou migliore salvato: /content/drive/MyDrive/AML_project/checkpoints/best_model_PIDNET_5_DACS_without_4_class_ohem.pth\n",
            "\n",
            "→ Validation Loss: 1.1257\n",
            "→ Overall mIoU: 0.3829\n",
            "  → background IoU: 0.2469\n",
            "  → building IoU: 0.4309\n",
            "  → road IoU: 0.4263\n",
            "  → water IoU: 0.5010\n",
            "  → barren IoU: 0.4071\n",
            "  → forest IoU: 0.4262\n",
            "  → agriculture IoU: 0.2416\n",
            "[0.000329658544839708]\n"
          ]
        },
        {
          "output_type": "stream",
          "name": "stderr",
          "text": [
            "Epoch 5 [Training]: 100%|██████████| 58/58 [00:43<00:00,  1.32it/s, Loss_seg=22.3549]"
          ]
        },
        {
          "output_type": "stream",
          "name": "stdout",
          "text": [
            "\n",
            "Epoch 5/20 Summary\n",
            "  → Segmentation Source Loss (RAW) : 1.3972\n"
          ]
        },
        {
          "output_type": "stream",
          "name": "stderr",
          "text": [
            "\n",
            "Epoch 5 [Validation]: 100%|██████████| 15/15 [00:04<00:00,  3.63it/s, Val_Loss=17.2343, mIoU=0.3898]\n"
          ]
        },
        {
          "output_type": "stream",
          "name": "stdout",
          "text": [
            "Modello con miou migliore salvato: /content/drive/MyDrive/AML_project/checkpoints/best_model_PIDNET_5_DACS_without_4_class_ohem.pth\n",
            "\n",
            "→ Validation Loss: 1.1191\n",
            "→ Overall mIoU: 0.3898\n",
            "  → background IoU: 0.2430\n",
            "  → building IoU: 0.4372\n",
            "  → road IoU: 0.3930\n",
            "  → water IoU: 0.5202\n",
            "  → barren IoU: 0.3992\n",
            "  → forest IoU: 0.4298\n",
            "  → agriculture IoU: 0.3061\n",
            "[0.000329658544839708]\n"
          ]
        },
        {
          "output_type": "stream",
          "name": "stderr",
          "text": [
            "Epoch 6 [Training]: 100%|██████████| 58/58 [00:43<00:00,  1.33it/s, Loss_seg=21.2396]"
          ]
        },
        {
          "output_type": "stream",
          "name": "stdout",
          "text": [
            "\n",
            "Epoch 6/20 Summary\n",
            "  → Segmentation Source Loss (RAW) : 1.3275\n"
          ]
        },
        {
          "output_type": "stream",
          "name": "stderr",
          "text": [
            "\n",
            "Epoch 6 [Validation]: 100%|██████████| 15/15 [00:04<00:00,  3.60it/s, Val_Loss=16.6619, mIoU=0.4246]\n"
          ]
        },
        {
          "output_type": "stream",
          "name": "stdout",
          "text": [
            "Modello con miou migliore salvato: /content/drive/MyDrive/AML_project/checkpoints/best_model_PIDNET_5_DACS_without_4_class_ohem.pth\n",
            "\n",
            "→ Validation Loss: 1.0819\n",
            "→ Overall mIoU: 0.4246\n",
            "  → background IoU: 0.2833\n",
            "  → building IoU: 0.4530\n",
            "  → road IoU: 0.4464\n",
            "  → water IoU: 0.5627\n",
            "  → barren IoU: 0.4147\n",
            "  → forest IoU: 0.4469\n",
            "  → agriculture IoU: 0.3649\n",
            "[0.000329658544839708]\n"
          ]
        },
        {
          "output_type": "stream",
          "name": "stderr",
          "text": [
            "Epoch 7 [Training]: 100%|██████████| 58/58 [00:43<00:00,  1.33it/s, Loss_seg=20.5387]"
          ]
        },
        {
          "output_type": "stream",
          "name": "stdout",
          "text": [
            "\n",
            "Epoch 7/20 Summary\n",
            "  → Segmentation Source Loss (RAW) : 1.2837\n"
          ]
        },
        {
          "output_type": "stream",
          "name": "stderr",
          "text": [
            "\n",
            "Epoch 7 [Validation]: 100%|██████████| 15/15 [00:04<00:00,  3.57it/s, Val_Loss=16.0370, mIoU=0.4162]"
          ]
        },
        {
          "output_type": "stream",
          "name": "stdout",
          "text": [
            "\n",
            "→ Validation Loss: 1.0414\n",
            "→ Overall mIoU: 0.4162\n",
            "  → background IoU: 0.2600\n",
            "  → building IoU: 0.4617\n",
            "  → road IoU: 0.4495\n",
            "  → water IoU: 0.5864\n",
            "  → barren IoU: 0.4100\n",
            "  → forest IoU: 0.4339\n",
            "  → agriculture IoU: 0.3116\n",
            "[0.000329658544839708]\n"
          ]
        },
        {
          "output_type": "stream",
          "name": "stderr",
          "text": [
            "\n",
            "Epoch 8 [Training]: 100%|██████████| 58/58 [00:43<00:00,  1.33it/s, Loss_seg=20.1679]"
          ]
        },
        {
          "output_type": "stream",
          "name": "stdout",
          "text": [
            "\n",
            "Epoch 8/20 Summary\n",
            "  → Segmentation Source Loss (RAW) : 1.2605\n"
          ]
        },
        {
          "output_type": "stream",
          "name": "stderr",
          "text": [
            "\n",
            "Epoch 8 [Validation]: 100%|██████████| 15/15 [00:04<00:00,  3.56it/s, Val_Loss=16.0542, mIoU=0.4034]"
          ]
        },
        {
          "output_type": "stream",
          "name": "stdout",
          "text": [
            "\n",
            "→ Validation Loss: 1.0425\n",
            "→ Overall mIoU: 0.4034\n",
            "  → background IoU: 0.2570\n",
            "  → building IoU: 0.4628\n",
            "  → road IoU: 0.4732\n",
            "  → water IoU: 0.5115\n",
            "  → barren IoU: 0.4054\n",
            "  → forest IoU: 0.4109\n",
            "  → agriculture IoU: 0.3027\n",
            "[0.000329658544839708]\n"
          ]
        },
        {
          "output_type": "stream",
          "name": "stderr",
          "text": [
            "\n",
            "Epoch 9 [Training]: 100%|██████████| 58/58 [00:43<00:00,  1.34it/s, Loss_seg=19.5000]"
          ]
        },
        {
          "output_type": "stream",
          "name": "stdout",
          "text": [
            "\n",
            "Epoch 9/20 Summary\n",
            "  → Segmentation Source Loss (RAW) : 1.2188\n"
          ]
        },
        {
          "output_type": "stream",
          "name": "stderr",
          "text": [
            "\n",
            "Epoch 9 [Validation]: 100%|██████████| 15/15 [00:04<00:00,  3.61it/s, Val_Loss=14.8236, mIoU=0.4339]\n"
          ]
        },
        {
          "output_type": "stream",
          "name": "stdout",
          "text": [
            "Modello con miou migliore salvato: /content/drive/MyDrive/AML_project/checkpoints/best_model_PIDNET_5_DACS_without_4_class_ohem.pth\n",
            "\n",
            "→ Validation Loss: 0.9626\n",
            "→ Overall mIoU: 0.4339\n",
            "  → background IoU: 0.2639\n",
            "  → building IoU: 0.4762\n",
            "  → road IoU: 0.4994\n",
            "  → water IoU: 0.6070\n",
            "  → barren IoU: 0.4334\n",
            "  → forest IoU: 0.4288\n",
            "  → agriculture IoU: 0.3283\n",
            "[0.000329658544839708]\n"
          ]
        },
        {
          "output_type": "stream",
          "name": "stderr",
          "text": [
            "Epoch 10 [Training]: 100%|██████████| 58/58 [00:43<00:00,  1.33it/s, Loss_seg=18.8419]"
          ]
        },
        {
          "output_type": "stream",
          "name": "stdout",
          "text": [
            "\n",
            "Epoch 10/20 Summary\n",
            "  → Segmentation Source Loss (RAW) : 1.1776\n"
          ]
        },
        {
          "output_type": "stream",
          "name": "stderr",
          "text": [
            "\n",
            "Epoch 10 [Validation]: 100%|██████████| 15/15 [00:04<00:00,  3.62it/s, Val_Loss=15.1110, mIoU=0.4517]\n"
          ]
        },
        {
          "output_type": "stream",
          "name": "stdout",
          "text": [
            "Modello con miou migliore salvato: /content/drive/MyDrive/AML_project/checkpoints/best_model_PIDNET_5_DACS_without_4_class_ohem.pth\n",
            "\n",
            "→ Validation Loss: 0.9812\n",
            "→ Overall mIoU: 0.4517\n",
            "  → background IoU: 0.2815\n",
            "  → building IoU: 0.4847\n",
            "  → road IoU: 0.4889\n",
            "  → water IoU: 0.6501\n",
            "  → barren IoU: 0.4467\n",
            "  → forest IoU: 0.4640\n",
            "  → agriculture IoU: 0.3463\n",
            "[0.000329658544839708]\n"
          ]
        },
        {
          "output_type": "stream",
          "name": "stderr",
          "text": [
            "Epoch 11 [Training]: 100%|██████████| 58/58 [00:43<00:00,  1.33it/s, Loss_seg=18.4477]"
          ]
        },
        {
          "output_type": "stream",
          "name": "stdout",
          "text": [
            "\n",
            "Epoch 11/20 Summary\n",
            "  → Segmentation Source Loss (RAW) : 1.1530\n"
          ]
        },
        {
          "output_type": "stream",
          "name": "stderr",
          "text": [
            "\n",
            "Epoch 11 [Validation]: 100%|██████████| 15/15 [00:04<00:00,  3.63it/s, Val_Loss=14.7018, mIoU=0.4614]\n"
          ]
        },
        {
          "output_type": "stream",
          "name": "stdout",
          "text": [
            "Modello con miou migliore salvato: /content/drive/MyDrive/AML_project/checkpoints/best_model_PIDNET_5_DACS_without_4_class_ohem.pth\n",
            "\n",
            "→ Validation Loss: 0.9547\n",
            "→ Overall mIoU: 0.4614\n",
            "  → background IoU: 0.3072\n",
            "  → building IoU: 0.4831\n",
            "  → road IoU: 0.4963\n",
            "  → water IoU: 0.6594\n",
            "  → barren IoU: 0.4635\n",
            "  → forest IoU: 0.4680\n",
            "  → agriculture IoU: 0.3526\n",
            "[0.000329658544839708]\n"
          ]
        },
        {
          "output_type": "stream",
          "name": "stderr",
          "text": [
            "Epoch 12 [Training]: 100%|██████████| 58/58 [00:43<00:00,  1.33it/s, Loss_seg=18.4329]"
          ]
        },
        {
          "output_type": "stream",
          "name": "stdout",
          "text": [
            "\n",
            "Epoch 12/20 Summary\n",
            "  → Segmentation Source Loss (RAW) : 1.1521\n"
          ]
        },
        {
          "output_type": "stream",
          "name": "stderr",
          "text": [
            "\n",
            "Epoch 12 [Validation]: 100%|██████████| 15/15 [00:04<00:00,  3.63it/s, Val_Loss=14.6842, mIoU=0.4554]"
          ]
        },
        {
          "output_type": "stream",
          "name": "stdout",
          "text": [
            "\n",
            "→ Validation Loss: 0.9535\n",
            "→ Overall mIoU: 0.4554\n",
            "  → background IoU: 0.2842\n",
            "  → building IoU: 0.4835\n",
            "  → road IoU: 0.4882\n",
            "  → water IoU: 0.6616\n",
            "  → barren IoU: 0.4795\n",
            "  → forest IoU: 0.4789\n",
            "  → agriculture IoU: 0.3116\n",
            "[0.000329658544839708]\n"
          ]
        },
        {
          "output_type": "stream",
          "name": "stderr",
          "text": [
            "\n",
            "Epoch 13 [Training]: 100%|██████████| 58/58 [00:43<00:00,  1.33it/s, Loss_seg=18.0115]"
          ]
        },
        {
          "output_type": "stream",
          "name": "stdout",
          "text": [
            "\n",
            "Epoch 13/20 Summary\n",
            "  → Segmentation Source Loss (RAW) : 1.1257\n"
          ]
        },
        {
          "output_type": "stream",
          "name": "stderr",
          "text": [
            "\n",
            "Epoch 13 [Validation]: 100%|██████████| 15/15 [00:04<00:00,  3.64it/s, Val_Loss=14.1907, mIoU=0.4679]\n"
          ]
        },
        {
          "output_type": "stream",
          "name": "stdout",
          "text": [
            "Modello con miou migliore salvato: /content/drive/MyDrive/AML_project/checkpoints/best_model_PIDNET_5_DACS_without_4_class_ohem.pth\n",
            "\n",
            "→ Validation Loss: 0.9215\n",
            "→ Overall mIoU: 0.4679\n",
            "  → background IoU: 0.3374\n",
            "  → building IoU: 0.5037\n",
            "  → road IoU: 0.4970\n",
            "  → water IoU: 0.6227\n",
            "  → barren IoU: 0.5049\n",
            "  → forest IoU: 0.4828\n",
            "  → agriculture IoU: 0.3270\n",
            "[0.000329658544839708]\n"
          ]
        },
        {
          "output_type": "stream",
          "name": "stderr",
          "text": [
            "Epoch 14 [Training]: 100%|██████████| 58/58 [00:43<00:00,  1.32it/s, Loss_seg=17.7939]"
          ]
        },
        {
          "output_type": "stream",
          "name": "stdout",
          "text": [
            "\n",
            "Epoch 14/20 Summary\n",
            "  → Segmentation Source Loss (RAW) : 1.1121\n"
          ]
        },
        {
          "output_type": "stream",
          "name": "stderr",
          "text": [
            "\n",
            "Epoch 14 [Validation]: 100%|██████████| 15/15 [00:04<00:00,  3.60it/s, Val_Loss=13.9389, mIoU=0.4789]\n"
          ]
        },
        {
          "output_type": "stream",
          "name": "stdout",
          "text": [
            "Modello con miou migliore salvato: /content/drive/MyDrive/AML_project/checkpoints/best_model_PIDNET_5_DACS_without_4_class_ohem.pth\n",
            "\n",
            "→ Validation Loss: 0.9051\n",
            "→ Overall mIoU: 0.4789\n",
            "  → background IoU: 0.3284\n",
            "  → building IoU: 0.4916\n",
            "  → road IoU: 0.4991\n",
            "  → water IoU: 0.6628\n",
            "  → barren IoU: 0.4948\n",
            "  → forest IoU: 0.4846\n",
            "  → agriculture IoU: 0.3910\n",
            "[0.000329658544839708]\n"
          ]
        },
        {
          "output_type": "stream",
          "name": "stderr",
          "text": [
            "Epoch 15 [Training]: 100%|██████████| 58/58 [00:43<00:00,  1.34it/s, Loss_seg=17.9734]"
          ]
        },
        {
          "output_type": "stream",
          "name": "stdout",
          "text": [
            "\n",
            "Epoch 15/20 Summary\n",
            "  → Segmentation Source Loss (RAW) : 1.1233\n"
          ]
        },
        {
          "output_type": "stream",
          "name": "stderr",
          "text": [
            "\n",
            "Epoch 15 [Validation]: 100%|██████████| 15/15 [00:04<00:00,  3.59it/s, Val_Loss=13.5738, mIoU=0.4543]"
          ]
        },
        {
          "output_type": "stream",
          "name": "stdout",
          "text": [
            "\n",
            "→ Validation Loss: 0.8814\n",
            "→ Overall mIoU: 0.4543\n",
            "  → background IoU: 0.2819\n",
            "  → building IoU: 0.5065\n",
            "  → road IoU: 0.5056\n",
            "  → water IoU: 0.6826\n",
            "  → barren IoU: 0.5015\n",
            "  → forest IoU: 0.4527\n",
            "  → agriculture IoU: 0.2496\n",
            "[0.000329658544839708]\n"
          ]
        },
        {
          "output_type": "stream",
          "name": "stderr",
          "text": [
            "\n",
            "Epoch 16 [Training]: 100%|██████████| 58/58 [00:42<00:00,  1.35it/s, Loss_seg=17.7854]"
          ]
        },
        {
          "output_type": "stream",
          "name": "stdout",
          "text": [
            "\n",
            "Epoch 16/20 Summary\n",
            "  → Segmentation Source Loss (RAW) : 1.1116\n"
          ]
        },
        {
          "output_type": "stream",
          "name": "stderr",
          "text": [
            "\n",
            "Epoch 16 [Validation]: 100%|██████████| 15/15 [00:04<00:00,  3.61it/s, Val_Loss=14.1584, mIoU=0.4644]"
          ]
        },
        {
          "output_type": "stream",
          "name": "stdout",
          "text": [
            "\n",
            "→ Validation Loss: 0.9194\n",
            "→ Overall mIoU: 0.4644\n",
            "  → background IoU: 0.3186\n",
            "  → building IoU: 0.5004\n",
            "  → road IoU: 0.4944\n",
            "  → water IoU: 0.6730\n",
            "  → barren IoU: 0.4830\n",
            "  → forest IoU: 0.4881\n",
            "  → agriculture IoU: 0.2933\n",
            "[0.000329658544839708]\n"
          ]
        },
        {
          "output_type": "stream",
          "name": "stderr",
          "text": [
            "\n",
            "Epoch 17 [Training]: 100%|██████████| 58/58 [00:43<00:00,  1.32it/s, Loss_seg=17.2571]"
          ]
        },
        {
          "output_type": "stream",
          "name": "stdout",
          "text": [
            "\n",
            "Epoch 17/20 Summary\n",
            "  → Segmentation Source Loss (RAW) : 1.0786\n"
          ]
        },
        {
          "output_type": "stream",
          "name": "stderr",
          "text": [
            "\n",
            "Epoch 17 [Validation]: 100%|██████████| 15/15 [00:04<00:00,  3.63it/s, Val_Loss=13.3696, mIoU=0.4773]"
          ]
        },
        {
          "output_type": "stream",
          "name": "stdout",
          "text": [
            "\n",
            "→ Validation Loss: 0.8682\n",
            "→ Overall mIoU: 0.4773\n",
            "  → background IoU: 0.3691\n",
            "  → building IoU: 0.5113\n",
            "  → road IoU: 0.5290\n",
            "  → water IoU: 0.6074\n",
            "  → barren IoU: 0.5301\n",
            "  → forest IoU: 0.4864\n",
            "  → agriculture IoU: 0.3079\n",
            "[0.000329658544839708]\n"
          ]
        },
        {
          "output_type": "stream",
          "name": "stderr",
          "text": [
            "\n",
            "Epoch 18 [Training]: 100%|██████████| 58/58 [00:43<00:00,  1.34it/s, Loss_seg=17.2373]"
          ]
        },
        {
          "output_type": "stream",
          "name": "stdout",
          "text": [
            "\n",
            "Epoch 18/20 Summary\n",
            "  → Segmentation Source Loss (RAW) : 1.0773\n"
          ]
        },
        {
          "output_type": "stream",
          "name": "stderr",
          "text": [
            "\n",
            "Epoch 18 [Validation]: 100%|██████████| 15/15 [00:04<00:00,  3.61it/s, Val_Loss=13.3490, mIoU=0.4865]\n"
          ]
        },
        {
          "output_type": "stream",
          "name": "stdout",
          "text": [
            "Modello con miou migliore salvato: /content/drive/MyDrive/AML_project/checkpoints/best_model_PIDNET_5_DACS_without_4_class_ohem.pth\n",
            "\n",
            "→ Validation Loss: 0.8668\n",
            "→ Overall mIoU: 0.4865\n",
            "  → background IoU: 0.3711\n",
            "  → building IoU: 0.5158\n",
            "  → road IoU: 0.5345\n",
            "  → water IoU: 0.6731\n",
            "  → barren IoU: 0.5202\n",
            "  → forest IoU: 0.4703\n",
            "  → agriculture IoU: 0.3202\n",
            "[0.000329658544839708]\n"
          ]
        },
        {
          "output_type": "stream",
          "name": "stderr",
          "text": [
            "Epoch 19 [Training]: 100%|██████████| 58/58 [00:43<00:00,  1.32it/s, Loss_seg=17.2854]"
          ]
        },
        {
          "output_type": "stream",
          "name": "stdout",
          "text": [
            "\n",
            "Epoch 19/20 Summary\n",
            "  → Segmentation Source Loss (RAW) : 1.0803\n"
          ]
        },
        {
          "output_type": "stream",
          "name": "stderr",
          "text": [
            "\n",
            "Epoch 19 [Validation]: 100%|██████████| 15/15 [00:04<00:00,  3.65it/s, Val_Loss=14.2856, mIoU=0.4883]\n"
          ]
        },
        {
          "output_type": "stream",
          "name": "stdout",
          "text": [
            "Modello con miou migliore salvato: /content/drive/MyDrive/AML_project/checkpoints/best_model_PIDNET_5_DACS_without_4_class_ohem.pth\n",
            "\n",
            "→ Validation Loss: 0.9276\n",
            "→ Overall mIoU: 0.4883\n",
            "  → background IoU: 0.3645\n",
            "  → building IoU: 0.5013\n",
            "  → road IoU: 0.5277\n",
            "  → water IoU: 0.6695\n",
            "  → barren IoU: 0.5234\n",
            "  → forest IoU: 0.5079\n",
            "  → agriculture IoU: 0.3239\n",
            "[0.000329658544839708]\n"
          ]
        },
        {
          "output_type": "stream",
          "name": "stderr",
          "text": [
            "Epoch 20 [Training]: 100%|██████████| 58/58 [00:44<00:00,  1.32it/s, Loss_seg=17.4374]"
          ]
        },
        {
          "output_type": "stream",
          "name": "stdout",
          "text": [
            "\n",
            "Epoch 20/20 Summary\n",
            "  → Segmentation Source Loss (RAW) : 1.0898\n"
          ]
        },
        {
          "output_type": "stream",
          "name": "stderr",
          "text": [
            "\n",
            "Epoch 20 [Validation]: 100%|██████████| 15/15 [00:04<00:00,  3.64it/s, Val_Loss=12.7110, mIoU=0.4744]\n"
          ]
        },
        {
          "output_type": "stream",
          "name": "stdout",
          "text": [
            "\n",
            "→ Validation Loss: 0.8254\n",
            "→ Overall mIoU: 0.4744\n",
            "  → background IoU: 0.3487\n",
            "  → building IoU: 0.5326\n",
            "  → road IoU: 0.5255\n",
            "  → water IoU: 0.6536\n",
            "  → barren IoU: 0.5202\n",
            "  → forest IoU: 0.4801\n",
            "  → agriculture IoU: 0.2604\n",
            "[0.000329658544839708]\n"
          ]
        },
        {
          "output_type": "stream",
          "name": "stderr",
          "text": [
            "Epoch 1 [Training]: 100%|██████████| 58/58 [00:44<00:00,  1.29it/s, Loss_seg=59.1564]"
          ]
        },
        {
          "output_type": "stream",
          "name": "stdout",
          "text": [
            "\n",
            "Epoch 1/20 Summary\n",
            "  → Segmentation Source Loss (RAW) : 3.6973\n"
          ]
        },
        {
          "output_type": "stream",
          "name": "stderr",
          "text": [
            "\n",
            "Epoch 1 [Validation]: 100%|██████████| 15/15 [00:04<00:00,  3.66it/s, Val_Loss=31.0084, mIoU=0.2561]\n"
          ]
        },
        {
          "output_type": "stream",
          "name": "stdout",
          "text": [
            "Modello con miou migliore salvato: /content/drive/MyDrive/AML_project/checkpoints/best_model_PIDNET_5_DACS_without_5_class_ohem.pth\n",
            "\n",
            "→ Validation Loss: 2.0135\n",
            "→ Overall mIoU: 0.2561\n",
            "  → background IoU: 0.0874\n",
            "  → building IoU: 0.3350\n",
            "  → road IoU: 0.2470\n",
            "  → water IoU: 0.3883\n",
            "  → barren IoU: 0.3108\n",
            "  → forest IoU: 0.3191\n",
            "  → agriculture IoU: 0.1051\n",
            "[0.000329658544839708]\n"
          ]
        },
        {
          "output_type": "stream",
          "name": "stderr",
          "text": [
            "Epoch 2 [Training]: 100%|██████████| 58/58 [00:44<00:00,  1.31it/s, Loss_seg=30.0751]"
          ]
        },
        {
          "output_type": "stream",
          "name": "stdout",
          "text": [
            "\n",
            "Epoch 2/20 Summary\n",
            "  → Segmentation Source Loss (RAW) : 1.8797\n"
          ]
        },
        {
          "output_type": "stream",
          "name": "stderr",
          "text": [
            "\n",
            "Epoch 2 [Validation]: 100%|██████████| 15/15 [00:04<00:00,  3.65it/s, Val_Loss=21.0545, mIoU=0.3304]\n"
          ]
        },
        {
          "output_type": "stream",
          "name": "stdout",
          "text": [
            "Modello con miou migliore salvato: /content/drive/MyDrive/AML_project/checkpoints/best_model_PIDNET_5_DACS_without_5_class_ohem.pth\n",
            "\n",
            "→ Validation Loss: 1.3672\n",
            "→ Overall mIoU: 0.3304\n",
            "  → background IoU: 0.2326\n",
            "  → building IoU: 0.3879\n",
            "  → road IoU: 0.3480\n",
            "  → water IoU: 0.4341\n",
            "  → barren IoU: 0.3692\n",
            "  → forest IoU: 0.4037\n",
            "  → agriculture IoU: 0.1368\n",
            "[0.000329658544839708]\n"
          ]
        },
        {
          "output_type": "stream",
          "name": "stderr",
          "text": [
            "Epoch 3 [Training]: 100%|██████████| 58/58 [00:43<00:00,  1.32it/s, Loss_seg=25.7487]"
          ]
        },
        {
          "output_type": "stream",
          "name": "stdout",
          "text": [
            "\n",
            "Epoch 3/20 Summary\n",
            "  → Segmentation Source Loss (RAW) : 1.6093\n"
          ]
        },
        {
          "output_type": "stream",
          "name": "stderr",
          "text": [
            "\n",
            "Epoch 3 [Validation]: 100%|██████████| 15/15 [00:04<00:00,  3.59it/s, Val_Loss=19.5714, mIoU=0.3578]\n"
          ]
        },
        {
          "output_type": "stream",
          "name": "stdout",
          "text": [
            "Modello con miou migliore salvato: /content/drive/MyDrive/AML_project/checkpoints/best_model_PIDNET_5_DACS_without_5_class_ohem.pth\n",
            "\n",
            "→ Validation Loss: 1.2709\n",
            "→ Overall mIoU: 0.3578\n",
            "  → background IoU: 0.2699\n",
            "  → building IoU: 0.3950\n",
            "  → road IoU: 0.3832\n",
            "  → water IoU: 0.5100\n",
            "  → barren IoU: 0.3594\n",
            "  → forest IoU: 0.4185\n",
            "  → agriculture IoU: 0.1687\n",
            "[0.000329658544839708]\n"
          ]
        },
        {
          "output_type": "stream",
          "name": "stderr",
          "text": [
            "Epoch 4 [Training]: 100%|██████████| 58/58 [00:43<00:00,  1.33it/s, Loss_seg=23.4501]"
          ]
        },
        {
          "output_type": "stream",
          "name": "stdout",
          "text": [
            "\n",
            "Epoch 4/20 Summary\n",
            "  → Segmentation Source Loss (RAW) : 1.4656\n"
          ]
        },
        {
          "output_type": "stream",
          "name": "stderr",
          "text": [
            "\n",
            "Epoch 4 [Validation]: 100%|██████████| 15/15 [00:04<00:00,  3.59it/s, Val_Loss=17.3646, mIoU=0.3783]\n"
          ]
        },
        {
          "output_type": "stream",
          "name": "stdout",
          "text": [
            "Modello con miou migliore salvato: /content/drive/MyDrive/AML_project/checkpoints/best_model_PIDNET_5_DACS_without_5_class_ohem.pth\n",
            "\n",
            "→ Validation Loss: 1.1276\n",
            "→ Overall mIoU: 0.3783\n",
            "  → background IoU: 0.2668\n",
            "  → building IoU: 0.4289\n",
            "  → road IoU: 0.4252\n",
            "  → water IoU: 0.5380\n",
            "  → barren IoU: 0.3557\n",
            "  → forest IoU: 0.4311\n",
            "  → agriculture IoU: 0.2021\n",
            "[0.000329658544839708]\n"
          ]
        },
        {
          "output_type": "stream",
          "name": "stderr",
          "text": [
            "Epoch 5 [Training]: 100%|██████████| 58/58 [00:43<00:00,  1.34it/s, Loss_seg=22.0974]"
          ]
        },
        {
          "output_type": "stream",
          "name": "stdout",
          "text": [
            "\n",
            "Epoch 5/20 Summary\n",
            "  → Segmentation Source Loss (RAW) : 1.3811\n"
          ]
        },
        {
          "output_type": "stream",
          "name": "stderr",
          "text": [
            "\n",
            "Epoch 5 [Validation]: 100%|██████████| 15/15 [00:04<00:00,  3.59it/s, Val_Loss=16.4825, mIoU=0.3982]\n"
          ]
        },
        {
          "output_type": "stream",
          "name": "stdout",
          "text": [
            "Modello con miou migliore salvato: /content/drive/MyDrive/AML_project/checkpoints/best_model_PIDNET_5_DACS_without_5_class_ohem.pth\n",
            "\n",
            "→ Validation Loss: 1.0703\n",
            "→ Overall mIoU: 0.3982\n",
            "  → background IoU: 0.2694\n",
            "  → building IoU: 0.4524\n",
            "  → road IoU: 0.4200\n",
            "  → water IoU: 0.5996\n",
            "  → barren IoU: 0.3956\n",
            "  → forest IoU: 0.4597\n",
            "  → agriculture IoU: 0.1904\n",
            "[0.000329658544839708]\n"
          ]
        },
        {
          "output_type": "stream",
          "name": "stderr",
          "text": [
            "Epoch 6 [Training]: 100%|██████████| 58/58 [00:43<00:00,  1.32it/s, Loss_seg=21.1935]"
          ]
        },
        {
          "output_type": "stream",
          "name": "stdout",
          "text": [
            "\n",
            "Epoch 6/20 Summary\n",
            "  → Segmentation Source Loss (RAW) : 1.3246\n"
          ]
        },
        {
          "output_type": "stream",
          "name": "stderr",
          "text": [
            "\n",
            "Epoch 6 [Validation]: 100%|██████████| 15/15 [00:04<00:00,  3.57it/s, Val_Loss=17.0488, mIoU=0.3851]"
          ]
        },
        {
          "output_type": "stream",
          "name": "stdout",
          "text": [
            "\n",
            "→ Validation Loss: 1.1071\n",
            "→ Overall mIoU: 0.3851\n",
            "  → background IoU: 0.2174\n",
            "  → building IoU: 0.4465\n",
            "  → road IoU: 0.4344\n",
            "  → water IoU: 0.5658\n",
            "  → barren IoU: 0.3828\n",
            "  → forest IoU: 0.4668\n",
            "  → agriculture IoU: 0.1821\n",
            "[0.000329658544839708]\n"
          ]
        },
        {
          "output_type": "stream",
          "name": "stderr",
          "text": [
            "\n",
            "Epoch 7 [Training]: 100%|██████████| 58/58 [00:43<00:00,  1.33it/s, Loss_seg=20.5986]"
          ]
        },
        {
          "output_type": "stream",
          "name": "stdout",
          "text": [
            "\n",
            "Epoch 7/20 Summary\n",
            "  → Segmentation Source Loss (RAW) : 1.2874\n"
          ]
        },
        {
          "output_type": "stream",
          "name": "stderr",
          "text": [
            "\n",
            "Epoch 7 [Validation]: 100%|██████████| 15/15 [00:04<00:00,  3.61it/s, Val_Loss=16.4489, mIoU=0.4111]\n"
          ]
        },
        {
          "output_type": "stream",
          "name": "stdout",
          "text": [
            "Modello con miou migliore salvato: /content/drive/MyDrive/AML_project/checkpoints/best_model_PIDNET_5_DACS_without_5_class_ohem.pth\n",
            "\n",
            "→ Validation Loss: 1.0681\n",
            "→ Overall mIoU: 0.4111\n",
            "  → background IoU: 0.2597\n",
            "  → building IoU: 0.4672\n",
            "  → road IoU: 0.4559\n",
            "  → water IoU: 0.5789\n",
            "  → barren IoU: 0.3918\n",
            "  → forest IoU: 0.4656\n",
            "  → agriculture IoU: 0.2589\n",
            "[0.000329658544839708]\n"
          ]
        },
        {
          "output_type": "stream",
          "name": "stderr",
          "text": [
            "Epoch 8 [Training]: 100%|██████████| 58/58 [00:43<00:00,  1.34it/s, Loss_seg=20.1362]"
          ]
        },
        {
          "output_type": "stream",
          "name": "stdout",
          "text": [
            "\n",
            "Epoch 8/20 Summary\n",
            "  → Segmentation Source Loss (RAW) : 1.2585\n"
          ]
        },
        {
          "output_type": "stream",
          "name": "stderr",
          "text": [
            "\n",
            "Epoch 8 [Validation]: 100%|██████████| 15/15 [00:04<00:00,  3.65it/s, Val_Loss=15.4932, mIoU=0.4212]\n"
          ]
        },
        {
          "output_type": "stream",
          "name": "stdout",
          "text": [
            "Modello con miou migliore salvato: /content/drive/MyDrive/AML_project/checkpoints/best_model_PIDNET_5_DACS_without_5_class_ohem.pth\n",
            "\n",
            "→ Validation Loss: 1.0061\n",
            "→ Overall mIoU: 0.4212\n",
            "  → background IoU: 0.3095\n",
            "  → building IoU: 0.4758\n",
            "  → road IoU: 0.4750\n",
            "  → water IoU: 0.5947\n",
            "  → barren IoU: 0.4034\n",
            "  → forest IoU: 0.4715\n",
            "  → agriculture IoU: 0.2188\n",
            "[0.000329658544839708]\n"
          ]
        },
        {
          "output_type": "stream",
          "name": "stderr",
          "text": [
            "Epoch 9 [Training]: 100%|██████████| 58/58 [00:43<00:00,  1.33it/s, Loss_seg=19.3827]"
          ]
        },
        {
          "output_type": "stream",
          "name": "stdout",
          "text": [
            "\n",
            "Epoch 9/20 Summary\n",
            "  → Segmentation Source Loss (RAW) : 1.2114\n"
          ]
        },
        {
          "output_type": "stream",
          "name": "stderr",
          "text": [
            "\n",
            "Epoch 9 [Validation]: 100%|██████████| 15/15 [00:04<00:00,  3.60it/s, Val_Loss=15.6393, mIoU=0.4210]"
          ]
        },
        {
          "output_type": "stream",
          "name": "stdout",
          "text": [
            "\n",
            "→ Validation Loss: 1.0155\n",
            "→ Overall mIoU: 0.4210\n",
            "  → background IoU: 0.2635\n",
            "  → building IoU: 0.4722\n",
            "  → road IoU: 0.4900\n",
            "  → water IoU: 0.6454\n",
            "  → barren IoU: 0.3827\n",
            "  → forest IoU: 0.4593\n",
            "  → agriculture IoU: 0.2339\n",
            "[0.000329658544839708]\n"
          ]
        },
        {
          "output_type": "stream",
          "name": "stderr",
          "text": [
            "\n",
            "Epoch 10 [Training]: 100%|██████████| 58/58 [00:43<00:00,  1.35it/s, Loss_seg=18.9646]"
          ]
        },
        {
          "output_type": "stream",
          "name": "stdout",
          "text": [
            "\n",
            "Epoch 10/20 Summary\n",
            "  → Segmentation Source Loss (RAW) : 1.1853\n"
          ]
        },
        {
          "output_type": "stream",
          "name": "stderr",
          "text": [
            "\n",
            "Epoch 10 [Validation]: 100%|██████████| 15/15 [00:04<00:00,  3.62it/s, Val_Loss=16.2197, mIoU=0.4241]\n"
          ]
        },
        {
          "output_type": "stream",
          "name": "stdout",
          "text": [
            "Modello con miou migliore salvato: /content/drive/MyDrive/AML_project/checkpoints/best_model_PIDNET_5_DACS_without_5_class_ohem.pth\n",
            "\n",
            "→ Validation Loss: 1.0532\n",
            "→ Overall mIoU: 0.4241\n",
            "  → background IoU: 0.2941\n",
            "  → building IoU: 0.4866\n",
            "  → road IoU: 0.4825\n",
            "  → water IoU: 0.6163\n",
            "  → barren IoU: 0.4001\n",
            "  → forest IoU: 0.4800\n",
            "  → agriculture IoU: 0.2093\n",
            "[0.000329658544839708]\n"
          ]
        },
        {
          "output_type": "stream",
          "name": "stderr",
          "text": [
            "Epoch 11 [Training]: 100%|██████████| 58/58 [00:43<00:00,  1.34it/s, Loss_seg=19.0485]"
          ]
        },
        {
          "output_type": "stream",
          "name": "stdout",
          "text": [
            "\n",
            "Epoch 11/20 Summary\n",
            "  → Segmentation Source Loss (RAW) : 1.1905\n"
          ]
        },
        {
          "output_type": "stream",
          "name": "stderr",
          "text": [
            "\n",
            "Epoch 11 [Validation]: 100%|██████████| 15/15 [00:04<00:00,  3.61it/s, Val_Loss=14.9921, mIoU=0.4267]\n"
          ]
        },
        {
          "output_type": "stream",
          "name": "stdout",
          "text": [
            "Modello con miou migliore salvato: /content/drive/MyDrive/AML_project/checkpoints/best_model_PIDNET_5_DACS_without_5_class_ohem.pth\n",
            "\n",
            "→ Validation Loss: 0.9735\n",
            "→ Overall mIoU: 0.4267\n",
            "  → background IoU: 0.2985\n",
            "  → building IoU: 0.4935\n",
            "  → road IoU: 0.5042\n",
            "  → water IoU: 0.6320\n",
            "  → barren IoU: 0.3996\n",
            "  → forest IoU: 0.4740\n",
            "  → agriculture IoU: 0.1854\n",
            "[0.000329658544839708]\n"
          ]
        },
        {
          "output_type": "stream",
          "name": "stderr",
          "text": [
            "Epoch 12 [Training]: 100%|██████████| 58/58 [00:43<00:00,  1.33it/s, Loss_seg=18.4214]"
          ]
        },
        {
          "output_type": "stream",
          "name": "stdout",
          "text": [
            "\n",
            "Epoch 12/20 Summary\n",
            "  → Segmentation Source Loss (RAW) : 1.1513\n"
          ]
        },
        {
          "output_type": "stream",
          "name": "stderr",
          "text": [
            "\n",
            "Epoch 12 [Validation]: 100%|██████████| 15/15 [00:04<00:00,  3.61it/s, Val_Loss=15.1177, mIoU=0.4370]\n"
          ]
        },
        {
          "output_type": "stream",
          "name": "stdout",
          "text": [
            "Modello con miou migliore salvato: /content/drive/MyDrive/AML_project/checkpoints/best_model_PIDNET_5_DACS_without_5_class_ohem.pth\n",
            "\n",
            "→ Validation Loss: 0.9817\n",
            "→ Overall mIoU: 0.4370\n",
            "  → background IoU: 0.3336\n",
            "  → building IoU: 0.4981\n",
            "  → road IoU: 0.5061\n",
            "  → water IoU: 0.6500\n",
            "  → barren IoU: 0.4135\n",
            "  → forest IoU: 0.4695\n",
            "  → agriculture IoU: 0.1880\n",
            "[0.000329658544839708]\n"
          ]
        },
        {
          "output_type": "stream",
          "name": "stderr",
          "text": [
            "Epoch 13 [Training]: 100%|██████████| 58/58 [00:43<00:00,  1.34it/s, Loss_seg=18.3545]"
          ]
        },
        {
          "output_type": "stream",
          "name": "stdout",
          "text": [
            "\n",
            "Epoch 13/20 Summary\n",
            "  → Segmentation Source Loss (RAW) : 1.1472\n"
          ]
        },
        {
          "output_type": "stream",
          "name": "stderr",
          "text": [
            "\n",
            "Epoch 13 [Validation]: 100%|██████████| 15/15 [00:04<00:00,  3.57it/s, Val_Loss=16.9429, mIoU=0.4055]"
          ]
        },
        {
          "output_type": "stream",
          "name": "stdout",
          "text": [
            "\n",
            "→ Validation Loss: 1.1002\n",
            "→ Overall mIoU: 0.4055\n",
            "  → background IoU: 0.3033\n",
            "  → building IoU: 0.4965\n",
            "  → road IoU: 0.4944\n",
            "  → water IoU: 0.5465\n",
            "  → barren IoU: 0.4000\n",
            "  → forest IoU: 0.4583\n",
            "  → agriculture IoU: 0.1396\n",
            "[0.000329658544839708]\n"
          ]
        },
        {
          "output_type": "stream",
          "name": "stderr",
          "text": [
            "\n",
            "Epoch 14 [Training]: 100%|██████████| 58/58 [00:43<00:00,  1.33it/s, Loss_seg=18.1629]"
          ]
        },
        {
          "output_type": "stream",
          "name": "stdout",
          "text": [
            "\n",
            "Epoch 14/20 Summary\n",
            "  → Segmentation Source Loss (RAW) : 1.1352\n"
          ]
        },
        {
          "output_type": "stream",
          "name": "stderr",
          "text": [
            "\n",
            "Epoch 14 [Validation]: 100%|██████████| 15/15 [00:04<00:00,  3.59it/s, Val_Loss=14.7660, mIoU=0.4395]\n"
          ]
        },
        {
          "output_type": "stream",
          "name": "stdout",
          "text": [
            "Modello con miou migliore salvato: /content/drive/MyDrive/AML_project/checkpoints/best_model_PIDNET_5_DACS_without_5_class_ohem.pth\n",
            "\n",
            "→ Validation Loss: 0.9588\n",
            "→ Overall mIoU: 0.4395\n",
            "  → background IoU: 0.3386\n",
            "  → building IoU: 0.5067\n",
            "  → road IoU: 0.5392\n",
            "  → water IoU: 0.6541\n",
            "  → barren IoU: 0.3962\n",
            "  → forest IoU: 0.4752\n",
            "  → agriculture IoU: 0.1669\n",
            "[0.000329658544839708]\n"
          ]
        },
        {
          "output_type": "stream",
          "name": "stderr",
          "text": [
            "Epoch 15 [Training]: 100%|██████████| 58/58 [00:43<00:00,  1.33it/s, Loss_seg=18.1377]"
          ]
        },
        {
          "output_type": "stream",
          "name": "stdout",
          "text": [
            "\n",
            "Epoch 15/20 Summary\n",
            "  → Segmentation Source Loss (RAW) : 1.1336\n"
          ]
        },
        {
          "output_type": "stream",
          "name": "stderr",
          "text": [
            "\n",
            "Epoch 15 [Validation]: 100%|██████████| 15/15 [00:04<00:00,  3.65it/s, Val_Loss=15.4522, mIoU=0.4586]\n"
          ]
        },
        {
          "output_type": "stream",
          "name": "stdout",
          "text": [
            "Modello con miou migliore salvato: /content/drive/MyDrive/AML_project/checkpoints/best_model_PIDNET_5_DACS_without_5_class_ohem.pth\n",
            "\n",
            "→ Validation Loss: 1.0034\n",
            "→ Overall mIoU: 0.4586\n",
            "  → background IoU: 0.3531\n",
            "  → building IoU: 0.4974\n",
            "  → road IoU: 0.5275\n",
            "  → water IoU: 0.6620\n",
            "  → barren IoU: 0.4055\n",
            "  → forest IoU: 0.4829\n",
            "  → agriculture IoU: 0.2820\n",
            "[0.000329658544839708]\n"
          ]
        },
        {
          "output_type": "stream",
          "name": "stderr",
          "text": [
            "Epoch 16 [Training]: 100%|██████████| 58/58 [00:43<00:00,  1.32it/s, Loss_seg=18.1066]"
          ]
        },
        {
          "output_type": "stream",
          "name": "stdout",
          "text": [
            "\n",
            "Epoch 16/20 Summary\n",
            "  → Segmentation Source Loss (RAW) : 1.1317\n"
          ]
        },
        {
          "output_type": "stream",
          "name": "stderr",
          "text": [
            "\n",
            "Epoch 16 [Validation]: 100%|██████████| 15/15 [00:04<00:00,  3.62it/s, Val_Loss=15.1950, mIoU=0.4446]"
          ]
        },
        {
          "output_type": "stream",
          "name": "stdout",
          "text": [
            "\n",
            "→ Validation Loss: 0.9867\n",
            "→ Overall mIoU: 0.4446\n",
            "  → background IoU: 0.3275\n",
            "  → building IoU: 0.5007\n",
            "  → road IoU: 0.5188\n",
            "  → water IoU: 0.6368\n",
            "  → barren IoU: 0.4140\n",
            "  → forest IoU: 0.4935\n",
            "  → agriculture IoU: 0.2208\n",
            "[0.000329658544839708]\n"
          ]
        },
        {
          "output_type": "stream",
          "name": "stderr",
          "text": [
            "\n",
            "Epoch 17 [Training]: 100%|██████████| 58/58 [00:43<00:00,  1.33it/s, Loss_seg=17.7684]"
          ]
        },
        {
          "output_type": "stream",
          "name": "stdout",
          "text": [
            "\n",
            "Epoch 17/20 Summary\n",
            "  → Segmentation Source Loss (RAW) : 1.1105\n"
          ]
        },
        {
          "output_type": "stream",
          "name": "stderr",
          "text": [
            "\n",
            "Epoch 17 [Validation]: 100%|██████████| 15/15 [00:04<00:00,  3.62it/s, Val_Loss=15.1610, mIoU=0.4314]\n"
          ]
        },
        {
          "output_type": "stream",
          "name": "stdout",
          "text": [
            "\n",
            "→ Validation Loss: 0.9845\n",
            "→ Overall mIoU: 0.4314\n",
            "  → background IoU: 0.2728\n",
            "  → building IoU: 0.4951\n",
            "  → road IoU: 0.5346\n",
            "  → water IoU: 0.6282\n",
            "  → barren IoU: 0.4167\n",
            "  → forest IoU: 0.4931\n",
            "  → agriculture IoU: 0.1796\n",
            "[0.000329658544839708]\n"
          ]
        },
        {
          "output_type": "stream",
          "name": "stderr",
          "text": [
            "Epoch 18 [Training]: 100%|██████████| 58/58 [00:43<00:00,  1.33it/s, Loss_seg=17.1966]"
          ]
        },
        {
          "output_type": "stream",
          "name": "stdout",
          "text": [
            "\n",
            "Epoch 18/20 Summary\n",
            "  → Segmentation Source Loss (RAW) : 1.0748\n"
          ]
        },
        {
          "output_type": "stream",
          "name": "stderr",
          "text": [
            "\n",
            "Epoch 18 [Validation]: 100%|██████████| 15/15 [00:04<00:00,  3.61it/s, Val_Loss=14.7169, mIoU=0.4490]"
          ]
        },
        {
          "output_type": "stream",
          "name": "stdout",
          "text": [
            "\n",
            "→ Validation Loss: 0.9556\n",
            "→ Overall mIoU: 0.4490\n",
            "  → background IoU: 0.2743\n",
            "  → building IoU: 0.4952\n",
            "  → road IoU: 0.5379\n",
            "  → water IoU: 0.6845\n",
            "  → barren IoU: 0.4121\n",
            "  → forest IoU: 0.4803\n",
            "  → agriculture IoU: 0.2587\n",
            "[0.000329658544839708]\n"
          ]
        },
        {
          "output_type": "stream",
          "name": "stderr",
          "text": [
            "\n",
            "Epoch 19 [Training]: 100%|██████████| 58/58 [00:43<00:00,  1.33it/s, Loss_seg=17.2345]"
          ]
        },
        {
          "output_type": "stream",
          "name": "stdout",
          "text": [
            "\n",
            "Epoch 19/20 Summary\n",
            "  → Segmentation Source Loss (RAW) : 1.0772\n"
          ]
        },
        {
          "output_type": "stream",
          "name": "stderr",
          "text": [
            "\n",
            "Epoch 19 [Validation]: 100%|██████████| 15/15 [00:04<00:00,  3.60it/s, Val_Loss=14.6769, mIoU=0.4641]\n"
          ]
        },
        {
          "output_type": "stream",
          "name": "stdout",
          "text": [
            "Modello con miou migliore salvato: /content/drive/MyDrive/AML_project/checkpoints/best_model_PIDNET_5_DACS_without_5_class_ohem.pth\n",
            "\n",
            "→ Validation Loss: 0.9530\n",
            "→ Overall mIoU: 0.4641\n",
            "  → background IoU: 0.3282\n",
            "  → building IoU: 0.5001\n",
            "  → road IoU: 0.5310\n",
            "  → water IoU: 0.6871\n",
            "  → barren IoU: 0.4309\n",
            "  → forest IoU: 0.4721\n",
            "  → agriculture IoU: 0.2991\n",
            "[0.000329658544839708]\n"
          ]
        },
        {
          "output_type": "stream",
          "name": "stderr",
          "text": [
            "Epoch 20 [Training]: 100%|██████████| 58/58 [00:44<00:00,  1.31it/s, Loss_seg=17.2445]"
          ]
        },
        {
          "output_type": "stream",
          "name": "stdout",
          "text": [
            "\n",
            "Epoch 20/20 Summary\n",
            "  → Segmentation Source Loss (RAW) : 1.0778\n"
          ]
        },
        {
          "output_type": "stream",
          "name": "stderr",
          "text": [
            "\n",
            "Epoch 20 [Validation]: 100%|██████████| 15/15 [00:04<00:00,  3.60it/s, Val_Loss=15.1147, mIoU=0.4514]\n"
          ]
        },
        {
          "output_type": "stream",
          "name": "stdout",
          "text": [
            "\n",
            "→ Validation Loss: 0.9815\n",
            "→ Overall mIoU: 0.4514\n",
            "  → background IoU: 0.3649\n",
            "  → building IoU: 0.5190\n",
            "  → road IoU: 0.5355\n",
            "  → water IoU: 0.6276\n",
            "  → barren IoU: 0.4283\n",
            "  → forest IoU: 0.4865\n",
            "  → agriculture IoU: 0.1978\n",
            "[0.000329658544839708]\n"
          ]
        },
        {
          "output_type": "stream",
          "name": "stderr",
          "text": [
            "Epoch 1 [Training]: 100%|██████████| 58/58 [00:43<00:00,  1.34it/s, Loss_seg=56.4820]"
          ]
        },
        {
          "output_type": "stream",
          "name": "stdout",
          "text": [
            "\n",
            "Epoch 1/20 Summary\n",
            "  → Segmentation Source Loss (RAW) : 3.5301\n"
          ]
        },
        {
          "output_type": "stream",
          "name": "stderr",
          "text": [
            "\n",
            "Epoch 1 [Validation]: 100%|██████████| 15/15 [00:04<00:00,  3.61it/s, Val_Loss=30.0679, mIoU=0.2571]\n"
          ]
        },
        {
          "output_type": "stream",
          "name": "stdout",
          "text": [
            "Modello con miou migliore salvato: /content/drive/MyDrive/AML_project/checkpoints/best_model_PIDNET_5_DACS_without_6_class_ohem.pth\n",
            "\n",
            "→ Validation Loss: 1.9525\n",
            "→ Overall mIoU: 0.2571\n",
            "  → background IoU: 0.1332\n",
            "  → building IoU: 0.3243\n",
            "  → road IoU: 0.2757\n",
            "  → water IoU: 0.3433\n",
            "  → barren IoU: 0.3214\n",
            "  → forest IoU: 0.2467\n",
            "  → agriculture IoU: 0.1551\n",
            "[0.000329658544839708]\n"
          ]
        },
        {
          "output_type": "stream",
          "name": "stderr",
          "text": [
            "Epoch 2 [Training]: 100%|██████████| 58/58 [00:43<00:00,  1.33it/s, Loss_seg=29.6149]"
          ]
        },
        {
          "output_type": "stream",
          "name": "stdout",
          "text": [
            "\n",
            "Epoch 2/20 Summary\n",
            "  → Segmentation Source Loss (RAW) : 1.8509\n"
          ]
        },
        {
          "output_type": "stream",
          "name": "stderr",
          "text": [
            "\n",
            "Epoch 2 [Validation]: 100%|██████████| 15/15 [00:04<00:00,  3.61it/s, Val_Loss=21.6415, mIoU=0.3281]\n"
          ]
        },
        {
          "output_type": "stream",
          "name": "stdout",
          "text": [
            "Modello con miou migliore salvato: /content/drive/MyDrive/AML_project/checkpoints/best_model_PIDNET_5_DACS_without_6_class_ohem.pth\n",
            "\n",
            "→ Validation Loss: 1.4053\n",
            "→ Overall mIoU: 0.3281\n",
            "  → background IoU: 0.2208\n",
            "  → building IoU: 0.3673\n",
            "  → road IoU: 0.3480\n",
            "  → water IoU: 0.4640\n",
            "  → barren IoU: 0.3589\n",
            "  → forest IoU: 0.3409\n",
            "  → agriculture IoU: 0.1970\n",
            "[0.000329658544839708]\n"
          ]
        },
        {
          "output_type": "stream",
          "name": "stderr",
          "text": [
            "Epoch 3 [Training]: 100%|██████████| 58/58 [00:43<00:00,  1.33it/s, Loss_seg=25.5836]"
          ]
        },
        {
          "output_type": "stream",
          "name": "stdout",
          "text": [
            "\n",
            "Epoch 3/20 Summary\n",
            "  → Segmentation Source Loss (RAW) : 1.5990\n"
          ]
        },
        {
          "output_type": "stream",
          "name": "stderr",
          "text": [
            "\n",
            "Epoch 3 [Validation]: 100%|██████████| 15/15 [00:04<00:00,  3.64it/s, Val_Loss=23.4908, mIoU=0.3479]\n"
          ]
        },
        {
          "output_type": "stream",
          "name": "stdout",
          "text": [
            "Modello con miou migliore salvato: /content/drive/MyDrive/AML_project/checkpoints/best_model_PIDNET_5_DACS_without_6_class_ohem.pth\n",
            "\n",
            "→ Validation Loss: 1.5254\n",
            "→ Overall mIoU: 0.3479\n",
            "  → background IoU: 0.1504\n",
            "  → building IoU: 0.3962\n",
            "  → road IoU: 0.3837\n",
            "  → water IoU: 0.4735\n",
            "  → barren IoU: 0.3839\n",
            "  → forest IoU: 0.3673\n",
            "  → agriculture IoU: 0.2804\n",
            "[0.000329658544839708]\n"
          ]
        },
        {
          "output_type": "stream",
          "name": "stderr",
          "text": [
            "Epoch 4 [Training]: 100%|██████████| 58/58 [00:43<00:00,  1.33it/s, Loss_seg=23.4196]"
          ]
        },
        {
          "output_type": "stream",
          "name": "stdout",
          "text": [
            "\n",
            "Epoch 4/20 Summary\n",
            "  → Segmentation Source Loss (RAW) : 1.4637\n"
          ]
        },
        {
          "output_type": "stream",
          "name": "stderr",
          "text": [
            "\n",
            "Epoch 4 [Validation]: 100%|██████████| 15/15 [00:04<00:00,  3.65it/s, Val_Loss=18.5680, mIoU=0.3699]\n"
          ]
        },
        {
          "output_type": "stream",
          "name": "stdout",
          "text": [
            "Modello con miou migliore salvato: /content/drive/MyDrive/AML_project/checkpoints/best_model_PIDNET_5_DACS_without_6_class_ohem.pth\n",
            "\n",
            "→ Validation Loss: 1.2057\n",
            "→ Overall mIoU: 0.3699\n",
            "  → background IoU: 0.2284\n",
            "  → building IoU: 0.4241\n",
            "  → road IoU: 0.3650\n",
            "  → water IoU: 0.5407\n",
            "  → barren IoU: 0.3920\n",
            "  → forest IoU: 0.4030\n",
            "  → agriculture IoU: 0.2361\n",
            "[0.000329658544839708]\n"
          ]
        },
        {
          "output_type": "stream",
          "name": "stderr",
          "text": [
            "Epoch 5 [Training]: 100%|██████████| 58/58 [00:43<00:00,  1.33it/s, Loss_seg=22.4407]"
          ]
        },
        {
          "output_type": "stream",
          "name": "stdout",
          "text": [
            "\n",
            "Epoch 5/20 Summary\n",
            "  → Segmentation Source Loss (RAW) : 1.4025\n"
          ]
        },
        {
          "output_type": "stream",
          "name": "stderr",
          "text": [
            "\n",
            "Epoch 5 [Validation]: 100%|██████████| 15/15 [00:04<00:00,  3.61it/s, Val_Loss=20.3543, mIoU=0.3684]"
          ]
        },
        {
          "output_type": "stream",
          "name": "stdout",
          "text": [
            "\n",
            "→ Validation Loss: 1.3217\n",
            "→ Overall mIoU: 0.3684\n",
            "  → background IoU: 0.2137\n",
            "  → building IoU: 0.4281\n",
            "  → road IoU: 0.4171\n",
            "  → water IoU: 0.4041\n",
            "  → barren IoU: 0.3838\n",
            "  → forest IoU: 0.4259\n",
            "  → agriculture IoU: 0.3060\n",
            "[0.000329658544839708]\n"
          ]
        },
        {
          "output_type": "stream",
          "name": "stderr",
          "text": [
            "\n",
            "Epoch 6 [Training]: 100%|██████████| 58/58 [00:43<00:00,  1.33it/s, Loss_seg=21.3823]"
          ]
        },
        {
          "output_type": "stream",
          "name": "stdout",
          "text": [
            "\n",
            "Epoch 6/20 Summary\n",
            "  → Segmentation Source Loss (RAW) : 1.3364\n"
          ]
        },
        {
          "output_type": "stream",
          "name": "stderr",
          "text": [
            "\n",
            "Epoch 6 [Validation]: 100%|██████████| 15/15 [00:04<00:00,  3.61it/s, Val_Loss=17.6739, mIoU=0.4213]\n"
          ]
        },
        {
          "output_type": "stream",
          "name": "stdout",
          "text": [
            "Modello con miou migliore salvato: /content/drive/MyDrive/AML_project/checkpoints/best_model_PIDNET_5_DACS_without_6_class_ohem.pth\n",
            "\n",
            "→ Validation Loss: 1.1477\n",
            "→ Overall mIoU: 0.4213\n",
            "  → background IoU: 0.2495\n",
            "  → building IoU: 0.4480\n",
            "  → road IoU: 0.4412\n",
            "  → water IoU: 0.6100\n",
            "  → barren IoU: 0.3994\n",
            "  → forest IoU: 0.4511\n",
            "  → agriculture IoU: 0.3496\n",
            "[0.000329658544839708]\n"
          ]
        },
        {
          "output_type": "stream",
          "name": "stderr",
          "text": [
            "Epoch 7 [Training]: 100%|██████████| 58/58 [00:43<00:00,  1.33it/s, Loss_seg=20.3325]"
          ]
        },
        {
          "output_type": "stream",
          "name": "stdout",
          "text": [
            "\n",
            "Epoch 7/20 Summary\n",
            "  → Segmentation Source Loss (RAW) : 1.2708\n"
          ]
        },
        {
          "output_type": "stream",
          "name": "stderr",
          "text": [
            "\n",
            "Epoch 7 [Validation]: 100%|██████████| 15/15 [00:04<00:00,  3.59it/s, Val_Loss=15.4514, mIoU=0.4344]\n"
          ]
        },
        {
          "output_type": "stream",
          "name": "stdout",
          "text": [
            "Modello con miou migliore salvato: /content/drive/MyDrive/AML_project/checkpoints/best_model_PIDNET_5_DACS_without_6_class_ohem.pth\n",
            "\n",
            "→ Validation Loss: 1.0033\n",
            "→ Overall mIoU: 0.4344\n",
            "  → background IoU: 0.2450\n",
            "  → building IoU: 0.4710\n",
            "  → road IoU: 0.4570\n",
            "  → water IoU: 0.6405\n",
            "  → barren IoU: 0.3837\n",
            "  → forest IoU: 0.4471\n",
            "  → agriculture IoU: 0.3966\n",
            "[0.000329658544839708]\n"
          ]
        },
        {
          "output_type": "stream",
          "name": "stderr",
          "text": [
            "Epoch 8 [Training]: 100%|██████████| 58/58 [00:43<00:00,  1.33it/s, Loss_seg=19.5197]"
          ]
        },
        {
          "output_type": "stream",
          "name": "stdout",
          "text": [
            "\n",
            "Epoch 8/20 Summary\n",
            "  → Segmentation Source Loss (RAW) : 1.2200\n"
          ]
        },
        {
          "output_type": "stream",
          "name": "stderr",
          "text": [
            "\n",
            "Epoch 8 [Validation]: 100%|██████████| 15/15 [00:04<00:00,  3.59it/s, Val_Loss=24.7993, mIoU=0.4110]"
          ]
        },
        {
          "output_type": "stream",
          "name": "stdout",
          "text": [
            "\n",
            "→ Validation Loss: 1.6103\n",
            "→ Overall mIoU: 0.4110\n",
            "  → background IoU: 0.2433\n",
            "  → building IoU: 0.4589\n",
            "  → road IoU: 0.4655\n",
            "  → water IoU: 0.4699\n",
            "  → barren IoU: 0.3912\n",
            "  → forest IoU: 0.4437\n",
            "  → agriculture IoU: 0.4044\n",
            "[0.000329658544839708]\n"
          ]
        },
        {
          "output_type": "stream",
          "name": "stderr",
          "text": [
            "\n",
            "Epoch 9 [Training]: 100%|██████████| 58/58 [00:44<00:00,  1.32it/s, Loss_seg=18.9269]"
          ]
        },
        {
          "output_type": "stream",
          "name": "stdout",
          "text": [
            "\n",
            "Epoch 9/20 Summary\n",
            "  → Segmentation Source Loss (RAW) : 1.1829\n"
          ]
        },
        {
          "output_type": "stream",
          "name": "stderr",
          "text": [
            "\n",
            "Epoch 9 [Validation]: 100%|██████████| 15/15 [00:04<00:00,  3.61it/s, Val_Loss=16.3600, mIoU=0.4488]\n"
          ]
        },
        {
          "output_type": "stream",
          "name": "stdout",
          "text": [
            "Modello con miou migliore salvato: /content/drive/MyDrive/AML_project/checkpoints/best_model_PIDNET_5_DACS_without_6_class_ohem.pth\n",
            "\n",
            "→ Validation Loss: 1.0623\n",
            "→ Overall mIoU: 0.4488\n",
            "  → background IoU: 0.3060\n",
            "  → building IoU: 0.4769\n",
            "  → road IoU: 0.4705\n",
            "  → water IoU: 0.6180\n",
            "  → barren IoU: 0.4259\n",
            "  → forest IoU: 0.4694\n",
            "  → agriculture IoU: 0.3749\n",
            "[0.000329658544839708]\n"
          ]
        },
        {
          "output_type": "stream",
          "name": "stderr",
          "text": [
            "Epoch 10 [Training]: 100%|██████████| 58/58 [00:43<00:00,  1.33it/s, Loss_seg=18.2968]"
          ]
        },
        {
          "output_type": "stream",
          "name": "stdout",
          "text": [
            "\n",
            "Epoch 10/20 Summary\n",
            "  → Segmentation Source Loss (RAW) : 1.1436\n"
          ]
        },
        {
          "output_type": "stream",
          "name": "stderr",
          "text": [
            "\n",
            "Epoch 10 [Validation]: 100%|██████████| 15/15 [00:04<00:00,  3.61it/s, Val_Loss=15.2117, mIoU=0.4615]\n"
          ]
        },
        {
          "output_type": "stream",
          "name": "stdout",
          "text": [
            "Modello con miou migliore salvato: /content/drive/MyDrive/AML_project/checkpoints/best_model_PIDNET_5_DACS_without_6_class_ohem.pth\n",
            "\n",
            "→ Validation Loss: 0.9878\n",
            "→ Overall mIoU: 0.4615\n",
            "  → background IoU: 0.2929\n",
            "  → building IoU: 0.4943\n",
            "  → road IoU: 0.4850\n",
            "  → water IoU: 0.6442\n",
            "  → barren IoU: 0.4181\n",
            "  → forest IoU: 0.4469\n",
            "  → agriculture IoU: 0.4493\n",
            "[0.000329658544839708]\n"
          ]
        },
        {
          "output_type": "stream",
          "name": "stderr",
          "text": [
            "Epoch 11 [Training]: 100%|██████████| 58/58 [00:44<00:00,  1.32it/s, Loss_seg=18.1000]"
          ]
        },
        {
          "output_type": "stream",
          "name": "stdout",
          "text": [
            "\n",
            "Epoch 11/20 Summary\n",
            "  → Segmentation Source Loss (RAW) : 1.1313\n"
          ]
        },
        {
          "output_type": "stream",
          "name": "stderr",
          "text": [
            "\n",
            "Epoch 11 [Validation]: 100%|██████████| 15/15 [00:04<00:00,  3.59it/s, Val_Loss=16.4128, mIoU=0.4611]"
          ]
        },
        {
          "output_type": "stream",
          "name": "stdout",
          "text": [
            "\n",
            "→ Validation Loss: 1.0658\n",
            "→ Overall mIoU: 0.4611\n",
            "  → background IoU: 0.3097\n",
            "  → building IoU: 0.4875\n",
            "  → road IoU: 0.4880\n",
            "  → water IoU: 0.6629\n",
            "  → barren IoU: 0.3976\n",
            "  → forest IoU: 0.4506\n",
            "  → agriculture IoU: 0.4314\n",
            "[0.000329658544839708]\n"
          ]
        },
        {
          "output_type": "stream",
          "name": "stderr",
          "text": [
            "\n",
            "Epoch 12 [Training]: 100%|██████████| 58/58 [00:43<00:00,  1.33it/s, Loss_seg=17.6395]"
          ]
        },
        {
          "output_type": "stream",
          "name": "stdout",
          "text": [
            "\n",
            "Epoch 12/20 Summary\n",
            "  → Segmentation Source Loss (RAW) : 1.1025\n"
          ]
        },
        {
          "output_type": "stream",
          "name": "stderr",
          "text": [
            "\n",
            "Epoch 12 [Validation]: 100%|██████████| 15/15 [00:04<00:00,  3.64it/s, Val_Loss=14.4713, mIoU=0.4716]\n"
          ]
        },
        {
          "output_type": "stream",
          "name": "stdout",
          "text": [
            "Modello con miou migliore salvato: /content/drive/MyDrive/AML_project/checkpoints/best_model_PIDNET_5_DACS_without_6_class_ohem.pth\n",
            "\n",
            "→ Validation Loss: 0.9397\n",
            "→ Overall mIoU: 0.4716\n",
            "  → background IoU: 0.3040\n",
            "  → building IoU: 0.5005\n",
            "  → road IoU: 0.4804\n",
            "  → water IoU: 0.6717\n",
            "  → barren IoU: 0.4135\n",
            "  → forest IoU: 0.4749\n",
            "  → agriculture IoU: 0.4564\n",
            "[0.000329658544839708]\n"
          ]
        },
        {
          "output_type": "stream",
          "name": "stderr",
          "text": [
            "Epoch 13 [Training]: 100%|██████████| 58/58 [00:43<00:00,  1.32it/s, Loss_seg=17.8334]"
          ]
        },
        {
          "output_type": "stream",
          "name": "stdout",
          "text": [
            "\n",
            "Epoch 13/20 Summary\n",
            "  → Segmentation Source Loss (RAW) : 1.1146\n"
          ]
        },
        {
          "output_type": "stream",
          "name": "stderr",
          "text": [
            "\n",
            "Epoch 13 [Validation]: 100%|██████████| 15/15 [00:04<00:00,  3.62it/s, Val_Loss=14.2921, mIoU=0.4645]"
          ]
        },
        {
          "output_type": "stream",
          "name": "stdout",
          "text": [
            "\n",
            "→ Validation Loss: 0.9281\n",
            "→ Overall mIoU: 0.4645\n",
            "  → background IoU: 0.2912\n",
            "  → building IoU: 0.4984\n",
            "  → road IoU: 0.4972\n",
            "  → water IoU: 0.6688\n",
            "  → barren IoU: 0.4177\n",
            "  → forest IoU: 0.4860\n",
            "  → agriculture IoU: 0.3925\n",
            "[0.000329658544839708]\n"
          ]
        },
        {
          "output_type": "stream",
          "name": "stderr",
          "text": [
            "\n",
            "Epoch 14 [Training]: 100%|██████████| 58/58 [00:43<00:00,  1.32it/s, Loss_seg=17.3622]"
          ]
        },
        {
          "output_type": "stream",
          "name": "stdout",
          "text": [
            "\n",
            "Epoch 14/20 Summary\n",
            "  → Segmentation Source Loss (RAW) : 1.0851\n"
          ]
        },
        {
          "output_type": "stream",
          "name": "stderr",
          "text": [
            "\n",
            "Epoch 14 [Validation]: 100%|██████████| 15/15 [00:04<00:00,  3.60it/s, Val_Loss=15.9779, mIoU=0.4509]"
          ]
        },
        {
          "output_type": "stream",
          "name": "stdout",
          "text": [
            "\n",
            "→ Validation Loss: 1.0375\n",
            "→ Overall mIoU: 0.4509\n",
            "  → background IoU: 0.2928\n",
            "  → building IoU: 0.4994\n",
            "  → road IoU: 0.5037\n",
            "  → water IoU: 0.6167\n",
            "  → barren IoU: 0.4205\n",
            "  → forest IoU: 0.4582\n",
            "  → agriculture IoU: 0.3647\n",
            "[0.000329658544839708]\n"
          ]
        },
        {
          "output_type": "stream",
          "name": "stderr",
          "text": [
            "\n",
            "Epoch 15 [Training]: 100%|██████████| 58/58 [00:43<00:00,  1.33it/s, Loss_seg=16.6911]"
          ]
        },
        {
          "output_type": "stream",
          "name": "stdout",
          "text": [
            "\n",
            "Epoch 15/20 Summary\n",
            "  → Segmentation Source Loss (RAW) : 1.0432\n"
          ]
        },
        {
          "output_type": "stream",
          "name": "stderr",
          "text": [
            "\n",
            "Epoch 15 [Validation]: 100%|██████████| 15/15 [00:04<00:00,  3.61it/s, Val_Loss=13.8552, mIoU=0.4892]\n"
          ]
        },
        {
          "output_type": "stream",
          "name": "stdout",
          "text": [
            "Modello con miou migliore salvato: /content/drive/MyDrive/AML_project/checkpoints/best_model_PIDNET_5_DACS_without_6_class_ohem.pth\n",
            "\n",
            "→ Validation Loss: 0.8997\n",
            "→ Overall mIoU: 0.4892\n",
            "  → background IoU: 0.3255\n",
            "  → building IoU: 0.5127\n",
            "  → road IoU: 0.5135\n",
            "  → water IoU: 0.6890\n",
            "  → barren IoU: 0.4335\n",
            "  → forest IoU: 0.4856\n",
            "  → agriculture IoU: 0.4646\n",
            "[0.000329658544839708]\n"
          ]
        },
        {
          "output_type": "stream",
          "name": "stderr",
          "text": [
            "Epoch 16 [Training]: 100%|██████████| 58/58 [00:43<00:00,  1.33it/s, Loss_seg=16.6080]"
          ]
        },
        {
          "output_type": "stream",
          "name": "stdout",
          "text": [
            "\n",
            "Epoch 16/20 Summary\n",
            "  → Segmentation Source Loss (RAW) : 1.0380\n"
          ]
        },
        {
          "output_type": "stream",
          "name": "stderr",
          "text": [
            "\n",
            "Epoch 16 [Validation]: 100%|██████████| 15/15 [00:04<00:00,  3.61it/s, Val_Loss=13.6321, mIoU=0.4824]"
          ]
        },
        {
          "output_type": "stream",
          "name": "stdout",
          "text": [
            "\n",
            "→ Validation Loss: 0.8852\n",
            "→ Overall mIoU: 0.4824\n",
            "  → background IoU: 0.3432\n",
            "  → building IoU: 0.5204\n",
            "  → road IoU: 0.5320\n",
            "  → water IoU: 0.5691\n",
            "  → barren IoU: 0.4399\n",
            "  → forest IoU: 0.5068\n",
            "  → agriculture IoU: 0.4655\n",
            "[0.000329658544839708]\n"
          ]
        },
        {
          "output_type": "stream",
          "name": "stderr",
          "text": [
            "\n",
            "Epoch 17 [Training]: 100%|██████████| 58/58 [00:43<00:00,  1.33it/s, Loss_seg=16.8520]"
          ]
        },
        {
          "output_type": "stream",
          "name": "stdout",
          "text": [
            "\n",
            "Epoch 17/20 Summary\n",
            "  → Segmentation Source Loss (RAW) : 1.0532\n"
          ]
        },
        {
          "output_type": "stream",
          "name": "stderr",
          "text": [
            "\n",
            "Epoch 17 [Validation]: 100%|██████████| 15/15 [00:04<00:00,  3.55it/s, Val_Loss=18.2110, mIoU=0.4716]"
          ]
        },
        {
          "output_type": "stream",
          "name": "stdout",
          "text": [
            "\n",
            "→ Validation Loss: 1.1825\n",
            "→ Overall mIoU: 0.4716\n",
            "  → background IoU: 0.3132\n",
            "  → building IoU: 0.5056\n",
            "  → road IoU: 0.4826\n",
            "  → water IoU: 0.6519\n",
            "  → barren IoU: 0.4554\n",
            "  → forest IoU: 0.4963\n",
            "  → agriculture IoU: 0.3964\n",
            "[0.000329658544839708]\n"
          ]
        },
        {
          "output_type": "stream",
          "name": "stderr",
          "text": [
            "\n",
            "Epoch 18 [Training]: 100%|██████████| 58/58 [00:43<00:00,  1.33it/s, Loss_seg=16.6271]"
          ]
        },
        {
          "output_type": "stream",
          "name": "stdout",
          "text": [
            "\n",
            "Epoch 18/20 Summary\n",
            "  → Segmentation Source Loss (RAW) : 1.0392\n"
          ]
        },
        {
          "output_type": "stream",
          "name": "stderr",
          "text": [
            "\n",
            "Epoch 18 [Validation]: 100%|██████████| 15/15 [00:04<00:00,  3.62it/s, Val_Loss=15.7179, mIoU=0.4854]"
          ]
        },
        {
          "output_type": "stream",
          "name": "stdout",
          "text": [
            "\n",
            "→ Validation Loss: 1.0206\n",
            "→ Overall mIoU: 0.4854\n",
            "  → background IoU: 0.3385\n",
            "  → building IoU: 0.5188\n",
            "  → road IoU: 0.5168\n",
            "  → water IoU: 0.6719\n",
            "  → barren IoU: 0.4378\n",
            "  → forest IoU: 0.5066\n",
            "  → agriculture IoU: 0.4074\n",
            "[0.000329658544839708]\n"
          ]
        },
        {
          "output_type": "stream",
          "name": "stderr",
          "text": [
            "\n",
            "Epoch 19 [Training]: 100%|██████████| 58/58 [00:43<00:00,  1.33it/s, Loss_seg=16.5812]"
          ]
        },
        {
          "output_type": "stream",
          "name": "stdout",
          "text": [
            "\n",
            "Epoch 19/20 Summary\n",
            "  → Segmentation Source Loss (RAW) : 1.0363\n"
          ]
        },
        {
          "output_type": "stream",
          "name": "stderr",
          "text": [
            "\n",
            "Epoch 19 [Validation]: 100%|██████████| 15/15 [00:04<00:00,  3.65it/s, Val_Loss=13.9370, mIoU=0.5159]\n"
          ]
        },
        {
          "output_type": "stream",
          "name": "stdout",
          "text": [
            "Modello con miou migliore salvato: /content/drive/MyDrive/AML_project/checkpoints/best_model_PIDNET_5_DACS_without_6_class_ohem.pth\n",
            "\n",
            "→ Validation Loss: 0.9050\n",
            "→ Overall mIoU: 0.5159\n",
            "  → background IoU: 0.3913\n",
            "  → building IoU: 0.5247\n",
            "  → road IoU: 0.5312\n",
            "  → water IoU: 0.7025\n",
            "  → barren IoU: 0.4708\n",
            "  → forest IoU: 0.5033\n",
            "  → agriculture IoU: 0.4873\n",
            "[0.000329658544839708]\n"
          ]
        },
        {
          "output_type": "stream",
          "name": "stderr",
          "text": [
            "Epoch 20 [Training]: 100%|██████████| 58/58 [00:44<00:00,  1.32it/s, Loss_seg=16.5182]"
          ]
        },
        {
          "output_type": "stream",
          "name": "stdout",
          "text": [
            "\n",
            "Epoch 20/20 Summary\n",
            "  → Segmentation Source Loss (RAW) : 1.0324\n"
          ]
        },
        {
          "output_type": "stream",
          "name": "stderr",
          "text": [
            "\n",
            "Epoch 20 [Validation]: 100%|██████████| 15/15 [00:04<00:00,  3.61it/s, Val_Loss=14.2905, mIoU=0.4843]"
          ]
        },
        {
          "output_type": "stream",
          "name": "stdout",
          "text": [
            "\n",
            "→ Validation Loss: 0.9280\n",
            "→ Overall mIoU: 0.4843\n",
            "  → background IoU: 0.3622\n",
            "  → building IoU: 0.5206\n",
            "  → road IoU: 0.4883\n",
            "  → water IoU: 0.6893\n",
            "  → barren IoU: 0.4605\n",
            "  → forest IoU: 0.5126\n",
            "  → agriculture IoU: 0.3567\n"
          ]
        },
        {
          "output_type": "stream",
          "name": "stderr",
          "text": [
            "\n"
          ]
        }
      ],
      "source": [
        "from tqdm import tqdm\n",
        "import torch\n",
        "from torchmetrics.segmentation import MeanIoU\n",
        "import matplotlib.pyplot as plt\n",
        "\n",
        "np.random.seed(SEED)\n",
        "torch.manual_seed(SEED)\n",
        "torch.cuda.manual_seed(SEED)\n",
        "\n",
        "\n",
        "for index_of_blocked_class in range(NUM_CLASSES):\n",
        "\n",
        "    model = get_seg_model(cfg, imgnet_pretrained=True)\n",
        "    model.to(device)\n",
        "\n",
        "    optimizer = torch.optim.SGD(model.parameters(), lr=LR, momentum=MOMENTUM)\n",
        "\n",
        "    scheduler = torch.optim.lr_scheduler.ReduceLROnPlateau(optimizer, mode='max', factor=GAMMA, patience=3, threshold=0.01)\n",
        "\n",
        "    if TYPE_WEIGHT == \"median-frequency\" or TYPE_WEIGHT == \"inverse\" or TYPE_WEIGHT == \"log\":\n",
        "      loss_fn = PIDNetLoss(threshold=0.8, class_weights=class_weights)\n",
        "      mix_loss = CrossEntropyLoss2dPixelWiseWeighted(ignore_index = IGNORE_INDEX, weight = torch.tensor(class_weights).cuda())\n",
        "    else:\n",
        "      loss_fn = PIDNetLoss(threshold=0.8, class_weights=None)\n",
        "      mix_loss = CrossEntropyLoss2dPixelWiseWeighted(ignore_index = IGNORE_INDEX, weight = None)\n",
        "\n",
        "\n",
        "    ema_model = create_ema_model(model)\n",
        "    ema_model.to(device)\n",
        "\n",
        "    num_classes = 7\n",
        "    miou_classes = MeanIoU(num_classes=num_classes, input_format = \"index\", per_class=True).to(device)\n",
        "\n",
        "    record_miou = 0\n",
        "\n",
        "    for epoch in range(EPOCHS):\n",
        "        print(scheduler.get_last_lr())\n",
        "        loss_raw_value = 0\n",
        "        total_train_samples = 0\n",
        "\n",
        "        model.train()\n",
        "        ema_model.train()\n",
        "\n",
        "\n",
        "\n",
        "        train_loader = zip(source_loader, target_loader)\n",
        "        num_batches = min(len(source_loader), len(target_loader))\n",
        "\n",
        "        pbar = tqdm(enumerate(train_loader), total=num_batches, desc=f\"Epoch {epoch+1} [Training]\")\n",
        "\n",
        "        for i, (source_batch, target_batch) in pbar:\n",
        "            optimizer.zero_grad()\n",
        "\n",
        "            X_source, y_source, boundary_mask_source = source_batch\n",
        "            X_source, y_source, boundary_mask_source = X_source.to(device), y_source.to(device), boundary_mask_source.to(device)\n",
        "\n",
        "            X_target, boundary_mask_target = target_batch\n",
        "            X_target, boundary_mask_target = X_target.to(device), boundary_mask_target.to(device)\n",
        "\n",
        "            outputs_s = model(X_source)\n",
        "            pred_p, pred_main, boundary_head = Upscaling(outputs=outputs_s, boundary_mask=boundary_mask_source, model=model)\n",
        "\n",
        "            loss_labled = loss_fn(pred_p, pred_main, y_source, boundary_head, boundary_mask_source)\n",
        "\n",
        "            if(LOSS_TYPE == \"ohem\"):\n",
        "              loss_labled = torch.mean(loss_labled)\n",
        "\n",
        "            outputs_t = ema_model(X_target)\n",
        "\n",
        "            _ , pred_main, _ = Upscaling(outputs=outputs_t, boundary_mask=boundary_mask_target, model=ema_model)\n",
        "\n",
        "            probs_t = torch.softmax(pred_main.detach(), dim=1)\n",
        "\n",
        "            max_probs, pseudo_labels = torch.max(probs_t, dim=1)\n",
        "\n",
        "            MixMasks = []\n",
        "\n",
        "            for image_i in range(X_source.shape[0]): # Per ogni immagine source stiamo andando ad estrarre delle classi prese in modo random\n",
        "              classes = torch.unique(y_source[image_i])\n",
        "              classes = classes[classes!=-1]\n",
        "              classes = classes[classes != index_of_blocked_class]  # remove blocked class\n",
        "\n",
        "              nclasses = classes.shape[0]\n",
        "              classes = (classes[torch.Tensor(np.random.choice(nclasses, int((nclasses+nclasses%2)/2),replace=False)).long()]).cuda()\n",
        "\n",
        "              MixMask = generate_class_mask(y_source[image_i], classes).unsqueeze(0).cuda()\n",
        "              MixMasks.append(MixMask)\n",
        "\n",
        "            mixed_imgs = []\n",
        "            mixed_labels = []\n",
        "            mixed_boundary_masks = []\n",
        "\n",
        "            for image_i in range(X_source.shape[0]):\n",
        "              data = torch.cat((X_source[image_i].unsqueeze(0), X_target[image_i].unsqueeze(0)))\n",
        "              labels = torch.cat((y_source[image_i].unsqueeze(0), pseudo_labels[image_i].unsqueeze(0)))\n",
        "\n",
        "              data, mask = strong_transform(\n",
        "                  aug=augment,\n",
        "                  data=data,\n",
        "                  target=labels,\n",
        "                  masks_mix=[MixMasks[image_i]]\n",
        "              )\n",
        "\n",
        "              boundary_mask_mix = extract_boundary_mask(mask)\n",
        "\n",
        "              mixed_imgs.append(data)\n",
        "              mixed_labels.append(mask)\n",
        "              mixed_boundary_masks.append(boundary_mask_mix)\n",
        "\n",
        "            if i == 0 and SHOW_IMG:\n",
        "              fig, axs = plt.subplots(2, 3, figsize=(24, 10))\n",
        "\n",
        "              for j in range(2):\n",
        "                axs[j, 0].imshow(mixed_imgs[j].squeeze().permute(1, 2, 0).cpu().detach().numpy())\n",
        "                axs[j, 0].set_title(\"IMG\")\n",
        "                axs[j, 0].axis('off')\n",
        "\n",
        "                axs[j, 1].imshow(mixed_labels[j].permute(1, 2, 0).cpu().detach().numpy())\n",
        "                axs[j, 1].set_title(\"Labels\")\n",
        "                axs[j, 1].axis('off')\n",
        "\n",
        "                axs[j, 2].imshow(mixed_boundary_masks[j].permute(1, 2, 0).cpu().detach().numpy())\n",
        "                axs[j, 2].set_title(\"Boundary\")\n",
        "                axs[j, 2].axis('off')\n",
        "\n",
        "              plt.tight_layout()\n",
        "              plt.show()\n",
        "\n",
        "            #Mi ricostruisce il batch completo da una lista di singole immagini e label mescolate (quindi con shape [1, C, H, W]) in [BATCH_SIZE, C, H, W]\n",
        "            inputs_mix = torch.cat(mixed_imgs, dim=0).to(device)\n",
        "            targets_mix = torch.cat(mixed_labels, dim=0).to(device)\n",
        "            boundary_masks_mix = torch.cat(mixed_boundary_masks, dim=0).to(device)\n",
        "\n",
        "            outputs_mix = model(inputs_mix)\n",
        "\n",
        "            pred_p_mix, pred_main_mix, boundary_head_mix = Upscaling(outputs=outputs_mix, boundary_mask=boundary_masks_mix, model=model)\n",
        "\n",
        "            #---------------------------------\n",
        "            if PIXEL_WEIGHT == \"threshold_uniform\":\n",
        "              unlabeled_weight = torch.sum(max_probs.ge(0.968).long() == 1).item() / np.size(np.array(targets_mix.cpu()))\n",
        "              pixelWiseWeight = unlabeled_weight * torch.ones(max_probs.shape).cuda()\n",
        "            else:\n",
        "              pixelWiseWeight = max_probs.ge(THRESHOLD).float().cuda()\n",
        "\n",
        "            onesWeights = torch.ones((pixelWiseWeight.shape)).cuda()\n",
        "\n",
        "            pixelWiseWeight_mix = []\n",
        "\n",
        "            for image_i in range(X_source.shape[0]):\n",
        "                weights_pair = torch.cat((onesWeights[image_i].unsqueeze(0), pixelWiseWeight[image_i].unsqueeze(0)))\n",
        "\n",
        "                _, mixed_weights = strong_transform(\n",
        "                    target=weights_pair,\n",
        "                    masks_mix=[MixMasks[image_i]]\n",
        "                )\n",
        "\n",
        "                pixelWiseWeight_mix.append(mixed_weights)\n",
        "\n",
        "            pixelWiseWeight_mix = torch.cat(pixelWiseWeight_mix, dim=0).to(device)  # [B, H, W]\n",
        "\n",
        "\n",
        "            loss_seg_mix = mix_loss(pred_main_mix, targets_mix, pixelWiseWeight_mix)\n",
        "            #---------------------------------------\n",
        "\n",
        "            loss_overall = loss_seg_mix + loss_labled\n",
        "\n",
        "            loss_overall.backward()\n",
        "            optimizer.step()\n",
        "\n",
        "            ema_model = update_ema_variables(ema_model = ema_model, model = model, alpha_teacher=ALPHA_TEACHER, iteration=(epoch * num_batches + i))\n",
        "\n",
        "            loss_raw_value += loss_overall.item()\n",
        "            total_train_samples += X_target.size(0)\n",
        "\n",
        "            pbar.set_postfix({\n",
        "                \"Loss_seg\": f\"{loss_raw_value / (i+1):.4f}\",\n",
        "            })\n",
        "\n",
        "        print(f\"\\nEpoch {epoch+1}/{EPOCHS} Summary\")\n",
        "        print(f\"  → Segmentation Source Loss (RAW) : {loss_raw_value / total_train_samples:.4f}\")\n",
        "\n",
        "        # ---------------------- VALIDATION ----------------------\n",
        "\n",
        "        model.eval()\n",
        "        val_loss = 0\n",
        "        miou_classes.reset()\n",
        "        total_val_samples = 0\n",
        "\n",
        "        with torch.inference_mode():\n",
        "            pbar_val = tqdm(enumerate(val_loader), total=len(val_loader), desc=f\"Epoch {epoch+1} [Validation]\")\n",
        "\n",
        "            for batch, (X_val, y_val, boundary_mask) in pbar_val:\n",
        "                X_val, y_val, boundary_mask = X_val.to(device), y_val.to(device), boundary_mask.to(device)\n",
        "\n",
        "                outputs = model(X_val)\n",
        "                pred_p, pred_main, boundary_head = Upscaling(outputs=outputs, boundary_mask=boundary_mask, model=model)\n",
        "\n",
        "                loss = loss_fn(pred_p, pred_main, y_val, boundary_head, boundary_mask)\n",
        "\n",
        "                if(LOSS_TYPE == \"ohem\"):\n",
        "                  loss = torch.mean(loss)\n",
        "\n",
        "                val_loss += loss.item()\n",
        "                total_val_samples += X_val.size(0)\n",
        "\n",
        "                preds = pred_main.argmax(dim=1)\n",
        "                valid_mask = (y_val >= 0) & (y_val < num_classes)\n",
        "                preds_flat = preds[valid_mask]\n",
        "                targets_flat = y_val[valid_mask]\n",
        "\n",
        "                miou_classes.update(preds_flat, targets_flat)\n",
        "\n",
        "                pbar_val.set_postfix({\n",
        "                    \"Val_Loss\": f\"{val_loss / (batch+1):.4f}\",\n",
        "                    \"mIoU\": f\"{miou_classes.compute().mean():.4f}\"\n",
        "                })\n",
        "\n",
        "        avg_val_loss = val_loss / total_val_samples\n",
        "        miou_per_class = miou_classes.compute()\n",
        "        miou = miou_per_class.mean()\n",
        "\n",
        "        if record_miou is None or miou > record_miou:\n",
        "          best_model_path = f\"/content/drive/MyDrive/AML_project/checkpoints/best_model_PIDNET_5_DACS_without_{index_of_blocked_class}_class_ohem.pth\"\n",
        "          torch.save(model.state_dict(), best_model_path)\n",
        "          print(f\"Modello con miou migliore salvato: {best_model_path}\")\n",
        "          record_miou = miou\n",
        "\n",
        "        print(f\"\\n→ Validation Loss: {avg_val_loss:.4f}\")\n",
        "        print(f\"→ Overall mIoU: {miou:.4f}\")\n",
        "        for i, iou in enumerate(miou_per_class):\n",
        "            class_name = list(sem_class_to_idx.keys())[list(sem_class_to_idx.values()).index(i)]\n",
        "            print(f\"  → {class_name} IoU: {iou:.4f}\")\n",
        "\n",
        "        scheduler.step(miou)\n",
        "\n",
        "\n"
      ]
    },
    {
      "cell_type": "code",
      "source": [
        "# ****************************** Validazione ******************************\n",
        "from torchmetrics.segmentation import MeanIoU\n",
        "\n",
        "num_classes = 7\n",
        "miou_classes = MeanIoU(num_classes=num_classes, input_format = \"index\", per_class=True).to(device)\n",
        "\n",
        "for i in range(NUM_CLASSES):\n",
        "\n",
        "    model_path = f\"/content/drive/MyDrive/AML_project/checkpoints/best_model_PIDNET_5_DACS_without_{i}_class_ohem.pth\"\n",
        "\n",
        "    cfg = Config()\n",
        "\n",
        "    model = get_seg_model(cfg, imgnet_pretrained=True)\n",
        "\n",
        "    try:\n",
        "      model.load_state_dict(torch.load(model_path))\n",
        "      print(f\"loaded model {i}\")\n",
        "    except:\n",
        "      print(list(torch.load(best_model_path).keys())[:5])\n",
        "\n",
        "    model.to(device)\n",
        "\n",
        "    model.eval()\n",
        "    val_loss = 0\n",
        "    miou_classes.reset()\n",
        "    total_val_samples = 0\n",
        "\n",
        "    with torch.inference_mode():\n",
        "        for batch, (X_val, y_val, boundary_mask) in enumerate(test_loader):\n",
        "            X_val = X_val.to(device)\n",
        "            y_val = y_val.to(device)\n",
        "            boundary_mask = boundary_mask.to(device)\n",
        "\n",
        "            # Output del modello\n",
        "            outputs = model(X_val)\n",
        "\n",
        "            #upscaling\n",
        "            pred_p, pred_main, boundary_head = Upscaling(outputs=outputs, boundary_mask=boundary_mask, model=model)\n",
        "\n",
        "            if batch == 0 and SHOW_IMG:\n",
        "              fig, axs = plt.subplots(4, 5, figsize=(12, 5))\n",
        "\n",
        "              for j in range(4):\n",
        "\n",
        "                axs[j, 0].imshow(pred_p[j].cpu().detach().argmax(dim=0).numpy(), cmap='tab20')\n",
        "                axs[j, 0].set_title(\"Auxiliary Prediction\")\n",
        "                axs[j, 0].axis('off')\n",
        "\n",
        "                axs[j, 1].imshow(pred_main[j].cpu().detach().argmax(dim=0).numpy(), cmap='tab20')\n",
        "                axs[j, 1].set_title(\"Main Prediction\")\n",
        "                axs[j, 1].axis('off')\n",
        "\n",
        "                axs[j, 2].imshow(y_val[j].cpu().detach().numpy(), cmap='tab20')\n",
        "                axs[j, 2].set_title(\"Target mask\")\n",
        "                axs[j, 2].axis('off')\n",
        "\n",
        "                axs[j, 3].imshow(boundary_head[j].cpu().detach().sigmoid().squeeze(0).numpy(), cmap='gray')\n",
        "                axs[j, 3].set_title(\"Boundary Prediction\")\n",
        "                axs[j, 3].axis('off')\n",
        "\n",
        "                axs[j, 4].imshow(X_val[j].cpu().detach().squeeze(0).numpy().transpose(1, 2, 0))\n",
        "                axs[j, 4].set_title(\"Target image\")\n",
        "                axs[j, 4].axis('off')\n",
        "\n",
        "              plt.tight_layout()\n",
        "              plt.show()\n",
        "\n",
        "            # Calcola la loss\n",
        "            loss = loss_fn(pred_p, pred_main, y_val, boundary_head, boundary_mask)\n",
        "\n",
        "            if(LOSS_TYPE == \"ohem\"):\n",
        "              loss = torch.mean(loss)\n",
        "\n",
        "            val_loss += loss.item()\n",
        "\n",
        "            total_val_samples += X_val.size(0)\n",
        "\n",
        "            # Calcola le predizioni\n",
        "            preds = pred_main.argmax(dim=1)  # Shape: (N, H, W)\n",
        "\n",
        "            # Mask dei pixel validi (classi da 0 a num_classes - 1)\n",
        "            valid_mask = (y_val >= 0) & (y_val < num_classes)\n",
        "\n",
        "            # print(f\"valid mask :\", valid_mask.shape )\n",
        "\n",
        "            # Appiattisci le predizioni e i target solo sui pixel validi\n",
        "            preds_flat = preds[valid_mask]\n",
        "            targets_flat = y_val[valid_mask]\n",
        "\n",
        "            # print(f\"preds_flat :\", preds_flat.shape )\n",
        "            # print(f\"targets_flat :\", targets_flat.shape )\n",
        "\n",
        "            miou_classes.update(preds_flat, targets_flat)\n",
        "\n",
        "    avg_val_loss = val_loss / total_val_samples\n",
        "\n",
        "    miou_per_class = miou_classes.compute()\n",
        "    miou = miou_per_class.mean()\n",
        "\n",
        "    print(f\"Validation Loss: {avg_val_loss} | mIoU: {miou} | Total validation samples seen: {total_val_samples}\")\n",
        "    # per class\n",
        "    for i, iou in enumerate(miou_per_class):\n",
        "        class_name = list(sem_class_to_idx.keys())[list(sem_class_to_idx.values()).index(i)]\n",
        "        print(f\"  → {class_name} IoU: {iou:.4f}\")"
      ],
      "metadata": {
        "id": "YPXuMPCoYmBW",
        "colab": {
          "base_uri": "https://localhost:8080/"
        },
        "outputId": "030a7da9-3190-42e2-bbc7-21aeff7ce39b"
      },
      "execution_count": 34,
      "outputs": [
        {
          "output_type": "stream",
          "name": "stdout",
          "text": [
            "loaded model 0\n",
            "Validation Loss: 11.147384732000289 | mIoU: 0.20847788453102112 | Total validation samples seen: 992\n",
            "  → background IoU: 0.0649\n",
            "  → building IoU: 0.2486\n",
            "  → road IoU: 0.2605\n",
            "  → water IoU: 0.4049\n",
            "  → barren IoU: 0.0206\n",
            "  → forest IoU: 0.0337\n",
            "  → agriculture IoU: 0.4261\n",
            "loaded model 1\n",
            "Validation Loss: 9.045026848393102 | mIoU: 0.2201247662305832 | Total validation samples seen: 992\n",
            "  → background IoU: 0.1894\n",
            "  → building IoU: 0.1232\n",
            "  → road IoU: 0.2645\n",
            "  → water IoU: 0.4583\n",
            "  → barren IoU: 0.0342\n",
            "  → forest IoU: 0.0490\n",
            "  → agriculture IoU: 0.4223\n",
            "loaded model 2\n",
            "Validation Loss: 9.643261963321317 | mIoU: 0.21845288574695587 | Total validation samples seen: 992\n",
            "  → background IoU: 0.1899\n",
            "  → building IoU: 0.2617\n",
            "  → road IoU: 0.2576\n",
            "  → water IoU: 0.3146\n",
            "  → barren IoU: 0.0359\n",
            "  → forest IoU: 0.0914\n",
            "  → agriculture IoU: 0.3782\n",
            "loaded model 3\n",
            "Validation Loss: 7.478774962886687 | mIoU: 0.19177351891994476 | Total validation samples seen: 992\n",
            "  → background IoU: 0.1545\n",
            "  → building IoU: 0.1718\n",
            "  → road IoU: 0.2115\n",
            "  → water IoU: 0.3071\n",
            "  → barren IoU: 0.0472\n",
            "  → forest IoU: 0.1152\n",
            "  → agriculture IoU: 0.3351\n",
            "loaded model 4\n",
            "Validation Loss: 7.0733789936188725 | mIoU: 0.25179871916770935 | Total validation samples seen: 992\n",
            "  → background IoU: 0.2849\n",
            "  → building IoU: 0.1642\n",
            "  → road IoU: 0.2543\n",
            "  → water IoU: 0.4773\n",
            "  → barren IoU: 0.0404\n",
            "  → forest IoU: 0.1577\n",
            "  → agriculture IoU: 0.3837\n",
            "loaded model 5\n",
            "Validation Loss: 7.470146594509002 | mIoU: 0.21951884031295776 | Total validation samples seen: 992\n",
            "  → background IoU: 0.1973\n",
            "  → building IoU: 0.2754\n",
            "  → road IoU: 0.2028\n",
            "  → water IoU: 0.3451\n",
            "  → barren IoU: 0.0398\n",
            "  → forest IoU: 0.1042\n",
            "  → agriculture IoU: 0.3722\n",
            "loaded model 6\n",
            "Validation Loss: 8.243845924254387 | mIoU: 0.2534092366695404 | Total validation samples seen: 992\n",
            "  → background IoU: 0.4006\n",
            "  → building IoU: 0.2152\n",
            "  → road IoU: 0.1929\n",
            "  → water IoU: 0.4599\n",
            "  → barren IoU: 0.0900\n",
            "  → forest IoU: 0.1667\n",
            "  → agriculture IoU: 0.2485\n"
          ]
        }
      ]
    },
    {
      "cell_type": "markdown",
      "source": [
        "# Model ensemble\n",
        "Take the top 3 models (mIoU) and perform model ensambe"
      ],
      "metadata": {
        "id": "XRHChDSzLdQY"
      }
    },
    {
      "cell_type": "code",
      "source": [
        "# top 3 models are 0, 2, 5\n",
        "from torchmetrics.segmentation import MeanIoU\n",
        "best_models = [4, 6]\n",
        "\n",
        "class Config:\n",
        "  class MODEL:\n",
        "      NAME = 'pidnet_s'\n",
        "      PRETRAINED = 'PIDNet_S_ImageNet.pth.tar'\n",
        "  class DATASET:\n",
        "      NUM_CLASSES = NUM_CLASSES\n",
        "\n",
        "model_paths = [f\"/content/drive/MyDrive/AML_project/checkpoints/best_model_PIDNET_5_DACS_without_{model_id}_class_ohem.pth\" for model_id in best_models]\n",
        "\n",
        "cfg = Config()\n",
        "\n",
        "models = []\n",
        "for model_path in model_paths:\n",
        "  model = get_seg_model(cfg, imgnet_pretrained=True)\n",
        "  model.load_state_dict(torch.load(model_path))\n",
        "  try:\n",
        "    model.load_state_dict(torch.load(model_path))\n",
        "    print(f\"loaded model at {model_path}\")\n",
        "  except:\n",
        "    print(list(torch.load(model_path).keys())[:5])\n",
        "  model.to(device)\n",
        "  model.eval()\n",
        "  models.append(model)\n",
        "\n",
        "num_classes = 7\n",
        "miou_classes = MeanIoU(num_classes=num_classes, input_format = \"index\", per_class=True).to(device)\n",
        "miou_classes.reset()\n",
        "total_val_samples = 0\n",
        "\n",
        "with torch.inference_mode():\n",
        "    for batch, (X_val, y_val, boundary_mask) in enumerate(test_loader):\n",
        "        X_val = X_val.to(device)\n",
        "        y_val = y_val.to(device)\n",
        "        boundary_mask = boundary_mask.to(device)\n",
        "\n",
        "        # list of generated outputs from each model (only main predictions)\n",
        "        main_pred_list = [model(X_val)[1] for model in models]\n",
        "\n",
        "\n",
        "        # stacks main predictions\n",
        "        pred_main_stack = torch.stack(main_pred_list, dim=0)\n",
        "        mean_pred_main = pred_main_stack.mean(dim=0).squeeze(0)\n",
        "\n",
        "\n",
        "\n",
        "        #upscaling\n",
        "\n",
        "\n",
        "        h, w = boundary_mask.size(1), boundary_mask.size(2)\n",
        "        ph, pw = mean_pred_main.size(2), mean_pred_main.size(3)\n",
        "        if ph != h or pw != w:\n",
        "            mean_pred_main = F.interpolate(mean_pred_main, size=(h, w), mode='bilinear', align_corners=True)\n",
        "\n",
        "        if batch == 0 and SHOW_IMG:\n",
        "          fig, axs = plt.subplots(4, 5, figsize=(12, 5))\n",
        "\n",
        "          for j in range(4):\n",
        "\n",
        "            axs[j, 0].imshow(pred_p[j].cpu().detach().argmax(dim=0).numpy(), cmap='tab20')\n",
        "            axs[j, 0].set_title(\"Auxiliary Prediction\")\n",
        "            axs[j, 0].axis('off')\n",
        "\n",
        "            axs[j, 1].imshow(pred_main[j].cpu().detach().argmax(dim=0).numpy(), cmap='tab20')\n",
        "            axs[j, 1].set_title(\"Main Prediction\")\n",
        "            axs[j, 1].axis('off')\n",
        "\n",
        "            axs[j, 2].imshow(y_val[j].cpu().detach().numpy(), cmap='tab20')\n",
        "            axs[j, 2].set_title(\"Target mask\")\n",
        "            axs[j, 2].axis('off')\n",
        "\n",
        "            axs[j, 3].imshow(boundary_head[j].cpu().detach().sigmoid().squeeze(0).numpy(), cmap='gray')\n",
        "            axs[j, 3].set_title(\"Boundary Prediction\")\n",
        "            axs[j, 3].axis('off')\n",
        "\n",
        "            axs[j, 4].imshow(X_val[j].cpu().detach().squeeze(0).numpy().transpose(1, 2, 0))\n",
        "            axs[j, 4].set_title(\"Target image\")\n",
        "            axs[j, 4].axis('off')\n",
        "\n",
        "          plt.tight_layout()\n",
        "          plt.show()\n",
        "\n",
        "        total_val_samples += X_val.size(0)\n",
        "\n",
        "        # Calcola le predizioni\n",
        "        preds = mean_pred_main.argmax(dim=1)  # Shape: (N, H, W)\n",
        "\n",
        "        # Mask dei pixel validi (classi da 0 a num_classes - 1)\n",
        "        valid_mask = (y_val >= 0) & (y_val < num_classes)\n",
        "\n",
        "        # print(f\"valid mask :\", valid_mask.shape )\n",
        "\n",
        "        # Appiattisci le predizioni e i target solo sui pixel validi\n",
        "        preds_flat = preds[valid_mask]\n",
        "        targets_flat = y_val[valid_mask]\n",
        "\n",
        "        miou_classes.update(preds_flat, targets_flat)\n",
        "\n",
        "#avg_val_loss = val_loss / total_val_samples\n",
        "\n",
        "miou_per_class = miou_classes.compute()\n",
        "miou = miou_per_class.mean()\n",
        "\n",
        "print(f\"mIoU: {miou} \")\n",
        "# per class\n",
        "for i, iou in enumerate(miou_per_class):\n",
        "    class_name = list(sem_class_to_idx.keys())[list(sem_class_to_idx.values()).index(i)]\n",
        "    print(f\"  → {class_name} IoU: {iou:.4f}\")"
      ],
      "metadata": {
        "colab": {
          "base_uri": "https://localhost:8080/"
        },
        "id": "Apl7aSzALkdk",
        "outputId": "013321f5-a172-4f8b-f6b4-dca3d8fd0067"
      },
      "execution_count": 30,
      "outputs": [
        {
          "output_type": "stream",
          "name": "stdout",
          "text": [
            "loaded model at /content/drive/MyDrive/AML_project/checkpoints/best_model_PIDNET_5_DACS_without_4_class_ohem.pth\n",
            "loaded model at /content/drive/MyDrive/AML_project/checkpoints/best_model_PIDNET_5_DACS_without_6_class_ohem.pth\n",
            "mIoU: 0.2830890119075775 \n",
            "  → background IoU: 0.3813\n",
            "  → building IoU: 0.2218\n",
            "  → road IoU: 0.2455\n",
            "  → water IoU: 0.5409\n",
            "  → barren IoU: 0.0780\n",
            "  → forest IoU: 0.1880\n",
            "  → agriculture IoU: 0.3260\n"
          ]
        }
      ]
    }
  ],
  "metadata": {
    "colab": {
      "machine_shape": "hm",
      "provenance": [],
      "gpuType": "L4",
      "include_colab_link": true
    },
    "kernelspec": {
      "display_name": "Python 3",
      "name": "python3"
    },
    "language_info": {
      "name": "python"
    },
    "accelerator": "GPU"
  },
  "nbformat": 4,
  "nbformat_minor": 0
}