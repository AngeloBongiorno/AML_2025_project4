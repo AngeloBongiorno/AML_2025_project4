{
  "cells": [
    {
      "cell_type": "markdown",
      "metadata": {
        "id": "view-in-github",
        "colab_type": "text"
      },
      "source": [
        "<a href=\"https://colab.research.google.com/github/AngeloBongiorno/AML_2025_project4/blob/vito/STEP_4B_PIDNET_weighted_wandb.ipynb\" target=\"_parent\"><img src=\"https://colab.research.google.com/assets/colab-badge.svg\" alt=\"Open In Colab\"/></a>"
      ]
    },
    {
      "cell_type": "markdown",
      "metadata": {
        "id": "K7QJviwzoN5m"
      },
      "source": [
        "## Install Dependencies"
      ]
    },
    {
      "cell_type": "markdown",
      "metadata": {
        "id": "rHpwU5g8s-Pt"
      },
      "source": [
        "## Upload .zip files"
      ]
    },
    {
      "cell_type": "markdown",
      "metadata": {
        "id": "O2_aVBiH46K3"
      },
      "source": [
        "For this step you must have the zip files in your Drive into a folder called `AML_project`"
      ]
    },
    {
      "cell_type": "code",
      "execution_count": 86,
      "metadata": {
        "colab": {
          "base_uri": "https://localhost:8080/"
        },
        "collapsed": true,
        "id": "xxVbeep6Rlnb",
        "outputId": "ceb8c8b8-a482-4e54-ba19-f003e30fec07"
      },
      "outputs": [
        {
          "output_type": "stream",
          "name": "stdout",
          "text": [
            "Requirement already satisfied: torchmetrics in /usr/local/lib/python3.11/dist-packages (1.7.1)\n",
            "Requirement already satisfied: numpy>1.20.0 in /usr/local/lib/python3.11/dist-packages (from torchmetrics) (2.0.2)\n",
            "Requirement already satisfied: packaging>17.1 in /usr/local/lib/python3.11/dist-packages (from torchmetrics) (24.2)\n",
            "Requirement already satisfied: torch>=2.0.0 in /usr/local/lib/python3.11/dist-packages (from torchmetrics) (2.6.0+cu124)\n",
            "Requirement already satisfied: lightning-utilities>=0.8.0 in /usr/local/lib/python3.11/dist-packages (from torchmetrics) (0.14.3)\n",
            "Requirement already satisfied: setuptools in /usr/local/lib/python3.11/dist-packages (from lightning-utilities>=0.8.0->torchmetrics) (75.2.0)\n",
            "Requirement already satisfied: typing_extensions in /usr/local/lib/python3.11/dist-packages (from lightning-utilities>=0.8.0->torchmetrics) (4.13.2)\n",
            "Requirement already satisfied: filelock in /usr/local/lib/python3.11/dist-packages (from torch>=2.0.0->torchmetrics) (3.18.0)\n",
            "Requirement already satisfied: networkx in /usr/local/lib/python3.11/dist-packages (from torch>=2.0.0->torchmetrics) (3.4.2)\n",
            "Requirement already satisfied: jinja2 in /usr/local/lib/python3.11/dist-packages (from torch>=2.0.0->torchmetrics) (3.1.6)\n",
            "Requirement already satisfied: fsspec in /usr/local/lib/python3.11/dist-packages (from torch>=2.0.0->torchmetrics) (2025.3.2)\n",
            "Requirement already satisfied: nvidia-cuda-nvrtc-cu12==12.4.127 in /usr/local/lib/python3.11/dist-packages (from torch>=2.0.0->torchmetrics) (12.4.127)\n",
            "Requirement already satisfied: nvidia-cuda-runtime-cu12==12.4.127 in /usr/local/lib/python3.11/dist-packages (from torch>=2.0.0->torchmetrics) (12.4.127)\n",
            "Requirement already satisfied: nvidia-cuda-cupti-cu12==12.4.127 in /usr/local/lib/python3.11/dist-packages (from torch>=2.0.0->torchmetrics) (12.4.127)\n",
            "Requirement already satisfied: nvidia-cudnn-cu12==9.1.0.70 in /usr/local/lib/python3.11/dist-packages (from torch>=2.0.0->torchmetrics) (9.1.0.70)\n",
            "Requirement already satisfied: nvidia-cublas-cu12==12.4.5.8 in /usr/local/lib/python3.11/dist-packages (from torch>=2.0.0->torchmetrics) (12.4.5.8)\n",
            "Requirement already satisfied: nvidia-cufft-cu12==11.2.1.3 in /usr/local/lib/python3.11/dist-packages (from torch>=2.0.0->torchmetrics) (11.2.1.3)\n",
            "Requirement already satisfied: nvidia-curand-cu12==10.3.5.147 in /usr/local/lib/python3.11/dist-packages (from torch>=2.0.0->torchmetrics) (10.3.5.147)\n",
            "Requirement already satisfied: nvidia-cusolver-cu12==11.6.1.9 in /usr/local/lib/python3.11/dist-packages (from torch>=2.0.0->torchmetrics) (11.6.1.9)\n",
            "Requirement already satisfied: nvidia-cusparse-cu12==12.3.1.170 in /usr/local/lib/python3.11/dist-packages (from torch>=2.0.0->torchmetrics) (12.3.1.170)\n",
            "Requirement already satisfied: nvidia-cusparselt-cu12==0.6.2 in /usr/local/lib/python3.11/dist-packages (from torch>=2.0.0->torchmetrics) (0.6.2)\n",
            "Requirement already satisfied: nvidia-nccl-cu12==2.21.5 in /usr/local/lib/python3.11/dist-packages (from torch>=2.0.0->torchmetrics) (2.21.5)\n",
            "Requirement already satisfied: nvidia-nvtx-cu12==12.4.127 in /usr/local/lib/python3.11/dist-packages (from torch>=2.0.0->torchmetrics) (12.4.127)\n",
            "Requirement already satisfied: nvidia-nvjitlink-cu12==12.4.127 in /usr/local/lib/python3.11/dist-packages (from torch>=2.0.0->torchmetrics) (12.4.127)\n",
            "Requirement already satisfied: triton==3.2.0 in /usr/local/lib/python3.11/dist-packages (from torch>=2.0.0->torchmetrics) (3.2.0)\n",
            "Requirement already satisfied: sympy==1.13.1 in /usr/local/lib/python3.11/dist-packages (from torch>=2.0.0->torchmetrics) (1.13.1)\n",
            "Requirement already satisfied: mpmath<1.4,>=1.1.0 in /usr/local/lib/python3.11/dist-packages (from sympy==1.13.1->torch>=2.0.0->torchmetrics) (1.3.0)\n",
            "Requirement already satisfied: MarkupSafe>=2.0 in /usr/local/lib/python3.11/dist-packages (from jinja2->torch>=2.0.0->torchmetrics) (3.0.2)\n",
            "Requirement already satisfied: fvcore in /usr/local/lib/python3.11/dist-packages (0.1.5.post20221221)\n",
            "Requirement already satisfied: numpy in /usr/local/lib/python3.11/dist-packages (from fvcore) (2.0.2)\n",
            "Requirement already satisfied: yacs>=0.1.6 in /usr/local/lib/python3.11/dist-packages (from fvcore) (0.1.8)\n",
            "Requirement already satisfied: pyyaml>=5.1 in /usr/local/lib/python3.11/dist-packages (from fvcore) (6.0.2)\n",
            "Requirement already satisfied: tqdm in /usr/local/lib/python3.11/dist-packages (from fvcore) (4.67.1)\n",
            "Requirement already satisfied: termcolor>=1.1 in /usr/local/lib/python3.11/dist-packages (from fvcore) (3.1.0)\n",
            "Requirement already satisfied: Pillow in /usr/local/lib/python3.11/dist-packages (from fvcore) (11.2.1)\n",
            "Requirement already satisfied: tabulate in /usr/local/lib/python3.11/dist-packages (from fvcore) (0.9.0)\n",
            "Requirement already satisfied: iopath>=0.1.7 in /usr/local/lib/python3.11/dist-packages (from fvcore) (0.1.10)\n",
            "Requirement already satisfied: typing-extensions in /usr/local/lib/python3.11/dist-packages (from iopath>=0.1.7->fvcore) (4.13.2)\n",
            "Requirement already satisfied: portalocker in /usr/local/lib/python3.11/dist-packages (from iopath>=0.1.7->fvcore) (3.1.1)\n"
          ]
        }
      ],
      "source": [
        "!pip install torchmetrics\n",
        "!pip install fvcore"
      ]
    },
    {
      "cell_type": "code",
      "execution_count": 87,
      "metadata": {
        "id": "z2LFD5EkeGs3",
        "colab": {
          "base_uri": "https://localhost:8080/"
        },
        "outputId": "2bde772e-48d1-4c50-ae7d-fb9be433bde5"
      },
      "outputs": [
        {
          "output_type": "stream",
          "name": "stdout",
          "text": [
            "fatal: destination path 'AML_2025_project4' already exists and is not an empty directory.\n",
            "Drive already mounted at /content/drive; to attempt to forcibly remount, call drive.mount(\"/content/drive\", force_remount=True).\n"
          ]
        }
      ],
      "source": [
        "from google.colab import drive\n",
        "import os\n",
        "\n",
        "!git clone -b angelo_albumentations --single-branch https://github.com/AngeloBongiorno/AML_2025_project4.git\n",
        "\n",
        "!cp AML_2025_project4/utils.py .\n",
        "\n",
        "drive.mount('/content/drive')"
      ]
    },
    {
      "cell_type": "code",
      "execution_count": 88,
      "metadata": {
        "id": "CvdkrFwFI0Qs",
        "colab": {
          "base_uri": "https://localhost:8080/"
        },
        "outputId": "0cac3c29-25d8-4c6e-aab2-4fc98df7e6f1"
      },
      "outputs": [
        {
          "output_type": "execute_result",
          "data": {
            "text/plain": [
              "<module 'utils' from '/content/utils.py'>"
            ]
          },
          "metadata": {},
          "execution_count": 88
        }
      ],
      "source": [
        "import importlib\n",
        "import utils  # Replace with the actual module name\n",
        "\n",
        "importlib.reload(utils)"
      ]
    },
    {
      "cell_type": "code",
      "execution_count": 89,
      "metadata": {
        "id": "laEb8KOytCpo",
        "colab": {
          "base_uri": "https://localhost:8080/"
        },
        "outputId": "0574841d-098d-4a19-dd9d-1e20d50ba458"
      },
      "outputs": [
        {
          "output_type": "stream",
          "name": "stdout",
          "text": [
            "Skipping extraction for the dataset, already extracted.\n",
            "{'training_urban': '/content/dataset/Train/Urban', 'training_rural': '/content/dataset/Train/Rural', 'validation_urban': '/content/dataset/Val/Urban', 'validation_rural': '/content/dataset/Val/Rural'}\n"
          ]
        }
      ],
      "source": [
        "import tqdm\n",
        "\n",
        "from utils import get_loveDA\n",
        "\n",
        "paths = get_loveDA(verbose=True)\n",
        "print(paths)\n",
        "\n",
        "TRAINING_PATH_URBAN = paths[\"training_urban\"]\n",
        "TRAINING_PATH_RURAL = paths[\"training_rural\"]\n",
        "VAL_PATH_URBAN = paths[\"validation_urban\"]\n",
        "VAL_PATH_RURAL = paths[\"validation_rural\"]"
      ]
    },
    {
      "cell_type": "code",
      "source": [
        "SEM_CLASSES = [\n",
        "    'background',\n",
        "    'building',\n",
        "    'road',\n",
        "    'water',\n",
        "    'barren',\n",
        "    'forest',\n",
        "    'agriculture'\n",
        "]\n",
        "\n",
        "NUM_CLASSES = len(SEM_CLASSES)\n",
        "\n",
        "sem_class_to_idx = {cls: idx for (idx, cls) in enumerate(SEM_CLASSES)}\n",
        "\n",
        "IGNORE_INDEX = -1\n",
        "\n",
        "RESIZE = 512\n",
        "\n",
        "BATCH_SIZE = 16\n",
        "\n",
        "EPOCHS = 20\n",
        "\n",
        "SEED = 42\n",
        "\n",
        "STEP_SIZE = 21\n",
        "\n",
        "GAMMA = 0.5\n",
        "\n",
        "LR = 0.00053\n",
        "\n",
        "P = 0.5 # probabilità augmentation\n",
        "\n",
        "ALPHA_TEACHER = 0.99\n",
        "\n",
        "THRESHOLD = 0.986\n"
      ],
      "metadata": {
        "id": "VJdiPeF5idkI"
      },
      "execution_count": 90,
      "outputs": []
    },
    {
      "cell_type": "markdown",
      "source": [
        "# Define and instantiate"
      ],
      "metadata": {
        "id": "dAYUGwGYiFGi"
      }
    },
    {
      "cell_type": "markdown",
      "metadata": {
        "id": "UrjECeMs7Sc5"
      },
      "source": [
        "### Define PIDnet"
      ]
    },
    {
      "cell_type": "code",
      "execution_count": 91,
      "metadata": {
        "id": "QWTXrB6FZo_G"
      },
      "outputs": [],
      "source": [
        "import torch\n",
        "import torch.nn as nn\n",
        "import torch.nn.functional as F\n",
        "\n",
        "BatchNorm2d = nn.BatchNorm2d\n",
        "bn_mom = 0.1\n",
        "algc = False\n",
        "\n",
        "class BasicBlock(nn.Module):\n",
        "    expansion = 1\n",
        "\n",
        "    def __init__(self, inplanes, planes, stride=1, downsample=None, no_relu=False):\n",
        "        super(BasicBlock, self).__init__()\n",
        "        self.conv1 = nn.Conv2d(inplanes, planes, kernel_size=3, stride=stride,\n",
        "                               padding=1, bias=False)\n",
        "        self.bn1 = BatchNorm2d(planes, momentum=bn_mom)\n",
        "        self.relu = nn.ReLU(inplace=True)\n",
        "        self.conv2 = nn.Conv2d(planes, planes, kernel_size=3,\n",
        "                               padding=1, bias=False)\n",
        "        self.bn2 = BatchNorm2d(planes, momentum=bn_mom)\n",
        "        self.downsample = downsample\n",
        "        self.stride = stride\n",
        "        self.no_relu = no_relu\n",
        "\n",
        "    def forward(self, x):\n",
        "        residual = x\n",
        "\n",
        "        out = self.conv1(x)\n",
        "        out = self.bn1(out)\n",
        "        out = self.relu(out)\n",
        "\n",
        "        out = self.conv2(out)\n",
        "        out = self.bn2(out)\n",
        "\n",
        "        if self.downsample is not None:\n",
        "            residual = self.downsample(x)\n",
        "\n",
        "        out += residual\n",
        "\n",
        "        if self.no_relu:\n",
        "            return out\n",
        "        else:\n",
        "            return self.relu(out)\n",
        "\n",
        "class Bottleneck(nn.Module):\n",
        "    expansion = 2\n",
        "\n",
        "    def __init__(self, inplanes, planes, stride=1, downsample=None, no_relu=True):\n",
        "        super(Bottleneck, self).__init__()\n",
        "        self.conv1 = nn.Conv2d(inplanes, planes, kernel_size=1, bias=False)\n",
        "        self.bn1 = BatchNorm2d(planes, momentum=bn_mom)\n",
        "        self.conv2 = nn.Conv2d(planes, planes, kernel_size=3, stride=stride,\n",
        "                               padding=1, bias=False)\n",
        "        self.bn2 = BatchNorm2d(planes, momentum=bn_mom)\n",
        "        self.conv3 = nn.Conv2d(planes, planes * self.expansion, kernel_size=1,\n",
        "                               bias=False)\n",
        "        self.bn3 = BatchNorm2d(planes * self.expansion, momentum=bn_mom)\n",
        "        self.relu = nn.ReLU(inplace=True)\n",
        "        self.downsample = downsample\n",
        "        self.stride = stride\n",
        "        self.no_relu = no_relu\n",
        "\n",
        "    def forward(self, x):\n",
        "        residual = x\n",
        "\n",
        "        out = self.conv1(x)\n",
        "        out = self.bn1(out)\n",
        "        out = self.relu(out)\n",
        "\n",
        "        out = self.conv2(out)\n",
        "        out = self.bn2(out)\n",
        "        out = self.relu(out)\n",
        "\n",
        "        out = self.conv3(out)\n",
        "        out = self.bn3(out)\n",
        "\n",
        "        if self.downsample is not None:\n",
        "            residual = self.downsample(x)\n",
        "\n",
        "        out += residual\n",
        "        if self.no_relu:\n",
        "            return out\n",
        "        else:\n",
        "            return self.relu(out)\n",
        "\n",
        "class segmenthead(nn.Module):\n",
        "\n",
        "    def __init__(self, inplanes, interplanes, outplanes, scale_factor=None):\n",
        "        super(segmenthead, self).__init__()\n",
        "        self.bn1 = BatchNorm2d(inplanes, momentum=bn_mom)\n",
        "        self.conv1 = nn.Conv2d(inplanes, interplanes, kernel_size=3, padding=1, bias=False)\n",
        "        self.bn2 = BatchNorm2d(interplanes, momentum=bn_mom)\n",
        "        self.relu = nn.ReLU(inplace=True)\n",
        "        self.conv2 = nn.Conv2d(interplanes, outplanes, kernel_size=1, padding=0, bias=True)\n",
        "        self.scale_factor = scale_factor\n",
        "\n",
        "    def forward(self, x):\n",
        "\n",
        "        x = self.conv1(self.relu(self.bn1(x)))\n",
        "        out = self.conv2(self.relu(self.bn2(x)))\n",
        "\n",
        "        if self.scale_factor is not None:\n",
        "            height = x.shape[-2] * self.scale_factor\n",
        "            width = x.shape[-1] * self.scale_factor\n",
        "            out = F.interpolate(out,\n",
        "                        size=[height, width],\n",
        "                        mode='bilinear', align_corners=algc)\n",
        "\n",
        "        return out\n",
        "\n",
        "class DAPPM(nn.Module):\n",
        "    def __init__(self, inplanes, branch_planes, outplanes, BatchNorm=nn.BatchNorm2d):\n",
        "        super(DAPPM, self).__init__()\n",
        "        bn_mom = 0.1\n",
        "        self.scale1 = nn.Sequential(nn.AvgPool2d(kernel_size=5, stride=2, padding=2),\n",
        "                                    BatchNorm(inplanes, momentum=bn_mom),\n",
        "                                    nn.ReLU(inplace=True),\n",
        "                                    nn.Conv2d(inplanes, branch_planes, kernel_size=1, bias=False),\n",
        "                                    )\n",
        "        self.scale2 = nn.Sequential(nn.AvgPool2d(kernel_size=9, stride=4, padding=4),\n",
        "                                    BatchNorm(inplanes, momentum=bn_mom),\n",
        "                                    nn.ReLU(inplace=True),\n",
        "                                    nn.Conv2d(inplanes, branch_planes, kernel_size=1, bias=False),\n",
        "                                    )\n",
        "        self.scale3 = nn.Sequential(nn.AvgPool2d(kernel_size=17, stride=8, padding=8),\n",
        "                                    BatchNorm(inplanes, momentum=bn_mom),\n",
        "                                    nn.ReLU(inplace=True),\n",
        "                                    nn.Conv2d(inplanes, branch_planes, kernel_size=1, bias=False),\n",
        "                                    )\n",
        "        self.scale4 = nn.Sequential(nn.AdaptiveAvgPool2d((1, 1)),\n",
        "                                    BatchNorm(inplanes, momentum=bn_mom),\n",
        "                                    nn.ReLU(inplace=True),\n",
        "                                    nn.Conv2d(inplanes, branch_planes, kernel_size=1, bias=False),\n",
        "                                    )\n",
        "        self.scale0 = nn.Sequential(\n",
        "                                    BatchNorm(inplanes, momentum=bn_mom),\n",
        "                                    nn.ReLU(inplace=True),\n",
        "                                    nn.Conv2d(inplanes, branch_planes, kernel_size=1, bias=False),\n",
        "                                    )\n",
        "        self.process1 = nn.Sequential(\n",
        "                                    BatchNorm(branch_planes, momentum=bn_mom),\n",
        "                                    nn.ReLU(inplace=True),\n",
        "                                    nn.Conv2d(branch_planes, branch_planes, kernel_size=3, padding=1, bias=False),\n",
        "                                    )\n",
        "        self.process2 = nn.Sequential(\n",
        "                                    BatchNorm(branch_planes, momentum=bn_mom),\n",
        "                                    nn.ReLU(inplace=True),\n",
        "                                    nn.Conv2d(branch_planes, branch_planes, kernel_size=3, padding=1, bias=False),\n",
        "                                    )\n",
        "        self.process3 = nn.Sequential(\n",
        "                                    BatchNorm(branch_planes, momentum=bn_mom),\n",
        "                                    nn.ReLU(inplace=True),\n",
        "                                    nn.Conv2d(branch_planes, branch_planes, kernel_size=3, padding=1, bias=False),\n",
        "                                    )\n",
        "        self.process4 = nn.Sequential(\n",
        "                                    BatchNorm(branch_planes, momentum=bn_mom),\n",
        "                                    nn.ReLU(inplace=True),\n",
        "                                    nn.Conv2d(branch_planes, branch_planes, kernel_size=3, padding=1, bias=False),\n",
        "                                    )\n",
        "        self.compression = nn.Sequential(\n",
        "                                    BatchNorm(branch_planes * 5, momentum=bn_mom),\n",
        "                                    nn.ReLU(inplace=True),\n",
        "                                    nn.Conv2d(branch_planes * 5, outplanes, kernel_size=1, bias=False),\n",
        "                                    )\n",
        "        self.shortcut = nn.Sequential(\n",
        "                                    BatchNorm(inplanes, momentum=bn_mom),\n",
        "                                    nn.ReLU(inplace=True),\n",
        "                                    nn.Conv2d(inplanes, outplanes, kernel_size=1, bias=False),\n",
        "                                    )\n",
        "\n",
        "    def forward(self, x):\n",
        "        width = x.shape[-1]\n",
        "        height = x.shape[-2]\n",
        "        x_list = []\n",
        "\n",
        "        x_list.append(self.scale0(x))\n",
        "        x_list.append(self.process1((F.interpolate(self.scale1(x),\n",
        "                        size=[height, width],\n",
        "                        mode='bilinear', align_corners=algc)+x_list[0])))\n",
        "        x_list.append((self.process2((F.interpolate(self.scale2(x),\n",
        "                        size=[height, width],\n",
        "                        mode='bilinear', align_corners=algc)+x_list[1]))))\n",
        "        x_list.append(self.process3((F.interpolate(self.scale3(x),\n",
        "                        size=[height, width],\n",
        "                        mode='bilinear', align_corners=algc)+x_list[2])))\n",
        "        x_list.append(self.process4((F.interpolate(self.scale4(x),\n",
        "                        size=[height, width],\n",
        "                        mode='bilinear', align_corners=algc)+x_list[3])))\n",
        "\n",
        "        out = self.compression(torch.cat(x_list, 1)) + self.shortcut(x)\n",
        "        return out\n",
        "\n",
        "class PAPPM(nn.Module):\n",
        "    def __init__(self, inplanes, branch_planes, outplanes, BatchNorm=nn.BatchNorm2d):\n",
        "        super(PAPPM, self).__init__()\n",
        "        bn_mom = 0.1\n",
        "        self.scale1 = nn.Sequential(nn.AvgPool2d(kernel_size=5, stride=2, padding=2),\n",
        "                                    BatchNorm(inplanes, momentum=bn_mom),\n",
        "                                    nn.ReLU(inplace=True),\n",
        "                                    nn.Conv2d(inplanes, branch_planes, kernel_size=1, bias=False),\n",
        "                                    )\n",
        "        self.scale2 = nn.Sequential(nn.AvgPool2d(kernel_size=9, stride=4, padding=4),\n",
        "                                    BatchNorm(inplanes, momentum=bn_mom),\n",
        "                                    nn.ReLU(inplace=True),\n",
        "                                    nn.Conv2d(inplanes, branch_planes, kernel_size=1, bias=False),\n",
        "                                    )\n",
        "        self.scale3 = nn.Sequential(nn.AvgPool2d(kernel_size=17, stride=8, padding=8),\n",
        "                                    BatchNorm(inplanes, momentum=bn_mom),\n",
        "                                    nn.ReLU(inplace=True),\n",
        "                                    nn.Conv2d(inplanes, branch_planes, kernel_size=1, bias=False),\n",
        "                                    )\n",
        "        self.scale4 = nn.Sequential(nn.AdaptiveAvgPool2d((1, 1)),\n",
        "                                    BatchNorm(inplanes, momentum=bn_mom),\n",
        "                                    nn.ReLU(inplace=True),\n",
        "                                    nn.Conv2d(inplanes, branch_planes, kernel_size=1, bias=False),\n",
        "                                    )\n",
        "\n",
        "        self.scale0 = nn.Sequential(\n",
        "                                    BatchNorm(inplanes, momentum=bn_mom),\n",
        "                                    nn.ReLU(inplace=True),\n",
        "                                    nn.Conv2d(inplanes, branch_planes, kernel_size=1, bias=False),\n",
        "                                    )\n",
        "\n",
        "        self.scale_process = nn.Sequential(\n",
        "                                    BatchNorm(branch_planes*4, momentum=bn_mom),\n",
        "                                    nn.ReLU(inplace=True),\n",
        "                                    nn.Conv2d(branch_planes*4, branch_planes*4, kernel_size=3, padding=1, groups=4, bias=False),\n",
        "                                    )\n",
        "\n",
        "\n",
        "        self.compression = nn.Sequential(\n",
        "                                    BatchNorm(branch_planes * 5, momentum=bn_mom),\n",
        "                                    nn.ReLU(inplace=True),\n",
        "                                    nn.Conv2d(branch_planes * 5, outplanes, kernel_size=1, bias=False),\n",
        "                                    )\n",
        "\n",
        "        self.shortcut = nn.Sequential(\n",
        "                                    BatchNorm(inplanes, momentum=bn_mom),\n",
        "                                    nn.ReLU(inplace=True),\n",
        "                                    nn.Conv2d(inplanes, outplanes, kernel_size=1, bias=False),\n",
        "                                    )\n",
        "\n",
        "\n",
        "    def forward(self, x):\n",
        "        width = x.shape[-1]\n",
        "        height = x.shape[-2]\n",
        "        scale_list = []\n",
        "\n",
        "        x_ = self.scale0(x)\n",
        "        scale_list.append(F.interpolate(self.scale1(x), size=[height, width],\n",
        "                        mode='bilinear', align_corners=algc)+x_)\n",
        "        scale_list.append(F.interpolate(self.scale2(x), size=[height, width],\n",
        "                        mode='bilinear', align_corners=algc)+x_)\n",
        "        scale_list.append(F.interpolate(self.scale3(x), size=[height, width],\n",
        "                        mode='bilinear', align_corners=algc)+x_)\n",
        "        scale_list.append(F.interpolate(self.scale4(x), size=[height, width],\n",
        "                        mode='bilinear', align_corners=algc)+x_)\n",
        "\n",
        "        scale_out = self.scale_process(torch.cat(scale_list, 1))\n",
        "\n",
        "        out = self.compression(torch.cat([x_,scale_out], 1)) + self.shortcut(x)\n",
        "        return out\n",
        "\n",
        "\n",
        "class PagFM(nn.Module):\n",
        "    def __init__(self, in_channels, mid_channels, after_relu=False, with_channel=False, BatchNorm=nn.BatchNorm2d):\n",
        "        super(PagFM, self).__init__()\n",
        "        self.with_channel = with_channel\n",
        "        self.after_relu = after_relu\n",
        "        self.f_x = nn.Sequential(\n",
        "                                nn.Conv2d(in_channels, mid_channels,\n",
        "                                          kernel_size=1, bias=False),\n",
        "                                BatchNorm(mid_channels)\n",
        "                                )\n",
        "        self.f_y = nn.Sequential(\n",
        "                                nn.Conv2d(in_channels, mid_channels,\n",
        "                                          kernel_size=1, bias=False),\n",
        "                                BatchNorm(mid_channels)\n",
        "                                )\n",
        "        if with_channel:\n",
        "            self.up = nn.Sequential(\n",
        "                                    nn.Conv2d(mid_channels, in_channels,\n",
        "                                              kernel_size=1, bias=False),\n",
        "                                    BatchNorm(in_channels)\n",
        "                                   )\n",
        "        if after_relu:\n",
        "            self.relu = nn.ReLU(inplace=True)\n",
        "\n",
        "    def forward(self, x, y):\n",
        "        input_size = x.size()\n",
        "        if self.after_relu:\n",
        "            y = self.relu(y)\n",
        "            x = self.relu(x)\n",
        "\n",
        "        y_q = self.f_y(y)\n",
        "        y_q = F.interpolate(y_q, size=[input_size[2], input_size[3]],\n",
        "                            mode='bilinear', align_corners=False)\n",
        "        x_k = self.f_x(x)\n",
        "\n",
        "        if self.with_channel:\n",
        "            sim_map = torch.sigmoid(self.up(x_k * y_q))\n",
        "        else:\n",
        "            sim_map = torch.sigmoid(torch.sum(x_k * y_q, dim=1).unsqueeze(1))\n",
        "\n",
        "        y = F.interpolate(y, size=[input_size[2], input_size[3]],\n",
        "                            mode='bilinear', align_corners=False)\n",
        "        x = (1-sim_map)*x + sim_map*y\n",
        "\n",
        "        return x\n",
        "\n",
        "class Light_Bag(nn.Module):\n",
        "    def __init__(self, in_channels, out_channels, BatchNorm=nn.BatchNorm2d):\n",
        "        super(Light_Bag, self).__init__()\n",
        "        self.conv_p = nn.Sequential(\n",
        "                                nn.Conv2d(in_channels, out_channels,\n",
        "                                          kernel_size=1, bias=False),\n",
        "                                BatchNorm(out_channels)\n",
        "                                )\n",
        "        self.conv_i = nn.Sequential(\n",
        "                                nn.Conv2d(in_channels, out_channels,\n",
        "                                          kernel_size=1, bias=False),\n",
        "                                BatchNorm(out_channels)\n",
        "                                )\n",
        "\n",
        "    def forward(self, p, i, d):\n",
        "        edge_att = torch.sigmoid(d)\n",
        "\n",
        "        p_add = self.conv_p((1-edge_att)*i + p)\n",
        "        i_add = self.conv_i(i + edge_att*p)\n",
        "\n",
        "        return p_add + i_add\n",
        "\n",
        "\n",
        "class DDFMv2(nn.Module):\n",
        "    def __init__(self, in_channels, out_channels, BatchNorm=nn.BatchNorm2d):\n",
        "        super(DDFMv2, self).__init__()\n",
        "        self.conv_p = nn.Sequential(\n",
        "                                BatchNorm(in_channels),\n",
        "                                nn.ReLU(inplace=True),\n",
        "                                nn.Conv2d(in_channels, out_channels,\n",
        "                                          kernel_size=1, bias=False),\n",
        "                                BatchNorm(out_channels)\n",
        "                                )\n",
        "        self.conv_i = nn.Sequential(\n",
        "                                BatchNorm(in_channels),\n",
        "                                nn.ReLU(inplace=True),\n",
        "                                nn.Conv2d(in_channels, out_channels,\n",
        "                                          kernel_size=1, bias=False),\n",
        "                                BatchNorm(out_channels)\n",
        "                                )\n",
        "\n",
        "    def forward(self, p, i, d):\n",
        "        edge_att = torch.sigmoid(d)\n",
        "\n",
        "        p_add = self.conv_p((1-edge_att)*i + p)\n",
        "        i_add = self.conv_i(i + edge_att*p)\n",
        "\n",
        "        return p_add + i_add\n",
        "\n",
        "class Bag(nn.Module):\n",
        "    def __init__(self, in_channels, out_channels, BatchNorm=nn.BatchNorm2d):\n",
        "        super(Bag, self).__init__()\n",
        "\n",
        "        self.conv = nn.Sequential(\n",
        "                                BatchNorm(in_channels),\n",
        "                                nn.ReLU(inplace=True),\n",
        "                                nn.Conv2d(in_channels, out_channels,\n",
        "                                          kernel_size=3, padding=1, bias=False)\n",
        "                                )\n",
        "\n",
        "\n",
        "    def forward(self, p, i, d):\n",
        "        edge_att = torch.sigmoid(d)\n",
        "        return self.conv(edge_att*p + (1-edge_att)*i)"
      ]
    },
    {
      "cell_type": "code",
      "execution_count": 92,
      "metadata": {
        "id": "vjCDANDmZZw3"
      },
      "outputs": [],
      "source": [
        "import torch\n",
        "import torch.nn as nn\n",
        "import torch.nn.functional as F\n",
        "import time\n",
        "import logging\n",
        "\n",
        "BatchNorm2d = nn.BatchNorm2d\n",
        "bn_mom = 0.1\n",
        "algc = False\n",
        "\n",
        "\n",
        "\n",
        "class PIDNet(nn.Module):\n",
        "\n",
        "    def __init__(self, m=2, n=3, num_classes=19, planes=64, ppm_planes=96, head_planes=128, augment=True):\n",
        "        super(PIDNet, self).__init__()\n",
        "        self.augment = augment\n",
        "\n",
        "        # I Branch\n",
        "        self.conv1 =  nn.Sequential(\n",
        "                          nn.Conv2d(3,planes,kernel_size=3, stride=2, padding=1),\n",
        "                          BatchNorm2d(planes, momentum=bn_mom),\n",
        "                          nn.ReLU(inplace=True),\n",
        "                          nn.Conv2d(planes,planes,kernel_size=3, stride=2, padding=1),\n",
        "                          BatchNorm2d(planes, momentum=bn_mom),\n",
        "                          nn.ReLU(inplace=True),\n",
        "                      )\n",
        "\n",
        "        self.relu = nn.ReLU(inplace=True)\n",
        "        self.layer1 = self._make_layer(BasicBlock, planes, planes, m)\n",
        "        self.layer2 = self._make_layer(BasicBlock, planes, planes * 2, m, stride=2)\n",
        "        self.layer3 = self._make_layer(BasicBlock, planes * 2, planes * 4, n, stride=2)\n",
        "        self.layer4 = self._make_layer(BasicBlock, planes * 4, planes * 8, n, stride=2)\n",
        "        self.layer5 =  self._make_layer(Bottleneck, planes * 8, planes * 8, 2, stride=2)\n",
        "\n",
        "        # P Branch\n",
        "        self.compression3 = nn.Sequential(\n",
        "                                          nn.Conv2d(planes * 4, planes * 2, kernel_size=1, bias=False),\n",
        "                                          BatchNorm2d(planes * 2, momentum=bn_mom),\n",
        "                                          )\n",
        "\n",
        "        self.compression4 = nn.Sequential(\n",
        "                                          nn.Conv2d(planes * 8, planes * 2, kernel_size=1, bias=False),\n",
        "                                          BatchNorm2d(planes * 2, momentum=bn_mom),\n",
        "                                          )\n",
        "        self.pag3 = PagFM(planes * 2, planes)\n",
        "        self.pag4 = PagFM(planes * 2, planes)\n",
        "\n",
        "        self.layer3_ = self._make_layer(BasicBlock, planes * 2, planes * 2, m)\n",
        "        self.layer4_ = self._make_layer(BasicBlock, planes * 2, planes * 2, m)\n",
        "        self.layer5_ = self._make_layer(Bottleneck, planes * 2, planes * 2, 1)\n",
        "\n",
        "        # D Branch\n",
        "        if m == 2:\n",
        "            self.layer3_d = self._make_single_layer(BasicBlock, planes * 2, planes)\n",
        "            self.layer4_d = self._make_layer(Bottleneck, planes, planes, 1)\n",
        "            self.diff3 = nn.Sequential(\n",
        "                                        nn.Conv2d(planes * 4, planes, kernel_size=3, padding=1, bias=False),\n",
        "                                        BatchNorm2d(planes, momentum=bn_mom),\n",
        "                                        )\n",
        "            self.diff4 = nn.Sequential(\n",
        "                                     nn.Conv2d(planes * 8, planes * 2, kernel_size=3, padding=1, bias=False),\n",
        "                                     BatchNorm2d(planes * 2, momentum=bn_mom),\n",
        "                                     )\n",
        "            self.spp = PAPPM(planes * 16, ppm_planes, planes * 4)\n",
        "            self.dfm = Light_Bag(planes * 4, planes * 4)\n",
        "        else:\n",
        "            self.layer3_d = self._make_single_layer(BasicBlock, planes * 2, planes * 2)\n",
        "            self.layer4_d = self._make_single_layer(BasicBlock, planes * 2, planes * 2)\n",
        "            self.diff3 = nn.Sequential(\n",
        "                                        nn.Conv2d(planes * 4, planes * 2, kernel_size=3, padding=1, bias=False),\n",
        "                                        BatchNorm2d(planes * 2, momentum=bn_mom),\n",
        "                                        )\n",
        "            self.diff4 = nn.Sequential(\n",
        "                                     nn.Conv2d(planes * 8, planes * 2, kernel_size=3, padding=1, bias=False),\n",
        "                                     BatchNorm2d(planes * 2, momentum=bn_mom),\n",
        "                                     )\n",
        "            self.spp = DAPPM(planes * 16, ppm_planes, planes * 4)\n",
        "            self.dfm = Bag(planes * 4, planes * 4)\n",
        "\n",
        "        self.layer5_d = self._make_layer(Bottleneck, planes * 2, planes * 2, 1)\n",
        "\n",
        "        # Prediction Head\n",
        "        if self.augment:\n",
        "            self.seghead_p = segmenthead(planes * 2, head_planes, num_classes)\n",
        "            self.seghead_d = segmenthead(planes * 2, planes, 1)\n",
        "\n",
        "        self.final_layer = segmenthead(planes * 4, head_planes, num_classes)\n",
        "\n",
        "\n",
        "        for m in self.modules():\n",
        "            if isinstance(m, nn.Conv2d):\n",
        "                nn.init.kaiming_normal_(m.weight, mode='fan_out', nonlinearity='relu')\n",
        "            elif isinstance(m, BatchNorm2d):\n",
        "                nn.init.constant_(m.weight, 1)\n",
        "                nn.init.constant_(m.bias, 0)\n",
        "\n",
        "\n",
        "    def _make_layer(self, block, inplanes, planes, blocks, stride=1):\n",
        "        downsample = None\n",
        "        if stride != 1 or inplanes != planes * block.expansion:\n",
        "            downsample = nn.Sequential(\n",
        "                nn.Conv2d(inplanes, planes * block.expansion,\n",
        "                          kernel_size=1, stride=stride, bias=False),\n",
        "                nn.BatchNorm2d(planes * block.expansion, momentum=bn_mom),\n",
        "            )\n",
        "\n",
        "        layers = []\n",
        "        layers.append(block(inplanes, planes, stride, downsample))\n",
        "        inplanes = planes * block.expansion\n",
        "        for i in range(1, blocks):\n",
        "            if i == (blocks-1):\n",
        "                layers.append(block(inplanes, planes, stride=1, no_relu=True))\n",
        "            else:\n",
        "                layers.append(block(inplanes, planes, stride=1, no_relu=False))\n",
        "\n",
        "        return nn.Sequential(*layers)\n",
        "\n",
        "    def _make_single_layer(self, block, inplanes, planes, stride=1):\n",
        "        downsample = None\n",
        "        if stride != 1 or inplanes != planes * block.expansion:\n",
        "            downsample = nn.Sequential(\n",
        "                nn.Conv2d(inplanes, planes * block.expansion,\n",
        "                          kernel_size=1, stride=stride, bias=False),\n",
        "                nn.BatchNorm2d(planes * block.expansion, momentum=bn_mom),\n",
        "            )\n",
        "\n",
        "        layer = block(inplanes, planes, stride, downsample, no_relu=True)\n",
        "\n",
        "        return layer\n",
        "\n",
        "    def forward(self, x):\n",
        "\n",
        "        width_output = x.shape[-1] // 8\n",
        "        height_output = x.shape[-2] // 8\n",
        "\n",
        "        x = self.conv1(x)\n",
        "        x = self.layer1(x)\n",
        "        x = self.relu(self.layer2(self.relu(x)))\n",
        "        x_ = self.layer3_(x)\n",
        "        x_d = self.layer3_d(x)\n",
        "\n",
        "        x = self.relu(self.layer3(x))\n",
        "        x_ = self.pag3(x_, self.compression3(x))\n",
        "        x_d = x_d + F.interpolate(\n",
        "                        self.diff3(x),\n",
        "                        size=[height_output, width_output],\n",
        "                        mode='bilinear', align_corners=algc)\n",
        "        if self.augment:\n",
        "            temp_p = x_\n",
        "\n",
        "        x = self.relu(self.layer4(x))\n",
        "        x_ = self.layer4_(self.relu(x_))\n",
        "        x_d = self.layer4_d(self.relu(x_d))\n",
        "\n",
        "        x_ = self.pag4(x_, self.compression4(x))\n",
        "        x_d = x_d + F.interpolate(\n",
        "                        self.diff4(x),\n",
        "                        size=[height_output, width_output],\n",
        "                        mode='bilinear', align_corners=algc)\n",
        "        if self.augment:\n",
        "            temp_d = x_d\n",
        "\n",
        "        x_ = self.layer5_(self.relu(x_))\n",
        "        x_d = self.layer5_d(self.relu(x_d))\n",
        "        x = F.interpolate(\n",
        "                        self.spp(self.layer5(x)),\n",
        "                        size=[height_output, width_output],\n",
        "                        mode='bilinear', align_corners=algc)\n",
        "\n",
        "        x_ = self.final_layer(self.dfm(x_, x, x_d))\n",
        "\n",
        "        if self.augment:\n",
        "            x_extra_p = self.seghead_p(temp_p)\n",
        "            x_extra_d = self.seghead_d(temp_d)\n",
        "            return [x_extra_p, x_, x_extra_d]\n",
        "        else:\n",
        "            return x_\n",
        "\n",
        "def get_seg_model(cfg, imgnet_pretrained):\n",
        "\n",
        "    if 's' in cfg.MODEL.NAME:\n",
        "        model = PIDNet(m=2, n=3, num_classes=cfg.DATASET.NUM_CLASSES, planes=32, ppm_planes=96, head_planes=128, augment=True)\n",
        "    elif 'm' in cfg.MODEL.NAME:\n",
        "        model = PIDNet(m=2, n=3, num_classes=cfg.DATASET.NUM_CLASSES, planes=64, ppm_planes=96, head_planes=128, augment=True)\n",
        "    else:\n",
        "        model = PIDNet(m=3, n=4, num_classes=cfg.DATASET.NUM_CLASSES, planes=64, ppm_planes=112, head_planes=256, augment=True)\n",
        "\n",
        "    if imgnet_pretrained:\n",
        "        pretrained_state = torch.load(cfg.MODEL.PRETRAINED, map_location='cpu')['state_dict']\n",
        "        model_dict = model.state_dict()\n",
        "        pretrained_state = {k: v for k, v in pretrained_state.items() if (k in model_dict and v.shape == model_dict[k].shape)}\n",
        "        model_dict.update(pretrained_state)\n",
        "        msg = 'Loaded {} parameters!'.format(len(pretrained_state))\n",
        "        logging.info('Attention!!!')\n",
        "        logging.info(msg)\n",
        "        logging.info('Over!!!')\n",
        "        model.load_state_dict(model_dict, strict = False)\n",
        "    else:\n",
        "        pretrained_dict = torch.load(cfg.MODEL.PRETRAINED, map_location='cpu')\n",
        "        if 'state_dict' in pretrained_dict:\n",
        "            pretrained_dict = pretrained_dict['state_dict']\n",
        "        model_dict = model.state_dict()\n",
        "        pretrained_dict = {k[6:]: v for k, v in pretrained_dict.items() if (k[6:] in model_dict and v.shape == model_dict[k[6:]].shape)}\n",
        "        msg = 'Loaded {} parameters!'.format(len(pretrained_dict))\n",
        "        logging.info('Attention!!!')\n",
        "        logging.info(msg)\n",
        "        logging.info('Over!!!')\n",
        "        model_dict.update(pretrained_dict)\n",
        "        model.load_state_dict(model_dict, strict = False)\n",
        "\n",
        "    return model\n",
        "\n",
        "def get_pred_model(name, num_classes):\n",
        "\n",
        "    if 's' in name:\n",
        "        model = PIDNet(m=2, n=3, num_classes=num_classes, planes=32, ppm_planes=96, head_planes=128, augment=False)\n",
        "    elif 'm' in name:\n",
        "        model = PIDNet(m=2, n=3, num_classes=num_classes, planes=64, ppm_planes=96, head_planes=128, augment=False)\n",
        "    else:\n",
        "        model = PIDNet(m=3, n=4, num_classes=num_classes, planes=64, ppm_planes=112, head_planes=256, augment=False)\n",
        "\n",
        "    return model"
      ]
    },
    {
      "cell_type": "markdown",
      "metadata": {
        "id": "dw9SYUCgi6us"
      },
      "source": [
        "# Dataset & dataloader"
      ]
    },
    {
      "cell_type": "markdown",
      "source": [
        "## Dataset definition"
      ],
      "metadata": {
        "id": "wrMzI_LbjhP_"
      }
    },
    {
      "cell_type": "code",
      "execution_count": 93,
      "metadata": {
        "id": "T6kSW8hGjAo9"
      },
      "outputs": [],
      "source": [
        "import os\n",
        "import torch\n",
        "from torch.utils.data import Dataset, DataLoader\n",
        "from torchvision import transforms\n",
        "from PIL import Image\n",
        "import numpy as np\n",
        "import cv2\n",
        "from albumentations.pytorch import ToTensorV2\n",
        "\n",
        "class SegmentationDataset(Dataset):\n",
        "    def __init__(self, image_dir, mask_dir, transform, target=False):\n",
        "        self.image_dir = image_dir\n",
        "        self.mask_dir = mask_dir\n",
        "        self.transform = transform\n",
        "        self.image_filenames = sorted(os.listdir(image_dir))\n",
        "        self.mask_filenames = sorted(os.listdir(mask_dir))\n",
        "        self.target = target\n",
        "\n",
        "    def __len__(self):\n",
        "        return len(self.image_filenames)\n",
        "\n",
        "    def __getitem__(self, idx):\n",
        "        img_path = os.path.join(self.image_dir, self.image_filenames[idx])\n",
        "        mask_path = os.path.join(self.mask_dir, self.mask_filenames[idx])\n",
        "\n",
        "        # Read an image with OpenCV\n",
        "        image = cv2.imread(img_path)\n",
        "        mask = cv2.imread(mask_path)\n",
        "\n",
        "        # By default OpenCV uses BGR color space for color images,\n",
        "        # so we need to convert the image to RGB color space.\n",
        "        image = cv2.cvtColor(image, cv2.COLOR_BGR2RGB)\n",
        "        mask = cv2.cvtColor(mask, cv2.COLOR_BGR2GRAY)\n",
        "\n",
        "        if self.transform:\n",
        "            transformed = self.transform(image=image, mask=mask)\n",
        "            image = transformed[\"image\"]\n",
        "            mask = transformed[\"mask\"]\n",
        "\n",
        "        mask_np = np.array(mask)\n",
        "\n",
        "        edge = cv2.Canny(mask_np, 0.1, 0.2)\n",
        "\n",
        "        kernel = np.ones((3, 3), np.uint8)  # Kernel for dilation\n",
        "\n",
        "        edge = edge[6:-6, 6:-6]\n",
        "        edge = np.pad(edge, ((6,6),(6,6)), mode='constant')\n",
        "        boundaries = cv2.dilate(edge, kernel, iterations=1)  # Dilate edges\n",
        "        boundaries = (boundaries > 50) * 1.0 # boundaries matrix is float with 1.0 or 0.0\n",
        "\n",
        "        mask = torch.as_tensor(np.array(mask), dtype=torch.int64) - 1\n",
        "\n",
        "        boundaries_tensor = torch.as_tensor(boundaries, dtype=torch.float32)\n",
        "\n",
        "        # if the dataset is a target dataset, does not return the mask\n",
        "        if self.target == True:\n",
        "          return image, boundaries_tensor\n",
        "        return image, mask, boundaries_tensor"
      ]
    },
    {
      "cell_type": "code",
      "source": [
        "# Define transformations for images & masks\n",
        "import albumentations as A\n",
        "from albumentations.pytorch import ToTensorV2\n",
        "from torchvision.transforms import v2 as T\n",
        "import cv2\n",
        "\n",
        "resize_transform = A.Compose([\n",
        "    A.Resize(height=RESIZE, width=RESIZE, p=1),\n",
        "    A.ToFloat(),\n",
        "    ToTensorV2()\n",
        "])\n",
        "\n",
        "# the best augmentation from previous step is chosen\n",
        "augment = A.HueSaturationValue(\n",
        "    hue_shift_limit=20,\n",
        "    sat_shift_limit=30,\n",
        "    val_shift_limit=20,\n",
        "    p=P)"
      ],
      "metadata": {
        "id": "cOr2yJ_6kvA4"
      },
      "execution_count": 94,
      "outputs": []
    },
    {
      "cell_type": "code",
      "source": [
        "def extract_boundary_mask(mask):\n",
        "    if isinstance(mask, torch.Tensor):\n",
        "        mask_np = mask.squeeze().cpu().numpy()  # Assicura che sia [H, W]\n",
        "    else:\n",
        "        mask_np = np.array(mask)\n",
        "\n",
        "    mask_np = mask_np.astype(np.uint8)\n",
        "\n",
        "    edge = cv2.Canny(mask_np, 0.1, 0.2)\n",
        "\n",
        "    kernel = np.ones((3, 3), np.uint8)\n",
        "    edge = edge[6:-6, 6:-6]\n",
        "    edge = np.pad(edge, ((6,6),(6,6)), mode='constant')\n",
        "    boundaries = cv2.dilate(edge, kernel, iterations=1)\n",
        "    boundaries = (boundaries > 50).astype(np.float32)\n",
        "\n",
        "    boundaries_tensor = torch.from_numpy(boundaries).unsqueeze(0)  # shape: [1, H, W]\n",
        "    return boundaries_tensor\n"
      ],
      "metadata": {
        "id": "fbbVpaD-McpG"
      },
      "execution_count": 95,
      "outputs": []
    },
    {
      "cell_type": "markdown",
      "source": [
        "## Dataset instantiation"
      ],
      "metadata": {
        "id": "aRC4KXtmj3Pi"
      }
    },
    {
      "cell_type": "code",
      "source": [
        "# Create dataset objects\n",
        "\n",
        "# TRAINING DATASETS\n",
        "source_dataset = SegmentationDataset(TRAINING_PATH_URBAN + \"/images_png\", TRAINING_PATH_URBAN + \"/masks_png\",\n",
        "                                    transform=resize_transform)\n",
        "\n",
        "\n",
        "target_dataset = SegmentationDataset(TRAINING_PATH_RURAL + \"/images_png\", TRAINING_PATH_RURAL + \"/masks_png\",\n",
        "                                    transform=resize_transform, target=True)\n",
        "\n",
        "# EVALUATION DATASET\n",
        "\n",
        "val_dataset = SegmentationDataset(VAL_PATH_RURAL + \"/images_png\", VAL_PATH_RURAL + \"/masks_png\",\n",
        "                                    transform=resize_transform)"
      ],
      "metadata": {
        "id": "Zk4ZifehjuyZ"
      },
      "execution_count": 96,
      "outputs": []
    },
    {
      "cell_type": "markdown",
      "source": [
        "## Loader instantiation"
      ],
      "metadata": {
        "id": "lyTIKtzjj7i0"
      }
    },
    {
      "cell_type": "code",
      "source": [
        "# Create DataLoaders\n",
        "\n",
        "# TRAINING DATALOADERS\n",
        "source_loader = DataLoader(source_dataset, batch_size=BATCH_SIZE, shuffle=True, num_workers=4)\n",
        "target_loader = DataLoader(target_dataset, batch_size=BATCH_SIZE, shuffle=True, num_workers=4)\n",
        "\n",
        "# EVALUATION DATALOADERS\n",
        "\n",
        "val_loader = DataLoader(val_dataset, batch_size=BATCH_SIZE, shuffle=False, num_workers=4)\n",
        "\n",
        "# enumerate dataloaders\n",
        "source_loader_iter = enumerate(source_loader)\n",
        "target_loader_iter = enumerate(target_loader)\n"
      ],
      "metadata": {
        "id": "vhsQeNzTj_mk"
      },
      "execution_count": 97,
      "outputs": []
    },
    {
      "cell_type": "markdown",
      "metadata": {
        "id": "O4pcqQXrMzza"
      },
      "source": [
        "### Instantiate model"
      ]
    },
    {
      "cell_type": "code",
      "execution_count": 98,
      "metadata": {
        "id": "hZNWIM0DbnJv"
      },
      "outputs": [],
      "source": [
        "import gdown\n",
        "\n",
        "if (os.path.exists(\"./PIDNet_S_ImageNet.pth.tar\") == False):\n",
        "  url = \"https://drive.google.com/uc?id=1hIBp_8maRr60-B3PF0NVtaA6TYBvO4y-\"\n",
        "  output = \"./\"\n",
        "  gdown.download(url, output, quiet=False)\n",
        "\n",
        "  print(\"imagenet-pretrained pidnet weights downloaded\")\n",
        "\n",
        "\n",
        "class Config:\n",
        "  class MODEL:\n",
        "      NAME = 'pidnet_s'\n",
        "      PRETRAINED = 'PIDNet_S_ImageNet.pth.tar'\n",
        "  class DATASET:\n",
        "      NUM_CLASSES = NUM_CLASSES\n",
        "\n",
        "cfg = Config()\n",
        "\n",
        "model = get_seg_model(cfg, imgnet_pretrained=True)"
      ]
    },
    {
      "cell_type": "markdown",
      "metadata": {
        "id": "MSQUcy7_t2of"
      },
      "source": [
        "# Training Phase"
      ]
    },
    {
      "cell_type": "markdown",
      "source": [
        "## Define loss functions"
      ],
      "metadata": {
        "id": "p_wwWFwFkIoR"
      }
    },
    {
      "cell_type": "code",
      "source": [
        "import torch\n",
        "import torch.nn as nn\n",
        "import torch.nn.functional as F\n",
        "\n",
        "# Extra Semantic Loss (Classica CrossEntropy Loss)\n",
        "class CrossEntropyLoss(nn.Module):\n",
        "    def __init__(self, num_outputs, weight=None, balance_weights=[0.4, 1.0], sb_weights=1.0):\n",
        "        super(CrossEntropyLoss, self).__init__()\n",
        "        self.loss = nn.CrossEntropyLoss(weight=weight, ignore_index=IGNORE_INDEX)\n",
        "        self.num_outputs = num_outputs\n",
        "        self.balance_weights = balance_weights\n",
        "        self.sb_weights = sb_weights\n",
        "\n",
        "    def _forward(self, pred, target):\n",
        "        return self.loss(pred, target)\n",
        "\n",
        "    def forward(self, score, target):\n",
        "        if self.num_outputs == 1:\n",
        "            score = [score]\n",
        "\n",
        "        if len(self.balance_weights) == len(score):\n",
        "            return sum([w * self._forward(x, target) for (w, x) in zip(self.balance_weights, score)])\n",
        "        elif len(score) == 1:\n",
        "            return self.sb_weights * self._forward(score[0], target)\n",
        "        else:\n",
        "            raise ValueError(\"lengths of prediction and target are not identical!\")\n",
        "\n",
        "class OhemCrossEntropy(nn.Module):\n",
        "    def __init__(self, thres=0.7, min_kept=26_000, balance_weights=[0.4, 1.0], sb_weights=1.0, weight=None):\n",
        "        super(OhemCrossEntropy, self).__init__()\n",
        "        self.thresh = thres\n",
        "        self.min_kept = max(1, min_kept)\n",
        "        self.ignore_label = IGNORE_INDEX\n",
        "        self.balance_weights = balance_weights\n",
        "        self.sb_weights = sb_weights\n",
        "        self.criterion = nn.CrossEntropyLoss(\n",
        "            weight=weight,\n",
        "            ignore_index=self.ignore_label,\n",
        "            reduction='none'\n",
        "        )\n",
        "\n",
        "    def _ce_forward(self, score, target):\n",
        "        loss = self.criterion(score, target)\n",
        "        return loss\n",
        "\n",
        "    def _ohem_forward(self, score, target, **kwargs):\n",
        "        pred = F.softmax(score, dim=1)\n",
        "        pixel_losses = self.criterion(score, target).contiguous().view(-1)\n",
        "        mask = target.contiguous().view(-1) != self.ignore_label\n",
        "\n",
        "        tmp_target = target.clone()\n",
        "        tmp_target[tmp_target == self.ignore_label] = 0\n",
        "        pred = pred.gather(1, tmp_target.unsqueeze(1))\n",
        "        pred, ind = pred.contiguous().view(-1,)[mask].contiguous().sort()\n",
        "        min_value = pred[min(self.min_kept, pred.numel() - 1)]\n",
        "        threshold = max(min_value, self.thresh)\n",
        "\n",
        "        pixel_losses = pixel_losses[mask][ind]\n",
        "        pixel_losses = pixel_losses[pred < threshold]\n",
        "        return pixel_losses.mean()\n",
        "\n",
        "    def forward(self, score, target):\n",
        "        if not (isinstance(score, list) or isinstance(score, tuple)):\n",
        "            score = [score]\n",
        "\n",
        "        if len(self.balance_weights) == len(score):\n",
        "            functions = [self._ce_forward] * \\\n",
        "                (len(self.balance_weights) - 1) + [self._ohem_forward]\n",
        "            return sum([\n",
        "                w * func(x, target)\n",
        "                for (w, x, func) in zip(self.balance_weights, score, functions)\n",
        "            ])\n",
        "\n",
        "        elif len(score) == 1:\n",
        "            return self.sb_weights * self._ohem_forward(score[0], target)\n",
        "\n",
        "        else:\n",
        "            raise ValueError(\"lengths of prediction and target are not identical!\")\n",
        "\n",
        "\n",
        "# Weighted Binary Cross Entropy per i bordi\n",
        "def weighted_bce(bd_pre, target):\n",
        "    n, c, h, w = bd_pre.size()\n",
        "    log_p = bd_pre.permute(0,2,3,1).contiguous().view(1, -1)\n",
        "    target_t = target.view(1, -1)\n",
        "\n",
        "    pos_index = (target_t == 1)\n",
        "    neg_index = (target_t == 0)\n",
        "\n",
        "    weight = torch.zeros_like(log_p)\n",
        "    pos_num = pos_index.sum()\n",
        "    neg_num = neg_index.sum()\n",
        "    sum_num = pos_num + neg_num\n",
        "    weight[pos_index] = neg_num * 1.0 / sum_num\n",
        "    weight[neg_index] = pos_num * 1.0 / sum_num\n",
        "\n",
        "    loss = F.binary_cross_entropy_with_logits(log_p, target_t, weight, reduction='mean')\n",
        "\n",
        "    return loss\n",
        "\n",
        "class BondaryLoss(nn.Module):\n",
        "    def __init__(self, coeff_bce = 20.0):\n",
        "        super(BondaryLoss, self).__init__()\n",
        "        self.coeff_bce = coeff_bce\n",
        "\n",
        "    def forward(self, bd_pre, bd_gt):\n",
        "        bce_loss = self.coeff_bce * weighted_bce(bd_pre, bd_gt)\n",
        "        loss = bce_loss\n",
        "\n",
        "        return loss\n",
        "\n",
        "# PIDNet Loss Totale\n",
        "class PIDNetLoss(nn.Module):\n",
        "    def __init__(self, lambda_0=0.4, lambda_1=20, lambda_2=1, lambda_3=1, threshold=0.8, class_weights=None, loss_type = None):\n",
        "        super(PIDNetLoss, self).__init__()\n",
        "        self.class_weights = class_weights\n",
        "        if self.class_weights is not None:\n",
        "            self.class_weights = torch.tensor(class_weights).cuda()\n",
        "        if loss_type == \"ohem\":\n",
        "          self.sem_loss = OhemCrossEntropy(balance_weights=[lambda_0, lambda_2], sb_weights=lambda_3, weight = self.class_weights)\n",
        "        else:\n",
        "          self.sem_loss = CrossEntropyLoss(num_outputs=2, balance_weights=[lambda_0, lambda_2], sb_weights=lambda_3, weight = self.class_weights)\n",
        "        self.bd_loss = BondaryLoss(coeff_bce=lambda_1)\n",
        "        self.threshold = threshold\n",
        "\n",
        "    def forward(self, pred_p, pred_main, target, boundary_head, boundary_mask):\n",
        "        \"\"\"\n",
        "        pred_p: output branch P (B, C, H, W)\n",
        "        pred_main: output principale (B, C, H, W)\n",
        "        target: ground truth segmentazione (B, H, W)\n",
        "        boundary_head: predizione dei bordi (B, 1, H, W)\n",
        "        boundary_mask: ground truth dei bordi (B, 1, H, W)\n",
        "        \"\"\"\n",
        "\n",
        "        loss_s = self.sem_loss([pred_p, pred_main], target) # l_0 e l_2\n",
        "        loss_b = self.bd_loss(boundary_head, boundary_mask.unsqueeze(1)) # l_1\n",
        "\n",
        "        # l_3\n",
        "        filler = torch.ones_like(target) * IGNORE_INDEX\n",
        "        bd_label = torch.where(F.sigmoid(boundary_head[:,0,:,:])>self.threshold, target, filler)\n",
        "        loss_sb = self.sem_loss([pred_main], bd_label)\n",
        "\n",
        "\n",
        "        loss = loss_s + loss_b + loss_sb\n",
        "\n",
        "\n",
        "        return loss"
      ],
      "metadata": {
        "id": "7uJvTyhWp2Ky"
      },
      "execution_count": 99,
      "outputs": []
    },
    {
      "cell_type": "markdown",
      "source": [
        "## Upscaling function"
      ],
      "metadata": {
        "id": "tTTJR3Ly3T_F"
      }
    },
    {
      "cell_type": "code",
      "source": [
        "import torch.nn.functional as F\n",
        "\n",
        "def Upscaling(outputs, boundary_mask, model):\n",
        "    \"\"\"Upscale trough bilinear interpolation -> riporto le dimensioni dell'output a quelli originali\n",
        "    Quindi passiamo da 64 x 64 della rete a 512 x 512\"\"\"\n",
        "\n",
        "    h, w = boundary_mask.size(1), boundary_mask.size(2)\n",
        "    ph, pw = outputs[0].size(2), outputs[0].size(3)\n",
        "    if ph != h or pw != w:\n",
        "        for i in range(len(outputs)):\n",
        "            outputs[i] = F.interpolate(outputs[i], size=(h, w), mode='bilinear', align_corners=True)\n",
        "    if model.augment:\n",
        "        pred_p, pred_main, boundary_head = outputs  # P, I, D branches\n",
        "    else:\n",
        "        pred_p = None\n",
        "        pred_main = outputs\n",
        "        boundary_head = None  # Nessuna branch D se augment=False\n",
        "\n",
        "    return pred_p, pred_main, boundary_head"
      ],
      "metadata": {
        "id": "6A2YoQKT3Tu8"
      },
      "execution_count": 100,
      "outputs": []
    },
    {
      "cell_type": "markdown",
      "source": [
        "## Instantiate discriminator, optimizers and schedulers"
      ],
      "metadata": {
        "id": "B8_NYLc0kqRn"
      }
    },
    {
      "cell_type": "code",
      "execution_count": 101,
      "metadata": {
        "id": "bAbmz5Cz4I4H",
        "colab": {
          "base_uri": "https://localhost:8080/"
        },
        "outputId": "7456e7ff-9d07-4325-a28c-686c4097ceb1"
      },
      "outputs": [
        {
          "output_type": "stream",
          "name": "stdout",
          "text": [
            "cuda\n",
            "86\n",
            "73\n"
          ]
        }
      ],
      "source": [
        "from torch.optim.lr_scheduler import LambdaLR, SequentialLR, StepLR\n",
        "\n",
        "device = torch.device(\"cuda\" if torch.cuda.is_available() else \"cpu\")\n",
        "\n",
        "# optimizer = torch.optim.SGD(model.parameters(), lr=LR, momentum=MOMENTUM)\n",
        "\n",
        "# scheduler = torch.optim.lr_scheduler.ReduceLROnPlateau(optimizer, mode='max', factor=GAMMA, patience=3, threshold=0.01)\n",
        "\n",
        "# if TYPE_WEIGHT == \"median-frequency\" or TYPE_WEIGHT == \"inverse\" or TYPE_WEIGHT == \"log\":\n",
        "#   loss_fn = PIDNetLoss(threshold=0.8, class_weights=class_weights)\n",
        "# else:\n",
        "#   loss_fn = PIDNetLoss(threshold=0.8, class_weights=None)\n",
        "\n",
        "print(device)\n",
        "\n",
        "print(len(target_loader))\n",
        "print(len(source_loader))"
      ]
    },
    {
      "cell_type": "markdown",
      "source": [
        "# Definition ema model"
      ],
      "metadata": {
        "id": "PBJn-0ZMR-WO"
      }
    },
    {
      "cell_type": "code",
      "source": [
        "def create_ema_model(model):\n",
        "\n",
        "    \"\"\"Returns a new model that is used to generate pseudo-labels\"\"\"\n",
        "\n",
        "    ema_model = get_seg_model(cfg, imgnet_pretrained=True)\n",
        "\n",
        "    for param in ema_model.parameters():\n",
        "        param.detach_()\n",
        "    mp = list(model.parameters())\n",
        "    mcp = list(ema_model.parameters())\n",
        "    n = len(mp)\n",
        "    for i in range(0, n):\n",
        "        mcp[i].data[:] = mp[i].data[:].clone()\n",
        "\n",
        "    return ema_model\n",
        "\n",
        "\n",
        "def update_ema_variables(ema_model, model, alpha_teacher, iteration):\n",
        "    # Use the \"true\" average until the exponential average is more correct\n",
        "    alpha_teacher = min(1 - 1 / (iteration + 1), alpha_teacher)\n",
        "\n",
        "    for ema_param, param in zip(ema_model.parameters(), model.parameters()):\n",
        "        #ema_param.data.mul_(alpha).add_(1 - alpha, param.data)\n",
        "        ema_param.data[:] = alpha_teacher * ema_param[:].data[:] + (1 - alpha_teacher) * param[:].data[:]\n",
        "    return ema_model"
      ],
      "metadata": {
        "id": "kxmHtcIQR3N0"
      },
      "execution_count": 102,
      "outputs": []
    },
    {
      "cell_type": "code",
      "source": [
        "def generate_class_mask(pred, classes):\n",
        "    pred, classes = torch.broadcast_tensors(pred.unsqueeze(0), classes.unsqueeze(1).unsqueeze(2))\n",
        "    N = pred.eq(classes).sum(0)\n",
        "    return N"
      ],
      "metadata": {
        "id": "E0WePh8KaIUS"
      },
      "execution_count": 103,
      "outputs": []
    },
    {
      "cell_type": "code",
      "source": [
        "def oneMix(mask, data = None, target = None):\n",
        "    #Mix\n",
        "    if not (data is None):\n",
        "        stackedMask0, _ = torch.broadcast_tensors(mask[0], data[0])\n",
        "        data = (stackedMask0*data[0]+(1-stackedMask0)*data[1]).unsqueeze(0)\n",
        "    if not (target is None):\n",
        "        stackedMask0, _ = torch.broadcast_tensors(mask[0], target[0])\n",
        "        target = (stackedMask0*target[0]+(1-stackedMask0)*target[1]).unsqueeze(0)\n",
        "    return data, target"
      ],
      "metadata": {
        "id": "kZ1q-SXrczgq"
      },
      "execution_count": 104,
      "outputs": []
    },
    {
      "cell_type": "code",
      "source": [
        "def strong_transform(target, masks_mix, aug = None, data = None):\n",
        "    data, target = oneMix(masks_mix, data, target)\n",
        "\n",
        "    if data is not None:\n",
        "      data_np = data.squeeze(0).cpu().numpy()\n",
        "    target_np = target.squeeze(0).cpu().numpy()\n",
        "\n",
        "    if data is not None:\n",
        "      data_np = np.transpose(data_np, (1, 2, 0))\n",
        "    target_np = np.transpose(target_np, (1, 2, 0))\n",
        "\n",
        "    if data is not None:\n",
        "      augmented = aug(image=data_np, mask=target_np)\n",
        "\n",
        "      data = augmented['image']\n",
        "      target = augmented['mask']\n",
        "\n",
        "      data = torch.from_numpy(data).permute(2, 0, 1).unsqueeze(0)  # (1, C, H, W)\n",
        "      target = torch.from_numpy(target).squeeze(-1).unsqueeze(0)  # (1, H, W)\n",
        "    else:\n",
        "      target = torch.from_numpy(target_np).squeeze(-1).unsqueeze(0)  # (1, H, W)\n",
        "      return None, target\n",
        "\n",
        "    return data, target"
      ],
      "metadata": {
        "id": "KiJJDkIFcOpf"
      },
      "execution_count": 105,
      "outputs": []
    },
    {
      "cell_type": "code",
      "source": [
        "class CrossEntropyLoss2dPixelWiseWeighted(nn.Module):\n",
        "    def __init__(self, weight=None, ignore_index=250, reduction='none'):\n",
        "        super(CrossEntropyLoss2dPixelWiseWeighted, self).__init__()\n",
        "        self.CE =  nn.CrossEntropyLoss(weight=weight, ignore_index=ignore_index, reduction=reduction)\n",
        "\n",
        "    def forward(self, output, target, pixelWiseWeight):\n",
        "        loss = self.CE(output, target)\n",
        "        loss = torch.mean(loss * pixelWiseWeight)\n",
        "        return loss"
      ],
      "metadata": {
        "id": "kVJ0W3K9C4ER"
      },
      "execution_count": 106,
      "outputs": []
    },
    {
      "cell_type": "markdown",
      "source": [
        "## Train"
      ],
      "metadata": {
        "id": "jOCaZndAkPy-"
      }
    },
    {
      "cell_type": "code",
      "source": [
        "# Colab: installazione wandb\n",
        "!pip install -q wandb\n",
        "\n",
        "# Login W&B (inserisci manualmente il tuo API Key quando richiesto)\n",
        "import wandb\n",
        "wandb.login()"
      ],
      "metadata": {
        "colab": {
          "base_uri": "https://localhost:8080/"
        },
        "id": "_dA146tllTo1",
        "outputId": "fa92102b-39b9-4073-db51-41947b653e6b"
      },
      "execution_count": 107,
      "outputs": [
        {
          "output_type": "execute_result",
          "data": {
            "text/plain": [
              "True"
            ]
          },
          "metadata": {},
          "execution_count": 107
        }
      ]
    },
    {
      "cell_type": "code",
      "source": [
        "import torch\n",
        "import torch.nn.functional as F\n",
        "from torchmetrics.segmentation import MeanIoU\n",
        "from itertools import cycle\n",
        "from tqdm import tqdm\n",
        "import random\n",
        "import numpy as np\n",
        "from torch.optim.lr_scheduler import LambdaLR, SequentialLR, StepLR\n",
        "\n",
        "# Set seeds\n",
        "random.seed(SEED)\n",
        "np.random.seed(SEED)\n",
        "torch.manual_seed(SEED)\n",
        "torch.cuda.manual_seed(SEED)\n",
        "\n",
        "device = torch.device('cuda' if torch.cuda.is_available() else 'cpu')"
      ],
      "metadata": {
        "id": "yUfMcLz2mYzM"
      },
      "execution_count": 108,
      "outputs": []
    },
    {
      "cell_type": "code",
      "source": [
        "import torch\n",
        "import numpy as np\n",
        "from tqdm import tqdm\n",
        "from torch.utils.data import DataLoader\n",
        "\n",
        "def train(config = None):\n",
        "  with wandb.init(config=config):\n",
        "    config = wandb.config\n",
        "\n",
        "    class_counts = torch.zeros(NUM_CLASSES)\n",
        "\n",
        "    for (images, labels, _) in tqdm(DataLoader(source_dataset, batch_size=BATCH_SIZE)):\n",
        "        for c in range(NUM_CLASSES):\n",
        "            class_counts[c] += torch.sum(labels == c)\n",
        "\n",
        "    class_counts = class_counts.numpy()\n",
        "    total_pixels = np.sum(class_counts)\n",
        "    frequencies = class_counts / total_pixels\n",
        "\n",
        "    if config.TYPE_WEIGHT == \"inverse\":\n",
        "      #Inverse frequency\n",
        "      class_weights = 1.0 / (frequencies + 1e-8)\n",
        "    elif config.TYPE_WEIGHT == \"median-frequency\":\n",
        "      #Median frequency balancing\n",
        "      median = np.median(frequencies)\n",
        "      class_weights = median / (frequencies + 1e-8)\n",
        "    elif config.TYPE_WEIGHT == \"log\":\n",
        "      #Log smoothing\n",
        "      class_weights = 1.0 / np.log(1.02 + frequencies)\n",
        "\n",
        "\n",
        "    model = get_seg_model(cfg, imgnet_pretrained=True)\n",
        "    ema_model = create_ema_model(model)\n",
        "\n",
        "    if config.TYPE_WEIGHT == \"median-frequency\" or config.TYPE_WEIGHT == \"inverse\" or config.TYPE_WEIGHT == \"log\":\n",
        "      loss_fn = PIDNetLoss(threshold=0.8, class_weights=torch.tensor(class_weights).cuda(), loss_type= config.LOSS_TYPE)\n",
        "      mix_loss = CrossEntropyLoss2dPixelWiseWeighted(ignore_index = IGNORE_INDEX, weight = torch.tensor(class_weights).cuda())\n",
        "    else:\n",
        "      loss_fn = PIDNetLoss(threshold=0.8, class_weights=None, loss_type= config.LOSS_TYPE)\n",
        "      mix_loss = CrossEntropyLoss2dPixelWiseWeighted(ignore_index = IGNORE_INDEX, weight = None)\n",
        "\n",
        "    ema_model.to(device)\n",
        "    model.to(device)\n",
        "\n",
        "    optimizer = torch.optim.SGD(model.parameters(), lr=config.LR, momentum=config.MOMENTUM)\n",
        "    scheduler = torch.optim.lr_scheduler.ReduceLROnPlateau(optimizer, mode='max', factor=GAMMA, patience=3, threshold=0.01)\n",
        "\n",
        "    num_classes = 7\n",
        "    miou_classes = MeanIoU(num_classes=num_classes, input_format = \"index\", per_class=True).to(device)\n",
        "\n",
        "    for epoch in range(EPOCHS):\n",
        "        print(scheduler.get_last_lr())\n",
        "        loss_raw_value = 0\n",
        "        total_train_samples = 0\n",
        "\n",
        "        model.train()\n",
        "        ema_model.train()\n",
        "\n",
        "        train_loader = zip(source_loader, target_loader)\n",
        "        num_batches = min(len(source_loader), len(target_loader))\n",
        "\n",
        "        pbar = tqdm(enumerate(train_loader), total=num_batches, desc=f\"Epoch {epoch+1} [Training]\")\n",
        "\n",
        "        for i, (source_batch, target_batch) in pbar:\n",
        "            optimizer.zero_grad()\n",
        "\n",
        "            X_source, y_source, boundary_mask_source = source_batch\n",
        "            X_source, y_source, boundary_mask_source = X_source.to(device), y_source.to(device), boundary_mask_source.to(device)\n",
        "\n",
        "            X_target, boundary_mask_target = target_batch\n",
        "            X_target, boundary_mask_target = X_target.to(device), boundary_mask_target.to(device)\n",
        "\n",
        "            outputs_s = model(X_source)\n",
        "            pred_p, pred_main, boundary_head = Upscaling(outputs=outputs_s, boundary_mask=boundary_mask_source, model=model)\n",
        "\n",
        "            loss_labled = loss_fn(pred_p, pred_main, y_source, boundary_head, boundary_mask_source)\n",
        "\n",
        "            if(config.LOSS_TYPE == \"ohem\"):\n",
        "              loss_labled = torch.mean(loss_labled)\n",
        "\n",
        "            outputs_t = ema_model(X_target)\n",
        "\n",
        "            _ , pred_main, _ = Upscaling(outputs=outputs_t, boundary_mask=boundary_mask_target, model=ema_model)\n",
        "\n",
        "            probs_t = torch.softmax(pred_main.detach(), dim=1)\n",
        "\n",
        "            max_probs, pseudo_labels = torch.max(probs_t, dim=1)\n",
        "\n",
        "            MixMasks = []\n",
        "\n",
        "            for image_i in range(X_source.shape[0]): # Per ogni immagine source stiamo andando ad estrarre delle classi prese in modo random\n",
        "              classes = torch.unique(y_source[image_i])\n",
        "              classes = classes[classes!=-1]\n",
        "              nclasses = classes.shape[0]\n",
        "\n",
        "              classes = (classes[torch.Tensor(np.random.choice(nclasses, int((nclasses+nclasses%2)/2),replace=False)).long()]).cuda()\n",
        "\n",
        "              MixMask = generate_class_mask(y_source[image_i], classes).unsqueeze(0).cuda()\n",
        "              MixMasks.append(MixMask)\n",
        "\n",
        "            mixed_imgs = []\n",
        "            mixed_labels = []\n",
        "            mixed_boundary_masks = []\n",
        "\n",
        "            for image_i in range(X_source.shape[0]):\n",
        "              data = torch.cat((X_source[image_i].unsqueeze(0), X_target[image_i].unsqueeze(0)))\n",
        "              labels = torch.cat((y_source[image_i].unsqueeze(0), pseudo_labels[image_i].unsqueeze(0)))\n",
        "\n",
        "              data, mask = strong_transform(\n",
        "                  aug=augment,\n",
        "                  data=data,\n",
        "                  target=labels,\n",
        "                  masks_mix=[MixMasks[image_i]]\n",
        "              )\n",
        "\n",
        "              boundary_mask_mix = extract_boundary_mask(mask)\n",
        "\n",
        "              mixed_imgs.append(data)\n",
        "              mixed_labels.append(mask)\n",
        "              mixed_boundary_masks.append(boundary_mask_mix)\n",
        "\n",
        "            #Mi ricostruisce il batch completo da una lista di singole immagini e label mescolate (quindi con shape [1, C, H, W]) in [BATCH_SIZE, C, H, W]\n",
        "            inputs_mix = torch.cat(mixed_imgs, dim=0).to(device)\n",
        "            targets_mix = torch.cat(mixed_labels, dim=0).to(device)\n",
        "            boundary_masks_mix = torch.cat(mixed_boundary_masks, dim=0).to(device)\n",
        "\n",
        "            outputs_mix = model(inputs_mix)\n",
        "\n",
        "            pred_p_mix, pred_main_mix, boundary_head_mix = Upscaling(outputs=outputs_mix, boundary_mask=boundary_masks_mix, model=model)\n",
        "\n",
        "            #---------------------------------\n",
        "            if config.PIXEL_WEIGHT == \"threshold_uniform\":\n",
        "              unlabeled_weight = torch.sum(max_probs.ge(config.THRESHOLD).long() == 1).item() / np.size(np.array(targets_mix.cpu()))\n",
        "              pixelWiseWeight = unlabeled_weight * torch.ones(max_probs.shape).cuda()\n",
        "            else:\n",
        "              pixelWiseWeight = max_probs.ge(config.THRESHOLD).float().cuda()\n",
        "\n",
        "            onesWeights = torch.ones((pixelWiseWeight.shape)).cuda()\n",
        "\n",
        "            pixelWiseWeight_mix = []\n",
        "\n",
        "            for image_i in range(X_source.shape[0]):\n",
        "                weights_pair = torch.cat((onesWeights[image_i].unsqueeze(0), pixelWiseWeight[image_i].unsqueeze(0)))\n",
        "\n",
        "                _, mixed_weights = strong_transform(\n",
        "                    target=weights_pair,\n",
        "                    masks_mix=[MixMasks[image_i]]\n",
        "                )\n",
        "\n",
        "                pixelWiseWeight_mix.append(mixed_weights)\n",
        "\n",
        "            pixelWiseWeight_mix = torch.cat(pixelWiseWeight_mix, dim=0).to(device)  # [B, H, W]\n",
        "\n",
        "            # loss_seg_mix = loss_fn(pred_p_mix, pred_main_mix, targets_mix, boundary_head_mix, boundary_masks_mix)\n",
        "\n",
        "            # if(config.LOSS_TYPE == \"ohem\"):\n",
        "            #   loss_seg_mix = torch.mean(loss_seg_mix)\n",
        "\n",
        "            # loss_seg_mix = torch.mean(loss_seg_mix * pixelWiseWeight_mix)\n",
        "\n",
        "            loss_seg_mix = mix_loss(pred_main_mix, targets_mix, pixelWiseWeight_mix)\n",
        "            #---------------------------------------\n",
        "\n",
        "            loss_overall = loss_seg_mix + loss_labled\n",
        "\n",
        "            loss_overall.backward()\n",
        "            optimizer.step()\n",
        "\n",
        "            ema_model = update_ema_variables(ema_model = ema_model, model = model, alpha_teacher=config.ALPHA_TEACHER, iteration=(epoch * num_batches + i))\n",
        "\n",
        "            loss_raw_value += loss_overall.item()\n",
        "            total_train_samples += X_target.size(0)\n",
        "\n",
        "            pbar.set_postfix({\n",
        "                \"Loss_seg\": f\"{loss_raw_value / (i+1):.4f}\",\n",
        "            })\n",
        "\n",
        "        # ---------------------- VALIDATION ----------------------\n",
        "\n",
        "        model.eval()\n",
        "        val_loss = 0\n",
        "        miou_classes.reset()\n",
        "        total_val_samples = 0\n",
        "\n",
        "        with torch.inference_mode():\n",
        "            pbar_val = tqdm(enumerate(val_loader), total=len(val_loader), desc=f\"Epoch {epoch+1} [Validation]\")\n",
        "\n",
        "            for batch, (X_val, y_val, boundary_mask) in pbar_val:\n",
        "                X_val, y_val, boundary_mask = X_val.to(device), y_val.to(device), boundary_mask.to(device)\n",
        "\n",
        "                outputs = model(X_val)\n",
        "                pred_p, pred_main, boundary_head = Upscaling(outputs=outputs, boundary_mask=boundary_mask, model=model)\n",
        "\n",
        "                loss = loss_fn(pred_p, pred_main, y_val, boundary_head, boundary_mask)\n",
        "\n",
        "                if(config.LOSS_TYPE == \"ohem\"):\n",
        "                  loss = torch.mean(loss)\n",
        "\n",
        "                val_loss += loss.item()\n",
        "                total_val_samples += X_val.size(0)\n",
        "\n",
        "                preds = pred_main.argmax(dim=1)\n",
        "                valid_mask = (y_val >= 0) & (y_val < num_classes)\n",
        "                preds_flat = preds[valid_mask]\n",
        "                targets_flat = y_val[valid_mask]\n",
        "\n",
        "                miou_classes.update(preds_flat, targets_flat)\n",
        "\n",
        "                pbar_val.set_postfix({\n",
        "                    \"Val_Loss\": f\"{val_loss / (batch+1):.4f}\",\n",
        "                    \"mIoU\": f\"{miou_classes.compute().mean():.4f}\"\n",
        "                })\n",
        "\n",
        "        avg_val_loss = val_loss / total_val_samples\n",
        "        miou_per_class = miou_classes.compute()\n",
        "        miou = miou_per_class.mean()\n",
        "\n",
        "        wandb.log({\n",
        "            \"mIoU\": miou,\n",
        "            \"loss_seg\": loss_raw_value / total_train_samples,\n",
        "            \"loss_val\": avg_val_loss,\n",
        "            \"miou background\": miou_per_class[0],\n",
        "            \"miou road\": miou_per_class[1],\n",
        "            \"miou building\": miou_per_class[2],\n",
        "            \"miou water\": miou_per_class[3],\n",
        "            \"miou barren\": miou_per_class[4],\n",
        "            \"miou forest\": miou_per_class[5],\n",
        "            \"miou agricolture\": miou_per_class[6]\n",
        "        })\n",
        "\n",
        "        scheduler.step(miou)\n"
      ],
      "metadata": {
        "id": "AVejld-TmgPj"
      },
      "execution_count": 109,
      "outputs": []
    },
    {
      "cell_type": "code",
      "source": [
        "sweep_config = {\n",
        "    'method': 'bayes',\n",
        "    'metric': {'name': 'mIoU', 'goal': 'maximize'},\n",
        "    'parameters': {\n",
        "        'LR': {'min': 0.00001, 'max': 0.001},\n",
        "        'ALPHA_TEACHER': {'values': [0.99]},\n",
        "        'THRESHOLD': {'values': [0.9, 0.85, 0.8, 0.75, 0.7]},\n",
        "        'MOMENTUM' : {'values': [0.9, 0.85, 0.8, 0.75, 0.7]},\n",
        "        'LOSS_TYPE': {'values': [\"ohem\", \"ce\"]},\n",
        "        'TYPE_WEIGHT': {'values': [\"median-frequency\", \"inverse\", \"log\"]},\n",
        "        'PIXEL_WEIGHT': {'values': [\"threshold\", \"threshold_uniform\"]}\n",
        "    }\n",
        "}\n",
        "\n",
        "sweep_id = wandb.sweep(sweep_config, project=\"AML_4B_upt\")"
      ],
      "metadata": {
        "colab": {
          "base_uri": "https://localhost:8080/"
        },
        "id": "g7qGQr-ipOus",
        "outputId": "a60ea22a-6cd3-4dc9-9526-845f5bcfb0f1"
      },
      "execution_count": 110,
      "outputs": [
        {
          "output_type": "stream",
          "name": "stdout",
          "text": [
            "Create sweep with ID: 5sprm999\n",
            "Sweep URL: https://wandb.ai/vitosilver1999-politecnico-di-torino/AML_4B_upt/sweeps/5sprm999\n"
          ]
        }
      ]
    },
    {
      "cell_type": "code",
      "source": [
        "wandb.agent(sweep_id, function=train, count=25)"
      ],
      "metadata": {
        "colab": {
          "base_uri": "https://localhost:8080/",
          "height": 1000
        },
        "id": "9_704XSbridt",
        "outputId": "d5c04458-aa91-4a06-ab3c-990e3c73def8"
      },
      "execution_count": 111,
      "outputs": [
        {
          "output_type": "stream",
          "name": "stderr",
          "text": [
            "\u001b[34m\u001b[1mwandb\u001b[0m: Agent Starting Run: 85vba4zp with config:\n",
            "\u001b[34m\u001b[1mwandb\u001b[0m: \tALPHA_TEACHER: 0.99\n",
            "\u001b[34m\u001b[1mwandb\u001b[0m: \tLOSS_TYPE: ohem\n",
            "\u001b[34m\u001b[1mwandb\u001b[0m: \tLR: 0.00028110607755165974\n",
            "\u001b[34m\u001b[1mwandb\u001b[0m: \tMOMENTUM: 0.85\n",
            "\u001b[34m\u001b[1mwandb\u001b[0m: \tPIXEL_WEIGHT: threshold_uniform\n",
            "\u001b[34m\u001b[1mwandb\u001b[0m: \tTHRESHOLD: 0.9\n",
            "\u001b[34m\u001b[1mwandb\u001b[0m: \tTYPE_WEIGHT: inverse\n"
          ]
        },
        {
          "output_type": "display_data",
          "data": {
            "text/plain": [
              "<IPython.core.display.HTML object>"
            ],
            "text/html": [
              "Tracking run with wandb version 0.19.11"
            ]
          },
          "metadata": {}
        },
        {
          "output_type": "display_data",
          "data": {
            "text/plain": [
              "<IPython.core.display.HTML object>"
            ],
            "text/html": [
              "Run data is saved locally in <code>/content/wandb/run-20250517_104752-85vba4zp</code>"
            ]
          },
          "metadata": {}
        },
        {
          "output_type": "display_data",
          "data": {
            "text/plain": [
              "<IPython.core.display.HTML object>"
            ],
            "text/html": [
              "Syncing run <strong><a href='https://wandb.ai/vitosilver1999-politecnico-di-torino/AML_4B_upt/runs/85vba4zp' target=\"_blank\">confused-sweep-1</a></strong> to <a href='https://wandb.ai/vitosilver1999-politecnico-di-torino/AML_4B_upt' target=\"_blank\">Weights & Biases</a> (<a href='https://wandb.me/developer-guide' target=\"_blank\">docs</a>)<br>Sweep page: <a href='https://wandb.ai/vitosilver1999-politecnico-di-torino/AML_4B_upt/sweeps/5sprm999' target=\"_blank\">https://wandb.ai/vitosilver1999-politecnico-di-torino/AML_4B_upt/sweeps/5sprm999</a>"
            ]
          },
          "metadata": {}
        },
        {
          "output_type": "display_data",
          "data": {
            "text/plain": [
              "<IPython.core.display.HTML object>"
            ],
            "text/html": [
              " View project at <a href='https://wandb.ai/vitosilver1999-politecnico-di-torino/AML_4B_upt' target=\"_blank\">https://wandb.ai/vitosilver1999-politecnico-di-torino/AML_4B_upt</a>"
            ]
          },
          "metadata": {}
        },
        {
          "output_type": "display_data",
          "data": {
            "text/plain": [
              "<IPython.core.display.HTML object>"
            ],
            "text/html": [
              " View sweep at <a href='https://wandb.ai/vitosilver1999-politecnico-di-torino/AML_4B_upt/sweeps/5sprm999' target=\"_blank\">https://wandb.ai/vitosilver1999-politecnico-di-torino/AML_4B_upt/sweeps/5sprm999</a>"
            ]
          },
          "metadata": {}
        },
        {
          "output_type": "display_data",
          "data": {
            "text/plain": [
              "<IPython.core.display.HTML object>"
            ],
            "text/html": [
              " View run at <a href='https://wandb.ai/vitosilver1999-politecnico-di-torino/AML_4B_upt/runs/85vba4zp' target=\"_blank\">https://wandb.ai/vitosilver1999-politecnico-di-torino/AML_4B_upt/runs/85vba4zp</a>"
            ]
          },
          "metadata": {}
        },
        {
          "output_type": "stream",
          "name": "stderr",
          "text": [
            "100%|██████████| 73/73 [01:03<00:00,  1.16it/s]\n"
          ]
        },
        {
          "output_type": "stream",
          "name": "stdout",
          "text": [
            "[0.00028110607755165974]\n"
          ]
        },
        {
          "output_type": "stream",
          "name": "stderr",
          "text": [
            "<ipython-input-99-ce85374db2d6>:118: UserWarning: To copy construct from a tensor, it is recommended to use sourceTensor.clone().detach() or sourceTensor.clone().detach().requires_grad_(True), rather than torch.tensor(sourceTensor).\n",
            "  self.class_weights = torch.tensor(class_weights).cuda()\n",
            "Epoch 1 [Training]: 100%|██████████| 73/73 [00:47<00:00,  1.52it/s, Loss_seg=50.4923]\n",
            "Epoch 1 [Validation]: 100%|██████████| 62/62 [00:14<00:00,  4.37it/s, Val_Loss=104.4279, mIoU=0.1701]"
          ]
        },
        {
          "output_type": "stream",
          "name": "stdout",
          "text": [
            "[0.00028110607755165974]\n"
          ]
        },
        {
          "output_type": "stream",
          "name": "stderr",
          "text": [
            "\n",
            "Epoch 2 [Training]: 100%|██████████| 73/73 [00:47<00:00,  1.54it/s, Loss_seg=27.5337]\n",
            "Epoch 2 [Validation]: 100%|██████████| 62/62 [00:14<00:00,  4.33it/s, Val_Loss=106.2935, mIoU=0.1940]"
          ]
        },
        {
          "output_type": "stream",
          "name": "stdout",
          "text": [
            "[0.00028110607755165974]\n"
          ]
        },
        {
          "output_type": "stream",
          "name": "stderr",
          "text": [
            "\n",
            "Epoch 3 [Training]: 100%|██████████| 73/73 [00:47<00:00,  1.54it/s, Loss_seg=23.3688]\n",
            "Epoch 3 [Validation]: 100%|██████████| 62/62 [00:14<00:00,  4.34it/s, Val_Loss=113.7105, mIoU=0.1959]"
          ]
        },
        {
          "output_type": "stream",
          "name": "stdout",
          "text": [
            "[0.00028110607755165974]\n"
          ]
        },
        {
          "output_type": "stream",
          "name": "stderr",
          "text": [
            "\n",
            "Epoch 4 [Training]: 100%|██████████| 73/73 [00:47<00:00,  1.54it/s, Loss_seg=21.4486]\n",
            "Epoch 4 [Validation]: 100%|██████████| 62/62 [00:14<00:00,  4.36it/s, Val_Loss=105.3433, mIoU=0.2162]"
          ]
        },
        {
          "output_type": "stream",
          "name": "stdout",
          "text": [
            "[0.00028110607755165974]\n"
          ]
        },
        {
          "output_type": "stream",
          "name": "stderr",
          "text": [
            "\n",
            "Epoch 5 [Training]: 100%|██████████| 73/73 [00:47<00:00,  1.54it/s, Loss_seg=20.5861]\n",
            "Epoch 5 [Validation]: 100%|██████████| 62/62 [00:14<00:00,  4.36it/s, Val_Loss=120.1133, mIoU=0.2281]"
          ]
        },
        {
          "output_type": "stream",
          "name": "stdout",
          "text": [
            "[0.00028110607755165974]\n"
          ]
        },
        {
          "output_type": "stream",
          "name": "stderr",
          "text": [
            "\n",
            "Epoch 6 [Training]: 100%|██████████| 73/73 [00:47<00:00,  1.54it/s, Loss_seg=19.5853]\n",
            "Epoch 6 [Validation]: 100%|██████████| 62/62 [00:14<00:00,  4.32it/s, Val_Loss=110.3713, mIoU=0.2309]"
          ]
        },
        {
          "output_type": "stream",
          "name": "stdout",
          "text": [
            "[0.00028110607755165974]\n"
          ]
        },
        {
          "output_type": "stream",
          "name": "stderr",
          "text": [
            "\n",
            "Epoch 7 [Training]: 100%|██████████| 73/73 [00:47<00:00,  1.55it/s, Loss_seg=18.9741]\n",
            "Epoch 7 [Validation]: 100%|██████████| 62/62 [00:14<00:00,  4.35it/s, Val_Loss=118.5232, mIoU=0.2332]"
          ]
        },
        {
          "output_type": "stream",
          "name": "stdout",
          "text": [
            "[0.00028110607755165974]\n"
          ]
        },
        {
          "output_type": "stream",
          "name": "stderr",
          "text": [
            "\n",
            "Epoch 8 [Training]: 100%|██████████| 73/73 [00:47<00:00,  1.54it/s, Loss_seg=18.3301]\n",
            "Epoch 8 [Validation]: 100%|██████████| 62/62 [00:14<00:00,  4.34it/s, Val_Loss=127.3458, mIoU=0.2241]"
          ]
        },
        {
          "output_type": "stream",
          "name": "stdout",
          "text": [
            "[0.00028110607755165974]\n"
          ]
        },
        {
          "output_type": "stream",
          "name": "stderr",
          "text": [
            "\n",
            "Epoch 9 [Training]: 100%|██████████| 73/73 [00:47<00:00,  1.55it/s, Loss_seg=17.7944]\n",
            "Epoch 9 [Validation]: 100%|██████████| 62/62 [00:14<00:00,  4.36it/s, Val_Loss=126.1678, mIoU=0.2314]"
          ]
        },
        {
          "output_type": "stream",
          "name": "stdout",
          "text": [
            "[0.00028110607755165974]\n"
          ]
        },
        {
          "output_type": "stream",
          "name": "stderr",
          "text": [
            "\n",
            "Epoch 10 [Training]: 100%|██████████| 73/73 [00:47<00:00,  1.54it/s, Loss_seg=17.4751]\n",
            "Epoch 10 [Validation]: 100%|██████████| 62/62 [00:14<00:00,  4.34it/s, Val_Loss=121.9499, mIoU=0.2381]"
          ]
        },
        {
          "output_type": "stream",
          "name": "stdout",
          "text": [
            "[0.00028110607755165974]\n"
          ]
        },
        {
          "output_type": "stream",
          "name": "stderr",
          "text": [
            "\n",
            "Epoch 11 [Training]: 100%|██████████| 73/73 [00:47<00:00,  1.55it/s, Loss_seg=16.9880]\n",
            "Epoch 11 [Validation]: 100%|██████████| 62/62 [00:14<00:00,  4.32it/s, Val_Loss=123.8352, mIoU=0.2340]"
          ]
        },
        {
          "output_type": "stream",
          "name": "stdout",
          "text": [
            "[0.00028110607755165974]\n"
          ]
        },
        {
          "output_type": "stream",
          "name": "stderr",
          "text": [
            "\n",
            "Epoch 12 [Training]: 100%|██████████| 73/73 [00:46<00:00,  1.56it/s, Loss_seg=16.6923]\n",
            "Epoch 12 [Validation]: 100%|██████████| 62/62 [00:14<00:00,  4.37it/s, Val_Loss=129.8468, mIoU=0.2388]"
          ]
        },
        {
          "output_type": "stream",
          "name": "stdout",
          "text": [
            "[0.00028110607755165974]\n"
          ]
        },
        {
          "output_type": "stream",
          "name": "stderr",
          "text": [
            "\n",
            "Epoch 13 [Training]: 100%|██████████| 73/73 [00:47<00:00,  1.55it/s, Loss_seg=16.5313]\n",
            "Epoch 13 [Validation]: 100%|██████████| 62/62 [00:14<00:00,  4.38it/s, Val_Loss=115.7689, mIoU=0.2577]"
          ]
        },
        {
          "output_type": "stream",
          "name": "stdout",
          "text": [
            "[0.00028110607755165974]\n"
          ]
        },
        {
          "output_type": "stream",
          "name": "stderr",
          "text": [
            "\n",
            "Epoch 14 [Training]: 100%|██████████| 73/73 [00:47<00:00,  1.54it/s, Loss_seg=16.3828]\n",
            "Epoch 14 [Validation]: 100%|██████████| 62/62 [00:14<00:00,  4.36it/s, Val_Loss=137.6029, mIoU=0.2364]"
          ]
        },
        {
          "output_type": "stream",
          "name": "stdout",
          "text": [
            "[0.00028110607755165974]\n"
          ]
        },
        {
          "output_type": "stream",
          "name": "stderr",
          "text": [
            "\n",
            "Epoch 15 [Training]: 100%|██████████| 73/73 [00:47<00:00,  1.54it/s, Loss_seg=16.5821]\n",
            "Epoch 15 [Validation]: 100%|██████████| 62/62 [00:14<00:00,  4.36it/s, Val_Loss=119.3770, mIoU=0.2399]"
          ]
        },
        {
          "output_type": "stream",
          "name": "stdout",
          "text": [
            "[0.00028110607755165974]\n"
          ]
        },
        {
          "output_type": "stream",
          "name": "stderr",
          "text": [
            "\n",
            "Epoch 16 [Training]: 100%|██████████| 73/73 [00:46<00:00,  1.56it/s, Loss_seg=16.2097]\n",
            "Epoch 16 [Validation]: 100%|██████████| 62/62 [00:14<00:00,  4.35it/s, Val_Loss=121.7227, mIoU=0.2460]"
          ]
        },
        {
          "output_type": "stream",
          "name": "stdout",
          "text": [
            "[0.00028110607755165974]\n"
          ]
        },
        {
          "output_type": "stream",
          "name": "stderr",
          "text": [
            "\n",
            "Epoch 17 [Training]: 100%|██████████| 73/73 [00:46<00:00,  1.56it/s, Loss_seg=15.7970]\n",
            "Epoch 17 [Validation]: 100%|██████████| 62/62 [00:14<00:00,  4.34it/s, Val_Loss=133.0523, mIoU=0.2314]"
          ]
        },
        {
          "output_type": "stream",
          "name": "stdout",
          "text": [
            "[0.00014055303877582987]\n"
          ]
        },
        {
          "output_type": "stream",
          "name": "stderr",
          "text": [
            "\n",
            "Epoch 18 [Training]: 100%|██████████| 73/73 [00:47<00:00,  1.54it/s, Loss_seg=15.3972]\n",
            "Epoch 18 [Validation]: 100%|██████████| 62/62 [00:14<00:00,  4.36it/s, Val_Loss=128.9992, mIoU=0.2489]"
          ]
        },
        {
          "output_type": "stream",
          "name": "stdout",
          "text": [
            "[0.00014055303877582987]\n"
          ]
        },
        {
          "output_type": "stream",
          "name": "stderr",
          "text": [
            "\n",
            "Epoch 19 [Training]: 100%|██████████| 73/73 [00:47<00:00,  1.54it/s, Loss_seg=15.4272]\n",
            "Epoch 19 [Validation]: 100%|██████████| 62/62 [00:14<00:00,  4.34it/s, Val_Loss=129.6598, mIoU=0.2505]"
          ]
        },
        {
          "output_type": "stream",
          "name": "stdout",
          "text": [
            "[0.00014055303877582987]\n"
          ]
        },
        {
          "output_type": "stream",
          "name": "stderr",
          "text": [
            "\n",
            "Epoch 20 [Training]: 100%|██████████| 73/73 [00:47<00:00,  1.55it/s, Loss_seg=15.2647]\n",
            "Epoch 20 [Validation]: 100%|██████████| 62/62 [00:14<00:00,  4.38it/s, Val_Loss=133.1823, mIoU=0.2559]\n"
          ]
        },
        {
          "output_type": "display_data",
          "data": {
            "text/plain": [
              "<IPython.core.display.HTML object>"
            ],
            "text/html": []
          },
          "metadata": {}
        },
        {
          "output_type": "display_data",
          "data": {
            "text/plain": [
              "<IPython.core.display.HTML object>"
            ],
            "text/html": [
              "<br>    <style><br>        .wandb-row {<br>            display: flex;<br>            flex-direction: row;<br>            flex-wrap: wrap;<br>            justify-content: flex-start;<br>            width: 100%;<br>        }<br>        .wandb-col {<br>            display: flex;<br>            flex-direction: column;<br>            flex-basis: 100%;<br>            flex: 1;<br>            padding: 10px;<br>        }<br>    </style><br><div class=\"wandb-row\"><div class=\"wandb-col\"><h3>Run history:</h3><br/><table class=\"wandb\"><tr><td>loss_seg</td><td>█▃▃▂▂▂▂▂▂▁▁▁▁▁▁▁▁▁▁▁</td></tr><tr><td>loss_val</td><td>▁▁▃▁▄▂▄▆▆▅▅▆▃█▄▅▇▆▆▇</td></tr><tr><td>mIoU</td><td>▁▃▃▅▆▆▆▅▆▆▆▆█▆▇▇▆▇▇█</td></tr><tr><td>miou agricolture</td><td>▇█▆▆▇█▆▅▅▆▃▄▆▁▆▅▃▄▃▅</td></tr><tr><td>miou background</td><td>▁▂▂▅▆▄▆▄▆▆▅▆██▆▇▆█▇█</td></tr><tr><td>miou barren</td><td>▂▁▁▃▄▁▄▃▂▂▄▆▅▆▃█▄▅▅▃</td></tr><tr><td>miou building</td><td>▁▅▇▃▆▅▄▇▆█▅▅▇▄▇▆▆▆▆▇</td></tr><tr><td>miou forest</td><td>▄▆▇▂▅▄▆▄▁▆▅▇▄█▅█▅▅▆█</td></tr><tr><td>miou road</td><td>▁▄▇▅▄▆▂▇▅▄▇▆▆▄▇▄▇▅██</td></tr><tr><td>miou water</td><td>▂▂▁▅▅▇█▆▆▇▇▆▇▆▆▇▆██▆</td></tr></table><br/></div><div class=\"wandb-col\"><h3>Run summary:</h3><br/><table class=\"wandb\"><tr><td>loss_seg</td><td>0.95404</td></tr><tr><td>loss_val</td><td>8.3239</td></tr><tr><td>mIoU</td><td>0.25586</td></tr><tr><td>miou agricolture</td><td>0.31127</td></tr><tr><td>miou background</td><td>0.38013</td></tr><tr><td>miou barren</td><td>0.06241</td></tr><tr><td>miou building</td><td>0.21813</td></tr><tr><td>miou forest</td><td>0.09347</td></tr><tr><td>miou road</td><td>0.32132</td></tr><tr><td>miou water</td><td>0.40429</td></tr></table><br/></div></div>"
            ]
          },
          "metadata": {}
        },
        {
          "output_type": "display_data",
          "data": {
            "text/plain": [
              "<IPython.core.display.HTML object>"
            ],
            "text/html": [
              " View run <strong style=\"color:#cdcd00\">confused-sweep-1</strong> at: <a href='https://wandb.ai/vitosilver1999-politecnico-di-torino/AML_4B_upt/runs/85vba4zp' target=\"_blank\">https://wandb.ai/vitosilver1999-politecnico-di-torino/AML_4B_upt/runs/85vba4zp</a><br> View project at: <a href='https://wandb.ai/vitosilver1999-politecnico-di-torino/AML_4B_upt' target=\"_blank\">https://wandb.ai/vitosilver1999-politecnico-di-torino/AML_4B_upt</a><br>Synced 5 W&B file(s), 0 media file(s), 0 artifact file(s) and 0 other file(s)"
            ]
          },
          "metadata": {}
        },
        {
          "output_type": "display_data",
          "data": {
            "text/plain": [
              "<IPython.core.display.HTML object>"
            ],
            "text/html": [
              "Find logs at: <code>./wandb/run-20250517_104752-85vba4zp/logs</code>"
            ]
          },
          "metadata": {}
        },
        {
          "output_type": "stream",
          "name": "stderr",
          "text": [
            "\u001b[34m\u001b[1mwandb\u001b[0m: Agent Starting Run: z967rdlk with config:\n",
            "\u001b[34m\u001b[1mwandb\u001b[0m: \tALPHA_TEACHER: 0.99\n",
            "\u001b[34m\u001b[1mwandb\u001b[0m: \tLOSS_TYPE: ohem\n",
            "\u001b[34m\u001b[1mwandb\u001b[0m: \tLR: 0.000583013540274471\n",
            "\u001b[34m\u001b[1mwandb\u001b[0m: \tMOMENTUM: 0.9\n",
            "\u001b[34m\u001b[1mwandb\u001b[0m: \tPIXEL_WEIGHT: threshold_uniform\n",
            "\u001b[34m\u001b[1mwandb\u001b[0m: \tTHRESHOLD: 0.7\n",
            "\u001b[34m\u001b[1mwandb\u001b[0m: \tTYPE_WEIGHT: inverse\n"
          ]
        },
        {
          "output_type": "display_data",
          "data": {
            "text/plain": [
              "<IPython.core.display.HTML object>"
            ],
            "text/html": [
              "Tracking run with wandb version 0.19.11"
            ]
          },
          "metadata": {}
        },
        {
          "output_type": "display_data",
          "data": {
            "text/plain": [
              "<IPython.core.display.HTML object>"
            ],
            "text/html": [
              "Run data is saved locally in <code>/content/wandb/run-20250517_110941-z967rdlk</code>"
            ]
          },
          "metadata": {}
        },
        {
          "output_type": "display_data",
          "data": {
            "text/plain": [
              "<IPython.core.display.HTML object>"
            ],
            "text/html": [
              "Syncing run <strong><a href='https://wandb.ai/vitosilver1999-politecnico-di-torino/AML_4B_upt/runs/z967rdlk' target=\"_blank\">glowing-sweep-2</a></strong> to <a href='https://wandb.ai/vitosilver1999-politecnico-di-torino/AML_4B_upt' target=\"_blank\">Weights & Biases</a> (<a href='https://wandb.me/developer-guide' target=\"_blank\">docs</a>)<br>Sweep page: <a href='https://wandb.ai/vitosilver1999-politecnico-di-torino/AML_4B_upt/sweeps/5sprm999' target=\"_blank\">https://wandb.ai/vitosilver1999-politecnico-di-torino/AML_4B_upt/sweeps/5sprm999</a>"
            ]
          },
          "metadata": {}
        },
        {
          "output_type": "display_data",
          "data": {
            "text/plain": [
              "<IPython.core.display.HTML object>"
            ],
            "text/html": [
              " View project at <a href='https://wandb.ai/vitosilver1999-politecnico-di-torino/AML_4B_upt' target=\"_blank\">https://wandb.ai/vitosilver1999-politecnico-di-torino/AML_4B_upt</a>"
            ]
          },
          "metadata": {}
        },
        {
          "output_type": "display_data",
          "data": {
            "text/plain": [
              "<IPython.core.display.HTML object>"
            ],
            "text/html": [
              " View sweep at <a href='https://wandb.ai/vitosilver1999-politecnico-di-torino/AML_4B_upt/sweeps/5sprm999' target=\"_blank\">https://wandb.ai/vitosilver1999-politecnico-di-torino/AML_4B_upt/sweeps/5sprm999</a>"
            ]
          },
          "metadata": {}
        },
        {
          "output_type": "display_data",
          "data": {
            "text/plain": [
              "<IPython.core.display.HTML object>"
            ],
            "text/html": [
              " View run at <a href='https://wandb.ai/vitosilver1999-politecnico-di-torino/AML_4B_upt/runs/z967rdlk' target=\"_blank\">https://wandb.ai/vitosilver1999-politecnico-di-torino/AML_4B_upt/runs/z967rdlk</a>"
            ]
          },
          "metadata": {}
        },
        {
          "output_type": "stream",
          "name": "stderr",
          "text": [
            "100%|██████████| 73/73 [01:02<00:00,  1.18it/s]\n"
          ]
        },
        {
          "output_type": "stream",
          "name": "stdout",
          "text": [
            "[0.000583013540274471]\n"
          ]
        },
        {
          "output_type": "stream",
          "name": "stderr",
          "text": [
            "Epoch 1 [Training]: 100%|██████████| 73/73 [00:47<00:00,  1.53it/s, Loss_seg=50.5564]\n",
            "Epoch 1 [Validation]: 100%|██████████| 62/62 [00:14<00:00,  4.34it/s, Val_Loss=121.5798, mIoU=0.1532]"
          ]
        },
        {
          "output_type": "stream",
          "name": "stdout",
          "text": [
            "[0.000583013540274471]\n"
          ]
        },
        {
          "output_type": "stream",
          "name": "stderr",
          "text": [
            "\n",
            "Epoch 2 [Training]: 100%|██████████| 73/73 [00:47<00:00,  1.53it/s, Loss_seg=28.8032]\n",
            "Epoch 2 [Validation]: 100%|██████████| 62/62 [00:14<00:00,  4.33it/s, Val_Loss=160.3841, mIoU=0.1642]"
          ]
        },
        {
          "output_type": "stream",
          "name": "stdout",
          "text": [
            "[0.000583013540274471]\n"
          ]
        },
        {
          "output_type": "stream",
          "name": "stderr",
          "text": [
            "\n",
            "Epoch 3 [Training]: 100%|██████████| 73/73 [00:47<00:00,  1.53it/s, Loss_seg=25.5918]\n",
            "Epoch 3 [Validation]: 100%|██████████| 62/62 [00:14<00:00,  4.33it/s, Val_Loss=138.7214, mIoU=0.1829]"
          ]
        },
        {
          "output_type": "stream",
          "name": "stdout",
          "text": [
            "[0.000583013540274471]\n"
          ]
        },
        {
          "output_type": "stream",
          "name": "stderr",
          "text": [
            "\n",
            "Epoch 4 [Training]: 100%|██████████| 73/73 [00:47<00:00,  1.53it/s, Loss_seg=24.4656]\n",
            "Epoch 4 [Validation]: 100%|██████████| 62/62 [00:14<00:00,  4.34it/s, Val_Loss=157.9920, mIoU=0.1745]"
          ]
        },
        {
          "output_type": "stream",
          "name": "stdout",
          "text": [
            "[0.000583013540274471]\n"
          ]
        },
        {
          "output_type": "stream",
          "name": "stderr",
          "text": [
            "\n",
            "Epoch 5 [Training]: 100%|██████████| 73/73 [00:47<00:00,  1.52it/s, Loss_seg=24.0293]\n",
            "Epoch 5 [Validation]: 100%|██████████| 62/62 [00:14<00:00,  4.36it/s, Val_Loss=155.6056, mIoU=0.1807]"
          ]
        },
        {
          "output_type": "stream",
          "name": "stdout",
          "text": [
            "[0.000583013540274471]\n"
          ]
        },
        {
          "output_type": "stream",
          "name": "stderr",
          "text": [
            "\n",
            "Epoch 6 [Training]: 100%|██████████| 73/73 [00:47<00:00,  1.53it/s, Loss_seg=23.0719]\n",
            "Epoch 6 [Validation]: 100%|██████████| 62/62 [00:14<00:00,  4.35it/s, Val_Loss=147.2993, mIoU=0.1876]"
          ]
        },
        {
          "output_type": "stream",
          "name": "stdout",
          "text": [
            "[0.000583013540274471]\n"
          ]
        },
        {
          "output_type": "stream",
          "name": "stderr",
          "text": [
            "\n",
            "Epoch 7 [Training]: 100%|██████████| 73/73 [00:47<00:00,  1.53it/s, Loss_seg=22.1624]\n",
            "Epoch 7 [Validation]: 100%|██████████| 62/62 [00:14<00:00,  4.34it/s, Val_Loss=132.8581, mIoU=0.1911]"
          ]
        },
        {
          "output_type": "stream",
          "name": "stdout",
          "text": [
            "[0.000583013540274471]\n"
          ]
        },
        {
          "output_type": "stream",
          "name": "stderr",
          "text": [
            "\n",
            "Epoch 8 [Training]: 100%|██████████| 73/73 [00:48<00:00,  1.52it/s, Loss_seg=22.7830]\n",
            "Epoch 8 [Validation]: 100%|██████████| 62/62 [00:14<00:00,  4.33it/s, Val_Loss=166.8868, mIoU=0.2101]"
          ]
        },
        {
          "output_type": "stream",
          "name": "stdout",
          "text": [
            "[0.000583013540274471]\n"
          ]
        },
        {
          "output_type": "stream",
          "name": "stderr",
          "text": [
            "\n",
            "Epoch 9 [Training]: 100%|██████████| 73/73 [00:47<00:00,  1.54it/s, Loss_seg=21.6961]\n",
            "Epoch 9 [Validation]: 100%|██████████| 62/62 [00:14<00:00,  4.35it/s, Val_Loss=133.2292, mIoU=0.2259]"
          ]
        },
        {
          "output_type": "stream",
          "name": "stdout",
          "text": [
            "[0.000583013540274471]\n"
          ]
        },
        {
          "output_type": "stream",
          "name": "stderr",
          "text": [
            "\n",
            "Epoch 10 [Training]: 100%|██████████| 73/73 [00:47<00:00,  1.53it/s, Loss_seg=21.4788]\n",
            "Epoch 10 [Validation]: 100%|██████████| 62/62 [00:14<00:00,  4.33it/s, Val_Loss=314.5852, mIoU=0.1858]"
          ]
        },
        {
          "output_type": "stream",
          "name": "stdout",
          "text": [
            "[0.000583013540274471]\n"
          ]
        },
        {
          "output_type": "stream",
          "name": "stderr",
          "text": [
            "\n",
            "Epoch 11 [Training]: 100%|██████████| 73/73 [00:47<00:00,  1.54it/s, Loss_seg=20.9882]\n",
            "Epoch 11 [Validation]: 100%|██████████| 62/62 [00:14<00:00,  4.30it/s, Val_Loss=156.5462, mIoU=0.2031]"
          ]
        },
        {
          "output_type": "stream",
          "name": "stdout",
          "text": [
            "[0.000583013540274471]\n"
          ]
        },
        {
          "output_type": "stream",
          "name": "stderr",
          "text": [
            "\n",
            "Epoch 12 [Training]: 100%|██████████| 73/73 [00:47<00:00,  1.53it/s, Loss_seg=20.7740]\n",
            "Epoch 12 [Validation]: 100%|██████████| 62/62 [00:14<00:00,  4.33it/s, Val_Loss=182.7639, mIoU=0.2083]"
          ]
        },
        {
          "output_type": "stream",
          "name": "stdout",
          "text": [
            "[0.000583013540274471]\n"
          ]
        },
        {
          "output_type": "stream",
          "name": "stderr",
          "text": [
            "\n",
            "Epoch 13 [Training]: 100%|██████████| 73/73 [00:48<00:00,  1.52it/s, Loss_seg=20.9533]\n",
            "Epoch 13 [Validation]: 100%|██████████| 62/62 [00:14<00:00,  4.31it/s, Val_Loss=203.9942, mIoU=0.2174]"
          ]
        },
        {
          "output_type": "stream",
          "name": "stdout",
          "text": [
            "[0.0002915067701372355]\n"
          ]
        },
        {
          "output_type": "stream",
          "name": "stderr",
          "text": [
            "\n",
            "Epoch 14 [Training]: 100%|██████████| 73/73 [00:47<00:00,  1.53it/s, Loss_seg=21.4375]\n",
            "Epoch 14 [Validation]: 100%|██████████| 62/62 [00:14<00:00,  4.35it/s, Val_Loss=214.5792, mIoU=0.2391]"
          ]
        },
        {
          "output_type": "stream",
          "name": "stdout",
          "text": [
            "[0.0002915067701372355]\n"
          ]
        },
        {
          "output_type": "stream",
          "name": "stderr",
          "text": [
            "\n",
            "Epoch 15 [Training]: 100%|██████████| 73/73 [00:47<00:00,  1.53it/s, Loss_seg=20.7750]\n",
            "Epoch 15 [Validation]: 100%|██████████| 62/62 [00:14<00:00,  4.33it/s, Val_Loss=162.9371, mIoU=0.2161]"
          ]
        },
        {
          "output_type": "stream",
          "name": "stdout",
          "text": [
            "[0.0002915067701372355]\n"
          ]
        },
        {
          "output_type": "stream",
          "name": "stderr",
          "text": [
            "\n",
            "Epoch 16 [Training]: 100%|██████████| 73/73 [00:47<00:00,  1.53it/s, Loss_seg=21.0394]\n",
            "Epoch 16 [Validation]: 100%|██████████| 62/62 [00:14<00:00,  4.34it/s, Val_Loss=180.5523, mIoU=0.2148]"
          ]
        },
        {
          "output_type": "stream",
          "name": "stdout",
          "text": [
            "[0.0002915067701372355]\n"
          ]
        },
        {
          "output_type": "stream",
          "name": "stderr",
          "text": [
            "\n",
            "Epoch 17 [Training]: 100%|██████████| 73/73 [00:47<00:00,  1.54it/s, Loss_seg=22.1626]\n",
            "Epoch 17 [Validation]: 100%|██████████| 62/62 [00:14<00:00,  4.31it/s, Val_Loss=205.6169, mIoU=0.1832]"
          ]
        },
        {
          "output_type": "stream",
          "name": "stdout",
          "text": [
            "[0.0002915067701372355]\n"
          ]
        },
        {
          "output_type": "stream",
          "name": "stderr",
          "text": [
            "\n",
            "Epoch 18 [Training]: 100%|██████████| 73/73 [00:47<00:00,  1.52it/s, Loss_seg=20.5004]\n",
            "Epoch 18 [Validation]: 100%|██████████| 62/62 [00:14<00:00,  4.34it/s, Val_Loss=219.7374, mIoU=0.2389]"
          ]
        },
        {
          "output_type": "stream",
          "name": "stdout",
          "text": [
            "[0.00014575338506861774]\n"
          ]
        },
        {
          "output_type": "stream",
          "name": "stderr",
          "text": [
            "\n",
            "Epoch 19 [Training]: 100%|██████████| 73/73 [00:47<00:00,  1.53it/s, Loss_seg=20.6277]\n",
            "Epoch 19 [Validation]: 100%|██████████| 62/62 [00:14<00:00,  4.33it/s, Val_Loss=312.8867, mIoU=0.2154]"
          ]
        },
        {
          "output_type": "stream",
          "name": "stdout",
          "text": [
            "[0.00014575338506861774]\n"
          ]
        },
        {
          "output_type": "stream",
          "name": "stderr",
          "text": [
            "\n",
            "Epoch 20 [Training]: 100%|██████████| 73/73 [00:47<00:00,  1.53it/s, Loss_seg=20.1286]\n",
            "Epoch 20 [Validation]: 100%|██████████| 62/62 [00:14<00:00,  4.35it/s, Val_Loss=213.8087, mIoU=0.2063]\n"
          ]
        },
        {
          "output_type": "display_data",
          "data": {
            "text/plain": [
              "<IPython.core.display.HTML object>"
            ],
            "text/html": []
          },
          "metadata": {}
        },
        {
          "output_type": "display_data",
          "data": {
            "text/plain": [
              "<IPython.core.display.HTML object>"
            ],
            "text/html": [
              "<br>    <style><br>        .wandb-row {<br>            display: flex;<br>            flex-direction: row;<br>            flex-wrap: wrap;<br>            justify-content: flex-start;<br>            width: 100%;<br>        }<br>        .wandb-col {<br>            display: flex;<br>            flex-direction: column;<br>            flex-basis: 100%;<br>            flex: 1;<br>            padding: 10px;<br>        }<br>    </style><br><div class=\"wandb-row\"><div class=\"wandb-col\"><h3>Run history:</h3><br/><table class=\"wandb\"><tr><td>loss_seg</td><td>█▃▂▂▂▂▁▂▁▁▁▁▁▁▁▁▁▁▁▁</td></tr><tr><td>loss_val</td><td>▁▂▂▂▂▂▁▃▁█▂▃▄▄▂▃▄▅█▄</td></tr><tr><td>mIoU</td><td>▁▂▃▃▃▄▄▆▇▄▅▅▆█▆▆▃█▆▅</td></tr><tr><td>miou agricolture</td><td>▇▅▃▁▄▆▅▇█▇▄▆▅█▄▆▃▅▃▅</td></tr><tr><td>miou background</td><td>▂▃▄▄▄▃▅▅▇▂▅▅▇█▅▅▁█▅▃</td></tr><tr><td>miou barren</td><td>▅██▇▆▆▃▂▃▄▅▂▂▂▂▁▁▃▂▁</td></tr><tr><td>miou building</td><td>▁▂▅▃▃▆█▇██▆▆▇▇▇█▆▇▇█</td></tr><tr><td>miou forest</td><td>▇▅▁▄█▃▁▅▇▄▇▅▅▂▇▅▄▅▇▇</td></tr><tr><td>miou road</td><td>▁▁▅▂▂▂▄▄▃▃▄▅▆▇▇▆█▇█▆</td></tr><tr><td>miou water</td><td>▁▃▅▇▄▇▅▇▇▄▆▅▆█▆▇▇█▆▇</td></tr></table><br/></div><div class=\"wandb-col\"><h3>Run summary:</h3><br/><table class=\"wandb\"><tr><td>loss_seg</td><td>1.25804</td></tr><tr><td>loss_val</td><td>13.36304</td></tr><tr><td>mIoU</td><td>0.20627</td></tr><tr><td>miou agricolture</td><td>0.23787</td></tr><tr><td>miou background</td><td>0.20975</td></tr><tr><td>miou barren</td><td>0.02939</td></tr><tr><td>miou building</td><td>0.17016</td></tr><tr><td>miou forest</td><td>0.16267</td></tr><tr><td>miou road</td><td>0.24702</td></tr><tr><td>miou water</td><td>0.38703</td></tr></table><br/></div></div>"
            ]
          },
          "metadata": {}
        },
        {
          "output_type": "display_data",
          "data": {
            "text/plain": [
              "<IPython.core.display.HTML object>"
            ],
            "text/html": [
              " View run <strong style=\"color:#cdcd00\">glowing-sweep-2</strong> at: <a href='https://wandb.ai/vitosilver1999-politecnico-di-torino/AML_4B_upt/runs/z967rdlk' target=\"_blank\">https://wandb.ai/vitosilver1999-politecnico-di-torino/AML_4B_upt/runs/z967rdlk</a><br> View project at: <a href='https://wandb.ai/vitosilver1999-politecnico-di-torino/AML_4B_upt' target=\"_blank\">https://wandb.ai/vitosilver1999-politecnico-di-torino/AML_4B_upt</a><br>Synced 5 W&B file(s), 0 media file(s), 0 artifact file(s) and 0 other file(s)"
            ]
          },
          "metadata": {}
        },
        {
          "output_type": "display_data",
          "data": {
            "text/plain": [
              "<IPython.core.display.HTML object>"
            ],
            "text/html": [
              "Find logs at: <code>./wandb/run-20250517_110941-z967rdlk/logs</code>"
            ]
          },
          "metadata": {}
        },
        {
          "output_type": "stream",
          "name": "stderr",
          "text": [
            "\u001b[34m\u001b[1mwandb\u001b[0m: Agent Starting Run: zhw26527 with config:\n",
            "\u001b[34m\u001b[1mwandb\u001b[0m: \tALPHA_TEACHER: 0.99\n",
            "\u001b[34m\u001b[1mwandb\u001b[0m: \tLOSS_TYPE: ohem\n",
            "\u001b[34m\u001b[1mwandb\u001b[0m: \tLR: 0.0004730558897227908\n",
            "\u001b[34m\u001b[1mwandb\u001b[0m: \tMOMENTUM: 0.75\n",
            "\u001b[34m\u001b[1mwandb\u001b[0m: \tPIXEL_WEIGHT: threshold_uniform\n",
            "\u001b[34m\u001b[1mwandb\u001b[0m: \tTHRESHOLD: 0.8\n",
            "\u001b[34m\u001b[1mwandb\u001b[0m: \tTYPE_WEIGHT: inverse\n"
          ]
        },
        {
          "output_type": "display_data",
          "data": {
            "text/plain": [
              "<IPython.core.display.HTML object>"
            ],
            "text/html": [
              "Tracking run with wandb version 0.19.11"
            ]
          },
          "metadata": {}
        },
        {
          "output_type": "display_data",
          "data": {
            "text/plain": [
              "<IPython.core.display.HTML object>"
            ],
            "text/html": [
              "Run data is saved locally in <code>/content/wandb/run-20250517_113139-zhw26527</code>"
            ]
          },
          "metadata": {}
        },
        {
          "output_type": "display_data",
          "data": {
            "text/plain": [
              "<IPython.core.display.HTML object>"
            ],
            "text/html": [
              "Syncing run <strong><a href='https://wandb.ai/vitosilver1999-politecnico-di-torino/AML_4B_upt/runs/zhw26527' target=\"_blank\">gentle-sweep-3</a></strong> to <a href='https://wandb.ai/vitosilver1999-politecnico-di-torino/AML_4B_upt' target=\"_blank\">Weights & Biases</a> (<a href='https://wandb.me/developer-guide' target=\"_blank\">docs</a>)<br>Sweep page: <a href='https://wandb.ai/vitosilver1999-politecnico-di-torino/AML_4B_upt/sweeps/5sprm999' target=\"_blank\">https://wandb.ai/vitosilver1999-politecnico-di-torino/AML_4B_upt/sweeps/5sprm999</a>"
            ]
          },
          "metadata": {}
        },
        {
          "output_type": "display_data",
          "data": {
            "text/plain": [
              "<IPython.core.display.HTML object>"
            ],
            "text/html": [
              " View project at <a href='https://wandb.ai/vitosilver1999-politecnico-di-torino/AML_4B_upt' target=\"_blank\">https://wandb.ai/vitosilver1999-politecnico-di-torino/AML_4B_upt</a>"
            ]
          },
          "metadata": {}
        },
        {
          "output_type": "display_data",
          "data": {
            "text/plain": [
              "<IPython.core.display.HTML object>"
            ],
            "text/html": [
              " View sweep at <a href='https://wandb.ai/vitosilver1999-politecnico-di-torino/AML_4B_upt/sweeps/5sprm999' target=\"_blank\">https://wandb.ai/vitosilver1999-politecnico-di-torino/AML_4B_upt/sweeps/5sprm999</a>"
            ]
          },
          "metadata": {}
        },
        {
          "output_type": "display_data",
          "data": {
            "text/plain": [
              "<IPython.core.display.HTML object>"
            ],
            "text/html": [
              " View run at <a href='https://wandb.ai/vitosilver1999-politecnico-di-torino/AML_4B_upt/runs/zhw26527' target=\"_blank\">https://wandb.ai/vitosilver1999-politecnico-di-torino/AML_4B_upt/runs/zhw26527</a>"
            ]
          },
          "metadata": {}
        },
        {
          "output_type": "stream",
          "name": "stderr",
          "text": [
            "100%|██████████| 73/73 [01:01<00:00,  1.18it/s]\n"
          ]
        },
        {
          "output_type": "stream",
          "name": "stdout",
          "text": [
            "[0.0004730558897227908]\n"
          ]
        },
        {
          "output_type": "stream",
          "name": "stderr",
          "text": [
            "Epoch 1 [Training]: 100%|██████████| 73/73 [00:48<00:00,  1.51it/s, Loss_seg=54.7532]\n",
            "Epoch 1 [Validation]: 100%|██████████| 62/62 [00:14<00:00,  4.32it/s, Val_Loss=119.1348, mIoU=0.2060]"
          ]
        },
        {
          "output_type": "stream",
          "name": "stdout",
          "text": [
            "[0.0004730558897227908]\n"
          ]
        },
        {
          "output_type": "stream",
          "name": "stderr",
          "text": [
            "\n",
            "Epoch 2 [Training]: 100%|██████████| 73/73 [00:47<00:00,  1.52it/s, Loss_seg=27.1165]\n",
            "Epoch 2 [Validation]: 100%|██████████| 62/62 [00:14<00:00,  4.34it/s, Val_Loss=142.7209, mIoU=0.2098]"
          ]
        },
        {
          "output_type": "stream",
          "name": "stdout",
          "text": [
            "[0.0004730558897227908]\n"
          ]
        },
        {
          "output_type": "stream",
          "name": "stderr",
          "text": [
            "\n",
            "Epoch 3 [Training]: 100%|██████████| 73/73 [00:47<00:00,  1.53it/s, Loss_seg=24.0296]\n",
            "Epoch 3 [Validation]: 100%|██████████| 62/62 [00:14<00:00,  4.34it/s, Val_Loss=103.1514, mIoU=0.2279]"
          ]
        },
        {
          "output_type": "stream",
          "name": "stdout",
          "text": [
            "[0.0004730558897227908]\n"
          ]
        },
        {
          "output_type": "stream",
          "name": "stderr",
          "text": [
            "\n",
            "Epoch 4 [Training]: 100%|██████████| 73/73 [00:47<00:00,  1.53it/s, Loss_seg=22.3624]\n",
            "Epoch 4 [Validation]: 100%|██████████| 62/62 [00:14<00:00,  4.28it/s, Val_Loss=291.1049, mIoU=0.2345]"
          ]
        },
        {
          "output_type": "stream",
          "name": "stdout",
          "text": [
            "[0.0004730558897227908]\n"
          ]
        },
        {
          "output_type": "stream",
          "name": "stderr",
          "text": [
            "\n",
            "Epoch 5 [Training]: 100%|██████████| 73/73 [00:47<00:00,  1.52it/s, Loss_seg=21.1145]\n",
            "Epoch 5 [Validation]: 100%|██████████| 62/62 [00:14<00:00,  4.32it/s, Val_Loss=113.2147, mIoU=0.2358]"
          ]
        },
        {
          "output_type": "stream",
          "name": "stdout",
          "text": [
            "[0.0004730558897227908]\n"
          ]
        },
        {
          "output_type": "stream",
          "name": "stderr",
          "text": [
            "\n",
            "Epoch 6 [Training]: 100%|██████████| 73/73 [00:47<00:00,  1.53it/s, Loss_seg=20.5369]\n",
            "Epoch 6 [Validation]: 100%|██████████| 62/62 [00:14<00:00,  4.32it/s, Val_Loss=112.5987, mIoU=0.2078]"
          ]
        },
        {
          "output_type": "stream",
          "name": "stdout",
          "text": [
            "[0.0004730558897227908]\n"
          ]
        },
        {
          "output_type": "stream",
          "name": "stderr",
          "text": [
            "\n",
            "Epoch 7 [Training]: 100%|██████████| 73/73 [00:47<00:00,  1.54it/s, Loss_seg=20.5013]\n",
            "Epoch 7 [Validation]: 100%|██████████| 62/62 [00:14<00:00,  4.31it/s, Val_Loss=129.0854, mIoU=0.2209]"
          ]
        },
        {
          "output_type": "stream",
          "name": "stdout",
          "text": [
            "[0.0004730558897227908]\n"
          ]
        },
        {
          "output_type": "stream",
          "name": "stderr",
          "text": [
            "\n",
            "Epoch 8 [Training]: 100%|██████████| 73/73 [00:47<00:00,  1.55it/s, Loss_seg=19.8745]\n",
            "Epoch 8 [Validation]: 100%|██████████| 62/62 [00:14<00:00,  4.34it/s, Val_Loss=350.2832, mIoU=0.1871]"
          ]
        },
        {
          "output_type": "stream",
          "name": "stdout",
          "text": [
            "[0.0002365279448613954]\n"
          ]
        },
        {
          "output_type": "stream",
          "name": "stderr",
          "text": [
            "\n",
            "Epoch 9 [Training]: 100%|██████████| 73/73 [00:47<00:00,  1.54it/s, Loss_seg=18.7580]\n",
            "Epoch 9 [Validation]: 100%|██████████| 62/62 [00:14<00:00,  4.30it/s, Val_Loss=123.0231, mIoU=0.2160]"
          ]
        },
        {
          "output_type": "stream",
          "name": "stdout",
          "text": [
            "[0.0002365279448613954]\n"
          ]
        },
        {
          "output_type": "stream",
          "name": "stderr",
          "text": [
            "\n",
            "Epoch 10 [Training]: 100%|██████████| 73/73 [00:47<00:00,  1.54it/s, Loss_seg=18.6428]\n",
            "Epoch 10 [Validation]: 100%|██████████| 62/62 [00:14<00:00,  4.35it/s, Val_Loss=130.4939, mIoU=0.2210]"
          ]
        },
        {
          "output_type": "stream",
          "name": "stdout",
          "text": [
            "[0.0002365279448613954]\n"
          ]
        },
        {
          "output_type": "stream",
          "name": "stderr",
          "text": [
            "\n",
            "Epoch 11 [Training]: 100%|██████████| 73/73 [00:47<00:00,  1.52it/s, Loss_seg=18.7479]\n",
            "Epoch 11 [Validation]: 100%|██████████| 62/62 [00:14<00:00,  4.34it/s, Val_Loss=141.8895, mIoU=0.2302]"
          ]
        },
        {
          "output_type": "stream",
          "name": "stdout",
          "text": [
            "[0.0002365279448613954]\n"
          ]
        },
        {
          "output_type": "stream",
          "name": "stderr",
          "text": [
            "\n",
            "Epoch 12 [Training]: 100%|██████████| 73/73 [00:47<00:00,  1.54it/s, Loss_seg=18.2432]\n",
            "Epoch 12 [Validation]: 100%|██████████| 62/62 [00:14<00:00,  4.36it/s, Val_Loss=134.1082, mIoU=0.2175]"
          ]
        },
        {
          "output_type": "stream",
          "name": "stdout",
          "text": [
            "[0.0001182639724306977]\n"
          ]
        },
        {
          "output_type": "stream",
          "name": "stderr",
          "text": [
            "\n",
            "Epoch 13 [Training]: 100%|██████████| 73/73 [00:47<00:00,  1.54it/s, Loss_seg=18.1692]\n",
            "Epoch 13 [Validation]: 100%|██████████| 62/62 [00:14<00:00,  4.36it/s, Val_Loss=164.5463, mIoU=0.1998]"
          ]
        },
        {
          "output_type": "stream",
          "name": "stdout",
          "text": [
            "[0.0001182639724306977]\n"
          ]
        },
        {
          "output_type": "stream",
          "name": "stderr",
          "text": [
            "\n",
            "Epoch 14 [Training]: 100%|██████████| 73/73 [00:47<00:00,  1.54it/s, Loss_seg=17.7410]\n",
            "Epoch 14 [Validation]: 100%|██████████| 62/62 [00:14<00:00,  4.36it/s, Val_Loss=178.1229, mIoU=0.1978]"
          ]
        },
        {
          "output_type": "stream",
          "name": "stdout",
          "text": [
            "[0.0001182639724306977]\n"
          ]
        },
        {
          "output_type": "stream",
          "name": "stderr",
          "text": [
            "\n",
            "Epoch 15 [Training]: 100%|██████████| 73/73 [00:47<00:00,  1.53it/s, Loss_seg=18.0217]\n",
            "Epoch 15 [Validation]: 100%|██████████| 62/62 [00:14<00:00,  4.37it/s, Val_Loss=277.0548, mIoU=0.1790]"
          ]
        },
        {
          "output_type": "stream",
          "name": "stdout",
          "text": [
            "[0.0001182639724306977]\n"
          ]
        },
        {
          "output_type": "stream",
          "name": "stderr",
          "text": [
            "\n",
            "Epoch 16 [Training]: 100%|██████████| 73/73 [00:47<00:00,  1.54it/s, Loss_seg=17.6960]\n",
            "Epoch 16 [Validation]: 100%|██████████| 62/62 [00:14<00:00,  4.34it/s, Val_Loss=144.3361, mIoU=0.1942]"
          ]
        },
        {
          "output_type": "stream",
          "name": "stdout",
          "text": [
            "[5.913198621534885e-05]\n"
          ]
        },
        {
          "output_type": "stream",
          "name": "stderr",
          "text": [
            "\n",
            "Epoch 17 [Training]: 100%|██████████| 73/73 [00:47<00:00,  1.55it/s, Loss_seg=17.6686]\n",
            "Epoch 17 [Validation]: 100%|██████████| 62/62 [00:14<00:00,  4.33it/s, Val_Loss=133.3583, mIoU=0.2181]"
          ]
        },
        {
          "output_type": "stream",
          "name": "stdout",
          "text": [
            "[5.913198621534885e-05]\n"
          ]
        },
        {
          "output_type": "stream",
          "name": "stderr",
          "text": [
            "\n",
            "Epoch 18 [Training]: 100%|██████████| 73/73 [00:47<00:00,  1.55it/s, Loss_seg=18.0893]\n",
            "Epoch 18 [Validation]: 100%|██████████| 62/62 [00:14<00:00,  4.35it/s, Val_Loss=190.4976, mIoU=0.1847]"
          ]
        },
        {
          "output_type": "stream",
          "name": "stdout",
          "text": [
            "[5.913198621534885e-05]\n"
          ]
        },
        {
          "output_type": "stream",
          "name": "stderr",
          "text": [
            "\n",
            "Epoch 19 [Training]: 100%|██████████| 73/73 [00:47<00:00,  1.54it/s, Loss_seg=17.7671]\n",
            "Epoch 19 [Validation]: 100%|██████████| 62/62 [00:14<00:00,  4.32it/s, Val_Loss=158.0665, mIoU=0.2049]"
          ]
        },
        {
          "output_type": "stream",
          "name": "stdout",
          "text": [
            "[5.913198621534885e-05]\n"
          ]
        },
        {
          "output_type": "stream",
          "name": "stderr",
          "text": [
            "\n",
            "Epoch 20 [Training]: 100%|██████████| 73/73 [00:47<00:00,  1.54it/s, Loss_seg=17.5735]\n",
            "Epoch 20 [Validation]: 100%|██████████| 62/62 [00:14<00:00,  4.38it/s, Val_Loss=148.8870, mIoU=0.2097]\n"
          ]
        },
        {
          "output_type": "display_data",
          "data": {
            "text/plain": [
              "<IPython.core.display.HTML object>"
            ],
            "text/html": []
          },
          "metadata": {}
        },
        {
          "output_type": "display_data",
          "data": {
            "text/plain": [
              "<IPython.core.display.HTML object>"
            ],
            "text/html": [
              "<br>    <style><br>        .wandb-row {<br>            display: flex;<br>            flex-direction: row;<br>            flex-wrap: wrap;<br>            justify-content: flex-start;<br>            width: 100%;<br>        }<br>        .wandb-col {<br>            display: flex;<br>            flex-direction: column;<br>            flex-basis: 100%;<br>            flex: 1;<br>            padding: 10px;<br>        }<br>    </style><br><div class=\"wandb-row\"><div class=\"wandb-col\"><h3>Run history:</h3><br/><table class=\"wandb\"><tr><td>loss_seg</td><td>█▃▂▂▂▂▂▁▁▁▁▁▁▁▁▁▁▁▁▁</td></tr><tr><td>loss_val</td><td>▁▂▁▆▁▁▂█▂▂▂▂▃▃▆▂▂▃▃▂</td></tr><tr><td>mIoU</td><td>▄▅▇██▅▆▂▆▆▇▆▄▃▁▃▆▂▄▅</td></tr><tr><td>miou agricolture</td><td>▇▇█▅▆█▃▆▅▅▅▅▃▃▃▃▂▁▁▂</td></tr><tr><td>miou background</td><td>▃▄▄█▄▁▇▁▃▅▅▅▃▃▂▄▅▃▄▃</td></tr><tr><td>miou barren</td><td>▁▂▄▅▃▂▆▃▄▇▄▅▄▅▄▇█▆▇▇</td></tr><tr><td>miou building</td><td>▁▃▄▃▃█▂▃▄▃▃▃▂▃▂▃▄▁▃▂</td></tr><tr><td>miou forest</td><td>▅▄▅▅█▆▇▃▆▃▇▅▂▃▁▂▄▂▄▄</td></tr><tr><td>miou road</td><td>▆▆▇▅██▂▁▅▄▄▅▄▅▂▃▆▂▄▄</td></tr><tr><td>miou water</td><td>▅▃▅▅▇▁▆▆▇▇▇▆▇▆▆▅▇▇▇█</td></tr></table><br/></div><div class=\"wandb-col\"><h3>Run summary:</h3><br/><table class=\"wandb\"><tr><td>loss_seg</td><td>1.09835</td></tr><tr><td>loss_val</td><td>9.30544</td></tr><tr><td>mIoU</td><td>0.20968</td></tr><tr><td>miou agricolture</td><td>0.25287</td></tr><tr><td>miou background</td><td>0.17303</td></tr><tr><td>miou barren</td><td>0.07398</td></tr><tr><td>miou building</td><td>0.17213</td></tr><tr><td>miou forest</td><td>0.11547</td></tr><tr><td>miou road</td><td>0.21075</td></tr><tr><td>miou water</td><td>0.46955</td></tr></table><br/></div></div>"
            ]
          },
          "metadata": {}
        },
        {
          "output_type": "display_data",
          "data": {
            "text/plain": [
              "<IPython.core.display.HTML object>"
            ],
            "text/html": [
              " View run <strong style=\"color:#cdcd00\">gentle-sweep-3</strong> at: <a href='https://wandb.ai/vitosilver1999-politecnico-di-torino/AML_4B_upt/runs/zhw26527' target=\"_blank\">https://wandb.ai/vitosilver1999-politecnico-di-torino/AML_4B_upt/runs/zhw26527</a><br> View project at: <a href='https://wandb.ai/vitosilver1999-politecnico-di-torino/AML_4B_upt' target=\"_blank\">https://wandb.ai/vitosilver1999-politecnico-di-torino/AML_4B_upt</a><br>Synced 5 W&B file(s), 0 media file(s), 0 artifact file(s) and 0 other file(s)"
            ]
          },
          "metadata": {}
        },
        {
          "output_type": "display_data",
          "data": {
            "text/plain": [
              "<IPython.core.display.HTML object>"
            ],
            "text/html": [
              "Find logs at: <code>./wandb/run-20250517_113139-zhw26527/logs</code>"
            ]
          },
          "metadata": {}
        },
        {
          "output_type": "stream",
          "name": "stderr",
          "text": [
            "\u001b[34m\u001b[1mwandb\u001b[0m: Agent Starting Run: 43toezqi with config:\n",
            "\u001b[34m\u001b[1mwandb\u001b[0m: \tALPHA_TEACHER: 0.99\n",
            "\u001b[34m\u001b[1mwandb\u001b[0m: \tLOSS_TYPE: ohem\n",
            "\u001b[34m\u001b[1mwandb\u001b[0m: \tLR: 0.0006432258089840628\n",
            "\u001b[34m\u001b[1mwandb\u001b[0m: \tMOMENTUM: 0.9\n",
            "\u001b[34m\u001b[1mwandb\u001b[0m: \tPIXEL_WEIGHT: threshold\n",
            "\u001b[34m\u001b[1mwandb\u001b[0m: \tTHRESHOLD: 0.85\n",
            "\u001b[34m\u001b[1mwandb\u001b[0m: \tTYPE_WEIGHT: median-frequency\n"
          ]
        },
        {
          "output_type": "display_data",
          "data": {
            "text/plain": [
              "<IPython.core.display.HTML object>"
            ],
            "text/html": [
              "Tracking run with wandb version 0.19.11"
            ]
          },
          "metadata": {}
        },
        {
          "output_type": "display_data",
          "data": {
            "text/plain": [
              "<IPython.core.display.HTML object>"
            ],
            "text/html": [
              "Run data is saved locally in <code>/content/wandb/run-20250517_115332-43toezqi</code>"
            ]
          },
          "metadata": {}
        },
        {
          "output_type": "display_data",
          "data": {
            "text/plain": [
              "<IPython.core.display.HTML object>"
            ],
            "text/html": [
              "Syncing run <strong><a href='https://wandb.ai/vitosilver1999-politecnico-di-torino/AML_4B_upt/runs/43toezqi' target=\"_blank\">helpful-sweep-4</a></strong> to <a href='https://wandb.ai/vitosilver1999-politecnico-di-torino/AML_4B_upt' target=\"_blank\">Weights & Biases</a> (<a href='https://wandb.me/developer-guide' target=\"_blank\">docs</a>)<br>Sweep page: <a href='https://wandb.ai/vitosilver1999-politecnico-di-torino/AML_4B_upt/sweeps/5sprm999' target=\"_blank\">https://wandb.ai/vitosilver1999-politecnico-di-torino/AML_4B_upt/sweeps/5sprm999</a>"
            ]
          },
          "metadata": {}
        },
        {
          "output_type": "display_data",
          "data": {
            "text/plain": [
              "<IPython.core.display.HTML object>"
            ],
            "text/html": [
              " View project at <a href='https://wandb.ai/vitosilver1999-politecnico-di-torino/AML_4B_upt' target=\"_blank\">https://wandb.ai/vitosilver1999-politecnico-di-torino/AML_4B_upt</a>"
            ]
          },
          "metadata": {}
        },
        {
          "output_type": "display_data",
          "data": {
            "text/plain": [
              "<IPython.core.display.HTML object>"
            ],
            "text/html": [
              " View sweep at <a href='https://wandb.ai/vitosilver1999-politecnico-di-torino/AML_4B_upt/sweeps/5sprm999' target=\"_blank\">https://wandb.ai/vitosilver1999-politecnico-di-torino/AML_4B_upt/sweeps/5sprm999</a>"
            ]
          },
          "metadata": {}
        },
        {
          "output_type": "display_data",
          "data": {
            "text/plain": [
              "<IPython.core.display.HTML object>"
            ],
            "text/html": [
              " View run at <a href='https://wandb.ai/vitosilver1999-politecnico-di-torino/AML_4B_upt/runs/43toezqi' target=\"_blank\">https://wandb.ai/vitosilver1999-politecnico-di-torino/AML_4B_upt/runs/43toezqi</a>"
            ]
          },
          "metadata": {}
        },
        {
          "output_type": "stream",
          "name": "stderr",
          "text": [
            "100%|██████████| 73/73 [01:01<00:00,  1.18it/s]\n"
          ]
        },
        {
          "output_type": "stream",
          "name": "stdout",
          "text": [
            "[0.0006432258089840628]\n"
          ]
        },
        {
          "output_type": "stream",
          "name": "stderr",
          "text": [
            "Epoch 1 [Training]: 100%|██████████| 73/73 [00:44<00:00,  1.64it/s, Loss_seg=8.6816]\n",
            "Epoch 1 [Validation]: 100%|██████████| 62/62 [00:14<00:00,  4.33it/s, Val_Loss=10.5438, mIoU=0.1568]"
          ]
        },
        {
          "output_type": "stream",
          "name": "stdout",
          "text": [
            "[0.0006432258089840628]\n"
          ]
        },
        {
          "output_type": "stream",
          "name": "stderr",
          "text": [
            "\n",
            "Epoch 2 [Training]: 100%|██████████| 73/73 [00:44<00:00,  1.65it/s, Loss_seg=5.3055]\n",
            "Epoch 2 [Validation]: 100%|██████████| 62/62 [00:14<00:00,  4.36it/s, Val_Loss=9.2675, mIoU=0.1759]"
          ]
        },
        {
          "output_type": "stream",
          "name": "stdout",
          "text": [
            "[0.0006432258089840628]\n"
          ]
        },
        {
          "output_type": "stream",
          "name": "stderr",
          "text": [
            "\n",
            "Epoch 3 [Training]: 100%|██████████| 73/73 [00:44<00:00,  1.64it/s, Loss_seg=4.6423]\n",
            "Epoch 3 [Validation]: 100%|██████████| 62/62 [00:14<00:00,  4.37it/s, Val_Loss=9.5861, mIoU=0.1858]"
          ]
        },
        {
          "output_type": "stream",
          "name": "stdout",
          "text": [
            "[0.0006432258089840628]\n"
          ]
        },
        {
          "output_type": "stream",
          "name": "stderr",
          "text": [
            "\n",
            "Epoch 4 [Training]: 100%|██████████| 73/73 [00:44<00:00,  1.65it/s, Loss_seg=4.2960]\n",
            "Epoch 4 [Validation]: 100%|██████████| 62/62 [00:14<00:00,  4.35it/s, Val_Loss=8.0321, mIoU=0.2091]"
          ]
        },
        {
          "output_type": "stream",
          "name": "stdout",
          "text": [
            "[0.0006432258089840628]\n"
          ]
        },
        {
          "output_type": "stream",
          "name": "stderr",
          "text": [
            "\n",
            "Epoch 5 [Training]: 100%|██████████| 73/73 [00:44<00:00,  1.63it/s, Loss_seg=4.0431]\n",
            "Epoch 5 [Validation]: 100%|██████████| 62/62 [00:14<00:00,  4.36it/s, Val_Loss=8.2658, mIoU=0.2065]"
          ]
        },
        {
          "output_type": "stream",
          "name": "stdout",
          "text": [
            "[0.0006432258089840628]\n"
          ]
        },
        {
          "output_type": "stream",
          "name": "stderr",
          "text": [
            "\n",
            "Epoch 6 [Training]: 100%|██████████| 73/73 [00:44<00:00,  1.65it/s, Loss_seg=3.9593]\n",
            "Epoch 6 [Validation]: 100%|██████████| 62/62 [00:14<00:00,  4.36it/s, Val_Loss=9.7100, mIoU=0.2015]"
          ]
        },
        {
          "output_type": "stream",
          "name": "stdout",
          "text": [
            "[0.0006432258089840628]\n"
          ]
        },
        {
          "output_type": "stream",
          "name": "stderr",
          "text": [
            "\n",
            "Epoch 7 [Training]: 100%|██████████| 73/73 [00:44<00:00,  1.65it/s, Loss_seg=3.8449]\n",
            "Epoch 7 [Validation]: 100%|██████████| 62/62 [00:14<00:00,  4.37it/s, Val_Loss=9.9999, mIoU=0.1969]"
          ]
        },
        {
          "output_type": "stream",
          "name": "stdout",
          "text": [
            "[0.0006432258089840628]\n"
          ]
        },
        {
          "output_type": "stream",
          "name": "stderr",
          "text": [
            "\n",
            "Epoch 8 [Training]: 100%|██████████| 73/73 [00:44<00:00,  1.65it/s, Loss_seg=3.7690]\n",
            "Epoch 8 [Validation]: 100%|██████████| 62/62 [00:14<00:00,  4.36it/s, Val_Loss=10.0923, mIoU=0.1903]"
          ]
        },
        {
          "output_type": "stream",
          "name": "stdout",
          "text": [
            "[0.0003216129044920314]\n"
          ]
        },
        {
          "output_type": "stream",
          "name": "stderr",
          "text": [
            "\n",
            "Epoch 9 [Training]: 100%|██████████| 73/73 [00:44<00:00,  1.64it/s, Loss_seg=3.7275]\n",
            "Epoch 9 [Validation]: 100%|██████████| 62/62 [00:14<00:00,  4.36it/s, Val_Loss=10.1898, mIoU=0.2017]"
          ]
        },
        {
          "output_type": "stream",
          "name": "stdout",
          "text": [
            "[0.0003216129044920314]\n"
          ]
        },
        {
          "output_type": "stream",
          "name": "stderr",
          "text": [
            "\n",
            "Epoch 10 [Training]: 100%|██████████| 73/73 [00:44<00:00,  1.64it/s, Loss_seg=3.6808]\n",
            "Epoch 10 [Validation]: 100%|██████████| 62/62 [00:14<00:00,  4.33it/s, Val_Loss=9.7975, mIoU=0.1984]"
          ]
        },
        {
          "output_type": "stream",
          "name": "stdout",
          "text": [
            "[0.0003216129044920314]\n"
          ]
        },
        {
          "output_type": "stream",
          "name": "stderr",
          "text": [
            "\n",
            "Epoch 11 [Training]: 100%|██████████| 73/73 [00:44<00:00,  1.64it/s, Loss_seg=3.6234]\n",
            "Epoch 11 [Validation]: 100%|██████████| 62/62 [00:14<00:00,  4.35it/s, Val_Loss=9.7876, mIoU=0.2049]"
          ]
        },
        {
          "output_type": "stream",
          "name": "stdout",
          "text": [
            "[0.0003216129044920314]\n"
          ]
        },
        {
          "output_type": "stream",
          "name": "stderr",
          "text": [
            "\n",
            "Epoch 12 [Training]: 100%|██████████| 73/73 [00:44<00:00,  1.65it/s, Loss_seg=3.6333]\n",
            "Epoch 12 [Validation]: 100%|██████████| 62/62 [00:14<00:00,  4.35it/s, Val_Loss=11.0673, mIoU=0.2036]"
          ]
        },
        {
          "output_type": "stream",
          "name": "stdout",
          "text": [
            "[0.0001608064522460157]\n"
          ]
        },
        {
          "output_type": "stream",
          "name": "stderr",
          "text": [
            "\n",
            "Epoch 13 [Training]: 100%|██████████| 73/73 [00:44<00:00,  1.63it/s, Loss_seg=3.5912]\n",
            "Epoch 13 [Validation]: 100%|██████████| 62/62 [00:14<00:00,  4.36it/s, Val_Loss=10.9757, mIoU=0.2006]"
          ]
        },
        {
          "output_type": "stream",
          "name": "stdout",
          "text": [
            "[0.0001608064522460157]\n"
          ]
        },
        {
          "output_type": "stream",
          "name": "stderr",
          "text": [
            "\n",
            "Epoch 14 [Training]: 100%|██████████| 73/73 [00:44<00:00,  1.63it/s, Loss_seg=3.5875]\n",
            "Epoch 14 [Validation]: 100%|██████████| 62/62 [00:14<00:00,  4.31it/s, Val_Loss=10.3876, mIoU=0.2084]"
          ]
        },
        {
          "output_type": "stream",
          "name": "stdout",
          "text": [
            "[0.0001608064522460157]\n"
          ]
        },
        {
          "output_type": "stream",
          "name": "stderr",
          "text": [
            "\n",
            "Epoch 15 [Training]: 100%|██████████| 73/73 [00:44<00:00,  1.64it/s, Loss_seg=3.5529]\n",
            "Epoch 15 [Validation]: 100%|██████████| 62/62 [00:14<00:00,  4.32it/s, Val_Loss=10.0882, mIoU=0.2134]"
          ]
        },
        {
          "output_type": "stream",
          "name": "stdout",
          "text": [
            "[0.0001608064522460157]\n"
          ]
        },
        {
          "output_type": "stream",
          "name": "stderr",
          "text": [
            "\n",
            "Epoch 16 [Training]: 100%|██████████| 73/73 [00:44<00:00,  1.65it/s, Loss_seg=3.5414]\n",
            "Epoch 16 [Validation]: 100%|██████████| 62/62 [00:14<00:00,  4.35it/s, Val_Loss=11.3318, mIoU=0.2085]"
          ]
        },
        {
          "output_type": "stream",
          "name": "stdout",
          "text": [
            "[0.0001608064522460157]\n"
          ]
        },
        {
          "output_type": "stream",
          "name": "stderr",
          "text": [
            "\n",
            "Epoch 17 [Training]: 100%|██████████| 73/73 [00:44<00:00,  1.64it/s, Loss_seg=3.5286]\n",
            "Epoch 17 [Validation]: 100%|██████████| 62/62 [00:14<00:00,  4.32it/s, Val_Loss=10.6572, mIoU=0.2095]"
          ]
        },
        {
          "output_type": "stream",
          "name": "stdout",
          "text": [
            "[0.0001608064522460157]\n"
          ]
        },
        {
          "output_type": "stream",
          "name": "stderr",
          "text": [
            "\n",
            "Epoch 18 [Training]: 100%|██████████| 73/73 [00:44<00:00,  1.65it/s, Loss_seg=3.5489]\n",
            "Epoch 18 [Validation]: 100%|██████████| 62/62 [00:14<00:00,  4.35it/s, Val_Loss=11.3684, mIoU=0.2012]"
          ]
        },
        {
          "output_type": "stream",
          "name": "stdout",
          "text": [
            "[0.0001608064522460157]\n"
          ]
        },
        {
          "output_type": "stream",
          "name": "stderr",
          "text": [
            "\n",
            "Epoch 19 [Training]: 100%|██████████| 73/73 [00:44<00:00,  1.64it/s, Loss_seg=3.5358]\n",
            "Epoch 19 [Validation]: 100%|██████████| 62/62 [00:14<00:00,  4.35it/s, Val_Loss=10.1993, mIoU=0.2157]"
          ]
        },
        {
          "output_type": "stream",
          "name": "stdout",
          "text": [
            "[0.0001608064522460157]\n"
          ]
        },
        {
          "output_type": "stream",
          "name": "stderr",
          "text": [
            "\n",
            "Epoch 20 [Training]: 100%|██████████| 73/73 [00:44<00:00,  1.64it/s, Loss_seg=3.4962]\n",
            "Epoch 20 [Validation]: 100%|██████████| 62/62 [00:14<00:00,  4.33it/s, Val_Loss=10.6982, mIoU=0.2126]\n"
          ]
        },
        {
          "output_type": "display_data",
          "data": {
            "text/plain": [
              "<IPython.core.display.HTML object>"
            ],
            "text/html": []
          },
          "metadata": {}
        },
        {
          "output_type": "display_data",
          "data": {
            "text/plain": [
              "<IPython.core.display.HTML object>"
            ],
            "text/html": [
              "<br>    <style><br>        .wandb-row {<br>            display: flex;<br>            flex-direction: row;<br>            flex-wrap: wrap;<br>            justify-content: flex-start;<br>            width: 100%;<br>        }<br>        .wandb-col {<br>            display: flex;<br>            flex-direction: column;<br>            flex-basis: 100%;<br>            flex: 1;<br>            padding: 10px;<br>        }<br>    </style><br><div class=\"wandb-row\"><div class=\"wandb-col\"><h3>Run history:</h3><br/><table class=\"wandb\"><tr><td>loss_seg</td><td>█▃▃▂▂▂▁▁▁▁▁▁▁▁▁▁▁▁▁▁</td></tr><tr><td>loss_val</td><td>▆▄▄▁▁▅▅▅▆▅▅▇▇▆▅█▇█▆▇</td></tr><tr><td>mIoU</td><td>▁▃▄▇▇▆▆▅▆▆▇▇▆▇█▇▇▆██</td></tr><tr><td>miou agricolture</td><td>▁▄▃█▇▄▃▃▄▄▄▃▃▃▃▃▄▁▃▃</td></tr><tr><td>miou background</td><td>▁▁▁▃▄▃▄▁▃▃▃▃▅▅▇▄▃▅█▅</td></tr><tr><td>miou barren</td><td>▃▂▆▁▇▁▅█▆▆▄▄█▅▄▅▆█▇▆</td></tr><tr><td>miou building</td><td>▁▃▄▆▃▅▅▅▆▆▆▆▅▆▅█▇▆▅▇</td></tr><tr><td>miou forest</td><td>▁▂▄▅▇▄▇▇▇▆▇▆█▆▆▇▆▇▇▇</td></tr><tr><td>miou road</td><td>▁▁▆▅▃▄▂▅▅▄▄▇▅▄▃▇█▄▁▄</td></tr><tr><td>miou water</td><td>▁▂▂▄▃▅▄▂▃▃▆▄▂▅█▃▃▄█▆</td></tr></table><br/></div><div class=\"wandb-col\"><h3>Run summary:</h3><br/><table class=\"wandb\"><tr><td>loss_seg</td><td>0.21851</td></tr><tr><td>loss_val</td><td>0.66864</td></tr><tr><td>mIoU</td><td>0.2126</td></tr><tr><td>miou agricolture</td><td>0.344</td></tr><tr><td>miou background</td><td>0.17314</td></tr><tr><td>miou barren</td><td>0.05308</td></tr><tr><td>miou building</td><td>0.21928</td></tr><tr><td>miou forest</td><td>0.11489</td></tr><tr><td>miou road</td><td>0.22006</td></tr><tr><td>miou water</td><td>0.36374</td></tr></table><br/></div></div>"
            ]
          },
          "metadata": {}
        },
        {
          "output_type": "display_data",
          "data": {
            "text/plain": [
              "<IPython.core.display.HTML object>"
            ],
            "text/html": [
              " View run <strong style=\"color:#cdcd00\">helpful-sweep-4</strong> at: <a href='https://wandb.ai/vitosilver1999-politecnico-di-torino/AML_4B_upt/runs/43toezqi' target=\"_blank\">https://wandb.ai/vitosilver1999-politecnico-di-torino/AML_4B_upt/runs/43toezqi</a><br> View project at: <a href='https://wandb.ai/vitosilver1999-politecnico-di-torino/AML_4B_upt' target=\"_blank\">https://wandb.ai/vitosilver1999-politecnico-di-torino/AML_4B_upt</a><br>Synced 5 W&B file(s), 0 media file(s), 0 artifact file(s) and 0 other file(s)"
            ]
          },
          "metadata": {}
        },
        {
          "output_type": "display_data",
          "data": {
            "text/plain": [
              "<IPython.core.display.HTML object>"
            ],
            "text/html": [
              "Find logs at: <code>./wandb/run-20250517_115332-43toezqi/logs</code>"
            ]
          },
          "metadata": {}
        },
        {
          "output_type": "stream",
          "name": "stderr",
          "text": [
            "\u001b[34m\u001b[1mwandb\u001b[0m: Agent Starting Run: s4qhb46w with config:\n",
            "\u001b[34m\u001b[1mwandb\u001b[0m: \tALPHA_TEACHER: 0.99\n",
            "\u001b[34m\u001b[1mwandb\u001b[0m: \tLOSS_TYPE: ohem\n",
            "\u001b[34m\u001b[1mwandb\u001b[0m: \tLR: 0.0002963435198301777\n",
            "\u001b[34m\u001b[1mwandb\u001b[0m: \tMOMENTUM: 0.8\n",
            "\u001b[34m\u001b[1mwandb\u001b[0m: \tPIXEL_WEIGHT: threshold\n",
            "\u001b[34m\u001b[1mwandb\u001b[0m: \tTHRESHOLD: 0.7\n",
            "\u001b[34m\u001b[1mwandb\u001b[0m: \tTYPE_WEIGHT: median-frequency\n"
          ]
        },
        {
          "output_type": "display_data",
          "data": {
            "text/plain": [
              "<IPython.core.display.HTML object>"
            ],
            "text/html": [
              "Tracking run with wandb version 0.19.11"
            ]
          },
          "metadata": {}
        },
        {
          "output_type": "display_data",
          "data": {
            "text/plain": [
              "<IPython.core.display.HTML object>"
            ],
            "text/html": [
              "Run data is saved locally in <code>/content/wandb/run-20250517_121424-s4qhb46w</code>"
            ]
          },
          "metadata": {}
        },
        {
          "output_type": "display_data",
          "data": {
            "text/plain": [
              "<IPython.core.display.HTML object>"
            ],
            "text/html": [
              "Syncing run <strong><a href='https://wandb.ai/vitosilver1999-politecnico-di-torino/AML_4B_upt/runs/s4qhb46w' target=\"_blank\">polar-sweep-5</a></strong> to <a href='https://wandb.ai/vitosilver1999-politecnico-di-torino/AML_4B_upt' target=\"_blank\">Weights & Biases</a> (<a href='https://wandb.me/developer-guide' target=\"_blank\">docs</a>)<br>Sweep page: <a href='https://wandb.ai/vitosilver1999-politecnico-di-torino/AML_4B_upt/sweeps/5sprm999' target=\"_blank\">https://wandb.ai/vitosilver1999-politecnico-di-torino/AML_4B_upt/sweeps/5sprm999</a>"
            ]
          },
          "metadata": {}
        },
        {
          "output_type": "display_data",
          "data": {
            "text/plain": [
              "<IPython.core.display.HTML object>"
            ],
            "text/html": [
              " View project at <a href='https://wandb.ai/vitosilver1999-politecnico-di-torino/AML_4B_upt' target=\"_blank\">https://wandb.ai/vitosilver1999-politecnico-di-torino/AML_4B_upt</a>"
            ]
          },
          "metadata": {}
        },
        {
          "output_type": "display_data",
          "data": {
            "text/plain": [
              "<IPython.core.display.HTML object>"
            ],
            "text/html": [
              " View sweep at <a href='https://wandb.ai/vitosilver1999-politecnico-di-torino/AML_4B_upt/sweeps/5sprm999' target=\"_blank\">https://wandb.ai/vitosilver1999-politecnico-di-torino/AML_4B_upt/sweeps/5sprm999</a>"
            ]
          },
          "metadata": {}
        },
        {
          "output_type": "display_data",
          "data": {
            "text/plain": [
              "<IPython.core.display.HTML object>"
            ],
            "text/html": [
              " View run at <a href='https://wandb.ai/vitosilver1999-politecnico-di-torino/AML_4B_upt/runs/s4qhb46w' target=\"_blank\">https://wandb.ai/vitosilver1999-politecnico-di-torino/AML_4B_upt/runs/s4qhb46w</a>"
            ]
          },
          "metadata": {}
        },
        {
          "output_type": "stream",
          "name": "stderr",
          "text": [
            "100%|██████████| 73/73 [01:01<00:00,  1.18it/s]\n"
          ]
        },
        {
          "output_type": "stream",
          "name": "stdout",
          "text": [
            "[0.0002963435198301777]\n"
          ]
        },
        {
          "output_type": "stream",
          "name": "stderr",
          "text": [
            "Epoch 1 [Training]: 100%|██████████| 73/73 [00:44<00:00,  1.63it/s, Loss_seg=10.8380]\n",
            "Epoch 1 [Validation]: 100%|██████████| 62/62 [00:14<00:00,  4.37it/s, Val_Loss=16.4563, mIoU=0.1099]"
          ]
        },
        {
          "output_type": "stream",
          "name": "stdout",
          "text": [
            "[0.0002963435198301777]\n"
          ]
        },
        {
          "output_type": "stream",
          "name": "stderr",
          "text": [
            "\n",
            "Epoch 2 [Training]: 100%|██████████| 73/73 [00:44<00:00,  1.63it/s, Loss_seg=7.8537]\n",
            "Epoch 2 [Validation]: 100%|██████████| 62/62 [00:14<00:00,  4.37it/s, Val_Loss=15.7688, mIoU=0.1233]"
          ]
        },
        {
          "output_type": "stream",
          "name": "stdout",
          "text": [
            "[0.0002963435198301777]\n"
          ]
        },
        {
          "output_type": "stream",
          "name": "stderr",
          "text": [
            "\n",
            "Epoch 3 [Training]: 100%|██████████| 73/73 [00:44<00:00,  1.63it/s, Loss_seg=6.6888]\n",
            "Epoch 3 [Validation]: 100%|██████████| 62/62 [00:14<00:00,  4.35it/s, Val_Loss=13.0107, mIoU=0.1487]"
          ]
        },
        {
          "output_type": "stream",
          "name": "stdout",
          "text": [
            "[0.0002963435198301777]\n"
          ]
        },
        {
          "output_type": "stream",
          "name": "stderr",
          "text": [
            "\n",
            "Epoch 4 [Training]: 100%|██████████| 73/73 [00:44<00:00,  1.63it/s, Loss_seg=5.9184]\n",
            "Epoch 4 [Validation]: 100%|██████████| 62/62 [00:14<00:00,  4.36it/s, Val_Loss=12.8208, mIoU=0.1622]"
          ]
        },
        {
          "output_type": "stream",
          "name": "stdout",
          "text": [
            "[0.0002963435198301777]\n"
          ]
        },
        {
          "output_type": "stream",
          "name": "stderr",
          "text": [
            "\n",
            "Epoch 5 [Training]: 100%|██████████| 73/73 [00:44<00:00,  1.65it/s, Loss_seg=5.4649]\n",
            "Epoch 5 [Validation]: 100%|██████████| 62/62 [00:14<00:00,  4.35it/s, Val_Loss=10.7820, mIoU=0.1778]"
          ]
        },
        {
          "output_type": "stream",
          "name": "stdout",
          "text": [
            "[0.0002963435198301777]\n"
          ]
        },
        {
          "output_type": "stream",
          "name": "stderr",
          "text": [
            "\n",
            "Epoch 6 [Training]: 100%|██████████| 73/73 [00:44<00:00,  1.62it/s, Loss_seg=5.1993]\n",
            "Epoch 6 [Validation]: 100%|██████████| 62/62 [00:14<00:00,  4.36it/s, Val_Loss=13.4936, mIoU=0.1674]"
          ]
        },
        {
          "output_type": "stream",
          "name": "stdout",
          "text": [
            "[0.0002963435198301777]\n"
          ]
        },
        {
          "output_type": "stream",
          "name": "stderr",
          "text": [
            "\n",
            "Epoch 7 [Training]: 100%|██████████| 73/73 [00:44<00:00,  1.64it/s, Loss_seg=4.8611]\n",
            "Epoch 7 [Validation]: 100%|██████████| 62/62 [00:14<00:00,  4.35it/s, Val_Loss=9.8064, mIoU=0.1932]"
          ]
        },
        {
          "output_type": "stream",
          "name": "stdout",
          "text": [
            "[0.0002963435198301777]\n"
          ]
        },
        {
          "output_type": "stream",
          "name": "stderr",
          "text": [
            "\n",
            "Epoch 8 [Training]: 100%|██████████| 73/73 [00:44<00:00,  1.64it/s, Loss_seg=4.6552]\n",
            "Epoch 8 [Validation]: 100%|██████████| 62/62 [00:14<00:00,  4.34it/s, Val_Loss=9.9464, mIoU=0.1949]"
          ]
        },
        {
          "output_type": "stream",
          "name": "stdout",
          "text": [
            "[0.0002963435198301777]\n"
          ]
        },
        {
          "output_type": "stream",
          "name": "stderr",
          "text": [
            "\n",
            "Epoch 9 [Training]: 100%|██████████| 73/73 [00:44<00:00,  1.64it/s, Loss_seg=4.5437]\n",
            "Epoch 9 [Validation]: 100%|██████████| 62/62 [00:14<00:00,  4.34it/s, Val_Loss=10.0975, mIoU=0.1976]"
          ]
        },
        {
          "output_type": "stream",
          "name": "stdout",
          "text": [
            "[0.0002963435198301777]\n"
          ]
        },
        {
          "output_type": "stream",
          "name": "stderr",
          "text": [
            "\n",
            "Epoch 10 [Training]: 100%|██████████| 73/73 [00:44<00:00,  1.64it/s, Loss_seg=4.4016]\n",
            "Epoch 10 [Validation]: 100%|██████████| 62/62 [00:14<00:00,  4.33it/s, Val_Loss=10.1437, mIoU=0.2009]"
          ]
        },
        {
          "output_type": "stream",
          "name": "stdout",
          "text": [
            "[0.0002963435198301777]\n"
          ]
        },
        {
          "output_type": "stream",
          "name": "stderr",
          "text": [
            "\n",
            "Epoch 11 [Training]: 100%|██████████| 73/73 [00:44<00:00,  1.63it/s, Loss_seg=4.3432]\n",
            "Epoch 11 [Validation]: 100%|██████████| 62/62 [00:14<00:00,  4.34it/s, Val_Loss=11.6598, mIoU=0.2057]"
          ]
        },
        {
          "output_type": "stream",
          "name": "stdout",
          "text": [
            "[0.0002963435198301777]\n"
          ]
        },
        {
          "output_type": "stream",
          "name": "stderr",
          "text": [
            "\n",
            "Epoch 12 [Training]: 100%|██████████| 73/73 [00:44<00:00,  1.63it/s, Loss_seg=4.3020]\n",
            "Epoch 12 [Validation]: 100%|██████████| 62/62 [00:14<00:00,  4.34it/s, Val_Loss=12.3407, mIoU=0.2019]"
          ]
        },
        {
          "output_type": "stream",
          "name": "stdout",
          "text": [
            "[0.0002963435198301777]\n"
          ]
        },
        {
          "output_type": "stream",
          "name": "stderr",
          "text": [
            "\n",
            "Epoch 13 [Training]: 100%|██████████| 73/73 [00:44<00:00,  1.64it/s, Loss_seg=4.1873]\n",
            "Epoch 13 [Validation]: 100%|██████████| 62/62 [00:14<00:00,  4.35it/s, Val_Loss=10.3055, mIoU=0.2088]"
          ]
        },
        {
          "output_type": "stream",
          "name": "stdout",
          "text": [
            "[0.0002963435198301777]\n"
          ]
        },
        {
          "output_type": "stream",
          "name": "stderr",
          "text": [
            "\n",
            "Epoch 14 [Training]: 100%|██████████| 73/73 [00:44<00:00,  1.63it/s, Loss_seg=4.1363]\n",
            "Epoch 14 [Validation]: 100%|██████████| 62/62 [00:14<00:00,  4.33it/s, Val_Loss=10.7609, mIoU=0.2076]"
          ]
        },
        {
          "output_type": "stream",
          "name": "stdout",
          "text": [
            "[0.0002963435198301777]\n"
          ]
        },
        {
          "output_type": "stream",
          "name": "stderr",
          "text": [
            "\n",
            "Epoch 15 [Training]: 100%|██████████| 73/73 [00:44<00:00,  1.64it/s, Loss_seg=4.1034]\n",
            "Epoch 15 [Validation]: 100%|██████████| 62/62 [00:14<00:00,  4.37it/s, Val_Loss=10.1271, mIoU=0.2127]"
          ]
        },
        {
          "output_type": "stream",
          "name": "stdout",
          "text": [
            "[0.0002963435198301777]\n"
          ]
        },
        {
          "output_type": "stream",
          "name": "stderr",
          "text": [
            "\n",
            "Epoch 16 [Training]: 100%|██████████| 73/73 [00:44<00:00,  1.65it/s, Loss_seg=4.0707]\n",
            "Epoch 16 [Validation]: 100%|██████████| 62/62 [00:14<00:00,  4.33it/s, Val_Loss=10.8772, mIoU=0.2166]"
          ]
        },
        {
          "output_type": "stream",
          "name": "stdout",
          "text": [
            "[0.0002963435198301777]\n"
          ]
        },
        {
          "output_type": "stream",
          "name": "stderr",
          "text": [
            "\n",
            "Epoch 17 [Training]: 100%|██████████| 73/73 [00:44<00:00,  1.65it/s, Loss_seg=4.0324]\n",
            "Epoch 17 [Validation]: 100%|██████████| 62/62 [00:14<00:00,  4.36it/s, Val_Loss=11.9702, mIoU=0.2150]"
          ]
        },
        {
          "output_type": "stream",
          "name": "stdout",
          "text": [
            "[0.0002963435198301777]\n"
          ]
        },
        {
          "output_type": "stream",
          "name": "stderr",
          "text": [
            "\n",
            "Epoch 18 [Training]: 100%|██████████| 73/73 [00:44<00:00,  1.64it/s, Loss_seg=4.0141]\n",
            "Epoch 18 [Validation]: 100%|██████████| 62/62 [00:14<00:00,  4.36it/s, Val_Loss=11.6994, mIoU=0.2070]"
          ]
        },
        {
          "output_type": "stream",
          "name": "stdout",
          "text": [
            "[0.0002963435198301777]\n"
          ]
        },
        {
          "output_type": "stream",
          "name": "stderr",
          "text": [
            "\n",
            "Epoch 19 [Training]: 100%|██████████| 73/73 [00:44<00:00,  1.63it/s, Loss_seg=3.9792]\n",
            "Epoch 19 [Validation]: 100%|██████████| 62/62 [00:14<00:00,  4.35it/s, Val_Loss=11.8841, mIoU=0.2122]"
          ]
        },
        {
          "output_type": "stream",
          "name": "stdout",
          "text": [
            "[0.0002963435198301777]\n"
          ]
        },
        {
          "output_type": "stream",
          "name": "stderr",
          "text": [
            "\n",
            "Epoch 20 [Training]: 100%|██████████| 73/73 [00:44<00:00,  1.64it/s, Loss_seg=3.9623]\n",
            "Epoch 20 [Validation]: 100%|██████████| 62/62 [00:14<00:00,  4.36it/s, Val_Loss=13.7630, mIoU=0.2157]\n"
          ]
        },
        {
          "output_type": "display_data",
          "data": {
            "text/plain": [
              "<IPython.core.display.HTML object>"
            ],
            "text/html": []
          },
          "metadata": {}
        },
        {
          "output_type": "display_data",
          "data": {
            "text/plain": [
              "<IPython.core.display.HTML object>"
            ],
            "text/html": [
              "<br>    <style><br>        .wandb-row {<br>            display: flex;<br>            flex-direction: row;<br>            flex-wrap: wrap;<br>            justify-content: flex-start;<br>            width: 100%;<br>        }<br>        .wandb-col {<br>            display: flex;<br>            flex-direction: column;<br>            flex-basis: 100%;<br>            flex: 1;<br>            padding: 10px;<br>        }<br>    </style><br><div class=\"wandb-row\"><div class=\"wandb-col\"><h3>Run history:</h3><br/><table class=\"wandb\"><tr><td>loss_seg</td><td>█▅▄▃▃▂▂▂▂▁▁▁▁▁▁▁▁▁▁▁</td></tr><tr><td>loss_val</td><td>█▇▄▄▂▅▁▁▁▁▃▄▂▂▁▂▃▃▃▅</td></tr><tr><td>mIoU</td><td>▁▂▄▄▅▅▆▇▇▇▇▇▇▇███▇██</td></tr><tr><td>miou agricolture</td><td>▁▂▄▅▇▅█▇▇▇█▇█▇▇██▆▇▇</td></tr><tr><td>miou background</td><td>▅▅▇█▇▂▇▆▆▄▃▅▄▆▃▄▃▁▃▅</td></tr><tr><td>miou barren</td><td>▁▁▂▂▁▃▂▂▅▃▃▆▄▅▅▆▄▄██</td></tr><tr><td>miou building</td><td>▁▂▂▃▄▄▅▅▆▆▆▆▇▆▇█▇███</td></tr><tr><td>miou forest</td><td>▁▂▃▃▄▅▅▅▇▇▇▇▇███████</td></tr><tr><td>miou road</td><td>▁▂▃▄▄▅▅▅▅▆▆▆▆▆██▇██▇</td></tr><tr><td>miou water</td><td>▁▂▄▄▅▅▇▇▇▇█▇███▇█▇▇▇</td></tr></table><br/></div><div class=\"wandb-col\"><h3>Run summary:</h3><br/><table class=\"wandb\"><tr><td>loss_seg</td><td>0.24765</td></tr><tr><td>loss_val</td><td>0.86019</td></tr><tr><td>mIoU</td><td>0.21567</td></tr><tr><td>miou agricolture</td><td>0.40661</td></tr><tr><td>miou background</td><td>0.09903</td></tr><tr><td>miou barren</td><td>0.04499</td></tr><tr><td>miou building</td><td>0.18167</td></tr><tr><td>miou forest</td><td>0.14185</td></tr><tr><td>miou road</td><td>0.29206</td></tr><tr><td>miou water</td><td>0.3435</td></tr></table><br/></div></div>"
            ]
          },
          "metadata": {}
        },
        {
          "output_type": "display_data",
          "data": {
            "text/plain": [
              "<IPython.core.display.HTML object>"
            ],
            "text/html": [
              " View run <strong style=\"color:#cdcd00\">polar-sweep-5</strong> at: <a href='https://wandb.ai/vitosilver1999-politecnico-di-torino/AML_4B_upt/runs/s4qhb46w' target=\"_blank\">https://wandb.ai/vitosilver1999-politecnico-di-torino/AML_4B_upt/runs/s4qhb46w</a><br> View project at: <a href='https://wandb.ai/vitosilver1999-politecnico-di-torino/AML_4B_upt' target=\"_blank\">https://wandb.ai/vitosilver1999-politecnico-di-torino/AML_4B_upt</a><br>Synced 5 W&B file(s), 0 media file(s), 0 artifact file(s) and 0 other file(s)"
            ]
          },
          "metadata": {}
        },
        {
          "output_type": "display_data",
          "data": {
            "text/plain": [
              "<IPython.core.display.HTML object>"
            ],
            "text/html": [
              "Find logs at: <code>./wandb/run-20250517_121424-s4qhb46w/logs</code>"
            ]
          },
          "metadata": {}
        },
        {
          "output_type": "stream",
          "name": "stderr",
          "text": [
            "\u001b[34m\u001b[1mwandb\u001b[0m: Sweep Agent: Waiting for job.\n",
            "\u001b[34m\u001b[1mwandb\u001b[0m: Job received.\n",
            "\u001b[34m\u001b[1mwandb\u001b[0m: Agent Starting Run: 99qnlqb7 with config:\n",
            "\u001b[34m\u001b[1mwandb\u001b[0m: \tALPHA_TEACHER: 0.99\n",
            "\u001b[34m\u001b[1mwandb\u001b[0m: \tLOSS_TYPE: ce\n",
            "\u001b[34m\u001b[1mwandb\u001b[0m: \tLR: 0.00018426333918129603\n",
            "\u001b[34m\u001b[1mwandb\u001b[0m: \tMOMENTUM: 0.7\n",
            "\u001b[34m\u001b[1mwandb\u001b[0m: \tPIXEL_WEIGHT: threshold_uniform\n",
            "\u001b[34m\u001b[1mwandb\u001b[0m: \tTHRESHOLD: 0.9\n",
            "\u001b[34m\u001b[1mwandb\u001b[0m: \tTYPE_WEIGHT: log\n"
          ]
        },
        {
          "output_type": "display_data",
          "data": {
            "text/plain": [
              "<IPython.core.display.HTML object>"
            ],
            "text/html": [
              "Tracking run with wandb version 0.19.11"
            ]
          },
          "metadata": {}
        },
        {
          "output_type": "display_data",
          "data": {
            "text/plain": [
              "<IPython.core.display.HTML object>"
            ],
            "text/html": [
              "Run data is saved locally in <code>/content/wandb/run-20250517_123526-99qnlqb7</code>"
            ]
          },
          "metadata": {}
        },
        {
          "output_type": "display_data",
          "data": {
            "text/plain": [
              "<IPython.core.display.HTML object>"
            ],
            "text/html": [
              "Syncing run <strong><a href='https://wandb.ai/vitosilver1999-politecnico-di-torino/AML_4B_upt/runs/99qnlqb7' target=\"_blank\">playful-sweep-6</a></strong> to <a href='https://wandb.ai/vitosilver1999-politecnico-di-torino/AML_4B_upt' target=\"_blank\">Weights & Biases</a> (<a href='https://wandb.me/developer-guide' target=\"_blank\">docs</a>)<br>Sweep page: <a href='https://wandb.ai/vitosilver1999-politecnico-di-torino/AML_4B_upt/sweeps/5sprm999' target=\"_blank\">https://wandb.ai/vitosilver1999-politecnico-di-torino/AML_4B_upt/sweeps/5sprm999</a>"
            ]
          },
          "metadata": {}
        },
        {
          "output_type": "display_data",
          "data": {
            "text/plain": [
              "<IPython.core.display.HTML object>"
            ],
            "text/html": [
              " View project at <a href='https://wandb.ai/vitosilver1999-politecnico-di-torino/AML_4B_upt' target=\"_blank\">https://wandb.ai/vitosilver1999-politecnico-di-torino/AML_4B_upt</a>"
            ]
          },
          "metadata": {}
        },
        {
          "output_type": "display_data",
          "data": {
            "text/plain": [
              "<IPython.core.display.HTML object>"
            ],
            "text/html": [
              " View sweep at <a href='https://wandb.ai/vitosilver1999-politecnico-di-torino/AML_4B_upt/sweeps/5sprm999' target=\"_blank\">https://wandb.ai/vitosilver1999-politecnico-di-torino/AML_4B_upt/sweeps/5sprm999</a>"
            ]
          },
          "metadata": {}
        },
        {
          "output_type": "display_data",
          "data": {
            "text/plain": [
              "<IPython.core.display.HTML object>"
            ],
            "text/html": [
              " View run at <a href='https://wandb.ai/vitosilver1999-politecnico-di-torino/AML_4B_upt/runs/99qnlqb7' target=\"_blank\">https://wandb.ai/vitosilver1999-politecnico-di-torino/AML_4B_upt/runs/99qnlqb7</a>"
            ]
          },
          "metadata": {}
        },
        {
          "output_type": "stream",
          "name": "stderr",
          "text": [
            "100%|██████████| 73/73 [01:01<00:00,  1.19it/s]\n"
          ]
        },
        {
          "output_type": "stream",
          "name": "stdout",
          "text": [
            "[0.00018426333918129603]\n"
          ]
        },
        {
          "output_type": "stream",
          "name": "stderr",
          "text": [
            "Epoch 1 [Training]: 100%|██████████| 73/73 [00:45<00:00,  1.60it/s, Loss_seg=29.7492]\n",
            "Epoch 1 [Validation]: 100%|██████████| 62/62 [00:14<00:00,  4.33it/s, Val_Loss=12.2434, mIoU=0.1125]"
          ]
        },
        {
          "output_type": "stream",
          "name": "stdout",
          "text": [
            "[0.00018426333918129603]\n"
          ]
        },
        {
          "output_type": "stream",
          "name": "stderr",
          "text": [
            "\n",
            "Epoch 2 [Training]: 100%|██████████| 73/73 [00:45<00:00,  1.60it/s, Loss_seg=20.7224]\n",
            "Epoch 2 [Validation]: 100%|██████████| 62/62 [00:14<00:00,  4.36it/s, Val_Loss=9.8483, mIoU=0.1301]"
          ]
        },
        {
          "output_type": "stream",
          "name": "stdout",
          "text": [
            "[0.00018426333918129603]\n"
          ]
        },
        {
          "output_type": "stream",
          "name": "stderr",
          "text": [
            "\n",
            "Epoch 3 [Training]: 100%|██████████| 73/73 [00:45<00:00,  1.60it/s, Loss_seg=17.1611]\n",
            "Epoch 3 [Validation]: 100%|██████████| 62/62 [00:14<00:00,  4.37it/s, Val_Loss=8.5699, mIoU=0.1498]"
          ]
        },
        {
          "output_type": "stream",
          "name": "stdout",
          "text": [
            "[0.00018426333918129603]\n"
          ]
        },
        {
          "output_type": "stream",
          "name": "stderr",
          "text": [
            "\n",
            "Epoch 4 [Training]: 100%|██████████| 73/73 [00:45<00:00,  1.60it/s, Loss_seg=15.2967]\n",
            "Epoch 4 [Validation]: 100%|██████████| 62/62 [00:14<00:00,  4.33it/s, Val_Loss=7.7432, mIoU=0.1617]"
          ]
        },
        {
          "output_type": "stream",
          "name": "stdout",
          "text": [
            "[0.00018426333918129603]\n"
          ]
        },
        {
          "output_type": "stream",
          "name": "stderr",
          "text": [
            "\n",
            "Epoch 5 [Training]: 100%|██████████| 73/73 [00:45<00:00,  1.60it/s, Loss_seg=13.9765]\n",
            "Epoch 5 [Validation]: 100%|██████████| 62/62 [00:14<00:00,  4.37it/s, Val_Loss=7.4640, mIoU=0.1774]"
          ]
        },
        {
          "output_type": "stream",
          "name": "stdout",
          "text": [
            "[0.00018426333918129603]\n"
          ]
        },
        {
          "output_type": "stream",
          "name": "stderr",
          "text": [
            "\n",
            "Epoch 6 [Training]: 100%|██████████| 73/73 [00:45<00:00,  1.61it/s, Loss_seg=12.8793]\n",
            "Epoch 6 [Validation]: 100%|██████████| 62/62 [00:14<00:00,  4.37it/s, Val_Loss=7.1059, mIoU=0.1860]"
          ]
        },
        {
          "output_type": "stream",
          "name": "stdout",
          "text": [
            "[0.00018426333918129603]\n"
          ]
        },
        {
          "output_type": "stream",
          "name": "stderr",
          "text": [
            "\n",
            "Epoch 7 [Training]: 100%|██████████| 73/73 [00:45<00:00,  1.60it/s, Loss_seg=12.1467]\n",
            "Epoch 7 [Validation]: 100%|██████████| 62/62 [00:14<00:00,  4.37it/s, Val_Loss=6.9092, mIoU=0.1881]"
          ]
        },
        {
          "output_type": "stream",
          "name": "stdout",
          "text": [
            "[0.00018426333918129603]\n"
          ]
        },
        {
          "output_type": "stream",
          "name": "stderr",
          "text": [
            "\n",
            "Epoch 8 [Training]: 100%|██████████| 73/73 [00:45<00:00,  1.60it/s, Loss_seg=11.4015]\n",
            "Epoch 8 [Validation]: 100%|██████████| 62/62 [00:14<00:00,  4.38it/s, Val_Loss=6.8179, mIoU=0.1917]"
          ]
        },
        {
          "output_type": "stream",
          "name": "stdout",
          "text": [
            "[0.00018426333918129603]\n"
          ]
        },
        {
          "output_type": "stream",
          "name": "stderr",
          "text": [
            "\n",
            "Epoch 9 [Training]: 100%|██████████| 73/73 [00:45<00:00,  1.61it/s, Loss_seg=10.9936]\n",
            "Epoch 9 [Validation]: 100%|██████████| 62/62 [00:14<00:00,  4.36it/s, Val_Loss=6.5705, mIoU=0.1995]"
          ]
        },
        {
          "output_type": "stream",
          "name": "stdout",
          "text": [
            "[0.00018426333918129603]\n"
          ]
        },
        {
          "output_type": "stream",
          "name": "stderr",
          "text": [
            "\n",
            "Epoch 10 [Training]: 100%|██████████| 73/73 [00:45<00:00,  1.61it/s, Loss_seg=10.5110]\n",
            "Epoch 10 [Validation]: 100%|██████████| 62/62 [00:14<00:00,  4.37it/s, Val_Loss=6.2946, mIoU=0.2074]"
          ]
        },
        {
          "output_type": "stream",
          "name": "stdout",
          "text": [
            "[0.00018426333918129603]\n"
          ]
        },
        {
          "output_type": "stream",
          "name": "stderr",
          "text": [
            "\n",
            "Epoch 11 [Training]: 100%|██████████| 73/73 [00:45<00:00,  1.60it/s, Loss_seg=10.1982]\n",
            "Epoch 11 [Validation]: 100%|██████████| 62/62 [00:14<00:00,  4.34it/s, Val_Loss=6.6512, mIoU=0.1965]"
          ]
        },
        {
          "output_type": "stream",
          "name": "stdout",
          "text": [
            "[0.00018426333918129603]\n"
          ]
        },
        {
          "output_type": "stream",
          "name": "stderr",
          "text": [
            "\n",
            "Epoch 12 [Training]: 100%|██████████| 73/73 [00:45<00:00,  1.60it/s, Loss_seg=9.8983]\n",
            "Epoch 12 [Validation]: 100%|██████████| 62/62 [00:14<00:00,  4.32it/s, Val_Loss=6.5359, mIoU=0.1984]"
          ]
        },
        {
          "output_type": "stream",
          "name": "stdout",
          "text": [
            "[0.00018426333918129603]\n"
          ]
        },
        {
          "output_type": "stream",
          "name": "stderr",
          "text": [
            "\n",
            "Epoch 13 [Training]: 100%|██████████| 73/73 [00:45<00:00,  1.62it/s, Loss_seg=9.7537]\n",
            "Epoch 13 [Validation]: 100%|██████████| 62/62 [00:14<00:00,  4.37it/s, Val_Loss=6.3295, mIoU=0.2144]"
          ]
        },
        {
          "output_type": "stream",
          "name": "stdout",
          "text": [
            "[0.00018426333918129603]\n"
          ]
        },
        {
          "output_type": "stream",
          "name": "stderr",
          "text": [
            "\n",
            "Epoch 14 [Training]: 100%|██████████| 73/73 [00:45<00:00,  1.62it/s, Loss_seg=9.4364]\n",
            "Epoch 14 [Validation]: 100%|██████████| 62/62 [00:14<00:00,  4.37it/s, Val_Loss=6.3909, mIoU=0.2072]"
          ]
        },
        {
          "output_type": "stream",
          "name": "stdout",
          "text": [
            "[0.00018426333918129603]\n"
          ]
        },
        {
          "output_type": "stream",
          "name": "stderr",
          "text": [
            "\n",
            "Epoch 15 [Training]: 100%|██████████| 73/73 [00:45<00:00,  1.60it/s, Loss_seg=9.3523]\n",
            "Epoch 15 [Validation]: 100%|██████████| 62/62 [00:14<00:00,  4.37it/s, Val_Loss=6.1073, mIoU=0.2192]"
          ]
        },
        {
          "output_type": "stream",
          "name": "stdout",
          "text": [
            "[0.00018426333918129603]\n"
          ]
        },
        {
          "output_type": "stream",
          "name": "stderr",
          "text": [
            "\n",
            "Epoch 16 [Training]: 100%|██████████| 73/73 [00:45<00:00,  1.60it/s, Loss_seg=9.0926]\n",
            "Epoch 16 [Validation]: 100%|██████████| 62/62 [00:14<00:00,  4.36it/s, Val_Loss=5.9648, mIoU=0.2201]"
          ]
        },
        {
          "output_type": "stream",
          "name": "stdout",
          "text": [
            "[0.00018426333918129603]\n"
          ]
        },
        {
          "output_type": "stream",
          "name": "stderr",
          "text": [
            "\n",
            "Epoch 17 [Training]: 100%|██████████| 73/73 [00:45<00:00,  1.61it/s, Loss_seg=9.0307]\n",
            "Epoch 17 [Validation]: 100%|██████████| 62/62 [00:14<00:00,  4.38it/s, Val_Loss=6.1527, mIoU=0.2161]"
          ]
        },
        {
          "output_type": "stream",
          "name": "stdout",
          "text": [
            "[0.00018426333918129603]\n"
          ]
        },
        {
          "output_type": "stream",
          "name": "stderr",
          "text": [
            "\n",
            "Epoch 18 [Training]: 100%|██████████| 73/73 [00:45<00:00,  1.60it/s, Loss_seg=8.7872]\n",
            "Epoch 18 [Validation]: 100%|██████████| 62/62 [00:14<00:00,  4.37it/s, Val_Loss=6.1976, mIoU=0.2039]"
          ]
        },
        {
          "output_type": "stream",
          "name": "stdout",
          "text": [
            "[0.00018426333918129603]\n"
          ]
        },
        {
          "output_type": "stream",
          "name": "stderr",
          "text": [
            "\n",
            "Epoch 19 [Training]: 100%|██████████| 73/73 [00:45<00:00,  1.60it/s, Loss_seg=8.5627]\n",
            "Epoch 19 [Validation]: 100%|██████████| 62/62 [00:14<00:00,  4.36it/s, Val_Loss=6.1644, mIoU=0.2174]"
          ]
        },
        {
          "output_type": "stream",
          "name": "stdout",
          "text": [
            "[9.213166959064801e-05]\n"
          ]
        },
        {
          "output_type": "stream",
          "name": "stderr",
          "text": [
            "\n",
            "Epoch 20 [Training]: 100%|██████████| 73/73 [00:45<00:00,  1.61it/s, Loss_seg=8.5390]\n",
            "Epoch 20 [Validation]: 100%|██████████| 62/62 [00:14<00:00,  4.36it/s, Val_Loss=6.1299, mIoU=0.2110]\n"
          ]
        },
        {
          "output_type": "display_data",
          "data": {
            "text/plain": [
              "<IPython.core.display.HTML object>"
            ],
            "text/html": []
          },
          "metadata": {}
        },
        {
          "output_type": "display_data",
          "data": {
            "text/plain": [
              "<IPython.core.display.HTML object>"
            ],
            "text/html": [
              "<br>    <style><br>        .wandb-row {<br>            display: flex;<br>            flex-direction: row;<br>            flex-wrap: wrap;<br>            justify-content: flex-start;<br>            width: 100%;<br>        }<br>        .wandb-col {<br>            display: flex;<br>            flex-direction: column;<br>            flex-basis: 100%;<br>            flex: 1;<br>            padding: 10px;<br>        }<br>    </style><br><div class=\"wandb-row\"><div class=\"wandb-col\"><h3>Run history:</h3><br/><table class=\"wandb\"><tr><td>loss_seg</td><td>█▅▄▃▃▂▂▂▂▂▂▁▁▁▁▁▁▁▁▁</td></tr><tr><td>loss_val</td><td>█▅▄▃▃▂▂▂▂▁▂▂▁▁▁▁▁▁▁▁</td></tr><tr><td>mIoU</td><td>▁▂▃▄▅▆▆▆▇▇▆▇█▇███▇█▇</td></tr><tr><td>miou agricolture</td><td>▁▃▅▆▇▇▇▇██▇▇▇▇██▇▇▇▇</td></tr><tr><td>miou background</td><td>▁▂▁▂▂▄▃▂▃▂▄▃▅▅▆█▅▃▅▃</td></tr><tr><td>miou barren</td><td>▁▂▂▃▃▃▃▄▄▅▅▄▇▇██▅▄▆▆</td></tr><tr><td>miou building</td><td>▁▂▃▃▅▅▆▆▇▇▇▇█▇▇▇██▇█</td></tr><tr><td>miou forest</td><td>▂▁▂▄▄▄▅▅▅▆▄▄██▇▆▇▆▆▆</td></tr><tr><td>miou road</td><td>▁▂▃▃▅▄▄▆▆█▅▆▆▅▅▄▆███</td></tr><tr><td>miou water</td><td>▁▂▃▃▅▆▅▆▇▇▇▇█▇█▇█▆█▇</td></tr></table><br/></div><div class=\"wandb-col\"><h3>Run summary:</h3><br/><table class=\"wandb\"><tr><td>loss_seg</td><td>0.53369</td></tr><tr><td>loss_val</td><td>0.38312</td></tr><tr><td>mIoU</td><td>0.21097</td></tr><tr><td>miou agricolture</td><td>0.35761</td></tr><tr><td>miou background</td><td>0.21254</td></tr><tr><td>miou barren</td><td>0.04532</td></tr><tr><td>miou building</td><td>0.17587</td></tr><tr><td>miou forest</td><td>0.09587</td></tr><tr><td>miou road</td><td>0.23341</td></tr><tr><td>miou water</td><td>0.35617</td></tr></table><br/></div></div>"
            ]
          },
          "metadata": {}
        },
        {
          "output_type": "display_data",
          "data": {
            "text/plain": [
              "<IPython.core.display.HTML object>"
            ],
            "text/html": [
              " View run <strong style=\"color:#cdcd00\">playful-sweep-6</strong> at: <a href='https://wandb.ai/vitosilver1999-politecnico-di-torino/AML_4B_upt/runs/99qnlqb7' target=\"_blank\">https://wandb.ai/vitosilver1999-politecnico-di-torino/AML_4B_upt/runs/99qnlqb7</a><br> View project at: <a href='https://wandb.ai/vitosilver1999-politecnico-di-torino/AML_4B_upt' target=\"_blank\">https://wandb.ai/vitosilver1999-politecnico-di-torino/AML_4B_upt</a><br>Synced 5 W&B file(s), 0 media file(s), 0 artifact file(s) and 0 other file(s)"
            ]
          },
          "metadata": {}
        },
        {
          "output_type": "display_data",
          "data": {
            "text/plain": [
              "<IPython.core.display.HTML object>"
            ],
            "text/html": [
              "Find logs at: <code>./wandb/run-20250517_123526-99qnlqb7/logs</code>"
            ]
          },
          "metadata": {}
        },
        {
          "output_type": "stream",
          "name": "stderr",
          "text": [
            "\u001b[34m\u001b[1mwandb\u001b[0m: Agent Starting Run: zkd26hx9 with config:\n",
            "\u001b[34m\u001b[1mwandb\u001b[0m: \tALPHA_TEACHER: 0.99\n",
            "\u001b[34m\u001b[1mwandb\u001b[0m: \tLOSS_TYPE: ohem\n",
            "\u001b[34m\u001b[1mwandb\u001b[0m: \tLR: 0.0009935903514581496\n",
            "\u001b[34m\u001b[1mwandb\u001b[0m: \tMOMENTUM: 0.75\n",
            "\u001b[34m\u001b[1mwandb\u001b[0m: \tPIXEL_WEIGHT: threshold_uniform\n",
            "\u001b[34m\u001b[1mwandb\u001b[0m: \tTHRESHOLD: 0.9\n",
            "\u001b[34m\u001b[1mwandb\u001b[0m: \tTYPE_WEIGHT: median-frequency\n"
          ]
        },
        {
          "output_type": "display_data",
          "data": {
            "text/plain": [
              "<IPython.core.display.HTML object>"
            ],
            "text/html": [
              "Tracking run with wandb version 0.19.11"
            ]
          },
          "metadata": {}
        },
        {
          "output_type": "display_data",
          "data": {
            "text/plain": [
              "<IPython.core.display.HTML object>"
            ],
            "text/html": [
              "Run data is saved locally in <code>/content/wandb/run-20250517_125638-zkd26hx9</code>"
            ]
          },
          "metadata": {}
        },
        {
          "output_type": "display_data",
          "data": {
            "text/plain": [
              "<IPython.core.display.HTML object>"
            ],
            "text/html": [
              "Syncing run <strong><a href='https://wandb.ai/vitosilver1999-politecnico-di-torino/AML_4B_upt/runs/zkd26hx9' target=\"_blank\">fancy-sweep-7</a></strong> to <a href='https://wandb.ai/vitosilver1999-politecnico-di-torino/AML_4B_upt' target=\"_blank\">Weights & Biases</a> (<a href='https://wandb.me/developer-guide' target=\"_blank\">docs</a>)<br>Sweep page: <a href='https://wandb.ai/vitosilver1999-politecnico-di-torino/AML_4B_upt/sweeps/5sprm999' target=\"_blank\">https://wandb.ai/vitosilver1999-politecnico-di-torino/AML_4B_upt/sweeps/5sprm999</a>"
            ]
          },
          "metadata": {}
        },
        {
          "output_type": "display_data",
          "data": {
            "text/plain": [
              "<IPython.core.display.HTML object>"
            ],
            "text/html": [
              " View project at <a href='https://wandb.ai/vitosilver1999-politecnico-di-torino/AML_4B_upt' target=\"_blank\">https://wandb.ai/vitosilver1999-politecnico-di-torino/AML_4B_upt</a>"
            ]
          },
          "metadata": {}
        },
        {
          "output_type": "display_data",
          "data": {
            "text/plain": [
              "<IPython.core.display.HTML object>"
            ],
            "text/html": [
              " View sweep at <a href='https://wandb.ai/vitosilver1999-politecnico-di-torino/AML_4B_upt/sweeps/5sprm999' target=\"_blank\">https://wandb.ai/vitosilver1999-politecnico-di-torino/AML_4B_upt/sweeps/5sprm999</a>"
            ]
          },
          "metadata": {}
        },
        {
          "output_type": "display_data",
          "data": {
            "text/plain": [
              "<IPython.core.display.HTML object>"
            ],
            "text/html": [
              " View run at <a href='https://wandb.ai/vitosilver1999-politecnico-di-torino/AML_4B_upt/runs/zkd26hx9' target=\"_blank\">https://wandb.ai/vitosilver1999-politecnico-di-torino/AML_4B_upt/runs/zkd26hx9</a>"
            ]
          },
          "metadata": {}
        },
        {
          "output_type": "stream",
          "name": "stderr",
          "text": [
            "100%|██████████| 73/73 [01:01<00:00,  1.18it/s]\n"
          ]
        },
        {
          "output_type": "stream",
          "name": "stdout",
          "text": [
            "[0.0009935903514581496]\n"
          ]
        },
        {
          "output_type": "stream",
          "name": "stderr",
          "text": [
            "Epoch 1 [Training]: 100%|██████████| 73/73 [00:47<00:00,  1.52it/s, Loss_seg=9.3738]\n",
            "Epoch 1 [Validation]: 100%|██████████| 62/62 [00:14<00:00,  4.37it/s, Val_Loss=13.0746, mIoU=0.1493]"
          ]
        },
        {
          "output_type": "stream",
          "name": "stdout",
          "text": [
            "[0.0009935903514581496]\n"
          ]
        },
        {
          "output_type": "stream",
          "name": "stderr",
          "text": [
            "\n",
            "Epoch 2 [Training]: 100%|██████████| 73/73 [00:47<00:00,  1.53it/s, Loss_seg=6.1505]\n",
            "Epoch 2 [Validation]: 100%|██████████| 62/62 [00:14<00:00,  4.35it/s, Val_Loss=11.0936, mIoU=0.1742]"
          ]
        },
        {
          "output_type": "stream",
          "name": "stdout",
          "text": [
            "[0.0009935903514581496]\n"
          ]
        },
        {
          "output_type": "stream",
          "name": "stderr",
          "text": [
            "\n",
            "Epoch 3 [Training]: 100%|██████████| 73/73 [00:47<00:00,  1.53it/s, Loss_seg=5.2145]\n",
            "Epoch 3 [Validation]: 100%|██████████| 62/62 [00:14<00:00,  4.34it/s, Val_Loss=10.7428, mIoU=0.1841]"
          ]
        },
        {
          "output_type": "stream",
          "name": "stdout",
          "text": [
            "[0.0009935903514581496]\n"
          ]
        },
        {
          "output_type": "stream",
          "name": "stderr",
          "text": [
            "\n",
            "Epoch 4 [Training]: 100%|██████████| 73/73 [00:47<00:00,  1.54it/s, Loss_seg=4.7022]\n",
            "Epoch 4 [Validation]: 100%|██████████| 62/62 [00:14<00:00,  4.35it/s, Val_Loss=9.4592, mIoU=0.1938]"
          ]
        },
        {
          "output_type": "stream",
          "name": "stdout",
          "text": [
            "[0.0009935903514581496]\n"
          ]
        },
        {
          "output_type": "stream",
          "name": "stderr",
          "text": [
            "\n",
            "Epoch 5 [Training]: 100%|██████████| 73/73 [00:47<00:00,  1.54it/s, Loss_seg=4.3977]\n",
            "Epoch 5 [Validation]: 100%|██████████| 62/62 [00:14<00:00,  4.34it/s, Val_Loss=10.7625, mIoU=0.1905]"
          ]
        },
        {
          "output_type": "stream",
          "name": "stdout",
          "text": [
            "[0.0009935903514581496]\n"
          ]
        },
        {
          "output_type": "stream",
          "name": "stderr",
          "text": [
            "\n",
            "Epoch 6 [Training]: 100%|██████████| 73/73 [00:47<00:00,  1.53it/s, Loss_seg=4.2028]\n",
            "Epoch 6 [Validation]: 100%|██████████| 62/62 [00:14<00:00,  4.35it/s, Val_Loss=10.0574, mIoU=0.2022]"
          ]
        },
        {
          "output_type": "stream",
          "name": "stdout",
          "text": [
            "[0.0009935903514581496]\n"
          ]
        },
        {
          "output_type": "stream",
          "name": "stderr",
          "text": [
            "\n",
            "Epoch 7 [Training]: 100%|██████████| 73/73 [00:47<00:00,  1.54it/s, Loss_seg=4.0157]\n",
            "Epoch 7 [Validation]: 100%|██████████| 62/62 [00:14<00:00,  4.35it/s, Val_Loss=10.1398, mIoU=0.2019]"
          ]
        },
        {
          "output_type": "stream",
          "name": "stdout",
          "text": [
            "[0.0009935903514581496]\n"
          ]
        },
        {
          "output_type": "stream",
          "name": "stderr",
          "text": [
            "\n",
            "Epoch 8 [Training]: 100%|██████████| 73/73 [00:47<00:00,  1.55it/s, Loss_seg=3.9239]\n",
            "Epoch 8 [Validation]: 100%|██████████| 62/62 [00:14<00:00,  4.36it/s, Val_Loss=10.3186, mIoU=0.2077]"
          ]
        },
        {
          "output_type": "stream",
          "name": "stdout",
          "text": [
            "[0.0009935903514581496]\n"
          ]
        },
        {
          "output_type": "stream",
          "name": "stderr",
          "text": [
            "\n",
            "Epoch 9 [Training]: 100%|██████████| 73/73 [00:47<00:00,  1.55it/s, Loss_seg=3.8060]\n",
            "Epoch 9 [Validation]: 100%|██████████| 62/62 [00:14<00:00,  4.34it/s, Val_Loss=9.8440, mIoU=0.2138]"
          ]
        },
        {
          "output_type": "stream",
          "name": "stdout",
          "text": [
            "[0.0009935903514581496]\n"
          ]
        },
        {
          "output_type": "stream",
          "name": "stderr",
          "text": [
            "\n",
            "Epoch 10 [Training]: 100%|██████████| 73/73 [00:47<00:00,  1.53it/s, Loss_seg=3.7302]\n",
            "Epoch 10 [Validation]: 100%|██████████| 62/62 [00:14<00:00,  4.34it/s, Val_Loss=9.2742, mIoU=0.2220]"
          ]
        },
        {
          "output_type": "stream",
          "name": "stdout",
          "text": [
            "[0.0009935903514581496]\n"
          ]
        },
        {
          "output_type": "stream",
          "name": "stderr",
          "text": [
            "\n",
            "Epoch 11 [Training]: 100%|██████████| 73/73 [00:47<00:00,  1.54it/s, Loss_seg=3.7511]\n",
            "Epoch 11 [Validation]: 100%|██████████| 62/62 [00:14<00:00,  4.32it/s, Val_Loss=10.3431, mIoU=0.2142]"
          ]
        },
        {
          "output_type": "stream",
          "name": "stdout",
          "text": [
            "[0.0009935903514581496]\n"
          ]
        },
        {
          "output_type": "stream",
          "name": "stderr",
          "text": [
            "\n",
            "Epoch 12 [Training]: 100%|██████████| 73/73 [00:47<00:00,  1.54it/s, Loss_seg=3.6350]\n",
            "Epoch 12 [Validation]: 100%|██████████| 62/62 [00:14<00:00,  4.35it/s, Val_Loss=9.1250, mIoU=0.2279]"
          ]
        },
        {
          "output_type": "stream",
          "name": "stdout",
          "text": [
            "[0.0009935903514581496]\n"
          ]
        },
        {
          "output_type": "stream",
          "name": "stderr",
          "text": [
            "\n",
            "Epoch 13 [Training]: 100%|██████████| 73/73 [00:47<00:00,  1.54it/s, Loss_seg=3.6042]\n",
            "Epoch 13 [Validation]: 100%|██████████| 62/62 [00:14<00:00,  4.33it/s, Val_Loss=9.9781, mIoU=0.2250]"
          ]
        },
        {
          "output_type": "stream",
          "name": "stdout",
          "text": [
            "[0.0009935903514581496]\n"
          ]
        },
        {
          "output_type": "stream",
          "name": "stderr",
          "text": [
            "\n",
            "Epoch 14 [Training]: 100%|██████████| 73/73 [00:47<00:00,  1.53it/s, Loss_seg=3.5699]\n",
            "Epoch 14 [Validation]: 100%|██████████| 62/62 [00:14<00:00,  4.37it/s, Val_Loss=10.8573, mIoU=0.2189]"
          ]
        },
        {
          "output_type": "stream",
          "name": "stdout",
          "text": [
            "[0.0009935903514581496]\n"
          ]
        },
        {
          "output_type": "stream",
          "name": "stderr",
          "text": [
            "\n",
            "Epoch 15 [Training]: 100%|██████████| 73/73 [00:47<00:00,  1.53it/s, Loss_seg=3.5379]\n",
            "Epoch 15 [Validation]: 100%|██████████| 62/62 [00:14<00:00,  4.35it/s, Val_Loss=9.9220, mIoU=0.2297]"
          ]
        },
        {
          "output_type": "stream",
          "name": "stdout",
          "text": [
            "[0.0009935903514581496]\n"
          ]
        },
        {
          "output_type": "stream",
          "name": "stderr",
          "text": [
            "\n",
            "Epoch 16 [Training]: 100%|██████████| 73/73 [00:47<00:00,  1.54it/s, Loss_seg=3.5069]\n",
            "Epoch 16 [Validation]: 100%|██████████| 62/62 [00:14<00:00,  4.35it/s, Val_Loss=10.3245, mIoU=0.2295]"
          ]
        },
        {
          "output_type": "stream",
          "name": "stdout",
          "text": [
            "[0.0004967951757290748]\n"
          ]
        },
        {
          "output_type": "stream",
          "name": "stderr",
          "text": [
            "\n",
            "Epoch 17 [Training]: 100%|██████████| 73/73 [00:47<00:00,  1.54it/s, Loss_seg=3.4850]\n",
            "Epoch 17 [Validation]: 100%|██████████| 62/62 [00:14<00:00,  4.35it/s, Val_Loss=10.3570, mIoU=0.2368]"
          ]
        },
        {
          "output_type": "stream",
          "name": "stdout",
          "text": [
            "[0.0004967951757290748]\n"
          ]
        },
        {
          "output_type": "stream",
          "name": "stderr",
          "text": [
            "\n",
            "Epoch 18 [Training]: 100%|██████████| 73/73 [00:47<00:00,  1.55it/s, Loss_seg=3.4674]\n",
            "Epoch 18 [Validation]: 100%|██████████| 62/62 [00:14<00:00,  4.36it/s, Val_Loss=10.7762, mIoU=0.2232]"
          ]
        },
        {
          "output_type": "stream",
          "name": "stdout",
          "text": [
            "[0.0004967951757290748]\n"
          ]
        },
        {
          "output_type": "stream",
          "name": "stderr",
          "text": [
            "\n",
            "Epoch 19 [Training]: 100%|██████████| 73/73 [00:47<00:00,  1.54it/s, Loss_seg=3.4951]\n",
            "Epoch 19 [Validation]: 100%|██████████| 62/62 [00:14<00:00,  4.36it/s, Val_Loss=12.1402, mIoU=0.2221]"
          ]
        },
        {
          "output_type": "stream",
          "name": "stdout",
          "text": [
            "[0.0004967951757290748]\n"
          ]
        },
        {
          "output_type": "stream",
          "name": "stderr",
          "text": [
            "\n",
            "Epoch 20 [Training]: 100%|██████████| 73/73 [00:47<00:00,  1.54it/s, Loss_seg=3.5023]\n",
            "Epoch 20 [Validation]: 100%|██████████| 62/62 [00:14<00:00,  4.38it/s, Val_Loss=12.0080, mIoU=0.2258]\n"
          ]
        },
        {
          "output_type": "display_data",
          "data": {
            "text/plain": [
              "<IPython.core.display.HTML object>"
            ],
            "text/html": []
          },
          "metadata": {}
        },
        {
          "output_type": "display_data",
          "data": {
            "text/plain": [
              "<IPython.core.display.HTML object>"
            ],
            "text/html": [
              "<br>    <style><br>        .wandb-row {<br>            display: flex;<br>            flex-direction: row;<br>            flex-wrap: wrap;<br>            justify-content: flex-start;<br>            width: 100%;<br>        }<br>        .wandb-col {<br>            display: flex;<br>            flex-direction: column;<br>            flex-basis: 100%;<br>            flex: 1;<br>            padding: 10px;<br>        }<br>    </style><br><div class=\"wandb-row\"><div class=\"wandb-col\"><h3>Run history:</h3><br/><table class=\"wandb\"><tr><td>loss_seg</td><td>█▄▃▂▂▂▂▂▁▁▁▁▁▁▁▁▁▁▁▁</td></tr><tr><td>loss_val</td><td>█▄▄▂▄▃▃▃▂▁▃▁▃▄▂▃▃▄▆▆</td></tr><tr><td>mIoU</td><td>▁▃▄▅▄▅▅▆▆▇▆▇▇▇▇▇█▇▇▇</td></tr><tr><td>miou agricolture</td><td>▁▅▄▇▆▇█▅▅▇▅▇▇▄▅▅▄▃▃▁</td></tr><tr><td>miou background</td><td>▁▂▂▂▂▃▂▃▄▅▃▅▄▅▆▆█▄▄▇</td></tr><tr><td>miou barren</td><td>▁▁▂▁▂▁▂▂▄▂▄▄▅▅▆█▇▇▆▇</td></tr><tr><td>miou building</td><td>▁▃▄▅▅▆▆▇▇▇▇▇██▇▇▇▇█▇</td></tr><tr><td>miou forest</td><td>▁▂▁▂▂▃▃▃▃▃▆▅▅▄▅▇▇▇█▅</td></tr><tr><td>miou road</td><td>▁▃▄▆▄▅▆▇▇▆▇██▇▇▇▇█▇▅</td></tr><tr><td>miou water</td><td>▁▂▄▃▄▅▄▅▆▆▆▆▆▅▇▆▇▇▇█</td></tr></table><br/></div><div class=\"wandb-col\"><h3>Run summary:</h3><br/><table class=\"wandb\"><tr><td>loss_seg</td><td>0.2189</td></tr><tr><td>loss_val</td><td>0.7505</td></tr><tr><td>mIoU</td><td>0.22576</td></tr><tr><td>miou agricolture</td><td>0.35948</td></tr><tr><td>miou background</td><td>0.2572</td></tr><tr><td>miou barren</td><td>0.03333</td></tr><tr><td>miou building</td><td>0.22857</td></tr><tr><td>miou forest</td><td>0.09677</td></tr><tr><td>miou road</td><td>0.24926</td></tr><tr><td>miou water</td><td>0.35572</td></tr></table><br/></div></div>"
            ]
          },
          "metadata": {}
        },
        {
          "output_type": "display_data",
          "data": {
            "text/plain": [
              "<IPython.core.display.HTML object>"
            ],
            "text/html": [
              " View run <strong style=\"color:#cdcd00\">fancy-sweep-7</strong> at: <a href='https://wandb.ai/vitosilver1999-politecnico-di-torino/AML_4B_upt/runs/zkd26hx9' target=\"_blank\">https://wandb.ai/vitosilver1999-politecnico-di-torino/AML_4B_upt/runs/zkd26hx9</a><br> View project at: <a href='https://wandb.ai/vitosilver1999-politecnico-di-torino/AML_4B_upt' target=\"_blank\">https://wandb.ai/vitosilver1999-politecnico-di-torino/AML_4B_upt</a><br>Synced 5 W&B file(s), 0 media file(s), 0 artifact file(s) and 0 other file(s)"
            ]
          },
          "metadata": {}
        },
        {
          "output_type": "display_data",
          "data": {
            "text/plain": [
              "<IPython.core.display.HTML object>"
            ],
            "text/html": [
              "Find logs at: <code>./wandb/run-20250517_125638-zkd26hx9/logs</code>"
            ]
          },
          "metadata": {}
        },
        {
          "output_type": "stream",
          "name": "stderr",
          "text": [
            "\u001b[34m\u001b[1mwandb\u001b[0m: Agent Starting Run: 5bf8bixb with config:\n",
            "\u001b[34m\u001b[1mwandb\u001b[0m: \tALPHA_TEACHER: 0.99\n",
            "\u001b[34m\u001b[1mwandb\u001b[0m: \tLOSS_TYPE: ce\n",
            "\u001b[34m\u001b[1mwandb\u001b[0m: \tLR: 0.0007594785641460276\n",
            "\u001b[34m\u001b[1mwandb\u001b[0m: \tMOMENTUM: 0.85\n",
            "\u001b[34m\u001b[1mwandb\u001b[0m: \tPIXEL_WEIGHT: threshold_uniform\n",
            "\u001b[34m\u001b[1mwandb\u001b[0m: \tTHRESHOLD: 0.7\n",
            "\u001b[34m\u001b[1mwandb\u001b[0m: \tTYPE_WEIGHT: inverse\n"
          ]
        },
        {
          "output_type": "display_data",
          "data": {
            "text/plain": [
              "<IPython.core.display.HTML object>"
            ],
            "text/html": [
              "Tracking run with wandb version 0.19.11"
            ]
          },
          "metadata": {}
        },
        {
          "output_type": "display_data",
          "data": {
            "text/plain": [
              "<IPython.core.display.HTML object>"
            ],
            "text/html": [
              "Run data is saved locally in <code>/content/wandb/run-20250517_131831-5bf8bixb</code>"
            ]
          },
          "metadata": {}
        },
        {
          "output_type": "display_data",
          "data": {
            "text/plain": [
              "<IPython.core.display.HTML object>"
            ],
            "text/html": [
              "Syncing run <strong><a href='https://wandb.ai/vitosilver1999-politecnico-di-torino/AML_4B_upt/runs/5bf8bixb' target=\"_blank\">dutiful-sweep-8</a></strong> to <a href='https://wandb.ai/vitosilver1999-politecnico-di-torino/AML_4B_upt' target=\"_blank\">Weights & Biases</a> (<a href='https://wandb.me/developer-guide' target=\"_blank\">docs</a>)<br>Sweep page: <a href='https://wandb.ai/vitosilver1999-politecnico-di-torino/AML_4B_upt/sweeps/5sprm999' target=\"_blank\">https://wandb.ai/vitosilver1999-politecnico-di-torino/AML_4B_upt/sweeps/5sprm999</a>"
            ]
          },
          "metadata": {}
        },
        {
          "output_type": "display_data",
          "data": {
            "text/plain": [
              "<IPython.core.display.HTML object>"
            ],
            "text/html": [
              " View project at <a href='https://wandb.ai/vitosilver1999-politecnico-di-torino/AML_4B_upt' target=\"_blank\">https://wandb.ai/vitosilver1999-politecnico-di-torino/AML_4B_upt</a>"
            ]
          },
          "metadata": {}
        },
        {
          "output_type": "display_data",
          "data": {
            "text/plain": [
              "<IPython.core.display.HTML object>"
            ],
            "text/html": [
              " View sweep at <a href='https://wandb.ai/vitosilver1999-politecnico-di-torino/AML_4B_upt/sweeps/5sprm999' target=\"_blank\">https://wandb.ai/vitosilver1999-politecnico-di-torino/AML_4B_upt/sweeps/5sprm999</a>"
            ]
          },
          "metadata": {}
        },
        {
          "output_type": "display_data",
          "data": {
            "text/plain": [
              "<IPython.core.display.HTML object>"
            ],
            "text/html": [
              " View run at <a href='https://wandb.ai/vitosilver1999-politecnico-di-torino/AML_4B_upt/runs/5bf8bixb' target=\"_blank\">https://wandb.ai/vitosilver1999-politecnico-di-torino/AML_4B_upt/runs/5bf8bixb</a>"
            ]
          },
          "metadata": {}
        },
        {
          "output_type": "stream",
          "name": "stderr",
          "text": [
            "100%|██████████| 73/73 [01:01<00:00,  1.18it/s]\n"
          ]
        },
        {
          "output_type": "stream",
          "name": "stdout",
          "text": [
            "[0.0007594785641460276]\n"
          ]
        },
        {
          "output_type": "stream",
          "name": "stderr",
          "text": [
            "Epoch 1 [Training]: 100%|██████████| 73/73 [00:45<00:00,  1.60it/s, Loss_seg=31.5289]\n",
            "Epoch 1 [Validation]: 100%|██████████| 62/62 [00:14<00:00,  4.35it/s, Val_Loss=6.3842, mIoU=0.1162]"
          ]
        },
        {
          "output_type": "stream",
          "name": "stdout",
          "text": [
            "[0.0007594785641460276]\n"
          ]
        },
        {
          "output_type": "stream",
          "name": "stderr",
          "text": [
            "\n",
            "Epoch 2 [Training]: 100%|██████████| 73/73 [00:45<00:00,  1.61it/s, Loss_seg=17.8919]\n",
            "Epoch 2 [Validation]: 100%|██████████| 62/62 [00:14<00:00,  4.36it/s, Val_Loss=5.0316, mIoU=0.1542]"
          ]
        },
        {
          "output_type": "stream",
          "name": "stdout",
          "text": [
            "[0.0007594785641460276]\n"
          ]
        },
        {
          "output_type": "stream",
          "name": "stderr",
          "text": [
            "\n",
            "Epoch 3 [Training]: 100%|██████████| 73/73 [00:45<00:00,  1.60it/s, Loss_seg=15.2074]\n",
            "Epoch 3 [Validation]: 100%|██████████| 62/62 [00:14<00:00,  4.37it/s, Val_Loss=5.2084, mIoU=0.1741]"
          ]
        },
        {
          "output_type": "stream",
          "name": "stdout",
          "text": [
            "[0.0007594785641460276]\n"
          ]
        },
        {
          "output_type": "stream",
          "name": "stderr",
          "text": [
            "\n",
            "Epoch 4 [Training]: 100%|██████████| 73/73 [00:45<00:00,  1.59it/s, Loss_seg=13.8047]\n",
            "Epoch 4 [Validation]: 100%|██████████| 62/62 [00:14<00:00,  4.34it/s, Val_Loss=5.1943, mIoU=0.1920]"
          ]
        },
        {
          "output_type": "stream",
          "name": "stdout",
          "text": [
            "[0.0007594785641460276]\n"
          ]
        },
        {
          "output_type": "stream",
          "name": "stderr",
          "text": [
            "\n",
            "Epoch 5 [Training]: 100%|██████████| 73/73 [00:45<00:00,  1.61it/s, Loss_seg=13.0592]\n",
            "Epoch 5 [Validation]: 100%|██████████| 62/62 [00:14<00:00,  4.34it/s, Val_Loss=7.0067, mIoU=0.1740]"
          ]
        },
        {
          "output_type": "stream",
          "name": "stdout",
          "text": [
            "[0.0007594785641460276]\n"
          ]
        },
        {
          "output_type": "stream",
          "name": "stderr",
          "text": [
            "\n",
            "Epoch 6 [Training]: 100%|██████████| 73/73 [00:45<00:00,  1.61it/s, Loss_seg=13.0171]\n",
            "Epoch 6 [Validation]: 100%|██████████| 62/62 [00:14<00:00,  4.34it/s, Val_Loss=7.6650, mIoU=0.1950]"
          ]
        },
        {
          "output_type": "stream",
          "name": "stdout",
          "text": [
            "[0.0007594785641460276]\n"
          ]
        },
        {
          "output_type": "stream",
          "name": "stderr",
          "text": [
            "\n",
            "Epoch 7 [Training]: 100%|██████████| 73/73 [00:45<00:00,  1.62it/s, Loss_seg=12.7949]\n",
            "Epoch 7 [Validation]: 100%|██████████| 62/62 [00:14<00:00,  4.35it/s, Val_Loss=6.7357, mIoU=0.1923]"
          ]
        },
        {
          "output_type": "stream",
          "name": "stdout",
          "text": [
            "[0.0007594785641460276]\n"
          ]
        },
        {
          "output_type": "stream",
          "name": "stderr",
          "text": [
            "\n",
            "Epoch 8 [Training]: 100%|██████████| 73/73 [00:45<00:00,  1.61it/s, Loss_seg=11.6868]\n",
            "Epoch 8 [Validation]: 100%|██████████| 62/62 [00:14<00:00,  4.34it/s, Val_Loss=8.0229, mIoU=0.1912]"
          ]
        },
        {
          "output_type": "stream",
          "name": "stdout",
          "text": [
            "[0.0007594785641460276]\n"
          ]
        },
        {
          "output_type": "stream",
          "name": "stderr",
          "text": [
            "\n",
            "Epoch 9 [Training]: 100%|██████████| 73/73 [00:45<00:00,  1.61it/s, Loss_seg=11.3674]\n",
            "Epoch 9 [Validation]: 100%|██████████| 62/62 [00:14<00:00,  4.36it/s, Val_Loss=9.2706, mIoU=0.1868]"
          ]
        },
        {
          "output_type": "stream",
          "name": "stdout",
          "text": [
            "[0.0007594785641460276]\n"
          ]
        },
        {
          "output_type": "stream",
          "name": "stderr",
          "text": [
            "\n",
            "Epoch 10 [Training]: 100%|██████████| 73/73 [00:45<00:00,  1.61it/s, Loss_seg=11.1245]\n",
            "Epoch 10 [Validation]: 100%|██████████| 62/62 [00:14<00:00,  4.36it/s, Val_Loss=12.9376, mIoU=0.1898]"
          ]
        },
        {
          "output_type": "stream",
          "name": "stdout",
          "text": [
            "[0.0003797392820730138]\n"
          ]
        },
        {
          "output_type": "stream",
          "name": "stderr",
          "text": [
            "\n",
            "Epoch 11 [Training]: 100%|██████████| 73/73 [00:45<00:00,  1.61it/s, Loss_seg=10.9997]\n",
            "Epoch 11 [Validation]: 100%|██████████| 62/62 [00:14<00:00,  4.35it/s, Val_Loss=7.5393, mIoU=0.1866]"
          ]
        },
        {
          "output_type": "stream",
          "name": "stdout",
          "text": [
            "[0.0003797392820730138]\n"
          ]
        },
        {
          "output_type": "stream",
          "name": "stderr",
          "text": [
            "\n",
            "Epoch 12 [Training]: 100%|██████████| 73/73 [00:45<00:00,  1.60it/s, Loss_seg=10.7267]\n",
            "Epoch 12 [Validation]: 100%|██████████| 62/62 [00:14<00:00,  4.37it/s, Val_Loss=7.9880, mIoU=0.1808]"
          ]
        },
        {
          "output_type": "stream",
          "name": "stdout",
          "text": [
            "[0.0003797392820730138]\n"
          ]
        },
        {
          "output_type": "stream",
          "name": "stderr",
          "text": [
            "\n",
            "Epoch 13 [Training]: 100%|██████████| 73/73 [00:45<00:00,  1.60it/s, Loss_seg=10.5124]\n",
            "Epoch 13 [Validation]: 100%|██████████| 62/62 [00:14<00:00,  4.38it/s, Val_Loss=8.9504, mIoU=0.1834]"
          ]
        },
        {
          "output_type": "stream",
          "name": "stdout",
          "text": [
            "[0.0003797392820730138]\n"
          ]
        },
        {
          "output_type": "stream",
          "name": "stderr",
          "text": [
            "\n",
            "Epoch 14 [Training]: 100%|██████████| 73/73 [00:45<00:00,  1.61it/s, Loss_seg=10.5900]\n",
            "Epoch 14 [Validation]: 100%|██████████| 62/62 [00:14<00:00,  4.33it/s, Val_Loss=10.6261, mIoU=0.1854]"
          ]
        },
        {
          "output_type": "stream",
          "name": "stdout",
          "text": [
            "[0.0001898696410365069]\n"
          ]
        },
        {
          "output_type": "stream",
          "name": "stderr",
          "text": [
            "\n",
            "Epoch 15 [Training]: 100%|██████████| 73/73 [00:45<00:00,  1.60it/s, Loss_seg=10.3723]\n",
            "Epoch 15 [Validation]: 100%|██████████| 62/62 [00:14<00:00,  4.36it/s, Val_Loss=8.5468, mIoU=0.1858]"
          ]
        },
        {
          "output_type": "stream",
          "name": "stdout",
          "text": [
            "[0.0001898696410365069]\n"
          ]
        },
        {
          "output_type": "stream",
          "name": "stderr",
          "text": [
            "\n",
            "Epoch 16 [Training]: 100%|██████████| 73/73 [00:45<00:00,  1.60it/s, Loss_seg=10.3256]\n",
            "Epoch 16 [Validation]: 100%|██████████| 62/62 [00:14<00:00,  4.34it/s, Val_Loss=8.7636, mIoU=0.1908]"
          ]
        },
        {
          "output_type": "stream",
          "name": "stdout",
          "text": [
            "[0.0001898696410365069]\n"
          ]
        },
        {
          "output_type": "stream",
          "name": "stderr",
          "text": [
            "\n",
            "Epoch 17 [Training]: 100%|██████████| 73/73 [00:45<00:00,  1.61it/s, Loss_seg=10.5136]\n",
            "Epoch 17 [Validation]: 100%|██████████| 62/62 [00:14<00:00,  4.37it/s, Val_Loss=10.2593, mIoU=0.1750]"
          ]
        },
        {
          "output_type": "stream",
          "name": "stdout",
          "text": [
            "[0.0001898696410365069]\n"
          ]
        },
        {
          "output_type": "stream",
          "name": "stderr",
          "text": [
            "\n",
            "Epoch 18 [Training]: 100%|██████████| 73/73 [00:45<00:00,  1.60it/s, Loss_seg=11.1790]\n",
            "Epoch 18 [Validation]: 100%|██████████| 62/62 [00:14<00:00,  4.35it/s, Val_Loss=19.3730, mIoU=0.1637]"
          ]
        },
        {
          "output_type": "stream",
          "name": "stdout",
          "text": [
            "[9.493482051825345e-05]\n"
          ]
        },
        {
          "output_type": "stream",
          "name": "stderr",
          "text": [
            "\n",
            "Epoch 19 [Training]: 100%|██████████| 73/73 [00:45<00:00,  1.60it/s, Loss_seg=10.9289]\n",
            "Epoch 19 [Validation]: 100%|██████████| 62/62 [00:14<00:00,  4.36it/s, Val_Loss=9.4159, mIoU=0.1763]"
          ]
        },
        {
          "output_type": "stream",
          "name": "stdout",
          "text": [
            "[9.493482051825345e-05]\n"
          ]
        },
        {
          "output_type": "stream",
          "name": "stderr",
          "text": [
            "\n",
            "Epoch 20 [Training]: 100%|██████████| 73/73 [00:45<00:00,  1.60it/s, Loss_seg=10.2826]\n",
            "Epoch 20 [Validation]: 100%|██████████| 62/62 [00:14<00:00,  4.36it/s, Val_Loss=12.4621, mIoU=0.1821]\n"
          ]
        },
        {
          "output_type": "display_data",
          "data": {
            "text/plain": [
              "<IPython.core.display.HTML object>"
            ],
            "text/html": []
          },
          "metadata": {}
        },
        {
          "output_type": "display_data",
          "data": {
            "text/plain": [
              "<IPython.core.display.HTML object>"
            ],
            "text/html": [
              "<br>    <style><br>        .wandb-row {<br>            display: flex;<br>            flex-direction: row;<br>            flex-wrap: wrap;<br>            justify-content: flex-start;<br>            width: 100%;<br>        }<br>        .wandb-col {<br>            display: flex;<br>            flex-direction: column;<br>            flex-basis: 100%;<br>            flex: 1;<br>            padding: 10px;<br>        }<br>    </style><br><div class=\"wandb-row\"><div class=\"wandb-col\"><h3>Run history:</h3><br/><table class=\"wandb\"><tr><td>loss_seg</td><td>█▄▃▂▂▂▂▁▁▁▁▁▁▁▁▁▁▁▁▁</td></tr><tr><td>loss_val</td><td>▂▁▁▁▂▂▂▂▃▅▂▂▃▄▃▃▄█▃▅</td></tr><tr><td>mIoU</td><td>▁▄▆█▆███▇█▇▇▇▇▇█▆▅▆▇</td></tr><tr><td>miou agricolture</td><td>▁▄▃▅▆▄▄▇██▂▅▆▇▅▃▅▇▃▆</td></tr><tr><td>miou background</td><td>▁▁▁▂▂▂▂▅▃█▃▄▃▃▄▄▄▂▂▃</td></tr><tr><td>miou barren</td><td>▂▆▃▇▂█▅▃▁▁▅▂▂▁▂▂▂▁▁▁</td></tr><tr><td>miou building</td><td>▂▅▇▆▁▇█▇▆▅▄▃▄▂▄▄▂▂▃▃</td></tr><tr><td>miou forest</td><td>▁▁▂▄▂▂▄▄▅▄▃▄▆▇▆▅█▇▆▆</td></tr><tr><td>miou road</td><td>▁▄▅▆▆▆█▄▄▄█▆▆▅▆█▄▃▇▆</td></tr><tr><td>miou water</td><td>▁▂▆▇▇█▆█▇▇▇▇▆▇█▇▇▅▆▆</td></tr></table><br/></div><div class=\"wandb-col\"><h3>Run summary:</h3><br/><table class=\"wandb\"><tr><td>loss_seg</td><td>0.64266</td></tr><tr><td>loss_val</td><td>0.77888</td></tr><tr><td>mIoU</td><td>0.18207</td></tr><tr><td>miou agricolture</td><td>0.35863</td></tr><tr><td>miou background</td><td>0.02071</td></tr><tr><td>miou barren</td><td>0.02132</td></tr><tr><td>miou building</td><td>0.17224</td></tr><tr><td>miou forest</td><td>0.03752</td></tr><tr><td>miou road</td><td>0.21336</td></tr><tr><td>miou water</td><td>0.45074</td></tr></table><br/></div></div>"
            ]
          },
          "metadata": {}
        },
        {
          "output_type": "display_data",
          "data": {
            "text/plain": [
              "<IPython.core.display.HTML object>"
            ],
            "text/html": [
              " View run <strong style=\"color:#cdcd00\">dutiful-sweep-8</strong> at: <a href='https://wandb.ai/vitosilver1999-politecnico-di-torino/AML_4B_upt/runs/5bf8bixb' target=\"_blank\">https://wandb.ai/vitosilver1999-politecnico-di-torino/AML_4B_upt/runs/5bf8bixb</a><br> View project at: <a href='https://wandb.ai/vitosilver1999-politecnico-di-torino/AML_4B_upt' target=\"_blank\">https://wandb.ai/vitosilver1999-politecnico-di-torino/AML_4B_upt</a><br>Synced 5 W&B file(s), 0 media file(s), 0 artifact file(s) and 0 other file(s)"
            ]
          },
          "metadata": {}
        },
        {
          "output_type": "display_data",
          "data": {
            "text/plain": [
              "<IPython.core.display.HTML object>"
            ],
            "text/html": [
              "Find logs at: <code>./wandb/run-20250517_131831-5bf8bixb/logs</code>"
            ]
          },
          "metadata": {}
        },
        {
          "output_type": "stream",
          "name": "stderr",
          "text": [
            "\u001b[34m\u001b[1mwandb\u001b[0m: Agent Starting Run: 295m7nwa with config:\n",
            "\u001b[34m\u001b[1mwandb\u001b[0m: \tALPHA_TEACHER: 0.99\n",
            "\u001b[34m\u001b[1mwandb\u001b[0m: \tLOSS_TYPE: ohem\n",
            "\u001b[34m\u001b[1mwandb\u001b[0m: \tLR: 0.00027814803303933714\n",
            "\u001b[34m\u001b[1mwandb\u001b[0m: \tMOMENTUM: 0.85\n",
            "\u001b[34m\u001b[1mwandb\u001b[0m: \tPIXEL_WEIGHT: threshold_uniform\n",
            "\u001b[34m\u001b[1mwandb\u001b[0m: \tTHRESHOLD: 0.85\n",
            "\u001b[34m\u001b[1mwandb\u001b[0m: \tTYPE_WEIGHT: inverse\n"
          ]
        },
        {
          "output_type": "display_data",
          "data": {
            "text/plain": [
              "<IPython.core.display.HTML object>"
            ],
            "text/html": [
              "Tracking run with wandb version 0.19.11"
            ]
          },
          "metadata": {}
        },
        {
          "output_type": "display_data",
          "data": {
            "text/plain": [
              "<IPython.core.display.HTML object>"
            ],
            "text/html": [
              "Run data is saved locally in <code>/content/wandb/run-20250517_133943-295m7nwa</code>"
            ]
          },
          "metadata": {}
        },
        {
          "output_type": "display_data",
          "data": {
            "text/plain": [
              "<IPython.core.display.HTML object>"
            ],
            "text/html": [
              "Syncing run <strong><a href='https://wandb.ai/vitosilver1999-politecnico-di-torino/AML_4B_upt/runs/295m7nwa' target=\"_blank\">treasured-sweep-9</a></strong> to <a href='https://wandb.ai/vitosilver1999-politecnico-di-torino/AML_4B_upt' target=\"_blank\">Weights & Biases</a> (<a href='https://wandb.me/developer-guide' target=\"_blank\">docs</a>)<br>Sweep page: <a href='https://wandb.ai/vitosilver1999-politecnico-di-torino/AML_4B_upt/sweeps/5sprm999' target=\"_blank\">https://wandb.ai/vitosilver1999-politecnico-di-torino/AML_4B_upt/sweeps/5sprm999</a>"
            ]
          },
          "metadata": {}
        },
        {
          "output_type": "display_data",
          "data": {
            "text/plain": [
              "<IPython.core.display.HTML object>"
            ],
            "text/html": [
              " View project at <a href='https://wandb.ai/vitosilver1999-politecnico-di-torino/AML_4B_upt' target=\"_blank\">https://wandb.ai/vitosilver1999-politecnico-di-torino/AML_4B_upt</a>"
            ]
          },
          "metadata": {}
        },
        {
          "output_type": "display_data",
          "data": {
            "text/plain": [
              "<IPython.core.display.HTML object>"
            ],
            "text/html": [
              " View sweep at <a href='https://wandb.ai/vitosilver1999-politecnico-di-torino/AML_4B_upt/sweeps/5sprm999' target=\"_blank\">https://wandb.ai/vitosilver1999-politecnico-di-torino/AML_4B_upt/sweeps/5sprm999</a>"
            ]
          },
          "metadata": {}
        },
        {
          "output_type": "display_data",
          "data": {
            "text/plain": [
              "<IPython.core.display.HTML object>"
            ],
            "text/html": [
              " View run at <a href='https://wandb.ai/vitosilver1999-politecnico-di-torino/AML_4B_upt/runs/295m7nwa' target=\"_blank\">https://wandb.ai/vitosilver1999-politecnico-di-torino/AML_4B_upt/runs/295m7nwa</a>"
            ]
          },
          "metadata": {}
        },
        {
          "output_type": "stream",
          "name": "stderr",
          "text": [
            "100%|██████████| 73/73 [01:01<00:00,  1.19it/s]\n"
          ]
        },
        {
          "output_type": "stream",
          "name": "stdout",
          "text": [
            "[0.00027814803303933714]\n"
          ]
        },
        {
          "output_type": "stream",
          "name": "stderr",
          "text": [
            "Epoch 1 [Training]: 100%|██████████| 73/73 [00:47<00:00,  1.54it/s, Loss_seg=57.3280]\n",
            "Epoch 1 [Validation]: 100%|██████████| 62/62 [00:14<00:00,  4.36it/s, Val_Loss=192.0020, mIoU=0.1362]"
          ]
        },
        {
          "output_type": "stream",
          "name": "stdout",
          "text": [
            "[0.00027814803303933714]\n"
          ]
        },
        {
          "output_type": "stream",
          "name": "stderr",
          "text": [
            "\n",
            "Epoch 2 [Training]: 100%|██████████| 73/73 [00:47<00:00,  1.55it/s, Loss_seg=29.0451]\n",
            "Epoch 2 [Validation]: 100%|██████████| 62/62 [00:14<00:00,  4.36it/s, Val_Loss=144.3388, mIoU=0.1446]"
          ]
        },
        {
          "output_type": "stream",
          "name": "stdout",
          "text": [
            "[0.00027814803303933714]\n"
          ]
        },
        {
          "output_type": "stream",
          "name": "stderr",
          "text": [
            "\n",
            "Epoch 3 [Training]: 100%|██████████| 73/73 [00:47<00:00,  1.54it/s, Loss_seg=25.1729]\n",
            "Epoch 3 [Validation]: 100%|██████████| 62/62 [00:14<00:00,  4.33it/s, Val_Loss=127.5072, mIoU=0.1977]"
          ]
        },
        {
          "output_type": "stream",
          "name": "stdout",
          "text": [
            "[0.00027814803303933714]\n"
          ]
        },
        {
          "output_type": "stream",
          "name": "stderr",
          "text": [
            "\n",
            "Epoch 4 [Training]: 100%|██████████| 73/73 [00:47<00:00,  1.55it/s, Loss_seg=22.7560]\n",
            "Epoch 4 [Validation]: 100%|██████████| 62/62 [00:14<00:00,  4.32it/s, Val_Loss=118.1336, mIoU=0.2026]"
          ]
        },
        {
          "output_type": "stream",
          "name": "stdout",
          "text": [
            "[0.00027814803303933714]\n"
          ]
        },
        {
          "output_type": "stream",
          "name": "stderr",
          "text": [
            "\n",
            "Epoch 5 [Training]: 100%|██████████| 73/73 [00:46<00:00,  1.56it/s, Loss_seg=21.4371]\n",
            "Epoch 5 [Validation]: 100%|██████████| 62/62 [00:14<00:00,  4.36it/s, Val_Loss=127.3315, mIoU=0.2031]"
          ]
        },
        {
          "output_type": "stream",
          "name": "stdout",
          "text": [
            "[0.00027814803303933714]\n"
          ]
        },
        {
          "output_type": "stream",
          "name": "stderr",
          "text": [
            "\n",
            "Epoch 6 [Training]: 100%|██████████| 73/73 [00:47<00:00,  1.54it/s, Loss_seg=20.5563]\n",
            "Epoch 6 [Validation]: 100%|██████████| 62/62 [00:14<00:00,  4.36it/s, Val_Loss=141.1793, mIoU=0.2027]"
          ]
        },
        {
          "output_type": "stream",
          "name": "stdout",
          "text": [
            "[0.00027814803303933714]\n"
          ]
        },
        {
          "output_type": "stream",
          "name": "stderr",
          "text": [
            "\n",
            "Epoch 7 [Training]: 100%|██████████| 73/73 [00:47<00:00,  1.55it/s, Loss_seg=19.7213]\n",
            "Epoch 7 [Validation]: 100%|██████████| 62/62 [00:14<00:00,  4.32it/s, Val_Loss=127.5651, mIoU=0.2141]"
          ]
        },
        {
          "output_type": "stream",
          "name": "stdout",
          "text": [
            "[0.00027814803303933714]\n"
          ]
        },
        {
          "output_type": "stream",
          "name": "stderr",
          "text": [
            "\n",
            "Epoch 8 [Training]: 100%|██████████| 73/73 [00:47<00:00,  1.54it/s, Loss_seg=18.9996]\n",
            "Epoch 8 [Validation]: 100%|██████████| 62/62 [00:14<00:00,  4.35it/s, Val_Loss=143.5171, mIoU=0.2053]"
          ]
        },
        {
          "output_type": "stream",
          "name": "stdout",
          "text": [
            "[0.00027814803303933714]\n"
          ]
        },
        {
          "output_type": "stream",
          "name": "stderr",
          "text": [
            "\n",
            "Epoch 9 [Training]: 100%|██████████| 73/73 [00:47<00:00,  1.54it/s, Loss_seg=18.8241]\n",
            "Epoch 9 [Validation]: 100%|██████████| 62/62 [00:14<00:00,  4.35it/s, Val_Loss=151.6364, mIoU=0.2003]"
          ]
        },
        {
          "output_type": "stream",
          "name": "stdout",
          "text": [
            "[0.00027814803303933714]\n"
          ]
        },
        {
          "output_type": "stream",
          "name": "stderr",
          "text": [
            "\n",
            "Epoch 10 [Training]: 100%|██████████| 73/73 [00:47<00:00,  1.55it/s, Loss_seg=18.3751]\n",
            "Epoch 10 [Validation]: 100%|██████████| 62/62 [00:14<00:00,  4.31it/s, Val_Loss=139.2077, mIoU=0.2212]"
          ]
        },
        {
          "output_type": "stream",
          "name": "stdout",
          "text": [
            "[0.00027814803303933714]\n"
          ]
        },
        {
          "output_type": "stream",
          "name": "stderr",
          "text": [
            "\n",
            "Epoch 11 [Training]: 100%|██████████| 73/73 [00:47<00:00,  1.55it/s, Loss_seg=18.0897]\n",
            "Epoch 11 [Validation]: 100%|██████████| 62/62 [00:14<00:00,  4.34it/s, Val_Loss=143.9732, mIoU=0.1965]"
          ]
        },
        {
          "output_type": "stream",
          "name": "stdout",
          "text": [
            "[0.00027814803303933714]\n"
          ]
        },
        {
          "output_type": "stream",
          "name": "stderr",
          "text": [
            "\n",
            "Epoch 12 [Training]: 100%|██████████| 73/73 [00:47<00:00,  1.55it/s, Loss_seg=17.7916]\n",
            "Epoch 12 [Validation]: 100%|██████████| 62/62 [00:14<00:00,  4.35it/s, Val_Loss=137.3332, mIoU=0.2052]"
          ]
        },
        {
          "output_type": "stream",
          "name": "stdout",
          "text": [
            "[0.00027814803303933714]\n"
          ]
        },
        {
          "output_type": "stream",
          "name": "stderr",
          "text": [
            "\n",
            "Epoch 13 [Training]: 100%|██████████| 73/73 [00:47<00:00,  1.54it/s, Loss_seg=17.4838]\n",
            "Epoch 13 [Validation]: 100%|██████████| 62/62 [00:14<00:00,  4.35it/s, Val_Loss=151.2304, mIoU=0.2010]"
          ]
        },
        {
          "output_type": "stream",
          "name": "stdout",
          "text": [
            "[0.00027814803303933714]\n"
          ]
        },
        {
          "output_type": "stream",
          "name": "stderr",
          "text": [
            "\n",
            "Epoch 14 [Training]: 100%|██████████| 73/73 [00:47<00:00,  1.55it/s, Loss_seg=17.1395]\n",
            "Epoch 14 [Validation]: 100%|██████████| 62/62 [00:14<00:00,  4.32it/s, Val_Loss=157.0751, mIoU=0.2188]"
          ]
        },
        {
          "output_type": "stream",
          "name": "stdout",
          "text": [
            "[0.00013907401651966857]\n"
          ]
        },
        {
          "output_type": "stream",
          "name": "stderr",
          "text": [
            "\n",
            "Epoch 15 [Training]: 100%|██████████| 73/73 [00:47<00:00,  1.54it/s, Loss_seg=17.2283]\n",
            "Epoch 15 [Validation]: 100%|██████████| 62/62 [00:14<00:00,  4.36it/s, Val_Loss=153.7565, mIoU=0.2292]"
          ]
        },
        {
          "output_type": "stream",
          "name": "stdout",
          "text": [
            "[0.00013907401651966857]\n"
          ]
        },
        {
          "output_type": "stream",
          "name": "stderr",
          "text": [
            "\n",
            "Epoch 16 [Training]: 100%|██████████| 73/73 [00:46<00:00,  1.56it/s, Loss_seg=16.7942]\n",
            "Epoch 16 [Validation]: 100%|██████████| 62/62 [00:14<00:00,  4.36it/s, Val_Loss=155.0578, mIoU=0.2179]"
          ]
        },
        {
          "output_type": "stream",
          "name": "stdout",
          "text": [
            "[0.00013907401651966857]\n"
          ]
        },
        {
          "output_type": "stream",
          "name": "stderr",
          "text": [
            "\n",
            "Epoch 17 [Training]: 100%|██████████| 73/73 [00:47<00:00,  1.55it/s, Loss_seg=16.5117]\n",
            "Epoch 17 [Validation]: 100%|██████████| 62/62 [00:14<00:00,  4.36it/s, Val_Loss=154.0628, mIoU=0.2373]"
          ]
        },
        {
          "output_type": "stream",
          "name": "stdout",
          "text": [
            "[0.00013907401651966857]\n"
          ]
        },
        {
          "output_type": "stream",
          "name": "stderr",
          "text": [
            "\n",
            "Epoch 18 [Training]: 100%|██████████| 73/73 [00:46<00:00,  1.56it/s, Loss_seg=16.4233]\n",
            "Epoch 18 [Validation]: 100%|██████████| 62/62 [00:14<00:00,  4.34it/s, Val_Loss=147.4866, mIoU=0.2295]"
          ]
        },
        {
          "output_type": "stream",
          "name": "stdout",
          "text": [
            "[0.00013907401651966857]\n"
          ]
        },
        {
          "output_type": "stream",
          "name": "stderr",
          "text": [
            "\n",
            "Epoch 19 [Training]: 100%|██████████| 73/73 [00:47<00:00,  1.54it/s, Loss_seg=16.1258]\n",
            "Epoch 19 [Validation]: 100%|██████████| 62/62 [00:14<00:00,  4.33it/s, Val_Loss=150.8479, mIoU=0.2487]"
          ]
        },
        {
          "output_type": "stream",
          "name": "stdout",
          "text": [
            "[0.00013907401651966857]\n"
          ]
        },
        {
          "output_type": "stream",
          "name": "stderr",
          "text": [
            "\n",
            "Epoch 20 [Training]: 100%|██████████| 73/73 [00:46<00:00,  1.56it/s, Loss_seg=16.2211]\n",
            "Epoch 20 [Validation]: 100%|██████████| 62/62 [00:14<00:00,  4.33it/s, Val_Loss=158.5921, mIoU=0.2305]\n"
          ]
        },
        {
          "output_type": "display_data",
          "data": {
            "text/plain": [
              "<IPython.core.display.HTML object>"
            ],
            "text/html": []
          },
          "metadata": {}
        },
        {
          "output_type": "display_data",
          "data": {
            "text/plain": [
              "<IPython.core.display.HTML object>"
            ],
            "text/html": [
              "<br>    <style><br>        .wandb-row {<br>            display: flex;<br>            flex-direction: row;<br>            flex-wrap: wrap;<br>            justify-content: flex-start;<br>            width: 100%;<br>        }<br>        .wandb-col {<br>            display: flex;<br>            flex-direction: column;<br>            flex-basis: 100%;<br>            flex: 1;<br>            padding: 10px;<br>        }<br>    </style><br><div class=\"wandb-row\"><div class=\"wandb-col\"><h3>Run history:</h3><br/><table class=\"wandb\"><tr><td>loss_seg</td><td>█▃▃▂▂▂▂▁▁▁▁▁▁▁▁▁▁▁▁▁</td></tr><tr><td>loss_val</td><td>█▃▂▁▂▃▂▃▄▃▃▃▄▅▄▄▄▄▄▅</td></tr><tr><td>mIoU</td><td>▁▂▅▅▅▅▆▅▅▆▅▅▅▆▇▆▇▇█▇</td></tr><tr><td>miou agricolture</td><td>▅▁▇██▇▆▅▄▇▃▅▅▆▄▃▃▅▄▃</td></tr><tr><td>miou background</td><td>▁▂▃▄▄▃▅▅▅▆▅▅▄▅▇▇█▇██</td></tr><tr><td>miou barren</td><td>▁▂▂▁▂▃▃▃▃▃▅▂▄▄▅▃▆▅██</td></tr><tr><td>miou building</td><td>▁▂▆▆▇▆▆▆▅█▅▆▇█▆▅▆▇▆▆</td></tr><tr><td>miou forest</td><td>▁▂▁▂▂▄▅▅▄▅▄▄▆▅▇▆█▆██</td></tr><tr><td>miou road</td><td>▂▃▇▇▅▆▇▁▄▁▄▄▅▂▆▇▇▇█▃</td></tr><tr><td>miou water</td><td>▁▂▅▅▅▆▆█▇▇▄▆▄▇▆▆▇▆▇▆</td></tr></table><br/></div><div class=\"wandb-col\"><h3>Run summary:</h3><br/><table class=\"wandb\"><tr><td>loss_seg</td><td>1.01382</td></tr><tr><td>loss_val</td><td>9.91201</td></tr><tr><td>mIoU</td><td>0.2305</td></tr><tr><td>miou agricolture</td><td>0.24068</td></tr><tr><td>miou background</td><td>0.36118</td></tr><tr><td>miou barren</td><td>0.11822</td></tr><tr><td>miou building</td><td>0.21012</td></tr><tr><td>miou forest</td><td>0.09731</td></tr><tr><td>miou road</td><td>0.21644</td></tr><tr><td>miou water</td><td>0.36957</td></tr></table><br/></div></div>"
            ]
          },
          "metadata": {}
        },
        {
          "output_type": "display_data",
          "data": {
            "text/plain": [
              "<IPython.core.display.HTML object>"
            ],
            "text/html": [
              " View run <strong style=\"color:#cdcd00\">treasured-sweep-9</strong> at: <a href='https://wandb.ai/vitosilver1999-politecnico-di-torino/AML_4B_upt/runs/295m7nwa' target=\"_blank\">https://wandb.ai/vitosilver1999-politecnico-di-torino/AML_4B_upt/runs/295m7nwa</a><br> View project at: <a href='https://wandb.ai/vitosilver1999-politecnico-di-torino/AML_4B_upt' target=\"_blank\">https://wandb.ai/vitosilver1999-politecnico-di-torino/AML_4B_upt</a><br>Synced 5 W&B file(s), 0 media file(s), 0 artifact file(s) and 0 other file(s)"
            ]
          },
          "metadata": {}
        },
        {
          "output_type": "display_data",
          "data": {
            "text/plain": [
              "<IPython.core.display.HTML object>"
            ],
            "text/html": [
              "Find logs at: <code>./wandb/run-20250517_133943-295m7nwa/logs</code>"
            ]
          },
          "metadata": {}
        },
        {
          "output_type": "stream",
          "name": "stderr",
          "text": [
            "\u001b[34m\u001b[1mwandb\u001b[0m: Sweep Agent: Waiting for job.\n",
            "\u001b[34m\u001b[1mwandb\u001b[0m: Job received.\n",
            "\u001b[34m\u001b[1mwandb\u001b[0m: Agent Starting Run: 4c5nebo5 with config:\n",
            "\u001b[34m\u001b[1mwandb\u001b[0m: \tALPHA_TEACHER: 0.99\n",
            "\u001b[34m\u001b[1mwandb\u001b[0m: \tLOSS_TYPE: ohem\n",
            "\u001b[34m\u001b[1mwandb\u001b[0m: \tLR: 0.0003549710604447911\n",
            "\u001b[34m\u001b[1mwandb\u001b[0m: \tMOMENTUM: 0.8\n",
            "\u001b[34m\u001b[1mwandb\u001b[0m: \tPIXEL_WEIGHT: threshold_uniform\n",
            "\u001b[34m\u001b[1mwandb\u001b[0m: \tTHRESHOLD: 0.85\n",
            "\u001b[34m\u001b[1mwandb\u001b[0m: \tTYPE_WEIGHT: log\n"
          ]
        },
        {
          "output_type": "display_data",
          "data": {
            "text/plain": [
              "<IPython.core.display.HTML object>"
            ],
            "text/html": [
              "Tracking run with wandb version 0.19.11"
            ]
          },
          "metadata": {}
        },
        {
          "output_type": "display_data",
          "data": {
            "text/plain": [
              "<IPython.core.display.HTML object>"
            ],
            "text/html": [
              "Run data is saved locally in <code>/content/wandb/run-20250517_140136-4c5nebo5</code>"
            ]
          },
          "metadata": {}
        },
        {
          "output_type": "display_data",
          "data": {
            "text/plain": [
              "<IPython.core.display.HTML object>"
            ],
            "text/html": [
              "Syncing run <strong><a href='https://wandb.ai/vitosilver1999-politecnico-di-torino/AML_4B_upt/runs/4c5nebo5' target=\"_blank\">neat-sweep-10</a></strong> to <a href='https://wandb.ai/vitosilver1999-politecnico-di-torino/AML_4B_upt' target=\"_blank\">Weights & Biases</a> (<a href='https://wandb.me/developer-guide' target=\"_blank\">docs</a>)<br>Sweep page: <a href='https://wandb.ai/vitosilver1999-politecnico-di-torino/AML_4B_upt/sweeps/5sprm999' target=\"_blank\">https://wandb.ai/vitosilver1999-politecnico-di-torino/AML_4B_upt/sweeps/5sprm999</a>"
            ]
          },
          "metadata": {}
        },
        {
          "output_type": "display_data",
          "data": {
            "text/plain": [
              "<IPython.core.display.HTML object>"
            ],
            "text/html": [
              " View project at <a href='https://wandb.ai/vitosilver1999-politecnico-di-torino/AML_4B_upt' target=\"_blank\">https://wandb.ai/vitosilver1999-politecnico-di-torino/AML_4B_upt</a>"
            ]
          },
          "metadata": {}
        },
        {
          "output_type": "display_data",
          "data": {
            "text/plain": [
              "<IPython.core.display.HTML object>"
            ],
            "text/html": [
              " View sweep at <a href='https://wandb.ai/vitosilver1999-politecnico-di-torino/AML_4B_upt/sweeps/5sprm999' target=\"_blank\">https://wandb.ai/vitosilver1999-politecnico-di-torino/AML_4B_upt/sweeps/5sprm999</a>"
            ]
          },
          "metadata": {}
        },
        {
          "output_type": "display_data",
          "data": {
            "text/plain": [
              "<IPython.core.display.HTML object>"
            ],
            "text/html": [
              " View run at <a href='https://wandb.ai/vitosilver1999-politecnico-di-torino/AML_4B_upt/runs/4c5nebo5' target=\"_blank\">https://wandb.ai/vitosilver1999-politecnico-di-torino/AML_4B_upt/runs/4c5nebo5</a>"
            ]
          },
          "metadata": {}
        },
        {
          "output_type": "stream",
          "name": "stderr",
          "text": [
            "100%|██████████| 73/73 [01:01<00:00,  1.18it/s]\n"
          ]
        },
        {
          "output_type": "stream",
          "name": "stdout",
          "text": [
            "[0.0003549710604447911]\n"
          ]
        },
        {
          "output_type": "stream",
          "name": "stderr",
          "text": [
            "Epoch 1 [Training]: 100%|██████████| 73/73 [00:47<00:00,  1.52it/s, Loss_seg=46.4465]\n",
            "Epoch 1 [Validation]: 100%|██████████| 62/62 [00:14<00:00,  4.36it/s, Val_Loss=64.1526, mIoU=0.1840]"
          ]
        },
        {
          "output_type": "stream",
          "name": "stdout",
          "text": [
            "[0.0003549710604447911]\n"
          ]
        },
        {
          "output_type": "stream",
          "name": "stderr",
          "text": [
            "\n",
            "Epoch 2 [Training]: 100%|██████████| 73/73 [00:47<00:00,  1.54it/s, Loss_seg=25.4406]\n",
            "Epoch 2 [Validation]: 100%|██████████| 62/62 [00:14<00:00,  4.35it/s, Val_Loss=62.6781, mIoU=0.1927]"
          ]
        },
        {
          "output_type": "stream",
          "name": "stdout",
          "text": [
            "[0.0003549710604447911]\n"
          ]
        },
        {
          "output_type": "stream",
          "name": "stderr",
          "text": [
            "\n",
            "Epoch 3 [Training]: 100%|██████████| 73/73 [00:47<00:00,  1.54it/s, Loss_seg=22.6932]\n",
            "Epoch 3 [Validation]: 100%|██████████| 62/62 [00:14<00:00,  4.35it/s, Val_Loss=68.9738, mIoU=0.2065]"
          ]
        },
        {
          "output_type": "stream",
          "name": "stdout",
          "text": [
            "[0.0003549710604447911]\n"
          ]
        },
        {
          "output_type": "stream",
          "name": "stderr",
          "text": [
            "\n",
            "Epoch 4 [Training]: 100%|██████████| 73/73 [00:46<00:00,  1.56it/s, Loss_seg=20.6921]\n",
            "Epoch 4 [Validation]: 100%|██████████| 62/62 [00:14<00:00,  4.34it/s, Val_Loss=67.4572, mIoU=0.1996]"
          ]
        },
        {
          "output_type": "stream",
          "name": "stdout",
          "text": [
            "[0.0003549710604447911]\n"
          ]
        },
        {
          "output_type": "stream",
          "name": "stderr",
          "text": [
            "\n",
            "Epoch 5 [Training]: 100%|██████████| 73/73 [00:47<00:00,  1.55it/s, Loss_seg=19.4296]\n",
            "Epoch 5 [Validation]: 100%|██████████| 62/62 [00:14<00:00,  4.37it/s, Val_Loss=65.2025, mIoU=0.2066]"
          ]
        },
        {
          "output_type": "stream",
          "name": "stdout",
          "text": [
            "[0.0003549710604447911]\n"
          ]
        },
        {
          "output_type": "stream",
          "name": "stderr",
          "text": [
            "\n",
            "Epoch 6 [Training]: 100%|██████████| 73/73 [00:46<00:00,  1.56it/s, Loss_seg=18.5498]\n",
            "Epoch 6 [Validation]: 100%|██████████| 62/62 [00:14<00:00,  4.35it/s, Val_Loss=72.7822, mIoU=0.2116]"
          ]
        },
        {
          "output_type": "stream",
          "name": "stdout",
          "text": [
            "[0.0003549710604447911]\n"
          ]
        },
        {
          "output_type": "stream",
          "name": "stderr",
          "text": [
            "\n",
            "Epoch 7 [Training]: 100%|██████████| 73/73 [00:46<00:00,  1.56it/s, Loss_seg=18.0298]\n",
            "Epoch 7 [Validation]: 100%|██████████| 62/62 [00:14<00:00,  4.34it/s, Val_Loss=70.2740, mIoU=0.2006]"
          ]
        },
        {
          "output_type": "stream",
          "name": "stdout",
          "text": [
            "[0.0003549710604447911]\n"
          ]
        },
        {
          "output_type": "stream",
          "name": "stderr",
          "text": [
            "\n",
            "Epoch 8 [Training]: 100%|██████████| 73/73 [00:47<00:00,  1.55it/s, Loss_seg=17.4628]\n",
            "Epoch 8 [Validation]: 100%|██████████| 62/62 [00:14<00:00,  4.35it/s, Val_Loss=66.8243, mIoU=0.2152]"
          ]
        },
        {
          "output_type": "stream",
          "name": "stdout",
          "text": [
            "[0.0003549710604447911]\n"
          ]
        },
        {
          "output_type": "stream",
          "name": "stderr",
          "text": [
            "\n",
            "Epoch 9 [Training]: 100%|██████████| 73/73 [00:47<00:00,  1.55it/s, Loss_seg=17.1453]\n",
            "Epoch 9 [Validation]: 100%|██████████| 62/62 [00:14<00:00,  4.33it/s, Val_Loss=65.2367, mIoU=0.2228]"
          ]
        },
        {
          "output_type": "stream",
          "name": "stdout",
          "text": [
            "[0.0003549710604447911]\n"
          ]
        },
        {
          "output_type": "stream",
          "name": "stderr",
          "text": [
            "\n",
            "Epoch 10 [Training]: 100%|██████████| 73/73 [00:46<00:00,  1.55it/s, Loss_seg=16.5921]\n",
            "Epoch 10 [Validation]: 100%|██████████| 62/62 [00:14<00:00,  4.35it/s, Val_Loss=68.3444, mIoU=0.2222]"
          ]
        },
        {
          "output_type": "stream",
          "name": "stdout",
          "text": [
            "[0.0003549710604447911]\n"
          ]
        },
        {
          "output_type": "stream",
          "name": "stderr",
          "text": [
            "\n",
            "Epoch 11 [Training]: 100%|██████████| 73/73 [00:47<00:00,  1.55it/s, Loss_seg=16.4325]\n",
            "Epoch 11 [Validation]: 100%|██████████| 62/62 [00:14<00:00,  4.35it/s, Val_Loss=68.3208, mIoU=0.2206]"
          ]
        },
        {
          "output_type": "stream",
          "name": "stdout",
          "text": [
            "[0.0003549710604447911]\n"
          ]
        },
        {
          "output_type": "stream",
          "name": "stderr",
          "text": [
            "\n",
            "Epoch 12 [Training]: 100%|██████████| 73/73 [00:46<00:00,  1.56it/s, Loss_seg=16.2213]\n",
            "Epoch 12 [Validation]: 100%|██████████| 62/62 [00:14<00:00,  4.34it/s, Val_Loss=75.3298, mIoU=0.2170]"
          ]
        },
        {
          "output_type": "stream",
          "name": "stdout",
          "text": [
            "[0.0003549710604447911]\n"
          ]
        },
        {
          "output_type": "stream",
          "name": "stderr",
          "text": [
            "\n",
            "Epoch 13 [Training]: 100%|██████████| 73/73 [00:47<00:00,  1.55it/s, Loss_seg=15.9805]\n",
            "Epoch 13 [Validation]: 100%|██████████| 62/62 [00:14<00:00,  4.33it/s, Val_Loss=71.2856, mIoU=0.2199]"
          ]
        },
        {
          "output_type": "stream",
          "name": "stdout",
          "text": [
            "[0.00017748553022239554]\n"
          ]
        },
        {
          "output_type": "stream",
          "name": "stderr",
          "text": [
            "\n",
            "Epoch 14 [Training]: 100%|██████████| 73/73 [00:46<00:00,  1.55it/s, Loss_seg=15.7109]\n",
            "Epoch 14 [Validation]: 100%|██████████| 62/62 [00:14<00:00,  4.35it/s, Val_Loss=77.6622, mIoU=0.2180]"
          ]
        },
        {
          "output_type": "stream",
          "name": "stdout",
          "text": [
            "[0.00017748553022239554]\n"
          ]
        },
        {
          "output_type": "stream",
          "name": "stderr",
          "text": [
            "\n",
            "Epoch 15 [Training]: 100%|██████████| 73/73 [00:47<00:00,  1.55it/s, Loss_seg=15.5324]\n",
            "Epoch 15 [Validation]: 100%|██████████| 62/62 [00:14<00:00,  4.38it/s, Val_Loss=69.3307, mIoU=0.2292]"
          ]
        },
        {
          "output_type": "stream",
          "name": "stdout",
          "text": [
            "[0.00017748553022239554]\n"
          ]
        },
        {
          "output_type": "stream",
          "name": "stderr",
          "text": [
            "\n",
            "Epoch 16 [Training]: 100%|██████████| 73/73 [00:47<00:00,  1.55it/s, Loss_seg=15.3799]\n",
            "Epoch 16 [Validation]: 100%|██████████| 62/62 [00:14<00:00,  4.35it/s, Val_Loss=69.4772, mIoU=0.2394]"
          ]
        },
        {
          "output_type": "stream",
          "name": "stdout",
          "text": [
            "[0.00017748553022239554]\n"
          ]
        },
        {
          "output_type": "stream",
          "name": "stderr",
          "text": [
            "\n",
            "Epoch 17 [Training]: 100%|██████████| 73/73 [00:47<00:00,  1.53it/s, Loss_seg=15.3773]\n",
            "Epoch 17 [Validation]: 100%|██████████| 62/62 [00:14<00:00,  4.34it/s, Val_Loss=70.7383, mIoU=0.2475]"
          ]
        },
        {
          "output_type": "stream",
          "name": "stdout",
          "text": [
            "[0.00017748553022239554]\n"
          ]
        },
        {
          "output_type": "stream",
          "name": "stderr",
          "text": [
            "\n",
            "Epoch 18 [Training]: 100%|██████████| 73/73 [00:47<00:00,  1.55it/s, Loss_seg=15.3414]\n",
            "Epoch 18 [Validation]: 100%|██████████| 62/62 [00:14<00:00,  4.32it/s, Val_Loss=69.5216, mIoU=0.2421]"
          ]
        },
        {
          "output_type": "stream",
          "name": "stdout",
          "text": [
            "[0.00017748553022239554]\n"
          ]
        },
        {
          "output_type": "stream",
          "name": "stderr",
          "text": [
            "\n",
            "Epoch 19 [Training]: 100%|██████████| 73/73 [00:47<00:00,  1.54it/s, Loss_seg=15.4377]\n",
            "Epoch 19 [Validation]: 100%|██████████| 62/62 [00:14<00:00,  4.35it/s, Val_Loss=71.4047, mIoU=0.2385]"
          ]
        },
        {
          "output_type": "stream",
          "name": "stdout",
          "text": [
            "[0.00017748553022239554]\n"
          ]
        },
        {
          "output_type": "stream",
          "name": "stderr",
          "text": [
            "\n",
            "Epoch 20 [Training]: 100%|██████████| 73/73 [00:47<00:00,  1.53it/s, Loss_seg=15.2143]\n",
            "Epoch 20 [Validation]: 100%|██████████| 62/62 [00:14<00:00,  4.32it/s, Val_Loss=74.1898, mIoU=0.2431]\n"
          ]
        },
        {
          "output_type": "display_data",
          "data": {
            "text/plain": [
              "<IPython.core.display.HTML object>"
            ],
            "text/html": []
          },
          "metadata": {}
        },
        {
          "output_type": "display_data",
          "data": {
            "text/plain": [
              "<IPython.core.display.HTML object>"
            ],
            "text/html": [
              "<br>    <style><br>        .wandb-row {<br>            display: flex;<br>            flex-direction: row;<br>            flex-wrap: wrap;<br>            justify-content: flex-start;<br>            width: 100%;<br>        }<br>        .wandb-col {<br>            display: flex;<br>            flex-direction: column;<br>            flex-basis: 100%;<br>            flex: 1;<br>            padding: 10px;<br>        }<br>    </style><br><div class=\"wandb-row\"><div class=\"wandb-col\"><h3>Run history:</h3><br/><table class=\"wandb\"><tr><td>loss_seg</td><td>█▃▃▂▂▂▂▂▁▁▁▁▁▁▁▁▁▁▁▁</td></tr><tr><td>loss_val</td><td>▂▁▄▃▂▆▅▃▂▄▄▇▅█▄▄▅▄▅▆</td></tr><tr><td>mIoU</td><td>▁▂▃▃▃▄▃▄▅▅▅▅▅▅▆▇█▇▇█</td></tr><tr><td>miou agricolture</td><td>▇█▅█▅▅▅▆▅▇▃▂▃▁▄▄▄▄▅▃</td></tr><tr><td>miou background</td><td>▁▁▆▃▄▄▂▃▅▁▄▅▆▆▅▆█▇▆█</td></tr><tr><td>miou barren</td><td>▂▁▂▁▃▂▁▂▂▂▃█▄▅▃▇▆▄▅█</td></tr><tr><td>miou building</td><td>▂▂▁▅▅▄█▆██▅▅▅▅▆▆▅▇▇▅</td></tr><tr><td>miou forest</td><td>▃▃▅▁▃▇▄▄▄▆▆▇▇█▇▇▇▇▇█</td></tr><tr><td>miou road</td><td>▆▆▃▁▅▄▃▅▅▇▅▁▁▃▄▅▇▆▇█</td></tr><tr><td>miou water</td><td>▁▂▄▄▄▅▄▆▄▆██▇█▇█▇▆▅▆</td></tr></table><br/></div><div class=\"wandb-col\"><h3>Run summary:</h3><br/><table class=\"wandb\"><tr><td>loss_seg</td><td>0.95089</td></tr><tr><td>loss_val</td><td>4.63686</td></tr><tr><td>mIoU</td><td>0.24312</td></tr><tr><td>miou agricolture</td><td>0.23399</td></tr><tr><td>miou background</td><td>0.36862</td></tr><tr><td>miou barren</td><td>0.06133</td></tr><tr><td>miou building</td><td>0.22334</td></tr><tr><td>miou forest</td><td>0.11898</td></tr><tr><td>miou road</td><td>0.30123</td></tr><tr><td>miou water</td><td>0.39436</td></tr></table><br/></div></div>"
            ]
          },
          "metadata": {}
        },
        {
          "output_type": "display_data",
          "data": {
            "text/plain": [
              "<IPython.core.display.HTML object>"
            ],
            "text/html": [
              " View run <strong style=\"color:#cdcd00\">neat-sweep-10</strong> at: <a href='https://wandb.ai/vitosilver1999-politecnico-di-torino/AML_4B_upt/runs/4c5nebo5' target=\"_blank\">https://wandb.ai/vitosilver1999-politecnico-di-torino/AML_4B_upt/runs/4c5nebo5</a><br> View project at: <a href='https://wandb.ai/vitosilver1999-politecnico-di-torino/AML_4B_upt' target=\"_blank\">https://wandb.ai/vitosilver1999-politecnico-di-torino/AML_4B_upt</a><br>Synced 5 W&B file(s), 0 media file(s), 0 artifact file(s) and 0 other file(s)"
            ]
          },
          "metadata": {}
        },
        {
          "output_type": "display_data",
          "data": {
            "text/plain": [
              "<IPython.core.display.HTML object>"
            ],
            "text/html": [
              "Find logs at: <code>./wandb/run-20250517_140136-4c5nebo5/logs</code>"
            ]
          },
          "metadata": {}
        },
        {
          "output_type": "stream",
          "name": "stderr",
          "text": [
            "\u001b[34m\u001b[1mwandb\u001b[0m: Agent Starting Run: cunhzp27 with config:\n",
            "\u001b[34m\u001b[1mwandb\u001b[0m: \tALPHA_TEACHER: 0.99\n",
            "\u001b[34m\u001b[1mwandb\u001b[0m: \tLOSS_TYPE: ce\n",
            "\u001b[34m\u001b[1mwandb\u001b[0m: \tLR: 0.000329658544839708\n",
            "\u001b[34m\u001b[1mwandb\u001b[0m: \tMOMENTUM: 0.85\n",
            "\u001b[34m\u001b[1mwandb\u001b[0m: \tPIXEL_WEIGHT: threshold_uniform\n",
            "\u001b[34m\u001b[1mwandb\u001b[0m: \tTHRESHOLD: 0.85\n",
            "\u001b[34m\u001b[1mwandb\u001b[0m: \tTYPE_WEIGHT: inverse\n"
          ]
        },
        {
          "output_type": "display_data",
          "data": {
            "text/plain": [
              "<IPython.core.display.HTML object>"
            ],
            "text/html": [
              "Tracking run with wandb version 0.19.11"
            ]
          },
          "metadata": {}
        },
        {
          "output_type": "display_data",
          "data": {
            "text/plain": [
              "<IPython.core.display.HTML object>"
            ],
            "text/html": [
              "Run data is saved locally in <code>/content/wandb/run-20250517_142324-cunhzp27</code>"
            ]
          },
          "metadata": {}
        },
        {
          "output_type": "display_data",
          "data": {
            "text/plain": [
              "<IPython.core.display.HTML object>"
            ],
            "text/html": [
              "Syncing run <strong><a href='https://wandb.ai/vitosilver1999-politecnico-di-torino/AML_4B_upt/runs/cunhzp27' target=\"_blank\">dulcet-sweep-11</a></strong> to <a href='https://wandb.ai/vitosilver1999-politecnico-di-torino/AML_4B_upt' target=\"_blank\">Weights & Biases</a> (<a href='https://wandb.me/developer-guide' target=\"_blank\">docs</a>)<br>Sweep page: <a href='https://wandb.ai/vitosilver1999-politecnico-di-torino/AML_4B_upt/sweeps/5sprm999' target=\"_blank\">https://wandb.ai/vitosilver1999-politecnico-di-torino/AML_4B_upt/sweeps/5sprm999</a>"
            ]
          },
          "metadata": {}
        },
        {
          "output_type": "display_data",
          "data": {
            "text/plain": [
              "<IPython.core.display.HTML object>"
            ],
            "text/html": [
              " View project at <a href='https://wandb.ai/vitosilver1999-politecnico-di-torino/AML_4B_upt' target=\"_blank\">https://wandb.ai/vitosilver1999-politecnico-di-torino/AML_4B_upt</a>"
            ]
          },
          "metadata": {}
        },
        {
          "output_type": "display_data",
          "data": {
            "text/plain": [
              "<IPython.core.display.HTML object>"
            ],
            "text/html": [
              " View sweep at <a href='https://wandb.ai/vitosilver1999-politecnico-di-torino/AML_4B_upt/sweeps/5sprm999' target=\"_blank\">https://wandb.ai/vitosilver1999-politecnico-di-torino/AML_4B_upt/sweeps/5sprm999</a>"
            ]
          },
          "metadata": {}
        },
        {
          "output_type": "display_data",
          "data": {
            "text/plain": [
              "<IPython.core.display.HTML object>"
            ],
            "text/html": [
              " View run at <a href='https://wandb.ai/vitosilver1999-politecnico-di-torino/AML_4B_upt/runs/cunhzp27' target=\"_blank\">https://wandb.ai/vitosilver1999-politecnico-di-torino/AML_4B_upt/runs/cunhzp27</a>"
            ]
          },
          "metadata": {}
        },
        {
          "output_type": "stream",
          "name": "stderr",
          "text": [
            "100%|██████████| 73/73 [01:02<00:00,  1.18it/s]\n"
          ]
        },
        {
          "output_type": "stream",
          "name": "stdout",
          "text": [
            "[0.000329658544839708]\n"
          ]
        },
        {
          "output_type": "stream",
          "name": "stderr",
          "text": [
            "Epoch 1 [Training]: 100%|██████████| 73/73 [00:45<00:00,  1.59it/s, Loss_seg=30.3415]\n",
            "Epoch 1 [Validation]: 100%|██████████| 62/62 [00:14<00:00,  4.34it/s, Val_Loss=6.2552, mIoU=0.1427]"
          ]
        },
        {
          "output_type": "stream",
          "name": "stdout",
          "text": [
            "[0.000329658544839708]\n"
          ]
        },
        {
          "output_type": "stream",
          "name": "stderr",
          "text": [
            "\n",
            "Epoch 2 [Training]: 100%|██████████| 73/73 [00:45<00:00,  1.61it/s, Loss_seg=17.4235]\n",
            "Epoch 2 [Validation]: 100%|██████████| 62/62 [00:14<00:00,  4.35it/s, Val_Loss=5.2692, mIoU=0.1796]"
          ]
        },
        {
          "output_type": "stream",
          "name": "stdout",
          "text": [
            "[0.000329658544839708]\n"
          ]
        },
        {
          "output_type": "stream",
          "name": "stderr",
          "text": [
            "\n",
            "Epoch 3 [Training]: 100%|██████████| 73/73 [00:46<00:00,  1.57it/s, Loss_seg=13.5911]\n",
            "Epoch 3 [Validation]: 100%|██████████| 62/62 [00:14<00:00,  4.36it/s, Val_Loss=5.0664, mIoU=0.2004]"
          ]
        },
        {
          "output_type": "stream",
          "name": "stdout",
          "text": [
            "[0.000329658544839708]\n"
          ]
        },
        {
          "output_type": "stream",
          "name": "stderr",
          "text": [
            "\n",
            "Epoch 4 [Training]: 100%|██████████| 73/73 [00:46<00:00,  1.58it/s, Loss_seg=11.8486]\n",
            "Epoch 4 [Validation]: 100%|██████████| 62/62 [00:14<00:00,  4.33it/s, Val_Loss=5.1438, mIoU=0.2116]"
          ]
        },
        {
          "output_type": "stream",
          "name": "stdout",
          "text": [
            "[0.000329658544839708]\n"
          ]
        },
        {
          "output_type": "stream",
          "name": "stderr",
          "text": [
            "\n",
            "Epoch 5 [Training]: 100%|██████████| 73/73 [00:45<00:00,  1.60it/s, Loss_seg=10.8102]\n",
            "Epoch 5 [Validation]: 100%|██████████| 62/62 [00:14<00:00,  4.31it/s, Val_Loss=4.9824, mIoU=0.2190]"
          ]
        },
        {
          "output_type": "stream",
          "name": "stdout",
          "text": [
            "[0.000329658544839708]\n"
          ]
        },
        {
          "output_type": "stream",
          "name": "stderr",
          "text": [
            "\n",
            "Epoch 6 [Training]: 100%|██████████| 73/73 [00:45<00:00,  1.60it/s, Loss_seg=10.0337]\n",
            "Epoch 6 [Validation]: 100%|██████████| 62/62 [00:14<00:00,  4.35it/s, Val_Loss=5.4277, mIoU=0.2062]"
          ]
        },
        {
          "output_type": "stream",
          "name": "stdout",
          "text": [
            "[0.000329658544839708]\n"
          ]
        },
        {
          "output_type": "stream",
          "name": "stderr",
          "text": [
            "\n",
            "Epoch 7 [Training]: 100%|██████████| 73/73 [00:45<00:00,  1.61it/s, Loss_seg=9.5881]\n",
            "Epoch 7 [Validation]: 100%|██████████| 62/62 [00:14<00:00,  4.35it/s, Val_Loss=5.3841, mIoU=0.2305]"
          ]
        },
        {
          "output_type": "stream",
          "name": "stdout",
          "text": [
            "[0.000329658544839708]\n"
          ]
        },
        {
          "output_type": "stream",
          "name": "stderr",
          "text": [
            "\n",
            "Epoch 8 [Training]: 100%|██████████| 73/73 [00:45<00:00,  1.61it/s, Loss_seg=9.2613]\n",
            "Epoch 8 [Validation]: 100%|██████████| 62/62 [00:14<00:00,  4.35it/s, Val_Loss=5.1012, mIoU=0.2365]"
          ]
        },
        {
          "output_type": "stream",
          "name": "stdout",
          "text": [
            "[0.000329658544839708]\n"
          ]
        },
        {
          "output_type": "stream",
          "name": "stderr",
          "text": [
            "\n",
            "Epoch 9 [Training]: 100%|██████████| 73/73 [00:45<00:00,  1.59it/s, Loss_seg=9.1945]\n",
            "Epoch 9 [Validation]: 100%|██████████| 62/62 [00:14<00:00,  4.35it/s, Val_Loss=5.6465, mIoU=0.2386]"
          ]
        },
        {
          "output_type": "stream",
          "name": "stdout",
          "text": [
            "[0.000329658544839708]\n"
          ]
        },
        {
          "output_type": "stream",
          "name": "stderr",
          "text": [
            "\n",
            "Epoch 10 [Training]: 100%|██████████| 73/73 [00:45<00:00,  1.61it/s, Loss_seg=8.7684]\n",
            "Epoch 10 [Validation]: 100%|██████████| 62/62 [00:14<00:00,  4.36it/s, Val_Loss=5.6586, mIoU=0.2428]"
          ]
        },
        {
          "output_type": "stream",
          "name": "stdout",
          "text": [
            "[0.000329658544839708]\n"
          ]
        },
        {
          "output_type": "stream",
          "name": "stderr",
          "text": [
            "\n",
            "Epoch 11 [Training]: 100%|██████████| 73/73 [00:45<00:00,  1.59it/s, Loss_seg=8.6052]\n",
            "Epoch 11 [Validation]: 100%|██████████| 62/62 [00:14<00:00,  4.33it/s, Val_Loss=5.3317, mIoU=0.2427]"
          ]
        },
        {
          "output_type": "stream",
          "name": "stdout",
          "text": [
            "[0.000329658544839708]\n"
          ]
        },
        {
          "output_type": "stream",
          "name": "stderr",
          "text": [
            "\n",
            "Epoch 12 [Training]: 100%|██████████| 73/73 [00:45<00:00,  1.59it/s, Loss_seg=8.4676]\n",
            "Epoch 12 [Validation]: 100%|██████████| 62/62 [00:14<00:00,  4.32it/s, Val_Loss=5.5980, mIoU=0.2416]"
          ]
        },
        {
          "output_type": "stream",
          "name": "stdout",
          "text": [
            "[0.000329658544839708]\n"
          ]
        },
        {
          "output_type": "stream",
          "name": "stderr",
          "text": [
            "\n",
            "Epoch 13 [Training]: 100%|██████████| 73/73 [00:46<00:00,  1.58it/s, Loss_seg=8.4562]\n",
            "Epoch 13 [Validation]: 100%|██████████| 62/62 [00:14<00:00,  4.33it/s, Val_Loss=5.7671, mIoU=0.2551]"
          ]
        },
        {
          "output_type": "stream",
          "name": "stdout",
          "text": [
            "[0.000329658544839708]\n"
          ]
        },
        {
          "output_type": "stream",
          "name": "stderr",
          "text": [
            "\n",
            "Epoch 14 [Training]: 100%|██████████| 73/73 [00:45<00:00,  1.60it/s, Loss_seg=8.2652]\n",
            "Epoch 14 [Validation]: 100%|██████████| 62/62 [00:14<00:00,  4.30it/s, Val_Loss=5.5114, mIoU=0.2488]"
          ]
        },
        {
          "output_type": "stream",
          "name": "stdout",
          "text": [
            "[0.000329658544839708]\n"
          ]
        },
        {
          "output_type": "stream",
          "name": "stderr",
          "text": [
            "\n",
            "Epoch 15 [Training]: 100%|██████████| 73/73 [00:46<00:00,  1.59it/s, Loss_seg=8.2517]\n",
            "Epoch 15 [Validation]: 100%|██████████| 62/62 [00:14<00:00,  4.33it/s, Val_Loss=5.8627, mIoU=0.2566]"
          ]
        },
        {
          "output_type": "stream",
          "name": "stdout",
          "text": [
            "[0.000329658544839708]\n"
          ]
        },
        {
          "output_type": "stream",
          "name": "stderr",
          "text": [
            "\n",
            "Epoch 16 [Training]: 100%|██████████| 73/73 [00:45<00:00,  1.61it/s, Loss_seg=8.1748]\n",
            "Epoch 16 [Validation]: 100%|██████████| 62/62 [00:14<00:00,  4.32it/s, Val_Loss=5.6074, mIoU=0.2389]"
          ]
        },
        {
          "output_type": "stream",
          "name": "stdout",
          "text": [
            "[0.000329658544839708]\n"
          ]
        },
        {
          "output_type": "stream",
          "name": "stderr",
          "text": [
            "\n",
            "Epoch 17 [Training]: 100%|██████████| 73/73 [00:45<00:00,  1.59it/s, Loss_seg=7.8384]\n",
            "Epoch 17 [Validation]: 100%|██████████| 62/62 [00:14<00:00,  4.33it/s, Val_Loss=5.7816, mIoU=0.2588]"
          ]
        },
        {
          "output_type": "stream",
          "name": "stdout",
          "text": [
            "[0.000329658544839708]\n"
          ]
        },
        {
          "output_type": "stream",
          "name": "stderr",
          "text": [
            "\n",
            "Epoch 18 [Training]: 100%|██████████| 73/73 [00:45<00:00,  1.59it/s, Loss_seg=7.8290]\n",
            "Epoch 18 [Validation]: 100%|██████████| 62/62 [00:14<00:00,  4.35it/s, Val_Loss=5.8021, mIoU=0.2549]"
          ]
        },
        {
          "output_type": "stream",
          "name": "stdout",
          "text": [
            "[0.000329658544839708]\n"
          ]
        },
        {
          "output_type": "stream",
          "name": "stderr",
          "text": [
            "\n",
            "Epoch 19 [Training]: 100%|██████████| 73/73 [00:45<00:00,  1.60it/s, Loss_seg=7.9455]\n",
            "Epoch 19 [Validation]: 100%|██████████| 62/62 [00:14<00:00,  4.32it/s, Val_Loss=5.8838, mIoU=0.2544]"
          ]
        },
        {
          "output_type": "stream",
          "name": "stdout",
          "text": [
            "[0.000329658544839708]\n"
          ]
        },
        {
          "output_type": "stream",
          "name": "stderr",
          "text": [
            "\n",
            "Epoch 20 [Training]: 100%|██████████| 73/73 [00:45<00:00,  1.59it/s, Loss_seg=8.0320]\n",
            "Epoch 20 [Validation]: 100%|██████████| 62/62 [00:14<00:00,  4.37it/s, Val_Loss=6.2935, mIoU=0.2597]\n"
          ]
        },
        {
          "output_type": "display_data",
          "data": {
            "text/plain": [
              "<IPython.core.display.HTML object>"
            ],
            "text/html": []
          },
          "metadata": {}
        },
        {
          "output_type": "display_data",
          "data": {
            "text/plain": [
              "<IPython.core.display.HTML object>"
            ],
            "text/html": [
              "<br>    <style><br>        .wandb-row {<br>            display: flex;<br>            flex-direction: row;<br>            flex-wrap: wrap;<br>            justify-content: flex-start;<br>            width: 100%;<br>        }<br>        .wandb-col {<br>            display: flex;<br>            flex-direction: column;<br>            flex-basis: 100%;<br>            flex: 1;<br>            padding: 10px;<br>        }<br>    </style><br><div class=\"wandb-row\"><div class=\"wandb-col\"><h3>Run history:</h3><br/><table class=\"wandb\"><tr><td>loss_seg</td><td>█▄▃▂▂▂▂▁▁▁▁▁▁▁▁▁▁▁▁▁</td></tr><tr><td>loss_val</td><td>█▃▁▂▁▃▃▂▅▅▃▄▅▄▆▄▅▅▆█</td></tr><tr><td>mIoU</td><td>▁▃▄▅▆▅▆▇▇▇▇▇█▇█▇████</td></tr><tr><td>miou agricolture</td><td>▄▆▆▇▇▆▇█▇▇▇▅▆▆▅▆▆▅▃▁</td></tr><tr><td>miou background</td><td>▁▁▂▃▃▃▅▄▆▆▅▆▇▆▇▆▇▆▇█</td></tr><tr><td>miou barren</td><td>▁▃▄▃▅▃▆▅▆▅▄▇▇▅▄▆▅▆█▇</td></tr><tr><td>miou building</td><td>▁▆▆▇█▆▇█▅▆▇▅▅▆▆▅▆▆▄▂</td></tr><tr><td>miou forest</td><td>▁▂▂▃▃▃▄▃▅▅▄▄▆▄▆▅▇▆▆█</td></tr><tr><td>miou road</td><td>▁▅▇▇█▇▇▇▆██▇▅█▇▆███▇</td></tr><tr><td>miou water</td><td>▁▂▄▃▄▂▃▆▄▃▅▅▆▅█▄▅▇▅█</td></tr></table><br/></div><div class=\"wandb-col\"><h3>Run summary:</h3><br/><table class=\"wandb\"><tr><td>loss_seg</td><td>0.502</td></tr><tr><td>loss_val</td><td>0.39334</td></tr><tr><td>mIoU</td><td>0.25968</td></tr><tr><td>miou agricolture</td><td>0.23121</td></tr><tr><td>miou background</td><td>0.37992</td></tr><tr><td>miou barren</td><td>0.13545</td></tr><tr><td>miou building</td><td>0.15712</td></tr><tr><td>miou forest</td><td>0.1243</td></tr><tr><td>miou road</td><td>0.27272</td></tr><tr><td>miou water</td><td>0.51705</td></tr></table><br/></div></div>"
            ]
          },
          "metadata": {}
        },
        {
          "output_type": "display_data",
          "data": {
            "text/plain": [
              "<IPython.core.display.HTML object>"
            ],
            "text/html": [
              " View run <strong style=\"color:#cdcd00\">dulcet-sweep-11</strong> at: <a href='https://wandb.ai/vitosilver1999-politecnico-di-torino/AML_4B_upt/runs/cunhzp27' target=\"_blank\">https://wandb.ai/vitosilver1999-politecnico-di-torino/AML_4B_upt/runs/cunhzp27</a><br> View project at: <a href='https://wandb.ai/vitosilver1999-politecnico-di-torino/AML_4B_upt' target=\"_blank\">https://wandb.ai/vitosilver1999-politecnico-di-torino/AML_4B_upt</a><br>Synced 5 W&B file(s), 0 media file(s), 0 artifact file(s) and 0 other file(s)"
            ]
          },
          "metadata": {}
        },
        {
          "output_type": "display_data",
          "data": {
            "text/plain": [
              "<IPython.core.display.HTML object>"
            ],
            "text/html": [
              "Find logs at: <code>./wandb/run-20250517_142324-cunhzp27/logs</code>"
            ]
          },
          "metadata": {}
        },
        {
          "output_type": "stream",
          "name": "stderr",
          "text": [
            "\u001b[34m\u001b[1mwandb\u001b[0m: Agent Starting Run: fdynct8w with config:\n",
            "\u001b[34m\u001b[1mwandb\u001b[0m: \tALPHA_TEACHER: 0.99\n",
            "\u001b[34m\u001b[1mwandb\u001b[0m: \tLOSS_TYPE: ce\n",
            "\u001b[34m\u001b[1mwandb\u001b[0m: \tLR: 0.000250377567378591\n",
            "\u001b[34m\u001b[1mwandb\u001b[0m: \tMOMENTUM: 0.8\n",
            "\u001b[34m\u001b[1mwandb\u001b[0m: \tPIXEL_WEIGHT: threshold_uniform\n",
            "\u001b[34m\u001b[1mwandb\u001b[0m: \tTHRESHOLD: 0.9\n",
            "\u001b[34m\u001b[1mwandb\u001b[0m: \tTYPE_WEIGHT: inverse\n"
          ]
        },
        {
          "output_type": "display_data",
          "data": {
            "text/plain": [
              "<IPython.core.display.HTML object>"
            ],
            "text/html": [
              "Tracking run with wandb version 0.19.11"
            ]
          },
          "metadata": {}
        },
        {
          "output_type": "display_data",
          "data": {
            "text/plain": [
              "<IPython.core.display.HTML object>"
            ],
            "text/html": [
              "Run data is saved locally in <code>/content/wandb/run-20250517_144443-fdynct8w</code>"
            ]
          },
          "metadata": {}
        },
        {
          "output_type": "display_data",
          "data": {
            "text/plain": [
              "<IPython.core.display.HTML object>"
            ],
            "text/html": [
              "Syncing run <strong><a href='https://wandb.ai/vitosilver1999-politecnico-di-torino/AML_4B_upt/runs/fdynct8w' target=\"_blank\">exalted-sweep-12</a></strong> to <a href='https://wandb.ai/vitosilver1999-politecnico-di-torino/AML_4B_upt' target=\"_blank\">Weights & Biases</a> (<a href='https://wandb.me/developer-guide' target=\"_blank\">docs</a>)<br>Sweep page: <a href='https://wandb.ai/vitosilver1999-politecnico-di-torino/AML_4B_upt/sweeps/5sprm999' target=\"_blank\">https://wandb.ai/vitosilver1999-politecnico-di-torino/AML_4B_upt/sweeps/5sprm999</a>"
            ]
          },
          "metadata": {}
        },
        {
          "output_type": "display_data",
          "data": {
            "text/plain": [
              "<IPython.core.display.HTML object>"
            ],
            "text/html": [
              " View project at <a href='https://wandb.ai/vitosilver1999-politecnico-di-torino/AML_4B_upt' target=\"_blank\">https://wandb.ai/vitosilver1999-politecnico-di-torino/AML_4B_upt</a>"
            ]
          },
          "metadata": {}
        },
        {
          "output_type": "display_data",
          "data": {
            "text/plain": [
              "<IPython.core.display.HTML object>"
            ],
            "text/html": [
              " View sweep at <a href='https://wandb.ai/vitosilver1999-politecnico-di-torino/AML_4B_upt/sweeps/5sprm999' target=\"_blank\">https://wandb.ai/vitosilver1999-politecnico-di-torino/AML_4B_upt/sweeps/5sprm999</a>"
            ]
          },
          "metadata": {}
        },
        {
          "output_type": "display_data",
          "data": {
            "text/plain": [
              "<IPython.core.display.HTML object>"
            ],
            "text/html": [
              " View run at <a href='https://wandb.ai/vitosilver1999-politecnico-di-torino/AML_4B_upt/runs/fdynct8w' target=\"_blank\">https://wandb.ai/vitosilver1999-politecnico-di-torino/AML_4B_upt/runs/fdynct8w</a>"
            ]
          },
          "metadata": {}
        },
        {
          "output_type": "stream",
          "name": "stderr",
          "text": [
            "100%|██████████| 73/73 [01:02<00:00,  1.18it/s]\n"
          ]
        },
        {
          "output_type": "stream",
          "name": "stdout",
          "text": [
            "[0.000250377567378591]\n"
          ]
        },
        {
          "output_type": "stream",
          "name": "stderr",
          "text": [
            "Epoch 1 [Training]: 100%|██████████| 73/73 [00:45<00:00,  1.60it/s, Loss_seg=28.2600]\n",
            "Epoch 1 [Validation]: 100%|██████████| 62/62 [00:14<00:00,  4.35it/s, Val_Loss=7.3841, mIoU=0.1367]"
          ]
        },
        {
          "output_type": "stream",
          "name": "stdout",
          "text": [
            "[0.000250377567378591]\n"
          ]
        },
        {
          "output_type": "stream",
          "name": "stderr",
          "text": [
            "\n",
            "Epoch 2 [Training]: 100%|██████████| 73/73 [00:45<00:00,  1.59it/s, Loss_seg=19.2658]\n",
            "Epoch 2 [Validation]: 100%|██████████| 62/62 [00:14<00:00,  4.36it/s, Val_Loss=6.4313, mIoU=0.1716]"
          ]
        },
        {
          "output_type": "stream",
          "name": "stdout",
          "text": [
            "[0.000250377567378591]\n"
          ]
        },
        {
          "output_type": "stream",
          "name": "stderr",
          "text": [
            "\n",
            "Epoch 3 [Training]: 100%|██████████| 73/73 [00:46<00:00,  1.58it/s, Loss_seg=15.5584]\n",
            "Epoch 3 [Validation]: 100%|██████████| 62/62 [00:14<00:00,  4.36it/s, Val_Loss=6.0965, mIoU=0.1806]"
          ]
        },
        {
          "output_type": "stream",
          "name": "stdout",
          "text": [
            "[0.000250377567378591]\n"
          ]
        },
        {
          "output_type": "stream",
          "name": "stderr",
          "text": [
            "\n",
            "Epoch 4 [Training]: 100%|██████████| 73/73 [00:45<00:00,  1.59it/s, Loss_seg=13.7014]\n",
            "Epoch 4 [Validation]: 100%|██████████| 62/62 [00:14<00:00,  4.30it/s, Val_Loss=5.3046, mIoU=0.1894]"
          ]
        },
        {
          "output_type": "stream",
          "name": "stdout",
          "text": [
            "[0.000250377567378591]\n"
          ]
        },
        {
          "output_type": "stream",
          "name": "stderr",
          "text": [
            "\n",
            "Epoch 5 [Training]: 100%|██████████| 73/73 [00:45<00:00,  1.60it/s, Loss_seg=12.3123]\n",
            "Epoch 5 [Validation]: 100%|██████████| 62/62 [00:14<00:00,  4.35it/s, Val_Loss=5.3439, mIoU=0.2080]"
          ]
        },
        {
          "output_type": "stream",
          "name": "stdout",
          "text": [
            "[0.000250377567378591]\n"
          ]
        },
        {
          "output_type": "stream",
          "name": "stderr",
          "text": [
            "\n",
            "Epoch 6 [Training]: 100%|██████████| 73/73 [00:45<00:00,  1.60it/s, Loss_seg=11.5048]\n",
            "Epoch 6 [Validation]: 100%|██████████| 62/62 [00:14<00:00,  4.32it/s, Val_Loss=5.4546, mIoU=0.2020]"
          ]
        },
        {
          "output_type": "stream",
          "name": "stdout",
          "text": [
            "[0.000250377567378591]\n"
          ]
        },
        {
          "output_type": "stream",
          "name": "stderr",
          "text": [
            "\n",
            "Epoch 7 [Training]: 100%|██████████| 73/73 [00:46<00:00,  1.57it/s, Loss_seg=10.9419]\n",
            "Epoch 7 [Validation]: 100%|██████████| 62/62 [00:14<00:00,  4.34it/s, Val_Loss=5.1891, mIoU=0.2080]"
          ]
        },
        {
          "output_type": "stream",
          "name": "stdout",
          "text": [
            "[0.000250377567378591]\n"
          ]
        },
        {
          "output_type": "stream",
          "name": "stderr",
          "text": [
            "\n",
            "Epoch 8 [Training]: 100%|██████████| 73/73 [00:46<00:00,  1.59it/s, Loss_seg=10.3834]\n",
            "Epoch 8 [Validation]: 100%|██████████| 62/62 [00:14<00:00,  4.33it/s, Val_Loss=5.3292, mIoU=0.2140]"
          ]
        },
        {
          "output_type": "stream",
          "name": "stdout",
          "text": [
            "[0.000250377567378591]\n"
          ]
        },
        {
          "output_type": "stream",
          "name": "stderr",
          "text": [
            "\n",
            "Epoch 9 [Training]: 100%|██████████| 73/73 [00:46<00:00,  1.58it/s, Loss_seg=10.0739]\n",
            "Epoch 9 [Validation]: 100%|██████████| 62/62 [00:14<00:00,  4.34it/s, Val_Loss=5.6629, mIoU=0.2099]"
          ]
        },
        {
          "output_type": "stream",
          "name": "stdout",
          "text": [
            "[0.000250377567378591]\n"
          ]
        },
        {
          "output_type": "stream",
          "name": "stderr",
          "text": [
            "\n",
            "Epoch 10 [Training]: 100%|██████████| 73/73 [00:46<00:00,  1.58it/s, Loss_seg=9.9065]\n",
            "Epoch 10 [Validation]: 100%|██████████| 62/62 [00:14<00:00,  4.34it/s, Val_Loss=5.3463, mIoU=0.2149]"
          ]
        },
        {
          "output_type": "stream",
          "name": "stdout",
          "text": [
            "[0.000250377567378591]\n"
          ]
        },
        {
          "output_type": "stream",
          "name": "stderr",
          "text": [
            "\n",
            "Epoch 11 [Training]: 100%|██████████| 73/73 [00:46<00:00,  1.58it/s, Loss_seg=9.6094]\n",
            "Epoch 11 [Validation]: 100%|██████████| 62/62 [00:14<00:00,  4.34it/s, Val_Loss=5.3732, mIoU=0.2132]"
          ]
        },
        {
          "output_type": "stream",
          "name": "stdout",
          "text": [
            "[0.000250377567378591]\n"
          ]
        },
        {
          "output_type": "stream",
          "name": "stderr",
          "text": [
            "\n",
            "Epoch 12 [Training]: 100%|██████████| 73/73 [00:46<00:00,  1.59it/s, Loss_seg=9.4700]\n",
            "Epoch 12 [Validation]: 100%|██████████| 62/62 [00:14<00:00,  4.36it/s, Val_Loss=5.6010, mIoU=0.2231]"
          ]
        },
        {
          "output_type": "stream",
          "name": "stdout",
          "text": [
            "[0.000250377567378591]\n"
          ]
        },
        {
          "output_type": "stream",
          "name": "stderr",
          "text": [
            "\n",
            "Epoch 13 [Training]: 100%|██████████| 73/73 [00:45<00:00,  1.60it/s, Loss_seg=9.3071]\n",
            "Epoch 13 [Validation]: 100%|██████████| 62/62 [00:14<00:00,  4.37it/s, Val_Loss=5.6055, mIoU=0.2261]"
          ]
        },
        {
          "output_type": "stream",
          "name": "stdout",
          "text": [
            "[0.000250377567378591]\n"
          ]
        },
        {
          "output_type": "stream",
          "name": "stderr",
          "text": [
            "\n",
            "Epoch 14 [Training]: 100%|██████████| 73/73 [00:45<00:00,  1.59it/s, Loss_seg=9.2662]\n",
            "Epoch 14 [Validation]: 100%|██████████| 62/62 [00:14<00:00,  4.35it/s, Val_Loss=6.0848, mIoU=0.2297]"
          ]
        },
        {
          "output_type": "stream",
          "name": "stdout",
          "text": [
            "[0.000250377567378591]\n"
          ]
        },
        {
          "output_type": "stream",
          "name": "stderr",
          "text": [
            "\n",
            "Epoch 15 [Training]: 100%|██████████| 73/73 [00:45<00:00,  1.60it/s, Loss_seg=9.0676]\n",
            "Epoch 15 [Validation]: 100%|██████████| 62/62 [00:14<00:00,  4.34it/s, Val_Loss=5.4269, mIoU=0.2162]"
          ]
        },
        {
          "output_type": "stream",
          "name": "stdout",
          "text": [
            "[0.000250377567378591]\n"
          ]
        },
        {
          "output_type": "stream",
          "name": "stderr",
          "text": [
            "\n",
            "Epoch 16 [Training]: 100%|██████████| 73/73 [00:45<00:00,  1.59it/s, Loss_seg=8.9642]\n",
            "Epoch 16 [Validation]: 100%|██████████| 62/62 [00:14<00:00,  4.35it/s, Val_Loss=5.7441, mIoU=0.2394]"
          ]
        },
        {
          "output_type": "stream",
          "name": "stdout",
          "text": [
            "[0.000250377567378591]\n"
          ]
        },
        {
          "output_type": "stream",
          "name": "stderr",
          "text": [
            "\n",
            "Epoch 17 [Training]: 100%|██████████| 73/73 [00:45<00:00,  1.60it/s, Loss_seg=8.8671]\n",
            "Epoch 17 [Validation]: 100%|██████████| 62/62 [00:14<00:00,  4.36it/s, Val_Loss=5.3773, mIoU=0.2345]"
          ]
        },
        {
          "output_type": "stream",
          "name": "stdout",
          "text": [
            "[0.000250377567378591]\n"
          ]
        },
        {
          "output_type": "stream",
          "name": "stderr",
          "text": [
            "\n",
            "Epoch 18 [Training]: 100%|██████████| 73/73 [00:45<00:00,  1.60it/s, Loss_seg=8.8313]\n",
            "Epoch 18 [Validation]: 100%|██████████| 62/62 [00:14<00:00,  4.35it/s, Val_Loss=5.8372, mIoU=0.2417]"
          ]
        },
        {
          "output_type": "stream",
          "name": "stdout",
          "text": [
            "[0.000250377567378591]\n"
          ]
        },
        {
          "output_type": "stream",
          "name": "stderr",
          "text": [
            "\n",
            "Epoch 19 [Training]: 100%|██████████| 73/73 [00:45<00:00,  1.59it/s, Loss_seg=8.6671]\n",
            "Epoch 19 [Validation]: 100%|██████████| 62/62 [00:14<00:00,  4.34it/s, Val_Loss=5.9806, mIoU=0.2235]"
          ]
        },
        {
          "output_type": "stream",
          "name": "stdout",
          "text": [
            "[0.000250377567378591]\n"
          ]
        },
        {
          "output_type": "stream",
          "name": "stderr",
          "text": [
            "\n",
            "Epoch 20 [Training]: 100%|██████████| 73/73 [00:45<00:00,  1.60it/s, Loss_seg=8.5886]\n",
            "Epoch 20 [Validation]: 100%|██████████| 62/62 [00:14<00:00,  4.36it/s, Val_Loss=5.7128, mIoU=0.2350]\n"
          ]
        },
        {
          "output_type": "display_data",
          "data": {
            "text/plain": [
              "<IPython.core.display.HTML object>"
            ],
            "text/html": []
          },
          "metadata": {}
        },
        {
          "output_type": "display_data",
          "data": {
            "text/plain": [
              "<IPython.core.display.HTML object>"
            ],
            "text/html": [
              "<br>    <style><br>        .wandb-row {<br>            display: flex;<br>            flex-direction: row;<br>            flex-wrap: wrap;<br>            justify-content: flex-start;<br>            width: 100%;<br>        }<br>        .wandb-col {<br>            display: flex;<br>            flex-direction: column;<br>            flex-basis: 100%;<br>            flex: 1;<br>            padding: 10px;<br>        }<br>    </style><br><div class=\"wandb-row\"><div class=\"wandb-col\"><h3>Run history:</h3><br/><table class=\"wandb\"><tr><td>loss_seg</td><td>█▅▃▃▂▂▂▂▂▁▁▁▁▁▁▁▁▁▁▁</td></tr><tr><td>loss_val</td><td>█▅▄▁▁▂▁▁▃▂▂▂▂▄▂▃▂▃▄▃</td></tr><tr><td>mIoU</td><td>▁▃▄▅▆▅▆▆▆▆▆▇▇▇▆███▇█</td></tr><tr><td>miou agricolture</td><td>▄▅▄▅▆▆▅▇▆▆▄▅▆▄▅▇█▅▁▃</td></tr><tr><td>miou background</td><td>▂▁▂▂▃▂▂▃▃▂▃▄▄█▄▇▄█▆▇</td></tr><tr><td>miou barren</td><td>▁▁▃▃▃▄▅▄▆▆▅▆▅▅▅▄▆▆▅█</td></tr><tr><td>miou building</td><td>▁▂▃▃▅▆▅▅▆▆▅▆▇▅▆▆█▆▆▅</td></tr><tr><td>miou forest</td><td>▇█▇▃▁▂▂▂▃▂▁▂▁▃▁▃▂▂▁▁</td></tr><tr><td>miou road</td><td>▁▃▄▅▆▇▇█▆█▇▇▆▆▇██▆▆▆</td></tr><tr><td>miou water</td><td>▁▅▅▅▇▆▆▇▆▆▇▇█▇▆▇▆▇▇▇</td></tr></table><br/></div><div class=\"wandb-col\"><h3>Run summary:</h3><br/><table class=\"wandb\"><tr><td>loss_seg</td><td>0.53679</td></tr><tr><td>loss_val</td><td>0.35705</td></tr><tr><td>mIoU</td><td>0.23503</td></tr><tr><td>miou agricolture</td><td>0.3273</td></tr><tr><td>miou background</td><td>0.23815</td></tr><tr><td>miou barren</td><td>0.12566</td></tr><tr><td>miou building</td><td>0.2279</td></tr><tr><td>miou forest</td><td>0.0268</td></tr><tr><td>miou road</td><td>0.26919</td></tr><tr><td>miou water</td><td>0.43019</td></tr></table><br/></div></div>"
            ]
          },
          "metadata": {}
        },
        {
          "output_type": "display_data",
          "data": {
            "text/plain": [
              "<IPython.core.display.HTML object>"
            ],
            "text/html": [
              " View run <strong style=\"color:#cdcd00\">exalted-sweep-12</strong> at: <a href='https://wandb.ai/vitosilver1999-politecnico-di-torino/AML_4B_upt/runs/fdynct8w' target=\"_blank\">https://wandb.ai/vitosilver1999-politecnico-di-torino/AML_4B_upt/runs/fdynct8w</a><br> View project at: <a href='https://wandb.ai/vitosilver1999-politecnico-di-torino/AML_4B_upt' target=\"_blank\">https://wandb.ai/vitosilver1999-politecnico-di-torino/AML_4B_upt</a><br>Synced 5 W&B file(s), 0 media file(s), 0 artifact file(s) and 0 other file(s)"
            ]
          },
          "metadata": {}
        },
        {
          "output_type": "display_data",
          "data": {
            "text/plain": [
              "<IPython.core.display.HTML object>"
            ],
            "text/html": [
              "Find logs at: <code>./wandb/run-20250517_144443-fdynct8w/logs</code>"
            ]
          },
          "metadata": {}
        },
        {
          "output_type": "stream",
          "name": "stderr",
          "text": [
            "\u001b[34m\u001b[1mwandb\u001b[0m: Agent Starting Run: xbcef69w with config:\n",
            "\u001b[34m\u001b[1mwandb\u001b[0m: \tALPHA_TEACHER: 0.99\n",
            "\u001b[34m\u001b[1mwandb\u001b[0m: \tLOSS_TYPE: ohem\n",
            "\u001b[34m\u001b[1mwandb\u001b[0m: \tLR: 0.00026529225786456524\n",
            "\u001b[34m\u001b[1mwandb\u001b[0m: \tMOMENTUM: 0.85\n",
            "\u001b[34m\u001b[1mwandb\u001b[0m: \tPIXEL_WEIGHT: threshold_uniform\n",
            "\u001b[34m\u001b[1mwandb\u001b[0m: \tTHRESHOLD: 0.85\n",
            "\u001b[34m\u001b[1mwandb\u001b[0m: \tTYPE_WEIGHT: log\n"
          ]
        },
        {
          "output_type": "display_data",
          "data": {
            "text/plain": [
              "<IPython.core.display.HTML object>"
            ],
            "text/html": [
              "Tracking run with wandb version 0.19.11"
            ]
          },
          "metadata": {}
        },
        {
          "output_type": "display_data",
          "data": {
            "text/plain": [
              "<IPython.core.display.HTML object>"
            ],
            "text/html": [
              "Run data is saved locally in <code>/content/wandb/run-20250517_150606-xbcef69w</code>"
            ]
          },
          "metadata": {}
        },
        {
          "output_type": "display_data",
          "data": {
            "text/plain": [
              "<IPython.core.display.HTML object>"
            ],
            "text/html": [
              "Syncing run <strong><a href='https://wandb.ai/vitosilver1999-politecnico-di-torino/AML_4B_upt/runs/xbcef69w' target=\"_blank\">leafy-sweep-13</a></strong> to <a href='https://wandb.ai/vitosilver1999-politecnico-di-torino/AML_4B_upt' target=\"_blank\">Weights & Biases</a> (<a href='https://wandb.me/developer-guide' target=\"_blank\">docs</a>)<br>Sweep page: <a href='https://wandb.ai/vitosilver1999-politecnico-di-torino/AML_4B_upt/sweeps/5sprm999' target=\"_blank\">https://wandb.ai/vitosilver1999-politecnico-di-torino/AML_4B_upt/sweeps/5sprm999</a>"
            ]
          },
          "metadata": {}
        },
        {
          "output_type": "display_data",
          "data": {
            "text/plain": [
              "<IPython.core.display.HTML object>"
            ],
            "text/html": [
              " View project at <a href='https://wandb.ai/vitosilver1999-politecnico-di-torino/AML_4B_upt' target=\"_blank\">https://wandb.ai/vitosilver1999-politecnico-di-torino/AML_4B_upt</a>"
            ]
          },
          "metadata": {}
        },
        {
          "output_type": "display_data",
          "data": {
            "text/plain": [
              "<IPython.core.display.HTML object>"
            ],
            "text/html": [
              " View sweep at <a href='https://wandb.ai/vitosilver1999-politecnico-di-torino/AML_4B_upt/sweeps/5sprm999' target=\"_blank\">https://wandb.ai/vitosilver1999-politecnico-di-torino/AML_4B_upt/sweeps/5sprm999</a>"
            ]
          },
          "metadata": {}
        },
        {
          "output_type": "display_data",
          "data": {
            "text/plain": [
              "<IPython.core.display.HTML object>"
            ],
            "text/html": [
              " View run at <a href='https://wandb.ai/vitosilver1999-politecnico-di-torino/AML_4B_upt/runs/xbcef69w' target=\"_blank\">https://wandb.ai/vitosilver1999-politecnico-di-torino/AML_4B_upt/runs/xbcef69w</a>"
            ]
          },
          "metadata": {}
        },
        {
          "output_type": "stream",
          "name": "stderr",
          "text": [
            "100%|██████████| 73/73 [01:01<00:00,  1.18it/s]\n"
          ]
        },
        {
          "output_type": "stream",
          "name": "stdout",
          "text": [
            "[0.00026529225786456524]\n"
          ]
        },
        {
          "output_type": "stream",
          "name": "stderr",
          "text": [
            "Epoch 1 [Training]: 100%|██████████| 73/73 [00:47<00:00,  1.52it/s, Loss_seg=48.6895]\n",
            "Epoch 1 [Validation]: 100%|██████████| 62/62 [00:14<00:00,  4.34it/s, Val_Loss=66.5613, mIoU=0.1767]"
          ]
        },
        {
          "output_type": "stream",
          "name": "stdout",
          "text": [
            "[0.00026529225786456524]\n"
          ]
        },
        {
          "output_type": "stream",
          "name": "stderr",
          "text": [
            "\n",
            "Epoch 2 [Training]: 100%|██████████| 73/73 [00:47<00:00,  1.53it/s, Loss_seg=26.7026]\n",
            "Epoch 2 [Validation]: 100%|██████████| 62/62 [00:14<00:00,  4.32it/s, Val_Loss=59.2688, mIoU=0.2109]"
          ]
        },
        {
          "output_type": "stream",
          "name": "stdout",
          "text": [
            "[0.00026529225786456524]\n"
          ]
        },
        {
          "output_type": "stream",
          "name": "stderr",
          "text": [
            "\n",
            "Epoch 3 [Training]: 100%|██████████| 73/73 [00:47<00:00,  1.53it/s, Loss_seg=22.8546]\n",
            "Epoch 3 [Validation]: 100%|██████████| 62/62 [00:14<00:00,  4.32it/s, Val_Loss=67.9190, mIoU=0.2373]"
          ]
        },
        {
          "output_type": "stream",
          "name": "stdout",
          "text": [
            "[0.00026529225786456524]\n"
          ]
        },
        {
          "output_type": "stream",
          "name": "stderr",
          "text": [
            "\n",
            "Epoch 4 [Training]: 100%|██████████| 73/73 [00:47<00:00,  1.54it/s, Loss_seg=20.3860]\n",
            "Epoch 4 [Validation]: 100%|██████████| 62/62 [00:14<00:00,  4.36it/s, Val_Loss=69.5078, mIoU=0.2480]"
          ]
        },
        {
          "output_type": "stream",
          "name": "stdout",
          "text": [
            "[0.00026529225786456524]\n"
          ]
        },
        {
          "output_type": "stream",
          "name": "stderr",
          "text": [
            "\n",
            "Epoch 5 [Training]: 100%|██████████| 73/73 [00:48<00:00,  1.52it/s, Loss_seg=19.3188]\n",
            "Epoch 5 [Validation]: 100%|██████████| 62/62 [00:14<00:00,  4.36it/s, Val_Loss=68.8127, mIoU=0.2542]"
          ]
        },
        {
          "output_type": "stream",
          "name": "stdout",
          "text": [
            "[0.00026529225786456524]\n"
          ]
        },
        {
          "output_type": "stream",
          "name": "stderr",
          "text": [
            "\n",
            "Epoch 6 [Training]: 100%|██████████| 73/73 [00:47<00:00,  1.53it/s, Loss_seg=18.4674]\n",
            "Epoch 6 [Validation]: 100%|██████████| 62/62 [00:14<00:00,  4.31it/s, Val_Loss=70.6059, mIoU=0.2461]"
          ]
        },
        {
          "output_type": "stream",
          "name": "stdout",
          "text": [
            "[0.00026529225786456524]\n"
          ]
        },
        {
          "output_type": "stream",
          "name": "stderr",
          "text": [
            "\n",
            "Epoch 7 [Training]: 100%|██████████| 73/73 [00:47<00:00,  1.52it/s, Loss_seg=18.0034]\n",
            "Epoch 7 [Validation]: 100%|██████████| 62/62 [00:14<00:00,  4.30it/s, Val_Loss=67.2229, mIoU=0.2470]"
          ]
        },
        {
          "output_type": "stream",
          "name": "stdout",
          "text": [
            "[0.00026529225786456524]\n"
          ]
        },
        {
          "output_type": "stream",
          "name": "stderr",
          "text": [
            "\n",
            "Epoch 8 [Training]: 100%|██████████| 73/73 [00:47<00:00,  1.54it/s, Loss_seg=17.4257]\n",
            "Epoch 8 [Validation]: 100%|██████████| 62/62 [00:14<00:00,  4.34it/s, Val_Loss=67.8824, mIoU=0.2708]"
          ]
        },
        {
          "output_type": "stream",
          "name": "stdout",
          "text": [
            "[0.00026529225786456524]\n"
          ]
        },
        {
          "output_type": "stream",
          "name": "stderr",
          "text": [
            "\n",
            "Epoch 9 [Training]: 100%|██████████| 73/73 [00:47<00:00,  1.53it/s, Loss_seg=16.9233]\n",
            "Epoch 9 [Validation]: 100%|██████████| 62/62 [00:14<00:00,  4.33it/s, Val_Loss=71.8788, mIoU=0.2608]"
          ]
        },
        {
          "output_type": "stream",
          "name": "stdout",
          "text": [
            "[0.00026529225786456524]\n"
          ]
        },
        {
          "output_type": "stream",
          "name": "stderr",
          "text": [
            "\n",
            "Epoch 10 [Training]: 100%|██████████| 73/73 [00:47<00:00,  1.53it/s, Loss_seg=16.6708]\n",
            "Epoch 10 [Validation]: 100%|██████████| 62/62 [00:14<00:00,  4.32it/s, Val_Loss=74.0728, mIoU=0.2492]"
          ]
        },
        {
          "output_type": "stream",
          "name": "stdout",
          "text": [
            "[0.00026529225786456524]\n"
          ]
        },
        {
          "output_type": "stream",
          "name": "stderr",
          "text": [
            "\n",
            "Epoch 11 [Training]: 100%|██████████| 73/73 [00:47<00:00,  1.54it/s, Loss_seg=16.5140]\n",
            "Epoch 11 [Validation]: 100%|██████████| 62/62 [00:14<00:00,  4.34it/s, Val_Loss=70.7837, mIoU=0.2703]"
          ]
        },
        {
          "output_type": "stream",
          "name": "stdout",
          "text": [
            "[0.00026529225786456524]\n"
          ]
        },
        {
          "output_type": "stream",
          "name": "stderr",
          "text": [
            "\n",
            "Epoch 12 [Training]: 100%|██████████| 73/73 [00:47<00:00,  1.54it/s, Loss_seg=16.0931]\n",
            "Epoch 12 [Validation]: 100%|██████████| 62/62 [00:14<00:00,  4.35it/s, Val_Loss=74.9008, mIoU=0.2378]"
          ]
        },
        {
          "output_type": "stream",
          "name": "stdout",
          "text": [
            "[0.00013264612893228262]\n"
          ]
        },
        {
          "output_type": "stream",
          "name": "stderr",
          "text": [
            "\n",
            "Epoch 13 [Training]: 100%|██████████| 73/73 [00:47<00:00,  1.53it/s, Loss_seg=16.1721]\n",
            "Epoch 13 [Validation]: 100%|██████████| 62/62 [00:14<00:00,  4.34it/s, Val_Loss=75.4054, mIoU=0.2496]"
          ]
        },
        {
          "output_type": "stream",
          "name": "stdout",
          "text": [
            "[0.00013264612893228262]\n"
          ]
        },
        {
          "output_type": "stream",
          "name": "stderr",
          "text": [
            "\n",
            "Epoch 14 [Training]: 100%|██████████| 73/73 [00:47<00:00,  1.53it/s, Loss_seg=15.5976]\n",
            "Epoch 14 [Validation]: 100%|██████████| 62/62 [00:14<00:00,  4.35it/s, Val_Loss=74.9280, mIoU=0.2481]"
          ]
        },
        {
          "output_type": "stream",
          "name": "stdout",
          "text": [
            "[0.00013264612893228262]\n"
          ]
        },
        {
          "output_type": "stream",
          "name": "stderr",
          "text": [
            "\n",
            "Epoch 15 [Training]: 100%|██████████| 73/73 [00:47<00:00,  1.55it/s, Loss_seg=15.5537]\n",
            "Epoch 15 [Validation]: 100%|██████████| 62/62 [00:14<00:00,  4.36it/s, Val_Loss=73.0723, mIoU=0.2524]"
          ]
        },
        {
          "output_type": "stream",
          "name": "stdout",
          "text": [
            "[0.00013264612893228262]\n"
          ]
        },
        {
          "output_type": "stream",
          "name": "stderr",
          "text": [
            "\n",
            "Epoch 16 [Training]: 100%|██████████| 73/73 [00:47<00:00,  1.54it/s, Loss_seg=15.4984]\n",
            "Epoch 16 [Validation]: 100%|██████████| 62/62 [00:14<00:00,  4.35it/s, Val_Loss=74.0918, mIoU=0.2449]"
          ]
        },
        {
          "output_type": "stream",
          "name": "stdout",
          "text": [
            "[6.632306446614131e-05]\n"
          ]
        },
        {
          "output_type": "stream",
          "name": "stderr",
          "text": [
            "\n",
            "Epoch 17 [Training]: 100%|██████████| 73/73 [00:47<00:00,  1.54it/s, Loss_seg=15.3875]\n",
            "Epoch 17 [Validation]: 100%|██████████| 62/62 [00:14<00:00,  4.30it/s, Val_Loss=82.0777, mIoU=0.2330]"
          ]
        },
        {
          "output_type": "stream",
          "name": "stdout",
          "text": [
            "[6.632306446614131e-05]\n"
          ]
        },
        {
          "output_type": "stream",
          "name": "stderr",
          "text": [
            "\n",
            "Epoch 18 [Training]: 100%|██████████| 73/73 [00:47<00:00,  1.53it/s, Loss_seg=15.2927]\n",
            "Epoch 18 [Validation]: 100%|██████████| 62/62 [00:14<00:00,  4.35it/s, Val_Loss=76.3709, mIoU=0.2455]"
          ]
        },
        {
          "output_type": "stream",
          "name": "stdout",
          "text": [
            "[6.632306446614131e-05]\n"
          ]
        },
        {
          "output_type": "stream",
          "name": "stderr",
          "text": [
            "\n",
            "Epoch 19 [Training]: 100%|██████████| 73/73 [00:47<00:00,  1.53it/s, Loss_seg=15.5282]\n",
            "Epoch 19 [Validation]: 100%|██████████| 62/62 [00:14<00:00,  4.35it/s, Val_Loss=73.9483, mIoU=0.2540]"
          ]
        },
        {
          "output_type": "stream",
          "name": "stdout",
          "text": [
            "[6.632306446614131e-05]\n"
          ]
        },
        {
          "output_type": "stream",
          "name": "stderr",
          "text": [
            "\n",
            "Epoch 20 [Training]: 100%|██████████| 73/73 [00:47<00:00,  1.52it/s, Loss_seg=15.3914]\n",
            "Epoch 20 [Validation]: 100%|██████████| 62/62 [00:14<00:00,  4.32it/s, Val_Loss=78.4334, mIoU=0.2309]\n"
          ]
        },
        {
          "output_type": "display_data",
          "data": {
            "text/plain": [
              "<IPython.core.display.HTML object>"
            ],
            "text/html": []
          },
          "metadata": {}
        },
        {
          "output_type": "display_data",
          "data": {
            "text/plain": [
              "<IPython.core.display.HTML object>"
            ],
            "text/html": [
              "<br>    <style><br>        .wandb-row {<br>            display: flex;<br>            flex-direction: row;<br>            flex-wrap: wrap;<br>            justify-content: flex-start;<br>            width: 100%;<br>        }<br>        .wandb-col {<br>            display: flex;<br>            flex-direction: column;<br>            flex-basis: 100%;<br>            flex: 1;<br>            padding: 10px;<br>        }<br>    </style><br><div class=\"wandb-row\"><div class=\"wandb-col\"><h3>Run history:</h3><br/><table class=\"wandb\"><tr><td>loss_seg</td><td>█▃▃▂▂▂▂▁▁▁▁▁▁▁▁▁▁▁▁▁</td></tr><tr><td>loss_val</td><td>▃▁▄▄▄▄▃▄▅▆▅▆▆▆▅▆█▆▆▇</td></tr><tr><td>mIoU</td><td>▁▄▆▆▇▆▆█▇▆█▆▆▆▇▆▅▆▇▅</td></tr><tr><td>miou agricolture</td><td>▃█▅▆▆▅▄▆▅▃▄▂▂▃▃▅▁▂▄▂</td></tr><tr><td>miou background</td><td>▁▂▇▆▇▇▆█▇▇█▆▆▆▆▆▅▇▆▆</td></tr><tr><td>miou barren</td><td>▃▁▅▄▅▇▃▄▅▅█▅▆▆▆▄▅▄▅▃</td></tr><tr><td>miou building</td><td>▁▄▃▅▅▄▅▇▇▇▇▆█▇▇█▆▇█▆</td></tr><tr><td>miou forest</td><td>▁▁▃▃▅▅▅▆█▆▇▆▇▅▇▆▅▇▅▅</td></tr><tr><td>miou road</td><td>▅█▇█▃▁▆▆▄▃▃▂▂▄▄▄▄▅▅▅</td></tr><tr><td>miou water</td><td>▁▂▃▄▇▆▇▆▇▆███▇▇▅▇▆▇▅</td></tr></table><br/></div><div class=\"wandb-col\"><h3>Run summary:</h3><br/><table class=\"wandb\"><tr><td>loss_seg</td><td>0.96196</td></tr><tr><td>loss_val</td><td>4.90209</td></tr><tr><td>mIoU</td><td>0.23089</td></tr><tr><td>miou agricolture</td><td>0.22464</td></tr><tr><td>miou background</td><td>0.32176</td></tr><tr><td>miou barren</td><td>0.07206</td></tr><tr><td>miou building</td><td>0.21417</td></tr><tr><td>miou forest</td><td>0.14418</td></tr><tr><td>miou road</td><td>0.2373</td></tr><tr><td>miou water</td><td>0.40214</td></tr></table><br/></div></div>"
            ]
          },
          "metadata": {}
        },
        {
          "output_type": "display_data",
          "data": {
            "text/plain": [
              "<IPython.core.display.HTML object>"
            ],
            "text/html": [
              " View run <strong style=\"color:#cdcd00\">leafy-sweep-13</strong> at: <a href='https://wandb.ai/vitosilver1999-politecnico-di-torino/AML_4B_upt/runs/xbcef69w' target=\"_blank\">https://wandb.ai/vitosilver1999-politecnico-di-torino/AML_4B_upt/runs/xbcef69w</a><br> View project at: <a href='https://wandb.ai/vitosilver1999-politecnico-di-torino/AML_4B_upt' target=\"_blank\">https://wandb.ai/vitosilver1999-politecnico-di-torino/AML_4B_upt</a><br>Synced 5 W&B file(s), 0 media file(s), 0 artifact file(s) and 0 other file(s)"
            ]
          },
          "metadata": {}
        },
        {
          "output_type": "display_data",
          "data": {
            "text/plain": [
              "<IPython.core.display.HTML object>"
            ],
            "text/html": [
              "Find logs at: <code>./wandb/run-20250517_150606-xbcef69w/logs</code>"
            ]
          },
          "metadata": {}
        },
        {
          "output_type": "stream",
          "name": "stderr",
          "text": [
            "\u001b[34m\u001b[1mwandb\u001b[0m: Agent Starting Run: trm3vd6n with config:\n",
            "\u001b[34m\u001b[1mwandb\u001b[0m: \tALPHA_TEACHER: 0.99\n",
            "\u001b[34m\u001b[1mwandb\u001b[0m: \tLOSS_TYPE: ce\n",
            "\u001b[34m\u001b[1mwandb\u001b[0m: \tLR: 0.0003502410977324913\n",
            "\u001b[34m\u001b[1mwandb\u001b[0m: \tMOMENTUM: 0.8\n",
            "\u001b[34m\u001b[1mwandb\u001b[0m: \tPIXEL_WEIGHT: threshold_uniform\n",
            "\u001b[34m\u001b[1mwandb\u001b[0m: \tTHRESHOLD: 0.85\n",
            "\u001b[34m\u001b[1mwandb\u001b[0m: \tTYPE_WEIGHT: inverse\n"
          ]
        },
        {
          "output_type": "display_data",
          "data": {
            "text/plain": [
              "<IPython.core.display.HTML object>"
            ],
            "text/html": [
              "Tracking run with wandb version 0.19.11"
            ]
          },
          "metadata": {}
        },
        {
          "output_type": "display_data",
          "data": {
            "text/plain": [
              "<IPython.core.display.HTML object>"
            ],
            "text/html": [
              "Run data is saved locally in <code>/content/wandb/run-20250517_152805-trm3vd6n</code>"
            ]
          },
          "metadata": {}
        },
        {
          "output_type": "display_data",
          "data": {
            "text/plain": [
              "<IPython.core.display.HTML object>"
            ],
            "text/html": [
              "Syncing run <strong><a href='https://wandb.ai/vitosilver1999-politecnico-di-torino/AML_4B_upt/runs/trm3vd6n' target=\"_blank\">bright-sweep-14</a></strong> to <a href='https://wandb.ai/vitosilver1999-politecnico-di-torino/AML_4B_upt' target=\"_blank\">Weights & Biases</a> (<a href='https://wandb.me/developer-guide' target=\"_blank\">docs</a>)<br>Sweep page: <a href='https://wandb.ai/vitosilver1999-politecnico-di-torino/AML_4B_upt/sweeps/5sprm999' target=\"_blank\">https://wandb.ai/vitosilver1999-politecnico-di-torino/AML_4B_upt/sweeps/5sprm999</a>"
            ]
          },
          "metadata": {}
        },
        {
          "output_type": "display_data",
          "data": {
            "text/plain": [
              "<IPython.core.display.HTML object>"
            ],
            "text/html": [
              " View project at <a href='https://wandb.ai/vitosilver1999-politecnico-di-torino/AML_4B_upt' target=\"_blank\">https://wandb.ai/vitosilver1999-politecnico-di-torino/AML_4B_upt</a>"
            ]
          },
          "metadata": {}
        },
        {
          "output_type": "display_data",
          "data": {
            "text/plain": [
              "<IPython.core.display.HTML object>"
            ],
            "text/html": [
              " View sweep at <a href='https://wandb.ai/vitosilver1999-politecnico-di-torino/AML_4B_upt/sweeps/5sprm999' target=\"_blank\">https://wandb.ai/vitosilver1999-politecnico-di-torino/AML_4B_upt/sweeps/5sprm999</a>"
            ]
          },
          "metadata": {}
        },
        {
          "output_type": "display_data",
          "data": {
            "text/plain": [
              "<IPython.core.display.HTML object>"
            ],
            "text/html": [
              " View run at <a href='https://wandb.ai/vitosilver1999-politecnico-di-torino/AML_4B_upt/runs/trm3vd6n' target=\"_blank\">https://wandb.ai/vitosilver1999-politecnico-di-torino/AML_4B_upt/runs/trm3vd6n</a>"
            ]
          },
          "metadata": {}
        },
        {
          "output_type": "stream",
          "name": "stderr",
          "text": [
            "100%|██████████| 73/73 [01:02<00:00,  1.17it/s]\n"
          ]
        },
        {
          "output_type": "stream",
          "name": "stdout",
          "text": [
            "[0.0003502410977324913]\n"
          ]
        },
        {
          "output_type": "stream",
          "name": "stderr",
          "text": [
            "Epoch 1 [Training]: 100%|██████████| 73/73 [00:45<00:00,  1.60it/s, Loss_seg=28.1395]\n",
            "Epoch 1 [Validation]: 100%|██████████| 62/62 [00:14<00:00,  4.34it/s, Val_Loss=7.2327, mIoU=0.1623]"
          ]
        },
        {
          "output_type": "stream",
          "name": "stdout",
          "text": [
            "[0.0003502410977324913]\n"
          ]
        },
        {
          "output_type": "stream",
          "name": "stderr",
          "text": [
            "\n",
            "Epoch 2 [Training]: 100%|██████████| 73/73 [00:45<00:00,  1.60it/s, Loss_seg=17.7708]\n",
            "Epoch 2 [Validation]: 100%|██████████| 62/62 [00:14<00:00,  4.33it/s, Val_Loss=6.4604, mIoU=0.1705]"
          ]
        },
        {
          "output_type": "stream",
          "name": "stdout",
          "text": [
            "[0.0003502410977324913]\n"
          ]
        },
        {
          "output_type": "stream",
          "name": "stderr",
          "text": [
            "\n",
            "Epoch 3 [Training]: 100%|██████████| 73/73 [00:45<00:00,  1.62it/s, Loss_seg=14.2609]\n",
            "Epoch 3 [Validation]: 100%|██████████| 62/62 [00:14<00:00,  4.33it/s, Val_Loss=5.6931, mIoU=0.1787]"
          ]
        },
        {
          "output_type": "stream",
          "name": "stdout",
          "text": [
            "[0.0003502410977324913]\n"
          ]
        },
        {
          "output_type": "stream",
          "name": "stderr",
          "text": [
            "\n",
            "Epoch 4 [Training]: 100%|██████████| 73/73 [00:45<00:00,  1.61it/s, Loss_seg=12.5545]\n",
            "Epoch 4 [Validation]: 100%|██████████| 62/62 [00:14<00:00,  4.35it/s, Val_Loss=5.4043, mIoU=0.1967]"
          ]
        },
        {
          "output_type": "stream",
          "name": "stdout",
          "text": [
            "[0.0003502410977324913]\n"
          ]
        },
        {
          "output_type": "stream",
          "name": "stderr",
          "text": [
            "\n",
            "Epoch 5 [Training]: 100%|██████████| 73/73 [00:45<00:00,  1.60it/s, Loss_seg=11.7343]\n",
            "Epoch 5 [Validation]: 100%|██████████| 62/62 [00:14<00:00,  4.34it/s, Val_Loss=5.3320, mIoU=0.2005]"
          ]
        },
        {
          "output_type": "stream",
          "name": "stdout",
          "text": [
            "[0.0003502410977324913]\n"
          ]
        },
        {
          "output_type": "stream",
          "name": "stderr",
          "text": [
            "\n",
            "Epoch 6 [Training]: 100%|██████████| 73/73 [00:45<00:00,  1.62it/s, Loss_seg=10.9814]\n",
            "Epoch 6 [Validation]: 100%|██████████| 62/62 [00:14<00:00,  4.32it/s, Val_Loss=5.3451, mIoU=0.2093]"
          ]
        },
        {
          "output_type": "stream",
          "name": "stdout",
          "text": [
            "[0.0003502410977324913]\n"
          ]
        },
        {
          "output_type": "stream",
          "name": "stderr",
          "text": [
            "\n",
            "Epoch 7 [Training]: 100%|██████████| 73/73 [00:45<00:00,  1.61it/s, Loss_seg=10.3984]\n",
            "Epoch 7 [Validation]: 100%|██████████| 62/62 [00:14<00:00,  4.35it/s, Val_Loss=5.2831, mIoU=0.2016]"
          ]
        },
        {
          "output_type": "stream",
          "name": "stdout",
          "text": [
            "[0.0003502410977324913]\n"
          ]
        },
        {
          "output_type": "stream",
          "name": "stderr",
          "text": [
            "\n",
            "Epoch 8 [Training]: 100%|██████████| 73/73 [00:45<00:00,  1.62it/s, Loss_seg=9.9070]\n",
            "Epoch 8 [Validation]: 100%|██████████| 62/62 [00:14<00:00,  4.34it/s, Val_Loss=5.5231, mIoU=0.2158]"
          ]
        },
        {
          "output_type": "stream",
          "name": "stdout",
          "text": [
            "[0.0003502410977324913]\n"
          ]
        },
        {
          "output_type": "stream",
          "name": "stderr",
          "text": [
            "\n",
            "Epoch 9 [Training]: 100%|██████████| 73/73 [00:45<00:00,  1.60it/s, Loss_seg=9.5696]\n",
            "Epoch 9 [Validation]: 100%|██████████| 62/62 [00:14<00:00,  4.35it/s, Val_Loss=5.0974, mIoU=0.2196]"
          ]
        },
        {
          "output_type": "stream",
          "name": "stdout",
          "text": [
            "[0.0003502410977324913]\n"
          ]
        },
        {
          "output_type": "stream",
          "name": "stderr",
          "text": [
            "\n",
            "Epoch 10 [Training]: 100%|██████████| 73/73 [00:45<00:00,  1.61it/s, Loss_seg=9.4608]\n",
            "Epoch 10 [Validation]: 100%|██████████| 62/62 [00:14<00:00,  4.34it/s, Val_Loss=5.2608, mIoU=0.2227]"
          ]
        },
        {
          "output_type": "stream",
          "name": "stdout",
          "text": [
            "[0.0003502410977324913]\n"
          ]
        },
        {
          "output_type": "stream",
          "name": "stderr",
          "text": [
            "\n",
            "Epoch 11 [Training]: 100%|██████████| 73/73 [00:45<00:00,  1.62it/s, Loss_seg=9.1417]\n",
            "Epoch 11 [Validation]: 100%|██████████| 62/62 [00:14<00:00,  4.33it/s, Val_Loss=5.4137, mIoU=0.2218]"
          ]
        },
        {
          "output_type": "stream",
          "name": "stdout",
          "text": [
            "[0.0003502410977324913]\n"
          ]
        },
        {
          "output_type": "stream",
          "name": "stderr",
          "text": [
            "\n",
            "Epoch 12 [Training]: 100%|██████████| 73/73 [00:45<00:00,  1.61it/s, Loss_seg=9.1163]\n",
            "Epoch 12 [Validation]: 100%|██████████| 62/62 [00:14<00:00,  4.35it/s, Val_Loss=5.7249, mIoU=0.2295]"
          ]
        },
        {
          "output_type": "stream",
          "name": "stdout",
          "text": [
            "[0.0003502410977324913]\n"
          ]
        },
        {
          "output_type": "stream",
          "name": "stderr",
          "text": [
            "\n",
            "Epoch 13 [Training]: 100%|██████████| 73/73 [00:45<00:00,  1.62it/s, Loss_seg=9.1393]\n",
            "Epoch 13 [Validation]: 100%|██████████| 62/62 [00:14<00:00,  4.35it/s, Val_Loss=5.0880, mIoU=0.2292]"
          ]
        },
        {
          "output_type": "stream",
          "name": "stdout",
          "text": [
            "[0.0003502410977324913]\n"
          ]
        },
        {
          "output_type": "stream",
          "name": "stderr",
          "text": [
            "\n",
            "Epoch 14 [Training]: 100%|██████████| 73/73 [00:45<00:00,  1.61it/s, Loss_seg=9.0115]\n",
            "Epoch 14 [Validation]: 100%|██████████| 62/62 [00:14<00:00,  4.35it/s, Val_Loss=5.1933, mIoU=0.2214]"
          ]
        },
        {
          "output_type": "stream",
          "name": "stdout",
          "text": [
            "[0.0003502410977324913]\n"
          ]
        },
        {
          "output_type": "stream",
          "name": "stderr",
          "text": [
            "\n",
            "Epoch 15 [Training]: 100%|██████████| 73/73 [00:45<00:00,  1.62it/s, Loss_seg=8.9668]\n",
            "Epoch 15 [Validation]: 100%|██████████| 62/62 [00:14<00:00,  4.32it/s, Val_Loss=5.5903, mIoU=0.2102]"
          ]
        },
        {
          "output_type": "stream",
          "name": "stdout",
          "text": [
            "[0.0003502410977324913]\n"
          ]
        },
        {
          "output_type": "stream",
          "name": "stderr",
          "text": [
            "\n",
            "Epoch 16 [Training]: 100%|██████████| 73/73 [00:46<00:00,  1.57it/s, Loss_seg=8.6583]\n",
            "Epoch 16 [Validation]: 100%|██████████| 62/62 [00:14<00:00,  4.31it/s, Val_Loss=5.4792, mIoU=0.2030]"
          ]
        },
        {
          "output_type": "stream",
          "name": "stdout",
          "text": [
            "[0.00017512054886624566]\n"
          ]
        },
        {
          "output_type": "stream",
          "name": "stderr",
          "text": [
            "\n",
            "Epoch 17 [Training]: 100%|██████████| 73/73 [00:45<00:00,  1.62it/s, Loss_seg=8.6375]\n",
            "Epoch 17 [Validation]: 100%|██████████| 62/62 [00:14<00:00,  4.32it/s, Val_Loss=5.5630, mIoU=0.2100]"
          ]
        },
        {
          "output_type": "stream",
          "name": "stdout",
          "text": [
            "[0.00017512054886624566]\n"
          ]
        },
        {
          "output_type": "stream",
          "name": "stderr",
          "text": [
            "\n",
            "Epoch 18 [Training]: 100%|██████████| 73/73 [00:45<00:00,  1.61it/s, Loss_seg=8.6416]\n",
            "Epoch 18 [Validation]: 100%|██████████| 62/62 [00:14<00:00,  4.34it/s, Val_Loss=5.7659, mIoU=0.2088]"
          ]
        },
        {
          "output_type": "stream",
          "name": "stdout",
          "text": [
            "[0.00017512054886624566]\n"
          ]
        },
        {
          "output_type": "stream",
          "name": "stderr",
          "text": [
            "\n",
            "Epoch 19 [Training]: 100%|██████████| 73/73 [00:45<00:00,  1.62it/s, Loss_seg=8.6647]\n",
            "Epoch 19 [Validation]: 100%|██████████| 62/62 [00:14<00:00,  4.34it/s, Val_Loss=5.2908, mIoU=0.2143]"
          ]
        },
        {
          "output_type": "stream",
          "name": "stdout",
          "text": [
            "[0.00017512054886624566]\n"
          ]
        },
        {
          "output_type": "stream",
          "name": "stderr",
          "text": [
            "\n",
            "Epoch 20 [Training]: 100%|██████████| 73/73 [00:45<00:00,  1.61it/s, Loss_seg=8.5518]\n",
            "Epoch 20 [Validation]: 100%|██████████| 62/62 [00:14<00:00,  4.32it/s, Val_Loss=5.8509, mIoU=0.2146]\n"
          ]
        },
        {
          "output_type": "display_data",
          "data": {
            "text/plain": [
              "<IPython.core.display.HTML object>"
            ],
            "text/html": []
          },
          "metadata": {}
        },
        {
          "output_type": "display_data",
          "data": {
            "text/plain": [
              "<IPython.core.display.HTML object>"
            ],
            "text/html": [
              "<br>    <style><br>        .wandb-row {<br>            display: flex;<br>            flex-direction: row;<br>            flex-wrap: wrap;<br>            justify-content: flex-start;<br>            width: 100%;<br>        }<br>        .wandb-col {<br>            display: flex;<br>            flex-direction: column;<br>            flex-basis: 100%;<br>            flex: 1;<br>            padding: 10px;<br>        }<br>    </style><br><div class=\"wandb-row\"><div class=\"wandb-col\"><h3>Run history:</h3><br/><table class=\"wandb\"><tr><td>loss_seg</td><td>█▄▃▂▂▂▂▁▁▁▁▁▁▁▁▁▁▁▁▁</td></tr><tr><td>loss_val</td><td>█▅▃▂▂▂▂▂▁▂▂▃▁▁▃▂▃▃▂▃</td></tr><tr><td>mIoU</td><td>▁▂▃▅▅▆▅▇▇▇▇██▇▆▅▆▆▆▆</td></tr><tr><td>miou agricolture</td><td>▅▂▄▄▅▆▅▆█▇▇▄▅▄▃▁▂▁▃▁</td></tr><tr><td>miou background</td><td>▂▁▂▁▁▃▃▅▄▅▅█▆▅▅▄▅▆▅▅</td></tr><tr><td>miou barren</td><td>▁▆▆▇▇▄▅▆▅▄▂▆▆▆▆█▇▇▆▅</td></tr><tr><td>miou building</td><td>▁▂▄▆▅▅▄▄▅▅█▄▆▆▄▃▆▄▅▅</td></tr><tr><td>miou forest</td><td>█▂▃▂▁▆▄▅▆▅▄▅▄▃▄▄▄▅▄▄</td></tr><tr><td>miou road</td><td>▁▃▄▆▆█▆▅▇▇█▇▆█▇▇▇▆▇█</td></tr><tr><td>miou water</td><td>▁▃▂▄▆▄▅▆▆▇▆██▇▅▅▅▅▆▆</td></tr></table><br/></div><div class=\"wandb-col\"><h3>Run summary:</h3><br/><table class=\"wandb\"><tr><td>loss_seg</td><td>0.53449</td></tr><tr><td>loss_val</td><td>0.36568</td></tr><tr><td>mIoU</td><td>0.21464</td></tr><tr><td>miou agricolture</td><td>0.28389</td></tr><tr><td>miou background</td><td>0.14746</td></tr><tr><td>miou barren</td><td>0.09892</td></tr><tr><td>miou building</td><td>0.21239</td></tr><tr><td>miou forest</td><td>0.03793</td></tr><tr><td>miou road</td><td>0.33025</td></tr><tr><td>miou water</td><td>0.39165</td></tr></table><br/></div></div>"
            ]
          },
          "metadata": {}
        },
        {
          "output_type": "display_data",
          "data": {
            "text/plain": [
              "<IPython.core.display.HTML object>"
            ],
            "text/html": [
              " View run <strong style=\"color:#cdcd00\">bright-sweep-14</strong> at: <a href='https://wandb.ai/vitosilver1999-politecnico-di-torino/AML_4B_upt/runs/trm3vd6n' target=\"_blank\">https://wandb.ai/vitosilver1999-politecnico-di-torino/AML_4B_upt/runs/trm3vd6n</a><br> View project at: <a href='https://wandb.ai/vitosilver1999-politecnico-di-torino/AML_4B_upt' target=\"_blank\">https://wandb.ai/vitosilver1999-politecnico-di-torino/AML_4B_upt</a><br>Synced 5 W&B file(s), 0 media file(s), 0 artifact file(s) and 0 other file(s)"
            ]
          },
          "metadata": {}
        },
        {
          "output_type": "display_data",
          "data": {
            "text/plain": [
              "<IPython.core.display.HTML object>"
            ],
            "text/html": [
              "Find logs at: <code>./wandb/run-20250517_152805-trm3vd6n/logs</code>"
            ]
          },
          "metadata": {}
        },
        {
          "output_type": "stream",
          "name": "stderr",
          "text": [
            "\u001b[34m\u001b[1mwandb\u001b[0m: Agent Starting Run: 91lt6ups with config:\n",
            "\u001b[34m\u001b[1mwandb\u001b[0m: \tALPHA_TEACHER: 0.99\n",
            "\u001b[34m\u001b[1mwandb\u001b[0m: \tLOSS_TYPE: ce\n",
            "\u001b[34m\u001b[1mwandb\u001b[0m: \tLR: 0.00017550405049223205\n",
            "\u001b[34m\u001b[1mwandb\u001b[0m: \tMOMENTUM: 0.7\n",
            "\u001b[34m\u001b[1mwandb\u001b[0m: \tPIXEL_WEIGHT: threshold_uniform\n",
            "\u001b[34m\u001b[1mwandb\u001b[0m: \tTHRESHOLD: 0.7\n",
            "\u001b[34m\u001b[1mwandb\u001b[0m: \tTYPE_WEIGHT: median-frequency\n"
          ]
        },
        {
          "output_type": "display_data",
          "data": {
            "text/plain": [
              "<IPython.core.display.HTML object>"
            ],
            "text/html": [
              "Tracking run with wandb version 0.19.11"
            ]
          },
          "metadata": {}
        },
        {
          "output_type": "display_data",
          "data": {
            "text/plain": [
              "<IPython.core.display.HTML object>"
            ],
            "text/html": [
              "Run data is saved locally in <code>/content/wandb/run-20250517_154917-91lt6ups</code>"
            ]
          },
          "metadata": {}
        },
        {
          "output_type": "display_data",
          "data": {
            "text/plain": [
              "<IPython.core.display.HTML object>"
            ],
            "text/html": [
              "Syncing run <strong><a href='https://wandb.ai/vitosilver1999-politecnico-di-torino/AML_4B_upt/runs/91lt6ups' target=\"_blank\">classic-sweep-15</a></strong> to <a href='https://wandb.ai/vitosilver1999-politecnico-di-torino/AML_4B_upt' target=\"_blank\">Weights & Biases</a> (<a href='https://wandb.me/developer-guide' target=\"_blank\">docs</a>)<br>Sweep page: <a href='https://wandb.ai/vitosilver1999-politecnico-di-torino/AML_4B_upt/sweeps/5sprm999' target=\"_blank\">https://wandb.ai/vitosilver1999-politecnico-di-torino/AML_4B_upt/sweeps/5sprm999</a>"
            ]
          },
          "metadata": {}
        },
        {
          "output_type": "display_data",
          "data": {
            "text/plain": [
              "<IPython.core.display.HTML object>"
            ],
            "text/html": [
              " View project at <a href='https://wandb.ai/vitosilver1999-politecnico-di-torino/AML_4B_upt' target=\"_blank\">https://wandb.ai/vitosilver1999-politecnico-di-torino/AML_4B_upt</a>"
            ]
          },
          "metadata": {}
        },
        {
          "output_type": "display_data",
          "data": {
            "text/plain": [
              "<IPython.core.display.HTML object>"
            ],
            "text/html": [
              " View sweep at <a href='https://wandb.ai/vitosilver1999-politecnico-di-torino/AML_4B_upt/sweeps/5sprm999' target=\"_blank\">https://wandb.ai/vitosilver1999-politecnico-di-torino/AML_4B_upt/sweeps/5sprm999</a>"
            ]
          },
          "metadata": {}
        },
        {
          "output_type": "display_data",
          "data": {
            "text/plain": [
              "<IPython.core.display.HTML object>"
            ],
            "text/html": [
              " View run at <a href='https://wandb.ai/vitosilver1999-politecnico-di-torino/AML_4B_upt/runs/91lt6ups' target=\"_blank\">https://wandb.ai/vitosilver1999-politecnico-di-torino/AML_4B_upt/runs/91lt6ups</a>"
            ]
          },
          "metadata": {}
        },
        {
          "output_type": "stream",
          "name": "stderr",
          "text": [
            "100%|██████████| 73/73 [01:01<00:00,  1.18it/s]\n"
          ]
        },
        {
          "output_type": "stream",
          "name": "stdout",
          "text": [
            "[0.00017550405049223205]\n"
          ]
        },
        {
          "output_type": "stream",
          "name": "stderr",
          "text": [
            "Epoch 1 [Training]: 100%|██████████| 73/73 [00:45<00:00,  1.60it/s, Loss_seg=16.9162]\n",
            "Epoch 1 [Validation]: 100%|██████████| 62/62 [00:14<00:00,  4.32it/s, Val_Loss=10.5725, mIoU=0.1045]"
          ]
        },
        {
          "output_type": "stream",
          "name": "stdout",
          "text": [
            "[0.00017550405049223205]\n"
          ]
        },
        {
          "output_type": "stream",
          "name": "stderr",
          "text": [
            "\n",
            "Epoch 2 [Training]: 100%|██████████| 73/73 [00:45<00:00,  1.59it/s, Loss_seg=12.8826]\n",
            "Epoch 2 [Validation]: 100%|██████████| 62/62 [00:14<00:00,  4.34it/s, Val_Loss=9.6163, mIoU=0.1203]"
          ]
        },
        {
          "output_type": "stream",
          "name": "stdout",
          "text": [
            "[0.00017550405049223205]\n"
          ]
        },
        {
          "output_type": "stream",
          "name": "stderr",
          "text": [
            "\n",
            "Epoch 3 [Training]: 100%|██████████| 73/73 [00:45<00:00,  1.59it/s, Loss_seg=11.0913]\n",
            "Epoch 3 [Validation]: 100%|██████████| 62/62 [00:14<00:00,  4.34it/s, Val_Loss=8.6553, mIoU=0.1379]"
          ]
        },
        {
          "output_type": "stream",
          "name": "stdout",
          "text": [
            "[0.00017550405049223205]\n"
          ]
        },
        {
          "output_type": "stream",
          "name": "stderr",
          "text": [
            "\n",
            "Epoch 4 [Training]: 100%|██████████| 73/73 [00:45<00:00,  1.59it/s, Loss_seg=9.9990]\n",
            "Epoch 4 [Validation]: 100%|██████████| 62/62 [00:14<00:00,  4.35it/s, Val_Loss=8.5389, mIoU=0.1465]"
          ]
        },
        {
          "output_type": "stream",
          "name": "stdout",
          "text": [
            "[0.00017550405049223205]\n"
          ]
        },
        {
          "output_type": "stream",
          "name": "stderr",
          "text": [
            "\n",
            "Epoch 5 [Training]: 100%|██████████| 73/73 [00:45<00:00,  1.60it/s, Loss_seg=9.1593]\n",
            "Epoch 5 [Validation]: 100%|██████████| 62/62 [00:14<00:00,  4.35it/s, Val_Loss=7.2884, mIoU=0.1631]"
          ]
        },
        {
          "output_type": "stream",
          "name": "stdout",
          "text": [
            "[0.00017550405049223205]\n"
          ]
        },
        {
          "output_type": "stream",
          "name": "stderr",
          "text": [
            "\n",
            "Epoch 6 [Training]: 100%|██████████| 73/73 [00:45<00:00,  1.60it/s, Loss_seg=8.3918]\n",
            "Epoch 6 [Validation]: 100%|██████████| 62/62 [00:14<00:00,  4.32it/s, Val_Loss=7.3886, mIoU=0.1662]"
          ]
        },
        {
          "output_type": "stream",
          "name": "stdout",
          "text": [
            "[0.00017550405049223205]\n"
          ]
        },
        {
          "output_type": "stream",
          "name": "stderr",
          "text": [
            "\n",
            "Epoch 7 [Training]: 100%|██████████| 73/73 [00:45<00:00,  1.59it/s, Loss_seg=7.9628]\n",
            "Epoch 7 [Validation]: 100%|██████████| 62/62 [00:14<00:00,  4.34it/s, Val_Loss=6.9487, mIoU=0.1691]"
          ]
        },
        {
          "output_type": "stream",
          "name": "stdout",
          "text": [
            "[0.00017550405049223205]\n"
          ]
        },
        {
          "output_type": "stream",
          "name": "stderr",
          "text": [
            "\n",
            "Epoch 8 [Training]: 100%|██████████| 73/73 [00:45<00:00,  1.60it/s, Loss_seg=7.6146]\n",
            "Epoch 8 [Validation]: 100%|██████████| 62/62 [00:14<00:00,  4.29it/s, Val_Loss=7.0054, mIoU=0.1665]"
          ]
        },
        {
          "output_type": "stream",
          "name": "stdout",
          "text": [
            "[0.00017550405049223205]\n"
          ]
        },
        {
          "output_type": "stream",
          "name": "stderr",
          "text": [
            "\n",
            "Epoch 9 [Training]: 100%|██████████| 73/73 [00:45<00:00,  1.59it/s, Loss_seg=7.2998]\n",
            "Epoch 9 [Validation]: 100%|██████████| 62/62 [00:14<00:00,  4.34it/s, Val_Loss=6.8963, mIoU=0.1752]"
          ]
        },
        {
          "output_type": "stream",
          "name": "stdout",
          "text": [
            "[0.00017550405049223205]\n"
          ]
        },
        {
          "output_type": "stream",
          "name": "stderr",
          "text": [
            "\n",
            "Epoch 10 [Training]: 100%|██████████| 73/73 [00:45<00:00,  1.60it/s, Loss_seg=7.0053]\n",
            "Epoch 10 [Validation]: 100%|██████████| 62/62 [00:14<00:00,  4.34it/s, Val_Loss=7.0834, mIoU=0.1730]"
          ]
        },
        {
          "output_type": "stream",
          "name": "stdout",
          "text": [
            "[0.00017550405049223205]\n"
          ]
        },
        {
          "output_type": "stream",
          "name": "stderr",
          "text": [
            "\n",
            "Epoch 11 [Training]: 100%|██████████| 73/73 [00:45<00:00,  1.60it/s, Loss_seg=6.8154]\n",
            "Epoch 11 [Validation]: 100%|██████████| 62/62 [00:14<00:00,  4.34it/s, Val_Loss=6.7932, mIoU=0.1745]"
          ]
        },
        {
          "output_type": "stream",
          "name": "stdout",
          "text": [
            "[0.00017550405049223205]\n"
          ]
        },
        {
          "output_type": "stream",
          "name": "stderr",
          "text": [
            "\n",
            "Epoch 12 [Training]: 100%|██████████| 73/73 [00:45<00:00,  1.60it/s, Loss_seg=6.7144]\n",
            "Epoch 12 [Validation]: 100%|██████████| 62/62 [00:14<00:00,  4.31it/s, Val_Loss=6.9036, mIoU=0.1762]"
          ]
        },
        {
          "output_type": "stream",
          "name": "stdout",
          "text": [
            "[0.00017550405049223205]\n"
          ]
        },
        {
          "output_type": "stream",
          "name": "stderr",
          "text": [
            "\n",
            "Epoch 13 [Training]: 100%|██████████| 73/73 [00:45<00:00,  1.59it/s, Loss_seg=6.5773]\n",
            "Epoch 13 [Validation]: 100%|██████████| 62/62 [00:14<00:00,  4.34it/s, Val_Loss=7.0089, mIoU=0.1749]"
          ]
        },
        {
          "output_type": "stream",
          "name": "stdout",
          "text": [
            "[8.775202524611603e-05]\n"
          ]
        },
        {
          "output_type": "stream",
          "name": "stderr",
          "text": [
            "\n",
            "Epoch 14 [Training]: 100%|██████████| 73/73 [00:45<00:00,  1.60it/s, Loss_seg=6.4073]\n",
            "Epoch 14 [Validation]: 100%|██████████| 62/62 [00:14<00:00,  4.33it/s, Val_Loss=6.9856, mIoU=0.1805]"
          ]
        },
        {
          "output_type": "stream",
          "name": "stdout",
          "text": [
            "[8.775202524611603e-05]\n"
          ]
        },
        {
          "output_type": "stream",
          "name": "stderr",
          "text": [
            "\n",
            "Epoch 15 [Training]: 100%|██████████| 73/73 [00:45<00:00,  1.60it/s, Loss_seg=6.3352]\n",
            "Epoch 15 [Validation]: 100%|██████████| 62/62 [00:14<00:00,  4.31it/s, Val_Loss=7.4190, mIoU=0.1757]"
          ]
        },
        {
          "output_type": "stream",
          "name": "stdout",
          "text": [
            "[8.775202524611603e-05]\n"
          ]
        },
        {
          "output_type": "stream",
          "name": "stderr",
          "text": [
            "\n",
            "Epoch 16 [Training]: 100%|██████████| 73/73 [00:45<00:00,  1.59it/s, Loss_seg=6.2933]\n",
            "Epoch 16 [Validation]: 100%|██████████| 62/62 [00:14<00:00,  4.34it/s, Val_Loss=6.4858, mIoU=0.1854]"
          ]
        },
        {
          "output_type": "stream",
          "name": "stdout",
          "text": [
            "[8.775202524611603e-05]\n"
          ]
        },
        {
          "output_type": "stream",
          "name": "stderr",
          "text": [
            "\n",
            "Epoch 17 [Training]: 100%|██████████| 73/73 [00:45<00:00,  1.59it/s, Loss_seg=6.1624]\n",
            "Epoch 17 [Validation]: 100%|██████████| 62/62 [00:14<00:00,  4.32it/s, Val_Loss=6.6670, mIoU=0.1860]"
          ]
        },
        {
          "output_type": "stream",
          "name": "stdout",
          "text": [
            "[8.775202524611603e-05]\n"
          ]
        },
        {
          "output_type": "stream",
          "name": "stderr",
          "text": [
            "\n",
            "Epoch 18 [Training]: 100%|██████████| 73/73 [00:45<00:00,  1.60it/s, Loss_seg=6.2128]\n",
            "Epoch 18 [Validation]: 100%|██████████| 62/62 [00:14<00:00,  4.35it/s, Val_Loss=6.9935, mIoU=0.1811]"
          ]
        },
        {
          "output_type": "stream",
          "name": "stdout",
          "text": [
            "[8.775202524611603e-05]\n"
          ]
        },
        {
          "output_type": "stream",
          "name": "stderr",
          "text": [
            "\n",
            "Epoch 19 [Training]: 100%|██████████| 73/73 [00:45<00:00,  1.60it/s, Loss_seg=6.1264]\n",
            "Epoch 19 [Validation]: 100%|██████████| 62/62 [00:14<00:00,  4.33it/s, Val_Loss=6.8459, mIoU=0.1809]"
          ]
        },
        {
          "output_type": "stream",
          "name": "stdout",
          "text": [
            "[8.775202524611603e-05]\n"
          ]
        },
        {
          "output_type": "stream",
          "name": "stderr",
          "text": [
            "\n",
            "Epoch 20 [Training]: 100%|██████████| 73/73 [00:45<00:00,  1.59it/s, Loss_seg=6.0589]\n",
            "Epoch 20 [Validation]: 100%|██████████| 62/62 [00:14<00:00,  4.33it/s, Val_Loss=7.1937, mIoU=0.1811]\n"
          ]
        },
        {
          "output_type": "display_data",
          "data": {
            "text/plain": [
              "<IPython.core.display.HTML object>"
            ],
            "text/html": []
          },
          "metadata": {}
        },
        {
          "output_type": "display_data",
          "data": {
            "text/plain": [
              "<IPython.core.display.HTML object>"
            ],
            "text/html": [
              "<br>    <style><br>        .wandb-row {<br>            display: flex;<br>            flex-direction: row;<br>            flex-wrap: wrap;<br>            justify-content: flex-start;<br>            width: 100%;<br>        }<br>        .wandb-col {<br>            display: flex;<br>            flex-direction: column;<br>            flex-basis: 100%;<br>            flex: 1;<br>            padding: 10px;<br>        }<br>    </style><br><div class=\"wandb-row\"><div class=\"wandb-col\"><h3>Run history:</h3><br/><table class=\"wandb\"><tr><td>loss_seg</td><td>█▅▄▄▃▃▂▂▂▂▁▁▁▁▁▁▁▁▁▁</td></tr><tr><td>loss_val</td><td>█▆▅▅▂▃▂▂▂▂▂▂▂▂▃▁▁▂▂▂</td></tr><tr><td>mIoU</td><td>▁▂▄▅▆▆▇▆▇▇▇▇▇█▇█████</td></tr><tr><td>miou agricolture</td><td>▁▂▃▂▅▅▅▆▇▆▇▇▆▇▆██▇▇▇</td></tr><tr><td>miou background</td><td>▂▁▄▇█▇▇▄▅▅▃▇▃▁▄▇▆▃▃▂</td></tr><tr><td>miou barren</td><td>▁▃▃▄▅▅▆▆▆▇▇▆▇▆█▆▇▇▇▇</td></tr><tr><td>miou building</td><td>▁▂▃▃▄▅▅▅▆▆▆▆▆▇▇▇██▇█</td></tr><tr><td>miou forest</td><td>▁▁▃▅▇█▆▆▇▅▆▅▅█▃▇▅▃▄▃</td></tr><tr><td>miou road</td><td>▁▃▄▅▆▆▆▆▇▇▇▆▇█▇▇▇▇██</td></tr><tr><td>miou water</td><td>▁▄▆▆▄▇▆▇▇▅▅▆▅▆▂█▄▄▃▂</td></tr></table><br/></div><div class=\"wandb-col\"><h3>Run summary:</h3><br/><table class=\"wandb\"><tr><td>loss_seg</td><td>0.37868</td></tr><tr><td>loss_val</td><td>0.44961</td></tr><tr><td>mIoU</td><td>0.18107</td></tr><tr><td>miou agricolture</td><td>0.37536</td></tr><tr><td>miou background</td><td>0.09166</td></tr><tr><td>miou barren</td><td>0.08109</td></tr><tr><td>miou building</td><td>0.16061</td></tr><tr><td>miou forest</td><td>0.06691</td></tr><tr><td>miou road</td><td>0.29514</td></tr><tr><td>miou water</td><td>0.19673</td></tr></table><br/></div></div>"
            ]
          },
          "metadata": {}
        },
        {
          "output_type": "display_data",
          "data": {
            "text/plain": [
              "<IPython.core.display.HTML object>"
            ],
            "text/html": [
              " View run <strong style=\"color:#cdcd00\">classic-sweep-15</strong> at: <a href='https://wandb.ai/vitosilver1999-politecnico-di-torino/AML_4B_upt/runs/91lt6ups' target=\"_blank\">https://wandb.ai/vitosilver1999-politecnico-di-torino/AML_4B_upt/runs/91lt6ups</a><br> View project at: <a href='https://wandb.ai/vitosilver1999-politecnico-di-torino/AML_4B_upt' target=\"_blank\">https://wandb.ai/vitosilver1999-politecnico-di-torino/AML_4B_upt</a><br>Synced 5 W&B file(s), 0 media file(s), 0 artifact file(s) and 0 other file(s)"
            ]
          },
          "metadata": {}
        },
        {
          "output_type": "display_data",
          "data": {
            "text/plain": [
              "<IPython.core.display.HTML object>"
            ],
            "text/html": [
              "Find logs at: <code>./wandb/run-20250517_154917-91lt6ups/logs</code>"
            ]
          },
          "metadata": {}
        },
        {
          "output_type": "stream",
          "name": "stderr",
          "text": [
            "\u001b[34m\u001b[1mwandb\u001b[0m: Agent Starting Run: u8qjul8o with config:\n",
            "\u001b[34m\u001b[1mwandb\u001b[0m: \tALPHA_TEACHER: 0.99\n",
            "\u001b[34m\u001b[1mwandb\u001b[0m: \tLOSS_TYPE: ohem\n",
            "\u001b[34m\u001b[1mwandb\u001b[0m: \tLR: 0.0003498911693122533\n",
            "\u001b[34m\u001b[1mwandb\u001b[0m: \tMOMENTUM: 0.85\n",
            "\u001b[34m\u001b[1mwandb\u001b[0m: \tPIXEL_WEIGHT: threshold_uniform\n",
            "\u001b[34m\u001b[1mwandb\u001b[0m: \tTHRESHOLD: 0.85\n",
            "\u001b[34m\u001b[1mwandb\u001b[0m: \tTYPE_WEIGHT: inverse\n"
          ]
        },
        {
          "output_type": "display_data",
          "data": {
            "text/plain": [
              "<IPython.core.display.HTML object>"
            ],
            "text/html": [
              "Tracking run with wandb version 0.19.11"
            ]
          },
          "metadata": {}
        },
        {
          "output_type": "display_data",
          "data": {
            "text/plain": [
              "<IPython.core.display.HTML object>"
            ],
            "text/html": [
              "Run data is saved locally in <code>/content/wandb/run-20250517_161034-u8qjul8o</code>"
            ]
          },
          "metadata": {}
        },
        {
          "output_type": "display_data",
          "data": {
            "text/plain": [
              "<IPython.core.display.HTML object>"
            ],
            "text/html": [
              "Syncing run <strong><a href='https://wandb.ai/vitosilver1999-politecnico-di-torino/AML_4B_upt/runs/u8qjul8o' target=\"_blank\">lucky-sweep-16</a></strong> to <a href='https://wandb.ai/vitosilver1999-politecnico-di-torino/AML_4B_upt' target=\"_blank\">Weights & Biases</a> (<a href='https://wandb.me/developer-guide' target=\"_blank\">docs</a>)<br>Sweep page: <a href='https://wandb.ai/vitosilver1999-politecnico-di-torino/AML_4B_upt/sweeps/5sprm999' target=\"_blank\">https://wandb.ai/vitosilver1999-politecnico-di-torino/AML_4B_upt/sweeps/5sprm999</a>"
            ]
          },
          "metadata": {}
        },
        {
          "output_type": "display_data",
          "data": {
            "text/plain": [
              "<IPython.core.display.HTML object>"
            ],
            "text/html": [
              " View project at <a href='https://wandb.ai/vitosilver1999-politecnico-di-torino/AML_4B_upt' target=\"_blank\">https://wandb.ai/vitosilver1999-politecnico-di-torino/AML_4B_upt</a>"
            ]
          },
          "metadata": {}
        },
        {
          "output_type": "display_data",
          "data": {
            "text/plain": [
              "<IPython.core.display.HTML object>"
            ],
            "text/html": [
              " View sweep at <a href='https://wandb.ai/vitosilver1999-politecnico-di-torino/AML_4B_upt/sweeps/5sprm999' target=\"_blank\">https://wandb.ai/vitosilver1999-politecnico-di-torino/AML_4B_upt/sweeps/5sprm999</a>"
            ]
          },
          "metadata": {}
        },
        {
          "output_type": "display_data",
          "data": {
            "text/plain": [
              "<IPython.core.display.HTML object>"
            ],
            "text/html": [
              " View run at <a href='https://wandb.ai/vitosilver1999-politecnico-di-torino/AML_4B_upt/runs/u8qjul8o' target=\"_blank\">https://wandb.ai/vitosilver1999-politecnico-di-torino/AML_4B_upt/runs/u8qjul8o</a>"
            ]
          },
          "metadata": {}
        },
        {
          "output_type": "stream",
          "name": "stderr",
          "text": [
            "100%|██████████| 73/73 [01:02<00:00,  1.18it/s]\n"
          ]
        },
        {
          "output_type": "stream",
          "name": "stdout",
          "text": [
            "[0.0003498911693122533]\n"
          ]
        },
        {
          "output_type": "stream",
          "name": "stderr",
          "text": [
            "Epoch 1 [Training]: 100%|██████████| 73/73 [00:47<00:00,  1.53it/s, Loss_seg=51.6830]\n",
            "Epoch 1 [Validation]: 100%|██████████| 62/62 [00:14<00:00,  4.30it/s, Val_Loss=113.8979, mIoU=0.1749]"
          ]
        },
        {
          "output_type": "stream",
          "name": "stdout",
          "text": [
            "[0.0003498911693122533]\n"
          ]
        },
        {
          "output_type": "stream",
          "name": "stderr",
          "text": [
            "\n",
            "Epoch 2 [Training]: 100%|██████████| 73/73 [00:47<00:00,  1.53it/s, Loss_seg=27.1806]\n",
            "Epoch 2 [Validation]: 100%|██████████| 62/62 [00:14<00:00,  4.34it/s, Val_Loss=117.9162, mIoU=0.1685]"
          ]
        },
        {
          "output_type": "stream",
          "name": "stdout",
          "text": [
            "[0.0003498911693122533]\n"
          ]
        },
        {
          "output_type": "stream",
          "name": "stderr",
          "text": [
            "\n",
            "Epoch 3 [Training]: 100%|██████████| 73/73 [00:47<00:00,  1.52it/s, Loss_seg=23.8028]\n",
            "Epoch 3 [Validation]: 100%|██████████| 62/62 [00:14<00:00,  4.35it/s, Val_Loss=129.1957, mIoU=0.2032]"
          ]
        },
        {
          "output_type": "stream",
          "name": "stdout",
          "text": [
            "[0.0003498911693122533]\n"
          ]
        },
        {
          "output_type": "stream",
          "name": "stderr",
          "text": [
            "\n",
            "Epoch 4 [Training]: 100%|██████████| 73/73 [00:47<00:00,  1.54it/s, Loss_seg=21.9110]\n",
            "Epoch 4 [Validation]: 100%|██████████| 62/62 [00:14<00:00,  4.36it/s, Val_Loss=123.9284, mIoU=0.1995]"
          ]
        },
        {
          "output_type": "stream",
          "name": "stdout",
          "text": [
            "[0.0003498911693122533]\n"
          ]
        },
        {
          "output_type": "stream",
          "name": "stderr",
          "text": [
            "\n",
            "Epoch 5 [Training]: 100%|██████████| 73/73 [00:47<00:00,  1.53it/s, Loss_seg=20.2570]\n",
            "Epoch 5 [Validation]: 100%|██████████| 62/62 [00:14<00:00,  4.35it/s, Val_Loss=132.9713, mIoU=0.2071]"
          ]
        },
        {
          "output_type": "stream",
          "name": "stdout",
          "text": [
            "[0.0003498911693122533]\n"
          ]
        },
        {
          "output_type": "stream",
          "name": "stderr",
          "text": [
            "\n",
            "Epoch 6 [Training]: 100%|██████████| 73/73 [00:47<00:00,  1.53it/s, Loss_seg=20.9086]\n",
            "Epoch 6 [Validation]: 100%|██████████| 62/62 [00:14<00:00,  4.33it/s, Val_Loss=135.9047, mIoU=0.2061]"
          ]
        },
        {
          "output_type": "stream",
          "name": "stdout",
          "text": [
            "[0.0003498911693122533]\n"
          ]
        },
        {
          "output_type": "stream",
          "name": "stderr",
          "text": [
            "\n",
            "Epoch 7 [Training]: 100%|██████████| 73/73 [00:47<00:00,  1.53it/s, Loss_seg=19.4568]\n",
            "Epoch 7 [Validation]: 100%|██████████| 62/62 [00:14<00:00,  4.34it/s, Val_Loss=116.5245, mIoU=0.2182]"
          ]
        },
        {
          "output_type": "stream",
          "name": "stdout",
          "text": [
            "[0.0003498911693122533]\n"
          ]
        },
        {
          "output_type": "stream",
          "name": "stderr",
          "text": [
            "\n",
            "Epoch 8 [Training]:  64%|██████▍   | 47/73 [00:31<00:16,  1.59it/s, Loss_seg=18.6054]\u001b[34m\u001b[1mwandb\u001b[0m: Ctrl + C detected. Stopping sweep.\n"
          ]
        }
      ]
    }
  ],
  "metadata": {
    "colab": {
      "machine_shape": "hm",
      "provenance": [],
      "collapsed_sections": [
        "UrjECeMs7Sc5",
        "aRC4KXtmj3Pi",
        "p_wwWFwFkIoR",
        "tTTJR3Ly3T_F"
      ],
      "gpuType": "L4",
      "include_colab_link": true
    },
    "kernelspec": {
      "display_name": "Python 3",
      "name": "python3"
    },
    "language_info": {
      "name": "python"
    },
    "accelerator": "GPU"
  },
  "nbformat": 4,
  "nbformat_minor": 0
}