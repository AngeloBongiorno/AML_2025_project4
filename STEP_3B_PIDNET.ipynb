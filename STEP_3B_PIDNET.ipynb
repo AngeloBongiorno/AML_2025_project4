{
  "cells": [
    {
      "cell_type": "markdown",
      "metadata": {
        "id": "view-in-github",
        "colab_type": "text"
      },
      "source": [
        "<a href=\"https://colab.research.google.com/github/AngeloBongiorno/AML_2025_project4/blob/main/STEP_3B_PIDNET.ipynb\" target=\"_parent\"><img src=\"https://colab.research.google.com/assets/colab-badge.svg\" alt=\"Open In Colab\"/></a>"
      ]
    },
    {
      "cell_type": "markdown",
      "metadata": {
        "id": "K7QJviwzoN5m"
      },
      "source": [
        "## Install Dependencies"
      ]
    },
    {
      "cell_type": "markdown",
      "metadata": {
        "id": "rHpwU5g8s-Pt"
      },
      "source": [
        "## Upload .zip files"
      ]
    },
    {
      "cell_type": "markdown",
      "metadata": {
        "id": "O2_aVBiH46K3"
      },
      "source": [
        "For this step you must have the zip files in your Drive into a folder called `AML_project`"
      ]
    },
    {
      "cell_type": "code",
      "execution_count": null,
      "metadata": {
        "colab": {
          "base_uri": "https://localhost:8080/"
        },
        "collapsed": true,
        "id": "xxVbeep6Rlnb",
        "outputId": "dc199668-8b4e-4f9d-8a4c-70afe366ed6f"
      },
      "outputs": [
        {
          "output_type": "stream",
          "name": "stdout",
          "text": [
            "Collecting torchmetrics\n",
            "  Downloading torchmetrics-1.7.1-py3-none-any.whl.metadata (21 kB)\n",
            "Requirement already satisfied: numpy>1.20.0 in /usr/local/lib/python3.11/dist-packages (from torchmetrics) (2.0.2)\n",
            "Requirement already satisfied: packaging>17.1 in /usr/local/lib/python3.11/dist-packages (from torchmetrics) (24.2)\n",
            "Requirement already satisfied: torch>=2.0.0 in /usr/local/lib/python3.11/dist-packages (from torchmetrics) (2.6.0+cu124)\n",
            "Collecting lightning-utilities>=0.8.0 (from torchmetrics)\n",
            "  Downloading lightning_utilities-0.14.3-py3-none-any.whl.metadata (5.6 kB)\n",
            "Requirement already satisfied: setuptools in /usr/local/lib/python3.11/dist-packages (from lightning-utilities>=0.8.0->torchmetrics) (75.2.0)\n",
            "Requirement already satisfied: typing_extensions in /usr/local/lib/python3.11/dist-packages (from lightning-utilities>=0.8.0->torchmetrics) (4.13.2)\n",
            "Requirement already satisfied: filelock in /usr/local/lib/python3.11/dist-packages (from torch>=2.0.0->torchmetrics) (3.18.0)\n",
            "Requirement already satisfied: networkx in /usr/local/lib/python3.11/dist-packages (from torch>=2.0.0->torchmetrics) (3.4.2)\n",
            "Requirement already satisfied: jinja2 in /usr/local/lib/python3.11/dist-packages (from torch>=2.0.0->torchmetrics) (3.1.6)\n",
            "Requirement already satisfied: fsspec in /usr/local/lib/python3.11/dist-packages (from torch>=2.0.0->torchmetrics) (2025.3.2)\n",
            "Collecting nvidia-cuda-nvrtc-cu12==12.4.127 (from torch>=2.0.0->torchmetrics)\n",
            "  Downloading nvidia_cuda_nvrtc_cu12-12.4.127-py3-none-manylinux2014_x86_64.whl.metadata (1.5 kB)\n",
            "Collecting nvidia-cuda-runtime-cu12==12.4.127 (from torch>=2.0.0->torchmetrics)\n",
            "  Downloading nvidia_cuda_runtime_cu12-12.4.127-py3-none-manylinux2014_x86_64.whl.metadata (1.5 kB)\n",
            "Collecting nvidia-cuda-cupti-cu12==12.4.127 (from torch>=2.0.0->torchmetrics)\n",
            "  Downloading nvidia_cuda_cupti_cu12-12.4.127-py3-none-manylinux2014_x86_64.whl.metadata (1.6 kB)\n",
            "Collecting nvidia-cudnn-cu12==9.1.0.70 (from torch>=2.0.0->torchmetrics)\n",
            "  Downloading nvidia_cudnn_cu12-9.1.0.70-py3-none-manylinux2014_x86_64.whl.metadata (1.6 kB)\n",
            "Collecting nvidia-cublas-cu12==12.4.5.8 (from torch>=2.0.0->torchmetrics)\n",
            "  Downloading nvidia_cublas_cu12-12.4.5.8-py3-none-manylinux2014_x86_64.whl.metadata (1.5 kB)\n",
            "Collecting nvidia-cufft-cu12==11.2.1.3 (from torch>=2.0.0->torchmetrics)\n",
            "  Downloading nvidia_cufft_cu12-11.2.1.3-py3-none-manylinux2014_x86_64.whl.metadata (1.5 kB)\n",
            "Collecting nvidia-curand-cu12==10.3.5.147 (from torch>=2.0.0->torchmetrics)\n",
            "  Downloading nvidia_curand_cu12-10.3.5.147-py3-none-manylinux2014_x86_64.whl.metadata (1.5 kB)\n",
            "Collecting nvidia-cusolver-cu12==11.6.1.9 (from torch>=2.0.0->torchmetrics)\n",
            "  Downloading nvidia_cusolver_cu12-11.6.1.9-py3-none-manylinux2014_x86_64.whl.metadata (1.6 kB)\n",
            "Collecting nvidia-cusparse-cu12==12.3.1.170 (from torch>=2.0.0->torchmetrics)\n",
            "  Downloading nvidia_cusparse_cu12-12.3.1.170-py3-none-manylinux2014_x86_64.whl.metadata (1.6 kB)\n",
            "Requirement already satisfied: nvidia-cusparselt-cu12==0.6.2 in /usr/local/lib/python3.11/dist-packages (from torch>=2.0.0->torchmetrics) (0.6.2)\n",
            "Requirement already satisfied: nvidia-nccl-cu12==2.21.5 in /usr/local/lib/python3.11/dist-packages (from torch>=2.0.0->torchmetrics) (2.21.5)\n",
            "Requirement already satisfied: nvidia-nvtx-cu12==12.4.127 in /usr/local/lib/python3.11/dist-packages (from torch>=2.0.0->torchmetrics) (12.4.127)\n",
            "Collecting nvidia-nvjitlink-cu12==12.4.127 (from torch>=2.0.0->torchmetrics)\n",
            "  Downloading nvidia_nvjitlink_cu12-12.4.127-py3-none-manylinux2014_x86_64.whl.metadata (1.5 kB)\n",
            "Requirement already satisfied: triton==3.2.0 in /usr/local/lib/python3.11/dist-packages (from torch>=2.0.0->torchmetrics) (3.2.0)\n",
            "Requirement already satisfied: sympy==1.13.1 in /usr/local/lib/python3.11/dist-packages (from torch>=2.0.0->torchmetrics) (1.13.1)\n",
            "Requirement already satisfied: mpmath<1.4,>=1.1.0 in /usr/local/lib/python3.11/dist-packages (from sympy==1.13.1->torch>=2.0.0->torchmetrics) (1.3.0)\n",
            "Requirement already satisfied: MarkupSafe>=2.0 in /usr/local/lib/python3.11/dist-packages (from jinja2->torch>=2.0.0->torchmetrics) (3.0.2)\n",
            "Downloading torchmetrics-1.7.1-py3-none-any.whl (961 kB)\n",
            "\u001b[2K   \u001b[90m━━━━━━━━━━━━━━━━━━━━━━━━━━━━━━━━━━━━━━━━\u001b[0m \u001b[32m961.5/961.5 kB\u001b[0m \u001b[31m55.8 MB/s\u001b[0m eta \u001b[36m0:00:00\u001b[0m\n",
            "\u001b[?25hDownloading lightning_utilities-0.14.3-py3-none-any.whl (28 kB)\n",
            "Downloading nvidia_cublas_cu12-12.4.5.8-py3-none-manylinux2014_x86_64.whl (363.4 MB)\n",
            "\u001b[2K   \u001b[90m━━━━━━━━━━━━━━━━━━━━━━━━━━━━━━━━━━━━━━━━\u001b[0m \u001b[32m363.4/363.4 MB\u001b[0m \u001b[31m4.3 MB/s\u001b[0m eta \u001b[36m0:00:00\u001b[0m\n",
            "\u001b[?25hDownloading nvidia_cuda_cupti_cu12-12.4.127-py3-none-manylinux2014_x86_64.whl (13.8 MB)\n",
            "\u001b[2K   \u001b[90m━━━━━━━━━━━━━━━━━━━━━━━━━━━━━━━━━━━━━━━━\u001b[0m \u001b[32m13.8/13.8 MB\u001b[0m \u001b[31m130.0 MB/s\u001b[0m eta \u001b[36m0:00:00\u001b[0m\n",
            "\u001b[?25hDownloading nvidia_cuda_nvrtc_cu12-12.4.127-py3-none-manylinux2014_x86_64.whl (24.6 MB)\n",
            "\u001b[2K   \u001b[90m━━━━━━━━━━━━━━━━━━━━━━━━━━━━━━━━━━━━━━━━\u001b[0m \u001b[32m24.6/24.6 MB\u001b[0m \u001b[31m104.8 MB/s\u001b[0m eta \u001b[36m0:00:00\u001b[0m\n",
            "\u001b[?25hDownloading nvidia_cuda_runtime_cu12-12.4.127-py3-none-manylinux2014_x86_64.whl (883 kB)\n",
            "\u001b[2K   \u001b[90m━━━━━━━━━━━━━━━━━━━━━━━━━━━━━━━━━━━━━━━━\u001b[0m \u001b[32m883.7/883.7 kB\u001b[0m \u001b[31m63.5 MB/s\u001b[0m eta \u001b[36m0:00:00\u001b[0m\n",
            "\u001b[?25hDownloading nvidia_cudnn_cu12-9.1.0.70-py3-none-manylinux2014_x86_64.whl (664.8 MB)\n",
            "\u001b[2K   \u001b[90m━━━━━━━━━━━━━━━━━━━━━━━━━━━━━━━━━━━━━━━━\u001b[0m \u001b[32m664.8/664.8 MB\u001b[0m \u001b[31m1.7 MB/s\u001b[0m eta \u001b[36m0:00:00\u001b[0m\n",
            "\u001b[?25hDownloading nvidia_cufft_cu12-11.2.1.3-py3-none-manylinux2014_x86_64.whl (211.5 MB)\n",
            "\u001b[2K   \u001b[90m━━━━━━━━━━━━━━━━━━━━━━━━━━━━━━━━━━━━━━━━\u001b[0m \u001b[32m211.5/211.5 MB\u001b[0m \u001b[31m11.8 MB/s\u001b[0m eta \u001b[36m0:00:00\u001b[0m\n",
            "\u001b[?25hDownloading nvidia_curand_cu12-10.3.5.147-py3-none-manylinux2014_x86_64.whl (56.3 MB)\n",
            "\u001b[2K   \u001b[90m━━━━━━━━━━━━━━━━━━━━━━━━━━━━━━━━━━━━━━━━\u001b[0m \u001b[32m56.3/56.3 MB\u001b[0m \u001b[31m45.4 MB/s\u001b[0m eta \u001b[36m0:00:00\u001b[0m\n",
            "\u001b[?25hDownloading nvidia_cusolver_cu12-11.6.1.9-py3-none-manylinux2014_x86_64.whl (127.9 MB)\n",
            "\u001b[2K   \u001b[90m━━━━━━━━━━━━━━━━━━━━━━━━━━━━━━━━━━━━━━━━\u001b[0m \u001b[32m127.9/127.9 MB\u001b[0m \u001b[31m19.5 MB/s\u001b[0m eta \u001b[36m0:00:00\u001b[0m\n",
            "\u001b[?25hDownloading nvidia_cusparse_cu12-12.3.1.170-py3-none-manylinux2014_x86_64.whl (207.5 MB)\n",
            "\u001b[2K   \u001b[90m━━━━━━━━━━━━━━━━━━━━━━━━━━━━━━━━━━━━━━━━\u001b[0m \u001b[32m207.5/207.5 MB\u001b[0m \u001b[31m3.3 MB/s\u001b[0m eta \u001b[36m0:00:00\u001b[0m\n",
            "\u001b[?25hDownloading nvidia_nvjitlink_cu12-12.4.127-py3-none-manylinux2014_x86_64.whl (21.1 MB)\n",
            "\u001b[2K   \u001b[90m━━━━━━━━━━━━━━━━━━━━━━━━━━━━━━━━━━━━━━━━\u001b[0m \u001b[32m21.1/21.1 MB\u001b[0m \u001b[31m112.1 MB/s\u001b[0m eta \u001b[36m0:00:00\u001b[0m\n",
            "\u001b[?25hInstalling collected packages: nvidia-nvjitlink-cu12, nvidia-curand-cu12, nvidia-cufft-cu12, nvidia-cuda-runtime-cu12, nvidia-cuda-nvrtc-cu12, nvidia-cuda-cupti-cu12, nvidia-cublas-cu12, lightning-utilities, nvidia-cusparse-cu12, nvidia-cudnn-cu12, nvidia-cusolver-cu12, torchmetrics\n",
            "  Attempting uninstall: nvidia-nvjitlink-cu12\n",
            "    Found existing installation: nvidia-nvjitlink-cu12 12.5.82\n",
            "    Uninstalling nvidia-nvjitlink-cu12-12.5.82:\n",
            "      Successfully uninstalled nvidia-nvjitlink-cu12-12.5.82\n",
            "  Attempting uninstall: nvidia-curand-cu12\n",
            "    Found existing installation: nvidia-curand-cu12 10.3.6.82\n",
            "    Uninstalling nvidia-curand-cu12-10.3.6.82:\n",
            "      Successfully uninstalled nvidia-curand-cu12-10.3.6.82\n",
            "  Attempting uninstall: nvidia-cufft-cu12\n",
            "    Found existing installation: nvidia-cufft-cu12 11.2.3.61\n",
            "    Uninstalling nvidia-cufft-cu12-11.2.3.61:\n",
            "      Successfully uninstalled nvidia-cufft-cu12-11.2.3.61\n",
            "  Attempting uninstall: nvidia-cuda-runtime-cu12\n",
            "    Found existing installation: nvidia-cuda-runtime-cu12 12.5.82\n",
            "    Uninstalling nvidia-cuda-runtime-cu12-12.5.82:\n",
            "      Successfully uninstalled nvidia-cuda-runtime-cu12-12.5.82\n",
            "  Attempting uninstall: nvidia-cuda-nvrtc-cu12\n",
            "    Found existing installation: nvidia-cuda-nvrtc-cu12 12.5.82\n",
            "    Uninstalling nvidia-cuda-nvrtc-cu12-12.5.82:\n",
            "      Successfully uninstalled nvidia-cuda-nvrtc-cu12-12.5.82\n",
            "  Attempting uninstall: nvidia-cuda-cupti-cu12\n",
            "    Found existing installation: nvidia-cuda-cupti-cu12 12.5.82\n",
            "    Uninstalling nvidia-cuda-cupti-cu12-12.5.82:\n",
            "      Successfully uninstalled nvidia-cuda-cupti-cu12-12.5.82\n",
            "  Attempting uninstall: nvidia-cublas-cu12\n",
            "    Found existing installation: nvidia-cublas-cu12 12.5.3.2\n",
            "    Uninstalling nvidia-cublas-cu12-12.5.3.2:\n",
            "      Successfully uninstalled nvidia-cublas-cu12-12.5.3.2\n",
            "  Attempting uninstall: nvidia-cusparse-cu12\n",
            "    Found existing installation: nvidia-cusparse-cu12 12.5.1.3\n",
            "    Uninstalling nvidia-cusparse-cu12-12.5.1.3:\n",
            "      Successfully uninstalled nvidia-cusparse-cu12-12.5.1.3\n",
            "  Attempting uninstall: nvidia-cudnn-cu12\n",
            "    Found existing installation: nvidia-cudnn-cu12 9.3.0.75\n",
            "    Uninstalling nvidia-cudnn-cu12-9.3.0.75:\n",
            "      Successfully uninstalled nvidia-cudnn-cu12-9.3.0.75\n",
            "  Attempting uninstall: nvidia-cusolver-cu12\n",
            "    Found existing installation: nvidia-cusolver-cu12 11.6.3.83\n",
            "    Uninstalling nvidia-cusolver-cu12-11.6.3.83:\n",
            "      Successfully uninstalled nvidia-cusolver-cu12-11.6.3.83\n",
            "Successfully installed lightning-utilities-0.14.3 nvidia-cublas-cu12-12.4.5.8 nvidia-cuda-cupti-cu12-12.4.127 nvidia-cuda-nvrtc-cu12-12.4.127 nvidia-cuda-runtime-cu12-12.4.127 nvidia-cudnn-cu12-9.1.0.70 nvidia-cufft-cu12-11.2.1.3 nvidia-curand-cu12-10.3.5.147 nvidia-cusolver-cu12-11.6.1.9 nvidia-cusparse-cu12-12.3.1.170 nvidia-nvjitlink-cu12-12.4.127 torchmetrics-1.7.1\n",
            "Collecting fvcore\n",
            "  Downloading fvcore-0.1.5.post20221221.tar.gz (50 kB)\n",
            "\u001b[2K     \u001b[90m━━━━━━━━━━━━━━━━━━━━━━━━━━━━━━━━━━━━━━━━\u001b[0m \u001b[32m50.2/50.2 kB\u001b[0m \u001b[31m5.1 MB/s\u001b[0m eta \u001b[36m0:00:00\u001b[0m\n",
            "\u001b[?25h  Preparing metadata (setup.py) ... \u001b[?25l\u001b[?25hdone\n",
            "Requirement already satisfied: numpy in /usr/local/lib/python3.11/dist-packages (from fvcore) (2.0.2)\n",
            "Collecting yacs>=0.1.6 (from fvcore)\n",
            "  Downloading yacs-0.1.8-py3-none-any.whl.metadata (639 bytes)\n",
            "Requirement already satisfied: pyyaml>=5.1 in /usr/local/lib/python3.11/dist-packages (from fvcore) (6.0.2)\n",
            "Requirement already satisfied: tqdm in /usr/local/lib/python3.11/dist-packages (from fvcore) (4.67.1)\n",
            "Requirement already satisfied: termcolor>=1.1 in /usr/local/lib/python3.11/dist-packages (from fvcore) (3.1.0)\n",
            "Requirement already satisfied: Pillow in /usr/local/lib/python3.11/dist-packages (from fvcore) (11.2.1)\n",
            "Requirement already satisfied: tabulate in /usr/local/lib/python3.11/dist-packages (from fvcore) (0.9.0)\n",
            "Collecting iopath>=0.1.7 (from fvcore)\n",
            "  Downloading iopath-0.1.10.tar.gz (42 kB)\n",
            "\u001b[2K     \u001b[90m━━━━━━━━━━━━━━━━━━━━━━━━━━━━━━━━━━━━━━━━\u001b[0m \u001b[32m42.2/42.2 kB\u001b[0m \u001b[31m4.9 MB/s\u001b[0m eta \u001b[36m0:00:00\u001b[0m\n",
            "\u001b[?25h  Preparing metadata (setup.py) ... \u001b[?25l\u001b[?25hdone\n",
            "Requirement already satisfied: typing_extensions in /usr/local/lib/python3.11/dist-packages (from iopath>=0.1.7->fvcore) (4.13.2)\n",
            "Collecting portalocker (from iopath>=0.1.7->fvcore)\n",
            "  Downloading portalocker-3.1.1-py3-none-any.whl.metadata (8.6 kB)\n",
            "Downloading yacs-0.1.8-py3-none-any.whl (14 kB)\n",
            "Downloading portalocker-3.1.1-py3-none-any.whl (19 kB)\n",
            "Building wheels for collected packages: fvcore, iopath\n",
            "  Building wheel for fvcore (setup.py) ... \u001b[?25l\u001b[?25hdone\n",
            "  Created wheel for fvcore: filename=fvcore-0.1.5.post20221221-py3-none-any.whl size=61397 sha256=d16e0c998f1aa7ee14ca9bf90dc2a53a2850c5b8ba27cfb61d043aa129f1c201\n",
            "  Stored in directory: /root/.cache/pip/wheels/65/71/95/3b8fde5c65c6e4a806e0867c1651dcc71a1cb2f3430e8f355f\n",
            "  Building wheel for iopath (setup.py) ... \u001b[?25l\u001b[?25hdone\n",
            "  Created wheel for iopath: filename=iopath-0.1.10-py3-none-any.whl size=31527 sha256=91909894af09c8c5be88c7c409af18fa1950b83dd4cd67ee85281176234ad6ef\n",
            "  Stored in directory: /root/.cache/pip/wheels/ba/5e/16/6117f8fe7e9c0c161a795e10d94645ebcf301ccbd01f66d8ec\n",
            "Successfully built fvcore iopath\n",
            "Installing collected packages: yacs, portalocker, iopath, fvcore\n",
            "Successfully installed fvcore-0.1.5.post20221221 iopath-0.1.10 portalocker-3.1.1 yacs-0.1.8\n"
          ]
        }
      ],
      "source": [
        "!pip install torchmetrics\n",
        "!pip install fvcore"
      ]
    },
    {
      "cell_type": "code",
      "execution_count": null,
      "metadata": {
        "colab": {
          "base_uri": "https://localhost:8080/"
        },
        "id": "z2LFD5EkeGs3",
        "outputId": "65418188-37a0-4978-baa0-ffd03939cca6"
      },
      "outputs": [
        {
          "output_type": "stream",
          "name": "stdout",
          "text": [
            "Cloning into 'AML_2025_project4'...\n",
            "remote: Enumerating objects: 124, done.\u001b[K\n",
            "remote: Counting objects: 100% (18/18), done.\u001b[K\n",
            "remote: Compressing objects: 100% (12/12), done.\u001b[K\n",
            "remote: Total 124 (delta 8), reused 6 (delta 6), pack-reused 106 (from 2)\u001b[K\n",
            "Receiving objects: 100% (124/124), 21.50 MiB | 15.89 MiB/s, done.\n",
            "Resolving deltas: 100% (43/43), done.\n",
            "Mounted at /content/drive\n"
          ]
        }
      ],
      "source": [
        "from google.colab import drive\n",
        "import os\n",
        "\n",
        "!git clone -b angelo_albumentations --single-branch https://github.com/AngeloBongiorno/AML_2025_project4.git\n",
        "\n",
        "!cp AML_2025_project4/utils.py .\n",
        "\n",
        "drive.mount('/content/drive')"
      ]
    },
    {
      "cell_type": "code",
      "execution_count": null,
      "metadata": {
        "colab": {
          "base_uri": "https://localhost:8080/"
        },
        "id": "CvdkrFwFI0Qs",
        "outputId": "3d29a8a0-89b0-4eca-b94a-83690f609617"
      },
      "outputs": [
        {
          "output_type": "execute_result",
          "data": {
            "text/plain": [
              "<module 'utils' from '/content/utils.py'>"
            ]
          },
          "metadata": {},
          "execution_count": 3
        }
      ],
      "source": [
        "import importlib\n",
        "import utils\n",
        "\n",
        "importlib.reload(utils)"
      ]
    },
    {
      "cell_type": "code",
      "execution_count": null,
      "metadata": {
        "colab": {
          "base_uri": "https://localhost:8080/"
        },
        "id": "laEb8KOytCpo",
        "outputId": "42afed76-fa26-44a4-e9d6-ba957d157ed6"
      },
      "outputs": [
        {
          "output_type": "stream",
          "name": "stdout",
          "text": [
            "Extracting training...\n",
            "training extracted!\n",
            "Extracting validation...\n",
            "validation extracted!\n",
            "Extraction check completed!\n",
            "{'training_urban': '/content/dataset/Train/Urban', 'training_rural': '/content/dataset/Train/Rural', 'validation_urban': '/content/dataset/Val/Urban', 'validation_rural': '/content/dataset/Val/Rural'}\n"
          ]
        }
      ],
      "source": [
        "import tqdm\n",
        "\n",
        "from utils import get_loveDA\n",
        "\n",
        "paths = get_loveDA(verbose=True)\n",
        "print(paths)\n",
        "\n",
        "TRAINING_PATH_URBAN = paths[\"training_urban\"]\n",
        "TRAINING_PATH_RURAL = paths[\"training_rural\"]\n",
        "VAL_PATH_URBAN = paths[\"validation_urban\"]\n",
        "VAL_PATH_RURAL = paths[\"validation_rural\"]"
      ]
    },
    {
      "cell_type": "code",
      "source": [
        "SEM_CLASSES = [\n",
        "    'background',\n",
        "    'building',\n",
        "    'road',\n",
        "    'water',\n",
        "    'barren',\n",
        "    'forest',\n",
        "    'agriculture'\n",
        "]\n",
        "\n",
        "NUM_CLASSES = len(SEM_CLASSES)\n",
        "sem_class_to_idx = {cls: idx for (idx, cls) in enumerate(SEM_CLASSES)}\n",
        "\n",
        "RESIZE = 512\n",
        "\n",
        "BATCH_SIZE = 16\n",
        "\n",
        "EPOCHS = 20\n",
        "\n",
        "SEED = 42\n",
        "\n",
        "STEP_SIZE = 14\n",
        "\n",
        "GAMMA = 0.1\n",
        "\n",
        "LR = 1e-2\n",
        "\n",
        "LOSS_TYPE = \"ohem\"\n",
        "\n",
        "IGNORE_INDEX = -1\n",
        "\n",
        "WEIGHT_DECAY = 1e-3\n",
        "\n",
        "MOMENTUM = 0.8\n",
        "\n",
        "PLATEAU = True\n",
        "\n",
        "P = 0.5 # probabilità augmentation\n",
        "\n",
        "SHOW_IMG = False"
      ],
      "metadata": {
        "id": "VJdiPeF5idkI"
      },
      "execution_count": null,
      "outputs": []
    },
    {
      "cell_type": "markdown",
      "source": [
        "# Define and instantiate"
      ],
      "metadata": {
        "id": "dAYUGwGYiFGi"
      }
    },
    {
      "cell_type": "markdown",
      "metadata": {
        "id": "UrjECeMs7Sc5"
      },
      "source": [
        "### Define PIDnet"
      ]
    },
    {
      "cell_type": "code",
      "execution_count": null,
      "metadata": {
        "id": "QWTXrB6FZo_G"
      },
      "outputs": [],
      "source": [
        "import torch\n",
        "import torch.nn as nn\n",
        "import torch.nn.functional as F\n",
        "\n",
        "BatchNorm2d = nn.BatchNorm2d\n",
        "bn_mom = 0.1\n",
        "algc = False\n",
        "\n",
        "class BasicBlock(nn.Module):\n",
        "    expansion = 1\n",
        "\n",
        "    def __init__(self, inplanes, planes, stride=1, downsample=None, no_relu=False):\n",
        "        super(BasicBlock, self).__init__()\n",
        "        self.conv1 = nn.Conv2d(inplanes, planes, kernel_size=3, stride=stride,\n",
        "                               padding=1, bias=False)\n",
        "        self.bn1 = BatchNorm2d(planes, momentum=bn_mom)\n",
        "        self.relu = nn.ReLU(inplace=True)\n",
        "        self.conv2 = nn.Conv2d(planes, planes, kernel_size=3,\n",
        "                               padding=1, bias=False)\n",
        "        self.bn2 = BatchNorm2d(planes, momentum=bn_mom)\n",
        "        self.downsample = downsample\n",
        "        self.stride = stride\n",
        "        self.no_relu = no_relu\n",
        "\n",
        "    def forward(self, x):\n",
        "        residual = x\n",
        "\n",
        "        out = self.conv1(x)\n",
        "        out = self.bn1(out)\n",
        "        out = self.relu(out)\n",
        "\n",
        "        out = self.conv2(out)\n",
        "        out = self.bn2(out)\n",
        "\n",
        "        if self.downsample is not None:\n",
        "            residual = self.downsample(x)\n",
        "\n",
        "        out += residual\n",
        "\n",
        "        if self.no_relu:\n",
        "            return out\n",
        "        else:\n",
        "            return self.relu(out)\n",
        "\n",
        "class Bottleneck(nn.Module):\n",
        "    expansion = 2\n",
        "\n",
        "    def __init__(self, inplanes, planes, stride=1, downsample=None, no_relu=True):\n",
        "        super(Bottleneck, self).__init__()\n",
        "        self.conv1 = nn.Conv2d(inplanes, planes, kernel_size=1, bias=False)\n",
        "        self.bn1 = BatchNorm2d(planes, momentum=bn_mom)\n",
        "        self.conv2 = nn.Conv2d(planes, planes, kernel_size=3, stride=stride,\n",
        "                               padding=1, bias=False)\n",
        "        self.bn2 = BatchNorm2d(planes, momentum=bn_mom)\n",
        "        self.conv3 = nn.Conv2d(planes, planes * self.expansion, kernel_size=1,\n",
        "                               bias=False)\n",
        "        self.bn3 = BatchNorm2d(planes * self.expansion, momentum=bn_mom)\n",
        "        self.relu = nn.ReLU(inplace=True)\n",
        "        self.downsample = downsample\n",
        "        self.stride = stride\n",
        "        self.no_relu = no_relu\n",
        "\n",
        "    def forward(self, x):\n",
        "        residual = x\n",
        "\n",
        "        out = self.conv1(x)\n",
        "        out = self.bn1(out)\n",
        "        out = self.relu(out)\n",
        "\n",
        "        out = self.conv2(out)\n",
        "        out = self.bn2(out)\n",
        "        out = self.relu(out)\n",
        "\n",
        "        out = self.conv3(out)\n",
        "        out = self.bn3(out)\n",
        "\n",
        "        if self.downsample is not None:\n",
        "            residual = self.downsample(x)\n",
        "\n",
        "        out += residual\n",
        "        if self.no_relu:\n",
        "            return out\n",
        "        else:\n",
        "            return self.relu(out)\n",
        "\n",
        "class segmenthead(nn.Module):\n",
        "\n",
        "    def __init__(self, inplanes, interplanes, outplanes, scale_factor=None):\n",
        "        super(segmenthead, self).__init__()\n",
        "        self.bn1 = BatchNorm2d(inplanes, momentum=bn_mom)\n",
        "        self.conv1 = nn.Conv2d(inplanes, interplanes, kernel_size=3, padding=1, bias=False)\n",
        "        self.bn2 = BatchNorm2d(interplanes, momentum=bn_mom)\n",
        "        self.relu = nn.ReLU(inplace=True)\n",
        "        self.conv2 = nn.Conv2d(interplanes, outplanes, kernel_size=1, padding=0, bias=True)\n",
        "        self.scale_factor = scale_factor\n",
        "\n",
        "    def forward(self, x):\n",
        "\n",
        "        x = self.conv1(self.relu(self.bn1(x)))\n",
        "        out = self.conv2(self.relu(self.bn2(x)))\n",
        "\n",
        "        if self.scale_factor is not None:\n",
        "            height = x.shape[-2] * self.scale_factor\n",
        "            width = x.shape[-1] * self.scale_factor\n",
        "            out = F.interpolate(out,\n",
        "                        size=[height, width],\n",
        "                        mode='bilinear', align_corners=algc)\n",
        "\n",
        "        return out\n",
        "\n",
        "class DAPPM(nn.Module):\n",
        "    def __init__(self, inplanes, branch_planes, outplanes, BatchNorm=nn.BatchNorm2d):\n",
        "        super(DAPPM, self).__init__()\n",
        "        bn_mom = 0.1\n",
        "        self.scale1 = nn.Sequential(nn.AvgPool2d(kernel_size=5, stride=2, padding=2),\n",
        "                                    BatchNorm(inplanes, momentum=bn_mom),\n",
        "                                    nn.ReLU(inplace=True),\n",
        "                                    nn.Conv2d(inplanes, branch_planes, kernel_size=1, bias=False),\n",
        "                                    )\n",
        "        self.scale2 = nn.Sequential(nn.AvgPool2d(kernel_size=9, stride=4, padding=4),\n",
        "                                    BatchNorm(inplanes, momentum=bn_mom),\n",
        "                                    nn.ReLU(inplace=True),\n",
        "                                    nn.Conv2d(inplanes, branch_planes, kernel_size=1, bias=False),\n",
        "                                    )\n",
        "        self.scale3 = nn.Sequential(nn.AvgPool2d(kernel_size=17, stride=8, padding=8),\n",
        "                                    BatchNorm(inplanes, momentum=bn_mom),\n",
        "                                    nn.ReLU(inplace=True),\n",
        "                                    nn.Conv2d(inplanes, branch_planes, kernel_size=1, bias=False),\n",
        "                                    )\n",
        "        self.scale4 = nn.Sequential(nn.AdaptiveAvgPool2d((1, 1)),\n",
        "                                    BatchNorm(inplanes, momentum=bn_mom),\n",
        "                                    nn.ReLU(inplace=True),\n",
        "                                    nn.Conv2d(inplanes, branch_planes, kernel_size=1, bias=False),\n",
        "                                    )\n",
        "        self.scale0 = nn.Sequential(\n",
        "                                    BatchNorm(inplanes, momentum=bn_mom),\n",
        "                                    nn.ReLU(inplace=True),\n",
        "                                    nn.Conv2d(inplanes, branch_planes, kernel_size=1, bias=False),\n",
        "                                    )\n",
        "        self.process1 = nn.Sequential(\n",
        "                                    BatchNorm(branch_planes, momentum=bn_mom),\n",
        "                                    nn.ReLU(inplace=True),\n",
        "                                    nn.Conv2d(branch_planes, branch_planes, kernel_size=3, padding=1, bias=False),\n",
        "                                    )\n",
        "        self.process2 = nn.Sequential(\n",
        "                                    BatchNorm(branch_planes, momentum=bn_mom),\n",
        "                                    nn.ReLU(inplace=True),\n",
        "                                    nn.Conv2d(branch_planes, branch_planes, kernel_size=3, padding=1, bias=False),\n",
        "                                    )\n",
        "        self.process3 = nn.Sequential(\n",
        "                                    BatchNorm(branch_planes, momentum=bn_mom),\n",
        "                                    nn.ReLU(inplace=True),\n",
        "                                    nn.Conv2d(branch_planes, branch_planes, kernel_size=3, padding=1, bias=False),\n",
        "                                    )\n",
        "        self.process4 = nn.Sequential(\n",
        "                                    BatchNorm(branch_planes, momentum=bn_mom),\n",
        "                                    nn.ReLU(inplace=True),\n",
        "                                    nn.Conv2d(branch_planes, branch_planes, kernel_size=3, padding=1, bias=False),\n",
        "                                    )\n",
        "        self.compression = nn.Sequential(\n",
        "                                    BatchNorm(branch_planes * 5, momentum=bn_mom),\n",
        "                                    nn.ReLU(inplace=True),\n",
        "                                    nn.Conv2d(branch_planes * 5, outplanes, kernel_size=1, bias=False),\n",
        "                                    )\n",
        "        self.shortcut = nn.Sequential(\n",
        "                                    BatchNorm(inplanes, momentum=bn_mom),\n",
        "                                    nn.ReLU(inplace=True),\n",
        "                                    nn.Conv2d(inplanes, outplanes, kernel_size=1, bias=False),\n",
        "                                    )\n",
        "\n",
        "    def forward(self, x):\n",
        "        width = x.shape[-1]\n",
        "        height = x.shape[-2]\n",
        "        x_list = []\n",
        "\n",
        "        x_list.append(self.scale0(x))\n",
        "        x_list.append(self.process1((F.interpolate(self.scale1(x),\n",
        "                        size=[height, width],\n",
        "                        mode='bilinear', align_corners=algc)+x_list[0])))\n",
        "        x_list.append((self.process2((F.interpolate(self.scale2(x),\n",
        "                        size=[height, width],\n",
        "                        mode='bilinear', align_corners=algc)+x_list[1]))))\n",
        "        x_list.append(self.process3((F.interpolate(self.scale3(x),\n",
        "                        size=[height, width],\n",
        "                        mode='bilinear', align_corners=algc)+x_list[2])))\n",
        "        x_list.append(self.process4((F.interpolate(self.scale4(x),\n",
        "                        size=[height, width],\n",
        "                        mode='bilinear', align_corners=algc)+x_list[3])))\n",
        "\n",
        "        out = self.compression(torch.cat(x_list, 1)) + self.shortcut(x)\n",
        "        return out\n",
        "\n",
        "class PAPPM(nn.Module):\n",
        "    def __init__(self, inplanes, branch_planes, outplanes, BatchNorm=nn.BatchNorm2d):\n",
        "        super(PAPPM, self).__init__()\n",
        "        bn_mom = 0.1\n",
        "        self.scale1 = nn.Sequential(nn.AvgPool2d(kernel_size=5, stride=2, padding=2),\n",
        "                                    BatchNorm(inplanes, momentum=bn_mom),\n",
        "                                    nn.ReLU(inplace=True),\n",
        "                                    nn.Conv2d(inplanes, branch_planes, kernel_size=1, bias=False),\n",
        "                                    )\n",
        "        self.scale2 = nn.Sequential(nn.AvgPool2d(kernel_size=9, stride=4, padding=4),\n",
        "                                    BatchNorm(inplanes, momentum=bn_mom),\n",
        "                                    nn.ReLU(inplace=True),\n",
        "                                    nn.Conv2d(inplanes, branch_planes, kernel_size=1, bias=False),\n",
        "                                    )\n",
        "        self.scale3 = nn.Sequential(nn.AvgPool2d(kernel_size=17, stride=8, padding=8),\n",
        "                                    BatchNorm(inplanes, momentum=bn_mom),\n",
        "                                    nn.ReLU(inplace=True),\n",
        "                                    nn.Conv2d(inplanes, branch_planes, kernel_size=1, bias=False),\n",
        "                                    )\n",
        "        self.scale4 = nn.Sequential(nn.AdaptiveAvgPool2d((1, 1)),\n",
        "                                    BatchNorm(inplanes, momentum=bn_mom),\n",
        "                                    nn.ReLU(inplace=True),\n",
        "                                    nn.Conv2d(inplanes, branch_planes, kernel_size=1, bias=False),\n",
        "                                    )\n",
        "\n",
        "        self.scale0 = nn.Sequential(\n",
        "                                    BatchNorm(inplanes, momentum=bn_mom),\n",
        "                                    nn.ReLU(inplace=True),\n",
        "                                    nn.Conv2d(inplanes, branch_planes, kernel_size=1, bias=False),\n",
        "                                    )\n",
        "\n",
        "        self.scale_process = nn.Sequential(\n",
        "                                    BatchNorm(branch_planes*4, momentum=bn_mom),\n",
        "                                    nn.ReLU(inplace=True),\n",
        "                                    nn.Conv2d(branch_planes*4, branch_planes*4, kernel_size=3, padding=1, groups=4, bias=False),\n",
        "                                    )\n",
        "\n",
        "\n",
        "        self.compression = nn.Sequential(\n",
        "                                    BatchNorm(branch_planes * 5, momentum=bn_mom),\n",
        "                                    nn.ReLU(inplace=True),\n",
        "                                    nn.Conv2d(branch_planes * 5, outplanes, kernel_size=1, bias=False),\n",
        "                                    )\n",
        "\n",
        "        self.shortcut = nn.Sequential(\n",
        "                                    BatchNorm(inplanes, momentum=bn_mom),\n",
        "                                    nn.ReLU(inplace=True),\n",
        "                                    nn.Conv2d(inplanes, outplanes, kernel_size=1, bias=False),\n",
        "                                    )\n",
        "\n",
        "\n",
        "    def forward(self, x):\n",
        "        width = x.shape[-1]\n",
        "        height = x.shape[-2]\n",
        "        scale_list = []\n",
        "\n",
        "        x_ = self.scale0(x)\n",
        "        scale_list.append(F.interpolate(self.scale1(x), size=[height, width],\n",
        "                        mode='bilinear', align_corners=algc)+x_)\n",
        "        scale_list.append(F.interpolate(self.scale2(x), size=[height, width],\n",
        "                        mode='bilinear', align_corners=algc)+x_)\n",
        "        scale_list.append(F.interpolate(self.scale3(x), size=[height, width],\n",
        "                        mode='bilinear', align_corners=algc)+x_)\n",
        "        scale_list.append(F.interpolate(self.scale4(x), size=[height, width],\n",
        "                        mode='bilinear', align_corners=algc)+x_)\n",
        "\n",
        "        scale_out = self.scale_process(torch.cat(scale_list, 1))\n",
        "\n",
        "        out = self.compression(torch.cat([x_,scale_out], 1)) + self.shortcut(x)\n",
        "        return out\n",
        "\n",
        "\n",
        "class PagFM(nn.Module):\n",
        "    def __init__(self, in_channels, mid_channels, after_relu=False, with_channel=False, BatchNorm=nn.BatchNorm2d):\n",
        "        super(PagFM, self).__init__()\n",
        "        self.with_channel = with_channel\n",
        "        self.after_relu = after_relu\n",
        "        self.f_x = nn.Sequential(\n",
        "                                nn.Conv2d(in_channels, mid_channels,\n",
        "                                          kernel_size=1, bias=False),\n",
        "                                BatchNorm(mid_channels)\n",
        "                                )\n",
        "        self.f_y = nn.Sequential(\n",
        "                                nn.Conv2d(in_channels, mid_channels,\n",
        "                                          kernel_size=1, bias=False),\n",
        "                                BatchNorm(mid_channels)\n",
        "                                )\n",
        "        if with_channel:\n",
        "            self.up = nn.Sequential(\n",
        "                                    nn.Conv2d(mid_channels, in_channels,\n",
        "                                              kernel_size=1, bias=False),\n",
        "                                    BatchNorm(in_channels)\n",
        "                                   )\n",
        "        if after_relu:\n",
        "            self.relu = nn.ReLU(inplace=True)\n",
        "\n",
        "    def forward(self, x, y):\n",
        "        input_size = x.size()\n",
        "        if self.after_relu:\n",
        "            y = self.relu(y)\n",
        "            x = self.relu(x)\n",
        "\n",
        "        y_q = self.f_y(y)\n",
        "        y_q = F.interpolate(y_q, size=[input_size[2], input_size[3]],\n",
        "                            mode='bilinear', align_corners=False)\n",
        "        x_k = self.f_x(x)\n",
        "\n",
        "        if self.with_channel:\n",
        "            sim_map = torch.sigmoid(self.up(x_k * y_q))\n",
        "        else:\n",
        "            sim_map = torch.sigmoid(torch.sum(x_k * y_q, dim=1).unsqueeze(1))\n",
        "\n",
        "        y = F.interpolate(y, size=[input_size[2], input_size[3]],\n",
        "                            mode='bilinear', align_corners=False)\n",
        "        x = (1-sim_map)*x + sim_map*y\n",
        "\n",
        "        return x\n",
        "\n",
        "class Light_Bag(nn.Module):\n",
        "    def __init__(self, in_channels, out_channels, BatchNorm=nn.BatchNorm2d):\n",
        "        super(Light_Bag, self).__init__()\n",
        "        self.conv_p = nn.Sequential(\n",
        "                                nn.Conv2d(in_channels, out_channels,\n",
        "                                          kernel_size=1, bias=False),\n",
        "                                BatchNorm(out_channels)\n",
        "                                )\n",
        "        self.conv_i = nn.Sequential(\n",
        "                                nn.Conv2d(in_channels, out_channels,\n",
        "                                          kernel_size=1, bias=False),\n",
        "                                BatchNorm(out_channels)\n",
        "                                )\n",
        "\n",
        "    def forward(self, p, i, d):\n",
        "        edge_att = torch.sigmoid(d)\n",
        "\n",
        "        p_add = self.conv_p((1-edge_att)*i + p)\n",
        "        i_add = self.conv_i(i + edge_att*p)\n",
        "\n",
        "        return p_add + i_add\n",
        "\n",
        "\n",
        "class DDFMv2(nn.Module):\n",
        "    def __init__(self, in_channels, out_channels, BatchNorm=nn.BatchNorm2d):\n",
        "        super(DDFMv2, self).__init__()\n",
        "        self.conv_p = nn.Sequential(\n",
        "                                BatchNorm(in_channels),\n",
        "                                nn.ReLU(inplace=True),\n",
        "                                nn.Conv2d(in_channels, out_channels,\n",
        "                                          kernel_size=1, bias=False),\n",
        "                                BatchNorm(out_channels)\n",
        "                                )\n",
        "        self.conv_i = nn.Sequential(\n",
        "                                BatchNorm(in_channels),\n",
        "                                nn.ReLU(inplace=True),\n",
        "                                nn.Conv2d(in_channels, out_channels,\n",
        "                                          kernel_size=1, bias=False),\n",
        "                                BatchNorm(out_channels)\n",
        "                                )\n",
        "\n",
        "    def forward(self, p, i, d):\n",
        "        edge_att = torch.sigmoid(d)\n",
        "\n",
        "        p_add = self.conv_p((1-edge_att)*i + p)\n",
        "        i_add = self.conv_i(i + edge_att*p)\n",
        "\n",
        "        return p_add + i_add\n",
        "\n",
        "class Bag(nn.Module):\n",
        "    def __init__(self, in_channels, out_channels, BatchNorm=nn.BatchNorm2d):\n",
        "        super(Bag, self).__init__()\n",
        "\n",
        "        self.conv = nn.Sequential(\n",
        "                                BatchNorm(in_channels),\n",
        "                                nn.ReLU(inplace=True),\n",
        "                                nn.Conv2d(in_channels, out_channels,\n",
        "                                          kernel_size=3, padding=1, bias=False)\n",
        "                                )\n",
        "\n",
        "\n",
        "    def forward(self, p, i, d):\n",
        "        edge_att = torch.sigmoid(d)\n",
        "        return self.conv(edge_att*p + (1-edge_att)*i)"
      ]
    },
    {
      "cell_type": "code",
      "execution_count": null,
      "metadata": {
        "id": "vjCDANDmZZw3"
      },
      "outputs": [],
      "source": [
        "import torch\n",
        "import torch.nn as nn\n",
        "import torch.nn.functional as F\n",
        "import time\n",
        "import logging\n",
        "\n",
        "BatchNorm2d = nn.BatchNorm2d\n",
        "bn_mom = 0.1\n",
        "algc = False\n",
        "\n",
        "\n",
        "\n",
        "class PIDNet(nn.Module):\n",
        "\n",
        "    def __init__(self, m=2, n=3, num_classes=19, planes=64, ppm_planes=96, head_planes=128, augment=True):\n",
        "        super(PIDNet, self).__init__()\n",
        "        self.augment = augment\n",
        "\n",
        "        # I Branch\n",
        "        self.conv1 =  nn.Sequential(\n",
        "                          nn.Conv2d(3,planes,kernel_size=3, stride=2, padding=1),\n",
        "                          BatchNorm2d(planes, momentum=bn_mom),\n",
        "                          nn.ReLU(inplace=True),\n",
        "                          nn.Conv2d(planes,planes,kernel_size=3, stride=2, padding=1),\n",
        "                          BatchNorm2d(planes, momentum=bn_mom),\n",
        "                          nn.ReLU(inplace=True),\n",
        "                      )\n",
        "\n",
        "        self.relu = nn.ReLU(inplace=True)\n",
        "        self.layer1 = self._make_layer(BasicBlock, planes, planes, m)\n",
        "        self.layer2 = self._make_layer(BasicBlock, planes, planes * 2, m, stride=2)\n",
        "        self.layer3 = self._make_layer(BasicBlock, planes * 2, planes * 4, n, stride=2)\n",
        "        self.layer4 = self._make_layer(BasicBlock, planes * 4, planes * 8, n, stride=2)\n",
        "        self.layer5 =  self._make_layer(Bottleneck, planes * 8, planes * 8, 2, stride=2)\n",
        "\n",
        "        # P Branch\n",
        "        self.compression3 = nn.Sequential(\n",
        "                                          nn.Conv2d(planes * 4, planes * 2, kernel_size=1, bias=False),\n",
        "                                          BatchNorm2d(planes * 2, momentum=bn_mom),\n",
        "                                          )\n",
        "\n",
        "        self.compression4 = nn.Sequential(\n",
        "                                          nn.Conv2d(planes * 8, planes * 2, kernel_size=1, bias=False),\n",
        "                                          BatchNorm2d(planes * 2, momentum=bn_mom),\n",
        "                                          )\n",
        "        self.pag3 = PagFM(planes * 2, planes)\n",
        "        self.pag4 = PagFM(planes * 2, planes)\n",
        "\n",
        "        self.layer3_ = self._make_layer(BasicBlock, planes * 2, planes * 2, m)\n",
        "        self.layer4_ = self._make_layer(BasicBlock, planes * 2, planes * 2, m)\n",
        "        self.layer5_ = self._make_layer(Bottleneck, planes * 2, planes * 2, 1)\n",
        "\n",
        "        # D Branch\n",
        "        if m == 2:\n",
        "            self.layer3_d = self._make_single_layer(BasicBlock, planes * 2, planes)\n",
        "            self.layer4_d = self._make_layer(Bottleneck, planes, planes, 1)\n",
        "            self.diff3 = nn.Sequential(\n",
        "                                        nn.Conv2d(planes * 4, planes, kernel_size=3, padding=1, bias=False),\n",
        "                                        BatchNorm2d(planes, momentum=bn_mom),\n",
        "                                        )\n",
        "            self.diff4 = nn.Sequential(\n",
        "                                     nn.Conv2d(planes * 8, planes * 2, kernel_size=3, padding=1, bias=False),\n",
        "                                     BatchNorm2d(planes * 2, momentum=bn_mom),\n",
        "                                     )\n",
        "            self.spp = PAPPM(planes * 16, ppm_planes, planes * 4)\n",
        "            self.dfm = Light_Bag(planes * 4, planes * 4)\n",
        "        else:\n",
        "            self.layer3_d = self._make_single_layer(BasicBlock, planes * 2, planes * 2)\n",
        "            self.layer4_d = self._make_single_layer(BasicBlock, planes * 2, planes * 2)\n",
        "            self.diff3 = nn.Sequential(\n",
        "                                        nn.Conv2d(planes * 4, planes * 2, kernel_size=3, padding=1, bias=False),\n",
        "                                        BatchNorm2d(planes * 2, momentum=bn_mom),\n",
        "                                        )\n",
        "            self.diff4 = nn.Sequential(\n",
        "                                     nn.Conv2d(planes * 8, planes * 2, kernel_size=3, padding=1, bias=False),\n",
        "                                     BatchNorm2d(planes * 2, momentum=bn_mom),\n",
        "                                     )\n",
        "            self.spp = DAPPM(planes * 16, ppm_planes, planes * 4)\n",
        "            self.dfm = Bag(planes * 4, planes * 4)\n",
        "\n",
        "        self.layer5_d = self._make_layer(Bottleneck, planes * 2, planes * 2, 1)\n",
        "\n",
        "        # Prediction Head\n",
        "        if self.augment:\n",
        "            self.seghead_p = segmenthead(planes * 2, head_planes, num_classes)\n",
        "            self.seghead_d = segmenthead(planes * 2, planes, 1)\n",
        "\n",
        "        self.final_layer = segmenthead(planes * 4, head_planes, num_classes)\n",
        "\n",
        "\n",
        "        for m in self.modules():\n",
        "            if isinstance(m, nn.Conv2d):\n",
        "                nn.init.kaiming_normal_(m.weight, mode='fan_out', nonlinearity='relu')\n",
        "            elif isinstance(m, BatchNorm2d):\n",
        "                nn.init.constant_(m.weight, 1)\n",
        "                nn.init.constant_(m.bias, 0)\n",
        "\n",
        "\n",
        "    def _make_layer(self, block, inplanes, planes, blocks, stride=1):\n",
        "        downsample = None\n",
        "        if stride != 1 or inplanes != planes * block.expansion:\n",
        "            downsample = nn.Sequential(\n",
        "                nn.Conv2d(inplanes, planes * block.expansion,\n",
        "                          kernel_size=1, stride=stride, bias=False),\n",
        "                nn.BatchNorm2d(planes * block.expansion, momentum=bn_mom),\n",
        "            )\n",
        "\n",
        "        layers = []\n",
        "        layers.append(block(inplanes, planes, stride, downsample))\n",
        "        inplanes = planes * block.expansion\n",
        "        for i in range(1, blocks):\n",
        "            if i == (blocks-1):\n",
        "                layers.append(block(inplanes, planes, stride=1, no_relu=True))\n",
        "            else:\n",
        "                layers.append(block(inplanes, planes, stride=1, no_relu=False))\n",
        "\n",
        "        return nn.Sequential(*layers)\n",
        "\n",
        "    def _make_single_layer(self, block, inplanes, planes, stride=1):\n",
        "        downsample = None\n",
        "        if stride != 1 or inplanes != planes * block.expansion:\n",
        "            downsample = nn.Sequential(\n",
        "                nn.Conv2d(inplanes, planes * block.expansion,\n",
        "                          kernel_size=1, stride=stride, bias=False),\n",
        "                nn.BatchNorm2d(planes * block.expansion, momentum=bn_mom),\n",
        "            )\n",
        "\n",
        "        layer = block(inplanes, planes, stride, downsample, no_relu=True)\n",
        "\n",
        "        return layer\n",
        "\n",
        "    def forward(self, x):\n",
        "\n",
        "        width_output = x.shape[-1] // 8\n",
        "        height_output = x.shape[-2] // 8\n",
        "\n",
        "        x = self.conv1(x)\n",
        "        x = self.layer1(x)\n",
        "        x = self.relu(self.layer2(self.relu(x)))\n",
        "        x_ = self.layer3_(x)\n",
        "        x_d = self.layer3_d(x)\n",
        "\n",
        "        x = self.relu(self.layer3(x))\n",
        "        x_ = self.pag3(x_, self.compression3(x))\n",
        "        x_d = x_d + F.interpolate(\n",
        "                        self.diff3(x),\n",
        "                        size=[height_output, width_output],\n",
        "                        mode='bilinear', align_corners=algc)\n",
        "        if self.augment:\n",
        "            temp_p = x_\n",
        "\n",
        "        x = self.relu(self.layer4(x))\n",
        "        x_ = self.layer4_(self.relu(x_))\n",
        "        x_d = self.layer4_d(self.relu(x_d))\n",
        "\n",
        "        x_ = self.pag4(x_, self.compression4(x))\n",
        "        x_d = x_d + F.interpolate(\n",
        "                        self.diff4(x),\n",
        "                        size=[height_output, width_output],\n",
        "                        mode='bilinear', align_corners=algc)\n",
        "        if self.augment:\n",
        "            temp_d = x_d\n",
        "\n",
        "        x_ = self.layer5_(self.relu(x_))\n",
        "        x_d = self.layer5_d(self.relu(x_d))\n",
        "        x = F.interpolate(\n",
        "                        self.spp(self.layer5(x)),\n",
        "                        size=[height_output, width_output],\n",
        "                        mode='bilinear', align_corners=algc)\n",
        "\n",
        "        x_ = self.final_layer(self.dfm(x_, x, x_d))\n",
        "\n",
        "        if self.augment:\n",
        "            x_extra_p = self.seghead_p(temp_p)\n",
        "            x_extra_d = self.seghead_d(temp_d)\n",
        "            return [x_extra_p, x_, x_extra_d]\n",
        "        else:\n",
        "            return x_\n",
        "\n",
        "def get_seg_model(cfg, imgnet_pretrained):\n",
        "\n",
        "    if 's' in cfg.MODEL.NAME:\n",
        "        model = PIDNet(m=2, n=3, num_classes=cfg.DATASET.NUM_CLASSES, planes=32, ppm_planes=96, head_planes=128, augment=True)\n",
        "    elif 'm' in cfg.MODEL.NAME:\n",
        "        model = PIDNet(m=2, n=3, num_classes=cfg.DATASET.NUM_CLASSES, planes=64, ppm_planes=96, head_planes=128, augment=True)\n",
        "    else:\n",
        "        model = PIDNet(m=3, n=4, num_classes=cfg.DATASET.NUM_CLASSES, planes=64, ppm_planes=112, head_planes=256, augment=True)\n",
        "\n",
        "    if imgnet_pretrained:\n",
        "        pretrained_state = torch.load(cfg.MODEL.PRETRAINED, map_location='cpu')['state_dict']\n",
        "        model_dict = model.state_dict()\n",
        "        pretrained_state = {k: v for k, v in pretrained_state.items() if (k in model_dict and v.shape == model_dict[k].shape)}\n",
        "        model_dict.update(pretrained_state)\n",
        "        msg = 'Loaded {} parameters!'.format(len(pretrained_state))\n",
        "        logging.info('Attention!!!')\n",
        "        logging.info(msg)\n",
        "        logging.info('Over!!!')\n",
        "        model.load_state_dict(model_dict, strict = False)\n",
        "    else:\n",
        "        pretrained_dict = torch.load(cfg.MODEL.PRETRAINED, map_location='cpu')\n",
        "        if 'state_dict' in pretrained_dict:\n",
        "            pretrained_dict = pretrained_dict['state_dict']\n",
        "        model_dict = model.state_dict()\n",
        "        pretrained_dict = {k[6:]: v for k, v in pretrained_dict.items() if (k[6:] in model_dict and v.shape == model_dict[k[6:]].shape)}\n",
        "        msg = 'Loaded {} parameters!'.format(len(pretrained_dict))\n",
        "        logging.info('Attention!!!')\n",
        "        logging.info(msg)\n",
        "        logging.info('Over!!!')\n",
        "        model_dict.update(pretrained_dict)\n",
        "        model.load_state_dict(model_dict, strict = False)\n",
        "\n",
        "    return model\n",
        "\n",
        "def get_pred_model(name, num_classes):\n",
        "\n",
        "    if 's' in name:\n",
        "        model = PIDNet(m=2, n=3, num_classes=num_classes, planes=32, ppm_planes=96, head_planes=128, augment=False)\n",
        "    elif 'm' in name:\n",
        "        model = PIDNet(m=2, n=3, num_classes=num_classes, planes=64, ppm_planes=96, head_planes=128, augment=False)\n",
        "    else:\n",
        "        model = PIDNet(m=3, n=4, num_classes=num_classes, planes=64, ppm_planes=112, head_planes=256, augment=False)\n",
        "\n",
        "    return model"
      ]
    },
    {
      "cell_type": "markdown",
      "metadata": {
        "id": "dw9SYUCgi6us"
      },
      "source": [
        "# Dataset & dataloader"
      ]
    },
    {
      "cell_type": "markdown",
      "source": [
        "## Dataset definition"
      ],
      "metadata": {
        "id": "wrMzI_LbjhP_"
      }
    },
    {
      "cell_type": "code",
      "execution_count": null,
      "metadata": {
        "id": "T6kSW8hGjAo9",
        "outputId": "474e8516-7e5e-4d92-9167-d792a08a9cf7",
        "colab": {
          "base_uri": "https://localhost:8080/"
        }
      },
      "outputs": [
        {
          "output_type": "stream",
          "name": "stderr",
          "text": [
            "/usr/local/lib/python3.11/dist-packages/albumentations/__init__.py:28: UserWarning: A new version of Albumentations is available: '2.0.7' (you have '2.0.6'). Upgrade using: pip install -U albumentations. To disable automatic update checks, set the environment variable NO_ALBUMENTATIONS_UPDATE to 1.\n",
            "  check_for_updates()\n"
          ]
        }
      ],
      "source": [
        "import os\n",
        "import torch\n",
        "from torch.utils.data import Dataset, DataLoader, random_split\n",
        "from torchvision import transforms\n",
        "from PIL import Image\n",
        "import numpy as np\n",
        "import cv2\n",
        "from albumentations.pytorch import ToTensorV2\n",
        "\n",
        "class SegmentationDataset(Dataset):\n",
        "    def __init__(self, image_dir, mask_dir, transform, augmentation=None):\n",
        "        self.image_dir = image_dir\n",
        "        self.mask_dir = mask_dir\n",
        "        self.transform = transform\n",
        "        self.image_filenames = sorted(os.listdir(image_dir))\n",
        "        self.mask_filenames = sorted(os.listdir(mask_dir))\n",
        "        self.augmentation = augmentation\n",
        "\n",
        "    def __len__(self):\n",
        "        return len(self.image_filenames)\n",
        "\n",
        "    def __getitem__(self, idx):\n",
        "        img_path = os.path.join(self.image_dir, self.image_filenames[idx])\n",
        "        mask_path = os.path.join(self.mask_dir, self.mask_filenames[idx])\n",
        "\n",
        "\n",
        "        image = cv2.imread(img_path)\n",
        "        mask = cv2.imread(mask_path)\n",
        "\n",
        "        image = cv2.cvtColor(image, cv2.COLOR_BGR2RGB)\n",
        "        mask = cv2.cvtColor(mask, cv2.COLOR_BGR2GRAY)\n",
        "\n",
        "\n",
        "        if self.augmentation:\n",
        "          transformed = self.augmentation(image=image, mask=mask)\n",
        "          image = transformed[\"image\"]\n",
        "          mask = transformed[\"mask\"]\n",
        "\n",
        "        if self.transform:\n",
        "            transformed = self.transform(image=image, mask=mask)\n",
        "            image = transformed[\"image\"]\n",
        "            mask = transformed[\"mask\"]\n",
        "\n",
        "\n",
        "        mask_np = np.array(mask)\n",
        "\n",
        "        edge = cv2.Canny(mask_np, 0.1, 0.2)\n",
        "\n",
        "        kernel = np.ones((3, 3), np.uint8)  # Kernel for dilation\n",
        "\n",
        "        edge = edge[6:-6, 6:-6]\n",
        "        edge = np.pad(edge, ((6,6),(6,6)), mode='constant')\n",
        "        boundaries = cv2.dilate(edge, kernel, iterations=1)  # dilate\n",
        "        boundaries = (boundaries > 50) * 1.0 # boundaries matrix is float with 1.0 or 0.0\n",
        "\n",
        "        mask = torch.as_tensor(np.array(mask), dtype=torch.int64) - 1\n",
        "\n",
        "        boundaries_tensor = torch.as_tensor(boundaries, dtype=torch.float32)\n",
        "\n",
        "\n",
        "        return image, mask, boundaries_tensor"
      ]
    },
    {
      "cell_type": "markdown",
      "source": [
        "## Define transformations\n",
        "(using albumentations)"
      ],
      "metadata": {
        "id": "f37GaIUFkvlY"
      }
    },
    {
      "cell_type": "code",
      "source": [
        "# Define transformations for images & masks\n",
        "import albumentations as A\n",
        "from albumentations.pytorch import ToTensorV2\n",
        "from torchvision.transforms import v2 as T\n",
        "import cv2\n",
        "import itertools\n",
        "\n",
        "\n",
        "resize_transform = A.Compose([\n",
        "    A.Resize(height=RESIZE, width=RESIZE, p=1),\n",
        "    A.ToFloat(),\n",
        "    ToTensorV2()\n",
        "])\n",
        "\n",
        "alb_aug0 = A.HorizontalFlip(p=P)\n",
        "alb_aug1 = A.GaussianBlur(p=P, sigma_limit=(0.5, 3.0))\n",
        "alb_aug2 = A.ElasticTransform(alpha=1300, sigma=20, p=P)\n",
        "alb_aug3 = A.HueSaturationValue(\n",
        "    hue_shift_limit=20,\n",
        "    sat_shift_limit=30,\n",
        "    val_shift_limit=20,\n",
        "    p=P\n",
        ")\n",
        "alb_aug4 = A.ColorJitter(brightness=0.2, contrast=0.2, saturation=0.2, hue=0.1, p=P)\n",
        "alb_aug5 = A.Spatter(\n",
        "    mode=\"mud\",\n",
        "    mean=(0.55, 0.55),\n",
        "    std=(0.25, 0.25),\n",
        "    cutout_threshold=(0.7, 0.7),\n",
        "    intensity=(0.6, 0.6),\n",
        "    color=(120, 40, 40),  # Reddish-brown mud\n",
        "    p=P\n",
        ")\n",
        "\n",
        "\n",
        "#Selezione delle 9 combinazioni specifiche\n",
        "augmentations = [\n",
        "    A.Compose([alb_aug0]),  # Solo orizzontale flip\n",
        "    A.Compose([alb_aug1]),  # Solo gaussian blur\n",
        "    A.Compose([alb_aug2]),  # Solo elastic transform\n",
        "    A.Compose([alb_aug3]),  # Solo hue, saturation, value\n",
        "    A.Compose([alb_aug4]),  # Solo color jitter\n",
        "    A.Compose([alb_aug5]),  # Solo spatter\n",
        "    A.Compose([alb_aug0, alb_aug1]),  # Flip + Gaussian blur\n",
        "    A.Compose([alb_aug2, alb_aug3]),   # Elastic transform + Hue, saturation, value\n",
        "    A.Compose([alb_aug4, alb_aug0, alb_aug1])  # HorizontalFlip + GussianBLur + ColorJitter\n",
        "]"
      ],
      "metadata": {
        "id": "cOr2yJ_6kvA4"
      },
      "execution_count": null,
      "outputs": []
    },
    {
      "cell_type": "markdown",
      "source": [
        "## Dataset instantiation"
      ],
      "metadata": {
        "id": "aRC4KXtmj3Pi"
      }
    },
    {
      "cell_type": "code",
      "source": [
        "# Create dataset objects\n",
        "DOMAIN_SHIFT = True\n",
        "\n",
        "train_datasets = []\n",
        "\n",
        "\n",
        "\n",
        "\n",
        "train_and_val_dataset_urban = SegmentationDataset(\n",
        "    TRAINING_PATH_URBAN + \"/images_png\",\n",
        "    TRAINING_PATH_URBAN + \"/masks_png\",\n",
        "    transform=resize_transform,\n",
        "    augmentation=None\n",
        ")\n",
        "\n",
        "val_ratio = 0.2\n",
        "generator = torch.Generator().manual_seed(42)\n",
        "val_size = int(len(train_and_val_dataset_urban) * val_ratio)\n",
        "train_size = len(train_and_val_dataset_urban) - val_size\n",
        "\n",
        "\n",
        "\n",
        "# instantiates validation dataset\n",
        "_, val_dataset = random_split(train_and_val_dataset_urban, [train_size, val_size], generator=generator)\n",
        "print(f\"Validation size: {len(val_dataset)}\")\n",
        "\n",
        "\n",
        "for i, augmentation in enumerate(augmentations):\n",
        "\n",
        "  # Create dataset object\n",
        "  train_and_val_dataset_urban_aug = SegmentationDataset(\n",
        "    TRAINING_PATH_URBAN + \"/images_png\",\n",
        "    TRAINING_PATH_URBAN + \"/masks_png\",\n",
        "    transform=resize_transform,\n",
        "    augmentation=augmentation\n",
        "  )\n",
        "  # Random split\n",
        "  train_dataset, _ = random_split(train_and_val_dataset_urban_aug, [train_size, val_size], generator=generator)\n",
        "  print(f\"Train size ({i}): {len(train_dataset)}\")\n",
        "\n",
        "  train_datasets.append(train_dataset)\n",
        "\n",
        "\n",
        "test_dataset = SegmentationDataset(VAL_PATH_RURAL + \"/images_png\", VAL_PATH_RURAL + \"/masks_png\",\n",
        "                                  transform=resize_transform)\n",
        "print(f\"Test size: {len(test_dataset)}\")"
      ],
      "metadata": {
        "id": "Zk4ZifehjuyZ",
        "colab": {
          "base_uri": "https://localhost:8080/"
        },
        "outputId": "9bc3082a-70fd-40d1-9803-14f0fd5c5a29"
      },
      "execution_count": null,
      "outputs": [
        {
          "output_type": "stream",
          "name": "stdout",
          "text": [
            "Validation size: 231\n",
            "Train size (0): 925\n",
            "Train size (1): 925\n",
            "Train size (2): 925\n",
            "Train size (3): 925\n",
            "Train size (4): 925\n",
            "Train size (5): 925\n",
            "Train size (6): 925\n",
            "Train size (7): 925\n",
            "Train size (8): 925\n",
            "Test size: 992\n"
          ]
        }
      ]
    },
    {
      "cell_type": "markdown",
      "source": [
        "## Loader instantiation"
      ],
      "metadata": {
        "id": "lyTIKtzjj7i0"
      }
    },
    {
      "cell_type": "code",
      "source": [
        "# Create DataLoaders\n",
        "train_loaders = []\n",
        "\n",
        "for dataset in train_datasets:\n",
        "  train_loader = DataLoader(dataset, batch_size=BATCH_SIZE, shuffle=True, num_workers=4)\n",
        "  train_loaders.append(train_loader)\n",
        "\n",
        "\n",
        "\n",
        "val_loader = DataLoader(val_dataset, batch_size=BATCH_SIZE, shuffle=False, num_workers=4)\n",
        "test_loader = DataLoader(test_dataset, batch_size=BATCH_SIZE, shuffle=False, num_workers=4)"
      ],
      "metadata": {
        "id": "vhsQeNzTj_mk"
      },
      "execution_count": null,
      "outputs": []
    },
    {
      "source": [
        "from utils import show\n",
        "from matplotlib import pyplot as plt\n",
        "\n",
        "\n",
        "if SHOW_IMG:\n",
        "  batch = next(iter(train_loader))\n",
        "  images, masks, boundaries = batch\n",
        "\n",
        "  fig, axes = plt.subplots(3, 3, figsize=(10, 10))\n",
        "\n",
        "  for i in range(3):\n",
        "\n",
        "\n",
        "      image_np = images[i].cpu().numpy().transpose(1, 2, 0)\n",
        "\n",
        "      axes[i, 0].imshow(image_np)\n",
        "      axes[i, 0].set_title(\"Image\")\n",
        "\n",
        "      axes[i, 1].imshow(masks[i].cpu().numpy(), cmap=\"gray\")\n",
        "      axes[i, 1].set_title(\"Mask\")\n",
        "\n",
        "      axes[i, 2].imshow(boundaries[i].cpu().numpy(), cmap=\"gray\")\n",
        "      axes[i, 2].set_title(\"Boundaries\")\n",
        "\n",
        "\n",
        "  plt.tight_layout()\n",
        "  plt.show()"
      ],
      "cell_type": "code",
      "metadata": {
        "id": "dFq4OlvO5_8R"
      },
      "execution_count": null,
      "outputs": []
    },
    {
      "cell_type": "markdown",
      "metadata": {
        "id": "O4pcqQXrMzza"
      },
      "source": [
        "### Instantiate model"
      ]
    },
    {
      "cell_type": "code",
      "execution_count": null,
      "metadata": {
        "id": "hZNWIM0DbnJv"
      },
      "outputs": [],
      "source": [
        "import gdown\n",
        "\n",
        "if (os.path.exists(\"./PIDNet_S_ImageNet.pth.tar\") == False):\n",
        "  url = \"https://drive.google.com/uc?id=1hIBp_8maRr60-B3PF0NVtaA6TYBvO4y-\"\n",
        "  output = \"./\"\n",
        "  gdown.download(url, output, quiet=False)\n",
        "\n",
        "  print(\"imagenet-pretrained pidnet weights downloaded\")\n",
        "\n",
        "\n",
        "class Config:\n",
        "  class MODEL:\n",
        "      NAME = 'pidnet_s'\n",
        "      PRETRAINED = 'PIDNet_S_ImageNet.pth.tar'\n",
        "  class DATASET:\n",
        "      NUM_CLASSES = NUM_CLASSES\n",
        "\n",
        "cfg = Config()\n",
        "\n",
        "model = get_seg_model(cfg, imgnet_pretrained=True)\n",
        "next(model.parameters()).device\n",
        "\n",
        "# Instanzia n modelli (uno per ogni dataloader)\n",
        "models = [get_seg_model(cfg, imgnet_pretrained=True) for _ in train_loaders]"
      ]
    },
    {
      "cell_type": "markdown",
      "metadata": {
        "id": "MSQUcy7_t2of"
      },
      "source": [
        "# Training Phase"
      ]
    },
    {
      "cell_type": "code",
      "execution_count": null,
      "metadata": {
        "id": "bAbmz5Cz4I4H",
        "colab": {
          "base_uri": "https://localhost:8080/"
        },
        "outputId": "9f0c4982-7f08-4e12-f2a4-5d58ab0034c3"
      },
      "outputs": [
        {
          "output_type": "stream",
          "name": "stdout",
          "text": [
            "cuda\n"
          ]
        }
      ],
      "source": [
        "device = torch.device(\"cuda\" if torch.cuda.is_available() else \"cpu\")\n",
        "\n",
        "optimizer = torch.optim.SGD(model.parameters(), lr=LR, momentum=MOMENTUM, weight_decay=WEIGHT_DECAY)\n",
        "\n",
        "scheduler = torch.optim.lr_scheduler.StepLR(optimizer, step_size=STEP_SIZE, gamma=GAMMA)\n",
        "\n",
        "print(device)"
      ]
    },
    {
      "cell_type": "code",
      "source": [
        "import torch\n",
        "import torch.nn as nn\n",
        "import torch.nn.functional as F\n",
        "\n",
        "# Extra Semantic Loss (Classica CrossEntropy Loss)\n",
        "class CrossEntropyLoss(nn.Module):\n",
        "    def __init__(self, num_outputs, weight=None, balance_weights=[0.4, 1.0], sb_weights=1.0):\n",
        "        super(CrossEntropyLoss, self).__init__()\n",
        "        self.loss = nn.CrossEntropyLoss(weight=weight, ignore_index=IGNORE_INDEX)\n",
        "        self.num_outputs = num_outputs\n",
        "        self.balance_weights = balance_weights\n",
        "        self.sb_weights = sb_weights\n",
        "\n",
        "    def _forward(self, pred, target):\n",
        "        return self.loss(pred, target)\n",
        "\n",
        "    def forward(self, score, target):\n",
        "        if self.num_outputs == 1:\n",
        "            score = [score]\n",
        "\n",
        "        if len(self.balance_weights) == len(score):\n",
        "            return sum([w * self._forward(x, target) for (w, x) in zip(self.balance_weights, score)])\n",
        "        elif len(score) == 1:\n",
        "            return self.sb_weights * self._forward(score[0], target)\n",
        "        else:\n",
        "            raise ValueError(\"lengths of prediction and target are not identical!\")\n",
        "\n",
        "class OhemCrossEntropy(nn.Module):\n",
        "    def __init__(self, thres=0.7, min_kept=26_000, balance_weights=[0.4, 1.0], sb_weights=1.0, weight=None):\n",
        "        super(OhemCrossEntropy, self).__init__()\n",
        "        self.thresh = thres\n",
        "        self.min_kept = max(1, min_kept)\n",
        "        self.ignore_label = IGNORE_INDEX\n",
        "        self.balance_weights = balance_weights\n",
        "        self.sb_weights = sb_weights\n",
        "        self.criterion = nn.CrossEntropyLoss(\n",
        "            weight=weight,\n",
        "            ignore_index=self.ignore_label,\n",
        "            reduction='none'\n",
        "        )\n",
        "\n",
        "    def _ce_forward(self, score, target):\n",
        "        loss = self.criterion(score, target)\n",
        "        return loss\n",
        "\n",
        "    def _ohem_forward(self, score, target, **kwargs):\n",
        "        pred = F.softmax(score, dim=1)\n",
        "        pixel_losses = self.criterion(score, target).contiguous().view(-1)\n",
        "        mask = target.contiguous().view(-1) != self.ignore_label\n",
        "\n",
        "        tmp_target = target.clone()\n",
        "        tmp_target[tmp_target == self.ignore_label] = 0\n",
        "        pred = pred.gather(1, tmp_target.unsqueeze(1))\n",
        "        pred, ind = pred.contiguous().view(-1,)[mask].contiguous().sort()\n",
        "        min_value = pred[min(self.min_kept, pred.numel() - 1)]\n",
        "        threshold = max(min_value, self.thresh)\n",
        "\n",
        "        pixel_losses = pixel_losses[mask][ind]\n",
        "        pixel_losses = pixel_losses[pred < threshold]\n",
        "        return pixel_losses.mean()\n",
        "\n",
        "    def forward(self, score, target):\n",
        "        if not (isinstance(score, list) or isinstance(score, tuple)):\n",
        "            score = [score]\n",
        "\n",
        "        if len(self.balance_weights) == len(score):\n",
        "            functions = [self._ce_forward] * \\\n",
        "                (len(self.balance_weights) - 1) + [self._ohem_forward]\n",
        "            return sum([\n",
        "                w * func(x, target)\n",
        "                for (w, x, func) in zip(self.balance_weights, score, functions)\n",
        "            ])\n",
        "\n",
        "        elif len(score) == 1:\n",
        "            return self.sb_weights * self._ohem_forward(score[0], target)\n",
        "\n",
        "        else:\n",
        "            raise ValueError(\"lengths of prediction and target are not identical!\")\n",
        "\n",
        "\n",
        "# Weighted Binary Cross Entropy per i bordi\n",
        "def weighted_bce(bd_pre, target):\n",
        "    n, c, h, w = bd_pre.size()\n",
        "    log_p = bd_pre.permute(0,2,3,1).contiguous().view(1, -1)\n",
        "    target_t = target.view(1, -1)\n",
        "\n",
        "    pos_index = (target_t == 1)\n",
        "    neg_index = (target_t == 0)\n",
        "\n",
        "    weight = torch.zeros_like(log_p)\n",
        "    pos_num = pos_index.sum()\n",
        "    neg_num = neg_index.sum()\n",
        "    sum_num = pos_num + neg_num\n",
        "    weight[pos_index] = neg_num * 1.0 / sum_num\n",
        "    weight[neg_index] = pos_num * 1.0 / sum_num\n",
        "\n",
        "    loss = F.binary_cross_entropy_with_logits(log_p, target_t, weight, reduction='mean')\n",
        "\n",
        "    return loss\n",
        "\n",
        "class BondaryLoss(nn.Module):\n",
        "    def __init__(self, coeff_bce = 20.0):\n",
        "        super(BondaryLoss, self).__init__()\n",
        "        self.coeff_bce = coeff_bce\n",
        "\n",
        "    def forward(self, bd_pre, bd_gt):\n",
        "        bce_loss = self.coeff_bce * weighted_bce(bd_pre, bd_gt)\n",
        "        loss = bce_loss\n",
        "\n",
        "        return loss\n",
        "\n",
        "# PIDNet Loss Totale\n",
        "class PIDNetLoss(nn.Module):\n",
        "    def __init__(self, lambda_0=0.4, lambda_1=20, lambda_2=1, lambda_3=1, threshold=0.8, class_weights=None):\n",
        "        super(PIDNetLoss, self).__init__()\n",
        "        self.class_weights = class_weights\n",
        "        if self.class_weights is not None:\n",
        "            self.class_weights = torch.tensor(class_weights).cuda()\n",
        "        if LOSS_TYPE == \"ohem\":\n",
        "          self.sem_loss = OhemCrossEntropy(balance_weights=[lambda_0, lambda_2], sb_weights=lambda_3, weight = self.class_weights)\n",
        "        else:\n",
        "          self.sem_loss = CrossEntropyLoss(num_outputs=2, balance_weights=[lambda_0, lambda_2], sb_weights=lambda_3, weight = self.class_weights)\n",
        "        self.bd_loss = BondaryLoss(coeff_bce=lambda_1)\n",
        "        self.threshold = threshold\n",
        "\n",
        "    def forward(self, pred_p, pred_main, target, boundary_head, boundary_mask):\n",
        "        \"\"\"\n",
        "        pred_p: output branch P (B, C, H, W)\n",
        "        pred_main: output principale (B, C, H, W)\n",
        "        target: ground truth segmentazione (B, H, W)\n",
        "        boundary_head: predizione dei bordi (B, 1, H, W)\n",
        "        boundary_mask: ground truth dei bordi (B, 1, H, W)\n",
        "        \"\"\"\n",
        "\n",
        "        loss_s = self.sem_loss([pred_p, pred_main], target) # l_0 e l_2\n",
        "        loss_b = self.bd_loss(boundary_head, boundary_mask.unsqueeze(1)) # l_1\n",
        "\n",
        "        # l_3\n",
        "        filler = torch.ones_like(target) * IGNORE_INDEX\n",
        "        bd_label = torch.where(F.sigmoid(boundary_head[:,0,:,:])>self.threshold, target, filler)\n",
        "        loss_sb = self.sem_loss([pred_main], bd_label)\n",
        "\n",
        "\n",
        "        loss = loss_s + loss_b + loss_sb\n",
        "\n",
        "\n",
        "        return loss"
      ],
      "metadata": {
        "id": "7uJvTyhWp2Ky"
      },
      "execution_count": null,
      "outputs": []
    },
    {
      "cell_type": "code",
      "execution_count": null,
      "metadata": {
        "id": "kjNWfPicTLQ3",
        "colab": {
          "base_uri": "https://localhost:8080/"
        },
        "outputId": "7c9fa16b-6184-4f0a-df3a-eca355b35e2c"
      },
      "outputs": [
        {
          "metadata": {
            "tags": null
          },
          "name": "stdout",
          "output_type": "stream",
          "text": [
            "📊 Processig the model with ID: 0\n"
          ]
        },
        {
          "metadata": {
            "tags": null
          },
          "name": "stderr",
          "output_type": "stream",
          "text": [
            "Epoch 1/20: 100%|████████████████████████████████████████| 58/58 [00:15<00:00,  3.86it/s, loss=5.05]"
          ]
        },
        {
          "metadata": {
            "tags": null
          },
          "name": "stdout",
          "output_type": "stream",
          "text": [
            "Epoch 1/20 - Training Loss: 0.4389959170367267\n"
          ]
        },
        {
          "metadata": {
            "tags": null
          },
          "name": "stderr",
          "output_type": "stream",
          "text": [
            "\n"
          ]
        },
        {
          "metadata": {
            "tags": null
          },
          "name": "stdout",
          "output_type": "stream",
          "text": [
            "[0.01]\n",
            "Modello con miou migliore salvato: /content/drive/MyDrive/AML_project/checkpoints_new_augmentation/best_model_PIDNET_3B_split_0.pth\n",
            "Epoch 1/20 - Validation Loss: 0.32395846915967536 - mIoU: 0.21370871365070343\n"
          ]
        },
        {
          "metadata": {
            "tags": null
          },
          "name": "stderr",
          "output_type": "stream",
          "text": [
            "Epoch 2/20: 100%|████████████████████████████████████████| 58/58 [00:15<00:00,  3.77it/s, loss=4.71]"
          ]
        },
        {
          "metadata": {
            "tags": null
          },
          "name": "stdout",
          "output_type": "stream",
          "text": [
            "Epoch 2/20 - Training Loss: 0.3113992134300438\n"
          ]
        },
        {
          "metadata": {
            "tags": null
          },
          "name": "stderr",
          "output_type": "stream",
          "text": [
            "\n"
          ]
        },
        {
          "metadata": {
            "tags": null
          },
          "name": "stdout",
          "output_type": "stream",
          "text": [
            "[0.01]\n",
            "Modello con miou migliore salvato: /content/drive/MyDrive/AML_project/checkpoints_new_augmentation/best_model_PIDNET_3B_split_0.pth\n",
            "Epoch 2/20 - Validation Loss: 0.3071506962631688 - mIoU: 0.3371898829936981\n"
          ]
        },
        {
          "metadata": {
            "tags": null
          },
          "name": "stderr",
          "output_type": "stream",
          "text": [
            "Epoch 3/20: 100%|████████████████████████████████████████| 58/58 [00:15<00:00,  3.81it/s, loss=5.37]"
          ]
        },
        {
          "metadata": {
            "tags": null
          },
          "name": "stdout",
          "output_type": "stream",
          "text": [
            "Epoch 3/20 - Training Loss: 0.292310097668622\n"
          ]
        },
        {
          "metadata": {
            "tags": null
          },
          "name": "stderr",
          "output_type": "stream",
          "text": [
            "\n"
          ]
        },
        {
          "metadata": {
            "tags": null
          },
          "name": "stdout",
          "output_type": "stream",
          "text": [
            "[0.01]\n",
            "Modello con miou migliore salvato: /content/drive/MyDrive/AML_project/checkpoints_new_augmentation/best_model_PIDNET_3B_split_0.pth\n",
            "Epoch 3/20 - Validation Loss: 0.27868528489942673 - mIoU: 0.3865426778793335\n"
          ]
        },
        {
          "metadata": {
            "tags": null
          },
          "name": "stderr",
          "output_type": "stream",
          "text": [
            "Epoch 4/20: 100%|████████████████████████████████████████| 58/58 [00:15<00:00,  3.83it/s, loss=4.37]"
          ]
        },
        {
          "metadata": {
            "tags": null
          },
          "name": "stdout",
          "output_type": "stream",
          "text": [
            "Epoch 4/20 - Training Loss: 0.28746169966620366\n"
          ]
        },
        {
          "metadata": {
            "tags": null
          },
          "name": "stderr",
          "output_type": "stream",
          "text": [
            "\n"
          ]
        },
        {
          "metadata": {
            "tags": null
          },
          "name": "stdout",
          "output_type": "stream",
          "text": [
            "[0.01]\n",
            "Modello con miou migliore salvato: /content/drive/MyDrive/AML_project/checkpoints_new_augmentation/best_model_PIDNET_3B_split_0.pth\n",
            "Epoch 4/20 - Validation Loss: 0.29395442814021916 - mIoU: 0.3872850239276886\n"
          ]
        },
        {
          "metadata": {
            "tags": null
          },
          "name": "stderr",
          "output_type": "stream",
          "text": [
            "Epoch 5/20: 100%|████████████████████████████████████████| 58/58 [00:15<00:00,  3.81it/s, loss=4.37]"
          ]
        },
        {
          "metadata": {
            "tags": null
          },
          "name": "stdout",
          "output_type": "stream",
          "text": [
            "Epoch 5/20 - Training Loss: 0.27724326107953046\n"
          ]
        },
        {
          "metadata": {
            "tags": null
          },
          "name": "stderr",
          "output_type": "stream",
          "text": [
            "\n"
          ]
        },
        {
          "metadata": {
            "tags": null
          },
          "name": "stdout",
          "output_type": "stream",
          "text": [
            "[0.01]\n",
            "Modello con miou migliore salvato: /content/drive/MyDrive/AML_project/checkpoints_new_augmentation/best_model_PIDNET_3B_split_0.pth\n",
            "Epoch 5/20 - Validation Loss: 0.2671528481817865 - mIoU: 0.43794476985931396\n"
          ]
        },
        {
          "metadata": {
            "tags": null
          },
          "name": "stderr",
          "output_type": "stream",
          "text": [
            "Epoch 6/20: 100%|████████████████████████████████████████| 58/58 [00:15<00:00,  3.83it/s, loss=4.43]"
          ]
        },
        {
          "metadata": {
            "tags": null
          },
          "name": "stdout",
          "output_type": "stream",
          "text": [
            "Epoch 6/20 - Training Loss: 0.271241718756186\n"
          ]
        },
        {
          "metadata": {
            "tags": null
          },
          "name": "stderr",
          "output_type": "stream",
          "text": [
            "\n"
          ]
        },
        {
          "metadata": {
            "tags": null
          },
          "name": "stdout",
          "output_type": "stream",
          "text": [
            "[0.01]\n",
            "Epoch 6/20 - Validation Loss: 0.26943830803875285 - mIoU: 0.43791067600250244\n"
          ]
        },
        {
          "metadata": {
            "tags": null
          },
          "name": "stderr",
          "output_type": "stream",
          "text": [
            "Epoch 7/20: 100%|█████████████████████████████████████████| 58/58 [00:15<00:00,  3.79it/s, loss=4.2]"
          ]
        },
        {
          "metadata": {
            "tags": null
          },
          "name": "stdout",
          "output_type": "stream",
          "text": [
            "Epoch 7/20 - Training Loss: 0.26734989655984415\n"
          ]
        },
        {
          "metadata": {
            "tags": null
          },
          "name": "stderr",
          "output_type": "stream",
          "text": [
            "\n"
          ]
        },
        {
          "metadata": {
            "tags": null
          },
          "name": "stdout",
          "output_type": "stream",
          "text": [
            "[0.01]\n",
            "Modello con miou migliore salvato: /content/drive/MyDrive/AML_project/checkpoints_new_augmentation/best_model_PIDNET_3B_split_0.pth\n",
            "Epoch 7/20 - Validation Loss: 0.2632137459593934 - mIoU: 0.4786849617958069\n"
          ]
        },
        {
          "metadata": {
            "tags": null
          },
          "name": "stderr",
          "output_type": "stream",
          "text": [
            "Epoch 8/20: 100%|████████████████████████████████████████| 58/58 [00:15<00:00,  3.84it/s, loss=4.02]"
          ]
        },
        {
          "metadata": {
            "tags": null
          },
          "name": "stdout",
          "output_type": "stream",
          "text": [
            "Epoch 8/20 - Training Loss: 0.26369727057379644\n"
          ]
        },
        {
          "metadata": {
            "tags": null
          },
          "name": "stderr",
          "output_type": "stream",
          "text": [
            "\n"
          ]
        },
        {
          "metadata": {
            "tags": null
          },
          "name": "stdout",
          "output_type": "stream",
          "text": [
            "[0.01]\n",
            "Modello con miou migliore salvato: /content/drive/MyDrive/AML_project/checkpoints_new_augmentation/best_model_PIDNET_3B_split_0.pth\n",
            "Epoch 8/20 - Validation Loss: 0.2604953066095129 - mIoU: 0.47913840413093567\n"
          ]
        },
        {
          "metadata": {
            "tags": null
          },
          "name": "stderr",
          "output_type": "stream",
          "text": [
            "Epoch 9/20: 100%|████████████████████████████████████████| 58/58 [00:15<00:00,  3.82it/s, loss=4.35]"
          ]
        },
        {
          "metadata": {
            "tags": null
          },
          "name": "stdout",
          "output_type": "stream",
          "text": [
            "Epoch 9/20 - Training Loss: 0.26134900943653006\n"
          ]
        },
        {
          "metadata": {
            "tags": null
          },
          "name": "stderr",
          "output_type": "stream",
          "text": [
            "\n"
          ]
        },
        {
          "metadata": {
            "tags": null
          },
          "name": "stdout",
          "output_type": "stream",
          "text": [
            "[0.01]\n",
            "Epoch 9/20 - Validation Loss: 0.2630170661133605 - mIoU: 0.47471368312835693\n"
          ]
        },
        {
          "metadata": {
            "tags": null
          },
          "name": "stderr",
          "output_type": "stream",
          "text": [
            "Epoch 10/20: 100%|████████████████████████████████████████| 58/58 [00:15<00:00,  3.81it/s, loss=4.4]"
          ]
        },
        {
          "metadata": {
            "tags": null
          },
          "name": "stdout",
          "output_type": "stream",
          "text": [
            "Epoch 10/20 - Training Loss: 0.25904463020530905\n"
          ]
        },
        {
          "metadata": {
            "tags": null
          },
          "name": "stderr",
          "output_type": "stream",
          "text": [
            "\n"
          ]
        },
        {
          "metadata": {
            "tags": null
          },
          "name": "stdout",
          "output_type": "stream",
          "text": [
            "[0.01]\n",
            "Modello con miou migliore salvato: /content/drive/MyDrive/AML_project/checkpoints_new_augmentation/best_model_PIDNET_3B_split_0.pth\n",
            "Epoch 10/20 - Validation Loss: 0.25708112365755686 - mIoU: 0.5006091594696045\n"
          ]
        },
        {
          "metadata": {
            "tags": null
          },
          "name": "stderr",
          "output_type": "stream",
          "text": [
            "Epoch 11/20: 100%|███████████████████████████████████████| 58/58 [00:15<00:00,  3.81it/s, loss=4.84]"
          ]
        },
        {
          "metadata": {
            "tags": null
          },
          "name": "stdout",
          "output_type": "stream",
          "text": [
            "Epoch 11/20 - Training Loss: 0.25765820193935085\n"
          ]
        },
        {
          "metadata": {
            "tags": null
          },
          "name": "stderr",
          "output_type": "stream",
          "text": [
            "\n"
          ]
        },
        {
          "metadata": {
            "tags": null
          },
          "name": "stdout",
          "output_type": "stream",
          "text": [
            "[0.01]\n",
            "Epoch 11/20 - Validation Loss: 0.25850355057489305 - mIoU: 0.4881752133369446\n"
          ]
        },
        {
          "metadata": {
            "tags": null
          },
          "name": "stderr",
          "output_type": "stream",
          "text": [
            "Epoch 12/20: 100%|███████████████████████████████████████| 58/58 [00:15<00:00,  3.74it/s, loss=4.33]"
          ]
        },
        {
          "metadata": {
            "tags": null
          },
          "name": "stdout",
          "output_type": "stream",
          "text": [
            "Epoch 12/20 - Training Loss: 0.2566311996047561\n"
          ]
        },
        {
          "metadata": {
            "tags": null
          },
          "name": "stderr",
          "output_type": "stream",
          "text": [
            "\n"
          ]
        },
        {
          "metadata": {
            "tags": null
          },
          "name": "stdout",
          "output_type": "stream",
          "text": [
            "[0.01]\n",
            "Epoch 12/20 - Validation Loss: 0.2567793879158053 - mIoU: 0.49513524770736694\n"
          ]
        },
        {
          "metadata": {
            "tags": null
          },
          "name": "stderr",
          "output_type": "stream",
          "text": [
            "Epoch 13/20: 100%|███████████████████████████████████████| 58/58 [00:15<00:00,  3.82it/s, loss=3.97]"
          ]
        },
        {
          "metadata": {
            "tags": null
          },
          "name": "stdout",
          "output_type": "stream",
          "text": [
            "Epoch 13/20 - Training Loss: 0.2552062557839059\n"
          ]
        },
        {
          "metadata": {
            "tags": null
          },
          "name": "stderr",
          "output_type": "stream",
          "text": [
            "\n"
          ]
        },
        {
          "metadata": {
            "tags": null
          },
          "name": "stdout",
          "output_type": "stream",
          "text": [
            "[0.01]\n",
            "Modello con miou migliore salvato: /content/drive/MyDrive/AML_project/checkpoints_new_augmentation/best_model_PIDNET_3B_split_0.pth\n",
            "Epoch 13/20 - Validation Loss: 0.25676486192843617 - mIoU: 0.5175113081932068\n"
          ]
        },
        {
          "metadata": {
            "tags": null
          },
          "name": "stderr",
          "output_type": "stream",
          "text": [
            "Epoch 14/20: 100%|████████████████████████████████████████| 58/58 [00:15<00:00,  3.83it/s, loss=3.9]"
          ]
        },
        {
          "metadata": {
            "tags": null
          },
          "name": "stdout",
          "output_type": "stream",
          "text": [
            "Epoch 14/20 - Training Loss: 0.2512049267743085\n"
          ]
        },
        {
          "metadata": {
            "tags": null
          },
          "name": "stderr",
          "output_type": "stream",
          "text": [
            "\n"
          ]
        },
        {
          "metadata": {
            "tags": null
          },
          "name": "stdout",
          "output_type": "stream",
          "text": [
            "[0.01]\n",
            "Modello con miou migliore salvato: /content/drive/MyDrive/AML_project/checkpoints_new_augmentation/best_model_PIDNET_3B_split_0.pth\n",
            "Epoch 14/20 - Validation Loss: 0.25439631577694055 - mIoU: 0.5413355231285095\n"
          ]
        },
        {
          "metadata": {
            "tags": null
          },
          "name": "stderr",
          "output_type": "stream",
          "text": [
            "Epoch 15/20: 100%|███████████████████████████████████████| 58/58 [00:15<00:00,  3.81it/s, loss=3.91]"
          ]
        },
        {
          "metadata": {
            "tags": null
          },
          "name": "stdout",
          "output_type": "stream",
          "text": [
            "Epoch 15/20 - Training Loss: 0.25202691207060945\n"
          ]
        },
        {
          "metadata": {
            "tags": null
          },
          "name": "stderr",
          "output_type": "stream",
          "text": [
            "\n"
          ]
        },
        {
          "metadata": {
            "tags": null
          },
          "name": "stdout",
          "output_type": "stream",
          "text": [
            "[0.01]\n",
            "Modello con miou migliore salvato: /content/drive/MyDrive/AML_project/checkpoints_new_augmentation/best_model_PIDNET_3B_split_0.pth\n",
            "Epoch 15/20 - Validation Loss: 0.2538458310164414 - mIoU: 0.5542006492614746\n"
          ]
        },
        {
          "metadata": {
            "tags": null
          },
          "name": "stderr",
          "output_type": "stream",
          "text": [
            "Epoch 16/20: 100%|███████████████████████████████████████| 58/58 [00:15<00:00,  3.84it/s, loss=3.73]"
          ]
        },
        {
          "metadata": {
            "tags": null
          },
          "name": "stdout",
          "output_type": "stream",
          "text": [
            "Epoch 16/20 - Training Loss: 0.25156488676328914\n"
          ]
        },
        {
          "metadata": {
            "tags": null
          },
          "name": "stderr",
          "output_type": "stream",
          "text": [
            "\n"
          ]
        },
        {
          "metadata": {
            "tags": null
          },
          "name": "stdout",
          "output_type": "stream",
          "text": [
            "[0.01]\n",
            "Modello con miou migliore salvato: /content/drive/MyDrive/AML_project/checkpoints_new_augmentation/best_model_PIDNET_3B_split_0.pth\n",
            "Epoch 16/20 - Validation Loss: 0.24930979575945703 - mIoU: 0.5600578188896179\n"
          ]
        },
        {
          "metadata": {
            "tags": null
          },
          "name": "stderr",
          "output_type": "stream",
          "text": [
            "Epoch 17/20: 100%|███████████████████████████████████████| 58/58 [00:15<00:00,  3.80it/s, loss=4.34]"
          ]
        },
        {
          "metadata": {
            "tags": null
          },
          "name": "stdout",
          "output_type": "stream",
          "text": [
            "Epoch 17/20 - Training Loss: 0.24768970386402028\n"
          ]
        },
        {
          "metadata": {
            "tags": null
          },
          "name": "stderr",
          "output_type": "stream",
          "text": [
            "\n"
          ]
        },
        {
          "metadata": {
            "tags": null
          },
          "name": "stdout",
          "output_type": "stream",
          "text": [
            "[0.01]\n",
            "Epoch 17/20 - Validation Loss: 0.25147297888091114 - mIoU: 0.5561985969543457\n"
          ]
        },
        {
          "metadata": {
            "tags": null
          },
          "name": "stderr",
          "output_type": "stream",
          "text": [
            "Epoch 18/20: 100%|███████████████████████████████████████| 58/58 [00:15<00:00,  3.81it/s, loss=3.99]"
          ]
        },
        {
          "metadata": {
            "tags": null
          },
          "name": "stdout",
          "output_type": "stream",
          "text": [
            "Epoch 18/20 - Training Loss: 0.247325638951482\n"
          ]
        },
        {
          "metadata": {
            "tags": null
          },
          "name": "stderr",
          "output_type": "stream",
          "text": [
            "\n"
          ]
        },
        {
          "metadata": {
            "tags": null
          },
          "name": "stdout",
          "output_type": "stream",
          "text": [
            "[0.01]\n",
            "Modello con miou migliore salvato: /content/drive/MyDrive/AML_project/checkpoints_new_augmentation/best_model_PIDNET_3B_split_0.pth\n",
            "Epoch 18/20 - Validation Loss: 0.24931014461434764 - mIoU: 0.5717610716819763\n"
          ]
        },
        {
          "metadata": {
            "tags": null
          },
          "name": "stderr",
          "output_type": "stream",
          "text": [
            "Epoch 19/20: 100%|███████████████████████████████████████| 58/58 [00:15<00:00,  3.79it/s, loss=3.75]"
          ]
        },
        {
          "metadata": {
            "tags": null
          },
          "name": "stdout",
          "output_type": "stream",
          "text": [
            "Epoch 19/20 - Training Loss: 0.24566554456143766\n"
          ]
        },
        {
          "metadata": {
            "tags": null
          },
          "name": "stderr",
          "output_type": "stream",
          "text": [
            "\n"
          ]
        },
        {
          "metadata": {
            "tags": null
          },
          "name": "stdout",
          "output_type": "stream",
          "text": [
            "[0.01]\n",
            "Modello con miou migliore salvato: /content/drive/MyDrive/AML_project/checkpoints_new_augmentation/best_model_PIDNET_3B_split_0.pth\n",
            "Epoch 19/20 - Validation Loss: 0.2502586160387312 - mIoU: 0.57654869556427\n"
          ]
        },
        {
          "metadata": {
            "tags": null
          },
          "name": "stderr",
          "output_type": "stream",
          "text": [
            "Epoch 20/20: 100%|███████████████████████████████████████| 58/58 [00:15<00:00,  3.79it/s, loss=4.56]"
          ]
        },
        {
          "metadata": {
            "tags": null
          },
          "name": "stdout",
          "output_type": "stream",
          "text": [
            "Epoch 20/20 - Training Loss: 0.24471421937684756\n"
          ]
        },
        {
          "metadata": {
            "tags": null
          },
          "name": "stderr",
          "output_type": "stream",
          "text": [
            "\n"
          ]
        },
        {
          "metadata": {
            "tags": null
          },
          "name": "stdout",
          "output_type": "stream",
          "text": [
            "[0.01]\n",
            "Modello con miou migliore salvato: /content/drive/MyDrive/AML_project/checkpoints_new_augmentation/best_model_PIDNET_3B_split_0.pth\n",
            "Epoch 20/20 - Validation Loss: 0.25038056249742385 - mIoU: 0.577838122844696\n",
            "📊 Processig the model with ID: 1\n"
          ]
        },
        {
          "metadata": {
            "tags": null
          },
          "name": "stderr",
          "output_type": "stream",
          "text": [
            "Epoch 1/20: 100%|████████████████████████████████████████| 58/58 [00:16<00:00,  3.55it/s, loss=4.87]"
          ]
        },
        {
          "metadata": {
            "tags": null
          },
          "name": "stdout",
          "output_type": "stream",
          "text": [
            "Epoch 1/20 - Training Loss: 0.44461496920199006\n"
          ]
        },
        {
          "metadata": {
            "tags": null
          },
          "name": "stderr",
          "output_type": "stream",
          "text": [
            "\n"
          ]
        },
        {
          "metadata": {
            "tags": null
          },
          "name": "stdout",
          "output_type": "stream",
          "text": [
            "[0.01]\n",
            "Modello con miou migliore salvato: /content/drive/MyDrive/AML_project/checkpoints_new_augmentation/best_model_PIDNET_3B_split_1.pth\n",
            "Epoch 1/20 - Validation Loss: 0.34516327928155016 - mIoU: 0.16554996371269226\n"
          ]
        },
        {
          "metadata": {
            "tags": null
          },
          "name": "stderr",
          "output_type": "stream",
          "text": [
            "Epoch 2/20: 100%|████████████████████████████████████████| 58/58 [00:16<00:00,  3.52it/s, loss=5.83]"
          ]
        },
        {
          "metadata": {
            "tags": null
          },
          "name": "stdout",
          "output_type": "stream",
          "text": [
            "Epoch 2/20 - Training Loss: 0.37111258893399623\n"
          ]
        },
        {
          "metadata": {
            "tags": null
          },
          "name": "stderr",
          "output_type": "stream",
          "text": [
            "\n"
          ]
        },
        {
          "metadata": {
            "tags": null
          },
          "name": "stdout",
          "output_type": "stream",
          "text": [
            "[0.01]\n",
            "Epoch 2/20 - Validation Loss: 0.7064349806153929 - mIoU: 0.11909911781549454\n"
          ]
        },
        {
          "metadata": {
            "tags": null
          },
          "name": "stderr",
          "output_type": "stream",
          "text": [
            "Epoch 3/20: 100%|█████████████████████████████████████████| 58/58 [00:16<00:00,  3.56it/s, loss=5.6]"
          ]
        },
        {
          "metadata": {
            "tags": null
          },
          "name": "stdout",
          "output_type": "stream",
          "text": [
            "Epoch 3/20 - Training Loss: 0.342154388943234\n"
          ]
        },
        {
          "metadata": {
            "tags": null
          },
          "name": "stderr",
          "output_type": "stream",
          "text": [
            "\n"
          ]
        },
        {
          "metadata": {
            "tags": null
          },
          "name": "stdout",
          "output_type": "stream",
          "text": [
            "[0.01]\n",
            "Epoch 3/20 - Validation Loss: 0.36809970599748354 - mIoU: 0.1481788605451584\n"
          ]
        },
        {
          "metadata": {
            "tags": null
          },
          "name": "stderr",
          "output_type": "stream",
          "text": [
            "Epoch 4/20: 100%|████████████████████████████████████████| 58/58 [00:16<00:00,  3.59it/s, loss=5.77]"
          ]
        },
        {
          "metadata": {
            "tags": null
          },
          "name": "stdout",
          "output_type": "stream",
          "text": [
            "Epoch 4/20 - Training Loss: 0.3403714360417546\n"
          ]
        },
        {
          "metadata": {
            "tags": null
          },
          "name": "stderr",
          "output_type": "stream",
          "text": [
            "\n"
          ]
        },
        {
          "metadata": {
            "tags": null
          },
          "name": "stdout",
          "output_type": "stream",
          "text": [
            "[0.01]\n",
            "Modello con miou migliore salvato: /content/drive/MyDrive/AML_project/checkpoints_new_augmentation/best_model_PIDNET_3B_split_1.pth\n",
            "Epoch 4/20 - Validation Loss: 0.3074422006483202 - mIoU: 0.2590988576412201\n"
          ]
        },
        {
          "metadata": {
            "tags": null
          },
          "name": "stderr",
          "output_type": "stream",
          "text": [
            "Epoch 5/20: 100%|████████████████████████████████████████| 58/58 [00:16<00:00,  3.51it/s, loss=4.59]"
          ]
        },
        {
          "metadata": {
            "tags": null
          },
          "name": "stdout",
          "output_type": "stream",
          "text": [
            "Epoch 5/20 - Training Loss: 0.2999500403533111\n"
          ]
        },
        {
          "metadata": {
            "tags": null
          },
          "name": "stderr",
          "output_type": "stream",
          "text": [
            "\n"
          ]
        },
        {
          "metadata": {
            "tags": null
          },
          "name": "stdout",
          "output_type": "stream",
          "text": [
            "[0.01]\n",
            "Modello con miou migliore salvato: /content/drive/MyDrive/AML_project/checkpoints_new_augmentation/best_model_PIDNET_3B_split_1.pth\n",
            "Epoch 5/20 - Validation Loss: 0.3037585933487137 - mIoU: 0.322791188955307\n"
          ]
        },
        {
          "metadata": {
            "tags": null
          },
          "name": "stderr",
          "output_type": "stream",
          "text": [
            "Epoch 6/20: 100%|████████████████████████████████████████| 58/58 [00:16<00:00,  3.52it/s, loss=5.33]"
          ]
        },
        {
          "metadata": {
            "tags": null
          },
          "name": "stdout",
          "output_type": "stream",
          "text": [
            "Epoch 6/20 - Training Loss: 0.301612548828125\n"
          ]
        },
        {
          "metadata": {
            "tags": null
          },
          "name": "stderr",
          "output_type": "stream",
          "text": [
            "\n"
          ]
        },
        {
          "metadata": {
            "tags": null
          },
          "name": "stdout",
          "output_type": "stream",
          "text": [
            "[0.01]\n",
            "Modello con miou migliore salvato: /content/drive/MyDrive/AML_project/checkpoints_new_augmentation/best_model_PIDNET_3B_split_1.pth\n",
            "Epoch 6/20 - Validation Loss: 0.2977890617403633 - mIoU: 0.3300938308238983\n"
          ]
        },
        {
          "metadata": {
            "tags": null
          },
          "name": "stderr",
          "output_type": "stream",
          "text": [
            "Epoch 7/20: 100%|████████████████████████████████████████| 58/58 [00:16<00:00,  3.58it/s, loss=4.61]"
          ]
        },
        {
          "metadata": {
            "tags": null
          },
          "name": "stdout",
          "output_type": "stream",
          "text": [
            "Epoch 7/20 - Training Loss: 0.30158911292617385\n"
          ]
        },
        {
          "metadata": {
            "tags": null
          },
          "name": "stderr",
          "output_type": "stream",
          "text": [
            "\n"
          ]
        },
        {
          "metadata": {
            "tags": null
          },
          "name": "stdout",
          "output_type": "stream",
          "text": [
            "[0.01]\n",
            "Epoch 7/20 - Validation Loss: 0.3210171497229374 - mIoU: 0.3107258975505829\n"
          ]
        },
        {
          "metadata": {
            "tags": null
          },
          "name": "stderr",
          "output_type": "stream",
          "text": [
            "Epoch 8/20: 100%|████████████████████████████████████████| 58/58 [00:16<00:00,  3.56it/s, loss=4.39]"
          ]
        },
        {
          "metadata": {
            "tags": null
          },
          "name": "stdout",
          "output_type": "stream",
          "text": [
            "Epoch 8/20 - Training Loss: 0.28783668157216663\n"
          ]
        },
        {
          "metadata": {
            "tags": null
          },
          "name": "stderr",
          "output_type": "stream",
          "text": [
            "\n"
          ]
        },
        {
          "metadata": {
            "tags": null
          },
          "name": "stdout",
          "output_type": "stream",
          "text": [
            "[0.01]\n",
            "Modello con miou migliore salvato: /content/drive/MyDrive/AML_project/checkpoints_new_augmentation/best_model_PIDNET_3B_split_1.pth\n",
            "Epoch 8/20 - Validation Loss: 0.28205176968595164 - mIoU: 0.38860780000686646\n"
          ]
        },
        {
          "metadata": {
            "tags": null
          },
          "name": "stderr",
          "output_type": "stream",
          "text": [
            "Epoch 9/20: 100%|████████████████████████████████████████| 58/58 [00:16<00:00,  3.52it/s, loss=4.62]"
          ]
        },
        {
          "metadata": {
            "tags": null
          },
          "name": "stdout",
          "output_type": "stream",
          "text": [
            "Epoch 9/20 - Training Loss: 0.2925975451598296\n"
          ]
        },
        {
          "metadata": {
            "tags": null
          },
          "name": "stderr",
          "output_type": "stream",
          "text": [
            "\n"
          ]
        },
        {
          "metadata": {
            "tags": null
          },
          "name": "stdout",
          "output_type": "stream",
          "text": [
            "[0.01]\n",
            "Epoch 9/20 - Validation Loss: 0.2765263478993337 - mIoU: 0.3399486839771271\n"
          ]
        },
        {
          "metadata": {
            "tags": null
          },
          "name": "stderr",
          "output_type": "stream",
          "text": [
            "Epoch 10/20: 100%|███████████████████████████████████████| 58/58 [00:16<00:00,  3.55it/s, loss=4.02]"
          ]
        },
        {
          "metadata": {
            "tags": null
          },
          "name": "stdout",
          "output_type": "stream",
          "text": [
            "Epoch 10/20 - Training Loss: 0.2770107083707242\n"
          ]
        },
        {
          "metadata": {
            "tags": null
          },
          "name": "stderr",
          "output_type": "stream",
          "text": [
            "\n"
          ]
        },
        {
          "metadata": {
            "tags": null
          },
          "name": "stdout",
          "output_type": "stream",
          "text": [
            "[0.01]\n",
            "Epoch 10/20 - Validation Loss: 0.2749720909894803 - mIoU: 0.3657136857509613\n"
          ]
        },
        {
          "metadata": {
            "tags": null
          },
          "name": "stderr",
          "output_type": "stream",
          "text": [
            "Epoch 11/20: 100%|███████████████████████████████████████| 58/58 [00:16<00:00,  3.54it/s, loss=4.43]"
          ]
        },
        {
          "metadata": {
            "tags": null
          },
          "name": "stdout",
          "output_type": "stream",
          "text": [
            "Epoch 11/20 - Training Loss: 0.27060761348621265\n"
          ]
        },
        {
          "metadata": {
            "tags": null
          },
          "name": "stderr",
          "output_type": "stream",
          "text": [
            "\n"
          ]
        },
        {
          "metadata": {
            "tags": null
          },
          "name": "stdout",
          "output_type": "stream",
          "text": [
            "[0.01]\n",
            "Modello con miou migliore salvato: /content/drive/MyDrive/AML_project/checkpoints_new_augmentation/best_model_PIDNET_3B_split_1.pth\n",
            "Epoch 11/20 - Validation Loss: 0.26792867255933356 - mIoU: 0.4134905934333801\n"
          ]
        },
        {
          "metadata": {
            "tags": null
          },
          "name": "stderr",
          "output_type": "stream",
          "text": [
            "Epoch 12/20: 100%|███████████████████████████████████████| 58/58 [00:16<00:00,  3.55it/s, loss=4.19]"
          ]
        },
        {
          "metadata": {
            "tags": null
          },
          "name": "stdout",
          "output_type": "stream",
          "text": [
            "Epoch 12/20 - Training Loss: 0.2640857353725949\n"
          ]
        },
        {
          "metadata": {
            "tags": null
          },
          "name": "stderr",
          "output_type": "stream",
          "text": [
            "\n"
          ]
        },
        {
          "metadata": {
            "tags": null
          },
          "name": "stdout",
          "output_type": "stream",
          "text": [
            "[0.01]\n",
            "Modello con miou migliore salvato: /content/drive/MyDrive/AML_project/checkpoints_new_augmentation/best_model_PIDNET_3B_split_1.pth\n",
            "Epoch 12/20 - Validation Loss: 0.26041107673149605 - mIoU: 0.42940789461135864\n"
          ]
        },
        {
          "metadata": {
            "tags": null
          },
          "name": "stderr",
          "output_type": "stream",
          "text": [
            "Epoch 13/20: 100%|███████████████████████████████████████| 58/58 [00:16<00:00,  3.54it/s, loss=4.09]"
          ]
        },
        {
          "metadata": {
            "tags": null
          },
          "name": "stdout",
          "output_type": "stream",
          "text": [
            "Epoch 13/20 - Training Loss: 0.2627202418043807\n"
          ]
        },
        {
          "metadata": {
            "tags": null
          },
          "name": "stderr",
          "output_type": "stream",
          "text": [
            "\n"
          ]
        },
        {
          "metadata": {
            "tags": null
          },
          "name": "stdout",
          "output_type": "stream",
          "text": [
            "[0.01]\n",
            "Epoch 13/20 - Validation Loss: 0.2607135215362945 - mIoU: 0.42933574318885803\n"
          ]
        },
        {
          "metadata": {
            "tags": null
          },
          "name": "stderr",
          "output_type": "stream",
          "text": [
            "Epoch 14/20: 100%|████████████████████████████████████████| 58/58 [00:16<00:00,  3.53it/s, loss=4.1]"
          ]
        },
        {
          "metadata": {
            "tags": null
          },
          "name": "stdout",
          "output_type": "stream",
          "text": [
            "Epoch 14/20 - Training Loss: 0.25935082719132707\n"
          ]
        },
        {
          "metadata": {
            "tags": null
          },
          "name": "stderr",
          "output_type": "stream",
          "text": [
            "\n"
          ]
        },
        {
          "metadata": {
            "tags": null
          },
          "name": "stdout",
          "output_type": "stream",
          "text": [
            "[0.01]\n",
            "Modello con miou migliore salvato: /content/drive/MyDrive/AML_project/checkpoints_new_augmentation/best_model_PIDNET_3B_split_1.pth\n",
            "Epoch 14/20 - Validation Loss: 0.25947732223576797 - mIoU: 0.45957860350608826\n"
          ]
        },
        {
          "metadata": {
            "tags": null
          },
          "name": "stderr",
          "output_type": "stream",
          "text": [
            "Epoch 15/20: 100%|███████████████████████████████████████| 58/58 [00:16<00:00,  3.53it/s, loss=4.85]"
          ]
        },
        {
          "metadata": {
            "tags": null
          },
          "name": "stdout",
          "output_type": "stream",
          "text": [
            "Epoch 15/20 - Training Loss: 0.25799346588753364\n"
          ]
        },
        {
          "metadata": {
            "tags": null
          },
          "name": "stderr",
          "output_type": "stream",
          "text": [
            "\n"
          ]
        },
        {
          "metadata": {
            "tags": null
          },
          "name": "stdout",
          "output_type": "stream",
          "text": [
            "[0.01]\n",
            "Modello con miou migliore salvato: /content/drive/MyDrive/AML_project/checkpoints_new_augmentation/best_model_PIDNET_3B_split_1.pth\n",
            "Epoch 15/20 - Validation Loss: 0.2537761219652184 - mIoU: 0.4671977162361145\n"
          ]
        },
        {
          "metadata": {
            "tags": null
          },
          "name": "stderr",
          "output_type": "stream",
          "text": [
            "Epoch 16/20: 100%|███████████████████████████████████████| 58/58 [00:16<00:00,  3.51it/s, loss=4.16]"
          ]
        },
        {
          "metadata": {
            "tags": null
          },
          "name": "stdout",
          "output_type": "stream",
          "text": [
            "Epoch 16/20 - Training Loss: 0.2542811749432538\n"
          ]
        },
        {
          "metadata": {
            "tags": null
          },
          "name": "stderr",
          "output_type": "stream",
          "text": [
            "\n"
          ]
        },
        {
          "metadata": {
            "tags": null
          },
          "name": "stdout",
          "output_type": "stream",
          "text": [
            "[0.01]\n",
            "Modello con miou migliore salvato: /content/drive/MyDrive/AML_project/checkpoints_new_augmentation/best_model_PIDNET_3B_split_1.pth\n",
            "Epoch 16/20 - Validation Loss: 0.25173531259809223 - mIoU: 0.47797682881355286\n"
          ]
        },
        {
          "metadata": {
            "tags": null
          },
          "name": "stderr",
          "output_type": "stream",
          "text": [
            "Epoch 17/20: 100%|███████████████████████████████████████| 58/58 [00:16<00:00,  3.58it/s, loss=4.62]"
          ]
        },
        {
          "metadata": {
            "tags": null
          },
          "name": "stdout",
          "output_type": "stream",
          "text": [
            "Epoch 17/20 - Training Loss: 0.25562455589706834\n"
          ]
        },
        {
          "metadata": {
            "tags": null
          },
          "name": "stderr",
          "output_type": "stream",
          "text": [
            "\n"
          ]
        },
        {
          "metadata": {
            "tags": null
          },
          "name": "stdout",
          "output_type": "stream",
          "text": [
            "[0.01]\n",
            "Epoch 17/20 - Validation Loss: 0.25014703614371164 - mIoU: 0.47675618529319763\n"
          ]
        },
        {
          "metadata": {
            "tags": null
          },
          "name": "stderr",
          "output_type": "stream",
          "text": [
            "Epoch 18/20: 100%|███████████████████████████████████████| 58/58 [00:16<00:00,  3.55it/s, loss=3.93]"
          ]
        },
        {
          "metadata": {
            "tags": null
          },
          "name": "stdout",
          "output_type": "stream",
          "text": [
            "Epoch 18/20 - Training Loss: 0.24987336416502257\n"
          ]
        },
        {
          "metadata": {
            "tags": null
          },
          "name": "stderr",
          "output_type": "stream",
          "text": [
            "\n"
          ]
        },
        {
          "metadata": {
            "tags": null
          },
          "name": "stdout",
          "output_type": "stream",
          "text": [
            "[0.01]\n",
            "Modello con miou migliore salvato: /content/drive/MyDrive/AML_project/checkpoints_new_augmentation/best_model_PIDNET_3B_split_1.pth\n",
            "Epoch 18/20 - Validation Loss: 0.24760800316220238 - mIoU: 0.5120396614074707\n"
          ]
        },
        {
          "metadata": {
            "tags": null
          },
          "name": "stderr",
          "output_type": "stream",
          "text": [
            "Epoch 19/20: 100%|███████████████████████████████████████| 58/58 [00:16<00:00,  3.52it/s, loss=3.61]"
          ]
        },
        {
          "metadata": {
            "tags": null
          },
          "name": "stdout",
          "output_type": "stream",
          "text": [
            "Epoch 19/20 - Training Loss: 0.2511189262287037\n"
          ]
        },
        {
          "metadata": {
            "tags": null
          },
          "name": "stderr",
          "output_type": "stream",
          "text": [
            "\n"
          ]
        },
        {
          "metadata": {
            "tags": null
          },
          "name": "stdout",
          "output_type": "stream",
          "text": [
            "[0.01]\n",
            "Epoch 19/20 - Validation Loss: 0.24983619301866145 - mIoU: 0.48382338881492615\n"
          ]
        },
        {
          "metadata": {
            "tags": null
          },
          "name": "stderr",
          "output_type": "stream",
          "text": [
            "Epoch 20/20: 100%|███████████████████████████████████████| 58/58 [00:16<00:00,  3.51it/s, loss=4.25]"
          ]
        },
        {
          "metadata": {
            "tags": null
          },
          "name": "stdout",
          "output_type": "stream",
          "text": [
            "Epoch 20/20 - Training Loss: 0.254624016478255\n"
          ]
        },
        {
          "metadata": {
            "tags": null
          },
          "name": "stderr",
          "output_type": "stream",
          "text": [
            "\n"
          ]
        },
        {
          "metadata": {
            "tags": null
          },
          "name": "stdout",
          "output_type": "stream",
          "text": [
            "[0.01]\n",
            "Modello con miou migliore salvato: /content/drive/MyDrive/AML_project/checkpoints_new_augmentation/best_model_PIDNET_3B_split_1.pth\n",
            "Epoch 20/20 - Validation Loss: 0.24413367886563916 - mIoU: 0.5162369608879089\n",
            "📊 Processig the model with ID: 2\n"
          ]
        },
        {
          "metadata": {
            "tags": null
          },
          "name": "stderr",
          "output_type": "stream",
          "text": [
            "Epoch 1/20: 100%|████████████████████████████████████████| 58/58 [00:37<00:00,  1.53it/s, loss=4.97]"
          ]
        },
        {
          "metadata": {
            "tags": null
          },
          "name": "stdout",
          "output_type": "stream",
          "text": [
            "Epoch 1/20 - Training Loss: 0.4505128324354017\n"
          ]
        },
        {
          "metadata": {
            "tags": null
          },
          "name": "stderr",
          "output_type": "stream",
          "text": [
            "\n"
          ]
        },
        {
          "metadata": {
            "tags": null
          },
          "name": "stdout",
          "output_type": "stream",
          "text": [
            "[0.01]\n",
            "Modello con miou migliore salvato: /content/drive/MyDrive/AML_project/checkpoints_new_augmentation/best_model_PIDNET_3B_split_2.pth\n",
            "Epoch 1/20 - Validation Loss: 0.3317162918322014 - mIoU: 0.22693410515785217\n"
          ]
        },
        {
          "metadata": {
            "tags": null
          },
          "name": "stderr",
          "output_type": "stream",
          "text": [
            "Epoch 2/20: 100%|████████████████████████████████████████| 58/58 [00:36<00:00,  1.57it/s, loss=7.41]"
          ]
        },
        {
          "metadata": {
            "tags": null
          },
          "name": "stdout",
          "output_type": "stream",
          "text": [
            "Epoch 2/20 - Training Loss: 0.31285701287759315\n"
          ]
        },
        {
          "metadata": {
            "tags": null
          },
          "name": "stderr",
          "output_type": "stream",
          "text": [
            "\n"
          ]
        },
        {
          "metadata": {
            "tags": null
          },
          "name": "stdout",
          "output_type": "stream",
          "text": [
            "[0.01]\n",
            "Modello con miou migliore salvato: /content/drive/MyDrive/AML_project/checkpoints_new_augmentation/best_model_PIDNET_3B_split_2.pth\n",
            "Epoch 2/20 - Validation Loss: 0.29945602251853776 - mIoU: 0.33597925305366516\n"
          ]
        },
        {
          "metadata": {
            "tags": null
          },
          "name": "stderr",
          "output_type": "stream",
          "text": [
            "Epoch 3/20: 100%|████████████████████████████████████████| 58/58 [00:36<00:00,  1.57it/s, loss=4.07]"
          ]
        },
        {
          "metadata": {
            "tags": null
          },
          "name": "stdout",
          "output_type": "stream",
          "text": [
            "Epoch 3/20 - Training Loss: 0.30075796281969225\n"
          ]
        },
        {
          "metadata": {
            "tags": null
          },
          "name": "stderr",
          "output_type": "stream",
          "text": [
            "\n"
          ]
        },
        {
          "metadata": {
            "tags": null
          },
          "name": "stdout",
          "output_type": "stream",
          "text": [
            "[0.01]\n",
            "Modello con miou migliore salvato: /content/drive/MyDrive/AML_project/checkpoints_new_augmentation/best_model_PIDNET_3B_split_2.pth\n",
            "Epoch 3/20 - Validation Loss: 0.27686881090139415 - mIoU: 0.3616670072078705\n"
          ]
        },
        {
          "metadata": {
            "tags": null
          },
          "name": "stderr",
          "output_type": "stream",
          "text": [
            "Epoch 4/20: 100%|████████████████████████████████████████| 58/58 [00:37<00:00,  1.56it/s, loss=4.62]"
          ]
        },
        {
          "metadata": {
            "tags": null
          },
          "name": "stdout",
          "output_type": "stream",
          "text": [
            "Epoch 4/20 - Training Loss: 0.2927825231809874\n"
          ]
        },
        {
          "metadata": {
            "tags": null
          },
          "name": "stderr",
          "output_type": "stream",
          "text": [
            "\n"
          ]
        },
        {
          "metadata": {
            "tags": null
          },
          "name": "stdout",
          "output_type": "stream",
          "text": [
            "[0.01]\n",
            "Modello con miou migliore salvato: /content/drive/MyDrive/AML_project/checkpoints_new_augmentation/best_model_PIDNET_3B_split_2.pth\n",
            "Epoch 4/20 - Validation Loss: 0.27393024721186915 - mIoU: 0.39732053875923157\n"
          ]
        },
        {
          "metadata": {
            "tags": null
          },
          "name": "stderr",
          "output_type": "stream",
          "text": [
            "Epoch 5/20: 100%|████████████████████████████████████████| 58/58 [00:37<00:00,  1.56it/s, loss=4.23]"
          ]
        },
        {
          "metadata": {
            "tags": null
          },
          "name": "stdout",
          "output_type": "stream",
          "text": [
            "Epoch 5/20 - Training Loss: 0.27654416599789183\n"
          ]
        },
        {
          "metadata": {
            "tags": null
          },
          "name": "stderr",
          "output_type": "stream",
          "text": [
            "\n"
          ]
        },
        {
          "metadata": {
            "tags": null
          },
          "name": "stdout",
          "output_type": "stream",
          "text": [
            "[0.01]\n",
            "Modello con miou migliore salvato: /content/drive/MyDrive/AML_project/checkpoints_new_augmentation/best_model_PIDNET_3B_split_2.pth\n",
            "Epoch 5/20 - Validation Loss: 0.2648659371710443 - mIoU: 0.42450830340385437\n"
          ]
        },
        {
          "metadata": {
            "tags": null
          },
          "name": "stderr",
          "output_type": "stream",
          "text": [
            "Epoch 6/20: 100%|████████████████████████████████████████| 58/58 [00:37<00:00,  1.57it/s, loss=4.13]"
          ]
        },
        {
          "metadata": {
            "tags": null
          },
          "name": "stdout",
          "output_type": "stream",
          "text": [
            "Epoch 6/20 - Training Loss: 0.27043798498205235\n"
          ]
        },
        {
          "metadata": {
            "tags": null
          },
          "name": "stderr",
          "output_type": "stream",
          "text": [
            "\n"
          ]
        },
        {
          "metadata": {
            "tags": null
          },
          "name": "stdout",
          "output_type": "stream",
          "text": [
            "[0.01]\n",
            "Modello con miou migliore salvato: /content/drive/MyDrive/AML_project/checkpoints_new_augmentation/best_model_PIDNET_3B_split_2.pth\n",
            "Epoch 6/20 - Validation Loss: 0.26156968678230846 - mIoU: 0.4818863272666931\n"
          ]
        },
        {
          "metadata": {
            "tags": null
          },
          "name": "stderr",
          "output_type": "stream",
          "text": [
            "Epoch 7/20: 100%|████████████████████████████████████████| 58/58 [00:37<00:00,  1.56it/s, loss=4.07]"
          ]
        },
        {
          "metadata": {
            "tags": null
          },
          "name": "stdout",
          "output_type": "stream",
          "text": [
            "Epoch 7/20 - Training Loss: 0.2662215098819217\n"
          ]
        },
        {
          "metadata": {
            "tags": null
          },
          "name": "stderr",
          "output_type": "stream",
          "text": [
            "\n"
          ]
        },
        {
          "metadata": {
            "tags": null
          },
          "name": "stdout",
          "output_type": "stream",
          "text": [
            "[0.01]\n",
            "Modello con miou migliore salvato: /content/drive/MyDrive/AML_project/checkpoints_new_augmentation/best_model_PIDNET_3B_split_2.pth\n",
            "Epoch 7/20 - Validation Loss: 0.2600824729704754 - mIoU: 0.5066189169883728\n"
          ]
        },
        {
          "metadata": {
            "tags": null
          },
          "name": "stderr",
          "output_type": "stream",
          "text": [
            "Epoch 8/20: 100%|████████████████████████████████████████| 58/58 [00:37<00:00,  1.57it/s, loss=4.29]"
          ]
        },
        {
          "metadata": {
            "tags": null
          },
          "name": "stdout",
          "output_type": "stream",
          "text": [
            "Epoch 8/20 - Training Loss: 0.2636100622125574\n"
          ]
        },
        {
          "metadata": {
            "tags": null
          },
          "name": "stderr",
          "output_type": "stream",
          "text": [
            "\n"
          ]
        },
        {
          "metadata": {
            "tags": null
          },
          "name": "stdout",
          "output_type": "stream",
          "text": [
            "[0.01]\n",
            "Epoch 8/20 - Validation Loss: 0.2599880891444879 - mIoU: 0.4964353144168854\n"
          ]
        },
        {
          "metadata": {
            "tags": null
          },
          "name": "stderr",
          "output_type": "stream",
          "text": [
            "Epoch 9/20: 100%|████████████████████████████████████████| 58/58 [00:37<00:00,  1.56it/s, loss=4.06]"
          ]
        },
        {
          "metadata": {
            "tags": null
          },
          "name": "stdout",
          "output_type": "stream",
          "text": [
            "Epoch 9/20 - Training Loss: 0.260974432197777\n"
          ]
        },
        {
          "metadata": {
            "tags": null
          },
          "name": "stderr",
          "output_type": "stream",
          "text": [
            "\n"
          ]
        },
        {
          "metadata": {
            "tags": null
          },
          "name": "stdout",
          "output_type": "stream",
          "text": [
            "[0.01]\n",
            "Modello con miou migliore salvato: /content/drive/MyDrive/AML_project/checkpoints_new_augmentation/best_model_PIDNET_3B_split_2.pth\n",
            "Epoch 9/20 - Validation Loss: 0.2544965279566777 - mIoU: 0.5184478759765625\n"
          ]
        },
        {
          "metadata": {
            "tags": null
          },
          "name": "stderr",
          "output_type": "stream",
          "text": [
            "Epoch 10/20: 100%|███████████████████████████████████████| 58/58 [00:37<00:00,  1.57it/s, loss=3.95]"
          ]
        },
        {
          "metadata": {
            "tags": null
          },
          "name": "stdout",
          "output_type": "stream",
          "text": [
            "Epoch 10/20 - Training Loss: 0.2577124979689315\n"
          ]
        },
        {
          "metadata": {
            "tags": null
          },
          "name": "stderr",
          "output_type": "stream",
          "text": [
            "\n"
          ]
        },
        {
          "metadata": {
            "tags": null
          },
          "name": "stdout",
          "output_type": "stream",
          "text": [
            "[0.01]\n",
            "Epoch 10/20 - Validation Loss: 0.26000172028809915 - mIoU: 0.51704341173172\n"
          ]
        },
        {
          "metadata": {
            "tags": null
          },
          "name": "stderr",
          "output_type": "stream",
          "text": [
            "Epoch 11/20: 100%|███████████████████████████████████████| 58/58 [00:37<00:00,  1.56it/s, loss=3.79]"
          ]
        },
        {
          "metadata": {
            "tags": null
          },
          "name": "stdout",
          "output_type": "stream",
          "text": [
            "Epoch 11/20 - Training Loss: 0.2575874003848514\n"
          ]
        },
        {
          "metadata": {
            "tags": null
          },
          "name": "stderr",
          "output_type": "stream",
          "text": [
            "\n"
          ]
        },
        {
          "metadata": {
            "tags": null
          },
          "name": "stdout",
          "output_type": "stream",
          "text": [
            "[0.01]\n",
            "Modello con miou migliore salvato: /content/drive/MyDrive/AML_project/checkpoints_new_augmentation/best_model_PIDNET_3B_split_2.pth\n",
            "Epoch 11/20 - Validation Loss: 0.2548785870209401 - mIoU: 0.5662368535995483\n"
          ]
        },
        {
          "metadata": {
            "tags": null
          },
          "name": "stderr",
          "output_type": "stream",
          "text": [
            "Epoch 12/20: 100%|███████████████████████████████████████| 58/58 [00:37<00:00,  1.56it/s, loss=3.98]"
          ]
        },
        {
          "metadata": {
            "tags": null
          },
          "name": "stdout",
          "output_type": "stream",
          "text": [
            "Epoch 12/20 - Training Loss: 0.2544560362841632\n"
          ]
        },
        {
          "metadata": {
            "tags": null
          },
          "name": "stderr",
          "output_type": "stream",
          "text": [
            "\n"
          ]
        },
        {
          "metadata": {
            "tags": null
          },
          "name": "stdout",
          "output_type": "stream",
          "text": [
            "[0.01]\n",
            "Modello con miou migliore salvato: /content/drive/MyDrive/AML_project/checkpoints_new_augmentation/best_model_PIDNET_3B_split_2.pth\n",
            "Epoch 12/20 - Validation Loss: 0.256496931051279 - mIoU: 0.5703242421150208\n"
          ]
        },
        {
          "metadata": {
            "tags": null
          },
          "name": "stderr",
          "output_type": "stream",
          "text": [
            "Epoch 13/20: 100%|███████████████████████████████████████| 58/58 [00:37<00:00,  1.55it/s, loss=3.97]"
          ]
        },
        {
          "metadata": {
            "tags": null
          },
          "name": "stdout",
          "output_type": "stream",
          "text": [
            "Epoch 13/20 - Training Loss: 0.25312248126880543\n"
          ]
        },
        {
          "metadata": {
            "tags": null
          },
          "name": "stderr",
          "output_type": "stream",
          "text": [
            "\n"
          ]
        },
        {
          "metadata": {
            "tags": null
          },
          "name": "stdout",
          "output_type": "stream",
          "text": [
            "[0.01]\n",
            "Epoch 13/20 - Validation Loss: 0.25589883069455366 - mIoU: 0.565753161907196\n"
          ]
        },
        {
          "metadata": {
            "tags": null
          },
          "name": "stderr",
          "output_type": "stream",
          "text": [
            "Epoch 14/20: 100%|███████████████████████████████████████| 58/58 [00:37<00:00,  1.55it/s, loss=4.76]"
          ]
        },
        {
          "metadata": {
            "tags": null
          },
          "name": "stdout",
          "output_type": "stream",
          "text": [
            "Epoch 14/20 - Training Loss: 0.25389701611286886\n"
          ]
        },
        {
          "metadata": {
            "tags": null
          },
          "name": "stderr",
          "output_type": "stream",
          "text": [
            "\n"
          ]
        },
        {
          "metadata": {
            "tags": null
          },
          "name": "stdout",
          "output_type": "stream",
          "text": [
            "[0.01]\n",
            "Epoch 14/20 - Validation Loss: 0.2608274412361574 - mIoU: 0.5517875552177429\n"
          ]
        },
        {
          "metadata": {
            "tags": null
          },
          "name": "stderr",
          "output_type": "stream",
          "text": [
            "Epoch 15/20: 100%|███████████████████████████████████████| 58/58 [00:37<00:00,  1.56it/s, loss=4.53]"
          ]
        },
        {
          "metadata": {
            "tags": null
          },
          "name": "stdout",
          "output_type": "stream",
          "text": [
            "Epoch 15/20 - Training Loss: 0.2488397466814196\n"
          ]
        },
        {
          "metadata": {
            "tags": null
          },
          "name": "stderr",
          "output_type": "stream",
          "text": [
            "\n"
          ]
        },
        {
          "metadata": {
            "tags": null
          },
          "name": "stdout",
          "output_type": "stream",
          "text": [
            "[0.01]\n",
            "Modello con miou migliore salvato: /content/drive/MyDrive/AML_project/checkpoints_new_augmentation/best_model_PIDNET_3B_split_2.pth\n",
            "Epoch 15/20 - Validation Loss: 0.2504067565455581 - mIoU: 0.5902603268623352\n"
          ]
        },
        {
          "metadata": {
            "tags": null
          },
          "name": "stderr",
          "output_type": "stream",
          "text": [
            "Epoch 16/20: 100%|███████████████████████████████████████| 58/58 [00:36<00:00,  1.57it/s, loss=3.98]"
          ]
        },
        {
          "metadata": {
            "tags": null
          },
          "name": "stdout",
          "output_type": "stream",
          "text": [
            "Epoch 16/20 - Training Loss: 0.24808852968989192\n"
          ]
        },
        {
          "metadata": {
            "tags": null
          },
          "name": "stderr",
          "output_type": "stream",
          "text": [
            "\n"
          ]
        },
        {
          "metadata": {
            "tags": null
          },
          "name": "stdout",
          "output_type": "stream",
          "text": [
            "[0.01]\n",
            "Epoch 16/20 - Validation Loss: 0.25253314579720104 - mIoU: 0.5744705200195312\n"
          ]
        },
        {
          "metadata": {
            "tags": null
          },
          "name": "stderr",
          "output_type": "stream",
          "text": [
            "Epoch 17/20: 100%|████████████████████████████████████████| 58/58 [00:37<00:00,  1.56it/s, loss=4.2]"
          ]
        },
        {
          "metadata": {
            "tags": null
          },
          "name": "stdout",
          "output_type": "stream",
          "text": [
            "Epoch 17/20 - Training Loss: 0.24624073956463788\n"
          ]
        },
        {
          "metadata": {
            "tags": null
          },
          "name": "stderr",
          "output_type": "stream",
          "text": [
            "\n"
          ]
        },
        {
          "metadata": {
            "tags": null
          },
          "name": "stdout",
          "output_type": "stream",
          "text": [
            "[0.01]\n",
            "Modello con miou migliore salvato: /content/drive/MyDrive/AML_project/checkpoints_new_augmentation/best_model_PIDNET_3B_split_2.pth\n",
            "Epoch 17/20 - Validation Loss: 0.24675431189598976 - mIoU: 0.6188604831695557\n"
          ]
        },
        {
          "metadata": {
            "tags": null
          },
          "name": "stderr",
          "output_type": "stream",
          "text": [
            "Epoch 18/20: 100%|███████████████████████████████████████| 58/58 [00:37<00:00,  1.56it/s, loss=3.75]"
          ]
        },
        {
          "metadata": {
            "tags": null
          },
          "name": "stdout",
          "output_type": "stream",
          "text": [
            "Epoch 18/20 - Training Loss: 0.24484514700399862\n"
          ]
        },
        {
          "metadata": {
            "tags": null
          },
          "name": "stderr",
          "output_type": "stream",
          "text": [
            "\n"
          ]
        },
        {
          "metadata": {
            "tags": null
          },
          "name": "stdout",
          "output_type": "stream",
          "text": [
            "[0.01]\n",
            "Epoch 18/20 - Validation Loss: 0.2509565879772236 - mIoU: 0.610905110836029\n"
          ]
        },
        {
          "metadata": {
            "tags": null
          },
          "name": "stderr",
          "output_type": "stream",
          "text": [
            "Epoch 19/20: 100%|███████████████████████████████████████| 58/58 [00:37<00:00,  1.53it/s, loss=4.51]"
          ]
        },
        {
          "metadata": {
            "tags": null
          },
          "name": "stdout",
          "output_type": "stream",
          "text": [
            "Epoch 19/20 - Training Loss: 0.24331372982746846\n"
          ]
        },
        {
          "metadata": {
            "tags": null
          },
          "name": "stderr",
          "output_type": "stream",
          "text": [
            "\n"
          ]
        },
        {
          "metadata": {
            "tags": null
          },
          "name": "stdout",
          "output_type": "stream",
          "text": [
            "[0.01]\n",
            "Epoch 19/20 - Validation Loss: 0.24642410938873952 - mIoU: 0.5959861278533936\n"
          ]
        },
        {
          "metadata": {
            "tags": null
          },
          "name": "stderr",
          "output_type": "stream",
          "text": [
            "Epoch 20/20: 100%|███████████████████████████████████████| 58/58 [00:37<00:00,  1.56it/s, loss=3.86]"
          ]
        },
        {
          "metadata": {
            "tags": null
          },
          "name": "stdout",
          "output_type": "stream",
          "text": [
            "Epoch 20/20 - Training Loss: 0.2424643408285605\n"
          ]
        },
        {
          "metadata": {
            "tags": null
          },
          "name": "stderr",
          "output_type": "stream",
          "text": [
            "\n"
          ]
        },
        {
          "metadata": {
            "tags": null
          },
          "name": "stdout",
          "output_type": "stream",
          "text": [
            "[0.01]\n",
            "Modello con miou migliore salvato: /content/drive/MyDrive/AML_project/checkpoints_new_augmentation/best_model_PIDNET_3B_split_2.pth\n",
            "Epoch 20/20 - Validation Loss: 0.24507082179511264 - mIoU: 0.631422221660614\n",
            "📊 Processig the model with ID: 3\n"
          ]
        },
        {
          "metadata": {
            "tags": null
          },
          "name": "stderr",
          "output_type": "stream",
          "text": [
            "Epoch 1/20: 100%|████████████████████████████████████████| 58/58 [00:16<00:00,  3.56it/s, loss=5.25]"
          ]
        },
        {
          "metadata": {
            "tags": null
          },
          "name": "stdout",
          "output_type": "stream",
          "text": [
            "Epoch 1/20 - Training Loss: 0.4906599833514239\n"
          ]
        },
        {
          "metadata": {
            "tags": null
          },
          "name": "stderr",
          "output_type": "stream",
          "text": [
            "\n"
          ]
        },
        {
          "metadata": {
            "tags": null
          },
          "name": "stdout",
          "output_type": "stream",
          "text": [
            "[0.01]\n",
            "Modello con miou migliore salvato: /content/drive/MyDrive/AML_project/checkpoints_new_augmentation/best_model_PIDNET_3B_split_3.pth\n",
            "Epoch 1/20 - Validation Loss: 0.4453880405013179 - mIoU: 0.22000068426132202\n"
          ]
        },
        {
          "metadata": {
            "tags": null
          },
          "name": "stderr",
          "output_type": "stream",
          "text": [
            "Epoch 2/20: 100%|████████████████████████████████████████| 58/58 [00:16<00:00,  3.55it/s, loss=4.62]"
          ]
        },
        {
          "metadata": {
            "tags": null
          },
          "name": "stdout",
          "output_type": "stream",
          "text": [
            "Epoch 2/20 - Training Loss: 0.3180620394526301\n"
          ]
        },
        {
          "metadata": {
            "tags": null
          },
          "name": "stderr",
          "output_type": "stream",
          "text": [
            "\n"
          ]
        },
        {
          "metadata": {
            "tags": null
          },
          "name": "stdout",
          "output_type": "stream",
          "text": [
            "[0.01]\n",
            "Modello con miou migliore salvato: /content/drive/MyDrive/AML_project/checkpoints_new_augmentation/best_model_PIDNET_3B_split_3.pth\n",
            "Epoch 2/20 - Validation Loss: 0.6522013305069564 - mIoU: 0.32337141036987305\n"
          ]
        },
        {
          "metadata": {
            "tags": null
          },
          "name": "stderr",
          "output_type": "stream",
          "text": [
            "Epoch 3/20: 100%|████████████████████████████████████████| 58/58 [00:16<00:00,  3.55it/s, loss=4.81]"
          ]
        },
        {
          "metadata": {
            "tags": null
          },
          "name": "stdout",
          "output_type": "stream",
          "text": [
            "Epoch 3/20 - Training Loss: 0.3068493585328798\n"
          ]
        },
        {
          "metadata": {
            "tags": null
          },
          "name": "stderr",
          "output_type": "stream",
          "text": [
            "\n"
          ]
        },
        {
          "metadata": {
            "tags": null
          },
          "name": "stdout",
          "output_type": "stream",
          "text": [
            "[0.01]\n",
            "Modello con miou migliore salvato: /content/drive/MyDrive/AML_project/checkpoints_new_augmentation/best_model_PIDNET_3B_split_3.pth\n",
            "Epoch 3/20 - Validation Loss: 0.3234297331277426 - mIoU: 0.3240676820278168\n"
          ]
        },
        {
          "metadata": {
            "tags": null
          },
          "name": "stderr",
          "output_type": "stream",
          "text": [
            "Epoch 4/20: 100%|████████████████████████████████████████| 58/58 [00:16<00:00,  3.57it/s, loss=4.12]"
          ]
        },
        {
          "metadata": {
            "tags": null
          },
          "name": "stdout",
          "output_type": "stream",
          "text": [
            "Epoch 4/20 - Training Loss: 0.2994428673306027\n"
          ]
        },
        {
          "metadata": {
            "tags": null
          },
          "name": "stderr",
          "output_type": "stream",
          "text": [
            "\n"
          ]
        },
        {
          "metadata": {
            "tags": null
          },
          "name": "stdout",
          "output_type": "stream",
          "text": [
            "[0.01]\n",
            "Modello con miou migliore salvato: /content/drive/MyDrive/AML_project/checkpoints_new_augmentation/best_model_PIDNET_3B_split_3.pth\n",
            "Epoch 4/20 - Validation Loss: 0.28690929536695603 - mIoU: 0.37286633253097534\n"
          ]
        },
        {
          "metadata": {
            "tags": null
          },
          "name": "stderr",
          "output_type": "stream",
          "text": [
            "Epoch 5/20: 100%|████████████████████████████████████████| 58/58 [00:16<00:00,  3.54it/s, loss=5.03]"
          ]
        },
        {
          "metadata": {
            "tags": null
          },
          "name": "stdout",
          "output_type": "stream",
          "text": [
            "Epoch 5/20 - Training Loss: 0.28973751403189996\n"
          ]
        },
        {
          "metadata": {
            "tags": null
          },
          "name": "stderr",
          "output_type": "stream",
          "text": [
            "\n"
          ]
        },
        {
          "metadata": {
            "tags": null
          },
          "name": "stdout",
          "output_type": "stream",
          "text": [
            "[0.01]\n",
            "Epoch 5/20 - Validation Loss: 0.2726452051303087 - mIoU: 0.3684692680835724\n"
          ]
        },
        {
          "metadata": {
            "tags": null
          },
          "name": "stderr",
          "output_type": "stream",
          "text": [
            "Epoch 6/20: 100%|████████████████████████████████████████| 58/58 [00:16<00:00,  3.54it/s, loss=4.74]"
          ]
        },
        {
          "metadata": {
            "tags": null
          },
          "name": "stdout",
          "output_type": "stream",
          "text": [
            "Epoch 6/20 - Training Loss: 0.278784480997034\n"
          ]
        },
        {
          "metadata": {
            "tags": null
          },
          "name": "stderr",
          "output_type": "stream",
          "text": [
            "\n"
          ]
        },
        {
          "metadata": {
            "tags": null
          },
          "name": "stdout",
          "output_type": "stream",
          "text": [
            "[0.01]\n",
            "Modello con miou migliore salvato: /content/drive/MyDrive/AML_project/checkpoints_new_augmentation/best_model_PIDNET_3B_split_3.pth\n",
            "Epoch 6/20 - Validation Loss: 0.2687139067298922 - mIoU: 0.41623565554618835\n"
          ]
        },
        {
          "metadata": {
            "tags": null
          },
          "name": "stderr",
          "output_type": "stream",
          "text": [
            "Epoch 7/20: 100%|████████████████████████████████████████| 58/58 [00:16<00:00,  3.53it/s, loss=5.25]"
          ]
        },
        {
          "metadata": {
            "tags": null
          },
          "name": "stdout",
          "output_type": "stream",
          "text": [
            "Epoch 7/20 - Training Loss: 0.2743676234580375\n"
          ]
        },
        {
          "metadata": {
            "tags": null
          },
          "name": "stderr",
          "output_type": "stream",
          "text": [
            "\n"
          ]
        },
        {
          "metadata": {
            "tags": null
          },
          "name": "stdout",
          "output_type": "stream",
          "text": [
            "[0.01]\n",
            "Epoch 7/20 - Validation Loss: 0.2688755049850001 - mIoU: 0.41465768218040466\n"
          ]
        },
        {
          "metadata": {
            "tags": null
          },
          "name": "stderr",
          "output_type": "stream",
          "text": [
            "Epoch 8/20: 100%|████████████████████████████████████████| 58/58 [00:16<00:00,  3.53it/s, loss=4.38]"
          ]
        },
        {
          "metadata": {
            "tags": null
          },
          "name": "stdout",
          "output_type": "stream",
          "text": [
            "Epoch 8/20 - Training Loss: 0.2943928795891839\n"
          ]
        },
        {
          "metadata": {
            "tags": null
          },
          "name": "stderr",
          "output_type": "stream",
          "text": [
            "\n"
          ]
        },
        {
          "metadata": {
            "tags": null
          },
          "name": "stdout",
          "output_type": "stream",
          "text": [
            "[0.01]\n",
            "Epoch 8/20 - Validation Loss: 0.2965170872675908 - mIoU: 0.2486693561077118\n"
          ]
        },
        {
          "metadata": {
            "tags": null
          },
          "name": "stderr",
          "output_type": "stream",
          "text": [
            "Epoch 9/20: 100%|████████████████████████████████████████| 58/58 [00:16<00:00,  3.56it/s, loss=3.59]"
          ]
        },
        {
          "metadata": {
            "tags": null
          },
          "name": "stdout",
          "output_type": "stream",
          "text": [
            "Epoch 9/20 - Training Loss: 0.27763183026700405\n"
          ]
        },
        {
          "metadata": {
            "tags": null
          },
          "name": "stderr",
          "output_type": "stream",
          "text": [
            "\n"
          ]
        },
        {
          "metadata": {
            "tags": null
          },
          "name": "stdout",
          "output_type": "stream",
          "text": [
            "[0.01]\n",
            "Modello con miou migliore salvato: /content/drive/MyDrive/AML_project/checkpoints_new_augmentation/best_model_PIDNET_3B_split_3.pth\n",
            "Epoch 9/20 - Validation Loss: 0.270084269635089 - mIoU: 0.4162783920764923\n"
          ]
        },
        {
          "metadata": {
            "tags": null
          },
          "name": "stderr",
          "output_type": "stream",
          "text": [
            "Epoch 10/20: 100%|███████████████████████████████████████| 58/58 [00:16<00:00,  3.60it/s, loss=4.88]"
          ]
        },
        {
          "metadata": {
            "tags": null
          },
          "name": "stdout",
          "output_type": "stream",
          "text": [
            "Epoch 10/20 - Training Loss: 0.26975056802904285\n"
          ]
        },
        {
          "metadata": {
            "tags": null
          },
          "name": "stderr",
          "output_type": "stream",
          "text": [
            "\n"
          ]
        },
        {
          "metadata": {
            "tags": null
          },
          "name": "stdout",
          "output_type": "stream",
          "text": [
            "[0.01]\n",
            "Modello con miou migliore salvato: /content/drive/MyDrive/AML_project/checkpoints_new_augmentation/best_model_PIDNET_3B_split_3.pth\n",
            "Epoch 10/20 - Validation Loss: 0.26123348046174816 - mIoU: 0.47087088227272034\n"
          ]
        },
        {
          "metadata": {
            "tags": null
          },
          "name": "stderr",
          "output_type": "stream",
          "text": [
            "Epoch 11/20: 100%|███████████████████████████████████████| 58/58 [00:16<00:00,  3.56it/s, loss=4.03]"
          ]
        },
        {
          "metadata": {
            "tags": null
          },
          "name": "stdout",
          "output_type": "stream",
          "text": [
            "Epoch 11/20 - Training Loss: 0.2645320175789498\n"
          ]
        },
        {
          "metadata": {
            "tags": null
          },
          "name": "stderr",
          "output_type": "stream",
          "text": [
            "\n"
          ]
        },
        {
          "metadata": {
            "tags": null
          },
          "name": "stdout",
          "output_type": "stream",
          "text": [
            "[0.01]\n",
            "Epoch 11/20 - Validation Loss: 0.26220532000322877 - mIoU: 0.46934258937835693\n"
          ]
        },
        {
          "metadata": {
            "tags": null
          },
          "name": "stderr",
          "output_type": "stream",
          "text": [
            "Epoch 12/20: 100%|███████████████████████████████████████| 58/58 [00:16<00:00,  3.53it/s, loss=3.69]"
          ]
        },
        {
          "metadata": {
            "tags": null
          },
          "name": "stdout",
          "output_type": "stream",
          "text": [
            "Epoch 12/20 - Training Loss: 0.25935465426058385\n"
          ]
        },
        {
          "metadata": {
            "tags": null
          },
          "name": "stderr",
          "output_type": "stream",
          "text": [
            "\n"
          ]
        },
        {
          "metadata": {
            "tags": null
          },
          "name": "stdout",
          "output_type": "stream",
          "text": [
            "[0.01]\n",
            "Epoch 12/20 - Validation Loss: 0.2638730610603894 - mIoU: 0.4655838906764984\n"
          ]
        },
        {
          "metadata": {
            "tags": null
          },
          "name": "stderr",
          "output_type": "stream",
          "text": [
            "Epoch 13/20: 100%|███████████████████████████████████████| 58/58 [00:16<00:00,  3.54it/s, loss=3.55]"
          ]
        },
        {
          "metadata": {
            "tags": null
          },
          "name": "stdout",
          "output_type": "stream",
          "text": [
            "Epoch 13/20 - Training Loss: 0.25800797565563305\n"
          ]
        },
        {
          "metadata": {
            "tags": null
          },
          "name": "stderr",
          "output_type": "stream",
          "text": [
            "\n"
          ]
        },
        {
          "metadata": {
            "tags": null
          },
          "name": "stdout",
          "output_type": "stream",
          "text": [
            "[0.01]\n",
            "Modello con miou migliore salvato: /content/drive/MyDrive/AML_project/checkpoints_new_augmentation/best_model_PIDNET_3B_split_3.pth\n",
            "Epoch 13/20 - Validation Loss: 0.26163626233220616 - mIoU: 0.49256110191345215\n"
          ]
        },
        {
          "metadata": {
            "tags": null
          },
          "name": "stderr",
          "output_type": "stream",
          "text": [
            "Epoch 14/20: 100%|███████████████████████████████████████| 58/58 [00:16<00:00,  3.51it/s, loss=4.26]"
          ]
        },
        {
          "metadata": {
            "tags": null
          },
          "name": "stdout",
          "output_type": "stream",
          "text": [
            "Epoch 14/20 - Training Loss: 0.2576605631854083\n"
          ]
        },
        {
          "metadata": {
            "tags": null
          },
          "name": "stderr",
          "output_type": "stream",
          "text": [
            "\n"
          ]
        },
        {
          "metadata": {
            "tags": null
          },
          "name": "stdout",
          "output_type": "stream",
          "text": [
            "[0.01]\n",
            "Modello con miou migliore salvato: /content/drive/MyDrive/AML_project/checkpoints_new_augmentation/best_model_PIDNET_3B_split_3.pth\n",
            "Epoch 14/20 - Validation Loss: 0.2609666756221226 - mIoU: 0.5198076367378235\n"
          ]
        },
        {
          "metadata": {
            "tags": null
          },
          "name": "stderr",
          "output_type": "stream",
          "text": [
            "Epoch 15/20: 100%|███████████████████████████████████████| 58/58 [00:16<00:00,  3.54it/s, loss=4.34]"
          ]
        },
        {
          "metadata": {
            "tags": null
          },
          "name": "stdout",
          "output_type": "stream",
          "text": [
            "Epoch 15/20 - Training Loss: 0.2532513365874419\n"
          ]
        },
        {
          "metadata": {
            "tags": null
          },
          "name": "stderr",
          "output_type": "stream",
          "text": [
            "\n"
          ]
        },
        {
          "metadata": {
            "tags": null
          },
          "name": "stdout",
          "output_type": "stream",
          "text": [
            "[0.01]\n",
            "Modello con miou migliore salvato: /content/drive/MyDrive/AML_project/checkpoints_new_augmentation/best_model_PIDNET_3B_split_3.pth\n",
            "Epoch 15/20 - Validation Loss: 0.2541138743941402 - mIoU: 0.5239261984825134\n"
          ]
        },
        {
          "metadata": {
            "tags": null
          },
          "name": "stderr",
          "output_type": "stream",
          "text": [
            "Epoch 16/20: 100%|███████████████████████████████████████| 58/58 [00:16<00:00,  3.55it/s, loss=4.59]"
          ]
        },
        {
          "metadata": {
            "tags": null
          },
          "name": "stdout",
          "output_type": "stream",
          "text": [
            "Epoch 16/20 - Training Loss: 0.2500374935768746\n"
          ]
        },
        {
          "metadata": {
            "tags": null
          },
          "name": "stderr",
          "output_type": "stream",
          "text": [
            "\n"
          ]
        },
        {
          "metadata": {
            "tags": null
          },
          "name": "stdout",
          "output_type": "stream",
          "text": [
            "[0.01]\n",
            "Epoch 16/20 - Validation Loss: 0.2581227341771642 - mIoU: 0.4974571168422699\n"
          ]
        },
        {
          "metadata": {
            "tags": null
          },
          "name": "stderr",
          "output_type": "stream",
          "text": [
            "Epoch 17/20: 100%|███████████████████████████████████████| 58/58 [00:16<00:00,  3.55it/s, loss=4.38]"
          ]
        },
        {
          "metadata": {
            "tags": null
          },
          "name": "stdout",
          "output_type": "stream",
          "text": [
            "Epoch 17/20 - Training Loss: 0.24794031761788032\n"
          ]
        },
        {
          "metadata": {
            "tags": null
          },
          "name": "stderr",
          "output_type": "stream",
          "text": [
            "\n"
          ]
        },
        {
          "metadata": {
            "tags": null
          },
          "name": "stdout",
          "output_type": "stream",
          "text": [
            "[0.01]\n",
            "Modello con miou migliore salvato: /content/drive/MyDrive/AML_project/checkpoints_new_augmentation/best_model_PIDNET_3B_split_3.pth\n",
            "Epoch 17/20 - Validation Loss: 0.25080391751739367 - mIoU: 0.5571522116661072\n"
          ]
        },
        {
          "metadata": {
            "tags": null
          },
          "name": "stderr",
          "output_type": "stream",
          "text": [
            "Epoch 18/20: 100%|███████████████████████████████████████| 58/58 [00:16<00:00,  3.56it/s, loss=3.51]"
          ]
        },
        {
          "metadata": {
            "tags": null
          },
          "name": "stdout",
          "output_type": "stream",
          "text": [
            "Epoch 18/20 - Training Loss: 0.2482751109149005\n"
          ]
        },
        {
          "metadata": {
            "tags": null
          },
          "name": "stderr",
          "output_type": "stream",
          "text": [
            "\n"
          ]
        },
        {
          "metadata": {
            "tags": null
          },
          "name": "stdout",
          "output_type": "stream",
          "text": [
            "[0.01]\n",
            "Epoch 18/20 - Validation Loss: 0.255280775425238 - mIoU: 0.5274202227592468\n"
          ]
        },
        {
          "metadata": {
            "tags": null
          },
          "name": "stderr",
          "output_type": "stream",
          "text": [
            "Epoch 19/20: 100%|███████████████████████████████████████| 58/58 [00:16<00:00,  3.52it/s, loss=3.55]"
          ]
        },
        {
          "metadata": {
            "tags": null
          },
          "name": "stdout",
          "output_type": "stream",
          "text": [
            "Epoch 19/20 - Training Loss: 0.24879752365318505\n"
          ]
        },
        {
          "metadata": {
            "tags": null
          },
          "name": "stderr",
          "output_type": "stream",
          "text": [
            "\n"
          ]
        },
        {
          "metadata": {
            "tags": null
          },
          "name": "stdout",
          "output_type": "stream",
          "text": [
            "[0.01]\n",
            "Modello con miou migliore salvato: /content/drive/MyDrive/AML_project/checkpoints_new_augmentation/best_model_PIDNET_3B_split_3.pth\n",
            "Epoch 19/20 - Validation Loss: 0.25276068278721403 - mIoU: 0.5587437748908997\n"
          ]
        },
        {
          "metadata": {
            "tags": null
          },
          "name": "stderr",
          "output_type": "stream",
          "text": [
            "Epoch 20/20: 100%|███████████████████████████████████████| 58/58 [00:16<00:00,  3.53it/s, loss=3.63]"
          ]
        },
        {
          "metadata": {
            "tags": null
          },
          "name": "stdout",
          "output_type": "stream",
          "text": [
            "Epoch 20/20 - Training Loss: 0.24522783434068834\n"
          ]
        },
        {
          "metadata": {
            "tags": null
          },
          "name": "stderr",
          "output_type": "stream",
          "text": [
            "\n"
          ]
        },
        {
          "metadata": {
            "tags": null
          },
          "name": "stdout",
          "output_type": "stream",
          "text": [
            "[0.01]\n",
            "Modello con miou migliore salvato: /content/drive/MyDrive/AML_project/checkpoints_new_augmentation/best_model_PIDNET_3B_split_3.pth\n",
            "Epoch 20/20 - Validation Loss: 0.25091689386409083 - mIoU: 0.5673958659172058\n",
            "📊 Processig the model with ID: 4\n"
          ]
        },
        {
          "metadata": {
            "tags": null
          },
          "name": "stderr",
          "output_type": "stream",
          "text": [
            "Epoch 1/20: 100%|████████████████████████████████████████| 58/58 [00:16<00:00,  3.44it/s, loss=4.51]"
          ]
        },
        {
          "metadata": {
            "tags": null
          },
          "name": "stdout",
          "output_type": "stream",
          "text": [
            "Epoch 1/20 - Training Loss: 0.4160812754244418\n"
          ]
        },
        {
          "metadata": {
            "tags": null
          },
          "name": "stderr",
          "output_type": "stream",
          "text": [
            "\n"
          ]
        },
        {
          "metadata": {
            "tags": null
          },
          "name": "stdout",
          "output_type": "stream",
          "text": [
            "[0.01]\n",
            "Modello con miou migliore salvato: /content/drive/MyDrive/AML_project/checkpoints_new_augmentation/best_model_PIDNET_3B_split_4.pth\n",
            "Epoch 1/20 - Validation Loss: 0.29875974737720573 - mIoU: 0.27622270584106445\n"
          ]
        },
        {
          "metadata": {
            "tags": null
          },
          "name": "stderr",
          "output_type": "stream",
          "text": [
            "Epoch 2/20: 100%|████████████████████████████████████████| 58/58 [00:16<00:00,  3.42it/s, loss=4.75]"
          ]
        },
        {
          "metadata": {
            "tags": null
          },
          "name": "stdout",
          "output_type": "stream",
          "text": [
            "Epoch 2/20 - Training Loss: 0.29384939709225216\n"
          ]
        },
        {
          "metadata": {
            "tags": null
          },
          "name": "stderr",
          "output_type": "stream",
          "text": [
            "\n"
          ]
        },
        {
          "metadata": {
            "tags": null
          },
          "name": "stdout",
          "output_type": "stream",
          "text": [
            "[0.01]\n",
            "Modello con miou migliore salvato: /content/drive/MyDrive/AML_project/checkpoints_new_augmentation/best_model_PIDNET_3B_split_4.pth\n",
            "Epoch 2/20 - Validation Loss: 0.28522389482110094 - mIoU: 0.37353435158729553\n"
          ]
        },
        {
          "metadata": {
            "tags": null
          },
          "name": "stderr",
          "output_type": "stream",
          "text": [
            "Epoch 3/20: 100%|████████████████████████████████████████| 58/58 [00:16<00:00,  3.49it/s, loss=4.05]"
          ]
        },
        {
          "metadata": {
            "tags": null
          },
          "name": "stdout",
          "output_type": "stream",
          "text": [
            "Epoch 3/20 - Training Loss: 0.27993417971843\n"
          ]
        },
        {
          "metadata": {
            "tags": null
          },
          "name": "stderr",
          "output_type": "stream",
          "text": [
            "\n"
          ]
        },
        {
          "metadata": {
            "tags": null
          },
          "name": "stdout",
          "output_type": "stream",
          "text": [
            "[0.01]\n",
            "Modello con miou migliore salvato: /content/drive/MyDrive/AML_project/checkpoints_new_augmentation/best_model_PIDNET_3B_split_4.pth\n",
            "Epoch 3/20 - Validation Loss: 0.2733552703609714 - mIoU: 0.40963396430015564\n"
          ]
        },
        {
          "metadata": {
            "tags": null
          },
          "name": "stderr",
          "output_type": "stream",
          "text": [
            "Epoch 4/20: 100%|████████████████████████████████████████| 58/58 [00:16<00:00,  3.44it/s, loss=4.79]"
          ]
        },
        {
          "metadata": {
            "tags": null
          },
          "name": "stdout",
          "output_type": "stream",
          "text": [
            "Epoch 4/20 - Training Loss: 0.2731559619388065\n"
          ]
        },
        {
          "metadata": {
            "tags": null
          },
          "name": "stderr",
          "output_type": "stream",
          "text": [
            "\n"
          ]
        },
        {
          "metadata": {
            "tags": null
          },
          "name": "stdout",
          "output_type": "stream",
          "text": [
            "[0.01]\n",
            "Modello con miou migliore salvato: /content/drive/MyDrive/AML_project/checkpoints_new_augmentation/best_model_PIDNET_3B_split_4.pth\n",
            "Epoch 4/20 - Validation Loss: 0.2687921462120948 - mIoU: 0.43820881843566895\n"
          ]
        },
        {
          "metadata": {
            "tags": null
          },
          "name": "stderr",
          "output_type": "stream",
          "text": [
            "Epoch 5/20: 100%|█████████████████████████████████████████| 58/58 [00:16<00:00,  3.44it/s, loss=4.2]"
          ]
        },
        {
          "metadata": {
            "tags": null
          },
          "name": "stdout",
          "output_type": "stream",
          "text": [
            "Epoch 5/20 - Training Loss: 0.26679814184034195\n"
          ]
        },
        {
          "metadata": {
            "tags": null
          },
          "name": "stderr",
          "output_type": "stream",
          "text": [
            "\n"
          ]
        },
        {
          "metadata": {
            "tags": null
          },
          "name": "stdout",
          "output_type": "stream",
          "text": [
            "[0.01]\n",
            "Modello con miou migliore salvato: /content/drive/MyDrive/AML_project/checkpoints_new_augmentation/best_model_PIDNET_3B_split_4.pth\n",
            "Epoch 5/20 - Validation Loss: 0.2634386799552224 - mIoU: 0.4553457498550415\n"
          ]
        },
        {
          "metadata": {
            "tags": null
          },
          "name": "stderr",
          "output_type": "stream",
          "text": [
            "Epoch 6/20: 100%|████████████████████████████████████████| 58/58 [00:16<00:00,  3.43it/s, loss=4.06]"
          ]
        },
        {
          "metadata": {
            "tags": null
          },
          "name": "stdout",
          "output_type": "stream",
          "text": [
            "Epoch 6/20 - Training Loss: 0.2651355550095842\n"
          ]
        },
        {
          "metadata": {
            "tags": null
          },
          "name": "stderr",
          "output_type": "stream",
          "text": [
            "\n"
          ]
        },
        {
          "metadata": {
            "tags": null
          },
          "name": "stdout",
          "output_type": "stream",
          "text": [
            "[0.01]\n",
            "Modello con miou migliore salvato: /content/drive/MyDrive/AML_project/checkpoints_new_augmentation/best_model_PIDNET_3B_split_4.pth\n",
            "Epoch 6/20 - Validation Loss: 0.2600095478487221 - mIoU: 0.49585357308387756\n"
          ]
        },
        {
          "metadata": {
            "tags": null
          },
          "name": "stderr",
          "output_type": "stream",
          "text": [
            "Epoch 7/20: 100%|████████████████████████████████████████| 58/58 [00:16<00:00,  3.46it/s, loss=4.13]"
          ]
        },
        {
          "metadata": {
            "tags": null
          },
          "name": "stdout",
          "output_type": "stream",
          "text": [
            "Epoch 7/20 - Training Loss: 0.2586387886872163\n"
          ]
        },
        {
          "metadata": {
            "tags": null
          },
          "name": "stderr",
          "output_type": "stream",
          "text": [
            "\n"
          ]
        },
        {
          "metadata": {
            "tags": null
          },
          "name": "stdout",
          "output_type": "stream",
          "text": [
            "[0.01]\n",
            "Modello con miou migliore salvato: /content/drive/MyDrive/AML_project/checkpoints_new_augmentation/best_model_PIDNET_3B_split_4.pth\n",
            "Epoch 7/20 - Validation Loss: 0.258393568393988 - mIoU: 0.5240229368209839\n"
          ]
        },
        {
          "metadata": {
            "tags": null
          },
          "name": "stderr",
          "output_type": "stream",
          "text": [
            "Epoch 8/20: 100%|████████████████████████████████████████| 58/58 [00:17<00:00,  3.41it/s, loss=3.65]"
          ]
        },
        {
          "metadata": {
            "tags": null
          },
          "name": "stdout",
          "output_type": "stream",
          "text": [
            "Epoch 8/20 - Training Loss: 0.2560514697513065\n"
          ]
        },
        {
          "metadata": {
            "tags": null
          },
          "name": "stderr",
          "output_type": "stream",
          "text": [
            "\n"
          ]
        },
        {
          "metadata": {
            "tags": null
          },
          "name": "stdout",
          "output_type": "stream",
          "text": [
            "[0.01]\n",
            "Epoch 8/20 - Validation Loss: 0.253984327440138 - mIoU: 0.5116264820098877\n"
          ]
        },
        {
          "metadata": {
            "tags": null
          },
          "name": "stderr",
          "output_type": "stream",
          "text": [
            "Epoch 9/20: 100%|████████████████████████████████████████| 58/58 [00:16<00:00,  3.44it/s, loss=4.65]"
          ]
        },
        {
          "metadata": {
            "tags": null
          },
          "name": "stdout",
          "output_type": "stream",
          "text": [
            "Epoch 9/20 - Training Loss: 0.25364301681518553\n"
          ]
        },
        {
          "metadata": {
            "tags": null
          },
          "name": "stderr",
          "output_type": "stream",
          "text": [
            "\n"
          ]
        },
        {
          "metadata": {
            "tags": null
          },
          "name": "stdout",
          "output_type": "stream",
          "text": [
            "[0.01]\n",
            "Epoch 9/20 - Validation Loss: 0.25724031295611227 - mIoU: 0.5113400816917419\n"
          ]
        },
        {
          "metadata": {
            "tags": null
          },
          "name": "stderr",
          "output_type": "stream",
          "text": [
            "Epoch 10/20: 100%|███████████████████████████████████████| 58/58 [00:16<00:00,  3.42it/s, loss=3.77]"
          ]
        },
        {
          "metadata": {
            "tags": null
          },
          "name": "stdout",
          "output_type": "stream",
          "text": [
            "Epoch 10/20 - Training Loss: 0.2501463047233788\n"
          ]
        },
        {
          "metadata": {
            "tags": null
          },
          "name": "stderr",
          "output_type": "stream",
          "text": [
            "\n"
          ]
        },
        {
          "metadata": {
            "tags": null
          },
          "name": "stdout",
          "output_type": "stream",
          "text": [
            "[0.01]\n",
            "Modello con miou migliore salvato: /content/drive/MyDrive/AML_project/checkpoints_new_augmentation/best_model_PIDNET_3B_split_4.pth\n",
            "Epoch 10/20 - Validation Loss: 0.2533774334630925 - mIoU: 0.5600882768630981\n"
          ]
        },
        {
          "metadata": {
            "tags": null
          },
          "name": "stderr",
          "output_type": "stream",
          "text": [
            "Epoch 11/20: 100%|███████████████████████████████████████| 58/58 [00:16<00:00,  3.49it/s, loss=3.93]"
          ]
        },
        {
          "metadata": {
            "tags": null
          },
          "name": "stdout",
          "output_type": "stream",
          "text": [
            "Epoch 11/20 - Training Loss: 0.24966673670588313\n"
          ]
        },
        {
          "metadata": {
            "tags": null
          },
          "name": "stderr",
          "output_type": "stream",
          "text": [
            "\n"
          ]
        },
        {
          "metadata": {
            "tags": null
          },
          "name": "stdout",
          "output_type": "stream",
          "text": [
            "[0.01]\n",
            "Modello con miou migliore salvato: /content/drive/MyDrive/AML_project/checkpoints_new_augmentation/best_model_PIDNET_3B_split_4.pth\n",
            "Epoch 11/20 - Validation Loss: 0.24907537559410195 - mIoU: 0.5655090808868408\n"
          ]
        },
        {
          "metadata": {
            "tags": null
          },
          "name": "stderr",
          "output_type": "stream",
          "text": [
            "Epoch 12/20: 100%|████████████████████████████████████████| 58/58 [00:16<00:00,  3.47it/s, loss=4.1]"
          ]
        },
        {
          "metadata": {
            "tags": null
          },
          "name": "stdout",
          "output_type": "stream",
          "text": [
            "Epoch 12/20 - Training Loss: 0.24682479445998734\n"
          ]
        },
        {
          "metadata": {
            "tags": null
          },
          "name": "stderr",
          "output_type": "stream",
          "text": [
            "\n"
          ]
        },
        {
          "metadata": {
            "tags": null
          },
          "name": "stdout",
          "output_type": "stream",
          "text": [
            "[0.01]\n",
            "Epoch 12/20 - Validation Loss: 0.2515194694717209 - mIoU: 0.5640192031860352\n"
          ]
        },
        {
          "metadata": {
            "tags": null
          },
          "name": "stderr",
          "output_type": "stream",
          "text": [
            "Epoch 13/20: 100%|███████████████████████████████████████| 58/58 [00:16<00:00,  3.49it/s, loss=3.98]"
          ]
        },
        {
          "metadata": {
            "tags": null
          },
          "name": "stdout",
          "output_type": "stream",
          "text": [
            "Epoch 13/20 - Training Loss: 0.24670748220907676\n"
          ]
        },
        {
          "metadata": {
            "tags": null
          },
          "name": "stderr",
          "output_type": "stream",
          "text": [
            "\n"
          ]
        },
        {
          "metadata": {
            "tags": null
          },
          "name": "stdout",
          "output_type": "stream",
          "text": [
            "[0.01]\n",
            "Epoch 13/20 - Validation Loss: 0.2504705371278705 - mIoU: 0.5568526983261108\n"
          ]
        },
        {
          "metadata": {
            "tags": null
          },
          "name": "stderr",
          "output_type": "stream",
          "text": [
            "Epoch 14/20: 100%|███████████████████████████████████████| 58/58 [00:16<00:00,  3.48it/s, loss=3.66]"
          ]
        },
        {
          "metadata": {
            "tags": null
          },
          "name": "stdout",
          "output_type": "stream",
          "text": [
            "Epoch 14/20 - Training Loss: 0.2426045526040567\n"
          ]
        },
        {
          "metadata": {
            "tags": null
          },
          "name": "stderr",
          "output_type": "stream",
          "text": [
            "\n"
          ]
        },
        {
          "metadata": {
            "tags": null
          },
          "name": "stdout",
          "output_type": "stream",
          "text": [
            "[0.01]\n",
            "Modello con miou migliore salvato: /content/drive/MyDrive/AML_project/checkpoints_new_augmentation/best_model_PIDNET_3B_split_4.pth\n",
            "Epoch 14/20 - Validation Loss: 0.24881711563506684 - mIoU: 0.5786730051040649\n"
          ]
        },
        {
          "metadata": {
            "tags": null
          },
          "name": "stderr",
          "output_type": "stream",
          "text": [
            "Epoch 15/20: 100%|███████████████████████████████████████| 58/58 [00:16<00:00,  3.46it/s, loss=3.57]"
          ]
        },
        {
          "metadata": {
            "tags": null
          },
          "name": "stdout",
          "output_type": "stream",
          "text": [
            "Epoch 15/20 - Training Loss: 0.24185108055939544\n"
          ]
        },
        {
          "metadata": {
            "tags": null
          },
          "name": "stderr",
          "output_type": "stream",
          "text": [
            "\n"
          ]
        },
        {
          "metadata": {
            "tags": null
          },
          "name": "stdout",
          "output_type": "stream",
          "text": [
            "[0.01]\n",
            "Modello con miou migliore salvato: /content/drive/MyDrive/AML_project/checkpoints_new_augmentation/best_model_PIDNET_3B_split_4.pth\n",
            "Epoch 15/20 - Validation Loss: 0.24493492836560005 - mIoU: 0.5999860763549805\n"
          ]
        },
        {
          "metadata": {
            "tags": null
          },
          "name": "stderr",
          "output_type": "stream",
          "text": [
            "Epoch 16/20: 100%|███████████████████████████████████████| 58/58 [00:16<00:00,  3.44it/s, loss=3.62]"
          ]
        },
        {
          "metadata": {
            "tags": null
          },
          "name": "stdout",
          "output_type": "stream",
          "text": [
            "Epoch 16/20 - Training Loss: 0.24028091301789156\n"
          ]
        },
        {
          "metadata": {
            "tags": null
          },
          "name": "stderr",
          "output_type": "stream",
          "text": [
            "\n"
          ]
        },
        {
          "metadata": {
            "tags": null
          },
          "name": "stdout",
          "output_type": "stream",
          "text": [
            "[0.01]\n",
            "Epoch 16/20 - Validation Loss: 0.248066267409882 - mIoU: 0.589943528175354\n"
          ]
        },
        {
          "metadata": {
            "tags": null
          },
          "name": "stderr",
          "output_type": "stream",
          "text": [
            "Epoch 17/20: 100%|███████████████████████████████████████| 58/58 [00:16<00:00,  3.44it/s, loss=3.76]"
          ]
        },
        {
          "metadata": {
            "tags": null
          },
          "name": "stdout",
          "output_type": "stream",
          "text": [
            "Epoch 17/20 - Training Loss: 0.23928513758891337\n"
          ]
        },
        {
          "metadata": {
            "tags": null
          },
          "name": "stderr",
          "output_type": "stream",
          "text": [
            "\n"
          ]
        },
        {
          "metadata": {
            "tags": null
          },
          "name": "stdout",
          "output_type": "stream",
          "text": [
            "[0.01]\n",
            "Modello con miou migliore salvato: /content/drive/MyDrive/AML_project/checkpoints_new_augmentation/best_model_PIDNET_3B_split_4.pth\n",
            "Epoch 17/20 - Validation Loss: 0.24256584241792753 - mIoU: 0.6084936261177063\n"
          ]
        },
        {
          "metadata": {
            "tags": null
          },
          "name": "stderr",
          "output_type": "stream",
          "text": [
            "Epoch 18/20: 100%|██████████████████████████████████████████| 58/58 [00:16<00:00,  3.46it/s, loss=4]"
          ]
        },
        {
          "metadata": {
            "tags": null
          },
          "name": "stdout",
          "output_type": "stream",
          "text": [
            "Epoch 18/20 - Training Loss: 0.23959665633536673\n"
          ]
        },
        {
          "metadata": {
            "tags": null
          },
          "name": "stderr",
          "output_type": "stream",
          "text": [
            "\n"
          ]
        },
        {
          "metadata": {
            "tags": null
          },
          "name": "stdout",
          "output_type": "stream",
          "text": [
            "[0.01]\n",
            "Epoch 18/20 - Validation Loss: 0.2501998505035004 - mIoU: 0.5844897031784058\n"
          ]
        },
        {
          "metadata": {
            "tags": null
          },
          "name": "stderr",
          "output_type": "stream",
          "text": [
            "Epoch 19/20: 100%|███████████████████████████████████████| 58/58 [00:16<00:00,  3.46it/s, loss=3.95]"
          ]
        },
        {
          "metadata": {
            "tags": null
          },
          "name": "stdout",
          "output_type": "stream",
          "text": [
            "Epoch 19/20 - Training Loss: 0.2386828852988578\n"
          ]
        },
        {
          "metadata": {
            "tags": null
          },
          "name": "stderr",
          "output_type": "stream",
          "text": [
            "\n"
          ]
        },
        {
          "metadata": {
            "tags": null
          },
          "name": "stdout",
          "output_type": "stream",
          "text": [
            "[0.01]\n",
            "Modello con miou migliore salvato: /content/drive/MyDrive/AML_project/checkpoints_new_augmentation/best_model_PIDNET_3B_split_4.pth\n",
            "Epoch 19/20 - Validation Loss: 0.24486306012966932 - mIoU: 0.6264405250549316\n"
          ]
        },
        {
          "metadata": {
            "tags": null
          },
          "name": "stderr",
          "output_type": "stream",
          "text": [
            "Epoch 20/20: 100%|███████████████████████████████████████| 58/58 [00:16<00:00,  3.45it/s, loss=3.77]"
          ]
        },
        {
          "metadata": {
            "tags": null
          },
          "name": "stdout",
          "output_type": "stream",
          "text": [
            "Epoch 20/20 - Training Loss: 0.2371649796253926\n"
          ]
        },
        {
          "metadata": {
            "tags": null
          },
          "name": "stderr",
          "output_type": "stream",
          "text": [
            "\n"
          ]
        },
        {
          "metadata": {
            "tags": null
          },
          "name": "stdout",
          "output_type": "stream",
          "text": [
            "[0.01]\n",
            "Epoch 20/20 - Validation Loss: 0.24199220009180375 - mIoU: 0.6244843602180481\n",
            "📊 Processig the model with ID: 5\n"
          ]
        },
        {
          "metadata": {
            "tags": null
          },
          "name": "stderr",
          "output_type": "stream",
          "text": [
            "Epoch 1/20: 100%|████████████████████████████████████████| 58/58 [00:32<00:00,  1.80it/s, loss=5.41]"
          ]
        },
        {
          "metadata": {
            "tags": null
          },
          "name": "stdout",
          "output_type": "stream",
          "text": [
            "Epoch 1/20 - Training Loss: 0.42893158165184225\n"
          ]
        },
        {
          "metadata": {
            "tags": null
          },
          "name": "stderr",
          "output_type": "stream",
          "text": [
            "\n"
          ]
        },
        {
          "metadata": {
            "tags": null
          },
          "name": "stdout",
          "output_type": "stream",
          "text": [
            "[0.01]\n",
            "Modello con miou migliore salvato: /content/drive/MyDrive/AML_project/checkpoints_new_augmentation/best_model_PIDNET_3B_split_5.pth\n",
            "Epoch 1/20 - Validation Loss: 0.32603986954792236 - mIoU: 0.2635348439216614\n"
          ]
        },
        {
          "metadata": {
            "tags": null
          },
          "name": "stderr",
          "output_type": "stream",
          "text": [
            "Epoch 2/20: 100%|████████████████████████████████████████| 58/58 [00:31<00:00,  1.82it/s, loss=5.11]"
          ]
        },
        {
          "metadata": {
            "tags": null
          },
          "name": "stdout",
          "output_type": "stream",
          "text": [
            "Epoch 2/20 - Training Loss: 0.3014221325436154\n"
          ]
        },
        {
          "metadata": {
            "tags": null
          },
          "name": "stderr",
          "output_type": "stream",
          "text": [
            "\n"
          ]
        },
        {
          "metadata": {
            "tags": null
          },
          "name": "stdout",
          "output_type": "stream",
          "text": [
            "[0.01]\n",
            "Modello con miou migliore salvato: /content/drive/MyDrive/AML_project/checkpoints_new_augmentation/best_model_PIDNET_3B_split_5.pth\n",
            "Epoch 2/20 - Validation Loss: 0.2890367384080763 - mIoU: 0.3550056517124176\n"
          ]
        },
        {
          "metadata": {
            "tags": null
          },
          "name": "stderr",
          "output_type": "stream",
          "text": [
            "Epoch 3/20: 100%|████████████████████████████████████████| 58/58 [00:31<00:00,  1.81it/s, loss=4.01]"
          ]
        },
        {
          "metadata": {
            "tags": null
          },
          "name": "stdout",
          "output_type": "stream",
          "text": [
            "Epoch 3/20 - Training Loss: 0.2928336916743098\n"
          ]
        },
        {
          "metadata": {
            "tags": null
          },
          "name": "stderr",
          "output_type": "stream",
          "text": [
            "\n"
          ]
        },
        {
          "metadata": {
            "tags": null
          },
          "name": "stdout",
          "output_type": "stream",
          "text": [
            "[0.01]\n",
            "Modello con miou migliore salvato: /content/drive/MyDrive/AML_project/checkpoints_new_augmentation/best_model_PIDNET_3B_split_5.pth\n",
            "Epoch 3/20 - Validation Loss: 0.2800642071348248 - mIoU: 0.387460321187973\n"
          ]
        },
        {
          "metadata": {
            "tags": null
          },
          "name": "stderr",
          "output_type": "stream",
          "text": [
            "Epoch 4/20: 100%|████████████████████████████████████████| 58/58 [00:31<00:00,  1.83it/s, loss=4.85]"
          ]
        },
        {
          "metadata": {
            "tags": null
          },
          "name": "stdout",
          "output_type": "stream",
          "text": [
            "Epoch 4/20 - Training Loss: 0.2815968402656349\n"
          ]
        },
        {
          "metadata": {
            "tags": null
          },
          "name": "stderr",
          "output_type": "stream",
          "text": [
            "\n"
          ]
        },
        {
          "metadata": {
            "tags": null
          },
          "name": "stdout",
          "output_type": "stream",
          "text": [
            "[0.01]\n",
            "Modello con miou migliore salvato: /content/drive/MyDrive/AML_project/checkpoints_new_augmentation/best_model_PIDNET_3B_split_5.pth\n",
            "Epoch 4/20 - Validation Loss: 0.26769012083738913 - mIoU: 0.41754576563835144\n"
          ]
        },
        {
          "metadata": {
            "tags": null
          },
          "name": "stderr",
          "output_type": "stream",
          "text": [
            "Epoch 5/20: 100%|████████████████████████████████████████| 58/58 [00:32<00:00,  1.81it/s, loss=4.16]"
          ]
        },
        {
          "metadata": {
            "tags": null
          },
          "name": "stdout",
          "output_type": "stream",
          "text": [
            "Epoch 5/20 - Training Loss: 0.2726492332767796\n"
          ]
        },
        {
          "metadata": {
            "tags": null
          },
          "name": "stderr",
          "output_type": "stream",
          "text": [
            "\n"
          ]
        },
        {
          "metadata": {
            "tags": null
          },
          "name": "stdout",
          "output_type": "stream",
          "text": [
            "[0.01]\n",
            "Modello con miou migliore salvato: /content/drive/MyDrive/AML_project/checkpoints_new_augmentation/best_model_PIDNET_3B_split_5.pth\n",
            "Epoch 5/20 - Validation Loss: 0.26640805021508945 - mIoU: 0.44600433111190796\n"
          ]
        },
        {
          "metadata": {
            "tags": null
          },
          "name": "stderr",
          "output_type": "stream",
          "text": [
            "Epoch 6/20: 100%|████████████████████████████████████████| 58/58 [00:31<00:00,  1.84it/s, loss=4.48]"
          ]
        },
        {
          "metadata": {
            "tags": null
          },
          "name": "stdout",
          "output_type": "stream",
          "text": [
            "Epoch 6/20 - Training Loss: 0.2677991939235378\n"
          ]
        },
        {
          "metadata": {
            "tags": null
          },
          "name": "stderr",
          "output_type": "stream",
          "text": [
            "\n"
          ]
        },
        {
          "metadata": {
            "tags": null
          },
          "name": "stdout",
          "output_type": "stream",
          "text": [
            "[0.01]\n",
            "Modello con miou migliore salvato: /content/drive/MyDrive/AML_project/checkpoints_new_augmentation/best_model_PIDNET_3B_split_5.pth\n",
            "Epoch 6/20 - Validation Loss: 0.26844653319486805 - mIoU: 0.4607011377811432\n"
          ]
        },
        {
          "metadata": {
            "tags": null
          },
          "name": "stderr",
          "output_type": "stream",
          "text": [
            "Epoch 7/20: 100%|████████████████████████████████████████| 58/58 [00:31<00:00,  1.82it/s, loss=3.96]"
          ]
        },
        {
          "metadata": {
            "tags": null
          },
          "name": "stdout",
          "output_type": "stream",
          "text": [
            "Epoch 7/20 - Training Loss: 0.26191728024869354\n"
          ]
        },
        {
          "metadata": {
            "tags": null
          },
          "name": "stderr",
          "output_type": "stream",
          "text": [
            "\n"
          ]
        },
        {
          "metadata": {
            "tags": null
          },
          "name": "stdout",
          "output_type": "stream",
          "text": [
            "[0.01]\n",
            "Modello con miou migliore salvato: /content/drive/MyDrive/AML_project/checkpoints_new_augmentation/best_model_PIDNET_3B_split_5.pth\n",
            "Epoch 7/20 - Validation Loss: 0.2516703966892127 - mIoU: 0.4919325113296509\n"
          ]
        },
        {
          "metadata": {
            "tags": null
          },
          "name": "stderr",
          "output_type": "stream",
          "text": [
            "Epoch 8/20: 100%|████████████████████████████████████████| 58/58 [00:31<00:00,  1.82it/s, loss=4.25]"
          ]
        },
        {
          "metadata": {
            "tags": null
          },
          "name": "stdout",
          "output_type": "stream",
          "text": [
            "Epoch 8/20 - Training Loss: 0.2581182088078679\n"
          ]
        },
        {
          "metadata": {
            "tags": null
          },
          "name": "stderr",
          "output_type": "stream",
          "text": [
            "\n"
          ]
        },
        {
          "metadata": {
            "tags": null
          },
          "name": "stdout",
          "output_type": "stream",
          "text": [
            "[0.01]\n",
            "Modello con miou migliore salvato: /content/drive/MyDrive/AML_project/checkpoints_new_augmentation/best_model_PIDNET_3B_split_5.pth\n",
            "Epoch 8/20 - Validation Loss: 0.2518644766374068 - mIoU: 0.5044976472854614\n"
          ]
        },
        {
          "metadata": {
            "tags": null
          },
          "name": "stderr",
          "output_type": "stream",
          "text": [
            "Epoch 9/20: 100%|████████████████████████████████████████| 58/58 [00:32<00:00,  1.80it/s, loss=3.51]"
          ]
        },
        {
          "metadata": {
            "tags": null
          },
          "name": "stdout",
          "output_type": "stream",
          "text": [
            "Epoch 9/20 - Training Loss: 0.2546912433005668\n"
          ]
        },
        {
          "metadata": {
            "tags": null
          },
          "name": "stderr",
          "output_type": "stream",
          "text": [
            "\n"
          ]
        },
        {
          "metadata": {
            "tags": null
          },
          "name": "stdout",
          "output_type": "stream",
          "text": [
            "[0.01]\n",
            "Modello con miou migliore salvato: /content/drive/MyDrive/AML_project/checkpoints_new_augmentation/best_model_PIDNET_3B_split_5.pth\n",
            "Epoch 9/20 - Validation Loss: 0.2496610503176074 - mIoU: 0.5207821726799011\n"
          ]
        },
        {
          "metadata": {
            "tags": null
          },
          "name": "stderr",
          "output_type": "stream",
          "text": [
            "Epoch 10/20: 100%|███████████████████████████████████████| 58/58 [00:32<00:00,  1.81it/s, loss=4.03]"
          ]
        },
        {
          "metadata": {
            "tags": null
          },
          "name": "stdout",
          "output_type": "stream",
          "text": [
            "Epoch 10/20 - Training Loss: 0.25499320597262\n"
          ]
        },
        {
          "metadata": {
            "tags": null
          },
          "name": "stderr",
          "output_type": "stream",
          "text": [
            "\n"
          ]
        },
        {
          "metadata": {
            "tags": null
          },
          "name": "stdout",
          "output_type": "stream",
          "text": [
            "[0.01]\n",
            "Epoch 10/20 - Validation Loss: 0.24754305525775597 - mIoU: 0.4987000823020935\n"
          ]
        },
        {
          "metadata": {
            "tags": null
          },
          "name": "stderr",
          "output_type": "stream",
          "text": [
            "Epoch 11/20: 100%|███████████████████████████████████████| 58/58 [00:32<00:00,  1.80it/s, loss=4.03]"
          ]
        },
        {
          "metadata": {
            "tags": null
          },
          "name": "stdout",
          "output_type": "stream",
          "text": [
            "Epoch 11/20 - Training Loss: 0.251956162066073\n"
          ]
        },
        {
          "metadata": {
            "tags": null
          },
          "name": "stderr",
          "output_type": "stream",
          "text": [
            "\n"
          ]
        },
        {
          "metadata": {
            "tags": null
          },
          "name": "stdout",
          "output_type": "stream",
          "text": [
            "[0.01]\n",
            "Modello con miou migliore salvato: /content/drive/MyDrive/AML_project/checkpoints_new_augmentation/best_model_PIDNET_3B_split_5.pth\n",
            "Epoch 11/20 - Validation Loss: 0.24784367425101145 - mIoU: 0.54052734375\n"
          ]
        },
        {
          "metadata": {
            "tags": null
          },
          "name": "stderr",
          "output_type": "stream",
          "text": [
            "Epoch 12/20: 100%|███████████████████████████████████████| 58/58 [00:32<00:00,  1.81it/s, loss=4.38]"
          ]
        },
        {
          "metadata": {
            "tags": null
          },
          "name": "stdout",
          "output_type": "stream",
          "text": [
            "Epoch 12/20 - Training Loss: 0.24773214958809517\n"
          ]
        },
        {
          "metadata": {
            "tags": null
          },
          "name": "stderr",
          "output_type": "stream",
          "text": [
            "\n"
          ]
        },
        {
          "metadata": {
            "tags": null
          },
          "name": "stdout",
          "output_type": "stream",
          "text": [
            "[0.01]\n",
            "Modello con miou migliore salvato: /content/drive/MyDrive/AML_project/checkpoints_new_augmentation/best_model_PIDNET_3B_split_5.pth\n",
            "Epoch 12/20 - Validation Loss: 0.25249292014481184 - mIoU: 0.5512804985046387\n"
          ]
        },
        {
          "metadata": {
            "tags": null
          },
          "name": "stderr",
          "output_type": "stream",
          "text": [
            "Epoch 13/20: 100%|███████████████████████████████████████| 58/58 [00:31<00:00,  1.82it/s, loss=3.86]"
          ]
        },
        {
          "metadata": {
            "tags": null
          },
          "name": "stdout",
          "output_type": "stream",
          "text": [
            "Epoch 13/20 - Training Loss: 0.24456101134016708\n"
          ]
        },
        {
          "metadata": {
            "tags": null
          },
          "name": "stderr",
          "output_type": "stream",
          "text": [
            "\n"
          ]
        },
        {
          "metadata": {
            "tags": null
          },
          "name": "stdout",
          "output_type": "stream",
          "text": [
            "[0.01]\n",
            "Modello con miou migliore salvato: /content/drive/MyDrive/AML_project/checkpoints_new_augmentation/best_model_PIDNET_3B_split_5.pth\n",
            "Epoch 13/20 - Validation Loss: 0.25193180459918396 - mIoU: 0.5721887946128845\n"
          ]
        },
        {
          "metadata": {
            "tags": null
          },
          "name": "stderr",
          "output_type": "stream",
          "text": [
            "Epoch 14/20: 100%|███████████████████████████████████████| 58/58 [00:31<00:00,  1.82it/s, loss=3.93]"
          ]
        },
        {
          "metadata": {
            "tags": null
          },
          "name": "stdout",
          "output_type": "stream",
          "text": [
            "Epoch 14/20 - Training Loss: 0.24588434941059834\n"
          ]
        },
        {
          "metadata": {
            "tags": null
          },
          "name": "stderr",
          "output_type": "stream",
          "text": [
            "\n"
          ]
        },
        {
          "metadata": {
            "tags": null
          },
          "name": "stdout",
          "output_type": "stream",
          "text": [
            "[0.01]\n",
            "Modello con miou migliore salvato: /content/drive/MyDrive/AML_project/checkpoints_new_augmentation/best_model_PIDNET_3B_split_5.pth\n",
            "Epoch 14/20 - Validation Loss: 0.2483895660994889 - mIoU: 0.5951542258262634\n"
          ]
        },
        {
          "metadata": {
            "tags": null
          },
          "name": "stderr",
          "output_type": "stream",
          "text": [
            "Epoch 15/20: 100%|███████████████████████████████████████| 58/58 [00:31<00:00,  1.82it/s, loss=4.07]"
          ]
        },
        {
          "metadata": {
            "tags": null
          },
          "name": "stdout",
          "output_type": "stream",
          "text": [
            "Epoch 15/20 - Training Loss: 0.24387118829263224\n"
          ]
        },
        {
          "metadata": {
            "tags": null
          },
          "name": "stderr",
          "output_type": "stream",
          "text": [
            "\n"
          ]
        },
        {
          "metadata": {
            "tags": null
          },
          "name": "stdout",
          "output_type": "stream",
          "text": [
            "[0.01]\n",
            "Modello con miou migliore salvato: /content/drive/MyDrive/AML_project/checkpoints_new_augmentation/best_model_PIDNET_3B_split_5.pth\n",
            "Epoch 15/20 - Validation Loss: 0.2474074632058412 - mIoU: 0.6055906414985657\n"
          ]
        },
        {
          "metadata": {
            "tags": null
          },
          "name": "stderr",
          "output_type": "stream",
          "text": [
            "Epoch 16/20: 100%|███████████████████████████████████████| 58/58 [00:31<00:00,  1.83it/s, loss=5.01]"
          ]
        },
        {
          "metadata": {
            "tags": null
          },
          "name": "stdout",
          "output_type": "stream",
          "text": [
            "Epoch 16/20 - Training Loss: 0.2432822204280544\n"
          ]
        },
        {
          "metadata": {
            "tags": null
          },
          "name": "stderr",
          "output_type": "stream",
          "text": [
            "\n"
          ]
        },
        {
          "metadata": {
            "tags": null
          },
          "name": "stdout",
          "output_type": "stream",
          "text": [
            "[0.01]\n",
            "Epoch 16/20 - Validation Loss: 0.2547244777927151 - mIoU: 0.588444709777832\n"
          ]
        },
        {
          "metadata": {
            "tags": null
          },
          "name": "stderr",
          "output_type": "stream",
          "text": [
            "Epoch 17/20: 100%|███████████████████████████████████████| 58/58 [00:32<00:00,  1.80it/s, loss=4.09]"
          ]
        },
        {
          "metadata": {
            "tags": null
          },
          "name": "stdout",
          "output_type": "stream",
          "text": [
            "Epoch 17/20 - Training Loss: 0.24092540844066723\n"
          ]
        },
        {
          "metadata": {
            "tags": null
          },
          "name": "stderr",
          "output_type": "stream",
          "text": [
            "\n"
          ]
        },
        {
          "metadata": {
            "tags": null
          },
          "name": "stdout",
          "output_type": "stream",
          "text": [
            "[0.01]\n",
            "Modello con miou migliore salvato: /content/drive/MyDrive/AML_project/checkpoints_new_augmentation/best_model_PIDNET_3B_split_5.pth\n",
            "Epoch 17/20 - Validation Loss: 0.24505491690202194 - mIoU: 0.6147217154502869\n"
          ]
        },
        {
          "metadata": {
            "tags": null
          },
          "name": "stderr",
          "output_type": "stream",
          "text": [
            "Epoch 18/20: 100%|███████████████████████████████████████| 58/58 [00:31<00:00,  1.82it/s, loss=4.01]"
          ]
        },
        {
          "metadata": {
            "tags": null
          },
          "name": "stdout",
          "output_type": "stream",
          "text": [
            "Epoch 18/20 - Training Loss: 0.24069751713726972\n"
          ]
        },
        {
          "metadata": {
            "tags": null
          },
          "name": "stderr",
          "output_type": "stream",
          "text": [
            "\n"
          ]
        },
        {
          "metadata": {
            "tags": null
          },
          "name": "stdout",
          "output_type": "stream",
          "text": [
            "[0.01]\n",
            "Epoch 18/20 - Validation Loss: 0.24347020743729234 - mIoU: 0.6129117012023926\n"
          ]
        },
        {
          "metadata": {
            "tags": null
          },
          "name": "stderr",
          "output_type": "stream",
          "text": [
            "Epoch 19/20: 100%|███████████████████████████████████████| 58/58 [00:31<00:00,  1.82it/s, loss=3.81]"
          ]
        },
        {
          "metadata": {
            "tags": null
          },
          "name": "stdout",
          "output_type": "stream",
          "text": [
            "Epoch 19/20 - Training Loss: 0.23810520739168733\n"
          ]
        },
        {
          "metadata": {
            "tags": null
          },
          "name": "stderr",
          "output_type": "stream",
          "text": [
            "\n"
          ]
        },
        {
          "metadata": {
            "tags": null
          },
          "name": "stdout",
          "output_type": "stream",
          "text": [
            "[0.01]\n",
            "Modello con miou migliore salvato: /content/drive/MyDrive/AML_project/checkpoints_new_augmentation/best_model_PIDNET_3B_split_5.pth\n",
            "Epoch 19/20 - Validation Loss: 0.24389297208744726 - mIoU: 0.6321530342102051\n"
          ]
        },
        {
          "metadata": {
            "tags": null
          },
          "name": "stderr",
          "output_type": "stream",
          "text": [
            "Epoch 20/20: 100%|███████████████████████████████████████| 58/58 [00:31<00:00,  1.82it/s, loss=3.49]"
          ]
        },
        {
          "metadata": {
            "tags": null
          },
          "name": "stdout",
          "output_type": "stream",
          "text": [
            "Epoch 20/20 - Training Loss: 0.23538118826376425\n"
          ]
        },
        {
          "metadata": {
            "tags": null
          },
          "name": "stderr",
          "output_type": "stream",
          "text": [
            "\n"
          ]
        },
        {
          "metadata": {
            "tags": null
          },
          "name": "stdout",
          "output_type": "stream",
          "text": [
            "[0.01]\n",
            "Epoch 20/20 - Validation Loss: 0.2411945495770607 - mIoU: 0.6242308020591736\n",
            "📊 Processig the model with ID: 6\n"
          ]
        },
        {
          "metadata": {
            "tags": null
          },
          "name": "stderr",
          "output_type": "stream",
          "text": [
            "Epoch 1/20: 100%|████████████████████████████████████████| 58/58 [00:16<00:00,  3.49it/s, loss=5.37]"
          ]
        },
        {
          "metadata": {
            "tags": null
          },
          "name": "stdout",
          "output_type": "stream",
          "text": [
            "Epoch 1/20 - Training Loss: 0.4501673600480363\n"
          ]
        },
        {
          "metadata": {
            "tags": null
          },
          "name": "stderr",
          "output_type": "stream",
          "text": [
            "\n"
          ]
        },
        {
          "metadata": {
            "tags": null
          },
          "name": "stdout",
          "output_type": "stream",
          "text": [
            "[0.01]\n",
            "Modello con miou migliore salvato: /content/drive/MyDrive/AML_project/checkpoints_new_augmentation/best_model_PIDNET_3B_split_6.pth\n",
            "Epoch 1/20 - Validation Loss: 0.30530861032989637 - mIoU: 0.2580135464668274\n"
          ]
        },
        {
          "metadata": {
            "tags": null
          },
          "name": "stderr",
          "output_type": "stream",
          "text": [
            "Epoch 2/20: 100%|████████████████████████████████████████| 58/58 [00:16<00:00,  3.48it/s, loss=5.34]"
          ]
        },
        {
          "metadata": {
            "tags": null
          },
          "name": "stdout",
          "output_type": "stream",
          "text": [
            "Epoch 2/20 - Training Loss: 0.3069375785621437\n"
          ]
        },
        {
          "metadata": {
            "tags": null
          },
          "name": "stderr",
          "output_type": "stream",
          "text": [
            "\n"
          ]
        },
        {
          "metadata": {
            "tags": null
          },
          "name": "stdout",
          "output_type": "stream",
          "text": [
            "[0.01]\n",
            "Modello con miou migliore salvato: /content/drive/MyDrive/AML_project/checkpoints_new_augmentation/best_model_PIDNET_3B_split_6.pth\n",
            "Epoch 2/20 - Validation Loss: 0.3006034145107517 - mIoU: 0.3409959375858307\n"
          ]
        },
        {
          "metadata": {
            "tags": null
          },
          "name": "stderr",
          "output_type": "stream",
          "text": [
            "Epoch 3/20: 100%|████████████████████████████████████████| 58/58 [00:16<00:00,  3.50it/s, loss=4.82]"
          ]
        },
        {
          "metadata": {
            "tags": null
          },
          "name": "stdout",
          "output_type": "stream",
          "text": [
            "Epoch 3/20 - Training Loss: 0.29362569087260476\n"
          ]
        },
        {
          "metadata": {
            "tags": null
          },
          "name": "stderr",
          "output_type": "stream",
          "text": [
            "\n"
          ]
        },
        {
          "metadata": {
            "tags": null
          },
          "name": "stdout",
          "output_type": "stream",
          "text": [
            "[0.01]\n",
            "Modello con miou migliore salvato: /content/drive/MyDrive/AML_project/checkpoints_new_augmentation/best_model_PIDNET_3B_split_6.pth\n",
            "Epoch 3/20 - Validation Loss: 0.3047395000210056 - mIoU: 0.379614919424057\n"
          ]
        },
        {
          "metadata": {
            "tags": null
          },
          "name": "stderr",
          "output_type": "stream",
          "text": [
            "Epoch 4/20: 100%|████████████████████████████████████████| 58/58 [00:16<00:00,  3.50it/s, loss=4.88]"
          ]
        },
        {
          "metadata": {
            "tags": null
          },
          "name": "stdout",
          "output_type": "stream",
          "text": [
            "Epoch 4/20 - Training Loss: 0.2969708009668299\n"
          ]
        },
        {
          "metadata": {
            "tags": null
          },
          "name": "stderr",
          "output_type": "stream",
          "text": [
            "\n"
          ]
        },
        {
          "metadata": {
            "tags": null
          },
          "name": "stdout",
          "output_type": "stream",
          "text": [
            "[0.01]\n",
            "Epoch 4/20 - Validation Loss: 0.28296130663388736 - mIoU: 0.3513416647911072\n"
          ]
        },
        {
          "metadata": {
            "tags": null
          },
          "name": "stderr",
          "output_type": "stream",
          "text": [
            "Epoch 5/20: 100%|████████████████████████████████████████| 58/58 [00:16<00:00,  3.51it/s, loss=5.07]"
          ]
        },
        {
          "metadata": {
            "tags": null
          },
          "name": "stdout",
          "output_type": "stream",
          "text": [
            "Epoch 5/20 - Training Loss: 0.2831717547854862\n"
          ]
        },
        {
          "metadata": {
            "tags": null
          },
          "name": "stderr",
          "output_type": "stream",
          "text": [
            "\n"
          ]
        },
        {
          "metadata": {
            "tags": null
          },
          "name": "stdout",
          "output_type": "stream",
          "text": [
            "[0.01]\n",
            "Modello con miou migliore salvato: /content/drive/MyDrive/AML_project/checkpoints_new_augmentation/best_model_PIDNET_3B_split_6.pth\n",
            "Epoch 5/20 - Validation Loss: 0.27440859435440657 - mIoU: 0.3992321193218231\n"
          ]
        },
        {
          "metadata": {
            "tags": null
          },
          "name": "stderr",
          "output_type": "stream",
          "text": [
            "Epoch 6/20: 100%|████████████████████████████████████████| 58/58 [00:16<00:00,  3.48it/s, loss=4.28]"
          ]
        },
        {
          "metadata": {
            "tags": null
          },
          "name": "stdout",
          "output_type": "stream",
          "text": [
            "Epoch 6/20 - Training Loss: 0.2765976519198031\n"
          ]
        },
        {
          "metadata": {
            "tags": null
          },
          "name": "stderr",
          "output_type": "stream",
          "text": [
            "\n"
          ]
        },
        {
          "metadata": {
            "tags": null
          },
          "name": "stdout",
          "output_type": "stream",
          "text": [
            "[0.01]\n",
            "Modello con miou migliore salvato: /content/drive/MyDrive/AML_project/checkpoints_new_augmentation/best_model_PIDNET_3B_split_6.pth\n",
            "Epoch 6/20 - Validation Loss: 0.276813081848673 - mIoU: 0.43360617756843567\n"
          ]
        },
        {
          "metadata": {
            "tags": null
          },
          "name": "stderr",
          "output_type": "stream",
          "text": [
            "Epoch 7/20: 100%|████████████████████████████████████████| 58/58 [00:16<00:00,  3.53it/s, loss=4.15]"
          ]
        },
        {
          "metadata": {
            "tags": null
          },
          "name": "stdout",
          "output_type": "stream",
          "text": [
            "Epoch 7/20 - Training Loss: 0.2705238798502329\n"
          ]
        },
        {
          "metadata": {
            "tags": null
          },
          "name": "stderr",
          "output_type": "stream",
          "text": [
            "\n"
          ]
        },
        {
          "metadata": {
            "tags": null
          },
          "name": "stdout",
          "output_type": "stream",
          "text": [
            "[0.01]\n",
            "Modello con miou migliore salvato: /content/drive/MyDrive/AML_project/checkpoints_new_augmentation/best_model_PIDNET_3B_split_6.pth\n",
            "Epoch 7/20 - Validation Loss: 0.27064095121441467 - mIoU: 0.44133099913597107\n"
          ]
        },
        {
          "metadata": {
            "tags": null
          },
          "name": "stderr",
          "output_type": "stream",
          "text": [
            "Epoch 8/20: 100%|████████████████████████████████████████| 58/58 [00:16<00:00,  3.51it/s, loss=3.64]"
          ]
        },
        {
          "metadata": {
            "tags": null
          },
          "name": "stdout",
          "output_type": "stream",
          "text": [
            "Epoch 8/20 - Training Loss: 0.27118326599533493\n"
          ]
        },
        {
          "metadata": {
            "tags": null
          },
          "name": "stderr",
          "output_type": "stream",
          "text": [
            "\n"
          ]
        },
        {
          "metadata": {
            "tags": null
          },
          "name": "stdout",
          "output_type": "stream",
          "text": [
            "[0.01]\n",
            "Epoch 8/20 - Validation Loss: 0.2784280983400551 - mIoU: 0.4389122724533081\n"
          ]
        },
        {
          "metadata": {
            "tags": null
          },
          "name": "stderr",
          "output_type": "stream",
          "text": [
            "Epoch 9/20: 100%|████████████████████████████████████████| 58/58 [00:16<00:00,  3.50it/s, loss=4.01]\n"
          ]
        },
        {
          "metadata": {
            "tags": null
          },
          "name": "stdout",
          "output_type": "stream",
          "text": [
            "Epoch 9/20 - Training Loss: 0.2648406678277093\n",
            "[0.01]\n",
            "Epoch 9/20 - Validation Loss: 0.2643442628703592 - mIoU: 0.43091505765914917\n"
          ]
        },
        {
          "metadata": {
            "tags": null
          },
          "name": "stderr",
          "output_type": "stream",
          "text": [
            "Epoch 10/20: 100%|███████████████████████████████████████| 58/58 [00:16<00:00,  3.52it/s, loss=4.24]"
          ]
        },
        {
          "metadata": {
            "tags": null
          },
          "name": "stdout",
          "output_type": "stream",
          "text": [
            "Epoch 10/20 - Training Loss: 0.2621785712886501\n"
          ]
        },
        {
          "metadata": {
            "tags": null
          },
          "name": "stderr",
          "output_type": "stream",
          "text": [
            "\n"
          ]
        },
        {
          "metadata": {
            "tags": null
          },
          "name": "stdout",
          "output_type": "stream",
          "text": [
            "[0.01]\n",
            "Modello con miou migliore salvato: /content/drive/MyDrive/AML_project/checkpoints_new_augmentation/best_model_PIDNET_3B_split_6.pth\n",
            "Epoch 10/20 - Validation Loss: 0.26245160226698044 - mIoU: 0.47333866357803345\n"
          ]
        },
        {
          "metadata": {
            "tags": null
          },
          "name": "stderr",
          "output_type": "stream",
          "text": [
            "Epoch 11/20: 100%|███████████████████████████████████████| 58/58 [00:16<00:00,  3.53it/s, loss=3.76]"
          ]
        },
        {
          "metadata": {
            "tags": null
          },
          "name": "stdout",
          "output_type": "stream",
          "text": [
            "Epoch 11/20 - Training Loss: 0.26247782887639226\n"
          ]
        },
        {
          "metadata": {
            "tags": null
          },
          "name": "stderr",
          "output_type": "stream",
          "text": [
            "\n"
          ]
        },
        {
          "metadata": {
            "tags": null
          },
          "name": "stdout",
          "output_type": "stream",
          "text": [
            "[0.01]\n",
            "Modello con miou migliore salvato: /content/drive/MyDrive/AML_project/checkpoints_new_augmentation/best_model_PIDNET_3B_split_6.pth\n",
            "Epoch 11/20 - Validation Loss: 0.25861877899665336 - mIoU: 0.4793103039264679\n"
          ]
        },
        {
          "metadata": {
            "tags": null
          },
          "name": "stderr",
          "output_type": "stream",
          "text": [
            "Epoch 12/20: 100%|███████████████████████████████████████| 58/58 [00:16<00:00,  3.49it/s, loss=4.02]"
          ]
        },
        {
          "metadata": {
            "tags": null
          },
          "name": "stdout",
          "output_type": "stream",
          "text": [
            "Epoch 12/20 - Training Loss: 0.2593052320222597\n"
          ]
        },
        {
          "metadata": {
            "tags": null
          },
          "name": "stderr",
          "output_type": "stream",
          "text": [
            "\n"
          ]
        },
        {
          "metadata": {
            "tags": null
          },
          "name": "stdout",
          "output_type": "stream",
          "text": [
            "[0.01]\n",
            "Modello con miou migliore salvato: /content/drive/MyDrive/AML_project/checkpoints_new_augmentation/best_model_PIDNET_3B_split_6.pth\n",
            "Epoch 12/20 - Validation Loss: 0.2663602023929745 - mIoU: 0.502221405506134\n"
          ]
        },
        {
          "metadata": {
            "tags": null
          },
          "name": "stderr",
          "output_type": "stream",
          "text": [
            "Epoch 13/20: 100%|███████████████████████████████████████| 58/58 [00:16<00:00,  3.47it/s, loss=3.87]"
          ]
        },
        {
          "metadata": {
            "tags": null
          },
          "name": "stdout",
          "output_type": "stream",
          "text": [
            "Epoch 13/20 - Training Loss: 0.25668926470988507\n"
          ]
        },
        {
          "metadata": {
            "tags": null
          },
          "name": "stderr",
          "output_type": "stream",
          "text": [
            "\n"
          ]
        },
        {
          "metadata": {
            "tags": null
          },
          "name": "stdout",
          "output_type": "stream",
          "text": [
            "[0.01]\n",
            "Epoch 13/20 - Validation Loss: 0.2631315410911263 - mIoU: 0.4930949807167053\n"
          ]
        },
        {
          "metadata": {
            "tags": null
          },
          "name": "stderr",
          "output_type": "stream",
          "text": [
            "Epoch 14/20: 100%|███████████████████████████████████████| 58/58 [00:16<00:00,  3.57it/s, loss=3.99]"
          ]
        },
        {
          "metadata": {
            "tags": null
          },
          "name": "stdout",
          "output_type": "stream",
          "text": [
            "Epoch 14/20 - Training Loss: 0.25508171700142523\n"
          ]
        },
        {
          "metadata": {
            "tags": null
          },
          "name": "stderr",
          "output_type": "stream",
          "text": [
            "\n"
          ]
        },
        {
          "metadata": {
            "tags": null
          },
          "name": "stdout",
          "output_type": "stream",
          "text": [
            "[0.01]\n",
            "Modello con miou migliore salvato: /content/drive/MyDrive/AML_project/checkpoints_new_augmentation/best_model_PIDNET_3B_split_6.pth\n",
            "Epoch 14/20 - Validation Loss: 0.2561667099659577 - mIoU: 0.5317275524139404\n"
          ]
        },
        {
          "metadata": {
            "tags": null
          },
          "name": "stderr",
          "output_type": "stream",
          "text": [
            "Epoch 15/20: 100%|███████████████████████████████████████| 58/58 [00:16<00:00,  3.52it/s, loss=4.01]"
          ]
        },
        {
          "metadata": {
            "tags": null
          },
          "name": "stdout",
          "output_type": "stream",
          "text": [
            "Epoch 15/20 - Training Loss: 0.25301449440621043\n"
          ]
        },
        {
          "metadata": {
            "tags": null
          },
          "name": "stderr",
          "output_type": "stream",
          "text": [
            "\n"
          ]
        },
        {
          "metadata": {
            "tags": null
          },
          "name": "stdout",
          "output_type": "stream",
          "text": [
            "[0.01]\n",
            "Modello con miou migliore salvato: /content/drive/MyDrive/AML_project/checkpoints_new_augmentation/best_model_PIDNET_3B_split_6.pth\n",
            "Epoch 15/20 - Validation Loss: 0.2531513703333867 - mIoU: 0.5423710346221924\n"
          ]
        },
        {
          "metadata": {
            "tags": null
          },
          "name": "stderr",
          "output_type": "stream",
          "text": [
            "Epoch 16/20: 100%|███████████████████████████████████████| 58/58 [00:16<00:00,  3.49it/s, loss=4.08]"
          ]
        },
        {
          "metadata": {
            "tags": null
          },
          "name": "stdout",
          "output_type": "stream",
          "text": [
            "Epoch 16/20 - Training Loss: 0.2516122866965629\n"
          ]
        },
        {
          "metadata": {
            "tags": null
          },
          "name": "stderr",
          "output_type": "stream",
          "text": [
            "\n"
          ]
        },
        {
          "metadata": {
            "tags": null
          },
          "name": "stdout",
          "output_type": "stream",
          "text": [
            "[0.01]\n",
            "Epoch 16/20 - Validation Loss: 0.2506306336555646 - mIoU: 0.5275432467460632\n"
          ]
        },
        {
          "metadata": {
            "tags": null
          },
          "name": "stderr",
          "output_type": "stream",
          "text": [
            "Epoch 17/20: 100%|███████████████████████████████████████| 58/58 [00:16<00:00,  3.54it/s, loss=3.78]"
          ]
        },
        {
          "metadata": {
            "tags": null
          },
          "name": "stdout",
          "output_type": "stream",
          "text": [
            "Epoch 17/20 - Training Loss: 0.250218952282055\n"
          ]
        },
        {
          "metadata": {
            "tags": null
          },
          "name": "stderr",
          "output_type": "stream",
          "text": [
            "\n"
          ]
        },
        {
          "metadata": {
            "tags": null
          },
          "name": "stdout",
          "output_type": "stream",
          "text": [
            "[0.01]\n",
            "Modello con miou migliore salvato: /content/drive/MyDrive/AML_project/checkpoints_new_augmentation/best_model_PIDNET_3B_split_6.pth\n",
            "Epoch 17/20 - Validation Loss: 0.24916141167347566 - mIoU: 0.5557934641838074\n"
          ]
        },
        {
          "metadata": {
            "tags": null
          },
          "name": "stderr",
          "output_type": "stream",
          "text": [
            "Epoch 18/20: 100%|████████████████████████████████████████| 58/58 [00:16<00:00,  3.54it/s, loss=4.1]"
          ]
        },
        {
          "metadata": {
            "tags": null
          },
          "name": "stdout",
          "output_type": "stream",
          "text": [
            "Epoch 18/20 - Training Loss: 0.2484257948076403\n"
          ]
        },
        {
          "metadata": {
            "tags": null
          },
          "name": "stderr",
          "output_type": "stream",
          "text": [
            "\n"
          ]
        },
        {
          "metadata": {
            "tags": null
          },
          "name": "stdout",
          "output_type": "stream",
          "text": [
            "[0.01]\n",
            "Modello con miou migliore salvato: /content/drive/MyDrive/AML_project/checkpoints_new_augmentation/best_model_PIDNET_3B_split_6.pth\n",
            "Epoch 18/20 - Validation Loss: 0.25196833940811486 - mIoU: 0.5628624558448792\n"
          ]
        },
        {
          "metadata": {
            "tags": null
          },
          "name": "stderr",
          "output_type": "stream",
          "text": [
            "Epoch 19/20: 100%|███████████████████████████████████████| 58/58 [00:16<00:00,  3.49it/s, loss=4.06]"
          ]
        },
        {
          "metadata": {
            "tags": null
          },
          "name": "stdout",
          "output_type": "stream",
          "text": [
            "Epoch 19/20 - Training Loss: 0.2479774183840365\n"
          ]
        },
        {
          "metadata": {
            "tags": null
          },
          "name": "stderr",
          "output_type": "stream",
          "text": [
            "\n"
          ]
        },
        {
          "metadata": {
            "tags": null
          },
          "name": "stdout",
          "output_type": "stream",
          "text": [
            "[0.01]\n",
            "Epoch 19/20 - Validation Loss: 0.24918300868112803 - mIoU: 0.562063992023468\n"
          ]
        },
        {
          "metadata": {
            "tags": null
          },
          "name": "stderr",
          "output_type": "stream",
          "text": [
            "Epoch 20/20: 100%|███████████████████████████████████████| 58/58 [00:16<00:00,  3.47it/s, loss=3.73]"
          ]
        },
        {
          "metadata": {
            "tags": null
          },
          "name": "stdout",
          "output_type": "stream",
          "text": [
            "Epoch 20/20 - Training Loss: 0.2462761100562843\n"
          ]
        },
        {
          "metadata": {
            "tags": null
          },
          "name": "stderr",
          "output_type": "stream",
          "text": [
            "\n"
          ]
        },
        {
          "metadata": {
            "tags": null
          },
          "name": "stdout",
          "output_type": "stream",
          "text": [
            "[0.01]\n",
            "Modello con miou migliore salvato: /content/drive/MyDrive/AML_project/checkpoints_new_augmentation/best_model_PIDNET_3B_split_6.pth\n",
            "Epoch 20/20 - Validation Loss: 0.24970539720543536 - mIoU: 0.5648528933525085\n",
            "📊 Processig the model with ID: 7\n"
          ]
        },
        {
          "metadata": {
            "tags": null
          },
          "name": "stderr",
          "output_type": "stream",
          "text": [
            "Epoch 1/20: 100%|███████████████████████████████████████████| 58/58 [00:38<00:00,  1.49it/s, loss=6]"
          ]
        },
        {
          "metadata": {
            "tags": null
          },
          "name": "stdout",
          "output_type": "stream",
          "text": [
            "Epoch 1/20 - Training Loss: 0.44740949630737303\n"
          ]
        },
        {
          "metadata": {
            "tags": null
          },
          "name": "stderr",
          "output_type": "stream",
          "text": [
            "\n"
          ]
        },
        {
          "metadata": {
            "tags": null
          },
          "name": "stdout",
          "output_type": "stream",
          "text": [
            "[0.01]\n",
            "Modello con miou migliore salvato: /content/drive/MyDrive/AML_project/checkpoints_new_augmentation/best_model_PIDNET_3B_split_7.pth\n",
            "Epoch 1/20 - Validation Loss: 0.3301854608378885 - mIoU: 0.2953367233276367\n"
          ]
        },
        {
          "metadata": {
            "tags": null
          },
          "name": "stderr",
          "output_type": "stream",
          "text": [
            "Epoch 2/20: 100%|█████████████████████████████████████████| 58/58 [00:38<00:00,  1.52it/s, loss=5.3]"
          ]
        },
        {
          "metadata": {
            "tags": null
          },
          "name": "stdout",
          "output_type": "stream",
          "text": [
            "Epoch 2/20 - Training Loss: 0.32754588565310916\n"
          ]
        },
        {
          "metadata": {
            "tags": null
          },
          "name": "stderr",
          "output_type": "stream",
          "text": [
            "\n"
          ]
        },
        {
          "metadata": {
            "tags": null
          },
          "name": "stdout",
          "output_type": "stream",
          "text": [
            "[0.01]\n",
            "Modello con miou migliore salvato: /content/drive/MyDrive/AML_project/checkpoints_new_augmentation/best_model_PIDNET_3B_split_7.pth\n",
            "Epoch 2/20 - Validation Loss: 0.31143061732833005 - mIoU: 0.31582748889923096\n"
          ]
        },
        {
          "metadata": {
            "tags": null
          },
          "name": "stderr",
          "output_type": "stream",
          "text": [
            "Epoch 3/20: 100%|████████████████████████████████████████| 58/58 [00:38<00:00,  1.52it/s, loss=4.47]"
          ]
        },
        {
          "metadata": {
            "tags": null
          },
          "name": "stdout",
          "output_type": "stream",
          "text": [
            "Epoch 3/20 - Training Loss: 0.29825544357299805\n"
          ]
        },
        {
          "metadata": {
            "tags": null
          },
          "name": "stderr",
          "output_type": "stream",
          "text": [
            "\n"
          ]
        },
        {
          "metadata": {
            "tags": null
          },
          "name": "stdout",
          "output_type": "stream",
          "text": [
            "[0.01]\n",
            "Modello con miou migliore salvato: /content/drive/MyDrive/AML_project/checkpoints_new_augmentation/best_model_PIDNET_3B_split_7.pth\n",
            "Epoch 3/20 - Validation Loss: 0.28957352700171535 - mIoU: 0.3669566214084625\n"
          ]
        },
        {
          "metadata": {
            "tags": null
          },
          "name": "stderr",
          "output_type": "stream",
          "text": [
            "Epoch 4/20: 100%|████████████████████████████████████████| 58/58 [00:39<00:00,  1.48it/s, loss=4.38]"
          ]
        },
        {
          "metadata": {
            "tags": null
          },
          "name": "stdout",
          "output_type": "stream",
          "text": [
            "Epoch 4/20 - Training Loss: 0.2818406447848758\n"
          ]
        },
        {
          "metadata": {
            "tags": null
          },
          "name": "stderr",
          "output_type": "stream",
          "text": [
            "\n"
          ]
        },
        {
          "metadata": {
            "tags": null
          },
          "name": "stdout",
          "output_type": "stream",
          "text": [
            "[0.01]\n",
            "Modello con miou migliore salvato: /content/drive/MyDrive/AML_project/checkpoints_new_augmentation/best_model_PIDNET_3B_split_7.pth\n",
            "Epoch 4/20 - Validation Loss: 0.2728064338882248 - mIoU: 0.40709754824638367\n"
          ]
        },
        {
          "metadata": {
            "tags": null
          },
          "name": "stderr",
          "output_type": "stream",
          "text": [
            "Epoch 5/20: 100%|████████████████████████████████████████| 58/58 [00:38<00:00,  1.49it/s, loss=4.37]"
          ]
        },
        {
          "metadata": {
            "tags": null
          },
          "name": "stdout",
          "output_type": "stream",
          "text": [
            "Epoch 5/20 - Training Loss: 0.2774608985797779\n"
          ]
        },
        {
          "metadata": {
            "tags": null
          },
          "name": "stderr",
          "output_type": "stream",
          "text": [
            "\n"
          ]
        },
        {
          "metadata": {
            "tags": null
          },
          "name": "stdout",
          "output_type": "stream",
          "text": [
            "[0.01]\n",
            "Modello con miou migliore salvato: /content/drive/MyDrive/AML_project/checkpoints_new_augmentation/best_model_PIDNET_3B_split_7.pth\n",
            "Epoch 5/20 - Validation Loss: 0.26665426539136217 - mIoU: 0.46260249614715576\n"
          ]
        },
        {
          "metadata": {
            "tags": null
          },
          "name": "stderr",
          "output_type": "stream",
          "text": [
            "Epoch 6/20: 100%|█████████████████████████████████████████| 58/58 [00:38<00:00,  1.52it/s, loss=3.6]"
          ]
        },
        {
          "metadata": {
            "tags": null
          },
          "name": "stdout",
          "output_type": "stream",
          "text": [
            "Epoch 6/20 - Training Loss: 0.271486417409536\n"
          ]
        },
        {
          "metadata": {
            "tags": null
          },
          "name": "stderr",
          "output_type": "stream",
          "text": [
            "\n"
          ]
        },
        {
          "metadata": {
            "tags": null
          },
          "name": "stdout",
          "output_type": "stream",
          "text": [
            "[0.01]\n",
            "Modello con miou migliore salvato: /content/drive/MyDrive/AML_project/checkpoints_new_augmentation/best_model_PIDNET_3B_split_7.pth\n",
            "Epoch 6/20 - Validation Loss: 0.2628156849832246 - mIoU: 0.47681689262390137\n"
          ]
        },
        {
          "metadata": {
            "tags": null
          },
          "name": "stderr",
          "output_type": "stream",
          "text": [
            "Epoch 7/20: 100%|████████████████████████████████████████| 58/58 [00:38<00:00,  1.50it/s, loss=4.27]"
          ]
        },
        {
          "metadata": {
            "tags": null
          },
          "name": "stdout",
          "output_type": "stream",
          "text": [
            "Epoch 7/20 - Training Loss: 0.26761791641647753\n"
          ]
        },
        {
          "metadata": {
            "tags": null
          },
          "name": "stderr",
          "output_type": "stream",
          "text": [
            "\n"
          ]
        },
        {
          "metadata": {
            "tags": null
          },
          "name": "stdout",
          "output_type": "stream",
          "text": [
            "[0.01]\n",
            "Epoch 7/20 - Validation Loss: 0.2639410113875484 - mIoU: 0.474634051322937\n"
          ]
        },
        {
          "metadata": {
            "tags": null
          },
          "name": "stderr",
          "output_type": "stream",
          "text": [
            "Epoch 8/20: 100%|████████████████████████████████████████| 58/58 [00:38<00:00,  1.53it/s, loss=4.51]"
          ]
        },
        {
          "metadata": {
            "tags": null
          },
          "name": "stdout",
          "output_type": "stream",
          "text": [
            "Epoch 8/20 - Training Loss: 0.26588594204670674\n"
          ]
        },
        {
          "metadata": {
            "tags": null
          },
          "name": "stderr",
          "output_type": "stream",
          "text": [
            "\n"
          ]
        },
        {
          "metadata": {
            "tags": null
          },
          "name": "stdout",
          "output_type": "stream",
          "text": [
            "[0.01]\n",
            "Modello con miou migliore salvato: /content/drive/MyDrive/AML_project/checkpoints_new_augmentation/best_model_PIDNET_3B_split_7.pth\n",
            "Epoch 8/20 - Validation Loss: 0.2618925158595626 - mIoU: 0.5070558190345764\n"
          ]
        },
        {
          "metadata": {
            "tags": null
          },
          "name": "stderr",
          "output_type": "stream",
          "text": [
            "Epoch 9/20: 100%|████████████████████████████████████████| 58/58 [00:38<00:00,  1.51it/s, loss=4.13]"
          ]
        },
        {
          "metadata": {
            "tags": null
          },
          "name": "stdout",
          "output_type": "stream",
          "text": [
            "Epoch 9/20 - Training Loss: 0.26473866359607595\n"
          ]
        },
        {
          "metadata": {
            "tags": null
          },
          "name": "stderr",
          "output_type": "stream",
          "text": [
            "\n"
          ]
        },
        {
          "metadata": {
            "tags": null
          },
          "name": "stdout",
          "output_type": "stream",
          "text": [
            "[0.01]\n",
            "Modello con miou migliore salvato: /content/drive/MyDrive/AML_project/checkpoints_new_augmentation/best_model_PIDNET_3B_split_7.pth\n",
            "Epoch 9/20 - Validation Loss: 0.2582257248106457 - mIoU: 0.5170351266860962\n"
          ]
        },
        {
          "metadata": {
            "tags": null
          },
          "name": "stderr",
          "output_type": "stream",
          "text": [
            "Epoch 10/20: 100%|███████████████████████████████████████| 58/58 [00:38<00:00,  1.52it/s, loss=4.28]"
          ]
        },
        {
          "metadata": {
            "tags": null
          },
          "name": "stdout",
          "output_type": "stream",
          "text": [
            "Epoch 10/20 - Training Loss: 0.26281058543437236\n"
          ]
        },
        {
          "metadata": {
            "tags": null
          },
          "name": "stderr",
          "output_type": "stream",
          "text": [
            "\n"
          ]
        },
        {
          "metadata": {
            "tags": null
          },
          "name": "stdout",
          "output_type": "stream",
          "text": [
            "[0.01]\n",
            "Epoch 10/20 - Validation Loss: 0.2592830998556955 - mIoU: 0.5135922431945801\n"
          ]
        },
        {
          "metadata": {
            "tags": null
          },
          "name": "stderr",
          "output_type": "stream",
          "text": [
            "Epoch 11/20: 100%|███████████████████████████████████████| 58/58 [00:38<00:00,  1.52it/s, loss=4.03]"
          ]
        },
        {
          "metadata": {
            "tags": null
          },
          "name": "stdout",
          "output_type": "stream",
          "text": [
            "Epoch 11/20 - Training Loss: 0.26077463330449285\n"
          ]
        },
        {
          "metadata": {
            "tags": null
          },
          "name": "stderr",
          "output_type": "stream",
          "text": [
            "\n"
          ]
        },
        {
          "metadata": {
            "tags": null
          },
          "name": "stdout",
          "output_type": "stream",
          "text": [
            "[0.01]\n",
            "Epoch 11/20 - Validation Loss: 0.26164520767344024 - mIoU: 0.5051658749580383\n"
          ]
        },
        {
          "metadata": {
            "tags": null
          },
          "name": "stderr",
          "output_type": "stream",
          "text": [
            "Epoch 12/20: 100%|███████████████████████████████████████| 58/58 [00:38<00:00,  1.51it/s, loss=4.24]"
          ]
        },
        {
          "metadata": {
            "tags": null
          },
          "name": "stdout",
          "output_type": "stream",
          "text": [
            "Epoch 12/20 - Training Loss: 0.25942351650547335\n"
          ]
        },
        {
          "metadata": {
            "tags": null
          },
          "name": "stderr",
          "output_type": "stream",
          "text": [
            "\n"
          ]
        },
        {
          "metadata": {
            "tags": null
          },
          "name": "stdout",
          "output_type": "stream",
          "text": [
            "[0.01]\n",
            "Modello con miou migliore salvato: /content/drive/MyDrive/AML_project/checkpoints_new_augmentation/best_model_PIDNET_3B_split_7.pth\n",
            "Epoch 12/20 - Validation Loss: 0.254995093201146 - mIoU: 0.5428951978683472\n"
          ]
        },
        {
          "metadata": {
            "tags": null
          },
          "name": "stderr",
          "output_type": "stream",
          "text": [
            "Epoch 13/20: 100%|███████████████████████████████████████| 58/58 [00:38<00:00,  1.52it/s, loss=4.11]"
          ]
        },
        {
          "metadata": {
            "tags": null
          },
          "name": "stdout",
          "output_type": "stream",
          "text": [
            "Epoch 13/20 - Training Loss: 0.25681190129872916\n"
          ]
        },
        {
          "metadata": {
            "tags": null
          },
          "name": "stderr",
          "output_type": "stream",
          "text": [
            "\n"
          ]
        },
        {
          "metadata": {
            "tags": null
          },
          "name": "stdout",
          "output_type": "stream",
          "text": [
            "[0.01]\n",
            "Modello con miou migliore salvato: /content/drive/MyDrive/AML_project/checkpoints_new_augmentation/best_model_PIDNET_3B_split_7.pth\n",
            "Epoch 13/20 - Validation Loss: 0.2506839537517333 - mIoU: 0.549433708190918\n"
          ]
        },
        {
          "metadata": {
            "tags": null
          },
          "name": "stderr",
          "output_type": "stream",
          "text": [
            "Epoch 14/20: 100%|███████████████████████████████████████| 58/58 [00:38<00:00,  1.51it/s, loss=3.81]"
          ]
        },
        {
          "metadata": {
            "tags": null
          },
          "name": "stdout",
          "output_type": "stream",
          "text": [
            "Epoch 14/20 - Training Loss: 0.2537819243766166\n"
          ]
        },
        {
          "metadata": {
            "tags": null
          },
          "name": "stderr",
          "output_type": "stream",
          "text": [
            "\n"
          ]
        },
        {
          "metadata": {
            "tags": null
          },
          "name": "stdout",
          "output_type": "stream",
          "text": [
            "[0.01]\n",
            "Epoch 14/20 - Validation Loss: 0.2613040709392333 - mIoU: 0.501801609992981\n"
          ]
        },
        {
          "metadata": {
            "tags": null
          },
          "name": "stderr",
          "output_type": "stream",
          "text": [
            "Epoch 15/20: 100%|███████████████████████████████████████| 58/58 [00:38<00:00,  1.50it/s, loss=3.89]"
          ]
        },
        {
          "metadata": {
            "tags": null
          },
          "name": "stdout",
          "output_type": "stream",
          "text": [
            "Epoch 15/20 - Training Loss: 0.2538206234493771\n"
          ]
        },
        {
          "metadata": {
            "tags": null
          },
          "name": "stderr",
          "output_type": "stream",
          "text": [
            "\n"
          ]
        },
        {
          "metadata": {
            "tags": null
          },
          "name": "stdout",
          "output_type": "stream",
          "text": [
            "[0.01]\n",
            "Modello con miou migliore salvato: /content/drive/MyDrive/AML_project/checkpoints_new_augmentation/best_model_PIDNET_3B_split_7.pth\n",
            "Epoch 15/20 - Validation Loss: 0.2511271026743439 - mIoU: 0.5634572505950928\n"
          ]
        },
        {
          "metadata": {
            "tags": null
          },
          "name": "stderr",
          "output_type": "stream",
          "text": [
            "Epoch 16/20: 100%|███████████████████████████████████████| 58/58 [00:38<00:00,  1.51it/s, loss=4.31]"
          ]
        },
        {
          "metadata": {
            "tags": null
          },
          "name": "stdout",
          "output_type": "stream",
          "text": [
            "Epoch 16/20 - Training Loss: 0.2528916771347458\n"
          ]
        },
        {
          "metadata": {
            "tags": null
          },
          "name": "stderr",
          "output_type": "stream",
          "text": [
            "\n"
          ]
        },
        {
          "metadata": {
            "tags": null
          },
          "name": "stdout",
          "output_type": "stream",
          "text": [
            "[0.01]\n",
            "Modello con miou migliore salvato: /content/drive/MyDrive/AML_project/checkpoints_new_augmentation/best_model_PIDNET_3B_split_7.pth\n",
            "Epoch 16/20 - Validation Loss: 0.2505901355247993 - mIoU: 0.5874443054199219\n"
          ]
        },
        {
          "metadata": {
            "tags": null
          },
          "name": "stderr",
          "output_type": "stream",
          "text": [
            "Epoch 17/20: 100%|███████████████████████████████████████| 58/58 [00:39<00:00,  1.47it/s, loss=4.16]"
          ]
        },
        {
          "metadata": {
            "tags": null
          },
          "name": "stdout",
          "output_type": "stream",
          "text": [
            "Epoch 17/20 - Training Loss: 0.2504407431628253\n"
          ]
        },
        {
          "metadata": {
            "tags": null
          },
          "name": "stderr",
          "output_type": "stream",
          "text": [
            "\n"
          ]
        },
        {
          "metadata": {
            "tags": null
          },
          "name": "stdout",
          "output_type": "stream",
          "text": [
            "[0.01]\n",
            "Epoch 17/20 - Validation Loss: 0.24759617925206304 - mIoU: 0.5866504907608032\n"
          ]
        },
        {
          "metadata": {
            "tags": null
          },
          "name": "stderr",
          "output_type": "stream",
          "text": [
            "Epoch 18/20: 100%|████████████████████████████████████████| 58/58 [00:38<00:00,  1.52it/s, loss=4.3]"
          ]
        },
        {
          "metadata": {
            "tags": null
          },
          "name": "stdout",
          "output_type": "stream",
          "text": [
            "Epoch 18/20 - Training Loss: 0.24948551538828256\n"
          ]
        },
        {
          "metadata": {
            "tags": null
          },
          "name": "stderr",
          "output_type": "stream",
          "text": [
            "\n"
          ]
        },
        {
          "metadata": {
            "tags": null
          },
          "name": "stdout",
          "output_type": "stream",
          "text": [
            "[0.01]\n",
            "Modello con miou migliore salvato: /content/drive/MyDrive/AML_project/checkpoints_new_augmentation/best_model_PIDNET_3B_split_7.pth\n",
            "Epoch 18/20 - Validation Loss: 0.24835022496970702 - mIoU: 0.5879499316215515\n"
          ]
        },
        {
          "metadata": {
            "tags": null
          },
          "name": "stderr",
          "output_type": "stream",
          "text": [
            "Epoch 19/20: 100%|███████████████████████████████████████| 58/58 [00:39<00:00,  1.48it/s, loss=3.71]"
          ]
        },
        {
          "metadata": {
            "tags": null
          },
          "name": "stdout",
          "output_type": "stream",
          "text": [
            "Epoch 19/20 - Training Loss: 0.2476649810172416\n"
          ]
        },
        {
          "metadata": {
            "tags": null
          },
          "name": "stderr",
          "output_type": "stream",
          "text": [
            "\n"
          ]
        },
        {
          "metadata": {
            "tags": null
          },
          "name": "stdout",
          "output_type": "stream",
          "text": [
            "[0.01]\n",
            "Epoch 19/20 - Validation Loss: 0.24985253243219285 - mIoU: 0.5832661390304565\n"
          ]
        },
        {
          "metadata": {
            "tags": null
          },
          "name": "stderr",
          "output_type": "stream",
          "text": [
            "Epoch 20/20: 100%|███████████████████████████████████████| 58/58 [00:38<00:00,  1.51it/s, loss=3.95]"
          ]
        },
        {
          "metadata": {
            "tags": null
          },
          "name": "stdout",
          "output_type": "stream",
          "text": [
            "Epoch 20/20 - Training Loss: 0.24826101483525456\n"
          ]
        },
        {
          "metadata": {
            "tags": null
          },
          "name": "stderr",
          "output_type": "stream",
          "text": [
            "\n"
          ]
        },
        {
          "metadata": {
            "tags": null
          },
          "name": "stdout",
          "output_type": "stream",
          "text": [
            "[0.01]\n",
            "Modello con miou migliore salvato: /content/drive/MyDrive/AML_project/checkpoints_new_augmentation/best_model_PIDNET_3B_split_7.pth\n",
            "Epoch 20/20 - Validation Loss: 0.24639225522161046 - mIoU: 0.6030102968215942\n",
            "📊 Processig the model with ID: 8\n"
          ]
        },
        {
          "metadata": {
            "tags": null
          },
          "name": "stderr",
          "output_type": "stream",
          "text": [
            "Epoch 1/20: 100%|████████████████████████████████████████| 58/58 [00:18<00:00,  3.21it/s, loss=5.14]"
          ]
        },
        {
          "metadata": {
            "tags": null
          },
          "name": "stdout",
          "output_type": "stream",
          "text": [
            "Epoch 1/20 - Training Loss: 0.41864431690525367\n"
          ]
        },
        {
          "metadata": {
            "tags": null
          },
          "name": "stderr",
          "output_type": "stream",
          "text": [
            "\n"
          ]
        },
        {
          "metadata": {
            "tags": null
          },
          "name": "stdout",
          "output_type": "stream",
          "text": [
            "[0.01]\n",
            "Modello con miou migliore salvato: /content/drive/MyDrive/AML_project/checkpoints_new_augmentation/best_model_PIDNET_3B_split_8.pth\n",
            "Epoch 1/20 - Validation Loss: 0.3209814756979674 - mIoU: 0.22728094458580017\n"
          ]
        },
        {
          "metadata": {
            "tags": null
          },
          "name": "stderr",
          "output_type": "stream",
          "text": [
            "Epoch 2/20: 100%|████████████████████████████████████████| 58/58 [00:18<00:00,  3.22it/s, loss=4.58]"
          ]
        },
        {
          "metadata": {
            "tags": null
          },
          "name": "stdout",
          "output_type": "stream",
          "text": [
            "Epoch 2/20 - Training Loss: 0.30327897922412766\n"
          ]
        },
        {
          "metadata": {
            "tags": null
          },
          "name": "stderr",
          "output_type": "stream",
          "text": [
            "\n"
          ]
        },
        {
          "metadata": {
            "tags": null
          },
          "name": "stdout",
          "output_type": "stream",
          "text": [
            "[0.01]\n",
            "Modello con miou migliore salvato: /content/drive/MyDrive/AML_project/checkpoints_new_augmentation/best_model_PIDNET_3B_split_8.pth\n",
            "Epoch 2/20 - Validation Loss: 0.2874296671384341 - mIoU: 0.31720811128616333\n"
          ]
        },
        {
          "metadata": {
            "tags": null
          },
          "name": "stderr",
          "output_type": "stream",
          "text": [
            "Epoch 3/20: 100%|████████████████████████████████████████| 58/58 [00:18<00:00,  3.20it/s, loss=4.28]"
          ]
        },
        {
          "metadata": {
            "tags": null
          },
          "name": "stdout",
          "output_type": "stream",
          "text": [
            "Epoch 3/20 - Training Loss: 0.287682889216655\n"
          ]
        },
        {
          "metadata": {
            "tags": null
          },
          "name": "stderr",
          "output_type": "stream",
          "text": [
            "\n"
          ]
        },
        {
          "metadata": {
            "tags": null
          },
          "name": "stdout",
          "output_type": "stream",
          "text": [
            "[0.01]\n",
            "Modello con miou migliore salvato: /content/drive/MyDrive/AML_project/checkpoints_new_augmentation/best_model_PIDNET_3B_split_8.pth\n",
            "Epoch 3/20 - Validation Loss: 0.2788285156349083 - mIoU: 0.3853113353252411\n"
          ]
        },
        {
          "metadata": {
            "tags": null
          },
          "name": "stderr",
          "output_type": "stream",
          "text": [
            "Epoch 4/20: 100%|████████████████████████████████████████| 58/58 [00:18<00:00,  3.17it/s, loss=4.12]"
          ]
        },
        {
          "metadata": {
            "tags": null
          },
          "name": "stdout",
          "output_type": "stream",
          "text": [
            "Epoch 4/20 - Training Loss: 0.28361661111986314\n"
          ]
        },
        {
          "metadata": {
            "tags": null
          },
          "name": "stderr",
          "output_type": "stream",
          "text": [
            "\n"
          ]
        },
        {
          "metadata": {
            "tags": null
          },
          "name": "stdout",
          "output_type": "stream",
          "text": [
            "[0.01]\n",
            "Epoch 4/20 - Validation Loss: 0.2724556541030025 - mIoU: 0.35852929949760437\n"
          ]
        },
        {
          "metadata": {
            "tags": null
          },
          "name": "stderr",
          "output_type": "stream",
          "text": [
            "Epoch 5/20: 100%|████████████████████████████████████████| 58/58 [00:18<00:00,  3.20it/s, loss=4.11]"
          ]
        },
        {
          "metadata": {
            "tags": null
          },
          "name": "stdout",
          "output_type": "stream",
          "text": [
            "Epoch 5/20 - Training Loss: 0.27950553017693597\n"
          ]
        },
        {
          "metadata": {
            "tags": null
          },
          "name": "stderr",
          "output_type": "stream",
          "text": [
            "\n"
          ]
        },
        {
          "metadata": {
            "tags": null
          },
          "name": "stdout",
          "output_type": "stream",
          "text": [
            "[0.01]\n",
            "Modello con miou migliore salvato: /content/drive/MyDrive/AML_project/checkpoints_new_augmentation/best_model_PIDNET_3B_split_8.pth\n",
            "Epoch 5/20 - Validation Loss: 0.2691154366447812 - mIoU: 0.4149317443370819\n"
          ]
        },
        {
          "metadata": {
            "tags": null
          },
          "name": "stderr",
          "output_type": "stream",
          "text": [
            "Epoch 6/20: 100%|█████████████████████████████████████████| 58/58 [00:18<00:00,  3.19it/s, loss=4.1]"
          ]
        },
        {
          "metadata": {
            "tags": null
          },
          "name": "stdout",
          "output_type": "stream",
          "text": [
            "Epoch 6/20 - Training Loss: 0.27113857063087254\n"
          ]
        },
        {
          "metadata": {
            "tags": null
          },
          "name": "stderr",
          "output_type": "stream",
          "text": [
            "\n"
          ]
        },
        {
          "metadata": {
            "tags": null
          },
          "name": "stdout",
          "output_type": "stream",
          "text": [
            "[0.01]\n",
            "Epoch 6/20 - Validation Loss: 0.26742844560961704 - mIoU: 0.3989063799381256\n"
          ]
        },
        {
          "metadata": {
            "tags": null
          },
          "name": "stderr",
          "output_type": "stream",
          "text": [
            "Epoch 7/20: 100%|████████████████████████████████████████| 58/58 [00:18<00:00,  3.20it/s, loss=4.27]"
          ]
        },
        {
          "metadata": {
            "tags": null
          },
          "name": "stdout",
          "output_type": "stream",
          "text": [
            "Epoch 7/20 - Training Loss: 0.2664964199066162\n"
          ]
        },
        {
          "metadata": {
            "tags": null
          },
          "name": "stderr",
          "output_type": "stream",
          "text": [
            "\n"
          ]
        },
        {
          "metadata": {
            "tags": null
          },
          "name": "stdout",
          "output_type": "stream",
          "text": [
            "[0.01]\n",
            "Modello con miou migliore salvato: /content/drive/MyDrive/AML_project/checkpoints_new_augmentation/best_model_PIDNET_3B_split_8.pth\n",
            "Epoch 7/20 - Validation Loss: 0.26923095612298875 - mIoU: 0.4631991684436798\n"
          ]
        },
        {
          "metadata": {
            "tags": null
          },
          "name": "stderr",
          "output_type": "stream",
          "text": [
            "Epoch 8/20: 100%|█████████████████████████████████████████| 58/58 [00:18<00:00,  3.21it/s, loss=3.8]"
          ]
        },
        {
          "metadata": {
            "tags": null
          },
          "name": "stdout",
          "output_type": "stream",
          "text": [
            "Epoch 8/20 - Training Loss: 0.2650288339563318\n"
          ]
        },
        {
          "metadata": {
            "tags": null
          },
          "name": "stderr",
          "output_type": "stream",
          "text": [
            "\n"
          ]
        },
        {
          "metadata": {
            "tags": null
          },
          "name": "stdout",
          "output_type": "stream",
          "text": [
            "[0.01]\n",
            "Modello con miou migliore salvato: /content/drive/MyDrive/AML_project/checkpoints_new_augmentation/best_model_PIDNET_3B_split_8.pth\n",
            "Epoch 8/20 - Validation Loss: 0.26468069728834803 - mIoU: 0.4637587368488312\n"
          ]
        },
        {
          "metadata": {
            "tags": null
          },
          "name": "stderr",
          "output_type": "stream",
          "text": [
            "Epoch 9/20: 100%|████████████████████████████████████████| 58/58 [00:18<00:00,  3.20it/s, loss=4.11]"
          ]
        },
        {
          "metadata": {
            "tags": null
          },
          "name": "stdout",
          "output_type": "stream",
          "text": [
            "Epoch 9/20 - Training Loss: 0.26182208035443283\n"
          ]
        },
        {
          "metadata": {
            "tags": null
          },
          "name": "stderr",
          "output_type": "stream",
          "text": [
            "\n"
          ]
        },
        {
          "metadata": {
            "tags": null
          },
          "name": "stdout",
          "output_type": "stream",
          "text": [
            "[0.01]\n",
            "Modello con miou migliore salvato: /content/drive/MyDrive/AML_project/checkpoints_new_augmentation/best_model_PIDNET_3B_split_8.pth\n",
            "Epoch 9/20 - Validation Loss: 0.2610840219439882 - mIoU: 0.47631707787513733\n"
          ]
        },
        {
          "metadata": {
            "tags": null
          },
          "name": "stderr",
          "output_type": "stream",
          "text": [
            "Epoch 10/20: 100%|████████████████████████████████████████| 58/58 [00:18<00:00,  3.20it/s, loss=4.4]"
          ]
        },
        {
          "metadata": {
            "tags": null
          },
          "name": "stdout",
          "output_type": "stream",
          "text": [
            "Epoch 10/20 - Training Loss: 0.2583853860803553\n"
          ]
        },
        {
          "metadata": {
            "tags": null
          },
          "name": "stderr",
          "output_type": "stream",
          "text": [
            "\n"
          ]
        },
        {
          "metadata": {
            "tags": null
          },
          "name": "stdout",
          "output_type": "stream",
          "text": [
            "[0.01]\n",
            "Epoch 10/20 - Validation Loss: 0.2573072198149446 - mIoU: 0.4735223352909088\n"
          ]
        },
        {
          "metadata": {
            "tags": null
          },
          "name": "stderr",
          "output_type": "stream",
          "text": [
            "Epoch 11/20: 100%|███████████████████████████████████████| 58/58 [00:18<00:00,  3.21it/s, loss=3.91]"
          ]
        },
        {
          "metadata": {
            "tags": null
          },
          "name": "stdout",
          "output_type": "stream",
          "text": [
            "Epoch 11/20 - Training Loss: 0.2592786845645389\n"
          ]
        },
        {
          "metadata": {
            "tags": null
          },
          "name": "stderr",
          "output_type": "stream",
          "text": [
            "\n"
          ]
        },
        {
          "metadata": {
            "tags": null
          },
          "name": "stdout",
          "output_type": "stream",
          "text": [
            "[0.01]\n",
            "Modello con miou migliore salvato: /content/drive/MyDrive/AML_project/checkpoints_new_augmentation/best_model_PIDNET_3B_split_8.pth\n",
            "Epoch 11/20 - Validation Loss: 0.25411077288838174 - mIoU: 0.5138862133026123\n"
          ]
        },
        {
          "metadata": {
            "tags": null
          },
          "name": "stderr",
          "output_type": "stream",
          "text": [
            "Epoch 12/20: 100%|███████████████████████████████████████| 58/58 [00:18<00:00,  3.18it/s, loss=4.37]"
          ]
        },
        {
          "metadata": {
            "tags": null
          },
          "name": "stdout",
          "output_type": "stream",
          "text": [
            "Epoch 12/20 - Training Loss: 0.25639992249978555\n"
          ]
        },
        {
          "metadata": {
            "tags": null
          },
          "name": "stderr",
          "output_type": "stream",
          "text": [
            "\n"
          ]
        },
        {
          "metadata": {
            "tags": null
          },
          "name": "stdout",
          "output_type": "stream",
          "text": [
            "[0.01]\n",
            "Modello con miou migliore salvato: /content/drive/MyDrive/AML_project/checkpoints_new_augmentation/best_model_PIDNET_3B_split_8.pth\n",
            "Epoch 12/20 - Validation Loss: 0.2573130419760039 - mIoU: 0.5289490222930908\n"
          ]
        },
        {
          "metadata": {
            "tags": null
          },
          "name": "stderr",
          "output_type": "stream",
          "text": [
            "Epoch 13/20: 100%|███████████████████████████████████████| 58/58 [00:18<00:00,  3.15it/s, loss=4.26]"
          ]
        },
        {
          "metadata": {
            "tags": null
          },
          "name": "stdout",
          "output_type": "stream",
          "text": [
            "Epoch 13/20 - Training Loss: 0.25264786978025694\n"
          ]
        },
        {
          "metadata": {
            "tags": null
          },
          "name": "stderr",
          "output_type": "stream",
          "text": [
            "\n"
          ]
        },
        {
          "metadata": {
            "tags": null
          },
          "name": "stdout",
          "output_type": "stream",
          "text": [
            "[0.01]\n",
            "Modello con miou migliore salvato: /content/drive/MyDrive/AML_project/checkpoints_new_augmentation/best_model_PIDNET_3B_split_8.pth\n",
            "Epoch 13/20 - Validation Loss: 0.2592206796010335 - mIoU: 0.5431532859802246\n"
          ]
        },
        {
          "metadata": {
            "tags": null
          },
          "name": "stderr",
          "output_type": "stream",
          "text": [
            "Epoch 14/20: 100%|███████████████████████████████████████| 58/58 [00:17<00:00,  3.23it/s, loss=4.37]"
          ]
        },
        {
          "metadata": {
            "tags": null
          },
          "name": "stdout",
          "output_type": "stream",
          "text": [
            "Epoch 14/20 - Training Loss: 0.25480638272053485\n"
          ]
        },
        {
          "metadata": {
            "tags": null
          },
          "name": "stderr",
          "output_type": "stream",
          "text": [
            "\n"
          ]
        },
        {
          "metadata": {
            "tags": null
          },
          "name": "stdout",
          "output_type": "stream",
          "text": [
            "[0.01]\n",
            "Modello con miou migliore salvato: /content/drive/MyDrive/AML_project/checkpoints_new_augmentation/best_model_PIDNET_3B_split_8.pth\n",
            "Epoch 14/20 - Validation Loss: 0.25407698247339816 - mIoU: 0.5463151931762695\n"
          ]
        },
        {
          "metadata": {
            "tags": null
          },
          "name": "stderr",
          "output_type": "stream",
          "text": [
            "Epoch 15/20: 100%|████████████████████████████████████████| 58/58 [00:18<00:00,  3.19it/s, loss=4.3]"
          ]
        },
        {
          "metadata": {
            "tags": null
          },
          "name": "stdout",
          "output_type": "stream",
          "text": [
            "Epoch 15/20 - Training Loss: 0.24964094832136824\n"
          ]
        },
        {
          "metadata": {
            "tags": null
          },
          "name": "stderr",
          "output_type": "stream",
          "text": [
            "\n"
          ]
        },
        {
          "metadata": {
            "tags": null
          },
          "name": "stdout",
          "output_type": "stream",
          "text": [
            "[0.01]\n",
            "Epoch 15/20 - Validation Loss: 0.25526956768779013 - mIoU: 0.5410465002059937\n"
          ]
        },
        {
          "metadata": {
            "tags": null
          },
          "name": "stderr",
          "output_type": "stream",
          "text": [
            "Epoch 16/20: 100%|███████████████████████████████████████| 58/58 [00:18<00:00,  3.19it/s, loss=3.77]"
          ]
        },
        {
          "metadata": {
            "tags": null
          },
          "name": "stdout",
          "output_type": "stream",
          "text": [
            "Epoch 16/20 - Training Loss: 0.24915049552917481\n"
          ]
        },
        {
          "metadata": {
            "tags": null
          },
          "name": "stderr",
          "output_type": "stream",
          "text": [
            "\n"
          ]
        },
        {
          "metadata": {
            "tags": null
          },
          "name": "stdout",
          "output_type": "stream",
          "text": [
            "[0.01]\n",
            "Modello con miou migliore salvato: /content/drive/MyDrive/AML_project/checkpoints_new_augmentation/best_model_PIDNET_3B_split_8.pth\n",
            "Epoch 16/20 - Validation Loss: 0.2536036720523587 - mIoU: 0.548495352268219\n"
          ]
        },
        {
          "metadata": {
            "tags": null
          },
          "name": "stderr",
          "output_type": "stream",
          "text": [
            "Epoch 17/20: 100%|███████████████████████████████████████| 58/58 [00:18<00:00,  3.17it/s, loss=4.04]"
          ]
        },
        {
          "metadata": {
            "tags": null
          },
          "name": "stdout",
          "output_type": "stream",
          "text": [
            "Epoch 17/20 - Training Loss: 0.25051974322344805\n"
          ]
        },
        {
          "metadata": {
            "tags": null
          },
          "name": "stderr",
          "output_type": "stream",
          "text": [
            "\n"
          ]
        },
        {
          "metadata": {
            "tags": null
          },
          "name": "stdout",
          "output_type": "stream",
          "text": [
            "[0.01]\n",
            "Modello con miou migliore salvato: /content/drive/MyDrive/AML_project/checkpoints_new_augmentation/best_model_PIDNET_3B_split_8.pth\n",
            "Epoch 17/20 - Validation Loss: 0.2565857662266983 - mIoU: 0.5523006319999695\n"
          ]
        },
        {
          "metadata": {
            "tags": null
          },
          "name": "stderr",
          "output_type": "stream",
          "text": [
            "Epoch 18/20: 100%|███████████████████████████████████████| 58/58 [00:18<00:00,  3.19it/s, loss=4.15]"
          ]
        },
        {
          "metadata": {
            "tags": null
          },
          "name": "stdout",
          "output_type": "stream",
          "text": [
            "Epoch 18/20 - Training Loss: 0.24827855058618495\n"
          ]
        },
        {
          "metadata": {
            "tags": null
          },
          "name": "stderr",
          "output_type": "stream",
          "text": [
            "\n"
          ]
        },
        {
          "metadata": {
            "tags": null
          },
          "name": "stdout",
          "output_type": "stream",
          "text": [
            "[0.01]\n",
            "Modello con miou migliore salvato: /content/drive/MyDrive/AML_project/checkpoints_new_augmentation/best_model_PIDNET_3B_split_8.pth\n",
            "Epoch 18/20 - Validation Loss: 0.25027920570208395 - mIoU: 0.5714738965034485\n"
          ]
        },
        {
          "metadata": {
            "tags": null
          },
          "name": "stderr",
          "output_type": "stream",
          "text": [
            "Epoch 19/20: 100%|██████████████████████████████████████████| 58/58 [00:18<00:00,  3.16it/s, loss=4]"
          ]
        },
        {
          "metadata": {
            "tags": null
          },
          "name": "stdout",
          "output_type": "stream",
          "text": [
            "Epoch 19/20 - Training Loss: 0.24659956004168537\n"
          ]
        },
        {
          "metadata": {
            "tags": null
          },
          "name": "stderr",
          "output_type": "stream",
          "text": [
            "\n"
          ]
        },
        {
          "metadata": {
            "tags": null
          },
          "name": "stdout",
          "output_type": "stream",
          "text": [
            "[0.01]\n",
            "Modello con miou migliore salvato: /content/drive/MyDrive/AML_project/checkpoints_new_augmentation/best_model_PIDNET_3B_split_8.pth\n",
            "Epoch 19/20 - Validation Loss: 0.2502201274359897 - mIoU: 0.5735502243041992\n"
          ]
        },
        {
          "metadata": {
            "tags": null
          },
          "name": "stderr",
          "output_type": "stream",
          "text": [
            "Epoch 20/20: 100%|██████████████████████████████████████████| 58/58 [00:18<00:00,  3.20it/s, loss=4]"
          ]
        },
        {
          "metadata": {
            "tags": null
          },
          "name": "stdout",
          "output_type": "stream",
          "text": [
            "Epoch 20/20 - Training Loss: 0.24475863508276038\n"
          ]
        },
        {
          "metadata": {
            "tags": null
          },
          "name": "stderr",
          "output_type": "stream",
          "text": [
            "\n"
          ]
        },
        {
          "metadata": {
            "tags": null
          },
          "name": "stdout",
          "output_type": "stream",
          "text": [
            "[0.01]\n",
            "Epoch 20/20 - Validation Loss: 0.25478996549333843 - mIoU: 0.5533341765403748\n"
          ]
        }
      ],
      "source": [
        "from tqdm import tqdm\n",
        "import torch\n",
        "from torchmetrics.segmentation import MeanIoU\n",
        "\n",
        "\n",
        "def file_exists(modelID):\n",
        "    #path = f\"/content/drive/MyDrive/AML_project/checkpoints_new/model_PIDNET_3B_{modelID}.pth\"\n",
        "    path = f\"/content/drive/MyDrive/AML_project/checkpoints_new_augmentation/model_PIDNET_3B_{modelID}.pth\"\n",
        "    return os.path.exists(path)\n",
        "\n",
        "\n",
        "#os.makedirs(\"/content/drive/MyDrive/AML_project/checkpoints_new\", exist_ok=True)\n",
        "os.makedirs(\"/content/drive/MyDrive/AML_project/checkpoints_new_augmentation\", exist_ok=True)\n",
        "\n",
        "np.random.seed(SEED)\n",
        "torch.manual_seed(SEED)\n",
        "torch.cuda.manual_seed(SEED)\n",
        "\n",
        "num_classes = 7\n",
        "\n",
        "miou_classes = MeanIoU(num_classes=num_classes, input_format = \"index\", per_class=True).to(device)\n",
        "\n",
        "k = 0\n",
        "miou_results = []\n",
        "model_train_loader = zip(models, train_loaders)\n",
        "for model, train_loader in model_train_loader:\n",
        "  record_miou= None\n",
        "\n",
        "  optimizer = torch.optim.SGD(model.parameters(), lr=LR, momentum=MOMENTUM, weight_decay=WEIGHT_DECAY)\n",
        "  scheduler = torch.optim.lr_scheduler.ReduceLROnPlateau(optimizer, mode='max', factor=GAMMA, patience=3, threshold=0.01)\n",
        "\n",
        "  print(f\"📊 Processig the model with ID: {k}\")\n",
        "  model.to(device)\n",
        "  loss_fn = PIDNetLoss()\n",
        "\n",
        "  if file_exists(k):\n",
        "    print(f\"⚠️ The model with ID: {k}, already exist, skipped!\")\n",
        "    k = k + 1\n",
        "    continue\n",
        "\n",
        "  for epoch in range(EPOCHS):\n",
        "      model.train()\n",
        "      train_loss = 0\n",
        "\n",
        "      total_train_samples = 0\n",
        "\n",
        "      batch_pbar = tqdm(enumerate(train_loader), total=len(train_loader), desc=f\"Epoch {epoch+1}/{EPOCHS}\", ncols=100)\n",
        "\n",
        "      for batch, (X, y, boundary_mask) in batch_pbar:\n",
        "          X = X.to(device)\n",
        "          y = y.to(device)\n",
        "          boundary_mask = boundary_mask.to(device)\n",
        "\n",
        "          # Output del modello\n",
        "          outputs = model(X)  # PIDNet può restituire [x_extra_p, x_, x_extra_d] se augment=True\n",
        "\n",
        "          # Upscale trough bilinear interpolation -> riporto le dimensioni dell'output a quelli originali\n",
        "          # Quindi passiamo da 64 x 64 della rete a 512 x 512\n",
        "          h, w = boundary_mask.size(1), boundary_mask.size(2)\n",
        "          ph, pw = outputs[0].size(2), outputs[0].size(3)\n",
        "          if ph != h or pw != w:\n",
        "              for i in range(len(outputs)):\n",
        "                  outputs[i] = F.interpolate(outputs[i], size=(h, w), mode='bilinear', align_corners=True)\n",
        "\n",
        "          if model.augment:\n",
        "              pred_p, pred_main, boundary_head = outputs  # P, I, D branches\n",
        "          else:\n",
        "              pred_main = outputs\n",
        "              boundary_head = None  # Nessuna branch D se augment=False\n",
        "\n",
        "\n",
        "          loss = loss_fn(pred_p, pred_main, y, boundary_head, boundary_mask)\n",
        "\n",
        "          if LOSS_TYPE == \"ohem\":\n",
        "              loss = torch.mean(loss)\n",
        "\n",
        "          optimizer.zero_grad()\n",
        "          loss.backward()\n",
        "          optimizer.step()\n",
        "\n",
        "          total_train_samples += X.size(0)\n",
        "\n",
        "          train_loss += loss.item()\n",
        "          batch_pbar.set_postfix(loss=loss.item())\n",
        "\n",
        "      avg_train_loss = train_loss / total_train_samples\n",
        "\n",
        "      print(f\"Epoch {epoch+1}/{EPOCHS} - Training Loss: {avg_train_loss}\")\n",
        "\n",
        "      # **Validazione**\n",
        "      model.eval()\n",
        "      miou_classes.reset()\n",
        "      val_loss = 0\n",
        "\n",
        "      total_union = torch.zeros(NUM_CLASSES).to(device)\n",
        "      total_intersection = torch.zeros(NUM_CLASSES).to(device)\n",
        "\n",
        "      import torch.nn.functional as F\n",
        "\n",
        "      total_val_samples = 0\n",
        "\n",
        "      with torch.inference_mode():\n",
        "          for X_val, y_val, boundary_mask in val_loader:\n",
        "              X_val = X_val.to(device)\n",
        "              y_val = y_val.to(device)\n",
        "              boundary_mask = boundary_mask.to(device)\n",
        "\n",
        "              # Output del modello\n",
        "              outputs = model(X_val)\n",
        "\n",
        "              ## Upscale trough bilinear interpolation\n",
        "              h, w = boundary_mask.size(1), boundary_mask.size(2)\n",
        "              ph, pw = outputs[0].size(2), outputs[0].size(3)\n",
        "              if ph != h or pw != w:\n",
        "                  for i in range(len(outputs)):\n",
        "                      outputs[i] = F.interpolate(outputs[i], size=(h, w), mode='bilinear', align_corners=True)\n",
        "\n",
        "              if model.augment:\n",
        "                  pred_p, pred_main, boundary_head = outputs\n",
        "              else:\n",
        "                  pred_main = outputs\n",
        "                  boundary_head = None\n",
        "\n",
        "              # preds\n",
        "              preds = pred_main.argmax(dim=1)\n",
        "\n",
        "\n",
        "              valid_mask = (y_val >= 0) & (y_val < num_classes)\n",
        "\n",
        "\n",
        "              preds_flat = preds[valid_mask]\n",
        "              targets_flat = y_val[valid_mask]\n",
        "\n",
        "              miou_classes.update(preds_flat, targets_flat)\n",
        "\n",
        "\n",
        "              loss = loss_fn(pred_p, pred_main, y_val, boundary_head, boundary_mask)\n",
        "\n",
        "              if LOSS_TYPE == \"ohem\":\n",
        "                loss = torch.mean(loss)\n",
        "\n",
        "              val_loss += loss.item()\n",
        "\n",
        "              total_val_samples += X_val.size(0)\n",
        "\n",
        "      avg_val_loss = val_loss / total_val_samples\n",
        "\n",
        "      miou_per_class = miou_classes.compute()\n",
        "      miou = miou_per_class.mean()\n",
        "\n",
        "      print(scheduler.get_last_lr())\n",
        "\n",
        "      if record_miou is None or miou > record_miou:\n",
        "          best_model_path = f\"/content/drive/MyDrive/AML_project/checkpoints_new_augmentation/best_model_PIDNET_3B_split_{k}.pth\"\n",
        "          torch.save(model.state_dict(), best_model_path)\n",
        "          print(f\"Modello con miou migliore salvato: {best_model_path}\")\n",
        "          record_miou = miou\n",
        "\n",
        "      print(f\"Epoch {epoch+1}/{EPOCHS} - Validation Loss: {avg_val_loss} - mIoU: {miou}\")\n",
        "\n",
        "      ## steps the scheduler\n",
        "      scheduler.step(miou)\n",
        "\n",
        "  # Crea dizionario dei risultati per questo modello\n",
        "  model_miou_dict = {\n",
        "      \"model_id\": k,\n",
        "      \"miou_per_class\": {\n",
        "          miou_per_class\n",
        "      },\n",
        "      \"miou_overall\": float(miou)\n",
        "  }\n",
        "\n",
        "\n",
        "  miou_results.append(model_miou_dict)\n",
        "  k = k  + 1"
      ]
    },
    {
      "cell_type": "markdown",
      "metadata": {
        "id": "MnrvRXfotSBq"
      },
      "source": [
        "## Evaluation"
      ]
    },
    {
      "cell_type": "code",
      "source": [
        "from tqdm import tqdm\n",
        "import torch\n",
        "from torchmetrics.segmentation import MeanIoU\n",
        "\n",
        "def load_inference_pidnet_model(id: int, name: str):\n",
        "    \"\"\"Returns the inference PIDNet model with `id`, it has to be saved in `content/drive/MyDrive/AML_project/checkpoints/`.\"\"\"\n",
        "\n",
        "    model = get_seg_model(cfg, imgnet_pretrained=True)\n",
        "    try:\n",
        "        saved_weights = torch.load(\n",
        "            f\"/content/drive/MyDrive/AML_project/checkpoints_new_augmentation/best_model_PIDNET_3B_split_{id}.pth\",\n",
        "            map_location=torch.device(\"cpu\")\n",
        "        )\n",
        "    except FileNotFoundError:\n",
        "        raise ValueError(\"This model was not found\")\n",
        "\n",
        "    model.load_state_dict(saved_weights)\n",
        "    return model"
      ],
      "metadata": {
        "id": "iI1BwvF-drOS"
      },
      "execution_count": null,
      "outputs": []
    },
    {
      "cell_type": "code",
      "source": [
        "import torch.nn.functional as F\n",
        "from timeit import default_timer as timer\n",
        "import matplotlib.pyplot as plt\n",
        "from fvcore.nn import FlopCountAnalysis\n",
        "import random\n",
        "\n",
        "loss_fn = PIDNetLoss()\n",
        "\n",
        "miou_results = []\n",
        "flops_results = []\n",
        "latency_results = []\n",
        "\n",
        "torch.manual_seed(SEED)\n",
        "torch.cuda.manual_seed(SEED)\n",
        "\n",
        "\n",
        "for id in range(9):\n",
        "  model = load_inference_pidnet_model(id=id, name=\"s\")\n",
        "\n",
        "  model.to(device)\n",
        "\n",
        "  # **Validazione**\n",
        "  model.eval()\n",
        "  test_loss = 0\n",
        "\n",
        "  miou_classes = MeanIoU(num_classes=NUM_CLASSES, input_format = \"index\", per_class=True).to(device)\n",
        "\n",
        "  miou_classes.reset()\n",
        "\n",
        "\n",
        "  total_test_samples = 0\n",
        "\n",
        "  total_latency = 0\n",
        "\n",
        "  with torch.inference_mode():\n",
        "      for X_test, y_test, boundary_mask in test_loader:\n",
        "          X_test = X_test.to(device)\n",
        "          y_test = y_test.to(device)\n",
        "          boundary_mask = boundary_mask.to(device)\n",
        "\n",
        "          start = timer()\n",
        "          # Output del modello\n",
        "          outputs = model(X_test)\n",
        "          end = timer()\n",
        "\n",
        "          latency = end - start\n",
        "          total_latency += latency\n",
        "\n",
        "          ## Upscale trough bilinear interpolation\n",
        "          h, w = boundary_mask.size(1), boundary_mask.size(2)\n",
        "          ph, pw = outputs[0].size(2), outputs[0].size(3)\n",
        "          if ph != h or pw != w:\n",
        "              for i in range(len(outputs)):\n",
        "                  outputs[i] = F.interpolate(outputs[i], size=(h, w), mode='bilinear', align_corners=True)\n",
        "\n",
        "          if model.augment:\n",
        "              pred_p, pred_main, boundary_head = outputs\n",
        "          else:\n",
        "              pred_main = outputs\n",
        "              boundary_head = None\n",
        "\n",
        "          flops = FlopCountAnalysis(model, X_test.clone())\n",
        "\n",
        "\n",
        "          # Calcola le predizioni\n",
        "          output_class_per_pixel = pred_main.argmax(dim=1)\n",
        "\n",
        "\n",
        "          valid_mask = (y_test >= 0) & (y_test < NUM_CLASSES)\n",
        "\n",
        "\n",
        "          preds_flat = output_class_per_pixel[valid_mask]\n",
        "          targets_flat = y_test[valid_mask]\n",
        "\n",
        "          miou_classes.update(preds_flat, targets_flat)\n",
        "\n",
        "\n",
        "          loss = loss_fn(pred_p, pred_main, y_test, boundary_head, boundary_mask)\n",
        "\n",
        "          if LOSS_TYPE == \"ohem\":\n",
        "            loss = torch.mean(loss)\n",
        "\n",
        "          test_loss += loss.item()\n",
        "\n",
        "          total_test_samples += X_test.size(0)\n",
        "\n",
        "      flops_results.append(flops.total() / 1e9)\n",
        "\n",
        "  avg_val_loss = test_loss / total_test_samples\n",
        "\n",
        "\n",
        "  miou_per_class = miou_classes.compute()\n",
        "  miou = miou_per_class.mean()\n",
        "\n",
        "\n",
        "  # Crea dizionario dei risultati per questo modello\n",
        "  model_miou_dict = {\n",
        "      \"model_id\": id,\n",
        "      \"miou_per_class\": {\n",
        "          miou_per_class\n",
        "      },\n",
        "      \"miou_overall\": float(miou)\n",
        "  }\n",
        "\n",
        "  total_latency /= total_test_samples\n",
        "\n",
        "  miou_results.append(model_miou_dict)\n",
        "  latency_results.append(total_latency)\n",
        "\n",
        "\n",
        "\n",
        "  print(f\"Model: {id} | Validation Loss: {avg_val_loss} | mIoU: {miou} | latency: {total_latency} | GFLOPs: {flops.total() / 1e9}\")\n",
        "  for class_idx, value in enumerate(model_miou_dict[\"miou_per_class\"]):\n",
        "        print(f\" - {class_idx}: IoU = {value}\")\n"
      ],
      "metadata": {
        "id": "uZJNslWx67BV",
        "outputId": "199d7f8f-a221-4c39-d811-e147eb6ccfbf",
        "colab": {
          "base_uri": "https://localhost:8080/"
        }
      },
      "execution_count": null,
      "outputs": [
        {
          "output_type": "stream",
          "name": "stderr",
          "text": [
            "WARNING:fvcore.nn.jit_analysis:Unsupported operator aten::add_ encountered 20 time(s)\n",
            "WARNING:fvcore.nn.jit_analysis:Unsupported operator aten::mul encountered 8 time(s)\n",
            "WARNING:fvcore.nn.jit_analysis:Unsupported operator aten::sum encountered 2 time(s)\n",
            "WARNING:fvcore.nn.jit_analysis:Unsupported operator aten::sigmoid encountered 3 time(s)\n",
            "WARNING:fvcore.nn.jit_analysis:Unsupported operator aten::rsub encountered 3 time(s)\n",
            "WARNING:fvcore.nn.jit_analysis:Unsupported operator aten::add encountered 12 time(s)\n",
            "WARNING:fvcore.nn.jit_analysis:Unsupported operator aten::avg_pool2d encountered 3 time(s)\n"
          ]
        },
        {
          "output_type": "stream",
          "name": "stdout",
          "text": [
            "Model: 0 | Validation Loss: 0.38575113444559034 | mIoU: 0.25146016478538513 | latency: 0.000927272229836079 | GFLOPs: 101.072535552\n",
            " - 0: IoU = tensor([0.4307, 0.3055, 0.2612, 0.3187, 0.0199, 0.0848, 0.3395],\n",
            "       device='cuda:0')\n"
          ]
        },
        {
          "output_type": "stream",
          "name": "stderr",
          "text": [
            "WARNING:fvcore.nn.jit_analysis:Unsupported operator aten::add_ encountered 20 time(s)\n",
            "WARNING:fvcore.nn.jit_analysis:Unsupported operator aten::mul encountered 8 time(s)\n",
            "WARNING:fvcore.nn.jit_analysis:Unsupported operator aten::sum encountered 2 time(s)\n",
            "WARNING:fvcore.nn.jit_analysis:Unsupported operator aten::sigmoid encountered 3 time(s)\n",
            "WARNING:fvcore.nn.jit_analysis:Unsupported operator aten::rsub encountered 3 time(s)\n",
            "WARNING:fvcore.nn.jit_analysis:Unsupported operator aten::add encountered 12 time(s)\n",
            "WARNING:fvcore.nn.jit_analysis:Unsupported operator aten::avg_pool2d encountered 3 time(s)\n"
          ]
        },
        {
          "output_type": "stream",
          "name": "stdout",
          "text": [
            "Model: 1 | Validation Loss: 0.3912229619679912 | mIoU: 0.21371938288211823 | latency: 0.0009668841633075801 | GFLOPs: 101.072535552\n",
            " - 0: IoU = tensor([0.4125, 0.2897, 0.2080, 0.2805, 0.0183, 0.0396, 0.2474],\n",
            "       device='cuda:0')\n"
          ]
        },
        {
          "output_type": "stream",
          "name": "stderr",
          "text": [
            "WARNING:fvcore.nn.jit_analysis:Unsupported operator aten::add_ encountered 20 time(s)\n",
            "WARNING:fvcore.nn.jit_analysis:Unsupported operator aten::mul encountered 8 time(s)\n",
            "WARNING:fvcore.nn.jit_analysis:Unsupported operator aten::sum encountered 2 time(s)\n",
            "WARNING:fvcore.nn.jit_analysis:Unsupported operator aten::sigmoid encountered 3 time(s)\n",
            "WARNING:fvcore.nn.jit_analysis:Unsupported operator aten::rsub encountered 3 time(s)\n",
            "WARNING:fvcore.nn.jit_analysis:Unsupported operator aten::add encountered 12 time(s)\n",
            "WARNING:fvcore.nn.jit_analysis:Unsupported operator aten::avg_pool2d encountered 3 time(s)\n"
          ]
        },
        {
          "output_type": "stream",
          "name": "stdout",
          "text": [
            "Model: 2 | Validation Loss: 0.4006058304540573 | mIoU: 0.2718139588832855 | latency: 0.0009733778760065552 | GFLOPs: 101.072535552\n",
            " - 0: IoU = tensor([0.5206, 0.3529, 0.2618, 0.2966, 0.0558, 0.0631, 0.3518],\n",
            "       device='cuda:0')\n"
          ]
        },
        {
          "output_type": "stream",
          "name": "stderr",
          "text": [
            "WARNING:fvcore.nn.jit_analysis:Unsupported operator aten::add_ encountered 20 time(s)\n",
            "WARNING:fvcore.nn.jit_analysis:Unsupported operator aten::mul encountered 8 time(s)\n",
            "WARNING:fvcore.nn.jit_analysis:Unsupported operator aten::sum encountered 2 time(s)\n",
            "WARNING:fvcore.nn.jit_analysis:Unsupported operator aten::sigmoid encountered 3 time(s)\n",
            "WARNING:fvcore.nn.jit_analysis:Unsupported operator aten::rsub encountered 3 time(s)\n",
            "WARNING:fvcore.nn.jit_analysis:Unsupported operator aten::add encountered 12 time(s)\n",
            "WARNING:fvcore.nn.jit_analysis:Unsupported operator aten::avg_pool2d encountered 3 time(s)\n"
          ]
        },
        {
          "output_type": "stream",
          "name": "stdout",
          "text": [
            "Model: 3 | Validation Loss: 0.35725833956272374 | mIoU: 0.272869348526001 | latency: 0.0009608924737911425 | GFLOPs: 101.072535552\n",
            " - 0: IoU = tensor([0.5269, 0.2096, 0.2373, 0.4528, 0.0368, 0.1347, 0.3120],\n",
            "       device='cuda:0')\n"
          ]
        },
        {
          "output_type": "stream",
          "name": "stderr",
          "text": [
            "WARNING:fvcore.nn.jit_analysis:Unsupported operator aten::add_ encountered 20 time(s)\n",
            "WARNING:fvcore.nn.jit_analysis:Unsupported operator aten::mul encountered 8 time(s)\n",
            "WARNING:fvcore.nn.jit_analysis:Unsupported operator aten::sum encountered 2 time(s)\n",
            "WARNING:fvcore.nn.jit_analysis:Unsupported operator aten::sigmoid encountered 3 time(s)\n",
            "WARNING:fvcore.nn.jit_analysis:Unsupported operator aten::rsub encountered 3 time(s)\n",
            "WARNING:fvcore.nn.jit_analysis:Unsupported operator aten::add encountered 12 time(s)\n",
            "WARNING:fvcore.nn.jit_analysis:Unsupported operator aten::avg_pool2d encountered 3 time(s)\n"
          ]
        },
        {
          "output_type": "stream",
          "name": "stdout",
          "text": [
            "Model: 4 | Validation Loss: 0.38959088200523007 | mIoU: 0.2705896198749542 | latency: 0.0009432852913314785 | GFLOPs: 101.072535552\n",
            " - 0: IoU = tensor([0.5136, 0.3262, 0.2778, 0.2803, 0.0510, 0.1210, 0.3242],\n",
            "       device='cuda:0')\n"
          ]
        },
        {
          "output_type": "stream",
          "name": "stderr",
          "text": [
            "WARNING:fvcore.nn.jit_analysis:Unsupported operator aten::add_ encountered 20 time(s)\n",
            "WARNING:fvcore.nn.jit_analysis:Unsupported operator aten::mul encountered 8 time(s)\n",
            "WARNING:fvcore.nn.jit_analysis:Unsupported operator aten::sum encountered 2 time(s)\n",
            "WARNING:fvcore.nn.jit_analysis:Unsupported operator aten::sigmoid encountered 3 time(s)\n",
            "WARNING:fvcore.nn.jit_analysis:Unsupported operator aten::rsub encountered 3 time(s)\n",
            "WARNING:fvcore.nn.jit_analysis:Unsupported operator aten::add encountered 12 time(s)\n",
            "WARNING:fvcore.nn.jit_analysis:Unsupported operator aten::avg_pool2d encountered 3 time(s)\n"
          ]
        },
        {
          "output_type": "stream",
          "name": "stdout",
          "text": [
            "Model: 5 | Validation Loss: 0.41533011053839036 | mIoU: 0.2374550998210907 | latency: 0.001007594709675679 | GFLOPs: 101.072535552\n",
            " - 0: IoU = tensor([0.4888, 0.3758, 0.2176, 0.2719, 0.0450, 0.0798, 0.1832],\n",
            "       device='cuda:0')\n"
          ]
        },
        {
          "output_type": "stream",
          "name": "stderr",
          "text": [
            "WARNING:fvcore.nn.jit_analysis:Unsupported operator aten::add_ encountered 20 time(s)\n",
            "WARNING:fvcore.nn.jit_analysis:Unsupported operator aten::mul encountered 8 time(s)\n",
            "WARNING:fvcore.nn.jit_analysis:Unsupported operator aten::sum encountered 2 time(s)\n",
            "WARNING:fvcore.nn.jit_analysis:Unsupported operator aten::sigmoid encountered 3 time(s)\n",
            "WARNING:fvcore.nn.jit_analysis:Unsupported operator aten::rsub encountered 3 time(s)\n",
            "WARNING:fvcore.nn.jit_analysis:Unsupported operator aten::add encountered 12 time(s)\n",
            "WARNING:fvcore.nn.jit_analysis:Unsupported operator aten::avg_pool2d encountered 3 time(s)\n"
          ]
        },
        {
          "output_type": "stream",
          "name": "stdout",
          "text": [
            "Model: 6 | Validation Loss: 0.3885918149063664 | mIoU: 0.28045853972435 | latency: 0.0009750005514105499 | GFLOPs: 101.072535552\n",
            " - 0: IoU = tensor([0.5226, 0.3686, 0.2507, 0.3873, 0.0392, 0.1028, 0.2921],\n",
            "       device='cuda:0')\n"
          ]
        },
        {
          "output_type": "stream",
          "name": "stderr",
          "text": [
            "WARNING:fvcore.nn.jit_analysis:Unsupported operator aten::add_ encountered 20 time(s)\n",
            "WARNING:fvcore.nn.jit_analysis:Unsupported operator aten::mul encountered 8 time(s)\n",
            "WARNING:fvcore.nn.jit_analysis:Unsupported operator aten::sum encountered 2 time(s)\n",
            "WARNING:fvcore.nn.jit_analysis:Unsupported operator aten::sigmoid encountered 3 time(s)\n",
            "WARNING:fvcore.nn.jit_analysis:Unsupported operator aten::rsub encountered 3 time(s)\n",
            "WARNING:fvcore.nn.jit_analysis:Unsupported operator aten::add encountered 12 time(s)\n",
            "WARNING:fvcore.nn.jit_analysis:Unsupported operator aten::avg_pool2d encountered 3 time(s)\n"
          ]
        },
        {
          "output_type": "stream",
          "name": "stdout",
          "text": [
            "Model: 7 | Validation Loss: 0.3834208639398698 | mIoU: 0.2743425667285919 | latency: 0.0009636777117007554 | GFLOPs: 101.072535552\n",
            " - 0: IoU = tensor([0.4226, 0.2731, 0.2958, 0.4197, 0.0252, 0.1759, 0.3082],\n",
            "       device='cuda:0')\n"
          ]
        },
        {
          "output_type": "stream",
          "name": "stderr",
          "text": [
            "WARNING:fvcore.nn.jit_analysis:Unsupported operator aten::add_ encountered 20 time(s)\n",
            "WARNING:fvcore.nn.jit_analysis:Unsupported operator aten::mul encountered 8 time(s)\n",
            "WARNING:fvcore.nn.jit_analysis:Unsupported operator aten::sum encountered 2 time(s)\n",
            "WARNING:fvcore.nn.jit_analysis:Unsupported operator aten::sigmoid encountered 3 time(s)\n",
            "WARNING:fvcore.nn.jit_analysis:Unsupported operator aten::rsub encountered 3 time(s)\n",
            "WARNING:fvcore.nn.jit_analysis:Unsupported operator aten::add encountered 12 time(s)\n",
            "WARNING:fvcore.nn.jit_analysis:Unsupported operator aten::avg_pool2d encountered 3 time(s)\n"
          ]
        },
        {
          "output_type": "stream",
          "name": "stdout",
          "text": [
            "Model: 8 | Validation Loss: 0.3707735745176192 | mIoU: 0.28344258666038513 | latency: 0.0009642950020120665 | GFLOPs: 101.072535552\n",
            " - 0: IoU = tensor([0.5085, 0.3261, 0.3073, 0.3559, 0.0749, 0.0459, 0.3655],\n",
            "       device='cuda:0')\n"
          ]
        }
      ]
    }
  ],
  "metadata": {
    "colab": {
      "machine_shape": "hm",
      "provenance": [],
      "gpuType": "A100",
      "include_colab_link": true
    },
    "kernelspec": {
      "display_name": "Python 3",
      "name": "python3"
    },
    "language_info": {
      "name": "python"
    },
    "accelerator": "GPU"
  },
  "nbformat": 4,
  "nbformat_minor": 0
}