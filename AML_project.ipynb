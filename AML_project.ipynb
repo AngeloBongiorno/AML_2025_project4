{
  "cells": [
    {
      "cell_type": "markdown",
      "metadata": {
        "id": "view-in-github",
        "colab_type": "text"
      },
      "source": [
        "<a href=\"https://colab.research.google.com/github/AngeloBongiorno/AML_2025_project4/blob/angelo/AML_project.ipynb\" target=\"_parent\"><img src=\"https://colab.research.google.com/assets/colab-badge.svg\" alt=\"Open In Colab\"/></a>"
      ]
    },
    {
      "cell_type": "markdown",
      "metadata": {
        "id": "K7QJviwzoN5m"
      },
      "source": [
        "## Install Dependency & DeepLab"
      ]
    },
    {
      "cell_type": "markdown",
      "metadata": {
        "id": "rHpwU5g8s-Pt"
      },
      "source": [
        "## Upload .zip files"
      ]
    },
    {
      "cell_type": "markdown",
      "metadata": {
        "id": "O2_aVBiH46K3"
      },
      "source": [
        "For this step you must have the zip files in your Drive into a folder called `AML_project`"
      ]
    },
    {
      "cell_type": "code",
      "source": [
        "!pip install torchmetrics\n",
        "!pip install fvcore"
      ],
      "metadata": {
        "collapsed": true,
        "id": "xxVbeep6Rlnb"
      },
      "execution_count": null,
      "outputs": []
    },
    {
      "cell_type": "code",
      "execution_count": 2,
      "metadata": {
        "colab": {
          "base_uri": "https://localhost:8080/"
        },
        "id": "r8lChuFCsmFi",
        "outputId": "ef9a4947-e56e-44c6-87be-6dc230ed8214"
      },
      "outputs": [
        {
          "output_type": "stream",
          "name": "stdout",
          "text": [
            "Cloning into 'AML_2025_project4'...\n",
            "remote: Enumerating objects: 22, done.\u001b[K\n",
            "remote: Counting objects: 100% (22/22), done.\u001b[K\n",
            "remote: Compressing objects: 100% (20/20), done.\u001b[K\n",
            "remote: Total 22 (delta 4), reused 0 (delta 0), pack-reused 0 (from 0)\u001b[K\n",
            "Receiving objects: 100% (22/22), 537.90 KiB | 5.22 MiB/s, done.\n",
            "Resolving deltas: 100% (4/4), done.\n",
            "Mounted at /content/drive\n"
          ]
        }
      ],
      "source": [
        "from google.colab import drive\n",
        "import os\n",
        "\n",
        "!git clone -b angelo --single-branch https://github.com/AngeloBongiorno/AML_2025_project4.git\n",
        "\n",
        "!cp AML_2025_project4/utils.py .\n",
        "\n",
        "drive.mount('/content/drive')"
      ]
    },
    {
      "cell_type": "code",
      "execution_count": 3,
      "metadata": {
        "colab": {
          "base_uri": "https://localhost:8080/"
        },
        "id": "laEb8KOytCpo",
        "outputId": "a65f016b-f41b-49b9-e6ba-3b6e848158d7"
      },
      "outputs": [
        {
          "output_type": "stream",
          "name": "stdout",
          "text": [
            "Extracting training...\n",
            "training extracted!\n",
            "Extracting validation...\n",
            "validation extracted!\n",
            "Extracting test...\n",
            "test extracted!\n",
            "Extraction check completed!\n"
          ]
        }
      ],
      "source": [
        "import tqdm\n",
        "import zipfile\n",
        "import os\n",
        "\n",
        "# ZIP files paths on Google Drive\n",
        "zip_files = {\n",
        "    \"training\": \"/content/drive/My Drive/AML_project/Train.zip\",\n",
        "    \"validation\": \"/content/drive/My Drive/AML_project/Val.zip\",\n",
        "    \"test\": \"/content/drive/My Drive/AML_project/Test.zip\"\n",
        "}\n",
        "\n",
        "# Destination directory on Colab\n",
        "extract_path = \"/content/dataset\"\n",
        "\n",
        "# Create the directory if it doesn't exist\n",
        "os.makedirs(extract_path, exist_ok=True)\n",
        "\n",
        "\n",
        "for name, zip_path in zip_files.items():\n",
        "    extract_dir = f\"{extract_path}/{name}\"\n",
        "\n",
        "    # Check if the directory is non-empty (assumes extraction is complete if the folder has files)\n",
        "    if os.path.exists(extract_dir) and any(os.scandir(extract_dir)):\n",
        "        print(f\"Skipping extraction for {name}, already extracted.\")\n",
        "    else:\n",
        "        print(f\"Extracting {name}...\")\n",
        "        with zipfile.ZipFile(zip_path, 'r') as zip_ref:\n",
        "            zip_ref.extractall(extract_dir)\n",
        "        print(f\"{name} extracted!\")\n",
        "\n",
        "print(\"Extraction check completed!\")\n",
        "\n",
        "TRAINING_PATH_URBAN = os.path.join(extract_path, \"training\", \"Train\", \"Urban\")\n",
        "TRAINING_PATH_RURAL = os.path.join(extract_path, \"training\", \"Train\", \"Rural\")\n",
        "TEST_PATH_URBAN = os.path.join(extract_path, \"test\", \"Test\", \"Urban\")\n",
        "TEST_PATH_RURAL = os.path.join(extract_path, \"test\", \"Test\", \"Rural\")\n",
        "VAL_PATH_URBAN = os.path.join(extract_path, \"validation\", \"Val\", \"Urban\")\n",
        "VAL_PATH_RURAL = os.path.join(extract_path, \"validation\", \"Val\", \"Rural\")"
      ]
    },
    {
      "cell_type": "markdown",
      "metadata": {
        "id": "UrjECeMs7Sc5"
      },
      "source": [
        "## Load DeepLab v2 PreTrained Weight"
      ]
    },
    {
      "cell_type": "markdown",
      "source": [
        "Crea la cartella model e inserisce il modello DeepLabv2\n"
      ],
      "metadata": {
        "id": "sR3Z1csCiZ60"
      }
    },
    {
      "cell_type": "code",
      "source": [
        "import requests\n",
        "from pathlib import Path\n",
        "\n",
        "models_dir = Path(\"models\")\n",
        "deeplab_file = models_dir / \"DeepLab_v2.py\"\n",
        "\n",
        "models_dir.mkdir(parents=True, exist_ok=True)\n",
        "\n",
        "if deeplab_file.is_file():\n",
        "    print(\"DeepLab-v2.py already exists in 'models/' folder, skipping download.\")\n",
        "else:\n",
        "    print(\"Downloading DeepLab-v2.py to 'models/' folder.\")\n",
        "\n",
        "    url = \"https://raw.githubusercontent.com/Gabrysse/MLDL2024_project1/refs/heads/master/models/deeplabv2/deeplabv2.py\"\n",
        "    response = requests.get(url)\n",
        "\n",
        "    if response.status_code == 200:\n",
        "        with open(deeplab_file, \"wb\") as f:\n",
        "            f.write(response.content)\n",
        "        print(\"Download completed successfully!\")\n",
        "    else:\n",
        "        print(f\"Failed to download file. HTTP Status Code: {response.status_code}\")\n"
      ],
      "metadata": {
        "colab": {
          "base_uri": "https://localhost:8080/"
        },
        "id": "OYBJp19mMan8",
        "outputId": "62cc0144-eaf5-42a3-e042-4fd5c8b182c6"
      },
      "execution_count": 4,
      "outputs": [
        {
          "output_type": "stream",
          "name": "stdout",
          "text": [
            "Downloading DeepLab-v2.py to 'models/' folder.\n",
            "Download completed successfully!\n"
          ]
        }
      ]
    },
    {
      "cell_type": "code",
      "source": [
        "import sys\n",
        "from pathlib import Path\n",
        "\n",
        "models_dir = Path(\"models\")\n",
        "sys.path.append(str(models_dir))\n",
        "\n",
        "from DeepLab_v2 import get_deeplab_v2  # Esempio di import di una funzione\n"
      ],
      "metadata": {
        "id": "fiVP4lOOO_e8"
      },
      "execution_count": 5,
      "outputs": []
    },
    {
      "cell_type": "markdown",
      "source": [
        "Implementazione del dataloader"
      ],
      "metadata": {
        "id": "dw9SYUCgi6us"
      }
    },
    {
      "cell_type": "code",
      "execution_count": 6,
      "metadata": {
        "id": "T6kSW8hGjAo9"
      },
      "outputs": [],
      "source": [
        "import os\n",
        "import torch\n",
        "from torch.utils.data import Dataset, DataLoader\n",
        "from torchvision import transforms\n",
        "from PIL import Image\n",
        "import numpy as np\n",
        "\n",
        "RESIZE = (64, 64)\n",
        "\n",
        "class SegmentationDataset(Dataset):\n",
        "    def __init__(self, image_dir, mask_dir, transform=None, target_transform=None):\n",
        "        self.image_dir = image_dir\n",
        "        self.mask_dir = mask_dir\n",
        "        self.transform = transform\n",
        "        self.target_transform = target_transform\n",
        "        self.image_filenames = sorted(os.listdir(image_dir))\n",
        "        self.mask_filenames = sorted(os.listdir(mask_dir))\n",
        "\n",
        "    def __len__(self):\n",
        "        return len(self.image_filenames)\n",
        "\n",
        "    def __getitem__(self, idx):\n",
        "        img_path = os.path.join(self.image_dir, self.image_filenames[idx])\n",
        "        mask_path = os.path.join(self.mask_dir, self.mask_filenames[idx])\n",
        "\n",
        "        image = Image.open(img_path).convert(\"RGB\")  # Assicura che sia RGB\n",
        "        mask = Image.open(mask_path).convert(\"L\")  # Converti la maschera in scala di grigi (1 canale)\n",
        "\n",
        "        if self.transform:\n",
        "            image = self.transform(image)\n",
        "\n",
        "        if self.target_transform:\n",
        "          mask = self.target_transform(mask)\n",
        "\n",
        "        mask = torch.as_tensor(np.array(mask), dtype=torch.int64) - 1\n",
        "\n",
        "        return image, mask  # Return (image, mask) pair\n",
        "\n",
        "# Define transformations for images & masks\n",
        "image_transform = transforms.Compose([\n",
        "    transforms.Resize(RESIZE, interpolation=Image.BILINEAR),  # Resize images to 256x256\n",
        "    transforms.ToTensor(),  # Convert image to tensor\n",
        "])\n",
        "\n",
        "mask_transform = transforms.Compose([\n",
        "    transforms.Resize(RESIZE, interpolation=Image.NEAREST),  # Resize masks to 256x256\n",
        "])\n",
        "\n",
        "# Create dataset objects\n",
        "train_dataset_urban = SegmentationDataset(TRAINING_PATH_URBAN + \"/images_png\", TRAINING_PATH_URBAN + \"/masks_png\",\n",
        "                                    transform=image_transform, target_transform=mask_transform)\n",
        "val_dataset_urban = SegmentationDataset(VAL_PATH_URBAN + \"/images_png\", VAL_PATH_URBAN + \"/masks_png\",\n",
        "                                  transform=image_transform, target_transform= mask_transform)\n",
        "\n",
        "BATCH_SIZE = 32\n",
        "\n",
        "# Create DataLoaders\n",
        "train_loader = DataLoader(train_dataset_urban, batch_size=BATCH_SIZE, shuffle=True, num_workers=4)\n",
        "val_loader = DataLoader(val_dataset_urban, batch_size=BATCH_SIZE, shuffle=False, num_workers=4)"
      ]
    },
    {
      "cell_type": "code",
      "execution_count": 7,
      "metadata": {
        "colab": {
          "base_uri": "https://localhost:8080/"
        },
        "collapsed": true,
        "id": "dAOHY95Q7Tl8",
        "outputId": "a3017585-10c5-4bc1-c1cc-14b039e1f487"
      },
      "outputs": [
        {
          "output_type": "stream",
          "name": "stdout",
          "text": [
            "/content\n",
            "Deeplab pretraining loading...\n"
          ]
        }
      ],
      "source": [
        "from pathlib import Path\n",
        "import sys\n",
        "\n",
        "print(os.getcwd())\n",
        "\n",
        "# Aggiungi la cartella che contiene 'models' al sys.path\n",
        "sys.path.append(str(Path('/content/deeplab-pytorch/deeplab-pytorch/MLDL2024_project1/test')))\n",
        "\n",
        "# Path of the model\n",
        "model_path = Path(\"/content/drive/MyDrive/AML_project/deeplab_resnet_pretrained_imagenet.pth\")\n",
        "\n",
        "# Loading the model using DeepLab v2\n",
        "NUM_CLASSES = 7\n",
        "model = get_deeplab_v2(num_classes=NUM_CLASSES, pretrain=True, pretrain_model_path=model_path)"
      ]
    },
    {
      "cell_type": "markdown",
      "metadata": {
        "id": "MSQUcy7_t2of"
      },
      "source": [
        "## Training Phase"
      ]
    },
    {
      "cell_type": "code",
      "execution_count": 8,
      "metadata": {
        "colab": {
          "base_uri": "https://localhost:8080/"
        },
        "id": "bAbmz5Cz4I4H",
        "outputId": "b73f8cda-ca71-4e28-a06b-9e566b381c6e"
      },
      "outputs": [
        {
          "output_type": "stream",
          "name": "stdout",
          "text": [
            "cuda\n"
          ]
        }
      ],
      "source": [
        "device = torch.device(\"cuda\" if torch.cuda.is_available() else \"cpu\")\n",
        "model = model.to(device)\n",
        "print(device);"
      ]
    },
    {
      "cell_type": "code",
      "execution_count": 9,
      "metadata": {
        "id": "zCKqjLctlmFC"
      },
      "outputs": [],
      "source": [
        "loss_fn = torch.nn.CrossEntropyLoss(ignore_index= -1)\n",
        "optimizer = torch.optim.SGD(model.parameters(), lr=0.01)\n",
        "#optimizer = torch.optim.Adam(model.parameters(), lr=0.01)"
      ]
    },
    {
      "cell_type": "code",
      "execution_count": 10,
      "metadata": {
        "id": "3x4vYHX5p_dd",
        "colab": {
          "base_uri": "https://localhost:8080/"
        },
        "outputId": "e1dbafa8-f59d-4e85-ea4c-4825e61d1404"
      },
      "outputs": [
        {
          "output_type": "stream",
          "name": "stdout",
          "text": [
            "Epoch 1/20 - Validation Loss: 96.9564323425293 - mIoU: 0.1391\n",
            "Epoch 2/20 - Validation Loss: 35.01613799008456 - mIoU: 0.0118\n",
            "Modello salvato: /content/drive/MyDrive/AML_project/checkpoints/model_epoch_2.pth\n",
            "Epoch 3/20 - Validation Loss: 2.7235581332987007 - mIoU: 0.0936\n",
            "Epoch 4/20 - Validation Loss: 2.1344342719424856 - mIoU: 0.2005\n",
            "Modello salvato: /content/drive/MyDrive/AML_project/checkpoints/model_epoch_4.pth\n",
            "Epoch 5/20 - Validation Loss: 2.4146492210301487 - mIoU: 0.3075\n",
            "Epoch 6/20 - Validation Loss: 3.276087825948542 - mIoU: 0.2989\n",
            "Modello salvato: /content/drive/MyDrive/AML_project/checkpoints/model_epoch_6.pth\n",
            "Epoch 7/20 - Validation Loss: 2.480938575484536 - mIoU: 0.2729\n",
            "Epoch 8/20 - Validation Loss: 2.4679115143689243 - mIoU: 0.1728\n",
            "Modello salvato: /content/drive/MyDrive/AML_project/checkpoints/model_epoch_8.pth\n",
            "Epoch 9/20 - Validation Loss: 2.566426596858285 - mIoU: 0.2388\n",
            "Epoch 10/20 - Validation Loss: 5.481093623421409 - mIoU: 0.3071\n",
            "Modello salvato: /content/drive/MyDrive/AML_project/checkpoints/model_epoch_10.pth\n",
            "Epoch 11/20 - Validation Loss: 2.1002342484214087 - mIoU: 0.2706\n",
            "Epoch 12/20 - Validation Loss: 2.341291205449538 - mIoU: 0.2862\n",
            "Modello salvato: /content/drive/MyDrive/AML_project/checkpoints/model_epoch_12.pth\n",
            "Epoch 13/20 - Validation Loss: 2.1259539994326504 - mIoU: 0.2649\n",
            "Epoch 14/20 - Validation Loss: 2.3273283459923486 - mIoU: 0.2587\n",
            "Modello salvato: /content/drive/MyDrive/AML_project/checkpoints/model_epoch_14.pth\n",
            "Epoch 15/20 - Validation Loss: 2.578049583868547 - mIoU: 0.2067\n",
            "Epoch 16/20 - Validation Loss: 2.604690183292736 - mIoU: 0.1947\n",
            "Modello salvato: /content/drive/MyDrive/AML_project/checkpoints/model_epoch_16.pth\n",
            "Epoch 17/20 - Validation Loss: 2.42891325192018 - mIoU: 0.2116\n",
            "Epoch 18/20 - Validation Loss: 2.69439190084284 - mIoU: 0.2340\n",
            "Modello salvato: /content/drive/MyDrive/AML_project/checkpoints/model_epoch_18.pth\n",
            "Epoch 19/20 - Validation Loss: 2.6287134885787964 - mIoU: 0.2971\n",
            "Epoch 20/20 - Validation Loss: 2.3580114895647224 - mIoU: 0.2469\n",
            "Modello salvato: /content/drive/MyDrive/AML_project/checkpoints/model_epoch_20.pth\n"
          ]
        }
      ],
      "source": [
        "from tqdm import tqdm\n",
        "import torch\n",
        "from torchmetrics.segmentation import MeanIoU\n",
        "\n",
        "from utils import train_step, validation_step\n",
        "\n",
        "os.makedirs(\"/content/drive/MyDrive/AML_project/checkpoints\", exist_ok=True)\n",
        "\n",
        "EPOCHS = 20\n",
        "torch.manual_seed(42)\n",
        "\n",
        "miou = MeanIoU(num_classes=NUM_CLASSES).to(device)\n",
        "\n",
        "\n",
        "for epoch in range(EPOCHS):\n",
        "\n",
        "  avg_train_loss = train_step(model=model,\n",
        "               optimizer=optimizer,\n",
        "               loss_fn=loss_fn,\n",
        "               train_loader=train_loader,\n",
        "               device=device,\n",
        "               epoch=epoch,\n",
        "               EPOCHS=EPOCHS\n",
        "               )\n",
        "\n",
        "    # Valutazione del modello\n",
        "\n",
        "  avg_val_loss, miou_score = validation_step(model=model,\n",
        "                                             val_loader=val_loader,\n",
        "                                             loss_fn=loss_fn,\n",
        "                                             device=device,\n",
        "                                             miou=miou)\n",
        "\n",
        "  print(f\"Epoch {epoch+1}/{EPOCHS} | Training Loss: {avg_train_loss} | Validation Loss: {avg_val_loss} | mIoU: {miou_score:.4f}\")\n",
        "\n",
        "  \"\"\"\n",
        "  # Salva il modello ogni 2 epoche\n",
        "  if (epoch + 1) % 2 == 0:\n",
        "      checkpoint_path = f\"/content/drive/MyDrive/AML_project/checkpoints/model_epoch_{epoch+1}.pth\"\n",
        "      torch.save(model.state_dict(), checkpoint_path)\n",
        "      print(f\"Modello salvato: {checkpoint_path}\")\n",
        "  \"\"\""
      ]
    },
    {
      "cell_type": "code",
      "source": [
        "from timeit import default_timer as timer\n",
        "import matplotlib.pyplot as plt\n",
        "from fvcore.nn import FlopCountAnalysis\n",
        "import random\n",
        "\n",
        "model.eval()  # Set model to evaluation mode\n",
        "\n",
        "with torch.inference_mode():\n",
        "    random_index = random.randint(0, len(val_dataset_urban) - 1)\n",
        "    X, y = val_dataset_urban[random_index]\n",
        "    X = X.to(device).unsqueeze(dim=0)  # Aggiunge la dimensione batch\n",
        "    y = y.to(device)\n",
        "\n",
        "    start = timer()\n",
        "    output = model(X)\n",
        "    end = timer()\n",
        "\n",
        "    latency = end - start\n",
        "\n",
        "flops = FlopCountAnalysis(model, X.clone())\n",
        "\n",
        "print(f\"FLOPs: {flops.total() / 1e9:.3f} GFLOPs\")\n",
        "print(f\"Average inference latency is {latency:.3f} seconds.\")\n",
        "\n",
        "# Converti output e ground truth per la visualizzazione\n",
        "out = output.squeeze().argmax(dim=0).cpu().numpy()  # Output segmentazione\n",
        "y_np = y.squeeze().cpu().numpy()  # Ground truth\n",
        "X_np = X.squeeze().cpu().permute(1, 2, 0).numpy()  # Immagine originale\n",
        "\n",
        "# Creazione della figura con tre immagini affiancate\n",
        "fig, axes = plt.subplots(1, 3, figsize=(15, 5))\n",
        "\n",
        "# Immagine originale\n",
        "axes[0].imshow(X_np)\n",
        "axes[0].set_title(\"Original Image\")\n",
        "axes[0].axis(\"off\")\n",
        "\n",
        "# Predizione del modello\n",
        "axes[1].imshow(out, cmap=\"gray\")\n",
        "axes[1].set_title(\"Predicted Segmentation\")\n",
        "axes[1].axis(\"off\")\n",
        "\n",
        "# Ground truth\n",
        "axes[2].imshow(y_np, cmap=\"gray\")\n",
        "axes[2].set_title(\"Ground Truth\")\n",
        "axes[2].axis(\"off\")\n",
        "\n",
        "plt.show()\n",
        "\n",
        "# Conta i parametri del modello\n",
        "params = sum(p.numel() for p in model.parameters())\n",
        "print(f\"Params: {params / 1e6:.3f} M\")\n"
      ],
      "metadata": {
        "id": "bRByJkGflhLX",
        "outputId": "44cc3ac8-4256-4829-ff39-e636f57bf24e",
        "colab": {
          "base_uri": "https://localhost:8080/",
          "height": 493
        }
      },
      "execution_count": 11,
      "outputs": [
        {
          "output_type": "stream",
          "name": "stderr",
          "text": [
            "WARNING:fvcore.nn.jit_analysis:Unsupported operator aten::max_pool2d encountered 1 time(s)\n",
            "WARNING:fvcore.nn.jit_analysis:Unsupported operator aten::add_ encountered 36 time(s)\n"
          ]
        },
        {
          "output_type": "stream",
          "name": "stdout",
          "text": [
            "FLOPs: 3.538 GFLOPs\n",
            "Average inference latency is 0.041 seconds.\n"
          ]
        },
        {
          "output_type": "display_data",
          "data": {
            "text/plain": [
              "<Figure size 1500x500 with 3 Axes>"
            ],
            "image/png": "[encoded data removed]"
          },
          "metadata": {}
        },
        {
          "output_type": "stream",
          "name": "stdout",
          "text": [
            "Params: 43.016 M\n"
          ]
        }
      ]
    }
  ],
  "metadata": {
    "colab": {
      "machine_shape": "hm",
      "provenance": [],
      "gpuType": "A100",
      "include_colab_link": true
    },
    "kernelspec": {
      "display_name": "Python 3",
      "name": "python3"
    },
    "language_info": {
      "name": "python"
    },
    "accelerator": "GPU"
  },
  "nbformat": 4,
  "nbformat_minor": 0
}