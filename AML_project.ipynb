{
  "cells": [
    {
      "cell_type": "markdown",
      "metadata": {
        "id": "view-in-github",
        "colab_type": "text"
      },
      "source": [
        "<a href=\"https://colab.research.google.com/github/AngeloBongiorno/AML_2025_project4/blob/angelo/AML_project.ipynb\" target=\"_parent\"><img src=\"https://colab.research.google.com/assets/colab-badge.svg\" alt=\"Open In Colab\"/></a>"
      ]
    },
    {
      "cell_type": "markdown",
      "metadata": {
        "id": "K7QJviwzoN5m"
      },
      "source": [
        "## Install Dependency & DeepLab"
      ]
    },
    {
      "cell_type": "markdown",
      "metadata": {
        "id": "rHpwU5g8s-Pt"
      },
      "source": [
        "## Upload .zip files"
      ]
    },
    {
      "cell_type": "markdown",
      "metadata": {
        "id": "O2_aVBiH46K3"
      },
      "source": [
        "For this step you must have the zip files in your Drive into a folder called `AML_project`"
      ]
    },
    {
      "cell_type": "code",
      "source": [
        "!pip install torchmetrics\n",
        "!pip install fvcore"
      ],
      "metadata": {
        "colab": {
          "base_uri": "https://localhost:8080/"
        },
        "collapsed": true,
        "id": "xxVbeep6Rlnb",
        "outputId": "7ce0c828-343f-4496-8ffc-26030d962151"
      },
      "execution_count": 1,
      "outputs": [
        {
          "output_type": "stream",
          "name": "stdout",
          "text": [
            "Requirement already satisfied: torchmetrics in /usr/local/lib/python3.11/dist-packages (1.7.0)\n",
            "Requirement already satisfied: numpy>1.20.0 in /usr/local/lib/python3.11/dist-packages (from torchmetrics) (2.0.2)\n",
            "Requirement already satisfied: packaging>17.1 in /usr/local/lib/python3.11/dist-packages (from torchmetrics) (24.2)\n",
            "Requirement already satisfied: torch>=2.0.0 in /usr/local/lib/python3.11/dist-packages (from torchmetrics) (2.6.0+cu124)\n",
            "Requirement already satisfied: lightning-utilities>=0.8.0 in /usr/local/lib/python3.11/dist-packages (from torchmetrics) (0.14.2)\n",
            "Requirement already satisfied: setuptools in /usr/local/lib/python3.11/dist-packages (from lightning-utilities>=0.8.0->torchmetrics) (75.1.0)\n",
            "Requirement already satisfied: typing_extensions in /usr/local/lib/python3.11/dist-packages (from lightning-utilities>=0.8.0->torchmetrics) (4.12.2)\n",
            "Requirement already satisfied: filelock in /usr/local/lib/python3.11/dist-packages (from torch>=2.0.0->torchmetrics) (3.18.0)\n",
            "Requirement already satisfied: networkx in /usr/local/lib/python3.11/dist-packages (from torch>=2.0.0->torchmetrics) (3.4.2)\n",
            "Requirement already satisfied: jinja2 in /usr/local/lib/python3.11/dist-packages (from torch>=2.0.0->torchmetrics) (3.1.6)\n",
            "Requirement already satisfied: fsspec in /usr/local/lib/python3.11/dist-packages (from torch>=2.0.0->torchmetrics) (2025.3.0)\n",
            "Requirement already satisfied: nvidia-cuda-nvrtc-cu12==12.4.127 in /usr/local/lib/python3.11/dist-packages (from torch>=2.0.0->torchmetrics) (12.4.127)\n",
            "Requirement already satisfied: nvidia-cuda-runtime-cu12==12.4.127 in /usr/local/lib/python3.11/dist-packages (from torch>=2.0.0->torchmetrics) (12.4.127)\n",
            "Requirement already satisfied: nvidia-cuda-cupti-cu12==12.4.127 in /usr/local/lib/python3.11/dist-packages (from torch>=2.0.0->torchmetrics) (12.4.127)\n",
            "Requirement already satisfied: nvidia-cudnn-cu12==9.1.0.70 in /usr/local/lib/python3.11/dist-packages (from torch>=2.0.0->torchmetrics) (9.1.0.70)\n",
            "Requirement already satisfied: nvidia-cublas-cu12==12.4.5.8 in /usr/local/lib/python3.11/dist-packages (from torch>=2.0.0->torchmetrics) (12.4.5.8)\n",
            "Requirement already satisfied: nvidia-cufft-cu12==11.2.1.3 in /usr/local/lib/python3.11/dist-packages (from torch>=2.0.0->torchmetrics) (11.2.1.3)\n",
            "Requirement already satisfied: nvidia-curand-cu12==10.3.5.147 in /usr/local/lib/python3.11/dist-packages (from torch>=2.0.0->torchmetrics) (10.3.5.147)\n",
            "Requirement already satisfied: nvidia-cusolver-cu12==11.6.1.9 in /usr/local/lib/python3.11/dist-packages (from torch>=2.0.0->torchmetrics) (11.6.1.9)\n",
            "Requirement already satisfied: nvidia-cusparse-cu12==12.3.1.170 in /usr/local/lib/python3.11/dist-packages (from torch>=2.0.0->torchmetrics) (12.3.1.170)\n",
            "Requirement already satisfied: nvidia-cusparselt-cu12==0.6.2 in /usr/local/lib/python3.11/dist-packages (from torch>=2.0.0->torchmetrics) (0.6.2)\n",
            "Requirement already satisfied: nvidia-nccl-cu12==2.21.5 in /usr/local/lib/python3.11/dist-packages (from torch>=2.0.0->torchmetrics) (2.21.5)\n",
            "Requirement already satisfied: nvidia-nvtx-cu12==12.4.127 in /usr/local/lib/python3.11/dist-packages (from torch>=2.0.0->torchmetrics) (12.4.127)\n",
            "Requirement already satisfied: nvidia-nvjitlink-cu12==12.4.127 in /usr/local/lib/python3.11/dist-packages (from torch>=2.0.0->torchmetrics) (12.4.127)\n",
            "Requirement already satisfied: triton==3.2.0 in /usr/local/lib/python3.11/dist-packages (from torch>=2.0.0->torchmetrics) (3.2.0)\n",
            "Requirement already satisfied: sympy==1.13.1 in /usr/local/lib/python3.11/dist-packages (from torch>=2.0.0->torchmetrics) (1.13.1)\n",
            "Requirement already satisfied: mpmath<1.4,>=1.1.0 in /usr/local/lib/python3.11/dist-packages (from sympy==1.13.1->torch>=2.0.0->torchmetrics) (1.3.0)\n",
            "Requirement already satisfied: MarkupSafe>=2.0 in /usr/local/lib/python3.11/dist-packages (from jinja2->torch>=2.0.0->torchmetrics) (3.0.2)\n",
            "Requirement already satisfied: fvcore in /usr/local/lib/python3.11/dist-packages (0.1.5.post20221221)\n",
            "Requirement already satisfied: numpy in /usr/local/lib/python3.11/dist-packages (from fvcore) (2.0.2)\n",
            "Requirement already satisfied: yacs>=0.1.6 in /usr/local/lib/python3.11/dist-packages (from fvcore) (0.1.8)\n",
            "Requirement already satisfied: pyyaml>=5.1 in /usr/local/lib/python3.11/dist-packages (from fvcore) (6.0.2)\n",
            "Requirement already satisfied: tqdm in /usr/local/lib/python3.11/dist-packages (from fvcore) (4.67.1)\n",
            "Requirement already satisfied: termcolor>=1.1 in /usr/local/lib/python3.11/dist-packages (from fvcore) (2.5.0)\n",
            "Requirement already satisfied: Pillow in /usr/local/lib/python3.11/dist-packages (from fvcore) (11.1.0)\n",
            "Requirement already satisfied: tabulate in /usr/local/lib/python3.11/dist-packages (from fvcore) (0.9.0)\n",
            "Requirement already satisfied: iopath>=0.1.7 in /usr/local/lib/python3.11/dist-packages (from fvcore) (0.1.10)\n",
            "Requirement already satisfied: typing-extensions in /usr/local/lib/python3.11/dist-packages (from iopath>=0.1.7->fvcore) (4.12.2)\n",
            "Requirement already satisfied: portalocker in /usr/local/lib/python3.11/dist-packages (from iopath>=0.1.7->fvcore) (3.1.1)\n"
          ]
        }
      ]
    },
    {
      "cell_type": "code",
      "execution_count": 2,
      "metadata": {
        "colab": {
          "base_uri": "https://localhost:8080/"
        },
        "id": "r8lChuFCsmFi",
        "outputId": "1cae29ba-ff50-4312-b33d-2cf0ddd8d1fb"
      },
      "outputs": [
        {
          "output_type": "stream",
          "name": "stdout",
          "text": [
            "fatal: destination path 'AML_2025_project4' already exists and is not an empty directory.\n",
            "Drive already mounted at /content/drive; to attempt to forcibly remount, call drive.mount(\"/content/drive\", force_remount=True).\n"
          ]
        }
      ],
      "source": [
        "from google.colab import drive\n",
        "import os\n",
        "\n",
        "!git clone -b angelo --single-branch https://github.com/AngeloBongiorno/AML_2025_project4.git\n",
        "\n",
        "!cp AML_2025_project4/utils.py .\n",
        "\n",
        "drive.mount('/content/drive')"
      ]
    },
    {
      "cell_type": "code",
      "execution_count": 3,
      "metadata": {
        "colab": {
          "base_uri": "https://localhost:8080/"
        },
        "id": "laEb8KOytCpo",
        "outputId": "0ed5e8c0-d8c9-464b-f912-4dabad6b1240"
      },
      "outputs": [
        {
          "output_type": "stream",
          "name": "stdout",
          "text": [
            "Skipping extraction for training, already extracted.\n",
            "Skipping extraction for validation, already extracted.\n",
            "Extraction check completed!\n"
          ]
        }
      ],
      "source": [
        "import tqdm\n",
        "import zipfile\n",
        "import os\n",
        "\n",
        "# ZIP files paths on Google Drive\n",
        "zip_files = {\n",
        "    \"training\": \"/content/drive/My Drive/AML_project/Train.zip\",\n",
        "    \"validation\": \"/content/drive/My Drive/AML_project/Val.zip\",\n",
        "    #\"test\": \"/content/drive/My Drive/AML_project/Test.zip\"\n",
        "}\n",
        "\n",
        "# Destination directory on Colab\n",
        "extract_path = \"/content/dataset\"\n",
        "\n",
        "# Create the directory if it doesn't exist\n",
        "os.makedirs(extract_path, exist_ok=True)\n",
        "\n",
        "\n",
        "for name, zip_path in zip_files.items():\n",
        "    extract_dir = f\"{extract_path}/{name}\"\n",
        "\n",
        "    # Check if the directory is non-empty (assumes extraction is complete if the folder has files)\n",
        "    if os.path.exists(extract_dir) and any(os.scandir(extract_dir)):\n",
        "        print(f\"Skipping extraction for {name}, already extracted.\")\n",
        "    else:\n",
        "        print(f\"Extracting {name}...\")\n",
        "        with zipfile.ZipFile(zip_path, 'r') as zip_ref:\n",
        "            zip_ref.extractall(extract_dir)\n",
        "        print(f\"{name} extracted!\")\n",
        "\n",
        "print(\"Extraction check completed!\")\n",
        "\n",
        "TRAINING_PATH_URBAN = os.path.join(extract_path, \"training\", \"Train\", \"Urban\")\n",
        "TRAINING_PATH_RURAL = os.path.join(extract_path, \"training\", \"Train\", \"Rural\")\n",
        "#TEST_PATH_URBAN = os.path.join(extract_path, \"test\", \"Test\", \"Urban\")\n",
        "#TEST_PATH_RURAL = os.path.join(extract_path, \"test\", \"Test\", \"Rural\")\n",
        "VAL_PATH_URBAN = os.path.join(extract_path, \"validation\", \"Val\", \"Urban\")\n",
        "VAL_PATH_RURAL = os.path.join(extract_path, \"validation\", \"Val\", \"Rural\")"
      ]
    },
    {
      "cell_type": "markdown",
      "metadata": {
        "id": "UrjECeMs7Sc5"
      },
      "source": [
        "## Load DeepLab v2 PreTrained Weight"
      ]
    },
    {
      "cell_type": "markdown",
      "source": [
        "Crea la cartella model e inserisce il modello DeepLabv2\n"
      ],
      "metadata": {
        "id": "sR3Z1csCiZ60"
      }
    },
    {
      "cell_type": "code",
      "source": [
        "import requests\n",
        "from pathlib import Path\n",
        "\n",
        "models_dir = Path(\"models\")\n",
        "deeplab_file = models_dir / \"DeepLab_v2.py\"\n",
        "\n",
        "models_dir.mkdir(parents=True, exist_ok=True)\n",
        "\n",
        "if deeplab_file.is_file():\n",
        "    print(\"DeepLab-v2.py already exists in 'models/' folder, skipping download.\")\n",
        "else:\n",
        "    print(\"Downloading DeepLab-v2.py to 'models/' folder.\")\n",
        "\n",
        "    url = \"https://raw.githubusercontent.com/Gabrysse/MLDL2024_project1/refs/heads/master/models/deeplabv2/deeplabv2.py\"\n",
        "    response = requests.get(url)\n",
        "\n",
        "    if response.status_code == 200:\n",
        "        with open(deeplab_file, \"wb\") as f:\n",
        "            f.write(response.content)\n",
        "        print(\"Download completed successfully!\")\n",
        "    else:\n",
        "        print(f\"Failed to download file. HTTP Status Code: {response.status_code}\")\n"
      ],
      "metadata": {
        "colab": {
          "base_uri": "https://localhost:8080/"
        },
        "id": "OYBJp19mMan8",
        "outputId": "9f741d00-d2d7-4cac-d68d-9d7ba4f22d57"
      },
      "execution_count": 4,
      "outputs": [
        {
          "output_type": "stream",
          "name": "stdout",
          "text": [
            "DeepLab-v2.py already exists in 'models/' folder, skipping download.\n"
          ]
        }
      ]
    },
    {
      "cell_type": "code",
      "source": [
        "import sys\n",
        "from pathlib import Path\n",
        "\n",
        "models_dir = Path(\"models\")\n",
        "sys.path.append(str(models_dir))\n",
        "\n",
        "from DeepLab_v2 import get_deeplab_v2  # Esempio di import di una funzione\n"
      ],
      "metadata": {
        "id": "fiVP4lOOO_e8"
      },
      "execution_count": 5,
      "outputs": []
    },
    {
      "cell_type": "markdown",
      "source": [
        "Implementazione del dataloader"
      ],
      "metadata": {
        "id": "dw9SYUCgi6us"
      }
    },
    {
      "cell_type": "code",
      "execution_count": 6,
      "metadata": {
        "id": "T6kSW8hGjAo9"
      },
      "outputs": [],
      "source": [
        "import os\n",
        "import torch\n",
        "from torch.utils.data import Dataset, DataLoader\n",
        "from torchvision import transforms\n",
        "from PIL import Image\n",
        "import numpy as np\n",
        "\n",
        "RESIZE = (512, 512)\n",
        "\n",
        "SEM_CLASSES = [\n",
        "    'background',\n",
        "    'building',\n",
        "    'road',\n",
        "    'water',\n",
        "    'barren',\n",
        "    'forest',\n",
        "    'agriculture'\n",
        "]\n",
        "\n",
        "NUM_CLASSES = len(SEM_CLASSES)\n",
        "\n",
        "sem_class_to_idx = {cls: idx for (idx, cls) in enumerate(SEM_CLASSES)}\n",
        "\n",
        "\n",
        "class SegmentationDataset(Dataset):\n",
        "    def __init__(self, image_dir, mask_dir, transform=None, target_transform=None):\n",
        "        self.image_dir = image_dir\n",
        "        self.mask_dir = mask_dir\n",
        "        self.transform = transform\n",
        "        self.target_transform = target_transform\n",
        "        self.image_filenames = sorted(os.listdir(image_dir))\n",
        "        self.mask_filenames = sorted(os.listdir(mask_dir))\n",
        "\n",
        "    def __len__(self):\n",
        "        return len(self.image_filenames)\n",
        "\n",
        "    def __getitem__(self, idx):\n",
        "        img_path = os.path.join(self.image_dir, self.image_filenames[idx])\n",
        "        mask_path = os.path.join(self.mask_dir, self.mask_filenames[idx])\n",
        "\n",
        "        image = Image.open(img_path).convert(\"RGB\")  # Assicura che sia RGB\n",
        "        mask = Image.open(mask_path).convert(\"L\")  # Converti la maschera in scala di grigi (1 canale)\n",
        "\n",
        "        if self.transform:\n",
        "            image = self.transform(image)\n",
        "\n",
        "        if self.target_transform:\n",
        "          mask = self.target_transform(mask)\n",
        "\n",
        "        mask = torch.as_tensor(np.array(mask), dtype=torch.int64) - 1\n",
        "\n",
        "        return image, mask  # Return (image, mask) pair\n",
        "\n",
        "# Define transformations for images & masks\n",
        "image_transform = transforms.Compose([\n",
        "    transforms.Resize(RESIZE, interpolation=Image.BILINEAR),  # Resize images to 256x256\n",
        "    transforms.ToTensor(),  # Convert image to tensor\n",
        "])\n",
        "\n",
        "mask_transform = transforms.Compose([\n",
        "    transforms.Resize(RESIZE, interpolation=Image.NEAREST),  # Resize masks to 256x256\n",
        "])\n",
        "\n",
        "# Create dataset objects\n",
        "train_dataset_urban = SegmentationDataset(TRAINING_PATH_URBAN + \"/images_png\", TRAINING_PATH_URBAN + \"/masks_png\",\n",
        "                                    transform=image_transform, target_transform=mask_transform)\n",
        "val_dataset_urban = SegmentationDataset(VAL_PATH_URBAN + \"/images_png\", VAL_PATH_URBAN + \"/masks_png\",\n",
        "                                  transform=image_transform, target_transform= mask_transform)\n",
        "\n",
        "BATCH_SIZE = 32\n",
        "\n",
        "# Create DataLoaders\n",
        "train_loader = DataLoader(train_dataset_urban, batch_size=BATCH_SIZE, shuffle=True, num_workers=4)\n",
        "val_loader = DataLoader(val_dataset_urban, batch_size=BATCH_SIZE, shuffle=False, num_workers=4)"
      ]
    },
    {
      "cell_type": "code",
      "execution_count": 7,
      "metadata": {
        "colab": {
          "base_uri": "https://localhost:8080/"
        },
        "collapsed": true,
        "id": "dAOHY95Q7Tl8",
        "outputId": "349ecc56-88f0-4ea0-dac3-d3a002860aa0"
      },
      "outputs": [
        {
          "output_type": "stream",
          "name": "stdout",
          "text": [
            "/content\n",
            "Deeplab pretraining loading...\n"
          ]
        }
      ],
      "source": [
        "from pathlib import Path\n",
        "import sys\n",
        "\n",
        "print(os.getcwd())\n",
        "\n",
        "# Aggiungi la cartella che contiene 'models' al sys.path\n",
        "sys.path.append(str(Path('/content/deeplab-pytorch/deeplab-pytorch/MLDL2024_project1/test')))\n",
        "\n",
        "# Path of the model\n",
        "model_path = Path(\"/content/drive/MyDrive/AML_project/deeplab_resnet_pretrained_imagenet.pth\")\n",
        "\n",
        "# Loading the model using DeepLab v2\n",
        "model = get_deeplab_v2(num_classes=NUM_CLASSES, pretrain=True, pretrain_model_path=model_path)"
      ]
    },
    {
      "cell_type": "markdown",
      "metadata": {
        "id": "MSQUcy7_t2of"
      },
      "source": [
        "## Training Phase"
      ]
    },
    {
      "cell_type": "code",
      "execution_count": 8,
      "metadata": {
        "colab": {
          "base_uri": "https://localhost:8080/"
        },
        "id": "bAbmz5Cz4I4H",
        "outputId": "c07f8784-b907-4d0f-83f8-565b984cfcfa"
      },
      "outputs": [
        {
          "output_type": "stream",
          "name": "stdout",
          "text": [
            "cuda\n"
          ]
        }
      ],
      "source": [
        "device = torch.device(\"cuda\" if torch.cuda.is_available() else \"cpu\")\n",
        "model = model.to(device)\n",
        "print(device);"
      ]
    },
    {
      "cell_type": "code",
      "execution_count": 9,
      "metadata": {
        "id": "zCKqjLctlmFC"
      },
      "outputs": [],
      "source": [
        "loss_fn = torch.nn.CrossEntropyLoss(ignore_index= -1)\n",
        "optimizer = torch.optim.SGD(model.parameters(), lr=0.01)\n",
        "#optimizer = torch.optim.Adam(model.parameters(), lr=0.01)"
      ]
    },
    {
      "cell_type": "code",
      "execution_count": 10,
      "metadata": {
        "id": "3x4vYHX5p_dd",
        "colab": {
          "base_uri": "https://localhost:8080/"
        },
        "outputId": "a8d5be8f-1364-4b5e-d5dd-dd6b858106f8"
      },
      "outputs": [
        {
          "output_type": "stream",
          "name": "stdout",
          "text": [
            "Epoch 1/20 | Training Loss: 1.5940611169144914 | Validation Loss: 431.6046572598544 | mIoU: 0.1370\n",
            "Epoch 2/20 | Training Loss: 1.5028317232389707 | Validation Loss: 2.8932714353908193 | mIoU: 0.0065\n",
            "Epoch 3/20 | Training Loss: 1.4178824166993838 | Validation Loss: 2.6257660497318613 | mIoU: 0.0086\n",
            "Epoch 4/20 | Training Loss: 1.374615881894086 | Validation Loss: 2.372098998589949 | mIoU: 0.0881\n",
            "Epoch 5/20 | Training Loss: 1.3411206329191052 | Validation Loss: 2.221284356984225 | mIoU: 0.1918\n",
            "Epoch 6/20 | Training Loss: 1.2960348387022276 | Validation Loss: 2.2425508932633833 | mIoU: 0.2013\n",
            "Epoch 7/20 | Training Loss: 1.2652118657086346 | Validation Loss: 2.2654813636432993 | mIoU: 0.1770\n",
            "Epoch 8/20 | Training Loss: 1.2345074028582186 | Validation Loss: 2.353178761222146 | mIoU: 0.0965\n",
            "Epoch 9/20 | Training Loss: 1.1882221956510801 | Validation Loss: 2.1574360619891775 | mIoU: 0.2336\n",
            "Epoch 10/20 | Training Loss: 1.1591724318427008 | Validation Loss: 2.26748695156791 | mIoU: 0.1787\n",
            "Epoch 11/20 | Training Loss: 1.132465446317518 | Validation Loss: 2.0799681435931814 | mIoU: 0.1951\n",
            "Epoch 12/20 | Training Loss: 1.1006104768933476 | Validation Loss: 2.279505794698542 | mIoU: 0.2041\n",
            "Epoch 13/20 | Training Loss: 1.0721193697001483 | Validation Loss: 2.3121525157581675 | mIoU: 0.1496\n",
            "Epoch 14/20 | Training Loss: 1.0444637601440017 | Validation Loss: 2.3078385158018633 | mIoU: 0.2309\n",
            "Epoch 15/20 | Training Loss: 1.0492170630274593 | Validation Loss: 2.4330138835040005 | mIoU: 0.1216\n",
            "Epoch 16/20 | Training Loss: 1.0171872119645815 | Validation Loss: 2.5008119453083384 | mIoU: 0.1133\n",
            "Epoch 17/20 | Training Loss: 1.0043533750482507 | Validation Loss: 2.319719834761186 | mIoU: 0.2000\n",
            "Epoch 18/20 | Training Loss: 0.9910794206567712 | Validation Loss: 2.611476844007319 | mIoU: 0.1137\n",
            "Epoch 19/20 | Training Loss: 0.9791641638085649 | Validation Loss: 2.4947403127496894 | mIoU: 0.1762\n",
            "Epoch 20/20 | Training Loss: 0.965899105007584 | Validation Loss: 2.431085705757141 | mIoU: 0.2194\n"
          ]
        }
      ],
      "source": [
        "from tqdm import tqdm\n",
        "import torch\n",
        "from torchmetrics.segmentation import MeanIoU\n",
        "\n",
        "from utils import train_step, validation_step\n",
        "\n",
        "os.makedirs(\"/content/drive/MyDrive/AML_project/checkpoints\", exist_ok=True)\n",
        "\n",
        "EPOCHS = 20\n",
        "torch.manual_seed(42)\n",
        "\n",
        "miou = MeanIoU(num_classes=NUM_CLASSES).to(device)\n",
        "\n",
        "\n",
        "for epoch in range(EPOCHS):\n",
        "\n",
        "  avg_train_loss = train_step(model=model,\n",
        "               optimizer=optimizer,\n",
        "               loss_fn=loss_fn,\n",
        "               train_loader=train_loader,\n",
        "               device=device,\n",
        "               epoch=epoch,\n",
        "               EPOCHS=EPOCHS\n",
        "               )\n",
        "\n",
        "    # Valutazione del modello\n",
        "\n",
        "  avg_val_loss, miou_score = validation_step(model=model,\n",
        "                                             val_loader=val_loader,\n",
        "                                             loss_fn=loss_fn,\n",
        "                                             device=device,\n",
        "                                             miou=miou)\n",
        "\n",
        "  print(f\"Epoch {epoch+1}/{EPOCHS} | Training Loss: {avg_train_loss} | Validation Loss: {avg_val_loss} | mIoU: {miou_score:.4f}\")\n",
        "\n",
        "  \"\"\"\n",
        "  # Salva il modello ogni 2 epoche\n",
        "  if (epoch + 1) % 2 == 0:\n",
        "      checkpoint_path = f\"/content/drive/MyDrive/AML_project/checkpoints/model_epoch_{epoch+1}.pth\"\n",
        "      torch.save(model.state_dict(), checkpoint_path)\n",
        "      print(f\"Modello salvato: {checkpoint_path}\")\n",
        "  \"\"\""
      ]
    },
    {
      "cell_type": "code",
      "source": [
        "import importlib\n",
        "import utils  # Replace with the actual module name\n",
        "\n",
        "importlib.reload(utils)"
      ],
      "metadata": {
        "id": "8DEAI7hiar0m",
        "outputId": "ba6c758a-7cf1-4634-f322-103b29e7f3a7",
        "colab": {
          "base_uri": "https://localhost:8080/"
        }
      },
      "execution_count": 13,
      "outputs": [
        {
          "output_type": "execute_result",
          "data": {
            "text/plain": [
              "<module 'utils' from '/content/utils.py'>"
            ]
          },
          "metadata": {},
          "execution_count": 13
        }
      ]
    },
    {
      "cell_type": "code",
      "source": [
        "from timeit import default_timer as timer\n",
        "import matplotlib.pyplot as plt\n",
        "from fvcore.nn import FlopCountAnalysis\n",
        "import random\n",
        "\n",
        "from utils import show\n",
        "\n",
        "model.eval()  # Set model to evaluation mode\n",
        "\n",
        "with torch.inference_mode():\n",
        "    random_index = random.randint(0, len(val_dataset_urban) - 1)\n",
        "    X, y = val_dataset_urban[random_index]\n",
        "    X = X.to(device).unsqueeze(dim=0)  # Aggiunge la dimensione batch\n",
        "    y = y.to(device)\n",
        "\n",
        "    start = timer()\n",
        "    output = model(X)\n",
        "    end = timer()\n",
        "\n",
        "    latency = end - start\n",
        "\n",
        "flops = FlopCountAnalysis(model, X.clone())\n",
        "\n",
        "\n",
        "normalized_masks = torch.nn.functional.softmax(output, dim=1)\n",
        "\n",
        "\n",
        "\n",
        "masks = [\n",
        "    normalized_masks[img_idx, sem_class_to_idx[cls]]\n",
        "    for img_idx in range(1)\n",
        "    for cls in SEM_CLASSES\n",
        "]\n",
        "\n",
        "show(masks)\n",
        "\n",
        "print(\"*********\")\n",
        "\n",
        "\n",
        "print(f\"FLOPs: {flops.total() / 1e9:.3f} GFLOPs\")\n",
        "print(f\"Average inference latency is {latency:.3f} seconds.\")\n",
        "\n",
        "# Converti output e ground truth per la visualizzazione\n",
        "out = output.squeeze().argmax(dim=0).cpu().numpy()  # Output segmentazione\n",
        "y_np = y.squeeze().cpu().numpy()  # Ground truth\n",
        "X_np = X.squeeze().cpu().permute(1, 2, 0).numpy()  # Immagine originale\n",
        "\n",
        "# Creazione della figura con tre immagini affiancate\n",
        "fig, axes = plt.subplots(1, 3, figsize=(15, 5))\n",
        "\n",
        "# Immagine originale\n",
        "axes[0].imshow(X_np)\n",
        "axes[0].set_title(\"Original Image\")\n",
        "axes[0].axis(\"off\")\n",
        "\n",
        "# Predizione del modello\n",
        "axes[1].imshow(out, cmap=\"gray\")\n",
        "axes[1].set_title(\"Predicted Segmentation\")\n",
        "axes[1].axis(\"off\")\n",
        "\n",
        "# Ground truth\n",
        "axes[2].imshow(y_np, cmap=\"gray\")\n",
        "axes[2].set_title(\"Ground Truth\")\n",
        "axes[2].axis(\"off\")\n",
        "\n",
        "plt.show()\n",
        "\n",
        "# Conta i parametri del modello\n",
        "params = sum(p.numel() for p in model.parameters())\n",
        "print(f\"Params: {params / 1e6:.3f} M\")\n"
      ],
      "metadata": {
        "id": "bRByJkGflhLX",
        "colab": {
          "base_uri": "https://localhost:8080/",
          "height": 444
        },
        "outputId": "fe25c73d-fa2d-40f0-dc0d-8ec6ea47df8b"
      },
      "execution_count": 14,
      "outputs": [
        {
          "output_type": "stream",
          "name": "stdout",
          "text": [
            "*********\n"
          ]
        },
        {
          "output_type": "stream",
          "name": "stderr",
          "text": [
            "WARNING:fvcore.nn.jit_analysis:Unsupported operator aten::max_pool2d encountered 1 time(s)\n",
            "WARNING:fvcore.nn.jit_analysis:Unsupported operator aten::add_ encountered 36 time(s)\n"
          ]
        },
        {
          "output_type": "stream",
          "name": "stdout",
          "text": [
            "FLOPs: 0.391 GFLOPs\n",
            "Average inference latency is 0.047 seconds.\n"
          ]
        },
        {
          "output_type": "display_data",
          "data": {
            "text/plain": [
              "<Figure size 640x480 with 7 Axes>"
            ],
            "image/png": "[encoded data removed]"
          },
          "metadata": {}
        },
        {
          "output_type": "display_data",
          "data": {
            "text/plain": [
              "<Figure size 1500x500 with 3 Axes>"
            ],
            "image/png": "[encoded data removed]"
          },
          "metadata": {}
        },
        {
          "output_type": "stream",
          "name": "stdout",
          "text": [
            "Params: 43.016 M\n"
          ]
        }
      ]
    }
  ],
  "metadata": {
    "colab": {
      "machine_shape": "hm",
      "provenance": [],
      "gpuType": "L4",
      "include_colab_link": true
    },
    "kernelspec": {
      "display_name": "Python 3",
      "name": "python3"
    },
    "language_info": {
      "name": "python"
    },
    "accelerator": "GPU"
  },
  "nbformat": 4,
  "nbformat_minor": 0
}