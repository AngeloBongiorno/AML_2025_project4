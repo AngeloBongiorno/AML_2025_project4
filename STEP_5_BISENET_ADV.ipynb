{
  "cells": [
    {
      "cell_type": "markdown",
      "metadata": {
        "id": "view-in-github",
        "colab_type": "text"
      },
      "source": [
        "<a href=\"https://colab.research.google.com/github/AngeloBongiorno/AML_2025_project4/blob/angelo/STEP_5_BISENET_ADV.ipynb\" target=\"_parent\"><img src=\"https://colab.research.google.com/assets/colab-badge.svg\" alt=\"Open In Colab\"/></a>"
      ]
    },
    {
      "cell_type": "markdown",
      "metadata": {
        "id": "K7QJviwzoN5m"
      },
      "source": [
        "## Install Dependencies"
      ]
    },
    {
      "cell_type": "markdown",
      "metadata": {
        "id": "rHpwU5g8s-Pt"
      },
      "source": [
        "## Upload .zip files"
      ]
    },
    {
      "cell_type": "markdown",
      "metadata": {
        "id": "O2_aVBiH46K3"
      },
      "source": [
        "For this step you must have the zip files in your Drive into a folder called `AML_project`"
      ]
    },
    {
      "cell_type": "code",
      "execution_count": 16,
      "metadata": {
        "colab": {
          "base_uri": "https://localhost:8080/"
        },
        "collapsed": true,
        "id": "xxVbeep6Rlnb",
        "outputId": "a64f9040-7289-46b4-f05f-7a5e7246c092"
      },
      "outputs": [
        {
          "output_type": "stream",
          "name": "stdout",
          "text": [
            "Requirement already satisfied: torchmetrics in /usr/local/lib/python3.11/dist-packages (1.7.1)\n",
            "Requirement already satisfied: numpy>1.20.0 in /usr/local/lib/python3.11/dist-packages (from torchmetrics) (2.0.2)\n",
            "Requirement already satisfied: packaging>17.1 in /usr/local/lib/python3.11/dist-packages (from torchmetrics) (24.2)\n",
            "Requirement already satisfied: torch>=2.0.0 in /usr/local/lib/python3.11/dist-packages (from torchmetrics) (2.6.0+cu124)\n",
            "Requirement already satisfied: lightning-utilities>=0.8.0 in /usr/local/lib/python3.11/dist-packages (from torchmetrics) (0.14.3)\n",
            "Requirement already satisfied: setuptools in /usr/local/lib/python3.11/dist-packages (from lightning-utilities>=0.8.0->torchmetrics) (75.2.0)\n",
            "Requirement already satisfied: typing_extensions in /usr/local/lib/python3.11/dist-packages (from lightning-utilities>=0.8.0->torchmetrics) (4.13.2)\n",
            "Requirement already satisfied: filelock in /usr/local/lib/python3.11/dist-packages (from torch>=2.0.0->torchmetrics) (3.18.0)\n",
            "Requirement already satisfied: networkx in /usr/local/lib/python3.11/dist-packages (from torch>=2.0.0->torchmetrics) (3.4.2)\n",
            "Requirement already satisfied: jinja2 in /usr/local/lib/python3.11/dist-packages (from torch>=2.0.0->torchmetrics) (3.1.6)\n",
            "Requirement already satisfied: fsspec in /usr/local/lib/python3.11/dist-packages (from torch>=2.0.0->torchmetrics) (2025.3.2)\n",
            "Requirement already satisfied: nvidia-cuda-nvrtc-cu12==12.4.127 in /usr/local/lib/python3.11/dist-packages (from torch>=2.0.0->torchmetrics) (12.4.127)\n",
            "Requirement already satisfied: nvidia-cuda-runtime-cu12==12.4.127 in /usr/local/lib/python3.11/dist-packages (from torch>=2.0.0->torchmetrics) (12.4.127)\n",
            "Requirement already satisfied: nvidia-cuda-cupti-cu12==12.4.127 in /usr/local/lib/python3.11/dist-packages (from torch>=2.0.0->torchmetrics) (12.4.127)\n",
            "Requirement already satisfied: nvidia-cudnn-cu12==9.1.0.70 in /usr/local/lib/python3.11/dist-packages (from torch>=2.0.0->torchmetrics) (9.1.0.70)\n",
            "Requirement already satisfied: nvidia-cublas-cu12==12.4.5.8 in /usr/local/lib/python3.11/dist-packages (from torch>=2.0.0->torchmetrics) (12.4.5.8)\n",
            "Requirement already satisfied: nvidia-cufft-cu12==11.2.1.3 in /usr/local/lib/python3.11/dist-packages (from torch>=2.0.0->torchmetrics) (11.2.1.3)\n",
            "Requirement already satisfied: nvidia-curand-cu12==10.3.5.147 in /usr/local/lib/python3.11/dist-packages (from torch>=2.0.0->torchmetrics) (10.3.5.147)\n",
            "Requirement already satisfied: nvidia-cusolver-cu12==11.6.1.9 in /usr/local/lib/python3.11/dist-packages (from torch>=2.0.0->torchmetrics) (11.6.1.9)\n",
            "Requirement already satisfied: nvidia-cusparse-cu12==12.3.1.170 in /usr/local/lib/python3.11/dist-packages (from torch>=2.0.0->torchmetrics) (12.3.1.170)\n",
            "Requirement already satisfied: nvidia-cusparselt-cu12==0.6.2 in /usr/local/lib/python3.11/dist-packages (from torch>=2.0.0->torchmetrics) (0.6.2)\n",
            "Requirement already satisfied: nvidia-nccl-cu12==2.21.5 in /usr/local/lib/python3.11/dist-packages (from torch>=2.0.0->torchmetrics) (2.21.5)\n",
            "Requirement already satisfied: nvidia-nvtx-cu12==12.4.127 in /usr/local/lib/python3.11/dist-packages (from torch>=2.0.0->torchmetrics) (12.4.127)\n",
            "Requirement already satisfied: nvidia-nvjitlink-cu12==12.4.127 in /usr/local/lib/python3.11/dist-packages (from torch>=2.0.0->torchmetrics) (12.4.127)\n",
            "Requirement already satisfied: triton==3.2.0 in /usr/local/lib/python3.11/dist-packages (from torch>=2.0.0->torchmetrics) (3.2.0)\n",
            "Requirement already satisfied: sympy==1.13.1 in /usr/local/lib/python3.11/dist-packages (from torch>=2.0.0->torchmetrics) (1.13.1)\n",
            "Requirement already satisfied: mpmath<1.4,>=1.1.0 in /usr/local/lib/python3.11/dist-packages (from sympy==1.13.1->torch>=2.0.0->torchmetrics) (1.3.0)\n",
            "Requirement already satisfied: MarkupSafe>=2.0 in /usr/local/lib/python3.11/dist-packages (from jinja2->torch>=2.0.0->torchmetrics) (3.0.2)\n",
            "Requirement already satisfied: fvcore in /usr/local/lib/python3.11/dist-packages (0.1.5.post20221221)\n",
            "Requirement already satisfied: numpy in /usr/local/lib/python3.11/dist-packages (from fvcore) (2.0.2)\n",
            "Requirement already satisfied: yacs>=0.1.6 in /usr/local/lib/python3.11/dist-packages (from fvcore) (0.1.8)\n",
            "Requirement already satisfied: pyyaml>=5.1 in /usr/local/lib/python3.11/dist-packages (from fvcore) (6.0.2)\n",
            "Requirement already satisfied: tqdm in /usr/local/lib/python3.11/dist-packages (from fvcore) (4.67.1)\n",
            "Requirement already satisfied: termcolor>=1.1 in /usr/local/lib/python3.11/dist-packages (from fvcore) (3.1.0)\n",
            "Requirement already satisfied: Pillow in /usr/local/lib/python3.11/dist-packages (from fvcore) (11.2.1)\n",
            "Requirement already satisfied: tabulate in /usr/local/lib/python3.11/dist-packages (from fvcore) (0.9.0)\n",
            "Requirement already satisfied: iopath>=0.1.7 in /usr/local/lib/python3.11/dist-packages (from fvcore) (0.1.10)\n",
            "Requirement already satisfied: typing-extensions in /usr/local/lib/python3.11/dist-packages (from iopath>=0.1.7->fvcore) (4.13.2)\n",
            "Requirement already satisfied: portalocker in /usr/local/lib/python3.11/dist-packages (from iopath>=0.1.7->fvcore) (3.1.1)\n"
          ]
        }
      ],
      "source": [
        "!pip install torchmetrics\n",
        "!pip install fvcore"
      ]
    },
    {
      "cell_type": "code",
      "execution_count": 17,
      "metadata": {
        "colab": {
          "base_uri": "https://localhost:8080/"
        },
        "id": "z2LFD5EkeGs3",
        "outputId": "690cab64-1769-4b70-8e43-30b045b702c2"
      },
      "outputs": [
        {
          "output_type": "stream",
          "name": "stdout",
          "text": [
            "fatal: destination path 'AML_2025_project4' already exists and is not an empty directory.\n",
            "Drive already mounted at /content/drive; to attempt to forcibly remount, call drive.mount(\"/content/drive\", force_remount=True).\n"
          ]
        }
      ],
      "source": [
        "from google.colab import drive\n",
        "import os\n",
        "\n",
        "!git clone -b angelo_albumentations --single-branch https://github.com/AngeloBongiorno/AML_2025_project4.git\n",
        "\n",
        "!cp AML_2025_project4/utils.py .\n",
        "\n",
        "drive.mount('/content/drive')"
      ]
    },
    {
      "cell_type": "code",
      "execution_count": 18,
      "metadata": {
        "colab": {
          "base_uri": "https://localhost:8080/"
        },
        "id": "CvdkrFwFI0Qs",
        "outputId": "9ec314a2-3713-4f7e-e7a6-02da5ca42e65"
      },
      "outputs": [
        {
          "output_type": "execute_result",
          "data": {
            "text/plain": [
              "<module 'utils' from '/content/utils.py'>"
            ]
          },
          "metadata": {},
          "execution_count": 18
        }
      ],
      "source": [
        "import importlib\n",
        "import utils  # Replace with the actual module name\n",
        "\n",
        "importlib.reload(utils)"
      ]
    },
    {
      "cell_type": "code",
      "execution_count": 19,
      "metadata": {
        "colab": {
          "base_uri": "https://localhost:8080/"
        },
        "id": "laEb8KOytCpo",
        "outputId": "0aad70f5-e61a-4ab9-e800-a7132611c053"
      },
      "outputs": [
        {
          "output_type": "stream",
          "name": "stdout",
          "text": [
            "Skipping extraction for the dataset, already extracted.\n",
            "{'training_urban': '/content/dataset/Train/Urban', 'training_rural': '/content/dataset/Train/Rural', 'validation_urban': '/content/dataset/Val/Urban', 'validation_rural': '/content/dataset/Val/Rural'}\n"
          ]
        }
      ],
      "source": [
        "import tqdm\n",
        "\n",
        "from utils import get_loveDA\n",
        "\n",
        "paths = get_loveDA(verbose=True)\n",
        "print(paths)\n",
        "\n",
        "TRAINING_PATH_URBAN = paths[\"training_urban\"]\n",
        "TRAINING_PATH_RURAL = paths[\"training_rural\"]\n",
        "VAL_PATH_URBAN = paths[\"validation_urban\"]\n",
        "VAL_PATH_RURAL = paths[\"validation_rural\"]"
      ]
    },
    {
      "cell_type": "code",
      "source": [
        "SEM_CLASSES = [\n",
        "    'background',\n",
        "    'building',\n",
        "    'road',\n",
        "    'water',\n",
        "    'barren',\n",
        "    'forest',\n",
        "    'agriculture'\n",
        "]\n",
        "\n",
        "NUM_CLASSES = len(SEM_CLASSES)\n",
        "\n",
        "sem_class_to_idx = {cls: idx for (idx, cls) in enumerate(SEM_CLASSES)}\n",
        "\n",
        "IGNORE_INDEX = -1\n",
        "\n",
        "RESIZE = 512\n",
        "\n",
        "BATCH_SIZE = 16\n",
        "\n",
        "EPOCHS = 20\n",
        "\n",
        "SEED = 42\n",
        "\n",
        "STEP_SIZE = 21\n",
        "\n",
        "GAMMA = 0.5\n",
        "\n",
        "LR = 0.00053\n",
        "LR_D = 0.0000027\n",
        "LAMBDA_ADV_TARGET = 0.0074\n",
        "LAMBDA_SEG = 0.45\n",
        "P = 0.5 # probabilità augmentation\n",
        "\n",
        "\n",
        "IMG_SHOW = False"
      ],
      "metadata": {
        "id": "VJdiPeF5idkI"
      },
      "execution_count": 20,
      "outputs": []
    },
    {
      "cell_type": "markdown",
      "source": [
        "# Define networks"
      ],
      "metadata": {
        "id": "dAYUGwGYiFGi"
      }
    },
    {
      "cell_type": "markdown",
      "metadata": {
        "id": "UrjECeMs7Sc5"
      },
      "source": [
        "### Define BiSeNet"
      ]
    },
    {
      "cell_type": "code",
      "execution_count": 21,
      "metadata": {
        "id": "QWTXrB6FZo_G"
      },
      "outputs": [],
      "source": [
        "import torch\n",
        "import torch.nn as nn\n",
        "import torch.nn.functional as F\n",
        "import torch.utils.model_zoo as modelzoo\n",
        "\n",
        "backbone_url = 'https://github.com/CoinCheung/BiSeNet/releases/download/0.0.0/backbone_v2.pth'\n",
        "\n",
        "\n",
        "class ConvBNReLU(nn.Module):\n",
        "\n",
        "    def __init__(self, in_chan, out_chan, ks=3, stride=1, padding=1,\n",
        "                 dilation=1, groups=1, bias=False):\n",
        "        super(ConvBNReLU, self).__init__()\n",
        "        self.conv = nn.Conv2d(\n",
        "                in_chan, out_chan, kernel_size=ks, stride=stride,\n",
        "                padding=padding, dilation=dilation,\n",
        "                groups=groups, bias=bias)\n",
        "        self.bn = nn.BatchNorm2d(out_chan)\n",
        "        self.relu = nn.ReLU(inplace=True)\n",
        "\n",
        "    def forward(self, x):\n",
        "        feat = self.conv(x)\n",
        "        feat = self.bn(feat)\n",
        "        feat = self.relu(feat)\n",
        "        return feat\n",
        "\n",
        "\n",
        "class UpSample(nn.Module):\n",
        "\n",
        "    def __init__(self, n_chan, factor=2):\n",
        "        super(UpSample, self).__init__()\n",
        "        out_chan = n_chan * factor * factor\n",
        "        self.proj = nn.Conv2d(n_chan, out_chan, 1, 1, 0)\n",
        "        self.up = nn.PixelShuffle(factor)\n",
        "        self.init_weight()\n",
        "\n",
        "    def forward(self, x):\n",
        "        feat = self.proj(x)\n",
        "        feat = self.up(feat)\n",
        "        return feat\n",
        "\n",
        "    def init_weight(self):\n",
        "        nn.init.xavier_normal_(self.proj.weight, gain=1.)\n",
        "\n",
        "\n",
        "\n",
        "class DetailBranch(nn.Module):\n",
        "\n",
        "    def __init__(self):\n",
        "        super(DetailBranch, self).__init__()\n",
        "        self.S1 = nn.Sequential(\n",
        "            ConvBNReLU(3, 64, 3, stride=2),\n",
        "            ConvBNReLU(64, 64, 3, stride=1),\n",
        "        )\n",
        "        self.S2 = nn.Sequential(\n",
        "            ConvBNReLU(64, 64, 3, stride=2),\n",
        "            ConvBNReLU(64, 64, 3, stride=1),\n",
        "            ConvBNReLU(64, 64, 3, stride=1),\n",
        "        )\n",
        "        self.S3 = nn.Sequential(\n",
        "            ConvBNReLU(64, 128, 3, stride=2),\n",
        "            ConvBNReLU(128, 128, 3, stride=1),\n",
        "            ConvBNReLU(128, 128, 3, stride=1),\n",
        "        )\n",
        "\n",
        "    def forward(self, x):\n",
        "        feat = self.S1(x)\n",
        "        feat = self.S2(feat)\n",
        "        feat = self.S3(feat)\n",
        "        return feat\n",
        "\n",
        "\n",
        "class StemBlock(nn.Module):\n",
        "\n",
        "    def __init__(self):\n",
        "        super(StemBlock, self).__init__()\n",
        "        self.conv = ConvBNReLU(3, 16, 3, stride=2)\n",
        "        self.left = nn.Sequential(\n",
        "            ConvBNReLU(16, 8, 1, stride=1, padding=0),\n",
        "            ConvBNReLU(8, 16, 3, stride=2),\n",
        "        )\n",
        "        self.right = nn.MaxPool2d(\n",
        "            kernel_size=3, stride=2, padding=1, ceil_mode=False)\n",
        "        self.fuse = ConvBNReLU(32, 16, 3, stride=1)\n",
        "\n",
        "    def forward(self, x):\n",
        "        feat = self.conv(x)\n",
        "        feat_left = self.left(feat)\n",
        "        feat_right = self.right(feat)\n",
        "        feat = torch.cat([feat_left, feat_right], dim=1)\n",
        "        feat = self.fuse(feat)\n",
        "        return feat\n",
        "\n",
        "\n",
        "class CEBlock(nn.Module):\n",
        "\n",
        "    def __init__(self):\n",
        "        super(CEBlock, self).__init__()\n",
        "        self.bn = nn.BatchNorm2d(128)\n",
        "        self.conv_gap = ConvBNReLU(128, 128, 1, stride=1, padding=0)\n",
        "        #TODO: in paper here is naive conv2d, no bn-relu\n",
        "        self.conv_last = ConvBNReLU(128, 128, 3, stride=1)\n",
        "\n",
        "    def forward(self, x):\n",
        "        feat = torch.mean(x, dim=(2, 3), keepdim=True)\n",
        "        feat = self.bn(feat)\n",
        "        feat = self.conv_gap(feat)\n",
        "        feat = feat + x\n",
        "        feat = self.conv_last(feat)\n",
        "        return feat\n",
        "\n",
        "\n",
        "class GELayerS1(nn.Module):\n",
        "\n",
        "    def __init__(self, in_chan, out_chan, exp_ratio=6):\n",
        "        super(GELayerS1, self).__init__()\n",
        "        mid_chan = in_chan * exp_ratio\n",
        "        self.conv1 = ConvBNReLU(in_chan, in_chan, 3, stride=1)\n",
        "        self.dwconv = nn.Sequential(\n",
        "            nn.Conv2d(\n",
        "                in_chan, mid_chan, kernel_size=3, stride=1,\n",
        "                padding=1, groups=in_chan, bias=False),\n",
        "            nn.BatchNorm2d(mid_chan),\n",
        "            nn.ReLU(inplace=True), # not shown in paper\n",
        "        )\n",
        "        self.conv2 = nn.Sequential(\n",
        "            nn.Conv2d(\n",
        "                mid_chan, out_chan, kernel_size=1, stride=1,\n",
        "                padding=0, bias=False),\n",
        "            nn.BatchNorm2d(out_chan),\n",
        "        )\n",
        "        self.conv2[1].last_bn = True\n",
        "        self.relu = nn.ReLU(inplace=True)\n",
        "\n",
        "    def forward(self, x):\n",
        "        feat = self.conv1(x)\n",
        "        feat = self.dwconv(feat)\n",
        "        feat = self.conv2(feat)\n",
        "        feat = feat + x\n",
        "        feat = self.relu(feat)\n",
        "        return feat\n",
        "\n",
        "\n",
        "class GELayerS2(nn.Module):\n",
        "\n",
        "    def __init__(self, in_chan, out_chan, exp_ratio=6):\n",
        "        super(GELayerS2, self).__init__()\n",
        "        mid_chan = in_chan * exp_ratio\n",
        "        self.conv1 = ConvBNReLU(in_chan, in_chan, 3, stride=1)\n",
        "        self.dwconv1 = nn.Sequential(\n",
        "            nn.Conv2d(\n",
        "                in_chan, mid_chan, kernel_size=3, stride=2,\n",
        "                padding=1, groups=in_chan, bias=False),\n",
        "            nn.BatchNorm2d(mid_chan),\n",
        "        )\n",
        "        self.dwconv2 = nn.Sequential(\n",
        "            nn.Conv2d(\n",
        "                mid_chan, mid_chan, kernel_size=3, stride=1,\n",
        "                padding=1, groups=mid_chan, bias=False),\n",
        "            nn.BatchNorm2d(mid_chan),\n",
        "            nn.ReLU(inplace=True), # not shown in paper\n",
        "        )\n",
        "        self.conv2 = nn.Sequential(\n",
        "            nn.Conv2d(\n",
        "                mid_chan, out_chan, kernel_size=1, stride=1,\n",
        "                padding=0, bias=False),\n",
        "            nn.BatchNorm2d(out_chan),\n",
        "        )\n",
        "        self.conv2[1].last_bn = True\n",
        "        self.shortcut = nn.Sequential(\n",
        "                nn.Conv2d(\n",
        "                    in_chan, in_chan, kernel_size=3, stride=2,\n",
        "                    padding=1, groups=in_chan, bias=False),\n",
        "                nn.BatchNorm2d(in_chan),\n",
        "                nn.Conv2d(\n",
        "                    in_chan, out_chan, kernel_size=1, stride=1,\n",
        "                    padding=0, bias=False),\n",
        "                nn.BatchNorm2d(out_chan),\n",
        "        )\n",
        "        self.relu = nn.ReLU(inplace=True)\n",
        "\n",
        "    def forward(self, x):\n",
        "        feat = self.conv1(x)\n",
        "        feat = self.dwconv1(feat)\n",
        "        feat = self.dwconv2(feat)\n",
        "        feat = self.conv2(feat)\n",
        "        shortcut = self.shortcut(x)\n",
        "        feat = feat + shortcut\n",
        "        feat = self.relu(feat)\n",
        "        return feat\n",
        "\n",
        "\n",
        "class SegmentBranch(nn.Module):\n",
        "\n",
        "    def __init__(self):\n",
        "        super(SegmentBranch, self).__init__()\n",
        "        self.S1S2 = StemBlock()\n",
        "        self.S3 = nn.Sequential(\n",
        "            GELayerS2(16, 32),\n",
        "            GELayerS1(32, 32),\n",
        "        )\n",
        "        self.S4 = nn.Sequential(\n",
        "            GELayerS2(32, 64),\n",
        "            GELayerS1(64, 64),\n",
        "        )\n",
        "        self.S5_4 = nn.Sequential(\n",
        "            GELayerS2(64, 128),\n",
        "            GELayerS1(128, 128),\n",
        "            GELayerS1(128, 128),\n",
        "            GELayerS1(128, 128),\n",
        "        )\n",
        "        self.S5_5 = CEBlock()\n",
        "\n",
        "    def forward(self, x):\n",
        "        feat2 = self.S1S2(x)\n",
        "        feat3 = self.S3(feat2)\n",
        "        feat4 = self.S4(feat3)\n",
        "        feat5_4 = self.S5_4(feat4)\n",
        "        feat5_5 = self.S5_5(feat5_4)\n",
        "        return feat2, feat3, feat4, feat5_4, feat5_5\n",
        "\n",
        "\n",
        "class BGALayer(nn.Module):\n",
        "\n",
        "    def __init__(self):\n",
        "        super(BGALayer, self).__init__()\n",
        "        self.left1 = nn.Sequential(\n",
        "            nn.Conv2d(\n",
        "                128, 128, kernel_size=3, stride=1,\n",
        "                padding=1, groups=128, bias=False),\n",
        "            nn.BatchNorm2d(128),\n",
        "            nn.Conv2d(\n",
        "                128, 128, kernel_size=1, stride=1,\n",
        "                padding=0, bias=False),\n",
        "        )\n",
        "        self.left2 = nn.Sequential(\n",
        "            nn.Conv2d(\n",
        "                128, 128, kernel_size=3, stride=2,\n",
        "                padding=1, bias=False),\n",
        "            nn.BatchNorm2d(128),\n",
        "            nn.AvgPool2d(kernel_size=3, stride=2, padding=1, ceil_mode=False)\n",
        "        )\n",
        "        self.right1 = nn.Sequential(\n",
        "            nn.Conv2d(\n",
        "                128, 128, kernel_size=3, stride=1,\n",
        "                padding=1, bias=False),\n",
        "            nn.BatchNorm2d(128),\n",
        "        )\n",
        "        self.right2 = nn.Sequential(\n",
        "            nn.Conv2d(\n",
        "                128, 128, kernel_size=3, stride=1,\n",
        "                padding=1, groups=128, bias=False),\n",
        "            nn.BatchNorm2d(128),\n",
        "            nn.Conv2d(\n",
        "                128, 128, kernel_size=1, stride=1,\n",
        "                padding=0, bias=False),\n",
        "        )\n",
        "        self.up1 = nn.Upsample(scale_factor=4)\n",
        "        self.up2 = nn.Upsample(scale_factor=4)\n",
        "        ##TODO: does this really has no relu?\n",
        "        self.conv = nn.Sequential(\n",
        "            nn.Conv2d(\n",
        "                128, 128, kernel_size=3, stride=1,\n",
        "                padding=1, bias=False),\n",
        "            nn.BatchNorm2d(128),\n",
        "            nn.ReLU(inplace=True), # not shown in paper\n",
        "        )\n",
        "\n",
        "    def forward(self, x_d, x_s):\n",
        "        dsize = x_d.size()[2:]\n",
        "        left1 = self.left1(x_d)\n",
        "        left2 = self.left2(x_d)\n",
        "        right1 = self.right1(x_s)\n",
        "        right2 = self.right2(x_s)\n",
        "        right1 = self.up1(right1)\n",
        "        left = left1 * torch.sigmoid(right1)\n",
        "        right = left2 * torch.sigmoid(right2)\n",
        "        right = self.up2(right)\n",
        "        out = self.conv(left + right)\n",
        "        return out\n",
        "\n",
        "\n",
        "\n",
        "class SegmentHead(nn.Module):\n",
        "\n",
        "    def __init__(self, in_chan, mid_chan, n_classes, up_factor=8, aux=True):\n",
        "        super(SegmentHead, self).__init__()\n",
        "        self.conv = ConvBNReLU(in_chan, mid_chan, 3, stride=1)\n",
        "        self.drop = nn.Dropout(0.1)\n",
        "        self.up_factor = up_factor\n",
        "\n",
        "        out_chan = n_classes\n",
        "        mid_chan2 = up_factor * up_factor if aux else mid_chan\n",
        "        up_factor = up_factor // 2 if aux else up_factor\n",
        "        self.conv_out = nn.Sequential(\n",
        "            nn.Sequential(\n",
        "                nn.Upsample(scale_factor=2),\n",
        "                ConvBNReLU(mid_chan, mid_chan2, 3, stride=1)\n",
        "                ) if aux else nn.Identity(),\n",
        "            nn.Conv2d(mid_chan2, out_chan, 1, 1, 0, bias=True),\n",
        "            nn.Upsample(scale_factor=up_factor, mode='bilinear', align_corners=False)\n",
        "        )\n",
        "\n",
        "    def forward(self, x):\n",
        "        feat = self.conv(x)\n",
        "        feat = self.drop(feat)\n",
        "        feat = self.conv_out(feat)\n",
        "        return feat\n",
        "\n",
        "\n",
        "class CustomArgMax(torch.autograd.Function):\n",
        "\n",
        "    @staticmethod\n",
        "    def forward(ctx, feat_out, dim):\n",
        "        return feat_out.argmax(dim=dim).int()\n",
        "\n",
        "    @staticmethod\n",
        "    def symbolic(g, feat_out, dim: int):\n",
        "        return g.op('CustomArgMax', feat_out, dim_i=dim)\n",
        "\n",
        "\n",
        "class BiSeNetV2(nn.Module):\n",
        "\n",
        "    def __init__(self, n_classes, aux_mode='train'):\n",
        "        super(BiSeNetV2, self).__init__()\n",
        "        self.aux_mode = aux_mode\n",
        "        self.detail = DetailBranch()\n",
        "        self.segment = SegmentBranch()\n",
        "        self.bga = BGALayer()\n",
        "\n",
        "        ## TODO: what is the number of mid chan ?\n",
        "        self.head = SegmentHead(128, 1024, n_classes, up_factor=8, aux=False)\n",
        "        if self.aux_mode == 'train':\n",
        "            self.aux2 = SegmentHead(16, 128, n_classes, up_factor=4)\n",
        "            self.aux3 = SegmentHead(32, 128, n_classes, up_factor=8)\n",
        "            self.aux4 = SegmentHead(64, 128, n_classes, up_factor=16)\n",
        "            self.aux5_4 = SegmentHead(128, 128, n_classes, up_factor=32)\n",
        "\n",
        "        self.init_weights()\n",
        "\n",
        "    def forward(self, x):\n",
        "        size = x.size()[2:]\n",
        "        feat_d = self.detail(x)\n",
        "        feat2, feat3, feat4, feat5_4, feat_s = self.segment(x)\n",
        "        feat_head = self.bga(feat_d, feat_s)\n",
        "\n",
        "        logits = self.head(feat_head)\n",
        "        if self.aux_mode == 'train':\n",
        "            logits_aux2 = self.aux2(feat2)\n",
        "            logits_aux3 = self.aux3(feat3)\n",
        "            logits_aux4 = self.aux4(feat4)\n",
        "            logits_aux5_4 = self.aux5_4(feat5_4)\n",
        "            return logits, logits_aux2, logits_aux3, logits_aux4, logits_aux5_4\n",
        "        elif self.aux_mode == 'eval':\n",
        "            return logits,\n",
        "        elif self.aux_mode == 'pred':\n",
        "            #  pred = logits.argmax(dim=1)\n",
        "            pred = CustomArgMax.apply(logits, 1)\n",
        "            return pred\n",
        "        else:\n",
        "            raise NotImplementedError\n",
        "\n",
        "    def init_weights(self):\n",
        "        for name, module in self.named_modules():\n",
        "            if isinstance(module, (nn.Conv2d, nn.Linear)):\n",
        "                nn.init.kaiming_normal_(module.weight, mode='fan_out')\n",
        "                if not module.bias is None: nn.init.constant_(module.bias, 0)\n",
        "            elif isinstance(module, nn.modules.batchnorm._BatchNorm):\n",
        "                if hasattr(module, 'last_bn') and module.last_bn:\n",
        "                    nn.init.zeros_(module.weight)\n",
        "                else:\n",
        "                    nn.init.ones_(module.weight)\n",
        "                nn.init.zeros_(module.bias)\n",
        "        self.load_pretrain()\n",
        "\n",
        "\n",
        "    def load_pretrain(self):\n",
        "        state = modelzoo.load_url(backbone_url)\n",
        "        for name, child in self.named_children():\n",
        "            if name in state.keys():\n",
        "                child.load_state_dict(state[name], strict=True)\n",
        "\n",
        "    def get_params(self):\n",
        "        def add_param_to_list(mod, wd_params, nowd_params):\n",
        "            for param in mod.parameters():\n",
        "                if param.dim() == 1:\n",
        "                    nowd_params.append(param)\n",
        "                elif param.dim() == 4:\n",
        "                    wd_params.append(param)\n",
        "                else:\n",
        "                    print(name)\n",
        "\n",
        "        wd_params, nowd_params, lr_mul_wd_params, lr_mul_nowd_params = [], [], [], []\n",
        "        for name, child in self.named_children():\n",
        "            if 'head' in name or 'aux' in name:\n",
        "                add_param_to_list(child, lr_mul_wd_params, lr_mul_nowd_params)\n",
        "            else:\n",
        "                add_param_to_list(child, wd_params, nowd_params)\n",
        "        return wd_params, nowd_params, lr_mul_wd_params, lr_mul_nowd_params\n"
      ]
    },
    {
      "cell_type": "markdown",
      "source": [
        "## Define Discriminator\n",
        "Used for the adversarial approach"
      ],
      "metadata": {
        "id": "3_Wz-64dY5Y8"
      }
    },
    {
      "cell_type": "code",
      "source": [
        "import torch.nn as nn\n",
        "import torch.nn.functional as F\n",
        "import torch.nn.init as init\n",
        "\n",
        "\n",
        "class FCDiscriminator(nn.Module):\n",
        "\n",
        "\tdef __init__(self, num_classes, ndf = 64):\n",
        "\t\tsuper(FCDiscriminator, self).__init__()\n",
        "\n",
        "\t\tself.conv1 = nn.Conv2d(num_classes, ndf, kernel_size=4, stride=2, padding=1)\n",
        "\t\tself.conv2 = nn.Conv2d(ndf, ndf*2, kernel_size=4, stride=2, padding=1)\n",
        "\t\tself.conv3 = nn.Conv2d(ndf*2, ndf*4, kernel_size=4, stride=2, padding=1)\n",
        "\t\tself.conv4 = nn.Conv2d(ndf*4, ndf*8, kernel_size=4, stride=2, padding=1)\n",
        "\t\tself.classifier = nn.Conv2d(ndf*8, 1, kernel_size=4, stride=2, padding=1)\n",
        "\n",
        "\t\tself.leaky_relu = nn.LeakyReLU(negative_slope=0.2, inplace=True)\n",
        "\n",
        "\n",
        "\tdef forward(self, x):\n",
        "\t\tx = self.conv1(x)\n",
        "\t\tx = self.leaky_relu(x)\n",
        "\t\tx = self.conv2(x)\n",
        "\t\tx = self.leaky_relu(x)\n",
        "\t\tx = self.conv3(x)\n",
        "\t\tx = self.leaky_relu(x)\n",
        "\t\tx = self.conv4(x)\n",
        "\t\tx = self.leaky_relu(x)\n",
        "\t\tx = self.classifier(x)\n",
        "\n",
        "\t\treturn x"
      ],
      "metadata": {
        "id": "tCCQZJ9gZAHH"
      },
      "execution_count": 22,
      "outputs": []
    },
    {
      "cell_type": "markdown",
      "metadata": {
        "id": "dw9SYUCgi6us"
      },
      "source": [
        "# Dataset & dataloader"
      ]
    },
    {
      "cell_type": "markdown",
      "source": [
        "## Dataset definition"
      ],
      "metadata": {
        "id": "wrMzI_LbjhP_"
      }
    },
    {
      "cell_type": "code",
      "execution_count": 23,
      "metadata": {
        "id": "T6kSW8hGjAo9"
      },
      "outputs": [],
      "source": [
        "import os\n",
        "import torch\n",
        "from torch.utils.data import Dataset, DataLoader, random_split\n",
        "from torchvision import transforms\n",
        "from PIL import Image\n",
        "import numpy as np\n",
        "import cv2\n",
        "from albumentations.pytorch import ToTensorV2\n",
        "\n",
        "class SegmentationDataset(Dataset):\n",
        "    def __init__(self, image_dir, mask_dir, transform, target=False, augmentation=None):\n",
        "        self.image_dir = image_dir\n",
        "        self.mask_dir = mask_dir\n",
        "        self.transform = transform\n",
        "        self.image_filenames = sorted(os.listdir(image_dir))\n",
        "        self.mask_filenames = sorted(os.listdir(mask_dir))\n",
        "        self.augmentation = augmentation\n",
        "        self.target = target\n",
        "\n",
        "    def __len__(self):\n",
        "        return len(self.image_filenames)\n",
        "\n",
        "    def __getitem__(self, idx):\n",
        "        img_path = os.path.join(self.image_dir, self.image_filenames[idx])\n",
        "        mask_path = os.path.join(self.mask_dir, self.mask_filenames[idx])\n",
        "\n",
        "        # Read an image with OpenCV\n",
        "        image = cv2.imread(img_path)\n",
        "        mask = cv2.imread(mask_path)\n",
        "\n",
        "        # By default OpenCV uses BGR color space for color images,\n",
        "        # so we need to convert the image to RGB color space.\n",
        "        image = cv2.cvtColor(image, cv2.COLOR_BGR2RGB)\n",
        "        mask = cv2.cvtColor(mask, cv2.COLOR_BGR2GRAY)\n",
        "\n",
        "\n",
        "        if self.augmentation:\n",
        "          transformed = self.augmentation(image=image, mask=mask)\n",
        "          image = transformed[\"image\"]\n",
        "          mask = transformed[\"mask\"]\n",
        "\n",
        "        if self.transform:\n",
        "            transformed = self.transform(image=image, mask=mask)\n",
        "            image = transformed[\"image\"]\n",
        "            mask = transformed[\"mask\"]\n",
        "\n",
        "\n",
        "        mask_np = np.array(mask)\n",
        "\n",
        "        edge = cv2.Canny(mask_np, 0.1, 0.2)\n",
        "\n",
        "        kernel = np.ones((3, 3), np.uint8)  # Kernel for dilation\n",
        "\n",
        "        edge = edge[6:-6, 6:-6]\n",
        "        edge = np.pad(edge, ((6,6),(6,6)), mode='constant')\n",
        "        boundaries = cv2.dilate(edge, kernel, iterations=1)  # Dilate edges\n",
        "        boundaries = (boundaries > 50) * 1.0 # boundaries matrix is float with 1.0 or 0.0\n",
        "\n",
        "        mask = torch.as_tensor(np.array(mask), dtype=torch.int64) - 1\n",
        "\n",
        "        boundaries_tensor = torch.as_tensor(boundaries, dtype=torch.float32)\n",
        "\n",
        "        # if the dataset is a target dataset, does not return the mask\n",
        "        if self.target == True:\n",
        "          return image, boundaries_tensor\n",
        "        return image, mask, boundaries_tensor"
      ]
    },
    {
      "cell_type": "code",
      "source": [
        "# Define transformations for images & masks\n",
        "import albumentations as A\n",
        "from albumentations.pytorch import ToTensorV2\n",
        "from torchvision.transforms import v2 as T\n",
        "import cv2\n",
        "\n",
        "resize_transform = A.Compose([\n",
        "    A.Resize(height=RESIZE, width=RESIZE, p=1),\n",
        "    A.ToFloat(),\n",
        "    ToTensorV2()\n",
        "])\n",
        "\n",
        "\n",
        "# the best augmentation from previous step is chosen\n",
        "alb_aug0 = A.HorizontalFlip(p=P)\n",
        "alb_aug1 = A.GaussianBlur(p=P, sigma_limit=(0.5, 3.0))\n",
        "alb_aug4 = A.ColorJitter(brightness=0.2, contrast=0.2, saturation=0.2, hue=0.1, p=P)\n",
        "\n",
        "augment = A.Compose([alb_aug4, alb_aug0, alb_aug1])\n"
      ],
      "metadata": {
        "id": "cOr2yJ_6kvA4"
      },
      "execution_count": 24,
      "outputs": []
    },
    {
      "cell_type": "markdown",
      "source": [
        "## Dataset instantiation"
      ],
      "metadata": {
        "id": "aRC4KXtmj3Pi"
      }
    },
    {
      "cell_type": "code",
      "source": [
        "# Create dataset objects\n",
        "\n",
        "train_and_val_dataset_urban = SegmentationDataset(\n",
        "    TRAINING_PATH_URBAN + \"/images_png\",\n",
        "    TRAINING_PATH_URBAN + \"/masks_png\",\n",
        "    transform=resize_transform,\n",
        "    augmentation=None\n",
        ")\n",
        "\n",
        "\n",
        "val_ratio = 0.2\n",
        "generator = torch.Generator().manual_seed(42)\n",
        "val_size = int(len(train_and_val_dataset_urban) * val_ratio)\n",
        "train_size = len(train_and_val_dataset_urban) - val_size\n",
        "\n",
        "\n",
        "\n",
        "_, val_dataset = random_split(train_and_val_dataset_urban, [train_size, val_size], generator=generator)\n",
        "print(f\"Validation size: {len(val_dataset)}\")\n",
        "\n",
        "\n",
        "train_and_val_dataset_urban_aug = SegmentationDataset(\n",
        "    TRAINING_PATH_URBAN + \"/images_png\",\n",
        "    TRAINING_PATH_URBAN + \"/masks_png\",\n",
        "    transform=resize_transform,\n",
        "    augmentation=augment\n",
        ")\n",
        "source_dataset, _ = random_split(train_and_val_dataset_urban_aug, [train_size, val_size], generator=generator)\n",
        "print(f\"Source dataset size: {len(source_dataset)}\")\n",
        "\n",
        "\n",
        "target_dataset = SegmentationDataset(TRAINING_PATH_RURAL + \"/images_png\", TRAINING_PATH_RURAL + \"/masks_png\",\n",
        "                                    transform=resize_transform, target=True, augmentation=augment)\n",
        "print(f\"Target dataset size: {len(target_dataset)}\")\n",
        "\n",
        "\n",
        "# TEST DATASET\n",
        "test_dataset = SegmentationDataset(VAL_PATH_RURAL + \"/images_png\", VAL_PATH_RURAL + \"/masks_png\",\n",
        "                                    transform=resize_transform)\n",
        "print(f\"Test dataset size: {len(test_dataset)}\")\n",
        "\n"
      ],
      "metadata": {
        "id": "Zk4ZifehjuyZ",
        "outputId": "873cd820-10f1-43db-b47b-8616381efb29",
        "colab": {
          "base_uri": "https://localhost:8080/"
        }
      },
      "execution_count": 25,
      "outputs": [
        {
          "output_type": "stream",
          "name": "stdout",
          "text": [
            "Validation size: 231\n",
            "Source dataset size: 925\n",
            "Target dataset size: 1366\n",
            "Test dataset size: 992\n"
          ]
        }
      ]
    },
    {
      "cell_type": "markdown",
      "source": [
        "## Loader instantiation"
      ],
      "metadata": {
        "id": "lyTIKtzjj7i0"
      }
    },
    {
      "cell_type": "code",
      "source": [
        "# Create DataLoaders\n",
        "\n",
        "# TRAINING DATALOADERS\n",
        "source_loader = DataLoader(source_dataset, batch_size=BATCH_SIZE, shuffle=True, num_workers=4)\n",
        "target_loader = DataLoader(target_dataset, batch_size=BATCH_SIZE, shuffle=True, num_workers=4)\n",
        "val_loader = DataLoader(val_dataset, batch_size=BATCH_SIZE, shuffle=False, num_workers=4)\n",
        "\n",
        "# TEST DATALOADER\n",
        "test_loader = DataLoader(test_dataset, batch_size=BATCH_SIZE, shuffle=False, num_workers=4)\n",
        "###################\n",
        "\n",
        "# enumerate dataloaders\n",
        "source_loader_iter = enumerate(source_loader)\n",
        "target_loader_iter = enumerate(target_loader)\n"
      ],
      "metadata": {
        "id": "vhsQeNzTj_mk"
      },
      "execution_count": 26,
      "outputs": []
    },
    {
      "source": [
        "from utils import show\n",
        "from matplotlib import pyplot as plt\n",
        "\n",
        "\n",
        "if IMG_SHOW:\n",
        "  source_batch = next(iter(source_loader))  # (images, masks, boundaries)\n",
        "  target_batch = next(iter(target_loader))  # (images, masks, boundaries)\n",
        "  images_s, masks_s, boundaries_s = source_batch  # Unpack the source batch\n",
        "  images_t, boundaries_t = target_batch  # Unpack the target batch\n",
        "\n",
        "  fig, axes = plt.subplots(5, 5, figsize=(10, 10))  # 3 images, each with RGB, mask, and boundary\n",
        "\n",
        "  for i in range(5):  # Show first 3 images\n",
        "\n",
        "      # VISUALIZE SOURCE SAMPLES\n",
        "      # Permute the dimensions of the image tensor to (height, width, channels)\n",
        "      image_s_np = images_s[i].cpu().numpy().transpose(1, 2, 0)\n",
        "\n",
        "      axes[i, 0].imshow(image_s_np) # Display the image with the correct shape\n",
        "      axes[i, 0].set_title(\"Image, source\")\n",
        "\n",
        "      axes[i, 1].imshow(masks_s[i].cpu().numpy(), cmap=\"gray\")  # Show mask\n",
        "      axes[i, 1].set_title(\"Mask, source\")\n",
        "\n",
        "      axes[i, 2].imshow(boundaries_s[i].cpu().numpy(), cmap=\"gray\")  # Show boundaries\n",
        "      axes[i, 2].set_title(\"Boundaries, source\")\n",
        "\n",
        "      # VISUALIZE TARGET SAMPLES\n",
        "      image_t_np = images_t[i].cpu().numpy().transpose(1, 2, 0)\n",
        "      axes[i, 3].imshow(image_t_np) # Display the image with the correct shape\n",
        "      axes[i, 3].set_title(\"Image, target\")\n",
        "\n",
        "      axes[i, 4].imshow(boundaries_t[i].cpu().numpy(), cmap=\"gray\")  # Show boundaries\n",
        "      axes[i, 4].set_title(\"Boundaries, target\")\n",
        "\n",
        "\n",
        "  plt.tight_layout()\n",
        "  plt.show()"
      ],
      "cell_type": "code",
      "metadata": {
        "id": "dFq4OlvO5_8R"
      },
      "execution_count": 27,
      "outputs": []
    },
    {
      "cell_type": "markdown",
      "metadata": {
        "id": "O4pcqQXrMzza"
      },
      "source": [
        "# Instantiate model"
      ]
    },
    {
      "cell_type": "code",
      "execution_count": 28,
      "metadata": {
        "id": "hZNWIM0DbnJv",
        "colab": {
          "base_uri": "https://localhost:8080/"
        },
        "outputId": "5e822fe2-3d4f-49cc-9098-f4d5ef5b5fc4"
      },
      "outputs": [
        {
          "output_type": "stream",
          "name": "stderr",
          "text": [
            "Downloading: \"https://github.com/CoinCheung/BiSeNet/releases/download/0.0.0/backbone_v2.pth\" to /root/.cache/torch/hub/checkpoints/backbone_v2.pth\n",
            "100%|██████████| 8.34M/8.34M [00:00<00:00, 18.6MB/s]\n"
          ]
        }
      ],
      "source": [
        "model = BiSeNetV2(NUM_CLASSES)"
      ]
    },
    {
      "cell_type": "markdown",
      "source": [
        "## Define loss functions"
      ],
      "metadata": {
        "id": "p_wwWFwFkIoR"
      }
    },
    {
      "cell_type": "code",
      "source": [
        "import torch\n",
        "import torch.nn as nn\n",
        "import torch.nn.functional as F\n",
        "\n",
        "\n",
        "class OhemCELoss(nn.Module):\n",
        "\n",
        "    def __init__(self, thresh, lb_ignore=255):\n",
        "        super(OhemCELoss, self).__init__()\n",
        "        self.thresh = -torch.log(torch.tensor(thresh, requires_grad=False, dtype=torch.float)).cuda()\n",
        "        self.lb_ignore = lb_ignore\n",
        "        self.criteria = nn.CrossEntropyLoss(ignore_index=lb_ignore, reduction='none')\n",
        "\n",
        "    def forward(self, logits, labels):\n",
        "        n_min = labels[labels != self.lb_ignore].numel() // 16\n",
        "        loss = self.criteria(logits, labels).view(-1)\n",
        "        loss_hard = loss[loss > self.thresh]\n",
        "        if loss_hard.numel() < n_min:\n",
        "            loss_hard, _ = loss.topk(n_min)\n",
        "        return torch.mean(loss_hard)\n",
        "\n",
        "class CrossEntropyLoss2dPixelWiseWeighted(nn.Module):\n",
        "    def __init__(self, weight=None, ignore_index=250, reduction='none'):\n",
        "        super(CrossEntropyLoss2dPixelWiseWeighted, self).__init__()\n",
        "        self.CE =  nn.CrossEntropyLoss(weight=weight, ignore_index=ignore_index, reduction=reduction)\n",
        "\n",
        "    def forward(self, output, target, pixelWiseWeight):\n",
        "        loss = self.CE(output, target)\n",
        "        loss = torch.mean(loss * pixelWiseWeight)\n",
        "        return loss"
      ],
      "metadata": {
        "id": "7uJvTyhWp2Ky"
      },
      "execution_count": 29,
      "outputs": []
    },
    {
      "cell_type": "markdown",
      "source": [
        "## Upscaling function"
      ],
      "metadata": {
        "id": "tTTJR3Ly3T_F"
      }
    },
    {
      "cell_type": "code",
      "source": [
        "import torch.nn.functional as F\n",
        "\n",
        "def Upscaling(outputs, boundary_mask, model):\n",
        "    \"\"\"Upscale trough bilinear interpolation -> riporto le dimensioni dell'output a quelli originali\n",
        "    Quindi passiamo da 64 x 64 della rete a 512 x 512\"\"\"\n",
        "\n",
        "    h, w = boundary_mask.size(1), boundary_mask.size(2)\n",
        "    ph, pw = outputs[0].size(2), outputs[0].size(3)\n",
        "    if ph != h or pw != w:\n",
        "        for i in range(len(outputs)):\n",
        "            outputs[i] = F.interpolate(outputs[i], size=(h, w), mode='bilinear', align_corners=True)\n",
        "    if model.augment:\n",
        "        pred_p, pred_main, boundary_head = outputs  # P, I, D branches\n",
        "    else:\n",
        "        pred_p = None\n",
        "        pred_main = outputs\n",
        "        boundary_head = None  # Nessuna branch D se augment=False\n",
        "\n",
        "    return pred_p, pred_main, boundary_head"
      ],
      "metadata": {
        "id": "6A2YoQKT3Tu8"
      },
      "execution_count": 30,
      "outputs": []
    },
    {
      "cell_type": "markdown",
      "metadata": {
        "id": "MSQUcy7_t2of"
      },
      "source": [
        "# Training Phase"
      ]
    },
    {
      "cell_type": "markdown",
      "source": [
        "## Instantiate discriminator, optimizers and schedulers"
      ],
      "metadata": {
        "id": "B8_NYLc0kqRn"
      }
    },
    {
      "cell_type": "code",
      "execution_count": 31,
      "metadata": {
        "id": "bAbmz5Cz4I4H",
        "colab": {
          "base_uri": "https://localhost:8080/"
        },
        "outputId": "b1e907f9-b303-4e7a-cf3e-180bf27cf726"
      },
      "outputs": [
        {
          "output_type": "stream",
          "name": "stdout",
          "text": [
            "cuda\n"
          ]
        }
      ],
      "source": [
        "from torch.optim.lr_scheduler import LambdaLR, SequentialLR, StepLR\n",
        "\n",
        "device = torch.device(\"cuda\" if torch.cuda.is_available() else \"cpu\")\n",
        "print(device)\n",
        "\n",
        "model_D = FCDiscriminator(num_classes=NUM_CLASSES)\n",
        "model_D.to(device)\n",
        "\n",
        "model.to(device)\n",
        "\n",
        "optimizer = torch.optim.SGD(model.parameters(), lr=LR)\n",
        "optimizer_D = torch.optim.Adam(model_D.parameters(), lr=LR_D)\n",
        "\n",
        "scheduler = torch.optim.lr_scheduler.ReduceLROnPlateau(optimizer, mode='max', factor=GAMMA, patience=3, threshold=0.01)\n",
        "\n",
        "bce_loss = torch.nn.BCEWithLogitsLoss()\n",
        "\n",
        "loss_fn = OhemCELoss(thresh=0.8, lb_ignore = IGNORE_INDEX)\n",
        "num_aux_heads = 4\n",
        "criteria_aux = [OhemCELoss(0.8, IGNORE_INDEX) for _ in range(num_aux_heads)]"
      ]
    },
    {
      "cell_type": "markdown",
      "source": [
        "## Train"
      ],
      "metadata": {
        "id": "jOCaZndAkPy-"
      }
    },
    {
      "cell_type": "code",
      "execution_count": 32,
      "metadata": {
        "id": "kjNWfPicTLQ3",
        "colab": {
          "base_uri": "https://localhost:8080/"
        },
        "outputId": "559ec984-d571-4531-fa76-9d55314aa696",
        "collapsed": true
      },
      "outputs": [
        {
          "output_type": "stream",
          "name": "stdout",
          "text": [
            "[0.00053]\n"
          ]
        },
        {
          "output_type": "stream",
          "name": "stderr",
          "text": [
            "Epoch 1 [Training]: 100%|██████████| 58/58 [00:53<00:00,  1.09it/s, Loss_seg=39.1967, Loss_adv=0.6920, Loss_D=1.3858]"
          ]
        },
        {
          "output_type": "stream",
          "name": "stdout",
          "text": [
            "\n",
            "Epoch 1/20 Summary\n",
            "  → Segmentation Source Loss (RAW) : 2.4577\n",
            "  → Adversarial Target Loss (RAW)  : 0.0434\n",
            "  → Discriminator Loss (RAW)       : 0.0869\n"
          ]
        },
        {
          "output_type": "stream",
          "name": "stderr",
          "text": [
            "\n",
            "Epoch 1 [Validation]: 100%|██████████| 15/15 [00:04<00:00,  3.46it/s, Val_Loss=9.3837, mIoU=0.1830]\n"
          ]
        },
        {
          "output_type": "stream",
          "name": "stdout",
          "text": [
            "Modello con miou migliore salvato: /content/drive/MyDrive/AML_project/checkpoints/model_BISENET_ADV_split.pth\n",
            "\n",
            "→ Validation Loss: 0.6093\n",
            "→ Overall mIoU: 0.1830\n",
            "  → background IoU: 0.2404\n",
            "  → building IoU: 0.3104\n",
            "  → road IoU: 0.2611\n",
            "  → water IoU: 0.1702\n",
            "  → barren IoU: 0.1445\n",
            "  → forest IoU: 0.1530\n",
            "  → agriculture IoU: 0.0014\n",
            "[0.00053]\n"
          ]
        },
        {
          "output_type": "stream",
          "name": "stderr",
          "text": [
            "Epoch 2 [Training]: 100%|██████████| 58/58 [00:51<00:00,  1.12it/s, Loss_seg=30.8524, Loss_adv=0.6877, Loss_D=1.3816]"
          ]
        },
        {
          "output_type": "stream",
          "name": "stdout",
          "text": [
            "\n",
            "Epoch 2/20 Summary\n",
            "  → Segmentation Source Loss (RAW) : 1.9345\n",
            "  → Adversarial Target Loss (RAW)  : 0.0431\n",
            "  → Discriminator Loss (RAW)       : 0.0866\n"
          ]
        },
        {
          "output_type": "stream",
          "name": "stderr",
          "text": [
            "\n",
            "Epoch 2 [Validation]: 100%|██████████| 15/15 [00:04<00:00,  3.44it/s, Val_Loss=7.8591, mIoU=0.2223]\n"
          ]
        },
        {
          "output_type": "stream",
          "name": "stdout",
          "text": [
            "Modello con miou migliore salvato: /content/drive/MyDrive/AML_project/checkpoints/model_BISENET_ADV_split.pth\n",
            "\n",
            "→ Validation Loss: 0.5103\n",
            "→ Overall mIoU: 0.2223\n",
            "  → background IoU: 0.3624\n",
            "  → building IoU: 0.3365\n",
            "  → road IoU: 0.2980\n",
            "  → water IoU: 0.2123\n",
            "  → barren IoU: 0.1618\n",
            "  → forest IoU: 0.1781\n",
            "  → agriculture IoU: 0.0068\n",
            "[0.00053]\n"
          ]
        },
        {
          "output_type": "stream",
          "name": "stderr",
          "text": [
            "Epoch 3 [Training]: 100%|██████████| 58/58 [00:52<00:00,  1.11it/s, Loss_seg=27.3068, Loss_adv=0.6988, Loss_D=1.3703]"
          ]
        },
        {
          "output_type": "stream",
          "name": "stdout",
          "text": [
            "\n",
            "Epoch 3/20 Summary\n",
            "  → Segmentation Source Loss (RAW) : 1.7122\n",
            "  → Adversarial Target Loss (RAW)  : 0.0438\n",
            "  → Discriminator Loss (RAW)       : 0.0859\n"
          ]
        },
        {
          "output_type": "stream",
          "name": "stderr",
          "text": [
            "\n",
            "Epoch 3 [Validation]: 100%|██████████| 15/15 [00:04<00:00,  3.49it/s, Val_Loss=7.1711, mIoU=0.2492]\n"
          ]
        },
        {
          "output_type": "stream",
          "name": "stdout",
          "text": [
            "Modello con miou migliore salvato: /content/drive/MyDrive/AML_project/checkpoints/model_BISENET_ADV_split.pth\n",
            "\n",
            "→ Validation Loss: 0.4657\n",
            "→ Overall mIoU: 0.2492\n",
            "  → background IoU: 0.3995\n",
            "  → building IoU: 0.3641\n",
            "  → road IoU: 0.3169\n",
            "  → water IoU: 0.2808\n",
            "  → barren IoU: 0.1823\n",
            "  → forest IoU: 0.1869\n",
            "  → agriculture IoU: 0.0138\n",
            "[0.00053]\n"
          ]
        },
        {
          "output_type": "stream",
          "name": "stderr",
          "text": [
            "Epoch 4 [Training]: 100%|██████████| 58/58 [00:51<00:00,  1.12it/s, Loss_seg=24.9995, Loss_adv=0.7219, Loss_D=1.3582]"
          ]
        },
        {
          "output_type": "stream",
          "name": "stdout",
          "text": [
            "\n",
            "Epoch 4/20 Summary\n",
            "  → Segmentation Source Loss (RAW) : 1.5675\n",
            "  → Adversarial Target Loss (RAW)  : 0.0453\n",
            "  → Discriminator Loss (RAW)       : 0.0852\n"
          ]
        },
        {
          "output_type": "stream",
          "name": "stderr",
          "text": [
            "\n",
            "Epoch 4 [Validation]: 100%|██████████| 15/15 [00:04<00:00,  3.51it/s, Val_Loss=6.9088, mIoU=0.2642]\n"
          ]
        },
        {
          "output_type": "stream",
          "name": "stdout",
          "text": [
            "Modello con miou migliore salvato: /content/drive/MyDrive/AML_project/checkpoints/model_BISENET_ADV_split.pth\n",
            "\n",
            "→ Validation Loss: 0.4486\n",
            "→ Overall mIoU: 0.2642\n",
            "  → background IoU: 0.4447\n",
            "  → building IoU: 0.3273\n",
            "  → road IoU: 0.3249\n",
            "  → water IoU: 0.3321\n",
            "  → barren IoU: 0.2034\n",
            "  → forest IoU: 0.1924\n",
            "  → agriculture IoU: 0.0242\n",
            "[0.00053]\n"
          ]
        },
        {
          "output_type": "stream",
          "name": "stderr",
          "text": [
            "Epoch 5 [Training]: 100%|██████████| 58/58 [00:51<00:00,  1.12it/s, Loss_seg=23.5873, Loss_adv=0.7479, Loss_D=1.3428]"
          ]
        },
        {
          "output_type": "stream",
          "name": "stdout",
          "text": [
            "\n",
            "Epoch 5/20 Summary\n",
            "  → Segmentation Source Loss (RAW) : 1.4790\n",
            "  → Adversarial Target Loss (RAW)  : 0.0469\n",
            "  → Discriminator Loss (RAW)       : 0.0842\n"
          ]
        },
        {
          "output_type": "stream",
          "name": "stderr",
          "text": [
            "\n",
            "Epoch 5 [Validation]: 100%|██████████| 15/15 [00:04<00:00,  3.50it/s, Val_Loss=6.2597, mIoU=0.2680]\n"
          ]
        },
        {
          "output_type": "stream",
          "name": "stdout",
          "text": [
            "Modello con miou migliore salvato: /content/drive/MyDrive/AML_project/checkpoints/model_BISENET_ADV_split.pth\n",
            "\n",
            "→ Validation Loss: 0.4065\n",
            "→ Overall mIoU: 0.2680\n",
            "  → background IoU: 0.4113\n",
            "  → building IoU: 0.3625\n",
            "  → road IoU: 0.3232\n",
            "  → water IoU: 0.3172\n",
            "  → barren IoU: 0.2176\n",
            "  → forest IoU: 0.2149\n",
            "  → agriculture IoU: 0.0297\n",
            "[0.00053]\n"
          ]
        },
        {
          "output_type": "stream",
          "name": "stderr",
          "text": [
            "Epoch 6 [Training]: 100%|██████████| 58/58 [00:52<00:00,  1.11it/s, Loss_seg=22.0310, Loss_adv=0.7617, Loss_D=1.3351]"
          ]
        },
        {
          "output_type": "stream",
          "name": "stdout",
          "text": [
            "\n",
            "Epoch 6/20 Summary\n",
            "  → Segmentation Source Loss (RAW) : 1.3814\n",
            "  → Adversarial Target Loss (RAW)  : 0.0478\n",
            "  → Discriminator Loss (RAW)       : 0.0837\n"
          ]
        },
        {
          "output_type": "stream",
          "name": "stderr",
          "text": [
            "\n",
            "Epoch 6 [Validation]: 100%|██████████| 15/15 [00:04<00:00,  3.51it/s, Val_Loss=5.6490, mIoU=0.2791]\n"
          ]
        },
        {
          "output_type": "stream",
          "name": "stdout",
          "text": [
            "Modello con miou migliore salvato: /content/drive/MyDrive/AML_project/checkpoints/model_BISENET_ADV_split.pth\n",
            "\n",
            "→ Validation Loss: 0.3668\n",
            "→ Overall mIoU: 0.2791\n",
            "  → background IoU: 0.3783\n",
            "  → building IoU: 0.3825\n",
            "  → road IoU: 0.3414\n",
            "  → water IoU: 0.3420\n",
            "  → barren IoU: 0.2420\n",
            "  → forest IoU: 0.2207\n",
            "  → agriculture IoU: 0.0471\n",
            "[0.00053]\n"
          ]
        },
        {
          "output_type": "stream",
          "name": "stderr",
          "text": [
            "Epoch 7 [Training]: 100%|██████████| 58/58 [00:52<00:00,  1.11it/s, Loss_seg=21.2579, Loss_adv=0.7707, Loss_D=1.3309]"
          ]
        },
        {
          "output_type": "stream",
          "name": "stdout",
          "text": [
            "\n",
            "Epoch 7/20 Summary\n",
            "  → Segmentation Source Loss (RAW) : 1.3329\n",
            "  → Adversarial Target Loss (RAW)  : 0.0483\n",
            "  → Discriminator Loss (RAW)       : 0.0835\n"
          ]
        },
        {
          "output_type": "stream",
          "name": "stderr",
          "text": [
            "\n",
            "Epoch 7 [Validation]: 100%|██████████| 15/15 [00:04<00:00,  3.45it/s, Val_Loss=5.5462, mIoU=0.2916]\n"
          ]
        },
        {
          "output_type": "stream",
          "name": "stdout",
          "text": [
            "Modello con miou migliore salvato: /content/drive/MyDrive/AML_project/checkpoints/model_BISENET_ADV_split.pth\n",
            "\n",
            "→ Validation Loss: 0.3601\n",
            "→ Overall mIoU: 0.2916\n",
            "  → background IoU: 0.4398\n",
            "  → building IoU: 0.3482\n",
            "  → road IoU: 0.3443\n",
            "  → water IoU: 0.3904\n",
            "  → barren IoU: 0.2250\n",
            "  → forest IoU: 0.2386\n",
            "  → agriculture IoU: 0.0547\n",
            "[0.00053]\n"
          ]
        },
        {
          "output_type": "stream",
          "name": "stderr",
          "text": [
            "Epoch 8 [Training]: 100%|██████████| 58/58 [00:51<00:00,  1.12it/s, Loss_seg=20.0947, Loss_adv=0.7783, Loss_D=1.3197]"
          ]
        },
        {
          "output_type": "stream",
          "name": "stdout",
          "text": [
            "\n",
            "Epoch 8/20 Summary\n",
            "  → Segmentation Source Loss (RAW) : 1.2600\n",
            "  → Adversarial Target Loss (RAW)  : 0.0488\n",
            "  → Discriminator Loss (RAW)       : 0.0828\n"
          ]
        },
        {
          "output_type": "stream",
          "name": "stderr",
          "text": [
            "\n",
            "Epoch 8 [Validation]: 100%|██████████| 15/15 [00:04<00:00,  3.52it/s, Val_Loss=5.2861, mIoU=0.2934]\n"
          ]
        },
        {
          "output_type": "stream",
          "name": "stdout",
          "text": [
            "Modello con miou migliore salvato: /content/drive/MyDrive/AML_project/checkpoints/model_BISENET_ADV_split.pth\n",
            "\n",
            "→ Validation Loss: 0.3433\n",
            "→ Overall mIoU: 0.2934\n",
            "  → background IoU: 0.4296\n",
            "  → building IoU: 0.3665\n",
            "  → road IoU: 0.3501\n",
            "  → water IoU: 0.3790\n",
            "  → barren IoU: 0.2403\n",
            "  → forest IoU: 0.2371\n",
            "  → agriculture IoU: 0.0515\n",
            "[0.00053]\n"
          ]
        },
        {
          "output_type": "stream",
          "name": "stderr",
          "text": [
            "Epoch 9 [Training]: 100%|██████████| 58/58 [00:51<00:00,  1.12it/s, Loss_seg=19.1081, Loss_adv=0.7889, Loss_D=1.3135]"
          ]
        },
        {
          "output_type": "stream",
          "name": "stdout",
          "text": [
            "\n",
            "Epoch 9/20 Summary\n",
            "  → Segmentation Source Loss (RAW) : 1.1981\n",
            "  → Adversarial Target Loss (RAW)  : 0.0495\n",
            "  → Discriminator Loss (RAW)       : 0.0824\n"
          ]
        },
        {
          "output_type": "stream",
          "name": "stderr",
          "text": [
            "\n",
            "Epoch 9 [Validation]: 100%|██████████| 15/15 [00:04<00:00,  3.50it/s, Val_Loss=5.6415, mIoU=0.2930]"
          ]
        },
        {
          "output_type": "stream",
          "name": "stdout",
          "text": [
            "\n",
            "→ Validation Loss: 0.3663\n",
            "→ Overall mIoU: 0.2930\n",
            "  → background IoU: 0.4766\n",
            "  → building IoU: 0.3197\n",
            "  → road IoU: 0.3537\n",
            "  → water IoU: 0.4483\n",
            "  → barren IoU: 0.2104\n",
            "  → forest IoU: 0.1833\n",
            "  → agriculture IoU: 0.0591\n",
            "[0.00053]\n"
          ]
        },
        {
          "output_type": "stream",
          "name": "stderr",
          "text": [
            "\n",
            "Epoch 10 [Training]: 100%|██████████| 58/58 [00:51<00:00,  1.12it/s, Loss_seg=19.6711, Loss_adv=0.8018, Loss_D=1.3186]"
          ]
        },
        {
          "output_type": "stream",
          "name": "stdout",
          "text": [
            "\n",
            "Epoch 10/20 Summary\n",
            "  → Segmentation Source Loss (RAW) : 1.2334\n",
            "  → Adversarial Target Loss (RAW)  : 0.0503\n",
            "  → Discriminator Loss (RAW)       : 0.0827\n"
          ]
        },
        {
          "output_type": "stream",
          "name": "stderr",
          "text": [
            "\n",
            "Epoch 10 [Validation]: 100%|██████████| 15/15 [00:04<00:00,  3.51it/s, Val_Loss=5.0446, mIoU=0.3019]\n"
          ]
        },
        {
          "output_type": "stream",
          "name": "stdout",
          "text": [
            "Modello con miou migliore salvato: /content/drive/MyDrive/AML_project/checkpoints/model_BISENET_ADV_split.pth\n",
            "\n",
            "→ Validation Loss: 0.3276\n",
            "→ Overall mIoU: 0.3019\n",
            "  → background IoU: 0.4587\n",
            "  → building IoU: 0.3704\n",
            "  → road IoU: 0.3621\n",
            "  → water IoU: 0.4292\n",
            "  → barren IoU: 0.1943\n",
            "  → forest IoU: 0.2359\n",
            "  → agriculture IoU: 0.0624\n",
            "[0.00053]\n"
          ]
        },
        {
          "output_type": "stream",
          "name": "stderr",
          "text": [
            "Epoch 11 [Training]: 100%|██████████| 58/58 [00:51<00:00,  1.12it/s, Loss_seg=18.2753, Loss_adv=0.7889, Loss_D=1.3140]"
          ]
        },
        {
          "output_type": "stream",
          "name": "stdout",
          "text": [
            "\n",
            "Epoch 11/20 Summary\n",
            "  → Segmentation Source Loss (RAW) : 1.1459\n",
            "  → Adversarial Target Loss (RAW)  : 0.0495\n",
            "  → Discriminator Loss (RAW)       : 0.0824\n"
          ]
        },
        {
          "output_type": "stream",
          "name": "stderr",
          "text": [
            "\n",
            "Epoch 11 [Validation]: 100%|██████████| 15/15 [00:04<00:00,  3.55it/s, Val_Loss=4.7724, mIoU=0.3042]\n"
          ]
        },
        {
          "output_type": "stream",
          "name": "stdout",
          "text": [
            "Modello con miou migliore salvato: /content/drive/MyDrive/AML_project/checkpoints/model_BISENET_ADV_split.pth\n",
            "\n",
            "→ Validation Loss: 0.3099\n",
            "→ Overall mIoU: 0.3042\n",
            "  → background IoU: 0.4585\n",
            "  → building IoU: 0.3630\n",
            "  → road IoU: 0.3690\n",
            "  → water IoU: 0.4309\n",
            "  → barren IoU: 0.1951\n",
            "  → forest IoU: 0.2504\n",
            "  → agriculture IoU: 0.0623\n",
            "[0.00053]\n"
          ]
        },
        {
          "output_type": "stream",
          "name": "stderr",
          "text": [
            "Epoch 12 [Training]: 100%|██████████| 58/58 [00:51<00:00,  1.12it/s, Loss_seg=17.5969, Loss_adv=0.8035, Loss_D=1.3054]"
          ]
        },
        {
          "output_type": "stream",
          "name": "stdout",
          "text": [
            "\n",
            "Epoch 12/20 Summary\n",
            "  → Segmentation Source Loss (RAW) : 1.1034\n",
            "  → Adversarial Target Loss (RAW)  : 0.0504\n",
            "  → Discriminator Loss (RAW)       : 0.0819\n"
          ]
        },
        {
          "output_type": "stream",
          "name": "stderr",
          "text": [
            "\n",
            "Epoch 12 [Validation]: 100%|██████████| 15/15 [00:04<00:00,  3.47it/s, Val_Loss=4.3940, mIoU=0.3152]\n"
          ]
        },
        {
          "output_type": "stream",
          "name": "stdout",
          "text": [
            "Modello con miou migliore salvato: /content/drive/MyDrive/AML_project/checkpoints/model_BISENET_ADV_split.pth\n",
            "\n",
            "→ Validation Loss: 0.2853\n",
            "→ Overall mIoU: 0.3152\n",
            "  → background IoU: 0.4269\n",
            "  → building IoU: 0.3638\n",
            "  → road IoU: 0.3694\n",
            "  → water IoU: 0.4435\n",
            "  → barren IoU: 0.2614\n",
            "  → forest IoU: 0.2684\n",
            "  → agriculture IoU: 0.0728\n",
            "[0.00053]\n"
          ]
        },
        {
          "output_type": "stream",
          "name": "stderr",
          "text": [
            "Epoch 13 [Training]: 100%|██████████| 58/58 [00:52<00:00,  1.11it/s, Loss_seg=17.0560, Loss_adv=0.8088, Loss_D=1.3073]"
          ]
        },
        {
          "output_type": "stream",
          "name": "stdout",
          "text": [
            "\n",
            "Epoch 13/20 Summary\n",
            "  → Segmentation Source Loss (RAW) : 1.0695\n",
            "  → Adversarial Target Loss (RAW)  : 0.0507\n",
            "  → Discriminator Loss (RAW)       : 0.0820\n"
          ]
        },
        {
          "output_type": "stream",
          "name": "stderr",
          "text": [
            "\n",
            "Epoch 13 [Validation]: 100%|██████████| 15/15 [00:04<00:00,  3.49it/s, Val_Loss=4.2859, mIoU=0.3199]\n"
          ]
        },
        {
          "output_type": "stream",
          "name": "stdout",
          "text": [
            "Modello con miou migliore salvato: /content/drive/MyDrive/AML_project/checkpoints/model_BISENET_ADV_split.pth\n",
            "\n",
            "→ Validation Loss: 0.2783\n",
            "→ Overall mIoU: 0.3199\n",
            "  → background IoU: 0.4200\n",
            "  → building IoU: 0.3841\n",
            "  → road IoU: 0.3751\n",
            "  → water IoU: 0.4581\n",
            "  → barren IoU: 0.2677\n",
            "  → forest IoU: 0.2574\n",
            "  → agriculture IoU: 0.0771\n",
            "[0.00053]\n"
          ]
        },
        {
          "output_type": "stream",
          "name": "stderr",
          "text": [
            "Epoch 14 [Training]: 100%|██████████| 58/58 [00:51<00:00,  1.12it/s, Loss_seg=16.3508, Loss_adv=0.8104, Loss_D=1.3005]"
          ]
        },
        {
          "output_type": "stream",
          "name": "stdout",
          "text": [
            "\n",
            "Epoch 14/20 Summary\n",
            "  → Segmentation Source Loss (RAW) : 1.0252\n",
            "  → Adversarial Target Loss (RAW)  : 0.0508\n",
            "  → Discriminator Loss (RAW)       : 0.0815\n"
          ]
        },
        {
          "output_type": "stream",
          "name": "stderr",
          "text": [
            "\n",
            "Epoch 14 [Validation]: 100%|██████████| 15/15 [00:04<00:00,  3.46it/s, Val_Loss=4.1859, mIoU=0.3213]\n"
          ]
        },
        {
          "output_type": "stream",
          "name": "stdout",
          "text": [
            "Modello con miou migliore salvato: /content/drive/MyDrive/AML_project/checkpoints/model_BISENET_ADV_split.pth\n",
            "\n",
            "→ Validation Loss: 0.2718\n",
            "→ Overall mIoU: 0.3213\n",
            "  → background IoU: 0.4462\n",
            "  → building IoU: 0.3761\n",
            "  → road IoU: 0.3772\n",
            "  → water IoU: 0.4741\n",
            "  → barren IoU: 0.2606\n",
            "  → forest IoU: 0.2345\n",
            "  → agriculture IoU: 0.0806\n",
            "[0.00053]\n"
          ]
        },
        {
          "output_type": "stream",
          "name": "stderr",
          "text": [
            "Epoch 15 [Training]: 100%|██████████| 58/58 [00:51<00:00,  1.12it/s, Loss_seg=16.2640, Loss_adv=0.8062, Loss_D=1.3081]"
          ]
        },
        {
          "output_type": "stream",
          "name": "stdout",
          "text": [
            "\n",
            "Epoch 15/20 Summary\n",
            "  → Segmentation Source Loss (RAW) : 1.0198\n",
            "  → Adversarial Target Loss (RAW)  : 0.0506\n",
            "  → Discriminator Loss (RAW)       : 0.0820\n"
          ]
        },
        {
          "output_type": "stream",
          "name": "stderr",
          "text": [
            "\n",
            "Epoch 15 [Validation]: 100%|██████████| 15/15 [00:04<00:00,  3.51it/s, Val_Loss=4.2534, mIoU=0.3175]"
          ]
        },
        {
          "output_type": "stream",
          "name": "stdout",
          "text": [
            "\n",
            "→ Validation Loss: 0.2762\n",
            "→ Overall mIoU: 0.3175\n",
            "  → background IoU: 0.4756\n",
            "  → building IoU: 0.3594\n",
            "  → road IoU: 0.3830\n",
            "  → water IoU: 0.4685\n",
            "  → barren IoU: 0.2239\n",
            "  → forest IoU: 0.2352\n",
            "  → agriculture IoU: 0.0770\n",
            "[0.00053]\n"
          ]
        },
        {
          "output_type": "stream",
          "name": "stderr",
          "text": [
            "\n",
            "Epoch 16 [Training]: 100%|██████████| 58/58 [00:51<00:00,  1.12it/s, Loss_seg=16.0109, Loss_adv=0.7859, Loss_D=1.3189]"
          ]
        },
        {
          "output_type": "stream",
          "name": "stdout",
          "text": [
            "\n",
            "Epoch 16/20 Summary\n",
            "  → Segmentation Source Loss (RAW) : 1.0039\n",
            "  → Adversarial Target Loss (RAW)  : 0.0493\n",
            "  → Discriminator Loss (RAW)       : 0.0827\n"
          ]
        },
        {
          "output_type": "stream",
          "name": "stderr",
          "text": [
            "\n",
            "Epoch 16 [Validation]: 100%|██████████| 15/15 [00:04<00:00,  3.51it/s, Val_Loss=3.9699, mIoU=0.3208]"
          ]
        },
        {
          "output_type": "stream",
          "name": "stdout",
          "text": [
            "\n",
            "→ Validation Loss: 0.2578\n",
            "→ Overall mIoU: 0.3208\n",
            "  → background IoU: 0.4601\n",
            "  → building IoU: 0.3813\n",
            "  → road IoU: 0.3891\n",
            "  → water IoU: 0.4672\n",
            "  → barren IoU: 0.2262\n",
            "  → forest IoU: 0.2359\n",
            "  → agriculture IoU: 0.0860\n",
            "[0.00053]\n"
          ]
        },
        {
          "output_type": "stream",
          "name": "stderr",
          "text": [
            "\n",
            "Epoch 17 [Training]: 100%|██████████| 58/58 [00:51<00:00,  1.12it/s, Loss_seg=15.5798, Loss_adv=0.8061, Loss_D=1.3041]"
          ]
        },
        {
          "output_type": "stream",
          "name": "stdout",
          "text": [
            "\n",
            "Epoch 17/20 Summary\n",
            "  → Segmentation Source Loss (RAW) : 0.9769\n",
            "  → Adversarial Target Loss (RAW)  : 0.0505\n",
            "  → Discriminator Loss (RAW)       : 0.0818\n"
          ]
        },
        {
          "output_type": "stream",
          "name": "stderr",
          "text": [
            "\n",
            "Epoch 17 [Validation]: 100%|██████████| 15/15 [00:04<00:00,  3.48it/s, Val_Loss=3.8749, mIoU=0.3280]\n"
          ]
        },
        {
          "output_type": "stream",
          "name": "stdout",
          "text": [
            "Modello con miou migliore salvato: /content/drive/MyDrive/AML_project/checkpoints/model_BISENET_ADV_split.pth\n",
            "\n",
            "→ Validation Loss: 0.2516\n",
            "→ Overall mIoU: 0.3280\n",
            "  → background IoU: 0.4429\n",
            "  → building IoU: 0.3957\n",
            "  → road IoU: 0.3842\n",
            "  → water IoU: 0.4748\n",
            "  → barren IoU: 0.2619\n",
            "  → forest IoU: 0.2591\n",
            "  → agriculture IoU: 0.0772\n",
            "[0.00053]\n"
          ]
        },
        {
          "output_type": "stream",
          "name": "stderr",
          "text": [
            "Epoch 18 [Training]: 100%|██████████| 58/58 [00:51<00:00,  1.12it/s, Loss_seg=15.3121, Loss_adv=0.7919, Loss_D=1.3092]"
          ]
        },
        {
          "output_type": "stream",
          "name": "stdout",
          "text": [
            "\n",
            "Epoch 18/20 Summary\n",
            "  → Segmentation Source Loss (RAW) : 0.9601\n",
            "  → Adversarial Target Loss (RAW)  : 0.0497\n",
            "  → Discriminator Loss (RAW)       : 0.0821\n"
          ]
        },
        {
          "output_type": "stream",
          "name": "stderr",
          "text": [
            "\n",
            "Epoch 18 [Validation]: 100%|██████████| 15/15 [00:04<00:00,  3.48it/s, Val_Loss=3.8146, mIoU=0.3303]\n"
          ]
        },
        {
          "output_type": "stream",
          "name": "stdout",
          "text": [
            "Modello con miou migliore salvato: /content/drive/MyDrive/AML_project/checkpoints/model_BISENET_ADV_split.pth\n",
            "\n",
            "→ Validation Loss: 0.2477\n",
            "→ Overall mIoU: 0.3303\n",
            "  → background IoU: 0.4473\n",
            "  → building IoU: 0.3838\n",
            "  → road IoU: 0.3839\n",
            "  → water IoU: 0.4592\n",
            "  → barren IoU: 0.2874\n",
            "  → forest IoU: 0.2677\n",
            "  → agriculture IoU: 0.0828\n",
            "[0.00053]\n"
          ]
        },
        {
          "output_type": "stream",
          "name": "stderr",
          "text": [
            "Epoch 19 [Training]: 100%|██████████| 58/58 [00:51<00:00,  1.12it/s, Loss_seg=15.3401, Loss_adv=0.8042, Loss_D=1.3084]"
          ]
        },
        {
          "output_type": "stream",
          "name": "stdout",
          "text": [
            "\n",
            "Epoch 19/20 Summary\n",
            "  → Segmentation Source Loss (RAW) : 0.9619\n",
            "  → Adversarial Target Loss (RAW)  : 0.0504\n",
            "  → Discriminator Loss (RAW)       : 0.0820\n"
          ]
        },
        {
          "output_type": "stream",
          "name": "stderr",
          "text": [
            "\n",
            "Epoch 19 [Validation]: 100%|██████████| 15/15 [00:04<00:00,  3.45it/s, Val_Loss=3.7118, mIoU=0.3274]"
          ]
        },
        {
          "output_type": "stream",
          "name": "stdout",
          "text": [
            "\n",
            "→ Validation Loss: 0.2410\n",
            "→ Overall mIoU: 0.3274\n",
            "  → background IoU: 0.4640\n",
            "  → building IoU: 0.3983\n",
            "  → road IoU: 0.3892\n",
            "  → water IoU: 0.4627\n",
            "  → barren IoU: 0.2197\n",
            "  → forest IoU: 0.2734\n",
            "  → agriculture IoU: 0.0842\n",
            "[0.00053]\n"
          ]
        },
        {
          "output_type": "stream",
          "name": "stderr",
          "text": [
            "\n",
            "Epoch 20 [Training]: 100%|██████████| 58/58 [00:51<00:00,  1.12it/s, Loss_seg=14.4145, Loss_adv=0.7997, Loss_D=1.3012]"
          ]
        },
        {
          "output_type": "stream",
          "name": "stdout",
          "text": [
            "\n",
            "Epoch 20/20 Summary\n",
            "  → Segmentation Source Loss (RAW) : 0.9038\n",
            "  → Adversarial Target Loss (RAW)  : 0.0501\n",
            "  → Discriminator Loss (RAW)       : 0.0816\n"
          ]
        },
        {
          "output_type": "stream",
          "name": "stderr",
          "text": [
            "\n",
            "Epoch 20 [Validation]: 100%|██████████| 15/15 [00:04<00:00,  3.50it/s, Val_Loss=3.5101, mIoU=0.3362]\n"
          ]
        },
        {
          "output_type": "stream",
          "name": "stdout",
          "text": [
            "Modello con miou migliore salvato: /content/drive/MyDrive/AML_project/checkpoints/model_BISENET_ADV_split.pth\n",
            "\n",
            "→ Validation Loss: 0.2279\n",
            "→ Overall mIoU: 0.3362\n",
            "  → background IoU: 0.4482\n",
            "  → building IoU: 0.4008\n",
            "  → road IoU: 0.3897\n",
            "  → water IoU: 0.4873\n",
            "  → barren IoU: 0.2839\n",
            "  → forest IoU: 0.2591\n",
            "  → agriculture IoU: 0.0847\n"
          ]
        }
      ],
      "source": [
        "from tqdm import tqdm\n",
        "import torch\n",
        "from torchmetrics.segmentation import MeanIoU\n",
        "\n",
        "torch.manual_seed(SEED)\n",
        "torch.cuda.manual_seed(SEED)\n",
        "\n",
        "source_label = 0\n",
        "target_label = 1\n",
        "\n",
        "model.to(device)\n",
        "model_D.to(device)\n",
        "\n",
        "num_classes = 7\n",
        "miou_classes = MeanIoU(num_classes=num_classes, input_format = \"index\", per_class=True).to(device)\n",
        "\n",
        "record_miou = 0\n",
        "\n",
        "for epoch in range(EPOCHS):\n",
        "    print(scheduler.get_last_lr())\n",
        "    loss_seg_source_raw_value = 0\n",
        "    loss_adv_target_raw_value = 0\n",
        "    loss_D_raw_value = 0\n",
        "    total_train_samples = 0\n",
        "\n",
        "    model.train()\n",
        "    model_D.train()\n",
        "\n",
        "    train_loader = zip(source_loader, target_loader)\n",
        "    num_batches = min(len(source_loader), len(target_loader))\n",
        "\n",
        "    pbar = tqdm(enumerate(train_loader), total=num_batches, desc=f\"Epoch {epoch+1} [Training]\")\n",
        "\n",
        "\n",
        "    for i, (source_batch, target_batch) in pbar:\n",
        "\n",
        "        optimizer.zero_grad()\n",
        "        optimizer_D.zero_grad()\n",
        "\n",
        "\n",
        "        # --- Train G with Source---\n",
        "        for param in model_D.parameters():\n",
        "            param.requires_grad = False\n",
        "\n",
        "        X, y, _ = source_batch\n",
        "        X, y = X.to(device), y.to(device)\n",
        "\n",
        "        logits, *logits_aux = model(X)\n",
        "\n",
        "\n",
        "        loss_pre_seg_source_raw = loss_fn(logits, y)\n",
        "        loss_aux_seg_source_raw = [crit(lgt, y) for crit, lgt in zip(criteria_aux, logits_aux)]\n",
        "        loss_seg_source_raw = loss_pre_seg_source_raw + sum(loss_aux_seg_source_raw)\n",
        "\n",
        "\n",
        "        (loss_seg_source_raw * LAMBDA_SEG).backward()\n",
        "        loss_seg_source_raw_value += loss_seg_source_raw.item()\n",
        "\n",
        "        # --- Train G with Target ---\n",
        "        X_target, _ = target_batch\n",
        "        X_target = X_target.to(device)\n",
        "\n",
        "        logits_target, *logits_aux_target = model(X_target)\n",
        "\n",
        "        D_out = model_D(F.softmax(logits_target, dim=1))\n",
        "        loss_adv_target_raw = bce_loss(D_out, torch.full_like(D_out, source_label))\n",
        "        (loss_adv_target_raw * LAMBDA_ADV_TARGET).backward()\n",
        "        loss_adv_target_raw_value += loss_adv_target_raw.item()\n",
        "\n",
        "        # --- Train D ---\n",
        "        for param in model_D.parameters():\n",
        "            param.requires_grad = True\n",
        "\n",
        "        D_out = model_D(F.softmax(logits.detach(), dim=1))\n",
        "        loss_D_source = bce_loss(D_out, torch.full_like(D_out, source_label))\n",
        "        loss_D_source.backward()\n",
        "\n",
        "        D_out = model_D(F.softmax(logits_target.detach(), dim=1))\n",
        "        loss_D_target = bce_loss(D_out, torch.full_like(D_out, target_label))\n",
        "        loss_D_target.backward()\n",
        "\n",
        "        loss_D_raw_value += (loss_D_source + loss_D_target).item()\n",
        "\n",
        "        optimizer.step()\n",
        "        optimizer_D.step()\n",
        "\n",
        "        total_train_samples += X.size(0)\n",
        "\n",
        "        pbar.set_postfix({\n",
        "            \"Loss_seg\": f\"{loss_seg_source_raw_value / (i+1):.4f}\",\n",
        "            \"Loss_adv\": f\"{loss_adv_target_raw_value / (i+1):.4f}\",\n",
        "            \"Loss_D\": f\"{loss_D_raw_value / (i+1):.4f}\",\n",
        "        })\n",
        "\n",
        "    print(f\"\\nEpoch {epoch+1}/{EPOCHS} Summary\")\n",
        "    print(f\"  → Segmentation Source Loss (RAW) : {loss_seg_source_raw_value / total_train_samples:.4f}\")\n",
        "    print(f\"  → Adversarial Target Loss (RAW)  : {loss_adv_target_raw_value / total_train_samples:.4f}\")\n",
        "    print(f\"  → Discriminator Loss (RAW)       : {loss_D_raw_value / total_train_samples:.4f}\")\n",
        "\n",
        "    # ---------------------- VALIDATION ----------------------\n",
        "\n",
        "    model.eval()\n",
        "    val_loss = 0\n",
        "    miou_classes.reset()\n",
        "    total_val_samples = 0\n",
        "\n",
        "    with torch.inference_mode():\n",
        "        pbar_val = tqdm(enumerate(val_loader), total=len(val_loader), desc=f\"Epoch {epoch+1} [Validation]\")\n",
        "\n",
        "        for batch, (X_val, y_val, boundary_mask) in pbar_val:\n",
        "            X_val, y_val, boundary_mask = X_val.to(device), y_val.to(device), boundary_mask.to(device)\n",
        "\n",
        "            logits, *_ = model(X_val)\n",
        "\n",
        "            loss = loss_fn(logits, y_val)\n",
        "\n",
        "            val_loss += loss.item()\n",
        "            total_val_samples += X_val.size(0)\n",
        "\n",
        "            preds = logits.argmax(dim=1)\n",
        "            valid_mask = (y_val >= 0) & (y_val < num_classes)\n",
        "            preds_flat = preds[valid_mask]\n",
        "            targets_flat = y_val[valid_mask]\n",
        "\n",
        "            miou_classes.update(preds_flat, targets_flat)\n",
        "\n",
        "            pbar_val.set_postfix({\n",
        "                \"Val_Loss\": f\"{val_loss / (batch+1):.4f}\",\n",
        "                \"mIoU\": f\"{miou_classes.compute().mean():.4f}\"\n",
        "            })\n",
        "\n",
        "    avg_val_loss = val_loss / total_val_samples\n",
        "    miou_per_class = miou_classes.compute()\n",
        "    miou = miou_per_class.mean()\n",
        "\n",
        "    if record_miou is None or miou > record_miou:\n",
        "        best_model_path = f\"/content/drive/MyDrive/AML_project/checkpoints/model_BISENET_ADV_split.pth\"\n",
        "        torch.save(model.state_dict(), best_model_path)\n",
        "        print(f\"Modello con miou migliore salvato: {best_model_path}\")\n",
        "        record_miou = miou\n",
        "\n",
        "\n",
        "\n",
        "    print(f\"\\n→ Validation Loss: {avg_val_loss:.4f}\")\n",
        "    print(f\"→ Overall mIoU: {miou:.4f}\")\n",
        "    for i, iou in enumerate(miou_per_class):\n",
        "        class_name = list(sem_class_to_idx.keys())[list(sem_class_to_idx.values()).index(i)]\n",
        "        print(f\"  → {class_name} IoU: {iou:.4f}\")\n",
        "\n",
        "    scheduler.step(miou)\n"
      ]
    },
    {
      "cell_type": "markdown",
      "metadata": {
        "id": "MnrvRXfotSBq"
      },
      "source": [
        "## Test"
      ]
    },
    {
      "cell_type": "code",
      "source": [
        "import torch\n",
        "\n",
        "def load_inference_bisenet_model():\n",
        "    \"\"\"Returns the inference BISENET model, it has to be saved in `content/drive/MyDrive/AML_project/checkpoints/`.\"\"\"\n",
        "\n",
        "    model = BiSeNetV2(NUM_CLASSES, aux_mode='eval')\n",
        "    try:\n",
        "        saved_weights = torch.load(\n",
        "            best_model_path,\n",
        "            map_location=torch.device(\"cpu\")\n",
        "        )\n",
        "    except FileNotFoundError:\n",
        "        raise ValueError(\"This model was not found\")\n",
        "\n",
        "    model.load_state_dict(saved_weights, strict=False)\n",
        "    return model"
      ],
      "metadata": {
        "id": "iI1BwvF-drOS"
      },
      "execution_count": 33,
      "outputs": []
    },
    {
      "cell_type": "code",
      "source": [
        "#model_path = f\"/content/drive/MyDrive/AML_project/checkpoints/model_BISENET_ADV.pth\"\n",
        "#torch.save(model.state_dict(), model_path)\n",
        "#print(f\"Modello salvato: {model_path}\")\n",
        "\n",
        "model = load_inference_bisenet_model()\n",
        "model.to(device)"
      ],
      "metadata": {
        "id": "P1ORzNPs1njC",
        "colab": {
          "base_uri": "https://localhost:8080/"
        },
        "outputId": "4a8eee08-b6b9-4184-e920-50b609025935"
      },
      "execution_count": 34,
      "outputs": [
        {
          "output_type": "execute_result",
          "data": {
            "text/plain": [
              "BiSeNetV2(\n",
              "  (detail): DetailBranch(\n",
              "    (S1): Sequential(\n",
              "      (0): ConvBNReLU(\n",
              "        (conv): Conv2d(3, 64, kernel_size=(3, 3), stride=(2, 2), padding=(1, 1), bias=False)\n",
              "        (bn): BatchNorm2d(64, eps=1e-05, momentum=0.1, affine=True, track_running_stats=True)\n",
              "        (relu): ReLU(inplace=True)\n",
              "      )\n",
              "      (1): ConvBNReLU(\n",
              "        (conv): Conv2d(64, 64, kernel_size=(3, 3), stride=(1, 1), padding=(1, 1), bias=False)\n",
              "        (bn): BatchNorm2d(64, eps=1e-05, momentum=0.1, affine=True, track_running_stats=True)\n",
              "        (relu): ReLU(inplace=True)\n",
              "      )\n",
              "    )\n",
              "    (S2): Sequential(\n",
              "      (0): ConvBNReLU(\n",
              "        (conv): Conv2d(64, 64, kernel_size=(3, 3), stride=(2, 2), padding=(1, 1), bias=False)\n",
              "        (bn): BatchNorm2d(64, eps=1e-05, momentum=0.1, affine=True, track_running_stats=True)\n",
              "        (relu): ReLU(inplace=True)\n",
              "      )\n",
              "      (1): ConvBNReLU(\n",
              "        (conv): Conv2d(64, 64, kernel_size=(3, 3), stride=(1, 1), padding=(1, 1), bias=False)\n",
              "        (bn): BatchNorm2d(64, eps=1e-05, momentum=0.1, affine=True, track_running_stats=True)\n",
              "        (relu): ReLU(inplace=True)\n",
              "      )\n",
              "      (2): ConvBNReLU(\n",
              "        (conv): Conv2d(64, 64, kernel_size=(3, 3), stride=(1, 1), padding=(1, 1), bias=False)\n",
              "        (bn): BatchNorm2d(64, eps=1e-05, momentum=0.1, affine=True, track_running_stats=True)\n",
              "        (relu): ReLU(inplace=True)\n",
              "      )\n",
              "    )\n",
              "    (S3): Sequential(\n",
              "      (0): ConvBNReLU(\n",
              "        (conv): Conv2d(64, 128, kernel_size=(3, 3), stride=(2, 2), padding=(1, 1), bias=False)\n",
              "        (bn): BatchNorm2d(128, eps=1e-05, momentum=0.1, affine=True, track_running_stats=True)\n",
              "        (relu): ReLU(inplace=True)\n",
              "      )\n",
              "      (1): ConvBNReLU(\n",
              "        (conv): Conv2d(128, 128, kernel_size=(3, 3), stride=(1, 1), padding=(1, 1), bias=False)\n",
              "        (bn): BatchNorm2d(128, eps=1e-05, momentum=0.1, affine=True, track_running_stats=True)\n",
              "        (relu): ReLU(inplace=True)\n",
              "      )\n",
              "      (2): ConvBNReLU(\n",
              "        (conv): Conv2d(128, 128, kernel_size=(3, 3), stride=(1, 1), padding=(1, 1), bias=False)\n",
              "        (bn): BatchNorm2d(128, eps=1e-05, momentum=0.1, affine=True, track_running_stats=True)\n",
              "        (relu): ReLU(inplace=True)\n",
              "      )\n",
              "    )\n",
              "  )\n",
              "  (segment): SegmentBranch(\n",
              "    (S1S2): StemBlock(\n",
              "      (conv): ConvBNReLU(\n",
              "        (conv): Conv2d(3, 16, kernel_size=(3, 3), stride=(2, 2), padding=(1, 1), bias=False)\n",
              "        (bn): BatchNorm2d(16, eps=1e-05, momentum=0.1, affine=True, track_running_stats=True)\n",
              "        (relu): ReLU(inplace=True)\n",
              "      )\n",
              "      (left): Sequential(\n",
              "        (0): ConvBNReLU(\n",
              "          (conv): Conv2d(16, 8, kernel_size=(1, 1), stride=(1, 1), bias=False)\n",
              "          (bn): BatchNorm2d(8, eps=1e-05, momentum=0.1, affine=True, track_running_stats=True)\n",
              "          (relu): ReLU(inplace=True)\n",
              "        )\n",
              "        (1): ConvBNReLU(\n",
              "          (conv): Conv2d(8, 16, kernel_size=(3, 3), stride=(2, 2), padding=(1, 1), bias=False)\n",
              "          (bn): BatchNorm2d(16, eps=1e-05, momentum=0.1, affine=True, track_running_stats=True)\n",
              "          (relu): ReLU(inplace=True)\n",
              "        )\n",
              "      )\n",
              "      (right): MaxPool2d(kernel_size=3, stride=2, padding=1, dilation=1, ceil_mode=False)\n",
              "      (fuse): ConvBNReLU(\n",
              "        (conv): Conv2d(32, 16, kernel_size=(3, 3), stride=(1, 1), padding=(1, 1), bias=False)\n",
              "        (bn): BatchNorm2d(16, eps=1e-05, momentum=0.1, affine=True, track_running_stats=True)\n",
              "        (relu): ReLU(inplace=True)\n",
              "      )\n",
              "    )\n",
              "    (S3): Sequential(\n",
              "      (0): GELayerS2(\n",
              "        (conv1): ConvBNReLU(\n",
              "          (conv): Conv2d(16, 16, kernel_size=(3, 3), stride=(1, 1), padding=(1, 1), bias=False)\n",
              "          (bn): BatchNorm2d(16, eps=1e-05, momentum=0.1, affine=True, track_running_stats=True)\n",
              "          (relu): ReLU(inplace=True)\n",
              "        )\n",
              "        (dwconv1): Sequential(\n",
              "          (0): Conv2d(16, 96, kernel_size=(3, 3), stride=(2, 2), padding=(1, 1), groups=16, bias=False)\n",
              "          (1): BatchNorm2d(96, eps=1e-05, momentum=0.1, affine=True, track_running_stats=True)\n",
              "        )\n",
              "        (dwconv2): Sequential(\n",
              "          (0): Conv2d(96, 96, kernel_size=(3, 3), stride=(1, 1), padding=(1, 1), groups=96, bias=False)\n",
              "          (1): BatchNorm2d(96, eps=1e-05, momentum=0.1, affine=True, track_running_stats=True)\n",
              "          (2): ReLU(inplace=True)\n",
              "        )\n",
              "        (conv2): Sequential(\n",
              "          (0): Conv2d(96, 32, kernel_size=(1, 1), stride=(1, 1), bias=False)\n",
              "          (1): BatchNorm2d(32, eps=1e-05, momentum=0.1, affine=True, track_running_stats=True)\n",
              "        )\n",
              "        (shortcut): Sequential(\n",
              "          (0): Conv2d(16, 16, kernel_size=(3, 3), stride=(2, 2), padding=(1, 1), groups=16, bias=False)\n",
              "          (1): BatchNorm2d(16, eps=1e-05, momentum=0.1, affine=True, track_running_stats=True)\n",
              "          (2): Conv2d(16, 32, kernel_size=(1, 1), stride=(1, 1), bias=False)\n",
              "          (3): BatchNorm2d(32, eps=1e-05, momentum=0.1, affine=True, track_running_stats=True)\n",
              "        )\n",
              "        (relu): ReLU(inplace=True)\n",
              "      )\n",
              "      (1): GELayerS1(\n",
              "        (conv1): ConvBNReLU(\n",
              "          (conv): Conv2d(32, 32, kernel_size=(3, 3), stride=(1, 1), padding=(1, 1), bias=False)\n",
              "          (bn): BatchNorm2d(32, eps=1e-05, momentum=0.1, affine=True, track_running_stats=True)\n",
              "          (relu): ReLU(inplace=True)\n",
              "        )\n",
              "        (dwconv): Sequential(\n",
              "          (0): Conv2d(32, 192, kernel_size=(3, 3), stride=(1, 1), padding=(1, 1), groups=32, bias=False)\n",
              "          (1): BatchNorm2d(192, eps=1e-05, momentum=0.1, affine=True, track_running_stats=True)\n",
              "          (2): ReLU(inplace=True)\n",
              "        )\n",
              "        (conv2): Sequential(\n",
              "          (0): Conv2d(192, 32, kernel_size=(1, 1), stride=(1, 1), bias=False)\n",
              "          (1): BatchNorm2d(32, eps=1e-05, momentum=0.1, affine=True, track_running_stats=True)\n",
              "        )\n",
              "        (relu): ReLU(inplace=True)\n",
              "      )\n",
              "    )\n",
              "    (S4): Sequential(\n",
              "      (0): GELayerS2(\n",
              "        (conv1): ConvBNReLU(\n",
              "          (conv): Conv2d(32, 32, kernel_size=(3, 3), stride=(1, 1), padding=(1, 1), bias=False)\n",
              "          (bn): BatchNorm2d(32, eps=1e-05, momentum=0.1, affine=True, track_running_stats=True)\n",
              "          (relu): ReLU(inplace=True)\n",
              "        )\n",
              "        (dwconv1): Sequential(\n",
              "          (0): Conv2d(32, 192, kernel_size=(3, 3), stride=(2, 2), padding=(1, 1), groups=32, bias=False)\n",
              "          (1): BatchNorm2d(192, eps=1e-05, momentum=0.1, affine=True, track_running_stats=True)\n",
              "        )\n",
              "        (dwconv2): Sequential(\n",
              "          (0): Conv2d(192, 192, kernel_size=(3, 3), stride=(1, 1), padding=(1, 1), groups=192, bias=False)\n",
              "          (1): BatchNorm2d(192, eps=1e-05, momentum=0.1, affine=True, track_running_stats=True)\n",
              "          (2): ReLU(inplace=True)\n",
              "        )\n",
              "        (conv2): Sequential(\n",
              "          (0): Conv2d(192, 64, kernel_size=(1, 1), stride=(1, 1), bias=False)\n",
              "          (1): BatchNorm2d(64, eps=1e-05, momentum=0.1, affine=True, track_running_stats=True)\n",
              "        )\n",
              "        (shortcut): Sequential(\n",
              "          (0): Conv2d(32, 32, kernel_size=(3, 3), stride=(2, 2), padding=(1, 1), groups=32, bias=False)\n",
              "          (1): BatchNorm2d(32, eps=1e-05, momentum=0.1, affine=True, track_running_stats=True)\n",
              "          (2): Conv2d(32, 64, kernel_size=(1, 1), stride=(1, 1), bias=False)\n",
              "          (3): BatchNorm2d(64, eps=1e-05, momentum=0.1, affine=True, track_running_stats=True)\n",
              "        )\n",
              "        (relu): ReLU(inplace=True)\n",
              "      )\n",
              "      (1): GELayerS1(\n",
              "        (conv1): ConvBNReLU(\n",
              "          (conv): Conv2d(64, 64, kernel_size=(3, 3), stride=(1, 1), padding=(1, 1), bias=False)\n",
              "          (bn): BatchNorm2d(64, eps=1e-05, momentum=0.1, affine=True, track_running_stats=True)\n",
              "          (relu): ReLU(inplace=True)\n",
              "        )\n",
              "        (dwconv): Sequential(\n",
              "          (0): Conv2d(64, 384, kernel_size=(3, 3), stride=(1, 1), padding=(1, 1), groups=64, bias=False)\n",
              "          (1): BatchNorm2d(384, eps=1e-05, momentum=0.1, affine=True, track_running_stats=True)\n",
              "          (2): ReLU(inplace=True)\n",
              "        )\n",
              "        (conv2): Sequential(\n",
              "          (0): Conv2d(384, 64, kernel_size=(1, 1), stride=(1, 1), bias=False)\n",
              "          (1): BatchNorm2d(64, eps=1e-05, momentum=0.1, affine=True, track_running_stats=True)\n",
              "        )\n",
              "        (relu): ReLU(inplace=True)\n",
              "      )\n",
              "    )\n",
              "    (S5_4): Sequential(\n",
              "      (0): GELayerS2(\n",
              "        (conv1): ConvBNReLU(\n",
              "          (conv): Conv2d(64, 64, kernel_size=(3, 3), stride=(1, 1), padding=(1, 1), bias=False)\n",
              "          (bn): BatchNorm2d(64, eps=1e-05, momentum=0.1, affine=True, track_running_stats=True)\n",
              "          (relu): ReLU(inplace=True)\n",
              "        )\n",
              "        (dwconv1): Sequential(\n",
              "          (0): Conv2d(64, 384, kernel_size=(3, 3), stride=(2, 2), padding=(1, 1), groups=64, bias=False)\n",
              "          (1): BatchNorm2d(384, eps=1e-05, momentum=0.1, affine=True, track_running_stats=True)\n",
              "        )\n",
              "        (dwconv2): Sequential(\n",
              "          (0): Conv2d(384, 384, kernel_size=(3, 3), stride=(1, 1), padding=(1, 1), groups=384, bias=False)\n",
              "          (1): BatchNorm2d(384, eps=1e-05, momentum=0.1, affine=True, track_running_stats=True)\n",
              "          (2): ReLU(inplace=True)\n",
              "        )\n",
              "        (conv2): Sequential(\n",
              "          (0): Conv2d(384, 128, kernel_size=(1, 1), stride=(1, 1), bias=False)\n",
              "          (1): BatchNorm2d(128, eps=1e-05, momentum=0.1, affine=True, track_running_stats=True)\n",
              "        )\n",
              "        (shortcut): Sequential(\n",
              "          (0): Conv2d(64, 64, kernel_size=(3, 3), stride=(2, 2), padding=(1, 1), groups=64, bias=False)\n",
              "          (1): BatchNorm2d(64, eps=1e-05, momentum=0.1, affine=True, track_running_stats=True)\n",
              "          (2): Conv2d(64, 128, kernel_size=(1, 1), stride=(1, 1), bias=False)\n",
              "          (3): BatchNorm2d(128, eps=1e-05, momentum=0.1, affine=True, track_running_stats=True)\n",
              "        )\n",
              "        (relu): ReLU(inplace=True)\n",
              "      )\n",
              "      (1): GELayerS1(\n",
              "        (conv1): ConvBNReLU(\n",
              "          (conv): Conv2d(128, 128, kernel_size=(3, 3), stride=(1, 1), padding=(1, 1), bias=False)\n",
              "          (bn): BatchNorm2d(128, eps=1e-05, momentum=0.1, affine=True, track_running_stats=True)\n",
              "          (relu): ReLU(inplace=True)\n",
              "        )\n",
              "        (dwconv): Sequential(\n",
              "          (0): Conv2d(128, 768, kernel_size=(3, 3), stride=(1, 1), padding=(1, 1), groups=128, bias=False)\n",
              "          (1): BatchNorm2d(768, eps=1e-05, momentum=0.1, affine=True, track_running_stats=True)\n",
              "          (2): ReLU(inplace=True)\n",
              "        )\n",
              "        (conv2): Sequential(\n",
              "          (0): Conv2d(768, 128, kernel_size=(1, 1), stride=(1, 1), bias=False)\n",
              "          (1): BatchNorm2d(128, eps=1e-05, momentum=0.1, affine=True, track_running_stats=True)\n",
              "        )\n",
              "        (relu): ReLU(inplace=True)\n",
              "      )\n",
              "      (2): GELayerS1(\n",
              "        (conv1): ConvBNReLU(\n",
              "          (conv): Conv2d(128, 128, kernel_size=(3, 3), stride=(1, 1), padding=(1, 1), bias=False)\n",
              "          (bn): BatchNorm2d(128, eps=1e-05, momentum=0.1, affine=True, track_running_stats=True)\n",
              "          (relu): ReLU(inplace=True)\n",
              "        )\n",
              "        (dwconv): Sequential(\n",
              "          (0): Conv2d(128, 768, kernel_size=(3, 3), stride=(1, 1), padding=(1, 1), groups=128, bias=False)\n",
              "          (1): BatchNorm2d(768, eps=1e-05, momentum=0.1, affine=True, track_running_stats=True)\n",
              "          (2): ReLU(inplace=True)\n",
              "        )\n",
              "        (conv2): Sequential(\n",
              "          (0): Conv2d(768, 128, kernel_size=(1, 1), stride=(1, 1), bias=False)\n",
              "          (1): BatchNorm2d(128, eps=1e-05, momentum=0.1, affine=True, track_running_stats=True)\n",
              "        )\n",
              "        (relu): ReLU(inplace=True)\n",
              "      )\n",
              "      (3): GELayerS1(\n",
              "        (conv1): ConvBNReLU(\n",
              "          (conv): Conv2d(128, 128, kernel_size=(3, 3), stride=(1, 1), padding=(1, 1), bias=False)\n",
              "          (bn): BatchNorm2d(128, eps=1e-05, momentum=0.1, affine=True, track_running_stats=True)\n",
              "          (relu): ReLU(inplace=True)\n",
              "        )\n",
              "        (dwconv): Sequential(\n",
              "          (0): Conv2d(128, 768, kernel_size=(3, 3), stride=(1, 1), padding=(1, 1), groups=128, bias=False)\n",
              "          (1): BatchNorm2d(768, eps=1e-05, momentum=0.1, affine=True, track_running_stats=True)\n",
              "          (2): ReLU(inplace=True)\n",
              "        )\n",
              "        (conv2): Sequential(\n",
              "          (0): Conv2d(768, 128, kernel_size=(1, 1), stride=(1, 1), bias=False)\n",
              "          (1): BatchNorm2d(128, eps=1e-05, momentum=0.1, affine=True, track_running_stats=True)\n",
              "        )\n",
              "        (relu): ReLU(inplace=True)\n",
              "      )\n",
              "    )\n",
              "    (S5_5): CEBlock(\n",
              "      (bn): BatchNorm2d(128, eps=1e-05, momentum=0.1, affine=True, track_running_stats=True)\n",
              "      (conv_gap): ConvBNReLU(\n",
              "        (conv): Conv2d(128, 128, kernel_size=(1, 1), stride=(1, 1), bias=False)\n",
              "        (bn): BatchNorm2d(128, eps=1e-05, momentum=0.1, affine=True, track_running_stats=True)\n",
              "        (relu): ReLU(inplace=True)\n",
              "      )\n",
              "      (conv_last): ConvBNReLU(\n",
              "        (conv): Conv2d(128, 128, kernel_size=(3, 3), stride=(1, 1), padding=(1, 1), bias=False)\n",
              "        (bn): BatchNorm2d(128, eps=1e-05, momentum=0.1, affine=True, track_running_stats=True)\n",
              "        (relu): ReLU(inplace=True)\n",
              "      )\n",
              "    )\n",
              "  )\n",
              "  (bga): BGALayer(\n",
              "    (left1): Sequential(\n",
              "      (0): Conv2d(128, 128, kernel_size=(3, 3), stride=(1, 1), padding=(1, 1), groups=128, bias=False)\n",
              "      (1): BatchNorm2d(128, eps=1e-05, momentum=0.1, affine=True, track_running_stats=True)\n",
              "      (2): Conv2d(128, 128, kernel_size=(1, 1), stride=(1, 1), bias=False)\n",
              "    )\n",
              "    (left2): Sequential(\n",
              "      (0): Conv2d(128, 128, kernel_size=(3, 3), stride=(2, 2), padding=(1, 1), bias=False)\n",
              "      (1): BatchNorm2d(128, eps=1e-05, momentum=0.1, affine=True, track_running_stats=True)\n",
              "      (2): AvgPool2d(kernel_size=3, stride=2, padding=1)\n",
              "    )\n",
              "    (right1): Sequential(\n",
              "      (0): Conv2d(128, 128, kernel_size=(3, 3), stride=(1, 1), padding=(1, 1), bias=False)\n",
              "      (1): BatchNorm2d(128, eps=1e-05, momentum=0.1, affine=True, track_running_stats=True)\n",
              "    )\n",
              "    (right2): Sequential(\n",
              "      (0): Conv2d(128, 128, kernel_size=(3, 3), stride=(1, 1), padding=(1, 1), groups=128, bias=False)\n",
              "      (1): BatchNorm2d(128, eps=1e-05, momentum=0.1, affine=True, track_running_stats=True)\n",
              "      (2): Conv2d(128, 128, kernel_size=(1, 1), stride=(1, 1), bias=False)\n",
              "    )\n",
              "    (up1): Upsample(scale_factor=4.0, mode='nearest')\n",
              "    (up2): Upsample(scale_factor=4.0, mode='nearest')\n",
              "    (conv): Sequential(\n",
              "      (0): Conv2d(128, 128, kernel_size=(3, 3), stride=(1, 1), padding=(1, 1), bias=False)\n",
              "      (1): BatchNorm2d(128, eps=1e-05, momentum=0.1, affine=True, track_running_stats=True)\n",
              "      (2): ReLU(inplace=True)\n",
              "    )\n",
              "  )\n",
              "  (head): SegmentHead(\n",
              "    (conv): ConvBNReLU(\n",
              "      (conv): Conv2d(128, 1024, kernel_size=(3, 3), stride=(1, 1), padding=(1, 1), bias=False)\n",
              "      (bn): BatchNorm2d(1024, eps=1e-05, momentum=0.1, affine=True, track_running_stats=True)\n",
              "      (relu): ReLU(inplace=True)\n",
              "    )\n",
              "    (drop): Dropout(p=0.1, inplace=False)\n",
              "    (conv_out): Sequential(\n",
              "      (0): Identity()\n",
              "      (1): Conv2d(1024, 7, kernel_size=(1, 1), stride=(1, 1))\n",
              "      (2): Upsample(scale_factor=8.0, mode='bilinear')\n",
              "    )\n",
              "  )\n",
              ")"
            ]
          },
          "metadata": {},
          "execution_count": 34
        }
      ]
    },
    {
      "cell_type": "code",
      "source": [
        "# ****************************** Test ******************************\n",
        "from torchmetrics.segmentation import MeanIoU\n",
        "\n",
        "num_classes = 7\n",
        "miou_classes = MeanIoU(num_classes=num_classes, input_format = \"index\", per_class=True).to(device)\n",
        "\n",
        "model.eval()\n",
        "test_loss = 0\n",
        "miou_classes.reset()\n",
        "total_test_samples = 0\n",
        "\n",
        "with torch.inference_mode():\n",
        "    for batch, (X_test, y_test, boundary_mask) in enumerate(test_loader):\n",
        "        X_test = X_test.to(device)\n",
        "        y_test = y_test.to(device)\n",
        "        boundary_mask = boundary_mask.to(device)\n",
        "\n",
        "        # Output del modello\n",
        "        logits, *_ = model(X_test)\n",
        "\n",
        "        if batch == 0:\n",
        "          fig, axs = plt.subplots(3, 3, figsize=(12, 5))\n",
        "\n",
        "          for j in range(3):\n",
        "            axs[j, 0].imshow(logits[j].cpu().detach().argmax(dim=0).numpy(), cmap='tab20')\n",
        "            axs[j, 0].set_title(\"Prediction\")\n",
        "            axs[j, 0].axis('off')\n",
        "\n",
        "            axs[j, 1].imshow(y_test[j].cpu().detach().numpy(), cmap='tab20')\n",
        "            axs[j, 1].set_title(\"Target mask\")\n",
        "            axs[j, 1].axis('off')\n",
        "\n",
        "            axs[j, 2].imshow(X_test[j].cpu().detach().squeeze(0).numpy().transpose(1, 2, 0))\n",
        "            axs[j, 2].set_title(\"Target image\")\n",
        "            axs[j, 2].axis('off')\n",
        "\n",
        "          plt.tight_layout()\n",
        "          plt.show()\n",
        "\n",
        "        # Calcola la loss\n",
        "        loss = loss_fn(logits, y_test)\n",
        "        val_loss += loss.item()\n",
        "\n",
        "        total_test_samples += X_test.size(0)\n",
        "\n",
        "        # Calcola le predizioni\n",
        "        preds = logits.argmax(dim=1)  # Shape: (N, H, W)\n",
        "\n",
        "        # Mask dei pixel validi (classi da 0 a num_classes - 1)\n",
        "        valid_mask = (y_test >= 0) & (y_test < num_classes)\n",
        "\n",
        "        # print(f\"valid mask :\", valid_mask.shape )\n",
        "\n",
        "        # Appiattisci le predizioni e i target solo sui pixel validi\n",
        "        preds_flat = preds[valid_mask]\n",
        "        targets_flat = y_test[valid_mask]\n",
        "\n",
        "        # print(f\"preds_flat :\", preds_flat.shape )\n",
        "        # print(f\"targets_flat :\", targets_flat.shape )\n",
        "\n",
        "        miou_classes.update(preds_flat, targets_flat)\n",
        "\n",
        "avg_test_loss = test_loss / total_test_samples\n",
        "\n",
        "miou_per_class = miou_classes.compute()\n",
        "miou = miou_per_class.mean()\n",
        "\n",
        "print(f\"Test Loss: {avg_test_loss} | mIoU: {miou} | Total test samples seen: {total_test_samples}\")\n",
        "# per class\n",
        "for i, iou in enumerate(miou_per_class):\n",
        "    class_name = list(sem_class_to_idx.keys())[list(sem_class_to_idx.values()).index(i)]\n",
        "    print(f\"  → {class_name} IoU: {iou:.4f}\")\n",
        "\n"
      ],
      "metadata": {
        "id": "YPXuMPCoYmBW",
        "colab": {
          "base_uri": "https://localhost:8080/",
          "height": 654
        },
        "outputId": "96eb13a3-4bb0-4eda-92ae-04d249538f91",
        "collapsed": true
      },
      "execution_count": 36,
      "outputs": [
        {
          "output_type": "display_data",
          "data": {
            "text/plain": [
              "<Figure size 1200x500 with 9 Axes>"
            ],
            "image/png": "[encoded data removed]"
          },
          "metadata": {}
        },
        {
          "output_type": "stream",
          "name": "stdout",
          "text": [
            "Test Loss: 0.0 | mIoU: 0.1914542317390442 | Total test samples seen: 992\n",
            "  → background IoU: 0.3814\n",
            "  → building IoU: 0.1294\n",
            "  → road IoU: 0.1664\n",
            "  → water IoU: 0.4149\n",
            "  → barren IoU: 0.0539\n",
            "  → forest IoU: 0.0892\n",
            "  → agriculture IoU: 0.1050\n"
          ]
        }
      ]
    },
    {
      "cell_type": "markdown",
      "source": [
        "# Performance"
      ],
      "metadata": {
        "id": "129Mu9TVvNrc"
      }
    },
    {
      "cell_type": "code",
      "execution_count": 37,
      "metadata": {
        "id": "bRByJkGflhLX",
        "colab": {
          "base_uri": "https://localhost:8080/",
          "height": 165
        },
        "outputId": "75dbc787-5c68-4efa-a83b-657679e86e02"
      },
      "outputs": [
        {
          "output_type": "execute_result",
          "data": {
            "text/plain": [
              "'\\nfrom timeit import default_timer as timer\\nimport matplotlib.pyplot as plt\\nfrom fvcore.nn import FlopCountAnalysis\\nimport torch.nn.functional as F\\nimport random\\n\\nmodel.eval()  # Set model to evaluation mode\\n\\nwith torch.inference_mode():\\n    # Prendi un\\'immagine random dal validation set\\n    random_index = random.randint(0, len(val_dataset) - 1)\\n    X, y, boundary_mask = val_dataset[random_index]\\n\\n    X = X.to(device).unsqueeze(dim=0)  # Aggiunge la dimensione batch\\n    y = y.to(device).unsqueeze(dim=0)\\n    boundary_mask = boundary_mask.to(device).unsqueeze(dim=0)\\n\\n    start = timer()\\n    outputs = model(X)\\n    end = timer()\\n\\n    outputs = outputs[0] if isinstance(outputs, tuple) else outputs\\n\\n    latency = end - start\\n\\n\\n    # Calcolo dei FLOPs\\n    flops = FlopCountAnalysis(model, X.clone())\\n\\n    # Softmax per normalizzare le predizioni\\n    normalized_masks = torch.nn.functional.softmax(outputs, dim=1)\\n\\n    # Selezione delle predizioni per ciascuna classe\\n    masks = [\\n        normalized_masks[0, sem_class_to_idx[cls]]\\n        for cls in SEM_CLASSES\\n    ]\\n\\n    print(f\"FLOPs: {flops.total() / 1e9:.3f} GFLOPs\")\\n    print(f\"Average inference latency is {latency:.3f} seconds.\")\\n\\n    # Converti output e ground truth per la visualizzazione\\n    out = outputs.squeeze().argmax(dim=0).cpu().numpy()  # Output segmentazione\\n    y_np = y.squeeze().cpu().numpy()  # Ground truth\\n    X_np = X.squeeze().cpu().permute(1, 2, 0).numpy()  # Immagine originale\\n\\n    # Creazione della figura con tre immagini affiancate\\n    fig, axes = plt.subplots(1, 3, figsize=(15, 5))\\n\\n    # Immagine originale\\n    axes[0].imshow(X_np)\\n    axes[0].set_title(\"Original Image\")\\n    axes[0].axis(\"off\")\\n\\n    # Predizione del modello\\n    axes[1].imshow(out, cmap=\"gray\")\\n    axes[1].set_title(\"Predicted Segmentation\")\\n    axes[1].axis(\"off\")\\n\\n    # Ground truth\\n    axes[2].imshow(y_np, cmap=\"gray\")\\n    axes[2].set_title(\"Ground Truth\")\\n    axes[2].axis(\"off\")\\n\\n    plt.show()\\n\\n    # Conta i parametri del modello\\n    params = sum(p.numel() for p in model.parameters())\\n    print(f\"Params: {params / 1e6:.3f} M\")\\n'"
            ],
            "application/vnd.google.colaboratory.intrinsic+json": {
              "type": "string"
            }
          },
          "metadata": {},
          "execution_count": 37
        }
      ],
      "source": [
        "\"\"\"\n",
        "from timeit import default_timer as timer\n",
        "import matplotlib.pyplot as plt\n",
        "from fvcore.nn import FlopCountAnalysis\n",
        "import torch.nn.functional as F\n",
        "import random\n",
        "\n",
        "model.eval()  # Set model to evaluation mode\n",
        "\n",
        "with torch.inference_mode():\n",
        "    # Prendi un'immagine random dal validation set\n",
        "    random_index = random.randint(0, len(val_dataset) - 1)\n",
        "    X, y, boundary_mask = val_dataset[random_index]\n",
        "\n",
        "    X = X.to(device).unsqueeze(dim=0)  # Aggiunge la dimensione batch\n",
        "    y = y.to(device).unsqueeze(dim=0)\n",
        "    boundary_mask = boundary_mask.to(device).unsqueeze(dim=0)\n",
        "\n",
        "    start = timer()\n",
        "    outputs = model(X)\n",
        "    end = timer()\n",
        "\n",
        "    outputs = outputs[0] if isinstance(outputs, tuple) else outputs\n",
        "\n",
        "    latency = end - start\n",
        "\n",
        "\n",
        "    # Calcolo dei FLOPs\n",
        "    flops = FlopCountAnalysis(model, X.clone())\n",
        "\n",
        "    # Softmax per normalizzare le predizioni\n",
        "    normalized_masks = torch.nn.functional.softmax(outputs, dim=1)\n",
        "\n",
        "    # Selezione delle predizioni per ciascuna classe\n",
        "    masks = [\n",
        "        normalized_masks[0, sem_class_to_idx[cls]]\n",
        "        for cls in SEM_CLASSES\n",
        "    ]\n",
        "\n",
        "    print(f\"FLOPs: {flops.total() / 1e9:.3f} GFLOPs\")\n",
        "    print(f\"Average inference latency is {latency:.3f} seconds.\")\n",
        "\n",
        "    # Converti output e ground truth per la visualizzazione\n",
        "    out = outputs.squeeze().argmax(dim=0).cpu().numpy()  # Output segmentazione\n",
        "    y_np = y.squeeze().cpu().numpy()  # Ground truth\n",
        "    X_np = X.squeeze().cpu().permute(1, 2, 0).numpy()  # Immagine originale\n",
        "\n",
        "    # Creazione della figura con tre immagini affiancate\n",
        "    fig, axes = plt.subplots(1, 3, figsize=(15, 5))\n",
        "\n",
        "    # Immagine originale\n",
        "    axes[0].imshow(X_np)\n",
        "    axes[0].set_title(\"Original Image\")\n",
        "    axes[0].axis(\"off\")\n",
        "\n",
        "    # Predizione del modello\n",
        "    axes[1].imshow(out, cmap=\"gray\")\n",
        "    axes[1].set_title(\"Predicted Segmentation\")\n",
        "    axes[1].axis(\"off\")\n",
        "\n",
        "    # Ground truth\n",
        "    axes[2].imshow(y_np, cmap=\"gray\")\n",
        "    axes[2].set_title(\"Ground Truth\")\n",
        "    axes[2].axis(\"off\")\n",
        "\n",
        "    plt.show()\n",
        "\n",
        "    # Conta i parametri del modello\n",
        "    params = sum(p.numel() for p in model.parameters())\n",
        "    print(f\"Params: {params / 1e6:.3f} M\")\n",
        "\"\"\""
      ]
    }
  ],
  "metadata": {
    "colab": {
      "machine_shape": "hm",
      "provenance": [],
      "collapsed_sections": [
        "wrMzI_LbjhP_",
        "aRC4KXtmj3Pi",
        "lyTIKtzjj7i0",
        "tTTJR3Ly3T_F"
      ],
      "gpuType": "L4",
      "include_colab_link": true
    },
    "kernelspec": {
      "display_name": "Python 3",
      "name": "python3"
    },
    "language_info": {
      "name": "python"
    },
    "accelerator": "GPU"
  },
  "nbformat": 4,
  "nbformat_minor": 0
}